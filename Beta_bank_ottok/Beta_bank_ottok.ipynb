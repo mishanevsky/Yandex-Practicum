{
 "cells": [
  {
   "cell_type": "markdown",
   "metadata": {
    "toc": true
   },
   "source": [
    "<h1>Содержание<span class=\"tocSkip\"></span></h1>\n",
    "<div class=\"toc\"><ul class=\"toc-item\"><li><span><a href=\"#Подготовка-данных\" data-toc-modified-id=\"Подготовка-данных-1\"><span class=\"toc-item-num\">1&nbsp;&nbsp;</span>Подготовка данных</a></span></li><li><span><a href=\"#Исследование-задачи\" data-toc-modified-id=\"Исследование-задачи-2\"><span class=\"toc-item-num\">2&nbsp;&nbsp;</span>Исследование задачи</a></span><ul class=\"toc-item\"><li><ul class=\"toc-item\"><li><span><a href=\"#Дерево-Решений\" data-toc-modified-id=\"Дерево-Решений-2.0.1\"><span class=\"toc-item-num\">2.0.1&nbsp;&nbsp;</span><strong>Дерево Решений</strong></a></span></li><li><span><a href=\"#Случайный-лес\" data-toc-modified-id=\"Случайный-лес-2.0.2\"><span class=\"toc-item-num\">2.0.2&nbsp;&nbsp;</span><strong>Случайный лес</strong></a></span></li><li><span><a href=\"#Логистическая-регрессия\" data-toc-modified-id=\"Логистическая-регрессия-2.0.3\"><span class=\"toc-item-num\">2.0.3&nbsp;&nbsp;</span><strong>Логистическая регрессия</strong></a></span></li></ul></li></ul></li><li><span><a href=\"#Борьба-с-дисбалансом\" data-toc-modified-id=\"Борьба-с-дисбалансом-3\"><span class=\"toc-item-num\">3&nbsp;&nbsp;</span>Борьба с дисбалансом</a></span><ul class=\"toc-item\"><li><span><a href=\"#Балансирование-классов\" data-toc-modified-id=\"Балансирование-классов-3.1\"><span class=\"toc-item-num\">3.1&nbsp;&nbsp;</span>Балансирование классов</a></span><ul class=\"toc-item\"><li><span><a href=\"#Дерево-решений\" data-toc-modified-id=\"Дерево-решений-3.1.1\"><span class=\"toc-item-num\">3.1.1&nbsp;&nbsp;</span><strong>Дерево решений</strong></a></span></li><li><span><a href=\"#Случайный-лес\" data-toc-modified-id=\"Случайный-лес-3.1.2\"><span class=\"toc-item-num\">3.1.2&nbsp;&nbsp;</span><strong>Случайный лес</strong></a></span></li><li><span><a href=\"#Логистическая-регрессия\" data-toc-modified-id=\"Логистическая-регрессия-3.1.3\"><span class=\"toc-item-num\">3.1.3&nbsp;&nbsp;</span><strong>Логистическая регрессия</strong></a></span></li></ul></li><li><span><a href=\"#Увеличение-объектов-редкого-класса\" data-toc-modified-id=\"Увеличение-объектов-редкого-класса-3.2\"><span class=\"toc-item-num\">3.2&nbsp;&nbsp;</span>Увеличение объектов редкого класса</a></span><ul class=\"toc-item\"><li><span><a href=\"#Дерево-решений\" data-toc-modified-id=\"Дерево-решений-3.2.1\"><span class=\"toc-item-num\">3.2.1&nbsp;&nbsp;</span><strong>Дерево решений</strong></a></span></li><li><span><a href=\"#Случайный-лес\" data-toc-modified-id=\"Случайный-лес-3.2.2\"><span class=\"toc-item-num\">3.2.2&nbsp;&nbsp;</span><strong>Случайный лес</strong></a></span></li><li><span><a href=\"#Логистическая-регрессия\" data-toc-modified-id=\"Логистическая-регрессия-3.2.3\"><span class=\"toc-item-num\">3.2.3&nbsp;&nbsp;</span><strong>Логистическая регрессия</strong></a></span></li></ul></li><li><span><a href=\"#Уменьшение-выборки\" data-toc-modified-id=\"Уменьшение-выборки-3.3\"><span class=\"toc-item-num\">3.3&nbsp;&nbsp;</span>Уменьшение выборки</a></span><ul class=\"toc-item\"><li><span><a href=\"#Дерево-Решений\" data-toc-modified-id=\"Дерево-Решений-3.3.1\"><span class=\"toc-item-num\">3.3.1&nbsp;&nbsp;</span><strong>Дерево Решений</strong></a></span></li><li><span><a href=\"#Случайный-лес\" data-toc-modified-id=\"Случайный-лес-3.3.2\"><span class=\"toc-item-num\">3.3.2&nbsp;&nbsp;</span><strong>Случайный лес</strong></a></span></li><li><span><a href=\"#Логистическая-регрессия\" data-toc-modified-id=\"Логистическая-регрессия-3.3.3\"><span class=\"toc-item-num\">3.3.3&nbsp;&nbsp;</span><strong>Логистическая регрессия</strong></a></span></li></ul></li></ul></li><li><span><a href=\"#Тестирование-модели\" data-toc-modified-id=\"Тестирование-модели-4\"><span class=\"toc-item-num\">4&nbsp;&nbsp;</span>Тестирование модели</a></span></li><li><span><a href=\"#Итоговый-вывод\" data-toc-modified-id=\"Итоговый-вывод-5\"><span class=\"toc-item-num\">5&nbsp;&nbsp;</span>Итоговый вывод</a></span></li><li><span><a href=\"#Чек-лист-готовности-проекта\" data-toc-modified-id=\"Чек-лист-готовности-проекта-6\"><span class=\"toc-item-num\">6&nbsp;&nbsp;</span>Чек-лист готовности проекта</a></span></li></ul></div>"
   ]
  },
  {
   "cell_type": "markdown",
   "metadata": {},
   "source": [
    "# Отток клиентов"
   ]
  },
  {
   "cell_type": "markdown",
   "metadata": {},
   "source": [
    "Из «Бета-Банка» стали уходить клиенты. Каждый месяц. Немного, но заметно. Банковские маркетологи посчитали: сохранять текущих клиентов дешевле, чем привлекать новых.\n",
    "\n",
    "Нужно спрогнозировать, уйдёт клиент из банка в ближайшее время или нет. Предоставлены исторические данные о поведении клиентов и расторжении договоров с банком. \n",
    "\n",
    "Нужно построить модель с предельно большим значением *F1*-меры. Нужно довести метрику до 0.59 и проверить *F1*-меру на тестовой выборке самостоятельно.\n",
    "\n",
    "Источник данных: [https://www.kaggle.com/barelydedicated/bank-customer-churn-modeling](https://www.kaggle.com/barelydedicated/bank-customer-churn-modeling)"
   ]
  },
  {
   "cell_type": "markdown",
   "metadata": {},
   "source": [
    "## Подготовка данных"
   ]
  },
  {
   "cell_type": "code",
   "execution_count": 1,
   "metadata": {},
   "outputs": [],
   "source": [
    "#подключение необходимых библиотек\n",
    "\n",
    "import pandas as pd\n",
    "import matplotlib.pyplot as plt\n",
    "\n",
    "from sklearn.preprocessing import(StandardScaler, OrdinalEncoder)\n",
    "from sklearn.utils import shuffle\n",
    "from sklearn.model_selection import train_test_split\n",
    "from sklearn.metrics import (accuracy_score,\n",
    "                             f1_score, \n",
    "                             recall_score, \n",
    "                             precision_score, \n",
    "                             roc_auc_score, roc_curve, \n",
    "                             confusion_matrix)\n",
    "\n",
    "from sklearn.linear_model import LogisticRegression\n",
    "from sklearn.ensemble import RandomForestClassifier\n",
    "from sklearn.tree import DecisionTreeClassifier\n",
    "from sklearn.dummy import DummyClassifier"
   ]
  },
  {
   "cell_type": "code",
   "execution_count": 2,
   "metadata": {},
   "outputs": [],
   "source": [
    "#откроытие данных\n",
    "data = pd.read_csv(\"/datasets/Churn.csv\")"
   ]
  },
  {
   "cell_type": "code",
   "execution_count": 3,
   "metadata": {},
   "outputs": [
    {
     "name": "stdout",
     "output_type": "stream",
     "text": [
      "   RowNumber  CustomerId   Surname  CreditScore Geography  Gender  Age  \\\n",
      "0          1    15634602  Hargrave          619    France  Female   42   \n",
      "1          2    15647311      Hill          608     Spain  Female   41   \n",
      "2          3    15619304      Onio          502    France  Female   42   \n",
      "3          4    15701354      Boni          699    France  Female   39   \n",
      "4          5    15737888  Mitchell          850     Spain  Female   43   \n",
      "\n",
      "   Tenure    Balance  NumOfProducts  HasCrCard  IsActiveMember  \\\n",
      "0     2.0       0.00              1          1               1   \n",
      "1     1.0   83807.86              1          0               1   \n",
      "2     8.0  159660.80              3          1               0   \n",
      "3     1.0       0.00              2          0               0   \n",
      "4     2.0  125510.82              1          1               1   \n",
      "\n",
      "   EstimatedSalary  Exited  \n",
      "0        101348.88       1  \n",
      "1        112542.58       0  \n",
      "2        113931.57       1  \n",
      "3         93826.63       0  \n",
      "4         79084.10       0  \n"
     ]
    }
   ],
   "source": [
    "#вывод первых строк\n",
    "print(data.head())"
   ]
  },
  {
   "cell_type": "code",
   "execution_count": 4,
   "metadata": {},
   "outputs": [
    {
     "name": "stdout",
     "output_type": "stream",
     "text": [
      "<class 'pandas.core.frame.DataFrame'>\n",
      "RangeIndex: 10000 entries, 0 to 9999\n",
      "Data columns (total 14 columns):\n",
      " #   Column           Non-Null Count  Dtype  \n",
      "---  ------           --------------  -----  \n",
      " 0   RowNumber        10000 non-null  int64  \n",
      " 1   CustomerId       10000 non-null  int64  \n",
      " 2   Surname          10000 non-null  object \n",
      " 3   CreditScore      10000 non-null  int64  \n",
      " 4   Geography        10000 non-null  object \n",
      " 5   Gender           10000 non-null  object \n",
      " 6   Age              10000 non-null  int64  \n",
      " 7   Tenure           9091 non-null   float64\n",
      " 8   Balance          10000 non-null  float64\n",
      " 9   NumOfProducts    10000 non-null  int64  \n",
      " 10  HasCrCard        10000 non-null  int64  \n",
      " 11  IsActiveMember   10000 non-null  int64  \n",
      " 12  EstimatedSalary  10000 non-null  float64\n",
      " 13  Exited           10000 non-null  int64  \n",
      "dtypes: float64(3), int64(8), object(3)\n",
      "memory usage: 1.1+ MB\n"
     ]
    }
   ],
   "source": [
    "data.info()"
   ]
  },
  {
   "cell_type": "markdown",
   "metadata": {},
   "source": [
    "*    RowNumber — индекс строки в данных\n",
    "*    CustomerId — уникальный идентификатор клиента\n",
    "*    Surname — фамилия\n",
    "*    CreditScore — кредитный рейтинг\n",
    "*    Geography — страна проживания\n",
    "*    Gender — пол\n",
    "*    Age — возраст\n",
    "*    Tenure — сколько лет человек является клиентом банка (**наблюдаются пропуски данных**)\n",
    "*    Balance — баланс на счёте\n",
    "*    NumOfProducts — количество продуктов банка, используемых клиентом\n",
    "*    HasCrCard — наличие кредитной карты\n",
    "*    IsActiveMember — активность клиента\n",
    "*    EstimatedSalary — предполагаемая зарплата"
   ]
  },
  {
   "cell_type": "markdown",
   "metadata": {},
   "source": [
    "**Exited - целевой признак.**"
   ]
  },
  {
   "cell_type": "code",
   "execution_count": 5,
   "metadata": {},
   "outputs": [
    {
     "data": {
      "text/plain": [
       "0"
      ]
     },
     "execution_count": 5,
     "metadata": {},
     "output_type": "execute_result"
    }
   ],
   "source": [
    "#просмотр дубликатов \n",
    "data.duplicated().sum()"
   ]
  },
  {
   "cell_type": "markdown",
   "metadata": {},
   "source": [
    "В стоблце **Tenure** обнаружены пропуски. Заполним их медианным значением."
   ]
  },
  {
   "cell_type": "code",
   "execution_count": 6,
   "metadata": {},
   "outputs": [],
   "source": [
    "#заполнение пропусков минимальным значением\n",
    "data['Tenure'] = data['Tenure'].fillna(data['Tenure'].median())"
   ]
  },
  {
   "cell_type": "markdown",
   "metadata": {},
   "source": [
    "Так же приведем названия столбцов к \"змеиному\" стилю."
   ]
  },
  {
   "cell_type": "code",
   "execution_count": 7,
   "metadata": {},
   "outputs": [],
   "source": [
    "#переименование столбцов\n",
    "data.columns = ['row_number', 'customer_id', 'surname', 'credit_score',\\\n",
    "                'geography', 'gender', 'age', 'tenure', 'balance',\\\n",
    "                'num_of_products', 'has_cr_crd', 'is_active_member', 'estimated_salary','exited'\\\n",
    "               ]"
   ]
  },
  {
   "cell_type": "code",
   "execution_count": 8,
   "metadata": {},
   "outputs": [
    {
     "name": "stdout",
     "output_type": "stream",
     "text": [
      "<class 'pandas.core.frame.DataFrame'>\n",
      "RangeIndex: 10000 entries, 0 to 9999\n",
      "Data columns (total 14 columns):\n",
      " #   Column            Non-Null Count  Dtype  \n",
      "---  ------            --------------  -----  \n",
      " 0   row_number        10000 non-null  int64  \n",
      " 1   customer_id       10000 non-null  int64  \n",
      " 2   surname           10000 non-null  object \n",
      " 3   credit_score      10000 non-null  int64  \n",
      " 4   geography         10000 non-null  object \n",
      " 5   gender            10000 non-null  object \n",
      " 6   age               10000 non-null  int64  \n",
      " 7   tenure            10000 non-null  float64\n",
      " 8   balance           10000 non-null  float64\n",
      " 9   num_of_products   10000 non-null  int64  \n",
      " 10  has_cr_crd        10000 non-null  int64  \n",
      " 11  is_active_member  10000 non-null  int64  \n",
      " 12  estimated_salary  10000 non-null  float64\n",
      " 13  exited            10000 non-null  int64  \n",
      "dtypes: float64(3), int64(8), object(3)\n",
      "memory usage: 1.1+ MB\n"
     ]
    }
   ],
   "source": [
    "#проверка названий столбцов и данных в них\n",
    "data.info()"
   ]
  },
  {
   "cell_type": "markdown",
   "metadata": {},
   "source": [
    "**Вывод:**\n",
    "\n",
    "В наборе данных есть ненужные столбцы для данного исследования (**row_number, customer_id, surname**), а так же столбцы для более тщательного изучения. **Geography, Gender** преобразуем методом OHE."
   ]
  },
  {
   "cell_type": "markdown",
   "metadata": {},
   "source": [
    "## Исследование задачи"
   ]
  },
  {
   "cell_type": "markdown",
   "metadata": {},
   "source": [
    "Начнем с подготовки данных, а именно: удалим ненужные столбцы(**row_number, customer_id, surname**) и сохраним получившийся датафрейм."
   ]
  },
  {
   "cell_type": "code",
   "execution_count": 9,
   "metadata": {},
   "outputs": [
    {
     "data": {
      "text/html": [
       "<div>\n",
       "<style scoped>\n",
       "    .dataframe tbody tr th:only-of-type {\n",
       "        vertical-align: middle;\n",
       "    }\n",
       "\n",
       "    .dataframe tbody tr th {\n",
       "        vertical-align: top;\n",
       "    }\n",
       "\n",
       "    .dataframe thead th {\n",
       "        text-align: right;\n",
       "    }\n",
       "</style>\n",
       "<table border=\"1\" class=\"dataframe\">\n",
       "  <thead>\n",
       "    <tr style=\"text-align: right;\">\n",
       "      <th></th>\n",
       "      <th>credit_score</th>\n",
       "      <th>geography</th>\n",
       "      <th>gender</th>\n",
       "      <th>age</th>\n",
       "      <th>tenure</th>\n",
       "      <th>balance</th>\n",
       "      <th>num_of_products</th>\n",
       "      <th>has_cr_crd</th>\n",
       "      <th>is_active_member</th>\n",
       "      <th>estimated_salary</th>\n",
       "      <th>exited</th>\n",
       "    </tr>\n",
       "  </thead>\n",
       "  <tbody>\n",
       "    <tr>\n",
       "      <th>0</th>\n",
       "      <td>619</td>\n",
       "      <td>France</td>\n",
       "      <td>Female</td>\n",
       "      <td>42</td>\n",
       "      <td>2.0</td>\n",
       "      <td>0.00</td>\n",
       "      <td>1</td>\n",
       "      <td>1</td>\n",
       "      <td>1</td>\n",
       "      <td>101348.88</td>\n",
       "      <td>1</td>\n",
       "    </tr>\n",
       "    <tr>\n",
       "      <th>1</th>\n",
       "      <td>608</td>\n",
       "      <td>Spain</td>\n",
       "      <td>Female</td>\n",
       "      <td>41</td>\n",
       "      <td>1.0</td>\n",
       "      <td>83807.86</td>\n",
       "      <td>1</td>\n",
       "      <td>0</td>\n",
       "      <td>1</td>\n",
       "      <td>112542.58</td>\n",
       "      <td>0</td>\n",
       "    </tr>\n",
       "    <tr>\n",
       "      <th>2</th>\n",
       "      <td>502</td>\n",
       "      <td>France</td>\n",
       "      <td>Female</td>\n",
       "      <td>42</td>\n",
       "      <td>8.0</td>\n",
       "      <td>159660.80</td>\n",
       "      <td>3</td>\n",
       "      <td>1</td>\n",
       "      <td>0</td>\n",
       "      <td>113931.57</td>\n",
       "      <td>1</td>\n",
       "    </tr>\n",
       "    <tr>\n",
       "      <th>3</th>\n",
       "      <td>699</td>\n",
       "      <td>France</td>\n",
       "      <td>Female</td>\n",
       "      <td>39</td>\n",
       "      <td>1.0</td>\n",
       "      <td>0.00</td>\n",
       "      <td>2</td>\n",
       "      <td>0</td>\n",
       "      <td>0</td>\n",
       "      <td>93826.63</td>\n",
       "      <td>0</td>\n",
       "    </tr>\n",
       "    <tr>\n",
       "      <th>4</th>\n",
       "      <td>850</td>\n",
       "      <td>Spain</td>\n",
       "      <td>Female</td>\n",
       "      <td>43</td>\n",
       "      <td>2.0</td>\n",
       "      <td>125510.82</td>\n",
       "      <td>1</td>\n",
       "      <td>1</td>\n",
       "      <td>1</td>\n",
       "      <td>79084.10</td>\n",
       "      <td>0</td>\n",
       "    </tr>\n",
       "  </tbody>\n",
       "</table>\n",
       "</div>"
      ],
      "text/plain": [
       "   credit_score geography  gender  age  tenure    balance  num_of_products  \\\n",
       "0           619    France  Female   42     2.0       0.00                1   \n",
       "1           608     Spain  Female   41     1.0   83807.86                1   \n",
       "2           502    France  Female   42     8.0  159660.80                3   \n",
       "3           699    France  Female   39     1.0       0.00                2   \n",
       "4           850     Spain  Female   43     2.0  125510.82                1   \n",
       "\n",
       "   has_cr_crd  is_active_member  estimated_salary  exited  \n",
       "0           1                 1         101348.88       1  \n",
       "1           0                 1         112542.58       0  \n",
       "2           1                 0         113931.57       1  \n",
       "3           0                 0          93826.63       0  \n",
       "4           1                 1          79084.10       0  "
      ]
     },
     "execution_count": 9,
     "metadata": {},
     "output_type": "execute_result"
    }
   ],
   "source": [
    "#удаление столбцов\n",
    "data = data.drop(['row_number', 'customer_id', 'surname'], axis=1)\n",
    "\n",
    "#просмотр готового варианта\n",
    "data.head()"
   ]
  },
  {
   "cell_type": "code",
   "execution_count": 10,
   "metadata": {},
   "outputs": [
    {
     "data": {
      "text/plain": [
       "France     5014\n",
       "Germany    2509\n",
       "Spain      2477\n",
       "Name: geography, dtype: int64"
      ]
     },
     "execution_count": 10,
     "metadata": {},
     "output_type": "execute_result"
    }
   ],
   "source": [
    "#просмотр уникальных значений для дальнейшего преобразования OHE\n",
    "data['geography'].value_counts()"
   ]
  },
  {
   "cell_type": "code",
   "execution_count": 11,
   "metadata": {},
   "outputs": [
    {
     "data": {
      "text/plain": [
       "Male      5457\n",
       "Female    4543\n",
       "Name: gender, dtype: int64"
      ]
     },
     "execution_count": 11,
     "metadata": {},
     "output_type": "execute_result"
    }
   ],
   "source": [
    "#просмотр уникальных значений для дальнейшего преобразования OHE\n",
    "data['gender'].value_counts()"
   ]
  },
  {
   "cell_type": "code",
   "execution_count": 12,
   "metadata": {},
   "outputs": [
    {
     "data": {
      "text/plain": [
       "(10000, 11)"
      ]
     },
     "execution_count": 12,
     "metadata": {},
     "output_type": "execute_result"
    }
   ],
   "source": [
    "#информация о данных до преобразования OHE\n",
    "data.shape"
   ]
  },
  {
   "cell_type": "markdown",
   "metadata": {},
   "source": [
    "У нас получился датафрейм **data** с 10000 строк и 11 стобцами, куда входят несколько категориальных столбцов(**geography с 3 разновидностями и gender с 2 разновидностями**). Теперь стоит подготовить данные методом OHE во избежании дамми-ловушек для дальнейшего использования в Логистической регрессии (**data_ohe**), а так же для решающего дерева и случайного леса используем порядковое кодирование(**data_ordinal**)."
   ]
  },
  {
   "cell_type": "code",
   "execution_count": 13,
   "metadata": {},
   "outputs": [
    {
     "data": {
      "text/html": [
       "<div>\n",
       "<style scoped>\n",
       "    .dataframe tbody tr th:only-of-type {\n",
       "        vertical-align: middle;\n",
       "    }\n",
       "\n",
       "    .dataframe tbody tr th {\n",
       "        vertical-align: top;\n",
       "    }\n",
       "\n",
       "    .dataframe thead th {\n",
       "        text-align: right;\n",
       "    }\n",
       "</style>\n",
       "<table border=\"1\" class=\"dataframe\">\n",
       "  <thead>\n",
       "    <tr style=\"text-align: right;\">\n",
       "      <th></th>\n",
       "      <th>credit_score</th>\n",
       "      <th>age</th>\n",
       "      <th>tenure</th>\n",
       "      <th>balance</th>\n",
       "      <th>num_of_products</th>\n",
       "      <th>has_cr_crd</th>\n",
       "      <th>is_active_member</th>\n",
       "      <th>estimated_salary</th>\n",
       "      <th>exited</th>\n",
       "      <th>geography_Germany</th>\n",
       "      <th>geography_Spain</th>\n",
       "      <th>gender_Male</th>\n",
       "    </tr>\n",
       "  </thead>\n",
       "  <tbody>\n",
       "    <tr>\n",
       "      <th>0</th>\n",
       "      <td>619</td>\n",
       "      <td>42</td>\n",
       "      <td>2.0</td>\n",
       "      <td>0.00</td>\n",
       "      <td>1</td>\n",
       "      <td>1</td>\n",
       "      <td>1</td>\n",
       "      <td>101348.88</td>\n",
       "      <td>1</td>\n",
       "      <td>0</td>\n",
       "      <td>0</td>\n",
       "      <td>0</td>\n",
       "    </tr>\n",
       "    <tr>\n",
       "      <th>1</th>\n",
       "      <td>608</td>\n",
       "      <td>41</td>\n",
       "      <td>1.0</td>\n",
       "      <td>83807.86</td>\n",
       "      <td>1</td>\n",
       "      <td>0</td>\n",
       "      <td>1</td>\n",
       "      <td>112542.58</td>\n",
       "      <td>0</td>\n",
       "      <td>0</td>\n",
       "      <td>1</td>\n",
       "      <td>0</td>\n",
       "    </tr>\n",
       "    <tr>\n",
       "      <th>2</th>\n",
       "      <td>502</td>\n",
       "      <td>42</td>\n",
       "      <td>8.0</td>\n",
       "      <td>159660.80</td>\n",
       "      <td>3</td>\n",
       "      <td>1</td>\n",
       "      <td>0</td>\n",
       "      <td>113931.57</td>\n",
       "      <td>1</td>\n",
       "      <td>0</td>\n",
       "      <td>0</td>\n",
       "      <td>0</td>\n",
       "    </tr>\n",
       "    <tr>\n",
       "      <th>3</th>\n",
       "      <td>699</td>\n",
       "      <td>39</td>\n",
       "      <td>1.0</td>\n",
       "      <td>0.00</td>\n",
       "      <td>2</td>\n",
       "      <td>0</td>\n",
       "      <td>0</td>\n",
       "      <td>93826.63</td>\n",
       "      <td>0</td>\n",
       "      <td>0</td>\n",
       "      <td>0</td>\n",
       "      <td>0</td>\n",
       "    </tr>\n",
       "    <tr>\n",
       "      <th>4</th>\n",
       "      <td>850</td>\n",
       "      <td>43</td>\n",
       "      <td>2.0</td>\n",
       "      <td>125510.82</td>\n",
       "      <td>1</td>\n",
       "      <td>1</td>\n",
       "      <td>1</td>\n",
       "      <td>79084.10</td>\n",
       "      <td>0</td>\n",
       "      <td>0</td>\n",
       "      <td>1</td>\n",
       "      <td>0</td>\n",
       "    </tr>\n",
       "  </tbody>\n",
       "</table>\n",
       "</div>"
      ],
      "text/plain": [
       "   credit_score  age  tenure    balance  num_of_products  has_cr_crd  \\\n",
       "0           619   42     2.0       0.00                1           1   \n",
       "1           608   41     1.0   83807.86                1           0   \n",
       "2           502   42     8.0  159660.80                3           1   \n",
       "3           699   39     1.0       0.00                2           0   \n",
       "4           850   43     2.0  125510.82                1           1   \n",
       "\n",
       "   is_active_member  estimated_salary  exited  geography_Germany  \\\n",
       "0                 1         101348.88       1                  0   \n",
       "1                 1         112542.58       0                  0   \n",
       "2                 0         113931.57       1                  0   \n",
       "3                 0          93826.63       0                  0   \n",
       "4                 1          79084.10       0                  0   \n",
       "\n",
       "   geography_Spain  gender_Male  \n",
       "0                0            0  \n",
       "1                1            0  \n",
       "2                0            0  \n",
       "3                0            0  \n",
       "4                1            0  "
      ]
     },
     "execution_count": 13,
     "metadata": {},
     "output_type": "execute_result"
    }
   ],
   "source": [
    "#OHE\n",
    "data_ohe = pd.get_dummies(data, drop_first=True)\n",
    "\n",
    "#вывод на экран\n",
    "data_ohe.head()"
   ]
  },
  {
   "cell_type": "code",
   "execution_count": 14,
   "metadata": {},
   "outputs": [
    {
     "data": {
      "text/plain": [
       "(10000, 12)"
      ]
     },
     "execution_count": 14,
     "metadata": {},
     "output_type": "execute_result"
    }
   ],
   "source": [
    "data_ohe.shape"
   ]
  },
  {
   "cell_type": "markdown",
   "metadata": {},
   "source": [
    "После преобразования методом OHE у нас стало 12 столбцов, при этом из **geography** получилось 2 класса вместо 3, а из **gender** 1 вместо 2."
   ]
  },
  {
   "cell_type": "code",
   "execution_count": 15,
   "metadata": {},
   "outputs": [],
   "source": [
    "#порядковое кодирование\n",
    "encoder = OrdinalEncoder()\n",
    "data_ordinal = pd.DataFrame(encoder.fit_transform(data), columns=data.columns)"
   ]
  },
  {
   "cell_type": "markdown",
   "metadata": {},
   "source": [
    "После преобразования можно приступить к созданию валидационной, обучающей и тестовой выборкам. Данные поделим стандартно в соотношении 60-20-20."
   ]
  },
  {
   "cell_type": "code",
   "execution_count": 16,
   "metadata": {},
   "outputs": [],
   "source": [
    "#разделение по признакам\n",
    "target_ohe = data_ohe['exited']\n",
    "features_ohe = data_ohe.drop('exited', axis=1)\n",
    "\n",
    "#разделение на выборки OHE\n",
    "#валидационная выборка (60%)\n",
    "features_train_ohe, features_valid_ohe, target_train_ohe, target_valid_ohe = train_test_split\\\n",
    "(features_ohe, target_ohe, test_size=0.6, random_state=12345)\n",
    "\n",
    "#обучающая и тестовая (по 20%)\n",
    "features_valid_ohe, features_test_ohe, target_valid_ohe, target_test_ohe = train_test_split\\\n",
    "(features_valid_ohe, target_valid_ohe, test_size=0.5, random_state=12345)"
   ]
  },
  {
   "cell_type": "code",
   "execution_count": 17,
   "metadata": {},
   "outputs": [],
   "source": [
    "#разделение по признакам\n",
    "target_ordinal = data_ordinal['exited']\n",
    "features_ordinal = data_ordinal.drop('exited', axis=1)\n",
    "\n",
    "#разделение на выборки Ordinal\n",
    "#валидационная выборка (60%)\n",
    "features_train_ordinal, features_valid_ordinal,\\\n",
    "target_train_ordinal, target_valid_ordinal = train_test_split (features_ordinal, target_ordinal,\\\n",
    "                                                               test_size=0.6, random_state=12345)\n",
    "\n",
    "#обучающая и тестовая (по 20%)\n",
    "features_valid_ordinal, features_test_ordinal,\\\n",
    "target_valid_ordinal, target_test_ordinal = train_test_split(features_valid_ordinal,\\\n",
    "                                        target_valid_ordinal, test_size=0.5, random_state=12345)"
   ]
  },
  {
   "cell_type": "markdown",
   "metadata": {},
   "source": [
    "Теперь приступим к масштабированию количественных признаков. Для этого сохраним их в переменную **numeric** и используем метод **scaler()**."
   ]
  },
  {
   "cell_type": "code",
   "execution_count": 18,
   "metadata": {},
   "outputs": [],
   "source": [
    "#сохранение списка количественных признаков\n",
    "numeric = ['credit_score', 'age', 'tenure', 'balance', 'num_of_products', 'estimated_salary']\n",
    "\n",
    "#игнорирование предупреждений\n",
    "import warnings \n",
    "warnings.filterwarnings('ignore')\n",
    "\n",
    "#масштабирование\n",
    "scaler = StandardScaler()\n",
    "scaler.fit(features_train_ohe[numeric])\n",
    "scaler.fit(features_train_ordinal[numeric])\n",
    "\n",
    "features_train_ohe[numeric] = scaler.transform(features_train_ohe[numeric])\n",
    "features_valid_ohe[numeric] = scaler.transform(features_valid_ohe[numeric])\n",
    "features_test_ohe[numeric] = scaler.transform(features_test_ohe[numeric])\n",
    "\n",
    "features_train_ordinal[numeric] = scaler.transform(features_train_ordinal[numeric])\n",
    "features_valid_ordinal[numeric] = scaler.transform(features_valid_ordinal[numeric])\n",
    "features_test_ordinal[numeric] = scaler.transform(features_test_ordinal[numeric])\n"
   ]
  },
  {
   "cell_type": "markdown",
   "metadata": {},
   "source": [
    "Теперь переходим к обучению моделей."
   ]
  },
  {
   "cell_type": "markdown",
   "metadata": {},
   "source": [
    "#### **Дерево Решений**"
   ]
  },
  {
   "cell_type": "code",
   "execution_count": 19,
   "metadata": {},
   "outputs": [
    {
     "name": "stdout",
     "output_type": "stream",
     "text": [
      "F1-мера:  0.5411764705882353 \n",
      " Лучшая модель дерева:  DecisionTreeClassifier(max_depth=5, random_state=12345) \n",
      " AUC-ROC:  0.6880133945613048\n"
     ]
    }
   ],
   "source": [
    "#модель дерева решений\n",
    "best_model = None\n",
    "best_result = 0\n",
    "for depth in range (1,20):\n",
    "    model_tree = DecisionTreeClassifier(random_state=12345, max_depth=depth)\n",
    "    model_tree.fit(features_train_ordinal, target_train_ordinal)\n",
    "    predicted_tree = model_tree.predict(features_valid_ordinal)\n",
    "    result = f1_score(target_valid_ordinal, predicted_tree)\n",
    "    if result > best_result:\n",
    "        best_model = model_tree\n",
    "        best_result = result\n",
    "                \n",
    "#Расчет roc_auc для Дерева Решений\n",
    "probabilities_one_valid_tree = model_tree.predict_proba(features_valid_ordinal)[:, 1]\n",
    "auc_roc_tree = roc_auc_score(target_valid_ordinal, probabilities_one_valid_tree)\n",
    "print(\"F1-мера: \", best_result,\"\\n\",\n",
    "      \"Лучшая модель дерева: \", best_model,'\\n',\n",
    "      \"AUC-ROC: \", auc_roc_tree)"
   ]
  },
  {
   "cell_type": "code",
   "execution_count": 20,
   "metadata": {},
   "outputs": [
    {
     "data": {
      "text/plain": [
       "array([[2017,  397],\n",
       "       [ 270,  316]])"
      ]
     },
     "execution_count": 20,
     "metadata": {},
     "output_type": "execute_result"
    }
   ],
   "source": [
    "#построение предсказаний и матрицы ошибок\n",
    "error_tree = confusion_matrix(target_valid_ordinal, predicted_tree)\n",
    "error_tree"
   ]
  },
  {
   "cell_type": "markdown",
   "metadata": {},
   "source": [
    "**Вывод:**\n",
    "\n",
    "* Из матрицы ошибок: TN (истинно отрицательные) 2017, TP (истинно положительные) 316, FN (ложноотрицательные) 270, FP (ложноположительные) 397. То есть модель хорошо предсказывает TN, но много ошибается в FP.\n",
    "* Из метрик: F1-мера (качество модели)- 0.5411764705882353, AUC-ROC равна 0.6880133945613048\n",
    "* Лучшая модель дерева:  DecisionTreeClassifier(max_depth=5, random_state=12345) "
   ]
  },
  {
   "cell_type": "markdown",
   "metadata": {},
   "source": [
    "#### **Случайный лес**"
   ]
  },
  {
   "cell_type": "code",
   "execution_count": 21,
   "metadata": {},
   "outputs": [
    {
     "name": "stdout",
     "output_type": "stream",
     "text": [
      "F1-мера:  0.566990291262136 \n",
      " Лучшая модель леса:  RandomForestClassifier(max_depth=6, min_samples_leaf=3, n_estimators=1,\n",
      "                       random_state=12345) \n",
      " AUC-ROC:  0.848528634161928\n"
     ]
    }
   ],
   "source": [
    "#модель леса\n",
    "best_model = None\n",
    "best_result = 0\n",
    "for est in range (1,20):\n",
    "    for depth in range(1,10):\n",
    "        for leaf in range(1,10):\n",
    "            model_forest = RandomForestClassifier(random_state=12345, n_estimators=est, max_depth=depth,\\\n",
    "                                                  min_samples_leaf=leaf)\n",
    "            model_forest.fit(features_train_ordinal, target_train_ordinal)\n",
    "            predicted_forest = model_forest.predict(features_valid_ordinal)\n",
    "            result = f1_score(target_valid_ordinal, predicted_forest)\n",
    "            if result > best_result:\n",
    "                best_model = model_forest\n",
    "                best_result = result\n",
    "\n",
    "#Расчет roc_auc для Случайного леса\n",
    "probabilities_one_valid_forest = model_forest.predict_proba(features_valid_ordinal)[:, 1]\n",
    "auc_roc_forest = roc_auc_score(target_valid_ordinal, probabilities_one_valid_forest)\n",
    "print(\"F1-мера: \", best_result,\"\\n\",\n",
    "      \"Лучшая модель леса: \", best_model,'\\n',\n",
    "      \"AUC-ROC: \", auc_roc_forest)"
   ]
  },
  {
   "cell_type": "code",
   "execution_count": 22,
   "metadata": {},
   "outputs": [
    {
     "data": {
      "text/plain": [
       "array([[2343,   71],\n",
       "       [ 335,  251]])"
      ]
     },
     "execution_count": 22,
     "metadata": {},
     "output_type": "execute_result"
    }
   ],
   "source": [
    "#построение предсказаний и матрицы ошибок\n",
    "error_forest = confusion_matrix(target_valid_ordinal, predicted_forest)\n",
    "error_forest"
   ]
  },
  {
   "cell_type": "markdown",
   "metadata": {},
   "source": [
    "**Вывод:**\n",
    "\n",
    "* Из матрицы ошибок: TN (истинно отрицательные) 2343, TP (истинно положительные) 251, FN (ложноотрицательные) 335, FP (ложноположительные) 71. То есть модель хорошо предсказывает TN, TP, но дает много FN.\n",
    "* Из метрик: F1-мера - 0.566990291262136, AUC-ROC равна 0.848528634161928\n",
    "* Лучшая модель леса:  RandomForestClassifier(max_depth=6, min_samples_leaf=3, n_estimators=1, random_state=12345)"
   ]
  },
  {
   "cell_type": "markdown",
   "metadata": {},
   "source": [
    "#### **Логистическая регрессия**"
   ]
  },
  {
   "cell_type": "code",
   "execution_count": 23,
   "metadata": {},
   "outputs": [
    {
     "name": "stdout",
     "output_type": "stream",
     "text": [
      "F1-мера:  0.3278301886792453 \n",
      " AUC-ROC:  0.7587508588976137\n"
     ]
    }
   ],
   "source": [
    "#модель Логистической регрессии\n",
    "model_log = LogisticRegression(random_state=12345, solver='liblinear')\n",
    "model_log.fit(features_train_ohe, target_train_ohe)\n",
    "predicted_log = model_log.predict(features_valid_ohe)\n",
    "result = f1_score(target_valid_ohe, predicted_log)\n",
    "                    \n",
    "#Расчет roc_auc для Логистической регрессии\n",
    "probabilities_one_valid_log = model_log.predict_proba(features_valid_ohe)[:, 1]\n",
    "auc_roc_log = roc_auc_score(target_valid_ohe, probabilities_one_valid_log)\n",
    "\n",
    "print(\"F1-мера: \", result,\"\\n\",\n",
    "      \"AUC-ROC: \", auc_roc_log)"
   ]
  },
  {
   "cell_type": "code",
   "execution_count": 24,
   "metadata": {},
   "outputs": [
    {
     "data": {
      "text/plain": [
       "array([[2291,  123],\n",
       "       [ 447,  139]])"
      ]
     },
     "execution_count": 24,
     "metadata": {},
     "output_type": "execute_result"
    }
   ],
   "source": [
    "#построение предсказаний и матрицы ошибок\n",
    "error_log = confusion_matrix(target_valid_ohe, predicted_log)\n",
    "error_log"
   ]
  },
  {
   "cell_type": "markdown",
   "metadata": {},
   "source": [
    "**Вывод:**\n",
    "\n",
    "* Из матрицы ошибок: TN (истинно отрицательные) 2291, TP (истинно положительные) 139, FN (ложноотрицательные) 447, FP (ложноположительные) 123. То есть модель хорошо предсказывает TN, TP, но дает много FN.\n",
    "* Из метрик: F1-мера - 0.3278301886792453, AUC-ROC равна 0.7587508588976137"
   ]
  },
  {
   "cell_type": "code",
   "execution_count": 25,
   "metadata": {},
   "outputs": [
    {
     "data": {
      "text/plain": [
       "0    0.7963\n",
       "1    0.2037\n",
       "Name: exited, dtype: float64"
      ]
     },
     "execution_count": 25,
     "metadata": {},
     "output_type": "execute_result"
    }
   ],
   "source": [
    "data['exited'].value_counts(normalize=True)"
   ]
  },
  {
   "cell_type": "markdown",
   "metadata": {},
   "source": [
    "Соотношение приблизительно 80% к 20%, что говорит и **дисбалансе.** Посмотрим на матрицы ошибок моделей."
   ]
  },
  {
   "cell_type": "markdown",
   "metadata": {},
   "source": [
    "## Борьба с дисбалансом"
   ]
  },
  {
   "cell_type": "markdown",
   "metadata": {},
   "source": [
    "### Балансирование классов"
   ]
  },
  {
   "cell_type": "markdown",
   "metadata": {},
   "source": [
    "Придадим большую важность классу 1 с помощью параметра class_weight='balanced' при обучении. После проведем увеличение выборки и уменьшение, после сравним результаты до и после."
   ]
  },
  {
   "cell_type": "markdown",
   "metadata": {},
   "source": [
    "#### **Дерево решений**"
   ]
  },
  {
   "cell_type": "code",
   "execution_count": 26,
   "metadata": {},
   "outputs": [
    {
     "name": "stdout",
     "output_type": "stream",
     "text": [
      "F1-мера:  0.5486725663716814 \n",
      " Лучшая модель дерева:  DecisionTreeClassifier(class_weight='balanced', max_depth=5, random_state=12345) \n",
      " AUC-ROC:  0.6888090235853992\n"
     ]
    }
   ],
   "source": [
    "#модель дерева решений\n",
    "best_model = None\n",
    "best_result = 0\n",
    "for depth in range (1,20):\n",
    "    model_tree = DecisionTreeClassifier(random_state=12345, max_depth=depth, class_weight='balanced')\n",
    "    model_tree.fit(features_train_ordinal, target_train_ordinal)\n",
    "    predicted_tree = model_tree.predict(features_valid_ordinal)\n",
    "    result = f1_score(target_valid_ordinal, predicted_tree)\n",
    "    if result > best_result:\n",
    "        best_model = model_tree\n",
    "        best_result = result\n",
    "                \n",
    "#Расчет roc_auc для Дерева Решений\n",
    "probabilities_one_valid_tree = model_tree.predict_proba(features_valid_ordinal)[:, 1]\n",
    "auc_roc_tree = roc_auc_score(target_valid_ordinal, probabilities_one_valid_tree)\n",
    "print(\"F1-мера: \", best_result,\"\\n\",\n",
    "      \"Лучшая модель дерева: \", best_model,'\\n',\n",
    "      \"AUC-ROC: \", auc_roc_tree)"
   ]
  },
  {
   "cell_type": "markdown",
   "metadata": {},
   "source": [
    "**ДО:**\n",
    "\n",
    "* F1-мера:  0.5411764705882353 \n",
    "* Лучшая модель дерева:  DecisionTreeClassifier(max_depth=5, random_state=12345) \n",
    "* AUC-ROC:  0.6880133945613048\n",
    "\n",
    "**ПОСЛЕ:**\n",
    "\n",
    "* F1-мера:  0.5486725663716814 \n",
    "* Лучшая модель дерева:  DecisionTreeClassifier(class_weight='balanced', max_depth=5, random_state=12345) \n",
    "* AUC-ROC:  0.6888090235853992"
   ]
  },
  {
   "cell_type": "markdown",
   "metadata": {},
   "source": [
    "**Вывод: наблюдается незначительное улучшение метрик.**"
   ]
  },
  {
   "cell_type": "markdown",
   "metadata": {},
   "source": [
    "#### **Случайный лес**"
   ]
  },
  {
   "cell_type": "code",
   "execution_count": 27,
   "metadata": {},
   "outputs": [
    {
     "name": "stdout",
     "output_type": "stream",
     "text": [
      "F1-мера:  0.6118370484242891 \n",
      " Лучшая модель леса:  RandomForestClassifier(class_weight='balanced', max_depth=9, min_samples_leaf=2,\n",
      "                       n_estimators=11, random_state=12345) \n",
      " AUC-ROC:  0.8507635352367164\n"
     ]
    }
   ],
   "source": [
    "#модель леса\n",
    "best_model = None\n",
    "best_result = 0\n",
    "for est in range (1,20):\n",
    "    for depth in range(1,10):\n",
    "        for leaf in range(1,10):\n",
    "            model_forest = RandomForestClassifier(random_state=12345, n_estimators=est, max_depth=depth,\\\n",
    "                                                  min_samples_leaf=leaf, class_weight='balanced')\n",
    "            model_forest.fit(features_train_ordinal, target_train_ordinal)\n",
    "            predicted_forest = model_forest.predict(features_valid_ordinal)\n",
    "            result = f1_score(target_valid_ordinal, predicted_forest)\n",
    "            if result > best_result:\n",
    "                best_model = model_forest\n",
    "                best_result = result\n",
    "\n",
    "#Расчет roc_auc для Случайного леса\n",
    "probabilities_one_valid_forest = model_forest.predict_proba(features_valid_ordinal)[:, 1]\n",
    "auc_roc_forest = roc_auc_score(target_valid_ordinal, probabilities_one_valid_forest)\n",
    "print(\"F1-мера: \", best_result,\"\\n\",\n",
    "      \"Лучшая модель леса: \", best_model,'\\n',\n",
    "      \"AUC-ROC: \", auc_roc_forest)"
   ]
  },
  {
   "cell_type": "markdown",
   "metadata": {},
   "source": [
    "**ДО:**\n",
    "\n",
    "* F1-мера:  0.566990291262136 \n",
    "* Лучшая модель леса:  RandomForestClassifier(max_depth=6, min_samples_leaf=3, n_estimators=1, random_state=12345) \n",
    "* AUC-ROC:  0.848528634161928\n",
    "\n",
    "**ПОСЛЕ:**\n",
    "\n",
    "* F1-мера:  0.6118370484242891 \n",
    "* Лучшая модель леса:  RandomForestClassifier(class_weight='balanced', max_depth=9, min_samples_leaf=2, n_estimators=11, random_state=12345) \n",
    "* AUC-ROC:  0.8507635352367164"
   ]
  },
  {
   "cell_type": "markdown",
   "metadata": {},
   "source": [
    "**Вывод: значительное улучшение метрик.**"
   ]
  },
  {
   "cell_type": "markdown",
   "metadata": {},
   "source": [
    "#### **Логистическая регрессия**"
   ]
  },
  {
   "cell_type": "code",
   "execution_count": 28,
   "metadata": {},
   "outputs": [
    {
     "name": "stdout",
     "output_type": "stream",
     "text": [
      "F1-мера:  0.47757716948165396 \n",
      " AUC-ROC:  0.7631103828350547\n"
     ]
    }
   ],
   "source": [
    "#модель Логистической регрессии\n",
    "model_log = LogisticRegression(random_state=12345, solver='liblinear', class_weight='balanced')\n",
    "model_log.fit(features_train_ohe, target_train_ohe)\n",
    "predicted_log = model_log.predict(features_valid_ohe)\n",
    "result = f1_score(target_valid_ohe, predicted_log)\n",
    "                    \n",
    "#Расчет roc_auc для Логистической регрессии\n",
    "probabilities_one_valid_log = model_log.predict_proba(features_valid_ohe)[:, 1]\n",
    "auc_roc_log = roc_auc_score(target_valid_ohe, probabilities_one_valid_log)\n",
    "\n",
    "print(\"F1-мера: \", result,\"\\n\",\n",
    "      \"AUC-ROC: \", auc_roc_log)"
   ]
  },
  {
   "cell_type": "markdown",
   "metadata": {},
   "source": [
    "**ДО:**\n",
    "\n",
    "* Из метрик: F1-мера - 0.3278301886792453, AUC-ROC равна 0.7587508588976137\n",
    "\n",
    "**ПОСЛЕ:**\n",
    "\n",
    "* Из метрик: F1-мера - 0.47757716948165396, AUC-ROC равна 0.7631103828350547"
   ]
  },
  {
   "cell_type": "markdown",
   "metadata": {},
   "source": [
    "**Вывод: Наблюдается улучшение метрик**"
   ]
  },
  {
   "cell_type": "markdown",
   "metadata": {},
   "source": [
    "**Итог:** \n",
    "* Дерево решений F1-мера: 0.5486725663716814, AUC-ROC: 0.6888090235853992\n",
    "* Случайный лес  F1-мера: 0.6118370484242891, AUC-ROC: 0.8507635352367164  - **лидер**\n",
    "* Логистическая регрессия F1-мера - 0.47757716948165396, AUC-ROC 0.7631103828350547"
   ]
  },
  {
   "cell_type": "markdown",
   "metadata": {},
   "source": [
    "### Увеличение объектов редкого класса"
   ]
  },
  {
   "cell_type": "code",
   "execution_count": 30,
   "metadata": {},
   "outputs": [],
   "source": [
    "#функция увеличения\n",
    "def upsample(features, target, repeat=4):\n",
    "    features_zeros = features[target == 0]\n",
    "    features_ones = features[target == 1]\n",
    "    target_zeros = target[target == 0]\n",
    "    target_ones = target[target == 1]\n",
    "\n",
    "    features_upsampled = pd.concat([features_zeros] + [features_ones] * repeat)\n",
    "    target_upsampled = pd.concat([target_zeros] + [target_ones] * repeat)\n",
    "          \n",
    "    return shuffle(features_upsampled, target_upsampled, random_state=12345)"
   ]
  },
  {
   "cell_type": "code",
   "execution_count": 31,
   "metadata": {},
   "outputs": [],
   "source": [
    "#создание признаков для обучения\n",
    "features_train_ohe_upsampled, target_train_ohe_upsampled = upsample(features_train_ohe,\\\n",
    "                                                                          target_train_ohe)\n",
    "features_train_ordinal_upsampled, target_train_ordinal_upsampled = upsample(\\\n",
    "                                                       features_train_ordinal, target_train_ordinal)"
   ]
  },
  {
   "cell_type": "markdown",
   "metadata": {},
   "source": [
    "#### **Дерево решений**"
   ]
  },
  {
   "cell_type": "code",
   "execution_count": 32,
   "metadata": {},
   "outputs": [
    {
     "name": "stdout",
     "output_type": "stream",
     "text": [
      "F1-мера:  0.5486725663716814 \n",
      " Лучшая модель дерева:  DecisionTreeClassifier(max_depth=5, random_state=12345) \n",
      " AUC-ROC:  0.6910103463584156\n"
     ]
    }
   ],
   "source": [
    "#модель дерева решений\n",
    "best_model_up = None\n",
    "best_result_up = 0\n",
    "for depth in range (1,20):\n",
    "    model_tree = DecisionTreeClassifier(random_state=12345, max_depth=depth)\n",
    "    model_tree.fit(features_train_ordinal_upsampled, target_train_ordinal_upsampled)\n",
    "    predicted_tree_up = model_tree.predict(features_valid_ordinal)\n",
    "    result_up = f1_score(target_valid_ordinal, predicted_tree_up)\n",
    "    if result_up > best_result_up:\n",
    "        best_model_up = model_tree\n",
    "        best_result_up = result_up\n",
    "                \n",
    "#Расчет roc_auc для Дерева Решений\n",
    "probabilities_one_valid_tree_up = model_tree.predict_proba(features_valid_ordinal)[:, 1]\n",
    "auc_roc_tree_up = roc_auc_score(target_valid_ordinal, probabilities_one_valid_tree_up)\n",
    "print(\"F1-мера: \", best_result_up,\"\\n\",\n",
    "      \"Лучшая модель дерева: \", best_model_up,'\\n',\n",
    "      \"AUC-ROC: \", auc_roc_tree_up)"
   ]
  },
  {
   "cell_type": "markdown",
   "metadata": {},
   "source": [
    "**ДО:**\n",
    "\n",
    "* F1-мера:  0.5486725663716814 \n",
    "* Лучшая модель дерева:  DecisionTreeClassifier(class_weight='balanced', max_depth=5, random_state=12345) \n",
    "* AUC-ROC:  0.6888090235853992\n",
    "\n",
    "**ПОСЛЕ:**\n",
    "\n",
    "* F1-мера:  0.5486725663716814 \n",
    "* Лучшая модель дерева:  DecisionTreeClassifier(max_depth=5, random_state=12345) \n",
    "* AUC-ROC:  0.6910103463584156\n"
   ]
  },
  {
   "cell_type": "markdown",
   "metadata": {},
   "source": [
    "**Вывод: метрики немного увеличелись.**"
   ]
  },
  {
   "cell_type": "markdown",
   "metadata": {},
   "source": [
    "#### **Случайный лес**"
   ]
  },
  {
   "cell_type": "code",
   "execution_count": 33,
   "metadata": {},
   "outputs": [
    {
     "name": "stdout",
     "output_type": "stream",
     "text": [
      "F1-мера:  0.597163120567376 \n",
      " Лучшая модель леса:  RandomForestClassifier(max_depth=9, min_samples_leaf=3, n_estimators=16,\n",
      "                       random_state=12345) \n",
      " AUC-ROC:  0.8470388179306718\n"
     ]
    }
   ],
   "source": [
    "#модель леса\n",
    "best_model_up = None\n",
    "best_result_up = 0\n",
    "for est in range (1,20):\n",
    "    for depth in range(1,10):\n",
    "        for leaf in range(1,10):\n",
    "            model_forest = RandomForestClassifier(random_state=12345, n_estimators=est, max_depth=depth,\\\n",
    "                                                  min_samples_leaf=leaf)\n",
    "            model_forest.fit(features_train_ordinal_upsampled, target_train_ordinal_upsampled)\n",
    "            predicted_forest_up = model_forest.predict(features_valid_ordinal)\n",
    "            result_up = f1_score(target_valid_ordinal, predicted_forest_up)\n",
    "            if result_up > best_result_up:\n",
    "                best_model_up = model_forest\n",
    "                best_result_up = result_up\n",
    "\n",
    "#Расчет roc_auc для Случайного леса\n",
    "probabilities_one_valid_forest_up = model_forest.predict_proba(features_valid_ordinal)[:, 1]\n",
    "auc_roc_forest_up = roc_auc_score(target_valid_ordinal, probabilities_one_valid_forest_up)\n",
    "print(\"F1-мера: \", best_result_up,\"\\n\",\n",
    "      \"Лучшая модель леса: \", best_model_up,'\\n',\n",
    "      \"AUC-ROC: \", auc_roc_forest_up)"
   ]
  },
  {
   "cell_type": "markdown",
   "metadata": {},
   "source": [
    "**ДО:**\n",
    "\n",
    "* F1-мера:  0.6118370484242891 \n",
    "* Лучшая модель леса:  RandomForestClassifier(class_weight='balanced', max_depth=9, min_samples_leaf=2, n_estimators=11, random_state=12345) \n",
    "* AUC-ROC:  0.8507635352367164\n",
    "\n",
    "**ПОСЛЕ:**\n",
    "\n",
    "* F1-мера:  0.597163120567376 \n",
    "*  Лучшая модель леса:  RandomForestClassifier(max_depth=9, min_samples_leaf=3, n_estimators=16, random_state=12345) \n",
    "* AUC-ROC:  0.8470388179306718\n"
   ]
  },
  {
   "cell_type": "markdown",
   "metadata": {},
   "source": [
    "**Вывод: показатели немного уменьшились. При балансировке значения лучше**"
   ]
  },
  {
   "cell_type": "markdown",
   "metadata": {},
   "source": [
    "#### **Логистическая регрессия**"
   ]
  },
  {
   "cell_type": "code",
   "execution_count": 34,
   "metadata": {},
   "outputs": [
    {
     "name": "stdout",
     "output_type": "stream",
     "text": [
      "F1-мера:  0.4791901012373454 \n",
      " AUC-ROC:  0.7632963005901297\n"
     ]
    }
   ],
   "source": [
    "#модель Логистической регрессии\n",
    "model_log = LogisticRegression(random_state=12345, solver='liblinear')\n",
    "model_log.fit(features_train_ohe_upsampled, target_train_ohe_upsampled)\n",
    "predicted_log_up = model_log.predict(features_valid_ohe)\n",
    "result_up = f1_score(target_valid_ohe, predicted_log_up)\n",
    "                    \n",
    "#Расчет roc_auc для Логистической регрессии\n",
    "probabilities_one_valid_log_up = model_log.predict_proba(features_valid_ohe)[:, 1]\n",
    "auc_roc_log_up = roc_auc_score(target_valid_ohe, probabilities_one_valid_log_up)\n",
    "\n",
    "print(\"F1-мера: \", result_up,\"\\n\",\n",
    "      \"AUC-ROC: \", auc_roc_log_up)"
   ]
  },
  {
   "cell_type": "markdown",
   "metadata": {},
   "source": [
    "**ДО:**\n",
    "\n",
    "F1-мера - 0.47757716948165396, AUC-ROC: 0.7631103828350547\n",
    "\n",
    "**ПОСЛЕ:**\n",
    "\n",
    "F1-мера:  0.4791901012373454, AUC-ROC: 0.7632963005901297\n"
   ]
  },
  {
   "cell_type": "markdown",
   "metadata": {},
   "source": [
    "**Вывод: показатели немного увеличелись**"
   ]
  },
  {
   "cell_type": "markdown",
   "metadata": {},
   "source": [
    "**Итог:**\n",
    "* Дерево Решений F1-мера: 0.5486725663716814, AUC-ROC: 0.6910103463584156 \n",
    "* Случайный лес  F1-мера: 0.597163120567376 , AUC-ROC: 0.8470388179306718 **лидер по F1** \n",
    "* Логистическая регрессия F1-мера: 0.4791901012373454, AUC-ROC: 0.7632963005901297"
   ]
  },
  {
   "cell_type": "markdown",
   "metadata": {},
   "source": [
    "Общий итог: показатели снизиль у Случайного леса, у остальных моделей незначительно поднялись по сравнению с показателями после балансировки. Даже при таком раскладе лучшей моделью снова является Случайный лес."
   ]
  },
  {
   "cell_type": "markdown",
   "metadata": {},
   "source": [
    "### Уменьшение выборки"
   ]
  },
  {
   "cell_type": "code",
   "execution_count": 59,
   "metadata": {},
   "outputs": [],
   "source": [
    "#функция уменьшения\n",
    "def downsample(features, target, fraction = 0.2):\n",
    "    features_zeros = features[target == 0]\n",
    "    features_ones = features[target == 1]\n",
    "    target_zeros = target[target == 0]\n",
    "    target_ones = target[target == 1]\n",
    "\n",
    "    features_downsampled = pd.concat(\n",
    "        [features_zeros.sample(frac=fraction, random_state=12345)] + [features_ones]\n",
    "    )\n",
    "    target_downsampled = pd.concat(\n",
    "        [target_zeros.sample(frac=fraction, random_state=12345)] + [target_ones]\n",
    "    )\n",
    "    \n",
    "    features_downsampled, target_downsampled = shuffle(\n",
    "        features_downsampled, target_downsampled, random_state=12345)\n",
    "    \n",
    "    return features_downsampled, target_downsampled"
   ]
  },
  {
   "cell_type": "code",
   "execution_count": 60,
   "metadata": {},
   "outputs": [],
   "source": [
    "#создание признаков для обучения\n",
    "features_train_ohe_downsampled, target_train_ohe_downsampled = downsample(features_train_ohe,\\\n",
    "                                                                          target_train_ohe)\n",
    "features_train_ordinal_downsampled, target_train_ordinal_downsampled = downsample(\\\n",
    "                                                       features_train_ordinal, target_train_ordinal)"
   ]
  },
  {
   "cell_type": "markdown",
   "metadata": {},
   "source": [
    "#### **Дерево Решений**"
   ]
  },
  {
   "cell_type": "code",
   "execution_count": 61,
   "metadata": {},
   "outputs": [
    {
     "name": "stdout",
     "output_type": "stream",
     "text": [
      "F1-мера:  0.5481012658227848 \n",
      " Лучшая модель дерева:  DecisionTreeClassifier(max_depth=5, random_state=12345) \n",
      " AUC-ROC:  0.6882781329615921\n"
     ]
    }
   ],
   "source": [
    "#модель дерева решений\n",
    "best_model_down = None\n",
    "best_result_down = 0\n",
    "for depth in range (1,20):\n",
    "    model_tree = DecisionTreeClassifier(random_state=12345, max_depth=depth)\n",
    "    model_tree.fit(features_train_ordinal_downsampled, target_train_ordinal_downsampled)\n",
    "    predicted_tree_down = model_tree.predict(features_valid_ordinal)\n",
    "    result_down = f1_score(target_valid_ordinal, predicted_tree_down)\n",
    "    if result_down > best_result_down:\n",
    "        best_model_down = model_tree\n",
    "        best_result_down = result_down\n",
    "                \n",
    "#Расчет roc_auc для Дерева Решений\n",
    "probabilities_one_valid_tree_down = model_tree.predict_proba(features_valid_ordinal)[:, 1]\n",
    "auc_roc_tree_down = roc_auc_score(target_valid_ordinal, probabilities_one_valid_tree_down)\n",
    "print(\"F1-мера: \", best_result_down,\"\\n\",\n",
    "      \"Лучшая модель дерева: \", best_model_down,'\\n',\n",
    "      \"AUC-ROC: \", auc_roc_tree_down)"
   ]
  },
  {
   "cell_type": "markdown",
   "metadata": {},
   "source": [
    "**ДО(баланс):**\n",
    "\n",
    "* F1-мера: 0.5486725663716814\n",
    "* Лучшая модель дерева: DecisionTreeClassifier(class_weight='balanced', max_depth=5, random_state=12345)\n",
    "* AUC-ROC: 0.6888090235853992\n",
    "\n",
    "**ПОСЛЕ:**\n",
    "\n",
    "* F1-мера:  0.5481012658227848 \n",
    "* Лучшая модель дерева:  DecisionTreeClassifier(max_depth=5, random_state=12345) \n",
    "* AUC-ROC:  0.6882781329615921"
   ]
  },
  {
   "cell_type": "markdown",
   "metadata": {},
   "source": [
    "**Вывод: по сравнению с балансировкой показатели стали чуть меньше.**"
   ]
  },
  {
   "cell_type": "markdown",
   "metadata": {},
   "source": [
    "#### **Случайный лес**"
   ]
  },
  {
   "cell_type": "code",
   "execution_count": 62,
   "metadata": {},
   "outputs": [
    {
     "name": "stdout",
     "output_type": "stream",
     "text": [
      "F1-мера:  0.532249322493225 \n",
      " Лучшая модель леса:  RandomForestClassifier(max_depth=8, min_samples_leaf=3, n_estimators=19,\n",
      "                       random_state=12345) \n",
      " AUC-ROC:  0.833867640696619\n"
     ]
    }
   ],
   "source": [
    "#модель леса\n",
    "best_model_down = None\n",
    "best_result_down = 0\n",
    "for est in range (1,20):\n",
    "    for depth in range(1,10):\n",
    "        for leaf in range(1,10):\n",
    "            model_forest = RandomForestClassifier(random_state=12345, n_estimators=est, max_depth=depth,\\\n",
    "                                                  min_samples_leaf=leaf)\n",
    "            model_forest.fit(features_train_ordinal_downsampled, target_train_ordinal_downsampled)\n",
    "            predicted_forest_down = model_forest.predict(features_valid_ordinal)\n",
    "            result_down = f1_score(target_valid_ordinal, predicted_forest_down)\n",
    "            if result_down > best_result_down:\n",
    "                best_model_down = model_forest\n",
    "                best_result_down = result_down\n",
    "\n",
    "#Расчет roc_auc для Случайного леса\n",
    "probabilities_one_valid_forest_down = model_forest.predict_proba(features_valid_ordinal)[:, 1]\n",
    "auc_roc_forest_down = roc_auc_score(target_valid_ordinal, probabilities_one_valid_forest_down)\n",
    "print(\"F1-мера: \", best_result_down,\"\\n\",\n",
    "      \"Лучшая модель леса: \", best_model_down,'\\n',\n",
    "      \"AUC-ROC: \", auc_roc_forest_down)"
   ]
  },
  {
   "cell_type": "markdown",
   "metadata": {},
   "source": [
    "**ДО (баланс):**\n",
    "\n",
    "* F1-мера:  0.6118370484242891 \n",
    "* Лучшая модель леса:  RandomForestClassifier(class_weight='balanced', max_depth=9, min_samples_leaf=2, n_estimators=11, random_state=12345) \n",
    "* AUC-ROC:  0.8507635352367164\n",
    "\n",
    "**ПОСЛЕ:**\n",
    "\n",
    "* F1-мера:  0.532249322493225 \n",
    "* Лучшая модель леса:  RandomForestClassifier(max_depth=8, min_samples_leaf=3, n_estimators=19, random_state=12345) \n",
    "* AUC-ROC:  0.833867640696619"
   ]
  },
  {
   "cell_type": "markdown",
   "metadata": {},
   "source": [
    "**Вывод: по сравнению с балансировкой показатели стали меньше.**"
   ]
  },
  {
   "cell_type": "markdown",
   "metadata": {},
   "source": [
    "#### **Логистическая регрессия**"
   ]
  },
  {
   "cell_type": "code",
   "execution_count": 63,
   "metadata": {},
   "outputs": [
    {
     "name": "stdout",
     "output_type": "stream",
     "text": [
      "F1-мера:  0.4629905613512171 \n",
      " AUC-ROC:  0.7655379173252727\n"
     ]
    }
   ],
   "source": [
    "#модель Логистической регрессии\n",
    "model_log = LogisticRegression(random_state=12345, solver='liblinear')\n",
    "model_log.fit(features_train_ohe_downsampled, target_train_ohe_downsampled)\n",
    "predicted_log_down = model_log.predict(features_valid_ohe)\n",
    "result_down = f1_score(target_valid_ohe, predicted_log_down)\n",
    "                    \n",
    "#Расчет roc_auc для Логистической регрессии\n",
    "probabilities_one_valid_log_down = model_log.predict_proba(features_valid_ohe)[:, 1]\n",
    "auc_roc_log_down = roc_auc_score(target_valid_ohe, probabilities_one_valid_log_down)\n",
    "\n",
    "print(\"F1-мера: \", result_down,\"\\n\",\n",
    "      \"AUC-ROC: \", auc_roc_log_down)"
   ]
  },
  {
   "cell_type": "markdown",
   "metadata": {},
   "source": [
    "**ДО (баланс):**\n",
    "\n",
    "F1-мера - 0.47757716948165396, AUC-ROC: 0.7631103828350547\n",
    "\n",
    "**ПОСЛЕ:**\n",
    "\n",
    "F1-мера:  0.4629905613512171, AUC-ROC:  0.7655379173252727"
   ]
  },
  {
   "cell_type": "markdown",
   "metadata": {},
   "source": [
    "**Вывод: Незначительное уменьшение показателей по сравнению с балансировкой**"
   ]
  },
  {
   "cell_type": "markdown",
   "metadata": {},
   "source": [
    "**Итог:** \n",
    "\n",
    "* Дерево решений F1-мера: 0.5481012658227848, AUC-ROC: 0.68827813296159212\n",
    "* Случайный лес  F1-мера: 0.532249322493225, AUC-ROC: 0.833867640696619  **лидер**\n",
    "* Логистическая регрессия F1-мера: 0.4629905613512171, AUC-ROC: 0.7655379173252727"
   ]
  },
  {
   "cell_type": "markdown",
   "metadata": {},
   "source": [
    "В результате лучшие показатели у модели Случайного леса при балансировке. **RandomForestClassifier(class_weight='balanced', random_state=12345, n_estimators=11, max_depth=9, min_samples_leaf=2).**"
   ]
  },
  {
   "cell_type": "code",
   "execution_count": 64,
   "metadata": {},
   "outputs": [
    {
     "name": "stdout",
     "output_type": "stream",
     "text": [
      "F1-мера:  0.6118370484242891 \n",
      " AUC-ROC:  0.8457426954822693\n"
     ]
    }
   ],
   "source": [
    "#модель леса\n",
    "model_forest = RandomForestClassifier(class_weight='balanced', random_state=12345, n_estimators=11,\\\n",
    "                                      max_depth=9, min_samples_leaf=2)\n",
    "model_forest.fit(features_train_ordinal, target_train_ordinal)\n",
    "predicted_forest = model_forest.predict(features_valid_ordinal)\n",
    "result_forest = f1_score(target_valid_ordinal, predicted_forest)\n",
    "\n",
    "#Расчет roc_auc для Случайного леса\n",
    "probabilities_one_valid_forest = model_forest.predict_proba(features_valid_ordinal)[:, 1]\n",
    "auc_roc_forest_best = roc_auc_score(target_valid_ordinal, probabilities_one_valid_forest)\n",
    "print(\"F1-мера: \", result_forest,\"\\n\",\n",
    "      \"AUC-ROC: \", auc_roc_forest_best)"
   ]
  },
  {
   "cell_type": "markdown",
   "metadata": {},
   "source": [
    "Показатели высокие. Теперь протестируем эту модель."
   ]
  },
  {
   "cell_type": "markdown",
   "metadata": {},
   "source": [
    "## Тестирование модели"
   ]
  },
  {
   "cell_type": "markdown",
   "metadata": {},
   "source": [
    "Проверим остальные метрики."
   ]
  },
  {
   "cell_type": "code",
   "execution_count": 65,
   "metadata": {},
   "outputs": [
    {
     "name": "stdout",
     "output_type": "stream",
     "text": [
      "Полнота:  0.6177924217462932 \n",
      " Точность: 0.5498533724340176 \n",
      " F1-мера: 0.5818463925523663 \n",
      " AUC-ROC: 0.8413708021267411\n"
     ]
    }
   ],
   "source": [
    "predicted_forest_final = model_forest.predict(features_test_ordinal)\n",
    "\n",
    "#метрики полноты, точности, F1 меры\n",
    "rec_forest_final = recall_score(target_test_ordinal, predicted_forest_final)    \n",
    "pre_forest_final = precision_score(target_test_ordinal, predicted_forest_final)\n",
    "f1_forest_final = f1_score(target_test_ordinal, predicted_forest_final)\n",
    "\n",
    "#Расчет roc_auc\n",
    "probabilities_forest_final = model_forest.predict_proba(features_test_ordinal)[:, 1]\n",
    "auc_roc_forest_final = roc_auc_score(target_test_ordinal, probabilities_forest_final)\n",
    "\n",
    "#вывод на экран значений\n",
    "print(\"Полнота: \", rec_forest_final,\"\\n\",\\\n",
    "      \"Точность:\", pre_forest_final, \"\\n\",\\\n",
    "      \"F1-мера:\", f1_forest_final, \"\\n\",\\\n",
    "      \"AUC-ROC:\", auc_roc_forest_final)"
   ]
  },
  {
   "cell_type": "code",
   "execution_count": 66,
   "metadata": {},
   "outputs": [
    {
     "data": {
      "text/plain": [
       "0    3000\n",
       "dtype: int64"
      ]
     },
     "execution_count": 66,
     "metadata": {},
     "output_type": "execute_result"
    }
   ],
   "source": [
    "#константая модель\n",
    "target_pred_constant = pd.Series(0, index=target_test_ordinal)\n",
    "target_pred_constant.value_counts()"
   ]
  },
  {
   "cell_type": "code",
   "execution_count": 67,
   "metadata": {},
   "outputs": [
    {
     "name": "stdout",
     "output_type": "stream",
     "text": [
      "accuracy_score константой модели: 0.8046666666666666\n",
      "accuracy_score финальной модели: 0.8203333333333334\n",
      "AUC-ROC константой модели: 0.5\n",
      "AUC-ROC финальной модели: 0.7447507867193647\n"
     ]
    }
   ],
   "source": [
    "#Сравним показатели\n",
    "print('accuracy_score константой модели:', accuracy_score(target_valid_ordinal, target_pred_constant))\n",
    "print('accuracy_score финальной модели:', accuracy_score(target_test_ordinal, predicted_forest_final))\n",
    "print('AUC-ROC константой модели:', roc_auc_score(target_valid_ordinal, target_pred_constant))\n",
    "print('AUC-ROC финальной модели:', roc_auc_score(target_test_ordinal, predicted_forest_final))"
   ]
  },
  {
   "cell_type": "markdown",
   "metadata": {},
   "source": [
    "Результаты финальной модели выше чем константной. Модель адекватна."
   ]
  },
  {
   "cell_type": "markdown",
   "metadata": {},
   "source": [
    "## Итоговый вывод"
   ]
  },
  {
   "cell_type": "markdown",
   "metadata": {},
   "source": [
    "Изначально датасет был разбалансирован в соотношении 80/20 в пользу отрицательных результатов. На основе разбалансировки были достигнуты следующие результаты:\n",
    "\n",
    "* **Дерево решений:**\n",
    "    -   Из матрицы ошибок: TN (истинно отрицательные) 2017, TP (истинно положительные) 316, FN (ложноотрицательные) 270, FP (ложноположительные) 397. То есть модель хорошо предсказывает TN, но много ошибается в FP.\n",
    "    -    Из метрик: F1-мера (качество модели)- 0.5411764705882353, AUC-ROC равна 0.6880133945613048\n",
    "    -    Лучшая модель дерева: DecisionTreeClassifier(max_depth=5, random_state=12345)\n",
    "\n",
    "* **Случайный лес:**\n",
    "    -    Из матрицы ошибок: TN (истинно отрицательные) 2343, TP (истинно положительные) 251, FN (ложноотрицательные) 335, FP (ложноположительные) 71. То есть модель хорошо предсказывает TN, TP, но дает много FN.\n",
    "    -    Из метрик: F1-мера - 0.566990291262136, AUC-ROC равна 0.848528634161928\n",
    "    -    Лучшая модель леса: RandomForestClassifier(max_depth=6, min_samples_leaf=3, n_estimators=1, random_state=12345)\n",
    "\n",
    "* **Логистическая регрессия:**\n",
    "    -    Из матрицы ошибок: TN (истинно отрицательные) 2291, TP (истинно положительные) 139, FN (ложноотрицательные) 447, FP (ложноположительные) 123. То есть модель хорошо предсказывает TN, TP, но дает много FN.\n",
    "    -    Из метрик: F1-мера - 0.3278301886792453, AUC-ROC равна 0.7587508588976137\n",
    "\n",
    "\n"
   ]
  },
  {
   "cell_type": "markdown",
   "metadata": {},
   "source": [
    "После этого были использованы методы борьбы с дисбалансом:**балансирование классов, увеличение объектов редкого класса, уменьшение выборки**. Наулучшей моделью себя показала **Случайный лес** при методе **балансировки классов** со следующими показателями: F1-мера - 0.6118370484242891, AUC-ROC - 0.8457426954822693."
   ]
  },
  {
   "cell_type": "markdown",
   "metadata": {},
   "source": [
    "В дальнейшем на тестовой выборке была использована модель **RandomForestClassifier(class_weight='balanced', random_state=12345, n_estimators=11, max_depth=9, min_samples_leaf=2)**, которая дала следующие результаты: \n",
    "* Полнота:  0.6177924217462932 \n",
    "* Точность: 0.5498533724340176 \n",
    "* F1-мера: 0.5818463925523663 \n",
    "* AUC-ROC: 0.8413708021267411\n"
   ]
  },
  {
   "cell_type": "markdown",
   "metadata": {},
   "source": [
    "При сравнении с константной моделью получились следующие результаты: \n",
    "\n",
    "* accuracy_score константой модели: 0.8046666666666666\n",
    "* accuracy_score финальной модели: 0.8203333333333334\n",
    "* AUC-ROC константой модели: 0.5\n",
    "* AUC-ROC финальной модели: 0.7447507867193647\n",
    "\n",
    "Финальная модель продемонстрировала более высокие показатели."
   ]
  }
 ],
 "metadata": {
  "ExecuteTimeLog": [
   {
    "duration": 43,
    "start_time": "2023-02-26T14:15:36.624Z"
   },
   {
    "duration": 344,
    "start_time": "2023-02-26T14:15:43.352Z"
   },
   {
    "duration": 88,
    "start_time": "2023-02-26T14:15:45.008Z"
   },
   {
    "duration": 11,
    "start_time": "2023-02-26T14:15:46.894Z"
   },
   {
    "duration": 1173,
    "start_time": "2023-02-26T14:16:56.455Z"
   },
   {
    "duration": 15,
    "start_time": "2023-02-26T14:17:35.010Z"
   },
   {
    "duration": 40,
    "start_time": "2023-02-26T14:17:57.667Z"
   },
   {
    "duration": 4,
    "start_time": "2023-02-26T14:49:34.325Z"
   },
   {
    "duration": 32,
    "start_time": "2023-02-26T14:49:55.366Z"
   },
   {
    "duration": 69,
    "start_time": "2023-02-26T14:51:56.154Z"
   },
   {
    "duration": 11,
    "start_time": "2023-02-26T14:52:02.311Z"
   },
   {
    "duration": 5,
    "start_time": "2023-02-26T15:15:23.224Z"
   },
   {
    "duration": 5,
    "start_time": "2023-02-26T15:17:18.398Z"
   },
   {
    "duration": 5,
    "start_time": "2023-02-26T15:17:22.688Z"
   },
   {
    "duration": 5,
    "start_time": "2023-02-26T15:17:31.529Z"
   },
   {
    "duration": 4,
    "start_time": "2023-02-26T15:18:40.300Z"
   },
   {
    "duration": 8,
    "start_time": "2023-02-26T15:19:00.275Z"
   },
   {
    "duration": 4,
    "start_time": "2023-02-26T15:19:08.444Z"
   },
   {
    "duration": 5,
    "start_time": "2023-02-26T15:20:04.993Z"
   },
   {
    "duration": 5,
    "start_time": "2023-02-26T15:20:22.151Z"
   },
   {
    "duration": 4,
    "start_time": "2023-02-26T15:20:29.404Z"
   },
   {
    "duration": 12,
    "start_time": "2023-02-26T15:20:39.506Z"
   },
   {
    "duration": 310,
    "start_time": "2023-02-26T15:29:19.848Z"
   },
   {
    "duration": 74,
    "start_time": "2023-02-26T15:29:37.683Z"
   },
   {
    "duration": 78,
    "start_time": "2023-02-26T15:29:54.056Z"
   },
   {
    "duration": 84,
    "start_time": "2023-02-26T15:30:35.160Z"
   },
   {
    "duration": 73,
    "start_time": "2023-02-26T15:30:50.001Z"
   },
   {
    "duration": 84,
    "start_time": "2023-02-26T15:30:55.493Z"
   },
   {
    "duration": 78,
    "start_time": "2023-02-26T15:31:07.208Z"
   },
   {
    "duration": 76,
    "start_time": "2023-02-26T15:31:12.513Z"
   },
   {
    "duration": 81,
    "start_time": "2023-02-26T15:31:17.008Z"
   },
   {
    "duration": 78,
    "start_time": "2023-02-26T15:31:56.105Z"
   },
   {
    "duration": 104,
    "start_time": "2023-02-26T15:35:52.560Z"
   },
   {
    "duration": 287,
    "start_time": "2023-02-26T15:36:06.572Z"
   },
   {
    "duration": 4,
    "start_time": "2023-02-26T15:44:22.765Z"
   },
   {
    "duration": 11,
    "start_time": "2023-02-26T15:44:34.911Z"
   },
   {
    "duration": 3,
    "start_time": "2023-02-26T15:46:35.935Z"
   },
   {
    "duration": 13,
    "start_time": "2023-02-26T15:46:42.606Z"
   },
   {
    "duration": 1665,
    "start_time": "2023-03-01T08:12:51.951Z"
   },
   {
    "duration": 85,
    "start_time": "2023-03-01T08:12:53.618Z"
   },
   {
    "duration": 11,
    "start_time": "2023-03-01T08:12:53.704Z"
   },
   {
    "duration": 14,
    "start_time": "2023-03-01T08:12:53.717Z"
   },
   {
    "duration": 12,
    "start_time": "2023-03-01T08:12:53.732Z"
   },
   {
    "duration": 4,
    "start_time": "2023-03-01T08:12:53.746Z"
   },
   {
    "duration": 5,
    "start_time": "2023-03-01T08:12:58.864Z"
   },
   {
    "duration": 13,
    "start_time": "2023-03-01T08:13:10.880Z"
   },
   {
    "duration": 22,
    "start_time": "2023-03-01T08:19:48.874Z"
   },
   {
    "duration": 124,
    "start_time": "2023-03-01T08:24:39.756Z"
   },
   {
    "duration": 21,
    "start_time": "2023-03-01T08:24:50.019Z"
   },
   {
    "duration": 17,
    "start_time": "2023-03-01T08:26:20.538Z"
   },
   {
    "duration": 24,
    "start_time": "2023-03-01T08:26:20.558Z"
   },
   {
    "duration": 0,
    "start_time": "2023-03-01T08:26:20.584Z"
   },
   {
    "duration": 5,
    "start_time": "2023-03-01T08:26:27.460Z"
   },
   {
    "duration": 56,
    "start_time": "2023-03-01T08:26:27.468Z"
   },
   {
    "duration": 12,
    "start_time": "2023-03-01T08:26:27.527Z"
   },
   {
    "duration": 22,
    "start_time": "2023-03-01T08:26:27.542Z"
   },
   {
    "duration": 16,
    "start_time": "2023-03-01T08:26:27.565Z"
   },
   {
    "duration": 15,
    "start_time": "2023-03-01T08:26:27.583Z"
   },
   {
    "duration": 8,
    "start_time": "2023-03-01T08:26:27.601Z"
   },
   {
    "duration": 32,
    "start_time": "2023-03-01T08:26:27.612Z"
   },
   {
    "duration": 27,
    "start_time": "2023-03-01T08:26:27.647Z"
   },
   {
    "duration": 9,
    "start_time": "2023-03-01T08:26:33.337Z"
   },
   {
    "duration": 4,
    "start_time": "2023-03-01T08:26:43.225Z"
   },
   {
    "duration": 25,
    "start_time": "2023-03-01T08:26:49.107Z"
   },
   {
    "duration": 4,
    "start_time": "2023-03-01T08:27:01.810Z"
   },
   {
    "duration": 27,
    "start_time": "2023-03-01T08:27:21.448Z"
   },
   {
    "duration": 25,
    "start_time": "2023-03-01T08:27:35.258Z"
   },
   {
    "duration": 27,
    "start_time": "2023-03-01T08:27:40.580Z"
   },
   {
    "duration": 25,
    "start_time": "2023-03-01T08:27:49.728Z"
   },
   {
    "duration": 15,
    "start_time": "2023-03-01T08:28:03.249Z"
   },
   {
    "duration": 9,
    "start_time": "2023-03-01T08:28:08.355Z"
   },
   {
    "duration": 24,
    "start_time": "2023-03-01T08:28:14.935Z"
   },
   {
    "duration": 1177,
    "start_time": "2023-03-01T08:28:31.661Z"
   },
   {
    "duration": 1229,
    "start_time": "2023-03-01T08:29:05.782Z"
   },
   {
    "duration": 1178,
    "start_time": "2023-03-01T08:29:29.168Z"
   },
   {
    "duration": 4,
    "start_time": "2023-03-01T08:29:53.791Z"
   },
   {
    "duration": 5,
    "start_time": "2023-03-01T08:30:05.413Z"
   },
   {
    "duration": 41,
    "start_time": "2023-03-01T08:30:05.422Z"
   },
   {
    "duration": 9,
    "start_time": "2023-03-01T08:30:05.466Z"
   },
   {
    "duration": 17,
    "start_time": "2023-03-01T08:30:05.477Z"
   },
   {
    "duration": 11,
    "start_time": "2023-03-01T08:30:05.496Z"
   },
   {
    "duration": 3,
    "start_time": "2023-03-01T08:30:05.509Z"
   },
   {
    "duration": 8,
    "start_time": "2023-03-01T08:30:05.514Z"
   },
   {
    "duration": 14,
    "start_time": "2023-03-01T08:30:05.559Z"
   },
   {
    "duration": 5,
    "start_time": "2023-03-01T08:30:08.540Z"
   },
   {
    "duration": 1428,
    "start_time": "2023-03-01T08:30:41.489Z"
   },
   {
    "duration": 39,
    "start_time": "2023-03-01T08:30:42.919Z"
   },
   {
    "duration": 10,
    "start_time": "2023-03-01T08:30:42.960Z"
   },
   {
    "duration": 29,
    "start_time": "2023-03-01T08:30:42.973Z"
   },
   {
    "duration": 18,
    "start_time": "2023-03-01T08:30:43.005Z"
   },
   {
    "duration": 3,
    "start_time": "2023-03-01T08:30:43.025Z"
   },
   {
    "duration": 19,
    "start_time": "2023-03-01T08:30:43.030Z"
   },
   {
    "duration": 24,
    "start_time": "2023-03-01T08:30:43.050Z"
   },
   {
    "duration": 16,
    "start_time": "2023-03-01T08:30:46.992Z"
   },
   {
    "duration": 4,
    "start_time": "2023-03-01T08:31:01.424Z"
   },
   {
    "duration": 6,
    "start_time": "2023-03-01T08:31:31.945Z"
   },
   {
    "duration": 8,
    "start_time": "2023-03-01T08:31:53.311Z"
   },
   {
    "duration": 7,
    "start_time": "2023-03-01T08:33:06.459Z"
   },
   {
    "duration": 7,
    "start_time": "2023-03-01T08:33:08.566Z"
   },
   {
    "duration": 19,
    "start_time": "2023-03-01T08:36:30.292Z"
   },
   {
    "duration": 5,
    "start_time": "2023-03-01T08:36:36.084Z"
   },
   {
    "duration": 1448,
    "start_time": "2023-03-01T08:36:56.922Z"
   },
   {
    "duration": 11,
    "start_time": "2023-03-01T08:59:04.436Z"
   },
   {
    "duration": 29,
    "start_time": "2023-03-01T09:07:40.124Z"
   },
   {
    "duration": 71,
    "start_time": "2023-03-01T09:10:28.024Z"
   },
   {
    "duration": 35,
    "start_time": "2023-03-01T09:26:51.836Z"
   },
   {
    "duration": 65,
    "start_time": "2023-03-01T09:27:48.057Z"
   },
   {
    "duration": 6,
    "start_time": "2023-03-01T09:32:34.656Z"
   },
   {
    "duration": 8,
    "start_time": "2023-03-01T09:32:54.480Z"
   },
   {
    "duration": 6,
    "start_time": "2023-03-01T09:33:28.618Z"
   },
   {
    "duration": 6,
    "start_time": "2023-03-01T09:33:52.941Z"
   },
   {
    "duration": 6,
    "start_time": "2023-03-01T09:37:10.658Z"
   },
   {
    "duration": 8,
    "start_time": "2023-03-01T09:56:03.537Z"
   },
   {
    "duration": 10,
    "start_time": "2023-03-01T09:56:11.388Z"
   },
   {
    "duration": 14,
    "start_time": "2023-03-01T10:17:21.682Z"
   },
   {
    "duration": 20,
    "start_time": "2023-03-01T10:20:13.779Z"
   },
   {
    "duration": 10,
    "start_time": "2023-03-01T10:22:40.490Z"
   },
   {
    "duration": 9,
    "start_time": "2023-03-01T10:22:42.909Z"
   },
   {
    "duration": 8,
    "start_time": "2023-03-01T10:22:44.990Z"
   },
   {
    "duration": 9,
    "start_time": "2023-03-01T10:26:23.740Z"
   },
   {
    "duration": 10,
    "start_time": "2023-03-01T10:30:33.151Z"
   },
   {
    "duration": 293,
    "start_time": "2023-03-01T10:53:50.806Z"
   },
   {
    "duration": 12,
    "start_time": "2023-03-01T11:00:04.483Z"
   },
   {
    "duration": 9,
    "start_time": "2023-03-01T11:05:24.828Z"
   },
   {
    "duration": 16,
    "start_time": "2023-03-01T11:07:25.545Z"
   },
   {
    "duration": 17,
    "start_time": "2023-03-01T11:08:16.741Z"
   },
   {
    "duration": 10,
    "start_time": "2023-03-01T11:10:37.577Z"
   },
   {
    "duration": 24,
    "start_time": "2023-03-01T11:12:40.522Z"
   },
   {
    "duration": 18,
    "start_time": "2023-03-01T11:25:37.349Z"
   },
   {
    "duration": 29,
    "start_time": "2023-03-01T11:26:30.054Z"
   },
   {
    "duration": 28,
    "start_time": "2023-03-01T11:28:30.876Z"
   },
   {
    "duration": 87,
    "start_time": "2023-03-01T11:33:33.972Z"
   },
   {
    "duration": 1427,
    "start_time": "2023-03-01T11:49:52.617Z"
   },
   {
    "duration": 40,
    "start_time": "2023-03-01T11:49:54.046Z"
   },
   {
    "duration": 10,
    "start_time": "2023-03-01T11:49:54.088Z"
   },
   {
    "duration": 21,
    "start_time": "2023-03-01T11:49:54.100Z"
   },
   {
    "duration": 21,
    "start_time": "2023-03-01T11:49:54.123Z"
   },
   {
    "duration": 4,
    "start_time": "2023-03-01T11:49:54.146Z"
   },
   {
    "duration": 8,
    "start_time": "2023-03-01T11:49:54.151Z"
   },
   {
    "duration": 21,
    "start_time": "2023-03-01T11:49:54.161Z"
   },
   {
    "duration": 15,
    "start_time": "2023-03-01T11:49:54.184Z"
   },
   {
    "duration": 6,
    "start_time": "2023-03-01T11:49:54.202Z"
   },
   {
    "duration": 29,
    "start_time": "2023-03-01T11:49:54.210Z"
   },
   {
    "duration": 34,
    "start_time": "2023-03-01T11:49:54.241Z"
   },
   {
    "duration": 26,
    "start_time": "2023-03-01T11:49:54.277Z"
   },
   {
    "duration": 5,
    "start_time": "2023-03-01T11:49:54.305Z"
   },
   {
    "duration": 17,
    "start_time": "2023-03-01T11:49:54.312Z"
   },
   {
    "duration": 32,
    "start_time": "2023-03-01T11:49:54.330Z"
   },
   {
    "duration": 104,
    "start_time": "2023-03-01T11:49:54.364Z"
   },
   {
    "duration": 7,
    "start_time": "2023-03-01T11:49:54.560Z"
   },
   {
    "duration": 14,
    "start_time": "2023-03-01T11:49:54.569Z"
   },
   {
    "duration": 13,
    "start_time": "2023-03-01T11:49:54.584Z"
   },
   {
    "duration": 10,
    "start_time": "2023-03-01T11:49:54.599Z"
   },
   {
    "duration": 15,
    "start_time": "2023-03-01T11:49:54.611Z"
   },
   {
    "duration": 34,
    "start_time": "2023-03-01T11:49:54.628Z"
   },
   {
    "duration": 10,
    "start_time": "2023-03-01T11:49:54.664Z"
   },
   {
    "duration": 89,
    "start_time": "2023-03-01T11:49:54.676Z"
   },
   {
    "duration": 116,
    "start_time": "2023-03-01T11:49:54.768Z"
   },
   {
    "duration": 11,
    "start_time": "2023-03-01T11:49:54.885Z"
   },
   {
    "duration": 4,
    "start_time": "2023-03-01T11:50:13.779Z"
   },
   {
    "duration": 4,
    "start_time": "2023-03-01T11:50:16.431Z"
   },
   {
    "duration": 11,
    "start_time": "2023-03-01T11:52:36.194Z"
   },
   {
    "duration": 113,
    "start_time": "2023-03-01T11:52:48.579Z"
   },
   {
    "duration": 12,
    "start_time": "2023-03-01T11:53:53.524Z"
   },
   {
    "duration": 17,
    "start_time": "2023-03-01T11:54:56.485Z"
   },
   {
    "duration": 112,
    "start_time": "2023-03-01T11:55:22.885Z"
   },
   {
    "duration": 12,
    "start_time": "2023-03-01T11:56:09.462Z"
   },
   {
    "duration": 14,
    "start_time": "2023-03-01T11:56:37.919Z"
   },
   {
    "duration": 105,
    "start_time": "2023-03-01T11:57:27.827Z"
   },
   {
    "duration": 16,
    "start_time": "2023-03-01T12:04:21.402Z"
   },
   {
    "duration": 12,
    "start_time": "2023-03-01T12:04:32.919Z"
   },
   {
    "duration": 98,
    "start_time": "2023-03-01T12:04:42.287Z"
   },
   {
    "duration": 113,
    "start_time": "2023-03-01T12:04:45.899Z"
   },
   {
    "duration": 14,
    "start_time": "2023-03-01T12:06:09.070Z"
   },
   {
    "duration": 103,
    "start_time": "2023-03-01T12:06:23.762Z"
   },
   {
    "duration": 14,
    "start_time": "2023-03-01T12:06:50.159Z"
   },
   {
    "duration": 237,
    "start_time": "2023-03-01T12:06:52.430Z"
   },
   {
    "duration": 12,
    "start_time": "2023-03-01T12:07:28.113Z"
   },
   {
    "duration": 106,
    "start_time": "2023-03-01T12:07:34.653Z"
   },
   {
    "duration": 14,
    "start_time": "2023-03-01T12:07:42.380Z"
   },
   {
    "duration": 104,
    "start_time": "2023-03-01T12:07:46.121Z"
   },
   {
    "duration": 5,
    "start_time": "2023-03-01T12:08:53.388Z"
   },
   {
    "duration": 12,
    "start_time": "2023-03-01T12:08:56.298Z"
   },
   {
    "duration": 98,
    "start_time": "2023-03-01T12:08:59.751Z"
   },
   {
    "duration": 17,
    "start_time": "2023-03-01T12:09:02.545Z"
   },
   {
    "duration": 104,
    "start_time": "2023-03-01T12:09:07.276Z"
   },
   {
    "duration": 16,
    "start_time": "2023-03-01T12:13:39.722Z"
   },
   {
    "duration": 111,
    "start_time": "2023-03-01T12:13:49.880Z"
   },
   {
    "duration": 14,
    "start_time": "2023-03-01T12:14:28.603Z"
   },
   {
    "duration": 95,
    "start_time": "2023-03-01T12:14:31.116Z"
   },
   {
    "duration": 80,
    "start_time": "2023-03-01T12:16:20.509Z"
   },
   {
    "duration": 66,
    "start_time": "2023-03-01T12:44:39.082Z"
   },
   {
    "duration": 70,
    "start_time": "2023-03-01T12:46:48.592Z"
   },
   {
    "duration": 57,
    "start_time": "2023-03-01T12:54:50.124Z"
   },
   {
    "duration": 65,
    "start_time": "2023-03-01T12:54:56.712Z"
   },
   {
    "duration": 43,
    "start_time": "2023-03-01T12:55:25.607Z"
   },
   {
    "duration": 47,
    "start_time": "2023-03-01T12:57:42.439Z"
   },
   {
    "duration": 87,
    "start_time": "2023-03-01T13:00:41.079Z"
   },
   {
    "duration": 13,
    "start_time": "2023-03-01T13:03:50.443Z"
   },
   {
    "duration": 58,
    "start_time": "2023-03-01T13:03:58.139Z"
   },
   {
    "duration": 20,
    "start_time": "2023-03-01T13:04:11.291Z"
   },
   {
    "duration": 11,
    "start_time": "2023-03-01T13:10:22.221Z"
   },
   {
    "duration": 27,
    "start_time": "2023-03-01T13:12:08.195Z"
   },
   {
    "duration": 14,
    "start_time": "2023-03-01T13:13:29.887Z"
   },
   {
    "duration": 134,
    "start_time": "2023-03-01T13:15:25.532Z"
   },
   {
    "duration": 11,
    "start_time": "2023-03-01T13:16:16.888Z"
   },
   {
    "duration": 1464,
    "start_time": "2023-03-01T13:30:57.454Z"
   },
   {
    "duration": 38,
    "start_time": "2023-03-01T13:30:58.920Z"
   },
   {
    "duration": 10,
    "start_time": "2023-03-01T13:30:58.959Z"
   },
   {
    "duration": 12,
    "start_time": "2023-03-01T13:30:58.971Z"
   },
   {
    "duration": 12,
    "start_time": "2023-03-01T13:30:58.985Z"
   },
   {
    "duration": 4,
    "start_time": "2023-03-01T13:30:58.998Z"
   },
   {
    "duration": 5,
    "start_time": "2023-03-01T13:30:59.003Z"
   },
   {
    "duration": 13,
    "start_time": "2023-03-01T13:31:11.848Z"
   },
   {
    "duration": 14,
    "start_time": "2023-03-01T13:31:29.704Z"
   },
   {
    "duration": 7,
    "start_time": "2023-03-01T13:31:33.419Z"
   },
   {
    "duration": 7,
    "start_time": "2023-03-01T13:31:35.877Z"
   },
   {
    "duration": 4,
    "start_time": "2023-03-01T13:31:41.387Z"
   },
   {
    "duration": 19,
    "start_time": "2023-03-01T13:38:31.378Z"
   },
   {
    "duration": 9,
    "start_time": "2023-03-01T13:38:48.223Z"
   },
   {
    "duration": 6,
    "start_time": "2023-03-01T13:38:52.807Z"
   },
   {
    "duration": 4,
    "start_time": "2023-03-01T13:38:57.827Z"
   },
   {
    "duration": 19,
    "start_time": "2023-03-01T13:42:01.872Z"
   },
   {
    "duration": 4,
    "start_time": "2023-03-01T13:42:09.461Z"
   },
   {
    "duration": 106,
    "start_time": "2023-03-01T13:43:49.021Z"
   },
   {
    "duration": 4,
    "start_time": "2023-03-01T13:45:59.514Z"
   },
   {
    "duration": 10,
    "start_time": "2023-03-01T13:46:06.576Z"
   },
   {
    "duration": 4,
    "start_time": "2023-03-01T13:46:15.174Z"
   },
   {
    "duration": 37,
    "start_time": "2023-03-01T13:46:15.190Z"
   },
   {
    "duration": 9,
    "start_time": "2023-03-01T13:46:15.229Z"
   },
   {
    "duration": 19,
    "start_time": "2023-03-01T13:46:15.245Z"
   },
   {
    "duration": 12,
    "start_time": "2023-03-01T13:46:15.274Z"
   },
   {
    "duration": 4,
    "start_time": "2023-03-01T13:46:15.290Z"
   },
   {
    "duration": 3,
    "start_time": "2023-03-01T13:46:15.309Z"
   },
   {
    "duration": 16,
    "start_time": "2023-03-01T13:46:15.335Z"
   },
   {
    "duration": 15,
    "start_time": "2023-03-01T13:46:15.360Z"
   },
   {
    "duration": 6,
    "start_time": "2023-03-01T13:46:15.392Z"
   },
   {
    "duration": 6,
    "start_time": "2023-03-01T13:46:15.434Z"
   },
   {
    "duration": 3,
    "start_time": "2023-03-01T13:46:15.449Z"
   },
   {
    "duration": 19,
    "start_time": "2023-03-01T13:46:15.475Z"
   },
   {
    "duration": 3,
    "start_time": "2023-03-01T13:46:15.501Z"
   },
   {
    "duration": 10,
    "start_time": "2023-03-01T13:46:25.934Z"
   },
   {
    "duration": 24,
    "start_time": "2023-03-01T13:47:18.257Z"
   },
   {
    "duration": 22,
    "start_time": "2023-03-01T13:47:22.060Z"
   },
   {
    "duration": 13,
    "start_time": "2023-03-01T13:55:01.001Z"
   },
   {
    "duration": 10,
    "start_time": "2023-03-01T13:58:24.052Z"
   },
   {
    "duration": 12,
    "start_time": "2023-03-01T13:58:47.209Z"
   },
   {
    "duration": 43,
    "start_time": "2023-03-01T14:01:08.253Z"
   },
   {
    "duration": 74,
    "start_time": "2023-03-01T14:03:12.506Z"
   },
   {
    "duration": 7,
    "start_time": "2023-03-01T14:04:03.735Z"
   },
   {
    "duration": 8,
    "start_time": "2023-03-01T14:04:15.633Z"
   },
   {
    "duration": 6,
    "start_time": "2023-03-01T14:04:26.685Z"
   },
   {
    "duration": 8,
    "start_time": "2023-03-01T14:05:08.316Z"
   },
   {
    "duration": 12,
    "start_time": "2023-03-01T14:06:14.324Z"
   },
   {
    "duration": 9,
    "start_time": "2023-03-01T14:07:03.710Z"
   },
   {
    "duration": 12,
    "start_time": "2023-03-01T14:07:32.522Z"
   },
   {
    "duration": 17,
    "start_time": "2023-03-01T14:08:18.281Z"
   },
   {
    "duration": 15,
    "start_time": "2023-03-01T14:09:02.525Z"
   },
   {
    "duration": 13,
    "start_time": "2023-03-01T14:09:36.413Z"
   },
   {
    "duration": 10,
    "start_time": "2023-03-01T14:10:09.189Z"
   },
   {
    "duration": 11,
    "start_time": "2023-03-01T14:10:48.491Z"
   },
   {
    "duration": 4,
    "start_time": "2023-03-01T14:11:21.797Z"
   },
   {
    "duration": 4,
    "start_time": "2023-03-01T14:11:24.264Z"
   },
   {
    "duration": 17,
    "start_time": "2023-03-01T14:15:09.877Z"
   },
   {
    "duration": 21,
    "start_time": "2023-03-01T14:15:26.031Z"
   },
   {
    "duration": 122,
    "start_time": "2023-03-01T14:16:06.652Z"
   },
   {
    "duration": 14,
    "start_time": "2023-03-01T14:17:54.409Z"
   },
   {
    "duration": 22,
    "start_time": "2023-03-01T14:18:58.458Z"
   },
   {
    "duration": 13,
    "start_time": "2023-03-01T14:24:44.581Z"
   },
   {
    "duration": 42,
    "start_time": "2023-03-01T14:30:14.313Z"
   },
   {
    "duration": 40,
    "start_time": "2023-03-01T14:33:21.192Z"
   },
   {
    "duration": 43,
    "start_time": "2023-03-01T14:35:51.015Z"
   },
   {
    "duration": 13,
    "start_time": "2023-03-01T14:40:10.002Z"
   },
   {
    "duration": 6,
    "start_time": "2023-03-01T14:40:25.407Z"
   },
   {
    "duration": 13,
    "start_time": "2023-03-01T14:42:33.082Z"
   },
   {
    "duration": 41,
    "start_time": "2023-03-01T14:46:33.708Z"
   },
   {
    "duration": 1407,
    "start_time": "2023-03-01T14:47:10.598Z"
   },
   {
    "duration": 42,
    "start_time": "2023-03-01T14:47:12.007Z"
   },
   {
    "duration": 10,
    "start_time": "2023-03-01T14:47:12.051Z"
   },
   {
    "duration": 16,
    "start_time": "2023-03-01T14:47:12.063Z"
   },
   {
    "duration": 14,
    "start_time": "2023-03-01T14:47:12.081Z"
   },
   {
    "duration": 4,
    "start_time": "2023-03-01T14:47:12.097Z"
   },
   {
    "duration": 9,
    "start_time": "2023-03-01T14:47:12.102Z"
   },
   {
    "duration": 13,
    "start_time": "2023-03-01T14:47:12.112Z"
   },
   {
    "duration": 44,
    "start_time": "2023-03-01T14:47:12.127Z"
   },
   {
    "duration": 7,
    "start_time": "2023-03-01T14:47:12.173Z"
   },
   {
    "duration": 7,
    "start_time": "2023-03-01T14:47:12.182Z"
   },
   {
    "duration": 14,
    "start_time": "2023-03-01T14:47:12.191Z"
   },
   {
    "duration": 21,
    "start_time": "2023-03-01T14:47:12.207Z"
   },
   {
    "duration": 4,
    "start_time": "2023-03-01T14:47:12.230Z"
   },
   {
    "duration": 24,
    "start_time": "2023-03-01T14:47:12.259Z"
   },
   {
    "duration": 11,
    "start_time": "2023-03-01T14:47:12.285Z"
   },
   {
    "duration": 12,
    "start_time": "2023-03-01T14:47:12.298Z"
   },
   {
    "duration": 73,
    "start_time": "2023-03-01T14:47:12.312Z"
   },
   {
    "duration": 76,
    "start_time": "2023-03-01T14:47:12.386Z"
   },
   {
    "duration": 96,
    "start_time": "2023-03-01T14:47:12.465Z"
   },
   {
    "duration": 100,
    "start_time": "2023-03-01T14:47:12.566Z"
   },
   {
    "duration": 13,
    "start_time": "2023-03-01T14:47:12.668Z"
   },
   {
    "duration": 9,
    "start_time": "2023-03-01T14:47:12.683Z"
   },
   {
    "duration": 14,
    "start_time": "2023-03-01T14:47:12.694Z"
   },
   {
    "duration": 17,
    "start_time": "2023-03-01T14:47:12.709Z"
   },
   {
    "duration": 40,
    "start_time": "2023-03-01T14:47:12.728Z"
   },
   {
    "duration": 17,
    "start_time": "2023-03-01T14:47:12.769Z"
   },
   {
    "duration": 179,
    "start_time": "2023-03-01T14:47:12.790Z"
   },
   {
    "duration": 14,
    "start_time": "2023-03-01T14:47:30.067Z"
   },
   {
    "duration": 72,
    "start_time": "2023-03-01T14:48:59.448Z"
   },
   {
    "duration": 87,
    "start_time": "2023-03-01T14:49:23.074Z"
   },
   {
    "duration": 14,
    "start_time": "2023-03-01T14:55:26.249Z"
   },
   {
    "duration": 8,
    "start_time": "2023-03-01T14:55:52.463Z"
   },
   {
    "duration": 70,
    "start_time": "2023-03-01T14:59:33.824Z"
   },
   {
    "duration": 16,
    "start_time": "2023-03-01T15:01:11.962Z"
   },
   {
    "duration": 11,
    "start_time": "2023-03-01T15:02:16.171Z"
   },
   {
    "duration": 78,
    "start_time": "2023-03-01T15:08:32.981Z"
   },
   {
    "duration": 12,
    "start_time": "2023-03-01T15:10:05.569Z"
   },
   {
    "duration": 4,
    "start_time": "2023-03-01T15:14:43.039Z"
   },
   {
    "duration": 16,
    "start_time": "2023-03-01T15:26:30.219Z"
   },
   {
    "duration": 138,
    "start_time": "2023-03-01T15:26:56.049Z"
   },
   {
    "duration": 13,
    "start_time": "2023-03-01T15:41:24.990Z"
   },
   {
    "duration": 18,
    "start_time": "2023-03-01T15:42:37.080Z"
   },
   {
    "duration": 10,
    "start_time": "2023-03-01T15:43:53.394Z"
   },
   {
    "duration": 16,
    "start_time": "2023-03-01T15:47:04.418Z"
   },
   {
    "duration": 11,
    "start_time": "2023-03-01T15:48:25.826Z"
   },
   {
    "duration": 86,
    "start_time": "2023-03-01T15:49:14.073Z"
   },
   {
    "duration": 17,
    "start_time": "2023-03-01T15:52:07.121Z"
   },
   {
    "duration": 12,
    "start_time": "2023-03-01T15:53:00.903Z"
   },
   {
    "duration": 115,
    "start_time": "2023-03-01T15:56:28.582Z"
   },
   {
    "duration": 117,
    "start_time": "2023-03-01T15:59:16.282Z"
   },
   {
    "duration": 1448,
    "start_time": "2023-03-01T16:00:47.076Z"
   },
   {
    "duration": 41,
    "start_time": "2023-03-01T16:00:48.526Z"
   },
   {
    "duration": 10,
    "start_time": "2023-03-01T16:00:48.569Z"
   },
   {
    "duration": 19,
    "start_time": "2023-03-01T16:00:48.581Z"
   },
   {
    "duration": 13,
    "start_time": "2023-03-01T16:00:48.602Z"
   },
   {
    "duration": 3,
    "start_time": "2023-03-01T16:00:48.617Z"
   },
   {
    "duration": 6,
    "start_time": "2023-03-01T16:00:48.622Z"
   },
   {
    "duration": 36,
    "start_time": "2023-03-01T16:00:48.630Z"
   },
   {
    "duration": 18,
    "start_time": "2023-03-01T16:00:48.668Z"
   },
   {
    "duration": 9,
    "start_time": "2023-03-01T16:00:48.689Z"
   },
   {
    "duration": 9,
    "start_time": "2023-03-01T16:00:48.700Z"
   },
   {
    "duration": 6,
    "start_time": "2023-03-01T16:00:48.711Z"
   },
   {
    "duration": 47,
    "start_time": "2023-03-01T16:00:48.719Z"
   },
   {
    "duration": 4,
    "start_time": "2023-03-01T16:00:48.768Z"
   },
   {
    "duration": 25,
    "start_time": "2023-03-01T16:00:48.773Z"
   },
   {
    "duration": 10,
    "start_time": "2023-03-01T16:00:48.800Z"
   },
   {
    "duration": 26,
    "start_time": "2023-03-01T16:00:48.811Z"
   },
   {
    "duration": 52,
    "start_time": "2023-03-01T16:00:48.838Z"
   },
   {
    "duration": 85,
    "start_time": "2023-03-01T16:00:48.892Z"
   },
   {
    "duration": 182,
    "start_time": "2023-03-01T16:00:48.978Z"
   },
   {
    "duration": 10,
    "start_time": "2023-03-01T16:00:49.161Z"
   },
   {
    "duration": 13,
    "start_time": "2023-03-01T16:00:49.173Z"
   },
   {
    "duration": 8,
    "start_time": "2023-03-01T16:00:49.187Z"
   },
   {
    "duration": 27,
    "start_time": "2023-03-01T16:00:49.196Z"
   },
   {
    "duration": 36,
    "start_time": "2023-03-01T16:00:49.225Z"
   },
   {
    "duration": 11,
    "start_time": "2023-03-01T16:00:49.263Z"
   },
   {
    "duration": 85,
    "start_time": "2023-03-01T16:00:49.276Z"
   },
   {
    "duration": 100,
    "start_time": "2023-03-01T16:00:49.365Z"
   },
   {
    "duration": 11,
    "start_time": "2023-03-01T16:00:49.467Z"
   },
   {
    "duration": 279,
    "start_time": "2023-03-01T16:00:49.480Z"
   },
   {
    "duration": 105,
    "start_time": "2023-03-01T16:00:49.761Z"
   },
   {
    "duration": 8,
    "start_time": "2023-03-01T16:00:49.868Z"
   },
   {
    "duration": 16,
    "start_time": "2023-03-01T16:00:49.877Z"
   },
   {
    "duration": 11,
    "start_time": "2023-03-01T16:00:49.894Z"
   },
   {
    "duration": 57,
    "start_time": "2023-03-01T16:00:49.906Z"
   },
   {
    "duration": 102,
    "start_time": "2023-03-01T16:00:49.965Z"
   },
   {
    "duration": 94,
    "start_time": "2023-03-01T16:01:16.766Z"
   },
   {
    "duration": 4,
    "start_time": "2023-03-01T16:01:47.385Z"
   },
   {
    "duration": 17,
    "start_time": "2023-03-01T16:01:50.341Z"
   },
   {
    "duration": 127,
    "start_time": "2023-03-01T16:04:24.188Z"
   },
   {
    "duration": 15,
    "start_time": "2023-03-01T16:06:00.797Z"
   },
   {
    "duration": 9,
    "start_time": "2023-03-01T16:06:06.184Z"
   },
   {
    "duration": 15,
    "start_time": "2023-03-01T16:08:05.398Z"
   },
   {
    "duration": 9,
    "start_time": "2023-03-01T16:08:35.877Z"
   },
   {
    "duration": 16,
    "start_time": "2023-03-01T16:09:03.336Z"
   },
   {
    "duration": 12,
    "start_time": "2023-03-01T16:09:54.486Z"
   },
   {
    "duration": 15,
    "start_time": "2023-03-01T16:11:35.516Z"
   },
   {
    "duration": 15,
    "start_time": "2023-03-01T16:12:02.119Z"
   },
   {
    "duration": 80,
    "start_time": "2023-03-01T16:25:07.407Z"
   },
   {
    "duration": 5,
    "start_time": "2023-03-01T16:26:58.929Z"
   },
   {
    "duration": 17,
    "start_time": "2023-03-01T16:27:02.580Z"
   },
   {
    "duration": 58,
    "start_time": "2023-03-01T16:28:23.507Z"
   },
   {
    "duration": 14,
    "start_time": "2023-03-01T16:36:19.984Z"
   },
   {
    "duration": 9,
    "start_time": "2023-03-01T16:37:16.849Z"
   },
   {
    "duration": 16,
    "start_time": "2023-03-01T16:41:04.078Z"
   },
   {
    "duration": 14,
    "start_time": "2023-03-01T16:41:38.560Z"
   },
   {
    "duration": 104,
    "start_time": "2023-03-01T16:47:16.772Z"
   },
   {
    "duration": 12,
    "start_time": "2023-03-01T16:47:49.397Z"
   },
   {
    "duration": 1689,
    "start_time": "2023-03-02T07:09:30.424Z"
   },
   {
    "duration": 173,
    "start_time": "2023-03-02T07:09:32.116Z"
   },
   {
    "duration": 13,
    "start_time": "2023-03-02T07:09:32.291Z"
   },
   {
    "duration": 18,
    "start_time": "2023-03-02T07:09:32.306Z"
   },
   {
    "duration": 13,
    "start_time": "2023-03-02T07:09:32.326Z"
   },
   {
    "duration": 7,
    "start_time": "2023-03-02T07:09:32.341Z"
   },
   {
    "duration": 9,
    "start_time": "2023-03-02T07:09:32.350Z"
   },
   {
    "duration": 19,
    "start_time": "2023-03-02T07:09:32.361Z"
   },
   {
    "duration": 30,
    "start_time": "2023-03-02T07:09:32.382Z"
   },
   {
    "duration": 14,
    "start_time": "2023-03-02T07:09:32.422Z"
   },
   {
    "duration": 16,
    "start_time": "2023-03-02T07:09:32.438Z"
   },
   {
    "duration": 35,
    "start_time": "2023-03-02T07:09:32.456Z"
   },
   {
    "duration": 43,
    "start_time": "2023-03-02T07:09:32.493Z"
   },
   {
    "duration": 5,
    "start_time": "2023-03-02T07:09:32.538Z"
   },
   {
    "duration": 49,
    "start_time": "2023-03-02T07:09:32.545Z"
   },
   {
    "duration": 13,
    "start_time": "2023-03-02T07:09:32.596Z"
   },
   {
    "duration": 21,
    "start_time": "2023-03-02T07:09:32.611Z"
   },
   {
    "duration": 39,
    "start_time": "2023-03-02T07:09:32.633Z"
   },
   {
    "duration": 84,
    "start_time": "2023-03-02T07:09:32.674Z"
   },
   {
    "duration": 8,
    "start_time": "2023-03-02T07:09:32.823Z"
   },
   {
    "duration": 100,
    "start_time": "2023-03-02T07:09:32.833Z"
   },
   {
    "duration": 66,
    "start_time": "2023-03-02T07:09:32.935Z"
   },
   {
    "duration": 48,
    "start_time": "2023-03-02T07:09:33.003Z"
   },
   {
    "duration": 84,
    "start_time": "2023-03-02T07:09:33.053Z"
   },
   {
    "duration": 51,
    "start_time": "2023-03-02T07:09:33.139Z"
   },
   {
    "duration": 39,
    "start_time": "2023-03-02T07:09:33.192Z"
   },
   {
    "duration": 36,
    "start_time": "2023-03-02T07:09:33.233Z"
   },
   {
    "duration": 106,
    "start_time": "2023-03-02T07:09:33.323Z"
   },
   {
    "duration": 126,
    "start_time": "2023-03-02T07:09:55.399Z"
   },
   {
    "duration": 90,
    "start_time": "2023-03-02T07:10:39.333Z"
   },
   {
    "duration": 14,
    "start_time": "2023-03-02T07:10:46.026Z"
   },
   {
    "duration": 1329,
    "start_time": "2023-03-02T07:11:19.198Z"
   },
   {
    "duration": 39,
    "start_time": "2023-03-02T07:11:20.529Z"
   },
   {
    "duration": 9,
    "start_time": "2023-03-02T07:11:20.569Z"
   },
   {
    "duration": 28,
    "start_time": "2023-03-02T07:11:20.580Z"
   },
   {
    "duration": 14,
    "start_time": "2023-03-02T07:11:20.610Z"
   },
   {
    "duration": 40,
    "start_time": "2023-03-02T07:11:20.626Z"
   },
   {
    "duration": 59,
    "start_time": "2023-03-02T07:11:20.667Z"
   },
   {
    "duration": 16,
    "start_time": "2023-03-02T07:11:20.728Z"
   },
   {
    "duration": 23,
    "start_time": "2023-03-02T07:11:20.746Z"
   },
   {
    "duration": 24,
    "start_time": "2023-03-02T07:11:20.772Z"
   },
   {
    "duration": 16,
    "start_time": "2023-03-02T07:11:20.798Z"
   },
   {
    "duration": 20,
    "start_time": "2023-03-02T07:11:20.816Z"
   },
   {
    "duration": 26,
    "start_time": "2023-03-02T07:11:20.838Z"
   },
   {
    "duration": 20,
    "start_time": "2023-03-02T07:11:20.866Z"
   },
   {
    "duration": 28,
    "start_time": "2023-03-02T07:11:20.887Z"
   },
   {
    "duration": 49,
    "start_time": "2023-03-02T07:11:20.917Z"
   },
   {
    "duration": 37,
    "start_time": "2023-03-02T07:11:20.968Z"
   },
   {
    "duration": 44,
    "start_time": "2023-03-02T07:11:21.006Z"
   },
   {
    "duration": 79,
    "start_time": "2023-03-02T07:11:21.052Z"
   },
   {
    "duration": 189,
    "start_time": "2023-03-02T07:11:21.132Z"
   },
   {
    "duration": 18,
    "start_time": "2023-03-02T07:11:21.323Z"
   },
   {
    "duration": 58,
    "start_time": "2023-03-02T07:11:21.343Z"
   },
   {
    "duration": 12,
    "start_time": "2023-03-02T07:11:21.403Z"
   },
   {
    "duration": 28,
    "start_time": "2023-03-02T07:11:21.416Z"
   },
   {
    "duration": 13,
    "start_time": "2023-03-02T07:11:21.446Z"
   },
   {
    "duration": 23,
    "start_time": "2023-03-02T07:11:21.460Z"
   },
   {
    "duration": 38,
    "start_time": "2023-03-02T07:11:21.484Z"
   },
   {
    "duration": 105,
    "start_time": "2023-03-02T07:11:21.527Z"
   },
   {
    "duration": 11,
    "start_time": "2023-03-02T07:11:37.876Z"
   },
   {
    "duration": 69,
    "start_time": "2023-03-02T07:11:44.154Z"
   },
   {
    "duration": 13,
    "start_time": "2023-03-02T07:12:25.051Z"
   },
   {
    "duration": 9,
    "start_time": "2023-03-02T07:12:27.106Z"
   },
   {
    "duration": 16,
    "start_time": "2023-03-02T07:12:42.051Z"
   },
   {
    "duration": 11,
    "start_time": "2023-03-02T07:12:44.868Z"
   },
   {
    "duration": 13,
    "start_time": "2023-03-02T07:12:57.216Z"
   },
   {
    "duration": 9,
    "start_time": "2023-03-02T07:12:59.919Z"
   },
   {
    "duration": 4,
    "start_time": "2023-03-02T07:14:41.309Z"
   },
   {
    "duration": 16,
    "start_time": "2023-03-02T07:14:44.238Z"
   },
   {
    "duration": 116,
    "start_time": "2023-03-02T07:14:52.442Z"
   },
   {
    "duration": 19,
    "start_time": "2023-03-02T07:16:35.560Z"
   },
   {
    "duration": 10,
    "start_time": "2023-03-02T07:16:38.191Z"
   },
   {
    "duration": 15,
    "start_time": "2023-03-02T07:17:22.783Z"
   },
   {
    "duration": 12,
    "start_time": "2023-03-02T07:17:25.265Z"
   },
   {
    "duration": 13,
    "start_time": "2023-03-02T07:18:30.038Z"
   },
   {
    "duration": 9,
    "start_time": "2023-03-02T07:18:32.431Z"
   },
   {
    "duration": 4,
    "start_time": "2023-03-02T07:21:07.204Z"
   },
   {
    "duration": 115,
    "start_time": "2023-03-02T07:21:17.488Z"
   },
   {
    "duration": 12,
    "start_time": "2023-03-02T07:21:27.827Z"
   },
   {
    "duration": 40,
    "start_time": "2023-03-02T07:21:30.855Z"
   },
   {
    "duration": 15,
    "start_time": "2023-03-02T07:23:38.378Z"
   },
   {
    "duration": 8,
    "start_time": "2023-03-02T07:23:40.634Z"
   },
   {
    "duration": 15,
    "start_time": "2023-03-02T07:26:42.878Z"
   },
   {
    "duration": 10,
    "start_time": "2023-03-02T07:26:43.998Z"
   },
   {
    "duration": 39,
    "start_time": "2023-03-02T07:29:10.483Z"
   },
   {
    "duration": 11,
    "start_time": "2023-03-02T07:29:12.249Z"
   },
   {
    "duration": 124,
    "start_time": "2023-03-02T07:40:14.099Z"
   },
   {
    "duration": 1333,
    "start_time": "2023-03-02T07:40:46.188Z"
   },
   {
    "duration": 40,
    "start_time": "2023-03-02T07:40:47.522Z"
   },
   {
    "duration": 10,
    "start_time": "2023-03-02T07:40:47.564Z"
   },
   {
    "duration": 12,
    "start_time": "2023-03-02T07:40:47.576Z"
   },
   {
    "duration": 25,
    "start_time": "2023-03-02T07:40:47.589Z"
   },
   {
    "duration": 15,
    "start_time": "2023-03-02T07:40:47.616Z"
   },
   {
    "duration": 11,
    "start_time": "2023-03-02T07:40:47.632Z"
   },
   {
    "duration": 28,
    "start_time": "2023-03-02T07:40:47.644Z"
   },
   {
    "duration": 17,
    "start_time": "2023-03-02T07:40:47.673Z"
   },
   {
    "duration": 13,
    "start_time": "2023-03-02T07:40:47.693Z"
   },
   {
    "duration": 33,
    "start_time": "2023-03-02T07:40:47.708Z"
   },
   {
    "duration": 12,
    "start_time": "2023-03-02T07:40:47.742Z"
   },
   {
    "duration": 25,
    "start_time": "2023-03-02T07:40:47.755Z"
   },
   {
    "duration": 4,
    "start_time": "2023-03-02T07:40:47.781Z"
   },
   {
    "duration": 38,
    "start_time": "2023-03-02T07:40:47.787Z"
   },
   {
    "duration": 11,
    "start_time": "2023-03-02T07:40:47.828Z"
   },
   {
    "duration": 25,
    "start_time": "2023-03-02T07:40:47.840Z"
   },
   {
    "duration": 39,
    "start_time": "2023-03-02T07:40:47.867Z"
   },
   {
    "duration": 121,
    "start_time": "2023-03-02T07:40:47.908Z"
   },
   {
    "duration": 92,
    "start_time": "2023-03-02T07:40:48.031Z"
   },
   {
    "duration": 16,
    "start_time": "2023-03-02T07:40:48.125Z"
   },
   {
    "duration": 16,
    "start_time": "2023-03-02T07:40:48.143Z"
   },
   {
    "duration": 8,
    "start_time": "2023-03-02T07:40:48.161Z"
   },
   {
    "duration": 62,
    "start_time": "2023-03-02T07:40:48.171Z"
   },
   {
    "duration": 12,
    "start_time": "2023-03-02T07:40:48.235Z"
   },
   {
    "duration": 11,
    "start_time": "2023-03-02T07:40:48.249Z"
   },
   {
    "duration": 64,
    "start_time": "2023-03-02T07:40:48.262Z"
   },
   {
    "duration": 97,
    "start_time": "2023-03-02T07:40:48.331Z"
   },
   {
    "duration": 96,
    "start_time": "2023-03-02T07:40:48.431Z"
   },
   {
    "duration": 292,
    "start_time": "2023-03-02T07:40:48.529Z"
   },
   {
    "duration": 15,
    "start_time": "2023-03-02T07:40:48.823Z"
   },
   {
    "duration": 15,
    "start_time": "2023-03-02T07:40:48.839Z"
   },
   {
    "duration": 71,
    "start_time": "2023-03-02T07:40:48.856Z"
   },
   {
    "duration": 12,
    "start_time": "2023-03-02T07:40:48.928Z"
   },
   {
    "duration": 83,
    "start_time": "2023-03-02T07:40:48.942Z"
   },
   {
    "duration": 114,
    "start_time": "2023-03-02T07:40:49.027Z"
   },
   {
    "duration": 81,
    "start_time": "2023-03-02T07:40:49.143Z"
   },
   {
    "duration": 114,
    "start_time": "2023-03-02T07:40:49.226Z"
   },
   {
    "duration": 182,
    "start_time": "2023-03-02T07:40:49.342Z"
   },
   {
    "duration": 106,
    "start_time": "2023-03-02T07:40:49.526Z"
   },
   {
    "duration": 9,
    "start_time": "2023-03-02T07:40:49.634Z"
   },
   {
    "duration": 23,
    "start_time": "2023-03-02T07:40:49.645Z"
   },
   {
    "duration": 12,
    "start_time": "2023-03-02T07:40:49.669Z"
   },
   {
    "duration": 140,
    "start_time": "2023-03-02T07:40:49.683Z"
   },
   {
    "duration": 1382,
    "start_time": "2023-03-02T07:41:42.196Z"
   },
   {
    "duration": 40,
    "start_time": "2023-03-02T07:41:43.580Z"
   },
   {
    "duration": 11,
    "start_time": "2023-03-02T07:41:43.622Z"
   },
   {
    "duration": 22,
    "start_time": "2023-03-02T07:41:43.635Z"
   },
   {
    "duration": 13,
    "start_time": "2023-03-02T07:41:43.659Z"
   },
   {
    "duration": 4,
    "start_time": "2023-03-02T07:41:43.673Z"
   },
   {
    "duration": 7,
    "start_time": "2023-03-02T07:41:43.678Z"
   },
   {
    "duration": 15,
    "start_time": "2023-03-02T07:41:43.686Z"
   },
   {
    "duration": 31,
    "start_time": "2023-03-02T07:41:43.703Z"
   },
   {
    "duration": 17,
    "start_time": "2023-03-02T07:41:43.737Z"
   },
   {
    "duration": 10,
    "start_time": "2023-03-02T07:41:43.755Z"
   },
   {
    "duration": 11,
    "start_time": "2023-03-02T07:41:43.767Z"
   },
   {
    "duration": 21,
    "start_time": "2023-03-02T07:41:43.780Z"
   },
   {
    "duration": 16,
    "start_time": "2023-03-02T07:41:43.803Z"
   },
   {
    "duration": 31,
    "start_time": "2023-03-02T07:41:43.821Z"
   },
   {
    "duration": 25,
    "start_time": "2023-03-02T07:41:43.854Z"
   },
   {
    "duration": 15,
    "start_time": "2023-03-02T07:41:43.881Z"
   },
   {
    "duration": 57,
    "start_time": "2023-03-02T07:41:43.897Z"
   },
   {
    "duration": 73,
    "start_time": "2023-03-02T07:41:43.956Z"
   },
   {
    "duration": 93,
    "start_time": "2023-03-02T07:41:44.030Z"
   },
   {
    "duration": 114,
    "start_time": "2023-03-02T07:41:44.124Z"
   },
   {
    "duration": 22,
    "start_time": "2023-03-02T07:41:44.240Z"
   },
   {
    "duration": 17,
    "start_time": "2023-03-02T07:41:44.263Z"
   },
   {
    "duration": 18,
    "start_time": "2023-03-02T07:41:44.282Z"
   },
   {
    "duration": 12,
    "start_time": "2023-03-02T07:41:44.302Z"
   },
   {
    "duration": 17,
    "start_time": "2023-03-02T07:41:44.316Z"
   },
   {
    "duration": 22,
    "start_time": "2023-03-02T07:41:44.334Z"
   },
   {
    "duration": 100,
    "start_time": "2023-03-02T07:41:44.423Z"
   },
   {
    "duration": 22,
    "start_time": "2023-03-02T07:41:44.525Z"
   },
   {
    "duration": 227,
    "start_time": "2023-03-02T07:41:44.550Z"
   },
   {
    "duration": 100,
    "start_time": "2023-03-02T07:41:44.823Z"
   },
   {
    "duration": 15,
    "start_time": "2023-03-02T07:41:44.925Z"
   },
   {
    "duration": 21,
    "start_time": "2023-03-02T07:41:44.941Z"
   },
   {
    "duration": 29,
    "start_time": "2023-03-02T07:41:44.963Z"
   },
   {
    "duration": 43,
    "start_time": "2023-03-02T07:41:44.994Z"
   },
   {
    "duration": 17,
    "start_time": "2023-03-02T07:42:21.855Z"
   },
   {
    "duration": 5,
    "start_time": "2023-03-02T07:42:43.657Z"
   },
   {
    "duration": 22,
    "start_time": "2023-03-02T07:42:45.128Z"
   },
   {
    "duration": 123,
    "start_time": "2023-03-02T07:42:52.600Z"
   },
   {
    "duration": 21,
    "start_time": "2023-03-02T07:44:01.920Z"
   },
   {
    "duration": 11,
    "start_time": "2023-03-02T07:44:04.069Z"
   },
   {
    "duration": 17,
    "start_time": "2023-03-02T07:46:06.399Z"
   },
   {
    "duration": 14,
    "start_time": "2023-03-02T07:46:08.187Z"
   },
   {
    "duration": 14,
    "start_time": "2023-03-02T07:49:12.619Z"
   },
   {
    "duration": 12,
    "start_time": "2023-03-02T07:49:14.264Z"
   },
   {
    "duration": 5,
    "start_time": "2023-03-02T07:51:21.957Z"
   },
   {
    "duration": 18,
    "start_time": "2023-03-02T07:51:23.778Z"
   },
   {
    "duration": 109,
    "start_time": "2023-03-02T07:52:48.914Z"
   },
   {
    "duration": 13,
    "start_time": "2023-03-02T07:55:30.583Z"
   },
   {
    "duration": 8,
    "start_time": "2023-03-02T07:55:31.768Z"
   },
   {
    "duration": 17,
    "start_time": "2023-03-02T07:57:10.145Z"
   },
   {
    "duration": 11,
    "start_time": "2023-03-02T07:57:11.344Z"
   },
   {
    "duration": 14,
    "start_time": "2023-03-02T08:00:37.601Z"
   },
   {
    "duration": 10,
    "start_time": "2023-03-02T08:00:40.069Z"
   },
   {
    "duration": 112,
    "start_time": "2023-03-02T08:07:00.323Z"
   },
   {
    "duration": 154,
    "start_time": "2023-03-02T08:07:14.681Z"
   },
   {
    "duration": 167,
    "start_time": "2023-03-02T08:07:38.217Z"
   },
   {
    "duration": 155,
    "start_time": "2023-03-02T08:07:43.172Z"
   },
   {
    "duration": 163,
    "start_time": "2023-03-02T08:09:52.781Z"
   },
   {
    "duration": 161,
    "start_time": "2023-03-02T08:09:59.543Z"
   },
   {
    "duration": 17,
    "start_time": "2023-03-02T08:11:44.708Z"
   },
   {
    "duration": 168,
    "start_time": "2023-03-02T08:13:09.476Z"
   },
   {
    "duration": 17,
    "start_time": "2023-03-02T08:13:53.539Z"
   },
   {
    "duration": 197,
    "start_time": "2023-03-02T08:15:20.070Z"
   },
   {
    "duration": 15,
    "start_time": "2023-03-02T08:15:37.545Z"
   },
   {
    "duration": 155,
    "start_time": "2023-03-02T08:15:54.157Z"
   },
   {
    "duration": 18,
    "start_time": "2023-03-02T08:15:59.004Z"
   },
   {
    "duration": 162,
    "start_time": "2023-03-02T08:17:55.106Z"
   },
   {
    "duration": 16,
    "start_time": "2023-03-02T08:18:01.776Z"
   },
   {
    "duration": 163,
    "start_time": "2023-03-02T08:18:27.459Z"
   },
   {
    "duration": 19,
    "start_time": "2023-03-02T08:18:30.672Z"
   },
   {
    "duration": 480,
    "start_time": "2023-03-02T08:18:50.809Z"
   },
   {
    "duration": 20,
    "start_time": "2023-03-02T08:19:01.441Z"
   },
   {
    "duration": 477,
    "start_time": "2023-03-02T08:19:19.829Z"
   },
   {
    "duration": 20,
    "start_time": "2023-03-02T08:19:27.764Z"
   },
   {
    "duration": 483,
    "start_time": "2023-03-02T08:19:48.222Z"
   },
   {
    "duration": 21,
    "start_time": "2023-03-02T08:19:51.742Z"
   },
   {
    "duration": 953,
    "start_time": "2023-03-02T08:21:31.728Z"
   },
   {
    "duration": 943,
    "start_time": "2023-03-02T08:22:39.053Z"
   },
   {
    "duration": 19,
    "start_time": "2023-03-02T08:22:57.514Z"
   },
   {
    "duration": 876,
    "start_time": "2023-03-02T08:25:07.156Z"
   },
   {
    "duration": 20,
    "start_time": "2023-03-02T08:25:13.801Z"
   },
   {
    "duration": 489,
    "start_time": "2023-03-02T08:25:49.201Z"
   },
   {
    "duration": 19,
    "start_time": "2023-03-02T08:26:04.851Z"
   },
   {
    "duration": 4298,
    "start_time": "2023-03-02T08:27:04.573Z"
   },
   {
    "duration": 15,
    "start_time": "2023-03-02T08:27:21.232Z"
   },
   {
    "duration": 4277,
    "start_time": "2023-03-02T08:27:47.663Z"
   },
   {
    "duration": 16,
    "start_time": "2023-03-02T08:28:13.748Z"
   },
   {
    "duration": 10,
    "start_time": "2023-03-02T08:29:04.514Z"
   },
   {
    "duration": 4152,
    "start_time": "2023-03-02T08:29:08.061Z"
   },
   {
    "duration": 10,
    "start_time": "2023-03-02T08:29:17.516Z"
   },
   {
    "duration": 4761,
    "start_time": "2023-03-02T08:31:51.355Z"
   },
   {
    "duration": 41472,
    "start_time": "2023-03-02T08:33:00.826Z"
   },
   {
    "duration": 16,
    "start_time": "2023-03-02T08:34:02.425Z"
   },
   {
    "duration": 56709,
    "start_time": "2023-03-02T08:43:12.046Z"
   },
   {
    "duration": 56978,
    "start_time": "2023-03-02T08:54:09.805Z"
   },
   {
    "duration": 90,
    "start_time": "2023-03-02T09:05:12.746Z"
   },
   {
    "duration": 1333,
    "start_time": "2023-03-02T09:07:26.693Z"
   },
   {
    "duration": 37,
    "start_time": "2023-03-02T09:07:28.028Z"
   },
   {
    "duration": 8,
    "start_time": "2023-03-02T09:07:28.067Z"
   },
   {
    "duration": 14,
    "start_time": "2023-03-02T09:07:28.077Z"
   },
   {
    "duration": 12,
    "start_time": "2023-03-02T09:07:28.092Z"
   },
   {
    "duration": 5,
    "start_time": "2023-03-02T09:07:28.105Z"
   },
   {
    "duration": 8,
    "start_time": "2023-03-02T09:07:28.113Z"
   },
   {
    "duration": 17,
    "start_time": "2023-03-02T09:07:28.122Z"
   },
   {
    "duration": 14,
    "start_time": "2023-03-02T09:07:28.141Z"
   },
   {
    "duration": 10,
    "start_time": "2023-03-02T09:07:28.157Z"
   },
   {
    "duration": 15,
    "start_time": "2023-03-02T09:07:28.168Z"
   },
   {
    "duration": 7,
    "start_time": "2023-03-02T09:07:28.185Z"
   },
   {
    "duration": 18,
    "start_time": "2023-03-02T09:07:28.193Z"
   },
   {
    "duration": 10,
    "start_time": "2023-03-02T09:07:28.213Z"
   },
   {
    "duration": 21,
    "start_time": "2023-03-02T09:07:28.224Z"
   },
   {
    "duration": 9,
    "start_time": "2023-03-02T09:07:28.246Z"
   },
   {
    "duration": 9,
    "start_time": "2023-03-02T09:07:28.257Z"
   },
   {
    "duration": 54,
    "start_time": "2023-03-02T09:07:28.268Z"
   },
   {
    "duration": 106,
    "start_time": "2023-03-02T09:07:28.323Z"
   },
   {
    "duration": 97,
    "start_time": "2023-03-02T09:07:28.431Z"
   },
   {
    "duration": 26,
    "start_time": "2023-03-02T09:07:28.529Z"
   },
   {
    "duration": 12,
    "start_time": "2023-03-02T09:07:28.557Z"
   },
   {
    "duration": 8,
    "start_time": "2023-03-02T09:07:28.571Z"
   },
   {
    "duration": 12,
    "start_time": "2023-03-02T09:07:28.581Z"
   },
   {
    "duration": 35,
    "start_time": "2023-03-02T09:07:28.594Z"
   },
   {
    "duration": 10,
    "start_time": "2023-03-02T09:07:28.630Z"
   },
   {
    "duration": 81,
    "start_time": "2023-03-02T09:07:28.642Z"
   },
   {
    "duration": 100,
    "start_time": "2023-03-02T09:07:28.727Z"
   },
   {
    "duration": 8,
    "start_time": "2023-03-02T09:07:28.829Z"
   },
   {
    "duration": 234,
    "start_time": "2023-03-02T09:07:28.839Z"
   },
   {
    "duration": 150,
    "start_time": "2023-03-02T09:07:29.074Z"
   },
   {
    "duration": 16,
    "start_time": "2023-03-02T09:07:29.226Z"
   },
   {
    "duration": 27,
    "start_time": "2023-03-02T09:07:29.243Z"
   },
   {
    "duration": 10,
    "start_time": "2023-03-02T09:07:29.271Z"
   },
   {
    "duration": 57,
    "start_time": "2023-03-02T09:07:29.282Z"
   },
   {
    "duration": 16,
    "start_time": "2023-03-02T09:07:29.423Z"
   },
   {
    "duration": 184,
    "start_time": "2023-03-02T09:07:29.444Z"
   },
   {
    "duration": 32,
    "start_time": "2023-03-02T09:07:29.630Z"
   },
   {
    "duration": 100,
    "start_time": "2023-03-02T09:07:29.664Z"
   },
   {
    "duration": 156,
    "start_time": "2023-03-02T09:07:29.767Z"
   },
   {
    "duration": 8,
    "start_time": "2023-03-02T09:07:29.925Z"
   },
   {
    "duration": 23,
    "start_time": "2023-03-02T09:07:29.934Z"
   },
   {
    "duration": 15,
    "start_time": "2023-03-02T09:07:29.958Z"
   },
   {
    "duration": 51,
    "start_time": "2023-03-02T09:07:29.975Z"
   },
   {
    "duration": 111,
    "start_time": "2023-03-02T09:07:30.028Z"
   },
   {
    "duration": 85,
    "start_time": "2023-03-02T09:07:30.140Z"
   },
   {
    "duration": 105,
    "start_time": "2023-03-02T09:07:30.227Z"
   },
   {
    "duration": 66,
    "start_time": "2023-03-02T09:07:30.333Z"
   },
   {
    "duration": 133,
    "start_time": "2023-03-02T09:07:30.400Z"
   },
   {
    "duration": 38,
    "start_time": "2023-03-02T09:07:30.534Z"
   },
   {
    "duration": 70,
    "start_time": "2023-03-02T09:07:30.573Z"
   },
   {
    "duration": 35,
    "start_time": "2023-03-02T09:07:30.645Z"
   },
   {
    "duration": 57,
    "start_time": "2023-03-02T09:07:30.682Z"
   },
   {
    "duration": 210,
    "start_time": "2023-03-02T09:07:30.741Z"
   },
   {
    "duration": 55640,
    "start_time": "2023-03-02T09:09:21.849Z"
   },
   {
    "duration": 94,
    "start_time": "2023-03-02T09:10:51.903Z"
   },
   {
    "duration": 18,
    "start_time": "2023-03-02T09:11:13.256Z"
   },
   {
    "duration": 24,
    "start_time": "2023-03-02T09:11:33.639Z"
   },
   {
    "duration": 101,
    "start_time": "2023-03-02T09:12:49.987Z"
   },
   {
    "duration": 24,
    "start_time": "2023-03-02T09:14:56.658Z"
   },
   {
    "duration": 56202,
    "start_time": "2023-03-02T09:16:14.851Z"
   },
   {
    "duration": 10,
    "start_time": "2023-03-02T09:49:47.579Z"
   },
   {
    "duration": 33,
    "start_time": "2023-03-02T09:52:48.026Z"
   },
   {
    "duration": 1294,
    "start_time": "2023-03-02T09:55:31.854Z"
   },
   {
    "duration": 37,
    "start_time": "2023-03-02T09:55:33.150Z"
   },
   {
    "duration": 8,
    "start_time": "2023-03-02T09:55:33.189Z"
   },
   {
    "duration": 22,
    "start_time": "2023-03-02T09:55:33.199Z"
   },
   {
    "duration": 13,
    "start_time": "2023-03-02T09:55:33.222Z"
   },
   {
    "duration": 3,
    "start_time": "2023-03-02T09:55:33.236Z"
   },
   {
    "duration": 8,
    "start_time": "2023-03-02T09:55:33.240Z"
   },
   {
    "duration": 36,
    "start_time": "2023-03-02T09:55:33.250Z"
   },
   {
    "duration": 54,
    "start_time": "2023-03-02T09:55:33.287Z"
   },
   {
    "duration": 16,
    "start_time": "2023-03-02T09:55:33.344Z"
   },
   {
    "duration": 30,
    "start_time": "2023-03-02T09:55:33.361Z"
   },
   {
    "duration": 12,
    "start_time": "2023-03-02T09:55:33.393Z"
   },
   {
    "duration": 20,
    "start_time": "2023-03-02T09:55:33.407Z"
   },
   {
    "duration": 4,
    "start_time": "2023-03-02T09:55:33.429Z"
   },
   {
    "duration": 38,
    "start_time": "2023-03-02T09:55:33.435Z"
   },
   {
    "duration": 10,
    "start_time": "2023-03-02T09:55:33.475Z"
   },
   {
    "duration": 18,
    "start_time": "2023-03-02T09:55:33.486Z"
   },
   {
    "duration": 65,
    "start_time": "2023-03-02T09:55:33.505Z"
   },
   {
    "duration": 69,
    "start_time": "2023-03-02T09:55:33.571Z"
   },
   {
    "duration": 100,
    "start_time": "2023-03-02T09:55:33.723Z"
   },
   {
    "duration": 12,
    "start_time": "2023-03-02T09:55:33.825Z"
   },
   {
    "duration": 16,
    "start_time": "2023-03-02T09:55:33.838Z"
   },
   {
    "duration": 8,
    "start_time": "2023-03-02T09:55:33.856Z"
   },
   {
    "duration": 29,
    "start_time": "2023-03-02T09:55:33.867Z"
   },
   {
    "duration": 30,
    "start_time": "2023-03-02T09:55:33.898Z"
   },
   {
    "duration": 12,
    "start_time": "2023-03-02T09:55:33.930Z"
   },
   {
    "duration": 17,
    "start_time": "2023-03-02T09:55:33.944Z"
   },
   {
    "duration": 11,
    "start_time": "2023-03-02T09:55:34.025Z"
   },
   {
    "duration": 10,
    "start_time": "2023-03-02T09:55:34.123Z"
   },
   {
    "duration": 235,
    "start_time": "2023-03-02T09:55:34.135Z"
   },
   {
    "duration": 151,
    "start_time": "2023-03-02T09:55:34.372Z"
   },
   {
    "duration": 15,
    "start_time": "2023-03-02T09:55:34.524Z"
   },
   {
    "duration": 14,
    "start_time": "2023-03-02T09:55:34.540Z"
   },
   {
    "duration": 9,
    "start_time": "2023-03-02T09:55:34.556Z"
   },
   {
    "duration": 63,
    "start_time": "2023-03-02T09:55:34.566Z"
   },
   {
    "duration": 99,
    "start_time": "2023-03-02T09:55:34.631Z"
   },
   {
    "duration": 92,
    "start_time": "2023-03-02T09:55:34.732Z"
   },
   {
    "duration": 108,
    "start_time": "2023-03-02T09:55:34.826Z"
   },
   {
    "duration": 117,
    "start_time": "2023-03-02T09:55:34.935Z"
   },
   {
    "duration": 103,
    "start_time": "2023-03-02T09:55:35.121Z"
   },
   {
    "duration": 10,
    "start_time": "2023-03-02T09:55:35.225Z"
   },
   {
    "duration": 21,
    "start_time": "2023-03-02T09:55:35.236Z"
   },
   {
    "duration": 19,
    "start_time": "2023-03-02T09:55:35.258Z"
   },
   {
    "duration": 46,
    "start_time": "2023-03-02T09:55:35.279Z"
   },
   {
    "duration": 112,
    "start_time": "2023-03-02T09:55:35.327Z"
   },
   {
    "duration": 11,
    "start_time": "2023-03-02T09:55:35.523Z"
   },
   {
    "duration": 34,
    "start_time": "2023-03-02T09:55:35.536Z"
   },
   {
    "duration": 69,
    "start_time": "2023-03-02T09:55:35.572Z"
   },
   {
    "duration": 105,
    "start_time": "2023-03-02T09:55:35.725Z"
   },
   {
    "duration": 8,
    "start_time": "2023-03-02T09:55:35.832Z"
   },
   {
    "duration": 18,
    "start_time": "2023-03-02T09:55:35.841Z"
   },
   {
    "duration": 10,
    "start_time": "2023-03-02T09:55:35.861Z"
   },
   {
    "duration": 57,
    "start_time": "2023-03-02T09:55:35.872Z"
   },
   {
    "duration": 102,
    "start_time": "2023-03-02T09:55:35.930Z"
   },
   {
    "duration": 56112,
    "start_time": "2023-03-02T10:03:42.010Z"
   },
   {
    "duration": 34,
    "start_time": "2023-03-02T10:05:25.275Z"
   },
   {
    "duration": 6,
    "start_time": "2023-03-02T10:18:14.038Z"
   },
   {
    "duration": 10,
    "start_time": "2023-03-02T10:18:17.200Z"
   },
   {
    "duration": 15,
    "start_time": "2023-03-02T10:21:44.691Z"
   },
   {
    "duration": 15,
    "start_time": "2023-03-02T10:22:31.438Z"
   },
   {
    "duration": 8,
    "start_time": "2023-03-02T10:25:25.564Z"
   },
   {
    "duration": 15,
    "start_time": "2023-03-02T10:25:39.635Z"
   },
   {
    "duration": 14,
    "start_time": "2023-03-02T10:25:48.433Z"
   },
   {
    "duration": 13,
    "start_time": "2023-03-02T10:26:32.031Z"
   },
   {
    "duration": 5,
    "start_time": "2023-03-02T10:31:17.691Z"
   },
   {
    "duration": 115,
    "start_time": "2023-03-02T10:33:06.510Z"
   },
   {
    "duration": 10,
    "start_time": "2023-03-02T10:34:02.435Z"
   },
   {
    "duration": 9,
    "start_time": "2023-03-02T10:35:49.535Z"
   },
   {
    "duration": 6,
    "start_time": "2023-03-02T12:04:58.831Z"
   },
   {
    "duration": 4,
    "start_time": "2023-03-02T12:06:18.995Z"
   },
   {
    "duration": 58,
    "start_time": "2023-03-02T12:06:19.006Z"
   },
   {
    "duration": 8,
    "start_time": "2023-03-02T12:06:19.066Z"
   },
   {
    "duration": 28,
    "start_time": "2023-03-02T12:06:19.076Z"
   },
   {
    "duration": 25,
    "start_time": "2023-03-02T12:06:19.106Z"
   },
   {
    "duration": 5,
    "start_time": "2023-03-02T12:06:24.630Z"
   },
   {
    "duration": 4,
    "start_time": "2023-03-02T12:06:53.346Z"
   },
   {
    "duration": 11,
    "start_time": "2023-03-02T12:07:02.691Z"
   },
   {
    "duration": 13,
    "start_time": "2023-03-02T12:07:08.583Z"
   },
   {
    "duration": 9,
    "start_time": "2023-03-02T12:07:12.569Z"
   },
   {
    "duration": 7,
    "start_time": "2023-03-02T12:07:14.128Z"
   },
   {
    "duration": 4,
    "start_time": "2023-03-02T12:07:15.501Z"
   },
   {
    "duration": 24,
    "start_time": "2023-03-02T12:07:17.447Z"
   },
   {
    "duration": 3,
    "start_time": "2023-03-02T12:08:22.388Z"
   },
   {
    "duration": 21,
    "start_time": "2023-03-02T12:08:24.844Z"
   },
   {
    "duration": 11,
    "start_time": "2023-03-02T12:08:35.901Z"
   },
   {
    "duration": 10,
    "start_time": "2023-03-02T12:08:39.581Z"
   },
   {
    "duration": 38,
    "start_time": "2023-03-02T12:08:44.052Z"
   },
   {
    "duration": 76,
    "start_time": "2023-03-02T12:09:47.327Z"
   },
   {
    "duration": 78,
    "start_time": "2023-03-02T12:09:58.418Z"
   },
   {
    "duration": 43,
    "start_time": "2023-03-02T12:10:03.988Z"
   },
   {
    "duration": 32,
    "start_time": "2023-03-02T12:10:29.574Z"
   },
   {
    "duration": 68,
    "start_time": "2023-03-02T12:12:09.613Z"
   },
   {
    "duration": 9,
    "start_time": "2023-03-02T12:12:45.492Z"
   },
   {
    "duration": 85,
    "start_time": "2023-03-02T12:39:55.290Z"
   },
   {
    "duration": 521,
    "start_time": "2023-03-02T12:40:12.434Z"
   },
   {
    "duration": 308,
    "start_time": "2023-03-02T12:41:42.465Z"
   },
   {
    "duration": 9,
    "start_time": "2023-03-02T12:42:51.700Z"
   },
   {
    "duration": 298,
    "start_time": "2023-03-02T12:44:47.406Z"
   },
   {
    "duration": 9,
    "start_time": "2023-03-02T12:45:00.999Z"
   },
   {
    "duration": 55139,
    "start_time": "2023-03-02T12:56:01.225Z"
   },
   {
    "duration": 20,
    "start_time": "2023-03-02T12:57:11.786Z"
   },
   {
    "duration": 8,
    "start_time": "2023-03-02T13:09:06.397Z"
   },
   {
    "duration": 7,
    "start_time": "2023-03-02T13:09:54.962Z"
   },
   {
    "duration": 45,
    "start_time": "2023-03-02T13:17:29.010Z"
   },
   {
    "duration": 6,
    "start_time": "2023-03-02T13:17:36.749Z"
   },
   {
    "duration": 7,
    "start_time": "2023-03-02T13:21:01.816Z"
   },
   {
    "duration": 335,
    "start_time": "2023-03-02T13:52:48.840Z"
   },
   {
    "duration": 58915,
    "start_time": "2023-03-02T13:56:05.236Z"
   },
   {
    "duration": 29,
    "start_time": "2023-03-02T14:00:06.799Z"
   },
   {
    "duration": 3,
    "start_time": "2023-03-02T14:10:38.116Z"
   },
   {
    "duration": 25,
    "start_time": "2023-03-02T14:10:44.240Z"
   },
   {
    "duration": 503,
    "start_time": "2023-03-02T14:24:01.634Z"
   },
   {
    "duration": 94605,
    "start_time": "2023-03-02T14:32:56.943Z"
   },
   {
    "duration": 198,
    "start_time": "2023-03-02T14:40:41.171Z"
   },
   {
    "duration": 85,
    "start_time": "2023-03-02T14:44:22.979Z"
   },
   {
    "duration": 69,
    "start_time": "2023-03-02T14:44:41.003Z"
   },
   {
    "duration": 51,
    "start_time": "2023-03-02T14:46:01.717Z"
   },
   {
    "duration": 37,
    "start_time": "2023-03-02T14:46:10.749Z"
   },
   {
    "duration": 103,
    "start_time": "2023-03-02T14:47:22.054Z"
   },
   {
    "duration": 4,
    "start_time": "2023-03-02T14:55:10.187Z"
   },
   {
    "duration": 13,
    "start_time": "2023-03-02T14:55:13.102Z"
   },
   {
    "duration": 177,
    "start_time": "2023-03-02T14:58:20.300Z"
   },
   {
    "duration": 45692,
    "start_time": "2023-03-02T15:03:23.298Z"
   },
   {
    "duration": 19,
    "start_time": "2023-03-02T15:08:06.967Z"
   },
   {
    "duration": 20,
    "start_time": "2023-03-02T15:08:24.176Z"
   },
   {
    "duration": 85,
    "start_time": "2023-03-02T15:17:48.910Z"
   },
   {
    "duration": 56787,
    "start_time": "2023-03-02T15:21:04.387Z"
   },
   {
    "duration": 1366,
    "start_time": "2023-03-02T15:25:07.523Z"
   },
   {
    "duration": 38,
    "start_time": "2023-03-02T15:25:08.891Z"
   },
   {
    "duration": 8,
    "start_time": "2023-03-02T15:25:08.931Z"
   },
   {
    "duration": 30,
    "start_time": "2023-03-02T15:25:08.941Z"
   },
   {
    "duration": 35,
    "start_time": "2023-03-02T15:25:08.972Z"
   },
   {
    "duration": 6,
    "start_time": "2023-03-02T15:25:09.009Z"
   },
   {
    "duration": 17,
    "start_time": "2023-03-02T15:25:09.017Z"
   },
   {
    "duration": 40,
    "start_time": "2023-03-02T15:25:09.036Z"
   },
   {
    "duration": 29,
    "start_time": "2023-03-02T15:25:09.077Z"
   },
   {
    "duration": 23,
    "start_time": "2023-03-02T15:25:09.108Z"
   },
   {
    "duration": 34,
    "start_time": "2023-03-02T15:25:09.132Z"
   },
   {
    "duration": 15,
    "start_time": "2023-03-02T15:25:09.168Z"
   },
   {
    "duration": 39,
    "start_time": "2023-03-02T15:25:09.184Z"
   },
   {
    "duration": 9,
    "start_time": "2023-03-02T15:25:09.224Z"
   },
   {
    "duration": 50,
    "start_time": "2023-03-02T15:25:09.235Z"
   },
   {
    "duration": 16,
    "start_time": "2023-03-02T15:25:09.287Z"
   },
   {
    "duration": 20,
    "start_time": "2023-03-02T15:25:09.304Z"
   },
   {
    "duration": 57,
    "start_time": "2023-03-02T15:25:09.325Z"
   },
   {
    "duration": 328,
    "start_time": "2023-03-02T15:25:09.384Z"
   },
   {
    "duration": 7,
    "start_time": "2023-03-02T15:25:09.714Z"
   },
   {
    "duration": 58646,
    "start_time": "2023-03-02T15:25:09.722Z"
   },
   {
    "duration": 7,
    "start_time": "2023-03-02T15:26:08.370Z"
   },
   {
    "duration": 93,
    "start_time": "2023-03-02T15:26:08.378Z"
   },
   {
    "duration": 93,
    "start_time": "2023-03-02T15:26:08.473Z"
   },
   {
    "duration": 92,
    "start_time": "2023-03-02T15:26:08.568Z"
   },
   {
    "duration": 100,
    "start_time": "2023-03-02T15:26:08.662Z"
   },
   {
    "duration": 444,
    "start_time": "2023-03-02T15:26:08.764Z"
   },
   {
    "duration": 60033,
    "start_time": "2023-03-02T15:26:09.211Z"
   },
   {
    "duration": 113,
    "start_time": "2023-03-02T15:27:09.246Z"
   },
   {
    "duration": 8,
    "start_time": "2023-03-02T15:27:09.362Z"
   },
   {
    "duration": 103,
    "start_time": "2023-03-02T15:27:09.372Z"
   },
   {
    "duration": 549,
    "start_time": "2023-03-02T15:27:09.477Z"
   },
   {
    "duration": 96859,
    "start_time": "2023-03-02T15:27:10.028Z"
   },
   {
    "duration": 78,
    "start_time": "2023-03-02T15:28:46.888Z"
   },
   {
    "duration": 7,
    "start_time": "2023-03-02T15:28:46.969Z"
   },
   {
    "duration": 16,
    "start_time": "2023-03-02T15:28:47.060Z"
   },
   {
    "duration": 262,
    "start_time": "2023-03-02T15:28:47.078Z"
   },
   {
    "duration": 44924,
    "start_time": "2023-03-02T15:28:47.341Z"
   },
   {
    "duration": 21,
    "start_time": "2023-03-02T15:29:32.267Z"
   },
   {
    "duration": 1382,
    "start_time": "2023-03-02T15:31:13.187Z"
   },
   {
    "duration": 41,
    "start_time": "2023-03-02T15:31:14.571Z"
   },
   {
    "duration": 9,
    "start_time": "2023-03-02T15:31:14.613Z"
   },
   {
    "duration": 15,
    "start_time": "2023-03-02T15:31:14.624Z"
   },
   {
    "duration": 25,
    "start_time": "2023-03-02T15:31:14.641Z"
   },
   {
    "duration": 4,
    "start_time": "2023-03-02T15:31:14.668Z"
   },
   {
    "duration": 31,
    "start_time": "2023-03-02T15:31:14.673Z"
   },
   {
    "duration": 25,
    "start_time": "2023-03-02T15:31:14.706Z"
   },
   {
    "duration": 14,
    "start_time": "2023-03-02T15:31:14.733Z"
   },
   {
    "duration": 11,
    "start_time": "2023-03-02T15:31:14.749Z"
   },
   {
    "duration": 5,
    "start_time": "2023-03-02T15:31:14.770Z"
   },
   {
    "duration": 10,
    "start_time": "2023-03-02T15:31:14.777Z"
   },
   {
    "duration": 34,
    "start_time": "2023-03-02T15:31:14.788Z"
   },
   {
    "duration": 3,
    "start_time": "2023-03-02T15:31:14.823Z"
   },
   {
    "duration": 22,
    "start_time": "2023-03-02T15:31:14.828Z"
   },
   {
    "duration": 18,
    "start_time": "2023-03-02T15:31:14.851Z"
   },
   {
    "duration": 28,
    "start_time": "2023-03-02T15:31:14.871Z"
   },
   {
    "duration": 49,
    "start_time": "2023-03-02T15:31:14.901Z"
   },
   {
    "duration": 354,
    "start_time": "2023-03-02T15:31:14.951Z"
   },
   {
    "duration": 7,
    "start_time": "2023-03-02T15:31:15.307Z"
   },
   {
    "duration": 57843,
    "start_time": "2023-03-02T15:31:15.316Z"
   },
   {
    "duration": 12,
    "start_time": "2023-03-02T15:32:13.160Z"
   },
   {
    "duration": 88,
    "start_time": "2023-03-02T15:32:13.174Z"
   },
   {
    "duration": 8,
    "start_time": "2023-03-02T15:32:13.266Z"
   },
   {
    "duration": 9,
    "start_time": "2023-03-02T15:32:38.067Z"
   },
   {
    "duration": 4,
    "start_time": "2023-03-02T15:33:00.277Z"
   },
   {
    "duration": 64,
    "start_time": "2023-03-02T15:33:00.285Z"
   },
   {
    "duration": 16,
    "start_time": "2023-03-02T15:33:00.351Z"
   },
   {
    "duration": 19,
    "start_time": "2023-03-02T15:33:00.369Z"
   },
   {
    "duration": 24,
    "start_time": "2023-03-02T15:33:00.391Z"
   },
   {
    "duration": 18,
    "start_time": "2023-03-02T15:33:00.417Z"
   },
   {
    "duration": 32,
    "start_time": "2023-03-02T15:33:00.437Z"
   },
   {
    "duration": 106,
    "start_time": "2023-03-02T15:33:00.470Z"
   },
   {
    "duration": 113,
    "start_time": "2023-03-02T15:33:00.578Z"
   },
   {
    "duration": 77,
    "start_time": "2023-03-02T15:33:00.693Z"
   },
   {
    "duration": 66,
    "start_time": "2023-03-02T15:33:00.773Z"
   },
   {
    "duration": 73,
    "start_time": "2023-03-02T15:33:00.841Z"
   },
   {
    "duration": 74,
    "start_time": "2023-03-02T15:33:00.916Z"
   },
   {
    "duration": 40,
    "start_time": "2023-03-02T15:33:00.991Z"
   },
   {
    "duration": 91,
    "start_time": "2023-03-02T15:33:01.033Z"
   },
   {
    "duration": 39,
    "start_time": "2023-03-02T15:33:01.126Z"
   },
   {
    "duration": 21,
    "start_time": "2023-03-02T15:33:01.167Z"
   },
   {
    "duration": 80,
    "start_time": "2023-03-02T15:33:01.190Z"
   },
   {
    "duration": 332,
    "start_time": "2023-03-02T15:33:01.272Z"
   },
   {
    "duration": 7,
    "start_time": "2023-03-02T15:33:01.606Z"
   },
   {
    "duration": 58886,
    "start_time": "2023-03-02T15:33:01.614Z"
   },
   {
    "duration": 8,
    "start_time": "2023-03-02T15:34:00.502Z"
   },
   {
    "duration": 71,
    "start_time": "2023-03-02T15:34:00.512Z"
   },
   {
    "duration": 12,
    "start_time": "2023-03-02T15:34:00.656Z"
   },
   {
    "duration": 115,
    "start_time": "2023-03-02T15:34:00.670Z"
   },
   {
    "duration": 385,
    "start_time": "2023-03-02T15:34:00.787Z"
   },
   {
    "duration": 62595,
    "start_time": "2023-03-02T15:34:01.173Z"
   },
   {
    "duration": 90,
    "start_time": "2023-03-02T15:35:03.770Z"
   },
   {
    "duration": 4,
    "start_time": "2023-03-02T15:36:11.988Z"
   },
   {
    "duration": 16,
    "start_time": "2023-03-02T15:36:20.867Z"
   },
   {
    "duration": 500,
    "start_time": "2023-03-02T15:36:40.632Z"
   },
   {
    "duration": 96425,
    "start_time": "2023-03-02T15:36:56.371Z"
   },
   {
    "duration": 65,
    "start_time": "2023-03-02T15:39:29.002Z"
   },
   {
    "duration": 4,
    "start_time": "2023-03-02T15:40:52.517Z"
   },
   {
    "duration": 17,
    "start_time": "2023-03-02T15:40:55.045Z"
   },
   {
    "duration": 191,
    "start_time": "2023-03-02T15:40:59.588Z"
   },
   {
    "duration": 42107,
    "start_time": "2023-03-02T15:41:22.737Z"
   },
   {
    "duration": 28,
    "start_time": "2023-03-02T15:42:26.935Z"
   },
   {
    "duration": 67,
    "start_time": "2023-03-02T15:46:29.603Z"
   },
   {
    "duration": 38,
    "start_time": "2023-03-02T15:50:07.623Z"
   },
   {
    "duration": 6,
    "start_time": "2023-03-02T15:50:27.664Z"
   },
   {
    "duration": 10,
    "start_time": "2023-03-02T15:50:50.667Z"
   },
   {
    "duration": 1708,
    "start_time": "2023-03-03T08:46:59.009Z"
   },
   {
    "duration": 168,
    "start_time": "2023-03-03T08:47:00.720Z"
   },
   {
    "duration": 14,
    "start_time": "2023-03-03T08:47:00.890Z"
   },
   {
    "duration": 37,
    "start_time": "2023-03-03T08:47:00.907Z"
   },
   {
    "duration": 34,
    "start_time": "2023-03-03T08:47:00.945Z"
   },
   {
    "duration": 26,
    "start_time": "2023-03-03T08:47:00.981Z"
   },
   {
    "duration": 18,
    "start_time": "2023-03-03T08:47:01.009Z"
   },
   {
    "duration": 34,
    "start_time": "2023-03-03T08:47:01.029Z"
   },
   {
    "duration": 38,
    "start_time": "2023-03-03T08:47:01.065Z"
   },
   {
    "duration": 24,
    "start_time": "2023-03-03T08:47:01.107Z"
   },
   {
    "duration": 35,
    "start_time": "2023-03-03T08:47:01.133Z"
   },
   {
    "duration": 26,
    "start_time": "2023-03-03T08:47:01.170Z"
   },
   {
    "duration": 55,
    "start_time": "2023-03-03T08:47:01.198Z"
   },
   {
    "duration": 19,
    "start_time": "2023-03-03T08:47:01.255Z"
   },
   {
    "duration": 60,
    "start_time": "2023-03-03T08:47:01.276Z"
   },
   {
    "duration": 16,
    "start_time": "2023-03-03T08:47:01.338Z"
   },
   {
    "duration": 32,
    "start_time": "2023-03-03T08:47:01.356Z"
   },
   {
    "duration": 76,
    "start_time": "2023-03-03T08:47:01.390Z"
   },
   {
    "duration": 378,
    "start_time": "2023-03-03T08:47:01.468Z"
   },
   {
    "duration": 10,
    "start_time": "2023-03-03T08:47:01.848Z"
   },
   {
    "duration": 61825,
    "start_time": "2023-03-03T08:47:01.860Z"
   },
   {
    "duration": 6,
    "start_time": "2023-03-03T08:48:03.687Z"
   },
   {
    "duration": 118,
    "start_time": "2023-03-03T08:48:03.695Z"
   },
   {
    "duration": 11,
    "start_time": "2023-03-03T08:48:03.815Z"
   },
   {
    "duration": 90,
    "start_time": "2023-03-03T08:48:03.831Z"
   },
   {
    "duration": 397,
    "start_time": "2023-03-03T08:48:03.926Z"
   },
   {
    "duration": 66072,
    "start_time": "2023-03-03T08:48:04.327Z"
   },
   {
    "duration": 110,
    "start_time": "2023-03-03T08:49:10.402Z"
   },
   {
    "duration": 126,
    "start_time": "2023-03-03T08:49:17.412Z"
   },
   {
    "duration": 5,
    "start_time": "2023-03-03T08:49:31.766Z"
   },
   {
    "duration": 15,
    "start_time": "2023-03-03T08:49:36.185Z"
   },
   {
    "duration": 454,
    "start_time": "2023-03-03T08:49:40.960Z"
   },
   {
    "duration": 81010,
    "start_time": "2023-03-03T08:51:58.734Z"
   },
   {
    "duration": 126,
    "start_time": "2023-03-03T08:54:05.987Z"
   }
  ],
  "kernelspec": {
   "display_name": "Python 3 (ipykernel)",
   "language": "python",
   "name": "python3"
  },
  "language_info": {
   "codemirror_mode": {
    "name": "ipython",
    "version": 3
   },
   "file_extension": ".py",
   "mimetype": "text/x-python",
   "name": "python",
   "nbconvert_exporter": "python",
   "pygments_lexer": "ipython3",
   "version": "3.9.13"
  },
  "toc": {
   "base_numbering": 1,
   "nav_menu": {
    "height": "408px",
    "width": "423px"
   },
   "number_sections": true,
   "sideBar": true,
   "skip_h1_title": true,
   "title_cell": "Содержание",
   "title_sidebar": "Contents",
   "toc_cell": true,
   "toc_position": {
    "height": "calc(100% - 180px)",
    "left": "10px",
    "top": "150px",
    "width": "255.4px"
   },
   "toc_section_display": true,
   "toc_window_display": true
  }
 },
 "nbformat": 4,
 "nbformat_minor": 2
}
