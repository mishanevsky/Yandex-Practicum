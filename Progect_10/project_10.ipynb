{
 "cells": [
  {
   "cell_type": "markdown",
   "metadata": {},
   "source": [
    "# Рекомендация тарифов"
   ]
  },
  {
   "cell_type": "markdown",
   "metadata": {},
   "source": [
    "В вашем распоряжении данные о поведении клиентов, которые уже перешли на эти тарифы (из проекта курса «Статистический анализ данных»). Нужно построить модель для задачи классификации, которая выберет подходящий тариф. Предобработка данных не понадобится — вы её уже сделали.\n",
    "\n",
    "Постройте модель с максимально большим значением *accuracy*. Чтобы сдать проект успешно, нужно довести долю правильных ответов по крайней мере до 0.75. Проверьте *accuracy* на тестовой выборке самостоятельно."
   ]
  },
  {
   "cell_type": "markdown",
   "metadata": {},
   "source": [
    "## Откройте и изучите файл"
   ]
  },
  {
   "cell_type": "code",
   "execution_count": 1,
   "metadata": {},
   "outputs": [],
   "source": [
    "#подключение библиотек\n",
    "import pandas as pd\n",
    "from sklearn.model_selection import train_test_split\n",
    "from sklearn.metrics import accuracy_score\n",
    "from sklearn.tree import DecisionTreeClassifier\n",
    "from sklearn.ensemble import RandomForestClassifier\n",
    "from sklearn.linear_model import LogisticRegression"
   ]
  },
  {
   "cell_type": "code",
   "execution_count": 2,
   "metadata": {},
   "outputs": [],
   "source": [
    "#подключение датасета\n",
    "data = pd.read_csv('/datasets/users_behavior.csv')"
   ]
  },
  {
   "cell_type": "code",
   "execution_count": 3,
   "metadata": {},
   "outputs": [
    {
     "data": {
      "text/html": [
       "<div>\n",
       "<style scoped>\n",
       "    .dataframe tbody tr th:only-of-type {\n",
       "        vertical-align: middle;\n",
       "    }\n",
       "\n",
       "    .dataframe tbody tr th {\n",
       "        vertical-align: top;\n",
       "    }\n",
       "\n",
       "    .dataframe thead th {\n",
       "        text-align: right;\n",
       "    }\n",
       "</style>\n",
       "<table border=\"1\" class=\"dataframe\">\n",
       "  <thead>\n",
       "    <tr style=\"text-align: right;\">\n",
       "      <th></th>\n",
       "      <th>calls</th>\n",
       "      <th>minutes</th>\n",
       "      <th>messages</th>\n",
       "      <th>mb_used</th>\n",
       "      <th>is_ultra</th>\n",
       "    </tr>\n",
       "  </thead>\n",
       "  <tbody>\n",
       "    <tr>\n",
       "      <th>0</th>\n",
       "      <td>40.0</td>\n",
       "      <td>311.90</td>\n",
       "      <td>83.0</td>\n",
       "      <td>19915.42</td>\n",
       "      <td>0</td>\n",
       "    </tr>\n",
       "    <tr>\n",
       "      <th>1</th>\n",
       "      <td>85.0</td>\n",
       "      <td>516.75</td>\n",
       "      <td>56.0</td>\n",
       "      <td>22696.96</td>\n",
       "      <td>0</td>\n",
       "    </tr>\n",
       "    <tr>\n",
       "      <th>2</th>\n",
       "      <td>77.0</td>\n",
       "      <td>467.66</td>\n",
       "      <td>86.0</td>\n",
       "      <td>21060.45</td>\n",
       "      <td>0</td>\n",
       "    </tr>\n",
       "    <tr>\n",
       "      <th>3</th>\n",
       "      <td>106.0</td>\n",
       "      <td>745.53</td>\n",
       "      <td>81.0</td>\n",
       "      <td>8437.39</td>\n",
       "      <td>1</td>\n",
       "    </tr>\n",
       "    <tr>\n",
       "      <th>4</th>\n",
       "      <td>66.0</td>\n",
       "      <td>418.74</td>\n",
       "      <td>1.0</td>\n",
       "      <td>14502.75</td>\n",
       "      <td>0</td>\n",
       "    </tr>\n",
       "  </tbody>\n",
       "</table>\n",
       "</div>"
      ],
      "text/plain": [
       "   calls  minutes  messages   mb_used  is_ultra\n",
       "0   40.0   311.90      83.0  19915.42         0\n",
       "1   85.0   516.75      56.0  22696.96         0\n",
       "2   77.0   467.66      86.0  21060.45         0\n",
       "3  106.0   745.53      81.0   8437.39         1\n",
       "4   66.0   418.74       1.0  14502.75         0"
      ]
     },
     "execution_count": 3,
     "metadata": {},
     "output_type": "execute_result"
    }
   ],
   "source": [
    "#просмотр первых 5 строк\n",
    "data.head()"
   ]
  },
  {
   "cell_type": "markdown",
   "metadata": {},
   "source": [
    "Целевым столбцом в датасете является **is_ultra**. Стоит задачи классификации. 1 присваивается клиентам с рекомендацией тарифа **Ultra**."
   ]
  },
  {
   "cell_type": "markdown",
   "metadata": {},
   "source": [
    "## Разбейте данные на выборки"
   ]
  },
  {
   "cell_type": "markdown",
   "metadata": {},
   "source": [
    "Так как спрятанной тестовой выборки нет, данные раделим  соотношении 3:1:1(60-20-20). Размеры тестового и валидационного наборов равны(по 20%)."
   ]
  },
  {
   "cell_type": "code",
   "execution_count": 4,
   "metadata": {},
   "outputs": [],
   "source": [
    "# Разделим исходные данные на обучающую, валидационную и тестовую выборки в пропорции 3:1:1.\n",
    "# разделяем данные на 60(обучающая выборка) и 40 процентов(тестовая+валидационная)\n",
    "data_train, data_valid = train_test_split(data, test_size=0.4, random_state=12345)\n",
    "\n",
    "# разделение оставшейся части(40) пополам по 20 процентов\n",
    "data_valid, data_test = train_test_split(data_valid, test_size=0.5, random_state=12345)"
   ]
  },
  {
   "cell_type": "markdown",
   "metadata": {},
   "source": [
    "## Исследуйте модели"
   ]
  },
  {
   "cell_type": "markdown",
   "metadata": {},
   "source": [
    "В иссследовании будем использовать следующие модели:\n",
    "\n",
    "* Дерево решений\n",
    "* Случайный лес\n",
    "* Логистическая регрессия"
   ]
  },
  {
   "cell_type": "code",
   "execution_count": 5,
   "metadata": {},
   "outputs": [],
   "source": [
    "#сохранение признаков и целей в отдельных переменных\n",
    "#обучающая выборка\n",
    "features_train = data_train.drop('is_ultra', axis=1)\n",
    "target_train = data_train['is_ultra']\n",
    "\n",
    "#валидационная выборка\n",
    "features_valid = data_valid.drop('is_ultra', axis=1)\n",
    "target_valid = data_valid['is_ultra']\n",
    "\n",
    "#тестовая выборка\n",
    "features_test = data_test.drop('is_ultra', axis=1)\n",
    "target_test = data_test['is_ultra']"
   ]
  },
  {
   "cell_type": "markdown",
   "metadata": {},
   "source": [
    "### Дерево решений"
   ]
  },
  {
   "cell_type": "code",
   "execution_count": 7,
   "metadata": {},
   "outputs": [
    {
     "name": "stdout",
     "output_type": "stream",
     "text": [
      "Accuracy лучшей модели Решающего дерева:  0.7838258164852255 при глубине дерева:  6\n"
     ]
    }
   ],
   "source": [
    "best_model_tree = None\n",
    "best_result_tree = 0\n",
    "best_depth = 0\n",
    "\n",
    "#эксперимент с depth\n",
    "for depth in (1,6):\n",
    "    model_tree = DecisionTreeClassifier(random_state=12345, max_depth=depth)\n",
    "    \n",
    "    #обучение модели\n",
    "    model_tree.fit(features_train, target_train)\n",
    "    result = model_tree.score(features_valid, target_valid)\n",
    "    \n",
    "    #нахождение лучшего результата\n",
    "    if result > best_result_tree:\n",
    "        best_result_tree = result\n",
    "        best_model_tree = model_tree\n",
    "        best_depth = depth\n",
    "\n",
    "#вывод на экран лучшего результата        \n",
    "print(\"Accuracy лучшей модели Решающего дерева: \", best_result_tree, \"при глубине дерева: \", best_depth)"
   ]
  },
  {
   "cell_type": "markdown",
   "metadata": {},
   "source": [
    "### Случайный лес"
   ]
  },
  {
   "cell_type": "code",
   "execution_count": 8,
   "metadata": {},
   "outputs": [
    {
     "name": "stdout",
     "output_type": "stream",
     "text": [
      "Accuracy лучшей модели Случайного леса:  0.7853810264385692 с количеством оценщиков:  10\n"
     ]
    }
   ],
   "source": [
    "best_result_forest = 0\n",
    "best_model_forest = None\n",
    "best_est = 0\n",
    "\n",
    "#эксперимент с количеством оценщиков\n",
    "for est in range(1, 11):\n",
    "    model_forest = RandomForestClassifier(random_state=12345, n_estimators=est)\n",
    "    \n",
    "    #обучение модели\n",
    "    model_forest.fit(features_train, target_train)\n",
    "    result = model_forest.score(features_valid, target_valid)\n",
    "    \n",
    "    #нахождение лучшего результата\n",
    "    if result > best_result_forest:\n",
    "        best_model_foret = model_forest\n",
    "        best_result_forest = result\n",
    "        best_est = est\n",
    "        \n",
    "#вывод на экран лучшего результата         \n",
    "print(\"Accuracy лучшей модели Случайного леса: \", best_result_forest, \"с количеством оценщиков: \", best_est)       "
   ]
  },
  {
   "cell_type": "markdown",
   "metadata": {},
   "source": [
    "### Логистическая регресcия"
   ]
  },
  {
   "cell_type": "code",
   "execution_count": 9,
   "metadata": {},
   "outputs": [
    {
     "name": "stdout",
     "output_type": "stream",
     "text": [
      "Accuracy лучшей модели Логистической регрессии:  0.7107309486780715\n"
     ]
    }
   ],
   "source": [
    "best_model_logic = None\n",
    "best_result_logic = 0\n",
    "\n",
    "model_logic = LogisticRegression(random_state=12345, solver='lbfgs', max_iter=1000)\n",
    "    \n",
    "#обучение модели\n",
    "model_logic.fit(features_train, target_train)\n",
    "result = model_logic.score(features_valid, target_valid)\n",
    "    \n",
    "#нахождение лучшего результата\n",
    "if result > best_result_logic:\n",
    "    best_model_logic = model_logic\n",
    "    best_result_logic = result\n",
    "            \n",
    "#вывод на экран лучшего результата         \n",
    "print(\"Accuracy лучшей модели Логистической регрессии: \", best_result_logic)"
   ]
  },
  {
   "cell_type": "markdown",
   "metadata": {},
   "source": [
    "**Вывод:**\n",
    "Выбранные модели дали лучшие результаты:\n",
    "\n",
    "* Accuracy лучшей модели Решающего дерева:  0.7838258164852255 при глубине дерева:  6\n",
    "* Accuracy лучшей модели Случайного леса:  0.7853810264385692 с количеством оценщиков:  10\n",
    "* Accuracy лучшей модели Логистической регрессии:  0.7107309486780715\n",
    "\n",
    "Победила модель Случайного леса. Ее и будем проверять на тестовой выборке."
   ]
  },
  {
   "cell_type": "markdown",
   "metadata": {},
   "source": [
    "## Проверьте модель на тестовой выборке"
   ]
  },
  {
   "cell_type": "code",
   "execution_count": 10,
   "metadata": {},
   "outputs": [
    {
     "name": "stdout",
     "output_type": "stream",
     "text": [
      "Accuracy модели на тестовой выборке:  0.7807153965785381\n"
     ]
    }
   ],
   "source": [
    "model = RandomForestClassifier(random_state=12345, n_estimators=10)\n",
    "model.fit(features_train, target_train)\n",
    "predictions_test = model.predict(features_test)\n",
    "result = accuracy_score(target_test, predictions_test)\n",
    "print(\"Accuracy модели на тестовой выборке: \", result)"
   ]
  },
  {
   "cell_type": "markdown",
   "metadata": {},
   "source": [
    "На тестовой выборке модель показала немного меньший результат, чем на валидационной (0.7807153965785381 против 0.7853810264385692), но все равно достойный."
   ]
  },
  {
   "cell_type": "markdown",
   "metadata": {},
   "source": [
    "## (бонус) Проверьте модели на адекватность"
   ]
  },
  {
   "cell_type": "code",
   "execution_count": null,
   "metadata": {},
   "outputs": [],
   "source": [
    "data['is_ultra'].value_counts(normalize=True)"
   ]
  },
  {
   "cell_type": "markdown",
   "metadata": {},
   "source": [
    "Доля большей части выборки равна 0.6935286, а у выбранной модели Accuracy 0.7807153965785381, отсюда можно сделать вывод, что модель можно использовать. "
   ]
  },
  {
   "cell_type": "markdown",
   "metadata": {},
   "source": [
    "# Общий вывод"
   ]
  },
  {
   "cell_type": "markdown",
   "metadata": {},
   "source": [
    "* в исследовании использовались модели: **Дерево решений, Случайный лес, Логистическая регрессия.**\n",
    "\n",
    "\n",
    "* наибольшую точность показала модель: **Случайный лес с Accuracy 0.7853810264385692 и количеством оценщиков: 10.**\n",
    "\n",
    "\n",
    "* Модель Случайного леса была проверена на тестовой выборке.**На тестовой выборке модель показала немного меньший результат, чем на валидационной (0.7807153965785381 против 0.7853810264385692), но все равно достойный.**\n",
    "\n",
    "\n",
    "* была проведена попытка оценки адекватности модели, которая привела к положительному решению. **Доля большей части выборки равна 0.6935286, а у выбранной модели Accuracy 0.7807153965785381, отсюда можно сделать вывод, что модель можно использовать.**"
   ]
  }
 ],
 "metadata": {
  "ExecuteTimeLog": [
   {
    "duration": 1502,
    "start_time": "2023-02-02T18:01:01.125Z"
   },
   {
    "duration": 171,
    "start_time": "2023-02-02T18:01:03.256Z"
   },
   {
    "duration": 13,
    "start_time": "2023-02-02T18:01:11.289Z"
   },
   {
    "duration": 29,
    "start_time": "2023-02-02T18:01:38.744Z"
   },
   {
    "duration": 10,
    "start_time": "2023-02-02T18:01:41.481Z"
   },
   {
    "duration": 13,
    "start_time": "2023-02-02T18:01:59.569Z"
   },
   {
    "duration": 7,
    "start_time": "2023-02-02T18:46:54.372Z"
   },
   {
    "duration": 6,
    "start_time": "2023-02-02T19:01:42.337Z"
   },
   {
    "duration": 111,
    "start_time": "2023-02-02T19:19:15.475Z"
   },
   {
    "duration": 16,
    "start_time": "2023-02-02T19:19:46.895Z"
   },
   {
    "duration": 15,
    "start_time": "2023-02-02T19:23:19.354Z"
   },
   {
    "duration": 20,
    "start_time": "2023-02-02T19:24:10.361Z"
   },
   {
    "duration": 14,
    "start_time": "2023-02-02T19:24:17.633Z"
   },
   {
    "duration": 19,
    "start_time": "2023-02-02T19:24:38.899Z"
   },
   {
    "duration": 27,
    "start_time": "2023-02-02T19:24:45.131Z"
   },
   {
    "duration": 15,
    "start_time": "2023-02-02T19:27:22.626Z"
   },
   {
    "duration": 17,
    "start_time": "2023-02-02T19:29:48.943Z"
   },
   {
    "duration": 24,
    "start_time": "2023-02-02T19:29:54.249Z"
   },
   {
    "duration": 18,
    "start_time": "2023-02-02T19:32:06.222Z"
   },
   {
    "duration": 1118,
    "start_time": "2023-02-06T05:55:28.605Z"
   },
   {
    "duration": 64,
    "start_time": "2023-02-06T05:55:29.725Z"
   },
   {
    "duration": 17,
    "start_time": "2023-02-06T05:55:29.790Z"
   },
   {
    "duration": 7,
    "start_time": "2023-02-06T05:55:29.809Z"
   },
   {
    "duration": 7,
    "start_time": "2023-02-06T05:55:29.817Z"
   },
   {
    "duration": 127,
    "start_time": "2023-02-06T05:55:29.825Z"
   },
   {
    "duration": 34,
    "start_time": "2023-02-06T05:55:54.085Z"
   },
   {
    "duration": 16,
    "start_time": "2023-02-06T06:00:23.932Z"
   },
   {
    "duration": 249,
    "start_time": "2023-02-06T06:04:08.471Z"
   },
   {
    "duration": 0,
    "start_time": "2023-02-06T06:10:16.680Z"
   },
   {
    "duration": 0,
    "start_time": "2023-02-06T06:10:16.681Z"
   },
   {
    "duration": 0,
    "start_time": "2023-02-06T06:10:16.682Z"
   },
   {
    "duration": 0,
    "start_time": "2023-02-06T06:10:16.683Z"
   },
   {
    "duration": 0,
    "start_time": "2023-02-06T06:10:16.684Z"
   },
   {
    "duration": 0,
    "start_time": "2023-02-06T06:10:16.685Z"
   },
   {
    "duration": 0,
    "start_time": "2023-02-06T06:10:16.686Z"
   },
   {
    "duration": 0,
    "start_time": "2023-02-06T06:10:16.687Z"
   },
   {
    "duration": 3,
    "start_time": "2023-02-06T06:10:58.352Z"
   },
   {
    "duration": 34,
    "start_time": "2023-02-06T06:10:58.358Z"
   },
   {
    "duration": 13,
    "start_time": "2023-02-06T06:10:58.394Z"
   },
   {
    "duration": 8,
    "start_time": "2023-02-06T06:10:58.409Z"
   },
   {
    "duration": 6,
    "start_time": "2023-02-06T06:10:58.420Z"
   },
   {
    "duration": 19,
    "start_time": "2023-02-06T06:10:58.428Z"
   },
   {
    "duration": 265,
    "start_time": "2023-02-06T06:10:58.448Z"
   },
   {
    "duration": 17008,
    "start_time": "2023-02-06T06:10:58.715Z"
   },
   {
    "duration": 16801,
    "start_time": "2023-02-06T06:11:35.705Z"
   },
   {
    "duration": 16669,
    "start_time": "2023-02-06T06:12:26.198Z"
   },
   {
    "duration": 17022,
    "start_time": "2023-02-06T06:13:07.313Z"
   },
   {
    "duration": 17062,
    "start_time": "2023-02-06T06:13:43.613Z"
   },
   {
    "duration": 22,
    "start_time": "2023-02-06T06:16:03.833Z"
   },
   {
    "duration": 28,
    "start_time": "2023-02-06T06:28:39.291Z"
   },
   {
    "duration": 24,
    "start_time": "2023-02-06T06:28:55.635Z"
   },
   {
    "duration": 33,
    "start_time": "2023-02-06T06:31:17.094Z"
   },
   {
    "duration": 26,
    "start_time": "2023-02-06T06:32:04.813Z"
   },
   {
    "duration": 24,
    "start_time": "2023-02-06T06:33:10.136Z"
   },
   {
    "duration": 25,
    "start_time": "2023-02-06T06:33:23.666Z"
   },
   {
    "duration": 29,
    "start_time": "2023-02-06T06:33:29.807Z"
   },
   {
    "duration": 26,
    "start_time": "2023-02-06T06:33:35.592Z"
   },
   {
    "duration": 48,
    "start_time": "2023-02-06T06:34:20.950Z"
   },
   {
    "duration": 8,
    "start_time": "2023-02-06T06:39:54.076Z"
   },
   {
    "duration": 5,
    "start_time": "2023-02-06T06:40:38.875Z"
   },
   {
    "duration": 6,
    "start_time": "2023-02-06T06:41:10.372Z"
   },
   {
    "duration": 34,
    "start_time": "2023-02-06T06:44:21.044Z"
   },
   {
    "duration": 46,
    "start_time": "2023-02-06T06:44:27.639Z"
   },
   {
    "duration": 2449,
    "start_time": "2023-02-06T07:44:56.046Z"
   },
   {
    "duration": 177,
    "start_time": "2023-02-06T07:44:58.497Z"
   },
   {
    "duration": 18,
    "start_time": "2023-02-06T07:44:58.676Z"
   },
   {
    "duration": 7,
    "start_time": "2023-02-06T07:44:58.697Z"
   },
   {
    "duration": 7,
    "start_time": "2023-02-06T07:44:58.707Z"
   },
   {
    "duration": 48,
    "start_time": "2023-02-06T07:44:58.716Z"
   },
   {
    "duration": 408,
    "start_time": "2023-02-06T07:44:58.767Z"
   },
   {
    "duration": 50,
    "start_time": "2023-02-06T07:44:59.177Z"
   },
   {
    "duration": 41,
    "start_time": "2023-02-06T07:44:59.231Z"
   },
   {
    "duration": 91,
    "start_time": "2023-02-06T07:44:59.274Z"
   },
   {
    "duration": 9,
    "start_time": "2023-02-06T07:44:59.366Z"
   },
   {
    "duration": 4,
    "start_time": "2023-02-06T07:45:08.957Z"
   },
   {
    "duration": 8,
    "start_time": "2023-02-06T07:45:24.143Z"
   },
   {
    "duration": 31,
    "start_time": "2023-02-06T07:45:36.199Z"
   },
   {
    "duration": 4,
    "start_time": "2023-02-06T07:45:36.479Z"
   },
   {
    "duration": 73,
    "start_time": "2023-02-06T08:41:07.433Z"
   },
   {
    "duration": 1180,
    "start_time": "2023-02-06T08:41:15.237Z"
   },
   {
    "duration": 70,
    "start_time": "2023-02-06T08:41:16.419Z"
   },
   {
    "duration": 19,
    "start_time": "2023-02-06T08:41:16.491Z"
   },
   {
    "duration": 6,
    "start_time": "2023-02-06T08:41:16.512Z"
   },
   {
    "duration": 9,
    "start_time": "2023-02-06T08:41:16.520Z"
   },
   {
    "duration": 22,
    "start_time": "2023-02-06T08:41:16.531Z"
   },
   {
    "duration": 298,
    "start_time": "2023-02-06T08:41:16.555Z"
   },
   {
    "duration": 26,
    "start_time": "2023-02-06T08:41:16.856Z"
   },
   {
    "duration": 26,
    "start_time": "2023-02-06T08:41:16.884Z"
   },
   {
    "duration": 75,
    "start_time": "2023-02-06T08:41:16.912Z"
   },
   {
    "duration": 10,
    "start_time": "2023-02-06T08:41:16.988Z"
   },
   {
    "duration": 18,
    "start_time": "2023-02-06T08:43:28.697Z"
   },
   {
    "duration": 81,
    "start_time": "2023-02-06T08:43:46.003Z"
   },
   {
    "duration": 20,
    "start_time": "2023-02-06T08:44:01.929Z"
   },
   {
    "duration": 18,
    "start_time": "2023-02-06T08:44:05.729Z"
   },
   {
    "duration": 1152,
    "start_time": "2023-02-06T08:45:18.398Z"
   },
   {
    "duration": 26,
    "start_time": "2023-02-06T08:45:19.552Z"
   },
   {
    "duration": 22,
    "start_time": "2023-02-06T08:45:19.581Z"
   },
   {
    "duration": 7,
    "start_time": "2023-02-06T08:45:19.605Z"
   },
   {
    "duration": 8,
    "start_time": "2023-02-06T08:45:19.614Z"
   },
   {
    "duration": 109,
    "start_time": "2023-02-06T08:45:23.119Z"
   },
   {
    "duration": 17,
    "start_time": "2023-02-06T08:45:34.324Z"
   },
   {
    "duration": 290,
    "start_time": "2023-02-06T08:46:58.794Z"
   },
   {
    "duration": 303,
    "start_time": "2023-02-06T08:48:04.709Z"
   },
   {
    "duration": 17,
    "start_time": "2023-02-06T08:48:41.905Z"
   },
   {
    "duration": 1203,
    "start_time": "2023-02-06T08:49:05.917Z"
   },
   {
    "duration": 29,
    "start_time": "2023-02-06T08:49:07.122Z"
   },
   {
    "duration": 17,
    "start_time": "2023-02-06T08:49:07.153Z"
   },
   {
    "duration": 7,
    "start_time": "2023-02-06T08:49:07.172Z"
   },
   {
    "duration": 35,
    "start_time": "2023-02-06T08:49:07.181Z"
   },
   {
    "duration": 138,
    "start_time": "2023-02-06T08:49:08.991Z"
   },
   {
    "duration": 17,
    "start_time": "2023-02-06T08:49:24.117Z"
   },
   {
    "duration": 294,
    "start_time": "2023-02-06T08:50:15.731Z"
   },
   {
    "duration": 33,
    "start_time": "2023-02-06T08:51:07.725Z"
   },
   {
    "duration": 62,
    "start_time": "2023-02-06T08:54:43.423Z"
   }
  ],
  "kernelspec": {
   "display_name": "Python 3 (ipykernel)",
   "language": "python",
   "name": "python3"
  },
  "language_info": {
   "codemirror_mode": {
    "name": "ipython",
    "version": 3
   },
   "file_extension": ".py",
   "mimetype": "text/x-python",
   "name": "python",
   "nbconvert_exporter": "python",
   "pygments_lexer": "ipython3",
   "version": "3.9.13"
  },
  "toc": {
   "base_numbering": 1,
   "nav_menu": {},
   "number_sections": true,
   "sideBar": true,
   "skip_h1_title": true,
   "title_cell": "Table of Contents",
   "title_sidebar": "Contents",
   "toc_cell": false,
   "toc_position": {},
   "toc_section_display": true,
   "toc_window_display": false
  }
 },
 "nbformat": 4,
 "nbformat_minor": 2
}
