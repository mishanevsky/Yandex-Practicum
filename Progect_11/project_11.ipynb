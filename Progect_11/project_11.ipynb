{
 "cells": [
  {
   "cell_type": "markdown",
   "metadata": {},
   "source": [
    "**Описание проекта**\n",
    "\n",
    "Вы работаете в интернет-магазине «Стримчик», который продаёт по всему миру компьютерные игры. Из открытых источников доступны исторические данные о продажах игр, оценки пользователей и экспертов, жанры и платформы (например, Xbox или PlayStation). Вам нужно выявить определяющие успешность игры закономерности. Это позволит сделать ставку на потенциально популярный продукт и спланировать рекламные кампании.\n",
    "\n",
    "Перед вами данные до 2016 года. Представим, что сейчас декабрь 2016 г., и вы планируете кампанию на 2017-й. Нужно отработать принцип работы с данными. Неважно, прогнозируете ли вы продажи на 2017 год по данным 2016-го или же 2027-й — по данным 2026 года.\n",
    "\n",
    "В наборе данных попадается аббревиатура ESRB (Entertainment Software Rating Board) — это ассоциация, определяющая возрастной рейтинг компьютерных игр. ESRB оценивает игровой контент и присваивает ему подходящую возрастную категорию, например, «Для взрослых», «Для детей младшего возраста» или «Для подростков».\n",
    "\n",
    "**Описание данных**\n",
    "\n",
    "* -`Name` — название игры\n",
    "-`Platform` — платформа\n",
    "-`Year_of_Release` — год выпуска\n",
    "-`Genre` — жанр игры\n",
    "-`NA_sales` — продажи в Северной Америке (миллионы проданных копий)\n",
    "-`EU_sales` — продажи в Европе (миллионы проданных копий)\n",
    "-`JP_sales` — продажи в Японии (миллионы проданных копий)\n",
    "-`Other_sales` — продажи в других странах (миллионы проданных копий)\n",
    "-`Critic_Score` — оценка критиков (максимум 100)\n",
    "-`User_Score` — оценка пользователей (максимум 10)\n",
    "-`Rating` — рейтинг от организации ESRB (англ. Entertainment Software Rating Board). Эта ассоциация определяет рейтинг компьютерных игр и присваивает им подходящую возрастную категорию.\n",
    "\n",
    "Данные за 2016 год могут быть неполными."
   ]
  },
  {
   "cell_type": "markdown",
   "metadata": {},
   "source": [
    "## Откртытие файла с данными и изучение общей информации"
   ]
  },
  {
   "cell_type": "code",
   "execution_count": 2,
   "metadata": {},
   "outputs": [],
   "source": [
    "#подключение необходимых библиотек\n",
    "import pandas as pd\n",
    "from scipy import stats as st\n",
    "import numpy as np\n",
    "import matplotlib.pyplot as plt\n",
    "import seaborn as sns"
   ]
  },
  {
   "cell_type": "code",
   "execution_count": 3,
   "metadata": {},
   "outputs": [],
   "source": [
    "#открытие файла и вывод первых строк\n",
    "try:\n",
    "    data = pd.read_csv('C:/Users/misha/Downloads/games.csv')\n",
    "except:\n",
    "    data = pd.read_csv('/datasets/games.csv')\n",
    "        "
   ]
  },
  {
   "cell_type": "code",
   "execution_count": 4,
   "metadata": {},
   "outputs": [
    {
     "data": {
      "text/html": [
       "<div>\n",
       "<style scoped>\n",
       "    .dataframe tbody tr th:only-of-type {\n",
       "        vertical-align: middle;\n",
       "    }\n",
       "\n",
       "    .dataframe tbody tr th {\n",
       "        vertical-align: top;\n",
       "    }\n",
       "\n",
       "    .dataframe thead th {\n",
       "        text-align: right;\n",
       "    }\n",
       "</style>\n",
       "<table border=\"1\" class=\"dataframe\">\n",
       "  <thead>\n",
       "    <tr style=\"text-align: right;\">\n",
       "      <th></th>\n",
       "      <th>Name</th>\n",
       "      <th>Platform</th>\n",
       "      <th>Year_of_Release</th>\n",
       "      <th>Genre</th>\n",
       "      <th>NA_sales</th>\n",
       "      <th>EU_sales</th>\n",
       "      <th>JP_sales</th>\n",
       "      <th>Other_sales</th>\n",
       "      <th>Critic_Score</th>\n",
       "      <th>User_Score</th>\n",
       "      <th>Rating</th>\n",
       "    </tr>\n",
       "  </thead>\n",
       "  <tbody>\n",
       "    <tr>\n",
       "      <th>0</th>\n",
       "      <td>Wii Sports</td>\n",
       "      <td>Wii</td>\n",
       "      <td>2006.0</td>\n",
       "      <td>Sports</td>\n",
       "      <td>41.36</td>\n",
       "      <td>28.96</td>\n",
       "      <td>3.77</td>\n",
       "      <td>8.45</td>\n",
       "      <td>76.0</td>\n",
       "      <td>8</td>\n",
       "      <td>E</td>\n",
       "    </tr>\n",
       "    <tr>\n",
       "      <th>1</th>\n",
       "      <td>Super Mario Bros.</td>\n",
       "      <td>NES</td>\n",
       "      <td>1985.0</td>\n",
       "      <td>Platform</td>\n",
       "      <td>29.08</td>\n",
       "      <td>3.58</td>\n",
       "      <td>6.81</td>\n",
       "      <td>0.77</td>\n",
       "      <td>NaN</td>\n",
       "      <td>NaN</td>\n",
       "      <td>NaN</td>\n",
       "    </tr>\n",
       "    <tr>\n",
       "      <th>2</th>\n",
       "      <td>Mario Kart Wii</td>\n",
       "      <td>Wii</td>\n",
       "      <td>2008.0</td>\n",
       "      <td>Racing</td>\n",
       "      <td>15.68</td>\n",
       "      <td>12.76</td>\n",
       "      <td>3.79</td>\n",
       "      <td>3.29</td>\n",
       "      <td>82.0</td>\n",
       "      <td>8.3</td>\n",
       "      <td>E</td>\n",
       "    </tr>\n",
       "    <tr>\n",
       "      <th>3</th>\n",
       "      <td>Wii Sports Resort</td>\n",
       "      <td>Wii</td>\n",
       "      <td>2009.0</td>\n",
       "      <td>Sports</td>\n",
       "      <td>15.61</td>\n",
       "      <td>10.93</td>\n",
       "      <td>3.28</td>\n",
       "      <td>2.95</td>\n",
       "      <td>80.0</td>\n",
       "      <td>8</td>\n",
       "      <td>E</td>\n",
       "    </tr>\n",
       "    <tr>\n",
       "      <th>4</th>\n",
       "      <td>Pokemon Red/Pokemon Blue</td>\n",
       "      <td>GB</td>\n",
       "      <td>1996.0</td>\n",
       "      <td>Role-Playing</td>\n",
       "      <td>11.27</td>\n",
       "      <td>8.89</td>\n",
       "      <td>10.22</td>\n",
       "      <td>1.00</td>\n",
       "      <td>NaN</td>\n",
       "      <td>NaN</td>\n",
       "      <td>NaN</td>\n",
       "    </tr>\n",
       "  </tbody>\n",
       "</table>\n",
       "</div>"
      ],
      "text/plain": [
       "                       Name Platform  Year_of_Release         Genre  NA_sales  \\\n",
       "0                Wii Sports      Wii           2006.0        Sports     41.36   \n",
       "1         Super Mario Bros.      NES           1985.0      Platform     29.08   \n",
       "2            Mario Kart Wii      Wii           2008.0        Racing     15.68   \n",
       "3         Wii Sports Resort      Wii           2009.0        Sports     15.61   \n",
       "4  Pokemon Red/Pokemon Blue       GB           1996.0  Role-Playing     11.27   \n",
       "\n",
       "   EU_sales  JP_sales  Other_sales  Critic_Score User_Score Rating  \n",
       "0     28.96      3.77         8.45          76.0          8      E  \n",
       "1      3.58      6.81         0.77           NaN        NaN    NaN  \n",
       "2     12.76      3.79         3.29          82.0        8.3      E  \n",
       "3     10.93      3.28         2.95          80.0          8      E  \n",
       "4      8.89     10.22         1.00           NaN        NaN    NaN  "
      ]
     },
     "execution_count": 4,
     "metadata": {},
     "output_type": "execute_result"
    }
   ],
   "source": [
    "#просмотр первых строк\n",
    "data.head(5)"
   ]
  },
  {
   "cell_type": "markdown",
   "metadata": {},
   "source": [
    "## Подготовка данных"
   ]
  },
  {
   "cell_type": "markdown",
   "metadata": {},
   "source": [
    "### Замена названия столбцов"
   ]
  },
  {
   "cell_type": "code",
   "execution_count": 5,
   "metadata": {},
   "outputs": [],
   "source": [
    "#нижний регистр в названии столбцов\n",
    "data.columns = data.columns.str.lower()"
   ]
  },
  {
   "cell_type": "code",
   "execution_count": 6,
   "metadata": {},
   "outputs": [
    {
     "data": {
      "text/html": [
       "<div>\n",
       "<style scoped>\n",
       "    .dataframe tbody tr th:only-of-type {\n",
       "        vertical-align: middle;\n",
       "    }\n",
       "\n",
       "    .dataframe tbody tr th {\n",
       "        vertical-align: top;\n",
       "    }\n",
       "\n",
       "    .dataframe thead th {\n",
       "        text-align: right;\n",
       "    }\n",
       "</style>\n",
       "<table border=\"1\" class=\"dataframe\">\n",
       "  <thead>\n",
       "    <tr style=\"text-align: right;\">\n",
       "      <th></th>\n",
       "      <th>name</th>\n",
       "      <th>platform</th>\n",
       "      <th>year_of_release</th>\n",
       "      <th>genre</th>\n",
       "      <th>na_sales</th>\n",
       "      <th>eu_sales</th>\n",
       "      <th>jp_sales</th>\n",
       "      <th>other_sales</th>\n",
       "      <th>critic_score</th>\n",
       "      <th>user_score</th>\n",
       "      <th>rating</th>\n",
       "    </tr>\n",
       "  </thead>\n",
       "  <tbody>\n",
       "    <tr>\n",
       "      <th>0</th>\n",
       "      <td>Wii Sports</td>\n",
       "      <td>Wii</td>\n",
       "      <td>2006.0</td>\n",
       "      <td>Sports</td>\n",
       "      <td>41.36</td>\n",
       "      <td>28.96</td>\n",
       "      <td>3.77</td>\n",
       "      <td>8.45</td>\n",
       "      <td>76.0</td>\n",
       "      <td>8</td>\n",
       "      <td>E</td>\n",
       "    </tr>\n",
       "    <tr>\n",
       "      <th>1</th>\n",
       "      <td>Super Mario Bros.</td>\n",
       "      <td>NES</td>\n",
       "      <td>1985.0</td>\n",
       "      <td>Platform</td>\n",
       "      <td>29.08</td>\n",
       "      <td>3.58</td>\n",
       "      <td>6.81</td>\n",
       "      <td>0.77</td>\n",
       "      <td>NaN</td>\n",
       "      <td>NaN</td>\n",
       "      <td>NaN</td>\n",
       "    </tr>\n",
       "    <tr>\n",
       "      <th>2</th>\n",
       "      <td>Mario Kart Wii</td>\n",
       "      <td>Wii</td>\n",
       "      <td>2008.0</td>\n",
       "      <td>Racing</td>\n",
       "      <td>15.68</td>\n",
       "      <td>12.76</td>\n",
       "      <td>3.79</td>\n",
       "      <td>3.29</td>\n",
       "      <td>82.0</td>\n",
       "      <td>8.3</td>\n",
       "      <td>E</td>\n",
       "    </tr>\n",
       "    <tr>\n",
       "      <th>3</th>\n",
       "      <td>Wii Sports Resort</td>\n",
       "      <td>Wii</td>\n",
       "      <td>2009.0</td>\n",
       "      <td>Sports</td>\n",
       "      <td>15.61</td>\n",
       "      <td>10.93</td>\n",
       "      <td>3.28</td>\n",
       "      <td>2.95</td>\n",
       "      <td>80.0</td>\n",
       "      <td>8</td>\n",
       "      <td>E</td>\n",
       "    </tr>\n",
       "    <tr>\n",
       "      <th>4</th>\n",
       "      <td>Pokemon Red/Pokemon Blue</td>\n",
       "      <td>GB</td>\n",
       "      <td>1996.0</td>\n",
       "      <td>Role-Playing</td>\n",
       "      <td>11.27</td>\n",
       "      <td>8.89</td>\n",
       "      <td>10.22</td>\n",
       "      <td>1.00</td>\n",
       "      <td>NaN</td>\n",
       "      <td>NaN</td>\n",
       "      <td>NaN</td>\n",
       "    </tr>\n",
       "  </tbody>\n",
       "</table>\n",
       "</div>"
      ],
      "text/plain": [
       "                       name platform  year_of_release         genre  na_sales  \\\n",
       "0                Wii Sports      Wii           2006.0        Sports     41.36   \n",
       "1         Super Mario Bros.      NES           1985.0      Platform     29.08   \n",
       "2            Mario Kart Wii      Wii           2008.0        Racing     15.68   \n",
       "3         Wii Sports Resort      Wii           2009.0        Sports     15.61   \n",
       "4  Pokemon Red/Pokemon Blue       GB           1996.0  Role-Playing     11.27   \n",
       "\n",
       "   eu_sales  jp_sales  other_sales  critic_score user_score rating  \n",
       "0     28.96      3.77         8.45          76.0          8      E  \n",
       "1      3.58      6.81         0.77           NaN        NaN    NaN  \n",
       "2     12.76      3.79         3.29          82.0        8.3      E  \n",
       "3     10.93      3.28         2.95          80.0          8      E  \n",
       "4      8.89     10.22         1.00           NaN        NaN    NaN  "
      ]
     },
     "execution_count": 6,
     "metadata": {},
     "output_type": "execute_result"
    }
   ],
   "source": [
    "#просмотр\n",
    "data.head()"
   ]
  },
  {
   "cell_type": "markdown",
   "metadata": {},
   "source": [
    "### Преобразование данных в нужные типы"
   ]
  },
  {
   "cell_type": "code",
   "execution_count": 7,
   "metadata": {},
   "outputs": [
    {
     "name": "stdout",
     "output_type": "stream",
     "text": [
      "<class 'pandas.core.frame.DataFrame'>\n",
      "RangeIndex: 16715 entries, 0 to 16714\n",
      "Data columns (total 11 columns):\n",
      " #   Column           Non-Null Count  Dtype  \n",
      "---  ------           --------------  -----  \n",
      " 0   name             16713 non-null  object \n",
      " 1   platform         16715 non-null  object \n",
      " 2   year_of_release  16446 non-null  float64\n",
      " 3   genre            16713 non-null  object \n",
      " 4   na_sales         16715 non-null  float64\n",
      " 5   eu_sales         16715 non-null  float64\n",
      " 6   jp_sales         16715 non-null  float64\n",
      " 7   other_sales      16715 non-null  float64\n",
      " 8   critic_score     8137 non-null   float64\n",
      " 9   user_score       10014 non-null  object \n",
      " 10  rating           9949 non-null   object \n",
      "dtypes: float64(6), object(5)\n",
      "memory usage: 1.4+ MB\n"
     ]
    }
   ],
   "source": [
    "#получение информации о датафрейме\n",
    "data.info()"
   ]
  },
  {
   "cell_type": "code",
   "execution_count": 8,
   "metadata": {},
   "outputs": [
    {
     "name": "stdout",
     "output_type": "stream",
     "text": [
      "пропусков в year_of_release: 269\n",
      "пропусков в genre: 2\n",
      "пропусков в critic_score: 8578\n",
      "пропусков в user_score: 6701\n",
      "пропусков в rating: 6766\n"
     ]
    }
   ],
   "source": [
    "#сколько всего пропусков в столбцах\n",
    "print('пропусков в year_of_release:', data['year_of_release'].isna().sum())\n",
    "print('пропусков в genre:', data['genre'].isna().sum())\n",
    "print('пропусков в critic_score:', data['critic_score'].isna().sum())\n",
    "print('пропусков в user_score:', data['user_score'].isna().sum())\n",
    "print('пропусков в rating:', data['rating'].isna().sum())"
   ]
  },
  {
   "cell_type": "code",
   "execution_count": 9,
   "metadata": {},
   "outputs": [
    {
     "name": "stdout",
     "output_type": "stream",
     "text": [
      "['8' nan '8.3' '8.5' '6.6' '8.4' '8.6' '7.7' '6.3' '7.4' '8.2' '9' '7.9'\n",
      " '8.1' '8.7' '7.1' '3.4' '5.3' '4.8' '3.2' '8.9' '6.4' '7.8' '7.5' '2.6'\n",
      " '7.2' '9.2' '7' '7.3' '4.3' '7.6' '5.7' '5' '9.1' '6.5' 'tbd' '8.8' '6.9'\n",
      " '9.4' '6.8' '6.1' '6.7' '5.4' '4' '4.9' '4.5' '9.3' '6.2' '4.2' '6' '3.7'\n",
      " '4.1' '5.8' '5.6' '5.5' '4.4' '4.6' '5.9' '3.9' '3.1' '2.9' '5.2' '3.3'\n",
      " '4.7' '5.1' '3.5' '2.5' '1.9' '3' '2.7' '2.2' '2' '9.5' '2.1' '3.6' '2.8'\n",
      " '1.8' '3.8' '0' '1.6' '9.6' '2.4' '1.7' '1.1' '0.3' '1.5' '0.7' '1.2'\n",
      " '2.3' '0.5' '1.3' '0.2' '0.6' '1.4' '0.9' '1' '9.7']\n"
     ]
    }
   ],
   "source": [
    "#заполнение пропущеннных значений в year_of_release на несуществующий 2030 год, например\n",
    "data['year_of_release'] = data['year_of_release'].fillna(2030)\n",
    "\n",
    "#изменение типа данных year_of_release\n",
    "data['year_of_release'] = data['year_of_release'].astype(int)\n",
    "data['year_of_release'] = data['year_of_release'].astype(str)\n",
    "data['year_of_release'] = pd.to_datetime(data['year_of_release'], format='%Y-%m-%d').dt.year\n",
    "\n",
    "#изменение типа данных user_score\n",
    "print(data['user_score'].unique())\n",
    "data['user_score'] = pd.to_numeric(data['user_score'], errors='coerce')"
   ]
  },
  {
   "cell_type": "markdown",
   "metadata": {},
   "source": [
    "По полученной информации можно сделать вывод, что столбцы **year_of release** и **user_score** должны быть приведены к другому типу, дата и число соответственно, так как содержат информацию о годе выпуска и рейтинге у пользователей. Пропуски есть в оценках, рейтинге, дате выпуска. "
   ]
  },
  {
   "cell_type": "markdown",
   "metadata": {},
   "source": [
    "### Обработка пропусков"
   ]
  },
  {
   "cell_type": "code",
   "execution_count": 10,
   "metadata": {},
   "outputs": [
    {
     "data": {
      "text/plain": [
       "0"
      ]
     },
     "execution_count": 10,
     "metadata": {},
     "output_type": "execute_result"
    }
   ],
   "source": [
    "#подсчет дубликатов\n",
    "data.duplicated().sum()"
   ]
  },
  {
   "cell_type": "code",
   "execution_count": 11,
   "metadata": {},
   "outputs": [
    {
     "name": "stdout",
     "output_type": "stream",
     "text": [
      "['E' nan 'M' 'T' 'E10+' 'K-A' 'AO' 'EC' 'RP']\n"
     ]
    }
   ],
   "source": [
    "#замена пропущенных значений в Rating на пустую строку\n",
    "print(data['rating'].unique())\n",
    "data['rating'] = data['rating'].fillna(value = '')"
   ]
  },
  {
   "cell_type": "markdown",
   "metadata": {},
   "source": [
    "Пропущенные значения в столбце **rating** заполним пустой строчкой. Пропуски в **year** заполним несуществующим 2030 годом, так как скорее всего данные игры только готовятся к выходу. Пропуски в рейтингах заполнять нет смысла, так как эти данные не нужны для данного исследования."
   ]
  },
  {
   "cell_type": "markdown",
   "metadata": {},
   "source": [
    "Пропуски в **year** появились скорее всего из-за того, что данные игры только готовятся к выходу. Пропуски в рейтингах появились по той же причине у игр еще невышедших."
   ]
  },
  {
   "cell_type": "markdown",
   "metadata": {},
   "source": [
    "В столбце **user_score** найдено значение tbd, что в переводе можно понять как \"на стадии оценки\"."
   ]
  },
  {
   "cell_type": "markdown",
   "metadata": {},
   "source": [
    "### Подсчет суммарных продаж во всех регионах"
   ]
  },
  {
   "cell_type": "code",
   "execution_count": 12,
   "metadata": {},
   "outputs": [],
   "source": [
    "#общие продажи\n",
    "data['total_sales'] = data['na_sales'] + data['eu_sales'] + data['jp_sales'] + data['other_sales']"
   ]
  },
  {
   "cell_type": "code",
   "execution_count": 13,
   "metadata": {},
   "outputs": [
    {
     "data": {
      "text/html": [
       "<div>\n",
       "<style scoped>\n",
       "    .dataframe tbody tr th:only-of-type {\n",
       "        vertical-align: middle;\n",
       "    }\n",
       "\n",
       "    .dataframe tbody tr th {\n",
       "        vertical-align: top;\n",
       "    }\n",
       "\n",
       "    .dataframe thead th {\n",
       "        text-align: right;\n",
       "    }\n",
       "</style>\n",
       "<table border=\"1\" class=\"dataframe\">\n",
       "  <thead>\n",
       "    <tr style=\"text-align: right;\">\n",
       "      <th></th>\n",
       "      <th>name</th>\n",
       "      <th>platform</th>\n",
       "      <th>year_of_release</th>\n",
       "      <th>genre</th>\n",
       "      <th>na_sales</th>\n",
       "      <th>eu_sales</th>\n",
       "      <th>jp_sales</th>\n",
       "      <th>other_sales</th>\n",
       "      <th>critic_score</th>\n",
       "      <th>user_score</th>\n",
       "      <th>rating</th>\n",
       "      <th>total_sales</th>\n",
       "    </tr>\n",
       "  </thead>\n",
       "  <tbody>\n",
       "    <tr>\n",
       "      <th>0</th>\n",
       "      <td>Wii Sports</td>\n",
       "      <td>Wii</td>\n",
       "      <td>2006</td>\n",
       "      <td>Sports</td>\n",
       "      <td>41.36</td>\n",
       "      <td>28.96</td>\n",
       "      <td>3.77</td>\n",
       "      <td>8.45</td>\n",
       "      <td>76.0</td>\n",
       "      <td>8.0</td>\n",
       "      <td>E</td>\n",
       "      <td>82.54</td>\n",
       "    </tr>\n",
       "    <tr>\n",
       "      <th>1</th>\n",
       "      <td>Super Mario Bros.</td>\n",
       "      <td>NES</td>\n",
       "      <td>1985</td>\n",
       "      <td>Platform</td>\n",
       "      <td>29.08</td>\n",
       "      <td>3.58</td>\n",
       "      <td>6.81</td>\n",
       "      <td>0.77</td>\n",
       "      <td>NaN</td>\n",
       "      <td>NaN</td>\n",
       "      <td></td>\n",
       "      <td>40.24</td>\n",
       "    </tr>\n",
       "    <tr>\n",
       "      <th>2</th>\n",
       "      <td>Mario Kart Wii</td>\n",
       "      <td>Wii</td>\n",
       "      <td>2008</td>\n",
       "      <td>Racing</td>\n",
       "      <td>15.68</td>\n",
       "      <td>12.76</td>\n",
       "      <td>3.79</td>\n",
       "      <td>3.29</td>\n",
       "      <td>82.0</td>\n",
       "      <td>8.3</td>\n",
       "      <td>E</td>\n",
       "      <td>35.52</td>\n",
       "    </tr>\n",
       "    <tr>\n",
       "      <th>3</th>\n",
       "      <td>Wii Sports Resort</td>\n",
       "      <td>Wii</td>\n",
       "      <td>2009</td>\n",
       "      <td>Sports</td>\n",
       "      <td>15.61</td>\n",
       "      <td>10.93</td>\n",
       "      <td>3.28</td>\n",
       "      <td>2.95</td>\n",
       "      <td>80.0</td>\n",
       "      <td>8.0</td>\n",
       "      <td>E</td>\n",
       "      <td>32.77</td>\n",
       "    </tr>\n",
       "    <tr>\n",
       "      <th>4</th>\n",
       "      <td>Pokemon Red/Pokemon Blue</td>\n",
       "      <td>GB</td>\n",
       "      <td>1996</td>\n",
       "      <td>Role-Playing</td>\n",
       "      <td>11.27</td>\n",
       "      <td>8.89</td>\n",
       "      <td>10.22</td>\n",
       "      <td>1.00</td>\n",
       "      <td>NaN</td>\n",
       "      <td>NaN</td>\n",
       "      <td></td>\n",
       "      <td>31.38</td>\n",
       "    </tr>\n",
       "  </tbody>\n",
       "</table>\n",
       "</div>"
      ],
      "text/plain": [
       "                       name platform  year_of_release         genre  na_sales  \\\n",
       "0                Wii Sports      Wii             2006        Sports     41.36   \n",
       "1         Super Mario Bros.      NES             1985      Platform     29.08   \n",
       "2            Mario Kart Wii      Wii             2008        Racing     15.68   \n",
       "3         Wii Sports Resort      Wii             2009        Sports     15.61   \n",
       "4  Pokemon Red/Pokemon Blue       GB             1996  Role-Playing     11.27   \n",
       "\n",
       "   eu_sales  jp_sales  other_sales  critic_score  user_score rating  \\\n",
       "0     28.96      3.77         8.45          76.0         8.0      E   \n",
       "1      3.58      6.81         0.77           NaN         NaN          \n",
       "2     12.76      3.79         3.29          82.0         8.3      E   \n",
       "3     10.93      3.28         2.95          80.0         8.0      E   \n",
       "4      8.89     10.22         1.00           NaN         NaN          \n",
       "\n",
       "   total_sales  \n",
       "0        82.54  \n",
       "1        40.24  \n",
       "2        35.52  \n",
       "3        32.77  \n",
       "4        31.38  "
      ]
     },
     "execution_count": 13,
     "metadata": {},
     "output_type": "execute_result"
    }
   ],
   "source": [
    "#просмотр\n",
    "data.head()"
   ]
  },
  {
   "cell_type": "markdown",
   "metadata": {},
   "source": [
    "## Исследовательский анализ данных\n",
    "### Сколько игр выпускалось в разные годы"
   ]
  },
  {
   "cell_type": "code",
   "execution_count": 14,
   "metadata": {},
   "outputs": [
    {
     "data": {
      "text/plain": [
       "<AxesSubplot:xlabel='year_of_release'>"
      ]
     },
     "execution_count": 14,
     "metadata": {},
     "output_type": "execute_result"
    },
    {
     "data": {
      "image/png": "[encoded data removed]",
      "text/plain": [
       "<Figure size 432x288 with 1 Axes>"
      ]
     },
     "metadata": {
      "needs_background": "light"
     },
     "output_type": "display_data"
    }
   ],
   "source": [
    "data.query('year_of_release != 2030') \\\n",
    ".groupby('year_of_release')['name'].count().plot(kind='line')"
   ]
  },
  {
   "cell_type": "code",
   "execution_count": 15,
   "metadata": {},
   "outputs": [
    {
     "data": {
      "text/plain": [
       "year_of_release\n",
       "2008    1427\n",
       "2009    1426\n",
       "2010    1255\n",
       "2007    1197\n",
       "2011    1136\n",
       "2006    1006\n",
       "2005     939\n",
       "2002     829\n",
       "2003     775\n",
       "2004     762\n",
       "2012     653\n",
       "2015     606\n",
       "2014     581\n",
       "2013     544\n",
       "2016     502\n",
       "2001     482\n",
       "1998     379\n",
       "2000     350\n",
       "1999     338\n",
       "1997     289\n",
       "1996     263\n",
       "1995     219\n",
       "1994     121\n",
       "1993      60\n",
       "1981      46\n",
       "1992      43\n",
       "1991      41\n",
       "1982      36\n",
       "1986      21\n",
       "1989      17\n",
       "1983      17\n",
       "1990      16\n",
       "1987      16\n",
       "1988      15\n",
       "1985      14\n",
       "1984      14\n",
       "1980       9\n",
       "Name: name, dtype: int64"
      ]
     },
     "execution_count": 15,
     "metadata": {},
     "output_type": "execute_result"
    }
   ],
   "source": [
    "data.query('year_of_release != 2030') \\\n",
    ".groupby('year_of_release')['name'].count().sort_values(ascending=False)"
   ]
  },
  {
   "cell_type": "code",
   "execution_count": 16,
   "metadata": {},
   "outputs": [
    {
     "data": {
      "text/plain": [
       "<AxesSubplot:xlabel='year_of_release'>"
      ]
     },
     "execution_count": 16,
     "metadata": {},
     "output_type": "execute_result"
    },
    {
     "data": {
      "image/png": "[encoded data removed]",
      "text/plain": [
       "<Figure size 432x288 with 1 Axes>"
      ]
     },
     "metadata": {
      "needs_background": "light"
     },
     "output_type": "display_data"
    }
   ],
   "source": [
    "data.query('year_of_release != 2030') \\\n",
    ".groupby('year_of_release')['name'].count().sort_values(ascending=False).plot(kind='bar')"
   ]
  },
  {
   "cell_type": "markdown",
   "metadata": {},
   "source": [
    "Пик выпускаемых игр пришелся на 2008-2011 года, 1990-2008 подъем количества выпускаемых игр."
   ]
  },
  {
   "cell_type": "markdown",
   "metadata": {},
   "source": [
    "Для прогноза на 2017 год важен период 2003-2015 года, так как большая часть старых платформ уже исчезла к 2016 году, а новые платформы еще только набирают обороты."
   ]
  },
  {
   "cell_type": "markdown",
   "metadata": {},
   "source": [
    "### Изменение продаж по платформам."
   ]
  },
  {
   "cell_type": "code",
   "execution_count": 17,
   "metadata": {},
   "outputs": [
    {
     "data": {
      "text/html": [
       "<div>\n",
       "<style scoped>\n",
       "    .dataframe tbody tr th:only-of-type {\n",
       "        vertical-align: middle;\n",
       "    }\n",
       "\n",
       "    .dataframe tbody tr th {\n",
       "        vertical-align: top;\n",
       "    }\n",
       "\n",
       "    .dataframe thead th {\n",
       "        text-align: right;\n",
       "    }\n",
       "</style>\n",
       "<table border=\"1\" class=\"dataframe\">\n",
       "  <thead>\n",
       "    <tr style=\"text-align: right;\">\n",
       "      <th></th>\n",
       "      <th>total_sales</th>\n",
       "    </tr>\n",
       "    <tr>\n",
       "      <th>platform</th>\n",
       "      <th></th>\n",
       "    </tr>\n",
       "  </thead>\n",
       "  <tbody>\n",
       "    <tr>\n",
       "      <th>PS2</th>\n",
       "      <td>1255.77</td>\n",
       "    </tr>\n",
       "    <tr>\n",
       "      <th>X360</th>\n",
       "      <td>971.42</td>\n",
       "    </tr>\n",
       "    <tr>\n",
       "      <th>PS3</th>\n",
       "      <td>939.65</td>\n",
       "    </tr>\n",
       "    <tr>\n",
       "      <th>Wii</th>\n",
       "      <td>907.51</td>\n",
       "    </tr>\n",
       "    <tr>\n",
       "      <th>DS</th>\n",
       "      <td>806.12</td>\n",
       "    </tr>\n",
       "  </tbody>\n",
       "</table>\n",
       "</div>"
      ],
      "text/plain": [
       "          total_sales\n",
       "platform             \n",
       "PS2           1255.77\n",
       "X360           971.42\n",
       "PS3            939.65\n",
       "Wii            907.51\n",
       "DS             806.12"
      ]
     },
     "execution_count": 17,
     "metadata": {},
     "output_type": "execute_result"
    }
   ],
   "source": [
    "data.groupby(by='platform').agg({'total_sales':'sum'}).sort_values(by='total_sales', ascending=False).head()"
   ]
  },
  {
   "cell_type": "markdown",
   "metadata": {},
   "source": [
    "Наиболее продаваемыми стали игры на платформе **PS2(1255.77), X360(971.42), PS3(939.65), после уже Wii(907.51), DS(806.12).**"
   ]
  },
  {
   "cell_type": "code",
   "execution_count": 18,
   "metadata": {},
   "outputs": [
    {
     "data": {
      "text/plain": [
       "<AxesSubplot:title={'center':'PS2'}, xlabel='year_of_release'>"
      ]
     },
     "execution_count": 18,
     "metadata": {},
     "output_type": "execute_result"
    },
    {
     "data": {
      "image/png": "[encoded data removed]",
      "text/plain": [
       "<Figure size 360x144 with 1 Axes>"
      ]
     },
     "metadata": {
      "needs_background": "light"
     },
     "output_type": "display_data"
    }
   ],
   "source": [
    "#гистограммы суммарных продаж по годам \n",
    "\n",
    "#PS2\n",
    "data.query('platform == \"PS2\" and year_of_release != 2030') \\\n",
    ".pivot_table(index='year_of_release', values='total_sales', aggfunc=sum) \\\n",
    ".plot(kind='line', figsize=(5, 2), title='PS2', grid=True)"
   ]
  },
  {
   "cell_type": "markdown",
   "metadata": {},
   "source": [
    "Пик продаж для данной платформы пришелся на период 2002-2004 года, после чего начался спад."
   ]
  },
  {
   "cell_type": "code",
   "execution_count": 19,
   "metadata": {},
   "outputs": [
    {
     "data": {
      "text/plain": [
       "<AxesSubplot:title={'center':'X360'}, xlabel='year_of_release'>"
      ]
     },
     "execution_count": 19,
     "metadata": {},
     "output_type": "execute_result"
    },
    {
     "data": {
      "image/png": "[encoded data removed]",
      "text/plain": [
       "<Figure size 360x144 with 1 Axes>"
      ]
     },
     "metadata": {
      "needs_background": "light"
     },
     "output_type": "display_data"
    }
   ],
   "source": [
    "#X360\n",
    "data.query('platform == \"X360\" and year_of_release != 2030') \\\n",
    ".pivot_table(index='year_of_release', values='total_sales', aggfunc=sum) \\\n",
    ".plot(kind='line', figsize=(5, 2), title='X360', grid=True)"
   ]
  },
  {
   "cell_type": "markdown",
   "metadata": {},
   "source": [
    "Пик продаж для данной платформы пришелся на период 2009-2010 года, после начался спад."
   ]
  },
  {
   "cell_type": "code",
   "execution_count": 20,
   "metadata": {},
   "outputs": [
    {
     "data": {
      "text/plain": [
       "<AxesSubplot:title={'center':'PS3'}, xlabel='year_of_release'>"
      ]
     },
     "execution_count": 20,
     "metadata": {},
     "output_type": "execute_result"
    },
    {
     "data": {
      "image/png": "[encoded data removed]",
      "text/plain": [
       "<Figure size 360x144 with 1 Axes>"
      ]
     },
     "metadata": {
      "needs_background": "light"
     },
     "output_type": "display_data"
    }
   ],
   "source": [
    "#PS3\n",
    "data.query('platform == \"PS3\" and year_of_release != 2030') \\\n",
    ".pivot_table(index='year_of_release', values='total_sales', aggfunc=sum) \\\n",
    ".plot( kind='line', figsize=(5, 2), title='PS3', grid=True)"
   ]
  },
  {
   "cell_type": "markdown",
   "metadata": {},
   "source": [
    "Пик продаж для данной платформы пришелся на период 2008-2011 года, после начался спад, с небольшим подьемом в 2013."
   ]
  },
  {
   "cell_type": "code",
   "execution_count": 21,
   "metadata": {},
   "outputs": [
    {
     "data": {
      "text/plain": [
       "<AxesSubplot:title={'center':'DS'}, xlabel='year_of_release'>"
      ]
     },
     "execution_count": 21,
     "metadata": {},
     "output_type": "execute_result"
    },
    {
     "data": {
      "image/png": "[encoded data removed]",
      "text/plain": [
       "<Figure size 360x144 with 1 Axes>"
      ]
     },
     "metadata": {
      "needs_background": "light"
     },
     "output_type": "display_data"
    }
   ],
   "source": [
    "#DS\n",
    "data.query('platform == \"DS\" and year_of_release != 2030') \\\n",
    ".pivot_table(index='year_of_release', values='total_sales', aggfunc=sum) \\\n",
    ".plot(kind='line',figsize=(5, 2), grid=True, title='DS')"
   ]
  },
  {
   "cell_type": "markdown",
   "metadata": {},
   "source": [
    "Данные 1985-2000 похожи на аномалию, стоит проверить."
   ]
  },
  {
   "cell_type": "code",
   "execution_count": 22,
   "metadata": {},
   "outputs": [
    {
     "data": {
      "text/plain": [
       "<AxesSubplot:title={'center':'DS'}, xlabel='year_of_release'>"
      ]
     },
     "execution_count": 22,
     "metadata": {},
     "output_type": "execute_result"
    },
    {
     "data": {
      "image/png": "[encoded data removed]",
      "text/plain": [
       "<Figure size 360x144 with 1 Axes>"
      ]
     },
     "metadata": {
      "needs_background": "light"
     },
     "output_type": "display_data"
    }
   ],
   "source": [
    "data.query('platform == \"DS\" and year_of_release != 2030') \\\n",
    ".pivot_table(index='year_of_release', values='total_sales', aggfunc=sum) \\\n",
    ".plot(kind='bar',figsize=(5, 2), grid=True, title='DS')"
   ]
  },
  {
   "cell_type": "markdown",
   "metadata": {},
   "source": [
    "Данные до 2004 года отсутствуют, так как платформа еще не появилась. Пик продаж для данной платформы пришелся на период 2004-2007 года, после начался спад."
   ]
  },
  {
   "cell_type": "code",
   "execution_count": 23,
   "metadata": {},
   "outputs": [
    {
     "data": {
      "text/plain": [
       "<AxesSubplot:title={'center':'Wii'}, xlabel='year_of_release'>"
      ]
     },
     "execution_count": 23,
     "metadata": {},
     "output_type": "execute_result"
    },
    {
     "data": {
      "image/png": "[encoded data removed]",
      "text/plain": [
       "<Figure size 360x144 with 1 Axes>"
      ]
     },
     "metadata": {
      "needs_background": "light"
     },
     "output_type": "display_data"
    }
   ],
   "source": [
    "#Wii\n",
    "data.query('platform == \"Wii\" and year_of_release != 2030') \\\n",
    ".pivot_table(index='year_of_release', values='total_sales', aggfunc=sum) \\\n",
    ".plot(kind='line', figsize=(5, 2), grid=True, title='Wii')"
   ]
  },
  {
   "cell_type": "markdown",
   "metadata": {},
   "source": [
    "Пик продаж для данной платформы пришелся на 2009 год, после начался резкий спад."
   ]
  },
  {
   "cell_type": "markdown",
   "metadata": {},
   "source": [
    "### За какой характерный срок появляются новые и исчезают старые платформы?"
   ]
  },
  {
   "cell_type": "code",
   "execution_count": 24,
   "metadata": {},
   "outputs": [
    {
     "name": "stdout",
     "output_type": "stream",
     "text": [
      "Средний срок появления и исчезновая топ-5 платформ:  14.0\n"
     ]
    }
   ],
   "source": [
    "#просчет среднего времени для топ-5 платформ\n",
    "#PS2\n",
    "PS2 = data.query('platform == \"PS2\" and year_of_release != 2030')\n",
    "PS2_max = PS2['year_of_release'].max()\n",
    "PS2_min = PS2['year_of_release'].min()\n",
    "PS2_sr = PS2_max - PS2_min\n",
    "\n",
    "#X360\n",
    "X360 = data.query('platform == \"X360\" and year_of_release != 2030')\n",
    "X360_max = X360['year_of_release'].max()\n",
    "X360_min = X360['year_of_release'].min()\n",
    "X360_sr = X360_max - X360_min\n",
    "\n",
    "#PS3\n",
    "PS3 = data.query('platform == \"PS3\" and year_of_release != 2030')\n",
    "PS3_max = PS3['year_of_release'].max()\n",
    "PS3_min = PS3['year_of_release'].min()\n",
    "PS3_sr = PS3_max - PS3_min\n",
    "\n",
    "#Wii\n",
    "Wii = data.query('platform == \"Wii\" and year_of_release != 2030')\n",
    "Wii_max = Wii['year_of_release'].max()\n",
    "Wii_min = Wii['year_of_release'].min()\n",
    "Wii_sr = Wii_max - Wii_min\n",
    "\n",
    "#DS\n",
    "DS = data.query('platform == \"DS\" and year_of_release != 2030')\n",
    "DS_max = DS['year_of_release'].max()\n",
    "DS_min = DS['year_of_release'].min()\n",
    "DS_sr = DS_max - DS_min\n",
    "\n",
    "all_mean = (PS2_sr + X360_sr + PS3_sr + Wii_sr + DS_sr) / 5\n",
    "print(\"Средний срок появления и исчезновая топ-5 платформ: \", all_mean)"
   ]
  },
  {
   "cell_type": "markdown",
   "metadata": {},
   "source": [
    "Средний срок появления и исчезновая платформ равен 14 годам. За исключение Nintendo DS(1985), большая часть платформ появилась в 2006 году и постепенно ушли в неведение к 2016 году."
   ]
  },
  {
   "cell_type": "markdown",
   "metadata": {},
   "source": [
    "**Общий вывод: срок жизни платформ периода 2006-2016 годов (14 лет). Многие кампании перевыпустили свои платформы, заменив их старых собратьев( Sony PS заменили PS2, PS2 на PS3, Nintendo NES на SNES).**"
   ]
  },
  {
   "cell_type": "markdown",
   "metadata": {},
   "source": [
    "Определим, какие платформы все еще живы в 2016 году. А так же выберем актуальный период."
   ]
  },
  {
   "cell_type": "code",
   "execution_count": 25,
   "metadata": {},
   "outputs": [
    {
     "data": {
      "text/plain": [
       "array(['PS4', '3DS', 'XOne', 'WiiU', 'PS3', 'PC', 'X360', 'PSV', 'Wii'],\n",
       "      dtype=object)"
      ]
     },
     "execution_count": 25,
     "metadata": {},
     "output_type": "execute_result"
    }
   ],
   "source": [
    "data_2016 = data[(data.year_of_release == 2016) & (data.total_sales > 0)]\n",
    "data_2016['platform'].unique()"
   ]
  },
  {
   "cell_type": "markdown",
   "metadata": {},
   "source": [
    "В 2016 году мы видим следующие платформы: **PS4, 3DS, XOne, WiiU, PS3, PC, X360, PSV, Wii.**"
   ]
  },
  {
   "cell_type": "code",
   "execution_count": 26,
   "metadata": {},
   "outputs": [
    {
     "data": {
      "text/plain": [
       "<AxesSubplot:xlabel='year_of_release'>"
      ]
     },
     "execution_count": 26,
     "metadata": {},
     "output_type": "execute_result"
    },
    {
     "data": {
      "image/png": "[encoded data removed]",
      "text/plain": [
       "<Figure size 1440x360 with 1 Axes>"
      ]
     },
     "metadata": {
      "needs_background": "light"
     },
     "output_type": "display_data"
    }
   ],
   "source": [
    "data.query('year_of_release != 2030') \\\n",
    ".groupby('year_of_release')['total_sales'].sum().plot(grid=True, kind='bar',figsize=(20, 5))"
   ]
  },
  {
   "cell_type": "markdown",
   "metadata": {},
   "source": [
    "Наблюдается резкое падение в периоды 2016 году из-за неполноты данных. Видимо есть пробелы в заполнении данных за 2016 год. Нужно избавиться от выбросов и использовать данные без нулевых продаж в 2016 году. Наблюдается нормальное распределение в период 2002-2015 года."
   ]
  },
  {
   "cell_type": "markdown",
   "metadata": {},
   "source": [
    "Посмотрим на выбросы в данных"
   ]
  },
  {
   "cell_type": "code",
   "execution_count": null,
   "metadata": {},
   "outputs": [],
   "source": []
  },
  {
   "cell_type": "code",
   "execution_count": 41,
   "metadata": {},
   "outputs": [
    {
     "data": {
      "text/plain": [
       "<AxesSubplot:>"
      ]
     },
     "execution_count": 41,
     "metadata": {},
     "output_type": "execute_result"
    },
    {
     "data": {
      "image/png": "[encoded data removed]",
      "text/plain": [
       "<Figure size 432x288 with 1 Axes>"
      ]
     },
     "metadata": {
      "needs_background": "light"
     },
     "output_type": "display_data"
    }
   ],
   "source": [
    "ps4=data.query('platform == \"PS4\" and year_of_release != 2030')\n",
    "ps4.boxplot()"
   ]
  },
  {
   "cell_type": "code",
   "execution_count": 26,
   "metadata": {},
   "outputs": [
    {
     "data": {
      "text/plain": [
       "<AxesSubplot:xlabel='platform', ylabel='total_sales'>"
      ]
     },
     "execution_count": 26,
     "metadata": {},
     "output_type": "execute_result"
    },
    {
     "data": {
      "image/png": "[encoded data removed]",
      "text/plain": [
       "<Figure size 720x720 with 1 Axes>"
      ]
     },
     "metadata": {
      "needs_background": "light"
     },
     "output_type": "display_data"
    }
   ],
   "source": [
    "plt.figure(figsize=(10,10))\n",
    "sns.boxplot (x = 'platform', y = 'total_sales', data = data, palette='rainbow')"
   ]
  },
  {
   "cell_type": "code",
   "execution_count": 27,
   "metadata": {},
   "outputs": [
    {
     "data": {
      "text/html": [
       "<div>\n",
       "<style scoped>\n",
       "    .dataframe tbody tr th:only-of-type {\n",
       "        vertical-align: middle;\n",
       "    }\n",
       "\n",
       "    .dataframe tbody tr th {\n",
       "        vertical-align: top;\n",
       "    }\n",
       "\n",
       "    .dataframe thead th {\n",
       "        text-align: right;\n",
       "    }\n",
       "</style>\n",
       "<table border=\"1\" class=\"dataframe\">\n",
       "  <thead>\n",
       "    <tr style=\"text-align: right;\">\n",
       "      <th></th>\n",
       "      <th>year_of_release</th>\n",
       "      <th>na_sales</th>\n",
       "      <th>eu_sales</th>\n",
       "      <th>jp_sales</th>\n",
       "      <th>other_sales</th>\n",
       "      <th>critic_score</th>\n",
       "      <th>user_score</th>\n",
       "      <th>total_sales</th>\n",
       "    </tr>\n",
       "  </thead>\n",
       "  <tbody>\n",
       "    <tr>\n",
       "      <th>count</th>\n",
       "      <td>16715.000000</td>\n",
       "      <td>16715.000000</td>\n",
       "      <td>16715.000000</td>\n",
       "      <td>16715.000000</td>\n",
       "      <td>16715.000000</td>\n",
       "      <td>8137.000000</td>\n",
       "      <td>7590.000000</td>\n",
       "      <td>16715.000000</td>\n",
       "    </tr>\n",
       "    <tr>\n",
       "      <th>mean</th>\n",
       "      <td>2006.863057</td>\n",
       "      <td>0.263377</td>\n",
       "      <td>0.145060</td>\n",
       "      <td>0.077617</td>\n",
       "      <td>0.047342</td>\n",
       "      <td>68.967679</td>\n",
       "      <td>7.125046</td>\n",
       "      <td>0.533396</td>\n",
       "    </tr>\n",
       "    <tr>\n",
       "      <th>std</th>\n",
       "      <td>6.537607</td>\n",
       "      <td>0.813604</td>\n",
       "      <td>0.503339</td>\n",
       "      <td>0.308853</td>\n",
       "      <td>0.186731</td>\n",
       "      <td>13.938165</td>\n",
       "      <td>1.500006</td>\n",
       "      <td>1.548261</td>\n",
       "    </tr>\n",
       "    <tr>\n",
       "      <th>min</th>\n",
       "      <td>1980.000000</td>\n",
       "      <td>0.000000</td>\n",
       "      <td>0.000000</td>\n",
       "      <td>0.000000</td>\n",
       "      <td>0.000000</td>\n",
       "      <td>13.000000</td>\n",
       "      <td>0.000000</td>\n",
       "      <td>0.000000</td>\n",
       "    </tr>\n",
       "    <tr>\n",
       "      <th>25%</th>\n",
       "      <td>2003.000000</td>\n",
       "      <td>0.000000</td>\n",
       "      <td>0.000000</td>\n",
       "      <td>0.000000</td>\n",
       "      <td>0.000000</td>\n",
       "      <td>60.000000</td>\n",
       "      <td>6.400000</td>\n",
       "      <td>0.060000</td>\n",
       "    </tr>\n",
       "    <tr>\n",
       "      <th>50%</th>\n",
       "      <td>2008.000000</td>\n",
       "      <td>0.080000</td>\n",
       "      <td>0.020000</td>\n",
       "      <td>0.000000</td>\n",
       "      <td>0.010000</td>\n",
       "      <td>71.000000</td>\n",
       "      <td>7.500000</td>\n",
       "      <td>0.170000</td>\n",
       "    </tr>\n",
       "    <tr>\n",
       "      <th>75%</th>\n",
       "      <td>2011.000000</td>\n",
       "      <td>0.240000</td>\n",
       "      <td>0.110000</td>\n",
       "      <td>0.040000</td>\n",
       "      <td>0.030000</td>\n",
       "      <td>79.000000</td>\n",
       "      <td>8.200000</td>\n",
       "      <td>0.470000</td>\n",
       "    </tr>\n",
       "    <tr>\n",
       "      <th>max</th>\n",
       "      <td>2030.000000</td>\n",
       "      <td>41.360000</td>\n",
       "      <td>28.960000</td>\n",
       "      <td>10.220000</td>\n",
       "      <td>10.570000</td>\n",
       "      <td>98.000000</td>\n",
       "      <td>9.700000</td>\n",
       "      <td>82.540000</td>\n",
       "    </tr>\n",
       "  </tbody>\n",
       "</table>\n",
       "</div>"
      ],
      "text/plain": [
       "       year_of_release      na_sales      eu_sales      jp_sales  \\\n",
       "count     16715.000000  16715.000000  16715.000000  16715.000000   \n",
       "mean       2006.863057      0.263377      0.145060      0.077617   \n",
       "std           6.537607      0.813604      0.503339      0.308853   \n",
       "min        1980.000000      0.000000      0.000000      0.000000   \n",
       "25%        2003.000000      0.000000      0.000000      0.000000   \n",
       "50%        2008.000000      0.080000      0.020000      0.000000   \n",
       "75%        2011.000000      0.240000      0.110000      0.040000   \n",
       "max        2030.000000     41.360000     28.960000     10.220000   \n",
       "\n",
       "        other_sales  critic_score   user_score   total_sales  \n",
       "count  16715.000000   8137.000000  7590.000000  16715.000000  \n",
       "mean       0.047342     68.967679     7.125046      0.533396  \n",
       "std        0.186731     13.938165     1.500006      1.548261  \n",
       "min        0.000000     13.000000     0.000000      0.000000  \n",
       "25%        0.000000     60.000000     6.400000      0.060000  \n",
       "50%        0.010000     71.000000     7.500000      0.170000  \n",
       "75%        0.030000     79.000000     8.200000      0.470000  \n",
       "max       10.570000     98.000000     9.700000     82.540000  "
      ]
     },
     "execution_count": 27,
     "metadata": {},
     "output_type": "execute_result"
    }
   ],
   "source": [
    "data.describe()"
   ]
  },
  {
   "cell_type": "markdown",
   "metadata": {},
   "source": [
    "Выбросы появляются на отметке выше 80. От них и нужно избавиться."
   ]
  },
  {
   "cell_type": "code",
   "execution_count": 28,
   "metadata": {},
   "outputs": [],
   "source": [
    "#убираем выбросы\n",
    "data = data[(data['total_sales'] < 80)]\n",
    "\n",
    "#оставляем период с нормальным распределением 2013-2015\n",
    "data = data[(data['year_of_release'] > 2013) & (data['year_of_release'] < 2016)]"
   ]
  },
  {
   "cell_type": "code",
   "execution_count": 29,
   "metadata": {},
   "outputs": [
    {
     "data": {
      "text/html": [
       "<div>\n",
       "<style scoped>\n",
       "    .dataframe tbody tr th:only-of-type {\n",
       "        vertical-align: middle;\n",
       "    }\n",
       "\n",
       "    .dataframe tbody tr th {\n",
       "        vertical-align: top;\n",
       "    }\n",
       "\n",
       "    .dataframe thead th {\n",
       "        text-align: right;\n",
       "    }\n",
       "</style>\n",
       "<table border=\"1\" class=\"dataframe\">\n",
       "  <thead>\n",
       "    <tr style=\"text-align: right;\">\n",
       "      <th></th>\n",
       "      <th>year_of_release</th>\n",
       "      <th>na_sales</th>\n",
       "      <th>eu_sales</th>\n",
       "      <th>jp_sales</th>\n",
       "      <th>other_sales</th>\n",
       "      <th>critic_score</th>\n",
       "      <th>user_score</th>\n",
       "      <th>total_sales</th>\n",
       "    </tr>\n",
       "  </thead>\n",
       "  <tbody>\n",
       "    <tr>\n",
       "      <th>count</th>\n",
       "      <td>1187.000000</td>\n",
       "      <td>1187.000000</td>\n",
       "      <td>1187.000000</td>\n",
       "      <td>1187.000000</td>\n",
       "      <td>1187.000000</td>\n",
       "      <td>486.000000</td>\n",
       "      <td>626.000000</td>\n",
       "      <td>1187.000000</td>\n",
       "    </tr>\n",
       "    <tr>\n",
       "      <th>mean</th>\n",
       "      <td>2014.510531</td>\n",
       "      <td>0.201457</td>\n",
       "      <td>0.184886</td>\n",
       "      <td>0.062157</td>\n",
       "      <td>0.056563</td>\n",
       "      <td>71.901235</td>\n",
       "      <td>6.620927</td>\n",
       "      <td>0.505063</td>\n",
       "    </tr>\n",
       "    <tr>\n",
       "      <th>std</th>\n",
       "      <td>0.500100</td>\n",
       "      <td>0.501396</td>\n",
       "      <td>0.503424</td>\n",
       "      <td>0.236606</td>\n",
       "      <td>0.157106</td>\n",
       "      <td>12.423063</td>\n",
       "      <td>1.551389</td>\n",
       "      <td>1.167734</td>\n",
       "    </tr>\n",
       "    <tr>\n",
       "      <th>min</th>\n",
       "      <td>2014.000000</td>\n",
       "      <td>0.000000</td>\n",
       "      <td>0.000000</td>\n",
       "      <td>0.000000</td>\n",
       "      <td>0.000000</td>\n",
       "      <td>19.000000</td>\n",
       "      <td>1.400000</td>\n",
       "      <td>0.010000</td>\n",
       "    </tr>\n",
       "    <tr>\n",
       "      <th>25%</th>\n",
       "      <td>2014.000000</td>\n",
       "      <td>0.000000</td>\n",
       "      <td>0.000000</td>\n",
       "      <td>0.000000</td>\n",
       "      <td>0.000000</td>\n",
       "      <td>65.250000</td>\n",
       "      <td>5.800000</td>\n",
       "      <td>0.040000</td>\n",
       "    </tr>\n",
       "    <tr>\n",
       "      <th>50%</th>\n",
       "      <td>2015.000000</td>\n",
       "      <td>0.030000</td>\n",
       "      <td>0.030000</td>\n",
       "      <td>0.010000</td>\n",
       "      <td>0.010000</td>\n",
       "      <td>73.000000</td>\n",
       "      <td>7.000000</td>\n",
       "      <td>0.120000</td>\n",
       "    </tr>\n",
       "    <tr>\n",
       "      <th>75%</th>\n",
       "      <td>2015.000000</td>\n",
       "      <td>0.165000</td>\n",
       "      <td>0.145000</td>\n",
       "      <td>0.050000</td>\n",
       "      <td>0.040000</td>\n",
       "      <td>81.000000</td>\n",
       "      <td>7.800000</td>\n",
       "      <td>0.440000</td>\n",
       "    </tr>\n",
       "    <tr>\n",
       "      <th>max</th>\n",
       "      <td>2015.000000</td>\n",
       "      <td>6.030000</td>\n",
       "      <td>6.310000</td>\n",
       "      <td>3.180000</td>\n",
       "      <td>2.380000</td>\n",
       "      <td>97.000000</td>\n",
       "      <td>9.300000</td>\n",
       "      <td>14.630000</td>\n",
       "    </tr>\n",
       "  </tbody>\n",
       "</table>\n",
       "</div>"
      ],
      "text/plain": [
       "       year_of_release     na_sales     eu_sales     jp_sales  other_sales  \\\n",
       "count      1187.000000  1187.000000  1187.000000  1187.000000  1187.000000   \n",
       "mean       2014.510531     0.201457     0.184886     0.062157     0.056563   \n",
       "std           0.500100     0.501396     0.503424     0.236606     0.157106   \n",
       "min        2014.000000     0.000000     0.000000     0.000000     0.000000   \n",
       "25%        2014.000000     0.000000     0.000000     0.000000     0.000000   \n",
       "50%        2015.000000     0.030000     0.030000     0.010000     0.010000   \n",
       "75%        2015.000000     0.165000     0.145000     0.050000     0.040000   \n",
       "max        2015.000000     6.030000     6.310000     3.180000     2.380000   \n",
       "\n",
       "       critic_score  user_score  total_sales  \n",
       "count    486.000000  626.000000  1187.000000  \n",
       "mean      71.901235    6.620927     0.505063  \n",
       "std       12.423063    1.551389     1.167734  \n",
       "min       19.000000    1.400000     0.010000  \n",
       "25%       65.250000    5.800000     0.040000  \n",
       "50%       73.000000    7.000000     0.120000  \n",
       "75%       81.000000    7.800000     0.440000  \n",
       "max       97.000000    9.300000    14.630000  "
      ]
     },
     "execution_count": 29,
     "metadata": {},
     "output_type": "execute_result"
    }
   ],
   "source": [
    "data.describe()"
   ]
  },
  {
   "cell_type": "markdown",
   "metadata": {},
   "source": [
    "Используем в дальнейшем данные в периоде **2013-2015 год. Это и будет Актуальным периодом**."
   ]
  },
  {
   "cell_type": "markdown",
   "metadata": {},
   "source": [
    "### Какие платформы лидируют по продажам, растут или падают?"
   ]
  },
  {
   "cell_type": "code",
   "execution_count": 30,
   "metadata": {},
   "outputs": [
    {
     "data": {
      "text/plain": [
       "array(['PS4', '3DS', 'XOne', 'WiiU', 'PS3', 'X360', 'PC', 'Wii', 'PSV',\n",
       "       'PSP'], dtype=object)"
      ]
     },
     "execution_count": 30,
     "metadata": {},
     "output_type": "execute_result"
    }
   ],
   "source": [
    "data['platform'].unique()"
   ]
  },
  {
   "cell_type": "markdown",
   "metadata": {},
   "source": [
    "В периоде 2013-2015 год с нормальным распределением присутствуют следующие платформы: **PS4, 3DS, XOne, WiiU, PS3, X360, PC, Wii, PSV, PSP.** Изучим поведение этих платформ в выбранном **Актуальном периоде 2013-2015 год**."
   ]
  },
  {
   "cell_type": "code",
   "execution_count": 31,
   "metadata": {},
   "outputs": [],
   "source": [
    "future = data[\n",
    "    (data['platform'] !='PS') & (data['platform'] !='PS2') &\n",
    "    (data['platform'] !='DS')\n",
    "]"
   ]
  },
  {
   "cell_type": "markdown",
   "metadata": {},
   "source": [
    "Теперь построим графики для всех оставшихся платформ."
   ]
  },
  {
   "cell_type": "code",
   "execution_count": 32,
   "metadata": {},
   "outputs": [
    {
     "data": {
      "text/plain": [
       "<AxesSubplot:title={'center':'PS4'}, xlabel='year_of_release'>"
      ]
     },
     "execution_count": 32,
     "metadata": {},
     "output_type": "execute_result"
    },
    {
     "data": {
      "image/png": "[encoded data removed]",
      "text/plain": [
       "<Figure size 1080x360 with 1 Axes>"
      ]
     },
     "metadata": {
      "needs_background": "light"
     },
     "output_type": "display_data"
    }
   ],
   "source": [
    "#PS4\n",
    "future.query('platform == \"PS4\" and year_of_release != 2030') \\\n",
    ".pivot_table(index='year_of_release', values='total_sales', aggfunc=sum) \\\n",
    ".plot(grid=True, kind='bar',figsize=(15, 5), title='PS4')"
   ]
  },
  {
   "cell_type": "markdown",
   "metadata": {},
   "source": [
    "**Продажи постепенно растут к 2015 и продолжают рости.**"
   ]
  },
  {
   "cell_type": "code",
   "execution_count": 33,
   "metadata": {},
   "outputs": [
    {
     "data": {
      "text/plain": [
       "<AxesSubplot:title={'center':'3DS'}, xlabel='year_of_release'>"
      ]
     },
     "execution_count": 33,
     "metadata": {},
     "output_type": "execute_result"
    },
    {
     "data": {
      "image/png": "[encoded data removed]",
      "text/plain": [
       "<Figure size 1080x360 with 1 Axes>"
      ]
     },
     "metadata": {
      "needs_background": "light"
     },
     "output_type": "display_data"
    }
   ],
   "source": [
    "#3DS\n",
    "future.query('platform == \"3DS\" and year_of_release != 2030') \\\n",
    ".pivot_table(index='year_of_release', values='total_sales', aggfunc=sum) \\\n",
    ".plot(grid=True, kind='bar',figsize=(15, 5), title='3DS')"
   ]
  },
  {
   "cell_type": "markdown",
   "metadata": {},
   "source": [
    "Пик пришелся на 2014 год и падает практически вполовину к 2015 году."
   ]
  },
  {
   "cell_type": "code",
   "execution_count": 34,
   "metadata": {},
   "outputs": [
    {
     "data": {
      "text/plain": [
       "<AxesSubplot:title={'center':'XOne'}, xlabel='year_of_release'>"
      ]
     },
     "execution_count": 34,
     "metadata": {},
     "output_type": "execute_result"
    },
    {
     "data": {
      "image/png": "[encoded data removed]",
      "text/plain": [
       "<Figure size 1080x360 with 1 Axes>"
      ]
     },
     "metadata": {
      "needs_background": "light"
     },
     "output_type": "display_data"
    }
   ],
   "source": [
    "#XOne\n",
    "future.query('platform == \"XOne\" and year_of_release != 2030') \\\n",
    ".pivot_table(index='year_of_release', values='total_sales', aggfunc=sum) \\\n",
    ".plot(grid=True, kind='bar',figsize=(15, 5), title='XOne')"
   ]
  },
  {
   "cell_type": "markdown",
   "metadata": {},
   "source": [
    "**Продажи постепенно растут к 2015 и продолжают рости.**"
   ]
  },
  {
   "cell_type": "code",
   "execution_count": 35,
   "metadata": {},
   "outputs": [
    {
     "data": {
      "text/plain": [
       "<AxesSubplot:title={'center':'WiiU'}, xlabel='year_of_release'>"
      ]
     },
     "execution_count": 35,
     "metadata": {},
     "output_type": "execute_result"
    },
    {
     "data": {
      "image/png": "[encoded data removed]",
      "text/plain": [
       "<Figure size 360x144 with 1 Axes>"
      ]
     },
     "metadata": {
      "needs_background": "light"
     },
     "output_type": "display_data"
    }
   ],
   "source": [
    "#WiiU\n",
    "future.query('platform == \"WiiU\" and year_of_release != 2030') \\\n",
    ".pivot_table(index='year_of_release', values='total_sales', aggfunc=sum) \\\n",
    ".plot(grid=True, kind='bar',figsize=(5, 2), title='WiiU')"
   ]
  },
  {
   "cell_type": "markdown",
   "metadata": {},
   "source": [
    "Пик пришелся на 2014 год в 22 единицы и начинаетя падение до 16 единиц к 2015 году."
   ]
  },
  {
   "cell_type": "code",
   "execution_count": 36,
   "metadata": {},
   "outputs": [
    {
     "data": {
      "text/plain": [
       "<AxesSubplot:title={'center':'PC'}, xlabel='year_of_release'>"
      ]
     },
     "execution_count": 36,
     "metadata": {},
     "output_type": "execute_result"
    },
    {
     "data": {
      "image/png": "[encoded data removed]",
      "text/plain": [
       "<Figure size 360x144 with 1 Axes>"
      ]
     },
     "metadata": {
      "needs_background": "light"
     },
     "output_type": "display_data"
    }
   ],
   "source": [
    "#PC\n",
    "future.query('platform == \"PC\" and year_of_release != 2030') \\\n",
    ".pivot_table(index='year_of_release', values='total_sales', aggfunc=sum) \\\n",
    ".plot(grid=True, kind='bar',figsize=(5, 2), title='PC')"
   ]
  },
  {
   "cell_type": "markdown",
   "metadata": {},
   "source": [
    "Падение к 2015 году."
   ]
  },
  {
   "cell_type": "code",
   "execution_count": 37,
   "metadata": {},
   "outputs": [
    {
     "data": {
      "text/plain": [
       "<AxesSubplot:title={'center':'PSV'}, xlabel='year_of_release'>"
      ]
     },
     "execution_count": 37,
     "metadata": {},
     "output_type": "execute_result"
    },
    {
     "data": {
      "image/png": "[encoded data removed]",
      "text/plain": [
       "<Figure size 1080x360 with 1 Axes>"
      ]
     },
     "metadata": {
      "needs_background": "light"
     },
     "output_type": "display_data"
    }
   ],
   "source": [
    "#PSV\n",
    "future.query('platform == \"PSV\" and year_of_release != 2030') \\\n",
    ".pivot_table(index='year_of_release', values='total_sales', aggfunc=sum) \\\n",
    ".plot(grid=True, kind='bar',figsize=(15, 5), title='PSV')"
   ]
  },
  {
   "cell_type": "markdown",
   "metadata": {},
   "source": [
    "Падение к 2015 году практически вполовину."
   ]
  },
  {
   "cell_type": "code",
   "execution_count": 38,
   "metadata": {},
   "outputs": [
    {
     "data": {
      "text/plain": [
       "<AxesSubplot:title={'center':'X360'}, xlabel='year_of_release'>"
      ]
     },
     "execution_count": 38,
     "metadata": {},
     "output_type": "execute_result"
    },
    {
     "data": {
      "image/png": "[encoded data removed]",
      "text/plain": [
       "<Figure size 1080x360 with 1 Axes>"
      ]
     },
     "metadata": {
      "needs_background": "light"
     },
     "output_type": "display_data"
    }
   ],
   "source": [
    "#X360\n",
    "future.query('platform == \"X360\" and year_of_release != 2030') \\\n",
    ".pivot_table(index='year_of_release', values='total_sales', aggfunc=sum) \\\n",
    ".plot(grid=True, kind='bar',figsize=(15, 5), title='X360')"
   ]
  },
  {
   "cell_type": "markdown",
   "metadata": {},
   "source": [
    "Наблюдается резкое падение к 2015 году."
   ]
  },
  {
   "cell_type": "code",
   "execution_count": 39,
   "metadata": {},
   "outputs": [
    {
     "data": {
      "text/plain": [
       "<AxesSubplot:title={'center':'PS3'}, xlabel='year_of_release'>"
      ]
     },
     "execution_count": 39,
     "metadata": {},
     "output_type": "execute_result"
    },
    {
     "data": {
      "image/png": "[encoded data removed]",
      "text/plain": [
       "<Figure size 1080x360 with 1 Axes>"
      ]
     },
     "metadata": {
      "needs_background": "light"
     },
     "output_type": "display_data"
    }
   ],
   "source": [
    "#PS3\n",
    "future.query('platform == \"PS3\" and year_of_release != 2030') \\\n",
    ".pivot_table(index='year_of_release', values='total_sales', aggfunc=sum) \\\n",
    ".plot(grid=True, kind='bar',figsize=(15, 5), title='PS3')"
   ]
  },
  {
   "cell_type": "markdown",
   "metadata": {},
   "source": [
    "Наблюдается резкое падение к 2015 году."
   ]
  },
  {
   "cell_type": "code",
   "execution_count": 40,
   "metadata": {},
   "outputs": [
    {
     "data": {
      "text/plain": [
       "<AxesSubplot:title={'center':'Wii'}, xlabel='year_of_release'>"
      ]
     },
     "execution_count": 40,
     "metadata": {},
     "output_type": "execute_result"
    },
    {
     "data": {
      "image/png": "[encoded data removed]",
      "text/plain": [
       "<Figure size 1080x360 with 1 Axes>"
      ]
     },
     "metadata": {
      "needs_background": "light"
     },
     "output_type": "display_data"
    }
   ],
   "source": [
    "#Wii\n",
    "future.query('platform == \"Wii\" and year_of_release != 2030') \\\n",
    ".pivot_table(index='year_of_release', values='total_sales', aggfunc=sum) \\\n",
    ".plot(grid=True, kind='bar',figsize=(15, 5), title='Wii')"
   ]
  },
  {
   "cell_type": "markdown",
   "metadata": {},
   "source": [
    "Наблюдается резкое падение к 2015 году."
   ]
  },
  {
   "cell_type": "markdown",
   "metadata": {},
   "source": [
    "**Вывод: самыми потенциально выгодными платформами стали PS4 и XOne.**"
   ]
  },
  {
   "cell_type": "markdown",
   "metadata": {},
   "source": [
    "### Построим график «ящик с усами» по глобальным продажам игр в разбивке по платформам. "
   ]
  },
  {
   "cell_type": "code",
   "execution_count": 41,
   "metadata": {},
   "outputs": [
    {
     "data": {
      "text/plain": [
       "<AxesSubplot:xlabel='platform', ylabel='total_sales'>"
      ]
     },
     "execution_count": 41,
     "metadata": {},
     "output_type": "execute_result"
    },
    {
     "data": {
      "image/png": "[encoded data removed]",
      "text/plain": [
       "<Figure size 720x720 with 1 Axes>"
      ]
     },
     "metadata": {
      "needs_background": "light"
     },
     "output_type": "display_data"
    }
   ],
   "source": [
    "plt.figure(figsize=(10,10))\n",
    "sns.boxplot (x = 'platform', y = 'total_sales', data = data, palette='rainbow')"
   ]
  },
  {
   "cell_type": "markdown",
   "metadata": {},
   "source": [
    "Вывод: **Продажи PS4, XOne, Wii самые высокие.**"
   ]
  },
  {
   "cell_type": "code",
   "execution_count": 42,
   "metadata": {},
   "outputs": [
    {
     "data": {
      "text/html": [
       "<style  type=\"text/css\" >\n",
       "#T_7c30a_row0_col0,#T_7c30a_row1_col1,#T_7c30a_row2_col2,#T_7c30a_row3_col3,#T_7c30a_row4_col4{\n",
       "            background-color:  #b40426;\n",
       "            color:  #f1f1f1;\n",
       "        }#T_7c30a_row0_col1{\n",
       "            background-color:  #ead5c9;\n",
       "            color:  #000000;\n",
       "        }#T_7c30a_row0_col2{\n",
       "            background-color:  #b7cff9;\n",
       "            color:  #000000;\n",
       "        }#T_7c30a_row0_col3{\n",
       "            background-color:  #a5c3fe;\n",
       "            color:  #000000;\n",
       "        }#T_7c30a_row0_col4,#T_7c30a_row1_col2,#T_7c30a_row1_col3,#T_7c30a_row3_col1,#T_7c30a_row4_col0{\n",
       "            background-color:  #3b4cc0;\n",
       "            color:  #f1f1f1;\n",
       "        }#T_7c30a_row1_col0{\n",
       "            background-color:  #d2dbe8;\n",
       "            color:  #000000;\n",
       "        }#T_7c30a_row1_col4{\n",
       "            background-color:  #506bda;\n",
       "            color:  #000000;\n",
       "        }#T_7c30a_row2_col0{\n",
       "            background-color:  #8caffe;\n",
       "            color:  #000000;\n",
       "        }#T_7c30a_row2_col1{\n",
       "            background-color:  #3e51c5;\n",
       "            color:  #f1f1f1;\n",
       "        }#T_7c30a_row2_col3{\n",
       "            background-color:  #f29274;\n",
       "            color:  #000000;\n",
       "        }#T_7c30a_row2_col4{\n",
       "            background-color:  #5e7de7;\n",
       "            color:  #000000;\n",
       "        }#T_7c30a_row3_col0{\n",
       "            background-color:  #7396f5;\n",
       "            color:  #000000;\n",
       "        }#T_7c30a_row3_col2{\n",
       "            background-color:  #f39475;\n",
       "            color:  #000000;\n",
       "        }#T_7c30a_row3_col4{\n",
       "            background-color:  #4961d2;\n",
       "            color:  #f1f1f1;\n",
       "        }#T_7c30a_row4_col1{\n",
       "            background-color:  #88abfd;\n",
       "            color:  #000000;\n",
       "        }#T_7c30a_row4_col2{\n",
       "            background-color:  #90b2fe;\n",
       "            color:  #000000;\n",
       "        }#T_7c30a_row4_col3{\n",
       "            background-color:  #81a4fb;\n",
       "            color:  #000000;\n",
       "        }</style><table id=\"T_7c30a_\" ><thead>    <tr>        <th class=\"blank level0\" ></th>        <th class=\"col_heading level0 col0\" >critic_score</th>        <th class=\"col_heading level0 col1\" >user_score</th>        <th class=\"col_heading level0 col2\" >na_sales</th>        <th class=\"col_heading level0 col3\" >eu_sales</th>        <th class=\"col_heading level0 col4\" >jp_sales</th>    </tr></thead><tbody>\n",
       "                <tr>\n",
       "                        <th id=\"T_7c30a_level0_row0\" class=\"row_heading level0 row0\" >critic_score</th>\n",
       "                        <td id=\"T_7c30a_row0_col0\" class=\"data row0 col0\" >1.000000</td>\n",
       "                        <td id=\"T_7c30a_row0_col1\" class=\"data row0 col1\" >0.537409</td>\n",
       "                        <td id=\"T_7c30a_row0_col2\" class=\"data row0 col2\" >0.357488</td>\n",
       "                        <td id=\"T_7c30a_row0_col3\" class=\"data row0 col3\" >0.294743</td>\n",
       "                        <td id=\"T_7c30a_row0_col4\" class=\"data row0 col4\" >0.143695</td>\n",
       "            </tr>\n",
       "            <tr>\n",
       "                        <th id=\"T_7c30a_level0_row1\" class=\"row_heading level0 row1\" >user_score</th>\n",
       "                        <td id=\"T_7c30a_row1_col0\" class=\"data row1 col0\" >0.537409</td>\n",
       "                        <td id=\"T_7c30a_row1_col1\" class=\"data row1 col1\" >1.000000</td>\n",
       "                        <td id=\"T_7c30a_row1_col2\" class=\"data row1 col2\" >-0.023225</td>\n",
       "                        <td id=\"T_7c30a_row1_col3\" class=\"data row1 col3\" >-0.036794</td>\n",
       "                        <td id=\"T_7c30a_row1_col4\" class=\"data row1 col4\" >0.207108</td>\n",
       "            </tr>\n",
       "            <tr>\n",
       "                        <th id=\"T_7c30a_level0_row2\" class=\"row_heading level0 row2\" >na_sales</th>\n",
       "                        <td id=\"T_7c30a_row2_col0\" class=\"data row2 col0\" >0.357488</td>\n",
       "                        <td id=\"T_7c30a_row2_col1\" class=\"data row2 col1\" >-0.023225</td>\n",
       "                        <td id=\"T_7c30a_row2_col2\" class=\"data row2 col2\" >1.000000</td>\n",
       "                        <td id=\"T_7c30a_row2_col3\" class=\"data row2 col3\" >0.758904</td>\n",
       "                        <td id=\"T_7c30a_row2_col4\" class=\"data row2 col4\" >0.241507</td>\n",
       "            </tr>\n",
       "            <tr>\n",
       "                        <th id=\"T_7c30a_level0_row3\" class=\"row_heading level0 row3\" >eu_sales</th>\n",
       "                        <td id=\"T_7c30a_row3_col0\" class=\"data row3 col0\" >0.294743</td>\n",
       "                        <td id=\"T_7c30a_row3_col1\" class=\"data row3 col1\" >-0.036794</td>\n",
       "                        <td id=\"T_7c30a_row3_col2\" class=\"data row3 col2\" >0.758904</td>\n",
       "                        <td id=\"T_7c30a_row3_col3\" class=\"data row3 col3\" >1.000000</td>\n",
       "                        <td id=\"T_7c30a_row3_col4\" class=\"data row3 col4\" >0.187041</td>\n",
       "            </tr>\n",
       "            <tr>\n",
       "                        <th id=\"T_7c30a_level0_row4\" class=\"row_heading level0 row4\" >jp_sales</th>\n",
       "                        <td id=\"T_7c30a_row4_col0\" class=\"data row4 col0\" >0.143695</td>\n",
       "                        <td id=\"T_7c30a_row4_col1\" class=\"data row4 col1\" >0.207108</td>\n",
       "                        <td id=\"T_7c30a_row4_col2\" class=\"data row4 col2\" >0.241507</td>\n",
       "                        <td id=\"T_7c30a_row4_col3\" class=\"data row4 col3\" >0.187041</td>\n",
       "                        <td id=\"T_7c30a_row4_col4\" class=\"data row4 col4\" >1.000000</td>\n",
       "            </tr>\n",
       "    </tbody></table>"
      ],
      "text/plain": [
       "<pandas.io.formats.style.Styler at 0x7ff410067910>"
      ]
     },
     "execution_count": 42,
     "metadata": {},
     "output_type": "execute_result"
    }
   ],
   "source": [
    "corr = data[['critic_score', 'user_score', 'na_sales', 'eu_sales', 'jp_sales']].corr()\n",
    "corr.style.background_gradient(cmap='coolwarm')"
   ]
  },
  {
   "cell_type": "markdown",
   "metadata": {},
   "source": [
    "Линейной зависимости между критиками и продажами практически не наблюдается. Нужно посмотреть графики"
   ]
  },
  {
   "cell_type": "code",
   "execution_count": 43,
   "metadata": {},
   "outputs": [
    {
     "data": {
      "text/plain": [
       "<AxesSubplot:xlabel='user_score', ylabel='total_sales'>"
      ]
     },
     "execution_count": 43,
     "metadata": {},
     "output_type": "execute_result"
    },
    {
     "data": {
      "image/png": "[encoded data removed]",
      "text/plain": [
       "<Figure size 2160x720 with 1 Axes>"
      ]
     },
     "metadata": {
      "needs_background": "light"
     },
     "output_type": "display_data"
    }
   ],
   "source": [
    "#влияние оценок пользователей\n",
    "plt.figure(figsize=(30,10))\n",
    "sns.barplot(data=data, x='user_score', y='total_sales')"
   ]
  },
  {
   "cell_type": "markdown",
   "metadata": {},
   "source": [
    "Игры с низкими рейтингами имеют как правило невысокие продажи. Игры с более высокими рейтингами более высокие продажи. **Наблюдается зависимость.**"
   ]
  },
  {
   "cell_type": "code",
   "execution_count": 44,
   "metadata": {
    "scrolled": false
   },
   "outputs": [
    {
     "data": {
      "text/plain": [
       "<AxesSubplot:xlabel='critic_score', ylabel='total_sales'>"
      ]
     },
     "execution_count": 44,
     "metadata": {},
     "output_type": "execute_result"
    },
    {
     "data": {
      "image/png": "[encoded data removed]",
      "text/plain": [
       "<Figure size 2160x720 with 1 Axes>"
      ]
     },
     "metadata": {
      "needs_background": "light"
     },
     "output_type": "display_data"
    }
   ],
   "source": [
    "#влияние оценок критиков\n",
    "plt.figure(figsize=(30,10))\n",
    "sns.barplot(data=data, x='critic_score', y='total_sales')"
   ]
  },
  {
   "cell_type": "markdown",
   "metadata": {},
   "source": [
    "Чем выше оценка критика тем больше продаж. **Наблюдается высокая зависимость.**"
   ]
  },
  {
   "cell_type": "markdown",
   "metadata": {},
   "source": [
    "**Вывод: наибольшая зависимость наблюдается между оценками критиков и продажами, между оценками пользователей и продажами так же наблюдается, но не такая высокая. Значит мнения критиков и пользователей не всегда совпадают.** "
   ]
  },
  {
   "cell_type": "markdown",
   "metadata": {},
   "source": [
    "### Соотнесем выводы с продажами игр на других платформах."
   ]
  },
  {
   "cell_type": "code",
   "execution_count": 45,
   "metadata": {},
   "outputs": [
    {
     "data": {
      "text/plain": [
       "Text(0.5, 1.0, 'Продажи по платформам')"
      ]
     },
     "execution_count": 45,
     "metadata": {},
     "output_type": "execute_result"
    },
    {
     "data": {
      "image/png": "[encoded data removed]",
      "text/plain": [
       "<Figure size 432x288 with 1 Axes>"
      ]
     },
     "metadata": {
      "needs_background": "light"
     },
     "output_type": "display_data"
    }
   ],
   "source": [
    "sns.stripplot(x = 'platform', y = 'total_sales', data = data)\n",
    "plt.title('Продажи по платформам')"
   ]
  },
  {
   "cell_type": "markdown",
   "metadata": {},
   "source": [
    "Наибольшее распределение по продажам имеют платформы: **PS4, 3DS**."
   ]
  },
  {
   "cell_type": "code",
   "execution_count": 46,
   "metadata": {},
   "outputs": [
    {
     "data": {
      "text/plain": [
       "<AxesSubplot:xlabel='genre'>"
      ]
     },
     "execution_count": 46,
     "metadata": {},
     "output_type": "execute_result"
    },
    {
     "data": {
      "image/png": "[encoded data removed]",
      "text/plain": [
       "<Figure size 720x360 with 1 Axes>"
      ]
     },
     "metadata": {
      "needs_background": "light"
     },
     "output_type": "display_data"
    }
   ],
   "source": [
    "#какие жанры наиболее продаваемы в общем\n",
    "data.groupby(by='genre') \\\n",
    ".agg({'total_sales':'sum'}) \\\n",
    ".sort_values(by='total_sales', ascending=False) \\\n",
    ".plot(kind='bar', figsize=(10,5))"
   ]
  },
  {
   "cell_type": "code",
   "execution_count": 47,
   "metadata": {},
   "outputs": [
    {
     "data": {
      "text/plain": [
       "<AxesSubplot:xlabel='genre'>"
      ]
     },
     "execution_count": 47,
     "metadata": {},
     "output_type": "execute_result"
    },
    {
     "data": {
      "image/png": "[encoded data removed]",
      "text/plain": [
       "<Figure size 432x288 with 1 Axes>"
      ]
     },
     "metadata": {
      "needs_background": "light"
     },
     "output_type": "display_data"
    }
   ],
   "source": [
    "#просмотр средних показателей по продажам и жанрам\n",
    "data.pivot_table(index='genre', values='total_sales', aggfunc='median') \\\n",
    ".sort_values(by='total_sales', ascending=False).plot(kind='bar')"
   ]
  },
  {
   "cell_type": "markdown",
   "metadata": {},
   "source": [
    "Вывод: **Топ-5 жанров по медианным показателям являются Shooter, Sports, Platform, Misc, Racing. Наименее продаваемыми являются Strategy, Puzzle, Adventure**."
   ]
  },
  {
   "cell_type": "markdown",
   "metadata": {},
   "source": [
    "## Составим портрет пользователя каждого региона"
   ]
  },
  {
   "cell_type": "markdown",
   "metadata": {},
   "source": [
    "### Определим для пользователя каждого региона (NA, EU, JP):"
   ]
  },
  {
   "cell_type": "markdown",
   "metadata": {},
   "source": [
    "#### Самые популярные платформы (топ-5). "
   ]
  },
  {
   "cell_type": "code",
   "execution_count": 48,
   "metadata": {},
   "outputs": [
    {
     "data": {
      "text/html": [
       "<div>\n",
       "<style scoped>\n",
       "    .dataframe tbody tr th:only-of-type {\n",
       "        vertical-align: middle;\n",
       "    }\n",
       "\n",
       "    .dataframe tbody tr th {\n",
       "        vertical-align: top;\n",
       "    }\n",
       "\n",
       "    .dataframe thead th {\n",
       "        text-align: right;\n",
       "    }\n",
       "</style>\n",
       "<table border=\"1\" class=\"dataframe\">\n",
       "  <thead>\n",
       "    <tr style=\"text-align: right;\">\n",
       "      <th></th>\n",
       "      <th>eu_sales</th>\n",
       "    </tr>\n",
       "    <tr>\n",
       "      <th>platform</th>\n",
       "      <th></th>\n",
       "    </tr>\n",
       "  </thead>\n",
       "  <tbody>\n",
       "    <tr>\n",
       "      <th>PS4</th>\n",
       "      <td>98.26</td>\n",
       "    </tr>\n",
       "    <tr>\n",
       "      <th>XOne</th>\n",
       "      <td>36.62</td>\n",
       "    </tr>\n",
       "    <tr>\n",
       "      <th>PS3</th>\n",
       "      <td>24.28</td>\n",
       "    </tr>\n",
       "    <tr>\n",
       "      <th>X360</th>\n",
       "      <td>14.78</td>\n",
       "    </tr>\n",
       "    <tr>\n",
       "      <th>PC</th>\n",
       "      <td>14.44</td>\n",
       "    </tr>\n",
       "  </tbody>\n",
       "</table>\n",
       "</div>"
      ],
      "text/plain": [
       "          eu_sales\n",
       "platform          \n",
       "PS4          98.26\n",
       "XOne         36.62\n",
       "PS3          24.28\n",
       "X360         14.78\n",
       "PC           14.44"
      ]
     },
     "execution_count": 48,
     "metadata": {},
     "output_type": "execute_result"
    },
    {
     "data": {
      "image/png": "[encoded data removed]",
      "text/plain": [
       "<Figure size 432x288 with 1 Axes>"
      ]
     },
     "metadata": {
      "needs_background": "light"
     },
     "output_type": "display_data"
    }
   ],
   "source": [
    "# топ-5 европейского региона\n",
    "data.groupby(by='platform').agg({'eu_sales':'sum'}).sort_values(by='eu_sales', ascending=False) \\\n",
    ".head(5).plot(kind='bar')\n",
    "\n",
    "data.groupby(by='platform').agg({'eu_sales':'sum'}).sort_values(by='eu_sales', ascending=False) \\\n",
    ".head(5)"
   ]
  },
  {
   "cell_type": "markdown",
   "metadata": {},
   "source": [
    "Вывод: **В топ-5 Европейского региона находятся платформы: PS4(98,26 млн), XOne(36,62 млн), PS3(24,28 млн), X360(14,78 млн), PC(14,44 млн)**."
   ]
  },
  {
   "cell_type": "code",
   "execution_count": 49,
   "metadata": {},
   "outputs": [
    {
     "data": {
      "text/html": [
       "<div>\n",
       "<style scoped>\n",
       "    .dataframe tbody tr th:only-of-type {\n",
       "        vertical-align: middle;\n",
       "    }\n",
       "\n",
       "    .dataframe tbody tr th {\n",
       "        vertical-align: top;\n",
       "    }\n",
       "\n",
       "    .dataframe thead th {\n",
       "        text-align: right;\n",
       "    }\n",
       "</style>\n",
       "<table border=\"1\" class=\"dataframe\">\n",
       "  <thead>\n",
       "    <tr style=\"text-align: right;\">\n",
       "      <th></th>\n",
       "      <th>na_sales</th>\n",
       "    </tr>\n",
       "    <tr>\n",
       "      <th>platform</th>\n",
       "      <th></th>\n",
       "    </tr>\n",
       "  </thead>\n",
       "  <tbody>\n",
       "    <tr>\n",
       "      <th>PS4</th>\n",
       "      <td>77.12</td>\n",
       "    </tr>\n",
       "    <tr>\n",
       "      <th>XOne</th>\n",
       "      <td>67.00</td>\n",
       "    </tr>\n",
       "    <tr>\n",
       "      <th>X360</th>\n",
       "      <td>27.61</td>\n",
       "    </tr>\n",
       "    <tr>\n",
       "      <th>PS3</th>\n",
       "      <td>21.38</td>\n",
       "    </tr>\n",
       "    <tr>\n",
       "      <th>3DS</th>\n",
       "      <td>18.50</td>\n",
       "    </tr>\n",
       "  </tbody>\n",
       "</table>\n",
       "</div>"
      ],
      "text/plain": [
       "          na_sales\n",
       "platform          \n",
       "PS4          77.12\n",
       "XOne         67.00\n",
       "X360         27.61\n",
       "PS3          21.38\n",
       "3DS          18.50"
      ]
     },
     "execution_count": 49,
     "metadata": {},
     "output_type": "execute_result"
    },
    {
     "data": {
      "image/png": "[encoded data removed]",
      "text/plain": [
       "<Figure size 432x288 with 1 Axes>"
      ]
     },
     "metadata": {
      "needs_background": "light"
     },
     "output_type": "display_data"
    }
   ],
   "source": [
    "# топ-5 Северной Америки\n",
    "data.groupby(by='platform').agg({'na_sales':'sum'}).sort_values(by='na_sales', ascending=False) \\\n",
    ".head(5).plot(kind='bar')\n",
    "\n",
    "data.groupby(by='platform').agg({'na_sales':'sum'}).sort_values(by='na_sales', ascending=False) \\\n",
    ".head(5)"
   ]
  },
  {
   "cell_type": "markdown",
   "metadata": {},
   "source": [
    "Вывод: **В топ-5 Северной Америки находятся платформы: PS4(77,12 млн), XOne(67 млн), X360(27,61 млн), PS3(21,38 млн), 3DS(18,5 млн).**"
   ]
  },
  {
   "cell_type": "code",
   "execution_count": 50,
   "metadata": {},
   "outputs": [
    {
     "data": {
      "text/html": [
       "<div>\n",
       "<style scoped>\n",
       "    .dataframe tbody tr th:only-of-type {\n",
       "        vertical-align: middle;\n",
       "    }\n",
       "\n",
       "    .dataframe tbody tr th {\n",
       "        vertical-align: top;\n",
       "    }\n",
       "\n",
       "    .dataframe thead th {\n",
       "        text-align: right;\n",
       "    }\n",
       "</style>\n",
       "<table border=\"1\" class=\"dataframe\">\n",
       "  <thead>\n",
       "    <tr style=\"text-align: right;\">\n",
       "      <th></th>\n",
       "      <th>jp_sales</th>\n",
       "    </tr>\n",
       "    <tr>\n",
       "      <th>platform</th>\n",
       "      <th></th>\n",
       "    </tr>\n",
       "  </thead>\n",
       "  <tbody>\n",
       "    <tr>\n",
       "      <th>3DS</th>\n",
       "      <td>36.21</td>\n",
       "    </tr>\n",
       "    <tr>\n",
       "      <th>PSV</th>\n",
       "      <td>10.98</td>\n",
       "    </tr>\n",
       "    <tr>\n",
       "      <th>PS3</th>\n",
       "      <td>9.92</td>\n",
       "    </tr>\n",
       "    <tr>\n",
       "      <th>PS4</th>\n",
       "      <td>9.28</td>\n",
       "    </tr>\n",
       "    <tr>\n",
       "      <th>WiiU</th>\n",
       "      <td>6.64</td>\n",
       "    </tr>\n",
       "  </tbody>\n",
       "</table>\n",
       "</div>"
      ],
      "text/plain": [
       "          jp_sales\n",
       "platform          \n",
       "3DS          36.21\n",
       "PSV          10.98\n",
       "PS3           9.92\n",
       "PS4           9.28\n",
       "WiiU          6.64"
      ]
     },
     "execution_count": 50,
     "metadata": {},
     "output_type": "execute_result"
    },
    {
     "data": {
      "image/png": "[encoded data removed]",
      "text/plain": [
       "<Figure size 432x288 with 1 Axes>"
      ]
     },
     "metadata": {
      "needs_background": "light"
     },
     "output_type": "display_data"
    }
   ],
   "source": [
    "# топ-5 Японского региона\n",
    "data.groupby(by='platform').agg({'jp_sales':'sum'}).sort_values(by='jp_sales', ascending=False) \\\n",
    ".head(5).plot(kind='bar')\n",
    "\n",
    "data.groupby(by='platform').agg({'jp_sales':'sum'}).sort_values(by='jp_sales', ascending=False) \\\n",
    ".head(5)"
   ]
  },
  {
   "cell_type": "markdown",
   "metadata": {},
   "source": [
    "Вывод: **В топ-5 Японского региона находятся платформы: 3DS(36,21 млн), PSV(10,98 млн), PS3(9,92 млн), PS4(9,28 млн), WiiU(6,64 млн).**"
   ]
  },
  {
   "cell_type": "markdown",
   "metadata": {},
   "source": [
    "Общий вывод по платформам: **В Северной Америке и Европе идет борьба между платформами PS4 и XOne, а вот в Японии популярностью пользуются все платформы местного производства, причем первые места делят именно портативные платформы в отличие от Америки и Европы. При всем при этом, судя по продажам, Японский регион является наименее играющим из исследуюемых, а Американский наиболее играющим**."
   ]
  },
  {
   "cell_type": "markdown",
   "metadata": {},
   "source": [
    "#### Cамые популярные жанры (топ-5). Поясните разницу."
   ]
  },
  {
   "cell_type": "code",
   "execution_count": 51,
   "metadata": {},
   "outputs": [
    {
     "data": {
      "text/html": [
       "<div>\n",
       "<style scoped>\n",
       "    .dataframe tbody tr th:only-of-type {\n",
       "        vertical-align: middle;\n",
       "    }\n",
       "\n",
       "    .dataframe tbody tr th {\n",
       "        vertical-align: top;\n",
       "    }\n",
       "\n",
       "    .dataframe thead th {\n",
       "        text-align: right;\n",
       "    }\n",
       "</style>\n",
       "<table border=\"1\" class=\"dataframe\">\n",
       "  <thead>\n",
       "    <tr style=\"text-align: right;\">\n",
       "      <th></th>\n",
       "      <th>eu_sales</th>\n",
       "    </tr>\n",
       "    <tr>\n",
       "      <th>genre</th>\n",
       "      <th></th>\n",
       "    </tr>\n",
       "  </thead>\n",
       "  <tbody>\n",
       "    <tr>\n",
       "      <th>Action</th>\n",
       "      <td>64.00</td>\n",
       "    </tr>\n",
       "    <tr>\n",
       "      <th>Shooter</th>\n",
       "      <td>49.62</td>\n",
       "    </tr>\n",
       "    <tr>\n",
       "      <th>Sports</th>\n",
       "      <td>33.72</td>\n",
       "    </tr>\n",
       "    <tr>\n",
       "      <th>Role-Playing</th>\n",
       "      <td>23.89</td>\n",
       "    </tr>\n",
       "    <tr>\n",
       "      <th>Racing</th>\n",
       "      <td>12.36</td>\n",
       "    </tr>\n",
       "  </tbody>\n",
       "</table>\n",
       "</div>"
      ],
      "text/plain": [
       "              eu_sales\n",
       "genre                 \n",
       "Action           64.00\n",
       "Shooter          49.62\n",
       "Sports           33.72\n",
       "Role-Playing     23.89\n",
       "Racing           12.36"
      ]
     },
     "execution_count": 51,
     "metadata": {},
     "output_type": "execute_result"
    },
    {
     "data": {
      "image/png": "[encoded data removed]",
      "text/plain": [
       "<Figure size 432x288 with 1 Axes>"
      ]
     },
     "metadata": {
      "needs_background": "light"
     },
     "output_type": "display_data"
    }
   ],
   "source": [
    "# топ-5 европейского региона\n",
    "data.groupby(by='genre').agg({'eu_sales':'sum'}).sort_values(by='eu_sales', ascending=False) \\\n",
    ".head(5).plot(kind='bar')\n",
    "\n",
    "data.groupby(by='genre').agg({'eu_sales':'sum'}).sort_values(by='eu_sales', ascending=False) \\\n",
    ".head(5)"
   ]
  },
  {
   "cell_type": "markdown",
   "metadata": {},
   "source": [
    "Вывод: **В Европе наиболее популярными жанрами являются Action(64 млн), Shooter(49,62 млн), Sports(33,72), Role-Playing(23,89 млн), Racing(12,36 млн)**."
   ]
  },
  {
   "cell_type": "code",
   "execution_count": 52,
   "metadata": {},
   "outputs": [
    {
     "data": {
      "text/html": [
       "<div>\n",
       "<style scoped>\n",
       "    .dataframe tbody tr th:only-of-type {\n",
       "        vertical-align: middle;\n",
       "    }\n",
       "\n",
       "    .dataframe tbody tr th {\n",
       "        vertical-align: top;\n",
       "    }\n",
       "\n",
       "    .dataframe thead th {\n",
       "        text-align: right;\n",
       "    }\n",
       "</style>\n",
       "<table border=\"1\" class=\"dataframe\">\n",
       "  <thead>\n",
       "    <tr style=\"text-align: right;\">\n",
       "      <th></th>\n",
       "      <th>na_sales</th>\n",
       "    </tr>\n",
       "    <tr>\n",
       "      <th>genre</th>\n",
       "      <th></th>\n",
       "    </tr>\n",
       "  </thead>\n",
       "  <tbody>\n",
       "    <tr>\n",
       "      <th>Action</th>\n",
       "      <td>63.24</td>\n",
       "    </tr>\n",
       "    <tr>\n",
       "      <th>Shooter</th>\n",
       "      <td>62.78</td>\n",
       "    </tr>\n",
       "    <tr>\n",
       "      <th>Sports</th>\n",
       "      <td>38.59</td>\n",
       "    </tr>\n",
       "    <tr>\n",
       "      <th>Role-Playing</th>\n",
       "      <td>27.58</td>\n",
       "    </tr>\n",
       "    <tr>\n",
       "      <th>Misc</th>\n",
       "      <td>14.29</td>\n",
       "    </tr>\n",
       "  </tbody>\n",
       "</table>\n",
       "</div>"
      ],
      "text/plain": [
       "              na_sales\n",
       "genre                 \n",
       "Action           63.24\n",
       "Shooter          62.78\n",
       "Sports           38.59\n",
       "Role-Playing     27.58\n",
       "Misc             14.29"
      ]
     },
     "execution_count": 52,
     "metadata": {},
     "output_type": "execute_result"
    },
    {
     "data": {
      "image/png": "[encoded data removed]",
      "text/plain": [
       "<Figure size 432x288 with 1 Axes>"
      ]
     },
     "metadata": {
      "needs_background": "light"
     },
     "output_type": "display_data"
    }
   ],
   "source": [
    "# топ-5 Северной Америки\n",
    "data.groupby(by='genre').agg({'na_sales':'sum'}).sort_values(by='na_sales', ascending=False) \\\n",
    ".head(5).plot(kind='bar')\n",
    "\n",
    "data.groupby(by='genre').agg({'na_sales':'sum'}).sort_values(by='na_sales', ascending=False) \\\n",
    ".head(5)"
   ]
  },
  {
   "cell_type": "markdown",
   "metadata": {},
   "source": [
    "Вывод: **В Северной Америке наиболее популярными жанрами стали: Action(63,24 млн), Shooter(62,78 млн),Sports(38,59 млн), Role-Playing(27,58 млн), Misc(14,29 млн)**."
   ]
  },
  {
   "cell_type": "code",
   "execution_count": 53,
   "metadata": {},
   "outputs": [
    {
     "data": {
      "text/html": [
       "<div>\n",
       "<style scoped>\n",
       "    .dataframe tbody tr th:only-of-type {\n",
       "        vertical-align: middle;\n",
       "    }\n",
       "\n",
       "    .dataframe tbody tr th {\n",
       "        vertical-align: top;\n",
       "    }\n",
       "\n",
       "    .dataframe thead th {\n",
       "        text-align: right;\n",
       "    }\n",
       "</style>\n",
       "<table border=\"1\" class=\"dataframe\">\n",
       "  <thead>\n",
       "    <tr style=\"text-align: right;\">\n",
       "      <th></th>\n",
       "      <th>jp_sales</th>\n",
       "    </tr>\n",
       "    <tr>\n",
       "      <th>genre</th>\n",
       "      <th></th>\n",
       "    </tr>\n",
       "  </thead>\n",
       "  <tbody>\n",
       "    <tr>\n",
       "      <th>Role-Playing</th>\n",
       "      <td>24.55</td>\n",
       "    </tr>\n",
       "    <tr>\n",
       "      <th>Action</th>\n",
       "      <td>22.51</td>\n",
       "    </tr>\n",
       "    <tr>\n",
       "      <th>Fighting</th>\n",
       "      <td>5.62</td>\n",
       "    </tr>\n",
       "    <tr>\n",
       "      <th>Misc</th>\n",
       "      <td>4.57</td>\n",
       "    </tr>\n",
       "    <tr>\n",
       "      <th>Shooter</th>\n",
       "      <td>3.81</td>\n",
       "    </tr>\n",
       "  </tbody>\n",
       "</table>\n",
       "</div>"
      ],
      "text/plain": [
       "              jp_sales\n",
       "genre                 \n",
       "Role-Playing     24.55\n",
       "Action           22.51\n",
       "Fighting          5.62\n",
       "Misc              4.57\n",
       "Shooter           3.81"
      ]
     },
     "execution_count": 53,
     "metadata": {},
     "output_type": "execute_result"
    },
    {
     "data": {
      "image/png": "[encoded data removed]",
      "text/plain": [
       "<Figure size 432x288 with 1 Axes>"
      ]
     },
     "metadata": {
      "needs_background": "light"
     },
     "output_type": "display_data"
    }
   ],
   "source": [
    "# топ-5 Японского региона\n",
    "data.groupby(by='genre').agg({'jp_sales':'sum'}).sort_values(by='jp_sales', ascending=False) \\\n",
    ".head(5).plot(kind='bar')\n",
    "\n",
    "data.groupby(by='genre').agg({'jp_sales':'sum'}).sort_values(by='jp_sales', ascending=False) \\\n",
    ".head(5)"
   ]
  },
  {
   "cell_type": "markdown",
   "metadata": {},
   "source": [
    "Вывод: **В Японском регионе наиболее популярными жанрами стали: Role-Playing(24,55 млн), Action(22,51 млн), Fighting(5,62), Misc(4,57), Shooter(3,81)**."
   ]
  },
  {
   "cell_type": "markdown",
   "metadata": {},
   "source": [
    "Общий вывод: **В Европе и Северной Америке золото и серебро поделили Action и Shooter(3 место-Sports), а в Японии Role-Playing и Action(3 место-Fighting). Это связано с Аниме культурой, которая очень популярна в Японии**. "
   ]
  },
  {
   "cell_type": "markdown",
   "metadata": {},
   "source": [
    "#### Влияет ли рейтинг ESRB на продажи в отдельном регионе?"
   ]
  },
  {
   "cell_type": "code",
   "execution_count": 54,
   "metadata": {},
   "outputs": [
    {
     "data": {
      "text/html": [
       "<div>\n",
       "<style scoped>\n",
       "    .dataframe tbody tr th:only-of-type {\n",
       "        vertical-align: middle;\n",
       "    }\n",
       "\n",
       "    .dataframe tbody tr th {\n",
       "        vertical-align: top;\n",
       "    }\n",
       "\n",
       "    .dataframe thead th {\n",
       "        text-align: right;\n",
       "    }\n",
       "</style>\n",
       "<table border=\"1\" class=\"dataframe\">\n",
       "  <thead>\n",
       "    <tr style=\"text-align: right;\">\n",
       "      <th></th>\n",
       "      <th>eu_sales</th>\n",
       "    </tr>\n",
       "    <tr>\n",
       "      <th>rating</th>\n",
       "      <th></th>\n",
       "    </tr>\n",
       "  </thead>\n",
       "  <tbody>\n",
       "    <tr>\n",
       "      <th>M</th>\n",
       "      <td>76.90</td>\n",
       "    </tr>\n",
       "    <tr>\n",
       "      <th></th>\n",
       "      <td>51.48</td>\n",
       "    </tr>\n",
       "    <tr>\n",
       "      <th>E</th>\n",
       "      <td>44.45</td>\n",
       "    </tr>\n",
       "    <tr>\n",
       "      <th>T</th>\n",
       "      <td>24.28</td>\n",
       "    </tr>\n",
       "    <tr>\n",
       "      <th>E10+</th>\n",
       "      <td>22.35</td>\n",
       "    </tr>\n",
       "  </tbody>\n",
       "</table>\n",
       "</div>"
      ],
      "text/plain": [
       "        eu_sales\n",
       "rating          \n",
       "M          76.90\n",
       "           51.48\n",
       "E          44.45\n",
       "T          24.28\n",
       "E10+       22.35"
      ]
     },
     "execution_count": 54,
     "metadata": {},
     "output_type": "execute_result"
    },
    {
     "data": {
      "image/png": "[encoded data removed]",
      "text/plain": [
       "<Figure size 432x288 with 1 Axes>"
      ]
     },
     "metadata": {
      "needs_background": "light"
     },
     "output_type": "display_data"
    }
   ],
   "source": [
    "# топ-5 европейского региона\n",
    "data.groupby(by='rating').agg({'eu_sales':'sum'}).sort_values(by='eu_sales', ascending=False) \\\n",
    ".head(5).plot(kind='bar')\n",
    "\n",
    "data.groupby(by='rating').agg({'eu_sales':'sum'}).sort_values(by='eu_sales', ascending=False) \\\n",
    ".head(5)"
   ]
  },
  {
   "cell_type": "markdown",
   "metadata": {},
   "source": [
    "Вывод: **В Европе наиболее продаваемыми стали игры с рейтингами: M, \"без рейтинга\", E, T, E10+**."
   ]
  },
  {
   "cell_type": "code",
   "execution_count": 55,
   "metadata": {},
   "outputs": [
    {
     "data": {
      "text/html": [
       "<div>\n",
       "<style scoped>\n",
       "    .dataframe tbody tr th:only-of-type {\n",
       "        vertical-align: middle;\n",
       "    }\n",
       "\n",
       "    .dataframe tbody tr th {\n",
       "        vertical-align: top;\n",
       "    }\n",
       "\n",
       "    .dataframe thead th {\n",
       "        text-align: right;\n",
       "    }\n",
       "</style>\n",
       "<table border=\"1\" class=\"dataframe\">\n",
       "  <thead>\n",
       "    <tr style=\"text-align: right;\">\n",
       "      <th></th>\n",
       "      <th>na_sales</th>\n",
       "    </tr>\n",
       "    <tr>\n",
       "      <th>rating</th>\n",
       "      <th></th>\n",
       "    </tr>\n",
       "  </thead>\n",
       "  <tbody>\n",
       "    <tr>\n",
       "      <th>M</th>\n",
       "      <td>80.75</td>\n",
       "    </tr>\n",
       "    <tr>\n",
       "      <th></th>\n",
       "      <td>56.19</td>\n",
       "    </tr>\n",
       "    <tr>\n",
       "      <th>E</th>\n",
       "      <td>42.77</td>\n",
       "    </tr>\n",
       "    <tr>\n",
       "      <th>T</th>\n",
       "      <td>30.00</td>\n",
       "    </tr>\n",
       "    <tr>\n",
       "      <th>E10+</th>\n",
       "      <td>29.42</td>\n",
       "    </tr>\n",
       "  </tbody>\n",
       "</table>\n",
       "</div>"
      ],
      "text/plain": [
       "        na_sales\n",
       "rating          \n",
       "M          80.75\n",
       "           56.19\n",
       "E          42.77\n",
       "T          30.00\n",
       "E10+       29.42"
      ]
     },
     "execution_count": 55,
     "metadata": {},
     "output_type": "execute_result"
    },
    {
     "data": {
      "image/png": "[encoded data removed]",
      "text/plain": [
       "<Figure size 432x288 with 1 Axes>"
      ]
     },
     "metadata": {
      "needs_background": "light"
     },
     "output_type": "display_data"
    }
   ],
   "source": [
    "# топ-5 Северной Америки\n",
    "data.groupby(by='rating').agg({'na_sales':'sum'}).sort_values(by='na_sales', ascending=False) \\\n",
    ".head(5).plot(kind='bar')\n",
    "\n",
    "data.groupby(by='rating').agg({'na_sales':'sum'}).sort_values(by='na_sales', ascending=False) \\\n",
    ".head(5)"
   ]
  },
  {
   "cell_type": "markdown",
   "metadata": {},
   "source": [
    "Вывод: **В Северной Америке наиболее продаваемыми стали игры с рейтингами: M, \"без рейтинга\", E, T, E10+**."
   ]
  },
  {
   "cell_type": "code",
   "execution_count": 56,
   "metadata": {},
   "outputs": [
    {
     "data": {
      "text/html": [
       "<div>\n",
       "<style scoped>\n",
       "    .dataframe tbody tr th:only-of-type {\n",
       "        vertical-align: middle;\n",
       "    }\n",
       "\n",
       "    .dataframe tbody tr th {\n",
       "        vertical-align: top;\n",
       "    }\n",
       "\n",
       "    .dataframe thead th {\n",
       "        text-align: right;\n",
       "    }\n",
       "</style>\n",
       "<table border=\"1\" class=\"dataframe\">\n",
       "  <thead>\n",
       "    <tr style=\"text-align: right;\">\n",
       "      <th></th>\n",
       "      <th>jp_sales</th>\n",
       "    </tr>\n",
       "    <tr>\n",
       "      <th>rating</th>\n",
       "      <th></th>\n",
       "    </tr>\n",
       "  </thead>\n",
       "  <tbody>\n",
       "    <tr>\n",
       "      <th></th>\n",
       "      <td>42.58</td>\n",
       "    </tr>\n",
       "    <tr>\n",
       "      <th>T</th>\n",
       "      <td>12.51</td>\n",
       "    </tr>\n",
       "    <tr>\n",
       "      <th>E</th>\n",
       "      <td>7.87</td>\n",
       "    </tr>\n",
       "    <tr>\n",
       "      <th>M</th>\n",
       "      <td>6.81</td>\n",
       "    </tr>\n",
       "    <tr>\n",
       "      <th>E10+</th>\n",
       "      <td>4.01</td>\n",
       "    </tr>\n",
       "  </tbody>\n",
       "</table>\n",
       "</div>"
      ],
      "text/plain": [
       "        jp_sales\n",
       "rating          \n",
       "           42.58\n",
       "T          12.51\n",
       "E           7.87\n",
       "M           6.81\n",
       "E10+        4.01"
      ]
     },
     "execution_count": 56,
     "metadata": {},
     "output_type": "execute_result"
    },
    {
     "data": {
      "image/png": "[encoded data removed]",
      "text/plain": [
       "<Figure size 432x288 with 1 Axes>"
      ]
     },
     "metadata": {
      "needs_background": "light"
     },
     "output_type": "display_data"
    }
   ],
   "source": [
    "# топ-5 Японского региона\n",
    "data.groupby(by='rating').agg({'jp_sales':'sum'}).sort_values(by='jp_sales', ascending=False) \\\n",
    ".head(5).plot(kind='bar')\n",
    "\n",
    "data.groupby(by='rating').agg({'jp_sales':'sum'}).sort_values(by='jp_sales', ascending=False) \\\n",
    ".head(5)"
   ]
  },
  {
   "cell_type": "markdown",
   "metadata": {},
   "source": [
    "Вывод: **В Японии наиболее продаваемыми стали игры с рейтингами: без рейтинга, T, E, M, E10+**."
   ]
  },
  {
   "cell_type": "markdown",
   "metadata": {},
   "source": [
    "Общий вывод: **В Европе и Америке рейтинги популярных игр одинаковые ( на первых местах M -\"Для взрослых\",\"Без рейтинга\", E- \"Для всех\", T - \"Для подростков\", E10+ -\"Для всех от 10 и старше\"), а в Японии пальму первенства держат игры \"Без рейтинга\". Возможно это связано с трудностями локализаций на данном рынке.**"
   ]
  },
  {
   "cell_type": "markdown",
   "metadata": {},
   "source": [
    "\n",
    "## Проверим гипотезы\n"
   ]
  },
  {
   "cell_type": "markdown",
   "metadata": {},
   "source": [
    "***\n",
    "**Н0. Средние пользовательские рейтинги платформ Xbox One и PC одинаковые.**\n",
    "\n",
    "**Н1. Средние пользовательские рейтинги платформ Xbox One и PC разные.**\n",
    "***"
   ]
  },
  {
   "cell_type": "code",
   "execution_count": 57,
   "metadata": {},
   "outputs": [
    {
     "name": "stdout",
     "output_type": "stream",
     "text": [
      "Дисперсия XOne равна: 1.5960564831993405\n",
      "Дисперсия PC равна: 2.8661825017088174\n"
     ]
    }
   ],
   "source": [
    "#рейтинги пользователей по XOne\n",
    "XOne = data[(data['platform'] == 'XOne') & (data['user_score'] > 0)]['user_score']\n",
    "\n",
    "#рейтинги пользователей по PC\n",
    "PC = data[(data['platform'] == 'PC') & (data['user_score'] > 0)]['user_score']\n",
    "\n",
    "# проверка дисперсий\n",
    "print(\"Дисперсия XOne равна:\", np.var(XOne, ddof=1))\n",
    "print(\"Дисперсия PC равна:\", np.var(PC, ddof=1))"
   ]
  },
  {
   "cell_type": "markdown",
   "metadata": {},
   "source": [
    "Дисперсии 2 выборок неравны, тогда используем распределение Стьюдента."
   ]
  },
  {
   "cell_type": "code",
   "execution_count": 58,
   "metadata": {},
   "outputs": [
    {
     "name": "stdout",
     "output_type": "stream",
     "text": [
      "p-значение: 0.2064150169331124\n",
      "Не получилось отвергнуть нулевую гипотезу\n"
     ]
    }
   ],
   "source": [
    "# проверка гипотез\n",
    "alpha = 0.05\n",
    "results = st.ttest_ind(XOne, PC, equal_var = False)\n",
    "\n",
    "print('p-значение:', results.pvalue)\n",
    "\n",
    "if (results.pvalue < alpha):\n",
    "    print(\"Отвергаем нулевую гипотезу\")\n",
    "    \n",
    "else:\n",
    "    print(\"Не получилось отвергнуть нулевую гипотезу\")"
   ]
  },
  {
   "cell_type": "markdown",
   "metadata": {},
   "source": [
    "***\n",
    "**Но. Средние пользовательские рейтинги жанров Action (англ. «действие», экшен-игры) и Sports (англ. «спортивные соревнования») одинаковые.**\n",
    "\n",
    "**Н1. Средние пользовательские рейтинги жанров Action (англ. «действие», экшен-игры) и Sports (англ. «спортивные соревнования») разные.**\n",
    "***"
   ]
  },
  {
   "cell_type": "code",
   "execution_count": 59,
   "metadata": {},
   "outputs": [
    {
     "name": "stdout",
     "output_type": "stream",
     "text": [
      "Дисперсия Action равна: 1.791948493248681\n",
      "Дисперсия Sports равна: 3.1705168539325843\n"
     ]
    }
   ],
   "source": [
    "#рейтинги пользователей по жанру Action\n",
    "action = data[(data['genre'] == 'Action') & (data['user_score'] > 0)]['user_score']\n",
    "\n",
    "#рейтинги пользователей по жанру Sports\n",
    "sports = data[(data['genre'] == 'Sports') & (data['user_score'] > 0)]['user_score']\n",
    "\n",
    "# проверка дисперсий\n",
    "print(\"Дисперсия Action равна:\", np.var(action, ddof=1))\n",
    "print(\"Дисперсия Sports равна:\", np.var(sports, ddof=1))"
   ]
  },
  {
   "cell_type": "markdown",
   "metadata": {},
   "source": [
    "Дисперсии 2 выборок неравны, тогда используем распределение Стьюдента."
   ]
  },
  {
   "cell_type": "code",
   "execution_count": 60,
   "metadata": {},
   "outputs": [
    {
     "name": "stdout",
     "output_type": "stream",
     "text": [
      "p-значение: 5.639159825656943e-13\n",
      "Отвергаем нулевую гипотезу\n"
     ]
    }
   ],
   "source": [
    "# проверка гипотез\n",
    "alpha = 0.05\n",
    "results = st.ttest_ind(action, sports, equal_var = False)\n",
    "\n",
    "print('p-значение:', results.pvalue)\n",
    "\n",
    "if (results.pvalue < alpha):\n",
    "    print(\"Отвергаем нулевую гипотезу\")\n",
    "    \n",
    "else:\n",
    "    print(\"Не получилось отвергнуть нулевую гипотезу\")"
   ]
  },
  {
   "cell_type": "markdown",
   "metadata": {},
   "source": [
    "Вывод: **Средние пользовательские рейтинги платформ Xbox One и PC одинаковые. Средние пользовательские рейтинги жанров Action (англ. «действие», экшен-игры) и Sports (англ. «спортивные соревнования») разные.**"
   ]
  },
  {
   "cell_type": "markdown",
   "metadata": {},
   "source": [
    "## Общий вывод"
   ]
  },
  {
   "cell_type": "markdown",
   "metadata": {},
   "source": [
    "* *Наиболее продаваемыми стали игры на платформе PS2(1255.77), X360(971.42), PS3(939.65), после уже Wii(907.51), DS(806.12).*\n",
    "\n",
    "* Пик продаж для PS2 пришелся на период 2002-2004 года, после чего начался спад.\n",
    "* Пик продаж для X360 пришелся на период 2009-2010 года, после начался спад.\n",
    "* Пик продаж для PS3 пришелся на период 2008-2011 года, после начался спад, с небольшим подьемом в 2013.\n",
    "* Пик продаж для DS пришелся на период 2004-2007 года, после начался спад.\n",
    "* Пик продаж для Wii пришелся на 2009 год, после начался резкий спад.\n",
    "***\n",
    "\n",
    "**Cрок жизни платформ периода 2006-2016 годов (14 лет) выше чем у платформ периода 1980-2000 года (9,6 лет). Многие кампании перевыпустили свои платформы, заменив их старых собратьев( Sony PS заменили PS2, PS2 на PS3, Nintendo NES на SNES).**\n",
    "***\n",
    "* Cамыми потенциально выгодными платформами стали PS4 и XOne.\n",
    "* Наибольшая зависимость наблюдается между оценками критиков и продажами, между оценками пользователей и продажами так же наблюдается, но не такая высокая.\n",
    "* Топ-5 жанров по медианным показателям являются **Shooter, Sports, Platform, Misc, Racing**. Наименее продаваемыми являются **Strategy, Puzzle, Adventure**\n",
    "* В Северной Америке и Европе идет борьба между платформами PS4 и XOne, а вот в Японии популярностью пользуются все платформы местного производства, причем первые места делят именно портативные платформы в отличие от Америки и Европы. При всем при этом, судя по продажам, Японский регион является наименее играющим из исследуюемых, а Американский наиболее играющим.\n",
    "* В Европе и Северной Америке золото и серебро поделили Action и Shooter(3 место-Sports), а в Японии Role-Playing и Action(3 место-Fighting). Это связано с Аниме культурой, которая очень популярна в Японии. \n",
    "* В Европе и Америке рейтинги популярных игр одинаковые ( на первых местах M -\"Для взрослых\",\"Без рейтинга\", E- \"Для всех\", T - \"Для подростков\", E10+ -\"Для всех от 10 и старше\"), а в Японии пальму первенства держат игры \"Без рейтинга\". Возможно это связано с трудностями локализаций на данном рынке.\n",
    "* Средние пользовательские рейтинги платформ Xbox One и PC одинаковые. Средние пользовательские рейтинги жанров Action (англ. «действие», экшен-игры) и Sports (англ. «спортивные соревнования») разные."
   ]
  }
 ],
 "metadata": {
  "ExecuteTimeLog": [
   {
    "duration": 678,
    "start_time": "2023-01-16T09:20:39.869Z"
   },
   {
    "duration": 68,
    "start_time": "2023-01-16T09:21:31.076Z"
   },
   {
    "duration": 78,
    "start_time": "2023-01-16T09:22:20.761Z"
   },
   {
    "duration": 121,
    "start_time": "2023-01-16T09:30:27.764Z"
   },
   {
    "duration": 9,
    "start_time": "2023-01-16T09:31:17.716Z"
   },
   {
    "duration": 12,
    "start_time": "2023-01-16T09:31:37.351Z"
   },
   {
    "duration": 23,
    "start_time": "2023-01-16T09:43:58.354Z"
   },
   {
    "duration": 24,
    "start_time": "2023-01-16T09:44:09.400Z"
   },
   {
    "duration": 25,
    "start_time": "2023-01-16T09:44:15.777Z"
   },
   {
    "duration": 21,
    "start_time": "2023-01-16T09:47:10.851Z"
   },
   {
    "duration": 489,
    "start_time": "2023-01-16T09:47:36.640Z"
   },
   {
    "duration": 16,
    "start_time": "2023-01-16T09:50:42.679Z"
   },
   {
    "duration": 18,
    "start_time": "2023-01-16T09:51:32.798Z"
   },
   {
    "duration": 22,
    "start_time": "2023-01-16T10:01:40.998Z"
   },
   {
    "duration": 32,
    "start_time": "2023-01-16T10:02:16.333Z"
   },
   {
    "duration": 78,
    "start_time": "2023-01-16T10:03:23.982Z"
   },
   {
    "duration": 513,
    "start_time": "2023-01-16T10:03:41.813Z"
   },
   {
    "duration": 24,
    "start_time": "2023-01-16T10:03:42.328Z"
   },
   {
    "duration": 23,
    "start_time": "2023-01-16T10:03:42.354Z"
   },
   {
    "duration": 85,
    "start_time": "2023-01-16T10:03:42.379Z"
   },
   {
    "duration": 12,
    "start_time": "2023-01-16T10:03:59.860Z"
   },
   {
    "duration": 25,
    "start_time": "2023-01-16T10:05:24.101Z"
   },
   {
    "duration": 78,
    "start_time": "2023-01-16T10:05:43.856Z"
   },
   {
    "duration": 19,
    "start_time": "2023-01-16T10:06:03.283Z"
   },
   {
    "duration": 465,
    "start_time": "2023-01-16T10:06:32.378Z"
   },
   {
    "duration": 16,
    "start_time": "2023-01-16T10:06:32.851Z"
   },
   {
    "duration": 18,
    "start_time": "2023-01-16T10:06:32.868Z"
   },
   {
    "duration": 6,
    "start_time": "2023-01-16T10:06:32.888Z"
   },
   {
    "duration": 69,
    "start_time": "2023-01-16T10:06:46.004Z"
   },
   {
    "duration": 16,
    "start_time": "2023-01-16T10:07:13.424Z"
   },
   {
    "duration": 18,
    "start_time": "2023-01-16T10:07:30.156Z"
   },
   {
    "duration": 501,
    "start_time": "2023-01-16T10:08:15.057Z"
   },
   {
    "duration": 14,
    "start_time": "2023-01-16T10:08:15.561Z"
   },
   {
    "duration": 19,
    "start_time": "2023-01-16T10:08:15.577Z"
   },
   {
    "duration": 21,
    "start_time": "2023-01-16T10:08:15.598Z"
   },
   {
    "duration": 462,
    "start_time": "2023-01-16T10:09:30.391Z"
   },
   {
    "duration": 16,
    "start_time": "2023-01-16T10:09:30.856Z"
   },
   {
    "duration": 75,
    "start_time": "2023-01-16T10:09:30.874Z"
   },
   {
    "duration": 98,
    "start_time": "2023-01-16T10:09:30.951Z"
   },
   {
    "duration": 15,
    "start_time": "2023-01-16T10:10:28.669Z"
   },
   {
    "duration": 9,
    "start_time": "2023-01-16T10:10:43.912Z"
   },
   {
    "duration": 13,
    "start_time": "2023-01-16T10:11:00.854Z"
   },
   {
    "duration": 6,
    "start_time": "2023-01-16T10:11:35.477Z"
   },
   {
    "duration": 5,
    "start_time": "2023-01-16T10:11:41.227Z"
   },
   {
    "duration": 5,
    "start_time": "2023-01-16T10:12:07.480Z"
   },
   {
    "duration": 5,
    "start_time": "2023-01-16T10:12:45.911Z"
   },
   {
    "duration": 4,
    "start_time": "2023-01-16T10:14:13.575Z"
   },
   {
    "duration": 4,
    "start_time": "2023-01-16T10:14:28.687Z"
   },
   {
    "duration": 5,
    "start_time": "2023-01-16T10:16:34.468Z"
   },
   {
    "duration": 40,
    "start_time": "2023-01-16T10:17:38.959Z"
   },
   {
    "duration": 28,
    "start_time": "2023-01-16T10:18:00.694Z"
   },
   {
    "duration": 38,
    "start_time": "2023-01-16T10:18:11.328Z"
   },
   {
    "duration": 53,
    "start_time": "2023-01-16T10:18:20.999Z"
   },
   {
    "duration": 724,
    "start_time": "2023-01-16T10:23:34.608Z"
   },
   {
    "duration": 9,
    "start_time": "2023-01-16T10:24:00.159Z"
   },
   {
    "duration": 9,
    "start_time": "2023-01-16T10:24:07.170Z"
   },
   {
    "duration": 6,
    "start_time": "2023-01-16T10:33:35.412Z"
   },
   {
    "duration": 6,
    "start_time": "2023-01-16T10:33:51.362Z"
   },
   {
    "duration": 27,
    "start_time": "2023-01-16T17:49:57.839Z"
   },
   {
    "duration": 21,
    "start_time": "2023-01-16T17:51:13.582Z"
   },
   {
    "duration": 51,
    "start_time": "2023-01-16T17:53:04.588Z"
   },
   {
    "duration": 521,
    "start_time": "2023-01-16T17:53:10.756Z"
   },
   {
    "duration": 15,
    "start_time": "2023-01-16T17:53:13.949Z"
   },
   {
    "duration": 18,
    "start_time": "2023-01-16T17:53:19.217Z"
   },
   {
    "duration": 26,
    "start_time": "2023-01-16T17:53:21.820Z"
   },
   {
    "duration": 29,
    "start_time": "2023-01-16T17:54:08.906Z"
   },
   {
    "duration": 27,
    "start_time": "2023-01-16T18:06:35.277Z"
   },
   {
    "duration": 21,
    "start_time": "2023-01-16T18:06:57.169Z"
   },
   {
    "duration": 44,
    "start_time": "2023-01-16T18:08:36.532Z"
   },
   {
    "duration": 22,
    "start_time": "2023-01-16T18:09:07.682Z"
   },
   {
    "duration": 13,
    "start_time": "2023-01-16T18:09:25.907Z"
   },
   {
    "duration": 24,
    "start_time": "2023-01-16T18:09:46.900Z"
   },
   {
    "duration": 21,
    "start_time": "2023-01-16T18:10:37.419Z"
   },
   {
    "duration": 20,
    "start_time": "2023-01-16T18:10:51.327Z"
   },
   {
    "duration": 1152,
    "start_time": "2023-01-16T18:11:45.246Z"
   },
   {
    "duration": 22,
    "start_time": "2023-01-16T18:12:16.448Z"
   },
   {
    "duration": 26,
    "start_time": "2023-01-16T18:12:32.570Z"
   },
   {
    "duration": 527,
    "start_time": "2023-01-16T18:13:08.907Z"
   },
   {
    "duration": 15,
    "start_time": "2023-01-16T18:13:09.436Z"
   },
   {
    "duration": 16,
    "start_time": "2023-01-16T18:13:09.452Z"
   },
   {
    "duration": 90,
    "start_time": "2023-01-16T18:13:09.470Z"
   },
   {
    "duration": 15,
    "start_time": "2023-01-16T18:13:40.075Z"
   },
   {
    "duration": 487,
    "start_time": "2023-01-16T18:14:26.748Z"
   },
   {
    "duration": 17,
    "start_time": "2023-01-16T18:14:30.134Z"
   },
   {
    "duration": 15,
    "start_time": "2023-01-16T18:14:32.763Z"
   },
   {
    "duration": 81,
    "start_time": "2023-01-16T18:14:36.040Z"
   },
   {
    "duration": 27,
    "start_time": "2023-01-16T18:14:47.501Z"
   },
   {
    "duration": 24,
    "start_time": "2023-01-16T18:15:16.621Z"
   },
   {
    "duration": 23,
    "start_time": "2023-01-16T18:15:29.512Z"
   },
   {
    "duration": 40,
    "start_time": "2023-01-16T18:16:03.843Z"
   },
   {
    "duration": 23,
    "start_time": "2023-01-16T18:16:08.303Z"
   },
   {
    "duration": 25,
    "start_time": "2023-01-16T18:16:17.982Z"
   },
   {
    "duration": 22,
    "start_time": "2023-01-16T18:16:25.457Z"
   },
   {
    "duration": 24,
    "start_time": "2023-01-16T18:16:57.582Z"
   },
   {
    "duration": 1729,
    "start_time": "2023-01-16T18:17:39.796Z"
   },
   {
    "duration": 1756,
    "start_time": "2023-01-16T18:18:12.300Z"
   },
   {
    "duration": 450,
    "start_time": "2023-01-16T18:18:35.087Z"
   },
   {
    "duration": 15,
    "start_time": "2023-01-16T18:18:35.539Z"
   },
   {
    "duration": 21,
    "start_time": "2023-01-16T18:18:35.556Z"
   },
   {
    "duration": 933,
    "start_time": "2023-01-16T18:18:35.579Z"
   },
   {
    "duration": 28,
    "start_time": "2023-01-16T18:19:00.595Z"
   },
   {
    "duration": 25,
    "start_time": "2023-01-16T18:19:21.798Z"
   },
   {
    "duration": 24,
    "start_time": "2023-01-16T18:19:40.981Z"
   },
   {
    "duration": 306,
    "start_time": "2023-01-16T18:20:05.446Z"
   },
   {
    "duration": 25,
    "start_time": "2023-01-16T18:20:50.127Z"
   },
   {
    "duration": 304,
    "start_time": "2023-01-16T18:21:06.307Z"
   },
   {
    "duration": 480,
    "start_time": "2023-01-16T18:21:59.350Z"
   },
   {
    "duration": 15,
    "start_time": "2023-01-16T18:21:59.832Z"
   },
   {
    "duration": 26,
    "start_time": "2023-01-16T18:21:59.849Z"
   },
   {
    "duration": 38,
    "start_time": "2023-01-16T18:21:59.878Z"
   },
   {
    "duration": 42,
    "start_time": "2023-01-16T18:23:26.040Z"
   },
   {
    "duration": 38,
    "start_time": "2023-01-16T18:23:38.273Z"
   },
   {
    "duration": 37,
    "start_time": "2023-01-16T18:23:48.047Z"
   },
   {
    "duration": 42,
    "start_time": "2023-01-16T18:23:59.639Z"
   },
   {
    "duration": 30,
    "start_time": "2023-01-16T18:25:23.046Z"
   },
   {
    "duration": 38,
    "start_time": "2023-01-16T18:25:42.325Z"
   },
   {
    "duration": 41,
    "start_time": "2023-01-16T18:26:33.667Z"
   },
   {
    "duration": 56,
    "start_time": "2023-01-16T18:26:51.171Z"
   },
   {
    "duration": 56,
    "start_time": "2023-01-16T18:29:42.363Z"
   },
   {
    "duration": 75,
    "start_time": "2023-01-16T18:41:25.391Z"
   },
   {
    "duration": 24,
    "start_time": "2023-01-16T18:41:48.447Z"
   },
   {
    "duration": 11,
    "start_time": "2023-01-16T18:43:31.019Z"
   },
   {
    "duration": 8,
    "start_time": "2023-01-16T18:44:12.076Z"
   },
   {
    "duration": 8,
    "start_time": "2023-01-16T18:44:19.058Z"
   },
   {
    "duration": 571,
    "start_time": "2023-01-16T18:44:31.472Z"
   },
   {
    "duration": 140,
    "start_time": "2023-01-16T18:45:10.677Z"
   },
   {
    "duration": 8,
    "start_time": "2023-01-16T18:48:49.579Z"
   },
   {
    "duration": 9,
    "start_time": "2023-01-16T18:48:59.712Z"
   },
   {
    "duration": 8,
    "start_time": "2023-01-16T18:49:14.857Z"
   },
   {
    "duration": 23,
    "start_time": "2023-01-16T18:51:44.232Z"
   },
   {
    "duration": 14,
    "start_time": "2023-01-16T18:51:55.241Z"
   },
   {
    "duration": 12,
    "start_time": "2023-01-16T18:52:10.994Z"
   },
   {
    "duration": 13,
    "start_time": "2023-01-16T18:52:16.487Z"
   },
   {
    "duration": 74,
    "start_time": "2023-01-16T19:00:40.172Z"
   },
   {
    "duration": 81,
    "start_time": "2023-01-16T19:00:51.233Z"
   },
   {
    "duration": 69,
    "start_time": "2023-01-16T19:01:02.082Z"
   },
   {
    "duration": 95,
    "start_time": "2023-01-16T19:01:19.454Z"
   },
   {
    "duration": 77,
    "start_time": "2023-01-16T19:01:52.140Z"
   },
   {
    "duration": 218,
    "start_time": "2023-01-16T19:02:01.886Z"
   },
   {
    "duration": 272,
    "start_time": "2023-01-16T19:02:17.838Z"
   },
   {
    "duration": 294,
    "start_time": "2023-01-16T19:03:35.307Z"
   },
   {
    "duration": 77,
    "start_time": "2023-01-16T19:10:23.058Z"
   },
   {
    "duration": 76,
    "start_time": "2023-01-16T19:10:52.620Z"
   },
   {
    "duration": 1169,
    "start_time": "2023-01-16T19:11:06.294Z"
   },
   {
    "duration": 1163,
    "start_time": "2023-01-16T19:11:25.641Z"
   },
   {
    "duration": 1171,
    "start_time": "2023-01-16T19:11:42.334Z"
   },
   {
    "duration": 835,
    "start_time": "2023-01-16T19:12:11.284Z"
   },
   {
    "duration": 45,
    "start_time": "2023-01-19T10:53:19.721Z"
   },
   {
    "duration": 565,
    "start_time": "2023-01-19T10:53:31.978Z"
   },
   {
    "duration": 13,
    "start_time": "2023-01-19T10:53:32.545Z"
   },
   {
    "duration": 19,
    "start_time": "2023-01-19T10:53:32.559Z"
   },
   {
    "duration": 64,
    "start_time": "2023-01-19T10:53:32.580Z"
   },
   {
    "duration": 509,
    "start_time": "2023-01-19T10:53:32.645Z"
   },
   {
    "duration": 7,
    "start_time": "2023-01-19T10:53:33.155Z"
   },
   {
    "duration": 20,
    "start_time": "2023-01-19T10:53:33.163Z"
   },
   {
    "duration": 711,
    "start_time": "2023-01-19T10:53:33.184Z"
   },
   {
    "duration": 717,
    "start_time": "2023-01-19T10:53:37.614Z"
   },
   {
    "duration": 124,
    "start_time": "2023-01-19T10:55:00.754Z"
   },
   {
    "duration": 120,
    "start_time": "2023-01-19T10:56:13.876Z"
   },
   {
    "duration": 118,
    "start_time": "2023-01-19T10:57:19.134Z"
   },
   {
    "duration": 117,
    "start_time": "2023-01-19T10:58:10.161Z"
   },
   {
    "duration": 126,
    "start_time": "2023-01-19T10:58:52.033Z"
   },
   {
    "duration": 52,
    "start_time": "2023-01-19T11:04:30.188Z"
   },
   {
    "duration": 44,
    "start_time": "2023-01-19T11:04:52.398Z"
   },
   {
    "duration": 10,
    "start_time": "2023-01-19T11:05:46.486Z"
   },
   {
    "duration": 9,
    "start_time": "2023-01-19T11:07:25.548Z"
   },
   {
    "duration": 7,
    "start_time": "2023-01-19T11:09:11.435Z"
   },
   {
    "duration": 11,
    "start_time": "2023-01-19T11:09:43.187Z"
   },
   {
    "duration": 7,
    "start_time": "2023-01-19T11:09:47.018Z"
   },
   {
    "duration": 7,
    "start_time": "2023-01-19T11:10:29.823Z"
   },
   {
    "duration": 24,
    "start_time": "2023-01-19T11:17:56.339Z"
   },
   {
    "duration": 22,
    "start_time": "2023-01-19T11:19:11.599Z"
   },
   {
    "duration": 23,
    "start_time": "2023-01-19T11:28:26.767Z"
   },
   {
    "duration": 143,
    "start_time": "2023-01-19T11:31:28.084Z"
   },
   {
    "duration": 143,
    "start_time": "2023-01-19T11:31:50.034Z"
   },
   {
    "duration": 172,
    "start_time": "2023-01-19T11:32:03.231Z"
   },
   {
    "duration": 239,
    "start_time": "2023-01-19T11:32:25.360Z"
   },
   {
    "duration": 6,
    "start_time": "2023-01-19T11:33:01.567Z"
   },
   {
    "duration": 230,
    "start_time": "2023-01-19T11:33:12.595Z"
   },
   {
    "duration": 301,
    "start_time": "2023-01-19T11:33:24.633Z"
   },
   {
    "duration": 233,
    "start_time": "2023-01-19T11:33:29.991Z"
   },
   {
    "duration": 16,
    "start_time": "2023-01-19T11:34:42.505Z"
   },
   {
    "duration": 18,
    "start_time": "2023-01-19T11:34:58.036Z"
   },
   {
    "duration": 18,
    "start_time": "2023-01-19T11:35:37.060Z"
   },
   {
    "duration": 15,
    "start_time": "2023-01-19T11:35:44.282Z"
   },
   {
    "duration": 15,
    "start_time": "2023-01-19T11:35:52.801Z"
   },
   {
    "duration": 20,
    "start_time": "2023-01-19T11:36:12.242Z"
   },
   {
    "duration": 49,
    "start_time": "2023-01-19T11:38:25.097Z"
   },
   {
    "duration": 146,
    "start_time": "2023-01-19T11:39:33.044Z"
   },
   {
    "duration": 124,
    "start_time": "2023-01-19T11:41:24.193Z"
   },
   {
    "duration": 138,
    "start_time": "2023-01-19T11:43:04.500Z"
   },
   {
    "duration": 123,
    "start_time": "2023-01-19T11:43:24.365Z"
   },
   {
    "duration": 138,
    "start_time": "2023-01-19T11:43:39.033Z"
   },
   {
    "duration": 24,
    "start_time": "2023-01-19T11:56:10.433Z"
   },
   {
    "duration": 284,
    "start_time": "2023-01-19T12:10:42.976Z"
   },
   {
    "duration": 147,
    "start_time": "2023-01-19T12:14:25.961Z"
   },
   {
    "duration": 8,
    "start_time": "2023-01-19T12:16:21.744Z"
   },
   {
    "duration": 281,
    "start_time": "2023-01-19T12:18:19.453Z"
   },
   {
    "duration": 311,
    "start_time": "2023-01-19T12:18:23.850Z"
   },
   {
    "duration": 6,
    "start_time": "2023-01-19T12:22:34.682Z"
   },
   {
    "duration": 4,
    "start_time": "2023-01-19T12:28:47.180Z"
   },
   {
    "duration": 21,
    "start_time": "2023-01-19T12:36:43.470Z"
   },
   {
    "duration": 9,
    "start_time": "2023-01-19T12:37:31.779Z"
   },
   {
    "duration": 47,
    "start_time": "2023-01-19T12:40:56.247Z"
   },
   {
    "duration": 42,
    "start_time": "2023-01-19T12:41:09.187Z"
   },
   {
    "duration": 20,
    "start_time": "2023-01-19T12:41:21.864Z"
   },
   {
    "duration": 138,
    "start_time": "2023-01-19T12:42:13.990Z"
   },
   {
    "duration": 167,
    "start_time": "2023-01-19T12:42:31.567Z"
   },
   {
    "duration": 163,
    "start_time": "2023-01-19T12:45:52.490Z"
   },
   {
    "duration": 189,
    "start_time": "2023-01-19T12:46:10.384Z"
   },
   {
    "duration": 158,
    "start_time": "2023-01-19T12:49:53.660Z"
   },
   {
    "duration": 171,
    "start_time": "2023-01-19T12:50:18.921Z"
   },
   {
    "duration": 164,
    "start_time": "2023-01-19T12:50:25.047Z"
   },
   {
    "duration": 236,
    "start_time": "2023-01-19T12:59:18.965Z"
   },
   {
    "duration": 259,
    "start_time": "2023-01-19T12:59:29.007Z"
   },
   {
    "duration": 158,
    "start_time": "2023-01-19T13:00:16.110Z"
   },
   {
    "duration": 195,
    "start_time": "2023-01-19T13:00:41.563Z"
   },
   {
    "duration": 186,
    "start_time": "2023-01-19T13:00:46.586Z"
   },
   {
    "duration": 190,
    "start_time": "2023-01-19T13:01:34.765Z"
   },
   {
    "duration": 146,
    "start_time": "2023-01-19T13:01:55.662Z"
   },
   {
    "duration": 53,
    "start_time": "2023-01-19T13:02:40.189Z"
   },
   {
    "duration": 163,
    "start_time": "2023-01-19T13:03:11.963Z"
   },
   {
    "duration": 152,
    "start_time": "2023-01-19T13:03:16.065Z"
   },
   {
    "duration": 159,
    "start_time": "2023-01-19T13:04:19.343Z"
   },
   {
    "duration": 172,
    "start_time": "2023-01-19T13:05:46.693Z"
   },
   {
    "duration": 153,
    "start_time": "2023-01-19T13:06:58.084Z"
   },
   {
    "duration": 166,
    "start_time": "2023-01-19T13:08:56.575Z"
   },
   {
    "duration": 155,
    "start_time": "2023-01-19T13:09:04.963Z"
   },
   {
    "duration": 182,
    "start_time": "2023-01-19T13:09:17.214Z"
   },
   {
    "duration": 170,
    "start_time": "2023-01-19T13:09:25.366Z"
   },
   {
    "duration": 151,
    "start_time": "2023-01-19T13:09:33.273Z"
   },
   {
    "duration": 159,
    "start_time": "2023-01-19T13:09:40.816Z"
   },
   {
    "duration": 167,
    "start_time": "2023-01-19T13:09:47.470Z"
   },
   {
    "duration": 267,
    "start_time": "2023-01-19T13:09:54.944Z"
   },
   {
    "duration": 177,
    "start_time": "2023-01-19T13:11:46.367Z"
   },
   {
    "duration": 169,
    "start_time": "2023-01-19T13:13:00.176Z"
   },
   {
    "duration": 164,
    "start_time": "2023-01-19T13:13:48.282Z"
   },
   {
    "duration": 133,
    "start_time": "2023-01-19T13:17:07.002Z"
   },
   {
    "duration": 143,
    "start_time": "2023-01-19T13:17:15.471Z"
   },
   {
    "duration": 140,
    "start_time": "2023-01-19T13:17:22.703Z"
   },
   {
    "duration": 121,
    "start_time": "2023-01-19T13:17:35.184Z"
   },
   {
    "duration": 120,
    "start_time": "2023-01-19T13:17:42.149Z"
   },
   {
    "duration": 137,
    "start_time": "2023-01-19T13:17:51.665Z"
   },
   {
    "duration": 124,
    "start_time": "2023-01-19T13:18:02.180Z"
   },
   {
    "duration": 143,
    "start_time": "2023-01-19T13:18:14.858Z"
   },
   {
    "duration": 189,
    "start_time": "2023-01-19T13:18:25.618Z"
   },
   {
    "duration": 172,
    "start_time": "2023-01-19T13:18:31.599Z"
   },
   {
    "duration": 125,
    "start_time": "2023-01-19T13:18:46.192Z"
   },
   {
    "duration": 131,
    "start_time": "2023-01-19T13:18:54.066Z"
   },
   {
    "duration": 204,
    "start_time": "2023-01-19T13:19:04.659Z"
   },
   {
    "duration": 187,
    "start_time": "2023-01-19T13:19:11.458Z"
   },
   {
    "duration": 182,
    "start_time": "2023-01-19T13:19:18.072Z"
   },
   {
    "duration": 208,
    "start_time": "2023-01-19T13:19:51.362Z"
   },
   {
    "duration": 171,
    "start_time": "2023-01-19T13:19:58.449Z"
   },
   {
    "duration": 170,
    "start_time": "2023-01-19T13:20:07.957Z"
   },
   {
    "duration": 278,
    "start_time": "2023-01-19T13:20:15.649Z"
   },
   {
    "duration": 199,
    "start_time": "2023-01-19T13:20:30.708Z"
   },
   {
    "duration": 7,
    "start_time": "2023-01-19T13:23:42.191Z"
   },
   {
    "duration": 82,
    "start_time": "2023-01-19T13:25:03.602Z"
   },
   {
    "duration": 50,
    "start_time": "2023-01-19T13:30:02.402Z"
   },
   {
    "duration": 43,
    "start_time": "2023-01-19T13:32:32.045Z"
   },
   {
    "duration": 10,
    "start_time": "2023-01-19T13:33:05.971Z"
   },
   {
    "duration": 12,
    "start_time": "2023-01-19T13:33:43.699Z"
   },
   {
    "duration": 487,
    "start_time": "2023-01-19T13:33:57.167Z"
   },
   {
    "duration": 3577,
    "start_time": "2023-01-19T13:34:14.564Z"
   },
   {
    "duration": 69,
    "start_time": "2023-01-19T13:36:34.179Z"
   },
   {
    "duration": 23,
    "start_time": "2023-01-19T13:37:22.869Z"
   },
   {
    "duration": 20,
    "start_time": "2023-01-19T13:37:26.445Z"
   },
   {
    "duration": 8,
    "start_time": "2023-01-19T13:39:23.861Z"
   },
   {
    "duration": 3,
    "start_time": "2023-01-19T13:39:45.471Z"
   },
   {
    "duration": 1273,
    "start_time": "2023-01-19T13:39:54.271Z"
   },
   {
    "duration": 9,
    "start_time": "2023-01-19T13:40:07.307Z"
   },
   {
    "duration": 5232,
    "start_time": "2023-01-19T13:40:10.247Z"
   },
   {
    "duration": 604,
    "start_time": "2023-01-19T13:41:03.854Z"
   },
   {
    "duration": 21169,
    "start_time": "2023-01-19T13:42:27.908Z"
   },
   {
    "duration": 604,
    "start_time": "2023-01-19T13:43:29.494Z"
   },
   {
    "duration": 680,
    "start_time": "2023-01-19T13:44:32.206Z"
   },
   {
    "duration": 572,
    "start_time": "2023-01-19T13:46:43.068Z"
   },
   {
    "duration": 14,
    "start_time": "2023-01-19T13:51:52.157Z"
   },
   {
    "duration": 9,
    "start_time": "2023-01-19T13:52:32.634Z"
   },
   {
    "duration": 9,
    "start_time": "2023-01-19T13:52:43.245Z"
   },
   {
    "duration": 16,
    "start_time": "2023-01-19T13:54:17.458Z"
   },
   {
    "duration": 15,
    "start_time": "2023-01-19T13:54:37.803Z"
   },
   {
    "duration": 3493,
    "start_time": "2023-01-19T13:54:59.846Z"
   },
   {
    "duration": 1948,
    "start_time": "2023-01-19T14:08:06.194Z"
   },
   {
    "duration": 2076,
    "start_time": "2023-01-19T14:08:11.737Z"
   },
   {
    "duration": 2276,
    "start_time": "2023-01-19T14:08:34.341Z"
   },
   {
    "duration": 1905,
    "start_time": "2023-01-19T14:09:19.790Z"
   },
   {
    "duration": 2243,
    "start_time": "2023-01-19T14:09:53.381Z"
   },
   {
    "duration": 2534,
    "start_time": "2023-01-19T14:10:02.573Z"
   },
   {
    "duration": 2195,
    "start_time": "2023-01-19T14:10:39.795Z"
   },
   {
    "duration": 50,
    "start_time": "2023-01-19T14:13:57.380Z"
   },
   {
    "duration": 581,
    "start_time": "2023-01-19T14:16:45.233Z"
   },
   {
    "duration": 442,
    "start_time": "2023-01-19T14:17:30.771Z"
   },
   {
    "duration": 495,
    "start_time": "2023-01-19T14:20:35.275Z"
   },
   {
    "duration": 13,
    "start_time": "2023-01-19T14:20:35.772Z"
   },
   {
    "duration": 19,
    "start_time": "2023-01-19T14:20:35.786Z"
   },
   {
    "duration": 92,
    "start_time": "2023-01-19T14:20:35.806Z"
   },
   {
    "duration": 390,
    "start_time": "2023-01-19T14:20:35.900Z"
   },
   {
    "duration": 6,
    "start_time": "2023-01-19T14:20:36.291Z"
   },
   {
    "duration": 15,
    "start_time": "2023-01-19T14:20:36.299Z"
   },
   {
    "duration": 142,
    "start_time": "2023-01-19T14:20:36.316Z"
   },
   {
    "duration": 146,
    "start_time": "2023-01-19T14:20:36.459Z"
   },
   {
    "duration": 147,
    "start_time": "2023-01-19T14:20:36.608Z"
   },
   {
    "duration": 157,
    "start_time": "2023-01-19T14:20:36.757Z"
   },
   {
    "duration": 200,
    "start_time": "2023-01-19T14:20:36.915Z"
   },
   {
    "duration": 32,
    "start_time": "2023-01-19T14:20:37.116Z"
   },
   {
    "duration": 269,
    "start_time": "2023-01-19T14:20:37.151Z"
   },
   {
    "duration": 22,
    "start_time": "2023-01-19T14:20:37.421Z"
   },
   {
    "duration": 147,
    "start_time": "2023-01-19T14:20:37.445Z"
   },
   {
    "duration": 132,
    "start_time": "2023-01-19T14:20:37.593Z"
   },
   {
    "duration": 141,
    "start_time": "2023-01-19T14:20:37.727Z"
   },
   {
    "duration": 147,
    "start_time": "2023-01-19T14:20:37.870Z"
   },
   {
    "duration": 139,
    "start_time": "2023-01-19T14:20:38.019Z"
   },
   {
    "duration": 23,
    "start_time": "2023-01-19T14:20:38.161Z"
   },
   {
    "duration": 340,
    "start_time": "2023-01-19T14:20:38.186Z"
   },
   {
    "duration": 96,
    "start_time": "2023-01-19T14:20:38.528Z"
   },
   {
    "duration": 6,
    "start_time": "2023-01-19T14:20:38.626Z"
   },
   {
    "duration": 12,
    "start_time": "2023-01-19T14:20:38.645Z"
   },
   {
    "duration": 8,
    "start_time": "2023-01-19T14:20:38.660Z"
   },
   {
    "duration": 11,
    "start_time": "2023-01-19T14:20:38.670Z"
   },
   {
    "duration": 216,
    "start_time": "2023-01-19T14:20:38.685Z"
   },
   {
    "duration": 254,
    "start_time": "2023-01-19T14:20:38.903Z"
   },
   {
    "duration": 181,
    "start_time": "2023-01-19T14:20:39.159Z"
   },
   {
    "duration": 136,
    "start_time": "2023-01-19T14:20:39.342Z"
   },
   {
    "duration": 127,
    "start_time": "2023-01-19T14:20:39.479Z"
   },
   {
    "duration": 210,
    "start_time": "2023-01-19T14:20:39.608Z"
   },
   {
    "duration": 135,
    "start_time": "2023-01-19T14:20:39.819Z"
   },
   {
    "duration": 214,
    "start_time": "2023-01-19T14:20:39.957Z"
   },
   {
    "duration": 208,
    "start_time": "2023-01-19T14:20:40.172Z"
   },
   {
    "duration": 149,
    "start_time": "2023-01-19T14:20:40.381Z"
   },
   {
    "duration": 70,
    "start_time": "2023-01-19T14:20:40.531Z"
   },
   {
    "duration": 2751,
    "start_time": "2023-01-19T14:20:40.602Z"
   },
   {
    "duration": 2127,
    "start_time": "2023-01-19T14:20:43.356Z"
   },
   {
    "duration": 13,
    "start_time": "2023-01-19T14:20:45.485Z"
   },
   {
    "duration": 8,
    "start_time": "2023-01-19T14:20:45.499Z"
   },
   {
    "duration": 160,
    "start_time": "2023-01-19T14:21:02.893Z"
   },
   {
    "duration": 179,
    "start_time": "2023-01-19T14:22:02.344Z"
   },
   {
    "duration": 153,
    "start_time": "2023-01-19T14:23:11.593Z"
   },
   {
    "duration": 699,
    "start_time": "2023-01-20T11:12:33.452Z"
   },
   {
    "duration": 12,
    "start_time": "2023-01-20T11:12:34.153Z"
   },
   {
    "duration": 29,
    "start_time": "2023-01-20T11:12:34.166Z"
   },
   {
    "duration": 58,
    "start_time": "2023-01-20T11:12:34.198Z"
   },
   {
    "duration": 496,
    "start_time": "2023-01-20T11:12:34.257Z"
   },
   {
    "duration": 8,
    "start_time": "2023-01-20T11:12:34.755Z"
   },
   {
    "duration": 19,
    "start_time": "2023-01-20T11:12:34.765Z"
   },
   {
    "duration": 152,
    "start_time": "2023-01-20T11:12:34.786Z"
   },
   {
    "duration": 134,
    "start_time": "2023-01-20T11:12:34.940Z"
   },
   {
    "duration": 130,
    "start_time": "2023-01-20T11:12:35.077Z"
   },
   {
    "duration": 184,
    "start_time": "2023-01-20T11:12:35.209Z"
   },
   {
    "duration": 138,
    "start_time": "2023-01-20T11:12:35.394Z"
   },
   {
    "duration": 20,
    "start_time": "2023-01-20T11:12:35.536Z"
   },
   {
    "duration": 251,
    "start_time": "2023-01-20T11:12:35.558Z"
   },
   {
    "duration": 15,
    "start_time": "2023-01-20T11:12:35.811Z"
   },
   {
    "duration": 146,
    "start_time": "2023-01-20T11:12:35.837Z"
   },
   {
    "duration": 133,
    "start_time": "2023-01-20T11:12:35.985Z"
   },
   {
    "duration": 148,
    "start_time": "2023-01-20T11:12:36.119Z"
   },
   {
    "duration": 140,
    "start_time": "2023-01-20T11:12:36.269Z"
   },
   {
    "duration": 151,
    "start_time": "2023-01-20T11:12:36.410Z"
   },
   {
    "duration": 20,
    "start_time": "2023-01-20T11:12:36.563Z"
   },
   {
    "duration": 404,
    "start_time": "2023-01-20T11:12:36.584Z"
   },
   {
    "duration": 105,
    "start_time": "2023-01-20T11:12:36.989Z"
   },
   {
    "duration": 7,
    "start_time": "2023-01-20T11:12:37.096Z"
   },
   {
    "duration": 35,
    "start_time": "2023-01-20T11:12:37.105Z"
   },
   {
    "duration": 41,
    "start_time": "2023-01-20T11:12:37.142Z"
   },
   {
    "duration": 48,
    "start_time": "2023-01-20T11:12:37.184Z"
   },
   {
    "duration": 272,
    "start_time": "2023-01-20T11:12:37.236Z"
   },
   {
    "duration": 182,
    "start_time": "2023-01-20T11:12:37.509Z"
   },
   {
    "duration": 183,
    "start_time": "2023-01-20T11:12:37.693Z"
   },
   {
    "duration": 140,
    "start_time": "2023-01-20T11:12:37.878Z"
   },
   {
    "duration": 122,
    "start_time": "2023-01-20T11:12:38.020Z"
   },
   {
    "duration": 177,
    "start_time": "2023-01-20T11:12:38.143Z"
   },
   {
    "duration": 131,
    "start_time": "2023-01-20T11:12:38.321Z"
   },
   {
    "duration": 178,
    "start_time": "2023-01-20T11:12:38.453Z"
   },
   {
    "duration": 183,
    "start_time": "2023-01-20T11:12:38.633Z"
   },
   {
    "duration": 142,
    "start_time": "2023-01-20T11:12:38.818Z"
   },
   {
    "duration": 49,
    "start_time": "2023-01-20T11:12:38.961Z"
   },
   {
    "duration": 2496,
    "start_time": "2023-01-20T11:12:39.012Z"
   },
   {
    "duration": 1924,
    "start_time": "2023-01-20T11:12:41.510Z"
   },
   {
    "duration": 141,
    "start_time": "2023-01-20T11:12:43.438Z"
   },
   {
    "duration": 2,
    "start_time": "2023-01-20T11:12:43.581Z"
   },
   {
    "duration": 201,
    "start_time": "2023-01-20T11:13:40.968Z"
   },
   {
    "duration": 14,
    "start_time": "2023-01-20T11:16:51.786Z"
   },
   {
    "duration": 158,
    "start_time": "2023-01-20T11:18:07.460Z"
   },
   {
    "duration": 197,
    "start_time": "2023-01-20T11:18:37.373Z"
   },
   {
    "duration": 173,
    "start_time": "2023-01-20T11:19:04.733Z"
   },
   {
    "duration": 205,
    "start_time": "2023-01-20T11:19:12.313Z"
   },
   {
    "duration": 141,
    "start_time": "2023-01-20T11:26:26.698Z"
   },
   {
    "duration": 114,
    "start_time": "2023-01-20T11:29:18.177Z"
   },
   {
    "duration": 116,
    "start_time": "2023-01-20T11:29:58.180Z"
   },
   {
    "duration": 69,
    "start_time": "2023-01-20T11:38:44.775Z"
   },
   {
    "duration": 126,
    "start_time": "2023-01-20T11:40:08.548Z"
   },
   {
    "duration": 131,
    "start_time": "2023-01-20T11:41:47.372Z"
   },
   {
    "duration": 131,
    "start_time": "2023-01-20T11:42:57.193Z"
   },
   {
    "duration": 137,
    "start_time": "2023-01-20T11:44:12.273Z"
   },
   {
    "duration": 253,
    "start_time": "2023-01-20T11:45:16.251Z"
   },
   {
    "duration": 140,
    "start_time": "2023-01-20T11:49:36.439Z"
   },
   {
    "duration": 138,
    "start_time": "2023-01-20T11:55:05.760Z"
   },
   {
    "duration": 119,
    "start_time": "2023-01-20T12:03:07.511Z"
   },
   {
    "duration": 116,
    "start_time": "2023-01-20T12:05:49.827Z"
   },
   {
    "duration": 134,
    "start_time": "2023-01-20T12:06:41.702Z"
   },
   {
    "duration": 129,
    "start_time": "2023-01-20T12:19:06.772Z"
   },
   {
    "duration": 139,
    "start_time": "2023-01-20T12:19:25.130Z"
   },
   {
    "duration": 149,
    "start_time": "2023-01-20T12:20:07.764Z"
   },
   {
    "duration": 11,
    "start_time": "2023-01-20T12:24:56.557Z"
   },
   {
    "duration": 94,
    "start_time": "2023-01-20T12:27:41.197Z"
   },
   {
    "duration": 92,
    "start_time": "2023-01-20T12:27:49.867Z"
   },
   {
    "duration": 98,
    "start_time": "2023-01-20T12:38:53.891Z"
   },
   {
    "duration": 89,
    "start_time": "2023-01-20T12:39:35.947Z"
   },
   {
    "duration": 9,
    "start_time": "2023-01-20T12:39:48.316Z"
   },
   {
    "duration": 10,
    "start_time": "2023-01-20T12:39:54.065Z"
   },
   {
    "duration": 9,
    "start_time": "2023-01-20T12:40:17.153Z"
   },
   {
    "duration": 11,
    "start_time": "2023-01-20T12:42:23.021Z"
   },
   {
    "duration": 10,
    "start_time": "2023-01-20T12:50:02.949Z"
   },
   {
    "duration": 5,
    "start_time": "2023-01-20T12:50:17.748Z"
   },
   {
    "duration": 10,
    "start_time": "2023-01-20T12:55:25.217Z"
   },
   {
    "duration": 11,
    "start_time": "2023-01-20T12:57:36.948Z"
   },
   {
    "duration": 5,
    "start_time": "2023-01-20T12:58:12.708Z"
   },
   {
    "duration": 482,
    "start_time": "2023-01-20T19:36:32.281Z"
   },
   {
    "duration": 13,
    "start_time": "2023-01-20T19:36:32.766Z"
   },
   {
    "duration": 22,
    "start_time": "2023-01-20T19:36:32.781Z"
   },
   {
    "duration": 61,
    "start_time": "2023-01-20T19:36:32.805Z"
   },
   {
    "duration": 432,
    "start_time": "2023-01-20T19:36:32.868Z"
   },
   {
    "duration": 7,
    "start_time": "2023-01-20T19:36:33.303Z"
   },
   {
    "duration": 16,
    "start_time": "2023-01-20T19:36:33.312Z"
   },
   {
    "duration": 163,
    "start_time": "2023-01-20T19:36:33.330Z"
   },
   {
    "duration": 140,
    "start_time": "2023-01-20T19:36:33.496Z"
   },
   {
    "duration": 175,
    "start_time": "2023-01-20T19:36:33.639Z"
   },
   {
    "duration": 138,
    "start_time": "2023-01-20T19:36:33.815Z"
   },
   {
    "duration": 197,
    "start_time": "2023-01-20T19:36:33.955Z"
   },
   {
    "duration": 24,
    "start_time": "2023-01-20T19:36:34.154Z"
   },
   {
    "duration": 333,
    "start_time": "2023-01-20T19:36:34.180Z"
   },
   {
    "duration": 22,
    "start_time": "2023-01-20T19:36:34.515Z"
   },
   {
    "duration": 172,
    "start_time": "2023-01-20T19:36:34.540Z"
   },
   {
    "duration": 153,
    "start_time": "2023-01-20T19:36:34.714Z"
   },
   {
    "duration": 156,
    "start_time": "2023-01-20T19:36:34.868Z"
   },
   {
    "duration": 148,
    "start_time": "2023-01-20T19:36:35.026Z"
   },
   {
    "duration": 159,
    "start_time": "2023-01-20T19:36:35.176Z"
   },
   {
    "duration": 23,
    "start_time": "2023-01-20T19:36:35.336Z"
   },
   {
    "duration": 373,
    "start_time": "2023-01-20T19:36:35.361Z"
   },
   {
    "duration": 114,
    "start_time": "2023-01-20T19:36:35.736Z"
   },
   {
    "duration": 7,
    "start_time": "2023-01-20T19:36:35.852Z"
   },
   {
    "duration": 26,
    "start_time": "2023-01-20T19:36:35.860Z"
   },
   {
    "duration": 19,
    "start_time": "2023-01-20T19:36:35.888Z"
   },
   {
    "duration": 35,
    "start_time": "2023-01-20T19:36:35.909Z"
   },
   {
    "duration": 196,
    "start_time": "2023-01-20T19:36:35.948Z"
   },
   {
    "duration": 262,
    "start_time": "2023-01-20T19:36:36.146Z"
   },
   {
    "duration": 185,
    "start_time": "2023-01-20T19:36:36.410Z"
   },
   {
    "duration": 160,
    "start_time": "2023-01-20T19:36:36.597Z"
   },
   {
    "duration": 133,
    "start_time": "2023-01-20T19:36:36.758Z"
   },
   {
    "duration": 193,
    "start_time": "2023-01-20T19:36:36.892Z"
   },
   {
    "duration": 154,
    "start_time": "2023-01-20T19:36:37.087Z"
   },
   {
    "duration": 221,
    "start_time": "2023-01-20T19:36:37.243Z"
   },
   {
    "duration": 204,
    "start_time": "2023-01-20T19:36:37.466Z"
   },
   {
    "duration": 156,
    "start_time": "2023-01-20T19:36:37.673Z"
   },
   {
    "duration": 56,
    "start_time": "2023-01-20T19:36:37.831Z"
   },
   {
    "duration": 2776,
    "start_time": "2023-01-20T19:36:37.889Z"
   },
   {
    "duration": 1974,
    "start_time": "2023-01-20T19:36:40.667Z"
   },
   {
    "duration": 221,
    "start_time": "2023-01-20T19:36:42.643Z"
   },
   {
    "duration": 202,
    "start_time": "2023-01-20T19:36:42.865Z"
   },
   {
    "duration": 168,
    "start_time": "2023-01-20T19:36:43.069Z"
   },
   {
    "duration": 151,
    "start_time": "2023-01-20T19:36:43.239Z"
   },
   {
    "duration": 138,
    "start_time": "2023-01-20T19:36:43.403Z"
   },
   {
    "duration": 155,
    "start_time": "2023-01-20T19:36:43.542Z"
   },
   {
    "duration": 148,
    "start_time": "2023-01-20T19:36:43.699Z"
   },
   {
    "duration": 157,
    "start_time": "2023-01-20T19:36:43.848Z"
   },
   {
    "duration": 183,
    "start_time": "2023-01-20T19:36:44.006Z"
   },
   {
    "duration": 194,
    "start_time": "2023-01-20T19:36:44.191Z"
   },
   {
    "duration": 147,
    "start_time": "2023-01-20T19:36:44.386Z"
   },
   {
    "duration": 11,
    "start_time": "2023-01-20T19:36:44.534Z"
   },
   {
    "duration": 114,
    "start_time": "2023-01-20T19:36:44.547Z"
   },
   {
    "duration": 0,
    "start_time": "2023-01-20T19:36:44.663Z"
   },
   {
    "duration": 0,
    "start_time": "2023-01-20T19:36:44.664Z"
   },
   {
    "duration": 8,
    "start_time": "2023-01-20T20:01:01.027Z"
   },
   {
    "duration": 464,
    "start_time": "2023-01-20T20:01:07.022Z"
   },
   {
    "duration": 14,
    "start_time": "2023-01-20T20:01:07.488Z"
   },
   {
    "duration": 22,
    "start_time": "2023-01-20T20:01:07.503Z"
   },
   {
    "duration": 64,
    "start_time": "2023-01-20T20:01:07.527Z"
   },
   {
    "duration": 375,
    "start_time": "2023-01-20T20:01:07.593Z"
   },
   {
    "duration": 6,
    "start_time": "2023-01-20T20:01:07.970Z"
   },
   {
    "duration": 31,
    "start_time": "2023-01-20T20:01:07.977Z"
   },
   {
    "duration": 137,
    "start_time": "2023-01-20T20:01:08.010Z"
   },
   {
    "duration": 144,
    "start_time": "2023-01-20T20:01:08.148Z"
   },
   {
    "duration": 132,
    "start_time": "2023-01-20T20:01:08.294Z"
   },
   {
    "duration": 141,
    "start_time": "2023-01-20T20:01:08.427Z"
   },
   {
    "duration": 196,
    "start_time": "2023-01-20T20:01:08.570Z"
   },
   {
    "duration": 22,
    "start_time": "2023-01-20T20:01:08.768Z"
   },
   {
    "duration": 257,
    "start_time": "2023-01-20T20:01:08.792Z"
   },
   {
    "duration": 17,
    "start_time": "2023-01-20T20:01:09.051Z"
   },
   {
    "duration": 142,
    "start_time": "2023-01-20T20:01:09.069Z"
   },
   {
    "duration": 143,
    "start_time": "2023-01-20T20:01:09.213Z"
   },
   {
    "duration": 146,
    "start_time": "2023-01-20T20:01:09.358Z"
   },
   {
    "duration": 148,
    "start_time": "2023-01-20T20:01:09.506Z"
   },
   {
    "duration": 141,
    "start_time": "2023-01-20T20:01:09.655Z"
   },
   {
    "duration": 21,
    "start_time": "2023-01-20T20:01:09.798Z"
   },
   {
    "duration": 358,
    "start_time": "2023-01-20T20:01:09.820Z"
   },
   {
    "duration": 104,
    "start_time": "2023-01-20T20:01:10.180Z"
   },
   {
    "duration": 20,
    "start_time": "2023-01-20T20:01:10.286Z"
   },
   {
    "duration": 8,
    "start_time": "2023-01-20T20:01:10.308Z"
   },
   {
    "duration": 9,
    "start_time": "2023-01-20T20:01:10.318Z"
   },
   {
    "duration": 13,
    "start_time": "2023-01-20T20:01:10.329Z"
   },
   {
    "duration": 192,
    "start_time": "2023-01-20T20:01:10.345Z"
   },
   {
    "duration": 264,
    "start_time": "2023-01-20T20:01:10.539Z"
   },
   {
    "duration": 220,
    "start_time": "2023-01-20T20:01:10.804Z"
   },
   {
    "duration": 146,
    "start_time": "2023-01-20T20:01:11.026Z"
   },
   {
    "duration": 178,
    "start_time": "2023-01-20T20:01:11.174Z"
   },
   {
    "duration": 195,
    "start_time": "2023-01-20T20:01:11.354Z"
   },
   {
    "duration": 146,
    "start_time": "2023-01-20T20:01:11.550Z"
   },
   {
    "duration": 186,
    "start_time": "2023-01-20T20:01:11.702Z"
   },
   {
    "duration": 189,
    "start_time": "2023-01-20T20:01:11.890Z"
   },
   {
    "duration": 153,
    "start_time": "2023-01-20T20:01:12.080Z"
   },
   {
    "duration": 55,
    "start_time": "2023-01-20T20:01:12.234Z"
   },
   {
    "duration": 2739,
    "start_time": "2023-01-20T20:01:12.290Z"
   },
   {
    "duration": 1928,
    "start_time": "2023-01-20T20:01:15.031Z"
   },
   {
    "duration": 216,
    "start_time": "2023-01-20T20:01:16.961Z"
   },
   {
    "duration": 202,
    "start_time": "2023-01-20T20:01:17.179Z"
   },
   {
    "duration": 156,
    "start_time": "2023-01-20T20:01:17.383Z"
   },
   {
    "duration": 164,
    "start_time": "2023-01-20T20:01:17.541Z"
   },
   {
    "duration": 153,
    "start_time": "2023-01-20T20:01:17.706Z"
   },
   {
    "duration": 162,
    "start_time": "2023-01-20T20:01:17.861Z"
   },
   {
    "duration": 197,
    "start_time": "2023-01-20T20:01:18.024Z"
   },
   {
    "duration": 197,
    "start_time": "2023-01-20T20:01:18.223Z"
   },
   {
    "duration": 137,
    "start_time": "2023-01-20T20:01:18.422Z"
   },
   {
    "duration": 130,
    "start_time": "2023-01-20T20:01:18.561Z"
   },
   {
    "duration": 149,
    "start_time": "2023-01-20T20:01:18.692Z"
   },
   {
    "duration": 9,
    "start_time": "2023-01-20T20:01:18.843Z"
   },
   {
    "duration": 105,
    "start_time": "2023-01-20T20:01:18.854Z"
   },
   {
    "duration": 0,
    "start_time": "2023-01-20T20:01:18.961Z"
   },
   {
    "duration": 0,
    "start_time": "2023-01-20T20:01:18.962Z"
   },
   {
    "duration": 529,
    "start_time": "2023-01-20T21:00:50.290Z"
   },
   {
    "duration": 14,
    "start_time": "2023-01-20T21:00:50.822Z"
   },
   {
    "duration": 19,
    "start_time": "2023-01-20T21:00:50.838Z"
   },
   {
    "duration": 79,
    "start_time": "2023-01-20T21:00:50.859Z"
   },
   {
    "duration": 369,
    "start_time": "2023-01-20T21:00:50.940Z"
   },
   {
    "duration": 8,
    "start_time": "2023-01-20T21:00:51.311Z"
   },
   {
    "duration": 11,
    "start_time": "2023-01-20T21:00:51.321Z"
   },
   {
    "duration": 148,
    "start_time": "2023-01-20T21:00:51.334Z"
   },
   {
    "duration": 145,
    "start_time": "2023-01-20T21:00:51.484Z"
   },
   {
    "duration": 143,
    "start_time": "2023-01-20T21:00:51.630Z"
   },
   {
    "duration": 138,
    "start_time": "2023-01-20T21:00:51.775Z"
   },
   {
    "duration": 191,
    "start_time": "2023-01-20T21:00:51.915Z"
   },
   {
    "duration": 21,
    "start_time": "2023-01-20T21:00:52.107Z"
   },
   {
    "duration": 249,
    "start_time": "2023-01-20T21:00:52.131Z"
   },
   {
    "duration": 22,
    "start_time": "2023-01-20T21:00:52.382Z"
   },
   {
    "duration": 138,
    "start_time": "2023-01-20T21:00:52.406Z"
   },
   {
    "duration": 131,
    "start_time": "2023-01-20T21:00:52.546Z"
   },
   {
    "duration": 132,
    "start_time": "2023-01-20T21:00:52.678Z"
   },
   {
    "duration": 131,
    "start_time": "2023-01-20T21:00:52.812Z"
   },
   {
    "duration": 273,
    "start_time": "2023-01-20T21:00:52.945Z"
   },
   {
    "duration": 21,
    "start_time": "2023-01-20T21:00:53.220Z"
   },
   {
    "duration": 54,
    "start_time": "2023-01-20T21:00:53.242Z"
   },
   {
    "duration": 372,
    "start_time": "2023-01-20T21:00:53.298Z"
   },
   {
    "duration": 109,
    "start_time": "2023-01-20T21:00:53.671Z"
   },
   {
    "duration": 21,
    "start_time": "2023-01-20T21:00:53.782Z"
   },
   {
    "duration": 12,
    "start_time": "2023-01-20T21:00:53.805Z"
   },
   {
    "duration": 34,
    "start_time": "2023-01-20T21:00:53.818Z"
   },
   {
    "duration": 33,
    "start_time": "2023-01-20T21:00:53.854Z"
   },
   {
    "duration": 218,
    "start_time": "2023-01-20T21:00:53.889Z"
   },
   {
    "duration": 284,
    "start_time": "2023-01-20T21:00:54.109Z"
   },
   {
    "duration": 185,
    "start_time": "2023-01-20T21:00:54.395Z"
   },
   {
    "duration": 140,
    "start_time": "2023-01-20T21:00:54.582Z"
   },
   {
    "duration": 132,
    "start_time": "2023-01-20T21:00:54.724Z"
   },
   {
    "duration": 177,
    "start_time": "2023-01-20T21:00:54.858Z"
   },
   {
    "duration": 142,
    "start_time": "2023-01-20T21:00:55.037Z"
   },
   {
    "duration": 181,
    "start_time": "2023-01-20T21:00:55.180Z"
   },
   {
    "duration": 203,
    "start_time": "2023-01-20T21:00:55.362Z"
   },
   {
    "duration": 157,
    "start_time": "2023-01-20T21:00:55.566Z"
   },
   {
    "duration": 54,
    "start_time": "2023-01-20T21:00:55.725Z"
   },
   {
    "duration": 2571,
    "start_time": "2023-01-20T21:00:55.781Z"
   },
   {
    "duration": 1903,
    "start_time": "2023-01-20T21:00:58.356Z"
   },
   {
    "duration": 227,
    "start_time": "2023-01-20T21:01:00.260Z"
   },
   {
    "duration": 197,
    "start_time": "2023-01-20T21:01:00.489Z"
   },
   {
    "duration": 147,
    "start_time": "2023-01-20T21:01:00.688Z"
   },
   {
    "duration": 149,
    "start_time": "2023-01-20T21:01:00.836Z"
   },
   {
    "duration": 155,
    "start_time": "2023-01-20T21:01:00.986Z"
   },
   {
    "duration": 161,
    "start_time": "2023-01-20T21:01:01.143Z"
   },
   {
    "duration": 143,
    "start_time": "2023-01-20T21:01:01.306Z"
   },
   {
    "duration": 154,
    "start_time": "2023-01-20T21:01:01.451Z"
   },
   {
    "duration": 135,
    "start_time": "2023-01-20T21:01:01.607Z"
   },
   {
    "duration": 133,
    "start_time": "2023-01-20T21:01:01.744Z"
   },
   {
    "duration": 148,
    "start_time": "2023-01-20T21:01:01.878Z"
   },
   {
    "duration": 10,
    "start_time": "2023-01-20T21:01:02.028Z"
   },
   {
    "duration": 157,
    "start_time": "2023-01-20T21:01:02.039Z"
   },
   {
    "duration": 0,
    "start_time": "2023-01-20T21:01:02.197Z"
   },
   {
    "duration": 0,
    "start_time": "2023-01-20T21:01:02.203Z"
   },
   {
    "duration": 1523,
    "start_time": "2023-01-26T07:35:59.559Z"
   },
   {
    "duration": 192,
    "start_time": "2023-01-26T07:36:01.084Z"
   },
   {
    "duration": 0,
    "start_time": "2023-01-26T07:36:01.280Z"
   },
   {
    "duration": 0,
    "start_time": "2023-01-26T07:36:01.281Z"
   },
   {
    "duration": 0,
    "start_time": "2023-01-26T07:36:01.283Z"
   },
   {
    "duration": 0,
    "start_time": "2023-01-26T07:36:01.285Z"
   },
   {
    "duration": 0,
    "start_time": "2023-01-26T07:36:01.286Z"
   },
   {
    "duration": 0,
    "start_time": "2023-01-26T07:36:01.288Z"
   },
   {
    "duration": 0,
    "start_time": "2023-01-26T07:36:01.290Z"
   },
   {
    "duration": 0,
    "start_time": "2023-01-26T07:36:01.291Z"
   },
   {
    "duration": 0,
    "start_time": "2023-01-26T07:36:01.293Z"
   },
   {
    "duration": 0,
    "start_time": "2023-01-26T07:36:01.294Z"
   },
   {
    "duration": 0,
    "start_time": "2023-01-26T07:36:01.296Z"
   },
   {
    "duration": 0,
    "start_time": "2023-01-26T07:36:01.297Z"
   },
   {
    "duration": 0,
    "start_time": "2023-01-26T07:36:01.328Z"
   },
   {
    "duration": 0,
    "start_time": "2023-01-26T07:36:01.329Z"
   },
   {
    "duration": 0,
    "start_time": "2023-01-26T07:36:01.331Z"
   },
   {
    "duration": 0,
    "start_time": "2023-01-26T07:36:01.333Z"
   },
   {
    "duration": 0,
    "start_time": "2023-01-26T07:36:01.334Z"
   },
   {
    "duration": 0,
    "start_time": "2023-01-26T07:36:01.336Z"
   },
   {
    "duration": 0,
    "start_time": "2023-01-26T07:36:01.337Z"
   },
   {
    "duration": 0,
    "start_time": "2023-01-26T07:36:01.339Z"
   },
   {
    "duration": 0,
    "start_time": "2023-01-26T07:36:01.340Z"
   },
   {
    "duration": 0,
    "start_time": "2023-01-26T07:36:01.341Z"
   },
   {
    "duration": 0,
    "start_time": "2023-01-26T07:36:01.343Z"
   },
   {
    "duration": 0,
    "start_time": "2023-01-26T07:36:01.344Z"
   },
   {
    "duration": 0,
    "start_time": "2023-01-26T07:36:01.346Z"
   },
   {
    "duration": 0,
    "start_time": "2023-01-26T07:36:01.347Z"
   },
   {
    "duration": 0,
    "start_time": "2023-01-26T07:36:01.348Z"
   },
   {
    "duration": 0,
    "start_time": "2023-01-26T07:36:01.350Z"
   },
   {
    "duration": 0,
    "start_time": "2023-01-26T07:36:01.352Z"
   },
   {
    "duration": 0,
    "start_time": "2023-01-26T07:36:01.354Z"
   },
   {
    "duration": 0,
    "start_time": "2023-01-26T07:36:01.355Z"
   },
   {
    "duration": 0,
    "start_time": "2023-01-26T07:36:01.357Z"
   },
   {
    "duration": 0,
    "start_time": "2023-01-26T07:36:01.358Z"
   },
   {
    "duration": 0,
    "start_time": "2023-01-26T07:36:01.360Z"
   },
   {
    "duration": 0,
    "start_time": "2023-01-26T07:36:01.361Z"
   },
   {
    "duration": 0,
    "start_time": "2023-01-26T07:36:01.363Z"
   },
   {
    "duration": 0,
    "start_time": "2023-01-26T07:36:01.365Z"
   },
   {
    "duration": 0,
    "start_time": "2023-01-26T07:36:01.366Z"
   },
   {
    "duration": 0,
    "start_time": "2023-01-26T07:36:01.427Z"
   },
   {
    "duration": 0,
    "start_time": "2023-01-26T07:36:01.429Z"
   },
   {
    "duration": 0,
    "start_time": "2023-01-26T07:36:01.430Z"
   },
   {
    "duration": 0,
    "start_time": "2023-01-26T07:36:01.432Z"
   },
   {
    "duration": 0,
    "start_time": "2023-01-26T07:36:01.433Z"
   },
   {
    "duration": 0,
    "start_time": "2023-01-26T07:36:01.434Z"
   },
   {
    "duration": 0,
    "start_time": "2023-01-26T07:36:01.436Z"
   },
   {
    "duration": 0,
    "start_time": "2023-01-26T07:36:01.437Z"
   },
   {
    "duration": 0,
    "start_time": "2023-01-26T07:36:01.439Z"
   },
   {
    "duration": 0,
    "start_time": "2023-01-26T07:36:01.440Z"
   },
   {
    "duration": 0,
    "start_time": "2023-01-26T07:36:01.441Z"
   },
   {
    "duration": 0,
    "start_time": "2023-01-26T07:36:01.443Z"
   },
   {
    "duration": 0,
    "start_time": "2023-01-26T07:36:01.444Z"
   },
   {
    "duration": 0,
    "start_time": "2023-01-26T07:36:01.446Z"
   },
   {
    "duration": 0,
    "start_time": "2023-01-26T07:36:01.447Z"
   },
   {
    "duration": 0,
    "start_time": "2023-01-26T07:36:01.449Z"
   },
   {
    "duration": 0,
    "start_time": "2023-01-26T07:36:01.451Z"
   },
   {
    "duration": 0,
    "start_time": "2023-01-26T07:36:01.452Z"
   },
   {
    "duration": 0,
    "start_time": "2023-01-26T07:36:01.453Z"
   },
   {
    "duration": 0,
    "start_time": "2023-01-26T07:36:01.455Z"
   },
   {
    "duration": 46,
    "start_time": "2023-01-26T08:00:32.928Z"
   },
   {
    "duration": 1304,
    "start_time": "2023-01-26T08:00:38.080Z"
   },
   {
    "duration": 101,
    "start_time": "2023-01-26T08:00:39.676Z"
   },
   {
    "duration": 76,
    "start_time": "2023-01-26T08:02:49.653Z"
   },
   {
    "duration": 105,
    "start_time": "2023-01-26T08:03:58.588Z"
   },
   {
    "duration": 65,
    "start_time": "2023-01-26T08:04:30.537Z"
   },
   {
    "duration": 42,
    "start_time": "2023-01-26T08:04:49.484Z"
   },
   {
    "duration": 90,
    "start_time": "2023-01-26T08:05:58.392Z"
   },
   {
    "duration": 158,
    "start_time": "2023-01-26T08:06:07.536Z"
   },
   {
    "duration": 74,
    "start_time": "2023-01-26T08:06:23.157Z"
   },
   {
    "duration": 100,
    "start_time": "2023-01-26T08:06:30.075Z"
   },
   {
    "duration": 75,
    "start_time": "2023-01-26T08:06:37.962Z"
   },
   {
    "duration": 78,
    "start_time": "2023-01-26T08:07:13.325Z"
   },
   {
    "duration": 231,
    "start_time": "2023-01-26T08:07:16.232Z"
   },
   {
    "duration": 52,
    "start_time": "2023-01-26T08:08:59.253Z"
   },
   {
    "duration": 57,
    "start_time": "2023-01-26T08:09:13.701Z"
   },
   {
    "duration": 118,
    "start_time": "2023-01-26T08:10:13.241Z"
   },
   {
    "duration": 1135,
    "start_time": "2023-01-26T08:24:40.669Z"
   },
   {
    "duration": 109,
    "start_time": "2023-01-26T08:24:41.806Z"
   },
   {
    "duration": 16,
    "start_time": "2023-01-26T08:24:41.917Z"
   },
   {
    "duration": 7,
    "start_time": "2023-01-26T08:24:41.935Z"
   },
   {
    "duration": 20,
    "start_time": "2023-01-26T08:24:41.943Z"
   },
   {
    "duration": 16,
    "start_time": "2023-01-26T08:24:41.965Z"
   },
   {
    "duration": 8,
    "start_time": "2023-01-26T08:24:41.983Z"
   },
   {
    "duration": 43,
    "start_time": "2023-01-26T08:24:41.993Z"
   },
   {
    "duration": 15,
    "start_time": "2023-01-26T08:24:42.038Z"
   },
   {
    "duration": 5,
    "start_time": "2023-01-26T08:24:42.056Z"
   },
   {
    "duration": 8,
    "start_time": "2023-01-26T08:24:42.063Z"
   },
   {
    "duration": 14,
    "start_time": "2023-01-26T08:24:42.072Z"
   },
   {
    "duration": 183,
    "start_time": "2023-01-26T08:24:42.087Z"
   },
   {
    "duration": 11,
    "start_time": "2023-01-26T08:24:42.272Z"
   },
   {
    "duration": 301,
    "start_time": "2023-01-26T08:24:42.284Z"
   },
   {
    "duration": 12,
    "start_time": "2023-01-26T08:24:42.587Z"
   },
   {
    "duration": 153,
    "start_time": "2023-01-26T08:24:42.600Z"
   },
   {
    "duration": 142,
    "start_time": "2023-01-26T08:24:42.754Z"
   },
   {
    "duration": 140,
    "start_time": "2023-01-26T08:24:42.898Z"
   },
   {
    "duration": 137,
    "start_time": "2023-01-26T08:24:43.040Z"
   },
   {
    "duration": 167,
    "start_time": "2023-01-26T08:24:43.179Z"
   },
   {
    "duration": 141,
    "start_time": "2023-01-26T08:24:43.348Z"
   },
   {
    "duration": 84,
    "start_time": "2023-01-26T08:24:43.491Z"
   },
   {
    "duration": 6,
    "start_time": "2023-01-26T08:24:43.577Z"
   },
   {
    "duration": 353,
    "start_time": "2023-01-26T08:24:43.584Z"
   },
   {
    "duration": 107,
    "start_time": "2023-01-26T08:24:43.939Z"
   },
   {
    "duration": 7,
    "start_time": "2023-01-26T08:24:44.048Z"
   },
   {
    "duration": 31,
    "start_time": "2023-01-26T08:24:44.058Z"
   },
   {
    "duration": 4,
    "start_time": "2023-01-26T08:24:44.091Z"
   },
   {
    "duration": 31,
    "start_time": "2023-01-26T08:24:44.096Z"
   },
   {
    "duration": 179,
    "start_time": "2023-01-26T08:24:44.129Z"
   },
   {
    "duration": 189,
    "start_time": "2023-01-26T08:24:44.309Z"
   },
   {
    "duration": 177,
    "start_time": "2023-01-26T08:24:44.500Z"
   },
   {
    "duration": 148,
    "start_time": "2023-01-26T08:24:44.679Z"
   },
   {
    "duration": 143,
    "start_time": "2023-01-26T08:24:44.828Z"
   },
   {
    "duration": 215,
    "start_time": "2023-01-26T08:24:44.973Z"
   },
   {
    "duration": 140,
    "start_time": "2023-01-26T08:24:45.190Z"
   },
   {
    "duration": 189,
    "start_time": "2023-01-26T08:24:45.331Z"
   },
   {
    "duration": 208,
    "start_time": "2023-01-26T08:24:45.526Z"
   },
   {
    "duration": 205,
    "start_time": "2023-01-26T08:24:45.736Z"
   },
   {
    "duration": 269,
    "start_time": "2023-01-26T08:24:45.943Z"
   },
   {
    "duration": 58,
    "start_time": "2023-01-26T08:24:46.214Z"
   },
   {
    "duration": 2472,
    "start_time": "2023-01-26T08:24:46.274Z"
   },
   {
    "duration": 2511,
    "start_time": "2023-01-26T08:24:48.748Z"
   },
   {
    "duration": 218,
    "start_time": "2023-01-26T08:24:51.261Z"
   },
   {
    "duration": 187,
    "start_time": "2023-01-26T08:24:51.481Z"
   },
   {
    "duration": 176,
    "start_time": "2023-01-26T08:24:51.669Z"
   },
   {
    "duration": 137,
    "start_time": "2023-01-26T08:24:51.847Z"
   },
   {
    "duration": 144,
    "start_time": "2023-01-26T08:24:51.985Z"
   },
   {
    "duration": 150,
    "start_time": "2023-01-26T08:24:52.131Z"
   },
   {
    "duration": 160,
    "start_time": "2023-01-26T08:24:52.283Z"
   },
   {
    "duration": 148,
    "start_time": "2023-01-26T08:24:52.445Z"
   },
   {
    "duration": 152,
    "start_time": "2023-01-26T08:24:52.595Z"
   },
   {
    "duration": 141,
    "start_time": "2023-01-26T08:24:52.749Z"
   },
   {
    "duration": 136,
    "start_time": "2023-01-26T08:24:52.892Z"
   },
   {
    "duration": 144,
    "start_time": "2023-01-26T08:24:53.030Z"
   },
   {
    "duration": 10,
    "start_time": "2023-01-26T08:24:53.176Z"
   },
   {
    "duration": 22,
    "start_time": "2023-01-26T08:24:53.188Z"
   },
   {
    "duration": 20,
    "start_time": "2023-01-26T08:24:53.211Z"
   },
   {
    "duration": 13,
    "start_time": "2023-01-26T08:24:53.232Z"
   },
   {
    "duration": 95,
    "start_time": "2023-01-26T08:30:43.583Z"
   },
   {
    "duration": 22,
    "start_time": "2023-01-26T08:36:56.079Z"
   },
   {
    "duration": 52,
    "start_time": "2023-01-26T09:42:25.708Z"
   },
   {
    "duration": 1500,
    "start_time": "2023-01-26T09:42:30.996Z"
   },
   {
    "duration": 140,
    "start_time": "2023-01-26T09:42:32.498Z"
   },
   {
    "duration": 27,
    "start_time": "2023-01-26T09:42:32.640Z"
   },
   {
    "duration": 4,
    "start_time": "2023-01-26T09:42:32.669Z"
   },
   {
    "duration": 29,
    "start_time": "2023-01-26T09:42:32.677Z"
   },
   {
    "duration": 42,
    "start_time": "2023-01-26T09:42:32.708Z"
   },
   {
    "duration": 14,
    "start_time": "2023-01-26T09:42:32.752Z"
   },
   {
    "duration": 73,
    "start_time": "2023-01-26T09:42:32.768Z"
   },
   {
    "duration": 26,
    "start_time": "2023-01-26T09:42:32.843Z"
   },
   {
    "duration": 7,
    "start_time": "2023-01-26T09:42:32.871Z"
   },
   {
    "duration": 23,
    "start_time": "2023-01-26T09:42:32.880Z"
   },
   {
    "duration": 47,
    "start_time": "2023-01-26T09:42:32.905Z"
   },
   {
    "duration": 200,
    "start_time": "2023-01-26T09:42:32.955Z"
   },
   {
    "duration": 83,
    "start_time": "2023-01-26T09:42:33.158Z"
   },
   {
    "duration": 0,
    "start_time": "2023-01-26T09:42:33.243Z"
   },
   {
    "duration": 0,
    "start_time": "2023-01-26T09:42:33.244Z"
   },
   {
    "duration": 0,
    "start_time": "2023-01-26T09:42:33.245Z"
   },
   {
    "duration": 0,
    "start_time": "2023-01-26T09:42:33.246Z"
   },
   {
    "duration": 0,
    "start_time": "2023-01-26T09:42:33.248Z"
   },
   {
    "duration": 0,
    "start_time": "2023-01-26T09:42:33.249Z"
   },
   {
    "duration": 0,
    "start_time": "2023-01-26T09:42:33.250Z"
   },
   {
    "duration": 0,
    "start_time": "2023-01-26T09:42:33.251Z"
   },
   {
    "duration": 0,
    "start_time": "2023-01-26T09:42:33.252Z"
   },
   {
    "duration": 0,
    "start_time": "2023-01-26T09:42:33.253Z"
   },
   {
    "duration": 0,
    "start_time": "2023-01-26T09:42:33.255Z"
   },
   {
    "duration": 8,
    "start_time": "2023-01-26T09:42:45.758Z"
   },
   {
    "duration": 380,
    "start_time": "2023-01-26T09:42:48.728Z"
   },
   {
    "duration": 530,
    "start_time": "2023-01-26T09:47:55.404Z"
   },
   {
    "duration": 46,
    "start_time": "2023-01-26T09:49:03.262Z"
   },
   {
    "duration": 7,
    "start_time": "2023-01-26T09:49:39.499Z"
   },
   {
    "duration": 32,
    "start_time": "2023-01-26T09:49:42.688Z"
   },
   {
    "duration": 5,
    "start_time": "2023-01-26T09:49:59.284Z"
   },
   {
    "duration": 103,
    "start_time": "2023-01-26T09:54:52.393Z"
   },
   {
    "duration": 4,
    "start_time": "2023-01-26T10:03:29.537Z"
   },
   {
    "duration": 104,
    "start_time": "2023-01-26T10:03:29.546Z"
   },
   {
    "duration": 18,
    "start_time": "2023-01-26T10:03:29.653Z"
   },
   {
    "duration": 9,
    "start_time": "2023-01-26T10:03:29.673Z"
   },
   {
    "duration": 23,
    "start_time": "2023-01-26T10:03:29.685Z"
   },
   {
    "duration": 34,
    "start_time": "2023-01-26T10:03:29.710Z"
   },
   {
    "duration": 12,
    "start_time": "2023-01-26T10:03:29.745Z"
   },
   {
    "duration": 31,
    "start_time": "2023-01-26T10:03:29.758Z"
   },
   {
    "duration": 17,
    "start_time": "2023-01-26T10:03:29.790Z"
   },
   {
    "duration": 36,
    "start_time": "2023-01-26T10:03:29.809Z"
   },
   {
    "duration": 9,
    "start_time": "2023-01-26T10:03:29.848Z"
   },
   {
    "duration": 22,
    "start_time": "2023-01-26T10:03:29.859Z"
   },
   {
    "duration": 183,
    "start_time": "2023-01-26T10:03:29.883Z"
   },
   {
    "duration": 11,
    "start_time": "2023-01-26T10:03:30.068Z"
   },
   {
    "duration": 306,
    "start_time": "2023-01-26T10:03:30.081Z"
   },
   {
    "duration": 12,
    "start_time": "2023-01-26T10:03:30.389Z"
   },
   {
    "duration": 175,
    "start_time": "2023-01-26T10:03:30.403Z"
   },
   {
    "duration": 162,
    "start_time": "2023-01-26T10:03:30.580Z"
   },
   {
    "duration": 165,
    "start_time": "2023-01-26T10:03:30.743Z"
   },
   {
    "duration": 166,
    "start_time": "2023-01-26T10:03:30.909Z"
   },
   {
    "duration": 197,
    "start_time": "2023-01-26T10:03:31.079Z"
   },
   {
    "duration": 162,
    "start_time": "2023-01-26T10:03:31.278Z"
   },
   {
    "duration": 144,
    "start_time": "2023-01-26T10:03:31.441Z"
   },
   {
    "duration": 28,
    "start_time": "2023-01-26T10:03:31.586Z"
   },
   {
    "duration": 386,
    "start_time": "2023-01-26T10:03:31.617Z"
   },
   {
    "duration": 584,
    "start_time": "2023-01-26T10:03:32.004Z"
   },
   {
    "duration": 37,
    "start_time": "2023-01-26T10:03:32.590Z"
   },
   {
    "duration": 17,
    "start_time": "2023-01-26T10:03:32.629Z"
   },
   {
    "duration": 43,
    "start_time": "2023-01-26T10:03:32.648Z"
   },
   {
    "duration": 270,
    "start_time": "2023-01-26T10:03:41.657Z"
   },
   {
    "duration": 34,
    "start_time": "2023-01-26T10:03:47.079Z"
   },
   {
    "duration": 6,
    "start_time": "2023-01-26T10:03:51.889Z"
   },
   {
    "duration": 31,
    "start_time": "2023-01-26T10:03:55.257Z"
   },
   {
    "duration": 6,
    "start_time": "2023-01-26T10:03:58.955Z"
   },
   {
    "duration": 7,
    "start_time": "2023-01-26T10:04:44.609Z"
   },
   {
    "duration": 210,
    "start_time": "2023-01-26T10:04:47.986Z"
   },
   {
    "duration": 168,
    "start_time": "2023-01-26T10:05:03.101Z"
   },
   {
    "duration": 198,
    "start_time": "2023-01-26T10:05:32.709Z"
   },
   {
    "duration": 162,
    "start_time": "2023-01-26T10:05:42.125Z"
   },
   {
    "duration": 227,
    "start_time": "2023-01-26T10:06:39.693Z"
   },
   {
    "duration": 22,
    "start_time": "2023-01-26T10:06:45.749Z"
   },
   {
    "duration": 174,
    "start_time": "2023-01-26T10:06:50.400Z"
   },
   {
    "duration": 146,
    "start_time": "2023-01-26T10:07:07.239Z"
   },
   {
    "duration": 129,
    "start_time": "2023-01-26T10:07:12.044Z"
   },
   {
    "duration": 133,
    "start_time": "2023-01-26T10:08:00.370Z"
   },
   {
    "duration": 19,
    "start_time": "2023-01-26T10:08:05.121Z"
   },
   {
    "duration": 251,
    "start_time": "2023-01-26T10:08:09.929Z"
   },
   {
    "duration": 187,
    "start_time": "2023-01-26T10:08:54.580Z"
   },
   {
    "duration": 164,
    "start_time": "2023-01-26T10:09:02.146Z"
   },
   {
    "duration": 24,
    "start_time": "2023-01-26T10:09:30.220Z"
   },
   {
    "duration": 22,
    "start_time": "2023-01-26T10:09:37.051Z"
   },
   {
    "duration": 6,
    "start_time": "2023-01-26T10:14:00.190Z"
   },
   {
    "duration": 164,
    "start_time": "2023-01-26T10:14:03.447Z"
   },
   {
    "duration": 156,
    "start_time": "2023-01-26T10:14:07.708Z"
   },
   {
    "duration": 171,
    "start_time": "2023-01-26T10:14:10.837Z"
   },
   {
    "duration": 130,
    "start_time": "2023-01-26T10:14:14.024Z"
   },
   {
    "duration": 121,
    "start_time": "2023-01-26T10:14:17.100Z"
   },
   {
    "duration": 164,
    "start_time": "2023-01-26T10:14:19.642Z"
   },
   {
    "duration": 184,
    "start_time": "2023-01-26T10:15:09.404Z"
   },
   {
    "duration": 156,
    "start_time": "2023-01-26T10:15:48.365Z"
   },
   {
    "duration": 168,
    "start_time": "2023-01-26T10:16:17.737Z"
   },
   {
    "duration": 263,
    "start_time": "2023-01-26T10:18:40.794Z"
   },
   {
    "duration": 55,
    "start_time": "2023-01-26T10:19:26.976Z"
   },
   {
    "duration": 21,
    "start_time": "2023-01-26T10:20:24.724Z"
   },
   {
    "duration": 2451,
    "start_time": "2023-01-26T10:20:46.908Z"
   },
   {
    "duration": 2093,
    "start_time": "2023-01-26T10:21:03.272Z"
   },
   {
    "duration": 282,
    "start_time": "2023-01-26T10:22:30.740Z"
   },
   {
    "duration": 19,
    "start_time": "2023-01-26T10:22:51.752Z"
   },
   {
    "duration": 2428,
    "start_time": "2023-01-26T10:23:01.898Z"
   },
   {
    "duration": 2029,
    "start_time": "2023-01-26T10:23:16.400Z"
   },
   {
    "duration": 201,
    "start_time": "2023-01-26T10:23:47.186Z"
   },
   {
    "duration": 213,
    "start_time": "2023-01-26T10:24:00.129Z"
   },
   {
    "duration": 209,
    "start_time": "2023-01-26T10:24:05.889Z"
   },
   {
    "duration": 149,
    "start_time": "2023-01-26T10:26:41.950Z"
   },
   {
    "duration": 168,
    "start_time": "2023-01-26T10:29:16.233Z"
   },
   {
    "duration": 172,
    "start_time": "2023-01-26T10:31:06.176Z"
   },
   {
    "duration": 165,
    "start_time": "2023-01-26T10:34:39.193Z"
   },
   {
    "duration": 159,
    "start_time": "2023-01-26T10:36:21.632Z"
   },
   {
    "duration": 152,
    "start_time": "2023-01-26T10:38:02.311Z"
   },
   {
    "duration": 141,
    "start_time": "2023-01-26T10:43:11.708Z"
   },
   {
    "duration": 161,
    "start_time": "2023-01-26T10:44:20.540Z"
   },
   {
    "duration": 189,
    "start_time": "2023-01-26T10:45:10.625Z"
   },
   {
    "duration": 8,
    "start_time": "2023-01-26T10:47:29.712Z"
   },
   {
    "duration": 5,
    "start_time": "2023-01-26T10:47:38.625Z"
   },
   {
    "duration": 10,
    "start_time": "2023-01-26T10:48:05.951Z"
   },
   {
    "duration": 5,
    "start_time": "2023-01-26T10:48:11.490Z"
   },
   {
    "duration": 1459,
    "start_time": "2023-01-26T11:27:15.448Z"
   },
   {
    "duration": 256,
    "start_time": "2023-01-26T11:27:16.909Z"
   },
   {
    "duration": 20,
    "start_time": "2023-01-26T11:27:17.166Z"
   },
   {
    "duration": 3,
    "start_time": "2023-01-26T11:27:17.188Z"
   },
   {
    "duration": 17,
    "start_time": "2023-01-26T11:27:17.193Z"
   },
   {
    "duration": 17,
    "start_time": "2023-01-26T11:27:17.211Z"
   },
   {
    "duration": 10,
    "start_time": "2023-01-26T11:27:17.229Z"
   },
   {
    "duration": 29,
    "start_time": "2023-01-26T11:27:17.241Z"
   },
   {
    "duration": 17,
    "start_time": "2023-01-26T11:27:17.272Z"
   },
   {
    "duration": 7,
    "start_time": "2023-01-26T11:27:17.320Z"
   },
   {
    "duration": 8,
    "start_time": "2023-01-26T11:27:17.328Z"
   },
   {
    "duration": 21,
    "start_time": "2023-01-26T11:27:17.339Z"
   },
   {
    "duration": 207,
    "start_time": "2023-01-26T11:27:17.362Z"
   },
   {
    "duration": 14,
    "start_time": "2023-01-26T11:27:17.571Z"
   },
   {
    "duration": 334,
    "start_time": "2023-01-26T11:27:17.587Z"
   },
   {
    "duration": 13,
    "start_time": "2023-01-26T11:27:17.922Z"
   },
   {
    "duration": 164,
    "start_time": "2023-01-26T11:27:17.936Z"
   },
   {
    "duration": 162,
    "start_time": "2023-01-26T11:27:18.102Z"
   },
   {
    "duration": 169,
    "start_time": "2023-01-26T11:27:18.265Z"
   },
   {
    "duration": 151,
    "start_time": "2023-01-26T11:27:18.436Z"
   },
   {
    "duration": 199,
    "start_time": "2023-01-26T11:27:18.589Z"
   },
   {
    "duration": 159,
    "start_time": "2023-01-26T11:27:18.790Z"
   },
   {
    "duration": 102,
    "start_time": "2023-01-26T11:27:18.951Z"
   },
   {
    "duration": 7,
    "start_time": "2023-01-26T11:27:19.054Z"
   },
   {
    "duration": 398,
    "start_time": "2023-01-26T11:27:19.063Z"
   },
   {
    "duration": 583,
    "start_time": "2023-01-26T11:27:19.462Z"
   },
   {
    "duration": 38,
    "start_time": "2023-01-26T11:27:20.046Z"
   },
   {
    "duration": 7,
    "start_time": "2023-01-26T11:27:20.088Z"
   },
   {
    "duration": 53,
    "start_time": "2023-01-26T11:27:20.096Z"
   },
   {
    "duration": 5,
    "start_time": "2023-01-26T11:27:20.151Z"
   },
   {
    "duration": 10,
    "start_time": "2023-01-26T11:27:20.157Z"
   },
   {
    "duration": 209,
    "start_time": "2023-01-26T11:27:20.169Z"
   },
   {
    "duration": 187,
    "start_time": "2023-01-26T11:27:20.380Z"
   },
   {
    "duration": 182,
    "start_time": "2023-01-26T11:27:20.569Z"
   },
   {
    "duration": 138,
    "start_time": "2023-01-26T11:27:20.753Z"
   },
   {
    "duration": 137,
    "start_time": "2023-01-26T11:27:20.893Z"
   },
   {
    "duration": 269,
    "start_time": "2023-01-26T11:27:21.032Z"
   },
   {
    "duration": 188,
    "start_time": "2023-01-26T11:27:21.303Z"
   },
   {
    "duration": 169,
    "start_time": "2023-01-26T11:27:21.493Z"
   },
   {
    "duration": 196,
    "start_time": "2023-01-26T11:27:21.664Z"
   },
   {
    "duration": 291,
    "start_time": "2023-01-26T11:27:21.863Z"
   },
   {
    "duration": 56,
    "start_time": "2023-01-26T11:27:22.156Z"
   },
   {
    "duration": 2481,
    "start_time": "2023-01-26T11:27:22.221Z"
   },
   {
    "duration": 2168,
    "start_time": "2023-01-26T11:27:24.705Z"
   },
   {
    "duration": 223,
    "start_time": "2023-01-26T11:27:26.875Z"
   },
   {
    "duration": 243,
    "start_time": "2023-01-26T11:27:27.100Z"
   },
   {
    "duration": 225,
    "start_time": "2023-01-26T11:27:27.345Z"
   },
   {
    "duration": 162,
    "start_time": "2023-01-26T11:27:27.572Z"
   },
   {
    "duration": 176,
    "start_time": "2023-01-26T11:27:27.736Z"
   },
   {
    "duration": 171,
    "start_time": "2023-01-26T11:27:27.914Z"
   },
   {
    "duration": 165,
    "start_time": "2023-01-26T11:27:28.087Z"
   },
   {
    "duration": 190,
    "start_time": "2023-01-26T11:27:28.254Z"
   },
   {
    "duration": 177,
    "start_time": "2023-01-26T11:27:28.446Z"
   },
   {
    "duration": 170,
    "start_time": "2023-01-26T11:27:28.626Z"
   },
   {
    "duration": 183,
    "start_time": "2023-01-26T11:27:28.798Z"
   },
   {
    "duration": 192,
    "start_time": "2023-01-26T11:27:28.983Z"
   },
   {
    "duration": 11,
    "start_time": "2023-01-26T11:27:29.178Z"
   },
   {
    "duration": 117,
    "start_time": "2023-01-26T11:27:29.192Z"
   },
   {
    "duration": 34,
    "start_time": "2023-01-26T11:27:29.311Z"
   },
   {
    "duration": 21,
    "start_time": "2023-01-26T11:27:29.347Z"
   },
   {
    "duration": 67,
    "start_time": "2023-01-26T12:34:05.007Z"
   },
   {
    "duration": 1346,
    "start_time": "2023-01-26T12:34:10.675Z"
   },
   {
    "duration": 497,
    "start_time": "2023-01-26T12:34:12.024Z"
   },
   {
    "duration": 24,
    "start_time": "2023-01-26T12:34:12.523Z"
   },
   {
    "duration": 3,
    "start_time": "2023-01-26T12:34:12.549Z"
   },
   {
    "duration": 29,
    "start_time": "2023-01-26T12:34:12.554Z"
   },
   {
    "duration": 22,
    "start_time": "2023-01-26T12:34:12.585Z"
   },
   {
    "duration": 12,
    "start_time": "2023-01-26T12:34:12.609Z"
   },
   {
    "duration": 43,
    "start_time": "2023-01-26T12:34:12.623Z"
   },
   {
    "duration": 17,
    "start_time": "2023-01-26T12:34:12.668Z"
   },
   {
    "duration": 6,
    "start_time": "2023-01-26T12:34:12.688Z"
   },
   {
    "duration": 11,
    "start_time": "2023-01-26T12:34:12.696Z"
   },
   {
    "duration": 17,
    "start_time": "2023-01-26T12:34:12.709Z"
   },
   {
    "duration": 209,
    "start_time": "2023-01-26T12:34:12.727Z"
   },
   {
    "duration": 13,
    "start_time": "2023-01-26T12:34:12.938Z"
   },
   {
    "duration": 303,
    "start_time": "2023-01-26T12:34:12.953Z"
   },
   {
    "duration": 17,
    "start_time": "2023-01-26T12:34:13.258Z"
   },
   {
    "duration": 160,
    "start_time": "2023-01-26T12:34:13.277Z"
   },
   {
    "duration": 161,
    "start_time": "2023-01-26T12:34:13.439Z"
   },
   {
    "duration": 139,
    "start_time": "2023-01-26T12:34:13.602Z"
   },
   {
    "duration": 140,
    "start_time": "2023-01-26T12:34:13.743Z"
   },
   {
    "duration": 157,
    "start_time": "2023-01-26T12:34:13.885Z"
   },
   {
    "duration": 132,
    "start_time": "2023-01-26T12:34:14.043Z"
   },
   {
    "duration": 91,
    "start_time": "2023-01-26T12:34:14.176Z"
   },
   {
    "duration": 6,
    "start_time": "2023-01-26T12:34:14.269Z"
   },
   {
    "duration": 319,
    "start_time": "2023-01-26T12:34:14.276Z"
   },
   {
    "duration": 574,
    "start_time": "2023-01-26T12:34:17.117Z"
   },
   {
    "duration": 460,
    "start_time": "2023-01-26T12:35:01.143Z"
   },
   {
    "duration": 523,
    "start_time": "2023-01-26T12:35:10.257Z"
   },
   {
    "duration": 553,
    "start_time": "2023-01-26T12:35:19.102Z"
   },
   {
    "duration": 12,
    "start_time": "2023-01-26T12:36:18.830Z"
   },
   {
    "duration": 11,
    "start_time": "2023-01-26T12:36:36.605Z"
   },
   {
    "duration": 13,
    "start_time": "2023-01-26T12:36:43.031Z"
   },
   {
    "duration": 197,
    "start_time": "2023-01-26T12:37:34.597Z"
   },
   {
    "duration": 107,
    "start_time": "2023-01-26T12:38:01.955Z"
   },
   {
    "duration": 174,
    "start_time": "2023-01-26T12:38:17.599Z"
   },
   {
    "duration": 13,
    "start_time": "2023-01-26T13:47:53.830Z"
   },
   {
    "duration": 16,
    "start_time": "2023-01-26T13:48:11.097Z"
   },
   {
    "duration": 646,
    "start_time": "2023-01-26T13:48:56.108Z"
   },
   {
    "duration": 30,
    "start_time": "2023-01-26T13:50:34.665Z"
   },
   {
    "duration": 222,
    "start_time": "2023-01-26T13:50:59.622Z"
   }
  ],
  "celltoolbar": "Необработанный формат ячейки",
  "kernelspec": {
   "display_name": "Python 3 (ipykernel)",
   "language": "python",
   "name": "python3"
  },
  "language_info": {
   "codemirror_mode": {
    "name": "ipython",
    "version": 3
   },
   "file_extension": ".py",
   "mimetype": "text/x-python",
   "name": "python",
   "nbconvert_exporter": "python",
   "pygments_lexer": "ipython3",
   "version": "3.9.13"
  },
  "toc": {
   "base_numbering": 1,
   "nav_menu": {},
   "number_sections": true,
   "sideBar": true,
   "skip_h1_title": true,
   "title_cell": "Table of Contents",
   "title_sidebar": "Contents",
   "toc_cell": false,
   "toc_position": {},
   "toc_section_display": true,
   "toc_window_display": true
  }
 },
 "nbformat": 4,
 "nbformat_minor": 2
}
