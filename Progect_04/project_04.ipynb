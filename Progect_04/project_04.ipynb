{
 "cells": [
  {
   "cell_type": "markdown",
   "metadata": {},
   "source": [
    "# Исследование объявлений о продаже квартир\n",
    "\n",
    "В вашем распоряжении данные сервиса Яндекс.Недвижимость — архив объявлений о продаже квартир в Санкт-Петербурге и соседних населённых пунктов за несколько лет. Нужно научиться определять рыночную стоимость объектов недвижимости. Ваша задача — установить параметры. Это позволит построить автоматизированную систему: она отследит аномалии и мошенническую деятельность. \n",
    "\n",
    "По каждой квартире на продажу доступны два вида данных. Первые вписаны пользователем, вторые — получены автоматически на основе картографических данных. Например, расстояние до центра, аэропорта, ближайшего парка и водоёма. "
   ]
  },
  {
   "cell_type": "markdown",
   "metadata": {},
   "source": [
    "### Откройте файл с данными и изучите общую информацию. "
   ]
  },
  {
   "cell_type": "code",
   "execution_count": 167,
   "metadata": {},
   "outputs": [
    {
     "name": "stdout",
     "output_type": "stream",
     "text": [
      "   total_images  last_price total_area first_day_exposition  rooms  \\\n",
      "0            20  13000000.0      108.0  2019-03-07T00:00:00      3   \n",
      "1             7   3350000.0       40.4  2018-12-04T00:00:00      1   \n",
      "2            10   5196000.0       56.0  2015-08-20T00:00:00      2   \n",
      "3             0  64900000.0      159.0  2015-07-24T00:00:00      3   \n",
      "4             2  10000000.0      100.0  2018-06-19T00:00:00      2   \n",
      "5            10   2890000.0       30.4  2018-09-10T00:00:00      1   \n",
      "6             6   3700000.0       37.3  2017-11-02T00:00:00      1   \n",
      "7             5   7915000.0       71.6  2019-04-18T00:00:00      2   \n",
      "8            20   2900000.0      33.16  2018-05-23T00:00:00      1   \n",
      "9            18   5400000.0       61.0  2017-02-26T00:00:00      3   \n",
      "\n",
      "  ceiling_height floors_total living_area  floor is_apartment  ...  \\\n",
      "0            2.7         16.0        51.0      8          NaN  ...   \n",
      "1            NaN         11.0        18.6      1          NaN  ...   \n",
      "2            NaN          5.0        34.3      4          NaN  ...   \n",
      "3            NaN         14.0         NaN      9          NaN  ...   \n",
      "4           3.03         14.0        32.0     13          NaN  ...   \n",
      "5            NaN         12.0        14.4      5          NaN  ...   \n",
      "6            NaN         26.0        10.6      6          NaN  ...   \n",
      "7            NaN         24.0         NaN     22          NaN  ...   \n",
      "8            NaN         27.0       15.43     26          NaN  ...   \n",
      "9            2.5          9.0        43.6      7          NaN  ...   \n",
      "\n",
      "   kitchen_area  balcony              locality_name airports_nearest  \\\n",
      "0          25.0      NaN            Санкт-Петербург          18863.0   \n",
      "1          11.0      2.0             посёлок Шушары          12817.0   \n",
      "2           8.3      0.0            Санкт-Петербург          21741.0   \n",
      "3           NaN      0.0            Санкт-Петербург          28098.0   \n",
      "4          41.0      NaN            Санкт-Петербург          31856.0   \n",
      "5           9.1      NaN  городской посёлок Янино-1              NaN   \n",
      "6          14.4      1.0          посёлок Парголово          52996.0   \n",
      "7          18.9      2.0            Санкт-Петербург          23982.0   \n",
      "8          8.81      NaN             посёлок Мурино              NaN   \n",
      "9           6.5      2.0            Санкт-Петербург          50898.0   \n",
      "\n",
      "  cityCenters_nearest parks_around3000 parks_nearest ponds_around3000  \\\n",
      "0             16028.0              1.0         482.0              2.0   \n",
      "1             18603.0              0.0           NaN              0.0   \n",
      "2             13933.0              1.0          90.0              2.0   \n",
      "3              6800.0              2.0          84.0              3.0   \n",
      "4              8098.0              2.0         112.0              1.0   \n",
      "5                 NaN              NaN           NaN              NaN   \n",
      "6             19143.0              0.0           NaN              0.0   \n",
      "7             11634.0              0.0           NaN              0.0   \n",
      "8                 NaN              NaN           NaN              NaN   \n",
      "9             15008.0              0.0           NaN              0.0   \n",
      "\n",
      "  ponds_nearest     days_exposition  \n",
      "0         755.0                 NaN  \n",
      "1           NaN                81.0  \n",
      "2         574.0               558.0  \n",
      "3         234.0               424.0  \n",
      "4          48.0               121.0  \n",
      "5           NaN                55.0  \n",
      "6           NaN               155.0  \n",
      "7           NaN                 NaN  \n",
      "8           NaN  189.00000000000003  \n",
      "9           NaN               289.0  \n",
      "\n",
      "[10 rows x 22 columns]\n"
     ]
    }
   ],
   "source": [
    "import pandas as pd\n",
    "import numpy as np\n",
    "\n",
    "#открытие файла и просмотр\n",
    "\n",
    "data = pd.read_csv('/datasets/real_estate_data.csv', sep='\\t', decimal=' ')\n",
    "\n",
    "print(data.head(10))"
   ]
  },
  {
   "cell_type": "markdown",
   "metadata": {},
   "source": [
    "После открытия файла и предварительно просмотра первых 10 строчек можно увидеть,что данные содержат пропуски в столбцах: **ceiling_height, living_area, is_apartment, kitchen_area, balcony, airports_nearest, cityCenters_nearest** и во всех оставшихся. "
   ]
  },
  {
   "cell_type": "code",
   "execution_count": 168,
   "metadata": {},
   "outputs": [
    {
     "name": "stdout",
     "output_type": "stream",
     "text": [
      "<class 'pandas.core.frame.DataFrame'>\n",
      "RangeIndex: 23699 entries, 0 to 23698\n",
      "Data columns (total 22 columns):\n",
      " #   Column                Non-Null Count  Dtype \n",
      "---  ------                --------------  ----- \n",
      " 0   total_images          23699 non-null  int64 \n",
      " 1   last_price            23699 non-null  object\n",
      " 2   total_area            23699 non-null  object\n",
      " 3   first_day_exposition  23699 non-null  object\n",
      " 4   rooms                 23699 non-null  int64 \n",
      " 5   ceiling_height        14504 non-null  object\n",
      " 6   floors_total          23613 non-null  object\n",
      " 7   living_area           21796 non-null  object\n",
      " 8   floor                 23699 non-null  int64 \n",
      " 9   is_apartment          2775 non-null   object\n",
      " 10  studio                23699 non-null  bool  \n",
      " 11  open_plan             23699 non-null  bool  \n",
      " 12  kitchen_area          21421 non-null  object\n",
      " 13  balcony               12180 non-null  object\n",
      " 14  locality_name         23650 non-null  object\n",
      " 15  airports_nearest      18157 non-null  object\n",
      " 16  cityCenters_nearest   18180 non-null  object\n",
      " 17  parks_around3000      18181 non-null  object\n",
      " 18  parks_nearest         8079 non-null   object\n",
      " 19  ponds_around3000      18181 non-null  object\n",
      " 20  ponds_nearest         9110 non-null   object\n",
      " 21  days_exposition       20518 non-null  object\n",
      "dtypes: bool(2), int64(3), object(17)\n",
      "memory usage: 3.7+ MB\n"
     ]
    }
   ],
   "source": [
    "#посмотрим информацию о данных\n",
    "data.info()"
   ]
  },
  {
   "cell_type": "markdown",
   "metadata": {},
   "source": [
    "Теперь видно, что некоторые столбцы имеют другие типы значений, нежели должны. Например, столбцы **last_price, total_area, ceiling_height, floors_total, living_area** должны иметь числовое значение, а имеют строковое.\n",
    "Кроме этого **cityCenters_nearest, parks_around3000 и ponds_around3000** имеют неправильные названия."
   ]
  },
  {
   "cell_type": "markdown",
   "metadata": {},
   "source": [
    "Кроме всего прочего у нас есть различия количества данных в разных столбцах, значит у нас есть факт пропусков. "
   ]
  },
  {
   "cell_type": "code",
   "execution_count": 169,
   "metadata": {},
   "outputs": [
    {
     "data": {
      "text/plain": [
       "array([[<AxesSubplot:title={'center':'total_images'}>,\n",
       "        <AxesSubplot:title={'center':'rooms'}>],\n",
       "       [<AxesSubplot:title={'center':'floor'}>, <AxesSubplot:>]],\n",
       "      dtype=object)"
      ]
     },
     "execution_count": 169,
     "metadata": {},
     "output_type": "execute_result"
    },
    {
     "data": {
      "image/png": "[encoded data removed]",
      "text/plain": [
       "<Figure size 1080x1440 with 4 Axes>"
      ]
     },
     "metadata": {
      "needs_background": "light"
     },
     "output_type": "display_data"
    }
   ],
   "source": [
    "#построим гистрограмму для всех числовых значений таблицы\n",
    "\n",
    "data.hist(figsize=(15, 20))"
   ]
  },
  {
   "cell_type": "markdown",
   "metadata": {},
   "source": [
    "* По гистограмме **total_images** можно увидеть, что больше всего квартир имеет 5-10 фотографий, меньше всего 25-30.\n",
    "* По гистограмме **rooms** можно увидеть, что больше всего квартир с 2-3 комнатами, а меньше всего от 6.\n",
    "* По гистограмме **floor** можно увидеть, что больше всего квартир продается на 1-4 этажах, меньше всего с 26."
   ]
  },
  {
   "cell_type": "markdown",
   "metadata": {},
   "source": [
    "### Предобработка данных"
   ]
  },
  {
   "cell_type": "code",
   "execution_count": 170,
   "metadata": {},
   "outputs": [
    {
     "name": "stdout",
     "output_type": "stream",
     "text": [
      "<class 'pandas.core.frame.DataFrame'>\n",
      "RangeIndex: 23699 entries, 0 to 23698\n",
      "Data columns (total 22 columns):\n",
      " #   Column                Non-Null Count  Dtype \n",
      "---  ------                --------------  ----- \n",
      " 0   total_images          23699 non-null  int64 \n",
      " 1   last_price            23699 non-null  object\n",
      " 2   total_area            23699 non-null  object\n",
      " 3   first_day_exposition  23699 non-null  object\n",
      " 4   rooms                 23699 non-null  int64 \n",
      " 5   ceiling_height        14504 non-null  object\n",
      " 6   floors_total          23613 non-null  object\n",
      " 7   living_area           21796 non-null  object\n",
      " 8   floor                 23699 non-null  int64 \n",
      " 9   is_apartment          2775 non-null   object\n",
      " 10  studio                23699 non-null  bool  \n",
      " 11  open_plan             23699 non-null  bool  \n",
      " 12  kitchen_area          21421 non-null  object\n",
      " 13  balcony               12180 non-null  object\n",
      " 14  locality_name         23650 non-null  object\n",
      " 15  airports_nearest      18157 non-null  object\n",
      " 16  cityCenters_nearest   18180 non-null  object\n",
      " 17  parks_around3000      18181 non-null  object\n",
      " 18  parks_nearest         8079 non-null   object\n",
      " 19  ponds_around3000      18181 non-null  object\n",
      " 20  ponds_nearest         9110 non-null   object\n",
      " 21  days_exposition       20518 non-null  object\n",
      "dtypes: bool(2), int64(3), object(17)\n",
      "memory usage: 3.7+ MB\n"
     ]
    }
   ],
   "source": [
    "#посмотрим информацию о данных\n",
    "data.info()"
   ]
  },
  {
   "cell_type": "markdown",
   "metadata": {},
   "source": [
    "Итак, просмотрев снова общую информацию по данным, можно увидеть, что пропуски есть в следующих столбцах: **ceiling_height, floors_total, living_area, is_apartment, kitchen_area, balcony, locality_name, airports_nearest, cityCenters_nearest, parks_around3000, parks_nearest, ponds_around3000, ponds_nearest, days_exposition.**\n",
    "Нужно посмотреть на характер пропусков и понять, возможно ли их изменить.\n"
   ]
  },
  {
   "cell_type": "markdown",
   "metadata": {},
   "source": [
    "**1. Столбец ceiling_height**. "
   ]
  },
  {
   "cell_type": "code",
   "execution_count": 171,
   "metadata": {},
   "outputs": [
    {
     "data": {
      "text/plain": [
       "9195"
      ]
     },
     "execution_count": 171,
     "metadata": {},
     "output_type": "execute_result"
    }
   ],
   "source": [
    "#посмотрим на пустые значения в первом столбце с пропусками ceiling_height\n",
    "data['ceiling_height'].isna().sum()"
   ]
  },
  {
   "cell_type": "markdown",
   "metadata": {},
   "source": [
    "Получается, что в 9195 строчках из 23699 есть пропуски. Это достаточно много. Стоит посмотреть, какие значения имеются в таблице вообще."
   ]
  },
  {
   "cell_type": "code",
   "execution_count": 172,
   "metadata": {},
   "outputs": [
    {
     "data": {
      "text/plain": [
       "2.5     3515\n",
       "2.6     1646\n",
       "2.7     1574\n",
       "3.0     1112\n",
       "2.8      993\n",
       "        ... \n",
       "5.0        1\n",
       "4.9        1\n",
       "3.43       1\n",
       "3.83       1\n",
       "2.25       1\n",
       "Name: ceiling_height, Length: 183, dtype: int64"
      ]
     },
     "execution_count": 172,
     "metadata": {},
     "output_type": "execute_result"
    }
   ],
   "source": [
    "# просмотр значений столбца ceiling_height\n",
    "data['ceiling_height'].value_counts()"
   ]
  },
  {
   "cell_type": "markdown",
   "metadata": {},
   "source": [
    "Итак, больше всего значений у нас в промежутке от 2,5 до 3 метров, а вот дальше значения меняются. Посмотрим на эти значения."
   ]
  },
  {
   "cell_type": "code",
   "execution_count": 173,
   "metadata": {},
   "outputs": [
    {
     "name": "stdout",
     "output_type": "stream",
     "text": [
      "['2.7' nan '3.03' '2.5' '2.67' '2.56' '3.05' '2.75' '2.6' '2.9' '2.8'\n",
      " '2.55' '3.0' '2.65' '3.2' '2.61' '3.25' '3.45' '2.77' '2.85' '2.64'\n",
      " '2.57' '4.15' '3.5' '3.3' '2.71' '4.0' '2.47' '2.73' '2.84' '3.1' '2.34'\n",
      " '3.4' '3.06' '2.72' '2.54' '2.51' '2.78' '2.76' '25.0' '2.58' '3.7'\n",
      " '2.52' '5.2' '2.87' '2.66' '2.59' '2.0' '2.45' '3.6' '2.92' '3.11' '3.13'\n",
      " '3.8' '3.15' '3.55' '3.16' '3.62' '3.12' '2.53' '2.74' '2.96' '2.46'\n",
      " '5.3' '5.0' '2.79' '2.95' '4.06' '2.94' '3.82' '3.54' '3.53' '2.83' '4.7'\n",
      " '2.4' '3.38' '3.01' '5.6' '3.65' '3.9' '3.18' '3.35' '2.3' '3.57' '2.48'\n",
      " '2.62' '2.82' '3.98' '2.63' '3.83' '3.52' '3.95' '3.75' '2.88' '3.67'\n",
      " '3.87' '3.66' '3.85' '3.86' '4.19' '3.24' '4.8' '4.5' '4.2' '3.36' '32.0'\n",
      " '3.08' '3.68' '3.07' '3.37' '3.09' '8.0' '3.26' '3.34' '2.81' '3.44'\n",
      " '2.97' '3.14' '4.37' '2.68' '3.22' '3.27' '27.0' '4.1' '2.93' '3.46'\n",
      " '24.0' '3.47' '3.33' '3.63' '3.32' '26.0' '1.2' '8.3' '2.98' '2.86'\n",
      " '3.17' '4.4' '3.28' '3.04' '4.45' '5.5' '3.84' '3.23' '3.02' '3.21'\n",
      " '3.43' '3.78' '4.3' '3.39' '2.69' '3.31' '4.65' '3.56' '2.2' '3.51'\n",
      " '3.93' '3.42' '2.99' '3.49' '14.0' '4.14' '2.91' '3.88' '1.75' '4.25'\n",
      " '3.29' '20.0' '2.25' '3.76' '3.69' '6.0' '22.6' '2.89' '3.58' '5.8'\n",
      " '27.5' '2.49' '4.9' '3.48' '10.3' '1.0' '100.0' '3.59']\n"
     ]
    }
   ],
   "source": [
    "#уникальные значения столбца ceiling_height\n",
    "print(data['ceiling_height'].unique())"
   ]
  },
  {
   "cell_type": "markdown",
   "metadata": {},
   "source": [
    "Значения разнообразны. Видимо, в базе не только квартиры, так как потолки есть и 100 метров, но это могут быть и аномалии. Заполнить  все пропуски логически не получается, так как непонятно, где именно у нас квартира, а где склад, есть ли помещение с потолками в 100м или же это опечатка, тогда высота потолка 1м? Природа таких пропусков до конца непонятна. Возможно, это произошло из-за отсутствия информации у клиента, поскольку он даже и не думал на эту тему. Вероятно, правильнее будет заполнить эти пропуски медианным значения, но после того, как найдутся аномалии."
   ]
  },
  {
   "cell_type": "markdown",
   "metadata": {},
   "source": [
    "\n",
    "**2. Столбец floors_total**"
   ]
  },
  {
   "cell_type": "code",
   "execution_count": 174,
   "metadata": {},
   "outputs": [
    {
     "data": {
      "text/plain": [
       "86"
      ]
     },
     "execution_count": 174,
     "metadata": {},
     "output_type": "execute_result"
    }
   ],
   "source": [
    "#посмотрим на пустые значения в столбце с пропусками floors_total\n",
    "data['floors_total'].isna().sum()"
   ]
  },
  {
   "cell_type": "markdown",
   "metadata": {},
   "source": [
    "В данном столбце пропусков значительно меньше, всего 86."
   ]
  },
  {
   "cell_type": "code",
   "execution_count": 175,
   "metadata": {},
   "outputs": [
    {
     "data": {
      "text/plain": [
       "5.0     5788\n",
       "9.0     3761\n",
       "16.0    1376\n",
       "12.0    1362\n",
       "4.0     1200\n",
       "Name: floors_total, dtype: int64"
      ]
     },
     "execution_count": 175,
     "metadata": {},
     "output_type": "execute_result"
    }
   ],
   "source": [
    "data['floors_total'].value_counts().head()"
   ]
  },
  {
   "cell_type": "markdown",
   "metadata": {},
   "source": [
    "Больше всего данных по 5- этажным зданиям, но кроме них есть и 60, 36 и т.д. Может это ошибка?"
   ]
  },
  {
   "cell_type": "code",
   "execution_count": 176,
   "metadata": {},
   "outputs": [
    {
     "name": "stdout",
     "output_type": "stream",
     "text": [
      "['16.0' '11.0' '5.0' '14.0' '12.0' '26.0' '24.0' '27.0' '9.0' '6.0' '17.0'\n",
      " '25.0' '3.0' '23.0' '19.0' '18.0' '4.0' '22.0' '8.0' '2.0' '10.0' '7.0'\n",
      " '13.0' '15.0' nan '20.0' '28.0' '36.0' '21.0' '35.0' '34.0' '60.0' '1.0'\n",
      " '29.0' '33.0' '52.0' '37.0']\n"
     ]
    }
   ],
   "source": [
    "#уникальные значения столбца floors_total\n",
    "print(data['floors_total'].unique())"
   ]
  },
  {
   "cell_type": "markdown",
   "metadata": {},
   "source": [
    "На текущий момент правильно заполнить пропуски в этажности здания не предоставляется возможным. Можно было бы заполнить этажность по этажу квартиры, выставленной на продажу, но тогда информация о здании будет сильно изкажена. Но это всего лишь 86 записей из 23699,  что составляет меньше процента. Поэтому так и сделаем. Причин для таких пропусков может быть как незнание самих клиентов о полной этажности здания, либо совпадение этажа и этажности."
   ]
  },
  {
   "cell_type": "code",
   "execution_count": 177,
   "metadata": {},
   "outputs": [
    {
     "data": {
      "text/plain": [
       "0"
      ]
     },
     "execution_count": 177,
     "metadata": {},
     "output_type": "execute_result"
    }
   ],
   "source": [
    "#заполнение пропусков в этажности этажом квартиры\n",
    "data['floors_total'].fillna(data['floor'], inplace=True)\n",
    "\n",
    "#проверка остатков пропусков\n",
    "data['floors_total'].isna().sum()"
   ]
  },
  {
   "cell_type": "markdown",
   "metadata": {},
   "source": [
    "**3. Столбец living_area**"
   ]
  },
  {
   "cell_type": "code",
   "execution_count": 178,
   "metadata": {},
   "outputs": [
    {
     "data": {
      "text/plain": [
       "1903"
      ]
     },
     "execution_count": 178,
     "metadata": {},
     "output_type": "execute_result"
    }
   ],
   "source": [
    "#посмотрим на пустые значения в столбце с пропусками living_area\n",
    "data['living_area'].isna().sum()"
   ]
  },
  {
   "cell_type": "code",
   "execution_count": 179,
   "metadata": {},
   "outputs": [
    {
     "data": {
      "text/plain": [
       "18.0     882\n",
       "17.0     675\n",
       "30.0     598\n",
       "16.0     486\n",
       "20.0     481\n",
       "        ... \n",
       "13.15      1\n",
       "20.39      1\n",
       "25.41      1\n",
       "31.29      1\n",
       "154.0      1\n",
       "Name: living_area, Length: 1782, dtype: int64"
      ]
     },
     "execution_count": 179,
     "metadata": {},
     "output_type": "execute_result"
    }
   ],
   "source": [
    "# просмотр значений столбца living_area\n",
    "data['living_area'].value_counts()"
   ]
  },
  {
   "cell_type": "markdown",
   "metadata": {},
   "source": [
    "Пропусков в данном столбце получается 1903, что составляет около 8 процентов базы. Причины могут быть разные, например: отсутствие точных данных у клиента или отсустсвие документов с точными данными. Правильно заполнить возможно медианным значением по количеству комнат."
   ]
  },
  {
   "cell_type": "markdown",
   "metadata": {},
   "source": [
    "**4. is_apartment**"
   ]
  },
  {
   "cell_type": "code",
   "execution_count": 180,
   "metadata": {},
   "outputs": [
    {
     "data": {
      "text/plain": [
       "20924"
      ]
     },
     "execution_count": 180,
     "metadata": {},
     "output_type": "execute_result"
    }
   ],
   "source": [
    "#посмотрим на пустые значения в столбце с пропусками is_apartment\n",
    "data['is_apartment'].isna().sum()"
   ]
  },
  {
   "cell_type": "code",
   "execution_count": 181,
   "metadata": {},
   "outputs": [
    {
     "data": {
      "text/plain": [
       "False    2725\n",
       "True       50\n",
       "Name: is_apartment, dtype: int64"
      ]
     },
     "execution_count": 181,
     "metadata": {},
     "output_type": "execute_result"
    }
   ],
   "source": [
    "# просмотр значений столбца living_area\n",
    "data['is_apartment'].value_counts()"
   ]
  },
  {
   "cell_type": "code",
   "execution_count": 182,
   "metadata": {},
   "outputs": [
    {
     "name": "stdout",
     "output_type": "stream",
     "text": [
      "[nan False True]\n"
     ]
    }
   ],
   "source": [
    "#уникальные значения столбца is_apartment\n",
    "print(data['is_apartment'].unique())"
   ]
  },
  {
   "cell_type": "markdown",
   "metadata": {},
   "source": [
    "Видно, что пропуски есть в записях, которые имеют значени 0 или False. Есть смысл заменить эти пропуски и проверить."
   ]
  },
  {
   "cell_type": "code",
   "execution_count": 183,
   "metadata": {},
   "outputs": [
    {
     "data": {
      "text/plain": [
       "0"
      ]
     },
     "execution_count": 183,
     "metadata": {},
     "output_type": "execute_result"
    }
   ],
   "source": [
    "#замена пропусков значением False\n",
    "data['is_apartment'] = data['is_apartment'].fillna(False)\n",
    "\n",
    "#проверка замены\n",
    "data['is_apartment'].isna().sum()"
   ]
  },
  {
   "cell_type": "markdown",
   "metadata": {},
   "source": [
    "**5. kitchen_area**"
   ]
  },
  {
   "cell_type": "code",
   "execution_count": 184,
   "metadata": {},
   "outputs": [
    {
     "data": {
      "text/plain": [
       "2278"
      ]
     },
     "execution_count": 184,
     "metadata": {},
     "output_type": "execute_result"
    }
   ],
   "source": [
    "#посмотрим на пустые значения в первом столбце с пропусками kitchen_area\n",
    "data['kitchen_area'].isna().sum()"
   ]
  },
  {
   "cell_type": "markdown",
   "metadata": {},
   "source": [
    "Пропусков достаточно много, возможно, из-за отсутствия информации у владельца. Заполнить пропуски возможно медианным значением."
   ]
  },
  {
   "cell_type": "markdown",
   "metadata": {},
   "source": [
    "**6. balcony**"
   ]
  },
  {
   "cell_type": "code",
   "execution_count": 185,
   "metadata": {},
   "outputs": [
    {
     "data": {
      "text/plain": [
       "11519"
      ]
     },
     "execution_count": 185,
     "metadata": {},
     "output_type": "execute_result"
    }
   ],
   "source": [
    "#посмотрим на пустые значения в столбце с пропусками balcony\n",
    "data['balcony'].isna().sum()"
   ]
  },
  {
   "cell_type": "code",
   "execution_count": 186,
   "metadata": {},
   "outputs": [
    {
     "data": {
      "text/plain": [
       "1.0    4195\n",
       "0.0    3758\n",
       "2.0    3659\n",
       "5.0     304\n",
       "4.0     183\n",
       "3.0      81\n",
       "Name: balcony, dtype: int64"
      ]
     },
     "execution_count": 186,
     "metadata": {},
     "output_type": "execute_result"
    }
   ],
   "source": [
    "# просмотр значений столбца balcony\n",
    "data['balcony'].value_counts()"
   ]
  },
  {
   "cell_type": "code",
   "execution_count": 187,
   "metadata": {},
   "outputs": [
    {
     "name": "stdout",
     "output_type": "stream",
     "text": [
      "[nan '2.0' '0.0' '1.0' '5.0' '4.0' '3.0']\n"
     ]
    }
   ],
   "source": [
    "#уникальные значения столбца balcony\n",
    "print(data['balcony'].unique())"
   ]
  },
  {
   "cell_type": "markdown",
   "metadata": {},
   "source": [
    "Данные пропущены скорее всего из-за отсутствия балкона у клиента. Поэтому логичнее всего заменить эти пропуски нулевым значением."
   ]
  },
  {
   "cell_type": "code",
   "execution_count": 188,
   "metadata": {},
   "outputs": [
    {
     "data": {
      "text/plain": [
       "0"
      ]
     },
     "execution_count": 188,
     "metadata": {},
     "output_type": "execute_result"
    }
   ],
   "source": [
    "#замена пустых значений на 0 и проверка\n",
    "data['balcony'] = data['balcony'].fillna(0.0)\n",
    "data['balcony'] = data['balcony'].replace(0.0, '0.0')\n",
    "\n",
    "data['balcony'].isna().sum()\n"
   ]
  },
  {
   "cell_type": "markdown",
   "metadata": {},
   "source": [
    "**7. locality_name**"
   ]
  },
  {
   "cell_type": "code",
   "execution_count": 189,
   "metadata": {},
   "outputs": [
    {
     "data": {
      "text/plain": [
       "49"
      ]
     },
     "execution_count": 189,
     "metadata": {},
     "output_type": "execute_result"
    }
   ],
   "source": [
    "#посмотрим на пустые значения в столбце с пропусками locality_name\n",
    "data['locality_name'].isna().sum()"
   ]
  },
  {
   "cell_type": "code",
   "execution_count": 190,
   "metadata": {},
   "outputs": [
    {
     "data": {
      "text/plain": [
       "Санкт-Петербург           15721\n",
       "посёлок Мурино              522\n",
       "посёлок Шушары              440\n",
       "Всеволожск                  398\n",
       "Пушкин                      369\n",
       "                          ...  \n",
       "поселок Жилпосёлок            1\n",
       "посёлок Высокоключевой        1\n",
       "посёлок Плоское               1\n",
       "деревня Вахнова Кара          1\n",
       "деревня Нижние Осельки        1\n",
       "Name: locality_name, Length: 364, dtype: int64"
      ]
     },
     "execution_count": 190,
     "metadata": {},
     "output_type": "execute_result"
    }
   ],
   "source": [
    "# просмотр значений столбца locality_name\n",
    "data['locality_name'].value_counts()"
   ]
  },
  {
   "cell_type": "markdown",
   "metadata": {},
   "source": [
    "Пропусков достаточно мало, возможно они связаны с отсутствием информации об этом в объявлении либо с совпадением информации с центральным городом Санкт-Петербург. Можно было бы заполнить информацию, исходя из присутствия аэропортов рядом и их расстоянием от города. Заполним пропуски строчкой \"Санкт-петербург\"."
   ]
  },
  {
   "cell_type": "code",
   "execution_count": 191,
   "metadata": {},
   "outputs": [
    {
     "data": {
      "text/plain": [
       "0"
      ]
     },
     "execution_count": 191,
     "metadata": {},
     "output_type": "execute_result"
    }
   ],
   "source": [
    "#заполнение пропусков строчкой \"Санкт-Петербург\"\n",
    "data['locality_name'] = data['locality_name'].fillna('Санкт-Петербург')\n",
    "\n",
    "#проверка\n",
    "data['locality_name'].isna().sum()"
   ]
  },
  {
   "cell_type": "markdown",
   "metadata": {},
   "source": [
    "**8. airports_nearest**"
   ]
  },
  {
   "cell_type": "code",
   "execution_count": 192,
   "metadata": {},
   "outputs": [
    {
     "data": {
      "text/plain": [
       "5542"
      ]
     },
     "execution_count": 192,
     "metadata": {},
     "output_type": "execute_result"
    }
   ],
   "source": [
    "#посмотрим на пустые значения в столбце с пропусками airports_nearest\n",
    "data['airports_nearest'].isna().sum()"
   ]
  },
  {
   "cell_type": "markdown",
   "metadata": {},
   "source": [
    "Пропусков достаточно много. Они могут быть связаны с неверным указанием места нахождения квартиры в столбце **locality_name**. Заполнить пропуска нет возможности."
   ]
  },
  {
   "cell_type": "markdown",
   "metadata": {},
   "source": [
    "**9. cityCenters_nearest**"
   ]
  },
  {
   "cell_type": "code",
   "execution_count": 193,
   "metadata": {},
   "outputs": [
    {
     "data": {
      "text/plain": [
       "5519"
      ]
     },
     "execution_count": 193,
     "metadata": {},
     "output_type": "execute_result"
    }
   ],
   "source": [
    "#посмотрим на пустые значения в столбце с пропусками cityCenters_nearest\n",
    "data['cityCenters_nearest'].isna().sum()"
   ]
  },
  {
   "cell_type": "code",
   "execution_count": 194,
   "metadata": {},
   "outputs": [
    {
     "data": {
      "text/plain": [
       "8460.0     61\n",
       "20802.0    32\n",
       "10720.0    30\n",
       "8434.0     27\n",
       "20444.0    27\n",
       "           ..\n",
       "33508.0     1\n",
       "10502.0     1\n",
       "15813.0     1\n",
       "14663.0     1\n",
       "5489.0      1\n",
       "Name: cityCenters_nearest, Length: 7642, dtype: int64"
      ]
     },
     "execution_count": 194,
     "metadata": {},
     "output_type": "execute_result"
    }
   ],
   "source": [
    "data['cityCenters_nearest'].value_counts()"
   ]
  },
  {
   "cell_type": "markdown",
   "metadata": {},
   "source": [
    "Пропусков достаточно много. Они могут быть связаны с неверным указанием места нахождения квартиры в столбце **locality_name**. Заполнить пропуски нет возможности."
   ]
  },
  {
   "cell_type": "markdown",
   "metadata": {},
   "source": [
    "**10. parks_around3000**"
   ]
  },
  {
   "cell_type": "code",
   "execution_count": 195,
   "metadata": {},
   "outputs": [
    {
     "data": {
      "text/plain": [
       "5518"
      ]
     },
     "execution_count": 195,
     "metadata": {},
     "output_type": "execute_result"
    }
   ],
   "source": [
    "#посмотрим на пустые значения в первом столбце с пропусками parks_around3000\n",
    "data['parks_around3000'].isna().sum()"
   ]
  },
  {
   "cell_type": "code",
   "execution_count": 196,
   "metadata": {},
   "outputs": [
    {
     "name": "stdout",
     "output_type": "stream",
     "text": [
      "['1.0' '0.0' '2.0' nan '3.0']\n"
     ]
    }
   ],
   "source": [
    "#уникальные значения в столбце parks_around3000\n",
    "print(data['parks_around3000'].unique())"
   ]
  },
  {
   "cell_type": "markdown",
   "metadata": {},
   "source": [
    "Пропусков достаточно много. Скорее всего они связаны либо с полным отсутствием парков рядом, отсустствием такой информации в базе или с неверным названием местности в столбце **locality_name**. Логично предположить, что если есть данные о ближайшем парке в столбце **parks_nearest**, то в этом столбце должно быть значение хотя бы 1. Сначала заполним пропуски значением \"0,0\", а после проверим, есть ли возле них ближайшие парки. Посмотрим, есть ли такие."
   ]
  },
  {
   "cell_type": "code",
   "execution_count": 197,
   "metadata": {},
   "outputs": [
    {
     "name": "stdout",
     "output_type": "stream",
     "text": [
      "       total_images  last_price total_area first_day_exposition  rooms  \\\n",
      "1590              3   7500000.0       70.0  2017-07-11T00:00:00      2   \n",
      "10959             9   3000000.0       31.1  2017-03-21T00:00:00      1   \n",
      "19208            17  14950000.0      187.0  2017-10-12T00:00:00      5   \n",
      "19430             9   3900000.0       30.5  2018-02-22T00:00:00      1   \n",
      "\n",
      "      ceiling_height floors_total living_area  floor  is_apartment  ...  \\\n",
      "1590             NaN         18.0        37.0     13         False  ...   \n",
      "10959            NaN          5.0        17.7      2         False  ...   \n",
      "19208            3.0          2.0        80.0      2         False  ...   \n",
      "19430            2.6          5.0        16.5      1         False  ...   \n",
      "\n",
      "       kitchen_area  balcony    locality_name airports_nearest  \\\n",
      "1590           10.0      0.0  Санкт-Петербург          14878.0   \n",
      "10959           5.5      0.0  Санкт-Петербург          14821.0   \n",
      "19208          17.0      1.0  Санкт-Петербург          36805.0   \n",
      "19430           5.5      0.0  Санкт-Петербург          14821.0   \n",
      "\n",
      "      cityCenters_nearest parks_around3000 parks_nearest ponds_around3000  \\\n",
      "1590               9791.0              0.0        3064.0              1.0   \n",
      "10959              9734.0              0.0        3190.0              1.0   \n",
      "19208              8656.0              0.0        3013.0              3.0   \n",
      "19430              9734.0              0.0        3190.0              1.0   \n",
      "\n",
      "      ponds_nearest     days_exposition  \n",
      "1590          264.0                 4.0  \n",
      "10959         431.0               234.0  \n",
      "19208         537.0                49.0  \n",
      "19430         431.0  176.00000000000003  \n",
      "\n",
      "[4 rows x 22 columns]\n"
     ]
    }
   ],
   "source": [
    "#заполнение пропусков\n",
    "data['parks_around3000'] = data['parks_around3000'].fillna('0.0')\n",
    "\n",
    "#проверка исправлений и пропусков\n",
    "data['parks_around3000'].isna().sum()\n",
    "\n",
    "#есть ли парки в записях с нулевым значением\n",
    "print(data[(data['parks_around3000'] == '0.0') & (data['parks_nearest'] >= '0.0')])"
   ]
  },
  {
   "cell_type": "markdown",
   "metadata": {},
   "source": [
    "Записей с 0 парков в радиусе 3км, но с ближайшим парком есть 4 штуки. Пока оставим как есть."
   ]
  },
  {
   "cell_type": "markdown",
   "metadata": {},
   "source": [
    "**11. parks_nearest**"
   ]
  },
  {
   "cell_type": "code",
   "execution_count": 198,
   "metadata": {},
   "outputs": [
    {
     "data": {
      "text/plain": [
       "15620"
      ]
     },
     "execution_count": 198,
     "metadata": {},
     "output_type": "execute_result"
    }
   ],
   "source": [
    "#посмотрим на пустые значения в столбце с пропусками parks_nearest\n",
    "data['parks_nearest'].isna().sum()"
   ]
  },
  {
   "cell_type": "markdown",
   "metadata": {},
   "source": [
    "Пропусков достаточно много. Скорее всего они связаны либо с полным отсутствием парков рядом, отсустствием такой информации в базе или с неверным названием местности в столбце **locality_name**. Заполнить пропуски нет возможности. "
   ]
  },
  {
   "cell_type": "markdown",
   "metadata": {},
   "source": [
    "**12. ponds_around3000**"
   ]
  },
  {
   "cell_type": "code",
   "execution_count": 199,
   "metadata": {},
   "outputs": [
    {
     "data": {
      "text/plain": [
       "5518"
      ]
     },
     "execution_count": 199,
     "metadata": {},
     "output_type": "execute_result"
    }
   ],
   "source": [
    "#посмотрим на пустые значения в столбце с пропусками ponds_around3000\n",
    "data['ponds_around3000'].isna().sum()"
   ]
  },
  {
   "cell_type": "code",
   "execution_count": 200,
   "metadata": {},
   "outputs": [
    {
     "name": "stdout",
     "output_type": "stream",
     "text": [
      "['2.0' '0.0' '3.0' '1.0' nan]\n"
     ]
    }
   ],
   "source": [
    "print(data['ponds_around3000'].unique())"
   ]
  },
  {
   "cell_type": "markdown",
   "metadata": {},
   "source": [
    "Пропусков достаточно много. Скорее всего они связаны либо с полным отсутствием прудов рядом, отсустствием такой информации в базе или с неверным названием местности в столбце **locality_name**. Логично предположить, что если есть данные о ближайшем пруде в столбце **ponds_nearest**, то в этом столбце должно быть значение хотя бы 1. Сначала заполним пропуски значением \"0,0\", а после проверим, есть ли возле них ближайшие пруды. Посмотрим, есть ли такие."
   ]
  },
  {
   "cell_type": "code",
   "execution_count": 201,
   "metadata": {},
   "outputs": [
    {
     "name": "stdout",
     "output_type": "stream",
     "text": [
      "Empty DataFrame\n",
      "Columns: [total_images, last_price, total_area, first_day_exposition, rooms, ceiling_height, floors_total, living_area, floor, is_apartment, studio, open_plan, kitchen_area, balcony, locality_name, airports_nearest, cityCenters_nearest, parks_around3000, parks_nearest, ponds_around3000, ponds_nearest, days_exposition]\n",
      "Index: []\n",
      "\n",
      "[0 rows x 22 columns]\n"
     ]
    }
   ],
   "source": [
    "#заполнение пропусков значением \"0,0\"\n",
    "data['ponds_around3000'] = data['ponds_around3000'].fillna(\"0.0\")\n",
    "\n",
    "#проверка\n",
    "data['ponds_around3000'].isna().sum()\n",
    "\n",
    "#есть ли пруды в записях с нулевым значением\n",
    "print(data[(data['ponds_around3000'] == '0.0') & (data['ponds_nearest'] >= '0.0')])"
   ]
  },
  {
   "cell_type": "markdown",
   "metadata": {},
   "source": [
    "Таких нет."
   ]
  },
  {
   "cell_type": "markdown",
   "metadata": {},
   "source": [
    "**13. ponds_nearest**"
   ]
  },
  {
   "cell_type": "code",
   "execution_count": 202,
   "metadata": {},
   "outputs": [
    {
     "data": {
      "text/plain": [
       "14589"
      ]
     },
     "execution_count": 202,
     "metadata": {},
     "output_type": "execute_result"
    }
   ],
   "source": [
    "#посмотрим на пустые значения в первом столбце с пропусками ponds_nearest\n",
    "data['ponds_nearest'].isna().sum()"
   ]
  },
  {
   "cell_type": "markdown",
   "metadata": {},
   "source": [
    "Пропусков достаточно много. Скорее всего они связаны либо с полным отсутствием прудов рядом, отсустствием такой информации в базе или с неверным названием местности в столбце **locality_name**. Заполнить пропуски нет возможности. "
   ]
  },
  {
   "cell_type": "markdown",
   "metadata": {},
   "source": [
    "**14. days_exposition**"
   ]
  },
  {
   "cell_type": "code",
   "execution_count": 203,
   "metadata": {},
   "outputs": [
    {
     "data": {
      "text/plain": [
       "3181"
      ]
     },
     "execution_count": 203,
     "metadata": {},
     "output_type": "execute_result"
    }
   ],
   "source": [
    "#посмотрим на пустые значения в столбце с пропусками days_exposition\n",
    "data['days_exposition'].isna().sum()"
   ]
  },
  {
   "cell_type": "markdown",
   "metadata": {},
   "source": [
    "Пропусков достаточно много. Возможно некоторые лоты уже были проданы, поэтому и дня не прошло. Поэтому есть смысл заменить пока эти пропуски хотя бы значением 1."
   ]
  },
  {
   "cell_type": "code",
   "execution_count": 135,
   "metadata": {},
   "outputs": [
    {
     "data": {
      "text/plain": [
       "0"
      ]
     },
     "execution_count": 135,
     "metadata": {},
     "output_type": "execute_result"
    }
   ],
   "source": [
    "#замена пропусков на 1\n",
    "#data['days_exposition'] = data['days_exposition'].fillna(1)\n",
    "\n",
    "#проверка изменений\n",
    "#data['days_exposition'].isna().sum()"
   ]
  },
  {
   "cell_type": "code",
   "execution_count": 231,
   "metadata": {},
   "outputs": [
    {
     "data": {
      "text/html": [
       "<div>\n",
       "<style scoped>\n",
       "    .dataframe tbody tr th:only-of-type {\n",
       "        vertical-align: middle;\n",
       "    }\n",
       "\n",
       "    .dataframe tbody tr th {\n",
       "        vertical-align: top;\n",
       "    }\n",
       "\n",
       "    .dataframe thead th {\n",
       "        text-align: right;\n",
       "    }\n",
       "</style>\n",
       "<table border=\"1\" class=\"dataframe\">\n",
       "  <thead>\n",
       "    <tr style=\"text-align: right;\">\n",
       "      <th></th>\n",
       "      <th>total_images</th>\n",
       "      <th>last_price</th>\n",
       "      <th>total_area</th>\n",
       "      <th>first_day_exposition</th>\n",
       "      <th>rooms</th>\n",
       "      <th>ceiling_height</th>\n",
       "      <th>floors_total</th>\n",
       "      <th>living_area</th>\n",
       "      <th>floor</th>\n",
       "      <th>is_apartment</th>\n",
       "      <th>...</th>\n",
       "      <th>kitchen_area</th>\n",
       "      <th>balcony</th>\n",
       "      <th>locality_name</th>\n",
       "      <th>airports_nearest</th>\n",
       "      <th>cityCenters_nearest</th>\n",
       "      <th>parks_around3000</th>\n",
       "      <th>parks_nearest</th>\n",
       "      <th>ponds_around3000</th>\n",
       "      <th>ponds_nearest</th>\n",
       "      <th>days_exposition</th>\n",
       "    </tr>\n",
       "    <tr>\n",
       "      <th>year</th>\n",
       "      <th></th>\n",
       "      <th></th>\n",
       "      <th></th>\n",
       "      <th></th>\n",
       "      <th></th>\n",
       "      <th></th>\n",
       "      <th></th>\n",
       "      <th></th>\n",
       "      <th></th>\n",
       "      <th></th>\n",
       "      <th></th>\n",
       "      <th></th>\n",
       "      <th></th>\n",
       "      <th></th>\n",
       "      <th></th>\n",
       "      <th></th>\n",
       "      <th></th>\n",
       "      <th></th>\n",
       "      <th></th>\n",
       "      <th></th>\n",
       "      <th></th>\n",
       "    </tr>\n",
       "  </thead>\n",
       "  <tbody>\n",
       "    <tr>\n",
       "      <th>2014</th>\n",
       "      <td>18</td>\n",
       "      <td>18</td>\n",
       "      <td>18</td>\n",
       "      <td>18</td>\n",
       "      <td>18</td>\n",
       "      <td>11</td>\n",
       "      <td>18</td>\n",
       "      <td>18</td>\n",
       "      <td>18</td>\n",
       "      <td>18</td>\n",
       "      <td>...</td>\n",
       "      <td>18</td>\n",
       "      <td>18</td>\n",
       "      <td>18</td>\n",
       "      <td>15</td>\n",
       "      <td>15</td>\n",
       "      <td>18</td>\n",
       "      <td>12</td>\n",
       "      <td>18</td>\n",
       "      <td>4</td>\n",
       "      <td>0</td>\n",
       "    </tr>\n",
       "    <tr>\n",
       "      <th>2015</th>\n",
       "      <td>70</td>\n",
       "      <td>70</td>\n",
       "      <td>70</td>\n",
       "      <td>70</td>\n",
       "      <td>70</td>\n",
       "      <td>50</td>\n",
       "      <td>70</td>\n",
       "      <td>65</td>\n",
       "      <td>70</td>\n",
       "      <td>70</td>\n",
       "      <td>...</td>\n",
       "      <td>64</td>\n",
       "      <td>70</td>\n",
       "      <td>70</td>\n",
       "      <td>59</td>\n",
       "      <td>59</td>\n",
       "      <td>70</td>\n",
       "      <td>37</td>\n",
       "      <td>70</td>\n",
       "      <td>38</td>\n",
       "      <td>0</td>\n",
       "    </tr>\n",
       "    <tr>\n",
       "      <th>2016</th>\n",
       "      <td>67</td>\n",
       "      <td>67</td>\n",
       "      <td>67</td>\n",
       "      <td>67</td>\n",
       "      <td>67</td>\n",
       "      <td>57</td>\n",
       "      <td>67</td>\n",
       "      <td>66</td>\n",
       "      <td>67</td>\n",
       "      <td>67</td>\n",
       "      <td>...</td>\n",
       "      <td>65</td>\n",
       "      <td>67</td>\n",
       "      <td>67</td>\n",
       "      <td>46</td>\n",
       "      <td>46</td>\n",
       "      <td>67</td>\n",
       "      <td>27</td>\n",
       "      <td>67</td>\n",
       "      <td>21</td>\n",
       "      <td>0</td>\n",
       "    </tr>\n",
       "    <tr>\n",
       "      <th>2017</th>\n",
       "      <td>271</td>\n",
       "      <td>271</td>\n",
       "      <td>271</td>\n",
       "      <td>271</td>\n",
       "      <td>271</td>\n",
       "      <td>204</td>\n",
       "      <td>271</td>\n",
       "      <td>252</td>\n",
       "      <td>271</td>\n",
       "      <td>271</td>\n",
       "      <td>...</td>\n",
       "      <td>251</td>\n",
       "      <td>271</td>\n",
       "      <td>271</td>\n",
       "      <td>204</td>\n",
       "      <td>204</td>\n",
       "      <td>271</td>\n",
       "      <td>132</td>\n",
       "      <td>271</td>\n",
       "      <td>131</td>\n",
       "      <td>0</td>\n",
       "    </tr>\n",
       "    <tr>\n",
       "      <th>2018</th>\n",
       "      <td>959</td>\n",
       "      <td>959</td>\n",
       "      <td>959</td>\n",
       "      <td>959</td>\n",
       "      <td>959</td>\n",
       "      <td>748</td>\n",
       "      <td>959</td>\n",
       "      <td>903</td>\n",
       "      <td>959</td>\n",
       "      <td>959</td>\n",
       "      <td>...</td>\n",
       "      <td>901</td>\n",
       "      <td>959</td>\n",
       "      <td>959</td>\n",
       "      <td>661</td>\n",
       "      <td>663</td>\n",
       "      <td>959</td>\n",
       "      <td>342</td>\n",
       "      <td>959</td>\n",
       "      <td>357</td>\n",
       "      <td>0</td>\n",
       "    </tr>\n",
       "    <tr>\n",
       "      <th>2019</th>\n",
       "      <td>1796</td>\n",
       "      <td>1796</td>\n",
       "      <td>1796</td>\n",
       "      <td>1796</td>\n",
       "      <td>1796</td>\n",
       "      <td>1383</td>\n",
       "      <td>1796</td>\n",
       "      <td>1679</td>\n",
       "      <td>1796</td>\n",
       "      <td>1796</td>\n",
       "      <td>...</td>\n",
       "      <td>1679</td>\n",
       "      <td>1796</td>\n",
       "      <td>1796</td>\n",
       "      <td>1329</td>\n",
       "      <td>1328</td>\n",
       "      <td>1796</td>\n",
       "      <td>595</td>\n",
       "      <td>1796</td>\n",
       "      <td>665</td>\n",
       "      <td>0</td>\n",
       "    </tr>\n",
       "  </tbody>\n",
       "</table>\n",
       "<p>6 rows × 22 columns</p>\n",
       "</div>"
      ],
      "text/plain": [
       "      total_images  last_price  total_area  first_day_exposition  rooms  \\\n",
       "year                                                                      \n",
       "2014            18          18          18                    18     18   \n",
       "2015            70          70          70                    70     70   \n",
       "2016            67          67          67                    67     67   \n",
       "2017           271         271         271                   271    271   \n",
       "2018           959         959         959                   959    959   \n",
       "2019          1796        1796        1796                  1796   1796   \n",
       "\n",
       "      ceiling_height  floors_total  living_area  floor  is_apartment  ...  \\\n",
       "year                                                                  ...   \n",
       "2014              11            18           18     18            18  ...   \n",
       "2015              50            70           65     70            70  ...   \n",
       "2016              57            67           66     67            67  ...   \n",
       "2017             204           271          252    271           271  ...   \n",
       "2018             748           959          903    959           959  ...   \n",
       "2019            1383          1796         1679   1796          1796  ...   \n",
       "\n",
       "      kitchen_area  balcony  locality_name  airports_nearest  \\\n",
       "year                                                           \n",
       "2014            18       18             18                15   \n",
       "2015            64       70             70                59   \n",
       "2016            65       67             67                46   \n",
       "2017           251      271            271               204   \n",
       "2018           901      959            959               661   \n",
       "2019          1679     1796           1796              1329   \n",
       "\n",
       "      cityCenters_nearest  parks_around3000  parks_nearest  ponds_around3000  \\\n",
       "year                                                                           \n",
       "2014                   15                18             12                18   \n",
       "2015                   59                70             37                70   \n",
       "2016                   46                67             27                67   \n",
       "2017                  204               271            132               271   \n",
       "2018                  663               959            342               959   \n",
       "2019                 1328              1796            595              1796   \n",
       "\n",
       "      ponds_nearest  days_exposition  \n",
       "year                                  \n",
       "2014              4                0  \n",
       "2015             38                0  \n",
       "2016             21                0  \n",
       "2017            131                0  \n",
       "2018            357                0  \n",
       "2019            665                0  \n",
       "\n",
       "[6 rows x 22 columns]"
      ]
     },
     "execution_count": 231,
     "metadata": {},
     "output_type": "execute_result"
    }
   ],
   "source": [
    "#data['days_exposition'] = pd.to_numeric(data['days_exposition'])\n",
    "#data['days_exposition'] = data['days_exposition'].astype('int')\n",
    "data['first_day_exposition'] = pd.to_datetime(data['first_day_exposition'], format='%Y-%m-%dT%H:%M:%S')\n",
    "data['year'] = data['first_day_exposition'].dt.year \n",
    "\n",
    "days = data[data['days_exposition'].isna()]\n",
    "days.groupby('year').count()"
   ]
  },
  {
   "cell_type": "markdown",
   "metadata": {},
   "source": [
    "* **Изменение типа данных**"
   ]
  },
  {
   "cell_type": "code",
   "execution_count": 136,
   "metadata": {},
   "outputs": [
    {
     "name": "stdout",
     "output_type": "stream",
     "text": [
      "<class 'pandas.core.frame.DataFrame'>\n",
      "RangeIndex: 23699 entries, 0 to 23698\n",
      "Data columns (total 22 columns):\n",
      " #   Column                Non-Null Count  Dtype \n",
      "---  ------                --------------  ----- \n",
      " 0   total_images          23699 non-null  int64 \n",
      " 1   last_price            23699 non-null  object\n",
      " 2   total_area            23699 non-null  object\n",
      " 3   first_day_exposition  23699 non-null  object\n",
      " 4   rooms                 23699 non-null  int64 \n",
      " 5   ceiling_height        14504 non-null  object\n",
      " 6   floors_total          23699 non-null  object\n",
      " 7   living_area           21796 non-null  object\n",
      " 8   floor                 23699 non-null  int64 \n",
      " 9   is_apartment          23699 non-null  bool  \n",
      " 10  studio                23699 non-null  bool  \n",
      " 11  open_plan             23699 non-null  bool  \n",
      " 12  kitchen_area          21421 non-null  object\n",
      " 13  balcony               23699 non-null  object\n",
      " 14  locality_name         23699 non-null  object\n",
      " 15  airports_nearest      18157 non-null  object\n",
      " 16  cityCenters_nearest   18180 non-null  object\n",
      " 17  parks_around3000      23699 non-null  object\n",
      " 18  parks_nearest         8079 non-null   object\n",
      " 19  ponds_around3000      23699 non-null  object\n",
      " 20  ponds_nearest         9110 non-null   object\n",
      " 21  days_exposition       23699 non-null  object\n",
      "dtypes: bool(3), int64(3), object(16)\n",
      "memory usage: 3.5+ MB\n"
     ]
    }
   ],
   "source": [
    "data.info()"
   ]
  },
  {
   "cell_type": "markdown",
   "metadata": {},
   "source": [
    "По информации видны следующие столбцы с неверным типом данных:\n",
    "\n",
    "* last_price - строковое, должно быть типа float, так как это цена.\n",
    "* total_area - строковое, должно быть типа float, так как площадь измеряется в метрах.\n",
    "* first_day_exposition - строковое, должно быть датой, так как это дата публикация.\n",
    "* ceiling_height - строковое, должно быть типа float, так как высота потолков измеряется в метрах.\n",
    "* floors_total - строковое, должно быть типа int, так как этажность дома указывается в целых числах.\n",
    "* living_area - строковое, должно быть типа float, так как площадь измеряется в метрах. \n",
    "* kitchen_area - строковое, должно быть типа float, так как площадь измеряется в метрах.\n",
    "* balcony - строковое, должно быть типа int, так как число балконов выражается целым числом.\n",
    "* airports_nearest - строковое, должно быть типа float, так как расстояние в метрах.\n",
    "* cityCenters_nearest - строковое, должно быть типа float, так как расстояние в метрах.\n",
    "* parks_around3000 - строковое, должно быть типа int, так как количество парков в единицах.\n",
    "* parks_nearest - строковое, должно быть типа float, так как расстояние в метрах.\n",
    "* ponds_around3000 - строковое, должно быть типа int, так как количество прудов в единицах.\n",
    "* ponds_nearest - строковое, должно быть типа float, так как расстояние в метрах.\n",
    "* days_exposition - строковое, должно быть типа int, так как количество в днях."
   ]
  },
  {
   "cell_type": "code",
   "execution_count": 137,
   "metadata": {},
   "outputs": [],
   "source": [
    "#изменение типа данных в столбце last_price\n",
    "data['last_price'] = pd.to_numeric(data['last_price'])\n",
    "\n",
    "#изменение типа данных в столбце total_area\n",
    "data['total_area'] = pd.to_numeric(data['total_area'])\n",
    "\n",
    "#изменение типа данных в столбце first_day_exposition\n",
    "data['first_day_exposition'] = pd.to_datetime(data['first_day_exposition'], format='%Y-%m-%dT%H:%M:%S')\n",
    "\n",
    "#изменение типа данных в столбце ceiling_height\n",
    "data['ceiling_height'] = pd.to_numeric(data['ceiling_height'])\n",
    "\n",
    "#изменение типа данных в столбце floors_total\n",
    "data['floors_total'] = pd.to_numeric(data['floors_total'])\n",
    "data['floors_total'] = data['floors_total'].astype('int')\n",
    "\n",
    "#изменение типа данных в столбце living_area\n",
    "data['living_area'] = pd.to_numeric(data['living_area'])\n",
    "\n",
    "#изменение типа данных в столбце kitchen_area\n",
    "data['kitchen_area'] = pd.to_numeric(data['kitchen_area'])\n",
    "\n",
    "#изменение типа данных в столбце balcony\n",
    "data['balcony'] = pd.to_numeric(data['balcony'])\n",
    "data['balcony'] = data['balcony'].astype('int')\n",
    "\n",
    "#изменение типа данных в столбце airports_nearest\n",
    "data['airports_nearest'] = pd.to_numeric(data['airports_nearest'])\n",
    "\n",
    "#изменение типа данных в столбце cityCenters_nearest\n",
    "data['cityCenters_nearest'] = pd.to_numeric(data['cityCenters_nearest'])\n",
    "\n",
    "#изменение типа данных в столбце parks_around3000\n",
    "data['parks_around3000'] = pd.to_numeric(data['parks_around3000'])\n",
    "data['parks_around3000'] = data['parks_around3000'].astype('int')\n",
    "\n",
    "#изменение типа данных в столбце parks_nearest\n",
    "data['parks_nearest'] = pd.to_numeric(data['parks_nearest'])\n",
    "\n",
    "#изменение типа данных в столбце ponds_around3000\n",
    "data['ponds_around3000'] = pd.to_numeric(data['ponds_around3000'])\n",
    "data['ponds_around3000'] = data['ponds_around3000'].astype('int')\n",
    "\n",
    "#изменение типа данных в столбце ponds_nearest\n",
    "data['ponds_nearest'] = pd.to_numeric(data['ponds_nearest'])\n",
    "\n",
    "#изменение типа данных в столбце days_exposition\n",
    "data['days_exposition'] = pd.to_numeric(data['days_exposition'])\n",
    "data['days_exposition'] = data['days_exposition'].astype('int')\n"
   ]
  },
  {
   "cell_type": "markdown",
   "metadata": {},
   "source": [
    "* **Выявление и изучение уникальных значений в названиях. Устранение дубликатов**\n"
   ]
  },
  {
   "cell_type": "code",
   "execution_count": 138,
   "metadata": {},
   "outputs": [
    {
     "name": "stdout",
     "output_type": "stream",
     "text": [
      "['Санкт-Петербург' 'посёлок Шушары' 'городской посёлок Янино-1'\n",
      " 'посёлок Парголово' 'посёлок Мурино' 'Ломоносов' 'Сертолово' 'Петергоф'\n",
      " 'Пушкин' 'деревня Кудрово' 'Коммунар' 'Колпино'\n",
      " 'поселок городского типа Красный Бор' 'Гатчина' 'поселок Мурино'\n",
      " 'деревня Фёдоровское' 'Выборг' 'Кронштадт' 'Кировск'\n",
      " 'деревня Новое Девяткино' 'посёлок Металлострой'\n",
      " 'посёлок городского типа Лебяжье' 'посёлок городского типа Сиверский'\n",
      " 'поселок Молодцово' 'поселок городского типа Кузьмоловский'\n",
      " 'садовое товарищество Новая Ропша' 'Павловск' 'деревня Пикколово'\n",
      " 'Всеволожск' 'Волхов' 'Кингисепп' 'Приозерск' 'Сестрорецк'\n",
      " 'деревня Куттузи' 'посёлок Аннино' 'поселок городского типа Ефимовский'\n",
      " 'посёлок Плодовое' 'деревня Заклинье' 'поселок Торковичи'\n",
      " 'поселок Первомайское' 'Красное Село' 'посёлок Понтонный' 'Сясьстрой'\n",
      " 'деревня Старая' 'деревня Лесколово' 'посёлок Новый Свет' 'Сланцы'\n",
      " 'село Путилово' 'Ивангород' 'Мурино' 'Шлиссельбург' 'Никольское'\n",
      " 'Зеленогорск' 'Сосновый Бор' 'поселок Новый Свет' 'деревня Оржицы'\n",
      " 'деревня Кальтино' 'Кудрово' 'поселок Романовка' 'посёлок Бугры'\n",
      " 'поселок Бугры' 'поселок городского типа Рощино' 'Кириши' 'Луга'\n",
      " 'Волосово' 'Отрадное' 'село Павлово' 'поселок Оредеж' 'село Копорье'\n",
      " 'посёлок городского типа Красный Бор' 'посёлок Молодёжное' 'Тихвин'\n",
      " 'посёлок Победа' 'деревня Нурма' 'поселок городского типа Синявино'\n",
      " 'Тосно' 'посёлок городского типа Кузьмоловский' 'посёлок Стрельна'\n",
      " 'Бокситогорск' 'посёлок Александровская' 'деревня Лопухинка' 'Пикалёво'\n",
      " 'поселок Терволово' 'поселок городского типа Советский' 'Подпорожье'\n",
      " 'посёлок Петровское' 'посёлок городского типа Токсово' 'поселок Сельцо'\n",
      " 'посёлок городского типа Вырица' 'деревня Кипень' 'деревня Келози'\n",
      " 'деревня Вартемяги' 'посёлок Тельмана' 'поселок Севастьяново'\n",
      " 'городской поселок Большая Ижора' 'городской посёлок Павлово'\n",
      " 'деревня Агалатово' 'посёлок Новогорелово'\n",
      " 'городской посёлок Лесогорский' 'деревня Лаголово' 'поселок Цвелодубово'\n",
      " 'поселок городского типа Рахья' 'поселок городского типа Вырица'\n",
      " 'деревня Белогорка' 'поселок Заводской' 'городской посёлок Новоселье'\n",
      " 'деревня Большие Колпаны' 'деревня Горбунки' 'деревня Батово'\n",
      " 'деревня Заневка' 'деревня Иссад' 'Приморск'\n",
      " 'городской посёлок Фёдоровское' 'деревня Мистолово' 'Новая Ладога'\n",
      " 'поселок Зимитицы' 'поселок Барышево' 'деревня Разметелево'\n",
      " 'поселок городского типа имени Свердлова' 'деревня Пеники'\n",
      " 'поселок Рябово' 'деревня Пудомяги' 'поселок станции Корнево'\n",
      " 'деревня Низино' 'деревня Бегуницы' 'посёлок Поляны'\n",
      " 'городской посёлок Мга' 'поселок Елизаветино'\n",
      " 'посёлок городского типа Кузнечное' 'деревня Колтуши'\n",
      " 'поселок Запорожское' 'посёлок городского типа Рощино'\n",
      " 'деревня Гостилицы' 'деревня Малое Карлино' 'посёлок Мичуринское'\n",
      " 'посёлок городского типа имени Морозова' 'посёлок Песочный'\n",
      " 'посёлок Сосново' 'деревня Аро' 'поселок Ильичёво'\n",
      " 'посёлок городского типа Тайцы' 'деревня Малое Верево' 'деревня Извара'\n",
      " 'поселок станции Вещево' 'село Паша' 'деревня Калитино'\n",
      " 'посёлок городского типа Ульяновка' 'деревня Чудской Бор'\n",
      " 'поселок городского типа Дубровка' 'деревня Мины' 'поселок Войсковицы'\n",
      " 'посёлок городского типа имени Свердлова' 'деревня Коркино'\n",
      " 'посёлок Ропша' 'поселок городского типа Приладожский' 'посёлок Щеглово'\n",
      " 'посёлок Гаврилово' 'Лодейное Поле' 'деревня Рабитицы'\n",
      " 'поселок городского типа Никольский' 'деревня Кузьмолово'\n",
      " 'деревня Малые Колпаны' 'поселок Тельмана' 'посёлок Петро-Славянка'\n",
      " 'городской посёлок Назия' 'посёлок Репино' 'посёлок Ильичёво'\n",
      " 'поселок Углово' 'поселок Старая Малукса' 'садовое товарищество Рахья'\n",
      " 'поселок Аннино' 'поселок Победа' 'деревня Меньково'\n",
      " 'деревня Старые Бегуницы' 'посёлок Сапёрный' 'поселок Семрино'\n",
      " 'поселок Гаврилово' 'поселок Глажево' 'поселок Кобринское'\n",
      " 'деревня Гарболово' 'деревня Юкки' 'поселок станции Приветнинское'\n",
      " 'деревня Мануйлово' 'деревня Пчева' 'поселок Поляны' 'поселок Цвылёво'\n",
      " 'поселок Мельниково' 'посёлок Пудость' 'посёлок Усть-Луга' 'Светогорск'\n",
      " 'Любань' 'поселок Селезнёво' 'поселок городского типа Рябово'\n",
      " 'Каменногорск' 'деревня Кривко' 'поселок Глебычево' 'деревня Парицы'\n",
      " 'поселок Жилпосёлок' 'посёлок городского типа Мга'\n",
      " 'городской поселок Янино-1' 'посёлок Войскорово' 'село Никольское'\n",
      " 'посёлок Терволово' 'поселок Стеклянный' 'посёлок городского типа Важины'\n",
      " 'посёлок Мыза-Ивановка' 'село Русско-Высоцкое'\n",
      " 'поселок городского типа Лебяжье' 'поселок городского типа Форносово'\n",
      " 'село Старая Ладога' 'поселок Житково' 'городской посёлок Виллози'\n",
      " 'деревня Лампово' 'деревня Шпаньково' 'деревня Лаврики' 'посёлок Сумино'\n",
      " 'посёлок Возрождение' 'деревня Старосиверская' 'посёлок Кикерино'\n",
      " 'поселок Возрождение' 'деревня Старое Хинколово' 'посёлок Пригородный'\n",
      " 'посёлок Торфяное' 'городской посёлок Будогощь' 'поселок Суходолье'\n",
      " 'поселок Красная Долина' 'деревня Хапо-Ое'\n",
      " 'поселок городского типа Дружная Горка' 'поселок Лисий Нос'\n",
      " 'деревня Яльгелево' 'посёлок Стеклянный' 'село Рождествено'\n",
      " 'деревня Старополье' 'посёлок Левашово' 'деревня Сяськелево'\n",
      " 'деревня Камышовка'\n",
      " 'садоводческое некоммерческое товарищество Лесная Поляна'\n",
      " 'деревня Хязельки' 'поселок Жилгородок' 'посёлок городского типа Павлово'\n",
      " 'деревня Ялгино' 'поселок Новый Учхоз' 'городской посёлок Рощино'\n",
      " 'поселок Гончарово' 'поселок Почап' 'посёлок Сапёрное'\n",
      " 'посёлок Платформа 69-й километр' 'поселок Каложицы' 'деревня Фалилеево'\n",
      " 'деревня Пельгора' 'поселок городского типа Лесогорский'\n",
      " 'деревня Торошковичи' 'посёлок Белоостров' 'посёлок Алексеевка'\n",
      " 'поселок Серебрянский' 'поселок Лукаши' 'поселок Петровское'\n",
      " 'деревня Щеглово' 'поселок Мичуринское' 'деревня Тарасово'\n",
      " 'поселок Кингисеппский' 'посёлок при железнодорожной станции Вещево'\n",
      " 'поселок Ушаки' 'деревня Котлы' 'деревня Сижно' 'деревня Торосово'\n",
      " 'посёлок Форт Красная Горка' 'поселок городского типа Токсово'\n",
      " 'деревня Новолисино' 'посёлок станции Громово' 'деревня Глинка'\n",
      " 'посёлок Мельниково' 'поселок городского типа Назия'\n",
      " 'деревня Старая Пустошь' 'поселок Коммунары' 'поселок Починок'\n",
      " 'посёлок городского типа Вознесенье' 'деревня Разбегаево'\n",
      " 'посёлок городского типа Рябово' 'поселок Гладкое'\n",
      " 'посёлок при железнодорожной станции Приветнинское' 'поселок Тёсово-4'\n",
      " 'посёлок Жилгородок' 'деревня Бор' 'посёлок Коробицыно'\n",
      " 'деревня Большая Вруда' 'деревня Курковицы' 'посёлок Лисий Нос'\n",
      " 'городской посёлок Советский' 'посёлок Кобралово' 'деревня Суоранда'\n",
      " 'поселок Кобралово' 'поселок городского типа Кондратьево'\n",
      " 'коттеджный поселок Счастье' 'поселок Любань' 'деревня Реброво'\n",
      " 'деревня Зимитицы' 'деревня Тойворово' 'поселок Семиозерье'\n",
      " 'поселок Лесное' 'поселок Совхозный' 'поселок Усть-Луга'\n",
      " 'посёлок Ленинское' 'посёлок Суйда' 'посёлок городского типа Форносово'\n",
      " 'деревня Нижние Осельки' 'посёлок станции Свирь' 'поселок Перово'\n",
      " 'Высоцк' 'поселок Гарболово' 'село Шум' 'поселок Котельский'\n",
      " 'поселок станции Лужайка' 'деревня Большая Пустомержа'\n",
      " 'поселок Красносельское' 'деревня Вахнова Кара' 'деревня Пижма'\n",
      " 'коттеджный поселок Кивеннапа Север' 'поселок Коробицыно'\n",
      " 'поселок Ромашки' 'посёлок Перово' 'деревня Каськово' 'деревня Куровицы'\n",
      " 'посёлок Плоское' 'поселок Сумино'\n",
      " 'поселок городского типа Большая Ижора' 'поселок Кирпичное'\n",
      " 'деревня Ям-Тесово' 'деревня Раздолье' 'деревня Терпилицы'\n",
      " 'посёлок Шугозеро' 'деревня Ваганово' 'поселок Пушное'\n",
      " 'садовое товарищество Садко' 'посёлок Усть-Ижора' 'деревня Выскатка'\n",
      " 'городской посёлок Свирьстрой' 'поселок Громово' 'деревня Кисельня'\n",
      " 'посёлок Старая Малукса' 'деревня Трубников Бор' 'поселок Калитино'\n",
      " 'посёлок Высокоключевой' 'садовое товарищество Приладожский'\n",
      " 'посёлок Пансионат Зелёный Бор' 'деревня Ненимяки'\n",
      " 'поселок Пансионат Зелёный Бор' 'деревня Снегирёвка' 'деревня Рапполово'\n",
      " 'деревня Пустынка' 'поселок Рабитицы' 'деревня Большой Сабск'\n",
      " 'деревня Русско' 'деревня Лупполово' 'деревня Большое Рейзино'\n",
      " 'деревня Малая Романовка' 'поселок Дружноселье' 'поселок Пчевжа'\n",
      " 'поселок Володарское' 'деревня Нижняя' 'коттеджный посёлок Лесное'\n",
      " 'деревня Тихковицы' 'деревня Борисова Грива' 'посёлок Дзержинского']\n"
     ]
    }
   ],
   "source": [
    "#выявление уникальных значений в столбце locality_name\n",
    "print(data['locality_name'].unique())"
   ]
  },
  {
   "cell_type": "code",
   "execution_count": 139,
   "metadata": {},
   "outputs": [
    {
     "data": {
      "text/plain": [
       "23335"
      ]
     },
     "execution_count": 139,
     "metadata": {},
     "output_type": "execute_result"
    }
   ],
   "source": [
    "data['locality_name'].duplicated().sum()"
   ]
  },
  {
   "cell_type": "code",
   "execution_count": 140,
   "metadata": {},
   "outputs": [
    {
     "name": "stdout",
     "output_type": "stream",
     "text": [
      "['коммунар' 'поселок коммунары']\n",
      "['поселок красный бор' 'выборг' 'сосновый бор' 'деревня чудской бор'\n",
      " 'деревня бор' 'деревня трубников бор' 'поселок пансионат зеленый бор'\n",
      " 'деревня борисова грива']\n",
      "['поселок шушары' 'поселок янино-1' 'поселок парголово' 'поселок мурино'\n",
      " 'поселок красный бор' 'поселок федоровское' 'поселок металлострой'\n",
      " 'поселок лебяжье' 'поселок сиверский' 'поселок молодцово'\n",
      " 'поселок кузьмоловский' 'поселок ропша' 'поселок кингисеппский'\n",
      " 'поселок аннино' 'поселок ефимовский' 'поселок плодовое'\n",
      " 'поселок торковичи' 'поселок первомайское' 'красное село'\n",
      " 'поселок понтонный' 'поселок новый свет' 'село путилово'\n",
      " 'село никольское' 'поселок романовка' 'поселок бугры' 'поселок рощино'\n",
      " 'поселок усть-луга' 'поселок павлово' 'поселок оредеж' 'село копорье'\n",
      " 'поселок молодежное' 'поселок победа' 'поселок синявино'\n",
      " 'поселок стрельна' 'поселок александровская' 'поселок терволово'\n",
      " 'поселок советский' 'поселок петровское' 'поселок токсово'\n",
      " 'поселок сельцо' 'поселок вырица' 'поселок тельмана'\n",
      " 'поселок севастьяново' 'поселок большая ижора' 'поселок новогорелово'\n",
      " 'поселок лесогорский' 'поселок цвелодубово' 'поселок рахья'\n",
      " 'поселок заводской' 'поселок новоселье' 'поселок зимитицы'\n",
      " 'поселок барышево' 'поселок имени свердлова' 'поселок рябово'\n",
      " 'поселок корнево' 'поселок поляны' 'поселок мга' 'поселок елизаветино'\n",
      " 'поселок кузнечное' 'поселок запорожское' 'поселок мичуринское'\n",
      " 'поселок имени морозова' 'поселок песочный' 'поселок сосново'\n",
      " 'поселок ильичево' 'поселок тайцы' 'поселок вещево' 'село паша'\n",
      " 'поселок калитино' 'поселок ульяновка' 'поселок дубровка'\n",
      " 'поселок войсковицы' 'поселок приладожский' 'поселок щеглово'\n",
      " 'поселок гаврилово' 'поселок никольский' 'поселок петро-славянка'\n",
      " 'поселок назия' 'поселок репино' 'поселок углово'\n",
      " 'поселок старая малукса' 'поселок саперный' 'поселок семрино'\n",
      " 'поселок глажево' 'поселок кобринское' 'поселок приветнинское'\n",
      " 'поселок цвылево' 'поселок мельниково' 'поселок пудость' 'поселок любань'\n",
      " 'поселок селезнево' 'поселок глебычево' 'поселок жилпоселок'\n",
      " 'поселок войскорово' 'поселок стеклянный' 'поселок важины'\n",
      " 'поселок мыза-ивановка' 'село русско-высоцкое' 'поселок форносово'\n",
      " 'село старая ладога' 'поселок житково' 'поселок виллози' 'поселок сумино'\n",
      " 'поселок возрождение' 'поселок кикерино' 'поселок пригородный'\n",
      " 'поселок торфяное' 'поселок будогощь' 'поселок суходолье'\n",
      " 'поселок красная долина' 'поселок дружная горка' 'поселок лисий нос'\n",
      " 'село рождествено' 'поселок левашово' 'поселок жилгородок'\n",
      " 'поселок новый учхоз' 'поселок гончарово' 'поселок почап'\n",
      " 'поселок саперное' 'поселок платформа 69-й километр' 'поселок каложицы'\n",
      " 'поселок белоостров' 'поселок алексеевка' 'поселок серебрянский'\n",
      " 'поселок лукаши' 'поселок ушаки' 'поселок форт красная горка'\n",
      " 'поселок громово' 'поселок коммунары' 'поселок починок'\n",
      " 'поселок вознесенье' 'поселок гладкое' 'поселок тесово-4'\n",
      " 'поселок коробицыно' 'поселок кобралово' 'поселок кондратьево'\n",
      " 'поселок счастье' 'поселок семиозерье' 'поселок лесное'\n",
      " 'поселок совхозный' 'поселок ленинское' 'поселок суйда'\n",
      " 'поселок свирьстрой' 'поселок перово' 'поселок гарболово' 'село шум'\n",
      " 'поселок котельский' 'поселок лужайка' 'поселок красносельское'\n",
      " 'поселок кивеннапа север' 'поселок ромашки' 'поселок плоское'\n",
      " 'поселок кирпичное' 'поселок шугозеро' 'поселок пушное'\n",
      " 'поселок усть-ижора' 'поселок высокоключевой'\n",
      " 'поселок пансионат зеленый бор' 'поселок дружноселье' 'поселок пчевжа'\n",
      " 'поселок володарское' 'поселок дзержинского']\n",
      "['деревня старая' 'поселок старая малукса' 'село старая ладога'\n",
      " 'деревня старая пустошь']\n",
      "['поселок новый свет' 'светогорск']\n",
      "['поселок романовка' 'деревня малая романовка']\n",
      "['поселок большая ижора' 'поселок усть-ижора']\n",
      "['деревня большие колпаны' 'деревня малые колпаны']\n",
      "['новая ладога' 'село старая ладога']\n",
      "['деревня аро' 'деревня старосиверская' 'деревня старое хинколово'\n",
      " 'деревня старополье' 'поселок гончарово']\n",
      "['деревня гарболово' 'поселок гарболово']\n",
      "['деревня белогорка' 'поселок дружная горка' 'поселок форт красная горка']\n",
      "['ломоносов' 'поселок форносово' 'поселок лисий нос'\n",
      " 'поселок красносельское' 'поселок дружноселье']\n",
      "['село русско-высоцкое' 'высоцк']\n",
      "['село русско-высоцкое' 'деревня русско']\n"
     ]
    }
   ],
   "source": [
    "data['locality_name'] = data['locality_name'].str.replace('городской', \"\")\n",
    "data['locality_name'] = data['locality_name'].str.replace('городского типа', '')\n",
    "data['locality_name'] = data['locality_name'].str.replace('ё',\"е\")\n",
    "data['locality_name'] = data['locality_name'].str.replace(' поселок',\"поселок\")\n",
    "data['locality_name'] = data['locality_name'].str.replace('  ',\" \")\n",
    "data['locality_name'] = data['locality_name'].str.replace('село Павлово',\"поселок Павлово\")\n",
    "data['locality_name'] = data['locality_name'].str.lower()\n",
    "data['locality_name'] = (data['locality_name'].str\\\n",
    "                         .replace('деревня федоровское', 'поселок федоровское').str\n",
    "                         .replace('садовое товарищество новая ропша','поселок ропша').str\n",
    "                         .replace('коттеджныйпоселок', 'поселок').str\n",
    "                         .replace('деревня калитино','поселок калитино').str\n",
    "                         .replace('деревня зимитицы','поселок зимитицы').str\n",
    "                         .replace('поселок станции громово','поселок громово').str\n",
    "                         .replace('деревня русско высоцк', 'село русско-высоцкое').str\n",
    "                         .replace('село русско-село русско-высоцкоеое', 'село русско-высоцкое').str\n",
    "                         .replace('поселокпоселок коммунарыы', 'поселок коммунары').str\n",
    "                         .replace(' при железнодорожной станции ',' ').str\n",
    "                         .replace('садовое товарищество приладожский', 'поселок приладожский').str\n",
    "                         .replace('садовое товарищество рахья', 'поселок рахья').str\n",
    "                         .replace(' станции ', \" \").str\n",
    "                         .replace('деревня щеглово', 'поселок щеглово').str\n",
    "                         .replace('хапо-ое', 'хаповское').str\n",
    "                         .replace('садоводческое некоммерческое товарищество ', '').str\n",
    "                         .replace('поселок кингисеппский','кингисепп').str\n",
    "                         .replace('кингисепп', 'поселок кингисеппский').str\n",
    "                         .replace('поселок мурино', 'мурино').str\n",
    "                         .replace('мурино', 'поселок мурино').str\n",
    "                         .replace('деревня кудрово','кудрово').str\n",
    "                         .replace('кудрово', 'деревня кудрово').str\n",
    "                         .replace('село никольское', 'никольское').str\n",
    "                         .replace('никольское', 'село никольское').str\n",
    "                         .replace('поселок усть-луга', 'луга').str\n",
    "                         .replace('луга', 'поселок усть-луга').str\n",
    "                         .replace('деревня старые бегуницы', 'деревня бегуницы').str\n",
    "                         .replace('деревня бегуницы', 'деревня старые бегуницы').str\n",
    "                         .replace('поселок рабитицы', 'деревня рабитицы').str\n",
    "                         .replace('поселок любань', 'любань').str\n",
    "                         .replace('любань', 'поселок любань').str\n",
    "                         .replace('поселок свирьстрой', 'поселок свирь').str\n",
    "                         .replace('поселок свирь', 'поселок свирьстрой')\n",
    "                        )\n",
    " \n",
    "checked = set()\n",
    "for s in data['locality_name'].unique():\n",
    "    name = s.split(' ')[-1]\n",
    "    if name != '' and not name in checked:\n",
    "        checked.add(name)\n",
    "        ss = data[data['locality_name'].str.contains(name)]['locality_name'].unique()\n",
    "        if len(ss)>1:\n",
    "            print(ss)"
   ]
  },
  {
   "cell_type": "markdown",
   "metadata": {},
   "source": [
    "* **Найдите и устраните редкие и выбивающиеся значения**"
   ]
  },
  {
   "cell_type": "code",
   "execution_count": 141,
   "metadata": {},
   "outputs": [
    {
     "name": "stdout",
     "output_type": "stream",
     "text": [
      "до 2,5м: 73 шт.\n",
      " 4 до 5м: 39 шт.\n",
      " 5 до 25м: 16 шт.\n",
      " 25м до 36м: 19 шт.\n",
      " 25м до 36м: 0 шт.\n",
      " от 50м: 1 шт.\n"
     ]
    }
   ],
   "source": [
    "print('до 2,5м: ' + str(data.query('ceiling_height < 2.5')['ceiling_height'].count()) + ' шт.')\n",
    "print(' 4 до 5м: ' + str(data.query('ceiling_height > 4 and ceiling_height <= 5')['ceiling_height'].count()) + ' шт.')\n",
    "print(' 5 до 25м: ' + str(data.query('ceiling_height > 5 and ceiling_height < 25')['ceiling_height'].count()) + ' шт.')\n",
    "print(' 25м до 36м: ' + str(data.query('ceiling_height >= 25 and ceiling_height <= 36')['ceiling_height'].count()) + ' шт.')\n",
    "print(' 25м до 36м: ' + str(data.query('ceiling_height > 36 and ceiling_height < 50')['ceiling_height'].count()) + ' шт.')\n",
    "print(' от 50м: ' + str(data.query('ceiling_height >= 50')['ceiling_height'].count()) + ' шт.')\n"
   ]
  },
  {
   "cell_type": "markdown",
   "metadata": {},
   "source": [
    "Обычная высота потолков находится от 2,5 - 3,2 метрах. До 2,5 метров квартир немного, но квартиры ли это, непонятно, можно удалить. До 5 метров могут быть двухэтажные квартиры(их немного и можно удалить), 25 и 36 скорее всего опечатки, поэтому поделим их на 10. Все остальное является ошибками и подлежит удалению. Удаляем квартиры с высотой потолков от 36."
   ]
  },
  {
   "cell_type": "code",
   "execution_count": 142,
   "metadata": {},
   "outputs": [],
   "source": [
    "#удаление до 2,5\n",
    "data.drop(index=data.query('ceiling_height < 2.5').index,inplace=True)\n",
    "\n",
    "#удаление 4-25\n",
    "data.drop(index=data.query('ceiling_height > 4 and ceiling_height < 25').index, inplace=True)\n",
    "\n",
    "#даление от 36\n",
    "data.drop(index=data.query('ceiling_height > 36').index, inplace=True)\n",
    "\n",
    "#деление на 10\n",
    "data.update(data[(data['ceiling_height'] >= 25) & (data['ceiling_height'] <= 36)]['ceiling_height']/10)\n",
    "\n",
    "#заполнение пустых значений ceiling_height медианными в зависимости от месторасположения\n",
    "for cei in data['total_area'].unique():\n",
    "    data_tmp = data[data['total_area'] == cei]\n",
    "    if data_tmp[data_tmp['ceiling_height'].notnull()].shape[0] > 0:\n",
    "        cei_median = data.loc[data['total_area'] == cei]['ceiling_height'].median()\n",
    "        data.loc[(data['ceiling_height'].isna()) & \\\n",
    "                 (data['total_area'] == cei), 'ceiling_height'] = cei_median"
   ]
  },
  {
   "cell_type": "code",
   "execution_count": 143,
   "metadata": {},
   "outputs": [
    {
     "data": {
      "text/plain": [
       "634"
      ]
     },
     "execution_count": 143,
     "metadata": {},
     "output_type": "execute_result"
    }
   ],
   "source": [
    "data['ceiling_height'].isna().sum()"
   ]
  },
  {
   "cell_type": "code",
   "execution_count": 144,
   "metadata": {},
   "outputs": [],
   "source": [
    "#заполнение оставшихся пустых значений медианным\n",
    "data['ceiling_height'] = data['ceiling_height'].fillna(data['ceiling_height'].median())"
   ]
  },
  {
   "cell_type": "code",
   "execution_count": 145,
   "metadata": {},
   "outputs": [
    {
     "name": "stdout",
     "output_type": "stream",
     "text": [
      "цена 0: 0\n",
      "ниже 100.000: 1\n",
      "больше 100.000.000: 33\n"
     ]
    }
   ],
   "source": [
    "#поиск редких значений в last_price и удаление их\n",
    "print('цена 0:', data.query('last_price == 0')['last_price'].count())\n",
    "print('ниже 100.000:', data.query('last_price < 1e+05')['last_price'].count())\n",
    "print('больше 100.000.000:', data.query('last_price > 1e+08')['last_price'].count())\n",
    "\n",
    "#удаление квартир\n",
    "data.drop(index=data.query('last_price > 1e+08').index,inplace=True)"
   ]
  },
  {
   "cell_type": "markdown",
   "metadata": {},
   "source": [
    "Больше 100.000.000 33 штук. Возможно, это элитная недвижимость. Стоит это удалить, что и сделаем. Ниже 100.000 только одна квартира, ее трогать не будем."
   ]
  },
  {
   "cell_type": "code",
   "execution_count": 146,
   "metadata": {},
   "outputs": [
    {
     "name": "stdout",
     "output_type": "stream",
     "text": [
      "площадь < 10 : 0\n",
      "площадь > 500 : 2\n"
     ]
    }
   ],
   "source": [
    "print('площадь < 10 :',data.query('total_area < 10')['total_area'].count()) \n",
    "print('площадь > 500 :',data.query('total_area > 500')['total_area'].count())"
   ]
  },
  {
   "cell_type": "markdown",
   "metadata": {},
   "source": [
    "Удаляем квартиры площадью более 500 кв.метров. Их немного."
   ]
  },
  {
   "cell_type": "code",
   "execution_count": 147,
   "metadata": {},
   "outputs": [],
   "source": [
    "#удаление квартир\n",
    "data.drop(index=data.query('total_area > 500').index,inplace=True)"
   ]
  },
  {
   "cell_type": "code",
   "execution_count": 148,
   "metadata": {},
   "outputs": [],
   "source": [
    "#заполнение пустых значений в столбце kitchen_area медианным\n",
    "data['kitchen_area'] = data['kitchen_area'].fillna(data['kitchen_area'].median())\n",
    "\n",
    "#заполнение пустых значений airports_nearest медианными в зависимости от месторасположения\n",
    "for air in data['locality_name'].unique():\n",
    "    data_tmp = data[data['locality_name'] == air]\n",
    "    if data_tmp[data_tmp['airports_nearest'].notnull()].shape[0] > 0:\n",
    "        air_median = data.loc[data['locality_name'] == air]['airports_nearest'].median()\n",
    "        data.loc[(data['airports_nearest'].isna()) & \\\n",
    "                 (data['locality_name'] == air), 'airports_nearest'] = air_median\n",
    "\n",
    "#оставшиеся заполняем 0, так как скорее всего аэропортов просто нет рядом\n",
    "data['airports_nearest'] = data['airports_nearest'].fillna(0)\n",
    "\n",
    "#уникальные значения cityCenters_nearest\n",
    "data['cityCenters_nearest'].unique()\n",
    "data['cityCenters_nearest'].value_counts()\n",
    "data['cityCenters_nearest'].isna().sum()\n",
    "\n",
    "#заполнение пустых значений cityCenters_nearest медианными в зависимости от месторасположения\n",
    "for city in data['locality_name'].unique():\n",
    "    data_tmp = data[data['locality_name'] == city]\n",
    "    if data_tmp[data_tmp['cityCenters_nearest'].notnull()].shape[0] > 0:\n",
    "        city_median = data.loc[data['locality_name'] == city]['cityCenters_nearest'].median()\n",
    "        data.loc[(data['cityCenters_nearest'].isna()) & \\\n",
    "                 (data['locality_name'] == city), 'cityCenters_nearest'] = city_median\n",
    "        \n",
    "#заполнение пустых значений cityCenters_nearest медианными        \n",
    "data['cityCenters_nearest'] = data['cityCenters_nearest'].fillna(data['cityCenters_nearest'].median())\n",
    "\n",
    "#заполнение пустых значений parks_nearest медианными в зависимости от месторасположения\n",
    "for park in data['locality_name'].unique():\n",
    "    data_tmp = data[data['locality_name'] == park]\n",
    "    if data_tmp[data_tmp['parks_nearest'].notnull()].shape[0] > 0:\n",
    "        park_median = data.loc[data['locality_name'] == park]['parks_nearest'].median()\n",
    "        data.loc[(data['parks_nearest'].isna()) & \\\n",
    "                 (data['locality_name'] == park), 'parks_nearest'] = park_median\n",
    "\n",
    "#остальные заполняем, так как парков скорее всего просто нет 0\n",
    "data['parks_nearest'] = data['parks_nearest'].fillna(0)\n",
    "\n",
    "#заполнение пустых значений ponds_nearest медианными в зависимости от месторасположения\n",
    "for pond in data['locality_name'].unique():\n",
    "    data_tmp = data[data['locality_name'] == pond]\n",
    "    if data_tmp[data_tmp['ponds_nearest'].notnull()].shape[0] > 0:\n",
    "        pond_median = data.loc[data['locality_name'] == pond]['ponds_nearest'].median()\n",
    "        data.loc[(data['ponds_nearest'].isna()) & \\\n",
    "                 (data['locality_name'] == pond), 'ponds_nearest'] = pond_median\n",
    "\n",
    "#остальные заполняем, так как прудов скорее всего просто нет 0\n",
    "data['ponds_nearest'] = data['ponds_nearest'].fillna(0)"
   ]
  },
  {
   "cell_type": "code",
   "execution_count": 149,
   "metadata": {},
   "outputs": [
    {
     "name": "stdout",
     "output_type": "stream",
     "text": [
      "< 10: 25\n",
      "> 200: 16\n"
     ]
    }
   ],
   "source": [
    "#поиск и удаление аномалий в living_area\n",
    "print('< 10:', data.query('living_area < 10')['living_area'].count())\n",
    "print('> 200:', data.query('living_area > 200')['living_area'].count())\n"
   ]
  },
  {
   "cell_type": "markdown",
   "metadata": {},
   "source": [
    "Квартир данных 2 типов немного, можно их удалить. Остальные пустые значения заполняем медианным в зависимости от количества комнат"
   ]
  },
  {
   "cell_type": "code",
   "execution_count": 150,
   "metadata": {},
   "outputs": [],
   "source": [
    "#удаление <10\n",
    "data.drop(index=data.query('living_area < 10').index,inplace=True)\n",
    "\n",
    "#удаление >200\n",
    "data.drop(index=data.query('living_area > 200').index,inplace=True)"
   ]
  },
  {
   "cell_type": "code",
   "execution_count": 151,
   "metadata": {},
   "outputs": [],
   "source": [
    "#заполнение пустых значений в столбце living_area  медианным в зависимости от количества комнат\n",
    "for i in data['rooms'].unique():\n",
    "    data.loc[(data['rooms'] == i) & (data['living_area'].isna()), 'living_area'] = data.loc[(data['rooms'] == i), 'living_area'].median()\n"
   ]
  },
  {
   "cell_type": "code",
   "execution_count": 152,
   "metadata": {},
   "outputs": [],
   "source": [
    "#сброс индексации после удаления строк\n",
    "data.reset_index(drop=True,inplace=True)"
   ]
  },
  {
   "cell_type": "markdown",
   "metadata": {},
   "source": [
    "### Посчитайте и добавьте в таблицу новые столбцы"
   ]
  },
  {
   "cell_type": "code",
   "execution_count": 153,
   "metadata": {},
   "outputs": [],
   "source": [
    "#цена одного квадратного метра\n",
    "price_squaremetre = data['last_price'] / data['total_area']\n",
    "data['price_squaremetre'] = price_squaremetre\n",
    "\n",
    "#округление до 2 знаков\n",
    "data['price_squaremetre'] = np.round(data['price_squaremetre'],2)\n",
    "\n",
    "#день недели публикации объявления\n",
    "week_day = pd.DatetimeIndex(data['first_day_exposition']).dayofweek\n",
    "data['week_day'] = week_day\n",
    "\n",
    "#месяц публикации\n",
    "data['month'] = data['first_day_exposition'].dt.month\n",
    "\n",
    "#год публикации\n",
    "data['year'] = data['first_day_exposition'].dt.year\n",
    "\n",
    "#тип этажа квартиры\n",
    "data['floor_category'] = data.apply(\n",
    "    lambda x: 'первый' if (x.floor == 1) \n",
    "    else ('последний' if (x.floor == x.floors_total) & isinstance(x.floors_total,int) \n",
    "    else 'другой'), axis=1\n",
    ")\n",
    "\n",
    "#расстояние до центра города в киллометрах и округление\n",
    "data['cityCenters_nearest_km'] = round(data['cityCenters_nearest'] / 1000)"
   ]
  },
  {
   "cell_type": "markdown",
   "metadata": {},
   "source": [
    "### Проведите исследовательский анализ данных"
   ]
  },
  {
   "cell_type": "code",
   "execution_count": 58,
   "metadata": {},
   "outputs": [
    {
     "data": {
      "text/plain": [
       "count    23494.000000\n",
       "mean        59.580512\n",
       "std         31.502703\n",
       "min         12.000000\n",
       "25%         40.000000\n",
       "50%         52.000000\n",
       "75%         69.500000\n",
       "max        494.100000\n",
       "Name: total_area, dtype: float64"
      ]
     },
     "execution_count": 58,
     "metadata": {},
     "output_type": "execute_result"
    }
   ],
   "source": [
    "import matplotlib.pyplot as plt\n",
    "\n",
    "data['total_area'].describe()"
   ]
  },
  {
   "cell_type": "code",
   "execution_count": 59,
   "metadata": {},
   "outputs": [
    {
     "data": {
      "text/plain": [
       "<AxesSubplot:title={'center':'total_area'}, ylabel='Frequency'>"
      ]
     },
     "execution_count": 59,
     "metadata": {},
     "output_type": "execute_result"
    },
    {
     "data": {
      "image/png": "[encoded data removed]",
      "text/plain": [
       "<Figure size 1440x720 with 1 Axes>"
      ]
     },
     "metadata": {
      "needs_background": "light"
     },
     "output_type": "display_data"
    }
   ],
   "source": [
    "#просмотр данных total_area\n",
    "data['total_area'].plot(range=(0,300), kind='hist', bins=100, title='total_area', figsize=(20,10))"
   ]
  },
  {
   "cell_type": "markdown",
   "metadata": {},
   "source": [
    "Больше всего объявлений с площадью до 50 метров. Меньше всего от 200 м."
   ]
  },
  {
   "cell_type": "code",
   "execution_count": 60,
   "metadata": {},
   "outputs": [
    {
     "data": {
      "text/plain": [
       "count    23494.000000\n",
       "mean        33.892601\n",
       "std         19.494913\n",
       "min         10.000000\n",
       "25%         18.400000\n",
       "50%         30.300000\n",
       "75%         42.500000\n",
       "max        200.000000\n",
       "Name: living_area, dtype: float64"
      ]
     },
     "execution_count": 60,
     "metadata": {},
     "output_type": "execute_result"
    }
   ],
   "source": [
    "data['living_area'].describe()"
   ]
  },
  {
   "cell_type": "code",
   "execution_count": 61,
   "metadata": {},
   "outputs": [
    {
     "data": {
      "text/plain": [
       "<AxesSubplot:title={'center':'living_area'}, ylabel='Frequency'>"
      ]
     },
     "execution_count": 61,
     "metadata": {},
     "output_type": "execute_result"
    },
    {
     "data": {
      "image/png": "[encoded data removed]",
      "text/plain": [
       "<Figure size 1440x720 with 1 Axes>"
      ]
     },
     "metadata": {
      "needs_background": "light"
     },
     "output_type": "display_data"
    }
   ],
   "source": [
    "data['living_area'].plot(range=(0,200), kind='hist', bins=100, title='living_area', figsize=(20,10))"
   ]
  },
  {
   "cell_type": "markdown",
   "metadata": {},
   "source": [
    "Видно, что больше всего квавртир до 25 метров, спад свыше 75."
   ]
  },
  {
   "cell_type": "code",
   "execution_count": 62,
   "metadata": {},
   "outputs": [
    {
     "data": {
      "text/plain": [
       "count    23494.000000\n",
       "mean        10.358313\n",
       "std          5.372258\n",
       "min          1.300000\n",
       "25%          7.300000\n",
       "50%          9.100000\n",
       "75%         11.400000\n",
       "max        107.000000\n",
       "Name: kitchen_area, dtype: float64"
      ]
     },
     "execution_count": 62,
     "metadata": {},
     "output_type": "execute_result"
    }
   ],
   "source": [
    "data['kitchen_area'].describe()"
   ]
  },
  {
   "cell_type": "code",
   "execution_count": 63,
   "metadata": {},
   "outputs": [
    {
     "data": {
      "text/plain": [
       "<AxesSubplot:title={'center':'kitchen_area'}, ylabel='Frequency'>"
      ]
     },
     "execution_count": 63,
     "metadata": {},
     "output_type": "execute_result"
    },
    {
     "data": {
      "image/png": "[encoded data removed]",
      "text/plain": [
       "<Figure size 1440x720 with 1 Axes>"
      ]
     },
     "metadata": {
      "needs_background": "light"
     },
     "output_type": "display_data"
    }
   ],
   "source": [
    "data['kitchen_area'].plot(range=(0,60), kind='hist', bins=100, title='kitchen_area', figsize=(20,10))"
   ]
  },
  {
   "cell_type": "markdown",
   "metadata": {},
   "source": [
    "Больше всего кухонь до 10м, меньше всего где-то после 20."
   ]
  },
  {
   "cell_type": "code",
   "execution_count": 64,
   "metadata": {},
   "outputs": [
    {
     "data": {
      "text/plain": [
       "count    2.349400e+04\n",
       "mean     6.195368e+06\n",
       "std      6.159948e+06\n",
       "min      1.219000e+04\n",
       "25%      3.400000e+06\n",
       "50%      4.628270e+06\n",
       "75%      6.750000e+06\n",
       "max      9.900000e+07\n",
       "Name: last_price, dtype: float64"
      ]
     },
     "execution_count": 64,
     "metadata": {},
     "output_type": "execute_result"
    }
   ],
   "source": [
    "data['last_price'].describe()"
   ]
  },
  {
   "cell_type": "code",
   "execution_count": 231,
   "metadata": {},
   "outputs": [
    {
     "data": {
      "text/plain": [
       "<AxesSubplot:title={'center':'last_price'}, ylabel='Frequency'>"
      ]
     },
     "execution_count": 231,
     "metadata": {},
     "output_type": "execute_result"
    },
    {
     "data": {
      "image/png": "[encoded data removed]",
      "text/plain": [
       "<Figure size 1440x720 with 1 Axes>"
      ]
     },
     "metadata": {
      "needs_background": "light"
     },
     "output_type": "display_data"
    }
   ],
   "source": [
    "data['last_price'].plot(range=(0,1e+07), kind='hist', bins=100, title='last_price', figsize=(20,10))"
   ]
  },
  {
   "cell_type": "markdown",
   "metadata": {},
   "source": [
    "Больше всего квартир по цене от 3 до 6 млн."
   ]
  },
  {
   "cell_type": "code",
   "execution_count": 66,
   "metadata": {},
   "outputs": [
    {
     "data": {
      "text/plain": [
       "count    23494.000000\n",
       "mean         2.060356\n",
       "std          1.049987\n",
       "min          0.000000\n",
       "25%          1.000000\n",
       "50%          2.000000\n",
       "75%          3.000000\n",
       "max         16.000000\n",
       "Name: rooms, dtype: float64"
      ]
     },
     "execution_count": 66,
     "metadata": {},
     "output_type": "execute_result"
    }
   ],
   "source": [
    "data['rooms'].describe()"
   ]
  },
  {
   "cell_type": "code",
   "execution_count": 67,
   "metadata": {},
   "outputs": [
    {
     "data": {
      "text/plain": [
       "<AxesSubplot:title={'center':'rooms'}, ylabel='Frequency'>"
      ]
     },
     "execution_count": 67,
     "metadata": {},
     "output_type": "execute_result"
    },
    {
     "data": {
      "image/png": "[encoded data removed]",
      "text/plain": [
       "<Figure size 1440x720 with 1 Axes>"
      ]
     },
     "metadata": {
      "needs_background": "light"
     },
     "output_type": "display_data"
    }
   ],
   "source": [
    "data['rooms'].plot(range=(0, 16), kind='hist', bins=25, title='rooms', figsize=(20,10))"
   ]
  },
  {
   "cell_type": "markdown",
   "metadata": {},
   "source": [
    "Больше всего продаж 1, 2 и 3 комнатных. "
   ]
  },
  {
   "cell_type": "code",
   "execution_count": 68,
   "metadata": {},
   "outputs": [
    {
     "data": {
      "text/plain": [
       "count    23494.000000\n",
       "mean         2.693102\n",
       "std          0.219439\n",
       "min          2.500000\n",
       "25%          2.550000\n",
       "50%          2.600000\n",
       "75%          2.750000\n",
       "max          4.000000\n",
       "Name: ceiling_height, dtype: float64"
      ]
     },
     "execution_count": 68,
     "metadata": {},
     "output_type": "execute_result"
    }
   ],
   "source": [
    "data['ceiling_height'].describe()"
   ]
  },
  {
   "cell_type": "code",
   "execution_count": 69,
   "metadata": {},
   "outputs": [
    {
     "data": {
      "text/plain": [
       "<AxesSubplot:title={'center':'ceiling_height'}, ylabel='Frequency'>"
      ]
     },
     "execution_count": 69,
     "metadata": {},
     "output_type": "execute_result"
    },
    {
     "data": {
      "image/png": "[encoded data removed]",
      "text/plain": [
       "<Figure size 1440x720 with 1 Axes>"
      ]
     },
     "metadata": {
      "needs_background": "light"
     },
     "output_type": "display_data"
    }
   ],
   "source": [
    "data['ceiling_height'].plot(range=(2, 5), kind='hist', bins=25, title='ceiling_height', figsize=(20,10))"
   ]
  },
  {
   "cell_type": "markdown",
   "metadata": {},
   "source": [
    "Больше всего значений в пределах нормы 2,5-3,2 метров."
   ]
  },
  {
   "cell_type": "code",
   "execution_count": 70,
   "metadata": {},
   "outputs": [
    {
     "data": {
      "text/plain": [
       "count    23494.000000\n",
       "mean         5.898740\n",
       "std          4.890214\n",
       "min          1.000000\n",
       "25%          2.000000\n",
       "50%          4.000000\n",
       "75%          8.000000\n",
       "max         33.000000\n",
       "Name: floor, dtype: float64"
      ]
     },
     "execution_count": 70,
     "metadata": {},
     "output_type": "execute_result"
    }
   ],
   "source": [
    "data['floor'].describe()"
   ]
  },
  {
   "cell_type": "code",
   "execution_count": 71,
   "metadata": {},
   "outputs": [
    {
     "data": {
      "text/plain": [
       "<AxesSubplot:title={'center':'floor'}, ylabel='Frequency'>"
      ]
     },
     "execution_count": 71,
     "metadata": {},
     "output_type": "execute_result"
    },
    {
     "data": {
      "image/png": "[encoded data removed]",
      "text/plain": [
       "<Figure size 1440x720 with 1 Axes>"
      ]
     },
     "metadata": {
      "needs_background": "light"
     },
     "output_type": "display_data"
    }
   ],
   "source": [
    "data['floor'].plot(range=(0, 30), kind='hist', bins=25, title='floor', figsize=(20,10))"
   ]
  },
  {
   "cell_type": "markdown",
   "metadata": {},
   "source": [
    "Больше всего квартир продается до 7 этажа приблизительно."
   ]
  },
  {
   "cell_type": "code",
   "execution_count": 72,
   "metadata": {},
   "outputs": [
    {
     "data": {
      "text/plain": [
       "count      23494\n",
       "unique         3\n",
       "top       другой\n",
       "freq       17236\n",
       "Name: floor_category, dtype: object"
      ]
     },
     "execution_count": 72,
     "metadata": {},
     "output_type": "execute_result"
    }
   ],
   "source": [
    "data['floor_category'].describe()"
   ]
  },
  {
   "cell_type": "code",
   "execution_count": 73,
   "metadata": {},
   "outputs": [
    {
     "data": {
      "text/plain": [
       "<AxesSubplot:xlabel='floor_category', ylabel='count'>"
      ]
     },
     "execution_count": 73,
     "metadata": {},
     "output_type": "execute_result"
    },
    {
     "data": {
      "image/png": "[encoded data removed]",
      "text/plain": [
       "<Figure size 432x288 with 1 Axes>"
      ]
     },
     "metadata": {
      "needs_background": "light"
     },
     "output_type": "display_data"
    }
   ],
   "source": [
    "data.groupby('floor_category')['floor_category'].count().plot(kind='bar', ylabel='count')"
   ]
  },
  {
   "cell_type": "markdown",
   "metadata": {},
   "source": [
    "Меньше всего первого этажа и последнего, больше всего других."
   ]
  },
  {
   "cell_type": "code",
   "execution_count": 74,
   "metadata": {},
   "outputs": [
    {
     "data": {
      "text/plain": [
       "count    23494.000000\n",
       "mean        10.696476\n",
       "std          6.599347\n",
       "min          1.000000\n",
       "25%          5.000000\n",
       "50%          9.000000\n",
       "75%         16.000000\n",
       "max         60.000000\n",
       "Name: floors_total, dtype: float64"
      ]
     },
     "execution_count": 74,
     "metadata": {},
     "output_type": "execute_result"
    }
   ],
   "source": [
    "data['floors_total'].describe()"
   ]
  },
  {
   "cell_type": "code",
   "execution_count": 75,
   "metadata": {},
   "outputs": [
    {
     "data": {
      "text/plain": [
       "<AxesSubplot:title={'center':'floors_total'}, ylabel='Frequency'>"
      ]
     },
     "execution_count": 75,
     "metadata": {},
     "output_type": "execute_result"
    },
    {
     "data": {
      "image/png": "[encoded data removed]",
      "text/plain": [
       "<Figure size 1440x720 with 1 Axes>"
      ]
     },
     "metadata": {
      "needs_background": "light"
     },
     "output_type": "display_data"
    }
   ],
   "source": [
    "data['floors_total'].plot(range=(0, 60), kind='hist', bins=25, title='floors_total', figsize=(20,10))"
   ]
  },
  {
   "cell_type": "markdown",
   "metadata": {},
   "source": [
    "Больше всего объявлений в пятиэтажках."
   ]
  },
  {
   "cell_type": "code",
   "execution_count": 76,
   "metadata": {},
   "outputs": [
    {
     "data": {
      "text/plain": [
       "count    23494.000000\n",
       "mean     14252.863348\n",
       "std       7678.228845\n",
       "min        181.000000\n",
       "25%      10983.000000\n",
       "50%      13279.000000\n",
       "75%      15758.000000\n",
       "max      65968.000000\n",
       "Name: cityCenters_nearest, dtype: float64"
      ]
     },
     "execution_count": 76,
     "metadata": {},
     "output_type": "execute_result"
    }
   ],
   "source": [
    "data['cityCenters_nearest'].describe()"
   ]
  },
  {
   "cell_type": "code",
   "execution_count": 77,
   "metadata": {},
   "outputs": [
    {
     "data": {
      "text/plain": [
       "<AxesSubplot:title={'center':'cityCenters_nearest'}, ylabel='Frequency'>"
      ]
     },
     "execution_count": 77,
     "metadata": {},
     "output_type": "execute_result"
    },
    {
     "data": {
      "image/png": "[encoded data removed]",
      "text/plain": [
       "<Figure size 1440x720 with 1 Axes>"
      ]
     },
     "metadata": {
      "needs_background": "light"
     },
     "output_type": "display_data"
    }
   ],
   "source": [
    "data['cityCenters_nearest'].plot(kind='hist', bins=25, title='cityCenters_nearest', figsize=(20,10))"
   ]
  },
  {
   "cell_type": "markdown",
   "metadata": {},
   "source": [
    "Больше всего объявлений о квартирах в районе 11-15 км от центра"
   ]
  },
  {
   "cell_type": "code",
   "execution_count": 78,
   "metadata": {},
   "outputs": [
    {
     "data": {
      "text/plain": [
       "count    23494.000000\n",
       "mean     23525.438814\n",
       "std      16680.187497\n",
       "min          0.000000\n",
       "25%      11940.000000\n",
       "50%      23121.000000\n",
       "75%      35853.000000\n",
       "max      84869.000000\n",
       "Name: airports_nearest, dtype: float64"
      ]
     },
     "execution_count": 78,
     "metadata": {},
     "output_type": "execute_result"
    }
   ],
   "source": [
    "data['airports_nearest'].describe()"
   ]
  },
  {
   "cell_type": "code",
   "execution_count": 79,
   "metadata": {},
   "outputs": [
    {
     "data": {
      "text/plain": [
       "<AxesSubplot:title={'center':'airports_nearest'}, ylabel='Frequency'>"
      ]
     },
     "execution_count": 79,
     "metadata": {},
     "output_type": "execute_result"
    },
    {
     "data": {
      "image/png": "[encoded data removed]",
      "text/plain": [
       "<Figure size 1440x720 with 1 Axes>"
      ]
     },
     "metadata": {
      "needs_background": "light"
     },
     "output_type": "display_data"
    }
   ],
   "source": [
    "data['airports_nearest'].plot(bins=25, kind='hist', title='airports_nearest', figsize=(20,10), grid=True)"
   ]
  },
  {
   "cell_type": "markdown",
   "metadata": {},
   "source": [
    "Больше всего объявлений вне аэропорта, после уже ближе к 20-23км от аэропорта."
   ]
  },
  {
   "cell_type": "code",
   "execution_count": 80,
   "metadata": {},
   "outputs": [
    {
     "data": {
      "text/plain": [
       "count    23494.000000\n",
       "mean       355.331510\n",
       "std        290.340192\n",
       "min          0.000000\n",
       "25%          0.000000\n",
       "50%        460.000000\n",
       "75%        460.000000\n",
       "max       3190.000000\n",
       "Name: parks_nearest, dtype: float64"
      ]
     },
     "execution_count": 80,
     "metadata": {},
     "output_type": "execute_result"
    }
   ],
   "source": [
    "data['parks_nearest'].describe()"
   ]
  },
  {
   "cell_type": "code",
   "execution_count": 81,
   "metadata": {},
   "outputs": [
    {
     "data": {
      "text/plain": [
       "<AxesSubplot:title={'center':'parks_nearest'}, ylabel='Frequency'>"
      ]
     },
     "execution_count": 81,
     "metadata": {},
     "output_type": "execute_result"
    },
    {
     "data": {
      "image/png": "[encoded data removed]",
      "text/plain": [
       "<Figure size 1440x720 with 1 Axes>"
      ]
     },
     "metadata": {
      "needs_background": "light"
     },
     "output_type": "display_data"
    }
   ],
   "source": [
    "data['parks_nearest'].plot(bins=25, kind='hist', title='parks_nearest', figsize=(20,10), grid=True)"
   ]
  },
  {
   "cell_type": "markdown",
   "metadata": {},
   "source": [
    "Большая часть имеет парк в пределах полукилометра или совсем не имеет его."
   ]
  },
  {
   "cell_type": "code",
   "execution_count": 82,
   "metadata": {},
   "outputs": [
    {
     "data": {
      "text/plain": [
       "array([[<AxesSubplot:title={'center':'week_day'}>]], dtype=object)"
      ]
     },
     "execution_count": 82,
     "metadata": {},
     "output_type": "execute_result"
    },
    {
     "data": {
      "image/png": "[encoded data removed]",
      "text/plain": [
       "<Figure size 432x288 with 1 Axes>"
      ]
     },
     "metadata": {
      "needs_background": "light"
     },
     "output_type": "display_data"
    },
    {
     "data": {
      "image/png": "[encoded data removed]",
      "text/plain": [
       "<Figure size 432x288 with 1 Axes>"
      ]
     },
     "metadata": {
      "needs_background": "light"
     },
     "output_type": "display_data"
    }
   ],
   "source": [
    "data.hist('month')\n",
    "data.hist('week_day')"
   ]
  },
  {
   "cell_type": "markdown",
   "metadata": {},
   "source": [
    "Пики объявлений приходятся на ноябрь-февраль, вторник и четверг самые загруженные дни. Меньше всего объявлений в выходные и в апреле месяце."
   ]
  },
  {
   "cell_type": "markdown",
   "metadata": {},
   "source": [
    "* **days_exposition**"
   ]
  },
  {
   "cell_type": "code",
   "execution_count": 83,
   "metadata": {},
   "outputs": [
    {
     "data": {
      "text/plain": [
       "count    23494.000000\n",
       "mean       156.409679\n",
       "std        213.199675\n",
       "min          1.000000\n",
       "25%         22.000000\n",
       "50%         73.000000\n",
       "75%        198.000000\n",
       "max       1580.000000\n",
       "Name: days_exposition, dtype: float64"
      ]
     },
     "execution_count": 83,
     "metadata": {},
     "output_type": "execute_result"
    }
   ],
   "source": [
    "data['days_exposition'].describe()"
   ]
  },
  {
   "cell_type": "code",
   "execution_count": 84,
   "metadata": {},
   "outputs": [
    {
     "data": {
      "text/plain": [
       "<AxesSubplot:title={'center':'days_exposition'}, ylabel='Frequency'>"
      ]
     },
     "execution_count": 84,
     "metadata": {},
     "output_type": "execute_result"
    },
    {
     "data": {
      "image/png": "[encoded data removed]",
      "text/plain": [
       "<Figure size 1440x720 with 1 Axes>"
      ]
     },
     "metadata": {
      "needs_background": "light"
     },
     "output_type": "display_data"
    }
   ],
   "source": [
    "data['days_exposition'].plot(kind='hist', bins=100, figsize=(20,10), title='days_exposition')"
   ]
  },
  {
   "cell_type": "code",
   "execution_count": 85,
   "metadata": {},
   "outputs": [
    {
     "name": "stdout",
     "output_type": "stream",
     "text": [
      "median:  73.0\n",
      "mean:  156.40967906699584\n"
     ]
    }
   ],
   "source": [
    "print(\"median: \", data['days_exposition'].median())\n",
    "print(\"mean: \", data['days_exposition'].mean())"
   ]
  },
  {
   "cell_type": "markdown",
   "metadata": {},
   "source": [
    "Среднее время продажи квартиры 157 дней. Медианное значение 73 дня. Но есть квартиры с очень долгим сроком продаж свыше года (максимум в 1580 дней, что свыше 4 лет). Возможно, быстрые продажи это до 73 дней, а долгие свыше 157 дней."
   ]
  },
  {
   "cell_type": "markdown",
   "metadata": {},
   "source": [
    "* **Какие факторы больше всего влияют на общую (полную) стоимость объекта?**"
   ]
  },
  {
   "cell_type": "markdown",
   "metadata": {},
   "source": [
    "* Общая площадь (total_area)"
   ]
  },
  {
   "cell_type": "code",
   "execution_count": 91,
   "metadata": {},
   "outputs": [
    {
     "data": {
      "text/plain": [
       "<AxesSubplot:xlabel='total_area'>"
      ]
     },
     "execution_count": 91,
     "metadata": {},
     "output_type": "execute_result"
    },
    {
     "data": {
      "image/png": "[encoded data removed]",
      "text/plain": [
       "<Figure size 1440x1080 with 1 Axes>"
      ]
     },
     "metadata": {
      "needs_background": "light"
     },
     "output_type": "display_data"
    }
   ],
   "source": [
    "#построим таблицу, отсортируем ее и построим график\n",
    "data.pivot_table(index='total_area', values='last_price').sort_values(by='last_price').plot(style='o', figsize=(20,15))"
   ]
  },
  {
   "cell_type": "markdown",
   "metadata": {},
   "source": [
    "Пик цены приходится на квартиру около 300 метров, самое большое количество объявлений с метражом до 100 квадратов, цена в пределах 20 млн, постепенно растет в зависимости от метража. **Вывод: есть зависимость цены от общей площади.**"
   ]
  },
  {
   "cell_type": "markdown",
   "metadata": {},
   "source": [
    "* Жилая площадь (living_area)"
   ]
  },
  {
   "cell_type": "code",
   "execution_count": 92,
   "metadata": {},
   "outputs": [
    {
     "data": {
      "text/plain": [
       "<AxesSubplot:xlabel='living_area'>"
      ]
     },
     "execution_count": 92,
     "metadata": {},
     "output_type": "execute_result"
    },
    {
     "data": {
      "image/png": "[encoded data removed]",
      "text/plain": [
       "<Figure size 1440x1080 with 1 Axes>"
      ]
     },
     "metadata": {
      "needs_background": "light"
     },
     "output_type": "display_data"
    }
   ],
   "source": [
    "#построим таблицу, отсортируем ее и построим график\n",
    "data.pivot_table(index='living_area', values='last_price').sort_values(by='last_price').plot(style='o', figsize=(20,15))"
   ]
  },
  {
   "cell_type": "markdown",
   "metadata": {},
   "source": [
    "Пик цены приходится на квартиру до 200 метров, цены постепенно растут в зависимоти от площади, есть небольшие исключения, но тенденция одна. **Вывод: есть зависимость цены от жилой площади.**"
   ]
  },
  {
   "cell_type": "markdown",
   "metadata": {},
   "source": [
    "* Площадь кухни (kitchen_area)"
   ]
  },
  {
   "cell_type": "code",
   "execution_count": 93,
   "metadata": {},
   "outputs": [
    {
     "data": {
      "text/plain": [
       "<AxesSubplot:xlabel='kitchen_area'>"
      ]
     },
     "execution_count": 93,
     "metadata": {},
     "output_type": "execute_result"
    },
    {
     "data": {
      "image/png": "[encoded data removed]",
      "text/plain": [
       "<Figure size 1440x1080 with 1 Axes>"
      ]
     },
     "metadata": {
      "needs_background": "light"
     },
     "output_type": "display_data"
    }
   ],
   "source": [
    "#построим таблицу, отсортируем ее и построим график\n",
    "data.pivot_table(index='kitchen_area', values='last_price').sort_values(by='last_price').plot(style='o', figsize=(20,15))"
   ]
  },
  {
   "cell_type": "markdown",
   "metadata": {},
   "source": [
    "Большая часть объявлений до 20 млн с площадью кухонь до 20 метров. Постепенно цена и метраж растут, некоторые разбросы есть, но тенденция наблюдается. Пик цены приходится на кухню свыше 100 метров и около 20-30 метров, на которые влияют, возможно, удаленность или другие факторы. Вывод:**Вывод: есть зависимость цены от площади кухни.**"
   ]
  },
  {
   "cell_type": "markdown",
   "metadata": {},
   "source": [
    "* Количество комнат (rooms)"
   ]
  },
  {
   "cell_type": "code",
   "execution_count": 100,
   "metadata": {},
   "outputs": [
    {
     "data": {
      "text/plain": [
       "<AxesSubplot:xlabel='rooms'>"
      ]
     },
     "execution_count": 100,
     "metadata": {},
     "output_type": "execute_result"
    },
    {
     "data": {
      "image/png": "[encoded data removed]",
      "text/plain": [
       "<Figure size 1440x1080 with 1 Axes>"
      ]
     },
     "metadata": {
      "needs_background": "light"
     },
     "output_type": "display_data"
    }
   ],
   "source": [
    "#построим таблицу, отсортируем ее и построим график\n",
    "data.pivot_table(index='rooms', values='last_price').sort_values(by='last_price').plot(kind='bar', figsize=(20,15))"
   ]
  },
  {
   "cell_type": "markdown",
   "metadata": {},
   "source": [
    "Здесь наблюдается прямая зависимость от цены. Пик цены у квартир с наибольшим количеством комнат. Чем больше комнат тем выше цены. **Вывод: есть зависимость цены от количества комнат.**"
   ]
  },
  {
   "cell_type": "markdown",
   "metadata": {},
   "source": [
    "* Этаж, на котором расположена квартира (первый, последний, другой)(floor_category)."
   ]
  },
  {
   "cell_type": "code",
   "execution_count": 107,
   "metadata": {},
   "outputs": [
    {
     "data": {
      "text/plain": [
       "<AxesSubplot:xlabel='floor_category'>"
      ]
     },
     "execution_count": 107,
     "metadata": {},
     "output_type": "execute_result"
    },
    {
     "data": {
      "image/png": "[encoded data removed]",
      "text/plain": [
       "<Figure size 432x288 with 1 Axes>"
      ]
     },
     "metadata": {
      "needs_background": "light"
     },
     "output_type": "display_data"
    }
   ],
   "source": [
    "#построим таблицу, отсортируем ее и построим график\n",
    "data.pivot_table(index='floor_category', values='last_price').sort_values(by='last_price').plot(kind='line')"
   ]
  },
  {
   "cell_type": "markdown",
   "metadata": {},
   "source": [
    "Первые этажи дешевле всех, последние в среднечках, другие этажи самые дорогие. **Вывод: есть зависимость цены от типа этажа**"
   ]
  },
  {
   "cell_type": "markdown",
   "metadata": {},
   "source": [
    "* Дата размещения (день недели, месяц, год) (week_day, month, year)"
   ]
  },
  {
   "cell_type": "code",
   "execution_count": 119,
   "metadata": {},
   "outputs": [
    {
     "data": {
      "text/plain": [
       "<AxesSubplot:xlabel='week_day'>"
      ]
     },
     "execution_count": 119,
     "metadata": {},
     "output_type": "execute_result"
    },
    {
     "data": {
      "image/png": "[encoded data removed]",
      "text/plain": [
       "<Figure size 432x288 with 1 Axes>"
      ]
     },
     "metadata": {
      "needs_background": "light"
     },
     "output_type": "display_data"
    }
   ],
   "source": [
    "#построим таблицу, отсортируем ее и построим график\n",
    "data.pivot_table(index='week_day', values='last_price').sort_values(by='last_price').plot(style='o')"
   ]
  },
  {
   "cell_type": "markdown",
   "metadata": {},
   "source": [
    "Больше всего объявлений сделано в среду. Но как таковой зависимости цены от дня недели не видно."
   ]
  },
  {
   "cell_type": "code",
   "execution_count": 121,
   "metadata": {},
   "outputs": [
    {
     "data": {
      "text/plain": [
       "<AxesSubplot:xlabel='month'>"
      ]
     },
     "execution_count": 121,
     "metadata": {},
     "output_type": "execute_result"
    },
    {
     "data": {
      "image/png": "[encoded data removed]",
      "text/plain": [
       "<Figure size 432x288 with 1 Axes>"
      ]
     },
     "metadata": {
      "needs_background": "light"
     },
     "output_type": "display_data"
    }
   ],
   "source": [
    "#построим таблицу, отсортируем ее и построим график\n",
    "data.pivot_table(index='month', values='last_price').sort_values(by='last_price').plot(kind='line')"
   ]
  },
  {
   "cell_type": "markdown",
   "metadata": {},
   "source": [
    "Зависимости цены от месяца публикации не видно."
   ]
  },
  {
   "cell_type": "code",
   "execution_count": 126,
   "metadata": {},
   "outputs": [
    {
     "data": {
      "text/plain": [
       "<AxesSubplot:xlabel='year'>"
      ]
     },
     "execution_count": 126,
     "metadata": {},
     "output_type": "execute_result"
    },
    {
     "data": {
      "image/png": "[encoded data removed]",
      "text/plain": [
       "<Figure size 432x288 with 1 Axes>"
      ]
     },
     "metadata": {
      "needs_background": "light"
     },
     "output_type": "display_data"
    }
   ],
   "source": [
    "#построим таблицу, отсортируем ее и построим график\n",
    "data.pivot_table(index='year', values='last_price').sort_values(by='last_price').plot(kind='line')"
   ]
  },
  {
   "cell_type": "markdown",
   "metadata": {},
   "source": [
    "Наблюдается постепенное снижение цены в период 2014-2015 годов, после как таковая зависимость не наблюдается. **Вывод: зависимости цены от даты размещения объвяления не наблюдается.** "
   ]
  },
  {
   "cell_type": "markdown",
   "metadata": {},
   "source": [
    "* Посчитать среднюю цену одного квадратного метра в 10 населённых пунктах с наибольшим числом объявлений."
   ]
  },
  {
   "cell_type": "code",
   "execution_count": 157,
   "metadata": {},
   "outputs": [
    {
     "data": {
      "text/html": [
       "<div>\n",
       "<style scoped>\n",
       "    .dataframe tbody tr th:only-of-type {\n",
       "        vertical-align: middle;\n",
       "    }\n",
       "\n",
       "    .dataframe tbody tr th {\n",
       "        vertical-align: top;\n",
       "    }\n",
       "\n",
       "    .dataframe thead th {\n",
       "        text-align: right;\n",
       "    }\n",
       "</style>\n",
       "<table border=\"1\" class=\"dataframe\">\n",
       "  <thead>\n",
       "    <tr style=\"text-align: right;\">\n",
       "      <th></th>\n",
       "      <th>expo</th>\n",
       "      <th>square_mean</th>\n",
       "    </tr>\n",
       "    <tr>\n",
       "      <th>locality_name</th>\n",
       "      <th></th>\n",
       "      <th></th>\n",
       "    </tr>\n",
       "  </thead>\n",
       "  <tbody>\n",
       "    <tr>\n",
       "      <th>санкт-петербург</th>\n",
       "      <td>15616</td>\n",
       "      <td>113360.970047</td>\n",
       "    </tr>\n",
       "    <tr>\n",
       "      <th>поселок мурино</th>\n",
       "      <td>589</td>\n",
       "      <td>86061.676978</td>\n",
       "    </tr>\n",
       "    <tr>\n",
       "      <th>деревня кудрово</th>\n",
       "      <td>471</td>\n",
       "      <td>95326.179108</td>\n",
       "    </tr>\n",
       "    <tr>\n",
       "      <th>поселок шушары</th>\n",
       "      <td>439</td>\n",
       "      <td>78703.263349</td>\n",
       "    </tr>\n",
       "    <tr>\n",
       "      <th>всеволожск</th>\n",
       "      <td>396</td>\n",
       "      <td>68670.459621</td>\n",
       "    </tr>\n",
       "    <tr>\n",
       "      <th>пушкин</th>\n",
       "      <td>364</td>\n",
       "      <td>103054.545000</td>\n",
       "    </tr>\n",
       "    <tr>\n",
       "      <th>колпино</th>\n",
       "      <td>337</td>\n",
       "      <td>75443.972849</td>\n",
       "    </tr>\n",
       "    <tr>\n",
       "      <th>поселок парголово</th>\n",
       "      <td>326</td>\n",
       "      <td>90205.423374</td>\n",
       "    </tr>\n",
       "    <tr>\n",
       "      <th>гатчина</th>\n",
       "      <td>307</td>\n",
       "      <td>68746.146515</td>\n",
       "    </tr>\n",
       "    <tr>\n",
       "      <th>выборг</th>\n",
       "      <td>234</td>\n",
       "      <td>58190.128162</td>\n",
       "    </tr>\n",
       "  </tbody>\n",
       "</table>\n",
       "</div>"
      ],
      "text/plain": [
       "                    expo    square_mean\n",
       "locality_name                          \n",
       "санкт-петербург    15616  113360.970047\n",
       "поселок мурино       589   86061.676978\n",
       "деревня кудрово      471   95326.179108\n",
       "поселок шушары       439   78703.263349\n",
       "всеволожск           396   68670.459621\n",
       "пушкин               364  103054.545000\n",
       "колпино              337   75443.972849\n",
       "поселок парголово    326   90205.423374\n",
       "гатчина              307   68746.146515\n",
       "выборг               234   58190.128162"
      ]
     },
     "execution_count": 157,
     "metadata": {},
     "output_type": "execute_result"
    }
   ],
   "source": [
    "#топ 10 городов с наибольшим количеством объявлений и средняя цена за 1кв.метр по местности\n",
    "data.groupby('locality_name')\\\n",
    ".agg(expo=('locality_name','count'), square_mean=('price_squaremetre','mean'))\\\n",
    ".sort_values(by='expo', ascending=False). head(10)"
   ]
  },
  {
   "cell_type": "markdown",
   "metadata": {},
   "source": [
    "Наибольшее количество объявлений из Санкт-Петербурга в количестве 15616 штук, замыкает список  город Выборг с 234 объявлениями."
   ]
  },
  {
   "cell_type": "code",
   "execution_count": 234,
   "metadata": {},
   "outputs": [
    {
     "data": {
      "text/html": [
       "<div>\n",
       "<style scoped>\n",
       "    .dataframe tbody tr th:only-of-type {\n",
       "        vertical-align: middle;\n",
       "    }\n",
       "\n",
       "    .dataframe tbody tr th {\n",
       "        vertical-align: top;\n",
       "    }\n",
       "\n",
       "    .dataframe thead th {\n",
       "        text-align: right;\n",
       "    }\n",
       "</style>\n",
       "<table border=\"1\" class=\"dataframe\">\n",
       "  <thead>\n",
       "    <tr style=\"text-align: right;\">\n",
       "      <th></th>\n",
       "      <th>expo</th>\n",
       "      <th>square_mean</th>\n",
       "    </tr>\n",
       "    <tr>\n",
       "      <th>locality_name</th>\n",
       "      <th></th>\n",
       "      <th></th>\n",
       "    </tr>\n",
       "  </thead>\n",
       "  <tbody>\n",
       "    <tr>\n",
       "      <th>санкт-петербург</th>\n",
       "      <td>15616</td>\n",
       "      <td>113360.970047</td>\n",
       "    </tr>\n",
       "    <tr>\n",
       "      <th>пушкин</th>\n",
       "      <td>364</td>\n",
       "      <td>103054.545000</td>\n",
       "    </tr>\n",
       "    <tr>\n",
       "      <th>деревня кудрово</th>\n",
       "      <td>471</td>\n",
       "      <td>95326.179108</td>\n",
       "    </tr>\n",
       "    <tr>\n",
       "      <th>поселок парголово</th>\n",
       "      <td>326</td>\n",
       "      <td>90205.423374</td>\n",
       "    </tr>\n",
       "    <tr>\n",
       "      <th>поселок мурино</th>\n",
       "      <td>589</td>\n",
       "      <td>86061.676978</td>\n",
       "    </tr>\n",
       "    <tr>\n",
       "      <th>поселок шушары</th>\n",
       "      <td>439</td>\n",
       "      <td>78703.263349</td>\n",
       "    </tr>\n",
       "    <tr>\n",
       "      <th>колпино</th>\n",
       "      <td>337</td>\n",
       "      <td>75443.972849</td>\n",
       "    </tr>\n",
       "    <tr>\n",
       "      <th>гатчина</th>\n",
       "      <td>307</td>\n",
       "      <td>68746.146515</td>\n",
       "    </tr>\n",
       "    <tr>\n",
       "      <th>всеволожск</th>\n",
       "      <td>396</td>\n",
       "      <td>68670.459621</td>\n",
       "    </tr>\n",
       "    <tr>\n",
       "      <th>выборг</th>\n",
       "      <td>234</td>\n",
       "      <td>58190.128162</td>\n",
       "    </tr>\n",
       "  </tbody>\n",
       "</table>\n",
       "</div>"
      ],
      "text/plain": [
       "                    expo    square_mean\n",
       "locality_name                          \n",
       "санкт-петербург    15616  113360.970047\n",
       "пушкин               364  103054.545000\n",
       "деревня кудрово      471   95326.179108\n",
       "поселок парголово    326   90205.423374\n",
       "поселок мурино       589   86061.676978\n",
       "поселок шушары       439   78703.263349\n",
       "колпино              337   75443.972849\n",
       "гатчина              307   68746.146515\n",
       "всеволожск           396   68670.459621\n",
       "выборг               234   58190.128162"
      ]
     },
     "execution_count": 234,
     "metadata": {},
     "output_type": "execute_result"
    }
   ],
   "source": [
    "#топ 10 городов с наибольшим количеством объявлений\n",
    "top_10 = data.groupby('locality_name')\\\n",
    ".agg(expo=('locality_name','count'), square_mean=('price_squaremetre','mean'))\\\n",
    ".sort_values(by='expo', ascending=False). head(10)\n",
    "\n",
    "#сортировка по цене за 1 кв.м. по убыванию в топ-10 по объявлениям\n",
    "top_10.sort_values(by='square_mean', ascending=False)"
   ]
  },
  {
   "cell_type": "markdown",
   "metadata": {},
   "source": [
    "Наибольшая средняя цена за 1 кв.м в Санкт-Петербурге в топ-10 по объявлениям, в городе Выборг наименьшая средняя цена за 1 кв.м"
   ]
  },
  {
   "cell_type": "markdown",
   "metadata": {},
   "source": [
    "* Квартиры в Санкт-Петербурге со средней ценой каждого километра."
   ]
  },
  {
   "cell_type": "code",
   "execution_count": 230,
   "metadata": {},
   "outputs": [
    {
     "data": {
      "text/plain": [
       "<AxesSubplot:xlabel='cityCenters_nearest_km'>"
      ]
     },
     "execution_count": 230,
     "metadata": {},
     "output_type": "execute_result"
    },
    {
     "data": {
      "image/png": "[encoded data removed]",
      "text/plain": [
       "<Figure size 432x288 with 1 Axes>"
      ]
     },
     "metadata": {
      "needs_background": "light"
     },
     "output_type": "display_data"
    }
   ],
   "source": [
    "data[data['locality_name'] == 'санкт-петербург'].\\\n",
    "     pivot_table(index='cityCenters_nearest_km', values='last_price', aggfunc='mean').plot(kind='line')"
   ]
  },
  {
   "cell_type": "markdown",
   "metadata": {},
   "source": [
    "Чем ближе к центру города тем цена выше. Чем дальше тем ниже."
   ]
  },
  {
   "cell_type": "markdown",
   "metadata": {},
   "source": [
    "### Общий вывод"
   ]
  },
  {
   "cell_type": "markdown",
   "metadata": {},
   "source": [
    "В процессе исследования данных были выявлены следующие особенности:\n",
    "* больше всего объявлений с общей площадью квартир до 50 кв.м.\n",
    "* больше всего объявлений с кухней до 10 кв.м.\n",
    "* больше всего объявлений от 3 до 6 млн.р.\n",
    "* чаще всего продают квартиры на 1, 2 и 3 этажах по убыванию\n",
    "* больше всего продается квартир со стандартной высотой потолков 2,5-3,2 м.\n",
    "* больше всего объявлений о продаже квартир с 1-7 этаж.\n",
    "* чаще всего встречаются объявления о продаже с типом этажа \"другой\"\n",
    "* больше всего объявлений в 5 этажных домах\n",
    "* больше всего объявлений квартир в 10-15 км от центра города.\n",
    "* больше всего продаж вне аэропортов, 20-23 км.\n",
    "* чаще всего есть парк рядом с квартирой (около 500м)\n",
    "* больше всего объявлений в месяцы ноябрь-февраль по вторникам и четвергам, а меньше всего в выходные, с февраля по май наблюдается спад объявлений\n",
    "* среднее время продаж находится в 157 днях. Быстрые продажи до 73 дней, долгие после 157 дней, самые долгие доходят до 4 лет\n",
    "\n",
    "Было произведено исследование на предмет зависимости цены объекта недвижимости от разных факторов. \n",
    "\n",
    "Была выявлена зависимость от:\n",
    "* общей площади квартиры\n",
    "* жилой пощади квартиры\n",
    "* площади кухни\n",
    "* количества комнат\n",
    "* от типа этажа\n",
    "\n",
    "Зависимость от **дня, месяца и года размещения объявлений не найдена**.\n",
    "\n",
    "Так же в ходе исследования был выделен Топ-10 городов по количеству объявлений. **Лидером стал *Санкт-Петербург (15616 штук)*, внизу *Выборг (234)***. \n",
    "\n",
    "**Лидером среди цен за 1 кв.метр по топ-10 так же стал *Санкт-Петербург (113360,97)*, наименьшая цена так же в *Выборге (58190,128162)***.\n",
    "\n",
    "Так же было определено, что **чем ближе объект недвижимости к центру города Санкт-Петербург, тем он дороже**."
   ]
  }
 ],
 "metadata": {
  "ExecuteTimeLog": [
   {
    "duration": 1014,
    "start_time": "2022-12-16T17:18:57.421Z"
   },
   {
    "duration": 84,
    "start_time": "2022-12-16T17:19:11.403Z"
   },
   {
    "duration": 91,
    "start_time": "2022-12-16T17:20:24.985Z"
   },
   {
    "duration": 794,
    "start_time": "2022-12-19T09:29:52.493Z"
   },
   {
    "duration": 329,
    "start_time": "2022-12-19T09:30:41.086Z"
   },
   {
    "duration": 127,
    "start_time": "2022-12-19T09:31:02.446Z"
   },
   {
    "duration": 323,
    "start_time": "2022-12-19T09:31:16.811Z"
   },
   {
    "duration": 1447,
    "start_time": "2022-12-19T09:31:29.111Z"
   },
   {
    "duration": 1411,
    "start_time": "2022-12-19T09:31:57.145Z"
   },
   {
    "duration": 114,
    "start_time": "2022-12-19T09:33:24.983Z"
   },
   {
    "duration": 889,
    "start_time": "2022-12-19T09:38:24.102Z"
   },
   {
    "duration": 118,
    "start_time": "2022-12-19T09:39:13.082Z"
   },
   {
    "duration": 132,
    "start_time": "2022-12-19T09:39:50.995Z"
   },
   {
    "duration": 168,
    "start_time": "2022-12-19T09:41:41.027Z"
   },
   {
    "duration": 184,
    "start_time": "2022-12-19T09:41:49.967Z"
   },
   {
    "duration": 171,
    "start_time": "2022-12-19T09:42:03.662Z"
   },
   {
    "duration": 179,
    "start_time": "2022-12-19T09:42:12.762Z"
   },
   {
    "duration": 153,
    "start_time": "2022-12-19T09:42:28.643Z"
   },
   {
    "duration": 161,
    "start_time": "2022-12-19T09:42:41.247Z"
   },
   {
    "duration": 122,
    "start_time": "2022-12-19T12:28:12.956Z"
   },
   {
    "duration": 109,
    "start_time": "2022-12-19T12:28:22.700Z"
   },
   {
    "duration": 106,
    "start_time": "2022-12-19T12:28:36.226Z"
   },
   {
    "duration": 117,
    "start_time": "2022-12-19T12:28:48.585Z"
   },
   {
    "duration": 129,
    "start_time": "2022-12-19T12:29:43.415Z"
   },
   {
    "duration": 107,
    "start_time": "2022-12-19T12:31:28.882Z"
   },
   {
    "duration": 22,
    "start_time": "2022-12-19T12:45:50.354Z"
   },
   {
    "duration": 528,
    "start_time": "2022-12-19T12:55:27.039Z"
   },
   {
    "duration": 76,
    "start_time": "2022-12-19T12:57:31.458Z"
   },
   {
    "duration": 65,
    "start_time": "2022-12-19T13:07:30.741Z"
   },
   {
    "duration": 7,
    "start_time": "2022-12-19T13:17:58.104Z"
   },
   {
    "duration": 7,
    "start_time": "2022-12-19T13:18:53.055Z"
   },
   {
    "duration": 7,
    "start_time": "2022-12-19T13:21:21.143Z"
   },
   {
    "duration": 8,
    "start_time": "2022-12-19T13:23:37.118Z"
   },
   {
    "duration": 10,
    "start_time": "2022-12-19T13:23:44.230Z"
   },
   {
    "duration": 9,
    "start_time": "2022-12-19T13:26:14.015Z"
   },
   {
    "duration": 11,
    "start_time": "2022-12-19T13:26:29.166Z"
   },
   {
    "duration": 6,
    "start_time": "2022-12-19T13:26:43.355Z"
   },
   {
    "duration": 7,
    "start_time": "2022-12-19T13:27:01.275Z"
   },
   {
    "duration": 73,
    "start_time": "2022-12-19T13:28:36.149Z"
   },
   {
    "duration": 6,
    "start_time": "2022-12-19T13:28:47.268Z"
   },
   {
    "duration": 4,
    "start_time": "2022-12-19T13:28:59.550Z"
   },
   {
    "duration": 5,
    "start_time": "2022-12-19T13:29:56.357Z"
   },
   {
    "duration": 90,
    "start_time": "2022-12-19T13:40:30.750Z"
   },
   {
    "duration": 308,
    "start_time": "2022-12-19T13:44:00.936Z"
   },
   {
    "duration": 38,
    "start_time": "2022-12-19T13:45:06.039Z"
   },
   {
    "duration": 325,
    "start_time": "2022-12-19T13:45:14.649Z"
   },
   {
    "duration": 74,
    "start_time": "2022-12-19T13:45:40.050Z"
   },
   {
    "duration": 98,
    "start_time": "2022-12-19T13:45:46.730Z"
   },
   {
    "duration": 12,
    "start_time": "2022-12-19T13:49:22.791Z"
   },
   {
    "duration": 7,
    "start_time": "2022-12-19T13:51:04.997Z"
   },
   {
    "duration": 5,
    "start_time": "2022-12-19T13:53:12.675Z"
   },
   {
    "duration": 4,
    "start_time": "2022-12-19T13:58:21.682Z"
   },
   {
    "duration": 70,
    "start_time": "2022-12-19T14:00:08.214Z"
   },
   {
    "duration": 25,
    "start_time": "2022-12-19T14:00:18.480Z"
   },
   {
    "duration": 24,
    "start_time": "2022-12-19T14:00:36.873Z"
   },
   {
    "duration": 27,
    "start_time": "2022-12-19T14:00:49.016Z"
   },
   {
    "duration": 27,
    "start_time": "2022-12-19T14:01:00.834Z"
   },
   {
    "duration": 9,
    "start_time": "2022-12-19T14:01:20.598Z"
   },
   {
    "duration": 14,
    "start_time": "2022-12-19T14:01:43.697Z"
   },
   {
    "duration": 6,
    "start_time": "2022-12-19T14:03:26.721Z"
   },
   {
    "duration": 10,
    "start_time": "2022-12-19T14:05:55.247Z"
   },
   {
    "duration": 4,
    "start_time": "2022-12-19T14:06:46.681Z"
   },
   {
    "duration": 7,
    "start_time": "2022-12-19T14:08:13.571Z"
   },
   {
    "duration": 6,
    "start_time": "2022-12-19T14:08:45.884Z"
   },
   {
    "duration": 4,
    "start_time": "2022-12-19T14:09:23.021Z"
   },
   {
    "duration": 6,
    "start_time": "2022-12-19T14:34:26.305Z"
   },
   {
    "duration": 5,
    "start_time": "2022-12-19T14:34:39.992Z"
   },
   {
    "duration": 5,
    "start_time": "2022-12-19T14:34:57.108Z"
   },
   {
    "duration": 5,
    "start_time": "2022-12-19T14:35:17.241Z"
   },
   {
    "duration": 5,
    "start_time": "2022-12-19T14:35:25.802Z"
   },
   {
    "duration": 5,
    "start_time": "2022-12-19T14:36:45.475Z"
   },
   {
    "duration": 8,
    "start_time": "2022-12-19T14:39:15.959Z"
   },
   {
    "duration": 6,
    "start_time": "2022-12-19T14:39:52.491Z"
   },
   {
    "duration": 11,
    "start_time": "2022-12-19T14:40:15.688Z"
   },
   {
    "duration": 8,
    "start_time": "2022-12-19T14:40:22.275Z"
   },
   {
    "duration": 9,
    "start_time": "2022-12-19T14:40:33.806Z"
   },
   {
    "duration": 5,
    "start_time": "2022-12-19T14:40:40.588Z"
   },
   {
    "duration": 5,
    "start_time": "2022-12-19T14:43:10.451Z"
   },
   {
    "duration": 7,
    "start_time": "2022-12-19T14:44:07.057Z"
   },
   {
    "duration": 6,
    "start_time": "2022-12-19T14:44:25.818Z"
   },
   {
    "duration": 8,
    "start_time": "2022-12-19T14:56:01.663Z"
   },
   {
    "duration": 5,
    "start_time": "2022-12-19T14:56:39.707Z"
   },
   {
    "duration": 6,
    "start_time": "2022-12-19T14:56:55.271Z"
   },
   {
    "duration": 5,
    "start_time": "2022-12-19T14:57:14.366Z"
   },
   {
    "duration": 8,
    "start_time": "2022-12-19T14:57:41.904Z"
   },
   {
    "duration": 25,
    "start_time": "2022-12-19T14:58:01.060Z"
   },
   {
    "duration": 5,
    "start_time": "2022-12-19T14:58:13.577Z"
   },
   {
    "duration": 5,
    "start_time": "2022-12-19T15:02:08.328Z"
   },
   {
    "duration": 7,
    "start_time": "2022-12-19T15:02:33.959Z"
   },
   {
    "duration": 28,
    "start_time": "2022-12-19T15:02:47.701Z"
   },
   {
    "duration": 7,
    "start_time": "2022-12-19T15:04:30.562Z"
   },
   {
    "duration": 8,
    "start_time": "2022-12-19T15:04:51.608Z"
   },
   {
    "duration": 7,
    "start_time": "2022-12-19T15:04:54.827Z"
   },
   {
    "duration": 5,
    "start_time": "2022-12-19T15:05:48.957Z"
   },
   {
    "duration": 7,
    "start_time": "2022-12-19T15:08:14.950Z"
   },
   {
    "duration": 6,
    "start_time": "2022-12-19T15:09:03.997Z"
   },
   {
    "duration": 7,
    "start_time": "2022-12-19T15:11:51.253Z"
   },
   {
    "duration": 16,
    "start_time": "2022-12-19T15:12:15.623Z"
   },
   {
    "duration": 11,
    "start_time": "2022-12-19T15:12:41.280Z"
   },
   {
    "duration": 7,
    "start_time": "2022-12-19T15:13:43.639Z"
   },
   {
    "duration": 6,
    "start_time": "2022-12-19T15:14:01.371Z"
   },
   {
    "duration": 7,
    "start_time": "2022-12-19T15:15:05.887Z"
   },
   {
    "duration": 15,
    "start_time": "2022-12-19T15:15:29.529Z"
   },
   {
    "duration": 8,
    "start_time": "2022-12-19T15:15:42.948Z"
   },
   {
    "duration": 7,
    "start_time": "2022-12-19T15:15:51.868Z"
   },
   {
    "duration": 5,
    "start_time": "2022-12-19T15:18:54.636Z"
   },
   {
    "duration": 7,
    "start_time": "2022-12-19T15:19:36.578Z"
   },
   {
    "duration": 8,
    "start_time": "2022-12-19T15:20:05.580Z"
   },
   {
    "duration": 5,
    "start_time": "2022-12-19T15:20:15.792Z"
   },
   {
    "duration": 10,
    "start_time": "2022-12-19T15:21:00.194Z"
   },
   {
    "duration": 6,
    "start_time": "2022-12-19T15:21:16.219Z"
   },
   {
    "duration": 9,
    "start_time": "2022-12-19T15:21:42.051Z"
   },
   {
    "duration": 7,
    "start_time": "2022-12-19T15:21:59.079Z"
   },
   {
    "duration": 5,
    "start_time": "2022-12-19T15:22:35.322Z"
   },
   {
    "duration": 6,
    "start_time": "2022-12-19T15:22:55.329Z"
   },
   {
    "duration": 5,
    "start_time": "2022-12-19T15:23:20.971Z"
   },
   {
    "duration": 8,
    "start_time": "2022-12-19T15:23:56.209Z"
   },
   {
    "duration": 7,
    "start_time": "2022-12-19T15:24:04.365Z"
   },
   {
    "duration": 8,
    "start_time": "2022-12-19T15:25:14.997Z"
   },
   {
    "duration": 7,
    "start_time": "2022-12-19T15:25:43.643Z"
   },
   {
    "duration": 8,
    "start_time": "2022-12-19T15:25:48.833Z"
   },
   {
    "duration": 9,
    "start_time": "2022-12-19T15:27:12.225Z"
   },
   {
    "duration": 10,
    "start_time": "2022-12-19T15:27:50.650Z"
   },
   {
    "duration": 11,
    "start_time": "2022-12-19T15:28:17.311Z"
   },
   {
    "duration": 13,
    "start_time": "2022-12-19T15:28:42.047Z"
   },
   {
    "duration": 36,
    "start_time": "2022-12-19T15:29:04.918Z"
   },
   {
    "duration": 12,
    "start_time": "2022-12-19T15:29:26.918Z"
   },
   {
    "duration": 10,
    "start_time": "2022-12-19T15:30:27.640Z"
   },
   {
    "duration": 8,
    "start_time": "2022-12-19T15:30:41.042Z"
   },
   {
    "duration": 6,
    "start_time": "2022-12-19T15:31:02.258Z"
   },
   {
    "duration": 7,
    "start_time": "2022-12-19T15:31:31.796Z"
   },
   {
    "duration": 5,
    "start_time": "2022-12-19T15:31:47.150Z"
   },
   {
    "duration": 7,
    "start_time": "2022-12-19T15:32:09.819Z"
   },
   {
    "duration": 8,
    "start_time": "2022-12-19T15:32:34.466Z"
   },
   {
    "duration": 5,
    "start_time": "2022-12-19T15:33:24.470Z"
   },
   {
    "duration": 49,
    "start_time": "2022-12-20T14:12:26.392Z"
   },
   {
    "duration": 722,
    "start_time": "2022-12-20T14:12:37.221Z"
   },
   {
    "duration": 31,
    "start_time": "2022-12-20T14:12:37.946Z"
   },
   {
    "duration": 965,
    "start_time": "2022-12-20T14:12:37.979Z"
   },
   {
    "duration": 50,
    "start_time": "2022-12-20T14:12:38.947Z"
   },
   {
    "duration": 12,
    "start_time": "2022-12-20T14:12:38.999Z"
   },
   {
    "duration": 29,
    "start_time": "2022-12-20T14:12:39.013Z"
   },
   {
    "duration": 11,
    "start_time": "2022-12-20T14:12:39.044Z"
   },
   {
    "duration": 15,
    "start_time": "2022-12-20T14:12:39.057Z"
   },
   {
    "duration": 26,
    "start_time": "2022-12-20T14:12:39.074Z"
   },
   {
    "duration": 20,
    "start_time": "2022-12-20T14:12:39.104Z"
   },
   {
    "duration": 35,
    "start_time": "2022-12-20T14:12:39.126Z"
   },
   {
    "duration": 8,
    "start_time": "2022-12-20T14:12:39.163Z"
   },
   {
    "duration": 12,
    "start_time": "2022-12-20T14:12:39.173Z"
   },
   {
    "duration": 6,
    "start_time": "2022-12-20T14:12:39.187Z"
   },
   {
    "duration": 22,
    "start_time": "2022-12-20T14:12:39.195Z"
   },
   {
    "duration": 11,
    "start_time": "2022-12-20T14:12:39.219Z"
   },
   {
    "duration": 6,
    "start_time": "2022-12-20T14:12:39.238Z"
   },
   {
    "duration": 25,
    "start_time": "2022-12-20T14:12:39.246Z"
   },
   {
    "duration": 7,
    "start_time": "2022-12-20T14:12:39.273Z"
   },
   {
    "duration": 12,
    "start_time": "2022-12-20T14:12:39.282Z"
   },
   {
    "duration": 7,
    "start_time": "2022-12-20T14:12:39.295Z"
   },
   {
    "duration": 36,
    "start_time": "2022-12-20T14:12:39.304Z"
   },
   {
    "duration": 8,
    "start_time": "2022-12-20T14:12:39.342Z"
   },
   {
    "duration": 7,
    "start_time": "2022-12-20T14:12:39.353Z"
   },
   {
    "duration": 18,
    "start_time": "2022-12-20T14:12:39.363Z"
   },
   {
    "duration": 7,
    "start_time": "2022-12-20T14:12:39.383Z"
   },
   {
    "duration": 47,
    "start_time": "2022-12-20T14:12:39.392Z"
   },
   {
    "duration": 8,
    "start_time": "2022-12-20T14:12:39.443Z"
   },
   {
    "duration": 15,
    "start_time": "2022-12-20T14:12:39.454Z"
   },
   {
    "duration": 6,
    "start_time": "2022-12-20T14:12:39.471Z"
   },
   {
    "duration": 9,
    "start_time": "2022-12-20T14:12:39.479Z"
   },
   {
    "duration": 52,
    "start_time": "2022-12-20T14:12:39.490Z"
   },
   {
    "duration": 5,
    "start_time": "2022-12-20T14:12:39.545Z"
   },
   {
    "duration": 9,
    "start_time": "2022-12-20T14:12:39.552Z"
   },
   {
    "duration": 15,
    "start_time": "2022-12-20T14:12:39.562Z"
   },
   {
    "duration": 8,
    "start_time": "2022-12-20T14:12:39.580Z"
   },
   {
    "duration": 16,
    "start_time": "2022-12-20T14:12:39.590Z"
   },
   {
    "duration": 31,
    "start_time": "2022-12-20T14:12:39.609Z"
   },
   {
    "duration": 11,
    "start_time": "2022-12-20T14:12:39.642Z"
   },
   {
    "duration": 6,
    "start_time": "2022-12-20T14:12:39.655Z"
   },
   {
    "duration": 7,
    "start_time": "2022-12-20T14:12:39.663Z"
   },
   {
    "duration": 6,
    "start_time": "2022-12-20T14:12:39.672Z"
   },
   {
    "duration": 15,
    "start_time": "2022-12-20T14:12:39.680Z"
   },
   {
    "duration": 44,
    "start_time": "2022-12-20T14:12:39.698Z"
   },
   {
    "duration": 10,
    "start_time": "2022-12-20T14:12:39.744Z"
   },
   {
    "duration": 8,
    "start_time": "2022-12-20T14:12:39.756Z"
   },
   {
    "duration": 13,
    "start_time": "2022-12-20T14:12:39.766Z"
   },
   {
    "duration": 11,
    "start_time": "2022-12-20T14:22:58.753Z"
   },
   {
    "duration": 74,
    "start_time": "2022-12-20T14:37:36.488Z"
   },
   {
    "duration": 20,
    "start_time": "2022-12-20T14:37:52.986Z"
   },
   {
    "duration": 10,
    "start_time": "2022-12-20T14:40:48.901Z"
   },
   {
    "duration": 7,
    "start_time": "2022-12-20T14:41:47.289Z"
   },
   {
    "duration": 7,
    "start_time": "2022-12-20T14:41:57.333Z"
   },
   {
    "duration": 11,
    "start_time": "2022-12-20T14:42:43.481Z"
   },
   {
    "duration": 11,
    "start_time": "2022-12-20T14:43:08.331Z"
   },
   {
    "duration": 28,
    "start_time": "2022-12-20T14:47:25.153Z"
   },
   {
    "duration": 19,
    "start_time": "2022-12-20T14:47:42.227Z"
   },
   {
    "duration": 27,
    "start_time": "2022-12-20T14:49:18.386Z"
   },
   {
    "duration": 19,
    "start_time": "2022-12-20T14:50:17.844Z"
   },
   {
    "duration": 47,
    "start_time": "2022-12-20T14:54:29.577Z"
   },
   {
    "duration": 42,
    "start_time": "2022-12-20T14:54:59.409Z"
   },
   {
    "duration": 1139,
    "start_time": "2022-12-20T14:57:17.515Z"
   },
   {
    "duration": 1178,
    "start_time": "2022-12-20T14:57:34.067Z"
   },
   {
    "duration": 25,
    "start_time": "2022-12-20T14:58:23.895Z"
   },
   {
    "duration": 6,
    "start_time": "2022-12-20T14:58:29.540Z"
   },
   {
    "duration": 32,
    "start_time": "2022-12-20T14:58:40.120Z"
   },
   {
    "duration": 78,
    "start_time": "2022-12-20T14:59:05.603Z"
   },
   {
    "duration": 9,
    "start_time": "2022-12-20T14:59:11.587Z"
   },
   {
    "duration": 9,
    "start_time": "2022-12-20T14:59:18.447Z"
   },
   {
    "duration": 15,
    "start_time": "2022-12-20T14:59:27.075Z"
   },
   {
    "duration": 34,
    "start_time": "2022-12-20T14:59:36.753Z"
   },
   {
    "duration": 4,
    "start_time": "2022-12-20T15:04:55.011Z"
   },
   {
    "duration": 9,
    "start_time": "2022-12-20T15:05:10.862Z"
   },
   {
    "duration": 48,
    "start_time": "2022-12-20T15:20:49.500Z"
   },
   {
    "duration": 777,
    "start_time": "2022-12-20T15:21:27.656Z"
   },
   {
    "duration": 26,
    "start_time": "2022-12-20T15:21:28.435Z"
   },
   {
    "duration": 891,
    "start_time": "2022-12-20T15:21:28.462Z"
   },
   {
    "duration": 31,
    "start_time": "2022-12-20T15:21:29.356Z"
   },
   {
    "duration": 7,
    "start_time": "2022-12-20T15:21:29.389Z"
   },
   {
    "duration": 18,
    "start_time": "2022-12-20T15:21:29.398Z"
   },
   {
    "duration": 7,
    "start_time": "2022-12-20T15:21:29.417Z"
   },
   {
    "duration": 9,
    "start_time": "2022-12-20T15:21:29.426Z"
   },
   {
    "duration": 14,
    "start_time": "2022-12-20T15:21:29.437Z"
   },
   {
    "duration": 25,
    "start_time": "2022-12-20T15:21:29.453Z"
   },
   {
    "duration": 12,
    "start_time": "2022-12-20T15:21:29.480Z"
   },
   {
    "duration": 6,
    "start_time": "2022-12-20T15:21:29.494Z"
   },
   {
    "duration": 9,
    "start_time": "2022-12-20T15:21:29.501Z"
   },
   {
    "duration": 9,
    "start_time": "2022-12-20T15:21:29.511Z"
   },
   {
    "duration": 20,
    "start_time": "2022-12-20T15:21:29.521Z"
   },
   {
    "duration": 10,
    "start_time": "2022-12-20T15:21:29.543Z"
   },
   {
    "duration": 25,
    "start_time": "2022-12-20T15:21:29.555Z"
   },
   {
    "duration": 6,
    "start_time": "2022-12-20T15:21:29.581Z"
   },
   {
    "duration": 10,
    "start_time": "2022-12-20T15:21:29.589Z"
   },
   {
    "duration": 9,
    "start_time": "2022-12-20T15:21:29.601Z"
   },
   {
    "duration": 12,
    "start_time": "2022-12-20T15:21:29.611Z"
   },
   {
    "duration": 10,
    "start_time": "2022-12-20T15:21:29.625Z"
   },
   {
    "duration": 17,
    "start_time": "2022-12-20T15:21:29.637Z"
   },
   {
    "duration": 4,
    "start_time": "2022-12-20T15:21:29.656Z"
   },
   {
    "duration": 7,
    "start_time": "2022-12-20T15:21:29.678Z"
   },
   {
    "duration": 7,
    "start_time": "2022-12-20T15:21:33.189Z"
   },
   {
    "duration": 8,
    "start_time": "2022-12-20T15:22:08.846Z"
   },
   {
    "duration": 62,
    "start_time": "2022-12-20T15:23:53.377Z"
   },
   {
    "duration": 12,
    "start_time": "2022-12-20T15:24:08.252Z"
   },
   {
    "duration": 6,
    "start_time": "2022-12-20T15:24:18.953Z"
   },
   {
    "duration": 8,
    "start_time": "2022-12-20T15:26:18.812Z"
   },
   {
    "duration": 7,
    "start_time": "2022-12-20T15:26:47.713Z"
   },
   {
    "duration": 20,
    "start_time": "2022-12-20T15:33:55.727Z"
   },
   {
    "duration": 23,
    "start_time": "2022-12-20T15:43:56.706Z"
   },
   {
    "duration": 52,
    "start_time": "2022-12-20T15:46:17.351Z"
   },
   {
    "duration": 722,
    "start_time": "2022-12-20T15:46:26.243Z"
   },
   {
    "duration": 24,
    "start_time": "2022-12-20T15:46:26.966Z"
   },
   {
    "duration": 699,
    "start_time": "2022-12-20T15:46:26.991Z"
   },
   {
    "duration": 24,
    "start_time": "2022-12-20T15:46:27.691Z"
   },
   {
    "duration": 5,
    "start_time": "2022-12-20T15:46:27.717Z"
   },
   {
    "duration": 15,
    "start_time": "2022-12-20T15:46:27.724Z"
   },
   {
    "duration": 10,
    "start_time": "2022-12-20T15:46:27.740Z"
   },
   {
    "duration": 27,
    "start_time": "2022-12-20T15:46:27.752Z"
   },
   {
    "duration": 10,
    "start_time": "2022-12-20T15:46:27.781Z"
   },
   {
    "duration": 9,
    "start_time": "2022-12-20T15:46:27.794Z"
   },
   {
    "duration": 9,
    "start_time": "2022-12-20T15:46:27.805Z"
   },
   {
    "duration": 12,
    "start_time": "2022-12-20T15:46:27.815Z"
   },
   {
    "duration": 11,
    "start_time": "2022-12-20T15:46:27.829Z"
   },
   {
    "duration": 46,
    "start_time": "2022-12-20T15:46:27.842Z"
   },
   {
    "duration": 12,
    "start_time": "2022-12-20T15:46:27.890Z"
   },
   {
    "duration": 13,
    "start_time": "2022-12-20T15:46:27.904Z"
   },
   {
    "duration": 15,
    "start_time": "2022-12-20T15:46:27.919Z"
   },
   {
    "duration": 8,
    "start_time": "2022-12-20T15:46:27.936Z"
   },
   {
    "duration": 22,
    "start_time": "2022-12-20T15:46:27.945Z"
   },
   {
    "duration": 18,
    "start_time": "2022-12-20T15:46:27.969Z"
   },
   {
    "duration": 8,
    "start_time": "2022-12-20T15:46:27.988Z"
   },
   {
    "duration": 20,
    "start_time": "2022-12-20T15:46:27.997Z"
   },
   {
    "duration": 11,
    "start_time": "2022-12-20T15:46:28.019Z"
   },
   {
    "duration": 35,
    "start_time": "2022-12-20T15:46:28.032Z"
   },
   {
    "duration": 14,
    "start_time": "2022-12-20T15:46:28.069Z"
   },
   {
    "duration": 19,
    "start_time": "2022-12-20T15:46:28.084Z"
   },
   {
    "duration": 10,
    "start_time": "2022-12-20T15:46:28.105Z"
   },
   {
    "duration": 18,
    "start_time": "2022-12-20T15:46:28.118Z"
   },
   {
    "duration": 5,
    "start_time": "2022-12-20T15:46:28.138Z"
   },
   {
    "duration": 8,
    "start_time": "2022-12-20T15:46:28.145Z"
   },
   {
    "duration": 15,
    "start_time": "2022-12-20T15:46:28.155Z"
   },
   {
    "duration": 52,
    "start_time": "2022-12-20T15:47:41.750Z"
   },
   {
    "duration": 715,
    "start_time": "2022-12-20T15:47:49.626Z"
   },
   {
    "duration": 25,
    "start_time": "2022-12-20T15:47:50.343Z"
   },
   {
    "duration": 755,
    "start_time": "2022-12-20T15:47:50.370Z"
   },
   {
    "duration": 23,
    "start_time": "2022-12-20T15:47:51.127Z"
   },
   {
    "duration": 6,
    "start_time": "2022-12-20T15:47:51.152Z"
   },
   {
    "duration": 36,
    "start_time": "2022-12-20T15:47:51.160Z"
   },
   {
    "duration": 32,
    "start_time": "2022-12-20T15:47:51.198Z"
   },
   {
    "duration": 23,
    "start_time": "2022-12-20T15:47:51.232Z"
   },
   {
    "duration": 31,
    "start_time": "2022-12-20T15:47:51.258Z"
   },
   {
    "duration": 6,
    "start_time": "2022-12-20T15:47:51.293Z"
   },
   {
    "duration": 28,
    "start_time": "2022-12-20T15:47:51.301Z"
   },
   {
    "duration": 28,
    "start_time": "2022-12-20T15:47:51.331Z"
   },
   {
    "duration": 27,
    "start_time": "2022-12-20T15:47:51.361Z"
   },
   {
    "duration": 11,
    "start_time": "2022-12-20T15:47:51.389Z"
   },
   {
    "duration": 22,
    "start_time": "2022-12-20T15:47:51.402Z"
   },
   {
    "duration": 15,
    "start_time": "2022-12-20T15:47:51.426Z"
   },
   {
    "duration": 27,
    "start_time": "2022-12-20T15:47:51.444Z"
   },
   {
    "duration": 7,
    "start_time": "2022-12-20T15:47:51.473Z"
   },
   {
    "duration": 30,
    "start_time": "2022-12-20T15:47:51.482Z"
   },
   {
    "duration": 18,
    "start_time": "2022-12-20T15:47:51.514Z"
   },
   {
    "duration": 20,
    "start_time": "2022-12-20T15:47:51.535Z"
   },
   {
    "duration": 27,
    "start_time": "2022-12-20T15:47:51.557Z"
   },
   {
    "duration": 28,
    "start_time": "2022-12-20T15:47:51.586Z"
   },
   {
    "duration": 30,
    "start_time": "2022-12-20T15:47:51.616Z"
   },
   {
    "duration": 25,
    "start_time": "2022-12-20T15:47:51.647Z"
   },
   {
    "duration": 24,
    "start_time": "2022-12-20T15:47:51.673Z"
   },
   {
    "duration": 22,
    "start_time": "2022-12-20T15:47:51.699Z"
   },
   {
    "duration": 29,
    "start_time": "2022-12-20T15:47:51.724Z"
   },
   {
    "duration": 29,
    "start_time": "2022-12-20T15:47:51.755Z"
   },
   {
    "duration": 29,
    "start_time": "2022-12-20T15:47:51.786Z"
   },
   {
    "duration": 15,
    "start_time": "2022-12-20T15:47:51.817Z"
   },
   {
    "duration": 17,
    "start_time": "2022-12-20T15:48:02.492Z"
   },
   {
    "duration": 22,
    "start_time": "2022-12-20T15:51:20.269Z"
   },
   {
    "duration": 15,
    "start_time": "2022-12-20T15:52:02.645Z"
   },
   {
    "duration": 9,
    "start_time": "2022-12-20T15:53:31.478Z"
   },
   {
    "duration": 11,
    "start_time": "2022-12-20T15:53:52.826Z"
   },
   {
    "duration": 10,
    "start_time": "2022-12-20T15:54:37.809Z"
   },
   {
    "duration": 18,
    "start_time": "2022-12-20T15:54:47.800Z"
   },
   {
    "duration": 25,
    "start_time": "2022-12-20T15:54:56.150Z"
   },
   {
    "duration": 24,
    "start_time": "2022-12-20T16:00:34.699Z"
   },
   {
    "duration": 16,
    "start_time": "2022-12-20T16:13:22.675Z"
   },
   {
    "duration": 46,
    "start_time": "2022-12-20T16:15:05.145Z"
   },
   {
    "duration": 546,
    "start_time": "2022-12-20T16:15:15.192Z"
   },
   {
    "duration": 25,
    "start_time": "2022-12-20T16:15:15.740Z"
   },
   {
    "duration": 800,
    "start_time": "2022-12-20T16:15:15.778Z"
   },
   {
    "duration": 24,
    "start_time": "2022-12-20T16:15:16.580Z"
   },
   {
    "duration": 5,
    "start_time": "2022-12-20T16:15:16.606Z"
   },
   {
    "duration": 14,
    "start_time": "2022-12-20T16:15:16.612Z"
   },
   {
    "duration": 9,
    "start_time": "2022-12-20T16:15:16.628Z"
   },
   {
    "duration": 9,
    "start_time": "2022-12-20T16:15:16.639Z"
   },
   {
    "duration": 32,
    "start_time": "2022-12-20T16:15:16.649Z"
   },
   {
    "duration": 7,
    "start_time": "2022-12-20T16:15:16.684Z"
   },
   {
    "duration": 10,
    "start_time": "2022-12-20T16:15:16.693Z"
   },
   {
    "duration": 8,
    "start_time": "2022-12-20T16:15:16.705Z"
   },
   {
    "duration": 10,
    "start_time": "2022-12-20T16:15:16.715Z"
   },
   {
    "duration": 8,
    "start_time": "2022-12-20T16:15:16.727Z"
   },
   {
    "duration": 24,
    "start_time": "2022-12-20T16:15:16.737Z"
   },
   {
    "duration": 15,
    "start_time": "2022-12-20T16:15:16.763Z"
   },
   {
    "duration": 15,
    "start_time": "2022-12-20T16:15:16.780Z"
   },
   {
    "duration": 5,
    "start_time": "2022-12-20T16:15:16.796Z"
   },
   {
    "duration": 8,
    "start_time": "2022-12-20T16:15:16.803Z"
   },
   {
    "duration": 12,
    "start_time": "2022-12-20T16:15:16.813Z"
   },
   {
    "duration": 8,
    "start_time": "2022-12-20T16:15:16.826Z"
   },
   {
    "duration": 11,
    "start_time": "2022-12-20T16:15:16.836Z"
   },
   {
    "duration": 6,
    "start_time": "2022-12-20T16:15:16.878Z"
   },
   {
    "duration": 11,
    "start_time": "2022-12-20T16:15:16.886Z"
   },
   {
    "duration": 8,
    "start_time": "2022-12-20T16:15:16.899Z"
   },
   {
    "duration": 6,
    "start_time": "2022-12-20T16:15:16.909Z"
   },
   {
    "duration": 8,
    "start_time": "2022-12-20T16:15:16.917Z"
   },
   {
    "duration": 14,
    "start_time": "2022-12-20T16:15:16.928Z"
   },
   {
    "duration": 36,
    "start_time": "2022-12-20T16:15:16.943Z"
   },
   {
    "duration": 5,
    "start_time": "2022-12-20T16:15:16.981Z"
   },
   {
    "duration": 5,
    "start_time": "2022-12-20T16:15:36.402Z"
   },
   {
    "duration": 8,
    "start_time": "2022-12-20T16:16:09.609Z"
   },
   {
    "duration": 8,
    "start_time": "2022-12-20T16:16:24.556Z"
   },
   {
    "duration": 18,
    "start_time": "2022-12-20T16:17:10.266Z"
   },
   {
    "duration": 9,
    "start_time": "2022-12-20T16:24:41.007Z"
   },
   {
    "duration": 8,
    "start_time": "2022-12-20T16:24:50.764Z"
   },
   {
    "duration": 12,
    "start_time": "2022-12-20T16:26:07.781Z"
   },
   {
    "duration": 27,
    "start_time": "2022-12-20T16:36:55.058Z"
   },
   {
    "duration": 273,
    "start_time": "2022-12-20T16:43:59.970Z"
   },
   {
    "duration": 196,
    "start_time": "2022-12-20T16:44:44.033Z"
   },
   {
    "duration": 9,
    "start_time": "2022-12-20T16:45:59.302Z"
   },
   {
    "duration": 9,
    "start_time": "2022-12-20T16:46:46.400Z"
   },
   {
    "duration": 10,
    "start_time": "2022-12-20T16:47:09.861Z"
   },
   {
    "duration": 30,
    "start_time": "2022-12-20T16:47:33.200Z"
   },
   {
    "duration": 14,
    "start_time": "2022-12-20T16:48:40.093Z"
   },
   {
    "duration": 12,
    "start_time": "2022-12-20T16:48:51.175Z"
   },
   {
    "duration": 13,
    "start_time": "2022-12-20T16:49:23.706Z"
   },
   {
    "duration": 25,
    "start_time": "2022-12-20T16:49:32.607Z"
   },
   {
    "duration": 5,
    "start_time": "2022-12-20T16:50:55.263Z"
   },
   {
    "duration": 220,
    "start_time": "2022-12-20T16:55:07.310Z"
   },
   {
    "duration": 12,
    "start_time": "2022-12-20T16:58:05.535Z"
   },
   {
    "duration": 27,
    "start_time": "2022-12-20T16:58:15.909Z"
   },
   {
    "duration": 5,
    "start_time": "2022-12-20T16:58:56.232Z"
   },
   {
    "duration": 27,
    "start_time": "2022-12-20T16:59:14.106Z"
   },
   {
    "duration": 7,
    "start_time": "2022-12-20T16:59:43.873Z"
   },
   {
    "duration": 5,
    "start_time": "2022-12-20T17:01:26.218Z"
   },
   {
    "duration": 23,
    "start_time": "2022-12-20T17:05:11.989Z"
   },
   {
    "duration": 29,
    "start_time": "2022-12-20T17:12:08.394Z"
   },
   {
    "duration": 51,
    "start_time": "2022-12-20T17:12:30.009Z"
   },
   {
    "duration": 553,
    "start_time": "2022-12-20T17:12:36.563Z"
   },
   {
    "duration": 25,
    "start_time": "2022-12-20T17:12:37.118Z"
   },
   {
    "duration": 736,
    "start_time": "2022-12-20T17:12:37.145Z"
   },
   {
    "duration": 24,
    "start_time": "2022-12-20T17:12:37.884Z"
   },
   {
    "duration": 5,
    "start_time": "2022-12-20T17:12:37.910Z"
   },
   {
    "duration": 12,
    "start_time": "2022-12-20T17:12:37.917Z"
   },
   {
    "duration": 7,
    "start_time": "2022-12-20T17:12:37.931Z"
   },
   {
    "duration": 10,
    "start_time": "2022-12-20T17:12:37.940Z"
   },
   {
    "duration": 29,
    "start_time": "2022-12-20T17:12:37.952Z"
   },
   {
    "duration": 8,
    "start_time": "2022-12-20T17:12:37.984Z"
   },
   {
    "duration": 10,
    "start_time": "2022-12-20T17:12:37.994Z"
   },
   {
    "duration": 7,
    "start_time": "2022-12-20T17:12:38.005Z"
   },
   {
    "duration": 10,
    "start_time": "2022-12-20T17:12:38.013Z"
   },
   {
    "duration": 5,
    "start_time": "2022-12-20T17:12:38.024Z"
   },
   {
    "duration": 7,
    "start_time": "2022-12-20T17:12:38.031Z"
   },
   {
    "duration": 6,
    "start_time": "2022-12-20T17:12:38.040Z"
   },
   {
    "duration": 14,
    "start_time": "2022-12-20T17:12:38.078Z"
   },
   {
    "duration": 30,
    "start_time": "2022-12-20T17:12:38.094Z"
   },
   {
    "duration": 22,
    "start_time": "2022-12-20T17:12:38.126Z"
   },
   {
    "duration": 32,
    "start_time": "2022-12-20T17:12:38.150Z"
   },
   {
    "duration": 22,
    "start_time": "2022-12-20T17:12:38.184Z"
   },
   {
    "duration": 38,
    "start_time": "2022-12-20T17:12:38.208Z"
   },
   {
    "duration": 30,
    "start_time": "2022-12-20T17:12:38.248Z"
   },
   {
    "duration": 27,
    "start_time": "2022-12-20T17:12:38.280Z"
   },
   {
    "duration": 33,
    "start_time": "2022-12-20T17:12:38.309Z"
   },
   {
    "duration": 28,
    "start_time": "2022-12-20T17:12:38.345Z"
   },
   {
    "duration": 29,
    "start_time": "2022-12-20T17:12:38.376Z"
   },
   {
    "duration": 34,
    "start_time": "2022-12-20T17:12:38.408Z"
   },
   {
    "duration": 20,
    "start_time": "2022-12-20T17:12:38.444Z"
   },
   {
    "duration": 29,
    "start_time": "2022-12-20T17:12:38.466Z"
   },
   {
    "duration": 26,
    "start_time": "2022-12-20T17:12:38.497Z"
   },
   {
    "duration": 20,
    "start_time": "2022-12-20T17:12:38.525Z"
   },
   {
    "duration": 22,
    "start_time": "2022-12-20T17:12:38.547Z"
   },
   {
    "duration": 22,
    "start_time": "2022-12-20T17:12:38.571Z"
   },
   {
    "duration": 31,
    "start_time": "2022-12-20T17:12:38.595Z"
   },
   {
    "duration": 13,
    "start_time": "2022-12-20T17:12:38.629Z"
   },
   {
    "duration": 29,
    "start_time": "2022-12-20T17:12:38.644Z"
   },
   {
    "duration": 26,
    "start_time": "2022-12-20T17:12:53.472Z"
   },
   {
    "duration": 36,
    "start_time": "2022-12-20T17:28:53.831Z"
   },
   {
    "duration": 655,
    "start_time": "2022-12-20T17:33:41.555Z"
   },
   {
    "duration": 352,
    "start_time": "2022-12-20T17:34:36.236Z"
   },
   {
    "duration": 387,
    "start_time": "2022-12-20T17:35:45.401Z"
   },
   {
    "duration": 379,
    "start_time": "2022-12-20T17:38:00.673Z"
   },
   {
    "duration": 14,
    "start_time": "2022-12-20T17:38:55.469Z"
   },
   {
    "duration": 18,
    "start_time": "2022-12-20T17:39:31.106Z"
   },
   {
    "duration": 73,
    "start_time": "2022-12-20T17:41:16.320Z"
   },
   {
    "duration": 17,
    "start_time": "2022-12-20T17:41:24.406Z"
   },
   {
    "duration": 23,
    "start_time": "2022-12-20T17:41:46.285Z"
   },
   {
    "duration": 206,
    "start_time": "2022-12-20T17:42:54.960Z"
   },
   {
    "duration": 26,
    "start_time": "2022-12-20T17:43:48.180Z"
   },
   {
    "duration": 22,
    "start_time": "2022-12-20T17:44:09.479Z"
   },
   {
    "duration": 18,
    "start_time": "2022-12-20T17:44:31.572Z"
   },
   {
    "duration": 36,
    "start_time": "2022-12-20T17:46:57.199Z"
   },
   {
    "duration": 27,
    "start_time": "2022-12-20T17:47:07.349Z"
   },
   {
    "duration": 21,
    "start_time": "2022-12-20T17:47:41.104Z"
   },
   {
    "duration": 81,
    "start_time": "2022-12-20T17:48:40.747Z"
   },
   {
    "duration": 711,
    "start_time": "2022-12-20T17:49:27.919Z"
   },
   {
    "duration": 29,
    "start_time": "2022-12-20T17:49:53.623Z"
   },
   {
    "duration": 20,
    "start_time": "2022-12-20T17:50:17.534Z"
   },
   {
    "duration": 575,
    "start_time": "2022-12-20T17:51:00.493Z"
   },
   {
    "duration": 27,
    "start_time": "2022-12-20T17:51:01.077Z"
   },
   {
    "duration": 784,
    "start_time": "2022-12-20T17:51:01.106Z"
   },
   {
    "duration": 26,
    "start_time": "2022-12-20T17:51:01.893Z"
   },
   {
    "duration": 34,
    "start_time": "2022-12-20T17:51:01.921Z"
   },
   {
    "duration": 34,
    "start_time": "2022-12-20T17:51:01.957Z"
   },
   {
    "duration": 35,
    "start_time": "2022-12-20T17:51:01.993Z"
   },
   {
    "duration": 29,
    "start_time": "2022-12-20T17:51:02.030Z"
   },
   {
    "duration": 15,
    "start_time": "2022-12-20T17:51:02.060Z"
   },
   {
    "duration": 17,
    "start_time": "2022-12-20T17:51:02.077Z"
   },
   {
    "duration": 31,
    "start_time": "2022-12-20T17:51:02.096Z"
   },
   {
    "duration": 24,
    "start_time": "2022-12-20T17:51:02.128Z"
   },
   {
    "duration": 13,
    "start_time": "2022-12-20T17:51:02.153Z"
   },
   {
    "duration": 9,
    "start_time": "2022-12-20T17:51:02.168Z"
   },
   {
    "duration": 9,
    "start_time": "2022-12-20T17:51:02.179Z"
   },
   {
    "duration": 17,
    "start_time": "2022-12-20T17:51:02.189Z"
   },
   {
    "duration": 22,
    "start_time": "2022-12-20T17:51:02.208Z"
   },
   {
    "duration": 6,
    "start_time": "2022-12-20T17:51:02.232Z"
   },
   {
    "duration": 8,
    "start_time": "2022-12-20T17:51:02.240Z"
   },
   {
    "duration": 15,
    "start_time": "2022-12-20T17:51:02.249Z"
   },
   {
    "duration": 14,
    "start_time": "2022-12-20T17:51:02.266Z"
   },
   {
    "duration": 23,
    "start_time": "2022-12-20T17:51:02.282Z"
   },
   {
    "duration": 13,
    "start_time": "2022-12-20T17:51:02.307Z"
   },
   {
    "duration": 23,
    "start_time": "2022-12-20T17:51:02.322Z"
   },
   {
    "duration": 14,
    "start_time": "2022-12-20T17:51:02.346Z"
   },
   {
    "duration": 13,
    "start_time": "2022-12-20T17:51:02.362Z"
   },
   {
    "duration": 14,
    "start_time": "2022-12-20T17:51:02.377Z"
   },
   {
    "duration": 17,
    "start_time": "2022-12-20T17:51:02.395Z"
   },
   {
    "duration": 23,
    "start_time": "2022-12-20T17:51:02.414Z"
   },
   {
    "duration": 11,
    "start_time": "2022-12-20T17:51:02.439Z"
   },
   {
    "duration": 34,
    "start_time": "2022-12-20T17:51:02.452Z"
   },
   {
    "duration": 6,
    "start_time": "2022-12-20T17:51:02.487Z"
   },
   {
    "duration": 15,
    "start_time": "2022-12-20T17:51:02.494Z"
   },
   {
    "duration": 16,
    "start_time": "2022-12-20T17:51:02.511Z"
   },
   {
    "duration": 28,
    "start_time": "2022-12-20T17:51:02.529Z"
   },
   {
    "duration": 9,
    "start_time": "2022-12-20T17:51:02.559Z"
   },
   {
    "duration": 36,
    "start_time": "2022-12-20T17:51:02.570Z"
   },
   {
    "duration": 26,
    "start_time": "2022-12-20T17:51:02.608Z"
   },
   {
    "duration": 82,
    "start_time": "2022-12-20T17:51:21.969Z"
   },
   {
    "duration": 26,
    "start_time": "2022-12-20T17:51:53.166Z"
   },
   {
    "duration": 73,
    "start_time": "2022-12-20T17:53:25.647Z"
   },
   {
    "duration": 25,
    "start_time": "2022-12-20T17:53:44.397Z"
   },
   {
    "duration": 30,
    "start_time": "2022-12-20T17:54:31.906Z"
   },
   {
    "duration": 30,
    "start_time": "2022-12-20T17:56:02.332Z"
   },
   {
    "duration": 8,
    "start_time": "2022-12-20T18:03:40.167Z"
   },
   {
    "duration": 17,
    "start_time": "2022-12-20T18:03:53.458Z"
   },
   {
    "duration": 484,
    "start_time": "2022-12-20T18:04:32.823Z"
   },
   {
    "duration": 23,
    "start_time": "2022-12-20T18:04:33.309Z"
   },
   {
    "duration": 782,
    "start_time": "2022-12-20T18:04:33.334Z"
   },
   {
    "duration": 25,
    "start_time": "2022-12-20T18:04:34.119Z"
   },
   {
    "duration": 5,
    "start_time": "2022-12-20T18:04:34.146Z"
   },
   {
    "duration": 28,
    "start_time": "2022-12-20T18:04:34.153Z"
   },
   {
    "duration": 5,
    "start_time": "2022-12-20T18:04:34.183Z"
   },
   {
    "duration": 7,
    "start_time": "2022-12-20T18:04:34.189Z"
   },
   {
    "duration": 15,
    "start_time": "2022-12-20T18:04:34.198Z"
   },
   {
    "duration": 9,
    "start_time": "2022-12-20T18:04:34.215Z"
   },
   {
    "duration": 11,
    "start_time": "2022-12-20T18:04:34.226Z"
   },
   {
    "duration": 8,
    "start_time": "2022-12-20T18:04:34.238Z"
   },
   {
    "duration": 31,
    "start_time": "2022-12-20T18:04:34.247Z"
   },
   {
    "duration": 8,
    "start_time": "2022-12-20T18:04:34.279Z"
   },
   {
    "duration": 9,
    "start_time": "2022-12-20T18:04:34.288Z"
   },
   {
    "duration": 11,
    "start_time": "2022-12-20T18:04:34.299Z"
   },
   {
    "duration": 18,
    "start_time": "2022-12-20T18:04:34.312Z"
   },
   {
    "duration": 5,
    "start_time": "2022-12-20T18:04:34.331Z"
   },
   {
    "duration": 17,
    "start_time": "2022-12-20T18:04:34.338Z"
   },
   {
    "duration": 22,
    "start_time": "2022-12-20T18:04:34.357Z"
   },
   {
    "duration": 11,
    "start_time": "2022-12-20T18:04:34.380Z"
   },
   {
    "duration": 14,
    "start_time": "2022-12-20T18:04:34.392Z"
   },
   {
    "duration": 7,
    "start_time": "2022-12-20T18:04:34.407Z"
   },
   {
    "duration": 10,
    "start_time": "2022-12-20T18:04:34.415Z"
   },
   {
    "duration": 14,
    "start_time": "2022-12-20T18:04:34.426Z"
   },
   {
    "duration": 7,
    "start_time": "2022-12-20T18:04:34.442Z"
   },
   {
    "duration": 29,
    "start_time": "2022-12-20T18:04:34.450Z"
   },
   {
    "duration": 12,
    "start_time": "2022-12-20T18:04:34.482Z"
   },
   {
    "duration": 9,
    "start_time": "2022-12-20T18:04:34.495Z"
   },
   {
    "duration": 7,
    "start_time": "2022-12-20T18:04:34.506Z"
   },
   {
    "duration": 22,
    "start_time": "2022-12-20T18:04:34.515Z"
   },
   {
    "duration": 9,
    "start_time": "2022-12-20T18:04:34.539Z"
   },
   {
    "duration": 29,
    "start_time": "2022-12-20T18:04:34.549Z"
   },
   {
    "duration": 6,
    "start_time": "2022-12-20T18:04:34.592Z"
   },
   {
    "duration": 16,
    "start_time": "2022-12-20T18:04:34.600Z"
   },
   {
    "duration": 6,
    "start_time": "2022-12-20T18:04:34.618Z"
   },
   {
    "duration": 7,
    "start_time": "2022-12-20T18:04:34.626Z"
   },
   {
    "duration": 8,
    "start_time": "2022-12-20T18:04:34.635Z"
   },
   {
    "duration": 100,
    "start_time": "2022-12-20T18:05:24.868Z"
   },
   {
    "duration": 134,
    "start_time": "2022-12-20T18:06:31.992Z"
   },
   {
    "duration": 25,
    "start_time": "2022-12-20T18:06:32.128Z"
   },
   {
    "duration": 602,
    "start_time": "2022-12-20T18:06:32.155Z"
   },
   {
    "duration": 30,
    "start_time": "2022-12-20T18:06:32.759Z"
   },
   {
    "duration": 6,
    "start_time": "2022-12-20T18:06:32.791Z"
   },
   {
    "duration": 9,
    "start_time": "2022-12-20T18:06:32.799Z"
   },
   {
    "duration": 14,
    "start_time": "2022-12-20T18:06:32.810Z"
   },
   {
    "duration": 9,
    "start_time": "2022-12-20T18:06:32.825Z"
   },
   {
    "duration": 9,
    "start_time": "2022-12-20T18:06:32.836Z"
   },
   {
    "duration": 32,
    "start_time": "2022-12-20T18:06:32.847Z"
   },
   {
    "duration": 10,
    "start_time": "2022-12-20T18:06:32.880Z"
   },
   {
    "duration": 9,
    "start_time": "2022-12-20T18:06:32.892Z"
   },
   {
    "duration": 15,
    "start_time": "2022-12-20T18:06:32.902Z"
   },
   {
    "duration": 7,
    "start_time": "2022-12-20T18:06:32.919Z"
   },
   {
    "duration": 8,
    "start_time": "2022-12-20T18:06:32.928Z"
   },
   {
    "duration": 7,
    "start_time": "2022-12-20T18:06:32.938Z"
   },
   {
    "duration": 37,
    "start_time": "2022-12-20T18:06:32.946Z"
   },
   {
    "duration": 6,
    "start_time": "2022-12-20T18:06:32.986Z"
   },
   {
    "duration": 9,
    "start_time": "2022-12-20T18:06:32.995Z"
   },
   {
    "duration": 10,
    "start_time": "2022-12-20T18:06:33.005Z"
   },
   {
    "duration": 8,
    "start_time": "2022-12-20T18:06:33.017Z"
   },
   {
    "duration": 17,
    "start_time": "2022-12-20T18:06:33.026Z"
   },
   {
    "duration": 33,
    "start_time": "2022-12-20T18:06:33.045Z"
   },
   {
    "duration": 8,
    "start_time": "2022-12-20T18:06:33.080Z"
   },
   {
    "duration": 21,
    "start_time": "2022-12-20T18:06:33.091Z"
   },
   {
    "duration": 7,
    "start_time": "2022-12-20T18:06:33.114Z"
   },
   {
    "duration": 7,
    "start_time": "2022-12-20T18:06:33.123Z"
   },
   {
    "duration": 12,
    "start_time": "2022-12-20T18:06:33.132Z"
   },
   {
    "duration": 5,
    "start_time": "2022-12-20T18:06:33.145Z"
   },
   {
    "duration": 26,
    "start_time": "2022-12-20T18:06:33.152Z"
   },
   {
    "duration": 18,
    "start_time": "2022-12-20T18:06:33.180Z"
   },
   {
    "duration": 5,
    "start_time": "2022-12-20T18:06:33.201Z"
   },
   {
    "duration": 9,
    "start_time": "2022-12-20T18:06:33.208Z"
   },
   {
    "duration": 8,
    "start_time": "2022-12-20T18:06:33.219Z"
   },
   {
    "duration": 14,
    "start_time": "2022-12-20T18:06:33.230Z"
   },
   {
    "duration": 5,
    "start_time": "2022-12-20T18:06:33.277Z"
   },
   {
    "duration": 6,
    "start_time": "2022-12-20T18:06:33.307Z"
   },
   {
    "duration": 25,
    "start_time": "2022-12-20T18:06:48.173Z"
   },
   {
    "duration": 8,
    "start_time": "2022-12-20T18:07:11.524Z"
   },
   {
    "duration": 27,
    "start_time": "2022-12-20T18:07:20.928Z"
   },
   {
    "duration": 96,
    "start_time": "2022-12-20T18:09:15.148Z"
   },
   {
    "duration": 25,
    "start_time": "2022-12-20T18:09:21.445Z"
   },
   {
    "duration": 23,
    "start_time": "2022-12-20T18:09:44.723Z"
   },
   {
    "duration": 22,
    "start_time": "2022-12-20T18:09:57.086Z"
   },
   {
    "duration": 23,
    "start_time": "2022-12-20T18:10:09.301Z"
   },
   {
    "duration": 25,
    "start_time": "2022-12-20T18:11:21.377Z"
   },
   {
    "duration": 54,
    "start_time": "2022-12-20T18:12:45.395Z"
   },
   {
    "duration": 7,
    "start_time": "2022-12-20T18:14:02.817Z"
   },
   {
    "duration": 7,
    "start_time": "2022-12-20T18:14:22.705Z"
   },
   {
    "duration": 6,
    "start_time": "2022-12-20T18:16:53.645Z"
   },
   {
    "duration": 71,
    "start_time": "2022-12-20T18:19:16.499Z"
   },
   {
    "duration": 924,
    "start_time": "2022-12-20T18:19:24.633Z"
   },
   {
    "duration": 11,
    "start_time": "2022-12-20T18:19:40.597Z"
   },
   {
    "duration": 5,
    "start_time": "2022-12-20T18:19:53.919Z"
   },
   {
    "duration": 14,
    "start_time": "2022-12-20T18:20:53.946Z"
   },
   {
    "duration": 10,
    "start_time": "2022-12-20T18:21:23.349Z"
   },
   {
    "duration": 44,
    "start_time": "2022-12-20T18:22:14.159Z"
   },
   {
    "duration": 35,
    "start_time": "2022-12-20T18:22:26.473Z"
   },
   {
    "duration": 30,
    "start_time": "2022-12-20T18:22:49.464Z"
   },
   {
    "duration": 20,
    "start_time": "2022-12-20T18:23:12.030Z"
   },
   {
    "duration": 31,
    "start_time": "2022-12-20T18:23:24.845Z"
   },
   {
    "duration": 5,
    "start_time": "2022-12-20T18:23:38.192Z"
   },
   {
    "duration": 4,
    "start_time": "2022-12-20T18:23:58.456Z"
   },
   {
    "duration": 4,
    "start_time": "2022-12-20T18:24:21.323Z"
   },
   {
    "duration": 6,
    "start_time": "2022-12-20T18:30:37.083Z"
   },
   {
    "duration": 11,
    "start_time": "2022-12-20T18:30:51.769Z"
   },
   {
    "duration": 13,
    "start_time": "2022-12-20T18:42:16.148Z"
   },
   {
    "duration": 5,
    "start_time": "2022-12-20T18:42:34.099Z"
   },
   {
    "duration": 9,
    "start_time": "2022-12-20T18:43:28.872Z"
   },
   {
    "duration": 5,
    "start_time": "2022-12-20T18:43:37.943Z"
   },
   {
    "duration": 7,
    "start_time": "2022-12-20T18:44:30.940Z"
   },
   {
    "duration": 7,
    "start_time": "2022-12-20T18:44:54.938Z"
   },
   {
    "duration": 10,
    "start_time": "2022-12-20T18:46:40.359Z"
   },
   {
    "duration": 5,
    "start_time": "2022-12-20T18:47:34.212Z"
   },
   {
    "duration": 7,
    "start_time": "2022-12-20T18:47:50.373Z"
   },
   {
    "duration": 10,
    "start_time": "2022-12-20T18:48:14.137Z"
   },
   {
    "duration": 13,
    "start_time": "2022-12-20T18:49:01.098Z"
   },
   {
    "duration": 9,
    "start_time": "2022-12-20T18:49:33.543Z"
   },
   {
    "duration": 8,
    "start_time": "2022-12-20T18:51:19.003Z"
   },
   {
    "duration": 10,
    "start_time": "2022-12-20T18:51:31.130Z"
   },
   {
    "duration": 18,
    "start_time": "2022-12-20T18:52:46.115Z"
   },
   {
    "duration": 17,
    "start_time": "2022-12-20T18:52:55.485Z"
   },
   {
    "duration": 17,
    "start_time": "2022-12-20T18:53:06.961Z"
   },
   {
    "duration": 215,
    "start_time": "2022-12-20T18:55:53.958Z"
   },
   {
    "duration": 58,
    "start_time": "2022-12-20T18:57:44.283Z"
   },
   {
    "duration": 198,
    "start_time": "2022-12-20T18:57:52.182Z"
   },
   {
    "duration": 6,
    "start_time": "2022-12-20T18:59:49.660Z"
   },
   {
    "duration": 11,
    "start_time": "2022-12-20T19:00:55.757Z"
   },
   {
    "duration": 44,
    "start_time": "2022-12-21T14:38:55.367Z"
   },
   {
    "duration": 555,
    "start_time": "2022-12-21T14:39:06.096Z"
   },
   {
    "duration": 22,
    "start_time": "2022-12-21T14:39:06.653Z"
   },
   {
    "duration": 803,
    "start_time": "2022-12-21T14:39:06.677Z"
   },
   {
    "duration": 23,
    "start_time": "2022-12-21T14:39:07.482Z"
   },
   {
    "duration": 4,
    "start_time": "2022-12-21T14:39:07.506Z"
   },
   {
    "duration": 18,
    "start_time": "2022-12-21T14:39:07.511Z"
   },
   {
    "duration": 4,
    "start_time": "2022-12-21T14:39:07.530Z"
   },
   {
    "duration": 7,
    "start_time": "2022-12-21T14:39:07.536Z"
   },
   {
    "duration": 10,
    "start_time": "2022-12-21T14:39:07.545Z"
   },
   {
    "duration": 11,
    "start_time": "2022-12-21T14:39:07.558Z"
   },
   {
    "duration": 16,
    "start_time": "2022-12-21T14:39:07.570Z"
   },
   {
    "duration": 9,
    "start_time": "2022-12-21T14:39:07.587Z"
   },
   {
    "duration": 13,
    "start_time": "2022-12-21T14:39:07.597Z"
   },
   {
    "duration": 20,
    "start_time": "2022-12-21T14:39:07.612Z"
   },
   {
    "duration": 16,
    "start_time": "2022-12-21T14:39:07.634Z"
   },
   {
    "duration": 7,
    "start_time": "2022-12-21T14:39:07.652Z"
   },
   {
    "duration": 18,
    "start_time": "2022-12-21T14:39:07.661Z"
   },
   {
    "duration": 6,
    "start_time": "2022-12-21T14:39:07.681Z"
   },
   {
    "duration": 13,
    "start_time": "2022-12-21T14:39:07.689Z"
   },
   {
    "duration": 16,
    "start_time": "2022-12-21T14:39:07.704Z"
   },
   {
    "duration": 9,
    "start_time": "2022-12-21T14:39:07.722Z"
   },
   {
    "duration": 14,
    "start_time": "2022-12-21T14:39:07.733Z"
   },
   {
    "duration": 6,
    "start_time": "2022-12-21T14:39:07.749Z"
   },
   {
    "duration": 13,
    "start_time": "2022-12-21T14:39:07.757Z"
   },
   {
    "duration": 12,
    "start_time": "2022-12-21T14:39:07.772Z"
   },
   {
    "duration": 14,
    "start_time": "2022-12-21T14:39:07.785Z"
   },
   {
    "duration": 11,
    "start_time": "2022-12-21T14:39:07.800Z"
   },
   {
    "duration": 42,
    "start_time": "2022-12-21T14:39:07.814Z"
   },
   {
    "duration": 11,
    "start_time": "2022-12-21T14:39:07.857Z"
   },
   {
    "duration": 8,
    "start_time": "2022-12-21T14:39:07.869Z"
   },
   {
    "duration": 20,
    "start_time": "2022-12-21T14:39:07.878Z"
   },
   {
    "duration": 5,
    "start_time": "2022-12-21T14:39:07.900Z"
   },
   {
    "duration": 10,
    "start_time": "2022-12-21T14:39:07.906Z"
   },
   {
    "duration": 7,
    "start_time": "2022-12-21T14:39:07.917Z"
   },
   {
    "duration": 14,
    "start_time": "2022-12-21T14:39:07.925Z"
   },
   {
    "duration": 5,
    "start_time": "2022-12-21T14:39:07.940Z"
   },
   {
    "duration": 9,
    "start_time": "2022-12-21T14:39:07.946Z"
   },
   {
    "duration": 9,
    "start_time": "2022-12-21T14:39:07.956Z"
   },
   {
    "duration": 28,
    "start_time": "2022-12-21T14:39:07.966Z"
   },
   {
    "duration": 103,
    "start_time": "2022-12-21T14:39:07.996Z"
   },
   {
    "duration": 5,
    "start_time": "2022-12-21T14:39:08.100Z"
   },
   {
    "duration": 7,
    "start_time": "2022-12-21T14:39:08.107Z"
   },
   {
    "duration": 10,
    "start_time": "2022-12-21T14:39:14.927Z"
   },
   {
    "duration": 12,
    "start_time": "2022-12-21T14:39:37.661Z"
   },
   {
    "duration": 12,
    "start_time": "2022-12-21T14:39:57.711Z"
   },
   {
    "duration": 41,
    "start_time": "2022-12-21T14:44:09.820Z"
   },
   {
    "duration": 294,
    "start_time": "2022-12-21T14:44:24.706Z"
   },
   {
    "duration": 10,
    "start_time": "2022-12-21T14:45:27.589Z"
   },
   {
    "duration": 13,
    "start_time": "2022-12-21T14:45:33.557Z"
   },
   {
    "duration": 14,
    "start_time": "2022-12-21T14:45:51.462Z"
   },
   {
    "duration": 12,
    "start_time": "2022-12-21T14:46:01.298Z"
   },
   {
    "duration": 12,
    "start_time": "2022-12-21T14:46:35.710Z"
   },
   {
    "duration": 11,
    "start_time": "2022-12-21T14:46:43.356Z"
   },
   {
    "duration": 14,
    "start_time": "2022-12-21T14:47:25.113Z"
   },
   {
    "duration": 106,
    "start_time": "2022-12-21T14:47:44.686Z"
   },
   {
    "duration": 12,
    "start_time": "2022-12-21T14:47:54.014Z"
   },
   {
    "duration": 10,
    "start_time": "2022-12-21T14:48:52.165Z"
   },
   {
    "duration": 24,
    "start_time": "2022-12-21T14:49:28.626Z"
   },
   {
    "duration": 16,
    "start_time": "2022-12-21T14:49:44.608Z"
   },
   {
    "duration": 18,
    "start_time": "2022-12-21T14:50:09.362Z"
   },
   {
    "duration": 19,
    "start_time": "2022-12-21T14:50:47.373Z"
   },
   {
    "duration": 22,
    "start_time": "2022-12-21T14:52:36.281Z"
   },
   {
    "duration": 26,
    "start_time": "2022-12-21T14:53:38.605Z"
   },
   {
    "duration": 24,
    "start_time": "2022-12-21T14:54:36.716Z"
   },
   {
    "duration": 24,
    "start_time": "2022-12-21T14:54:49.965Z"
   },
   {
    "duration": 584,
    "start_time": "2022-12-21T14:55:21.613Z"
   },
   {
    "duration": 29,
    "start_time": "2022-12-21T14:55:22.199Z"
   },
   {
    "duration": 730,
    "start_time": "2022-12-21T14:55:22.230Z"
   },
   {
    "duration": 25,
    "start_time": "2022-12-21T14:55:22.962Z"
   },
   {
    "duration": 5,
    "start_time": "2022-12-21T14:55:22.989Z"
   },
   {
    "duration": 15,
    "start_time": "2022-12-21T14:55:22.996Z"
   },
   {
    "duration": 11,
    "start_time": "2022-12-21T14:55:23.031Z"
   },
   {
    "duration": 11,
    "start_time": "2022-12-21T14:55:23.047Z"
   },
   {
    "duration": 15,
    "start_time": "2022-12-21T14:55:23.059Z"
   },
   {
    "duration": 7,
    "start_time": "2022-12-21T14:55:23.076Z"
   },
   {
    "duration": 21,
    "start_time": "2022-12-21T14:55:23.085Z"
   },
   {
    "duration": 10,
    "start_time": "2022-12-21T14:55:23.108Z"
   },
   {
    "duration": 18,
    "start_time": "2022-12-21T14:55:23.120Z"
   },
   {
    "duration": 20,
    "start_time": "2022-12-21T14:55:23.139Z"
   },
   {
    "duration": 10,
    "start_time": "2022-12-21T14:55:23.161Z"
   },
   {
    "duration": 14,
    "start_time": "2022-12-21T14:55:23.173Z"
   },
   {
    "duration": 23,
    "start_time": "2022-12-21T14:55:23.189Z"
   },
   {
    "duration": 5,
    "start_time": "2022-12-21T14:55:23.214Z"
   },
   {
    "duration": 29,
    "start_time": "2022-12-21T14:55:23.221Z"
   },
   {
    "duration": 17,
    "start_time": "2022-12-21T14:55:23.253Z"
   },
   {
    "duration": 9,
    "start_time": "2022-12-21T14:55:23.271Z"
   },
   {
    "duration": 14,
    "start_time": "2022-12-21T14:55:23.282Z"
   },
   {
    "duration": 5,
    "start_time": "2022-12-21T14:55:23.297Z"
   },
   {
    "duration": 8,
    "start_time": "2022-12-21T14:55:23.304Z"
   },
   {
    "duration": 10,
    "start_time": "2022-12-21T14:55:23.313Z"
   },
   {
    "duration": 24,
    "start_time": "2022-12-21T14:55:23.324Z"
   },
   {
    "duration": 8,
    "start_time": "2022-12-21T14:55:23.350Z"
   },
   {
    "duration": 12,
    "start_time": "2022-12-21T14:55:23.362Z"
   },
   {
    "duration": 4,
    "start_time": "2022-12-21T14:55:23.376Z"
   },
   {
    "duration": 11,
    "start_time": "2022-12-21T14:55:23.382Z"
   },
   {
    "duration": 22,
    "start_time": "2022-12-21T14:55:23.395Z"
   },
   {
    "duration": 8,
    "start_time": "2022-12-21T14:55:23.419Z"
   },
   {
    "duration": 26,
    "start_time": "2022-12-21T14:55:23.429Z"
   },
   {
    "duration": 13,
    "start_time": "2022-12-21T14:55:23.457Z"
   },
   {
    "duration": 15,
    "start_time": "2022-12-21T14:55:23.472Z"
   },
   {
    "duration": 10,
    "start_time": "2022-12-21T14:55:23.488Z"
   },
   {
    "duration": 15,
    "start_time": "2022-12-21T14:55:23.500Z"
   },
   {
    "duration": 9,
    "start_time": "2022-12-21T14:55:23.516Z"
   },
   {
    "duration": 35,
    "start_time": "2022-12-21T14:55:23.528Z"
   },
   {
    "duration": 105,
    "start_time": "2022-12-21T14:55:23.564Z"
   },
   {
    "duration": 6,
    "start_time": "2022-12-21T14:55:23.670Z"
   },
   {
    "duration": 12,
    "start_time": "2022-12-21T14:55:23.678Z"
   },
   {
    "duration": 22,
    "start_time": "2022-12-21T14:55:43.184Z"
   },
   {
    "duration": 22,
    "start_time": "2022-12-21T14:57:22.647Z"
   },
   {
    "duration": 22,
    "start_time": "2022-12-21T15:00:14.883Z"
   },
   {
    "duration": 23,
    "start_time": "2022-12-21T15:00:34.440Z"
   },
   {
    "duration": 79,
    "start_time": "2022-12-21T15:02:38.665Z"
   },
   {
    "duration": 26,
    "start_time": "2022-12-21T15:02:45.679Z"
   },
   {
    "duration": 64,
    "start_time": "2022-12-21T15:07:17.552Z"
   },
   {
    "duration": 76,
    "start_time": "2022-12-21T15:07:36.774Z"
   },
   {
    "duration": 33,
    "start_time": "2022-12-21T15:08:14.157Z"
   },
   {
    "duration": 29,
    "start_time": "2022-12-21T15:08:34.853Z"
   },
   {
    "duration": 29,
    "start_time": "2022-12-21T15:08:43.146Z"
   },
   {
    "duration": 28,
    "start_time": "2022-12-21T15:08:47.355Z"
   },
   {
    "duration": 31,
    "start_time": "2022-12-21T15:09:03.592Z"
   },
   {
    "duration": 36,
    "start_time": "2022-12-21T15:09:25.748Z"
   },
   {
    "duration": 46,
    "start_time": "2022-12-21T15:09:44.520Z"
   },
   {
    "duration": 44,
    "start_time": "2022-12-21T15:09:49.161Z"
   },
   {
    "duration": 28,
    "start_time": "2022-12-21T15:10:07.196Z"
   },
   {
    "duration": 31,
    "start_time": "2022-12-21T15:10:13.783Z"
   },
   {
    "duration": 28,
    "start_time": "2022-12-21T15:10:18.387Z"
   },
   {
    "duration": 28,
    "start_time": "2022-12-21T15:10:39.039Z"
   },
   {
    "duration": 96,
    "start_time": "2022-12-21T15:11:14.081Z"
   },
   {
    "duration": 31,
    "start_time": "2022-12-21T15:11:37.638Z"
   },
   {
    "duration": 35,
    "start_time": "2022-12-21T15:11:49.777Z"
   },
   {
    "duration": 30,
    "start_time": "2022-12-21T15:12:08.965Z"
   },
   {
    "duration": 29,
    "start_time": "2022-12-21T15:12:45.177Z"
   },
   {
    "duration": 77,
    "start_time": "2022-12-21T15:13:24.466Z"
   },
   {
    "duration": 69,
    "start_time": "2022-12-21T15:13:37.146Z"
   },
   {
    "duration": 35,
    "start_time": "2022-12-21T15:13:49.102Z"
   },
   {
    "duration": 29,
    "start_time": "2022-12-21T15:13:58.361Z"
   },
   {
    "duration": 33,
    "start_time": "2022-12-21T15:14:36.102Z"
   },
   {
    "duration": 43,
    "start_time": "2022-12-21T15:14:57.541Z"
   },
   {
    "duration": 25,
    "start_time": "2022-12-21T15:15:48.977Z"
   },
   {
    "duration": 41,
    "start_time": "2022-12-21T15:16:01.266Z"
   },
   {
    "duration": 35,
    "start_time": "2022-12-21T15:16:11.649Z"
   },
   {
    "duration": 26,
    "start_time": "2022-12-21T15:16:22.345Z"
   },
   {
    "duration": 57,
    "start_time": "2022-12-21T15:17:19.058Z"
   },
   {
    "duration": 34,
    "start_time": "2022-12-21T15:18:07.394Z"
   },
   {
    "duration": 49,
    "start_time": "2022-12-21T15:18:38.540Z"
   },
   {
    "duration": 497,
    "start_time": "2022-12-21T15:23:48.591Z"
   },
   {
    "duration": 36,
    "start_time": "2022-12-21T15:23:49.090Z"
   },
   {
    "duration": 663,
    "start_time": "2022-12-21T15:23:49.128Z"
   },
   {
    "duration": 34,
    "start_time": "2022-12-21T15:23:49.793Z"
   },
   {
    "duration": 5,
    "start_time": "2022-12-21T15:23:49.829Z"
   },
   {
    "duration": 20,
    "start_time": "2022-12-21T15:23:49.836Z"
   },
   {
    "duration": 8,
    "start_time": "2022-12-21T15:23:49.857Z"
   },
   {
    "duration": 18,
    "start_time": "2022-12-21T15:23:49.867Z"
   },
   {
    "duration": 16,
    "start_time": "2022-12-21T15:23:49.886Z"
   },
   {
    "duration": 7,
    "start_time": "2022-12-21T15:23:49.905Z"
   },
   {
    "duration": 14,
    "start_time": "2022-12-21T15:23:49.914Z"
   },
   {
    "duration": 20,
    "start_time": "2022-12-21T15:23:49.930Z"
   },
   {
    "duration": 9,
    "start_time": "2022-12-21T15:23:49.951Z"
   },
   {
    "duration": 6,
    "start_time": "2022-12-21T15:23:49.962Z"
   },
   {
    "duration": 7,
    "start_time": "2022-12-21T15:23:49.970Z"
   },
   {
    "duration": 6,
    "start_time": "2022-12-21T15:23:49.978Z"
   },
   {
    "duration": 14,
    "start_time": "2022-12-21T15:23:49.985Z"
   },
   {
    "duration": 9,
    "start_time": "2022-12-21T15:23:50.001Z"
   },
   {
    "duration": 24,
    "start_time": "2022-12-21T15:23:50.011Z"
   },
   {
    "duration": 18,
    "start_time": "2022-12-21T15:23:50.037Z"
   },
   {
    "duration": 15,
    "start_time": "2022-12-21T15:23:50.057Z"
   },
   {
    "duration": 21,
    "start_time": "2022-12-21T15:23:50.074Z"
   },
   {
    "duration": 11,
    "start_time": "2022-12-21T15:23:50.096Z"
   },
   {
    "duration": 18,
    "start_time": "2022-12-21T15:23:50.108Z"
   },
   {
    "duration": 33,
    "start_time": "2022-12-21T15:23:50.128Z"
   },
   {
    "duration": 22,
    "start_time": "2022-12-21T15:23:50.162Z"
   },
   {
    "duration": 12,
    "start_time": "2022-12-21T15:23:50.185Z"
   },
   {
    "duration": 14,
    "start_time": "2022-12-21T15:23:50.200Z"
   },
   {
    "duration": 7,
    "start_time": "2022-12-21T15:23:50.216Z"
   },
   {
    "duration": 15,
    "start_time": "2022-12-21T15:23:50.225Z"
   },
   {
    "duration": 19,
    "start_time": "2022-12-21T15:23:50.241Z"
   },
   {
    "duration": 4,
    "start_time": "2022-12-21T15:23:50.261Z"
   },
   {
    "duration": 8,
    "start_time": "2022-12-21T15:23:50.266Z"
   },
   {
    "duration": 8,
    "start_time": "2022-12-21T15:23:50.275Z"
   },
   {
    "duration": 15,
    "start_time": "2022-12-21T15:23:50.285Z"
   },
   {
    "duration": 6,
    "start_time": "2022-12-21T15:23:50.301Z"
   },
   {
    "duration": 22,
    "start_time": "2022-12-21T15:23:50.308Z"
   },
   {
    "duration": 21,
    "start_time": "2022-12-21T15:23:50.332Z"
   },
   {
    "duration": 22,
    "start_time": "2022-12-21T15:23:50.355Z"
   },
   {
    "duration": 95,
    "start_time": "2022-12-21T15:23:50.379Z"
   },
   {
    "duration": 5,
    "start_time": "2022-12-21T15:23:50.475Z"
   },
   {
    "duration": 22,
    "start_time": "2022-12-21T15:23:50.481Z"
   },
   {
    "duration": 67,
    "start_time": "2022-12-21T15:24:23.368Z"
   },
   {
    "duration": 70,
    "start_time": "2022-12-21T15:24:36.738Z"
   },
   {
    "duration": 73,
    "start_time": "2022-12-21T15:25:17.679Z"
   },
   {
    "duration": 70,
    "start_time": "2022-12-21T15:25:30.341Z"
   },
   {
    "duration": 71,
    "start_time": "2022-12-21T15:25:57.246Z"
   },
   {
    "duration": 80,
    "start_time": "2022-12-21T15:26:04.877Z"
   },
   {
    "duration": 81,
    "start_time": "2022-12-21T15:27:21.762Z"
   },
   {
    "duration": 92,
    "start_time": "2022-12-21T15:27:31.686Z"
   },
   {
    "duration": 140,
    "start_time": "2022-12-21T15:27:58.941Z"
   },
   {
    "duration": 2205,
    "start_time": "2022-12-21T15:37:08.538Z"
   },
   {
    "duration": 2072,
    "start_time": "2022-12-21T15:39:38.155Z"
   },
   {
    "duration": 2249,
    "start_time": "2022-12-21T15:39:44.921Z"
   },
   {
    "duration": 497,
    "start_time": "2022-12-21T15:40:34.641Z"
   },
   {
    "duration": 22,
    "start_time": "2022-12-21T15:40:35.140Z"
   },
   {
    "duration": 728,
    "start_time": "2022-12-21T15:40:35.164Z"
   },
   {
    "duration": 38,
    "start_time": "2022-12-21T15:40:35.895Z"
   },
   {
    "duration": 6,
    "start_time": "2022-12-21T15:40:35.934Z"
   },
   {
    "duration": 19,
    "start_time": "2022-12-21T15:40:35.942Z"
   },
   {
    "duration": 11,
    "start_time": "2022-12-21T15:40:35.963Z"
   },
   {
    "duration": 10,
    "start_time": "2022-12-21T15:40:35.976Z"
   },
   {
    "duration": 24,
    "start_time": "2022-12-21T15:40:35.987Z"
   },
   {
    "duration": 15,
    "start_time": "2022-12-21T15:40:36.014Z"
   },
   {
    "duration": 18,
    "start_time": "2022-12-21T15:40:36.031Z"
   },
   {
    "duration": 6,
    "start_time": "2022-12-21T15:40:36.054Z"
   },
   {
    "duration": 13,
    "start_time": "2022-12-21T15:40:36.063Z"
   },
   {
    "duration": 13,
    "start_time": "2022-12-21T15:40:36.077Z"
   },
   {
    "duration": 10,
    "start_time": "2022-12-21T15:40:36.092Z"
   },
   {
    "duration": 26,
    "start_time": "2022-12-21T15:40:36.103Z"
   },
   {
    "duration": 16,
    "start_time": "2022-12-21T15:40:36.130Z"
   },
   {
    "duration": 5,
    "start_time": "2022-12-21T15:40:36.147Z"
   },
   {
    "duration": 28,
    "start_time": "2022-12-21T15:40:36.153Z"
   },
   {
    "duration": 9,
    "start_time": "2022-12-21T15:40:36.183Z"
   },
   {
    "duration": 10,
    "start_time": "2022-12-21T15:40:36.194Z"
   },
   {
    "duration": 26,
    "start_time": "2022-12-21T15:40:36.206Z"
   },
   {
    "duration": 5,
    "start_time": "2022-12-21T15:40:36.233Z"
   },
   {
    "duration": 13,
    "start_time": "2022-12-21T15:40:36.240Z"
   },
   {
    "duration": 12,
    "start_time": "2022-12-21T15:40:36.254Z"
   },
   {
    "duration": 5,
    "start_time": "2022-12-21T15:40:36.268Z"
   },
   {
    "duration": 9,
    "start_time": "2022-12-21T15:40:36.275Z"
   },
   {
    "duration": 41,
    "start_time": "2022-12-21T15:40:36.289Z"
   },
   {
    "duration": 5,
    "start_time": "2022-12-21T15:40:36.332Z"
   },
   {
    "duration": 7,
    "start_time": "2022-12-21T15:40:36.339Z"
   },
   {
    "duration": 37,
    "start_time": "2022-12-21T15:40:36.348Z"
   },
   {
    "duration": 7,
    "start_time": "2022-12-21T15:40:36.387Z"
   },
   {
    "duration": 8,
    "start_time": "2022-12-21T15:40:36.396Z"
   },
   {
    "duration": 26,
    "start_time": "2022-12-21T15:40:36.405Z"
   },
   {
    "duration": 20,
    "start_time": "2022-12-21T15:40:36.433Z"
   },
   {
    "duration": 6,
    "start_time": "2022-12-21T15:40:36.455Z"
   },
   {
    "duration": 14,
    "start_time": "2022-12-21T15:40:36.463Z"
   },
   {
    "duration": 8,
    "start_time": "2022-12-21T15:40:36.478Z"
   },
   {
    "duration": 42,
    "start_time": "2022-12-21T15:40:36.487Z"
   },
   {
    "duration": 98,
    "start_time": "2022-12-21T15:40:36.531Z"
   },
   {
    "duration": 4,
    "start_time": "2022-12-21T15:40:36.631Z"
   },
   {
    "duration": 8,
    "start_time": "2022-12-21T15:40:36.637Z"
   },
   {
    "duration": 2163,
    "start_time": "2022-12-21T15:40:49.737Z"
   },
   {
    "duration": 2181,
    "start_time": "2022-12-21T15:41:13.634Z"
   },
   {
    "duration": 2089,
    "start_time": "2022-12-21T15:42:49.342Z"
   },
   {
    "duration": 2160,
    "start_time": "2022-12-21T15:42:53.048Z"
   },
   {
    "duration": 2050,
    "start_time": "2022-12-21T15:43:32.321Z"
   },
   {
    "duration": 2079,
    "start_time": "2022-12-21T15:43:48.201Z"
   },
   {
    "duration": 2121,
    "start_time": "2022-12-21T15:44:28.529Z"
   },
   {
    "duration": 2257,
    "start_time": "2022-12-21T15:44:42.182Z"
   },
   {
    "duration": 2188,
    "start_time": "2022-12-21T15:46:41.203Z"
   },
   {
    "duration": 2157,
    "start_time": "2022-12-21T15:47:33.232Z"
   },
   {
    "duration": 2184,
    "start_time": "2022-12-21T15:47:49.831Z"
   },
   {
    "duration": 2042,
    "start_time": "2022-12-21T15:52:56.438Z"
   },
   {
    "duration": 2206,
    "start_time": "2022-12-21T15:53:52.938Z"
   },
   {
    "duration": 2156,
    "start_time": "2022-12-21T15:55:19.598Z"
   },
   {
    "duration": 2203,
    "start_time": "2022-12-21T15:57:18.061Z"
   },
   {
    "duration": 2332,
    "start_time": "2022-12-21T15:57:59.494Z"
   },
   {
    "duration": 2223,
    "start_time": "2022-12-21T15:59:08.425Z"
   },
   {
    "duration": 188,
    "start_time": "2022-12-21T15:59:45.967Z"
   },
   {
    "duration": 40,
    "start_time": "2022-12-21T15:59:59.024Z"
   },
   {
    "duration": 14,
    "start_time": "2022-12-21T16:00:14.703Z"
   },
   {
    "duration": 14,
    "start_time": "2022-12-21T16:00:36.317Z"
   },
   {
    "duration": 516,
    "start_time": "2022-12-21T16:00:57.905Z"
   },
   {
    "duration": 26,
    "start_time": "2022-12-21T16:00:58.423Z"
   },
   {
    "duration": 732,
    "start_time": "2022-12-21T16:00:58.451Z"
   },
   {
    "duration": 21,
    "start_time": "2022-12-21T16:00:59.185Z"
   },
   {
    "duration": 29,
    "start_time": "2022-12-21T16:00:59.208Z"
   },
   {
    "duration": 76,
    "start_time": "2022-12-21T16:00:59.238Z"
   },
   {
    "duration": 14,
    "start_time": "2022-12-21T16:00:59.316Z"
   },
   {
    "duration": 17,
    "start_time": "2022-12-21T16:00:59.331Z"
   },
   {
    "duration": 16,
    "start_time": "2022-12-21T16:00:59.349Z"
   },
   {
    "duration": 22,
    "start_time": "2022-12-21T16:00:59.368Z"
   },
   {
    "duration": 22,
    "start_time": "2022-12-21T16:00:59.392Z"
   },
   {
    "duration": 22,
    "start_time": "2022-12-21T16:00:59.416Z"
   },
   {
    "duration": 20,
    "start_time": "2022-12-21T16:00:59.440Z"
   },
   {
    "duration": 16,
    "start_time": "2022-12-21T16:00:59.461Z"
   },
   {
    "duration": 21,
    "start_time": "2022-12-21T16:00:59.478Z"
   },
   {
    "duration": 26,
    "start_time": "2022-12-21T16:00:59.501Z"
   },
   {
    "duration": 40,
    "start_time": "2022-12-21T16:00:59.529Z"
   },
   {
    "duration": 26,
    "start_time": "2022-12-21T16:00:59.571Z"
   },
   {
    "duration": 25,
    "start_time": "2022-12-21T16:00:59.598Z"
   },
   {
    "duration": 52,
    "start_time": "2022-12-21T16:00:59.625Z"
   },
   {
    "duration": 64,
    "start_time": "2022-12-21T16:00:59.678Z"
   },
   {
    "duration": 81,
    "start_time": "2022-12-21T16:00:59.744Z"
   },
   {
    "duration": 34,
    "start_time": "2022-12-21T16:00:59.826Z"
   },
   {
    "duration": 26,
    "start_time": "2022-12-21T16:00:59.862Z"
   },
   {
    "duration": 30,
    "start_time": "2022-12-21T16:00:59.890Z"
   },
   {
    "duration": 36,
    "start_time": "2022-12-21T16:00:59.922Z"
   },
   {
    "duration": 27,
    "start_time": "2022-12-21T16:00:59.960Z"
   },
   {
    "duration": 45,
    "start_time": "2022-12-21T16:00:59.990Z"
   },
   {
    "duration": 59,
    "start_time": "2022-12-21T16:01:00.036Z"
   },
   {
    "duration": 33,
    "start_time": "2022-12-21T16:01:00.096Z"
   },
   {
    "duration": 59,
    "start_time": "2022-12-21T16:01:00.131Z"
   },
   {
    "duration": 39,
    "start_time": "2022-12-21T16:01:00.192Z"
   },
   {
    "duration": 47,
    "start_time": "2022-12-21T16:01:00.232Z"
   },
   {
    "duration": 46,
    "start_time": "2022-12-21T16:01:00.281Z"
   },
   {
    "duration": 49,
    "start_time": "2022-12-21T16:01:00.328Z"
   },
   {
    "duration": 18,
    "start_time": "2022-12-21T16:01:00.378Z"
   },
   {
    "duration": 42,
    "start_time": "2022-12-21T16:01:00.398Z"
   },
   {
    "duration": 35,
    "start_time": "2022-12-21T16:01:00.442Z"
   },
   {
    "duration": 49,
    "start_time": "2022-12-21T16:01:00.478Z"
   },
   {
    "duration": 132,
    "start_time": "2022-12-21T16:01:00.529Z"
   },
   {
    "duration": 6,
    "start_time": "2022-12-21T16:01:00.662Z"
   },
   {
    "duration": 45,
    "start_time": "2022-12-21T16:01:00.670Z"
   },
   {
    "duration": 2240,
    "start_time": "2022-12-21T16:01:00.717Z"
   },
   {
    "duration": 2172,
    "start_time": "2022-12-21T16:01:18.909Z"
   },
   {
    "duration": 2160,
    "start_time": "2022-12-21T16:05:45.452Z"
   },
   {
    "duration": 2217,
    "start_time": "2022-12-21T16:07:19.610Z"
   },
   {
    "duration": 2220,
    "start_time": "2022-12-21T16:13:01.813Z"
   },
   {
    "duration": 2157,
    "start_time": "2022-12-21T16:13:57.744Z"
   },
   {
    "duration": 2278,
    "start_time": "2022-12-21T16:15:11.207Z"
   },
   {
    "duration": 2182,
    "start_time": "2022-12-21T16:40:11.736Z"
   },
   {
    "duration": 2121,
    "start_time": "2022-12-21T16:43:56.609Z"
   },
   {
    "duration": 2111,
    "start_time": "2022-12-21T16:45:37.402Z"
   },
   {
    "duration": 2200,
    "start_time": "2022-12-21T16:46:28.608Z"
   },
   {
    "duration": 2237,
    "start_time": "2022-12-21T16:47:34.402Z"
   },
   {
    "duration": 2202,
    "start_time": "2022-12-21T16:49:12.400Z"
   },
   {
    "duration": 2454,
    "start_time": "2022-12-21T16:50:54.236Z"
   },
   {
    "duration": 2330,
    "start_time": "2022-12-21T16:51:59.683Z"
   },
   {
    "duration": 2473,
    "start_time": "2022-12-21T16:56:12.738Z"
   },
   {
    "duration": 2189,
    "start_time": "2022-12-21T16:57:37.091Z"
   },
   {
    "duration": 2328,
    "start_time": "2022-12-21T16:58:55.551Z"
   },
   {
    "duration": 2202,
    "start_time": "2022-12-21T16:59:45.518Z"
   },
   {
    "duration": 2250,
    "start_time": "2022-12-21T17:00:23.948Z"
   },
   {
    "duration": 2180,
    "start_time": "2022-12-21T17:00:31.721Z"
   },
   {
    "duration": 2224,
    "start_time": "2022-12-21T17:01:20.545Z"
   },
   {
    "duration": 2188,
    "start_time": "2022-12-21T17:01:28.601Z"
   },
   {
    "duration": 2494,
    "start_time": "2022-12-21T17:02:51.403Z"
   },
   {
    "duration": 2596,
    "start_time": "2022-12-21T17:03:53.540Z"
   },
   {
    "duration": 2553,
    "start_time": "2022-12-21T17:05:07.936Z"
   },
   {
    "duration": 2305,
    "start_time": "2022-12-21T17:06:52.287Z"
   },
   {
    "duration": 2315,
    "start_time": "2022-12-21T17:08:11.857Z"
   },
   {
    "duration": 2362,
    "start_time": "2022-12-21T17:08:46.087Z"
   },
   {
    "duration": 2607,
    "start_time": "2022-12-21T17:09:54.198Z"
   },
   {
    "duration": 2410,
    "start_time": "2022-12-21T17:10:47.016Z"
   },
   {
    "duration": 2461,
    "start_time": "2022-12-21T17:12:08.136Z"
   },
   {
    "duration": 2508,
    "start_time": "2022-12-21T17:12:54.926Z"
   },
   {
    "duration": 2457,
    "start_time": "2022-12-21T17:13:31.988Z"
   },
   {
    "duration": 2470,
    "start_time": "2022-12-21T17:13:56.686Z"
   },
   {
    "duration": 2463,
    "start_time": "2022-12-21T17:14:58.233Z"
   },
   {
    "duration": 2969,
    "start_time": "2022-12-21T17:15:15.704Z"
   },
   {
    "duration": 2596,
    "start_time": "2022-12-21T17:15:32.558Z"
   },
   {
    "duration": 2555,
    "start_time": "2022-12-21T17:15:52.001Z"
   },
   {
    "duration": 2570,
    "start_time": "2022-12-21T17:22:34.996Z"
   },
   {
    "duration": 2499,
    "start_time": "2022-12-21T17:22:57.038Z"
   },
   {
    "duration": 2487,
    "start_time": "2022-12-21T17:23:25.586Z"
   },
   {
    "duration": 2599,
    "start_time": "2022-12-21T17:24:14.318Z"
   },
   {
    "duration": 8,
    "start_time": "2022-12-21T17:31:04.844Z"
   },
   {
    "duration": 6,
    "start_time": "2022-12-21T17:31:25.813Z"
   },
   {
    "duration": 6,
    "start_time": "2022-12-21T17:31:44.742Z"
   },
   {
    "duration": 77,
    "start_time": "2022-12-21T17:32:40.403Z"
   },
   {
    "duration": 14,
    "start_time": "2022-12-21T17:32:52.487Z"
   },
   {
    "duration": 6,
    "start_time": "2022-12-21T17:33:26.889Z"
   },
   {
    "duration": 77,
    "start_time": "2022-12-21T17:36:24.708Z"
   },
   {
    "duration": 7,
    "start_time": "2022-12-21T17:36:48.321Z"
   },
   {
    "duration": 3,
    "start_time": "2022-12-21T17:37:42.435Z"
   },
   {
    "duration": 22,
    "start_time": "2022-12-21T17:38:04.604Z"
   },
   {
    "duration": 5,
    "start_time": "2022-12-21T17:38:55.001Z"
   },
   {
    "duration": 22,
    "start_time": "2022-12-21T17:39:36.949Z"
   },
   {
    "duration": 29,
    "start_time": "2022-12-21T17:39:50.135Z"
   },
   {
    "duration": 37,
    "start_time": "2022-12-21T17:40:13.253Z"
   },
   {
    "duration": 15,
    "start_time": "2022-12-21T17:40:54.008Z"
   },
   {
    "duration": 15,
    "start_time": "2022-12-21T17:41:15.709Z"
   },
   {
    "duration": 14,
    "start_time": "2022-12-21T17:41:59.335Z"
   },
   {
    "duration": 5,
    "start_time": "2022-12-21T17:45:17.246Z"
   },
   {
    "duration": 73,
    "start_time": "2022-12-21T17:48:26.934Z"
   },
   {
    "duration": 68,
    "start_time": "2022-12-21T17:48:49.898Z"
   },
   {
    "duration": 84,
    "start_time": "2022-12-21T17:49:00.047Z"
   },
   {
    "duration": 11,
    "start_time": "2022-12-21T17:49:04.662Z"
   },
   {
    "duration": 14,
    "start_time": "2022-12-21T17:49:33.299Z"
   },
   {
    "duration": 8,
    "start_time": "2022-12-21T17:49:53.934Z"
   },
   {
    "duration": 23,
    "start_time": "2022-12-21T17:50:01.406Z"
   },
   {
    "duration": 21,
    "start_time": "2022-12-21T17:50:09.759Z"
   },
   {
    "duration": 16,
    "start_time": "2022-12-21T17:50:14.600Z"
   },
   {
    "duration": 15,
    "start_time": "2022-12-21T17:52:16.434Z"
   },
   {
    "duration": 27,
    "start_time": "2022-12-21T17:52:30.045Z"
   },
   {
    "duration": 18,
    "start_time": "2022-12-21T17:52:36.151Z"
   },
   {
    "duration": 69,
    "start_time": "2022-12-21T17:55:23.020Z"
   },
   {
    "duration": 16,
    "start_time": "2022-12-21T17:56:19.386Z"
   },
   {
    "duration": 18,
    "start_time": "2022-12-21T17:57:01.495Z"
   },
   {
    "duration": 4,
    "start_time": "2022-12-21T17:57:26.095Z"
   },
   {
    "duration": 16,
    "start_time": "2022-12-21T17:57:38.295Z"
   },
   {
    "duration": 12,
    "start_time": "2022-12-21T17:57:56.814Z"
   },
   {
    "duration": 20,
    "start_time": "2022-12-21T17:58:33.495Z"
   },
   {
    "duration": 26,
    "start_time": "2022-12-21T17:59:13.402Z"
   },
   {
    "duration": 23,
    "start_time": "2022-12-21T17:59:34.995Z"
   },
   {
    "duration": 24,
    "start_time": "2022-12-21T17:59:51.633Z"
   },
   {
    "duration": 31,
    "start_time": "2022-12-21T18:00:47.424Z"
   },
   {
    "duration": 32,
    "start_time": "2022-12-21T18:02:14.742Z"
   },
   {
    "duration": 8,
    "start_time": "2022-12-21T18:03:15.799Z"
   },
   {
    "duration": 9,
    "start_time": "2022-12-21T18:04:17.280Z"
   },
   {
    "duration": 18,
    "start_time": "2022-12-21T18:04:36.273Z"
   },
   {
    "duration": 15,
    "start_time": "2022-12-21T18:05:07.877Z"
   },
   {
    "duration": 4,
    "start_time": "2022-12-21T18:05:55.540Z"
   },
   {
    "duration": 17,
    "start_time": "2022-12-21T18:06:16.773Z"
   },
   {
    "duration": 4,
    "start_time": "2022-12-21T18:07:00.680Z"
   },
   {
    "duration": 8,
    "start_time": "2022-12-21T18:07:16.853Z"
   },
   {
    "duration": 5,
    "start_time": "2022-12-21T18:09:16.373Z"
   },
   {
    "duration": 6,
    "start_time": "2022-12-21T18:09:21.414Z"
   },
   {
    "duration": 5,
    "start_time": "2022-12-21T18:09:33.859Z"
   },
   {
    "duration": 7,
    "start_time": "2022-12-21T18:09:57.785Z"
   },
   {
    "duration": 5,
    "start_time": "2022-12-21T18:10:51.316Z"
   },
   {
    "duration": 8,
    "start_time": "2022-12-21T18:11:07.021Z"
   },
   {
    "duration": 9,
    "start_time": "2022-12-21T18:11:34.855Z"
   },
   {
    "duration": 27,
    "start_time": "2022-12-21T18:11:48.885Z"
   },
   {
    "duration": 10,
    "start_time": "2022-12-21T18:12:48.507Z"
   },
   {
    "duration": 31,
    "start_time": "2022-12-21T18:13:25.275Z"
   },
   {
    "duration": 15,
    "start_time": "2022-12-21T18:14:04.423Z"
   },
   {
    "duration": 6,
    "start_time": "2022-12-21T18:15:46.581Z"
   },
   {
    "duration": 5,
    "start_time": "2022-12-21T18:16:36.502Z"
   },
   {
    "duration": 28,
    "start_time": "2022-12-21T18:16:50.988Z"
   },
   {
    "duration": 5,
    "start_time": "2022-12-21T18:17:29.144Z"
   },
   {
    "duration": 7,
    "start_time": "2022-12-21T18:17:42.122Z"
   },
   {
    "duration": 6,
    "start_time": "2022-12-21T18:17:53.120Z"
   },
   {
    "duration": 4,
    "start_time": "2022-12-21T18:18:11.759Z"
   },
   {
    "duration": 44,
    "start_time": "2022-12-21T18:18:59.286Z"
   },
   {
    "duration": 21,
    "start_time": "2022-12-21T18:19:52.500Z"
   },
   {
    "duration": 32,
    "start_time": "2022-12-21T18:21:15.217Z"
   },
   {
    "duration": 18,
    "start_time": "2022-12-21T18:21:47.222Z"
   },
   {
    "duration": 38,
    "start_time": "2022-12-21T18:27:35.701Z"
   },
   {
    "duration": 40,
    "start_time": "2022-12-21T18:28:12.053Z"
   },
   {
    "duration": 39,
    "start_time": "2022-12-21T18:28:18.455Z"
   },
   {
    "duration": 55,
    "start_time": "2022-12-21T18:28:55.857Z"
   },
   {
    "duration": 39,
    "start_time": "2022-12-21T18:29:16.653Z"
   },
   {
    "duration": 38,
    "start_time": "2022-12-21T18:29:29.183Z"
   },
   {
    "duration": 42,
    "start_time": "2022-12-21T18:29:38.245Z"
   },
   {
    "duration": 38,
    "start_time": "2022-12-21T18:30:46.398Z"
   },
   {
    "duration": 43,
    "start_time": "2022-12-21T18:32:49.202Z"
   },
   {
    "duration": 64,
    "start_time": "2022-12-21T18:34:20.925Z"
   },
   {
    "duration": 62,
    "start_time": "2022-12-21T18:34:41.485Z"
   },
   {
    "duration": 64,
    "start_time": "2022-12-21T18:34:53.796Z"
   },
   {
    "duration": 62,
    "start_time": "2022-12-21T18:35:10.003Z"
   },
   {
    "duration": 32,
    "start_time": "2022-12-21T18:35:55.697Z"
   },
   {
    "duration": 52,
    "start_time": "2022-12-21T18:36:51.928Z"
   },
   {
    "duration": 36,
    "start_time": "2022-12-21T18:38:01.522Z"
   },
   {
    "duration": 2303,
    "start_time": "2022-12-21T18:38:20.502Z"
   },
   {
    "duration": 30,
    "start_time": "2022-12-21T18:39:05.944Z"
   },
   {
    "duration": 36,
    "start_time": "2022-12-21T18:39:26.999Z"
   },
   {
    "duration": 35,
    "start_time": "2022-12-21T18:40:15.614Z"
   },
   {
    "duration": 31,
    "start_time": "2022-12-21T18:40:34.851Z"
   },
   {
    "duration": 36,
    "start_time": "2022-12-21T18:40:44.727Z"
   },
   {
    "duration": 41,
    "start_time": "2022-12-21T18:41:45.200Z"
   },
   {
    "duration": 38,
    "start_time": "2022-12-21T18:43:01.602Z"
   },
   {
    "duration": 32,
    "start_time": "2022-12-21T18:43:30.835Z"
   },
   {
    "duration": 1331,
    "start_time": "2022-12-21T18:45:16.227Z"
   },
   {
    "duration": 527,
    "start_time": "2022-12-21T18:45:55.821Z"
   },
   {
    "duration": 24,
    "start_time": "2022-12-21T18:45:56.350Z"
   },
   {
    "duration": 710,
    "start_time": "2022-12-21T18:45:56.376Z"
   },
   {
    "duration": 22,
    "start_time": "2022-12-21T18:45:57.088Z"
   },
   {
    "duration": 29,
    "start_time": "2022-12-21T18:45:57.112Z"
   },
   {
    "duration": 33,
    "start_time": "2022-12-21T18:45:57.143Z"
   },
   {
    "duration": 58,
    "start_time": "2022-12-21T18:45:57.178Z"
   },
   {
    "duration": 37,
    "start_time": "2022-12-21T18:45:57.238Z"
   },
   {
    "duration": 48,
    "start_time": "2022-12-21T18:45:57.277Z"
   },
   {
    "duration": 27,
    "start_time": "2022-12-21T18:45:57.328Z"
   },
   {
    "duration": 60,
    "start_time": "2022-12-21T18:45:57.356Z"
   },
   {
    "duration": 85,
    "start_time": "2022-12-21T18:45:57.418Z"
   },
   {
    "duration": 35,
    "start_time": "2022-12-21T18:45:57.505Z"
   },
   {
    "duration": 34,
    "start_time": "2022-12-21T18:45:57.542Z"
   },
   {
    "duration": 33,
    "start_time": "2022-12-21T18:45:57.577Z"
   },
   {
    "duration": 37,
    "start_time": "2022-12-21T18:45:57.611Z"
   },
   {
    "duration": 49,
    "start_time": "2022-12-21T18:45:57.649Z"
   },
   {
    "duration": 69,
    "start_time": "2022-12-21T18:45:57.699Z"
   },
   {
    "duration": 40,
    "start_time": "2022-12-21T18:45:57.769Z"
   },
   {
    "duration": 55,
    "start_time": "2022-12-21T18:45:57.811Z"
   },
   {
    "duration": 46,
    "start_time": "2022-12-21T18:45:57.868Z"
   },
   {
    "duration": 45,
    "start_time": "2022-12-21T18:45:57.916Z"
   },
   {
    "duration": 36,
    "start_time": "2022-12-21T18:45:57.963Z"
   },
   {
    "duration": 21,
    "start_time": "2022-12-21T18:45:58.001Z"
   },
   {
    "duration": 59,
    "start_time": "2022-12-21T18:45:58.023Z"
   },
   {
    "duration": 35,
    "start_time": "2022-12-21T18:45:58.084Z"
   },
   {
    "duration": 42,
    "start_time": "2022-12-21T18:45:58.121Z"
   },
   {
    "duration": 57,
    "start_time": "2022-12-21T18:45:58.167Z"
   },
   {
    "duration": 39,
    "start_time": "2022-12-21T18:45:58.226Z"
   },
   {
    "duration": 48,
    "start_time": "2022-12-21T18:45:58.267Z"
   },
   {
    "duration": 107,
    "start_time": "2022-12-21T18:45:58.317Z"
   },
   {
    "duration": 44,
    "start_time": "2022-12-21T18:45:58.426Z"
   },
   {
    "duration": 32,
    "start_time": "2022-12-21T18:45:58.472Z"
   },
   {
    "duration": 57,
    "start_time": "2022-12-21T18:45:58.506Z"
   },
   {
    "duration": 64,
    "start_time": "2022-12-21T18:45:58.565Z"
   },
   {
    "duration": 37,
    "start_time": "2022-12-21T18:45:58.631Z"
   },
   {
    "duration": 39,
    "start_time": "2022-12-21T18:45:58.670Z"
   },
   {
    "duration": 55,
    "start_time": "2022-12-21T18:45:58.710Z"
   },
   {
    "duration": 37,
    "start_time": "2022-12-21T18:45:58.766Z"
   },
   {
    "duration": 144,
    "start_time": "2022-12-21T18:45:58.804Z"
   },
   {
    "duration": 5,
    "start_time": "2022-12-21T18:45:58.950Z"
   },
   {
    "duration": 29,
    "start_time": "2022-12-21T18:45:58.956Z"
   },
   {
    "duration": 2508,
    "start_time": "2022-12-21T18:45:58.986Z"
   },
   {
    "duration": 7,
    "start_time": "2022-12-21T18:46:01.497Z"
   },
   {
    "duration": 1250,
    "start_time": "2022-12-21T18:46:25.329Z"
   },
   {
    "duration": 108,
    "start_time": "2022-12-21T18:48:03.618Z"
   },
   {
    "duration": 46,
    "start_time": "2022-12-21T18:48:12.556Z"
   },
   {
    "duration": 34,
    "start_time": "2022-12-21T18:48:37.331Z"
   },
   {
    "duration": 40,
    "start_time": "2022-12-21T18:48:54.113Z"
   },
   {
    "duration": 48,
    "start_time": "2022-12-21T18:49:09.399Z"
   },
   {
    "duration": 50,
    "start_time": "2022-12-21T18:50:08.474Z"
   },
   {
    "duration": 74,
    "start_time": "2022-12-21T18:50:25.980Z"
   },
   {
    "duration": 43,
    "start_time": "2022-12-21T18:52:03.496Z"
   },
   {
    "duration": 42,
    "start_time": "2022-12-21T18:53:28.593Z"
   },
   {
    "duration": 53,
    "start_time": "2022-12-21T18:54:06.510Z"
   },
   {
    "duration": 44,
    "start_time": "2022-12-21T18:54:33.113Z"
   },
   {
    "duration": 35,
    "start_time": "2022-12-21T18:54:52.148Z"
   },
   {
    "duration": 34,
    "start_time": "2022-12-21T18:55:14.172Z"
   },
   {
    "duration": 54,
    "start_time": "2022-12-21T18:56:18.923Z"
   },
   {
    "duration": 72,
    "start_time": "2022-12-21T18:57:43.894Z"
   },
   {
    "duration": 61,
    "start_time": "2022-12-21T18:57:59.772Z"
   },
   {
    "duration": 59,
    "start_time": "2022-12-21T18:58:06.045Z"
   },
   {
    "duration": 73,
    "start_time": "2022-12-21T18:58:44.320Z"
   },
   {
    "duration": 85,
    "start_time": "2022-12-21T18:58:54.200Z"
   },
   {
    "duration": 47,
    "start_time": "2022-12-21T18:59:01.092Z"
   },
   {
    "duration": 61,
    "start_time": "2022-12-21T18:59:10.998Z"
   },
   {
    "duration": 63,
    "start_time": "2022-12-21T18:59:22.654Z"
   },
   {
    "duration": 62,
    "start_time": "2022-12-21T18:59:27.915Z"
   },
   {
    "duration": 521,
    "start_time": "2022-12-21T19:00:05.758Z"
   },
   {
    "duration": 26,
    "start_time": "2022-12-21T19:00:06.281Z"
   },
   {
    "duration": 735,
    "start_time": "2022-12-21T19:00:06.327Z"
   },
   {
    "duration": 28,
    "start_time": "2022-12-21T19:00:07.066Z"
   },
   {
    "duration": 7,
    "start_time": "2022-12-21T19:00:07.096Z"
   },
   {
    "duration": 12,
    "start_time": "2022-12-21T19:00:07.126Z"
   },
   {
    "duration": 6,
    "start_time": "2022-12-21T19:00:07.141Z"
   },
   {
    "duration": 9,
    "start_time": "2022-12-21T19:00:07.149Z"
   },
   {
    "duration": 13,
    "start_time": "2022-12-21T19:00:07.161Z"
   },
   {
    "duration": 15,
    "start_time": "2022-12-21T19:00:07.178Z"
   },
   {
    "duration": 42,
    "start_time": "2022-12-21T19:00:07.196Z"
   },
   {
    "duration": 11,
    "start_time": "2022-12-21T19:00:07.240Z"
   },
   {
    "duration": 24,
    "start_time": "2022-12-21T19:00:07.253Z"
   },
   {
    "duration": 15,
    "start_time": "2022-12-21T19:00:07.279Z"
   },
   {
    "duration": 32,
    "start_time": "2022-12-21T19:00:07.295Z"
   },
   {
    "duration": 13,
    "start_time": "2022-12-21T19:00:07.329Z"
   },
   {
    "duration": 29,
    "start_time": "2022-12-21T19:00:07.344Z"
   },
   {
    "duration": 8,
    "start_time": "2022-12-21T19:00:07.375Z"
   },
   {
    "duration": 11,
    "start_time": "2022-12-21T19:00:07.385Z"
   },
   {
    "duration": 23,
    "start_time": "2022-12-21T19:00:07.398Z"
   },
   {
    "duration": 10,
    "start_time": "2022-12-21T19:00:07.423Z"
   },
   {
    "duration": 32,
    "start_time": "2022-12-21T19:00:07.435Z"
   },
   {
    "duration": 36,
    "start_time": "2022-12-21T19:00:07.469Z"
   },
   {
    "duration": 29,
    "start_time": "2022-12-21T19:00:07.507Z"
   },
   {
    "duration": 27,
    "start_time": "2022-12-21T19:00:07.539Z"
   },
   {
    "duration": 15,
    "start_time": "2022-12-21T19:00:07.568Z"
   },
   {
    "duration": 11,
    "start_time": "2022-12-21T19:00:07.585Z"
   },
   {
    "duration": 26,
    "start_time": "2022-12-21T19:00:07.598Z"
   },
   {
    "duration": 8,
    "start_time": "2022-12-21T19:00:07.625Z"
   },
   {
    "duration": 10,
    "start_time": "2022-12-21T19:00:07.636Z"
   },
   {
    "duration": 22,
    "start_time": "2022-12-21T19:00:07.648Z"
   },
   {
    "duration": 10,
    "start_time": "2022-12-21T19:00:07.677Z"
   },
   {
    "duration": 7,
    "start_time": "2022-12-21T19:00:07.749Z"
   },
   {
    "duration": 6,
    "start_time": "2022-12-21T19:00:07.804Z"
   },
   {
    "duration": 14,
    "start_time": "2022-12-21T19:00:07.903Z"
   },
   {
    "duration": 6,
    "start_time": "2022-12-21T19:00:07.924Z"
   },
   {
    "duration": 7,
    "start_time": "2022-12-21T19:00:08.002Z"
   },
   {
    "duration": 9,
    "start_time": "2022-12-21T19:00:08.053Z"
   },
   {
    "duration": 33,
    "start_time": "2022-12-21T19:00:08.114Z"
   },
   {
    "duration": 110,
    "start_time": "2022-12-21T19:00:08.150Z"
   },
   {
    "duration": 5,
    "start_time": "2022-12-21T19:00:08.263Z"
   },
   {
    "duration": 15,
    "start_time": "2022-12-21T19:00:08.270Z"
   },
   {
    "duration": 2825,
    "start_time": "2022-12-21T19:00:08.309Z"
   },
   {
    "duration": 10,
    "start_time": "2022-12-21T19:00:11.137Z"
   },
   {
    "duration": 57,
    "start_time": "2022-12-21T19:00:47.246Z"
   },
   {
    "duration": 107,
    "start_time": "2022-12-21T19:01:01.565Z"
   },
   {
    "duration": 48,
    "start_time": "2022-12-21T19:01:09.866Z"
   },
   {
    "duration": 79,
    "start_time": "2022-12-21T19:01:22.614Z"
   },
   {
    "duration": 46,
    "start_time": "2022-12-21T19:01:46.203Z"
   },
   {
    "duration": 49,
    "start_time": "2022-12-21T19:01:58.198Z"
   },
   {
    "duration": 51,
    "start_time": "2022-12-21T19:02:15.146Z"
   },
   {
    "duration": 56,
    "start_time": "2022-12-21T19:02:35.149Z"
   },
   {
    "duration": 43,
    "start_time": "2022-12-21T19:03:11.158Z"
   },
   {
    "duration": 49,
    "start_time": "2022-12-21T19:03:44.042Z"
   },
   {
    "duration": 56,
    "start_time": "2022-12-21T19:04:24.785Z"
   },
   {
    "duration": 44,
    "start_time": "2022-12-21T19:04:40.758Z"
   },
   {
    "duration": 52,
    "start_time": "2022-12-21T19:04:53.012Z"
   },
   {
    "duration": 40,
    "start_time": "2022-12-21T19:04:59.426Z"
   },
   {
    "duration": 56,
    "start_time": "2022-12-21T19:05:09.625Z"
   },
   {
    "duration": 44,
    "start_time": "2022-12-21T19:05:53.767Z"
   },
   {
    "duration": 40,
    "start_time": "2022-12-21T19:06:02.558Z"
   },
   {
    "duration": 44,
    "start_time": "2022-12-21T19:06:16.414Z"
   },
   {
    "duration": 42,
    "start_time": "2022-12-21T19:06:32.355Z"
   },
   {
    "duration": 45,
    "start_time": "2022-12-21T19:06:50.107Z"
   },
   {
    "duration": 61,
    "start_time": "2022-12-21T19:14:00.500Z"
   },
   {
    "duration": 74,
    "start_time": "2022-12-21T19:22:31.343Z"
   },
   {
    "duration": 72,
    "start_time": "2022-12-21T19:23:29.337Z"
   },
   {
    "duration": 595,
    "start_time": "2022-12-21T19:23:38.834Z"
   },
   {
    "duration": 70,
    "start_time": "2022-12-21T19:24:56.795Z"
   },
   {
    "duration": 1250,
    "start_time": "2022-12-21T19:25:25.053Z"
   },
   {
    "duration": 51,
    "start_time": "2022-12-22T08:47:40.275Z"
   },
   {
    "duration": 630,
    "start_time": "2022-12-22T08:47:50.523Z"
   },
   {
    "duration": 26,
    "start_time": "2022-12-22T08:47:51.155Z"
   },
   {
    "duration": 1043,
    "start_time": "2022-12-22T08:47:51.182Z"
   },
   {
    "duration": 31,
    "start_time": "2022-12-22T08:47:52.228Z"
   },
   {
    "duration": 22,
    "start_time": "2022-12-22T08:47:52.261Z"
   },
   {
    "duration": 19,
    "start_time": "2022-12-22T08:47:52.285Z"
   },
   {
    "duration": 28,
    "start_time": "2022-12-22T08:47:52.306Z"
   },
   {
    "duration": 13,
    "start_time": "2022-12-22T08:47:52.336Z"
   },
   {
    "duration": 29,
    "start_time": "2022-12-22T08:47:52.351Z"
   },
   {
    "duration": 17,
    "start_time": "2022-12-22T08:47:52.382Z"
   },
   {
    "duration": 27,
    "start_time": "2022-12-22T08:47:52.401Z"
   },
   {
    "duration": 21,
    "start_time": "2022-12-22T08:47:52.430Z"
   },
   {
    "duration": 23,
    "start_time": "2022-12-22T08:47:52.453Z"
   },
   {
    "duration": 27,
    "start_time": "2022-12-22T08:47:52.478Z"
   },
   {
    "duration": 30,
    "start_time": "2022-12-22T08:47:52.507Z"
   },
   {
    "duration": 25,
    "start_time": "2022-12-22T08:47:52.539Z"
   },
   {
    "duration": 38,
    "start_time": "2022-12-22T08:47:52.566Z"
   },
   {
    "duration": 15,
    "start_time": "2022-12-22T08:47:52.606Z"
   },
   {
    "duration": 16,
    "start_time": "2022-12-22T08:47:52.623Z"
   },
   {
    "duration": 25,
    "start_time": "2022-12-22T08:47:52.641Z"
   },
   {
    "duration": 27,
    "start_time": "2022-12-22T08:47:52.668Z"
   },
   {
    "duration": 32,
    "start_time": "2022-12-22T08:47:52.697Z"
   },
   {
    "duration": 17,
    "start_time": "2022-12-22T08:47:52.731Z"
   },
   {
    "duration": 24,
    "start_time": "2022-12-22T08:47:52.749Z"
   },
   {
    "duration": 31,
    "start_time": "2022-12-22T08:47:52.774Z"
   },
   {
    "duration": 14,
    "start_time": "2022-12-22T08:47:52.807Z"
   },
   {
    "duration": 34,
    "start_time": "2022-12-22T08:47:52.823Z"
   },
   {
    "duration": 17,
    "start_time": "2022-12-22T08:47:52.861Z"
   },
   {
    "duration": 26,
    "start_time": "2022-12-22T08:47:52.880Z"
   },
   {
    "duration": 14,
    "start_time": "2022-12-22T08:47:52.908Z"
   },
   {
    "duration": 39,
    "start_time": "2022-12-22T08:47:52.924Z"
   },
   {
    "duration": 19,
    "start_time": "2022-12-22T08:47:52.965Z"
   },
   {
    "duration": 28,
    "start_time": "2022-12-22T08:47:52.986Z"
   },
   {
    "duration": 15,
    "start_time": "2022-12-22T08:47:53.016Z"
   },
   {
    "duration": 36,
    "start_time": "2022-12-22T08:47:53.032Z"
   },
   {
    "duration": 10,
    "start_time": "2022-12-22T08:47:53.070Z"
   },
   {
    "duration": 27,
    "start_time": "2022-12-22T08:47:53.081Z"
   },
   {
    "duration": 28,
    "start_time": "2022-12-22T08:47:53.110Z"
   },
   {
    "duration": 45,
    "start_time": "2022-12-22T08:47:53.139Z"
   },
   {
    "duration": 126,
    "start_time": "2022-12-22T08:47:53.186Z"
   },
   {
    "duration": 6,
    "start_time": "2022-12-22T08:47:53.314Z"
   },
   {
    "duration": 24,
    "start_time": "2022-12-22T08:47:53.321Z"
   },
   {
    "duration": 2956,
    "start_time": "2022-12-22T08:47:53.346Z"
   },
   {
    "duration": 9,
    "start_time": "2022-12-22T08:47:56.304Z"
   },
   {
    "duration": 6,
    "start_time": "2022-12-22T08:48:02.139Z"
   },
   {
    "duration": 1515,
    "start_time": "2022-12-22T09:05:07.313Z"
   },
   {
    "duration": 971,
    "start_time": "2022-12-22T09:08:15.663Z"
   },
   {
    "duration": 906,
    "start_time": "2022-12-22T09:08:26.910Z"
   },
   {
    "duration": 837,
    "start_time": "2022-12-22T09:08:48.188Z"
   },
   {
    "duration": 1014,
    "start_time": "2022-12-22T09:11:59.612Z"
   },
   {
    "duration": 858,
    "start_time": "2022-12-22T09:12:34.372Z"
   },
   {
    "duration": 972,
    "start_time": "2022-12-22T09:13:59.687Z"
   },
   {
    "duration": 1007,
    "start_time": "2022-12-22T09:22:11.876Z"
   },
   {
    "duration": 949,
    "start_time": "2022-12-22T09:22:20.770Z"
   },
   {
    "duration": 918,
    "start_time": "2022-12-22T09:25:01.973Z"
   },
   {
    "duration": 986,
    "start_time": "2022-12-22T09:25:44.168Z"
   },
   {
    "duration": 861,
    "start_time": "2022-12-22T09:47:05.191Z"
   },
   {
    "duration": 2043,
    "start_time": "2022-12-22T09:47:10.499Z"
   },
   {
    "duration": 2202,
    "start_time": "2022-12-22T09:49:19.015Z"
   },
   {
    "duration": 2307,
    "start_time": "2022-12-22T09:50:08.846Z"
   },
   {
    "duration": 2005,
    "start_time": "2022-12-22T09:50:54.723Z"
   },
   {
    "duration": 2099,
    "start_time": "2022-12-22T09:51:40.346Z"
   },
   {
    "duration": 1980,
    "start_time": "2022-12-22T09:52:02.561Z"
   },
   {
    "duration": 2049,
    "start_time": "2022-12-22T09:52:23.652Z"
   },
   {
    "duration": 2075,
    "start_time": "2022-12-22T09:52:47.203Z"
   },
   {
    "duration": 3004,
    "start_time": "2022-12-22T09:55:03.233Z"
   },
   {
    "duration": 3128,
    "start_time": "2022-12-22T09:55:13.837Z"
   },
   {
    "duration": 3273,
    "start_time": "2022-12-22T09:56:16.077Z"
   },
   {
    "duration": 3121,
    "start_time": "2022-12-22T09:58:34.064Z"
   },
   {
    "duration": 4354,
    "start_time": "2022-12-22T09:58:42.874Z"
   },
   {
    "duration": 4186,
    "start_time": "2022-12-22T10:03:02.298Z"
   },
   {
    "duration": 4159,
    "start_time": "2022-12-22T10:03:30.276Z"
   },
   {
    "duration": 4517,
    "start_time": "2022-12-22T10:03:43.975Z"
   },
   {
    "duration": 4235,
    "start_time": "2022-12-22T10:04:00.539Z"
   },
   {
    "duration": 4326,
    "start_time": "2022-12-22T10:04:39.911Z"
   },
   {
    "duration": 4306,
    "start_time": "2022-12-22T10:06:03.020Z"
   },
   {
    "duration": 5387,
    "start_time": "2022-12-22T10:07:20.969Z"
   },
   {
    "duration": 6365,
    "start_time": "2022-12-22T10:45:10.821Z"
   },
   {
    "duration": 6192,
    "start_time": "2022-12-22T10:45:38.260Z"
   },
   {
    "duration": 6552,
    "start_time": "2022-12-22T10:48:12.814Z"
   },
   {
    "duration": 6646,
    "start_time": "2022-12-22T10:49:00.772Z"
   },
   {
    "duration": 7044,
    "start_time": "2022-12-22T10:49:43.325Z"
   },
   {
    "duration": 7478,
    "start_time": "2022-12-22T10:50:54.145Z"
   },
   {
    "duration": 5132,
    "start_time": "2022-12-22T10:52:07.118Z"
   },
   {
    "duration": 4950,
    "start_time": "2022-12-22T10:53:50.029Z"
   },
   {
    "duration": 6352,
    "start_time": "2022-12-22T10:54:07.594Z"
   },
   {
    "duration": 7655,
    "start_time": "2022-12-22T11:00:13.237Z"
   },
   {
    "duration": 7156,
    "start_time": "2022-12-22T11:00:45.041Z"
   },
   {
    "duration": 7193,
    "start_time": "2022-12-22T11:01:43.449Z"
   },
   {
    "duration": 8287,
    "start_time": "2022-12-22T11:02:03.035Z"
   },
   {
    "duration": 8673,
    "start_time": "2022-12-22T11:03:33.096Z"
   },
   {
    "duration": 75,
    "start_time": "2022-12-22T11:11:07.709Z"
   },
   {
    "duration": 82,
    "start_time": "2022-12-22T11:14:00.037Z"
   },
   {
    "duration": 95,
    "start_time": "2022-12-22T11:14:34.834Z"
   },
   {
    "duration": 24,
    "start_time": "2022-12-22T11:14:51.207Z"
   },
   {
    "duration": 8,
    "start_time": "2022-12-22T11:15:11.035Z"
   },
   {
    "duration": 27,
    "start_time": "2022-12-22T11:17:07.271Z"
   },
   {
    "duration": 15,
    "start_time": "2022-12-22T11:18:09.298Z"
   },
   {
    "duration": 10,
    "start_time": "2022-12-22T11:20:31.229Z"
   },
   {
    "duration": 6,
    "start_time": "2022-12-22T11:20:52.407Z"
   },
   {
    "duration": 28,
    "start_time": "2022-12-22T11:21:16.510Z"
   },
   {
    "duration": 7,
    "start_time": "2022-12-22T11:22:40.463Z"
   },
   {
    "duration": 5,
    "start_time": "2022-12-22T11:22:45.320Z"
   },
   {
    "duration": 33,
    "start_time": "2022-12-22T11:28:58.554Z"
   },
   {
    "duration": 41,
    "start_time": "2022-12-22T11:51:09.610Z"
   },
   {
    "duration": 32,
    "start_time": "2022-12-22T11:51:39.939Z"
   },
   {
    "duration": 613,
    "start_time": "2022-12-22T11:55:25.171Z"
   },
   {
    "duration": 1692,
    "start_time": "2022-12-22T11:57:14.813Z"
   },
   {
    "duration": 1710,
    "start_time": "2022-12-22T11:57:42.645Z"
   },
   {
    "duration": 655,
    "start_time": "2022-12-22T11:58:25.266Z"
   },
   {
    "duration": 620,
    "start_time": "2022-12-22T11:59:39.814Z"
   },
   {
    "duration": 101,
    "start_time": "2022-12-22T12:21:37.919Z"
   },
   {
    "duration": 6,
    "start_time": "2022-12-22T12:22:35.180Z"
   },
   {
    "duration": 109,
    "start_time": "2022-12-22T12:22:51.841Z"
   },
   {
    "duration": 261,
    "start_time": "2022-12-22T12:24:50.249Z"
   },
   {
    "duration": 376,
    "start_time": "2022-12-22T12:26:31.473Z"
   },
   {
    "duration": 309,
    "start_time": "2022-12-22T12:26:51.105Z"
   },
   {
    "duration": 282,
    "start_time": "2022-12-22T12:30:48.890Z"
   },
   {
    "duration": 345,
    "start_time": "2022-12-22T12:34:29.577Z"
   },
   {
    "duration": 263,
    "start_time": "2022-12-22T12:37:35.658Z"
   },
   {
    "duration": 270,
    "start_time": "2022-12-22T12:38:03.458Z"
   },
   {
    "duration": 366,
    "start_time": "2022-12-22T12:38:21.527Z"
   },
   {
    "duration": 72,
    "start_time": "2022-12-22T12:38:27.642Z"
   },
   {
    "duration": 352,
    "start_time": "2022-12-22T12:42:09.635Z"
   },
   {
    "duration": 268,
    "start_time": "2022-12-22T12:42:32.226Z"
   },
   {
    "duration": 8047,
    "start_time": "2022-12-22T12:46:00.255Z"
   },
   {
    "duration": 18,
    "start_time": "2022-12-22T12:46:44.761Z"
   },
   {
    "duration": 19,
    "start_time": "2022-12-22T12:49:40.320Z"
   },
   {
    "duration": 8509,
    "start_time": "2022-12-22T12:50:18.599Z"
   },
   {
    "duration": 80,
    "start_time": "2022-12-22T12:50:32.912Z"
   },
   {
    "duration": 276,
    "start_time": "2022-12-22T12:50:42.046Z"
   },
   {
    "duration": 150,
    "start_time": "2022-12-22T12:52:52.891Z"
   },
   {
    "duration": 34,
    "start_time": "2022-12-22T12:52:53.044Z"
   },
   {
    "duration": 591,
    "start_time": "2022-12-22T12:52:53.080Z"
   },
   {
    "duration": 27,
    "start_time": "2022-12-22T12:52:53.674Z"
   },
   {
    "duration": 14,
    "start_time": "2022-12-22T12:52:53.703Z"
   },
   {
    "duration": 34,
    "start_time": "2022-12-22T12:52:53.718Z"
   },
   {
    "duration": 5,
    "start_time": "2022-12-22T12:52:53.754Z"
   },
   {
    "duration": 21,
    "start_time": "2022-12-22T12:52:53.761Z"
   },
   {
    "duration": 27,
    "start_time": "2022-12-22T12:52:53.784Z"
   },
   {
    "duration": 13,
    "start_time": "2022-12-22T12:52:53.814Z"
   },
   {
    "duration": 26,
    "start_time": "2022-12-22T12:52:53.828Z"
   },
   {
    "duration": 13,
    "start_time": "2022-12-22T12:52:53.855Z"
   },
   {
    "duration": 36,
    "start_time": "2022-12-22T12:52:53.869Z"
   },
   {
    "duration": 25,
    "start_time": "2022-12-22T12:52:53.907Z"
   },
   {
    "duration": 25,
    "start_time": "2022-12-22T12:52:53.934Z"
   },
   {
    "duration": 20,
    "start_time": "2022-12-22T12:52:53.961Z"
   },
   {
    "duration": 24,
    "start_time": "2022-12-22T12:52:53.982Z"
   },
   {
    "duration": 16,
    "start_time": "2022-12-22T12:52:54.009Z"
   },
   {
    "duration": 33,
    "start_time": "2022-12-22T12:52:54.026Z"
   },
   {
    "duration": 18,
    "start_time": "2022-12-22T12:52:54.061Z"
   },
   {
    "duration": 20,
    "start_time": "2022-12-22T12:52:54.080Z"
   },
   {
    "duration": 23,
    "start_time": "2022-12-22T12:52:54.102Z"
   },
   {
    "duration": 8,
    "start_time": "2022-12-22T12:52:54.127Z"
   },
   {
    "duration": 29,
    "start_time": "2022-12-22T12:52:54.138Z"
   },
   {
    "duration": 20,
    "start_time": "2022-12-22T12:52:54.169Z"
   },
   {
    "duration": 17,
    "start_time": "2022-12-22T12:52:54.191Z"
   },
   {
    "duration": 25,
    "start_time": "2022-12-22T12:52:54.212Z"
   },
   {
    "duration": 32,
    "start_time": "2022-12-22T12:52:54.242Z"
   },
   {
    "duration": 18,
    "start_time": "2022-12-22T12:52:54.276Z"
   },
   {
    "duration": 24,
    "start_time": "2022-12-22T12:52:54.295Z"
   },
   {
    "duration": 40,
    "start_time": "2022-12-22T12:52:54.320Z"
   },
   {
    "duration": 16,
    "start_time": "2022-12-22T12:52:54.362Z"
   },
   {
    "duration": 29,
    "start_time": "2022-12-22T12:52:54.380Z"
   },
   {
    "duration": 21,
    "start_time": "2022-12-22T12:52:54.411Z"
   },
   {
    "duration": 30,
    "start_time": "2022-12-22T12:52:54.434Z"
   },
   {
    "duration": 15,
    "start_time": "2022-12-22T12:52:54.466Z"
   },
   {
    "duration": 17,
    "start_time": "2022-12-22T12:52:54.483Z"
   },
   {
    "duration": 31,
    "start_time": "2022-12-22T12:52:54.502Z"
   },
   {
    "duration": 65,
    "start_time": "2022-12-22T12:52:54.536Z"
   },
   {
    "duration": 115,
    "start_time": "2022-12-22T12:52:54.604Z"
   },
   {
    "duration": 7,
    "start_time": "2022-12-22T12:52:54.721Z"
   },
   {
    "duration": 26,
    "start_time": "2022-12-22T12:52:54.730Z"
   },
   {
    "duration": 3172,
    "start_time": "2022-12-22T12:52:54.758Z"
   },
   {
    "duration": 8,
    "start_time": "2022-12-22T12:52:57.932Z"
   },
   {
    "duration": 22,
    "start_time": "2022-12-22T12:52:57.951Z"
   },
   {
    "duration": 3575,
    "start_time": "2022-12-22T12:52:57.975Z"
   },
   {
    "duration": 716,
    "start_time": "2022-12-22T12:53:01.553Z"
   },
   {
    "duration": 90,
    "start_time": "2022-12-22T12:53:02.271Z"
   },
   {
    "duration": 282,
    "start_time": "2022-12-22T12:53:14.907Z"
   },
   {
    "duration": 12,
    "start_time": "2022-12-22T12:57:16.574Z"
   },
   {
    "duration": 13,
    "start_time": "2022-12-22T12:58:18.858Z"
   },
   {
    "duration": 16,
    "start_time": "2022-12-22T12:59:36.077Z"
   },
   {
    "duration": 19,
    "start_time": "2022-12-22T12:59:41.156Z"
   },
   {
    "duration": 10,
    "start_time": "2022-12-22T12:59:53.445Z"
   },
   {
    "duration": 129,
    "start_time": "2022-12-22T13:00:08.947Z"
   },
   {
    "duration": 28,
    "start_time": "2022-12-22T13:00:09.078Z"
   },
   {
    "duration": 640,
    "start_time": "2022-12-22T13:00:09.108Z"
   },
   {
    "duration": 37,
    "start_time": "2022-12-22T13:00:09.752Z"
   },
   {
    "duration": 79,
    "start_time": "2022-12-22T13:00:09.792Z"
   },
   {
    "duration": 57,
    "start_time": "2022-12-22T13:00:09.873Z"
   },
   {
    "duration": 57,
    "start_time": "2022-12-22T13:00:09.932Z"
   },
   {
    "duration": 42,
    "start_time": "2022-12-22T13:00:09.991Z"
   },
   {
    "duration": 57,
    "start_time": "2022-12-22T13:00:10.035Z"
   },
   {
    "duration": 44,
    "start_time": "2022-12-22T13:00:10.095Z"
   },
   {
    "duration": 53,
    "start_time": "2022-12-22T13:00:10.141Z"
   },
   {
    "duration": 63,
    "start_time": "2022-12-22T13:00:10.195Z"
   },
   {
    "duration": 55,
    "start_time": "2022-12-22T13:00:10.260Z"
   },
   {
    "duration": 72,
    "start_time": "2022-12-22T13:00:10.317Z"
   },
   {
    "duration": 38,
    "start_time": "2022-12-22T13:00:10.391Z"
   },
   {
    "duration": 35,
    "start_time": "2022-12-22T13:00:10.431Z"
   },
   {
    "duration": 35,
    "start_time": "2022-12-22T13:00:10.468Z"
   },
   {
    "duration": 27,
    "start_time": "2022-12-22T13:00:10.505Z"
   },
   {
    "duration": 28,
    "start_time": "2022-12-22T13:00:10.534Z"
   },
   {
    "duration": 32,
    "start_time": "2022-12-22T13:00:10.564Z"
   },
   {
    "duration": 44,
    "start_time": "2022-12-22T13:00:10.598Z"
   },
   {
    "duration": 50,
    "start_time": "2022-12-22T13:00:10.644Z"
   },
   {
    "duration": 43,
    "start_time": "2022-12-22T13:00:10.695Z"
   },
   {
    "duration": 26,
    "start_time": "2022-12-22T13:00:10.739Z"
   },
   {
    "duration": 48,
    "start_time": "2022-12-22T13:00:10.767Z"
   },
   {
    "duration": 26,
    "start_time": "2022-12-22T13:00:10.817Z"
   },
   {
    "duration": 31,
    "start_time": "2022-12-22T13:00:10.845Z"
   },
   {
    "duration": 47,
    "start_time": "2022-12-22T13:00:10.880Z"
   },
   {
    "duration": 32,
    "start_time": "2022-12-22T13:00:10.929Z"
   },
   {
    "duration": 30,
    "start_time": "2022-12-22T13:00:10.963Z"
   },
   {
    "duration": 45,
    "start_time": "2022-12-22T13:00:10.995Z"
   },
   {
    "duration": 44,
    "start_time": "2022-12-22T13:00:11.042Z"
   },
   {
    "duration": 32,
    "start_time": "2022-12-22T13:00:11.088Z"
   },
   {
    "duration": 35,
    "start_time": "2022-12-22T13:00:11.122Z"
   },
   {
    "duration": 34,
    "start_time": "2022-12-22T13:00:11.158Z"
   },
   {
    "duration": 25,
    "start_time": "2022-12-22T13:00:11.194Z"
   },
   {
    "duration": 31,
    "start_time": "2022-12-22T13:00:11.221Z"
   },
   {
    "duration": 40,
    "start_time": "2022-12-22T13:00:11.254Z"
   },
   {
    "duration": 108,
    "start_time": "2022-12-22T13:00:11.296Z"
   },
   {
    "duration": 146,
    "start_time": "2022-12-22T13:00:11.406Z"
   },
   {
    "duration": 7,
    "start_time": "2022-12-22T13:00:11.554Z"
   },
   {
    "duration": 40,
    "start_time": "2022-12-22T13:00:11.563Z"
   },
   {
    "duration": 3288,
    "start_time": "2022-12-22T13:00:11.605Z"
   },
   {
    "duration": 9,
    "start_time": "2022-12-22T13:00:14.895Z"
   },
   {
    "duration": 75,
    "start_time": "2022-12-22T13:00:14.906Z"
   },
   {
    "duration": 10,
    "start_time": "2022-12-22T13:00:25.838Z"
   },
   {
    "duration": 10,
    "start_time": "2022-12-22T13:00:34.206Z"
   },
   {
    "duration": 21,
    "start_time": "2022-12-22T13:02:00.781Z"
   },
   {
    "duration": 27,
    "start_time": "2022-12-22T13:02:44.608Z"
   },
   {
    "duration": 23,
    "start_time": "2022-12-22T13:05:11.639Z"
   },
   {
    "duration": 150,
    "start_time": "2022-12-22T13:05:16.122Z"
   },
   {
    "duration": 31,
    "start_time": "2022-12-22T13:05:16.275Z"
   },
   {
    "duration": 570,
    "start_time": "2022-12-22T13:05:16.308Z"
   },
   {
    "duration": 38,
    "start_time": "2022-12-22T13:05:16.881Z"
   },
   {
    "duration": 8,
    "start_time": "2022-12-22T13:05:16.921Z"
   },
   {
    "duration": 29,
    "start_time": "2022-12-22T13:05:16.930Z"
   },
   {
    "duration": 14,
    "start_time": "2022-12-22T13:05:16.962Z"
   },
   {
    "duration": 13,
    "start_time": "2022-12-22T13:05:16.978Z"
   },
   {
    "duration": 18,
    "start_time": "2022-12-22T13:05:16.993Z"
   },
   {
    "duration": 15,
    "start_time": "2022-12-22T13:05:17.015Z"
   },
   {
    "duration": 24,
    "start_time": "2022-12-22T13:05:17.032Z"
   },
   {
    "duration": 12,
    "start_time": "2022-12-22T13:05:17.058Z"
   },
   {
    "duration": 19,
    "start_time": "2022-12-22T13:05:17.072Z"
   },
   {
    "duration": 12,
    "start_time": "2022-12-22T13:05:17.093Z"
   },
   {
    "duration": 16,
    "start_time": "2022-12-22T13:05:17.107Z"
   },
   {
    "duration": 18,
    "start_time": "2022-12-22T13:05:17.125Z"
   },
   {
    "duration": 20,
    "start_time": "2022-12-22T13:05:17.145Z"
   },
   {
    "duration": 8,
    "start_time": "2022-12-22T13:05:17.168Z"
   },
   {
    "duration": 14,
    "start_time": "2022-12-22T13:05:17.177Z"
   },
   {
    "duration": 19,
    "start_time": "2022-12-22T13:05:17.193Z"
   },
   {
    "duration": 18,
    "start_time": "2022-12-22T13:05:17.214Z"
   },
   {
    "duration": 34,
    "start_time": "2022-12-22T13:05:17.234Z"
   },
   {
    "duration": 32,
    "start_time": "2022-12-22T13:05:17.270Z"
   },
   {
    "duration": 25,
    "start_time": "2022-12-22T13:05:17.304Z"
   },
   {
    "duration": 15,
    "start_time": "2022-12-22T13:05:17.331Z"
   },
   {
    "duration": 17,
    "start_time": "2022-12-22T13:05:17.347Z"
   },
   {
    "duration": 23,
    "start_time": "2022-12-22T13:05:17.367Z"
   },
   {
    "duration": 38,
    "start_time": "2022-12-22T13:05:17.393Z"
   },
   {
    "duration": 8,
    "start_time": "2022-12-22T13:05:17.433Z"
   },
   {
    "duration": 13,
    "start_time": "2022-12-22T13:05:17.442Z"
   },
   {
    "duration": 21,
    "start_time": "2022-12-22T13:05:17.456Z"
   },
   {
    "duration": 6,
    "start_time": "2022-12-22T13:05:17.480Z"
   },
   {
    "duration": 8,
    "start_time": "2022-12-22T13:05:17.488Z"
   },
   {
    "duration": 16,
    "start_time": "2022-12-22T13:05:17.498Z"
   },
   {
    "duration": 18,
    "start_time": "2022-12-22T13:05:17.516Z"
   },
   {
    "duration": 7,
    "start_time": "2022-12-22T13:05:17.550Z"
   },
   {
    "duration": 9,
    "start_time": "2022-12-22T13:05:17.558Z"
   },
   {
    "duration": 11,
    "start_time": "2022-12-22T13:05:17.568Z"
   },
   {
    "duration": 29,
    "start_time": "2022-12-22T13:05:17.581Z"
   },
   {
    "duration": 140,
    "start_time": "2022-12-22T13:05:17.613Z"
   },
   {
    "duration": 6,
    "start_time": "2022-12-22T13:05:17.754Z"
   },
   {
    "duration": 13,
    "start_time": "2022-12-22T13:05:17.762Z"
   },
   {
    "duration": 3355,
    "start_time": "2022-12-22T13:05:17.777Z"
   },
   {
    "duration": 42,
    "start_time": "2022-12-22T13:05:21.134Z"
   },
   {
    "duration": 22,
    "start_time": "2022-12-22T13:05:35.249Z"
   },
   {
    "duration": 21,
    "start_time": "2022-12-22T13:06:49.362Z"
   },
   {
    "duration": 41,
    "start_time": "2022-12-22T13:07:31.981Z"
   },
   {
    "duration": 20,
    "start_time": "2022-12-22T13:12:13.319Z"
   },
   {
    "duration": 32,
    "start_time": "2022-12-22T13:13:15.870Z"
   },
   {
    "duration": 22,
    "start_time": "2022-12-22T13:18:57.713Z"
   },
   {
    "duration": 5,
    "start_time": "2022-12-22T13:19:50.296Z"
   },
   {
    "duration": 25,
    "start_time": "2022-12-22T13:20:25.893Z"
   },
   {
    "duration": 141,
    "start_time": "2022-12-22T13:20:39.410Z"
   },
   {
    "duration": 31,
    "start_time": "2022-12-22T13:20:39.554Z"
   },
   {
    "duration": 771,
    "start_time": "2022-12-22T13:20:39.588Z"
   },
   {
    "duration": 30,
    "start_time": "2022-12-22T13:20:40.361Z"
   },
   {
    "duration": 7,
    "start_time": "2022-12-22T13:20:40.393Z"
   },
   {
    "duration": 18,
    "start_time": "2022-12-22T13:20:40.402Z"
   },
   {
    "duration": 29,
    "start_time": "2022-12-22T13:20:40.422Z"
   },
   {
    "duration": 10,
    "start_time": "2022-12-22T13:20:40.453Z"
   },
   {
    "duration": 14,
    "start_time": "2022-12-22T13:20:40.465Z"
   },
   {
    "duration": 5,
    "start_time": "2022-12-22T13:20:40.483Z"
   },
   {
    "duration": 15,
    "start_time": "2022-12-22T13:20:40.490Z"
   },
   {
    "duration": 10,
    "start_time": "2022-12-22T13:20:40.507Z"
   },
   {
    "duration": 41,
    "start_time": "2022-12-22T13:20:40.518Z"
   },
   {
    "duration": 10,
    "start_time": "2022-12-22T13:20:40.561Z"
   },
   {
    "duration": 12,
    "start_time": "2022-12-22T13:20:40.573Z"
   },
   {
    "duration": 9,
    "start_time": "2022-12-22T13:20:40.587Z"
   },
   {
    "duration": 18,
    "start_time": "2022-12-22T13:20:40.598Z"
   },
   {
    "duration": 36,
    "start_time": "2022-12-22T13:20:40.618Z"
   },
   {
    "duration": 12,
    "start_time": "2022-12-22T13:20:40.657Z"
   },
   {
    "duration": 17,
    "start_time": "2022-12-22T13:20:40.671Z"
   },
   {
    "duration": 9,
    "start_time": "2022-12-22T13:20:40.690Z"
   },
   {
    "duration": 15,
    "start_time": "2022-12-22T13:20:40.700Z"
   },
   {
    "duration": 33,
    "start_time": "2022-12-22T13:20:40.717Z"
   },
   {
    "duration": 12,
    "start_time": "2022-12-22T13:20:40.753Z"
   },
   {
    "duration": 11,
    "start_time": "2022-12-22T13:20:40.766Z"
   },
   {
    "duration": 9,
    "start_time": "2022-12-22T13:20:40.778Z"
   },
   {
    "duration": 10,
    "start_time": "2022-12-22T13:20:40.789Z"
   },
   {
    "duration": 15,
    "start_time": "2022-12-22T13:20:40.803Z"
   },
   {
    "duration": 37,
    "start_time": "2022-12-22T13:20:40.820Z"
   },
   {
    "duration": 22,
    "start_time": "2022-12-22T13:20:40.860Z"
   },
   {
    "duration": 24,
    "start_time": "2022-12-22T13:20:40.884Z"
   },
   {
    "duration": 7,
    "start_time": "2022-12-22T13:20:40.909Z"
   },
   {
    "duration": 14,
    "start_time": "2022-12-22T13:20:40.918Z"
   },
   {
    "duration": 21,
    "start_time": "2022-12-22T13:20:40.934Z"
   },
   {
    "duration": 23,
    "start_time": "2022-12-22T13:20:40.958Z"
   },
   {
    "duration": 8,
    "start_time": "2022-12-22T13:20:40.983Z"
   },
   {
    "duration": 9,
    "start_time": "2022-12-22T13:20:40.993Z"
   },
   {
    "duration": 10,
    "start_time": "2022-12-22T13:20:41.004Z"
   },
   {
    "duration": 59,
    "start_time": "2022-12-22T13:20:41.015Z"
   },
   {
    "duration": 119,
    "start_time": "2022-12-22T13:20:41.076Z"
   },
   {
    "duration": 6,
    "start_time": "2022-12-22T13:20:41.197Z"
   },
   {
    "duration": 20,
    "start_time": "2022-12-22T13:20:41.204Z"
   },
   {
    "duration": 3243,
    "start_time": "2022-12-22T13:20:41.226Z"
   },
   {
    "duration": 25,
    "start_time": "2022-12-22T13:22:04.902Z"
   },
   {
    "duration": 33,
    "start_time": "2022-12-22T13:24:16.376Z"
   },
   {
    "duration": 3906,
    "start_time": "2022-12-22T13:26:25.566Z"
   },
   {
    "duration": 0,
    "start_time": "2022-12-22T13:27:29.841Z"
   },
   {
    "duration": 8937,
    "start_time": "2022-12-22T13:28:02.865Z"
   },
   {
    "duration": 9175,
    "start_time": "2022-12-22T13:28:32.487Z"
   },
   {
    "duration": 12,
    "start_time": "2022-12-22T13:28:41.665Z"
   },
   {
    "duration": 10,
    "start_time": "2022-12-22T13:29:23.769Z"
   },
   {
    "duration": 11,
    "start_time": "2022-12-22T13:30:06.435Z"
   },
   {
    "duration": 83,
    "start_time": "2022-12-22T13:31:47.937Z"
   },
   {
    "duration": 11,
    "start_time": "2022-12-22T13:32:00.466Z"
   },
   {
    "duration": 15,
    "start_time": "2022-12-22T13:32:41.711Z"
   },
   {
    "duration": 19,
    "start_time": "2022-12-22T13:34:35.065Z"
   },
   {
    "duration": 9384,
    "start_time": "2022-12-22T13:35:52.686Z"
   },
   {
    "duration": 48,
    "start_time": "2022-12-22T13:36:57.825Z"
   },
   {
    "duration": 9281,
    "start_time": "2022-12-22T13:37:37.007Z"
   },
   {
    "duration": 13,
    "start_time": "2022-12-22T13:37:46.290Z"
   },
   {
    "duration": 141,
    "start_time": "2022-12-22T13:37:57.503Z"
   },
   {
    "duration": 42,
    "start_time": "2022-12-22T13:37:57.651Z"
   },
   {
    "duration": 609,
    "start_time": "2022-12-22T13:37:57.696Z"
   },
   {
    "duration": 27,
    "start_time": "2022-12-22T13:37:58.308Z"
   },
   {
    "duration": 26,
    "start_time": "2022-12-22T13:37:58.336Z"
   },
   {
    "duration": 39,
    "start_time": "2022-12-22T13:37:58.364Z"
   },
   {
    "duration": 41,
    "start_time": "2022-12-22T13:37:58.406Z"
   },
   {
    "duration": 35,
    "start_time": "2022-12-22T13:37:58.448Z"
   },
   {
    "duration": 43,
    "start_time": "2022-12-22T13:37:58.485Z"
   },
   {
    "duration": 36,
    "start_time": "2022-12-22T13:37:58.531Z"
   },
   {
    "duration": 26,
    "start_time": "2022-12-22T13:37:58.568Z"
   },
   {
    "duration": 44,
    "start_time": "2022-12-22T13:37:58.596Z"
   },
   {
    "duration": 39,
    "start_time": "2022-12-22T13:37:58.642Z"
   },
   {
    "duration": 32,
    "start_time": "2022-12-22T13:37:58.683Z"
   },
   {
    "duration": 30,
    "start_time": "2022-12-22T13:37:58.718Z"
   },
   {
    "duration": 29,
    "start_time": "2022-12-22T13:37:58.749Z"
   },
   {
    "duration": 43,
    "start_time": "2022-12-22T13:37:58.780Z"
   },
   {
    "duration": 23,
    "start_time": "2022-12-22T13:37:58.825Z"
   },
   {
    "duration": 56,
    "start_time": "2022-12-22T13:37:58.850Z"
   },
   {
    "duration": 9,
    "start_time": "2022-12-22T13:37:58.908Z"
   },
   {
    "duration": 7,
    "start_time": "2022-12-22T13:37:58.919Z"
   },
   {
    "duration": 13,
    "start_time": "2022-12-22T13:37:58.928Z"
   },
   {
    "duration": 6,
    "start_time": "2022-12-22T13:37:58.943Z"
   },
   {
    "duration": 27,
    "start_time": "2022-12-22T13:37:58.950Z"
   },
   {
    "duration": 10,
    "start_time": "2022-12-22T13:37:58.979Z"
   },
   {
    "duration": 7,
    "start_time": "2022-12-22T13:37:58.991Z"
   },
   {
    "duration": 10,
    "start_time": "2022-12-22T13:37:59.000Z"
   },
   {
    "duration": 40,
    "start_time": "2022-12-22T13:37:59.013Z"
   },
   {
    "duration": 7,
    "start_time": "2022-12-22T13:37:59.054Z"
   },
   {
    "duration": 14,
    "start_time": "2022-12-22T13:37:59.063Z"
   },
   {
    "duration": 27,
    "start_time": "2022-12-22T13:37:59.080Z"
   },
   {
    "duration": 8,
    "start_time": "2022-12-22T13:37:59.109Z"
   },
   {
    "duration": 42,
    "start_time": "2022-12-22T13:37:59.119Z"
   },
   {
    "duration": 9,
    "start_time": "2022-12-22T13:37:59.168Z"
   },
   {
    "duration": 18,
    "start_time": "2022-12-22T13:37:59.179Z"
   },
   {
    "duration": 10,
    "start_time": "2022-12-22T13:37:59.199Z"
   },
   {
    "duration": 9,
    "start_time": "2022-12-22T13:37:59.211Z"
   },
   {
    "duration": 37,
    "start_time": "2022-12-22T13:37:59.222Z"
   },
   {
    "duration": 37,
    "start_time": "2022-12-22T13:37:59.260Z"
   },
   {
    "duration": 129,
    "start_time": "2022-12-22T13:37:59.300Z"
   },
   {
    "duration": 8,
    "start_time": "2022-12-22T13:37:59.430Z"
   },
   {
    "duration": 10,
    "start_time": "2022-12-22T13:37:59.451Z"
   },
   {
    "duration": 3410,
    "start_time": "2022-12-22T13:37:59.464Z"
   },
   {
    "duration": 24,
    "start_time": "2022-12-22T13:38:02.877Z"
   },
   {
    "duration": 46,
    "start_time": "2022-12-22T13:38:02.903Z"
   },
   {
    "duration": 37,
    "start_time": "2022-12-22T13:38:02.952Z"
   },
   {
    "duration": 48,
    "start_time": "2022-12-22T13:38:02.991Z"
   },
   {
    "duration": 44,
    "start_time": "2022-12-22T13:38:03.040Z"
   },
   {
    "duration": 3561,
    "start_time": "2022-12-22T13:38:03.086Z"
   },
   {
    "duration": 17,
    "start_time": "2022-12-22T13:38:06.648Z"
   },
   {
    "duration": 37,
    "start_time": "2022-12-22T13:38:06.667Z"
   },
   {
    "duration": 654,
    "start_time": "2022-12-22T13:38:06.706Z"
   },
   {
    "duration": 84,
    "start_time": "2022-12-22T13:38:07.362Z"
   },
   {
    "duration": 283,
    "start_time": "2022-12-22T13:38:07.451Z"
   },
   {
    "duration": 18,
    "start_time": "2022-12-22T13:38:58.821Z"
   },
   {
    "duration": 13,
    "start_time": "2022-12-22T13:39:08.379Z"
   },
   {
    "duration": 12,
    "start_time": "2022-12-22T13:39:24.764Z"
   },
   {
    "duration": 27,
    "start_time": "2022-12-22T13:39:44.716Z"
   },
   {
    "duration": 41,
    "start_time": "2022-12-22T13:40:28.375Z"
   },
   {
    "duration": 28,
    "start_time": "2022-12-22T13:40:37.170Z"
   },
   {
    "duration": 720,
    "start_time": "2022-12-22T13:40:56.019Z"
   },
   {
    "duration": 95,
    "start_time": "2022-12-22T13:41:00.548Z"
   },
   {
    "duration": 271,
    "start_time": "2022-12-22T13:41:06.380Z"
   },
   {
    "duration": 3,
    "start_time": "2022-12-22T13:42:27.199Z"
   },
   {
    "duration": 612,
    "start_time": "2022-12-22T13:42:32.209Z"
   },
   {
    "duration": 85,
    "start_time": "2022-12-22T13:42:35.868Z"
   },
   {
    "duration": 278,
    "start_time": "2022-12-22T13:42:48.274Z"
   },
   {
    "duration": 7,
    "start_time": "2022-12-22T13:44:15.944Z"
   },
   {
    "duration": 163,
    "start_time": "2022-12-22T13:44:53.175Z"
   },
   {
    "duration": 382,
    "start_time": "2022-12-22T13:45:18.632Z"
   },
   {
    "duration": 201,
    "start_time": "2022-12-22T13:45:28.681Z"
   },
   {
    "duration": 425,
    "start_time": "2022-12-22T13:45:39.086Z"
   },
   {
    "duration": 1744,
    "start_time": "2022-12-22T13:45:48.910Z"
   },
   {
    "duration": 388,
    "start_time": "2022-12-22T13:46:19.437Z"
   },
   {
    "duration": 358,
    "start_time": "2022-12-22T13:46:32.556Z"
   },
   {
    "duration": 301,
    "start_time": "2022-12-22T13:46:41.288Z"
   },
   {
    "duration": 343,
    "start_time": "2022-12-22T13:46:52.213Z"
   },
   {
    "duration": 533,
    "start_time": "2022-12-22T13:47:00.383Z"
   },
   {
    "duration": 73,
    "start_time": "2022-12-22T14:15:39.873Z"
   },
   {
    "duration": 40,
    "start_time": "2022-12-22T14:16:43.211Z"
   },
   {
    "duration": 5558,
    "start_time": "2022-12-22T14:32:32.939Z"
   },
   {
    "duration": 6,
    "start_time": "2022-12-22T14:32:57.711Z"
   },
   {
    "duration": 5651,
    "start_time": "2022-12-22T14:33:00.249Z"
   },
   {
    "duration": 6,
    "start_time": "2022-12-22T14:35:02.176Z"
   },
   {
    "duration": 7,
    "start_time": "2022-12-22T14:35:08.295Z"
   },
   {
    "duration": 10,
    "start_time": "2022-12-22T14:35:21.795Z"
   },
   {
    "duration": 6,
    "start_time": "2022-12-22T14:35:37.378Z"
   },
   {
    "duration": 21,
    "start_time": "2022-12-22T14:36:21.030Z"
   },
   {
    "duration": 159,
    "start_time": "2022-12-22T14:36:28.570Z"
   },
   {
    "duration": 43,
    "start_time": "2022-12-22T14:36:28.732Z"
   },
   {
    "duration": 607,
    "start_time": "2022-12-22T14:36:28.777Z"
   },
   {
    "duration": 27,
    "start_time": "2022-12-22T14:36:29.386Z"
   },
   {
    "duration": 6,
    "start_time": "2022-12-22T14:36:29.415Z"
   },
   {
    "duration": 33,
    "start_time": "2022-12-22T14:36:29.423Z"
   },
   {
    "duration": 10,
    "start_time": "2022-12-22T14:36:29.458Z"
   },
   {
    "duration": 7,
    "start_time": "2022-12-22T14:36:29.470Z"
   },
   {
    "duration": 9,
    "start_time": "2022-12-22T14:36:29.479Z"
   },
   {
    "duration": 6,
    "start_time": "2022-12-22T14:36:29.491Z"
   },
   {
    "duration": 13,
    "start_time": "2022-12-22T14:36:29.499Z"
   },
   {
    "duration": 8,
    "start_time": "2022-12-22T14:36:29.514Z"
   },
   {
    "duration": 34,
    "start_time": "2022-12-22T14:36:29.524Z"
   },
   {
    "duration": 9,
    "start_time": "2022-12-22T14:36:29.560Z"
   },
   {
    "duration": 15,
    "start_time": "2022-12-22T14:36:29.570Z"
   },
   {
    "duration": 12,
    "start_time": "2022-12-22T14:36:29.587Z"
   },
   {
    "duration": 23,
    "start_time": "2022-12-22T14:36:29.601Z"
   },
   {
    "duration": 28,
    "start_time": "2022-12-22T14:36:29.625Z"
   },
   {
    "duration": 11,
    "start_time": "2022-12-22T14:36:29.656Z"
   },
   {
    "duration": 14,
    "start_time": "2022-12-22T14:36:29.669Z"
   },
   {
    "duration": 14,
    "start_time": "2022-12-22T14:36:29.685Z"
   },
   {
    "duration": 30,
    "start_time": "2022-12-22T14:36:29.701Z"
   },
   {
    "duration": 12,
    "start_time": "2022-12-22T14:36:29.734Z"
   },
   {
    "duration": 22,
    "start_time": "2022-12-22T14:36:29.748Z"
   },
   {
    "duration": 13,
    "start_time": "2022-12-22T14:36:29.773Z"
   },
   {
    "duration": 10,
    "start_time": "2022-12-22T14:36:29.787Z"
   },
   {
    "duration": 14,
    "start_time": "2022-12-22T14:36:29.799Z"
   },
   {
    "duration": 36,
    "start_time": "2022-12-22T14:36:29.818Z"
   },
   {
    "duration": 9,
    "start_time": "2022-12-22T14:36:29.856Z"
   },
   {
    "duration": 17,
    "start_time": "2022-12-22T14:36:29.868Z"
   },
   {
    "duration": 28,
    "start_time": "2022-12-22T14:36:29.888Z"
   },
   {
    "duration": 11,
    "start_time": "2022-12-22T14:36:29.919Z"
   },
   {
    "duration": 7,
    "start_time": "2022-12-22T14:36:29.950Z"
   },
   {
    "duration": 8,
    "start_time": "2022-12-22T14:36:29.959Z"
   },
   {
    "duration": 15,
    "start_time": "2022-12-22T14:36:29.969Z"
   },
   {
    "duration": 10,
    "start_time": "2022-12-22T14:36:29.986Z"
   },
   {
    "duration": 37,
    "start_time": "2022-12-22T14:36:29.998Z"
   },
   {
    "duration": 67,
    "start_time": "2022-12-22T14:36:30.037Z"
   },
   {
    "duration": 38,
    "start_time": "2022-12-22T14:36:30.106Z"
   },
   {
    "duration": 146,
    "start_time": "2022-12-22T14:36:30.146Z"
   },
   {
    "duration": 6,
    "start_time": "2022-12-22T14:36:30.294Z"
   },
   {
    "duration": 57,
    "start_time": "2022-12-22T14:36:30.302Z"
   },
   {
    "duration": 3113,
    "start_time": "2022-12-22T14:36:30.361Z"
   },
   {
    "duration": 23,
    "start_time": "2022-12-22T14:36:33.476Z"
   },
   {
    "duration": 5549,
    "start_time": "2022-12-22T14:36:33.501Z"
   },
   {
    "duration": 6,
    "start_time": "2022-12-22T14:36:39.052Z"
   },
   {
    "duration": 8,
    "start_time": "2022-12-22T14:36:39.060Z"
   },
   {
    "duration": 34,
    "start_time": "2022-12-22T14:36:39.070Z"
   },
   {
    "duration": 11,
    "start_time": "2022-12-22T14:36:39.106Z"
   },
   {
    "duration": 37,
    "start_time": "2022-12-22T14:36:39.119Z"
   },
   {
    "duration": 3654,
    "start_time": "2022-12-22T14:36:39.158Z"
   },
   {
    "duration": 12,
    "start_time": "2022-12-22T14:36:42.813Z"
   },
   {
    "duration": 31,
    "start_time": "2022-12-22T14:36:42.827Z"
   },
   {
    "duration": 28,
    "start_time": "2022-12-22T14:36:42.860Z"
   },
   {
    "duration": 3,
    "start_time": "2022-12-22T14:36:42.890Z"
   },
   {
    "duration": 596,
    "start_time": "2022-12-22T14:36:42.895Z"
   },
   {
    "duration": 86,
    "start_time": "2022-12-22T14:36:43.493Z"
   },
   {
    "duration": 364,
    "start_time": "2022-12-22T14:36:43.581Z"
   },
   {
    "duration": 50,
    "start_time": "2022-12-22T14:36:43.951Z"
   },
   {
    "duration": 321,
    "start_time": "2022-12-22T14:37:44.745Z"
   },
   {
    "duration": 5,
    "start_time": "2022-12-22T14:44:06.228Z"
   },
   {
    "duration": 26,
    "start_time": "2022-12-22T14:44:29.230Z"
   },
   {
    "duration": 634,
    "start_time": "2022-12-22T14:45:10.659Z"
   },
   {
    "duration": 97,
    "start_time": "2022-12-22T14:45:16.269Z"
   },
   {
    "duration": 328,
    "start_time": "2022-12-22T14:45:32.699Z"
   },
   {
    "duration": 27,
    "start_time": "2022-12-22T14:45:38.328Z"
   },
   {
    "duration": 56,
    "start_time": "2022-12-22T14:46:18.401Z"
   },
   {
    "duration": 52,
    "start_time": "2022-12-22T14:46:32.203Z"
   },
   {
    "duration": 307,
    "start_time": "2022-12-22T14:49:12.333Z"
   },
   {
    "duration": 532,
    "start_time": "2022-12-22T14:49:33.115Z"
   },
   {
    "duration": 319,
    "start_time": "2022-12-22T14:49:45.382Z"
   },
   {
    "duration": 347,
    "start_time": "2022-12-22T14:49:59.753Z"
   },
   {
    "duration": 383,
    "start_time": "2022-12-22T14:58:15.986Z"
   },
   {
    "duration": 349,
    "start_time": "2022-12-22T14:58:59.073Z"
   },
   {
    "duration": 398,
    "start_time": "2022-12-22T14:59:09.676Z"
   },
   {
    "duration": 343,
    "start_time": "2022-12-22T15:01:22.311Z"
   },
   {
    "duration": 322,
    "start_time": "2022-12-22T15:01:36.712Z"
   },
   {
    "duration": 305,
    "start_time": "2022-12-22T15:04:03.412Z"
   },
   {
    "duration": 327,
    "start_time": "2022-12-22T15:04:12.419Z"
   },
   {
    "duration": 10,
    "start_time": "2022-12-22T15:04:49.207Z"
   },
   {
    "duration": 133,
    "start_time": "2022-12-22T15:05:51.903Z"
   },
   {
    "duration": 343,
    "start_time": "2022-12-22T15:06:04.088Z"
   },
   {
    "duration": 589,
    "start_time": "2022-12-22T15:06:15.215Z"
   },
   {
    "duration": 342,
    "start_time": "2022-12-22T15:06:24.365Z"
   },
   {
    "duration": 317,
    "start_time": "2022-12-22T15:06:37.654Z"
   },
   {
    "duration": 336,
    "start_time": "2022-12-22T15:06:48.561Z"
   },
   {
    "duration": 320,
    "start_time": "2022-12-22T15:07:14.897Z"
   },
   {
    "duration": 109,
    "start_time": "2022-12-22T15:10:28.648Z"
   },
   {
    "duration": 318,
    "start_time": "2022-12-22T15:12:01.007Z"
   },
   {
    "duration": 319,
    "start_time": "2022-12-22T15:12:23.688Z"
   },
   {
    "duration": 335,
    "start_time": "2022-12-22T15:12:34.025Z"
   },
   {
    "duration": 5,
    "start_time": "2022-12-22T15:15:08.493Z"
   },
   {
    "duration": 397,
    "start_time": "2022-12-22T15:15:33.926Z"
   },
   {
    "duration": 12,
    "start_time": "2022-12-22T15:25:10.733Z"
   },
   {
    "duration": 243,
    "start_time": "2022-12-22T15:25:24.822Z"
   },
   {
    "duration": 279,
    "start_time": "2022-12-22T15:28:09.483Z"
   },
   {
    "duration": 263,
    "start_time": "2022-12-22T15:28:18.969Z"
   },
   {
    "duration": 212,
    "start_time": "2022-12-22T15:28:29.312Z"
   },
   {
    "duration": 215,
    "start_time": "2022-12-22T15:29:15.561Z"
   },
   {
    "duration": 217,
    "start_time": "2022-12-22T15:31:07.915Z"
   },
   {
    "duration": 284,
    "start_time": "2022-12-22T15:31:19.517Z"
   },
   {
    "duration": 222,
    "start_time": "2022-12-22T15:31:27.262Z"
   },
   {
    "duration": 15,
    "start_time": "2022-12-22T15:35:05.795Z"
   },
   {
    "duration": 11,
    "start_time": "2022-12-22T15:36:56.839Z"
   },
   {
    "duration": 240,
    "start_time": "2022-12-22T15:37:39.634Z"
   },
   {
    "duration": 125,
    "start_time": "2022-12-22T15:38:07.101Z"
   },
   {
    "duration": 91,
    "start_time": "2022-12-22T15:41:32.825Z"
   },
   {
    "duration": 3,
    "start_time": "2022-12-22T15:43:04.477Z"
   },
   {
    "duration": 10,
    "start_time": "2022-12-22T15:44:24.066Z"
   },
   {
    "duration": 399,
    "start_time": "2022-12-22T15:45:49.143Z"
   },
   {
    "duration": 342,
    "start_time": "2022-12-22T15:45:56.057Z"
   },
   {
    "duration": 9,
    "start_time": "2022-12-22T15:46:16.623Z"
   },
   {
    "duration": 10,
    "start_time": "2022-12-22T15:46:39.496Z"
   },
   {
    "duration": 12,
    "start_time": "2022-12-22T15:47:02.529Z"
   },
   {
    "duration": 9,
    "start_time": "2022-12-22T15:47:25.273Z"
   },
   {
    "duration": 12,
    "start_time": "2022-12-22T15:47:46.685Z"
   },
   {
    "duration": 9,
    "start_time": "2022-12-22T15:48:15.041Z"
   },
   {
    "duration": 10,
    "start_time": "2022-12-22T15:48:48.545Z"
   },
   {
    "duration": 10,
    "start_time": "2022-12-22T15:49:27.742Z"
   },
   {
    "duration": 224,
    "start_time": "2022-12-22T15:50:17.240Z"
   },
   {
    "duration": 220,
    "start_time": "2022-12-22T15:50:32.226Z"
   },
   {
    "duration": 73,
    "start_time": "2022-12-22T15:51:50.323Z"
   },
   {
    "duration": 10,
    "start_time": "2022-12-22T15:52:57.985Z"
   },
   {
    "duration": 209,
    "start_time": "2022-12-22T15:53:46.868Z"
   },
   {
    "duration": 13,
    "start_time": "2022-12-22T15:56:07.575Z"
   },
   {
    "duration": 257,
    "start_time": "2022-12-22T15:56:36.238Z"
   },
   {
    "duration": 79,
    "start_time": "2022-12-22T16:02:49.105Z"
   },
   {
    "duration": 220,
    "start_time": "2022-12-22T16:02:58.094Z"
   },
   {
    "duration": 222,
    "start_time": "2022-12-22T16:03:30.695Z"
   },
   {
    "duration": 200,
    "start_time": "2022-12-22T16:03:44.392Z"
   },
   {
    "duration": 299,
    "start_time": "2022-12-22T16:04:09.998Z"
   },
   {
    "duration": 13,
    "start_time": "2022-12-22T16:05:50.602Z"
   },
   {
    "duration": 312,
    "start_time": "2022-12-22T16:06:16.627Z"
   },
   {
    "duration": 210,
    "start_time": "2022-12-22T16:06:26.990Z"
   },
   {
    "duration": 1107,
    "start_time": "2022-12-22T16:07:34.857Z"
   },
   {
    "duration": 10,
    "start_time": "2022-12-22T16:07:51.771Z"
   },
   {
    "duration": 302,
    "start_time": "2022-12-22T16:08:39.704Z"
   },
   {
    "duration": 76,
    "start_time": "2022-12-22T16:10:03.266Z"
   },
   {
    "duration": 147,
    "start_time": "2022-12-22T16:12:30.272Z"
   },
   {
    "duration": 16,
    "start_time": "2022-12-22T16:13:05.799Z"
   },
   {
    "duration": 15,
    "start_time": "2022-12-22T16:13:13.748Z"
   },
   {
    "duration": 173,
    "start_time": "2022-12-22T16:13:41.709Z"
   },
   {
    "duration": 162,
    "start_time": "2022-12-22T16:13:56.176Z"
   },
   {
    "duration": 169,
    "start_time": "2022-12-22T16:14:15.888Z"
   },
   {
    "duration": 324,
    "start_time": "2022-12-22T16:14:27.754Z"
   },
   {
    "duration": 9,
    "start_time": "2022-12-22T16:19:46.880Z"
   },
   {
    "duration": 173,
    "start_time": "2022-12-22T16:20:05.645Z"
   },
   {
    "duration": 265,
    "start_time": "2022-12-22T16:22:34.912Z"
   },
   {
    "duration": 325,
    "start_time": "2022-12-22T16:22:58.709Z"
   },
   {
    "duration": 344,
    "start_time": "2022-12-22T16:23:26.095Z"
   },
   {
    "duration": 6,
    "start_time": "2022-12-22T16:24:07.293Z"
   },
   {
    "duration": 6,
    "start_time": "2022-12-22T16:24:30.099Z"
   },
   {
    "duration": 5,
    "start_time": "2022-12-22T16:24:38.827Z"
   },
   {
    "duration": 6,
    "start_time": "2022-12-22T16:25:02.728Z"
   },
   {
    "duration": 509,
    "start_time": "2022-12-22T16:28:19.266Z"
   },
   {
    "duration": 446,
    "start_time": "2022-12-22T16:28:35.651Z"
   },
   {
    "duration": 364,
    "start_time": "2022-12-22T16:28:45.405Z"
   },
   {
    "duration": 329,
    "start_time": "2022-12-22T16:29:16.527Z"
   },
   {
    "duration": 308,
    "start_time": "2022-12-22T16:29:43.645Z"
   },
   {
    "duration": 49,
    "start_time": "2022-12-23T11:38:59.789Z"
   },
   {
    "duration": 51,
    "start_time": "2022-12-23T11:43:20.056Z"
   },
   {
    "duration": 773,
    "start_time": "2022-12-23T11:43:28.932Z"
   },
   {
    "duration": 26,
    "start_time": "2022-12-23T11:43:29.707Z"
   },
   {
    "duration": 896,
    "start_time": "2022-12-23T11:43:29.734Z"
   },
   {
    "duration": 26,
    "start_time": "2022-12-23T11:43:30.633Z"
   },
   {
    "duration": 8,
    "start_time": "2022-12-23T11:43:30.661Z"
   },
   {
    "duration": 26,
    "start_time": "2022-12-23T11:43:30.671Z"
   },
   {
    "duration": 23,
    "start_time": "2022-12-23T11:43:30.699Z"
   },
   {
    "duration": 23,
    "start_time": "2022-12-23T11:43:30.724Z"
   },
   {
    "duration": 21,
    "start_time": "2022-12-23T11:43:30.749Z"
   },
   {
    "duration": 15,
    "start_time": "2022-12-23T11:43:30.773Z"
   },
   {
    "duration": 17,
    "start_time": "2022-12-23T11:43:30.790Z"
   },
   {
    "duration": 8,
    "start_time": "2022-12-23T11:43:30.809Z"
   },
   {
    "duration": 26,
    "start_time": "2022-12-23T11:43:30.818Z"
   },
   {
    "duration": 21,
    "start_time": "2022-12-23T11:43:30.845Z"
   },
   {
    "duration": 29,
    "start_time": "2022-12-23T11:43:30.867Z"
   },
   {
    "duration": 30,
    "start_time": "2022-12-23T11:43:30.898Z"
   },
   {
    "duration": 37,
    "start_time": "2022-12-23T11:43:30.930Z"
   },
   {
    "duration": 17,
    "start_time": "2022-12-23T11:43:30.969Z"
   },
   {
    "duration": 24,
    "start_time": "2022-12-23T11:43:30.988Z"
   },
   {
    "duration": 21,
    "start_time": "2022-12-23T11:43:31.014Z"
   },
   {
    "duration": 38,
    "start_time": "2022-12-23T11:43:31.036Z"
   },
   {
    "duration": 31,
    "start_time": "2022-12-23T11:43:31.076Z"
   },
   {
    "duration": 23,
    "start_time": "2022-12-23T11:43:31.109Z"
   },
   {
    "duration": 24,
    "start_time": "2022-12-23T11:43:31.134Z"
   },
   {
    "duration": 25,
    "start_time": "2022-12-23T11:43:31.160Z"
   },
   {
    "duration": 15,
    "start_time": "2022-12-23T11:43:31.186Z"
   },
   {
    "duration": 16,
    "start_time": "2022-12-23T11:43:31.203Z"
   },
   {
    "duration": 18,
    "start_time": "2022-12-23T11:43:31.223Z"
   },
   {
    "duration": 13,
    "start_time": "2022-12-23T11:43:31.242Z"
   },
   {
    "duration": 22,
    "start_time": "2022-12-23T11:43:31.256Z"
   },
   {
    "duration": 31,
    "start_time": "2022-12-23T11:43:31.279Z"
   },
   {
    "duration": 14,
    "start_time": "2022-12-23T11:43:31.312Z"
   },
   {
    "duration": 11,
    "start_time": "2022-12-23T11:43:31.327Z"
   },
   {
    "duration": 11,
    "start_time": "2022-12-23T11:43:31.340Z"
   },
   {
    "duration": 28,
    "start_time": "2022-12-23T11:43:31.352Z"
   },
   {
    "duration": 10,
    "start_time": "2022-12-23T11:43:31.381Z"
   },
   {
    "duration": 30,
    "start_time": "2022-12-23T11:43:31.392Z"
   },
   {
    "duration": 16,
    "start_time": "2022-12-23T11:43:31.423Z"
   },
   {
    "duration": 48,
    "start_time": "2022-12-23T11:43:31.440Z"
   },
   {
    "duration": 95,
    "start_time": "2022-12-23T11:43:31.490Z"
   },
   {
    "duration": 5,
    "start_time": "2022-12-23T11:43:31.586Z"
   },
   {
    "duration": 6,
    "start_time": "2022-12-23T11:43:31.593Z"
   },
   {
    "duration": 2622,
    "start_time": "2022-12-23T11:43:31.600Z"
   },
   {
    "duration": 22,
    "start_time": "2022-12-23T11:43:34.224Z"
   },
   {
    "duration": 5148,
    "start_time": "2022-12-23T11:43:34.247Z"
   },
   {
    "duration": 4,
    "start_time": "2022-12-23T11:43:39.397Z"
   },
   {
    "duration": 13,
    "start_time": "2022-12-23T11:43:39.403Z"
   },
   {
    "duration": 18,
    "start_time": "2022-12-23T11:43:39.417Z"
   },
   {
    "duration": 9,
    "start_time": "2022-12-23T11:43:39.437Z"
   },
   {
    "duration": 8,
    "start_time": "2022-12-23T11:43:39.447Z"
   },
   {
    "duration": 3022,
    "start_time": "2022-12-23T11:43:39.456Z"
   },
   {
    "duration": 10,
    "start_time": "2022-12-23T11:43:42.480Z"
   },
   {
    "duration": 22,
    "start_time": "2022-12-23T11:43:42.495Z"
   },
   {
    "duration": 23,
    "start_time": "2022-12-23T11:43:42.519Z"
   },
   {
    "duration": 2,
    "start_time": "2022-12-23T11:43:42.544Z"
   },
   {
    "duration": 630,
    "start_time": "2022-12-23T11:43:42.547Z"
   },
   {
    "duration": 10,
    "start_time": "2022-12-23T11:43:43.179Z"
   },
   {
    "duration": 331,
    "start_time": "2022-12-23T11:43:43.190Z"
   },
   {
    "duration": 9,
    "start_time": "2022-12-23T11:43:43.523Z"
   },
   {
    "duration": 326,
    "start_time": "2022-12-23T11:43:43.534Z"
   },
   {
    "duration": 9,
    "start_time": "2022-12-23T11:43:43.862Z"
   },
   {
    "duration": 321,
    "start_time": "2022-12-23T11:43:43.873Z"
   },
   {
    "duration": 10,
    "start_time": "2022-12-23T11:43:44.196Z"
   },
   {
    "duration": 316,
    "start_time": "2022-12-23T11:43:44.216Z"
   },
   {
    "duration": 9,
    "start_time": "2022-12-23T11:43:44.534Z"
   },
   {
    "duration": 296,
    "start_time": "2022-12-23T11:43:44.545Z"
   },
   {
    "duration": 10,
    "start_time": "2022-12-23T11:43:44.843Z"
   },
   {
    "duration": 220,
    "start_time": "2022-12-23T11:43:44.855Z"
   },
   {
    "duration": 10,
    "start_time": "2022-12-23T11:43:45.077Z"
   },
   {
    "duration": 228,
    "start_time": "2022-12-23T11:43:45.089Z"
   },
   {
    "duration": 10,
    "start_time": "2022-12-23T11:43:45.319Z"
   },
   {
    "duration": 142,
    "start_time": "2022-12-23T11:43:45.331Z"
   },
   {
    "duration": 8,
    "start_time": "2022-12-23T11:43:45.475Z"
   },
   {
    "duration": 221,
    "start_time": "2022-12-23T11:43:45.485Z"
   },
   {
    "duration": 9,
    "start_time": "2022-12-23T11:43:45.715Z"
   },
   {
    "duration": 207,
    "start_time": "2022-12-23T11:43:45.725Z"
   },
   {
    "duration": 9,
    "start_time": "2022-12-23T11:43:45.934Z"
   },
   {
    "duration": 222,
    "start_time": "2022-12-23T11:43:45.945Z"
   },
   {
    "duration": 8,
    "start_time": "2022-12-23T11:43:46.168Z"
   },
   {
    "duration": 269,
    "start_time": "2022-12-23T11:43:46.178Z"
   },
   {
    "duration": 296,
    "start_time": "2022-12-23T11:43:46.449Z"
   },
   {
    "duration": 8,
    "start_time": "2022-12-23T11:43:46.751Z"
   },
   {
    "duration": 406,
    "start_time": "2022-12-23T11:43:46.761Z"
   },
   {
    "duration": 6,
    "start_time": "2022-12-23T11:43:47.169Z"
   },
   {
    "duration": 50,
    "start_time": "2022-12-23T11:43:47.176Z"
   },
   {
    "duration": 17,
    "start_time": "2022-12-23T11:46:34.559Z"
   },
   {
    "duration": 304,
    "start_time": "2022-12-23T11:47:39.751Z"
   },
   {
    "duration": 449,
    "start_time": "2022-12-23T11:47:56.832Z"
   },
   {
    "duration": 351,
    "start_time": "2022-12-23T11:48:08.431Z"
   },
   {
    "duration": 425,
    "start_time": "2022-12-23T11:49:16.123Z"
   },
   {
    "duration": 358,
    "start_time": "2022-12-23T11:49:51.190Z"
   },
   {
    "duration": 516,
    "start_time": "2022-12-23T11:51:57.625Z"
   },
   {
    "duration": 211,
    "start_time": "2022-12-23T11:53:16.969Z"
   },
   {
    "duration": 202,
    "start_time": "2022-12-23T11:53:33.924Z"
   },
   {
    "duration": 279,
    "start_time": "2022-12-23T11:53:46.841Z"
   },
   {
    "duration": 242,
    "start_time": "2022-12-23T11:59:56.749Z"
   },
   {
    "duration": 276,
    "start_time": "2022-12-23T12:01:22.746Z"
   },
   {
    "duration": 18,
    "start_time": "2022-12-23T12:05:12.878Z"
   },
   {
    "duration": 943,
    "start_time": "2022-12-23T12:06:03.140Z"
   },
   {
    "duration": 895,
    "start_time": "2022-12-23T12:06:55.363Z"
   },
   {
    "duration": 935,
    "start_time": "2022-12-23T12:07:58.609Z"
   },
   {
    "duration": 975,
    "start_time": "2022-12-23T12:08:50.505Z"
   },
   {
    "duration": 16,
    "start_time": "2022-12-23T12:08:59.366Z"
   },
   {
    "duration": 5,
    "start_time": "2022-12-23T12:09:25.522Z"
   },
   {
    "duration": 6,
    "start_time": "2022-12-23T12:09:43.822Z"
   },
   {
    "duration": 11,
    "start_time": "2022-12-23T12:10:01.174Z"
   },
   {
    "duration": 7,
    "start_time": "2022-12-23T12:10:13.851Z"
   },
   {
    "duration": 6,
    "start_time": "2022-12-23T12:10:25.222Z"
   },
   {
    "duration": 9,
    "start_time": "2022-12-23T12:10:51.504Z"
   },
   {
    "duration": 6,
    "start_time": "2022-12-23T12:11:00.869Z"
   },
   {
    "duration": 8,
    "start_time": "2022-12-23T12:11:07.767Z"
   },
   {
    "duration": 5,
    "start_time": "2022-12-23T12:11:17.749Z"
   },
   {
    "duration": 15,
    "start_time": "2022-12-23T12:11:30.972Z"
   },
   {
    "duration": 14,
    "start_time": "2022-12-23T12:11:54.426Z"
   },
   {
    "duration": 4,
    "start_time": "2022-12-23T12:12:24.937Z"
   },
   {
    "duration": 5,
    "start_time": "2022-12-23T12:12:35.440Z"
   },
   {
    "duration": 17,
    "start_time": "2022-12-23T12:12:47.378Z"
   },
   {
    "duration": 14,
    "start_time": "2022-12-23T12:13:00.816Z"
   },
   {
    "duration": 16,
    "start_time": "2022-12-23T12:13:10.425Z"
   },
   {
    "duration": 17,
    "start_time": "2022-12-23T12:13:53.329Z"
   },
   {
    "duration": 140,
    "start_time": "2022-12-23T12:14:52.168Z"
   },
   {
    "duration": 19,
    "start_time": "2022-12-23T12:15:10.469Z"
   },
   {
    "duration": 970,
    "start_time": "2022-12-23T12:15:48.659Z"
   },
   {
    "duration": 239,
    "start_time": "2022-12-23T12:18:06.925Z"
   },
   {
    "duration": 283,
    "start_time": "2022-12-23T12:19:01.044Z"
   },
   {
    "duration": 19,
    "start_time": "2022-12-23T12:23:23.540Z"
   },
   {
    "duration": 145,
    "start_time": "2022-12-23T12:23:27.275Z"
   },
   {
    "duration": 49,
    "start_time": "2022-12-23T12:24:47.007Z"
   },
   {
    "duration": 589,
    "start_time": "2022-12-23T12:24:51.797Z"
   },
   {
    "duration": 37,
    "start_time": "2022-12-23T12:24:52.388Z"
   },
   {
    "duration": 790,
    "start_time": "2022-12-23T12:24:52.426Z"
   },
   {
    "duration": 25,
    "start_time": "2022-12-23T12:24:53.219Z"
   },
   {
    "duration": 5,
    "start_time": "2022-12-23T12:24:53.245Z"
   },
   {
    "duration": 38,
    "start_time": "2022-12-23T12:24:53.252Z"
   },
   {
    "duration": 13,
    "start_time": "2022-12-23T12:24:53.292Z"
   },
   {
    "duration": 24,
    "start_time": "2022-12-23T12:24:53.307Z"
   },
   {
    "duration": 18,
    "start_time": "2022-12-23T12:24:53.333Z"
   },
   {
    "duration": 24,
    "start_time": "2022-12-23T12:24:53.355Z"
   },
   {
    "duration": 20,
    "start_time": "2022-12-23T12:24:53.381Z"
   },
   {
    "duration": 8,
    "start_time": "2022-12-23T12:24:53.403Z"
   },
   {
    "duration": 16,
    "start_time": "2022-12-23T12:24:53.413Z"
   },
   {
    "duration": 13,
    "start_time": "2022-12-23T12:24:53.431Z"
   },
   {
    "duration": 15,
    "start_time": "2022-12-23T12:24:53.445Z"
   },
   {
    "duration": 9,
    "start_time": "2022-12-23T12:24:53.462Z"
   },
   {
    "duration": 18,
    "start_time": "2022-12-23T12:24:53.473Z"
   },
   {
    "duration": 5,
    "start_time": "2022-12-23T12:24:53.493Z"
   },
   {
    "duration": 16,
    "start_time": "2022-12-23T12:24:53.500Z"
   },
   {
    "duration": 34,
    "start_time": "2022-12-23T12:24:53.518Z"
   },
   {
    "duration": 12,
    "start_time": "2022-12-23T12:24:53.554Z"
   },
   {
    "duration": 23,
    "start_time": "2022-12-23T12:24:53.567Z"
   },
   {
    "duration": 5,
    "start_time": "2022-12-23T12:24:53.592Z"
   },
   {
    "duration": 10,
    "start_time": "2022-12-23T12:24:53.599Z"
   },
   {
    "duration": 14,
    "start_time": "2022-12-23T12:24:53.610Z"
   },
   {
    "duration": 22,
    "start_time": "2022-12-23T12:24:53.625Z"
   },
   {
    "duration": 20,
    "start_time": "2022-12-23T12:24:53.648Z"
   },
   {
    "duration": 33,
    "start_time": "2022-12-23T12:24:53.672Z"
   },
   {
    "duration": 5,
    "start_time": "2022-12-23T12:24:53.707Z"
   },
   {
    "duration": 10,
    "start_time": "2022-12-23T12:24:53.714Z"
   },
   {
    "duration": 29,
    "start_time": "2022-12-23T12:24:53.725Z"
   },
   {
    "duration": 5,
    "start_time": "2022-12-23T12:24:53.756Z"
   },
   {
    "duration": 20,
    "start_time": "2022-12-23T12:24:53.763Z"
   },
   {
    "duration": 12,
    "start_time": "2022-12-23T12:24:53.785Z"
   },
   {
    "duration": 35,
    "start_time": "2022-12-23T12:24:53.799Z"
   },
   {
    "duration": 7,
    "start_time": "2022-12-23T12:24:53.836Z"
   },
   {
    "duration": 15,
    "start_time": "2022-12-23T12:24:53.844Z"
   },
   {
    "duration": 40,
    "start_time": "2022-12-23T12:24:53.861Z"
   },
   {
    "duration": 41,
    "start_time": "2022-12-23T12:24:53.903Z"
   },
   {
    "duration": 109,
    "start_time": "2022-12-23T12:24:53.946Z"
   },
   {
    "duration": 8,
    "start_time": "2022-12-23T12:24:54.057Z"
   },
   {
    "duration": 23,
    "start_time": "2022-12-23T12:24:54.070Z"
   },
   {
    "duration": 2965,
    "start_time": "2022-12-23T12:24:54.094Z"
   },
   {
    "duration": 24,
    "start_time": "2022-12-23T12:24:57.061Z"
   },
   {
    "duration": 5400,
    "start_time": "2022-12-23T12:24:57.087Z"
   },
   {
    "duration": 4,
    "start_time": "2022-12-23T12:25:02.489Z"
   },
   {
    "duration": 8,
    "start_time": "2022-12-23T12:25:02.496Z"
   },
   {
    "duration": 25,
    "start_time": "2022-12-23T12:25:02.505Z"
   },
   {
    "duration": 10,
    "start_time": "2022-12-23T12:25:02.531Z"
   },
   {
    "duration": 7,
    "start_time": "2022-12-23T12:25:02.542Z"
   },
   {
    "duration": 3185,
    "start_time": "2022-12-23T12:25:02.551Z"
   },
   {
    "duration": 10,
    "start_time": "2022-12-23T12:25:05.738Z"
   },
   {
    "duration": 18,
    "start_time": "2022-12-23T12:25:05.750Z"
   },
   {
    "duration": 45,
    "start_time": "2022-12-23T12:25:05.770Z"
   },
   {
    "duration": 2,
    "start_time": "2022-12-23T12:25:05.817Z"
   },
   {
    "duration": 697,
    "start_time": "2022-12-23T12:25:05.821Z"
   },
   {
    "duration": 9,
    "start_time": "2022-12-23T12:25:06.520Z"
   },
   {
    "duration": 318,
    "start_time": "2022-12-23T12:25:06.531Z"
   },
   {
    "duration": 10,
    "start_time": "2022-12-23T12:25:06.850Z"
   },
   {
    "duration": 339,
    "start_time": "2022-12-23T12:25:06.861Z"
   },
   {
    "duration": 16,
    "start_time": "2022-12-23T12:25:07.203Z"
   },
   {
    "duration": 313,
    "start_time": "2022-12-23T12:25:07.220Z"
   },
   {
    "duration": 8,
    "start_time": "2022-12-23T12:25:07.535Z"
   },
   {
    "duration": 330,
    "start_time": "2022-12-23T12:25:07.545Z"
   },
   {
    "duration": 9,
    "start_time": "2022-12-23T12:25:07.877Z"
   },
   {
    "duration": 263,
    "start_time": "2022-12-23T12:25:07.887Z"
   },
   {
    "duration": 10,
    "start_time": "2022-12-23T12:25:08.152Z"
   },
   {
    "duration": 310,
    "start_time": "2022-12-23T12:25:08.164Z"
   },
   {
    "duration": 8,
    "start_time": "2022-12-23T12:25:08.477Z"
   },
   {
    "duration": 226,
    "start_time": "2022-12-23T12:25:08.487Z"
   },
   {
    "duration": 9,
    "start_time": "2022-12-23T12:25:08.716Z"
   },
   {
    "duration": 131,
    "start_time": "2022-12-23T12:25:08.727Z"
   },
   {
    "duration": 9,
    "start_time": "2022-12-23T12:25:08.860Z"
   },
   {
    "duration": 251,
    "start_time": "2022-12-23T12:25:08.871Z"
   },
   {
    "duration": 10,
    "start_time": "2022-12-23T12:25:09.124Z"
   },
   {
    "duration": 243,
    "start_time": "2022-12-23T12:25:09.136Z"
   },
   {
    "duration": 8,
    "start_time": "2022-12-23T12:25:09.381Z"
   },
   {
    "duration": 214,
    "start_time": "2022-12-23T12:25:09.391Z"
   },
   {
    "duration": 15,
    "start_time": "2022-12-23T12:25:09.607Z"
   },
   {
    "duration": 224,
    "start_time": "2022-12-23T12:25:09.623Z"
   },
   {
    "duration": 304,
    "start_time": "2022-12-23T12:25:09.849Z"
   },
   {
    "duration": 9,
    "start_time": "2022-12-23T12:25:10.159Z"
   },
   {
    "duration": 328,
    "start_time": "2022-12-23T12:25:10.170Z"
   },
   {
    "duration": 5,
    "start_time": "2022-12-23T12:25:10.500Z"
   },
   {
    "duration": 16,
    "start_time": "2022-12-23T12:25:21.642Z"
   },
   {
    "duration": 147,
    "start_time": "2022-12-23T12:26:05.493Z"
   },
   {
    "duration": 292,
    "start_time": "2022-12-23T12:26:44.724Z"
   },
   {
    "duration": 45,
    "start_time": "2022-12-23T12:26:52.839Z"
   },
   {
    "duration": 226,
    "start_time": "2022-12-23T12:27:05.120Z"
   },
   {
    "duration": 236,
    "start_time": "2022-12-23T12:31:55.126Z"
   },
   {
    "duration": 235,
    "start_time": "2022-12-23T12:36:22.075Z"
   },
   {
    "duration": 217,
    "start_time": "2022-12-23T12:41:41.856Z"
   },
   {
    "duration": 282,
    "start_time": "2022-12-23T12:41:58.089Z"
   },
   {
    "duration": 249,
    "start_time": "2022-12-23T12:42:22.768Z"
   },
   {
    "duration": 23,
    "start_time": "2022-12-23T12:42:40.129Z"
   },
   {
    "duration": 897,
    "start_time": "2022-12-23T12:43:17.538Z"
   },
   {
    "duration": 233,
    "start_time": "2022-12-23T12:44:04.993Z"
   },
   {
    "duration": 267,
    "start_time": "2022-12-23T12:44:26.723Z"
   },
   {
    "duration": 46,
    "start_time": "2022-12-23T12:45:47.129Z"
   },
   {
    "duration": 55,
    "start_time": "2022-12-23T12:47:05.333Z"
   },
   {
    "duration": 13,
    "start_time": "2022-12-23T12:47:46.595Z"
   },
   {
    "duration": 14,
    "start_time": "2022-12-23T12:48:01.540Z"
   },
   {
    "duration": 217,
    "start_time": "2022-12-23T12:48:23.996Z"
   },
   {
    "duration": 358,
    "start_time": "2022-12-23T12:48:39.115Z"
   },
   {
    "duration": 157,
    "start_time": "2022-12-23T12:49:23.960Z"
   },
   {
    "duration": 56,
    "start_time": "2022-12-23T12:54:33.291Z"
   },
   {
    "duration": 14,
    "start_time": "2022-12-23T12:55:12.689Z"
   },
   {
    "duration": 16,
    "start_time": "2022-12-23T12:55:36.597Z"
   },
   {
    "duration": 131,
    "start_time": "2022-12-23T12:56:28.165Z"
   },
   {
    "duration": 18,
    "start_time": "2022-12-23T12:56:54.793Z"
   },
   {
    "duration": 25,
    "start_time": "2022-12-23T12:57:07.912Z"
   },
   {
    "duration": 1064,
    "start_time": "2022-12-23T12:57:22.224Z"
   },
   {
    "duration": 124,
    "start_time": "2022-12-23T12:58:21.554Z"
   },
   {
    "duration": 131,
    "start_time": "2022-12-23T12:59:08.595Z"
   },
   {
    "duration": 136,
    "start_time": "2022-12-23T12:59:42.268Z"
   },
   {
    "duration": 137,
    "start_time": "2022-12-23T13:00:10.273Z"
   },
   {
    "duration": 129,
    "start_time": "2022-12-23T13:00:53.466Z"
   },
   {
    "duration": 139,
    "start_time": "2022-12-23T13:03:07.294Z"
   },
   {
    "duration": 146,
    "start_time": "2022-12-23T13:03:40.820Z"
   },
   {
    "duration": 47,
    "start_time": "2022-12-23T13:06:14.108Z"
   },
   {
    "duration": 163,
    "start_time": "2022-12-23T13:06:34.035Z"
   },
   {
    "duration": 148,
    "start_time": "2022-12-23T13:09:50.532Z"
   },
   {
    "duration": 183,
    "start_time": "2022-12-23T13:10:35.687Z"
   },
   {
    "duration": 154,
    "start_time": "2022-12-23T13:11:15.843Z"
   },
   {
    "duration": 24,
    "start_time": "2022-12-23T13:15:57.396Z"
   },
   {
    "duration": 21,
    "start_time": "2022-12-23T13:16:30.778Z"
   },
   {
    "duration": 18,
    "start_time": "2022-12-23T13:16:43.651Z"
   },
   {
    "duration": 16,
    "start_time": "2022-12-23T13:17:02.939Z"
   },
   {
    "duration": 17,
    "start_time": "2022-12-23T13:17:20.331Z"
   },
   {
    "duration": 25,
    "start_time": "2022-12-23T13:17:44.808Z"
   },
   {
    "duration": 7,
    "start_time": "2022-12-23T13:19:42.603Z"
   },
   {
    "duration": 7,
    "start_time": "2022-12-23T13:19:56.699Z"
   },
   {
    "duration": 14,
    "start_time": "2022-12-23T13:20:05.192Z"
   },
   {
    "duration": 16,
    "start_time": "2022-12-23T13:20:31.184Z"
   },
   {
    "duration": 19,
    "start_time": "2022-12-23T13:20:53.519Z"
   },
   {
    "duration": 18,
    "start_time": "2022-12-23T13:22:25.792Z"
   },
   {
    "duration": 16,
    "start_time": "2022-12-23T13:22:43.452Z"
   },
   {
    "duration": 27,
    "start_time": "2022-12-23T13:25:24.688Z"
   },
   {
    "duration": 81,
    "start_time": "2022-12-23T13:28:34.824Z"
   },
   {
    "duration": 27,
    "start_time": "2022-12-23T13:28:40.967Z"
   },
   {
    "duration": 18,
    "start_time": "2022-12-23T13:29:01.388Z"
   },
   {
    "duration": 18,
    "start_time": "2022-12-23T13:29:11.643Z"
   },
   {
    "duration": 18,
    "start_time": "2022-12-23T13:29:34.171Z"
   },
   {
    "duration": 17,
    "start_time": "2022-12-23T13:29:42.771Z"
   },
   {
    "duration": 17,
    "start_time": "2022-12-23T13:29:53.198Z"
   },
   {
    "duration": 18,
    "start_time": "2022-12-23T13:30:05.796Z"
   },
   {
    "duration": 16,
    "start_time": "2022-12-23T13:30:14.950Z"
   },
   {
    "duration": 17,
    "start_time": "2022-12-23T13:30:28.001Z"
   },
   {
    "duration": 16,
    "start_time": "2022-12-23T13:30:40.892Z"
   },
   {
    "duration": 18,
    "start_time": "2022-12-23T13:32:51.821Z"
   },
   {
    "duration": 16,
    "start_time": "2022-12-23T13:33:14.079Z"
   },
   {
    "duration": 5,
    "start_time": "2022-12-23T13:34:03.834Z"
   },
   {
    "duration": 19,
    "start_time": "2022-12-23T13:34:12.869Z"
   },
   {
    "duration": 21,
    "start_time": "2022-12-23T13:35:30.658Z"
   },
   {
    "duration": 32,
    "start_time": "2022-12-23T13:35:42.860Z"
   },
   {
    "duration": 23,
    "start_time": "2022-12-23T13:37:55.026Z"
   },
   {
    "duration": 21,
    "start_time": "2022-12-23T13:38:22.240Z"
   },
   {
    "duration": 18,
    "start_time": "2022-12-23T13:40:33.242Z"
   },
   {
    "duration": 26,
    "start_time": "2022-12-23T13:41:17.834Z"
   },
   {
    "duration": 10,
    "start_time": "2022-12-23T13:42:03.064Z"
   },
   {
    "duration": 9,
    "start_time": "2022-12-23T13:42:29.697Z"
   },
   {
    "duration": 8,
    "start_time": "2022-12-23T13:42:45.224Z"
   },
   {
    "duration": 8,
    "start_time": "2022-12-23T13:43:34.059Z"
   },
   {
    "duration": 8,
    "start_time": "2022-12-23T13:43:50.356Z"
   },
   {
    "duration": 17,
    "start_time": "2022-12-23T13:45:15.825Z"
   },
   {
    "duration": 18,
    "start_time": "2022-12-23T13:45:57.604Z"
   },
   {
    "duration": 16,
    "start_time": "2022-12-23T13:46:13.729Z"
   },
   {
    "duration": 17,
    "start_time": "2022-12-23T13:46:43.941Z"
   },
   {
    "duration": 46,
    "start_time": "2022-12-23T13:48:01.482Z"
   },
   {
    "duration": 49,
    "start_time": "2022-12-23T13:48:15.794Z"
   },
   {
    "duration": 49,
    "start_time": "2022-12-23T13:48:20.640Z"
   },
   {
    "duration": 20,
    "start_time": "2022-12-23T13:48:24.187Z"
   },
   {
    "duration": 18,
    "start_time": "2022-12-23T13:48:41.532Z"
   },
   {
    "duration": 19,
    "start_time": "2022-12-23T13:49:04.901Z"
   },
   {
    "duration": 15,
    "start_time": "2022-12-23T13:49:20.328Z"
   },
   {
    "duration": 73,
    "start_time": "2022-12-23T13:50:00.039Z"
   },
   {
    "duration": 30,
    "start_time": "2022-12-23T13:50:06.250Z"
   },
   {
    "duration": 18,
    "start_time": "2022-12-23T13:50:24.526Z"
   },
   {
    "duration": 12,
    "start_time": "2022-12-23T13:50:41.356Z"
   },
   {
    "duration": 14,
    "start_time": "2022-12-23T13:50:54.968Z"
   },
   {
    "duration": 22,
    "start_time": "2022-12-23T13:51:22.037Z"
   },
   {
    "duration": 20,
    "start_time": "2022-12-23T13:52:00.945Z"
   },
   {
    "duration": 17,
    "start_time": "2022-12-23T13:52:30.988Z"
   },
   {
    "duration": 18,
    "start_time": "2022-12-23T13:52:50.805Z"
   },
   {
    "duration": 30,
    "start_time": "2022-12-23T13:52:56.254Z"
   },
   {
    "duration": 13,
    "start_time": "2022-12-23T13:53:07.135Z"
   },
   {
    "duration": 18,
    "start_time": "2022-12-23T13:53:13.946Z"
   },
   {
    "duration": 6026,
    "start_time": "2022-12-23T13:54:16.635Z"
   },
   {
    "duration": 35,
    "start_time": "2022-12-23T13:54:45.918Z"
   },
   {
    "duration": 185,
    "start_time": "2022-12-23T13:54:53.816Z"
   },
   {
    "duration": 153,
    "start_time": "2022-12-23T13:55:06.916Z"
   },
   {
    "duration": 16,
    "start_time": "2022-12-23T13:55:25.093Z"
   },
   {
    "duration": 20,
    "start_time": "2022-12-23T13:58:20.594Z"
   },
   {
    "duration": 25,
    "start_time": "2022-12-23T14:00:54.638Z"
   },
   {
    "duration": 10,
    "start_time": "2022-12-23T14:01:13.207Z"
   },
   {
    "duration": 8,
    "start_time": "2022-12-23T14:01:28.184Z"
   },
   {
    "duration": 20,
    "start_time": "2022-12-23T14:02:56.184Z"
   },
   {
    "duration": 20,
    "start_time": "2022-12-23T14:03:06.663Z"
   },
   {
    "duration": 19,
    "start_time": "2022-12-23T14:03:17.697Z"
   },
   {
    "duration": 18,
    "start_time": "2022-12-23T14:06:54.097Z"
   },
   {
    "duration": 17,
    "start_time": "2022-12-23T14:07:39.506Z"
   },
   {
    "duration": 20,
    "start_time": "2022-12-23T14:07:50.012Z"
   },
   {
    "duration": 17,
    "start_time": "2022-12-23T14:08:29.266Z"
   },
   {
    "duration": 16,
    "start_time": "2022-12-23T14:09:11.351Z"
   },
   {
    "duration": 780,
    "start_time": "2022-12-23T14:18:13.936Z"
   },
   {
    "duration": 801,
    "start_time": "2022-12-23T14:18:46.712Z"
   },
   {
    "duration": 754,
    "start_time": "2022-12-23T14:19:06.316Z"
   },
   {
    "duration": 906,
    "start_time": "2022-12-23T14:19:11.826Z"
   },
   {
    "duration": 755,
    "start_time": "2022-12-23T14:19:34.923Z"
   },
   {
    "duration": 15,
    "start_time": "2022-12-23T14:20:41.564Z"
   },
   {
    "duration": 771,
    "start_time": "2022-12-23T14:21:22.569Z"
   },
   {
    "duration": 4,
    "start_time": "2022-12-23T14:22:06.774Z"
   },
   {
    "duration": 29,
    "start_time": "2022-12-23T14:22:11.408Z"
   },
   {
    "duration": 28,
    "start_time": "2022-12-23T14:22:30.910Z"
   },
   {
    "duration": 25,
    "start_time": "2022-12-23T14:22:42.500Z"
   },
   {
    "duration": 29,
    "start_time": "2022-12-23T14:24:00.168Z"
   },
   {
    "duration": 14,
    "start_time": "2022-12-23T14:24:36.211Z"
   },
   {
    "duration": 26,
    "start_time": "2022-12-23T14:24:52.811Z"
   },
   {
    "duration": 5,
    "start_time": "2022-12-23T14:25:20.162Z"
   },
   {
    "duration": 7,
    "start_time": "2022-12-23T14:25:36.553Z"
   },
   {
    "duration": 29,
    "start_time": "2022-12-23T14:26:20.744Z"
   },
   {
    "duration": 29,
    "start_time": "2022-12-23T14:30:46.683Z"
   },
   {
    "duration": 28,
    "start_time": "2022-12-23T14:30:59.918Z"
   },
   {
    "duration": 14,
    "start_time": "2022-12-23T14:31:51.220Z"
   },
   {
    "duration": 21,
    "start_time": "2022-12-23T14:32:03.803Z"
   },
   {
    "duration": 21,
    "start_time": "2022-12-23T14:32:50.997Z"
   },
   {
    "duration": 148,
    "start_time": "2022-12-23T14:33:02.912Z"
   },
   {
    "duration": 132,
    "start_time": "2022-12-23T14:33:14.740Z"
   },
   {
    "duration": 541,
    "start_time": "2022-12-23T14:44:32.748Z"
   },
   {
    "duration": 24,
    "start_time": "2022-12-23T14:59:13.093Z"
   },
   {
    "duration": 22,
    "start_time": "2022-12-23T15:00:29.116Z"
   },
   {
    "duration": 23,
    "start_time": "2022-12-23T15:05:10.056Z"
   },
   {
    "duration": 77,
    "start_time": "2022-12-26T09:48:09.399Z"
   },
   {
    "duration": 89,
    "start_time": "2022-12-26T09:52:02.113Z"
   },
   {
    "duration": 45,
    "start_time": "2022-12-26T09:58:59.590Z"
   },
   {
    "duration": 571,
    "start_time": "2022-12-26T09:59:06.233Z"
   },
   {
    "duration": 26,
    "start_time": "2022-12-26T09:59:06.806Z"
   },
   {
    "duration": 915,
    "start_time": "2022-12-26T09:59:06.834Z"
   },
   {
    "duration": 26,
    "start_time": "2022-12-26T09:59:07.752Z"
   },
   {
    "duration": 5,
    "start_time": "2022-12-26T09:59:07.780Z"
   },
   {
    "duration": 23,
    "start_time": "2022-12-26T09:59:07.786Z"
   },
   {
    "duration": 5,
    "start_time": "2022-12-26T09:59:07.811Z"
   },
   {
    "duration": 8,
    "start_time": "2022-12-26T09:59:07.817Z"
   },
   {
    "duration": 11,
    "start_time": "2022-12-26T09:59:07.827Z"
   },
   {
    "duration": 10,
    "start_time": "2022-12-26T09:59:07.840Z"
   },
   {
    "duration": 16,
    "start_time": "2022-12-26T09:59:07.851Z"
   },
   {
    "duration": 9,
    "start_time": "2022-12-26T09:59:07.869Z"
   },
   {
    "duration": 28,
    "start_time": "2022-12-26T09:59:07.880Z"
   },
   {
    "duration": 5,
    "start_time": "2022-12-26T09:59:07.910Z"
   },
   {
    "duration": 9,
    "start_time": "2022-12-26T09:59:07.917Z"
   },
   {
    "duration": 10,
    "start_time": "2022-12-26T09:59:07.929Z"
   },
   {
    "duration": 15,
    "start_time": "2022-12-26T09:59:07.941Z"
   },
   {
    "duration": 6,
    "start_time": "2022-12-26T09:59:07.958Z"
   },
   {
    "duration": 47,
    "start_time": "2022-12-26T09:59:14.457Z"
   },
   {
    "duration": 19,
    "start_time": "2022-12-26T10:01:04.240Z"
   },
   {
    "duration": 122,
    "start_time": "2022-12-26T10:01:11.065Z"
   },
   {
    "duration": 30,
    "start_time": "2022-12-26T10:01:11.189Z"
   },
   {
    "duration": 557,
    "start_time": "2022-12-26T10:01:11.221Z"
   },
   {
    "duration": 36,
    "start_time": "2022-12-26T10:01:11.780Z"
   },
   {
    "duration": 5,
    "start_time": "2022-12-26T10:01:11.818Z"
   },
   {
    "duration": 8,
    "start_time": "2022-12-26T10:01:11.825Z"
   },
   {
    "duration": 6,
    "start_time": "2022-12-26T10:01:11.835Z"
   },
   {
    "duration": 8,
    "start_time": "2022-12-26T10:01:11.843Z"
   },
   {
    "duration": 9,
    "start_time": "2022-12-26T10:01:11.853Z"
   },
   {
    "duration": 6,
    "start_time": "2022-12-26T10:01:11.865Z"
   },
   {
    "duration": 9,
    "start_time": "2022-12-26T10:01:11.905Z"
   },
   {
    "duration": 8,
    "start_time": "2022-12-26T10:01:11.915Z"
   },
   {
    "duration": 11,
    "start_time": "2022-12-26T10:01:11.925Z"
   },
   {
    "duration": 5,
    "start_time": "2022-12-26T10:01:11.937Z"
   },
   {
    "duration": 7,
    "start_time": "2022-12-26T10:01:11.944Z"
   },
   {
    "duration": 8,
    "start_time": "2022-12-26T10:01:11.952Z"
   },
   {
    "duration": 11,
    "start_time": "2022-12-26T10:01:11.961Z"
   },
   {
    "duration": 32,
    "start_time": "2022-12-26T10:01:11.974Z"
   },
   {
    "duration": 5,
    "start_time": "2022-12-26T10:01:12.008Z"
   },
   {
    "duration": 12,
    "start_time": "2022-12-26T10:01:12.014Z"
   },
   {
    "duration": 7,
    "start_time": "2022-12-26T10:01:12.027Z"
   },
   {
    "duration": 18,
    "start_time": "2022-12-26T10:01:12.035Z"
   },
   {
    "duration": 5,
    "start_time": "2022-12-26T10:01:12.054Z"
   },
   {
    "duration": 10,
    "start_time": "2022-12-26T10:01:12.060Z"
   },
   {
    "duration": 9,
    "start_time": "2022-12-26T10:01:12.072Z"
   },
   {
    "duration": 26,
    "start_time": "2022-12-26T10:01:12.082Z"
   },
   {
    "duration": 10,
    "start_time": "2022-12-26T10:01:12.110Z"
   },
   {
    "duration": 10,
    "start_time": "2022-12-26T10:01:12.123Z"
   },
   {
    "duration": 5,
    "start_time": "2022-12-26T10:01:12.135Z"
   },
   {
    "duration": 6,
    "start_time": "2022-12-26T10:01:12.142Z"
   },
   {
    "duration": 49,
    "start_time": "2022-12-26T10:01:12.150Z"
   },
   {
    "duration": 5,
    "start_time": "2022-12-26T10:01:12.201Z"
   },
   {
    "duration": 12,
    "start_time": "2022-12-26T10:01:12.208Z"
   },
   {
    "duration": 7,
    "start_time": "2022-12-26T10:01:12.222Z"
   },
   {
    "duration": 15,
    "start_time": "2022-12-26T10:01:12.230Z"
   },
   {
    "duration": 5,
    "start_time": "2022-12-26T10:01:12.246Z"
   },
   {
    "duration": 8,
    "start_time": "2022-12-26T10:01:12.252Z"
   },
   {
    "duration": 8,
    "start_time": "2022-12-26T10:01:12.261Z"
   },
   {
    "duration": 51,
    "start_time": "2022-12-26T10:01:12.271Z"
   },
   {
    "duration": 108,
    "start_time": "2022-12-26T10:01:12.324Z"
   },
   {
    "duration": 6,
    "start_time": "2022-12-26T10:01:12.434Z"
   },
   {
    "duration": 15,
    "start_time": "2022-12-26T10:01:12.441Z"
   },
   {
    "duration": 2888,
    "start_time": "2022-12-26T10:01:12.457Z"
   },
   {
    "duration": 22,
    "start_time": "2022-12-26T10:01:15.347Z"
   },
   {
    "duration": 5310,
    "start_time": "2022-12-26T10:01:15.371Z"
   },
   {
    "duration": 4,
    "start_time": "2022-12-26T10:01:20.683Z"
   },
   {
    "duration": 15,
    "start_time": "2022-12-26T10:01:20.689Z"
   },
   {
    "duration": 17,
    "start_time": "2022-12-26T10:01:20.706Z"
   },
   {
    "duration": 10,
    "start_time": "2022-12-26T10:01:20.725Z"
   },
   {
    "duration": 8,
    "start_time": "2022-12-26T10:01:20.736Z"
   },
   {
    "duration": 33,
    "start_time": "2022-12-26T10:01:20.747Z"
   },
   {
    "duration": 76,
    "start_time": "2022-12-26T10:04:07.282Z"
   },
   {
    "duration": 73,
    "start_time": "2022-12-26T10:04:44.632Z"
   },
   {
    "duration": 11,
    "start_time": "2022-12-26T10:04:57.660Z"
   },
   {
    "duration": 11,
    "start_time": "2022-12-26T10:05:01.544Z"
   },
   {
    "duration": 23,
    "start_time": "2022-12-26T10:05:59.012Z"
   },
   {
    "duration": 23,
    "start_time": "2022-12-26T10:06:06.733Z"
   },
   {
    "duration": 70,
    "start_time": "2022-12-26T10:06:56.544Z"
   },
   {
    "duration": 98,
    "start_time": "2022-12-26T10:07:09.707Z"
   },
   {
    "duration": 73,
    "start_time": "2022-12-26T10:07:57.729Z"
   },
   {
    "duration": 75,
    "start_time": "2022-12-26T10:10:26.430Z"
   },
   {
    "duration": 5,
    "start_time": "2022-12-26T10:10:48.830Z"
   },
   {
    "duration": 31,
    "start_time": "2022-12-26T10:11:50.702Z"
   },
   {
    "duration": 19,
    "start_time": "2022-12-26T10:15:56.356Z"
   },
   {
    "duration": 71,
    "start_time": "2022-12-26T10:16:18.135Z"
   },
   {
    "duration": 9,
    "start_time": "2022-12-26T10:16:28.344Z"
   },
   {
    "duration": 9,
    "start_time": "2022-12-26T10:16:32.995Z"
   },
   {
    "duration": 15,
    "start_time": "2022-12-26T10:16:40.592Z"
   },
   {
    "duration": 17,
    "start_time": "2022-12-26T10:17:36.851Z"
   },
   {
    "duration": 17,
    "start_time": "2022-12-26T10:18:32.634Z"
   },
   {
    "duration": 98,
    "start_time": "2022-12-26T10:19:28.845Z"
   },
   {
    "duration": 11,
    "start_time": "2022-12-26T10:23:20.035Z"
   },
   {
    "duration": 11,
    "start_time": "2022-12-26T10:23:30.647Z"
   },
   {
    "duration": 10,
    "start_time": "2022-12-26T10:32:32.098Z"
   },
   {
    "duration": 112,
    "start_time": "2022-12-26T10:32:39.205Z"
   },
   {
    "duration": 26,
    "start_time": "2022-12-26T10:32:39.319Z"
   },
   {
    "duration": 492,
    "start_time": "2022-12-26T10:32:39.346Z"
   },
   {
    "duration": 24,
    "start_time": "2022-12-26T10:32:39.841Z"
   },
   {
    "duration": 5,
    "start_time": "2022-12-26T10:32:39.866Z"
   },
   {
    "duration": 9,
    "start_time": "2022-12-26T10:32:39.873Z"
   },
   {
    "duration": 5,
    "start_time": "2022-12-26T10:32:39.905Z"
   },
   {
    "duration": 11,
    "start_time": "2022-12-26T10:32:39.911Z"
   },
   {
    "duration": 8,
    "start_time": "2022-12-26T10:32:39.923Z"
   },
   {
    "duration": 6,
    "start_time": "2022-12-26T10:32:39.933Z"
   },
   {
    "duration": 10,
    "start_time": "2022-12-26T10:32:39.941Z"
   },
   {
    "duration": 7,
    "start_time": "2022-12-26T10:32:39.952Z"
   },
   {
    "duration": 11,
    "start_time": "2022-12-26T10:32:39.961Z"
   },
   {
    "duration": 32,
    "start_time": "2022-12-26T10:32:39.974Z"
   },
   {
    "duration": 12,
    "start_time": "2022-12-26T10:32:40.008Z"
   },
   {
    "duration": 8,
    "start_time": "2022-12-26T10:32:40.022Z"
   },
   {
    "duration": 12,
    "start_time": "2022-12-26T10:32:40.032Z"
   },
   {
    "duration": 6,
    "start_time": "2022-12-26T10:32:40.045Z"
   },
   {
    "duration": 7,
    "start_time": "2022-12-26T10:32:40.052Z"
   },
   {
    "duration": 11,
    "start_time": "2022-12-26T10:32:40.061Z"
   },
   {
    "duration": 33,
    "start_time": "2022-12-26T10:32:40.074Z"
   },
   {
    "duration": 11,
    "start_time": "2022-12-26T10:32:40.109Z"
   },
   {
    "duration": 6,
    "start_time": "2022-12-26T10:32:40.121Z"
   },
   {
    "duration": 29,
    "start_time": "2022-12-26T10:32:40.128Z"
   },
   {
    "duration": 14,
    "start_time": "2022-12-26T10:32:40.158Z"
   },
   {
    "duration": 9,
    "start_time": "2022-12-26T10:32:40.173Z"
   },
   {
    "duration": 24,
    "start_time": "2022-12-26T10:32:40.184Z"
   },
   {
    "duration": 14,
    "start_time": "2022-12-26T10:32:40.213Z"
   },
   {
    "duration": 12,
    "start_time": "2022-12-26T10:32:40.229Z"
   },
   {
    "duration": 5,
    "start_time": "2022-12-26T10:32:40.242Z"
   },
   {
    "duration": 21,
    "start_time": "2022-12-26T10:32:40.249Z"
   },
   {
    "duration": 5,
    "start_time": "2022-12-26T10:32:40.272Z"
   },
   {
    "duration": 6,
    "start_time": "2022-12-26T10:32:40.305Z"
   },
   {
    "duration": 6,
    "start_time": "2022-12-26T10:32:40.313Z"
   },
   {
    "duration": 12,
    "start_time": "2022-12-26T10:32:40.321Z"
   },
   {
    "duration": 6,
    "start_time": "2022-12-26T10:32:40.335Z"
   },
   {
    "duration": 8,
    "start_time": "2022-12-26T10:32:40.342Z"
   },
   {
    "duration": 9,
    "start_time": "2022-12-26T10:32:40.352Z"
   },
   {
    "duration": 64,
    "start_time": "2022-12-26T10:32:40.362Z"
   },
   {
    "duration": 108,
    "start_time": "2022-12-26T10:32:40.427Z"
   },
   {
    "duration": 5,
    "start_time": "2022-12-26T10:32:40.537Z"
   },
   {
    "duration": 8,
    "start_time": "2022-12-26T10:32:40.544Z"
   },
   {
    "duration": 2661,
    "start_time": "2022-12-26T10:32:40.554Z"
   },
   {
    "duration": 21,
    "start_time": "2022-12-26T10:32:43.216Z"
   },
   {
    "duration": 5131,
    "start_time": "2022-12-26T10:32:43.239Z"
   },
   {
    "duration": 5,
    "start_time": "2022-12-26T10:32:48.371Z"
   },
   {
    "duration": 22,
    "start_time": "2022-12-26T10:32:48.377Z"
   },
   {
    "duration": 23,
    "start_time": "2022-12-26T10:32:48.400Z"
   },
   {
    "duration": 10,
    "start_time": "2022-12-26T10:32:48.425Z"
   },
   {
    "duration": 9,
    "start_time": "2022-12-26T10:32:48.437Z"
   },
   {
    "duration": 3053,
    "start_time": "2022-12-26T10:32:48.447Z"
   },
   {
    "duration": 10,
    "start_time": "2022-12-26T10:32:51.504Z"
   },
   {
    "duration": 23,
    "start_time": "2022-12-26T10:32:51.516Z"
   },
   {
    "duration": 25,
    "start_time": "2022-12-26T10:32:51.541Z"
   },
   {
    "duration": 3,
    "start_time": "2022-12-26T10:32:51.568Z"
   },
   {
    "duration": 570,
    "start_time": "2022-12-26T10:32:51.573Z"
   },
   {
    "duration": 5,
    "start_time": "2022-12-26T10:32:52.147Z"
   },
   {
    "duration": 4,
    "start_time": "2022-12-26T10:33:10.457Z"
   },
   {
    "duration": 18,
    "start_time": "2022-12-26T10:33:42.398Z"
   },
   {
    "duration": 16,
    "start_time": "2022-12-26T10:34:02.350Z"
   },
   {
    "duration": 47,
    "start_time": "2022-12-26T10:35:27.215Z"
   },
   {
    "duration": 9,
    "start_time": "2022-12-26T10:35:55.448Z"
   },
   {
    "duration": 16,
    "start_time": "2022-12-26T10:36:33.631Z"
   },
   {
    "duration": 22,
    "start_time": "2022-12-26T10:38:34.131Z"
   },
   {
    "duration": 4,
    "start_time": "2022-12-26T10:38:43.438Z"
   },
   {
    "duration": 26,
    "start_time": "2022-12-26T10:41:23.282Z"
   },
   {
    "duration": 15,
    "start_time": "2022-12-26T10:41:37.550Z"
   },
   {
    "duration": 80,
    "start_time": "2022-12-26T10:41:45.145Z"
   },
   {
    "duration": 25,
    "start_time": "2022-12-26T10:41:56.363Z"
   },
   {
    "duration": 119,
    "start_time": "2022-12-26T10:42:34.749Z"
   },
   {
    "duration": 35,
    "start_time": "2022-12-26T10:42:34.870Z"
   },
   {
    "duration": 505,
    "start_time": "2022-12-26T10:42:34.907Z"
   },
   {
    "duration": 26,
    "start_time": "2022-12-26T10:42:35.415Z"
   },
   {
    "duration": 7,
    "start_time": "2022-12-26T10:42:35.443Z"
   },
   {
    "duration": 9,
    "start_time": "2022-12-26T10:42:35.452Z"
   },
   {
    "duration": 6,
    "start_time": "2022-12-26T10:42:35.463Z"
   },
   {
    "duration": 36,
    "start_time": "2022-12-26T10:42:35.470Z"
   },
   {
    "duration": 7,
    "start_time": "2022-12-26T10:42:35.508Z"
   },
   {
    "duration": 5,
    "start_time": "2022-12-26T10:42:35.518Z"
   },
   {
    "duration": 14,
    "start_time": "2022-12-26T10:42:35.525Z"
   },
   {
    "duration": 6,
    "start_time": "2022-12-26T10:42:35.541Z"
   },
   {
    "duration": 11,
    "start_time": "2022-12-26T10:42:35.549Z"
   },
   {
    "duration": 7,
    "start_time": "2022-12-26T10:42:35.561Z"
   },
   {
    "duration": 38,
    "start_time": "2022-12-26T10:42:35.570Z"
   },
   {
    "duration": 7,
    "start_time": "2022-12-26T10:42:35.610Z"
   },
   {
    "duration": 12,
    "start_time": "2022-12-26T10:42:35.618Z"
   },
   {
    "duration": 5,
    "start_time": "2022-12-26T10:42:35.632Z"
   },
   {
    "duration": 6,
    "start_time": "2022-12-26T10:42:35.639Z"
   },
   {
    "duration": 8,
    "start_time": "2022-12-26T10:42:35.647Z"
   },
   {
    "duration": 7,
    "start_time": "2022-12-26T10:42:35.656Z"
   },
   {
    "duration": 46,
    "start_time": "2022-12-26T10:42:35.664Z"
   },
   {
    "duration": 5,
    "start_time": "2022-12-26T10:42:35.711Z"
   },
   {
    "duration": 9,
    "start_time": "2022-12-26T10:42:35.718Z"
   },
   {
    "duration": 10,
    "start_time": "2022-12-26T10:42:35.728Z"
   },
   {
    "duration": 8,
    "start_time": "2022-12-26T10:42:35.740Z"
   },
   {
    "duration": 7,
    "start_time": "2022-12-26T10:42:35.750Z"
   },
   {
    "duration": 11,
    "start_time": "2022-12-26T10:42:35.760Z"
   },
   {
    "duration": 33,
    "start_time": "2022-12-26T10:42:35.773Z"
   },
   {
    "duration": 8,
    "start_time": "2022-12-26T10:42:35.808Z"
   },
   {
    "duration": 21,
    "start_time": "2022-12-26T10:42:35.817Z"
   },
   {
    "duration": 5,
    "start_time": "2022-12-26T10:42:35.840Z"
   },
   {
    "duration": 7,
    "start_time": "2022-12-26T10:42:35.846Z"
   },
   {
    "duration": 8,
    "start_time": "2022-12-26T10:42:35.854Z"
   },
   {
    "duration": 13,
    "start_time": "2022-12-26T10:42:35.863Z"
   },
   {
    "duration": 30,
    "start_time": "2022-12-26T10:42:35.877Z"
   },
   {
    "duration": 7,
    "start_time": "2022-12-26T10:42:35.909Z"
   },
   {
    "duration": 298,
    "start_time": "2022-12-26T10:42:45.406Z"
   },
   {
    "duration": 18,
    "start_time": "2022-12-26T10:45:45.696Z"
   },
   {
    "duration": 31,
    "start_time": "2022-12-26T10:46:09.420Z"
   },
   {
    "duration": 37,
    "start_time": "2022-12-26T10:46:27.360Z"
   },
   {
    "duration": 26,
    "start_time": "2022-12-26T10:46:48.064Z"
   },
   {
    "duration": 42,
    "start_time": "2022-12-26T10:47:11.380Z"
   },
   {
    "duration": 26,
    "start_time": "2022-12-26T10:47:25.489Z"
   },
   {
    "duration": 20,
    "start_time": "2022-12-26T10:47:57.399Z"
   },
   {
    "duration": 81,
    "start_time": "2022-12-26T10:48:09.146Z"
   },
   {
    "duration": 54,
    "start_time": "2022-12-26T10:48:23.760Z"
   },
   {
    "duration": 15,
    "start_time": "2022-12-26T10:49:37.206Z"
   },
   {
    "duration": 20,
    "start_time": "2022-12-26T10:49:52.687Z"
   },
   {
    "duration": 24,
    "start_time": "2022-12-26T10:50:50.201Z"
   },
   {
    "duration": 24,
    "start_time": "2022-12-26T10:51:00.470Z"
   },
   {
    "duration": 25,
    "start_time": "2022-12-26T10:51:27.874Z"
   },
   {
    "duration": 25,
    "start_time": "2022-12-26T10:51:36.268Z"
   },
   {
    "duration": 48,
    "start_time": "2022-12-26T10:52:14.917Z"
   },
   {
    "duration": 30,
    "start_time": "2022-12-26T10:52:29.517Z"
   },
   {
    "duration": 98,
    "start_time": "2022-12-26T10:52:59.650Z"
   },
   {
    "duration": 41,
    "start_time": "2022-12-26T10:53:39.254Z"
   },
   {
    "duration": 39,
    "start_time": "2022-12-26T10:54:44.041Z"
   },
   {
    "duration": 38,
    "start_time": "2022-12-26T10:54:51.215Z"
   },
   {
    "duration": 26,
    "start_time": "2022-12-26T10:54:59.151Z"
   },
   {
    "duration": 44,
    "start_time": "2022-12-26T10:55:35.370Z"
   },
   {
    "duration": 18,
    "start_time": "2022-12-26T10:56:02.879Z"
   },
   {
    "duration": 19,
    "start_time": "2022-12-26T10:56:23.688Z"
   },
   {
    "duration": 35,
    "start_time": "2022-12-26T10:56:34.685Z"
   },
   {
    "duration": 101,
    "start_time": "2022-12-26T11:47:18.957Z"
   }
  ],
  "kernelspec": {
   "display_name": "Python 3 (ipykernel)",
   "language": "python",
   "name": "python3"
  },
  "language_info": {
   "codemirror_mode": {
    "name": "ipython",
    "version": 3
   },
   "file_extension": ".py",
   "mimetype": "text/x-python",
   "name": "python",
   "nbconvert_exporter": "python",
   "pygments_lexer": "ipython3",
   "version": "3.9.13"
  },
  "toc": {
   "base_numbering": 1,
   "nav_menu": {},
   "number_sections": true,
   "sideBar": true,
   "skip_h1_title": true,
   "title_cell": "Table of Contents",
   "title_sidebar": "Contents",
   "toc_cell": false,
   "toc_position": {},
   "toc_section_display": true,
   "toc_window_display": false
  }
 },
 "nbformat": 4,
 "nbformat_minor": 2
}
