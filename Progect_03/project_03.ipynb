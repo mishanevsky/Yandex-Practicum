{
 "cells": [
  {
   "cell_type": "markdown",
   "metadata": {},
   "source": [
    "# Выбор локации для скважины"
   ]
  },
  {
   "cell_type": "markdown",
   "metadata": {},
   "source": [
    "Допустим, вы работаете в добывающей компании «ГлавРосГосНефть». Нужно решить, где бурить новую скважину.\n",
    "\n",
    "Вам предоставлены пробы нефти в трёх регионах: в каждом 10 000 месторождений, где измерили качество нефти и объём её запасов. Постройте модель машинного обучения, которая поможет определить регион, где добыча принесёт наибольшую прибыль. Проанализируйте возможную прибыль и риски техникой *Bootstrap.*\n",
    "\n",
    "Шаги для выбора локации:\n",
    "\n",
    "- В избранном регионе ищут месторождения, для каждого определяют значения признаков;\n",
    "- Строят модель и оценивают объём запасов;\n",
    "- Выбирают месторождения с самым высокими оценками значений. Количество месторождений зависит от бюджета компании и стоимости разработки одной скважины;\n",
    "- Прибыль равна суммарной прибыли отобранных месторождений."
   ]
  },
  {
   "cell_type": "markdown",
   "metadata": {},
   "source": [
    "## Загрузка и подготовка данных"
   ]
  },
  {
   "cell_type": "code",
   "execution_count": 22,
   "metadata": {},
   "outputs": [],
   "source": [
    "#подключение необходимых библиотек\n",
    "import pandas as pd\n",
    "import numpy as np\n",
    "from sklearn.model_selection import train_test_split\n",
    "from sklearn.linear_model import LinearRegression\n",
    "from sklearn.metrics import mean_squared_error\n",
    "\n",
    "import warnings\n",
    "warnings.filterwarnings(\"ignore\")"
   ]
  },
  {
   "cell_type": "code",
   "execution_count": 23,
   "metadata": {},
   "outputs": [],
   "source": [
    "#подключение датасетов\n",
    "data_1 = pd.read_csv('/datasets/geo_data_0.csv')\n",
    "data_2 = pd.read_csv('/datasets/geo_data_1.csv')\n",
    "data_3 = pd.read_csv('/datasets/geo_data_2.csv')"
   ]
  },
  {
   "cell_type": "code",
   "execution_count": 24,
   "metadata": {},
   "outputs": [
    {
     "name": "stdout",
     "output_type": "stream",
     "text": [
      "DATA_1: \n",
      "       id        f0        f1        f2     product\n",
      "0  txEyH  0.705745 -0.497823  1.221170  105.280062\n",
      "1  2acmU  1.334711 -0.340164  4.365080   73.037750\n",
      "2  409Wp  1.022732  0.151990  1.419926   85.265647\n",
      "3  iJLyR -0.032172  0.139033  2.978566  168.620776\n",
      "4  Xdl7t  1.988431  0.155413  4.751769  154.036647 \n",
      "\n",
      "<class 'pandas.core.frame.DataFrame'>\n",
      "RangeIndex: 100000 entries, 0 to 99999\n",
      "Data columns (total 5 columns):\n",
      " #   Column   Non-Null Count   Dtype  \n",
      "---  ------   --------------   -----  \n",
      " 0   id       100000 non-null  object \n",
      " 1   f0       100000 non-null  float64\n",
      " 2   f1       100000 non-null  float64\n",
      " 3   f2       100000 non-null  float64\n",
      " 4   product  100000 non-null  float64\n",
      "dtypes: float64(4), object(1)\n",
      "memory usage: 3.8+ MB\n",
      "\n",
      " DATA_2: \n",
      "       id         f0         f1        f2     product\n",
      "0  kBEdx -15.001348  -8.276000 -0.005876    3.179103\n",
      "1  62mP7  14.272088  -3.475083  0.999183   26.953261\n",
      "2  vyE1P   6.263187  -5.948386  5.001160  134.766305\n",
      "3  KcrkZ -13.081196 -11.506057  4.999415  137.945408\n",
      "4  AHL4O  12.702195  -8.147433  5.004363  134.766305 \n",
      "\n",
      "<class 'pandas.core.frame.DataFrame'>\n",
      "RangeIndex: 100000 entries, 0 to 99999\n",
      "Data columns (total 5 columns):\n",
      " #   Column   Non-Null Count   Dtype  \n",
      "---  ------   --------------   -----  \n",
      " 0   id       100000 non-null  object \n",
      " 1   f0       100000 non-null  float64\n",
      " 2   f1       100000 non-null  float64\n",
      " 3   f2       100000 non-null  float64\n",
      " 4   product  100000 non-null  float64\n",
      "dtypes: float64(4), object(1)\n",
      "memory usage: 3.8+ MB\n",
      "\n",
      " DATA_3: \n",
      "       id        f0        f1        f2     product\n",
      "0  fwXo0 -1.146987  0.963328 -0.828965   27.758673\n",
      "1  WJtFt  0.262778  0.269839 -2.530187   56.069697\n",
      "2  ovLUW  0.194587  0.289035 -5.586433   62.871910\n",
      "3  q6cA6  2.236060 -0.553760  0.930038  114.572842\n",
      "4  WPMUX -0.515993  1.716266  5.899011  149.600746 \n",
      "\n",
      "<class 'pandas.core.frame.DataFrame'>\n",
      "RangeIndex: 100000 entries, 0 to 99999\n",
      "Data columns (total 5 columns):\n",
      " #   Column   Non-Null Count   Dtype  \n",
      "---  ------   --------------   -----  \n",
      " 0   id       100000 non-null  object \n",
      " 1   f0       100000 non-null  float64\n",
      " 2   f1       100000 non-null  float64\n",
      " 3   f2       100000 non-null  float64\n",
      " 4   product  100000 non-null  float64\n",
      "dtypes: float64(4), object(1)\n",
      "memory usage: 3.8+ MB\n"
     ]
    }
   ],
   "source": [
    "#просмотр состава и информации о датасетах\n",
    "print(\"DATA_1:\", \"\\n\", data_1.head(), \"\\n\")\n",
    "data_1.info()\n",
    "\n",
    "print(\"\\n\",\"DATA_2:\", \"\\n\", data_2.head(), \"\\n\")\n",
    "data_2.info()\n",
    "\n",
    "print(\"\\n\", \"DATA_3:\", \"\\n\", data_3.head(), \"\\n\")\n",
    "data_3.info()"
   ]
  },
  {
   "cell_type": "markdown",
   "metadata": {},
   "source": [
    "Типы данных соответствую друг другу, пропусков нет. Проверим данные на неявные дубликаты."
   ]
  },
  {
   "cell_type": "code",
   "execution_count": 25,
   "metadata": {},
   "outputs": [
    {
     "data": {
      "text/plain": [
       "0"
      ]
     },
     "execution_count": 25,
     "metadata": {},
     "output_type": "execute_result"
    }
   ],
   "source": [
    "#проверка на дубликаты data_1\n",
    "data_1.duplicated().sum()"
   ]
  },
  {
   "cell_type": "code",
   "execution_count": 26,
   "metadata": {},
   "outputs": [
    {
     "data": {
      "text/plain": [
       "0"
      ]
     },
     "execution_count": 26,
     "metadata": {},
     "output_type": "execute_result"
    }
   ],
   "source": [
    "#проверка на дубликаты data_2\n",
    "data_2.duplicated().sum()"
   ]
  },
  {
   "cell_type": "code",
   "execution_count": 27,
   "metadata": {},
   "outputs": [
    {
     "data": {
      "text/plain": [
       "0"
      ]
     },
     "execution_count": 27,
     "metadata": {},
     "output_type": "execute_result"
    }
   ],
   "source": [
    "#проверка на дубликаты data_3\n",
    "data_3.duplicated().sum()"
   ]
  },
  {
   "cell_type": "markdown",
   "metadata": {},
   "source": [
    "**Вывод: дубликаты отсутствуют, пропуски в данных отсутствуют, типы данных соответствуют.**"
   ]
  },
  {
   "cell_type": "markdown",
   "metadata": {},
   "source": [
    "## Обучение и проверка модели"
   ]
  },
  {
   "cell_type": "markdown",
   "metadata": {},
   "source": [
    "Теперь приступим к машинному обучению. Для этого разделим все датасеты **(data_0, data_1, data_2)** на выборки в соотношении 75:25. Запишем целевой признак product."
   ]
  },
  {
   "cell_type": "markdown",
   "metadata": {},
   "source": [
    "### Регион 1 (data_1)"
   ]
  },
  {
   "cell_type": "markdown",
   "metadata": {},
   "source": [
    "#### Разделение на выборки"
   ]
  },
  {
   "cell_type": "code",
   "execution_count": 28,
   "metadata": {},
   "outputs": [],
   "source": [
    "#разделение на выборки data_1\n",
    "data_1_train, data_1_valid = train_test_split(data_1, test_size=0.25, random_state=12345)\n",
    "\n",
    "features_1_train = data_1_train.drop(['product', 'id'], axis=1)\n",
    "target_1_train = data_1_train['product']\n",
    "features_1_valid = data_1_valid.drop(['product', 'id'], axis=1)\n",
    "target_1_valid = data_1_valid['product']"
   ]
  },
  {
   "cell_type": "markdown",
   "metadata": {},
   "source": [
    "#### Обучение модели"
   ]
  },
  {
   "cell_type": "code",
   "execution_count": 29,
   "metadata": {},
   "outputs": [
    {
     "data": {
      "text/plain": [
       "LinearRegression()"
      ]
     },
     "execution_count": 29,
     "metadata": {},
     "output_type": "execute_result"
    }
   ],
   "source": [
    "#обучение модели\n",
    "model_1 = LinearRegression()\n",
    "model_1.fit(features_1_train, target_1_train)"
   ]
  },
  {
   "cell_type": "markdown",
   "metadata": {},
   "source": [
    "#### Сохранение предсказаний и правильных ответов"
   ]
  },
  {
   "cell_type": "code",
   "execution_count": 30,
   "metadata": {},
   "outputs": [],
   "source": [
    "#сохранение предсказаний\n",
    "predictions_1_valid = model_1.predict(features_1_valid)"
   ]
  },
  {
   "cell_type": "markdown",
   "metadata": {},
   "source": [
    "#### Вычисление RMSE и среднего запаса предсказанного сырья"
   ]
  },
  {
   "cell_type": "code",
   "execution_count": 31,
   "metadata": {},
   "outputs": [
    {
     "name": "stdout",
     "output_type": "stream",
     "text": [
      "RMSE по Региону 1 равно:  37.5794217150813\n",
      "Средний запас предсказанного сырья по Региону 1 равен:  92.59256778438035\n"
     ]
    }
   ],
   "source": [
    "#вычисление и вывод на экран значения RMSE\n",
    "rmse_1 = mean_squared_error(target_1_valid, predictions_1_valid) ** .5\n",
    "print(\"RMSE по Региону 1 равно: \", rmse_1)\n",
    "\n",
    "#вычисление и вывод на экран значения среднего запаса предсказанного сырья\n",
    "product_1_mean = predictions_1_valid.mean()\n",
    "print(\"Средний запас предсказанного сырья по Региону 1 равен: \", product_1_mean)"
   ]
  },
  {
   "cell_type": "markdown",
   "metadata": {},
   "source": [
    "#### Выводы"
   ]
  },
  {
   "cell_type": "markdown",
   "metadata": {},
   "source": [
    "* RMSE по **Региону 1** равно:  37.5794217150813\n",
    "* Средний запас предсказанного сырья по **Региону 1** равен:  92.59256778438035"
   ]
  },
  {
   "cell_type": "markdown",
   "metadata": {},
   "source": [
    "### Регион 2 (data_2)"
   ]
  },
  {
   "cell_type": "markdown",
   "metadata": {},
   "source": [
    "#### Разделение на выборки"
   ]
  },
  {
   "cell_type": "code",
   "execution_count": 32,
   "metadata": {},
   "outputs": [],
   "source": [
    "#разделение на выборки data_2\n",
    "data_2_train, data_2_valid = train_test_split(data_2, test_size=0.25, random_state=12345)\n",
    "\n",
    "features_2_train = data_2_train.drop(['product', 'id'], axis=1)\n",
    "target_2_train = data_2_train['product']\n",
    "features_2_valid = data_2_valid.drop(['product', 'id'], axis=1)\n",
    "target_2_valid = data_2_valid['product']"
   ]
  },
  {
   "cell_type": "markdown",
   "metadata": {},
   "source": [
    "#### Обучение модели"
   ]
  },
  {
   "cell_type": "code",
   "execution_count": 33,
   "metadata": {},
   "outputs": [
    {
     "data": {
      "text/plain": [
       "LinearRegression()"
      ]
     },
     "execution_count": 33,
     "metadata": {},
     "output_type": "execute_result"
    }
   ],
   "source": [
    "#обучение модели\n",
    "model_2 = LinearRegression()\n",
    "model_2.fit(features_2_train, target_2_train)"
   ]
  },
  {
   "cell_type": "markdown",
   "metadata": {},
   "source": [
    "#### Сохранение предсказаний и правильных ответов"
   ]
  },
  {
   "cell_type": "code",
   "execution_count": 34,
   "metadata": {},
   "outputs": [],
   "source": [
    "#сохранение предсказаний\n",
    "predictions_2_valid = model_2.predict(features_2_valid)"
   ]
  },
  {
   "cell_type": "markdown",
   "metadata": {},
   "source": [
    "#### Вычисление RMSE и среднего запаса предсказанного сырья"
   ]
  },
  {
   "cell_type": "code",
   "execution_count": 36,
   "metadata": {},
   "outputs": [
    {
     "name": "stdout",
     "output_type": "stream",
     "text": [
      "RMSE по Региону 2 равно:  0.893099286775617\n",
      "Средний запас предсказанного сырья по Региону 2 равен:  68.728546895446\n"
     ]
    }
   ],
   "source": [
    "#вычисление и вывод на экран значения RMSE\n",
    "rmse_2 = mean_squared_error(target_2_valid, predictions_2_valid) ** .5\n",
    "print(\"RMSE по Региону 2 равно: \", rmse_2)\n",
    "\n",
    "#вычисление и вывод на экран значения среднего запаса предсказанного сырья\n",
    "product_2_mean = predictions_2_valid.mean()\n",
    "print(\"Средний запас предсказанного сырья по Региону 2 равен: \", product_2_mean)"
   ]
  },
  {
   "cell_type": "markdown",
   "metadata": {},
   "source": [
    "#### Выводы"
   ]
  },
  {
   "cell_type": "markdown",
   "metadata": {},
   "source": [
    "* RMSE по **Региону 2** равно:  0.893099286775617\n",
    "* Средний запас предсказанного сырья по **Региону 2** равен:  68.728546895446"
   ]
  },
  {
   "cell_type": "markdown",
   "metadata": {},
   "source": [
    "### Регион 3 (data_3)"
   ]
  },
  {
   "cell_type": "markdown",
   "metadata": {},
   "source": [
    "#### Разделение на выборки"
   ]
  },
  {
   "cell_type": "code",
   "execution_count": 37,
   "metadata": {},
   "outputs": [],
   "source": [
    "#разделение на выборки data_3\n",
    "data_3_train, data_3_valid = train_test_split(data_3, test_size=0.25, random_state=12345)\n",
    "\n",
    "features_3_train = data_3_train.drop(['product', 'id'], axis=1)\n",
    "target_3_train = data_3_train['product']\n",
    "features_3_valid = data_3_valid.drop(['product', 'id'], axis=1)\n",
    "target_3_valid = data_3_valid['product']"
   ]
  },
  {
   "cell_type": "markdown",
   "metadata": {},
   "source": [
    "#### Обучение модели"
   ]
  },
  {
   "cell_type": "code",
   "execution_count": 38,
   "metadata": {},
   "outputs": [
    {
     "data": {
      "text/plain": [
       "LinearRegression()"
      ]
     },
     "execution_count": 38,
     "metadata": {},
     "output_type": "execute_result"
    }
   ],
   "source": [
    "#обучение модели\n",
    "model_3 = LinearRegression()\n",
    "model_3.fit(features_3_train, target_3_train)"
   ]
  },
  {
   "cell_type": "markdown",
   "metadata": {},
   "source": [
    "#### Сохранение предсказаний и правильных ответов"
   ]
  },
  {
   "cell_type": "code",
   "execution_count": 39,
   "metadata": {},
   "outputs": [],
   "source": [
    "#сохранение предсказаний\n",
    "predictions_3_valid = model_3.predict(features_3_valid)"
   ]
  },
  {
   "cell_type": "markdown",
   "metadata": {},
   "source": [
    "#### Вычисление RMSE и среднего запаса предсказанного сырья"
   ]
  },
  {
   "cell_type": "code",
   "execution_count": 40,
   "metadata": {},
   "outputs": [
    {
     "name": "stdout",
     "output_type": "stream",
     "text": [
      "RMSE по Региону 3 равно:  40.02970873393434\n",
      "Средний запас предсказанного сырья по Региону 3 равен:  94.96504596800489\n"
     ]
    }
   ],
   "source": [
    "#вычисление и вывод на экран значения RMSE\n",
    "rmse_3 = mean_squared_error(target_3_valid, predictions_3_valid) ** .5\n",
    "print(\"RMSE по Региону 3 равно: \", rmse_3)\n",
    "\n",
    "#вычисление и вывод на экран значения среднего запаса предсказанного сырья\n",
    "product_3_mean = predictions_3_valid.mean()\n",
    "print(\"Средний запас предсказанного сырья по Региону 3 равен: \", product_3_mean)"
   ]
  },
  {
   "cell_type": "markdown",
   "metadata": {},
   "source": [
    "#### Выводы"
   ]
  },
  {
   "cell_type": "markdown",
   "metadata": {},
   "source": [
    "* RMSE по **Региону 3** равно:  40.02970873393434\n",
    "* Средний запас предсказанного сырья по **Региону 3** равен:  94.96504596800489"
   ]
  },
  {
   "cell_type": "markdown",
   "metadata": {},
   "source": [
    "**Итоговый вывод:**\n",
    "* Регион 1:\n",
    "\n",
    "    RMSE по Региону 1 равно: 37.5794217150813\n",
    "    \n",
    "    Средний запас предсказанного сырья по Региону 1 равен: 92.59256778438035\n",
    "\n",
    "\n",
    "* Регион 2:\n",
    "\n",
    "    RMSE по Региону 2 равно: 0.893099286775617\n",
    "    \n",
    "    Средний запас предсказанного сырья по Региону 2 равен: 68.728546895446\n",
    "\n",
    "\n",
    "* Регион 3:\n",
    "\n",
    "\n",
    "    RMSE по Региону 3 равно: 40.02970873393434\n",
    "    \n",
    "    Средний запас предсказанного сырья по Региону 3 равен: 94.96504596800489\n",
    "**Минимальные показатели** в **Регионе 2**, **максимальные показатели** в **Регионе 3**."
   ]
  },
  {
   "cell_type": "markdown",
   "metadata": {},
   "source": [
    "## Подготовка к расчёту прибыли"
   ]
  },
  {
   "cell_type": "markdown",
   "metadata": {},
   "source": [
    "### Сохранение ключевых значений для расчетов в отдельных переменных"
   ]
  },
  {
   "cell_type": "markdown",
   "metadata": {},
   "source": [
    "Сохраним входные данные в переменные.\n",
    "* buget - бюджет на разработку скважин в регионе\n",
    "* points - количество исследуемых точек\n",
    "* best_points - количество лучших точек\n",
    "* points_income - прибыль с каждой единицы продукта"
   ]
  },
  {
   "cell_type": "code",
   "execution_count": 41,
   "metadata": {},
   "outputs": [],
   "source": [
    "#сохранение входных данных\n",
    "budget = 10 ** 10\n",
    "points = 500\n",
    "best_points = 200\n",
    "points_income = 450000"
   ]
  },
  {
   "cell_type": "markdown",
   "metadata": {},
   "source": [
    "Преобразуем предсказания и целевые признаки к Series."
   ]
  },
  {
   "cell_type": "code",
   "execution_count": 42,
   "metadata": {},
   "outputs": [],
   "source": [
    "#преобразование предсказаний и признаков data_1\n",
    "target_1_valid = pd.Series(target_1_valid).reset_index(drop=True)\n",
    "predictions_1_valid = pd.Series(predictions_1_valid).reset_index(drop=True)\n",
    "\n",
    "#преобразование предсказаний и признаков data_2\n",
    "target_2_valid = pd.Series(target_2_valid).reset_index(drop=True)\n",
    "predictions_2_valid = pd.Series(predictions_2_valid).reset_index(drop=True)\n",
    "\n",
    "#преобразование предсказаний и признаков data_3\n",
    "target_3_valid = pd.Series(target_3_valid).reset_index(drop=True)\n",
    "predictions_3_valid = pd.Series(predictions_3_valid).reset_index(drop=True)"
   ]
  },
  {
   "cell_type": "markdown",
   "metadata": {},
   "source": [
    "### Расчет достаточного объёма сырья для безубыточной разработки новой скважины."
   ]
  },
  {
   "cell_type": "code",
   "execution_count": 43,
   "metadata": {},
   "outputs": [
    {
     "name": "stdout",
     "output_type": "stream",
     "text": [
      "Достаточный объём сырья для безубыточной разработки новой скважины равен:  111.11111111111111\n"
     ]
    }
   ],
   "source": [
    "enough = budget / points_income / best_points\n",
    "print('Достаточный объём сырья для безубыточной разработки новой скважины равен: ', enough)"
   ]
  },
  {
   "cell_type": "markdown",
   "metadata": {},
   "source": [
    "### Выводы по этапу"
   ]
  },
  {
   "cell_type": "markdown",
   "metadata": {},
   "source": [
    "* Средний запас предсказанного сырья по Региону 1 равен: 92.59256778438035\n",
    "* Средний запас предсказанного сырья по Региону 2 равен: 68.728546895446\n",
    "* Средний запас предсказанного сырья по Региону 3 равен: 94.96504596800489\n",
    "\n",
    "**Во всех регионах средний объем сырья меньше необходимого для безубыточной разработки.**"
   ]
  },
  {
   "cell_type": "markdown",
   "metadata": {},
   "source": [
    "## Функция для расчёта прибыли по выбранным скважинам и предсказаниям модели"
   ]
  },
  {
   "cell_type": "code",
   "execution_count": 56,
   "metadata": {},
   "outputs": [
    {
     "name": "stdout",
     "output_type": "stream",
     "text": [
      " Возможная прибыль по Региону 1:  3320826043.1398506\n",
      " Возможная прибыль по Региону 2:  2415086696.681511\n",
      " Возможная прибыль по Региону 3:  2710349963.5998325\n"
     ]
    }
   ],
   "source": [
    "#Функция принимает целевые объемы запасов сырья скважин, предсказания и точки для разработки.\n",
    "def income(target, predictions, best_points):\n",
    "    \n",
    "    #сортируем предсказанные значения по убыванию\n",
    "    predictions_sorted = predictions.sort_values(ascending=False)\n",
    "    \n",
    "    #выбираем реальные максимальные показания объемов сырья предсказанным\n",
    "    selected = target[predictions_sorted.index][:best_points]\n",
    "    \n",
    "    return points_income * selected.sum() - budget\n",
    "\n",
    "#проверка\n",
    "print(\" Возможная прибыль по Региону 1: \", income(target_1_valid, predictions_1_valid, best_points))\n",
    "print(\" Возможная прибыль по Региону 2: \", income(target_2_valid, predictions_2_valid, best_points))\n",
    "print(\" Возможная прибыль по Региону 3: \", income(target_3_valid, predictions_3_valid, best_points))"
   ]
  },
  {
   "cell_type": "markdown",
   "metadata": {},
   "source": [
    "## Расчет рисков и прибыли для каждого региона"
   ]
  },
  {
   "cell_type": "code",
   "execution_count": 53,
   "metadata": {},
   "outputs": [
    {
     "name": "stdout",
     "output_type": "stream",
     "text": [
      "Регион 1 \n",
      "\n",
      "Средние показатели прибыли: 396164984.8023711 \n",
      "\n",
      "95%-доверительный интервал: от 213920379.53535748 до 909766941.5534226 \n",
      "\n",
      "Вероятность убытков: 6.9 % \n",
      "\n",
      "\n",
      "Регион 2 \n",
      "\n",
      "Средние показатели прибыли: 461155817.2772397 \n",
      "\n",
      "95%-доверительный интервал: от 322186710.86017036 до 862952060.2637234 \n",
      "\n",
      "Вероятность убытков: 0.7000000000000001 % \n",
      "\n",
      "\n",
      "Регион 3 \n",
      "\n",
      "Средние показатели прибыли: 392950475.17060447 \n",
      "\n",
      "95%-доверительный интервал: от 204390313.24232578 до 934562914.5511636 \n",
      "\n",
      "Вероятность убытков: 6.5 % \n",
      "\n",
      "\n"
     ]
    }
   ],
   "source": [
    "#создаем переменный со списками признаков, предсказаний и регионов\n",
    "all_targets = [target_1_valid, target_2_valid, target_3_valid]\n",
    "all_predictions = [predictions_1_valid, predictions_2_valid, predictions_3_valid]\n",
    "all_regions = ['Регион 1', 'Регион 2', 'Регион 3']\n",
    "\n",
    "state = np.random.RandomState(12345)\n",
    "\n",
    "#создаем цикл для просчета прибыли и рисков\n",
    "for area in range(len(all_targets)):\n",
    "    \n",
    "    #список для сохранения результатов\n",
    "    values = []\n",
    "    \n",
    "    #bootstrap\n",
    "    for i in range(1000):\n",
    "        target_subsample = all_targets[area].sample(n=points, replace=True, random_state=state)\n",
    "        predictions_subsample = all_predictions[area].loc[target_subsample.index]\n",
    "        values.append(income(target_subsample.reset_index(drop=True),\\\n",
    "                             predictions_subsample.reset_index(drop=True), best_points))\n",
    "    \n",
    "    values = pd.Series(values)\n",
    "    \n",
    "    lower = values.quantile(0.25)\n",
    "    upper = values.quantile(0.975)\n",
    "    \n",
    "    #средние показатели прибыли\n",
    "    mean = values.mean()\n",
    "    \n",
    "    #вероятность убытков\n",
    "    loss_probability = sum(values < 0) / values.count() * 100\n",
    "    \n",
    "    print(all_regions[area], \"\\n\")\n",
    "    print(\"Средние показатели прибыли:\", mean, \"\\n\")\n",
    "    print(\"95%-доверительный интервал:\", \"от\", lower, \"до\", upper, \"\\n\")\n",
    "    print(\"Вероятность убытков:\", loss_probability, \"%\", \"\\n\\n\")"
   ]
  },
  {
   "cell_type": "markdown",
   "metadata": {},
   "source": [
    "Вывод: **Максимальная прибыль по Региону 2, минимальные убытки по Региону 2.**\n",
    "\n",
    "**Регион 1:**\n",
    "* Средние показатели прибыли: 396164984.8023711 \n",
    "* 95%-доверительный интервал: от 213920379.53535748 до 909766941.5534226 \n",
    "* Вероятность убытков: 6.9 %\n",
    "\n",
    "**Регион 2:** \n",
    "* Средние показатели прибыли: 461155817.2772397 \n",
    "* 95%-доверительный интервал: от 322186710.86017036 до 862952060.2637234 \n",
    "* Вероятность убытков: 0.7000000000000001 %\n",
    "\n",
    "**Регион 3:**\n",
    "* Средние показатели прибыли: 392950475.17060447 \n",
    "* 95%-доверительный интервал: от 204390313.24232578 до 934562914.5511636 \n",
    "* Вероятность убытков: 6.5 %"
   ]
  },
  {
   "cell_type": "markdown",
   "metadata": {},
   "source": [
    "## Общий вывод"
   ]
  },
  {
   "cell_type": "markdown",
   "metadata": {},
   "source": [
    "1) Были исследованы данные 3 регионов. В результате применения Линейной регрессии были получены следующие результаты:\n",
    "\n",
    "**Регион 1:**\n",
    "* RMSE по Региону 1 равно: 37.5794217150813\n",
    "* Средний запас предсказанного сырья по Региону 1 равен: 92.59256778438035\n",
    "\n",
    "**Регион 2:**\n",
    "* RMSE по Региону 2 равно: 0.893099286775617\n",
    "* Средний запас предсказанного сырья по Региону 2 равен: 68.728546895446\n",
    "\n",
    "**Регион 3:**\n",
    "* RMSE по Региону 3 равно: 40.02970873393434\n",
    "* Средний запас предсказанного сырья по Региону 3 равен: 94.96504596800489\n",
    "\n",
    "**Наменьшее RMSE по Региону 2, что говорит о наиболее верном предсказании модели.**\n",
    "\n",
    "2) Достаточный объём сырья для безубыточной разработки новой скважины равен:  111.11111111111111.\n",
    "\n",
    "*    Средний запас предсказанного сырья по Региону 1 равен: 92.59256778438035\n",
    "*    Средний запас предсказанного сырья по Региону 2 равен: 68.728546895446\n",
    "*    Средний запас предсказанного сырья по Региону 3 равен: 94.96504596800489\n",
    "\n",
    "**Во всех регионах средний объем сырья меньше необходимого для безубыточной разработки.**\n",
    "\n",
    "3) Была применена техника Bootstrap для расчета распределения прибыли по регионам, в результате которой были получены следующий результаты: \n",
    "\n",
    "**Регион 1:**\n",
    "* Средние показатели прибыли: 396164984.8023711 \n",
    "* 95%-доверительный интервал: от 213920379.53535748 до 909766941.5534226 \n",
    "* Вероятность убытков: 6.9 %\n",
    "\n",
    "**Регион 2:** \n",
    "* Средние показатели прибыли: 461155817.2772397 \n",
    "* 95%-доверительный интервал: от 322186710.86017036 до 862952060.2637234 \n",
    "* Вероятность убытков: 0.7000000000000001 %\n",
    "\n",
    "**Регион 3:**\n",
    "* Средние показатели прибыли: 392950475.17060447 \n",
    "* 95%-доверительный интервал: от 204390313.24232578 до 934562914.5511636 \n",
    "* Вероятность убытков: 6.5 %\n",
    "\n",
    "**Максимальная прибыль и минимальные убытки по Региону 2. Этот регион является приоритетным для разработки месторождения.**"
   ]
  }
 ],
 "metadata": {
  "ExecuteTimeLog": [
   {
    "duration": 1135,
    "start_time": "2023-03-09T12:27:57.237Z"
   },
   {
    "duration": 808,
    "start_time": "2023-03-09T12:27:59.617Z"
   },
   {
    "duration": 48,
    "start_time": "2023-03-09T12:29:04.665Z"
   },
   {
    "duration": 42,
    "start_time": "2023-03-09T12:29:50.907Z"
   },
   {
    "duration": 41,
    "start_time": "2023-03-09T12:30:24.540Z"
   },
   {
    "duration": 47,
    "start_time": "2023-03-09T12:30:45.749Z"
   },
   {
    "duration": 51,
    "start_time": "2023-03-09T12:31:26.812Z"
   },
   {
    "duration": 60,
    "start_time": "2023-03-09T12:35:30.044Z"
   },
   {
    "duration": 48,
    "start_time": "2023-03-09T12:35:31.549Z"
   },
   {
    "duration": 48,
    "start_time": "2023-03-09T12:35:32.711Z"
   },
   {
    "duration": 11,
    "start_time": "2023-03-09T12:36:38.566Z"
   },
   {
    "duration": 11,
    "start_time": "2023-03-09T12:36:47.292Z"
   },
   {
    "duration": 100,
    "start_time": "2023-03-09T12:36:55.512Z"
   },
   {
    "duration": 10,
    "start_time": "2023-03-09T12:36:59.066Z"
   },
   {
    "duration": 23,
    "start_time": "2023-03-09T13:08:37.386Z"
   },
   {
    "duration": 25,
    "start_time": "2023-03-09T13:08:49.212Z"
   },
   {
    "duration": 15,
    "start_time": "2023-03-09T13:15:30.032Z"
   },
   {
    "duration": 17,
    "start_time": "2023-03-09T13:15:41.397Z"
   },
   {
    "duration": 5,
    "start_time": "2023-03-09T13:17:58.636Z"
   },
   {
    "duration": 5,
    "start_time": "2023-03-09T13:20:57.632Z"
   },
   {
    "duration": 5,
    "start_time": "2023-03-09T13:21:13.839Z"
   },
   {
    "duration": 20,
    "start_time": "2023-03-09T13:23:26.376Z"
   },
   {
    "duration": 14,
    "start_time": "2023-03-09T13:23:56.208Z"
   },
   {
    "duration": 1158,
    "start_time": "2023-03-09T13:30:53.264Z"
   },
   {
    "duration": 461,
    "start_time": "2023-03-09T13:30:54.424Z"
   },
   {
    "duration": 150,
    "start_time": "2023-03-09T13:30:54.887Z"
   },
   {
    "duration": 0,
    "start_time": "2023-03-09T13:30:55.039Z"
   },
   {
    "duration": 0,
    "start_time": "2023-03-09T13:30:55.041Z"
   },
   {
    "duration": 0,
    "start_time": "2023-03-09T13:30:55.042Z"
   },
   {
    "duration": 0,
    "start_time": "2023-03-09T13:30:55.044Z"
   },
   {
    "duration": 0,
    "start_time": "2023-03-09T13:30:55.045Z"
   },
   {
    "duration": 0,
    "start_time": "2023-03-09T13:30:55.046Z"
   },
   {
    "duration": 0,
    "start_time": "2023-03-09T13:30:55.047Z"
   },
   {
    "duration": 0,
    "start_time": "2023-03-09T13:30:55.049Z"
   },
   {
    "duration": 0,
    "start_time": "2023-03-09T13:30:55.066Z"
   },
   {
    "duration": 0,
    "start_time": "2023-03-09T13:30:55.068Z"
   },
   {
    "duration": 3,
    "start_time": "2023-03-09T13:31:08.294Z"
   },
   {
    "duration": 423,
    "start_time": "2023-03-09T13:31:08.303Z"
   },
   {
    "duration": 10,
    "start_time": "2023-03-09T13:31:08.728Z"
   },
   {
    "duration": 0,
    "start_time": "2023-03-09T13:31:08.739Z"
   },
   {
    "duration": 0,
    "start_time": "2023-03-09T13:31:08.740Z"
   },
   {
    "duration": 0,
    "start_time": "2023-03-09T13:31:08.741Z"
   },
   {
    "duration": 0,
    "start_time": "2023-03-09T13:31:08.743Z"
   },
   {
    "duration": 0,
    "start_time": "2023-03-09T13:31:08.744Z"
   },
   {
    "duration": 0,
    "start_time": "2023-03-09T13:31:08.745Z"
   },
   {
    "duration": 0,
    "start_time": "2023-03-09T13:31:08.746Z"
   },
   {
    "duration": 0,
    "start_time": "2023-03-09T13:31:08.747Z"
   },
   {
    "duration": 0,
    "start_time": "2023-03-09T13:31:08.749Z"
   },
   {
    "duration": 0,
    "start_time": "2023-03-09T13:31:08.764Z"
   },
   {
    "duration": 14,
    "start_time": "2023-03-09T13:31:58.980Z"
   },
   {
    "duration": 52,
    "start_time": "2023-03-09T13:32:11.223Z"
   },
   {
    "duration": 4,
    "start_time": "2023-03-09T13:32:42.232Z"
   },
   {
    "duration": 460,
    "start_time": "2023-03-09T13:32:42.240Z"
   },
   {
    "duration": 50,
    "start_time": "2023-03-09T13:32:42.702Z"
   },
   {
    "duration": 62,
    "start_time": "2023-03-09T13:32:42.764Z"
   },
   {
    "duration": 70,
    "start_time": "2023-03-09T13:32:42.828Z"
   },
   {
    "duration": 48,
    "start_time": "2023-03-09T13:32:42.899Z"
   },
   {
    "duration": 30,
    "start_time": "2023-03-09T13:32:42.948Z"
   },
   {
    "duration": 0,
    "start_time": "2023-03-09T13:32:42.981Z"
   },
   {
    "duration": 0,
    "start_time": "2023-03-09T13:32:42.982Z"
   },
   {
    "duration": 0,
    "start_time": "2023-03-09T13:32:42.984Z"
   },
   {
    "duration": 0,
    "start_time": "2023-03-09T13:32:42.985Z"
   },
   {
    "duration": 0,
    "start_time": "2023-03-09T13:32:42.986Z"
   },
   {
    "duration": 0,
    "start_time": "2023-03-09T13:32:42.987Z"
   },
   {
    "duration": 4,
    "start_time": "2023-03-09T13:33:46.814Z"
   },
   {
    "duration": 452,
    "start_time": "2023-03-09T13:33:46.824Z"
   },
   {
    "duration": 46,
    "start_time": "2023-03-09T13:33:47.279Z"
   },
   {
    "duration": 70,
    "start_time": "2023-03-09T13:33:47.327Z"
   },
   {
    "duration": 46,
    "start_time": "2023-03-09T13:33:47.399Z"
   },
   {
    "duration": 70,
    "start_time": "2023-03-09T13:33:47.447Z"
   },
   {
    "duration": 17,
    "start_time": "2023-03-09T13:33:47.519Z"
   },
   {
    "duration": 31,
    "start_time": "2023-03-09T13:33:47.538Z"
   },
   {
    "duration": 14,
    "start_time": "2023-03-09T13:33:47.572Z"
   },
   {
    "duration": 182,
    "start_time": "2023-03-09T13:33:47.587Z"
   },
   {
    "duration": 39,
    "start_time": "2023-03-09T13:33:47.773Z"
   },
   {
    "duration": 13,
    "start_time": "2023-03-09T13:33:47.814Z"
   },
   {
    "duration": 36,
    "start_time": "2023-03-09T13:33:47.829Z"
   },
   {
    "duration": 5,
    "start_time": "2023-03-09T13:33:53.037Z"
   },
   {
    "duration": 7,
    "start_time": "2023-03-09T13:34:42.174Z"
   },
   {
    "duration": 30,
    "start_time": "2023-03-09T13:39:31.997Z"
   },
   {
    "duration": 26,
    "start_time": "2023-03-09T13:39:40.528Z"
   },
   {
    "duration": 18,
    "start_time": "2023-03-09T13:40:00.669Z"
   },
   {
    "duration": 6,
    "start_time": "2023-03-09T13:40:09.322Z"
   },
   {
    "duration": 5,
    "start_time": "2023-03-09T13:40:40.259Z"
   },
   {
    "duration": 1199,
    "start_time": "2023-03-09T13:41:40.656Z"
   },
   {
    "duration": 419,
    "start_time": "2023-03-09T13:41:41.857Z"
   },
   {
    "duration": 52,
    "start_time": "2023-03-09T13:41:42.278Z"
   },
   {
    "duration": 81,
    "start_time": "2023-03-09T13:41:42.332Z"
   },
   {
    "duration": 66,
    "start_time": "2023-03-09T13:41:42.415Z"
   },
   {
    "duration": 56,
    "start_time": "2023-03-09T13:41:42.483Z"
   },
   {
    "duration": 42,
    "start_time": "2023-03-09T13:41:42.541Z"
   },
   {
    "duration": 16,
    "start_time": "2023-03-09T13:41:42.585Z"
   },
   {
    "duration": 61,
    "start_time": "2023-03-09T13:41:42.603Z"
   },
   {
    "duration": 99,
    "start_time": "2023-03-09T13:41:42.668Z"
   },
   {
    "duration": 27,
    "start_time": "2023-03-09T13:41:42.769Z"
   },
   {
    "duration": 14,
    "start_time": "2023-03-09T13:41:42.798Z"
   },
   {
    "duration": 50,
    "start_time": "2023-03-09T13:41:42.815Z"
   },
   {
    "duration": 6,
    "start_time": "2023-03-09T13:41:42.868Z"
   },
   {
    "duration": 132,
    "start_time": "2023-03-09T13:41:42.876Z"
   },
   {
    "duration": 13,
    "start_time": "2023-03-09T13:41:43.010Z"
   },
   {
    "duration": 41,
    "start_time": "2023-03-09T13:41:43.025Z"
   },
   {
    "duration": 119,
    "start_time": "2023-03-09T13:41:43.068Z"
   },
   {
    "duration": 4,
    "start_time": "2023-03-09T14:03:26.883Z"
   },
   {
    "duration": 4,
    "start_time": "2023-03-09T14:04:51.688Z"
   },
   {
    "duration": 105,
    "start_time": "2023-03-09T14:05:05.880Z"
   },
   {
    "duration": 4,
    "start_time": "2023-03-09T14:05:17.852Z"
   },
   {
    "duration": 4,
    "start_time": "2023-03-09T14:09:43.926Z"
   },
   {
    "duration": 4,
    "start_time": "2023-03-09T14:09:47.386Z"
   },
   {
    "duration": 3,
    "start_time": "2023-03-09T14:09:49.640Z"
   },
   {
    "duration": 4,
    "start_time": "2023-03-09T14:19:30.695Z"
   },
   {
    "duration": 14,
    "start_time": "2023-03-09T14:20:16.156Z"
   },
   {
    "duration": 3,
    "start_time": "2023-03-09T14:27:02.232Z"
   },
   {
    "duration": 7,
    "start_time": "2023-03-09T14:27:48.285Z"
   },
   {
    "duration": 4,
    "start_time": "2023-03-09T14:27:51.612Z"
   },
   {
    "duration": 4,
    "start_time": "2023-03-09T14:28:00.379Z"
   },
   {
    "duration": 10,
    "start_time": "2023-03-09T14:28:02.803Z"
   },
   {
    "duration": 3,
    "start_time": "2023-03-09T14:38:56.440Z"
   },
   {
    "duration": 16,
    "start_time": "2023-03-09T14:38:59.282Z"
   },
   {
    "duration": 990,
    "start_time": "2023-03-10T05:42:10.318Z"
   },
   {
    "duration": 661,
    "start_time": "2023-03-10T05:42:11.310Z"
   },
   {
    "duration": 39,
    "start_time": "2023-03-10T05:42:11.972Z"
   },
   {
    "duration": 41,
    "start_time": "2023-03-10T05:42:12.013Z"
   },
   {
    "duration": 45,
    "start_time": "2023-03-10T05:42:12.055Z"
   },
   {
    "duration": 41,
    "start_time": "2023-03-10T05:42:12.102Z"
   },
   {
    "duration": 14,
    "start_time": "2023-03-10T05:42:12.144Z"
   },
   {
    "duration": 29,
    "start_time": "2023-03-10T05:42:12.159Z"
   },
   {
    "duration": 12,
    "start_time": "2023-03-10T05:42:12.189Z"
   },
   {
    "duration": 269,
    "start_time": "2023-03-10T05:42:12.204Z"
   },
   {
    "duration": 0,
    "start_time": "2023-03-10T05:42:12.474Z"
   },
   {
    "duration": 0,
    "start_time": "2023-03-10T05:42:12.479Z"
   },
   {
    "duration": 0,
    "start_time": "2023-03-10T05:42:12.480Z"
   },
   {
    "duration": 0,
    "start_time": "2023-03-10T05:42:12.480Z"
   },
   {
    "duration": 0,
    "start_time": "2023-03-10T05:42:12.481Z"
   },
   {
    "duration": 0,
    "start_time": "2023-03-10T05:42:12.482Z"
   },
   {
    "duration": 0,
    "start_time": "2023-03-10T05:42:12.483Z"
   },
   {
    "duration": 0,
    "start_time": "2023-03-10T05:42:12.484Z"
   },
   {
    "duration": 0,
    "start_time": "2023-03-10T05:42:12.485Z"
   },
   {
    "duration": 0,
    "start_time": "2023-03-10T05:42:12.486Z"
   },
   {
    "duration": 0,
    "start_time": "2023-03-10T05:42:12.487Z"
   },
   {
    "duration": 0,
    "start_time": "2023-03-10T05:42:12.487Z"
   },
   {
    "duration": 0,
    "start_time": "2023-03-10T05:42:12.488Z"
   },
   {
    "duration": 4,
    "start_time": "2023-03-10T05:42:24.084Z"
   },
   {
    "duration": 361,
    "start_time": "2023-03-10T05:42:24.090Z"
   },
   {
    "duration": 47,
    "start_time": "2023-03-10T05:42:24.453Z"
   },
   {
    "duration": 41,
    "start_time": "2023-03-10T05:42:24.501Z"
   },
   {
    "duration": 56,
    "start_time": "2023-03-10T05:42:24.545Z"
   },
   {
    "duration": 41,
    "start_time": "2023-03-10T05:42:24.602Z"
   },
   {
    "duration": 35,
    "start_time": "2023-03-10T05:42:24.645Z"
   },
   {
    "duration": 11,
    "start_time": "2023-03-10T05:42:24.681Z"
   },
   {
    "duration": 13,
    "start_time": "2023-03-10T05:42:24.694Z"
   },
   {
    "duration": 177,
    "start_time": "2023-03-10T05:42:24.709Z"
   },
   {
    "duration": 0,
    "start_time": "2023-03-10T05:42:24.888Z"
   },
   {
    "duration": 0,
    "start_time": "2023-03-10T05:42:24.889Z"
   },
   {
    "duration": 0,
    "start_time": "2023-03-10T05:42:24.890Z"
   },
   {
    "duration": 0,
    "start_time": "2023-03-10T05:42:24.891Z"
   },
   {
    "duration": 0,
    "start_time": "2023-03-10T05:42:24.892Z"
   },
   {
    "duration": 0,
    "start_time": "2023-03-10T05:42:24.893Z"
   },
   {
    "duration": 0,
    "start_time": "2023-03-10T05:42:24.894Z"
   },
   {
    "duration": 0,
    "start_time": "2023-03-10T05:42:24.895Z"
   },
   {
    "duration": 0,
    "start_time": "2023-03-10T05:42:24.896Z"
   },
   {
    "duration": 0,
    "start_time": "2023-03-10T05:42:24.897Z"
   },
   {
    "duration": 0,
    "start_time": "2023-03-10T05:42:24.898Z"
   },
   {
    "duration": 0,
    "start_time": "2023-03-10T05:42:24.899Z"
   },
   {
    "duration": 0,
    "start_time": "2023-03-10T05:42:24.900Z"
   },
   {
    "duration": 16,
    "start_time": "2023-03-10T05:42:56.786Z"
   },
   {
    "duration": 3,
    "start_time": "2023-03-10T05:43:06.645Z"
   },
   {
    "duration": 316,
    "start_time": "2023-03-10T05:43:06.652Z"
   },
   {
    "duration": 37,
    "start_time": "2023-03-10T05:43:06.969Z"
   },
   {
    "duration": 36,
    "start_time": "2023-03-10T05:43:07.008Z"
   },
   {
    "duration": 47,
    "start_time": "2023-03-10T05:43:07.046Z"
   },
   {
    "duration": 35,
    "start_time": "2023-03-10T05:43:07.095Z"
   },
   {
    "duration": 16,
    "start_time": "2023-03-10T05:43:07.131Z"
   },
   {
    "duration": 9,
    "start_time": "2023-03-10T05:43:07.149Z"
   },
   {
    "duration": 21,
    "start_time": "2023-03-10T05:43:07.159Z"
   },
   {
    "duration": 110,
    "start_time": "2023-03-10T05:43:07.182Z"
   },
   {
    "duration": 98,
    "start_time": "2023-03-10T05:43:07.295Z"
   },
   {
    "duration": 10,
    "start_time": "2023-03-10T05:43:07.394Z"
   },
   {
    "duration": 5,
    "start_time": "2023-03-10T05:43:07.405Z"
   },
   {
    "duration": 77,
    "start_time": "2023-03-10T05:43:07.412Z"
   },
   {
    "duration": 0,
    "start_time": "2023-03-10T05:43:07.580Z"
   },
   {
    "duration": 0,
    "start_time": "2023-03-10T05:43:07.581Z"
   },
   {
    "duration": 0,
    "start_time": "2023-03-10T05:43:07.583Z"
   },
   {
    "duration": 0,
    "start_time": "2023-03-10T05:43:07.584Z"
   },
   {
    "duration": 0,
    "start_time": "2023-03-10T05:43:07.585Z"
   },
   {
    "duration": 0,
    "start_time": "2023-03-10T05:43:07.586Z"
   },
   {
    "duration": 0,
    "start_time": "2023-03-10T05:43:07.588Z"
   },
   {
    "duration": 0,
    "start_time": "2023-03-10T05:43:07.589Z"
   },
   {
    "duration": 0,
    "start_time": "2023-03-10T05:43:07.590Z"
   },
   {
    "duration": 0,
    "start_time": "2023-03-10T05:43:07.591Z"
   },
   {
    "duration": 0,
    "start_time": "2023-03-10T05:43:07.593Z"
   },
   {
    "duration": 4,
    "start_time": "2023-03-10T05:43:36.157Z"
   },
   {
    "duration": 14,
    "start_time": "2023-03-10T05:43:42.962Z"
   },
   {
    "duration": 10,
    "start_time": "2023-03-10T05:43:44.977Z"
   },
   {
    "duration": 6,
    "start_time": "2023-03-10T05:43:47.684Z"
   },
   {
    "duration": 4,
    "start_time": "2023-03-10T05:43:50.444Z"
   },
   {
    "duration": 2,
    "start_time": "2023-03-10T05:43:56.405Z"
   },
   {
    "duration": 5,
    "start_time": "2023-03-10T05:43:58.890Z"
   },
   {
    "duration": 3,
    "start_time": "2023-03-10T05:44:01.010Z"
   },
   {
    "duration": 3,
    "start_time": "2023-03-10T05:44:07.740Z"
   },
   {
    "duration": 8,
    "start_time": "2023-03-10T05:44:10.014Z"
   },
   {
    "duration": 2,
    "start_time": "2023-03-10T05:45:40.036Z"
   },
   {
    "duration": 8,
    "start_time": "2023-03-10T05:45:47.164Z"
   },
   {
    "duration": 11,
    "start_time": "2023-03-10T06:11:20.248Z"
   },
   {
    "duration": 11,
    "start_time": "2023-03-10T06:11:41.845Z"
   },
   {
    "duration": 11,
    "start_time": "2023-03-10T06:11:52.501Z"
   },
   {
    "duration": 17,
    "start_time": "2023-03-10T06:12:08.955Z"
   },
   {
    "duration": 2750,
    "start_time": "2023-03-10T06:13:10.154Z"
   },
   {
    "duration": 2473,
    "start_time": "2023-03-10T06:13:38.468Z"
   },
   {
    "duration": 9,
    "start_time": "2023-03-10T06:19:12.332Z"
   },
   {
    "duration": 8,
    "start_time": "2023-03-10T06:20:20.174Z"
   },
   {
    "duration": 19,
    "start_time": "2023-03-10T06:38:29.947Z"
   }
  ],
  "celltoolbar": "Необработанный формат ячейки",
  "kernelspec": {
   "display_name": "Python 3 (ipykernel)",
   "language": "python",
   "name": "python3"
  },
  "language_info": {
   "codemirror_mode": {
    "name": "ipython",
    "version": 3
   },
   "file_extension": ".py",
   "mimetype": "text/x-python",
   "name": "python",
   "nbconvert_exporter": "python",
   "pygments_lexer": "ipython3",
   "version": "3.9.13"
  },
  "toc": {
   "base_numbering": 1,
   "nav_menu": {},
   "number_sections": true,
   "sideBar": true,
   "skip_h1_title": true,
   "title_cell": "Table of Contents",
   "title_sidebar": "Contents",
   "toc_cell": false,
   "toc_position": {
    "height": "calc(100% - 180px)",
    "left": "10px",
    "top": "150px",
    "width": "255.4px"
   },
   "toc_section_display": true,
   "toc_window_display": true
  }
 },
 "nbformat": 4,
 "nbformat_minor": 2
}
