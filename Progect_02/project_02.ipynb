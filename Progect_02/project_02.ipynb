{
 "cells": [
  {
   "cell_type": "markdown",
   "metadata": {
    "toc": true
   },
   "source": [
    "<h1>Содержание<span class=\"tocSkip\"></span></h1>\n",
    "<div class=\"toc\"><ul class=\"toc-item\"><li><span><a href=\"#Подготовка-данных\" data-toc-modified-id=\"Подготовка-данных-1\"><span class=\"toc-item-num\">1&nbsp;&nbsp;</span>Подготовка данных</a></span><ul class=\"toc-item\"><li><span><a href=\"#Открытие-и-изучение-данных\" data-toc-modified-id=\"Открытие-и-изучение-данных-1.1\"><span class=\"toc-item-num\">1.1&nbsp;&nbsp;</span>Открытие и изучение данных</a></span></li><li><span><a href=\"#Проверка-верности-расчета-обогащения,-расчет-ее-на-обучающей-выборке-для-признака-rougher.output.recovery,-вычисление-MAE-между-расчетами-и-значением-признака,-выводы.\" data-toc-modified-id=\"Проверка-верности-расчета-обогащения,-расчет-ее-на-обучающей-выборке-для-признака-rougher.output.recovery,-вычисление-MAE-между-расчетами-и-значением-признака,-выводы.-1.2\"><span class=\"toc-item-num\">1.2&nbsp;&nbsp;</span>Проверка верности расчета обогащения, расчет ее на обучающей выборке для признака rougher.output.recovery, вычисление MAE между расчетами и значением признака, выводы.</a></span></li><li><span><a href=\"#Анализ-недоступных-признаков-в-тестовой-выборке.\" data-toc-modified-id=\"Анализ-недоступных-признаков-в-тестовой-выборке.-1.3\"><span class=\"toc-item-num\">1.3&nbsp;&nbsp;</span>Анализ недоступных признаков в тестовой выборке.</a></span></li><li><span><a href=\"#Предобработка-данных\" data-toc-modified-id=\"Предобработка-данных-1.4\"><span class=\"toc-item-num\">1.4&nbsp;&nbsp;</span>Предобработка данных</a></span></li></ul></li><li><span><a href=\"#Анализ-данных\" data-toc-modified-id=\"Анализ-данных-2\"><span class=\"toc-item-num\">2&nbsp;&nbsp;</span>Анализ данных</a></span><ul class=\"toc-item\"><li><span><a href=\"#Изменение-концентрации-металлов-(Au,-Ag,-Pb)-на-различных-этапах-очистки.\" data-toc-modified-id=\"Изменение-концентрации-металлов-(Au,-Ag,-Pb)-на-различных-этапах-очистки.-2.1\"><span class=\"toc-item-num\">2.1&nbsp;&nbsp;</span>Изменение концентрации металлов (Au, Ag, Pb) на различных этапах очистки.</a></span><ul class=\"toc-item\"><li><span><a href=\"#Сырье\" data-toc-modified-id=\"Сырье-2.1.1\"><span class=\"toc-item-num\">2.1.1&nbsp;&nbsp;</span>Сырье</a></span></li><li><span><a href=\"#Черновой-концентрат\" data-toc-modified-id=\"Черновой-концентрат-2.1.2\"><span class=\"toc-item-num\">2.1.2&nbsp;&nbsp;</span>Черновой концентрат</a></span></li><li><span><a href=\"#Первичная-очистка\" data-toc-modified-id=\"Первичная-очистка-2.1.3\"><span class=\"toc-item-num\">2.1.3&nbsp;&nbsp;</span>Первичная очистка</a></span></li><li><span><a href=\"#Финальная-концентрация\" data-toc-modified-id=\"Финальная-концентрация-2.1.4\"><span class=\"toc-item-num\">2.1.4&nbsp;&nbsp;</span>Финальная концентрация</a></span></li><li><span><a href=\"#Общий-вывод-по-этапу\" data-toc-modified-id=\"Общий-вывод-по-этапу-2.1.5\"><span class=\"toc-item-num\">2.1.5&nbsp;&nbsp;</span>Общий вывод по этапу</a></span></li></ul></li><li><span><a href=\"#Сравнение-распределения-размеров-гранул-сырья-на-обучающей-и-тестовой-выборках.\" data-toc-modified-id=\"Сравнение-распределения-размеров-гранул-сырья-на-обучающей-и-тестовой-выборках.-2.2\"><span class=\"toc-item-num\">2.2&nbsp;&nbsp;</span>Сравнение распределения размеров гранул сырья на обучающей и тестовой выборках.</a></span><ul class=\"toc-item\"><li><span><a href=\"#Сырье\" data-toc-modified-id=\"Сырье-2.2.1\"><span class=\"toc-item-num\">2.2.1&nbsp;&nbsp;</span>Сырье</a></span></li><li><span><a href=\"#Первичная-очистка\" data-toc-modified-id=\"Первичная-очистка-2.2.2\"><span class=\"toc-item-num\">2.2.2&nbsp;&nbsp;</span>Первичная очистка</a></span></li><li><span><a href=\"#Общий-вывод-по-этапу\" data-toc-modified-id=\"Общий-вывод-по-этапу-2.2.3\"><span class=\"toc-item-num\">2.2.3&nbsp;&nbsp;</span>Общий вывод по этапу</a></span></li></ul></li><li><span><a href=\"#Исследование-суммарной-концентрации-всех-веществ:-в-сырье,-в-черновом-и-финальном-концентратах.\" data-toc-modified-id=\"Исследование-суммарной-концентрации-всех-веществ:-в-сырье,-в-черновом-и-финальном-концентратах.-2.3\"><span class=\"toc-item-num\">2.3&nbsp;&nbsp;</span>Исследование суммарной концентрации всех веществ: в сырье, в черновом и финальном концентратах.</a></span></li><li><span><a href=\"#Общий-Вывод\" data-toc-modified-id=\"Общий-Вывод-2.4\"><span class=\"toc-item-num\">2.4&nbsp;&nbsp;</span>Общий Вывод</a></span></li></ul></li><li><span><a href=\"#Модель\" data-toc-modified-id=\"Модель-3\"><span class=\"toc-item-num\">3&nbsp;&nbsp;</span>Модель</a></span><ul class=\"toc-item\"><li><span><a href=\"#Функция-для-вычисления-итоговой-sMAPE\" data-toc-modified-id=\"Функция-для-вычисления-итоговой-sMAPE-3.1\"><span class=\"toc-item-num\">3.1&nbsp;&nbsp;</span>Функция для вычисления итоговой sMAPE</a></span></li><li><span><a href=\"#Обучение-разных-моделей-и-оценка-их-качества-кросс-валидацией,-выбор-лучшей-из-них-и-проверка-ее-на-тестовой-выборке.\" data-toc-modified-id=\"Обучение-разных-моделей-и-оценка-их-качества-кросс-валидацией,-выбор-лучшей-из-них-и-проверка-ее-на-тестовой-выборке.-3.2\"><span class=\"toc-item-num\">3.2&nbsp;&nbsp;</span>Обучение разных моделей и оценка их качества кросс-валидацией, выбор лучшей из них и проверка ее на тестовой выборке.</a></span><ul class=\"toc-item\"><li><span><a href=\"#Подготовка-к-обучению\" data-toc-modified-id=\"Подготовка-к-обучению-3.2.1\"><span class=\"toc-item-num\">3.2.1&nbsp;&nbsp;</span>Подготовка к обучению</a></span></li><li><span><a href=\"#Модель-Решающего-дерева\" data-toc-modified-id=\"Модель-Решающего-дерева-3.2.2\"><span class=\"toc-item-num\">3.2.2&nbsp;&nbsp;</span>Модель Решающего дерева</a></span></li><li><span><a href=\"#Модель-Случайного-леса\" data-toc-modified-id=\"Модель-Случайного-леса-3.2.3\"><span class=\"toc-item-num\">3.2.3&nbsp;&nbsp;</span>Модель Случайного леса</a></span></li><li><span><a href=\"#Модель-Линейной-регресии\" data-toc-modified-id=\"Модель-Линейной-регресии-3.2.4\"><span class=\"toc-item-num\">3.2.4&nbsp;&nbsp;</span>Модель Линейной регресии</a></span></li><li><span><a href=\"#Общий-вывод-по-обучению\" data-toc-modified-id=\"Общий-вывод-по-обучению-3.2.5\"><span class=\"toc-item-num\">3.2.5&nbsp;&nbsp;</span>Общий вывод по обучению</a></span></li></ul></li><li><span><a href=\"#Проверка-модели-на-тестовой-выборке\" data-toc-modified-id=\"Проверка-модели-на-тестовой-выборке-3.3\"><span class=\"toc-item-num\">3.3&nbsp;&nbsp;</span>Проверка модели на тестовой выборке</a></span></li><li><span><a href=\"#Проверка-модели-на-адекватность\" data-toc-modified-id=\"Проверка-модели-на-адекватность-3.4\"><span class=\"toc-item-num\">3.4&nbsp;&nbsp;</span>Проверка модели на адекватность</a></span></li></ul></li><li><span><a href=\"#Общий-вывод\" data-toc-modified-id=\"Общий-вывод-4\"><span class=\"toc-item-num\">4&nbsp;&nbsp;</span>Общий вывод</a></span></li></ul></div>"
   ]
  },
  {
   "cell_type": "markdown",
   "metadata": {},
   "source": [
    "# Восстановление золота из руды"
   ]
  },
  {
   "cell_type": "markdown",
   "metadata": {},
   "source": [
    "Подготовьте прототип модели машинного обучения для «Цифры». Компания разрабатывает решения для эффективной работы промышленных предприятий.\n",
    "\n",
    "Модель должна предсказать коэффициент восстановления золота из золотосодержащей руды. Используйте данные с параметрами добычи и очистки. \n",
    "\n",
    "Модель поможет оптимизировать производство, чтобы не запускать предприятие с убыточными характеристиками.\n",
    "\n",
    "Вам нужно:\n",
    "\n",
    "1. Подготовить данные;\n",
    "2. Провести исследовательский анализ данных;\n",
    "3. Построить и обучить модель.\n",
    "\n",
    "Чтобы выполнить проект, обращайтесь к библиотекам *pandas*, *matplotlib* и *sklearn.* Вам поможет их документация."
   ]
  },
  {
   "cell_type": "markdown",
   "metadata": {},
   "source": [
    "## Подготовка данных"
   ]
  },
  {
   "cell_type": "markdown",
   "metadata": {},
   "source": [
    "\n"
   ]
  },
  {
   "cell_type": "markdown",
   "metadata": {},
   "source": [
    "### Открытие и изучение данных"
   ]
  },
  {
   "cell_type": "code",
   "execution_count": 1,
   "metadata": {},
   "outputs": [],
   "source": [
    "#подключение необходимых библиотек\n",
    "import pandas as pd\n",
    "import numpy as np\n",
    "import seaborn as sns\n",
    "import matplotlib.pyplot as plt\n",
    "from sklearn.model_selection import train_test_split, cross_val_score\n",
    "from sklearn.tree import DecisionTreeRegressor\n",
    "from sklearn.ensemble import RandomForestRegressor\n",
    "from sklearn.linear_model import LinearRegression\n",
    "from numpy.random import RandomState\n",
    "from sklearn.metrics import make_scorer, mean_absolute_error\n",
    "from sklearn.dummy import DummyRegressor\n",
    "from sklearn.preprocessing import StandardScaler\n",
    "\n",
    "import warnings\n",
    "warnings.filterwarnings('ignore')"
   ]
  },
  {
   "cell_type": "code",
   "execution_count": 2,
   "metadata": {},
   "outputs": [],
   "source": [
    "#подключение данных\n",
    "data_train = pd.read_csv('/datasets/gold_recovery_train_new.csv')\n",
    "data_test = pd.read_csv('/datasets/gold_recovery_test_new.csv')\n",
    "data_full = pd.read_csv('/datasets/gold_recovery_full_new.csv')"
   ]
  },
  {
   "cell_type": "code",
   "execution_count": 3,
   "metadata": {},
   "outputs": [
    {
     "name": "stdout",
     "output_type": "stream",
     "text": [
      "<class 'pandas.core.frame.DataFrame'>\n",
      "RangeIndex: 14149 entries, 0 to 14148\n",
      "Data columns (total 87 columns):\n",
      " #   Column                                              Non-Null Count  Dtype  \n",
      "---  ------                                              --------------  -----  \n",
      " 0   date                                                14149 non-null  object \n",
      " 1   final.output.concentrate_ag                         14148 non-null  float64\n",
      " 2   final.output.concentrate_pb                         14148 non-null  float64\n",
      " 3   final.output.concentrate_sol                        13938 non-null  float64\n",
      " 4   final.output.concentrate_au                         14149 non-null  float64\n",
      " 5   final.output.recovery                               14149 non-null  float64\n",
      " 6   final.output.tail_ag                                14149 non-null  float64\n",
      " 7   final.output.tail_pb                                14049 non-null  float64\n",
      " 8   final.output.tail_sol                               14144 non-null  float64\n",
      " 9   final.output.tail_au                                14149 non-null  float64\n",
      " 10  primary_cleaner.input.sulfate                       14129 non-null  float64\n",
      " 11  primary_cleaner.input.depressant                    14117 non-null  float64\n",
      " 12  primary_cleaner.input.feed_size                     14149 non-null  float64\n",
      " 13  primary_cleaner.input.xanthate                      14049 non-null  float64\n",
      " 14  primary_cleaner.output.concentrate_ag               14149 non-null  float64\n",
      " 15  primary_cleaner.output.concentrate_pb               14063 non-null  float64\n",
      " 16  primary_cleaner.output.concentrate_sol              13863 non-null  float64\n",
      " 17  primary_cleaner.output.concentrate_au               14149 non-null  float64\n",
      " 18  primary_cleaner.output.tail_ag                      14148 non-null  float64\n",
      " 19  primary_cleaner.output.tail_pb                      14134 non-null  float64\n",
      " 20  primary_cleaner.output.tail_sol                     14103 non-null  float64\n",
      " 21  primary_cleaner.output.tail_au                      14149 non-null  float64\n",
      " 22  primary_cleaner.state.floatbank8_a_air              14145 non-null  float64\n",
      " 23  primary_cleaner.state.floatbank8_a_level            14148 non-null  float64\n",
      " 24  primary_cleaner.state.floatbank8_b_air              14145 non-null  float64\n",
      " 25  primary_cleaner.state.floatbank8_b_level            14148 non-null  float64\n",
      " 26  primary_cleaner.state.floatbank8_c_air              14147 non-null  float64\n",
      " 27  primary_cleaner.state.floatbank8_c_level            14148 non-null  float64\n",
      " 28  primary_cleaner.state.floatbank8_d_air              14146 non-null  float64\n",
      " 29  primary_cleaner.state.floatbank8_d_level            14148 non-null  float64\n",
      " 30  rougher.calculation.sulfate_to_au_concentrate       14148 non-null  float64\n",
      " 31  rougher.calculation.floatbank10_sulfate_to_au_feed  14148 non-null  float64\n",
      " 32  rougher.calculation.floatbank11_sulfate_to_au_feed  14148 non-null  float64\n",
      " 33  rougher.calculation.au_pb_ratio                     14149 non-null  float64\n",
      " 34  rougher.input.feed_ag                               14149 non-null  float64\n",
      " 35  rougher.input.feed_pb                               14049 non-null  float64\n",
      " 36  rougher.input.feed_rate                             14141 non-null  float64\n",
      " 37  rougher.input.feed_size                             14005 non-null  float64\n",
      " 38  rougher.input.feed_sol                              14071 non-null  float64\n",
      " 39  rougher.input.feed_au                               14149 non-null  float64\n",
      " 40  rougher.input.floatbank10_sulfate                   14120 non-null  float64\n",
      " 41  rougher.input.floatbank10_xanthate                  14141 non-null  float64\n",
      " 42  rougher.input.floatbank11_sulfate                   14113 non-null  float64\n",
      " 43  rougher.input.floatbank11_xanthate                  13721 non-null  float64\n",
      " 44  rougher.output.concentrate_ag                       14149 non-null  float64\n",
      " 45  rougher.output.concentrate_pb                       14149 non-null  float64\n",
      " 46  rougher.output.concentrate_sol                      14127 non-null  float64\n",
      " 47  rougher.output.concentrate_au                       14149 non-null  float64\n",
      " 48  rougher.output.recovery                             14149 non-null  float64\n",
      " 49  rougher.output.tail_ag                              14148 non-null  float64\n",
      " 50  rougher.output.tail_pb                              14149 non-null  float64\n",
      " 51  rougher.output.tail_sol                             14149 non-null  float64\n",
      " 52  rougher.output.tail_au                              14149 non-null  float64\n",
      " 53  rougher.state.floatbank10_a_air                     14148 non-null  float64\n",
      " 54  rougher.state.floatbank10_a_level                   14148 non-null  float64\n",
      " 55  rougher.state.floatbank10_b_air                     14148 non-null  float64\n",
      " 56  rougher.state.floatbank10_b_level                   14148 non-null  float64\n",
      " 57  rougher.state.floatbank10_c_air                     14148 non-null  float64\n",
      " 58  rougher.state.floatbank10_c_level                   14148 non-null  float64\n",
      " 59  rougher.state.floatbank10_d_air                     14149 non-null  float64\n",
      " 60  rougher.state.floatbank10_d_level                   14149 non-null  float64\n",
      " 61  rougher.state.floatbank10_e_air                     13713 non-null  float64\n",
      " 62  rougher.state.floatbank10_e_level                   14149 non-null  float64\n",
      " 63  rougher.state.floatbank10_f_air                     14149 non-null  float64\n",
      " 64  rougher.state.floatbank10_f_level                   14149 non-null  float64\n",
      " 65  secondary_cleaner.output.tail_ag                    14147 non-null  float64\n",
      " 66  secondary_cleaner.output.tail_pb                    14139 non-null  float64\n",
      " 67  secondary_cleaner.output.tail_sol                   12544 non-null  float64\n",
      " 68  secondary_cleaner.output.tail_au                    14149 non-null  float64\n",
      " 69  secondary_cleaner.state.floatbank2_a_air            13932 non-null  float64\n",
      " 70  secondary_cleaner.state.floatbank2_a_level          14148 non-null  float64\n",
      " 71  secondary_cleaner.state.floatbank2_b_air            14128 non-null  float64\n",
      " 72  secondary_cleaner.state.floatbank2_b_level          14148 non-null  float64\n",
      " 73  secondary_cleaner.state.floatbank3_a_air            14145 non-null  float64\n",
      " 74  secondary_cleaner.state.floatbank3_a_level          14148 non-null  float64\n",
      " 75  secondary_cleaner.state.floatbank3_b_air            14148 non-null  float64\n",
      " 76  secondary_cleaner.state.floatbank3_b_level          14148 non-null  float64\n",
      " 77  secondary_cleaner.state.floatbank4_a_air            14143 non-null  float64\n",
      " 78  secondary_cleaner.state.floatbank4_a_level          14148 non-null  float64\n",
      " 79  secondary_cleaner.state.floatbank4_b_air            14148 non-null  float64\n",
      " 80  secondary_cleaner.state.floatbank4_b_level          14148 non-null  float64\n",
      " 81  secondary_cleaner.state.floatbank5_a_air            14148 non-null  float64\n",
      " 82  secondary_cleaner.state.floatbank5_a_level          14148 non-null  float64\n",
      " 83  secondary_cleaner.state.floatbank5_b_air            14148 non-null  float64\n",
      " 84  secondary_cleaner.state.floatbank5_b_level          14148 non-null  float64\n",
      " 85  secondary_cleaner.state.floatbank6_a_air            14147 non-null  float64\n",
      " 86  secondary_cleaner.state.floatbank6_a_level          14148 non-null  float64\n",
      "dtypes: float64(86), object(1)\n",
      "memory usage: 9.4+ MB\n",
      "\n",
      "\n"
     ]
    },
    {
     "data": {
      "text/html": [
       "<div>\n",
       "<style scoped>\n",
       "    .dataframe tbody tr th:only-of-type {\n",
       "        vertical-align: middle;\n",
       "    }\n",
       "\n",
       "    .dataframe tbody tr th {\n",
       "        vertical-align: top;\n",
       "    }\n",
       "\n",
       "    .dataframe thead th {\n",
       "        text-align: right;\n",
       "    }\n",
       "</style>\n",
       "<table border=\"1\" class=\"dataframe\">\n",
       "  <thead>\n",
       "    <tr style=\"text-align: right;\">\n",
       "      <th></th>\n",
       "      <th>date</th>\n",
       "      <th>final.output.concentrate_ag</th>\n",
       "      <th>final.output.concentrate_pb</th>\n",
       "      <th>final.output.concentrate_sol</th>\n",
       "      <th>final.output.concentrate_au</th>\n",
       "      <th>final.output.recovery</th>\n",
       "      <th>final.output.tail_ag</th>\n",
       "      <th>final.output.tail_pb</th>\n",
       "      <th>final.output.tail_sol</th>\n",
       "      <th>final.output.tail_au</th>\n",
       "      <th>...</th>\n",
       "      <th>secondary_cleaner.state.floatbank4_a_air</th>\n",
       "      <th>secondary_cleaner.state.floatbank4_a_level</th>\n",
       "      <th>secondary_cleaner.state.floatbank4_b_air</th>\n",
       "      <th>secondary_cleaner.state.floatbank4_b_level</th>\n",
       "      <th>secondary_cleaner.state.floatbank5_a_air</th>\n",
       "      <th>secondary_cleaner.state.floatbank5_a_level</th>\n",
       "      <th>secondary_cleaner.state.floatbank5_b_air</th>\n",
       "      <th>secondary_cleaner.state.floatbank5_b_level</th>\n",
       "      <th>secondary_cleaner.state.floatbank6_a_air</th>\n",
       "      <th>secondary_cleaner.state.floatbank6_a_level</th>\n",
       "    </tr>\n",
       "  </thead>\n",
       "  <tbody>\n",
       "    <tr>\n",
       "      <th>0</th>\n",
       "      <td>2016-01-15 00:00:00</td>\n",
       "      <td>6.055403</td>\n",
       "      <td>9.889648</td>\n",
       "      <td>5.507324</td>\n",
       "      <td>42.192020</td>\n",
       "      <td>70.541216</td>\n",
       "      <td>10.411962</td>\n",
       "      <td>0.895447</td>\n",
       "      <td>16.904297</td>\n",
       "      <td>2.143149</td>\n",
       "      <td>...</td>\n",
       "      <td>14.016835</td>\n",
       "      <td>-502.488007</td>\n",
       "      <td>12.099931</td>\n",
       "      <td>-504.715942</td>\n",
       "      <td>9.925633</td>\n",
       "      <td>-498.310211</td>\n",
       "      <td>8.079666</td>\n",
       "      <td>-500.470978</td>\n",
       "      <td>14.151341</td>\n",
       "      <td>-605.841980</td>\n",
       "    </tr>\n",
       "    <tr>\n",
       "      <th>1</th>\n",
       "      <td>2016-01-15 01:00:00</td>\n",
       "      <td>6.029369</td>\n",
       "      <td>9.968944</td>\n",
       "      <td>5.257781</td>\n",
       "      <td>42.701629</td>\n",
       "      <td>69.266198</td>\n",
       "      <td>10.462676</td>\n",
       "      <td>0.927452</td>\n",
       "      <td>16.634514</td>\n",
       "      <td>2.224930</td>\n",
       "      <td>...</td>\n",
       "      <td>13.992281</td>\n",
       "      <td>-505.503262</td>\n",
       "      <td>11.950531</td>\n",
       "      <td>-501.331529</td>\n",
       "      <td>10.039245</td>\n",
       "      <td>-500.169983</td>\n",
       "      <td>7.984757</td>\n",
       "      <td>-500.582168</td>\n",
       "      <td>13.998353</td>\n",
       "      <td>-599.787184</td>\n",
       "    </tr>\n",
       "    <tr>\n",
       "      <th>2</th>\n",
       "      <td>2016-01-15 02:00:00</td>\n",
       "      <td>6.055926</td>\n",
       "      <td>10.213995</td>\n",
       "      <td>5.383759</td>\n",
       "      <td>42.657501</td>\n",
       "      <td>68.116445</td>\n",
       "      <td>10.507046</td>\n",
       "      <td>0.953716</td>\n",
       "      <td>16.208849</td>\n",
       "      <td>2.257889</td>\n",
       "      <td>...</td>\n",
       "      <td>14.015015</td>\n",
       "      <td>-502.520901</td>\n",
       "      <td>11.912783</td>\n",
       "      <td>-501.133383</td>\n",
       "      <td>10.070913</td>\n",
       "      <td>-500.129135</td>\n",
       "      <td>8.013877</td>\n",
       "      <td>-500.517572</td>\n",
       "      <td>14.028663</td>\n",
       "      <td>-601.427363</td>\n",
       "    </tr>\n",
       "    <tr>\n",
       "      <th>3</th>\n",
       "      <td>2016-01-15 03:00:00</td>\n",
       "      <td>6.047977</td>\n",
       "      <td>9.977019</td>\n",
       "      <td>4.858634</td>\n",
       "      <td>42.689819</td>\n",
       "      <td>68.347543</td>\n",
       "      <td>10.422762</td>\n",
       "      <td>0.883763</td>\n",
       "      <td>16.532835</td>\n",
       "      <td>2.146849</td>\n",
       "      <td>...</td>\n",
       "      <td>14.036510</td>\n",
       "      <td>-500.857308</td>\n",
       "      <td>11.999550</td>\n",
       "      <td>-501.193686</td>\n",
       "      <td>9.970366</td>\n",
       "      <td>-499.201640</td>\n",
       "      <td>7.977324</td>\n",
       "      <td>-500.255908</td>\n",
       "      <td>14.005551</td>\n",
       "      <td>-599.996129</td>\n",
       "    </tr>\n",
       "    <tr>\n",
       "      <th>4</th>\n",
       "      <td>2016-01-15 04:00:00</td>\n",
       "      <td>6.148599</td>\n",
       "      <td>10.142511</td>\n",
       "      <td>4.939416</td>\n",
       "      <td>42.774141</td>\n",
       "      <td>66.927016</td>\n",
       "      <td>10.360302</td>\n",
       "      <td>0.792826</td>\n",
       "      <td>16.525686</td>\n",
       "      <td>2.055292</td>\n",
       "      <td>...</td>\n",
       "      <td>14.027298</td>\n",
       "      <td>-499.838632</td>\n",
       "      <td>11.953070</td>\n",
       "      <td>-501.053894</td>\n",
       "      <td>9.925709</td>\n",
       "      <td>-501.686727</td>\n",
       "      <td>7.894242</td>\n",
       "      <td>-500.356035</td>\n",
       "      <td>13.996647</td>\n",
       "      <td>-601.496691</td>\n",
       "    </tr>\n",
       "  </tbody>\n",
       "</table>\n",
       "<p>5 rows × 87 columns</p>\n",
       "</div>"
      ],
      "text/plain": [
       "                  date  final.output.concentrate_ag  \\\n",
       "0  2016-01-15 00:00:00                     6.055403   \n",
       "1  2016-01-15 01:00:00                     6.029369   \n",
       "2  2016-01-15 02:00:00                     6.055926   \n",
       "3  2016-01-15 03:00:00                     6.047977   \n",
       "4  2016-01-15 04:00:00                     6.148599   \n",
       "\n",
       "   final.output.concentrate_pb  final.output.concentrate_sol  \\\n",
       "0                     9.889648                      5.507324   \n",
       "1                     9.968944                      5.257781   \n",
       "2                    10.213995                      5.383759   \n",
       "3                     9.977019                      4.858634   \n",
       "4                    10.142511                      4.939416   \n",
       "\n",
       "   final.output.concentrate_au  final.output.recovery  final.output.tail_ag  \\\n",
       "0                    42.192020              70.541216             10.411962   \n",
       "1                    42.701629              69.266198             10.462676   \n",
       "2                    42.657501              68.116445             10.507046   \n",
       "3                    42.689819              68.347543             10.422762   \n",
       "4                    42.774141              66.927016             10.360302   \n",
       "\n",
       "   final.output.tail_pb  final.output.tail_sol  final.output.tail_au  ...  \\\n",
       "0              0.895447              16.904297              2.143149  ...   \n",
       "1              0.927452              16.634514              2.224930  ...   \n",
       "2              0.953716              16.208849              2.257889  ...   \n",
       "3              0.883763              16.532835              2.146849  ...   \n",
       "4              0.792826              16.525686              2.055292  ...   \n",
       "\n",
       "   secondary_cleaner.state.floatbank4_a_air  \\\n",
       "0                                 14.016835   \n",
       "1                                 13.992281   \n",
       "2                                 14.015015   \n",
       "3                                 14.036510   \n",
       "4                                 14.027298   \n",
       "\n",
       "   secondary_cleaner.state.floatbank4_a_level  \\\n",
       "0                                 -502.488007   \n",
       "1                                 -505.503262   \n",
       "2                                 -502.520901   \n",
       "3                                 -500.857308   \n",
       "4                                 -499.838632   \n",
       "\n",
       "   secondary_cleaner.state.floatbank4_b_air  \\\n",
       "0                                 12.099931   \n",
       "1                                 11.950531   \n",
       "2                                 11.912783   \n",
       "3                                 11.999550   \n",
       "4                                 11.953070   \n",
       "\n",
       "   secondary_cleaner.state.floatbank4_b_level  \\\n",
       "0                                 -504.715942   \n",
       "1                                 -501.331529   \n",
       "2                                 -501.133383   \n",
       "3                                 -501.193686   \n",
       "4                                 -501.053894   \n",
       "\n",
       "   secondary_cleaner.state.floatbank5_a_air  \\\n",
       "0                                  9.925633   \n",
       "1                                 10.039245   \n",
       "2                                 10.070913   \n",
       "3                                  9.970366   \n",
       "4                                  9.925709   \n",
       "\n",
       "   secondary_cleaner.state.floatbank5_a_level  \\\n",
       "0                                 -498.310211   \n",
       "1                                 -500.169983   \n",
       "2                                 -500.129135   \n",
       "3                                 -499.201640   \n",
       "4                                 -501.686727   \n",
       "\n",
       "   secondary_cleaner.state.floatbank5_b_air  \\\n",
       "0                                  8.079666   \n",
       "1                                  7.984757   \n",
       "2                                  8.013877   \n",
       "3                                  7.977324   \n",
       "4                                  7.894242   \n",
       "\n",
       "   secondary_cleaner.state.floatbank5_b_level  \\\n",
       "0                                 -500.470978   \n",
       "1                                 -500.582168   \n",
       "2                                 -500.517572   \n",
       "3                                 -500.255908   \n",
       "4                                 -500.356035   \n",
       "\n",
       "   secondary_cleaner.state.floatbank6_a_air  \\\n",
       "0                                 14.151341   \n",
       "1                                 13.998353   \n",
       "2                                 14.028663   \n",
       "3                                 14.005551   \n",
       "4                                 13.996647   \n",
       "\n",
       "   secondary_cleaner.state.floatbank6_a_level  \n",
       "0                                 -605.841980  \n",
       "1                                 -599.787184  \n",
       "2                                 -601.427363  \n",
       "3                                 -599.996129  \n",
       "4                                 -601.496691  \n",
       "\n",
       "[5 rows x 87 columns]"
      ]
     },
     "execution_count": 3,
     "metadata": {},
     "output_type": "execute_result"
    }
   ],
   "source": [
    "#вывод информации и содержимого data_train\n",
    "data_train.info()\n",
    "print('\\n')\n",
    "data_train.head()"
   ]
  },
  {
   "cell_type": "markdown",
   "metadata": {},
   "source": [
    "Выводы: \n",
    "* Все названия столбцов в \"змеином\" стиле.\n",
    "* Тип данных столбца date необходимо привести к типу datetime.\n",
    "* Присутствуют пропуски"
   ]
  },
  {
   "cell_type": "code",
   "execution_count": 4,
   "metadata": {},
   "outputs": [
    {
     "name": "stdout",
     "output_type": "stream",
     "text": [
      "<class 'pandas.core.frame.DataFrame'>\n",
      "RangeIndex: 5290 entries, 0 to 5289\n",
      "Data columns (total 53 columns):\n",
      " #   Column                                      Non-Null Count  Dtype  \n",
      "---  ------                                      --------------  -----  \n",
      " 0   date                                        5290 non-null   object \n",
      " 1   primary_cleaner.input.sulfate               5286 non-null   float64\n",
      " 2   primary_cleaner.input.depressant            5285 non-null   float64\n",
      " 3   primary_cleaner.input.feed_size             5290 non-null   float64\n",
      " 4   primary_cleaner.input.xanthate              5286 non-null   float64\n",
      " 5   primary_cleaner.state.floatbank8_a_air      5290 non-null   float64\n",
      " 6   primary_cleaner.state.floatbank8_a_level    5290 non-null   float64\n",
      " 7   primary_cleaner.state.floatbank8_b_air      5290 non-null   float64\n",
      " 8   primary_cleaner.state.floatbank8_b_level    5290 non-null   float64\n",
      " 9   primary_cleaner.state.floatbank8_c_air      5290 non-null   float64\n",
      " 10  primary_cleaner.state.floatbank8_c_level    5290 non-null   float64\n",
      " 11  primary_cleaner.state.floatbank8_d_air      5290 non-null   float64\n",
      " 12  primary_cleaner.state.floatbank8_d_level    5290 non-null   float64\n",
      " 13  rougher.input.feed_ag                       5290 non-null   float64\n",
      " 14  rougher.input.feed_pb                       5290 non-null   float64\n",
      " 15  rougher.input.feed_rate                     5287 non-null   float64\n",
      " 16  rougher.input.feed_size                     5289 non-null   float64\n",
      " 17  rougher.input.feed_sol                      5269 non-null   float64\n",
      " 18  rougher.input.feed_au                       5290 non-null   float64\n",
      " 19  rougher.input.floatbank10_sulfate           5285 non-null   float64\n",
      " 20  rougher.input.floatbank10_xanthate          5290 non-null   float64\n",
      " 21  rougher.input.floatbank11_sulfate           5282 non-null   float64\n",
      " 22  rougher.input.floatbank11_xanthate          5265 non-null   float64\n",
      " 23  rougher.state.floatbank10_a_air             5290 non-null   float64\n",
      " 24  rougher.state.floatbank10_a_level           5290 non-null   float64\n",
      " 25  rougher.state.floatbank10_b_air             5290 non-null   float64\n",
      " 26  rougher.state.floatbank10_b_level           5290 non-null   float64\n",
      " 27  rougher.state.floatbank10_c_air             5290 non-null   float64\n",
      " 28  rougher.state.floatbank10_c_level           5290 non-null   float64\n",
      " 29  rougher.state.floatbank10_d_air             5290 non-null   float64\n",
      " 30  rougher.state.floatbank10_d_level           5290 non-null   float64\n",
      " 31  rougher.state.floatbank10_e_air             5290 non-null   float64\n",
      " 32  rougher.state.floatbank10_e_level           5290 non-null   float64\n",
      " 33  rougher.state.floatbank10_f_air             5290 non-null   float64\n",
      " 34  rougher.state.floatbank10_f_level           5290 non-null   float64\n",
      " 35  secondary_cleaner.state.floatbank2_a_air    5287 non-null   float64\n",
      " 36  secondary_cleaner.state.floatbank2_a_level  5290 non-null   float64\n",
      " 37  secondary_cleaner.state.floatbank2_b_air    5288 non-null   float64\n",
      " 38  secondary_cleaner.state.floatbank2_b_level  5290 non-null   float64\n",
      " 39  secondary_cleaner.state.floatbank3_a_air    5281 non-null   float64\n",
      " 40  secondary_cleaner.state.floatbank3_a_level  5290 non-null   float64\n",
      " 41  secondary_cleaner.state.floatbank3_b_air    5290 non-null   float64\n",
      " 42  secondary_cleaner.state.floatbank3_b_level  5290 non-null   float64\n",
      " 43  secondary_cleaner.state.floatbank4_a_air    5290 non-null   float64\n",
      " 44  secondary_cleaner.state.floatbank4_a_level  5290 non-null   float64\n",
      " 45  secondary_cleaner.state.floatbank4_b_air    5290 non-null   float64\n",
      " 46  secondary_cleaner.state.floatbank4_b_level  5290 non-null   float64\n",
      " 47  secondary_cleaner.state.floatbank5_a_air    5290 non-null   float64\n",
      " 48  secondary_cleaner.state.floatbank5_a_level  5290 non-null   float64\n",
      " 49  secondary_cleaner.state.floatbank5_b_air    5290 non-null   float64\n",
      " 50  secondary_cleaner.state.floatbank5_b_level  5290 non-null   float64\n",
      " 51  secondary_cleaner.state.floatbank6_a_air    5290 non-null   float64\n",
      " 52  secondary_cleaner.state.floatbank6_a_level  5290 non-null   float64\n",
      "dtypes: float64(52), object(1)\n",
      "memory usage: 2.1+ MB\n",
      "\n",
      "\n"
     ]
    },
    {
     "data": {
      "text/html": [
       "<div>\n",
       "<style scoped>\n",
       "    .dataframe tbody tr th:only-of-type {\n",
       "        vertical-align: middle;\n",
       "    }\n",
       "\n",
       "    .dataframe tbody tr th {\n",
       "        vertical-align: top;\n",
       "    }\n",
       "\n",
       "    .dataframe thead th {\n",
       "        text-align: right;\n",
       "    }\n",
       "</style>\n",
       "<table border=\"1\" class=\"dataframe\">\n",
       "  <thead>\n",
       "    <tr style=\"text-align: right;\">\n",
       "      <th></th>\n",
       "      <th>date</th>\n",
       "      <th>primary_cleaner.input.sulfate</th>\n",
       "      <th>primary_cleaner.input.depressant</th>\n",
       "      <th>primary_cleaner.input.feed_size</th>\n",
       "      <th>primary_cleaner.input.xanthate</th>\n",
       "      <th>primary_cleaner.state.floatbank8_a_air</th>\n",
       "      <th>primary_cleaner.state.floatbank8_a_level</th>\n",
       "      <th>primary_cleaner.state.floatbank8_b_air</th>\n",
       "      <th>primary_cleaner.state.floatbank8_b_level</th>\n",
       "      <th>primary_cleaner.state.floatbank8_c_air</th>\n",
       "      <th>...</th>\n",
       "      <th>secondary_cleaner.state.floatbank4_a_air</th>\n",
       "      <th>secondary_cleaner.state.floatbank4_a_level</th>\n",
       "      <th>secondary_cleaner.state.floatbank4_b_air</th>\n",
       "      <th>secondary_cleaner.state.floatbank4_b_level</th>\n",
       "      <th>secondary_cleaner.state.floatbank5_a_air</th>\n",
       "      <th>secondary_cleaner.state.floatbank5_a_level</th>\n",
       "      <th>secondary_cleaner.state.floatbank5_b_air</th>\n",
       "      <th>secondary_cleaner.state.floatbank5_b_level</th>\n",
       "      <th>secondary_cleaner.state.floatbank6_a_air</th>\n",
       "      <th>secondary_cleaner.state.floatbank6_a_level</th>\n",
       "    </tr>\n",
       "  </thead>\n",
       "  <tbody>\n",
       "    <tr>\n",
       "      <th>0</th>\n",
       "      <td>2016-09-01 00:59:59</td>\n",
       "      <td>210.800909</td>\n",
       "      <td>14.993118</td>\n",
       "      <td>8.080000</td>\n",
       "      <td>1.005021</td>\n",
       "      <td>1398.981301</td>\n",
       "      <td>-500.225577</td>\n",
       "      <td>1399.144926</td>\n",
       "      <td>-499.919735</td>\n",
       "      <td>1400.102998</td>\n",
       "      <td>...</td>\n",
       "      <td>12.023554</td>\n",
       "      <td>-497.795834</td>\n",
       "      <td>8.016656</td>\n",
       "      <td>-501.289139</td>\n",
       "      <td>7.946562</td>\n",
       "      <td>-432.317850</td>\n",
       "      <td>4.872511</td>\n",
       "      <td>-500.037437</td>\n",
       "      <td>26.705889</td>\n",
       "      <td>-499.709414</td>\n",
       "    </tr>\n",
       "    <tr>\n",
       "      <th>1</th>\n",
       "      <td>2016-09-01 01:59:59</td>\n",
       "      <td>215.392455</td>\n",
       "      <td>14.987471</td>\n",
       "      <td>8.080000</td>\n",
       "      <td>0.990469</td>\n",
       "      <td>1398.777912</td>\n",
       "      <td>-500.057435</td>\n",
       "      <td>1398.055362</td>\n",
       "      <td>-499.778182</td>\n",
       "      <td>1396.151033</td>\n",
       "      <td>...</td>\n",
       "      <td>12.058140</td>\n",
       "      <td>-498.695773</td>\n",
       "      <td>8.130979</td>\n",
       "      <td>-499.634209</td>\n",
       "      <td>7.958270</td>\n",
       "      <td>-525.839648</td>\n",
       "      <td>4.878850</td>\n",
       "      <td>-500.162375</td>\n",
       "      <td>25.019940</td>\n",
       "      <td>-499.819438</td>\n",
       "    </tr>\n",
       "    <tr>\n",
       "      <th>2</th>\n",
       "      <td>2016-09-01 02:59:59</td>\n",
       "      <td>215.259946</td>\n",
       "      <td>12.884934</td>\n",
       "      <td>7.786667</td>\n",
       "      <td>0.996043</td>\n",
       "      <td>1398.493666</td>\n",
       "      <td>-500.868360</td>\n",
       "      <td>1398.860436</td>\n",
       "      <td>-499.764529</td>\n",
       "      <td>1398.075709</td>\n",
       "      <td>...</td>\n",
       "      <td>11.962366</td>\n",
       "      <td>-498.767484</td>\n",
       "      <td>8.096893</td>\n",
       "      <td>-500.827423</td>\n",
       "      <td>8.071056</td>\n",
       "      <td>-500.801673</td>\n",
       "      <td>4.905125</td>\n",
       "      <td>-499.828510</td>\n",
       "      <td>24.994862</td>\n",
       "      <td>-500.622559</td>\n",
       "    </tr>\n",
       "    <tr>\n",
       "      <th>3</th>\n",
       "      <td>2016-09-01 03:59:59</td>\n",
       "      <td>215.336236</td>\n",
       "      <td>12.006805</td>\n",
       "      <td>7.640000</td>\n",
       "      <td>0.863514</td>\n",
       "      <td>1399.618111</td>\n",
       "      <td>-498.863574</td>\n",
       "      <td>1397.440120</td>\n",
       "      <td>-499.211024</td>\n",
       "      <td>1400.129303</td>\n",
       "      <td>...</td>\n",
       "      <td>12.033091</td>\n",
       "      <td>-498.350935</td>\n",
       "      <td>8.074946</td>\n",
       "      <td>-499.474407</td>\n",
       "      <td>7.897085</td>\n",
       "      <td>-500.868509</td>\n",
       "      <td>4.931400</td>\n",
       "      <td>-499.963623</td>\n",
       "      <td>24.948919</td>\n",
       "      <td>-498.709987</td>\n",
       "    </tr>\n",
       "    <tr>\n",
       "      <th>4</th>\n",
       "      <td>2016-09-01 04:59:59</td>\n",
       "      <td>199.099327</td>\n",
       "      <td>10.682530</td>\n",
       "      <td>7.530000</td>\n",
       "      <td>0.805575</td>\n",
       "      <td>1401.268123</td>\n",
       "      <td>-500.808305</td>\n",
       "      <td>1398.128818</td>\n",
       "      <td>-499.504543</td>\n",
       "      <td>1402.172226</td>\n",
       "      <td>...</td>\n",
       "      <td>12.025367</td>\n",
       "      <td>-500.786497</td>\n",
       "      <td>8.054678</td>\n",
       "      <td>-500.397500</td>\n",
       "      <td>8.107890</td>\n",
       "      <td>-509.526725</td>\n",
       "      <td>4.957674</td>\n",
       "      <td>-500.360026</td>\n",
       "      <td>25.003331</td>\n",
       "      <td>-500.856333</td>\n",
       "    </tr>\n",
       "  </tbody>\n",
       "</table>\n",
       "<p>5 rows × 53 columns</p>\n",
       "</div>"
      ],
      "text/plain": [
       "                  date  primary_cleaner.input.sulfate  \\\n",
       "0  2016-09-01 00:59:59                     210.800909   \n",
       "1  2016-09-01 01:59:59                     215.392455   \n",
       "2  2016-09-01 02:59:59                     215.259946   \n",
       "3  2016-09-01 03:59:59                     215.336236   \n",
       "4  2016-09-01 04:59:59                     199.099327   \n",
       "\n",
       "   primary_cleaner.input.depressant  primary_cleaner.input.feed_size  \\\n",
       "0                         14.993118                         8.080000   \n",
       "1                         14.987471                         8.080000   \n",
       "2                         12.884934                         7.786667   \n",
       "3                         12.006805                         7.640000   \n",
       "4                         10.682530                         7.530000   \n",
       "\n",
       "   primary_cleaner.input.xanthate  primary_cleaner.state.floatbank8_a_air  \\\n",
       "0                        1.005021                             1398.981301   \n",
       "1                        0.990469                             1398.777912   \n",
       "2                        0.996043                             1398.493666   \n",
       "3                        0.863514                             1399.618111   \n",
       "4                        0.805575                             1401.268123   \n",
       "\n",
       "   primary_cleaner.state.floatbank8_a_level  \\\n",
       "0                               -500.225577   \n",
       "1                               -500.057435   \n",
       "2                               -500.868360   \n",
       "3                               -498.863574   \n",
       "4                               -500.808305   \n",
       "\n",
       "   primary_cleaner.state.floatbank8_b_air  \\\n",
       "0                             1399.144926   \n",
       "1                             1398.055362   \n",
       "2                             1398.860436   \n",
       "3                             1397.440120   \n",
       "4                             1398.128818   \n",
       "\n",
       "   primary_cleaner.state.floatbank8_b_level  \\\n",
       "0                               -499.919735   \n",
       "1                               -499.778182   \n",
       "2                               -499.764529   \n",
       "3                               -499.211024   \n",
       "4                               -499.504543   \n",
       "\n",
       "   primary_cleaner.state.floatbank8_c_air  ...  \\\n",
       "0                             1400.102998  ...   \n",
       "1                             1396.151033  ...   \n",
       "2                             1398.075709  ...   \n",
       "3                             1400.129303  ...   \n",
       "4                             1402.172226  ...   \n",
       "\n",
       "   secondary_cleaner.state.floatbank4_a_air  \\\n",
       "0                                 12.023554   \n",
       "1                                 12.058140   \n",
       "2                                 11.962366   \n",
       "3                                 12.033091   \n",
       "4                                 12.025367   \n",
       "\n",
       "   secondary_cleaner.state.floatbank4_a_level  \\\n",
       "0                                 -497.795834   \n",
       "1                                 -498.695773   \n",
       "2                                 -498.767484   \n",
       "3                                 -498.350935   \n",
       "4                                 -500.786497   \n",
       "\n",
       "   secondary_cleaner.state.floatbank4_b_air  \\\n",
       "0                                  8.016656   \n",
       "1                                  8.130979   \n",
       "2                                  8.096893   \n",
       "3                                  8.074946   \n",
       "4                                  8.054678   \n",
       "\n",
       "   secondary_cleaner.state.floatbank4_b_level  \\\n",
       "0                                 -501.289139   \n",
       "1                                 -499.634209   \n",
       "2                                 -500.827423   \n",
       "3                                 -499.474407   \n",
       "4                                 -500.397500   \n",
       "\n",
       "   secondary_cleaner.state.floatbank5_a_air  \\\n",
       "0                                  7.946562   \n",
       "1                                  7.958270   \n",
       "2                                  8.071056   \n",
       "3                                  7.897085   \n",
       "4                                  8.107890   \n",
       "\n",
       "   secondary_cleaner.state.floatbank5_a_level  \\\n",
       "0                                 -432.317850   \n",
       "1                                 -525.839648   \n",
       "2                                 -500.801673   \n",
       "3                                 -500.868509   \n",
       "4                                 -509.526725   \n",
       "\n",
       "   secondary_cleaner.state.floatbank5_b_air  \\\n",
       "0                                  4.872511   \n",
       "1                                  4.878850   \n",
       "2                                  4.905125   \n",
       "3                                  4.931400   \n",
       "4                                  4.957674   \n",
       "\n",
       "   secondary_cleaner.state.floatbank5_b_level  \\\n",
       "0                                 -500.037437   \n",
       "1                                 -500.162375   \n",
       "2                                 -499.828510   \n",
       "3                                 -499.963623   \n",
       "4                                 -500.360026   \n",
       "\n",
       "   secondary_cleaner.state.floatbank6_a_air  \\\n",
       "0                                 26.705889   \n",
       "1                                 25.019940   \n",
       "2                                 24.994862   \n",
       "3                                 24.948919   \n",
       "4                                 25.003331   \n",
       "\n",
       "   secondary_cleaner.state.floatbank6_a_level  \n",
       "0                                 -499.709414  \n",
       "1                                 -499.819438  \n",
       "2                                 -500.622559  \n",
       "3                                 -498.709987  \n",
       "4                                 -500.856333  \n",
       "\n",
       "[5 rows x 53 columns]"
      ]
     },
     "execution_count": 4,
     "metadata": {},
     "output_type": "execute_result"
    }
   ],
   "source": [
    "#вывод информации и содержимого data_test\n",
    "data_test.info()\n",
    "print('\\n')\n",
    "data_test.head()"
   ]
  },
  {
   "cell_type": "markdown",
   "metadata": {},
   "source": [
    "Выводы: \n",
    "* Все названия столбцов в \"змеином\" стиле.\n",
    "* Тип данных столбца date необходимо привести к типу datetime.\n",
    "* Присутствуют пропуски"
   ]
  },
  {
   "cell_type": "code",
   "execution_count": 5,
   "metadata": {},
   "outputs": [
    {
     "name": "stdout",
     "output_type": "stream",
     "text": [
      "<class 'pandas.core.frame.DataFrame'>\n",
      "RangeIndex: 19439 entries, 0 to 19438\n",
      "Data columns (total 87 columns):\n",
      " #   Column                                              Non-Null Count  Dtype  \n",
      "---  ------                                              --------------  -----  \n",
      " 0   date                                                19439 non-null  object \n",
      " 1   final.output.concentrate_ag                         19438 non-null  float64\n",
      " 2   final.output.concentrate_pb                         19438 non-null  float64\n",
      " 3   final.output.concentrate_sol                        19228 non-null  float64\n",
      " 4   final.output.concentrate_au                         19439 non-null  float64\n",
      " 5   final.output.recovery                               19439 non-null  float64\n",
      " 6   final.output.tail_ag                                19438 non-null  float64\n",
      " 7   final.output.tail_pb                                19338 non-null  float64\n",
      " 8   final.output.tail_sol                               19433 non-null  float64\n",
      " 9   final.output.tail_au                                19439 non-null  float64\n",
      " 10  primary_cleaner.input.sulfate                       19415 non-null  float64\n",
      " 11  primary_cleaner.input.depressant                    19402 non-null  float64\n",
      " 12  primary_cleaner.input.feed_size                     19439 non-null  float64\n",
      " 13  primary_cleaner.input.xanthate                      19335 non-null  float64\n",
      " 14  primary_cleaner.output.concentrate_ag               19439 non-null  float64\n",
      " 15  primary_cleaner.output.concentrate_pb               19323 non-null  float64\n",
      " 16  primary_cleaner.output.concentrate_sol              19069 non-null  float64\n",
      " 17  primary_cleaner.output.concentrate_au               19439 non-null  float64\n",
      " 18  primary_cleaner.output.tail_ag                      19435 non-null  float64\n",
      " 19  primary_cleaner.output.tail_pb                      19418 non-null  float64\n",
      " 20  primary_cleaner.output.tail_sol                     19377 non-null  float64\n",
      " 21  primary_cleaner.output.tail_au                      19439 non-null  float64\n",
      " 22  primary_cleaner.state.floatbank8_a_air              19435 non-null  float64\n",
      " 23  primary_cleaner.state.floatbank8_a_level            19438 non-null  float64\n",
      " 24  primary_cleaner.state.floatbank8_b_air              19435 non-null  float64\n",
      " 25  primary_cleaner.state.floatbank8_b_level            19438 non-null  float64\n",
      " 26  primary_cleaner.state.floatbank8_c_air              19437 non-null  float64\n",
      " 27  primary_cleaner.state.floatbank8_c_level            19438 non-null  float64\n",
      " 28  primary_cleaner.state.floatbank8_d_air              19436 non-null  float64\n",
      " 29  primary_cleaner.state.floatbank8_d_level            19438 non-null  float64\n",
      " 30  rougher.calculation.sulfate_to_au_concentrate       19437 non-null  float64\n",
      " 31  rougher.calculation.floatbank10_sulfate_to_au_feed  19437 non-null  float64\n",
      " 32  rougher.calculation.floatbank11_sulfate_to_au_feed  19437 non-null  float64\n",
      " 33  rougher.calculation.au_pb_ratio                     19439 non-null  float64\n",
      " 34  rougher.input.feed_ag                               19439 non-null  float64\n",
      " 35  rougher.input.feed_pb                               19339 non-null  float64\n",
      " 36  rougher.input.feed_rate                             19428 non-null  float64\n",
      " 37  rougher.input.feed_size                             19294 non-null  float64\n",
      " 38  rougher.input.feed_sol                              19340 non-null  float64\n",
      " 39  rougher.input.feed_au                               19439 non-null  float64\n",
      " 40  rougher.input.floatbank10_sulfate                   19405 non-null  float64\n",
      " 41  rougher.input.floatbank10_xanthate                  19431 non-null  float64\n",
      " 42  rougher.input.floatbank11_sulfate                   19395 non-null  float64\n",
      " 43  rougher.input.floatbank11_xanthate                  18986 non-null  float64\n",
      " 44  rougher.output.concentrate_ag                       19439 non-null  float64\n",
      " 45  rougher.output.concentrate_pb                       19439 non-null  float64\n",
      " 46  rougher.output.concentrate_sol                      19416 non-null  float64\n",
      " 47  rougher.output.concentrate_au                       19439 non-null  float64\n",
      " 48  rougher.output.recovery                             19439 non-null  float64\n",
      " 49  rougher.output.tail_ag                              19438 non-null  float64\n",
      " 50  rougher.output.tail_pb                              19439 non-null  float64\n",
      " 51  rougher.output.tail_sol                             19439 non-null  float64\n",
      " 52  rougher.output.tail_au                              19439 non-null  float64\n",
      " 53  rougher.state.floatbank10_a_air                     19438 non-null  float64\n",
      " 54  rougher.state.floatbank10_a_level                   19438 non-null  float64\n",
      " 55  rougher.state.floatbank10_b_air                     19438 non-null  float64\n",
      " 56  rougher.state.floatbank10_b_level                   19438 non-null  float64\n",
      " 57  rougher.state.floatbank10_c_air                     19438 non-null  float64\n",
      " 58  rougher.state.floatbank10_c_level                   19438 non-null  float64\n",
      " 59  rougher.state.floatbank10_d_air                     19439 non-null  float64\n",
      " 60  rougher.state.floatbank10_d_level                   19439 non-null  float64\n",
      " 61  rougher.state.floatbank10_e_air                     19003 non-null  float64\n",
      " 62  rougher.state.floatbank10_e_level                   19439 non-null  float64\n",
      " 63  rougher.state.floatbank10_f_air                     19439 non-null  float64\n",
      " 64  rougher.state.floatbank10_f_level                   19439 non-null  float64\n",
      " 65  secondary_cleaner.output.tail_ag                    19437 non-null  float64\n",
      " 66  secondary_cleaner.output.tail_pb                    19427 non-null  float64\n",
      " 67  secondary_cleaner.output.tail_sol                   17691 non-null  float64\n",
      " 68  secondary_cleaner.output.tail_au                    19439 non-null  float64\n",
      " 69  secondary_cleaner.state.floatbank2_a_air            19219 non-null  float64\n",
      " 70  secondary_cleaner.state.floatbank2_a_level          19438 non-null  float64\n",
      " 71  secondary_cleaner.state.floatbank2_b_air            19416 non-null  float64\n",
      " 72  secondary_cleaner.state.floatbank2_b_level          19438 non-null  float64\n",
      " 73  secondary_cleaner.state.floatbank3_a_air            19426 non-null  float64\n",
      " 74  secondary_cleaner.state.floatbank3_a_level          19438 non-null  float64\n",
      " 75  secondary_cleaner.state.floatbank3_b_air            19438 non-null  float64\n",
      " 76  secondary_cleaner.state.floatbank3_b_level          19438 non-null  float64\n",
      " 77  secondary_cleaner.state.floatbank4_a_air            19433 non-null  float64\n",
      " 78  secondary_cleaner.state.floatbank4_a_level          19438 non-null  float64\n",
      " 79  secondary_cleaner.state.floatbank4_b_air            19438 non-null  float64\n",
      " 80  secondary_cleaner.state.floatbank4_b_level          19438 non-null  float64\n",
      " 81  secondary_cleaner.state.floatbank5_a_air            19438 non-null  float64\n",
      " 82  secondary_cleaner.state.floatbank5_a_level          19438 non-null  float64\n",
      " 83  secondary_cleaner.state.floatbank5_b_air            19438 non-null  float64\n",
      " 84  secondary_cleaner.state.floatbank5_b_level          19438 non-null  float64\n",
      " 85  secondary_cleaner.state.floatbank6_a_air            19437 non-null  float64\n",
      " 86  secondary_cleaner.state.floatbank6_a_level          19438 non-null  float64\n",
      "dtypes: float64(86), object(1)\n",
      "memory usage: 12.9+ MB\n",
      "\n",
      "\n"
     ]
    },
    {
     "data": {
      "text/html": [
       "<div>\n",
       "<style scoped>\n",
       "    .dataframe tbody tr th:only-of-type {\n",
       "        vertical-align: middle;\n",
       "    }\n",
       "\n",
       "    .dataframe tbody tr th {\n",
       "        vertical-align: top;\n",
       "    }\n",
       "\n",
       "    .dataframe thead th {\n",
       "        text-align: right;\n",
       "    }\n",
       "</style>\n",
       "<table border=\"1\" class=\"dataframe\">\n",
       "  <thead>\n",
       "    <tr style=\"text-align: right;\">\n",
       "      <th></th>\n",
       "      <th>date</th>\n",
       "      <th>final.output.concentrate_ag</th>\n",
       "      <th>final.output.concentrate_pb</th>\n",
       "      <th>final.output.concentrate_sol</th>\n",
       "      <th>final.output.concentrate_au</th>\n",
       "      <th>final.output.recovery</th>\n",
       "      <th>final.output.tail_ag</th>\n",
       "      <th>final.output.tail_pb</th>\n",
       "      <th>final.output.tail_sol</th>\n",
       "      <th>final.output.tail_au</th>\n",
       "      <th>...</th>\n",
       "      <th>secondary_cleaner.state.floatbank4_a_air</th>\n",
       "      <th>secondary_cleaner.state.floatbank4_a_level</th>\n",
       "      <th>secondary_cleaner.state.floatbank4_b_air</th>\n",
       "      <th>secondary_cleaner.state.floatbank4_b_level</th>\n",
       "      <th>secondary_cleaner.state.floatbank5_a_air</th>\n",
       "      <th>secondary_cleaner.state.floatbank5_a_level</th>\n",
       "      <th>secondary_cleaner.state.floatbank5_b_air</th>\n",
       "      <th>secondary_cleaner.state.floatbank5_b_level</th>\n",
       "      <th>secondary_cleaner.state.floatbank6_a_air</th>\n",
       "      <th>secondary_cleaner.state.floatbank6_a_level</th>\n",
       "    </tr>\n",
       "  </thead>\n",
       "  <tbody>\n",
       "    <tr>\n",
       "      <th>0</th>\n",
       "      <td>2016-01-15 00:00:00</td>\n",
       "      <td>6.055403</td>\n",
       "      <td>9.889648</td>\n",
       "      <td>5.507324</td>\n",
       "      <td>42.192020</td>\n",
       "      <td>70.541216</td>\n",
       "      <td>10.411962</td>\n",
       "      <td>0.895447</td>\n",
       "      <td>16.904297</td>\n",
       "      <td>2.143149</td>\n",
       "      <td>...</td>\n",
       "      <td>14.016835</td>\n",
       "      <td>-502.488007</td>\n",
       "      <td>12.099931</td>\n",
       "      <td>-504.715942</td>\n",
       "      <td>9.925633</td>\n",
       "      <td>-498.310211</td>\n",
       "      <td>8.079666</td>\n",
       "      <td>-500.470978</td>\n",
       "      <td>14.151341</td>\n",
       "      <td>-605.841980</td>\n",
       "    </tr>\n",
       "    <tr>\n",
       "      <th>1</th>\n",
       "      <td>2016-01-15 01:00:00</td>\n",
       "      <td>6.029369</td>\n",
       "      <td>9.968944</td>\n",
       "      <td>5.257781</td>\n",
       "      <td>42.701629</td>\n",
       "      <td>69.266198</td>\n",
       "      <td>10.462676</td>\n",
       "      <td>0.927452</td>\n",
       "      <td>16.634514</td>\n",
       "      <td>2.224930</td>\n",
       "      <td>...</td>\n",
       "      <td>13.992281</td>\n",
       "      <td>-505.503262</td>\n",
       "      <td>11.950531</td>\n",
       "      <td>-501.331529</td>\n",
       "      <td>10.039245</td>\n",
       "      <td>-500.169983</td>\n",
       "      <td>7.984757</td>\n",
       "      <td>-500.582168</td>\n",
       "      <td>13.998353</td>\n",
       "      <td>-599.787184</td>\n",
       "    </tr>\n",
       "    <tr>\n",
       "      <th>2</th>\n",
       "      <td>2016-01-15 02:00:00</td>\n",
       "      <td>6.055926</td>\n",
       "      <td>10.213995</td>\n",
       "      <td>5.383759</td>\n",
       "      <td>42.657501</td>\n",
       "      <td>68.116445</td>\n",
       "      <td>10.507046</td>\n",
       "      <td>0.953716</td>\n",
       "      <td>16.208849</td>\n",
       "      <td>2.257889</td>\n",
       "      <td>...</td>\n",
       "      <td>14.015015</td>\n",
       "      <td>-502.520901</td>\n",
       "      <td>11.912783</td>\n",
       "      <td>-501.133383</td>\n",
       "      <td>10.070913</td>\n",
       "      <td>-500.129135</td>\n",
       "      <td>8.013877</td>\n",
       "      <td>-500.517572</td>\n",
       "      <td>14.028663</td>\n",
       "      <td>-601.427363</td>\n",
       "    </tr>\n",
       "    <tr>\n",
       "      <th>3</th>\n",
       "      <td>2016-01-15 03:00:00</td>\n",
       "      <td>6.047977</td>\n",
       "      <td>9.977019</td>\n",
       "      <td>4.858634</td>\n",
       "      <td>42.689819</td>\n",
       "      <td>68.347543</td>\n",
       "      <td>10.422762</td>\n",
       "      <td>0.883763</td>\n",
       "      <td>16.532835</td>\n",
       "      <td>2.146849</td>\n",
       "      <td>...</td>\n",
       "      <td>14.036510</td>\n",
       "      <td>-500.857308</td>\n",
       "      <td>11.999550</td>\n",
       "      <td>-501.193686</td>\n",
       "      <td>9.970366</td>\n",
       "      <td>-499.201640</td>\n",
       "      <td>7.977324</td>\n",
       "      <td>-500.255908</td>\n",
       "      <td>14.005551</td>\n",
       "      <td>-599.996129</td>\n",
       "    </tr>\n",
       "    <tr>\n",
       "      <th>4</th>\n",
       "      <td>2016-01-15 04:00:00</td>\n",
       "      <td>6.148599</td>\n",
       "      <td>10.142511</td>\n",
       "      <td>4.939416</td>\n",
       "      <td>42.774141</td>\n",
       "      <td>66.927016</td>\n",
       "      <td>10.360302</td>\n",
       "      <td>0.792826</td>\n",
       "      <td>16.525686</td>\n",
       "      <td>2.055292</td>\n",
       "      <td>...</td>\n",
       "      <td>14.027298</td>\n",
       "      <td>-499.838632</td>\n",
       "      <td>11.953070</td>\n",
       "      <td>-501.053894</td>\n",
       "      <td>9.925709</td>\n",
       "      <td>-501.686727</td>\n",
       "      <td>7.894242</td>\n",
       "      <td>-500.356035</td>\n",
       "      <td>13.996647</td>\n",
       "      <td>-601.496691</td>\n",
       "    </tr>\n",
       "  </tbody>\n",
       "</table>\n",
       "<p>5 rows × 87 columns</p>\n",
       "</div>"
      ],
      "text/plain": [
       "                  date  final.output.concentrate_ag  \\\n",
       "0  2016-01-15 00:00:00                     6.055403   \n",
       "1  2016-01-15 01:00:00                     6.029369   \n",
       "2  2016-01-15 02:00:00                     6.055926   \n",
       "3  2016-01-15 03:00:00                     6.047977   \n",
       "4  2016-01-15 04:00:00                     6.148599   \n",
       "\n",
       "   final.output.concentrate_pb  final.output.concentrate_sol  \\\n",
       "0                     9.889648                      5.507324   \n",
       "1                     9.968944                      5.257781   \n",
       "2                    10.213995                      5.383759   \n",
       "3                     9.977019                      4.858634   \n",
       "4                    10.142511                      4.939416   \n",
       "\n",
       "   final.output.concentrate_au  final.output.recovery  final.output.tail_ag  \\\n",
       "0                    42.192020              70.541216             10.411962   \n",
       "1                    42.701629              69.266198             10.462676   \n",
       "2                    42.657501              68.116445             10.507046   \n",
       "3                    42.689819              68.347543             10.422762   \n",
       "4                    42.774141              66.927016             10.360302   \n",
       "\n",
       "   final.output.tail_pb  final.output.tail_sol  final.output.tail_au  ...  \\\n",
       "0              0.895447              16.904297              2.143149  ...   \n",
       "1              0.927452              16.634514              2.224930  ...   \n",
       "2              0.953716              16.208849              2.257889  ...   \n",
       "3              0.883763              16.532835              2.146849  ...   \n",
       "4              0.792826              16.525686              2.055292  ...   \n",
       "\n",
       "   secondary_cleaner.state.floatbank4_a_air  \\\n",
       "0                                 14.016835   \n",
       "1                                 13.992281   \n",
       "2                                 14.015015   \n",
       "3                                 14.036510   \n",
       "4                                 14.027298   \n",
       "\n",
       "   secondary_cleaner.state.floatbank4_a_level  \\\n",
       "0                                 -502.488007   \n",
       "1                                 -505.503262   \n",
       "2                                 -502.520901   \n",
       "3                                 -500.857308   \n",
       "4                                 -499.838632   \n",
       "\n",
       "   secondary_cleaner.state.floatbank4_b_air  \\\n",
       "0                                 12.099931   \n",
       "1                                 11.950531   \n",
       "2                                 11.912783   \n",
       "3                                 11.999550   \n",
       "4                                 11.953070   \n",
       "\n",
       "   secondary_cleaner.state.floatbank4_b_level  \\\n",
       "0                                 -504.715942   \n",
       "1                                 -501.331529   \n",
       "2                                 -501.133383   \n",
       "3                                 -501.193686   \n",
       "4                                 -501.053894   \n",
       "\n",
       "   secondary_cleaner.state.floatbank5_a_air  \\\n",
       "0                                  9.925633   \n",
       "1                                 10.039245   \n",
       "2                                 10.070913   \n",
       "3                                  9.970366   \n",
       "4                                  9.925709   \n",
       "\n",
       "   secondary_cleaner.state.floatbank5_a_level  \\\n",
       "0                                 -498.310211   \n",
       "1                                 -500.169983   \n",
       "2                                 -500.129135   \n",
       "3                                 -499.201640   \n",
       "4                                 -501.686727   \n",
       "\n",
       "   secondary_cleaner.state.floatbank5_b_air  \\\n",
       "0                                  8.079666   \n",
       "1                                  7.984757   \n",
       "2                                  8.013877   \n",
       "3                                  7.977324   \n",
       "4                                  7.894242   \n",
       "\n",
       "   secondary_cleaner.state.floatbank5_b_level  \\\n",
       "0                                 -500.470978   \n",
       "1                                 -500.582168   \n",
       "2                                 -500.517572   \n",
       "3                                 -500.255908   \n",
       "4                                 -500.356035   \n",
       "\n",
       "   secondary_cleaner.state.floatbank6_a_air  \\\n",
       "0                                 14.151341   \n",
       "1                                 13.998353   \n",
       "2                                 14.028663   \n",
       "3                                 14.005551   \n",
       "4                                 13.996647   \n",
       "\n",
       "   secondary_cleaner.state.floatbank6_a_level  \n",
       "0                                 -605.841980  \n",
       "1                                 -599.787184  \n",
       "2                                 -601.427363  \n",
       "3                                 -599.996129  \n",
       "4                                 -601.496691  \n",
       "\n",
       "[5 rows x 87 columns]"
      ]
     },
     "execution_count": 5,
     "metadata": {},
     "output_type": "execute_result"
    }
   ],
   "source": [
    "#вывод информации и содержимого data_full\n",
    "data_full.info()\n",
    "print('\\n')\n",
    "data_full.head()"
   ]
  },
  {
   "cell_type": "markdown",
   "metadata": {},
   "source": [
    "Выводы: \n",
    "* Все названия столбцов в \"змеином\" стиле.\n",
    "* Тип данных столбца date необходимо привести к типу datetime.\n",
    "* Присутствуют пропуски"
   ]
  },
  {
   "cell_type": "markdown",
   "metadata": {},
   "source": [
    "**Приступим к изменению типа данных в столбце date.**"
   ]
  },
  {
   "cell_type": "code",
   "execution_count": 6,
   "metadata": {},
   "outputs": [
    {
     "data": {
      "text/plain": [
       "date                                          datetime64[ns]\n",
       "final.output.concentrate_ag                          float64\n",
       "final.output.concentrate_pb                          float64\n",
       "final.output.concentrate_sol                         float64\n",
       "final.output.concentrate_au                          float64\n",
       "                                                   ...      \n",
       "secondary_cleaner.state.floatbank5_a_level           float64\n",
       "secondary_cleaner.state.floatbank5_b_air             float64\n",
       "secondary_cleaner.state.floatbank5_b_level           float64\n",
       "secondary_cleaner.state.floatbank6_a_air             float64\n",
       "secondary_cleaner.state.floatbank6_a_level           float64\n",
       "Length: 87, dtype: object"
      ]
     },
     "execution_count": 6,
     "metadata": {},
     "output_type": "execute_result"
    }
   ],
   "source": [
    "#изменение типа данных date в data_train\n",
    "data_train['date'] = pd.to_datetime(data_train['date'], format='%Y-%m-%d %H:%M:%S')\n",
    "data_train.dtypes"
   ]
  },
  {
   "cell_type": "code",
   "execution_count": 7,
   "metadata": {},
   "outputs": [
    {
     "data": {
      "text/plain": [
       "date                                          datetime64[ns]\n",
       "primary_cleaner.input.sulfate                        float64\n",
       "primary_cleaner.input.depressant                     float64\n",
       "primary_cleaner.input.feed_size                      float64\n",
       "primary_cleaner.input.xanthate                       float64\n",
       "primary_cleaner.state.floatbank8_a_air               float64\n",
       "primary_cleaner.state.floatbank8_a_level             float64\n",
       "primary_cleaner.state.floatbank8_b_air               float64\n",
       "primary_cleaner.state.floatbank8_b_level             float64\n",
       "primary_cleaner.state.floatbank8_c_air               float64\n",
       "primary_cleaner.state.floatbank8_c_level             float64\n",
       "primary_cleaner.state.floatbank8_d_air               float64\n",
       "primary_cleaner.state.floatbank8_d_level             float64\n",
       "rougher.input.feed_ag                                float64\n",
       "rougher.input.feed_pb                                float64\n",
       "rougher.input.feed_rate                              float64\n",
       "rougher.input.feed_size                              float64\n",
       "rougher.input.feed_sol                               float64\n",
       "rougher.input.feed_au                                float64\n",
       "rougher.input.floatbank10_sulfate                    float64\n",
       "rougher.input.floatbank10_xanthate                   float64\n",
       "rougher.input.floatbank11_sulfate                    float64\n",
       "rougher.input.floatbank11_xanthate                   float64\n",
       "rougher.state.floatbank10_a_air                      float64\n",
       "rougher.state.floatbank10_a_level                    float64\n",
       "rougher.state.floatbank10_b_air                      float64\n",
       "rougher.state.floatbank10_b_level                    float64\n",
       "rougher.state.floatbank10_c_air                      float64\n",
       "rougher.state.floatbank10_c_level                    float64\n",
       "rougher.state.floatbank10_d_air                      float64\n",
       "rougher.state.floatbank10_d_level                    float64\n",
       "rougher.state.floatbank10_e_air                      float64\n",
       "rougher.state.floatbank10_e_level                    float64\n",
       "rougher.state.floatbank10_f_air                      float64\n",
       "rougher.state.floatbank10_f_level                    float64\n",
       "secondary_cleaner.state.floatbank2_a_air             float64\n",
       "secondary_cleaner.state.floatbank2_a_level           float64\n",
       "secondary_cleaner.state.floatbank2_b_air             float64\n",
       "secondary_cleaner.state.floatbank2_b_level           float64\n",
       "secondary_cleaner.state.floatbank3_a_air             float64\n",
       "secondary_cleaner.state.floatbank3_a_level           float64\n",
       "secondary_cleaner.state.floatbank3_b_air             float64\n",
       "secondary_cleaner.state.floatbank3_b_level           float64\n",
       "secondary_cleaner.state.floatbank4_a_air             float64\n",
       "secondary_cleaner.state.floatbank4_a_level           float64\n",
       "secondary_cleaner.state.floatbank4_b_air             float64\n",
       "secondary_cleaner.state.floatbank4_b_level           float64\n",
       "secondary_cleaner.state.floatbank5_a_air             float64\n",
       "secondary_cleaner.state.floatbank5_a_level           float64\n",
       "secondary_cleaner.state.floatbank5_b_air             float64\n",
       "secondary_cleaner.state.floatbank5_b_level           float64\n",
       "secondary_cleaner.state.floatbank6_a_air             float64\n",
       "secondary_cleaner.state.floatbank6_a_level           float64\n",
       "dtype: object"
      ]
     },
     "execution_count": 7,
     "metadata": {},
     "output_type": "execute_result"
    }
   ],
   "source": [
    "#изменение типа данных date в data_test\n",
    "data_test['date'] = pd.to_datetime(data_test['date'], format='%Y-%m-%d %H:%M:%S')\n",
    "data_test.dtypes"
   ]
  },
  {
   "cell_type": "code",
   "execution_count": 8,
   "metadata": {},
   "outputs": [
    {
     "data": {
      "text/plain": [
       "date                                          datetime64[ns]\n",
       "final.output.concentrate_ag                          float64\n",
       "final.output.concentrate_pb                          float64\n",
       "final.output.concentrate_sol                         float64\n",
       "final.output.concentrate_au                          float64\n",
       "                                                   ...      \n",
       "secondary_cleaner.state.floatbank5_a_level           float64\n",
       "secondary_cleaner.state.floatbank5_b_air             float64\n",
       "secondary_cleaner.state.floatbank5_b_level           float64\n",
       "secondary_cleaner.state.floatbank6_a_air             float64\n",
       "secondary_cleaner.state.floatbank6_a_level           float64\n",
       "Length: 87, dtype: object"
      ]
     },
     "execution_count": 8,
     "metadata": {},
     "output_type": "execute_result"
    }
   ],
   "source": [
    "#изменение типа данных date в data_full\n",
    "data_full['date'] = pd.to_datetime(data_full['date'], format='%Y-%m-%d %H:%M:%S')\n",
    "data_full.dtypes"
   ]
  },
  {
   "cell_type": "markdown",
   "metadata": {},
   "source": [
    "Проверим данные на предмет дубликатов."
   ]
  },
  {
   "cell_type": "code",
   "execution_count": 9,
   "metadata": {},
   "outputs": [
    {
     "name": "stdout",
     "output_type": "stream",
     "text": [
      "Дубликаты в data_train:  0 \n",
      "\n",
      "Дубликаты в data_test:  0 \n",
      "\n",
      "Дубликаты в data_full:  0 \n",
      "\n"
     ]
    }
   ],
   "source": [
    "#проверка на дубликаты\n",
    "print(\"Дубликаты в data_train: \", data_train.duplicated().sum(), '\\n')\n",
    "print(\"Дубликаты в data_test: \", data_test.duplicated().sum(), '\\n')\n",
    "print(\"Дубликаты в data_full: \", data_full.duplicated().sum(), '\\n')"
   ]
  },
  {
   "cell_type": "markdown",
   "metadata": {},
   "source": [
    "**Дубликаты отсутствуют.** Теперь приступим в заполнению пропусков. Заполним их методом ffill, так как данные собираются каждый час."
   ]
  },
  {
   "cell_type": "code",
   "execution_count": 10,
   "metadata": {},
   "outputs": [
    {
     "data": {
      "text/plain": [
       "date                                            0\n",
       "final.output.concentrate_ag                     1\n",
       "final.output.concentrate_pb                     1\n",
       "final.output.concentrate_sol                  211\n",
       "final.output.concentrate_au                     0\n",
       "                                             ... \n",
       "secondary_cleaner.state.floatbank5_a_level      1\n",
       "secondary_cleaner.state.floatbank5_b_air        1\n",
       "secondary_cleaner.state.floatbank5_b_level      1\n",
       "secondary_cleaner.state.floatbank6_a_air        2\n",
       "secondary_cleaner.state.floatbank6_a_level      1\n",
       "Length: 87, dtype: int64"
      ]
     },
     "execution_count": 10,
     "metadata": {},
     "output_type": "execute_result"
    }
   ],
   "source": [
    "#пропуски до заполнения data_train\n",
    "data_train.isna().sum()"
   ]
  },
  {
   "cell_type": "code",
   "execution_count": 11,
   "metadata": {},
   "outputs": [
    {
     "data": {
      "text/plain": [
       "date                                           0\n",
       "primary_cleaner.input.sulfate                  4\n",
       "primary_cleaner.input.depressant               5\n",
       "primary_cleaner.input.feed_size                0\n",
       "primary_cleaner.input.xanthate                 4\n",
       "primary_cleaner.state.floatbank8_a_air         0\n",
       "primary_cleaner.state.floatbank8_a_level       0\n",
       "primary_cleaner.state.floatbank8_b_air         0\n",
       "primary_cleaner.state.floatbank8_b_level       0\n",
       "primary_cleaner.state.floatbank8_c_air         0\n",
       "primary_cleaner.state.floatbank8_c_level       0\n",
       "primary_cleaner.state.floatbank8_d_air         0\n",
       "primary_cleaner.state.floatbank8_d_level       0\n",
       "rougher.input.feed_ag                          0\n",
       "rougher.input.feed_pb                          0\n",
       "rougher.input.feed_rate                        3\n",
       "rougher.input.feed_size                        1\n",
       "rougher.input.feed_sol                        21\n",
       "rougher.input.feed_au                          0\n",
       "rougher.input.floatbank10_sulfate              5\n",
       "rougher.input.floatbank10_xanthate             0\n",
       "rougher.input.floatbank11_sulfate              8\n",
       "rougher.input.floatbank11_xanthate            25\n",
       "rougher.state.floatbank10_a_air                0\n",
       "rougher.state.floatbank10_a_level              0\n",
       "rougher.state.floatbank10_b_air                0\n",
       "rougher.state.floatbank10_b_level              0\n",
       "rougher.state.floatbank10_c_air                0\n",
       "rougher.state.floatbank10_c_level              0\n",
       "rougher.state.floatbank10_d_air                0\n",
       "rougher.state.floatbank10_d_level              0\n",
       "rougher.state.floatbank10_e_air                0\n",
       "rougher.state.floatbank10_e_level              0\n",
       "rougher.state.floatbank10_f_air                0\n",
       "rougher.state.floatbank10_f_level              0\n",
       "secondary_cleaner.state.floatbank2_a_air       3\n",
       "secondary_cleaner.state.floatbank2_a_level     0\n",
       "secondary_cleaner.state.floatbank2_b_air       2\n",
       "secondary_cleaner.state.floatbank2_b_level     0\n",
       "secondary_cleaner.state.floatbank3_a_air       9\n",
       "secondary_cleaner.state.floatbank3_a_level     0\n",
       "secondary_cleaner.state.floatbank3_b_air       0\n",
       "secondary_cleaner.state.floatbank3_b_level     0\n",
       "secondary_cleaner.state.floatbank4_a_air       0\n",
       "secondary_cleaner.state.floatbank4_a_level     0\n",
       "secondary_cleaner.state.floatbank4_b_air       0\n",
       "secondary_cleaner.state.floatbank4_b_level     0\n",
       "secondary_cleaner.state.floatbank5_a_air       0\n",
       "secondary_cleaner.state.floatbank5_a_level     0\n",
       "secondary_cleaner.state.floatbank5_b_air       0\n",
       "secondary_cleaner.state.floatbank5_b_level     0\n",
       "secondary_cleaner.state.floatbank6_a_air       0\n",
       "secondary_cleaner.state.floatbank6_a_level     0\n",
       "dtype: int64"
      ]
     },
     "execution_count": 11,
     "metadata": {},
     "output_type": "execute_result"
    }
   ],
   "source": [
    "#пропуски до заполнения data_test\n",
    "data_test.isna().sum()"
   ]
  },
  {
   "cell_type": "code",
   "execution_count": 12,
   "metadata": {},
   "outputs": [
    {
     "data": {
      "text/plain": [
       "date                                            0\n",
       "final.output.concentrate_ag                     1\n",
       "final.output.concentrate_pb                     1\n",
       "final.output.concentrate_sol                  211\n",
       "final.output.concentrate_au                     0\n",
       "                                             ... \n",
       "secondary_cleaner.state.floatbank5_a_level      1\n",
       "secondary_cleaner.state.floatbank5_b_air        1\n",
       "secondary_cleaner.state.floatbank5_b_level      1\n",
       "secondary_cleaner.state.floatbank6_a_air        2\n",
       "secondary_cleaner.state.floatbank6_a_level      1\n",
       "Length: 87, dtype: int64"
      ]
     },
     "execution_count": 12,
     "metadata": {},
     "output_type": "execute_result"
    }
   ],
   "source": [
    "#пропуски до заполнения data_full\n",
    "data_full.isna().sum()"
   ]
  },
  {
   "cell_type": "code",
   "execution_count": 13,
   "metadata": {},
   "outputs": [],
   "source": [
    "#заполнение пропусков\n",
    "data_train = data_train.fillna(method='ffill')\n",
    "data_test = data_test.fillna(method='ffill')\n",
    "data_full = data_full.fillna(method='ffill')"
   ]
  },
  {
   "cell_type": "code",
   "execution_count": 14,
   "metadata": {},
   "outputs": [
    {
     "data": {
      "text/plain": [
       "date                                          0\n",
       "final.output.concentrate_ag                   0\n",
       "final.output.concentrate_pb                   0\n",
       "final.output.concentrate_sol                  0\n",
       "final.output.concentrate_au                   0\n",
       "                                             ..\n",
       "secondary_cleaner.state.floatbank5_a_level    0\n",
       "secondary_cleaner.state.floatbank5_b_air      0\n",
       "secondary_cleaner.state.floatbank5_b_level    0\n",
       "secondary_cleaner.state.floatbank6_a_air      0\n",
       "secondary_cleaner.state.floatbank6_a_level    0\n",
       "Length: 87, dtype: int64"
      ]
     },
     "execution_count": 14,
     "metadata": {},
     "output_type": "execute_result"
    }
   ],
   "source": [
    "#пропуски после заполнения data_train\n",
    "data_train.isna().sum()"
   ]
  },
  {
   "cell_type": "code",
   "execution_count": 15,
   "metadata": {},
   "outputs": [
    {
     "data": {
      "text/plain": [
       "date                                          0\n",
       "primary_cleaner.input.sulfate                 0\n",
       "primary_cleaner.input.depressant              0\n",
       "primary_cleaner.input.feed_size               0\n",
       "primary_cleaner.input.xanthate                0\n",
       "primary_cleaner.state.floatbank8_a_air        0\n",
       "primary_cleaner.state.floatbank8_a_level      0\n",
       "primary_cleaner.state.floatbank8_b_air        0\n",
       "primary_cleaner.state.floatbank8_b_level      0\n",
       "primary_cleaner.state.floatbank8_c_air        0\n",
       "primary_cleaner.state.floatbank8_c_level      0\n",
       "primary_cleaner.state.floatbank8_d_air        0\n",
       "primary_cleaner.state.floatbank8_d_level      0\n",
       "rougher.input.feed_ag                         0\n",
       "rougher.input.feed_pb                         0\n",
       "rougher.input.feed_rate                       0\n",
       "rougher.input.feed_size                       0\n",
       "rougher.input.feed_sol                        0\n",
       "rougher.input.feed_au                         0\n",
       "rougher.input.floatbank10_sulfate             0\n",
       "rougher.input.floatbank10_xanthate            0\n",
       "rougher.input.floatbank11_sulfate             0\n",
       "rougher.input.floatbank11_xanthate            0\n",
       "rougher.state.floatbank10_a_air               0\n",
       "rougher.state.floatbank10_a_level             0\n",
       "rougher.state.floatbank10_b_air               0\n",
       "rougher.state.floatbank10_b_level             0\n",
       "rougher.state.floatbank10_c_air               0\n",
       "rougher.state.floatbank10_c_level             0\n",
       "rougher.state.floatbank10_d_air               0\n",
       "rougher.state.floatbank10_d_level             0\n",
       "rougher.state.floatbank10_e_air               0\n",
       "rougher.state.floatbank10_e_level             0\n",
       "rougher.state.floatbank10_f_air               0\n",
       "rougher.state.floatbank10_f_level             0\n",
       "secondary_cleaner.state.floatbank2_a_air      0\n",
       "secondary_cleaner.state.floatbank2_a_level    0\n",
       "secondary_cleaner.state.floatbank2_b_air      0\n",
       "secondary_cleaner.state.floatbank2_b_level    0\n",
       "secondary_cleaner.state.floatbank3_a_air      0\n",
       "secondary_cleaner.state.floatbank3_a_level    0\n",
       "secondary_cleaner.state.floatbank3_b_air      0\n",
       "secondary_cleaner.state.floatbank3_b_level    0\n",
       "secondary_cleaner.state.floatbank4_a_air      0\n",
       "secondary_cleaner.state.floatbank4_a_level    0\n",
       "secondary_cleaner.state.floatbank4_b_air      0\n",
       "secondary_cleaner.state.floatbank4_b_level    0\n",
       "secondary_cleaner.state.floatbank5_a_air      0\n",
       "secondary_cleaner.state.floatbank5_a_level    0\n",
       "secondary_cleaner.state.floatbank5_b_air      0\n",
       "secondary_cleaner.state.floatbank5_b_level    0\n",
       "secondary_cleaner.state.floatbank6_a_air      0\n",
       "secondary_cleaner.state.floatbank6_a_level    0\n",
       "dtype: int64"
      ]
     },
     "execution_count": 15,
     "metadata": {},
     "output_type": "execute_result"
    }
   ],
   "source": [
    "#пропуски после заполнения data_test\n",
    "data_test.isna().sum()"
   ]
  },
  {
   "cell_type": "code",
   "execution_count": 16,
   "metadata": {},
   "outputs": [
    {
     "data": {
      "text/plain": [
       "date                                          0\n",
       "final.output.concentrate_ag                   0\n",
       "final.output.concentrate_pb                   0\n",
       "final.output.concentrate_sol                  0\n",
       "final.output.concentrate_au                   0\n",
       "                                             ..\n",
       "secondary_cleaner.state.floatbank5_a_level    0\n",
       "secondary_cleaner.state.floatbank5_b_air      0\n",
       "secondary_cleaner.state.floatbank5_b_level    0\n",
       "secondary_cleaner.state.floatbank6_a_air      0\n",
       "secondary_cleaner.state.floatbank6_a_level    0\n",
       "Length: 87, dtype: int64"
      ]
     },
     "execution_count": 16,
     "metadata": {},
     "output_type": "execute_result"
    }
   ],
   "source": [
    "#пропуски после заполнения data_full\n",
    "data_full.isna().sum()"
   ]
  },
  {
   "cell_type": "markdown",
   "metadata": {},
   "source": [
    "**После проверки видно, что все пропуски заполнены.**"
   ]
  },
  {
   "cell_type": "markdown",
   "metadata": {},
   "source": [
    "### Проверка верности расчета обогащения, расчет ее на обучающей выборке для признака rougher.output.recovery, вычисление MAE между расчетами и значением признака, выводы."
   ]
  },
  {
   "cell_type": "markdown",
   "metadata": {},
   "source": [
    "Recovery = ((C * (F - T)) / (F * (C - T)) * 100%, где:\n",
    "\n",
    "* С - доля золота концентрате после флотации/очиcnки.\n",
    "* F - доля золота в сырье/концентрате до флотации/очистки.\n",
    "* T - доля золота в отвальных хвостах после флотации/очистки.\n",
    "\n",
    "Если расчет нужно произвести для признака **rougher.output.recovery**, тогда для нас:\n",
    "* C = rougher.output.concentrate_au\n",
    "* F = rougher.input.feed_au\n",
    "* T = rougher.output.tail_au"
   ]
  },
  {
   "cell_type": "code",
   "execution_count": 17,
   "metadata": {},
   "outputs": [],
   "source": [
    "#обозначение входных данных\n",
    "c = data_train['rougher.output.concentrate_au']\n",
    "f = data_train[\"rougher.input.feed_au\"]\n",
    "t = data_train['rougher.output.tail_au']\n",
    "\n",
    "#расчет по формуле\n",
    "recovery = ((c * (f - t)) / (f * (c - t)) * 100)"
   ]
  },
  {
   "cell_type": "code",
   "execution_count": 18,
   "metadata": {},
   "outputs": [
    {
     "name": "stdout",
     "output_type": "stream",
     "text": [
      "MAE равно:  9.73512347450521e-15\n"
     ]
    }
   ],
   "source": [
    "#вывод значений на экран\n",
    "print('MAE равно: ', mean_absolute_error(data_train['rougher.output.recovery'], recovery))"
   ]
  },
  {
   "cell_type": "markdown",
   "metadata": {},
   "source": [
    "**Значение MAE получается достаточно низким, что является признаком верности расчетов.**"
   ]
  },
  {
   "cell_type": "markdown",
   "metadata": {},
   "source": [
    "### Анализ недоступных признаков в тестовой выборке."
   ]
  },
  {
   "cell_type": "markdown",
   "metadata": {},
   "source": [
    "Судя по условиям задачи: **\"Некоторые параметры недоступны, потому что замеряются и/или рассчитываются значительно позже. Из-за этого в тестовой выборке отсутствуют некоторые признаки, которые могут быть в обучающей. Также в тестовом наборе нет целевых признаков.\"** Посмотрим, какие именно столбцы отсутствуют в тестовой выборке."
   ]
  },
  {
   "cell_type": "code",
   "execution_count": 19,
   "metadata": {},
   "outputs": [
    {
     "data": {
      "text/plain": [
       "{'final.output.concentrate_ag',\n",
       " 'final.output.concentrate_au',\n",
       " 'final.output.concentrate_pb',\n",
       " 'final.output.concentrate_sol',\n",
       " 'final.output.recovery',\n",
       " 'final.output.tail_ag',\n",
       " 'final.output.tail_au',\n",
       " 'final.output.tail_pb',\n",
       " 'final.output.tail_sol',\n",
       " 'primary_cleaner.output.concentrate_ag',\n",
       " 'primary_cleaner.output.concentrate_au',\n",
       " 'primary_cleaner.output.concentrate_pb',\n",
       " 'primary_cleaner.output.concentrate_sol',\n",
       " 'primary_cleaner.output.tail_ag',\n",
       " 'primary_cleaner.output.tail_au',\n",
       " 'primary_cleaner.output.tail_pb',\n",
       " 'primary_cleaner.output.tail_sol',\n",
       " 'rougher.calculation.au_pb_ratio',\n",
       " 'rougher.calculation.floatbank10_sulfate_to_au_feed',\n",
       " 'rougher.calculation.floatbank11_sulfate_to_au_feed',\n",
       " 'rougher.calculation.sulfate_to_au_concentrate',\n",
       " 'rougher.output.concentrate_ag',\n",
       " 'rougher.output.concentrate_au',\n",
       " 'rougher.output.concentrate_pb',\n",
       " 'rougher.output.concentrate_sol',\n",
       " 'rougher.output.recovery',\n",
       " 'rougher.output.tail_ag',\n",
       " 'rougher.output.tail_au',\n",
       " 'rougher.output.tail_pb',\n",
       " 'rougher.output.tail_sol',\n",
       " 'secondary_cleaner.output.tail_ag',\n",
       " 'secondary_cleaner.output.tail_au',\n",
       " 'secondary_cleaner.output.tail_pb',\n",
       " 'secondary_cleaner.output.tail_sol'}"
      ]
     },
     "execution_count": 19,
     "metadata": {},
     "output_type": "execute_result"
    }
   ],
   "source": [
    "#просмотр отсустсвующих признаков в data_train\n",
    "out = set(data_train) - set(data_test)\n",
    "out"
   ]
  },
  {
   "cell_type": "markdown",
   "metadata": {},
   "source": [
    "Отсутствуют данные по **всем этапам** по типу параметров:\n",
    "* параметры продукта (**output**)\n",
    "* рассчетные характеристики (**calculation**)"
   ]
  },
  {
   "cell_type": "markdown",
   "metadata": {},
   "source": [
    "Исходя из условий задачи можно сделать вывод, что эти данные появляются позже, поэтому они и отсутствуют. Так в тестовой выборке отсутствуют и целевые признаки, нужные для расчетов метрики качества, то необходимо их добавить."
   ]
  },
  {
   "cell_type": "code",
   "execution_count": 20,
   "metadata": {},
   "outputs": [],
   "source": [
    "#добавление целевых признаков в тестовую выборку\n",
    "data_test = data_test.merge(data_full.loc[:, ['date','rougher.output.recovery',\\\n",
    "                                              'final.output.recovery']], on='date')"
   ]
  },
  {
   "cell_type": "code",
   "execution_count": 21,
   "metadata": {},
   "outputs": [
    {
     "data": {
      "text/html": [
       "<div>\n",
       "<style scoped>\n",
       "    .dataframe tbody tr th:only-of-type {\n",
       "        vertical-align: middle;\n",
       "    }\n",
       "\n",
       "    .dataframe tbody tr th {\n",
       "        vertical-align: top;\n",
       "    }\n",
       "\n",
       "    .dataframe thead th {\n",
       "        text-align: right;\n",
       "    }\n",
       "</style>\n",
       "<table border=\"1\" class=\"dataframe\">\n",
       "  <thead>\n",
       "    <tr style=\"text-align: right;\">\n",
       "      <th></th>\n",
       "      <th>date</th>\n",
       "      <th>primary_cleaner.input.sulfate</th>\n",
       "      <th>primary_cleaner.input.depressant</th>\n",
       "      <th>primary_cleaner.input.feed_size</th>\n",
       "      <th>primary_cleaner.input.xanthate</th>\n",
       "      <th>primary_cleaner.state.floatbank8_a_air</th>\n",
       "      <th>primary_cleaner.state.floatbank8_a_level</th>\n",
       "      <th>primary_cleaner.state.floatbank8_b_air</th>\n",
       "      <th>primary_cleaner.state.floatbank8_b_level</th>\n",
       "      <th>primary_cleaner.state.floatbank8_c_air</th>\n",
       "      <th>...</th>\n",
       "      <th>secondary_cleaner.state.floatbank4_b_air</th>\n",
       "      <th>secondary_cleaner.state.floatbank4_b_level</th>\n",
       "      <th>secondary_cleaner.state.floatbank5_a_air</th>\n",
       "      <th>secondary_cleaner.state.floatbank5_a_level</th>\n",
       "      <th>secondary_cleaner.state.floatbank5_b_air</th>\n",
       "      <th>secondary_cleaner.state.floatbank5_b_level</th>\n",
       "      <th>secondary_cleaner.state.floatbank6_a_air</th>\n",
       "      <th>secondary_cleaner.state.floatbank6_a_level</th>\n",
       "      <th>rougher.output.recovery</th>\n",
       "      <th>final.output.recovery</th>\n",
       "    </tr>\n",
       "  </thead>\n",
       "  <tbody>\n",
       "    <tr>\n",
       "      <th>0</th>\n",
       "      <td>2016-09-01 00:59:59</td>\n",
       "      <td>210.800909</td>\n",
       "      <td>14.993118</td>\n",
       "      <td>8.080000</td>\n",
       "      <td>1.005021</td>\n",
       "      <td>1398.981301</td>\n",
       "      <td>-500.225577</td>\n",
       "      <td>1399.144926</td>\n",
       "      <td>-499.919735</td>\n",
       "      <td>1400.102998</td>\n",
       "      <td>...</td>\n",
       "      <td>8.016656</td>\n",
       "      <td>-501.289139</td>\n",
       "      <td>7.946562</td>\n",
       "      <td>-432.317850</td>\n",
       "      <td>4.872511</td>\n",
       "      <td>-500.037437</td>\n",
       "      <td>26.705889</td>\n",
       "      <td>-499.709414</td>\n",
       "      <td>89.993421</td>\n",
       "      <td>70.273583</td>\n",
       "    </tr>\n",
       "    <tr>\n",
       "      <th>1</th>\n",
       "      <td>2016-09-01 01:59:59</td>\n",
       "      <td>215.392455</td>\n",
       "      <td>14.987471</td>\n",
       "      <td>8.080000</td>\n",
       "      <td>0.990469</td>\n",
       "      <td>1398.777912</td>\n",
       "      <td>-500.057435</td>\n",
       "      <td>1398.055362</td>\n",
       "      <td>-499.778182</td>\n",
       "      <td>1396.151033</td>\n",
       "      <td>...</td>\n",
       "      <td>8.130979</td>\n",
       "      <td>-499.634209</td>\n",
       "      <td>7.958270</td>\n",
       "      <td>-525.839648</td>\n",
       "      <td>4.878850</td>\n",
       "      <td>-500.162375</td>\n",
       "      <td>25.019940</td>\n",
       "      <td>-499.819438</td>\n",
       "      <td>88.089657</td>\n",
       "      <td>68.910432</td>\n",
       "    </tr>\n",
       "    <tr>\n",
       "      <th>2</th>\n",
       "      <td>2016-09-01 02:59:59</td>\n",
       "      <td>215.259946</td>\n",
       "      <td>12.884934</td>\n",
       "      <td>7.786667</td>\n",
       "      <td>0.996043</td>\n",
       "      <td>1398.493666</td>\n",
       "      <td>-500.868360</td>\n",
       "      <td>1398.860436</td>\n",
       "      <td>-499.764529</td>\n",
       "      <td>1398.075709</td>\n",
       "      <td>...</td>\n",
       "      <td>8.096893</td>\n",
       "      <td>-500.827423</td>\n",
       "      <td>8.071056</td>\n",
       "      <td>-500.801673</td>\n",
       "      <td>4.905125</td>\n",
       "      <td>-499.828510</td>\n",
       "      <td>24.994862</td>\n",
       "      <td>-500.622559</td>\n",
       "      <td>88.412756</td>\n",
       "      <td>68.143213</td>\n",
       "    </tr>\n",
       "    <tr>\n",
       "      <th>3</th>\n",
       "      <td>2016-09-01 03:59:59</td>\n",
       "      <td>215.336236</td>\n",
       "      <td>12.006805</td>\n",
       "      <td>7.640000</td>\n",
       "      <td>0.863514</td>\n",
       "      <td>1399.618111</td>\n",
       "      <td>-498.863574</td>\n",
       "      <td>1397.440120</td>\n",
       "      <td>-499.211024</td>\n",
       "      <td>1400.129303</td>\n",
       "      <td>...</td>\n",
       "      <td>8.074946</td>\n",
       "      <td>-499.474407</td>\n",
       "      <td>7.897085</td>\n",
       "      <td>-500.868509</td>\n",
       "      <td>4.931400</td>\n",
       "      <td>-499.963623</td>\n",
       "      <td>24.948919</td>\n",
       "      <td>-498.709987</td>\n",
       "      <td>87.360133</td>\n",
       "      <td>67.776393</td>\n",
       "    </tr>\n",
       "    <tr>\n",
       "      <th>4</th>\n",
       "      <td>2016-09-01 04:59:59</td>\n",
       "      <td>199.099327</td>\n",
       "      <td>10.682530</td>\n",
       "      <td>7.530000</td>\n",
       "      <td>0.805575</td>\n",
       "      <td>1401.268123</td>\n",
       "      <td>-500.808305</td>\n",
       "      <td>1398.128818</td>\n",
       "      <td>-499.504543</td>\n",
       "      <td>1402.172226</td>\n",
       "      <td>...</td>\n",
       "      <td>8.054678</td>\n",
       "      <td>-500.397500</td>\n",
       "      <td>8.107890</td>\n",
       "      <td>-509.526725</td>\n",
       "      <td>4.957674</td>\n",
       "      <td>-500.360026</td>\n",
       "      <td>25.003331</td>\n",
       "      <td>-500.856333</td>\n",
       "      <td>83.236367</td>\n",
       "      <td>61.467078</td>\n",
       "    </tr>\n",
       "  </tbody>\n",
       "</table>\n",
       "<p>5 rows × 55 columns</p>\n",
       "</div>"
      ],
      "text/plain": [
       "                 date  primary_cleaner.input.sulfate  \\\n",
       "0 2016-09-01 00:59:59                     210.800909   \n",
       "1 2016-09-01 01:59:59                     215.392455   \n",
       "2 2016-09-01 02:59:59                     215.259946   \n",
       "3 2016-09-01 03:59:59                     215.336236   \n",
       "4 2016-09-01 04:59:59                     199.099327   \n",
       "\n",
       "   primary_cleaner.input.depressant  primary_cleaner.input.feed_size  \\\n",
       "0                         14.993118                         8.080000   \n",
       "1                         14.987471                         8.080000   \n",
       "2                         12.884934                         7.786667   \n",
       "3                         12.006805                         7.640000   \n",
       "4                         10.682530                         7.530000   \n",
       "\n",
       "   primary_cleaner.input.xanthate  primary_cleaner.state.floatbank8_a_air  \\\n",
       "0                        1.005021                             1398.981301   \n",
       "1                        0.990469                             1398.777912   \n",
       "2                        0.996043                             1398.493666   \n",
       "3                        0.863514                             1399.618111   \n",
       "4                        0.805575                             1401.268123   \n",
       "\n",
       "   primary_cleaner.state.floatbank8_a_level  \\\n",
       "0                               -500.225577   \n",
       "1                               -500.057435   \n",
       "2                               -500.868360   \n",
       "3                               -498.863574   \n",
       "4                               -500.808305   \n",
       "\n",
       "   primary_cleaner.state.floatbank8_b_air  \\\n",
       "0                             1399.144926   \n",
       "1                             1398.055362   \n",
       "2                             1398.860436   \n",
       "3                             1397.440120   \n",
       "4                             1398.128818   \n",
       "\n",
       "   primary_cleaner.state.floatbank8_b_level  \\\n",
       "0                               -499.919735   \n",
       "1                               -499.778182   \n",
       "2                               -499.764529   \n",
       "3                               -499.211024   \n",
       "4                               -499.504543   \n",
       "\n",
       "   primary_cleaner.state.floatbank8_c_air  ...  \\\n",
       "0                             1400.102998  ...   \n",
       "1                             1396.151033  ...   \n",
       "2                             1398.075709  ...   \n",
       "3                             1400.129303  ...   \n",
       "4                             1402.172226  ...   \n",
       "\n",
       "   secondary_cleaner.state.floatbank4_b_air  \\\n",
       "0                                  8.016656   \n",
       "1                                  8.130979   \n",
       "2                                  8.096893   \n",
       "3                                  8.074946   \n",
       "4                                  8.054678   \n",
       "\n",
       "   secondary_cleaner.state.floatbank4_b_level  \\\n",
       "0                                 -501.289139   \n",
       "1                                 -499.634209   \n",
       "2                                 -500.827423   \n",
       "3                                 -499.474407   \n",
       "4                                 -500.397500   \n",
       "\n",
       "   secondary_cleaner.state.floatbank5_a_air  \\\n",
       "0                                  7.946562   \n",
       "1                                  7.958270   \n",
       "2                                  8.071056   \n",
       "3                                  7.897085   \n",
       "4                                  8.107890   \n",
       "\n",
       "   secondary_cleaner.state.floatbank5_a_level  \\\n",
       "0                                 -432.317850   \n",
       "1                                 -525.839648   \n",
       "2                                 -500.801673   \n",
       "3                                 -500.868509   \n",
       "4                                 -509.526725   \n",
       "\n",
       "   secondary_cleaner.state.floatbank5_b_air  \\\n",
       "0                                  4.872511   \n",
       "1                                  4.878850   \n",
       "2                                  4.905125   \n",
       "3                                  4.931400   \n",
       "4                                  4.957674   \n",
       "\n",
       "   secondary_cleaner.state.floatbank5_b_level  \\\n",
       "0                                 -500.037437   \n",
       "1                                 -500.162375   \n",
       "2                                 -499.828510   \n",
       "3                                 -499.963623   \n",
       "4                                 -500.360026   \n",
       "\n",
       "   secondary_cleaner.state.floatbank6_a_air  \\\n",
       "0                                 26.705889   \n",
       "1                                 25.019940   \n",
       "2                                 24.994862   \n",
       "3                                 24.948919   \n",
       "4                                 25.003331   \n",
       "\n",
       "   secondary_cleaner.state.floatbank6_a_level  rougher.output.recovery  \\\n",
       "0                                 -499.709414                89.993421   \n",
       "1                                 -499.819438                88.089657   \n",
       "2                                 -500.622559                88.412756   \n",
       "3                                 -498.709987                87.360133   \n",
       "4                                 -500.856333                83.236367   \n",
       "\n",
       "   final.output.recovery  \n",
       "0              70.273583  \n",
       "1              68.910432  \n",
       "2              68.143213  \n",
       "3              67.776393  \n",
       "4              61.467078  \n",
       "\n",
       "[5 rows x 55 columns]"
      ]
     },
     "execution_count": 21,
     "metadata": {},
     "output_type": "execute_result"
    }
   ],
   "source": [
    "#проверка\n",
    "data_test.head()"
   ]
  },
  {
   "cell_type": "markdown",
   "metadata": {},
   "source": [
    "### Предобработка данных"
   ]
  },
  {
   "cell_type": "markdown",
   "metadata": {},
   "source": [
    "Более столбец date нам не пригодится, поэтому его можно убрать."
   ]
  },
  {
   "cell_type": "code",
   "execution_count": 22,
   "metadata": {},
   "outputs": [],
   "source": [
    "#удаление столбца date\n",
    "data_train = data_train.drop('date', axis=1)\n",
    "data_test = data_test.drop('date', axis=1)"
   ]
  },
  {
   "cell_type": "markdown",
   "metadata": {},
   "source": [
    "## Анализ данных"
   ]
  },
  {
   "cell_type": "markdown",
   "metadata": {},
   "source": [
    "### Изменение концентрации металлов (Au, Ag, Pb) на различных этапах очистки."
   ]
  },
  {
   "cell_type": "markdown",
   "metadata": {},
   "source": [
    "#### Сырье"
   ]
  },
  {
   "cell_type": "code",
   "execution_count": 23,
   "metadata": {
    "scrolled": false
   },
   "outputs": [
    {
     "data": {
      "image/png": "[encoded data removed]",
      "text/plain": [
       "<Figure size 720x432 with 1 Axes>"
      ]
     },
     "metadata": {
      "needs_background": "light"
     },
     "output_type": "display_data"
    }
   ],
   "source": [
    "#золота в сырье\n",
    "data_full['rougher.input.feed_au'].hist(bins=100, figsize=[10,6], label='золото', color='gold',\\\n",
    "                                        grid=True, alpha=0.7)\n",
    "\n",
    "#сереба в сырье\n",
    "data_full['rougher.input.feed_ag'].hist(bins=100, figsize=[10,6], label='серебро', color='grey',\\\n",
    "                                        grid=True, alpha=0.7)\n",
    "\n",
    "#свинца в сырье\n",
    "data_full['rougher.input.feed_pb'].hist(bins=100, figsize=[10,6], label='свинец', color='red',\\\n",
    "                                        grid=True, alpha=0.7)\n",
    "\n",
    "plt.xlabel(\"Концентрация металла\")\n",
    "plt.ylabel(\"Количество наблюдений\")\n",
    "plt.title(\"График распределения металлов на этапе Сырья\")\n",
    "plt.legend()\n",
    "plt.show()"
   ]
  },
  {
   "cell_type": "markdown",
   "metadata": {},
   "source": [
    "Вывод: **В сырье больше всего серебра, золото на втором месте, свинец на третьем.**"
   ]
  },
  {
   "cell_type": "markdown",
   "metadata": {},
   "source": [
    "#### Черновой концентрат"
   ]
  },
  {
   "cell_type": "code",
   "execution_count": 24,
   "metadata": {},
   "outputs": [
    {
     "data": {
      "image/png": "[encoded data removed]",
      "text/plain": [
       "<Figure size 720x432 with 1 Axes>"
      ]
     },
     "metadata": {
      "needs_background": "light"
     },
     "output_type": "display_data"
    }
   ],
   "source": [
    "#золота в черновом концентрате после флотации\n",
    "data_full['rougher.output.concentrate_au'].hist(bins=100, figsize=[10,6], label='золото',\\\n",
    "                                                color='gold', grid=True, alpha=0.7)\n",
    "\n",
    "#сереба в черновом концентрате после флотации\n",
    "data_full['rougher.output.concentrate_ag'].hist(bins=100, figsize=[10,6], label='серебро',\\\n",
    "                                                color='grey', grid=True, alpha=0.7)\n",
    "\n",
    "#свинца в черновом концентрате после флотации\n",
    "data_full['rougher.output.concentrate_pb'].hist(bins=100, figsize=[10,6], label='свинец',\\\n",
    "                                                color='red', grid=True, alpha=0.7)\n",
    "\n",
    "plt.xlabel(\"Концентрация металла\")\n",
    "plt.ylabel(\"Количество наблюдений\")\n",
    "plt.title(\"График распределения металлов на этапе Черновой концентрат\")\n",
    "plt.legend()\n",
    "plt.show()"
   ]
  },
  {
   "cell_type": "markdown",
   "metadata": {},
   "source": [
    "Вывод: **В черновом концентрате после флотации больше всего золота, серебро на втором месте, свинец на третьем. Если сравнивать значения концентрации металлов, то по сравнению с сырьем все показатели увеличились.**"
   ]
  },
  {
   "cell_type": "markdown",
   "metadata": {},
   "source": [
    "#### Первичная очистка"
   ]
  },
  {
   "cell_type": "code",
   "execution_count": 25,
   "metadata": {},
   "outputs": [
    {
     "data": {
      "image/png": "[encoded data removed]",
      "text/plain": [
       "<Figure size 720x432 with 1 Axes>"
      ]
     },
     "metadata": {
      "needs_background": "light"
     },
     "output_type": "display_data"
    }
   ],
   "source": [
    "#золота после Первичной очистки\n",
    "data_full['primary_cleaner.output.concentrate_au'].hist(bins=100, figsize=[10,6], label='золото',\\\n",
    "                                                        color='gold', grid=True, alpha=0.7)\n",
    "\n",
    "#сереба после Первичной очистки\n",
    "data_full['primary_cleaner.output.concentrate_ag'].hist(bins=100, figsize=[10,6], label='серебро',\\\n",
    "                                                        color='grey', grid=True, alpha=0.7)\n",
    "\n",
    "#свинца после Первичной очистки\n",
    "data_full['primary_cleaner.output.concentrate_pb'].hist(bins=100, figsize=[10,6], label='свинец',\\\n",
    "                                                        color='red', grid=True, alpha=0.7)\n",
    "\n",
    "plt.xlabel(\"Концентрация металла\")\n",
    "plt.ylabel(\"Количество наблюдений\")\n",
    "plt.title(\"График распределения металлов на этапе Первичная очистка\")\n",
    "plt.legend()\n",
    "plt.show()"
   ]
  },
  {
   "cell_type": "markdown",
   "metadata": {},
   "source": [
    "Вывод: **После первичного этапа очистки больше всего золота, свинец на втором месте, серебро на третьем. Если сравнивать значения концентрации металлов, то по сравнению с черновым концентратом после флотации все показатели уменьшились, при этом золота незначительно по сравнению с остальными.**"
   ]
  },
  {
   "cell_type": "markdown",
   "metadata": {},
   "source": [
    "#### Финальная концентрация"
   ]
  },
  {
   "cell_type": "code",
   "execution_count": 26,
   "metadata": {},
   "outputs": [
    {
     "data": {
      "image/png": "[encoded data removed]",
      "text/plain": [
       "<Figure size 720x432 with 1 Axes>"
      ]
     },
     "metadata": {
      "needs_background": "light"
     },
     "output_type": "display_data"
    }
   ],
   "source": [
    "#золота после Финальной очистки\n",
    "data_full['final.output.concentrate_au'].hist(bins=100, figsize=[10,6], label='золото', color='gold',\\\n",
    "                                              grid=True, alpha=0.7)\n",
    "\n",
    "#сереба после Финальной очистки\n",
    "data_full['final.output.concentrate_ag'].hist(bins=100, figsize=[10,6], label='серебро', color='grey',\\\n",
    "                                              grid=True, alpha=0.7)\n",
    "\n",
    "#свинца после Финальной очистки\n",
    "data_full['final.output.concentrate_pb'].hist(bins=100, figsize=[10,6], label='свинец', color='red',\\\n",
    "                                              grid=True, alpha=0.7)\n",
    "\n",
    "plt.xlabel(\"Концентрация металла\")\n",
    "plt.ylabel(\"Количество наблюдений\")\n",
    "plt.title(\"График распределения металлов на этапе Финальной концентрации\")\n",
    "plt.legend()\n",
    "plt.show()"
   ]
  },
  {
   "cell_type": "markdown",
   "metadata": {},
   "source": [
    "Вывод: **После Финального этапа очистки больше всего золота, серебро на втором месте, свинец на третьем. Если сравнивать значения концентрации металлов, то по сравнению с Первичной очисткой: золота стало больше практически вдвое, показатели серебра так же увеличились почти вдвое, а свинец увеличился лишь немного.**"
   ]
  },
  {
   "cell_type": "markdown",
   "metadata": {},
   "source": [
    "#### Общий вывод по этапу"
   ]
  },
  {
   "cell_type": "markdown",
   "metadata": {},
   "source": [
    "По сравнению с этапом Сырья концентрация золота стала больше практически на 300%, показатели серебра так же увеличились почти на 30%, а свинец увеличился на 40%."
   ]
  },
  {
   "cell_type": "markdown",
   "metadata": {},
   "source": [
    "На всех графиках есть скопление значений возле 0, что может говорить об **аномалии.**"
   ]
  },
  {
   "cell_type": "markdown",
   "metadata": {},
   "source": [
    "### Сравнение распределения размеров гранул сырья на обучающей и тестовой выборках."
   ]
  },
  {
   "cell_type": "markdown",
   "metadata": {},
   "source": [
    "#### Сырье"
   ]
  },
  {
   "cell_type": "code",
   "execution_count": 27,
   "metadata": {},
   "outputs": [
    {
     "data": {
      "image/png": "[encoded data removed]",
      "text/plain": [
       "<Figure size 720x432 with 1 Axes>"
      ]
     },
     "metadata": {
      "needs_background": "light"
     },
     "output_type": "display_data"
    }
   ],
   "source": [
    "#размер гранул в сырье\n",
    "data_train['rougher.input.feed_size'].plot.kde(figsize=[10,6], label='обучающая',\\\n",
    "                                           color='green', grid=True, alpha=0.7)\n",
    "data_test['rougher.input.feed_size'].plot.kde(figsize=[10,6], label='тестовая',\\\n",
    "                                          color='blue', grid=True, alpha=0.7)\n",
    "plt.xlabel(\"Размер гранул\")\n",
    "plt.ylabel(\"Количество наблюдений\")\n",
    "plt.title(\"График распределения размеров гранул на этапе Сырья по выборкам\")\n",
    "plt.legend()\n",
    "plt.show()"
   ]
  },
  {
   "cell_type": "markdown",
   "metadata": {},
   "source": [
    "Вывод: Наблюдается распределение нормального типа со смещением влево, так же присутствуют выбросы. Размер гранул для **обучающей выборки** больше в районе 50, для **тестовой же** ниже 50."
   ]
  },
  {
   "cell_type": "markdown",
   "metadata": {},
   "source": [
    "#### Первичная очистка"
   ]
  },
  {
   "cell_type": "code",
   "execution_count": 28,
   "metadata": {},
   "outputs": [
    {
     "data": {
      "image/png": "[encoded data removed]",
      "text/plain": [
       "<Figure size 720x432 with 1 Axes>"
      ]
     },
     "metadata": {
      "needs_background": "light"
     },
     "output_type": "display_data"
    }
   ],
   "source": [
    "#размер гранул после Первичной очистки\n",
    "data_train['primary_cleaner.input.feed_size'].plot.kde(figsize=[10,6], label='обучающая',\\\n",
    "                                           color='green', grid=True, alpha=0.7)\n",
    "data_test['primary_cleaner.input.feed_size'].plot.kde(figsize=[10,6], label='тестовая',\\\n",
    "                                          color='blue', grid=True, alpha=0.7)\n",
    "plt.xlabel(\"Размер гранул\")\n",
    "plt.ylabel(\"Количество наблюдений\")\n",
    "plt.title(\"График распределения размеров гранул на этапе Первичная очистка по выборкам\")\n",
    "plt.legend()\n",
    "plt.show()"
   ]
  },
  {
   "cell_type": "markdown",
   "metadata": {},
   "source": [
    "Вывод: на данном этапе размеры гранул стали схожими. При этом количество наблюдей в **обучающей выборке** значительно выше чем в **тестовой.**"
   ]
  },
  {
   "cell_type": "markdown",
   "metadata": {},
   "source": [
    "#### Общий вывод по этапу"
   ]
  },
  {
   "cell_type": "markdown",
   "metadata": {},
   "source": [
    "Значимых различий у выборок **data_test, data_train** не наблюдается."
   ]
  },
  {
   "cell_type": "markdown",
   "metadata": {},
   "source": [
    "### Исследование суммарной концентрации всех веществ: в сырье, в черновом и финальном концентратах."
   ]
  },
  {
   "cell_type": "markdown",
   "metadata": {},
   "source": [
    "Для данного этапа создадим переменные, куда сохраним общие показатели концентрации веществ."
   ]
  },
  {
   "cell_type": "code",
   "execution_count": 29,
   "metadata": {},
   "outputs": [
    {
     "data": {
      "image/png": "[encoded data removed]",
      "text/plain": [
       "<Figure size 720x432 with 1 Axes>"
      ]
     },
     "metadata": {
      "needs_background": "light"
     },
     "output_type": "display_data"
    }
   ],
   "source": [
    "#создание переменных концентрации веществ\n",
    "rougher_sum = (data_train['rougher.input.feed_au'] +\\\n",
    "              data_train['rougher.input.feed_ag'] +\\\n",
    "              data_train['rougher.input.feed_pb'] +\\\n",
    "              data_train['rougher.input.feed_sol'])\n",
    "afterflot_sum = (data_train['rougher.output.concentrate_au'] +\\\n",
    "                    data_train['rougher.output.concentrate_ag'] +\\\n",
    "                    data_train['rougher.output.concentrate_pb'] +\\\n",
    "                    data_train['rougher.output.concentrate_sol'])\n",
    "final_sum = (data_train['final.output.concentrate_au'] +\\\n",
    "            data_train['final.output.concentrate_ag'] +\\\n",
    "            data_train['final.output.concentrate_pb'] +\\\n",
    "            data_train['final.output.concentrate_sol'])\n",
    "\n",
    "#построение графиков\n",
    "rougher_sum.hist(bins=100, figsize=[10,6], label='сырье', color='red', grid=True, alpha=0.7)\n",
    "afterflot_sum.hist(bins=100, figsize=[10,6], label='черновой концентрат', color='blue', grid=True,\\\n",
    "                       alpha=0.7)\n",
    "final_sum.hist(bins=100, figsize=[10,6], label='финальная концентрация', color='green', grid=True,\\\n",
    "               alpha=0.7)\n",
    "plt.xlabel(\"Концентрация веществ\")\n",
    "plt.ylabel(\"Количество наблюдений\")\n",
    "plt.title(\"График суммарной концентрации всех веществ на всех этапах\")\n",
    "plt.legend()\n",
    "plt.show()"
   ]
  },
  {
   "cell_type": "markdown",
   "metadata": {},
   "source": [
    "Вывод: **Суммарная концентрация всех веществ увеличивается с каждым этапом, а диапазон уменьшается. Кроме этого наблюдаются концентрации около значения 0.**"
   ]
  },
  {
   "cell_type": "markdown",
   "metadata": {},
   "source": [
    "### Общий Вывод"
   ]
  },
  {
   "cell_type": "markdown",
   "metadata": {},
   "source": [
    "Вывод:\n",
    "* По сравнению с этапом Сырья концентрация золота стала больше практически на 300%, показатели серебра так же увеличились почти на 30%, а свинец увеличился на 40%.\n",
    "* Значимых различий по распределению размеров гранул сырья у выборок data_test, data_train не наблюдается\n",
    "* Суммарная концентрация всех веществ увеличивается с каждым этапом, а диапазон уменьшается. Кроме этого наблюдаются концентрации около значения 0."
   ]
  },
  {
   "cell_type": "markdown",
   "metadata": {},
   "source": [
    "## Модель"
   ]
  },
  {
   "cell_type": "markdown",
   "metadata": {},
   "source": [
    "### Функция для вычисления итоговой sMAPE"
   ]
  },
  {
   "cell_type": "markdown",
   "metadata": {},
   "source": [
    "Напишем функцию для вычисления sMAPE. В качестве входных данных будем использовать:\n",
    "* значение целевого признака для объекта с порядковым номером i  в выборке, на которой измеряется качество(target).\n",
    "* значение предсказания для объекта с порядковым номером i, например, в тестовой выборке(prediction)."
   ]
  },
  {
   "cell_type": "code",
   "execution_count": 30,
   "metadata": {},
   "outputs": [],
   "source": [
    "#функция расчета sMAPE\n",
    "def smape_calc(target, predict):\n",
    "    smape = ((1 / len(target))) * np.sum(2 * (np.abs(target - predict)) / (np.abs(target) + \\\n",
    "                                                                     np.abs(predict))) * 100\n",
    "    return smape"
   ]
  },
  {
   "cell_type": "code",
   "execution_count": 31,
   "metadata": {},
   "outputs": [],
   "source": [
    "#функция расчета итоговой sMAPE\n",
    "def smape_final_calc(smape_rougher, smape_final):\n",
    "    smape_final = 0.25 * smape_rougher + 0.75 * smape_final\n",
    "    return smape_final"
   ]
  },
  {
   "cell_type": "code",
   "execution_count": 32,
   "metadata": {},
   "outputs": [],
   "source": [
    "#счетчик функции\n",
    "smape_score = make_scorer(smape_calc, greater_is_better = False)"
   ]
  },
  {
   "cell_type": "markdown",
   "metadata": {},
   "source": [
    "### Обучение разных моделей и оценка их качества кросс-валидацией, выбор лучшей из них и проверка ее на тестовой выборке."
   ]
  },
  {
   "cell_type": "markdown",
   "metadata": {},
   "source": [
    "#### Подготовка к обучению"
   ]
  },
  {
   "cell_type": "code",
   "execution_count": 33,
   "metadata": {},
   "outputs": [],
   "source": [
    "#удаление аномалий из датасетов возле значения 0\n",
    "data_train = data_train[(data_train['rougher.input.feed_au'] != 0) &\n",
    "                        (data_train['rougher.input.feed_ag'] != 0) &\n",
    "                        (data_train['rougher.input.feed_pb'] != 0) &\n",
    "                        (data_train['rougher.input.feed_sol'] != 0) &\n",
    "                        (data_train['rougher.output.concentrate_au'] != 0) &\n",
    "                        (data_train['rougher.output.concentrate_ag'] != 0) &\n",
    "                        (data_train['rougher.output.concentrate_pb'] != 0) &\n",
    "                        (data_train['rougher.output.concentrate_sol'] != 0) &\n",
    "                        (data_train['final.output.concentrate_au'] != 0) &\n",
    "                        (data_train['final.output.concentrate_ag'] != 0) &\n",
    "                        (data_train['final.output.concentrate_pb'] != 0) &\n",
    "                        (data_train['final.output.concentrate_sol'] != 0)]\n",
    "                       \n",
    "data_full = data_full[(data_full['rougher.input.feed_au'] != 0) &\n",
    "                        (data_full['rougher.input.feed_ag'] != 0) &\n",
    "                        (data_full['rougher.input.feed_pb'] != 0) &\n",
    "                        (data_full['rougher.input.feed_sol'] != 0) &\n",
    "                        (data_full['rougher.output.concentrate_au'] != 0) &\n",
    "                        (data_full['rougher.output.concentrate_ag'] != 0) &\n",
    "                        (data_full['rougher.output.concentrate_pb'] != 0) &\n",
    "                        (data_full['rougher.output.concentrate_sol'] != 0) &\n",
    "                        (data_full['final.output.concentrate_au'] != 0) &\n",
    "                        (data_full['final.output.concentrate_ag'] != 0) &\n",
    "                        (data_full['final.output.concentrate_pb'] != 0) &\n",
    "                        (data_full['final.output.concentrate_sol'] != 0)]"
   ]
  },
  {
   "cell_type": "markdown",
   "metadata": {},
   "source": [
    "Необходимо удалить отсутствующие в тестовой выборке признаки (за исключением целевых признаков) из тренировочной выборки."
   ]
  },
  {
   "cell_type": "code",
   "execution_count": 34,
   "metadata": {},
   "outputs": [],
   "source": [
    "#отсутствующие признаки в тестовой выборке\n",
    "missed = set(data_train.columns) - set(data_test.columns)\n",
    "delete_missed = missed - set(['rougher.output.recovery','final.output.recovery'])\n",
    "data_train = data_train.drop(columns=delete_missed, axis=1)"
   ]
  },
  {
   "cell_type": "code",
   "execution_count": 35,
   "metadata": {},
   "outputs": [],
   "source": [
    "#подготовка признаков для rougher\n",
    "features_train = data_train.drop(['rougher.output.recovery', 'final.output.recovery'], axis=1)\n",
    "target_train_rougher = data_train['rougher.output.recovery']\n",
    "\n",
    "#подготовка признаков для final\n",
    "target_train_final = data_train['final.output.recovery']\n",
    "\n",
    "#стандартизация для Логистической регрессии для избежения ловушки уменьшения значимости признаков\n",
    "scaler = StandardScaler()\n",
    "scaler.fit(features_train)\n",
    "features_train_scaled = scaler.transform(features_train)"
   ]
  },
  {
   "cell_type": "markdown",
   "metadata": {},
   "source": [
    "#### Модель Решающего дерева"
   ]
  },
  {
   "cell_type": "code",
   "execution_count": 61,
   "metadata": {
    "scrolled": true
   },
   "outputs": [
    {
     "name": "stderr",
     "output_type": "stream",
     "text": [
      "[Parallel(n_jobs=-1)]: Using backend SequentialBackend with 1 concurrent workers.\n",
      "[Parallel(n_jobs=-1)]: Done   1 out of   1 | elapsed:    0.1s remaining:    0.0s\n",
      "[Parallel(n_jobs=-1)]: Done   2 out of   2 | elapsed:    0.1s remaining:    0.0s\n",
      "[Parallel(n_jobs=-1)]: Done   3 out of   3 | elapsed:    0.2s remaining:    0.0s\n",
      "[Parallel(n_jobs=-1)]: Done   3 out of   3 | elapsed:    0.2s finished\n"
     ]
    },
    {
     "name": "stdout",
     "output_type": "stream",
     "text": [
      "[CV] START .....................................................................\n",
      "[CV] END ............................... score: (test=-9.787) total time=   0.1s\n",
      "[CV] START .....................................................................\n",
      "[CV] END ............................... score: (test=-7.781) total time=   0.1s\n",
      "[CV] START .....................................................................\n",
      "[CV] END ............................... score: (test=-9.914) total time=   0.1s\n"
     ]
    },
    {
     "name": "stderr",
     "output_type": "stream",
     "text": [
      "[Parallel(n_jobs=-1)]: Using backend SequentialBackend with 1 concurrent workers.\n",
      "[Parallel(n_jobs=-1)]: Done   1 out of   1 | elapsed:    0.1s remaining:    0.0s\n"
     ]
    },
    {
     "name": "stdout",
     "output_type": "stream",
     "text": [
      "[CV] START .....................................................................\n",
      "[CV] END .............................. score: (test=-10.098) total time=   0.1s\n",
      "[CV] START .....................................................................\n",
      "[CV] END ............................... score: (test=-6.004) total time=   0.1s\n",
      "[CV] START .....................................................................\n",
      "[CV] END ............................... score: (test=-8.346) total time=   0.1s\n"
     ]
    },
    {
     "name": "stderr",
     "output_type": "stream",
     "text": [
      "[Parallel(n_jobs=-1)]: Done   2 out of   2 | elapsed:    0.2s remaining:    0.0s\n",
      "[Parallel(n_jobs=-1)]: Done   3 out of   3 | elapsed:    0.3s remaining:    0.0s\n",
      "[Parallel(n_jobs=-1)]: Done   3 out of   3 | elapsed:    0.3s finished\n",
      "[Parallel(n_jobs=-1)]: Using backend SequentialBackend with 1 concurrent workers.\n",
      "[Parallel(n_jobs=-1)]: Done   1 out of   1 | elapsed:    0.1s remaining:    0.0s\n"
     ]
    },
    {
     "name": "stdout",
     "output_type": "stream",
     "text": [
      "[CV] START .....................................................................\n",
      "[CV] END ............................... score: (test=-9.592) total time=   0.1s\n",
      "[CV] START .....................................................................\n",
      "[CV] END ............................... score: (test=-6.990) total time=   0.2s\n",
      "[CV] START .....................................................................\n",
      "[CV] END ............................... score: (test=-8.056) total time=   0.1s\n"
     ]
    },
    {
     "name": "stderr",
     "output_type": "stream",
     "text": [
      "[Parallel(n_jobs=-1)]: Done   2 out of   2 | elapsed:    0.3s remaining:    0.0s\n",
      "[Parallel(n_jobs=-1)]: Done   3 out of   3 | elapsed:    0.5s remaining:    0.0s\n",
      "[Parallel(n_jobs=-1)]: Done   3 out of   3 | elapsed:    0.5s finished\n",
      "[Parallel(n_jobs=-1)]: Using backend SequentialBackend with 1 concurrent workers.\n"
     ]
    },
    {
     "name": "stdout",
     "output_type": "stream",
     "text": [
      "[CV] START .....................................................................\n",
      "[CV] END ............................... score: (test=-9.489) total time=   0.2s\n",
      "[CV] START .....................................................................\n"
     ]
    },
    {
     "name": "stderr",
     "output_type": "stream",
     "text": [
      "[Parallel(n_jobs=-1)]: Done   1 out of   1 | elapsed:    0.2s remaining:    0.0s\n"
     ]
    },
    {
     "name": "stdout",
     "output_type": "stream",
     "text": [
      "[CV] END ............................... score: (test=-7.429) total time=   0.2s\n",
      "[CV] START .....................................................................\n"
     ]
    },
    {
     "name": "stderr",
     "output_type": "stream",
     "text": [
      "[Parallel(n_jobs=-1)]: Done   2 out of   2 | elapsed:    0.4s remaining:    0.0s\n"
     ]
    },
    {
     "name": "stdout",
     "output_type": "stream",
     "text": [
      "[CV] END ............................... score: (test=-8.435) total time=   0.2s\n"
     ]
    },
    {
     "name": "stderr",
     "output_type": "stream",
     "text": [
      "[Parallel(n_jobs=-1)]: Done   3 out of   3 | elapsed:    0.7s remaining:    0.0s\n",
      "[Parallel(n_jobs=-1)]: Done   3 out of   3 | elapsed:    0.7s finished\n",
      "[Parallel(n_jobs=-1)]: Using backend SequentialBackend with 1 concurrent workers.\n"
     ]
    },
    {
     "name": "stdout",
     "output_type": "stream",
     "text": [
      "[CV] START .....................................................................\n",
      "[CV] END ............................... score: (test=-9.573) total time=   0.2s\n",
      "[CV] START .....................................................................\n"
     ]
    },
    {
     "name": "stderr",
     "output_type": "stream",
     "text": [
      "[Parallel(n_jobs=-1)]: Done   1 out of   1 | elapsed:    0.2s remaining:    0.0s\n"
     ]
    },
    {
     "name": "stdout",
     "output_type": "stream",
     "text": [
      "[CV] END ............................... score: (test=-7.192) total time=   0.2s\n",
      "[CV] START .....................................................................\n"
     ]
    },
    {
     "name": "stderr",
     "output_type": "stream",
     "text": [
      "[Parallel(n_jobs=-1)]: Done   2 out of   2 | elapsed:    0.5s remaining:    0.0s\n"
     ]
    },
    {
     "name": "stdout",
     "output_type": "stream",
     "text": [
      "[CV] END ............................... score: (test=-8.054) total time=   0.2s\n",
      "DecisionTreeRegressor(max_depth=2, random_state=12345) \n",
      " 8.14928303781456\n"
     ]
    },
    {
     "name": "stderr",
     "output_type": "stream",
     "text": [
      "[Parallel(n_jobs=-1)]: Done   3 out of   3 | elapsed:    0.7s remaining:    0.0s\n",
      "[Parallel(n_jobs=-1)]: Done   3 out of   3 | elapsed:    0.7s finished\n"
     ]
    }
   ],
   "source": [
    "#подбор идеальной модели для предсказания rougher\n",
    "best_model_tree_rougher = None\n",
    "best_score_tree_rougher = 100\n",
    "score_rougher = []\n",
    "for depth in range(1, 6):\n",
    "    #rougher\n",
    "    model_tree_rougher = DecisionTreeRegressor(random_state=12345, max_depth=depth)\n",
    "    model_tree_rougher.fit(features_train, target_train_rougher)\n",
    "    score_rougher = cross_val_score(model_tree_rougher, features_train, target_train_rougher,\\\n",
    "                             scoring=smape_score, verbose=10, n_jobs=-1, cv=3)\n",
    "    final_score_rougher = (score_rougher * -1).mean()\n",
    "    if final_score_rougher < best_score_tree_rougher:\n",
    "        best_score_tree_rougher = final_score_rougher\n",
    "        best_model_tree_rougher = model_tree_rougher\n",
    "print (best_model_tree_rougher, \"\\n\", best_score_tree_rougher)"
   ]
  },
  {
   "cell_type": "markdown",
   "metadata": {},
   "source": [
    "**Лучшие показатели rougher: DecisionTreeRegressor(max_depth=2), 8.14928303781456**"
   ]
  },
  {
   "cell_type": "code",
   "execution_count": 63,
   "metadata": {
    "scrolled": true
   },
   "outputs": [
    {
     "name": "stderr",
     "output_type": "stream",
     "text": [
      "[Parallel(n_jobs=-1)]: Using backend SequentialBackend with 1 concurrent workers.\n",
      "[Parallel(n_jobs=-1)]: Done   1 out of   1 | elapsed:    0.1s remaining:    0.0s\n",
      "[Parallel(n_jobs=-1)]: Done   2 out of   2 | elapsed:    0.1s remaining:    0.0s\n",
      "[Parallel(n_jobs=-1)]: Done   3 out of   3 | elapsed:    0.2s remaining:    0.0s\n",
      "[Parallel(n_jobs=-1)]: Done   3 out of   3 | elapsed:    0.2s finished\n"
     ]
    },
    {
     "name": "stdout",
     "output_type": "stream",
     "text": [
      "[CV] START .....................................................................\n",
      "[CV] END ............................... score: (test=-9.391) total time=   0.1s\n",
      "[CV] START .....................................................................\n",
      "[CV] END .............................. score: (test=-10.092) total time=   0.1s\n",
      "[CV] START .....................................................................\n",
      "[CV] END .............................. score: (test=-11.489) total time=   0.1s\n"
     ]
    },
    {
     "name": "stderr",
     "output_type": "stream",
     "text": [
      "[Parallel(n_jobs=-1)]: Using backend SequentialBackend with 1 concurrent workers.\n",
      "[Parallel(n_jobs=-1)]: Done   1 out of   1 | elapsed:    0.1s remaining:    0.0s\n"
     ]
    },
    {
     "name": "stdout",
     "output_type": "stream",
     "text": [
      "[CV] START .....................................................................\n",
      "[CV] END ............................... score: (test=-9.937) total time=   0.1s\n",
      "[CV] START .....................................................................\n",
      "[CV] END ............................... score: (test=-9.411) total time=   0.1s\n",
      "[CV] START .....................................................................\n",
      "[CV] END .............................. score: (test=-13.278) total time=   0.1s\n"
     ]
    },
    {
     "name": "stderr",
     "output_type": "stream",
     "text": [
      "[Parallel(n_jobs=-1)]: Done   2 out of   2 | elapsed:    0.2s remaining:    0.0s\n",
      "[Parallel(n_jobs=-1)]: Done   3 out of   3 | elapsed:    0.3s remaining:    0.0s\n",
      "[Parallel(n_jobs=-1)]: Done   3 out of   3 | elapsed:    0.3s finished\n",
      "[Parallel(n_jobs=-1)]: Using backend SequentialBackend with 1 concurrent workers.\n",
      "[Parallel(n_jobs=-1)]: Done   1 out of   1 | elapsed:    0.2s remaining:    0.0s\n"
     ]
    },
    {
     "name": "stdout",
     "output_type": "stream",
     "text": [
      "[CV] START .....................................................................\n",
      "[CV] END ............................... score: (test=-9.389) total time=   0.2s\n",
      "[CV] START .....................................................................\n",
      "[CV] END .............................. score: (test=-10.551) total time=   0.2s\n",
      "[CV] START .....................................................................\n",
      "[CV] END .............................. score: (test=-14.640) total time=   0.2s\n"
     ]
    },
    {
     "name": "stderr",
     "output_type": "stream",
     "text": [
      "[Parallel(n_jobs=-1)]: Done   2 out of   2 | elapsed:    0.3s remaining:    0.0s\n",
      "[Parallel(n_jobs=-1)]: Done   3 out of   3 | elapsed:    0.5s remaining:    0.0s\n",
      "[Parallel(n_jobs=-1)]: Done   3 out of   3 | elapsed:    0.5s finished\n",
      "[Parallel(n_jobs=-1)]: Using backend SequentialBackend with 1 concurrent workers.\n",
      "[Parallel(n_jobs=-1)]: Done   1 out of   1 | elapsed:    0.2s remaining:    0.0s\n"
     ]
    },
    {
     "name": "stdout",
     "output_type": "stream",
     "text": [
      "[CV] START .....................................................................\n",
      "[CV] END .............................. score: (test=-10.839) total time=   0.2s\n",
      "[CV] START .....................................................................\n",
      "[CV] END ............................... score: (test=-9.903) total time=   0.2s\n",
      "[CV] START .....................................................................\n",
      "[CV] END .............................. score: (test=-13.542) total time=   0.2s\n"
     ]
    },
    {
     "name": "stderr",
     "output_type": "stream",
     "text": [
      "[Parallel(n_jobs=-1)]: Done   2 out of   2 | elapsed:    0.4s remaining:    0.0s\n",
      "[Parallel(n_jobs=-1)]: Done   3 out of   3 | elapsed:    0.6s remaining:    0.0s\n",
      "[Parallel(n_jobs=-1)]: Done   3 out of   3 | elapsed:    0.6s finished\n",
      "[Parallel(n_jobs=-1)]: Using backend SequentialBackend with 1 concurrent workers.\n"
     ]
    },
    {
     "name": "stdout",
     "output_type": "stream",
     "text": [
      "[CV] START .....................................................................\n",
      "[CV] END .............................. score: (test=-12.753) total time=   0.2s\n",
      "[CV] START .....................................................................\n"
     ]
    },
    {
     "name": "stderr",
     "output_type": "stream",
     "text": [
      "[Parallel(n_jobs=-1)]: Done   1 out of   1 | elapsed:    0.2s remaining:    0.0s\n"
     ]
    },
    {
     "name": "stdout",
     "output_type": "stream",
     "text": [
      "[CV] END ............................... score: (test=-9.946) total time=   0.3s\n",
      "[CV] START .....................................................................\n"
     ]
    },
    {
     "name": "stderr",
     "output_type": "stream",
     "text": [
      "[Parallel(n_jobs=-1)]: Done   2 out of   2 | elapsed:    0.5s remaining:    0.0s\n"
     ]
    },
    {
     "name": "stdout",
     "output_type": "stream",
     "text": [
      "[CV] END .............................. score: (test=-14.760) total time=   0.2s\n",
      "DecisionTreeRegressor(max_depth=1, random_state=12345) \n",
      " 8.272569952135882\n"
     ]
    },
    {
     "name": "stderr",
     "output_type": "stream",
     "text": [
      "[Parallel(n_jobs=-1)]: Done   3 out of   3 | elapsed:    0.8s remaining:    0.0s\n",
      "[Parallel(n_jobs=-1)]: Done   3 out of   3 | elapsed:    0.8s finished\n"
     ]
    }
   ],
   "source": [
    "#подбор идеальной модели для предсказания final\n",
    "best_model_tree_final = None\n",
    "best_score_tree_final = 100\n",
    "score_final = []\n",
    "for depth in range(1, 6):\n",
    "    #final\n",
    "    model_tree_final = DecisionTreeRegressor(random_state=12345, max_depth=depth)\n",
    "    model_tree_final.fit(features_train, target_train_final)\n",
    "    score_final = cross_val_score(model_tree_final, features_train, target_train_final,\\\n",
    "                             scoring=smape_score, verbose=10, n_jobs=-1, cv=3)\n",
    "    final_score_final = (score_rougher * -1).mean()\n",
    "    if final_score_final < best_score_tree_final:\n",
    "        best_score_tree_final = final_score_final\n",
    "        best_model_tree_final = model_tree_final\n",
    "print (best_model_tree_final, \"\\n\", best_score_tree_final)"
   ]
  },
  {
   "cell_type": "markdown",
   "metadata": {},
   "source": [
    "**Лучшие показатели final: DecisionTreeRegressor(max_depth=1), sMAPE= 8.272569952135882**"
   ]
  },
  {
   "cell_type": "code",
   "execution_count": 55,
   "metadata": {},
   "outputs": [
    {
     "name": "stdout",
     "output_type": "stream",
     "text": [
      "8.241748223555552\n"
     ]
    }
   ],
   "source": [
    "#sMAPE итоговый\n",
    "result_smape_tree = smape_final_calc(best_score_tree_rougher, best_score_tree_final)\n",
    "print(result_smape_tree)"
   ]
  },
  {
   "cell_type": "markdown",
   "metadata": {},
   "source": [
    "Вывод: **Лучшая модель с параметрами:** \n",
    "* rougher: DecisionTreeRegressor (max_depth=2)\n",
    "* final: DecisionTreeRegressor (max_depth=1)\n",
    "* sMAPE = 8.241748223555552."
   ]
  },
  {
   "cell_type": "markdown",
   "metadata": {},
   "source": [
    "#### Модель Случайного леса"
   ]
  },
  {
   "cell_type": "code",
   "execution_count": 59,
   "metadata": {
    "scrolled": true
   },
   "outputs": [
    {
     "name": "stderr",
     "output_type": "stream",
     "text": [
      "[Parallel(n_jobs=-1)]: Using backend SequentialBackend with 1 concurrent workers.\n"
     ]
    },
    {
     "name": "stdout",
     "output_type": "stream",
     "text": [
      "[CV] START .....................................................................\n",
      "[CV] END .............................. score: (test=-10.361) total time=   0.4s\n",
      "[CV] START .....................................................................\n"
     ]
    },
    {
     "name": "stderr",
     "output_type": "stream",
     "text": [
      "[Parallel(n_jobs=-1)]: Done   1 out of   1 | elapsed:    0.4s remaining:    0.0s\n"
     ]
    },
    {
     "name": "stdout",
     "output_type": "stream",
     "text": [
      "[CV] END ............................... score: (test=-7.155) total time=   0.4s\n",
      "[CV] START .....................................................................\n"
     ]
    },
    {
     "name": "stderr",
     "output_type": "stream",
     "text": [
      "[Parallel(n_jobs=-1)]: Done   2 out of   2 | elapsed:    0.8s remaining:    0.0s\n"
     ]
    },
    {
     "name": "stdout",
     "output_type": "stream",
     "text": [
      "[CV] END ............................... score: (test=-5.141) total time=   0.4s\n",
      "[CV] START .....................................................................\n"
     ]
    },
    {
     "name": "stderr",
     "output_type": "stream",
     "text": [
      "[Parallel(n_jobs=-1)]: Done   3 out of   3 | elapsed:    1.3s remaining:    0.0s\n"
     ]
    },
    {
     "name": "stdout",
     "output_type": "stream",
     "text": [
      "[CV] END ............................... score: (test=-6.857) total time=   0.4s\n",
      "[CV] START .....................................................................\n"
     ]
    },
    {
     "name": "stderr",
     "output_type": "stream",
     "text": [
      "[Parallel(n_jobs=-1)]: Done   4 out of   4 | elapsed:    1.7s remaining:    0.0s\n"
     ]
    },
    {
     "name": "stdout",
     "output_type": "stream",
     "text": [
      "[CV] END ............................... score: (test=-8.501) total time=   0.4s\n"
     ]
    },
    {
     "name": "stderr",
     "output_type": "stream",
     "text": [
      "[Parallel(n_jobs=-1)]: Done   5 out of   5 | elapsed:    2.1s remaining:    0.0s\n",
      "[Parallel(n_jobs=-1)]: Done   5 out of   5 | elapsed:    2.1s finished\n",
      "[Parallel(n_jobs=-1)]: Using backend SequentialBackend with 1 concurrent workers.\n"
     ]
    },
    {
     "name": "stdout",
     "output_type": "stream",
     "text": [
      "[CV] START .....................................................................\n",
      "[CV] END ............................... score: (test=-9.659) total time=   0.8s\n",
      "[CV] START .....................................................................\n"
     ]
    },
    {
     "name": "stderr",
     "output_type": "stream",
     "text": [
      "[Parallel(n_jobs=-1)]: Done   1 out of   1 | elapsed:    0.8s remaining:    0.0s\n"
     ]
    },
    {
     "name": "stdout",
     "output_type": "stream",
     "text": [
      "[CV] END ............................... score: (test=-6.591) total time=   0.8s\n",
      "[CV] START .....................................................................\n"
     ]
    },
    {
     "name": "stderr",
     "output_type": "stream",
     "text": [
      "[Parallel(n_jobs=-1)]: Done   2 out of   2 | elapsed:    1.6s remaining:    0.0s\n"
     ]
    },
    {
     "name": "stdout",
     "output_type": "stream",
     "text": [
      "[CV] END ............................... score: (test=-5.000) total time=   0.8s\n",
      "[CV] START .....................................................................\n"
     ]
    },
    {
     "name": "stderr",
     "output_type": "stream",
     "text": [
      "[Parallel(n_jobs=-1)]: Done   3 out of   3 | elapsed:    2.4s remaining:    0.0s\n"
     ]
    },
    {
     "name": "stdout",
     "output_type": "stream",
     "text": [
      "[CV] END ............................... score: (test=-6.494) total time=   0.8s\n",
      "[CV] START .....................................................................\n"
     ]
    },
    {
     "name": "stderr",
     "output_type": "stream",
     "text": [
      "[Parallel(n_jobs=-1)]: Done   4 out of   4 | elapsed:    3.2s remaining:    0.0s\n"
     ]
    },
    {
     "name": "stdout",
     "output_type": "stream",
     "text": [
      "[CV] END ............................... score: (test=-7.688) total time=   0.8s\n"
     ]
    },
    {
     "name": "stderr",
     "output_type": "stream",
     "text": [
      "[Parallel(n_jobs=-1)]: Done   5 out of   5 | elapsed:    4.0s remaining:    0.0s\n",
      "[Parallel(n_jobs=-1)]: Done   5 out of   5 | elapsed:    4.0s finished\n",
      "[Parallel(n_jobs=-1)]: Using backend SequentialBackend with 1 concurrent workers.\n"
     ]
    },
    {
     "name": "stdout",
     "output_type": "stream",
     "text": [
      "[CV] START .....................................................................\n",
      "[CV] END ............................... score: (test=-9.214) total time=   1.1s\n",
      "[CV] START .....................................................................\n"
     ]
    },
    {
     "name": "stderr",
     "output_type": "stream",
     "text": [
      "[Parallel(n_jobs=-1)]: Done   1 out of   1 | elapsed:    1.1s remaining:    0.0s\n"
     ]
    },
    {
     "name": "stdout",
     "output_type": "stream",
     "text": [
      "[CV] END ............................... score: (test=-6.247) total time=   1.1s\n",
      "[CV] START .....................................................................\n"
     ]
    },
    {
     "name": "stderr",
     "output_type": "stream",
     "text": [
      "[Parallel(n_jobs=-1)]: Done   2 out of   2 | elapsed:    2.3s remaining:    0.0s\n"
     ]
    },
    {
     "name": "stdout",
     "output_type": "stream",
     "text": [
      "[CV] END ............................... score: (test=-4.914) total time=   1.1s\n",
      "[CV] START .....................................................................\n"
     ]
    },
    {
     "name": "stderr",
     "output_type": "stream",
     "text": [
      "[Parallel(n_jobs=-1)]: Done   3 out of   3 | elapsed:    3.4s remaining:    0.0s\n"
     ]
    },
    {
     "name": "stdout",
     "output_type": "stream",
     "text": [
      "[CV] END ............................... score: (test=-5.606) total time=   1.1s\n",
      "[CV] START .....................................................................\n"
     ]
    },
    {
     "name": "stderr",
     "output_type": "stream",
     "text": [
      "[Parallel(n_jobs=-1)]: Done   4 out of   4 | elapsed:    4.5s remaining:    0.0s\n"
     ]
    },
    {
     "name": "stdout",
     "output_type": "stream",
     "text": [
      "[CV] END ............................... score: (test=-7.593) total time=   1.1s\n"
     ]
    },
    {
     "name": "stderr",
     "output_type": "stream",
     "text": [
      "[Parallel(n_jobs=-1)]: Done   5 out of   5 | elapsed:    5.6s remaining:    0.0s\n",
      "[Parallel(n_jobs=-1)]: Done   5 out of   5 | elapsed:    5.6s finished\n",
      "[Parallel(n_jobs=-1)]: Using backend SequentialBackend with 1 concurrent workers.\n"
     ]
    },
    {
     "name": "stdout",
     "output_type": "stream",
     "text": [
      "[CV] START .....................................................................\n",
      "[CV] END ............................... score: (test=-9.380) total time=   1.5s\n",
      "[CV] START .....................................................................\n"
     ]
    },
    {
     "name": "stderr",
     "output_type": "stream",
     "text": [
      "[Parallel(n_jobs=-1)]: Done   1 out of   1 | elapsed:    1.5s remaining:    0.0s\n"
     ]
    },
    {
     "name": "stdout",
     "output_type": "stream",
     "text": [
      "[CV] END ............................... score: (test=-6.169) total time=   1.4s\n",
      "[CV] START .....................................................................\n"
     ]
    },
    {
     "name": "stderr",
     "output_type": "stream",
     "text": [
      "[Parallel(n_jobs=-1)]: Done   2 out of   2 | elapsed:    2.9s remaining:    0.0s\n"
     ]
    },
    {
     "name": "stdout",
     "output_type": "stream",
     "text": [
      "[CV] END ............................... score: (test=-5.239) total time=   1.4s\n",
      "[CV] START .....................................................................\n"
     ]
    },
    {
     "name": "stderr",
     "output_type": "stream",
     "text": [
      "[Parallel(n_jobs=-1)]: Done   3 out of   3 | elapsed:    4.3s remaining:    0.0s\n"
     ]
    },
    {
     "name": "stdout",
     "output_type": "stream",
     "text": [
      "[CV] END ............................... score: (test=-5.262) total time=   1.5s\n",
      "[CV] START .....................................................................\n"
     ]
    },
    {
     "name": "stderr",
     "output_type": "stream",
     "text": [
      "[Parallel(n_jobs=-1)]: Done   4 out of   4 | elapsed:    5.8s remaining:    0.0s\n"
     ]
    },
    {
     "name": "stdout",
     "output_type": "stream",
     "text": [
      "[CV] END ............................... score: (test=-7.381) total time=   1.4s\n"
     ]
    },
    {
     "name": "stderr",
     "output_type": "stream",
     "text": [
      "[Parallel(n_jobs=-1)]: Done   5 out of   5 | elapsed:    7.2s remaining:    0.0s\n",
      "[Parallel(n_jobs=-1)]: Done   5 out of   5 | elapsed:    7.2s finished\n",
      "[Parallel(n_jobs=-1)]: Using backend SequentialBackend with 1 concurrent workers.\n"
     ]
    },
    {
     "name": "stdout",
     "output_type": "stream",
     "text": [
      "[CV] START .....................................................................\n",
      "[CV] END ............................... score: (test=-9.388) total time=   1.9s\n",
      "[CV] START .....................................................................\n"
     ]
    },
    {
     "name": "stderr",
     "output_type": "stream",
     "text": [
      "[Parallel(n_jobs=-1)]: Done   1 out of   1 | elapsed:    1.9s remaining:    0.0s\n"
     ]
    },
    {
     "name": "stdout",
     "output_type": "stream",
     "text": [
      "[CV] END ............................... score: (test=-6.205) total time=   1.7s\n",
      "[CV] START .....................................................................\n"
     ]
    },
    {
     "name": "stderr",
     "output_type": "stream",
     "text": [
      "[Parallel(n_jobs=-1)]: Done   2 out of   2 | elapsed:    3.6s remaining:    0.0s\n"
     ]
    },
    {
     "name": "stdout",
     "output_type": "stream",
     "text": [
      "[CV] END ............................... score: (test=-5.236) total time=   1.7s\n",
      "[CV] START .....................................................................\n"
     ]
    },
    {
     "name": "stderr",
     "output_type": "stream",
     "text": [
      "[Parallel(n_jobs=-1)]: Done   3 out of   3 | elapsed:    5.3s remaining:    0.0s\n"
     ]
    },
    {
     "name": "stdout",
     "output_type": "stream",
     "text": [
      "[CV] END ............................... score: (test=-4.901) total time=   1.7s\n",
      "[CV] START .....................................................................\n"
     ]
    },
    {
     "name": "stderr",
     "output_type": "stream",
     "text": [
      "[Parallel(n_jobs=-1)]: Done   4 out of   4 | elapsed:    7.1s remaining:    0.0s\n"
     ]
    },
    {
     "name": "stdout",
     "output_type": "stream",
     "text": [
      "[CV] END ............................... score: (test=-7.510) total time=   1.7s\n"
     ]
    },
    {
     "name": "stderr",
     "output_type": "stream",
     "text": [
      "[Parallel(n_jobs=-1)]: Done   5 out of   5 | elapsed:    8.8s remaining:    0.0s\n",
      "[Parallel(n_jobs=-1)]: Done   5 out of   5 | elapsed:    8.8s finished\n",
      "[Parallel(n_jobs=-1)]: Using backend SequentialBackend with 1 concurrent workers.\n"
     ]
    },
    {
     "name": "stdout",
     "output_type": "stream",
     "text": [
      "[CV] START .....................................................................\n",
      "[CV] END .............................. score: (test=-10.554) total time=   0.9s\n",
      "[CV] START .....................................................................\n"
     ]
    },
    {
     "name": "stderr",
     "output_type": "stream",
     "text": [
      "[Parallel(n_jobs=-1)]: Done   1 out of   1 | elapsed:    0.9s remaining:    0.0s\n"
     ]
    },
    {
     "name": "stdout",
     "output_type": "stream",
     "text": [
      "[CV] END ............................... score: (test=-7.239) total time=   0.9s\n",
      "[CV] START .....................................................................\n"
     ]
    },
    {
     "name": "stderr",
     "output_type": "stream",
     "text": [
      "[Parallel(n_jobs=-1)]: Done   2 out of   2 | elapsed:    1.8s remaining:    0.0s\n"
     ]
    },
    {
     "name": "stdout",
     "output_type": "stream",
     "text": [
      "[CV] END ............................... score: (test=-5.088) total time=   0.8s\n",
      "[CV] START .....................................................................\n"
     ]
    },
    {
     "name": "stderr",
     "output_type": "stream",
     "text": [
      "[Parallel(n_jobs=-1)]: Done   3 out of   3 | elapsed:    2.6s remaining:    0.0s\n"
     ]
    },
    {
     "name": "stdout",
     "output_type": "stream",
     "text": [
      "[CV] END ............................... score: (test=-6.789) total time=   0.8s\n",
      "[CV] START .....................................................................\n"
     ]
    },
    {
     "name": "stderr",
     "output_type": "stream",
     "text": [
      "[Parallel(n_jobs=-1)]: Done   4 out of   4 | elapsed:    3.4s remaining:    0.0s\n"
     ]
    },
    {
     "name": "stdout",
     "output_type": "stream",
     "text": [
      "[CV] END ............................... score: (test=-8.612) total time=   0.8s\n"
     ]
    },
    {
     "name": "stderr",
     "output_type": "stream",
     "text": [
      "[Parallel(n_jobs=-1)]: Done   5 out of   5 | elapsed:    4.2s remaining:    0.0s\n",
      "[Parallel(n_jobs=-1)]: Done   5 out of   5 | elapsed:    4.2s finished\n",
      "[Parallel(n_jobs=-1)]: Using backend SequentialBackend with 1 concurrent workers.\n"
     ]
    },
    {
     "name": "stdout",
     "output_type": "stream",
     "text": [
      "[CV] START .....................................................................\n",
      "[CV] END ............................... score: (test=-9.858) total time=   1.5s\n",
      "[CV] START .....................................................................\n"
     ]
    },
    {
     "name": "stderr",
     "output_type": "stream",
     "text": [
      "[Parallel(n_jobs=-1)]: Done   1 out of   1 | elapsed:    1.5s remaining:    0.0s\n"
     ]
    },
    {
     "name": "stdout",
     "output_type": "stream",
     "text": [
      "[CV] END ............................... score: (test=-6.561) total time=   1.6s\n",
      "[CV] START .....................................................................\n"
     ]
    },
    {
     "name": "stderr",
     "output_type": "stream",
     "text": [
      "[Parallel(n_jobs=-1)]: Done   2 out of   2 | elapsed:    3.1s remaining:    0.0s\n"
     ]
    },
    {
     "name": "stdout",
     "output_type": "stream",
     "text": [
      "[CV] END ............................... score: (test=-4.965) total time=   1.5s\n",
      "[CV] START .....................................................................\n"
     ]
    },
    {
     "name": "stderr",
     "output_type": "stream",
     "text": [
      "[Parallel(n_jobs=-1)]: Done   3 out of   3 | elapsed:    4.6s remaining:    0.0s\n"
     ]
    },
    {
     "name": "stdout",
     "output_type": "stream",
     "text": [
      "[CV] END ............................... score: (test=-6.449) total time=   1.6s\n",
      "[CV] START .....................................................................\n"
     ]
    },
    {
     "name": "stderr",
     "output_type": "stream",
     "text": [
      "[Parallel(n_jobs=-1)]: Done   4 out of   4 | elapsed:    6.2s remaining:    0.0s\n"
     ]
    },
    {
     "name": "stdout",
     "output_type": "stream",
     "text": [
      "[CV] END ............................... score: (test=-7.765) total time=   1.5s\n"
     ]
    },
    {
     "name": "stderr",
     "output_type": "stream",
     "text": [
      "[Parallel(n_jobs=-1)]: Done   5 out of   5 | elapsed:    7.8s remaining:    0.0s\n",
      "[Parallel(n_jobs=-1)]: Done   5 out of   5 | elapsed:    7.8s finished\n",
      "[Parallel(n_jobs=-1)]: Using backend SequentialBackend with 1 concurrent workers.\n"
     ]
    },
    {
     "name": "stdout",
     "output_type": "stream",
     "text": [
      "[CV] START .....................................................................\n",
      "[CV] END ............................... score: (test=-9.344) total time=   2.2s\n",
      "[CV] START .....................................................................\n"
     ]
    },
    {
     "name": "stderr",
     "output_type": "stream",
     "text": [
      "[Parallel(n_jobs=-1)]: Done   1 out of   1 | elapsed:    2.2s remaining:    0.0s\n"
     ]
    },
    {
     "name": "stdout",
     "output_type": "stream",
     "text": [
      "[CV] END ............................... score: (test=-6.061) total time=   2.2s\n",
      "[CV] START .....................................................................\n"
     ]
    },
    {
     "name": "stderr",
     "output_type": "stream",
     "text": [
      "[Parallel(n_jobs=-1)]: Done   2 out of   2 | elapsed:    4.4s remaining:    0.0s\n"
     ]
    },
    {
     "name": "stdout",
     "output_type": "stream",
     "text": [
      "[CV] END ............................... score: (test=-4.921) total time=   2.4s\n",
      "[CV] START .....................................................................\n"
     ]
    },
    {
     "name": "stderr",
     "output_type": "stream",
     "text": [
      "[Parallel(n_jobs=-1)]: Done   3 out of   3 | elapsed:    6.8s remaining:    0.0s\n"
     ]
    },
    {
     "name": "stdout",
     "output_type": "stream",
     "text": [
      "[CV] END ............................... score: (test=-5.646) total time=   2.2s\n",
      "[CV] START .....................................................................\n"
     ]
    },
    {
     "name": "stderr",
     "output_type": "stream",
     "text": [
      "[Parallel(n_jobs=-1)]: Done   4 out of   4 | elapsed:    9.0s remaining:    0.0s\n"
     ]
    },
    {
     "name": "stdout",
     "output_type": "stream",
     "text": [
      "[CV] END ............................... score: (test=-7.780) total time=   2.2s\n"
     ]
    },
    {
     "name": "stderr",
     "output_type": "stream",
     "text": [
      "[Parallel(n_jobs=-1)]: Done   5 out of   5 | elapsed:   11.2s remaining:    0.0s\n",
      "[Parallel(n_jobs=-1)]: Done   5 out of   5 | elapsed:   11.2s finished\n",
      "[Parallel(n_jobs=-1)]: Using backend SequentialBackend with 1 concurrent workers.\n"
     ]
    },
    {
     "name": "stdout",
     "output_type": "stream",
     "text": [
      "[CV] START .....................................................................\n",
      "[CV] END ............................... score: (test=-9.331) total time=   3.0s\n",
      "[CV] START .....................................................................\n"
     ]
    },
    {
     "name": "stderr",
     "output_type": "stream",
     "text": [
      "[Parallel(n_jobs=-1)]: Done   1 out of   1 | elapsed:    3.0s remaining:    0.0s\n"
     ]
    },
    {
     "name": "stdout",
     "output_type": "stream",
     "text": [
      "[CV] END ............................... score: (test=-6.361) total time=   3.2s\n",
      "[CV] START .....................................................................\n"
     ]
    },
    {
     "name": "stderr",
     "output_type": "stream",
     "text": [
      "[Parallel(n_jobs=-1)]: Done   2 out of   2 | elapsed:    6.2s remaining:    0.0s\n"
     ]
    },
    {
     "name": "stdout",
     "output_type": "stream",
     "text": [
      "[CV] END ............................... score: (test=-5.025) total time=   2.9s\n",
      "[CV] START .....................................................................\n"
     ]
    },
    {
     "name": "stderr",
     "output_type": "stream",
     "text": [
      "[Parallel(n_jobs=-1)]: Done   3 out of   3 | elapsed:    9.1s remaining:    0.0s\n"
     ]
    },
    {
     "name": "stdout",
     "output_type": "stream",
     "text": [
      "[CV] END ............................... score: (test=-5.333) total time=   2.9s\n",
      "[CV] START .....................................................................\n"
     ]
    },
    {
     "name": "stderr",
     "output_type": "stream",
     "text": [
      "[Parallel(n_jobs=-1)]: Done   4 out of   4 | elapsed:   12.0s remaining:    0.0s\n"
     ]
    },
    {
     "name": "stdout",
     "output_type": "stream",
     "text": [
      "[CV] END ............................... score: (test=-7.629) total time=   2.9s\n"
     ]
    },
    {
     "name": "stderr",
     "output_type": "stream",
     "text": [
      "[Parallel(n_jobs=-1)]: Done   5 out of   5 | elapsed:   14.9s remaining:    0.0s\n",
      "[Parallel(n_jobs=-1)]: Done   5 out of   5 | elapsed:   14.9s finished\n",
      "[Parallel(n_jobs=-1)]: Using backend SequentialBackend with 1 concurrent workers.\n"
     ]
    },
    {
     "name": "stdout",
     "output_type": "stream",
     "text": [
      "[CV] START .....................................................................\n",
      "[CV] END ............................... score: (test=-9.211) total time=   3.5s\n",
      "[CV] START .....................................................................\n"
     ]
    },
    {
     "name": "stderr",
     "output_type": "stream",
     "text": [
      "[Parallel(n_jobs=-1)]: Done   1 out of   1 | elapsed:    3.5s remaining:    0.0s\n"
     ]
    },
    {
     "name": "stdout",
     "output_type": "stream",
     "text": [
      "[CV] END ............................... score: (test=-6.503) total time=   3.6s\n",
      "[CV] START .....................................................................\n"
     ]
    },
    {
     "name": "stderr",
     "output_type": "stream",
     "text": [
      "[Parallel(n_jobs=-1)]: Done   2 out of   2 | elapsed:    7.2s remaining:    0.0s\n"
     ]
    },
    {
     "name": "stdout",
     "output_type": "stream",
     "text": [
      "[CV] END ............................... score: (test=-5.007) total time=   3.6s\n",
      "[CV] START .....................................................................\n"
     ]
    },
    {
     "name": "stderr",
     "output_type": "stream",
     "text": [
      "[Parallel(n_jobs=-1)]: Done   3 out of   3 | elapsed:   10.7s remaining:    0.0s\n"
     ]
    },
    {
     "name": "stdout",
     "output_type": "stream",
     "text": [
      "[CV] END ............................... score: (test=-5.059) total time=   3.6s\n",
      "[CV] START .....................................................................\n"
     ]
    },
    {
     "name": "stderr",
     "output_type": "stream",
     "text": [
      "[Parallel(n_jobs=-1)]: Done   4 out of   4 | elapsed:   14.3s remaining:    0.0s\n"
     ]
    },
    {
     "name": "stdout",
     "output_type": "stream",
     "text": [
      "[CV] END ............................... score: (test=-7.746) total time=   3.6s\n"
     ]
    },
    {
     "name": "stderr",
     "output_type": "stream",
     "text": [
      "[Parallel(n_jobs=-1)]: Done   5 out of   5 | elapsed:   17.9s remaining:    0.0s\n",
      "[Parallel(n_jobs=-1)]: Done   5 out of   5 | elapsed:   17.9s finished\n",
      "[Parallel(n_jobs=-1)]: Using backend SequentialBackend with 1 concurrent workers.\n"
     ]
    },
    {
     "name": "stdout",
     "output_type": "stream",
     "text": [
      "[CV] START .....................................................................\n",
      "[CV] END .............................. score: (test=-10.625) total time=   1.3s\n",
      "[CV] START .....................................................................\n"
     ]
    },
    {
     "name": "stderr",
     "output_type": "stream",
     "text": [
      "[Parallel(n_jobs=-1)]: Done   1 out of   1 | elapsed:    1.3s remaining:    0.0s\n"
     ]
    },
    {
     "name": "stdout",
     "output_type": "stream",
     "text": [
      "[CV] END ............................... score: (test=-7.299) total time=   1.3s\n",
      "[CV] START .....................................................................\n"
     ]
    },
    {
     "name": "stderr",
     "output_type": "stream",
     "text": [
      "[Parallel(n_jobs=-1)]: Done   2 out of   2 | elapsed:    2.6s remaining:    0.0s\n"
     ]
    },
    {
     "name": "stdout",
     "output_type": "stream",
     "text": [
      "[CV] END ............................... score: (test=-5.037) total time=   1.3s\n",
      "[CV] START .....................................................................\n"
     ]
    },
    {
     "name": "stderr",
     "output_type": "stream",
     "text": [
      "[Parallel(n_jobs=-1)]: Done   3 out of   3 | elapsed:    3.8s remaining:    0.0s\n"
     ]
    },
    {
     "name": "stdout",
     "output_type": "stream",
     "text": [
      "[CV] END ............................... score: (test=-6.763) total time=   1.3s\n",
      "[CV] START .....................................................................\n"
     ]
    },
    {
     "name": "stderr",
     "output_type": "stream",
     "text": [
      "[Parallel(n_jobs=-1)]: Done   4 out of   4 | elapsed:    5.1s remaining:    0.0s\n"
     ]
    },
    {
     "name": "stdout",
     "output_type": "stream",
     "text": [
      "[CV] END ............................... score: (test=-8.564) total time=   1.3s\n"
     ]
    },
    {
     "name": "stderr",
     "output_type": "stream",
     "text": [
      "[Parallel(n_jobs=-1)]: Done   5 out of   5 | elapsed:    6.4s remaining:    0.0s\n",
      "[Parallel(n_jobs=-1)]: Done   5 out of   5 | elapsed:    6.4s finished\n",
      "[Parallel(n_jobs=-1)]: Using backend SequentialBackend with 1 concurrent workers.\n"
     ]
    },
    {
     "name": "stdout",
     "output_type": "stream",
     "text": [
      "[CV] START .....................................................................\n",
      "[CV] END ............................... score: (test=-9.934) total time=   2.3s\n",
      "[CV] START .....................................................................\n"
     ]
    },
    {
     "name": "stderr",
     "output_type": "stream",
     "text": [
      "[Parallel(n_jobs=-1)]: Done   1 out of   1 | elapsed:    2.3s remaining:    0.0s\n"
     ]
    },
    {
     "name": "stdout",
     "output_type": "stream",
     "text": [
      "[CV] END ............................... score: (test=-6.634) total time=   2.4s\n",
      "[CV] START .....................................................................\n"
     ]
    },
    {
     "name": "stderr",
     "output_type": "stream",
     "text": [
      "[Parallel(n_jobs=-1)]: Done   2 out of   2 | elapsed:    4.7s remaining:    0.0s\n"
     ]
    },
    {
     "name": "stdout",
     "output_type": "stream",
     "text": [
      "[CV] END ............................... score: (test=-5.172) total time=   2.3s\n",
      "[CV] START .....................................................................\n"
     ]
    },
    {
     "name": "stderr",
     "output_type": "stream",
     "text": [
      "[Parallel(n_jobs=-1)]: Done   3 out of   3 | elapsed:    7.0s remaining:    0.0s\n"
     ]
    },
    {
     "name": "stdout",
     "output_type": "stream",
     "text": [
      "[CV] END ............................... score: (test=-6.418) total time=   2.3s\n",
      "[CV] START .....................................................................\n"
     ]
    },
    {
     "name": "stderr",
     "output_type": "stream",
     "text": [
      "[Parallel(n_jobs=-1)]: Done   4 out of   4 | elapsed:    9.2s remaining:    0.0s\n"
     ]
    },
    {
     "name": "stdout",
     "output_type": "stream",
     "text": [
      "[CV] END ............................... score: (test=-7.712) total time=   2.3s\n"
     ]
    },
    {
     "name": "stderr",
     "output_type": "stream",
     "text": [
      "[Parallel(n_jobs=-1)]: Done   5 out of   5 | elapsed:   11.5s remaining:    0.0s\n",
      "[Parallel(n_jobs=-1)]: Done   5 out of   5 | elapsed:   11.5s finished\n",
      "[Parallel(n_jobs=-1)]: Using backend SequentialBackend with 1 concurrent workers.\n"
     ]
    },
    {
     "name": "stdout",
     "output_type": "stream",
     "text": [
      "[CV] START .....................................................................\n",
      "[CV] END ............................... score: (test=-9.395) total time=   3.4s\n",
      "[CV] START .....................................................................\n"
     ]
    },
    {
     "name": "stderr",
     "output_type": "stream",
     "text": [
      "[Parallel(n_jobs=-1)]: Done   1 out of   1 | elapsed:    3.4s remaining:    0.0s\n"
     ]
    },
    {
     "name": "stdout",
     "output_type": "stream",
     "text": [
      "[CV] END ............................... score: (test=-6.097) total time=   3.2s\n",
      "[CV] START .....................................................................\n"
     ]
    },
    {
     "name": "stderr",
     "output_type": "stream",
     "text": [
      "[Parallel(n_jobs=-1)]: Done   2 out of   2 | elapsed:    6.7s remaining:    0.0s\n"
     ]
    },
    {
     "name": "stdout",
     "output_type": "stream",
     "text": [
      "[CV] END ............................... score: (test=-4.972) total time=   3.3s\n",
      "[CV] START .....................................................................\n"
     ]
    },
    {
     "name": "stderr",
     "output_type": "stream",
     "text": [
      "[Parallel(n_jobs=-1)]: Done   3 out of   3 | elapsed:   10.0s remaining:    0.0s\n"
     ]
    },
    {
     "name": "stdout",
     "output_type": "stream",
     "text": [
      "[CV] END ............................... score: (test=-5.565) total time=   3.3s\n",
      "[CV] START .....................................................................\n"
     ]
    },
    {
     "name": "stderr",
     "output_type": "stream",
     "text": [
      "[Parallel(n_jobs=-1)]: Done   4 out of   4 | elapsed:   13.3s remaining:    0.0s\n"
     ]
    },
    {
     "name": "stdout",
     "output_type": "stream",
     "text": [
      "[CV] END ............................... score: (test=-7.682) total time=   3.2s\n"
     ]
    },
    {
     "name": "stderr",
     "output_type": "stream",
     "text": [
      "[Parallel(n_jobs=-1)]: Done   5 out of   5 | elapsed:   16.5s remaining:    0.0s\n",
      "[Parallel(n_jobs=-1)]: Done   5 out of   5 | elapsed:   16.5s finished\n",
      "[Parallel(n_jobs=-1)]: Using backend SequentialBackend with 1 concurrent workers.\n"
     ]
    },
    {
     "name": "stdout",
     "output_type": "stream",
     "text": [
      "[CV] START .....................................................................\n",
      "[CV] END ............................... score: (test=-9.414) total time=   4.3s\n",
      "[CV] START .....................................................................\n"
     ]
    },
    {
     "name": "stderr",
     "output_type": "stream",
     "text": [
      "[Parallel(n_jobs=-1)]: Done   1 out of   1 | elapsed:    4.3s remaining:    0.0s\n"
     ]
    },
    {
     "name": "stdout",
     "output_type": "stream",
     "text": [
      "[CV] END ............................... score: (test=-6.556) total time=   4.5s\n",
      "[CV] START .....................................................................\n"
     ]
    },
    {
     "name": "stderr",
     "output_type": "stream",
     "text": [
      "[Parallel(n_jobs=-1)]: Done   2 out of   2 | elapsed:    8.7s remaining:    0.0s\n"
     ]
    },
    {
     "name": "stdout",
     "output_type": "stream",
     "text": [
      "[CV] END ............................... score: (test=-5.087) total time=   4.3s\n",
      "[CV] START .....................................................................\n"
     ]
    },
    {
     "name": "stderr",
     "output_type": "stream",
     "text": [
      "[Parallel(n_jobs=-1)]: Done   3 out of   3 | elapsed:   13.0s remaining:    0.0s\n"
     ]
    },
    {
     "name": "stdout",
     "output_type": "stream",
     "text": [
      "[CV] END ............................... score: (test=-5.275) total time=   4.3s\n",
      "[CV] START .....................................................................\n"
     ]
    },
    {
     "name": "stderr",
     "output_type": "stream",
     "text": [
      "[Parallel(n_jobs=-1)]: Done   4 out of   4 | elapsed:   17.3s remaining:    0.0s\n"
     ]
    },
    {
     "name": "stdout",
     "output_type": "stream",
     "text": [
      "[CV] END ............................... score: (test=-7.443) total time=   4.2s\n"
     ]
    },
    {
     "name": "stderr",
     "output_type": "stream",
     "text": [
      "[Parallel(n_jobs=-1)]: Done   5 out of   5 | elapsed:   21.6s remaining:    0.0s\n",
      "[Parallel(n_jobs=-1)]: Done   5 out of   5 | elapsed:   21.6s finished\n",
      "[Parallel(n_jobs=-1)]: Using backend SequentialBackend with 1 concurrent workers.\n"
     ]
    },
    {
     "name": "stdout",
     "output_type": "stream",
     "text": [
      "[CV] START .....................................................................\n",
      "[CV] END ............................... score: (test=-9.327) total time=   5.3s\n",
      "[CV] START .....................................................................\n"
     ]
    },
    {
     "name": "stderr",
     "output_type": "stream",
     "text": [
      "[Parallel(n_jobs=-1)]: Done   1 out of   1 | elapsed:    5.3s remaining:    0.0s\n"
     ]
    },
    {
     "name": "stdout",
     "output_type": "stream",
     "text": [
      "[CV] END ............................... score: (test=-6.816) total time=   5.4s\n",
      "[CV] START .....................................................................\n"
     ]
    },
    {
     "name": "stderr",
     "output_type": "stream",
     "text": [
      "[Parallel(n_jobs=-1)]: Done   2 out of   2 | elapsed:   10.6s remaining:    0.0s\n"
     ]
    },
    {
     "name": "stdout",
     "output_type": "stream",
     "text": [
      "[CV] END ............................... score: (test=-5.009) total time=   5.5s\n",
      "[CV] START .....................................................................\n"
     ]
    },
    {
     "name": "stderr",
     "output_type": "stream",
     "text": [
      "[Parallel(n_jobs=-1)]: Done   3 out of   3 | elapsed:   16.1s remaining:    0.0s\n"
     ]
    },
    {
     "name": "stdout",
     "output_type": "stream",
     "text": [
      "[CV] END ............................... score: (test=-4.989) total time=   5.2s\n",
      "[CV] START .....................................................................\n"
     ]
    },
    {
     "name": "stderr",
     "output_type": "stream",
     "text": [
      "[Parallel(n_jobs=-1)]: Done   4 out of   4 | elapsed:   21.3s remaining:    0.0s\n"
     ]
    },
    {
     "name": "stdout",
     "output_type": "stream",
     "text": [
      "[CV] END ............................... score: (test=-7.558) total time=   5.2s\n"
     ]
    },
    {
     "name": "stderr",
     "output_type": "stream",
     "text": [
      "[Parallel(n_jobs=-1)]: Done   5 out of   5 | elapsed:   26.5s remaining:    0.0s\n",
      "[Parallel(n_jobs=-1)]: Done   5 out of   5 | elapsed:   26.5s finished\n",
      "[Parallel(n_jobs=-1)]: Using backend SequentialBackend with 1 concurrent workers.\n"
     ]
    },
    {
     "name": "stdout",
     "output_type": "stream",
     "text": [
      "[CV] START .....................................................................\n",
      "[CV] END .............................. score: (test=-10.658) total time=   1.5s\n",
      "[CV] START .....................................................................\n"
     ]
    },
    {
     "name": "stderr",
     "output_type": "stream",
     "text": [
      "[Parallel(n_jobs=-1)]: Done   1 out of   1 | elapsed:    1.5s remaining:    0.0s\n"
     ]
    },
    {
     "name": "stdout",
     "output_type": "stream",
     "text": [
      "[CV] END ............................... score: (test=-7.334) total time=   1.5s\n",
      "[CV] START .....................................................................\n"
     ]
    },
    {
     "name": "stderr",
     "output_type": "stream",
     "text": [
      "[Parallel(n_jobs=-1)]: Done   2 out of   2 | elapsed:    3.1s remaining:    0.0s\n"
     ]
    },
    {
     "name": "stdout",
     "output_type": "stream",
     "text": [
      "[CV] END ............................... score: (test=-5.005) total time=   1.5s\n",
      "[CV] START .....................................................................\n"
     ]
    },
    {
     "name": "stderr",
     "output_type": "stream",
     "text": [
      "[Parallel(n_jobs=-1)]: Done   3 out of   3 | elapsed:    4.6s remaining:    0.0s\n"
     ]
    },
    {
     "name": "stdout",
     "output_type": "stream",
     "text": [
      "[CV] END ............................... score: (test=-6.752) total time=   1.6s\n",
      "[CV] START .....................................................................\n"
     ]
    },
    {
     "name": "stderr",
     "output_type": "stream",
     "text": [
      "[Parallel(n_jobs=-1)]: Done   4 out of   4 | elapsed:    6.2s remaining:    0.0s\n"
     ]
    },
    {
     "name": "stdout",
     "output_type": "stream",
     "text": [
      "[CV] END ............................... score: (test=-8.613) total time=   1.7s\n"
     ]
    },
    {
     "name": "stderr",
     "output_type": "stream",
     "text": [
      "[Parallel(n_jobs=-1)]: Done   5 out of   5 | elapsed:    7.8s remaining:    0.0s\n",
      "[Parallel(n_jobs=-1)]: Done   5 out of   5 | elapsed:    7.8s finished\n",
      "[Parallel(n_jobs=-1)]: Using backend SequentialBackend with 1 concurrent workers.\n"
     ]
    },
    {
     "name": "stdout",
     "output_type": "stream",
     "text": [
      "[CV] START .....................................................................\n",
      "[CV] END ............................... score: (test=-9.975) total time=   3.0s\n",
      "[CV] START .....................................................................\n"
     ]
    },
    {
     "name": "stderr",
     "output_type": "stream",
     "text": [
      "[Parallel(n_jobs=-1)]: Done   1 out of   1 | elapsed:    3.0s remaining:    0.0s\n"
     ]
    },
    {
     "name": "stdout",
     "output_type": "stream",
     "text": [
      "[CV] END ............................... score: (test=-6.679) total time=   3.0s\n",
      "[CV] START .....................................................................\n"
     ]
    },
    {
     "name": "stderr",
     "output_type": "stream",
     "text": [
      "[Parallel(n_jobs=-1)]: Done   2 out of   2 | elapsed:    6.0s remaining:    0.0s\n"
     ]
    },
    {
     "name": "stdout",
     "output_type": "stream",
     "text": [
      "[CV] END ............................... score: (test=-5.255) total time=   3.1s\n",
      "[CV] START .....................................................................\n"
     ]
    },
    {
     "name": "stderr",
     "output_type": "stream",
     "text": [
      "[Parallel(n_jobs=-1)]: Done   3 out of   3 | elapsed:    9.1s remaining:    0.0s\n"
     ]
    },
    {
     "name": "stdout",
     "output_type": "stream",
     "text": [
      "[CV] END ............................... score: (test=-6.410) total time=   2.9s\n",
      "[CV] START .....................................................................\n"
     ]
    },
    {
     "name": "stderr",
     "output_type": "stream",
     "text": [
      "[Parallel(n_jobs=-1)]: Done   4 out of   4 | elapsed:   12.0s remaining:    0.0s\n"
     ]
    },
    {
     "name": "stdout",
     "output_type": "stream",
     "text": [
      "[CV] END ............................... score: (test=-7.732) total time=   3.0s\n"
     ]
    },
    {
     "name": "stderr",
     "output_type": "stream",
     "text": [
      "[Parallel(n_jobs=-1)]: Done   5 out of   5 | elapsed:   14.9s remaining:    0.0s\n",
      "[Parallel(n_jobs=-1)]: Done   5 out of   5 | elapsed:   14.9s finished\n",
      "[Parallel(n_jobs=-1)]: Using backend SequentialBackend with 1 concurrent workers.\n"
     ]
    },
    {
     "name": "stdout",
     "output_type": "stream",
     "text": [
      "[CV] START .....................................................................\n",
      "[CV] END ............................... score: (test=-9.461) total time=   4.3s\n",
      "[CV] START .....................................................................\n"
     ]
    },
    {
     "name": "stderr",
     "output_type": "stream",
     "text": [
      "[Parallel(n_jobs=-1)]: Done   1 out of   1 | elapsed:    4.3s remaining:    0.0s\n"
     ]
    },
    {
     "name": "stdout",
     "output_type": "stream",
     "text": [
      "[CV] END ............................... score: (test=-6.079) total time=   4.4s\n",
      "[CV] START .....................................................................\n"
     ]
    },
    {
     "name": "stderr",
     "output_type": "stream",
     "text": [
      "[Parallel(n_jobs=-1)]: Done   2 out of   2 | elapsed:    8.7s remaining:    0.0s\n"
     ]
    },
    {
     "name": "stdout",
     "output_type": "stream",
     "text": [
      "[CV] END ............................... score: (test=-5.004) total time=   4.5s\n",
      "[CV] START .....................................................................\n"
     ]
    },
    {
     "name": "stderr",
     "output_type": "stream",
     "text": [
      "[Parallel(n_jobs=-1)]: Done   3 out of   3 | elapsed:   13.2s remaining:    0.0s\n"
     ]
    },
    {
     "name": "stdout",
     "output_type": "stream",
     "text": [
      "[CV] END ............................... score: (test=-5.533) total time=   4.4s\n",
      "[CV] START .....................................................................\n"
     ]
    },
    {
     "name": "stderr",
     "output_type": "stream",
     "text": [
      "[Parallel(n_jobs=-1)]: Done   4 out of   4 | elapsed:   17.6s remaining:    0.0s\n"
     ]
    },
    {
     "name": "stdout",
     "output_type": "stream",
     "text": [
      "[CV] END ............................... score: (test=-7.654) total time=   4.5s\n"
     ]
    },
    {
     "name": "stderr",
     "output_type": "stream",
     "text": [
      "[Parallel(n_jobs=-1)]: Done   5 out of   5 | elapsed:   22.1s remaining:    0.0s\n",
      "[Parallel(n_jobs=-1)]: Done   5 out of   5 | elapsed:   22.1s finished\n",
      "[Parallel(n_jobs=-1)]: Using backend SequentialBackend with 1 concurrent workers.\n"
     ]
    },
    {
     "name": "stdout",
     "output_type": "stream",
     "text": [
      "[CV] START .....................................................................\n",
      "[CV] END ............................... score: (test=-9.430) total time=   5.7s\n",
      "[CV] START .....................................................................\n"
     ]
    },
    {
     "name": "stderr",
     "output_type": "stream",
     "text": [
      "[Parallel(n_jobs=-1)]: Done   1 out of   1 | elapsed:    5.7s remaining:    0.0s\n"
     ]
    },
    {
     "name": "stdout",
     "output_type": "stream",
     "text": [
      "[CV] END ............................... score: (test=-6.463) total time=   5.8s\n",
      "[CV] START .....................................................................\n"
     ]
    },
    {
     "name": "stderr",
     "output_type": "stream",
     "text": [
      "[Parallel(n_jobs=-1)]: Done   2 out of   2 | elapsed:   11.4s remaining:    0.0s\n"
     ]
    },
    {
     "name": "stdout",
     "output_type": "stream",
     "text": [
      "[CV] END ............................... score: (test=-5.009) total time=   5.7s\n",
      "[CV] START .....................................................................\n"
     ]
    },
    {
     "name": "stderr",
     "output_type": "stream",
     "text": [
      "[Parallel(n_jobs=-1)]: Done   3 out of   3 | elapsed:   17.1s remaining:    0.0s\n"
     ]
    },
    {
     "name": "stdout",
     "output_type": "stream",
     "text": [
      "[CV] END ............................... score: (test=-5.219) total time=   5.8s\n",
      "[CV] START .....................................................................\n"
     ]
    },
    {
     "name": "stderr",
     "output_type": "stream",
     "text": [
      "[Parallel(n_jobs=-1)]: Done   4 out of   4 | elapsed:   22.9s remaining:    0.0s\n"
     ]
    },
    {
     "name": "stdout",
     "output_type": "stream",
     "text": [
      "[CV] END ............................... score: (test=-7.459) total time=   5.5s\n"
     ]
    },
    {
     "name": "stderr",
     "output_type": "stream",
     "text": [
      "[Parallel(n_jobs=-1)]: Done   5 out of   5 | elapsed:   28.4s remaining:    0.0s\n",
      "[Parallel(n_jobs=-1)]: Done   5 out of   5 | elapsed:   28.4s finished\n",
      "[Parallel(n_jobs=-1)]: Using backend SequentialBackend with 1 concurrent workers.\n"
     ]
    },
    {
     "name": "stdout",
     "output_type": "stream",
     "text": [
      "[CV] START .....................................................................\n",
      "[CV] END ............................... score: (test=-9.319) total time=   7.5s\n",
      "[CV] START .....................................................................\n"
     ]
    },
    {
     "name": "stderr",
     "output_type": "stream",
     "text": [
      "[Parallel(n_jobs=-1)]: Done   1 out of   1 | elapsed:    7.5s remaining:    0.0s\n"
     ]
    },
    {
     "name": "stdout",
     "output_type": "stream",
     "text": [
      "[CV] END ............................... score: (test=-6.782) total time=   6.9s\n",
      "[CV] START .....................................................................\n"
     ]
    },
    {
     "name": "stderr",
     "output_type": "stream",
     "text": [
      "[Parallel(n_jobs=-1)]: Done   2 out of   2 | elapsed:   14.4s remaining:    0.0s\n"
     ]
    },
    {
     "name": "stdout",
     "output_type": "stream",
     "text": [
      "[CV] END ............................... score: (test=-4.979) total time=   7.0s\n",
      "[CV] START .....................................................................\n"
     ]
    },
    {
     "name": "stderr",
     "output_type": "stream",
     "text": [
      "[Parallel(n_jobs=-1)]: Done   3 out of   3 | elapsed:   21.4s remaining:    0.0s\n"
     ]
    },
    {
     "name": "stdout",
     "output_type": "stream",
     "text": [
      "[CV] END ............................... score: (test=-4.950) total time=   7.0s\n",
      "[CV] START .....................................................................\n"
     ]
    },
    {
     "name": "stderr",
     "output_type": "stream",
     "text": [
      "[Parallel(n_jobs=-1)]: Done   4 out of   4 | elapsed:   28.4s remaining:    0.0s\n"
     ]
    },
    {
     "name": "stdout",
     "output_type": "stream",
     "text": [
      "[CV] END ............................... score: (test=-7.532) total time=   6.9s\n"
     ]
    },
    {
     "name": "stderr",
     "output_type": "stream",
     "text": [
      "[Parallel(n_jobs=-1)]: Done   5 out of   5 | elapsed:   35.4s remaining:    0.0s\n",
      "[Parallel(n_jobs=-1)]: Done   5 out of   5 | elapsed:   35.4s finished\n",
      "[Parallel(n_jobs=-1)]: Using backend SequentialBackend with 1 concurrent workers.\n"
     ]
    },
    {
     "name": "stdout",
     "output_type": "stream",
     "text": [
      "[CV] START .....................................................................\n",
      "[CV] END .............................. score: (test=-10.762) total time=   2.1s\n",
      "[CV] START .....................................................................\n"
     ]
    },
    {
     "name": "stderr",
     "output_type": "stream",
     "text": [
      "[Parallel(n_jobs=-1)]: Done   1 out of   1 | elapsed:    2.1s remaining:    0.0s\n"
     ]
    },
    {
     "name": "stdout",
     "output_type": "stream",
     "text": [
      "[CV] END ............................... score: (test=-7.314) total time=   2.1s\n",
      "[CV] START .....................................................................\n"
     ]
    },
    {
     "name": "stderr",
     "output_type": "stream",
     "text": [
      "[Parallel(n_jobs=-1)]: Done   2 out of   2 | elapsed:    4.2s remaining:    0.0s\n"
     ]
    },
    {
     "name": "stdout",
     "output_type": "stream",
     "text": [
      "[CV] END ............................... score: (test=-5.021) total time=   2.0s\n",
      "[CV] START .....................................................................\n"
     ]
    },
    {
     "name": "stderr",
     "output_type": "stream",
     "text": [
      "[Parallel(n_jobs=-1)]: Done   3 out of   3 | elapsed:    6.2s remaining:    0.0s\n"
     ]
    },
    {
     "name": "stdout",
     "output_type": "stream",
     "text": [
      "[CV] END ............................... score: (test=-6.748) total time=   2.0s\n",
      "[CV] START .....................................................................\n"
     ]
    },
    {
     "name": "stderr",
     "output_type": "stream",
     "text": [
      "[Parallel(n_jobs=-1)]: Done   4 out of   4 | elapsed:    8.2s remaining:    0.0s\n"
     ]
    },
    {
     "name": "stdout",
     "output_type": "stream",
     "text": [
      "[CV] END ............................... score: (test=-8.591) total time=   2.0s\n"
     ]
    },
    {
     "name": "stderr",
     "output_type": "stream",
     "text": [
      "[Parallel(n_jobs=-1)]: Done   5 out of   5 | elapsed:   10.2s remaining:    0.0s\n",
      "[Parallel(n_jobs=-1)]: Done   5 out of   5 | elapsed:   10.2s finished\n",
      "[Parallel(n_jobs=-1)]: Using backend SequentialBackend with 1 concurrent workers.\n"
     ]
    },
    {
     "name": "stdout",
     "output_type": "stream",
     "text": [
      "[CV] START .....................................................................\n",
      "[CV] END .............................. score: (test=-10.083) total time=   3.8s\n",
      "[CV] START .....................................................................\n"
     ]
    },
    {
     "name": "stderr",
     "output_type": "stream",
     "text": [
      "[Parallel(n_jobs=-1)]: Done   1 out of   1 | elapsed:    3.8s remaining:    0.0s\n"
     ]
    },
    {
     "name": "stdout",
     "output_type": "stream",
     "text": [
      "[CV] END ............................... score: (test=-6.694) total time=   3.8s\n",
      "[CV] START .....................................................................\n"
     ]
    },
    {
     "name": "stderr",
     "output_type": "stream",
     "text": [
      "[Parallel(n_jobs=-1)]: Done   2 out of   2 | elapsed:    7.6s remaining:    0.0s\n"
     ]
    },
    {
     "name": "stdout",
     "output_type": "stream",
     "text": [
      "[CV] END ............................... score: (test=-5.214) total time=   3.9s\n",
      "[CV] START .....................................................................\n"
     ]
    },
    {
     "name": "stderr",
     "output_type": "stream",
     "text": [
      "[Parallel(n_jobs=-1)]: Done   3 out of   3 | elapsed:   11.5s remaining:    0.0s\n"
     ]
    },
    {
     "name": "stdout",
     "output_type": "stream",
     "text": [
      "[CV] END ............................... score: (test=-6.413) total time=   3.8s\n",
      "[CV] START .....................................................................\n"
     ]
    },
    {
     "name": "stderr",
     "output_type": "stream",
     "text": [
      "[Parallel(n_jobs=-1)]: Done   4 out of   4 | elapsed:   15.3s remaining:    0.0s\n"
     ]
    },
    {
     "name": "stdout",
     "output_type": "stream",
     "text": [
      "[CV] END ............................... score: (test=-7.701) total time=   3.9s\n"
     ]
    },
    {
     "name": "stderr",
     "output_type": "stream",
     "text": [
      "[Parallel(n_jobs=-1)]: Done   5 out of   5 | elapsed:   19.2s remaining:    0.0s\n",
      "[Parallel(n_jobs=-1)]: Done   5 out of   5 | elapsed:   19.2s finished\n",
      "[Parallel(n_jobs=-1)]: Using backend SequentialBackend with 1 concurrent workers.\n"
     ]
    },
    {
     "name": "stdout",
     "output_type": "stream",
     "text": [
      "[CV] START .....................................................................\n",
      "[CV] END ............................... score: (test=-9.541) total time=   5.6s\n",
      "[CV] START .....................................................................\n"
     ]
    },
    {
     "name": "stderr",
     "output_type": "stream",
     "text": [
      "[Parallel(n_jobs=-1)]: Done   1 out of   1 | elapsed:    5.6s remaining:    0.0s\n"
     ]
    },
    {
     "name": "stdout",
     "output_type": "stream",
     "text": [
      "[CV] END ............................... score: (test=-6.156) total time=   5.4s\n",
      "[CV] START .....................................................................\n"
     ]
    },
    {
     "name": "stderr",
     "output_type": "stream",
     "text": [
      "[Parallel(n_jobs=-1)]: Done   2 out of   2 | elapsed:   11.1s remaining:    0.0s\n"
     ]
    },
    {
     "name": "stdout",
     "output_type": "stream",
     "text": [
      "[CV] END ............................... score: (test=-4.936) total time=   5.6s\n",
      "[CV] START .....................................................................\n"
     ]
    },
    {
     "name": "stderr",
     "output_type": "stream",
     "text": [
      "[Parallel(n_jobs=-1)]: Done   3 out of   3 | elapsed:   16.7s remaining:    0.0s\n"
     ]
    },
    {
     "name": "stdout",
     "output_type": "stream",
     "text": [
      "[CV] END ............................... score: (test=-5.538) total time=   5.3s\n",
      "[CV] START .....................................................................\n"
     ]
    },
    {
     "name": "stderr",
     "output_type": "stream",
     "text": [
      "[Parallel(n_jobs=-1)]: Done   4 out of   4 | elapsed:   22.0s remaining:    0.0s\n"
     ]
    },
    {
     "name": "stdout",
     "output_type": "stream",
     "text": [
      "[CV] END ............................... score: (test=-7.569) total time=   5.6s\n"
     ]
    },
    {
     "name": "stderr",
     "output_type": "stream",
     "text": [
      "[Parallel(n_jobs=-1)]: Done   5 out of   5 | elapsed:   27.6s remaining:    0.0s\n",
      "[Parallel(n_jobs=-1)]: Done   5 out of   5 | elapsed:   27.6s finished\n",
      "[Parallel(n_jobs=-1)]: Using backend SequentialBackend with 1 concurrent workers.\n"
     ]
    },
    {
     "name": "stdout",
     "output_type": "stream",
     "text": [
      "[CV] START .....................................................................\n",
      "[CV] END ............................... score: (test=-9.529) total time=   7.0s\n",
      "[CV] START .....................................................................\n"
     ]
    },
    {
     "name": "stderr",
     "output_type": "stream",
     "text": [
      "[Parallel(n_jobs=-1)]: Done   1 out of   1 | elapsed:    7.0s remaining:    0.0s\n"
     ]
    },
    {
     "name": "stdout",
     "output_type": "stream",
     "text": [
      "[CV] END ............................... score: (test=-6.664) total time=   7.2s\n",
      "[CV] START .....................................................................\n"
     ]
    },
    {
     "name": "stderr",
     "output_type": "stream",
     "text": [
      "[Parallel(n_jobs=-1)]: Done   2 out of   2 | elapsed:   14.2s remaining:    0.0s\n"
     ]
    },
    {
     "name": "stdout",
     "output_type": "stream",
     "text": [
      "[CV] END ............................... score: (test=-5.007) total time=   7.4s\n",
      "[CV] START .....................................................................\n"
     ]
    },
    {
     "name": "stderr",
     "output_type": "stream",
     "text": [
      "[Parallel(n_jobs=-1)]: Done   3 out of   3 | elapsed:   21.7s remaining:    0.0s\n"
     ]
    },
    {
     "name": "stdout",
     "output_type": "stream",
     "text": [
      "[CV] END ............................... score: (test=-5.227) total time=   7.3s\n",
      "[CV] START .....................................................................\n"
     ]
    },
    {
     "name": "stderr",
     "output_type": "stream",
     "text": [
      "[Parallel(n_jobs=-1)]: Done   4 out of   4 | elapsed:   29.0s remaining:    0.0s\n"
     ]
    },
    {
     "name": "stdout",
     "output_type": "stream",
     "text": [
      "[CV] END ............................... score: (test=-7.406) total time=   7.4s\n"
     ]
    },
    {
     "name": "stderr",
     "output_type": "stream",
     "text": [
      "[Parallel(n_jobs=-1)]: Done   5 out of   5 | elapsed:   36.4s remaining:    0.0s\n",
      "[Parallel(n_jobs=-1)]: Done   5 out of   5 | elapsed:   36.4s finished\n",
      "[Parallel(n_jobs=-1)]: Using backend SequentialBackend with 1 concurrent workers.\n"
     ]
    },
    {
     "name": "stdout",
     "output_type": "stream",
     "text": [
      "[CV] START .....................................................................\n",
      "[CV] END ............................... score: (test=-9.345) total time=   9.0s\n",
      "[CV] START .....................................................................\n"
     ]
    },
    {
     "name": "stderr",
     "output_type": "stream",
     "text": [
      "[Parallel(n_jobs=-1)]: Done   1 out of   1 | elapsed:    9.0s remaining:    0.0s\n"
     ]
    },
    {
     "name": "stdout",
     "output_type": "stream",
     "text": [
      "[CV] END ............................... score: (test=-6.825) total time=   8.8s\n",
      "[CV] START .....................................................................\n"
     ]
    },
    {
     "name": "stderr",
     "output_type": "stream",
     "text": [
      "[Parallel(n_jobs=-1)]: Done   2 out of   2 | elapsed:   17.8s remaining:    0.0s\n"
     ]
    },
    {
     "name": "stdout",
     "output_type": "stream",
     "text": [
      "[CV] END ............................... score: (test=-4.941) total time=   8.8s\n",
      "[CV] START .....................................................................\n"
     ]
    },
    {
     "name": "stderr",
     "output_type": "stream",
     "text": [
      "[Parallel(n_jobs=-1)]: Done   3 out of   3 | elapsed:   26.6s remaining:    0.0s\n"
     ]
    },
    {
     "name": "stdout",
     "output_type": "stream",
     "text": [
      "[CV] END ............................... score: (test=-4.930) total time=   8.6s\n",
      "[CV] START .....................................................................\n"
     ]
    },
    {
     "name": "stderr",
     "output_type": "stream",
     "text": [
      "[Parallel(n_jobs=-1)]: Done   4 out of   4 | elapsed:   35.2s remaining:    0.0s\n"
     ]
    },
    {
     "name": "stdout",
     "output_type": "stream",
     "text": [
      "[CV] END ............................... score: (test=-7.428) total time=   8.7s\n"
     ]
    },
    {
     "name": "stderr",
     "output_type": "stream",
     "text": [
      "[Parallel(n_jobs=-1)]: Done   5 out of   5 | elapsed:   43.8s remaining:    0.0s\n",
      "[Parallel(n_jobs=-1)]: Done   5 out of   5 | elapsed:   43.8s finished\n"
     ]
    },
    {
     "name": "stdout",
     "output_type": "stream",
     "text": [
      "RandomForestRegressor(max_depth=5, n_estimators=10, random_state=12345) \n",
      " 6.648038598597859\n"
     ]
    }
   ],
   "source": [
    "#подбор идеальной модели для предсказания rougher\n",
    "best_model_forest_rougher = None\n",
    "best_score_forest_rougher = 100 \n",
    "score_rougher = []\n",
    "for est in range(10, 51, 10):\n",
    "    for depth in range(1, 6):\n",
    "        #rougher\n",
    "        model_forest_rougher = RandomForestRegressor(random_state=12345, max_depth=depth,\\\n",
    "                                                     n_estimators=est)\n",
    "        score_rougher = cross_val_score(model_forest_rougher, features_train, target_train_rougher,\\\n",
    "                             scoring=smape_score, verbose=10, n_jobs=-1, cv=5)\n",
    "        model_forest_rougher.fit(features_train, target_train_rougher)\n",
    "        final_score_rougher = (score_rougher * -1).mean()\n",
    "        if final_score_rougher < best_score_forest_rougher:\n",
    "            best_score_forest_rougher = final_score_rougher\n",
    "            best_model_forest_rougher = model_forest_rougher\n",
    "print (best_model_forest_rougher, \"\\n\", best_score_forest_rougher)"
   ]
  },
  {
   "cell_type": "markdown",
   "metadata": {},
   "source": [
    "**Лучшие показатели rougher: RandomForestRegressor(max_depth=5, n_estimators=10), sMAPE= 6.648038598597859**"
   ]
  },
  {
   "cell_type": "code",
   "execution_count": 57,
   "metadata": {
    "scrolled": true
   },
   "outputs": [
    {
     "name": "stderr",
     "output_type": "stream",
     "text": [
      "[Parallel(n_jobs=-1)]: Using backend SequentialBackend with 1 concurrent workers.\n"
     ]
    },
    {
     "name": "stdout",
     "output_type": "stream",
     "text": [
      "[CV] START .....................................................................\n",
      "[CV] END ............................... score: (test=-9.686) total time=   0.4s\n",
      "[CV] START .....................................................................\n"
     ]
    },
    {
     "name": "stderr",
     "output_type": "stream",
     "text": [
      "[Parallel(n_jobs=-1)]: Done   1 out of   1 | elapsed:    0.4s remaining:    0.0s\n"
     ]
    },
    {
     "name": "stdout",
     "output_type": "stream",
     "text": [
      "[CV] END ............................... score: (test=-8.056) total time=   0.4s\n",
      "[CV] START .....................................................................\n"
     ]
    },
    {
     "name": "stderr",
     "output_type": "stream",
     "text": [
      "[Parallel(n_jobs=-1)]: Done   2 out of   2 | elapsed:    0.9s remaining:    0.0s\n"
     ]
    },
    {
     "name": "stdout",
     "output_type": "stream",
     "text": [
      "[CV] END ............................... score: (test=-8.890) total time=   0.4s\n",
      "[CV] START .....................................................................\n"
     ]
    },
    {
     "name": "stderr",
     "output_type": "stream",
     "text": [
      "[Parallel(n_jobs=-1)]: Done   3 out of   3 | elapsed:    1.3s remaining:    0.0s\n"
     ]
    },
    {
     "name": "stdout",
     "output_type": "stream",
     "text": [
      "[CV] END .............................. score: (test=-10.801) total time=   0.4s\n",
      "[CV] START .....................................................................\n"
     ]
    },
    {
     "name": "stderr",
     "output_type": "stream",
     "text": [
      "[Parallel(n_jobs=-1)]: Done   4 out of   4 | elapsed:    1.7s remaining:    0.0s\n"
     ]
    },
    {
     "name": "stdout",
     "output_type": "stream",
     "text": [
      "[CV] END .............................. score: (test=-11.401) total time=   0.4s\n"
     ]
    },
    {
     "name": "stderr",
     "output_type": "stream",
     "text": [
      "[Parallel(n_jobs=-1)]: Done   5 out of   5 | elapsed:    2.1s remaining:    0.0s\n",
      "[Parallel(n_jobs=-1)]: Done   5 out of   5 | elapsed:    2.1s finished\n",
      "[Parallel(n_jobs=-1)]: Using backend SequentialBackend with 1 concurrent workers.\n"
     ]
    },
    {
     "name": "stdout",
     "output_type": "stream",
     "text": [
      "[CV] START .....................................................................\n",
      "[CV] END ............................... score: (test=-9.697) total time=   0.8s\n",
      "[CV] START .....................................................................\n"
     ]
    },
    {
     "name": "stderr",
     "output_type": "stream",
     "text": [
      "[Parallel(n_jobs=-1)]: Done   1 out of   1 | elapsed:    0.8s remaining:    0.0s\n"
     ]
    },
    {
     "name": "stdout",
     "output_type": "stream",
     "text": [
      "[CV] END ............................... score: (test=-7.608) total time=   0.8s\n",
      "[CV] START .....................................................................\n"
     ]
    },
    {
     "name": "stderr",
     "output_type": "stream",
     "text": [
      "[Parallel(n_jobs=-1)]: Done   2 out of   2 | elapsed:    1.6s remaining:    0.0s\n"
     ]
    },
    {
     "name": "stdout",
     "output_type": "stream",
     "text": [
      "[CV] END ............................... score: (test=-8.836) total time=   0.8s\n",
      "[CV] START .....................................................................\n"
     ]
    },
    {
     "name": "stderr",
     "output_type": "stream",
     "text": [
      "[Parallel(n_jobs=-1)]: Done   3 out of   3 | elapsed:    2.5s remaining:    0.0s\n"
     ]
    },
    {
     "name": "stdout",
     "output_type": "stream",
     "text": [
      "[CV] END ............................... score: (test=-9.486) total time=   0.8s\n",
      "[CV] START .....................................................................\n"
     ]
    },
    {
     "name": "stderr",
     "output_type": "stream",
     "text": [
      "[Parallel(n_jobs=-1)]: Done   4 out of   4 | elapsed:    3.3s remaining:    0.0s\n"
     ]
    },
    {
     "name": "stdout",
     "output_type": "stream",
     "text": [
      "[CV] END .............................. score: (test=-10.758) total time=   0.8s\n"
     ]
    },
    {
     "name": "stderr",
     "output_type": "stream",
     "text": [
      "[Parallel(n_jobs=-1)]: Done   5 out of   5 | elapsed:    4.1s remaining:    0.0s\n",
      "[Parallel(n_jobs=-1)]: Done   5 out of   5 | elapsed:    4.1s finished\n",
      "[Parallel(n_jobs=-1)]: Using backend SequentialBackend with 1 concurrent workers.\n"
     ]
    },
    {
     "name": "stdout",
     "output_type": "stream",
     "text": [
      "[CV] START .....................................................................\n",
      "[CV] END ............................... score: (test=-9.841) total time=   1.3s\n",
      "[CV] START .....................................................................\n"
     ]
    },
    {
     "name": "stderr",
     "output_type": "stream",
     "text": [
      "[Parallel(n_jobs=-1)]: Done   1 out of   1 | elapsed:    1.3s remaining:    0.0s\n"
     ]
    },
    {
     "name": "stdout",
     "output_type": "stream",
     "text": [
      "[CV] END ............................... score: (test=-7.832) total time=   1.1s\n",
      "[CV] START .....................................................................\n"
     ]
    },
    {
     "name": "stderr",
     "output_type": "stream",
     "text": [
      "[Parallel(n_jobs=-1)]: Done   2 out of   2 | elapsed:    2.4s remaining:    0.0s\n"
     ]
    },
    {
     "name": "stdout",
     "output_type": "stream",
     "text": [
      "[CV] END ............................... score: (test=-9.126) total time=   1.2s\n",
      "[CV] START .....................................................................\n"
     ]
    },
    {
     "name": "stderr",
     "output_type": "stream",
     "text": [
      "[Parallel(n_jobs=-1)]: Done   3 out of   3 | elapsed:    3.6s remaining:    0.0s\n"
     ]
    },
    {
     "name": "stdout",
     "output_type": "stream",
     "text": [
      "[CV] END ............................... score: (test=-9.237) total time=   1.2s\n",
      "[CV] START .....................................................................\n"
     ]
    },
    {
     "name": "stderr",
     "output_type": "stream",
     "text": [
      "[Parallel(n_jobs=-1)]: Done   4 out of   4 | elapsed:    4.8s remaining:    0.0s\n"
     ]
    },
    {
     "name": "stdout",
     "output_type": "stream",
     "text": [
      "[CV] END .............................. score: (test=-10.005) total time=   1.2s\n"
     ]
    },
    {
     "name": "stderr",
     "output_type": "stream",
     "text": [
      "[Parallel(n_jobs=-1)]: Done   5 out of   5 | elapsed:    6.0s remaining:    0.0s\n",
      "[Parallel(n_jobs=-1)]: Done   5 out of   5 | elapsed:    6.0s finished\n",
      "[Parallel(n_jobs=-1)]: Using backend SequentialBackend with 1 concurrent workers.\n"
     ]
    },
    {
     "name": "stdout",
     "output_type": "stream",
     "text": [
      "[CV] START .....................................................................\n",
      "[CV] END ............................... score: (test=-9.537) total time=   1.5s\n",
      "[CV] START .....................................................................\n"
     ]
    },
    {
     "name": "stderr",
     "output_type": "stream",
     "text": [
      "[Parallel(n_jobs=-1)]: Done   1 out of   1 | elapsed:    1.5s remaining:    0.0s\n"
     ]
    },
    {
     "name": "stdout",
     "output_type": "stream",
     "text": [
      "[CV] END ............................... score: (test=-8.532) total time=   1.6s\n",
      "[CV] START .....................................................................\n"
     ]
    },
    {
     "name": "stderr",
     "output_type": "stream",
     "text": [
      "[Parallel(n_jobs=-1)]: Done   2 out of   2 | elapsed:    3.2s remaining:    0.0s\n"
     ]
    },
    {
     "name": "stdout",
     "output_type": "stream",
     "text": [
      "[CV] END ............................... score: (test=-9.069) total time=   1.5s\n",
      "[CV] START .....................................................................\n"
     ]
    },
    {
     "name": "stderr",
     "output_type": "stream",
     "text": [
      "[Parallel(n_jobs=-1)]: Done   3 out of   3 | elapsed:    4.7s remaining:    0.0s\n"
     ]
    },
    {
     "name": "stdout",
     "output_type": "stream",
     "text": [
      "[CV] END ............................... score: (test=-8.634) total time=   1.5s\n",
      "[CV] START .....................................................................\n"
     ]
    },
    {
     "name": "stderr",
     "output_type": "stream",
     "text": [
      "[Parallel(n_jobs=-1)]: Done   4 out of   4 | elapsed:    6.2s remaining:    0.0s\n"
     ]
    },
    {
     "name": "stdout",
     "output_type": "stream",
     "text": [
      "[CV] END ............................... score: (test=-9.847) total time=   1.5s\n"
     ]
    },
    {
     "name": "stderr",
     "output_type": "stream",
     "text": [
      "[Parallel(n_jobs=-1)]: Done   5 out of   5 | elapsed:    7.7s remaining:    0.0s\n",
      "[Parallel(n_jobs=-1)]: Done   5 out of   5 | elapsed:    7.7s finished\n",
      "[Parallel(n_jobs=-1)]: Using backend SequentialBackend with 1 concurrent workers.\n"
     ]
    },
    {
     "name": "stdout",
     "output_type": "stream",
     "text": [
      "[CV] START .....................................................................\n",
      "[CV] END ............................... score: (test=-9.394) total time=   1.8s\n",
      "[CV] START .....................................................................\n"
     ]
    },
    {
     "name": "stderr",
     "output_type": "stream",
     "text": [
      "[Parallel(n_jobs=-1)]: Done   1 out of   1 | elapsed:    1.8s remaining:    0.0s\n"
     ]
    },
    {
     "name": "stdout",
     "output_type": "stream",
     "text": [
      "[CV] END ............................... score: (test=-9.128) total time=   1.9s\n",
      "[CV] START .....................................................................\n"
     ]
    },
    {
     "name": "stderr",
     "output_type": "stream",
     "text": [
      "[Parallel(n_jobs=-1)]: Done   2 out of   2 | elapsed:    3.7s remaining:    0.0s\n"
     ]
    },
    {
     "name": "stdout",
     "output_type": "stream",
     "text": [
      "[CV] END ............................... score: (test=-9.035) total time=   1.8s\n",
      "[CV] START .....................................................................\n"
     ]
    },
    {
     "name": "stderr",
     "output_type": "stream",
     "text": [
      "[Parallel(n_jobs=-1)]: Done   3 out of   3 | elapsed:    5.5s remaining:    0.0s\n"
     ]
    },
    {
     "name": "stdout",
     "output_type": "stream",
     "text": [
      "[CV] END ............................... score: (test=-8.625) total time=   1.8s\n",
      "[CV] START .....................................................................\n"
     ]
    },
    {
     "name": "stderr",
     "output_type": "stream",
     "text": [
      "[Parallel(n_jobs=-1)]: Done   4 out of   4 | elapsed:    7.3s remaining:    0.0s\n"
     ]
    },
    {
     "name": "stdout",
     "output_type": "stream",
     "text": [
      "[CV] END .............................. score: (test=-10.760) total time=   1.9s\n"
     ]
    },
    {
     "name": "stderr",
     "output_type": "stream",
     "text": [
      "[Parallel(n_jobs=-1)]: Done   5 out of   5 | elapsed:    9.2s remaining:    0.0s\n",
      "[Parallel(n_jobs=-1)]: Done   5 out of   5 | elapsed:    9.2s finished\n",
      "[Parallel(n_jobs=-1)]: Using backend SequentialBackend with 1 concurrent workers.\n"
     ]
    },
    {
     "name": "stdout",
     "output_type": "stream",
     "text": [
      "[CV] START .....................................................................\n",
      "[CV] END ............................... score: (test=-9.684) total time=   0.8s\n",
      "[CV] START .....................................................................\n"
     ]
    },
    {
     "name": "stderr",
     "output_type": "stream",
     "text": [
      "[Parallel(n_jobs=-1)]: Done   1 out of   1 | elapsed:    0.8s remaining:    0.0s\n"
     ]
    },
    {
     "name": "stdout",
     "output_type": "stream",
     "text": [
      "[CV] END ............................... score: (test=-8.056) total time=   0.8s\n",
      "[CV] START .....................................................................\n"
     ]
    },
    {
     "name": "stderr",
     "output_type": "stream",
     "text": [
      "[Parallel(n_jobs=-1)]: Done   2 out of   2 | elapsed:    1.7s remaining:    0.0s\n"
     ]
    },
    {
     "name": "stdout",
     "output_type": "stream",
     "text": [
      "[CV] END ............................... score: (test=-9.063) total time=   1.0s\n",
      "[CV] START .....................................................................\n"
     ]
    },
    {
     "name": "stderr",
     "output_type": "stream",
     "text": [
      "[Parallel(n_jobs=-1)]: Done   3 out of   3 | elapsed:    2.7s remaining:    0.0s\n"
     ]
    },
    {
     "name": "stdout",
     "output_type": "stream",
     "text": [
      "[CV] END .............................. score: (test=-10.699) total time=   0.8s\n",
      "[CV] START .....................................................................\n"
     ]
    },
    {
     "name": "stderr",
     "output_type": "stream",
     "text": [
      "[Parallel(n_jobs=-1)]: Done   4 out of   4 | elapsed:    3.5s remaining:    0.0s\n"
     ]
    },
    {
     "name": "stdout",
     "output_type": "stream",
     "text": [
      "[CV] END .............................. score: (test=-11.379) total time=   0.8s\n"
     ]
    },
    {
     "name": "stderr",
     "output_type": "stream",
     "text": [
      "[Parallel(n_jobs=-1)]: Done   5 out of   5 | elapsed:    4.4s remaining:    0.0s\n",
      "[Parallel(n_jobs=-1)]: Done   5 out of   5 | elapsed:    4.4s finished\n",
      "[Parallel(n_jobs=-1)]: Using backend SequentialBackend with 1 concurrent workers.\n"
     ]
    },
    {
     "name": "stdout",
     "output_type": "stream",
     "text": [
      "[CV] START .....................................................................\n",
      "[CV] END ............................... score: (test=-9.653) total time=   1.6s\n",
      "[CV] START .....................................................................\n"
     ]
    },
    {
     "name": "stderr",
     "output_type": "stream",
     "text": [
      "[Parallel(n_jobs=-1)]: Done   1 out of   1 | elapsed:    1.6s remaining:    0.0s\n"
     ]
    },
    {
     "name": "stdout",
     "output_type": "stream",
     "text": [
      "[CV] END ............................... score: (test=-7.620) total time=   1.6s\n",
      "[CV] START .....................................................................\n"
     ]
    },
    {
     "name": "stderr",
     "output_type": "stream",
     "text": [
      "[Parallel(n_jobs=-1)]: Done   2 out of   2 | elapsed:    3.2s remaining:    0.0s\n"
     ]
    },
    {
     "name": "stdout",
     "output_type": "stream",
     "text": [
      "[CV] END ............................... score: (test=-9.177) total time=   1.6s\n",
      "[CV] START .....................................................................\n"
     ]
    },
    {
     "name": "stderr",
     "output_type": "stream",
     "text": [
      "[Parallel(n_jobs=-1)]: Done   3 out of   3 | elapsed:    4.8s remaining:    0.0s\n"
     ]
    },
    {
     "name": "stdout",
     "output_type": "stream",
     "text": [
      "[CV] END ............................... score: (test=-9.460) total time=   1.7s\n",
      "[CV] START .....................................................................\n"
     ]
    },
    {
     "name": "stderr",
     "output_type": "stream",
     "text": [
      "[Parallel(n_jobs=-1)]: Done   4 out of   4 | elapsed:    6.5s remaining:    0.0s\n"
     ]
    },
    {
     "name": "stdout",
     "output_type": "stream",
     "text": [
      "[CV] END .............................. score: (test=-10.729) total time=   1.6s\n"
     ]
    },
    {
     "name": "stderr",
     "output_type": "stream",
     "text": [
      "[Parallel(n_jobs=-1)]: Done   5 out of   5 | elapsed:    8.1s remaining:    0.0s\n",
      "[Parallel(n_jobs=-1)]: Done   5 out of   5 | elapsed:    8.1s finished\n",
      "[Parallel(n_jobs=-1)]: Using backend SequentialBackend with 1 concurrent workers.\n"
     ]
    },
    {
     "name": "stdout",
     "output_type": "stream",
     "text": [
      "[CV] START .....................................................................\n",
      "[CV] END ............................... score: (test=-9.747) total time=   2.3s\n",
      "[CV] START .....................................................................\n"
     ]
    },
    {
     "name": "stderr",
     "output_type": "stream",
     "text": [
      "[Parallel(n_jobs=-1)]: Done   1 out of   1 | elapsed:    2.3s remaining:    0.0s\n"
     ]
    },
    {
     "name": "stdout",
     "output_type": "stream",
     "text": [
      "[CV] END ............................... score: (test=-7.956) total time=   2.3s\n",
      "[CV] START .....................................................................\n"
     ]
    },
    {
     "name": "stderr",
     "output_type": "stream",
     "text": [
      "[Parallel(n_jobs=-1)]: Done   2 out of   2 | elapsed:    4.6s remaining:    0.0s\n"
     ]
    },
    {
     "name": "stdout",
     "output_type": "stream",
     "text": [
      "[CV] END ............................... score: (test=-9.505) total time=   2.8s\n",
      "[CV] START .....................................................................\n"
     ]
    },
    {
     "name": "stderr",
     "output_type": "stream",
     "text": [
      "[Parallel(n_jobs=-1)]: Done   3 out of   3 | elapsed:    7.4s remaining:    0.0s\n"
     ]
    },
    {
     "name": "stdout",
     "output_type": "stream",
     "text": [
      "[CV] END ............................... score: (test=-9.197) total time=   2.4s\n",
      "[CV] START .....................................................................\n"
     ]
    },
    {
     "name": "stderr",
     "output_type": "stream",
     "text": [
      "[Parallel(n_jobs=-1)]: Done   4 out of   4 | elapsed:    9.8s remaining:    0.0s\n"
     ]
    },
    {
     "name": "stdout",
     "output_type": "stream",
     "text": [
      "[CV] END ............................... score: (test=-9.937) total time=   2.4s\n"
     ]
    },
    {
     "name": "stderr",
     "output_type": "stream",
     "text": [
      "[Parallel(n_jobs=-1)]: Done   5 out of   5 | elapsed:   12.2s remaining:    0.0s\n",
      "[Parallel(n_jobs=-1)]: Done   5 out of   5 | elapsed:   12.2s finished\n",
      "[Parallel(n_jobs=-1)]: Using backend SequentialBackend with 1 concurrent workers.\n"
     ]
    },
    {
     "name": "stdout",
     "output_type": "stream",
     "text": [
      "[CV] START .....................................................................\n",
      "[CV] END ............................... score: (test=-9.560) total time=   3.1s\n",
      "[CV] START .....................................................................\n"
     ]
    },
    {
     "name": "stderr",
     "output_type": "stream",
     "text": [
      "[Parallel(n_jobs=-1)]: Done   1 out of   1 | elapsed:    3.1s remaining:    0.0s\n"
     ]
    },
    {
     "name": "stdout",
     "output_type": "stream",
     "text": [
      "[CV] END ............................... score: (test=-8.767) total time=   3.2s\n",
      "[CV] START .....................................................................\n"
     ]
    },
    {
     "name": "stderr",
     "output_type": "stream",
     "text": [
      "[Parallel(n_jobs=-1)]: Done   2 out of   2 | elapsed:    6.3s remaining:    0.0s\n"
     ]
    },
    {
     "name": "stdout",
     "output_type": "stream",
     "text": [
      "[CV] END ............................... score: (test=-9.342) total time=   3.2s\n",
      "[CV] START .....................................................................\n"
     ]
    },
    {
     "name": "stderr",
     "output_type": "stream",
     "text": [
      "[Parallel(n_jobs=-1)]: Done   3 out of   3 | elapsed:    9.5s remaining:    0.0s\n"
     ]
    },
    {
     "name": "stdout",
     "output_type": "stream",
     "text": [
      "[CV] END ............................... score: (test=-8.600) total time=   3.4s\n",
      "[CV] START .....................................................................\n"
     ]
    },
    {
     "name": "stderr",
     "output_type": "stream",
     "text": [
      "[Parallel(n_jobs=-1)]: Done   4 out of   4 | elapsed:   12.9s remaining:    0.0s\n"
     ]
    },
    {
     "name": "stdout",
     "output_type": "stream",
     "text": [
      "[CV] END ............................... score: (test=-9.645) total time=   3.2s\n"
     ]
    },
    {
     "name": "stderr",
     "output_type": "stream",
     "text": [
      "[Parallel(n_jobs=-1)]: Done   5 out of   5 | elapsed:   16.1s remaining:    0.0s\n",
      "[Parallel(n_jobs=-1)]: Done   5 out of   5 | elapsed:   16.1s finished\n",
      "[Parallel(n_jobs=-1)]: Using backend SequentialBackend with 1 concurrent workers.\n"
     ]
    },
    {
     "name": "stdout",
     "output_type": "stream",
     "text": [
      "[CV] START .....................................................................\n",
      "[CV] END ............................... score: (test=-9.327) total time=   4.0s\n",
      "[CV] START .....................................................................\n"
     ]
    },
    {
     "name": "stderr",
     "output_type": "stream",
     "text": [
      "[Parallel(n_jobs=-1)]: Done   1 out of   1 | elapsed:    4.0s remaining:    0.0s\n"
     ]
    },
    {
     "name": "stdout",
     "output_type": "stream",
     "text": [
      "[CV] END ............................... score: (test=-9.774) total time=   3.9s\n",
      "[CV] START .....................................................................\n"
     ]
    },
    {
     "name": "stderr",
     "output_type": "stream",
     "text": [
      "[Parallel(n_jobs=-1)]: Done   2 out of   2 | elapsed:    7.9s remaining:    0.0s\n"
     ]
    },
    {
     "name": "stdout",
     "output_type": "stream",
     "text": [
      "[CV] END ............................... score: (test=-9.210) total time=   4.0s\n",
      "[CV] START .....................................................................\n"
     ]
    },
    {
     "name": "stderr",
     "output_type": "stream",
     "text": [
      "[Parallel(n_jobs=-1)]: Done   3 out of   3 | elapsed:   11.9s remaining:    0.0s\n"
     ]
    },
    {
     "name": "stdout",
     "output_type": "stream",
     "text": [
      "[CV] END ............................... score: (test=-8.559) total time=   3.9s\n",
      "[CV] START .....................................................................\n"
     ]
    },
    {
     "name": "stderr",
     "output_type": "stream",
     "text": [
      "[Parallel(n_jobs=-1)]: Done   4 out of   4 | elapsed:   15.8s remaining:    0.0s\n"
     ]
    },
    {
     "name": "stdout",
     "output_type": "stream",
     "text": [
      "[CV] END .............................. score: (test=-10.626) total time=   3.9s\n"
     ]
    },
    {
     "name": "stderr",
     "output_type": "stream",
     "text": [
      "[Parallel(n_jobs=-1)]: Done   5 out of   5 | elapsed:   19.7s remaining:    0.0s\n",
      "[Parallel(n_jobs=-1)]: Done   5 out of   5 | elapsed:   19.7s finished\n",
      "[Parallel(n_jobs=-1)]: Using backend SequentialBackend with 1 concurrent workers.\n"
     ]
    },
    {
     "name": "stdout",
     "output_type": "stream",
     "text": [
      "[CV] START .....................................................................\n",
      "[CV] END ............................... score: (test=-9.690) total time=   1.3s\n",
      "[CV] START .....................................................................\n"
     ]
    },
    {
     "name": "stderr",
     "output_type": "stream",
     "text": [
      "[Parallel(n_jobs=-1)]: Done   1 out of   1 | elapsed:    1.4s remaining:    0.0s\n"
     ]
    },
    {
     "name": "stdout",
     "output_type": "stream",
     "text": [
      "[CV] END ............................... score: (test=-8.054) total time=   1.4s\n",
      "[CV] START .....................................................................\n"
     ]
    },
    {
     "name": "stderr",
     "output_type": "stream",
     "text": [
      "[Parallel(n_jobs=-1)]: Done   2 out of   2 | elapsed:    2.7s remaining:    0.0s\n"
     ]
    },
    {
     "name": "stdout",
     "output_type": "stream",
     "text": [
      "[CV] END ............................... score: (test=-8.994) total time=   1.4s\n",
      "[CV] START .....................................................................\n"
     ]
    },
    {
     "name": "stderr",
     "output_type": "stream",
     "text": [
      "[Parallel(n_jobs=-1)]: Done   3 out of   3 | elapsed:    4.1s remaining:    0.0s\n"
     ]
    },
    {
     "name": "stdout",
     "output_type": "stream",
     "text": [
      "[CV] END .............................. score: (test=-10.670) total time=   1.3s\n",
      "[CV] START .....................................................................\n"
     ]
    },
    {
     "name": "stderr",
     "output_type": "stream",
     "text": [
      "[Parallel(n_jobs=-1)]: Done   4 out of   4 | elapsed:    5.4s remaining:    0.0s\n"
     ]
    },
    {
     "name": "stdout",
     "output_type": "stream",
     "text": [
      "[CV] END .............................. score: (test=-11.372) total time=   1.5s\n"
     ]
    },
    {
     "name": "stderr",
     "output_type": "stream",
     "text": [
      "[Parallel(n_jobs=-1)]: Done   5 out of   5 | elapsed:    6.9s remaining:    0.0s\n",
      "[Parallel(n_jobs=-1)]: Done   5 out of   5 | elapsed:    6.9s finished\n",
      "[Parallel(n_jobs=-1)]: Using backend SequentialBackend with 1 concurrent workers.\n"
     ]
    },
    {
     "name": "stdout",
     "output_type": "stream",
     "text": [
      "[CV] START .....................................................................\n",
      "[CV] END ............................... score: (test=-9.653) total time=   2.5s\n",
      "[CV] START .....................................................................\n"
     ]
    },
    {
     "name": "stderr",
     "output_type": "stream",
     "text": [
      "[Parallel(n_jobs=-1)]: Done   1 out of   1 | elapsed:    2.6s remaining:    0.0s\n"
     ]
    },
    {
     "name": "stdout",
     "output_type": "stream",
     "text": [
      "[CV] END ............................... score: (test=-7.627) total time=   2.6s\n",
      "[CV] START .....................................................................\n"
     ]
    },
    {
     "name": "stderr",
     "output_type": "stream",
     "text": [
      "[Parallel(n_jobs=-1)]: Done   2 out of   2 | elapsed:    5.2s remaining:    0.0s\n"
     ]
    },
    {
     "name": "stdout",
     "output_type": "stream",
     "text": [
      "[CV] END ............................... score: (test=-9.146) total time=   2.7s\n",
      "[CV] START .....................................................................\n"
     ]
    },
    {
     "name": "stderr",
     "output_type": "stream",
     "text": [
      "[Parallel(n_jobs=-1)]: Done   3 out of   3 | elapsed:    7.8s remaining:    0.0s\n"
     ]
    },
    {
     "name": "stdout",
     "output_type": "stream",
     "text": [
      "[CV] END ............................... score: (test=-9.469) total time=   2.6s\n",
      "[CV] START .....................................................................\n"
     ]
    },
    {
     "name": "stderr",
     "output_type": "stream",
     "text": [
      "[Parallel(n_jobs=-1)]: Done   4 out of   4 | elapsed:   10.4s remaining:    0.0s\n"
     ]
    },
    {
     "name": "stdout",
     "output_type": "stream",
     "text": [
      "[CV] END .............................. score: (test=-10.713) total time=   2.6s\n"
     ]
    },
    {
     "name": "stderr",
     "output_type": "stream",
     "text": [
      "[Parallel(n_jobs=-1)]: Done   5 out of   5 | elapsed:   12.9s remaining:    0.0s\n",
      "[Parallel(n_jobs=-1)]: Done   5 out of   5 | elapsed:   12.9s finished\n",
      "[Parallel(n_jobs=-1)]: Using backend SequentialBackend with 1 concurrent workers.\n"
     ]
    },
    {
     "name": "stdout",
     "output_type": "stream",
     "text": [
      "[CV] START .....................................................................\n",
      "[CV] END ............................... score: (test=-9.785) total time=   3.9s\n",
      "[CV] START .....................................................................\n"
     ]
    },
    {
     "name": "stderr",
     "output_type": "stream",
     "text": [
      "[Parallel(n_jobs=-1)]: Done   1 out of   1 | elapsed:    3.9s remaining:    0.0s\n"
     ]
    },
    {
     "name": "stdout",
     "output_type": "stream",
     "text": [
      "[CV] END ............................... score: (test=-7.902) total time=   3.7s\n",
      "[CV] START .....................................................................\n"
     ]
    },
    {
     "name": "stderr",
     "output_type": "stream",
     "text": [
      "[Parallel(n_jobs=-1)]: Done   2 out of   2 | elapsed:    7.6s remaining:    0.0s\n"
     ]
    },
    {
     "name": "stdout",
     "output_type": "stream",
     "text": [
      "[CV] END ............................... score: (test=-9.432) total time=   3.7s\n",
      "[CV] START .....................................................................\n"
     ]
    },
    {
     "name": "stderr",
     "output_type": "stream",
     "text": [
      "[Parallel(n_jobs=-1)]: Done   3 out of   3 | elapsed:   11.4s remaining:    0.0s\n"
     ]
    },
    {
     "name": "stdout",
     "output_type": "stream",
     "text": [
      "[CV] END ............................... score: (test=-9.162) total time=   3.8s\n",
      "[CV] START .....................................................................\n"
     ]
    },
    {
     "name": "stderr",
     "output_type": "stream",
     "text": [
      "[Parallel(n_jobs=-1)]: Done   4 out of   4 | elapsed:   15.2s remaining:    0.0s\n"
     ]
    },
    {
     "name": "stdout",
     "output_type": "stream",
     "text": [
      "[CV] END ............................... score: (test=-9.932) total time=   3.7s\n"
     ]
    },
    {
     "name": "stderr",
     "output_type": "stream",
     "text": [
      "[Parallel(n_jobs=-1)]: Done   5 out of   5 | elapsed:   18.8s remaining:    0.0s\n",
      "[Parallel(n_jobs=-1)]: Done   5 out of   5 | elapsed:   18.8s finished\n",
      "[Parallel(n_jobs=-1)]: Using backend SequentialBackend with 1 concurrent workers.\n"
     ]
    },
    {
     "name": "stdout",
     "output_type": "stream",
     "text": [
      "[CV] START .....................................................................\n",
      "[CV] END ............................... score: (test=-9.450) total time=   5.1s\n",
      "[CV] START .....................................................................\n"
     ]
    },
    {
     "name": "stderr",
     "output_type": "stream",
     "text": [
      "[Parallel(n_jobs=-1)]: Done   1 out of   1 | elapsed:    5.1s remaining:    0.0s\n"
     ]
    },
    {
     "name": "stdout",
     "output_type": "stream",
     "text": [
      "[CV] END ............................... score: (test=-8.710) total time=   5.0s\n",
      "[CV] START .....................................................................\n"
     ]
    },
    {
     "name": "stderr",
     "output_type": "stream",
     "text": [
      "[Parallel(n_jobs=-1)]: Done   2 out of   2 | elapsed:   10.1s remaining:    0.0s\n"
     ]
    },
    {
     "name": "stdout",
     "output_type": "stream",
     "text": [
      "[CV] END ............................... score: (test=-9.342) total time=   4.9s\n",
      "[CV] START .....................................................................\n"
     ]
    },
    {
     "name": "stderr",
     "output_type": "stream",
     "text": [
      "[Parallel(n_jobs=-1)]: Done   3 out of   3 | elapsed:   15.0s remaining:    0.0s\n"
     ]
    },
    {
     "name": "stdout",
     "output_type": "stream",
     "text": [
      "[CV] END ............................... score: (test=-8.668) total time=   5.5s\n",
      "[CV] START .....................................................................\n"
     ]
    },
    {
     "name": "stderr",
     "output_type": "stream",
     "text": [
      "[Parallel(n_jobs=-1)]: Done   4 out of   4 | elapsed:   20.5s remaining:    0.0s\n"
     ]
    },
    {
     "name": "stdout",
     "output_type": "stream",
     "text": [
      "[CV] END ............................... score: (test=-9.693) total time=   4.9s\n"
     ]
    },
    {
     "name": "stderr",
     "output_type": "stream",
     "text": [
      "[Parallel(n_jobs=-1)]: Done   5 out of   5 | elapsed:   25.3s remaining:    0.0s\n",
      "[Parallel(n_jobs=-1)]: Done   5 out of   5 | elapsed:   25.3s finished\n",
      "[Parallel(n_jobs=-1)]: Using backend SequentialBackend with 1 concurrent workers.\n"
     ]
    },
    {
     "name": "stdout",
     "output_type": "stream",
     "text": [
      "[CV] START .....................................................................\n",
      "[CV] END ............................... score: (test=-9.277) total time=   6.2s\n",
      "[CV] START .....................................................................\n"
     ]
    },
    {
     "name": "stderr",
     "output_type": "stream",
     "text": [
      "[Parallel(n_jobs=-1)]: Done   1 out of   1 | elapsed:    6.2s remaining:    0.0s\n"
     ]
    },
    {
     "name": "stdout",
     "output_type": "stream",
     "text": [
      "[CV] END ............................... score: (test=-9.343) total time=   5.6s\n",
      "[CV] START .....................................................................\n"
     ]
    },
    {
     "name": "stderr",
     "output_type": "stream",
     "text": [
      "[Parallel(n_jobs=-1)]: Done   2 out of   2 | elapsed:   11.8s remaining:    0.0s\n"
     ]
    },
    {
     "name": "stdout",
     "output_type": "stream",
     "text": [
      "[CV] END ............................... score: (test=-9.201) total time=   5.4s\n",
      "[CV] START .....................................................................\n"
     ]
    },
    {
     "name": "stderr",
     "output_type": "stream",
     "text": [
      "[Parallel(n_jobs=-1)]: Done   3 out of   3 | elapsed:   17.1s remaining:    0.0s\n"
     ]
    },
    {
     "name": "stdout",
     "output_type": "stream",
     "text": [
      "[CV] END ............................... score: (test=-8.639) total time=   5.5s\n",
      "[CV] START .....................................................................\n"
     ]
    },
    {
     "name": "stderr",
     "output_type": "stream",
     "text": [
      "[Parallel(n_jobs=-1)]: Done   4 out of   4 | elapsed:   22.6s remaining:    0.0s\n"
     ]
    },
    {
     "name": "stdout",
     "output_type": "stream",
     "text": [
      "[CV] END .............................. score: (test=-10.764) total time=   5.5s\n"
     ]
    },
    {
     "name": "stderr",
     "output_type": "stream",
     "text": [
      "[Parallel(n_jobs=-1)]: Done   5 out of   5 | elapsed:   28.1s remaining:    0.0s\n",
      "[Parallel(n_jobs=-1)]: Done   5 out of   5 | elapsed:   28.1s finished\n",
      "[Parallel(n_jobs=-1)]: Using backend SequentialBackend with 1 concurrent workers.\n"
     ]
    },
    {
     "name": "stdout",
     "output_type": "stream",
     "text": [
      "[CV] START .....................................................................\n",
      "[CV] END ............................... score: (test=-9.689) total time=   1.8s\n",
      "[CV] START .....................................................................\n"
     ]
    },
    {
     "name": "stderr",
     "output_type": "stream",
     "text": [
      "[Parallel(n_jobs=-1)]: Done   1 out of   1 | elapsed:    1.8s remaining:    0.0s\n"
     ]
    },
    {
     "name": "stdout",
     "output_type": "stream",
     "text": [
      "[CV] END ............................... score: (test=-8.050) total time=   1.7s\n",
      "[CV] START .....................................................................\n"
     ]
    },
    {
     "name": "stderr",
     "output_type": "stream",
     "text": [
      "[Parallel(n_jobs=-1)]: Done   2 out of   2 | elapsed:    3.5s remaining:    0.0s\n"
     ]
    },
    {
     "name": "stdout",
     "output_type": "stream",
     "text": [
      "[CV] END ............................... score: (test=-8.980) total time=   1.6s\n",
      "[CV] START .....................................................................\n"
     ]
    },
    {
     "name": "stderr",
     "output_type": "stream",
     "text": [
      "[Parallel(n_jobs=-1)]: Done   3 out of   3 | elapsed:    5.1s remaining:    0.0s\n"
     ]
    },
    {
     "name": "stdout",
     "output_type": "stream",
     "text": [
      "[CV] END .............................. score: (test=-10.613) total time=   1.7s\n",
      "[CV] START .....................................................................\n"
     ]
    },
    {
     "name": "stderr",
     "output_type": "stream",
     "text": [
      "[Parallel(n_jobs=-1)]: Done   4 out of   4 | elapsed:    6.8s remaining:    0.0s\n"
     ]
    },
    {
     "name": "stdout",
     "output_type": "stream",
     "text": [
      "[CV] END .............................. score: (test=-11.377) total time=   1.7s\n"
     ]
    },
    {
     "name": "stderr",
     "output_type": "stream",
     "text": [
      "[Parallel(n_jobs=-1)]: Done   5 out of   5 | elapsed:    8.5s remaining:    0.0s\n",
      "[Parallel(n_jobs=-1)]: Done   5 out of   5 | elapsed:    8.5s finished\n",
      "[Parallel(n_jobs=-1)]: Using backend SequentialBackend with 1 concurrent workers.\n"
     ]
    },
    {
     "name": "stdout",
     "output_type": "stream",
     "text": [
      "[CV] START .....................................................................\n",
      "[CV] END ............................... score: (test=-9.649) total time=   3.3s\n",
      "[CV] START .....................................................................\n"
     ]
    },
    {
     "name": "stderr",
     "output_type": "stream",
     "text": [
      "[Parallel(n_jobs=-1)]: Done   1 out of   1 | elapsed:    3.3s remaining:    0.0s\n"
     ]
    },
    {
     "name": "stdout",
     "output_type": "stream",
     "text": [
      "[CV] END ............................... score: (test=-7.559) total time=   3.1s\n",
      "[CV] START .....................................................................\n"
     ]
    },
    {
     "name": "stderr",
     "output_type": "stream",
     "text": [
      "[Parallel(n_jobs=-1)]: Done   2 out of   2 | elapsed:    6.4s remaining:    0.0s\n"
     ]
    },
    {
     "name": "stdout",
     "output_type": "stream",
     "text": [
      "[CV] END ............................... score: (test=-9.043) total time=   3.2s\n",
      "[CV] START .....................................................................\n"
     ]
    },
    {
     "name": "stderr",
     "output_type": "stream",
     "text": [
      "[Parallel(n_jobs=-1)]: Done   3 out of   3 | elapsed:    9.6s remaining:    0.0s\n"
     ]
    },
    {
     "name": "stdout",
     "output_type": "stream",
     "text": [
      "[CV] END ............................... score: (test=-9.462) total time=   3.3s\n",
      "[CV] START .....................................................................\n"
     ]
    },
    {
     "name": "stderr",
     "output_type": "stream",
     "text": [
      "[Parallel(n_jobs=-1)]: Done   4 out of   4 | elapsed:   13.0s remaining:    0.0s\n"
     ]
    },
    {
     "name": "stdout",
     "output_type": "stream",
     "text": [
      "[CV] END .............................. score: (test=-10.713) total time=   3.2s\n"
     ]
    },
    {
     "name": "stderr",
     "output_type": "stream",
     "text": [
      "[Parallel(n_jobs=-1)]: Done   5 out of   5 | elapsed:   16.1s remaining:    0.0s\n",
      "[Parallel(n_jobs=-1)]: Done   5 out of   5 | elapsed:   16.1s finished\n",
      "[Parallel(n_jobs=-1)]: Using backend SequentialBackend with 1 concurrent workers.\n"
     ]
    },
    {
     "name": "stdout",
     "output_type": "stream",
     "text": [
      "[CV] START .....................................................................\n",
      "[CV] END ............................... score: (test=-9.789) total time=   4.7s\n",
      "[CV] START .....................................................................\n"
     ]
    },
    {
     "name": "stderr",
     "output_type": "stream",
     "text": [
      "[Parallel(n_jobs=-1)]: Done   1 out of   1 | elapsed:    4.7s remaining:    0.0s\n"
     ]
    },
    {
     "name": "stdout",
     "output_type": "stream",
     "text": [
      "[CV] END ............................... score: (test=-7.878) total time=   4.5s\n",
      "[CV] START .....................................................................\n"
     ]
    },
    {
     "name": "stderr",
     "output_type": "stream",
     "text": [
      "[Parallel(n_jobs=-1)]: Done   2 out of   2 | elapsed:    9.3s remaining:    0.0s\n"
     ]
    },
    {
     "name": "stdout",
     "output_type": "stream",
     "text": [
      "[CV] END ............................... score: (test=-9.287) total time=   4.6s\n",
      "[CV] START .....................................................................\n"
     ]
    },
    {
     "name": "stderr",
     "output_type": "stream",
     "text": [
      "[Parallel(n_jobs=-1)]: Done   3 out of   3 | elapsed:   13.9s remaining:    0.0s\n"
     ]
    },
    {
     "name": "stdout",
     "output_type": "stream",
     "text": [
      "[CV] END ............................... score: (test=-9.114) total time=   4.6s\n",
      "[CV] START .....................................................................\n"
     ]
    },
    {
     "name": "stderr",
     "output_type": "stream",
     "text": [
      "[Parallel(n_jobs=-1)]: Done   4 out of   4 | elapsed:   18.5s remaining:    0.0s\n"
     ]
    },
    {
     "name": "stdout",
     "output_type": "stream",
     "text": [
      "[CV] END ............................... score: (test=-9.958) total time=   4.6s\n"
     ]
    },
    {
     "name": "stderr",
     "output_type": "stream",
     "text": [
      "[Parallel(n_jobs=-1)]: Done   5 out of   5 | elapsed:   23.1s remaining:    0.0s\n",
      "[Parallel(n_jobs=-1)]: Done   5 out of   5 | elapsed:   23.1s finished\n",
      "[Parallel(n_jobs=-1)]: Using backend SequentialBackend with 1 concurrent workers.\n"
     ]
    },
    {
     "name": "stdout",
     "output_type": "stream",
     "text": [
      "[CV] START .....................................................................\n",
      "[CV] END ............................... score: (test=-9.512) total time=   6.1s\n",
      "[CV] START .....................................................................\n"
     ]
    },
    {
     "name": "stderr",
     "output_type": "stream",
     "text": [
      "[Parallel(n_jobs=-1)]: Done   1 out of   1 | elapsed:    6.1s remaining:    0.0s\n"
     ]
    },
    {
     "name": "stdout",
     "output_type": "stream",
     "text": [
      "[CV] END ............................... score: (test=-8.643) total time=   6.1s\n",
      "[CV] START .....................................................................\n"
     ]
    },
    {
     "name": "stderr",
     "output_type": "stream",
     "text": [
      "[Parallel(n_jobs=-1)]: Done   2 out of   2 | elapsed:   12.2s remaining:    0.0s\n"
     ]
    },
    {
     "name": "stdout",
     "output_type": "stream",
     "text": [
      "[CV] END ............................... score: (test=-9.174) total time=   6.3s\n",
      "[CV] START .....................................................................\n"
     ]
    },
    {
     "name": "stderr",
     "output_type": "stream",
     "text": [
      "[Parallel(n_jobs=-1)]: Done   3 out of   3 | elapsed:   18.5s remaining:    0.0s\n"
     ]
    },
    {
     "name": "stdout",
     "output_type": "stream",
     "text": [
      "[CV] END ............................... score: (test=-8.618) total time=   6.1s\n",
      "[CV] START .....................................................................\n"
     ]
    },
    {
     "name": "stderr",
     "output_type": "stream",
     "text": [
      "[Parallel(n_jobs=-1)]: Done   4 out of   4 | elapsed:   24.6s remaining:    0.0s\n"
     ]
    },
    {
     "name": "stdout",
     "output_type": "stream",
     "text": [
      "[CV] END ............................... score: (test=-9.657) total time=   5.8s\n"
     ]
    },
    {
     "name": "stderr",
     "output_type": "stream",
     "text": [
      "[Parallel(n_jobs=-1)]: Done   5 out of   5 | elapsed:   30.4s remaining:    0.0s\n",
      "[Parallel(n_jobs=-1)]: Done   5 out of   5 | elapsed:   30.4s finished\n",
      "[Parallel(n_jobs=-1)]: Using backend SequentialBackend with 1 concurrent workers.\n"
     ]
    },
    {
     "name": "stdout",
     "output_type": "stream",
     "text": [
      "[CV] START .....................................................................\n",
      "[CV] END ............................... score: (test=-9.339) total time=   7.4s\n",
      "[CV] START .....................................................................\n"
     ]
    },
    {
     "name": "stderr",
     "output_type": "stream",
     "text": [
      "[Parallel(n_jobs=-1)]: Done   1 out of   1 | elapsed:    7.4s remaining:    0.0s\n"
     ]
    },
    {
     "name": "stdout",
     "output_type": "stream",
     "text": [
      "[CV] END ............................... score: (test=-9.583) total time=   7.4s\n",
      "[CV] START .....................................................................\n"
     ]
    },
    {
     "name": "stderr",
     "output_type": "stream",
     "text": [
      "[Parallel(n_jobs=-1)]: Done   2 out of   2 | elapsed:   14.7s remaining:    0.0s\n"
     ]
    },
    {
     "name": "stdout",
     "output_type": "stream",
     "text": [
      "[CV] END ............................... score: (test=-9.081) total time=   7.1s\n",
      "[CV] START .....................................................................\n"
     ]
    },
    {
     "name": "stderr",
     "output_type": "stream",
     "text": [
      "[Parallel(n_jobs=-1)]: Done   3 out of   3 | elapsed:   21.8s remaining:    0.0s\n"
     ]
    },
    {
     "name": "stdout",
     "output_type": "stream",
     "text": [
      "[CV] END ............................... score: (test=-8.597) total time=   7.5s\n",
      "[CV] START .....................................................................\n"
     ]
    },
    {
     "name": "stderr",
     "output_type": "stream",
     "text": [
      "[Parallel(n_jobs=-1)]: Done   4 out of   4 | elapsed:   29.3s remaining:    0.0s\n"
     ]
    },
    {
     "name": "stdout",
     "output_type": "stream",
     "text": [
      "[CV] END .............................. score: (test=-10.614) total time=   7.4s\n"
     ]
    },
    {
     "name": "stderr",
     "output_type": "stream",
     "text": [
      "[Parallel(n_jobs=-1)]: Done   5 out of   5 | elapsed:   36.8s remaining:    0.0s\n",
      "[Parallel(n_jobs=-1)]: Done   5 out of   5 | elapsed:   36.8s finished\n",
      "[Parallel(n_jobs=-1)]: Using backend SequentialBackend with 1 concurrent workers.\n"
     ]
    },
    {
     "name": "stdout",
     "output_type": "stream",
     "text": [
      "[CV] START .....................................................................\n",
      "[CV] END ............................... score: (test=-9.684) total time=   2.1s\n",
      "[CV] START .....................................................................\n"
     ]
    },
    {
     "name": "stderr",
     "output_type": "stream",
     "text": [
      "[Parallel(n_jobs=-1)]: Done   1 out of   1 | elapsed:    2.1s remaining:    0.0s\n"
     ]
    },
    {
     "name": "stdout",
     "output_type": "stream",
     "text": [
      "[CV] END ............................... score: (test=-8.051) total time=   2.2s\n",
      "[CV] START .....................................................................\n"
     ]
    },
    {
     "name": "stderr",
     "output_type": "stream",
     "text": [
      "[Parallel(n_jobs=-1)]: Done   2 out of   2 | elapsed:    4.3s remaining:    0.0s\n"
     ]
    },
    {
     "name": "stdout",
     "output_type": "stream",
     "text": [
      "[CV] END ............................... score: (test=-8.935) total time=   2.1s\n",
      "[CV] START .....................................................................\n"
     ]
    },
    {
     "name": "stderr",
     "output_type": "stream",
     "text": [
      "[Parallel(n_jobs=-1)]: Done   3 out of   3 | elapsed:    6.4s remaining:    0.0s\n"
     ]
    },
    {
     "name": "stdout",
     "output_type": "stream",
     "text": [
      "[CV] END .............................. score: (test=-10.646) total time=   2.1s\n",
      "[CV] START .....................................................................\n"
     ]
    },
    {
     "name": "stderr",
     "output_type": "stream",
     "text": [
      "[Parallel(n_jobs=-1)]: Done   4 out of   4 | elapsed:    8.5s remaining:    0.0s\n"
     ]
    },
    {
     "name": "stdout",
     "output_type": "stream",
     "text": [
      "[CV] END .............................. score: (test=-11.379) total time=   2.1s\n"
     ]
    },
    {
     "name": "stderr",
     "output_type": "stream",
     "text": [
      "[Parallel(n_jobs=-1)]: Done   5 out of   5 | elapsed:   10.6s remaining:    0.0s\n",
      "[Parallel(n_jobs=-1)]: Done   5 out of   5 | elapsed:   10.6s finished\n",
      "[Parallel(n_jobs=-1)]: Using backend SequentialBackend with 1 concurrent workers.\n"
     ]
    },
    {
     "name": "stdout",
     "output_type": "stream",
     "text": [
      "[CV] START .....................................................................\n",
      "[CV] END ............................... score: (test=-9.643) total time=   4.0s\n",
      "[CV] START .....................................................................\n"
     ]
    },
    {
     "name": "stderr",
     "output_type": "stream",
     "text": [
      "[Parallel(n_jobs=-1)]: Done   1 out of   1 | elapsed:    4.0s remaining:    0.0s\n"
     ]
    },
    {
     "name": "stdout",
     "output_type": "stream",
     "text": [
      "[CV] END ............................... score: (test=-7.561) total time=   4.1s\n",
      "[CV] START .....................................................................\n"
     ]
    },
    {
     "name": "stderr",
     "output_type": "stream",
     "text": [
      "[Parallel(n_jobs=-1)]: Done   2 out of   2 | elapsed:    8.1s remaining:    0.0s\n"
     ]
    },
    {
     "name": "stdout",
     "output_type": "stream",
     "text": [
      "[CV] END ............................... score: (test=-9.003) total time=   4.0s\n",
      "[CV] START .....................................................................\n"
     ]
    },
    {
     "name": "stderr",
     "output_type": "stream",
     "text": [
      "[Parallel(n_jobs=-1)]: Done   3 out of   3 | elapsed:   12.1s remaining:    0.0s\n"
     ]
    },
    {
     "name": "stdout",
     "output_type": "stream",
     "text": [
      "[CV] END ............................... score: (test=-9.455) total time=   4.2s\n",
      "[CV] START .....................................................................\n"
     ]
    },
    {
     "name": "stderr",
     "output_type": "stream",
     "text": [
      "[Parallel(n_jobs=-1)]: Done   4 out of   4 | elapsed:   16.3s remaining:    0.0s\n"
     ]
    },
    {
     "name": "stdout",
     "output_type": "stream",
     "text": [
      "[CV] END .............................. score: (test=-10.717) total time=   3.9s\n"
     ]
    },
    {
     "name": "stderr",
     "output_type": "stream",
     "text": [
      "[Parallel(n_jobs=-1)]: Done   5 out of   5 | elapsed:   20.2s remaining:    0.0s\n",
      "[Parallel(n_jobs=-1)]: Done   5 out of   5 | elapsed:   20.2s finished\n",
      "[Parallel(n_jobs=-1)]: Using backend SequentialBackend with 1 concurrent workers.\n"
     ]
    },
    {
     "name": "stdout",
     "output_type": "stream",
     "text": [
      "[CV] START .....................................................................\n",
      "[CV] END ............................... score: (test=-9.784) total time=   5.7s\n",
      "[CV] START .....................................................................\n"
     ]
    },
    {
     "name": "stderr",
     "output_type": "stream",
     "text": [
      "[Parallel(n_jobs=-1)]: Done   1 out of   1 | elapsed:    5.7s remaining:    0.0s\n"
     ]
    },
    {
     "name": "stdout",
     "output_type": "stream",
     "text": [
      "[CV] END ............................... score: (test=-7.899) total time=   6.3s\n",
      "[CV] START .....................................................................\n"
     ]
    },
    {
     "name": "stderr",
     "output_type": "stream",
     "text": [
      "[Parallel(n_jobs=-1)]: Done   2 out of   2 | elapsed:   12.1s remaining:    0.0s\n"
     ]
    },
    {
     "name": "stdout",
     "output_type": "stream",
     "text": [
      "[CV] END ............................... score: (test=-9.241) total time=   5.7s\n",
      "[CV] START .....................................................................\n"
     ]
    },
    {
     "name": "stderr",
     "output_type": "stream",
     "text": [
      "[Parallel(n_jobs=-1)]: Done   3 out of   3 | elapsed:   17.8s remaining:    0.0s\n"
     ]
    },
    {
     "name": "stdout",
     "output_type": "stream",
     "text": [
      "[CV] END ............................... score: (test=-9.124) total time=   6.0s\n",
      "[CV] START .....................................................................\n"
     ]
    },
    {
     "name": "stderr",
     "output_type": "stream",
     "text": [
      "[Parallel(n_jobs=-1)]: Done   4 out of   4 | elapsed:   23.7s remaining:    0.0s\n"
     ]
    },
    {
     "name": "stdout",
     "output_type": "stream",
     "text": [
      "[CV] END ............................... score: (test=-9.944) total time=   5.8s\n"
     ]
    },
    {
     "name": "stderr",
     "output_type": "stream",
     "text": [
      "[Parallel(n_jobs=-1)]: Done   5 out of   5 | elapsed:   29.5s remaining:    0.0s\n",
      "[Parallel(n_jobs=-1)]: Done   5 out of   5 | elapsed:   29.5s finished\n",
      "[Parallel(n_jobs=-1)]: Using backend SequentialBackend with 1 concurrent workers.\n"
     ]
    },
    {
     "name": "stdout",
     "output_type": "stream",
     "text": [
      "[CV] START .....................................................................\n",
      "[CV] END ............................... score: (test=-9.646) total time=   7.5s\n",
      "[CV] START .....................................................................\n"
     ]
    },
    {
     "name": "stderr",
     "output_type": "stream",
     "text": [
      "[Parallel(n_jobs=-1)]: Done   1 out of   1 | elapsed:    7.5s remaining:    0.0s\n"
     ]
    },
    {
     "name": "stdout",
     "output_type": "stream",
     "text": [
      "[CV] END ............................... score: (test=-8.673) total time=   7.4s\n",
      "[CV] START .....................................................................\n"
     ]
    },
    {
     "name": "stderr",
     "output_type": "stream",
     "text": [
      "[Parallel(n_jobs=-1)]: Done   2 out of   2 | elapsed:   14.9s remaining:    0.0s\n"
     ]
    },
    {
     "name": "stdout",
     "output_type": "stream",
     "text": [
      "[CV] END ............................... score: (test=-9.152) total time=   7.4s\n",
      "[CV] START .....................................................................\n"
     ]
    },
    {
     "name": "stderr",
     "output_type": "stream",
     "text": [
      "[Parallel(n_jobs=-1)]: Done   3 out of   3 | elapsed:   22.3s remaining:    0.0s\n"
     ]
    },
    {
     "name": "stdout",
     "output_type": "stream",
     "text": [
      "[CV] END ............................... score: (test=-8.599) total time=   7.6s\n",
      "[CV] START .....................................................................\n"
     ]
    },
    {
     "name": "stderr",
     "output_type": "stream",
     "text": [
      "[Parallel(n_jobs=-1)]: Done   4 out of   4 | elapsed:   29.9s remaining:    0.0s\n"
     ]
    },
    {
     "name": "stdout",
     "output_type": "stream",
     "text": [
      "[CV] END ............................... score: (test=-9.549) total time=   7.7s\n"
     ]
    },
    {
     "name": "stderr",
     "output_type": "stream",
     "text": [
      "[Parallel(n_jobs=-1)]: Done   5 out of   5 | elapsed:   37.6s remaining:    0.0s\n",
      "[Parallel(n_jobs=-1)]: Done   5 out of   5 | elapsed:   37.6s finished\n",
      "[Parallel(n_jobs=-1)]: Using backend SequentialBackend with 1 concurrent workers.\n"
     ]
    },
    {
     "name": "stdout",
     "output_type": "stream",
     "text": [
      "[CV] START .....................................................................\n",
      "[CV] END ............................... score: (test=-9.428) total time=   9.6s\n",
      "[CV] START .....................................................................\n"
     ]
    },
    {
     "name": "stderr",
     "output_type": "stream",
     "text": [
      "[Parallel(n_jobs=-1)]: Done   1 out of   1 | elapsed:    9.6s remaining:    0.0s\n"
     ]
    },
    {
     "name": "stdout",
     "output_type": "stream",
     "text": [
      "[CV] END ............................... score: (test=-9.905) total time=   9.6s\n",
      "[CV] START .....................................................................\n"
     ]
    },
    {
     "name": "stderr",
     "output_type": "stream",
     "text": [
      "[Parallel(n_jobs=-1)]: Done   2 out of   2 | elapsed:   19.2s remaining:    0.0s\n"
     ]
    },
    {
     "name": "stdout",
     "output_type": "stream",
     "text": [
      "[CV] END ............................... score: (test=-8.997) total time=   9.6s\n",
      "[CV] START .....................................................................\n"
     ]
    },
    {
     "name": "stderr",
     "output_type": "stream",
     "text": [
      "[Parallel(n_jobs=-1)]: Done   3 out of   3 | elapsed:   28.8s remaining:    0.0s\n"
     ]
    },
    {
     "name": "stdout",
     "output_type": "stream",
     "text": [
      "[CV] END ............................... score: (test=-8.592) total time=   9.3s\n",
      "[CV] START .....................................................................\n"
     ]
    },
    {
     "name": "stderr",
     "output_type": "stream",
     "text": [
      "[Parallel(n_jobs=-1)]: Done   4 out of   4 | elapsed:   38.1s remaining:    0.0s\n"
     ]
    },
    {
     "name": "stdout",
     "output_type": "stream",
     "text": [
      "[CV] END .............................. score: (test=-10.399) total time=   9.8s\n"
     ]
    },
    {
     "name": "stderr",
     "output_type": "stream",
     "text": [
      "[Parallel(n_jobs=-1)]: Done   5 out of   5 | elapsed:   47.9s remaining:    0.0s\n",
      "[Parallel(n_jobs=-1)]: Done   5 out of   5 | elapsed:   47.9s finished\n"
     ]
    },
    {
     "name": "stdout",
     "output_type": "stream",
     "text": [
      "RandomForestRegressor(max_depth=4, min_samples_leaf=5, n_estimators=40,\n",
      "                      random_state=12345) \n",
      " 9.120535220789488\n"
     ]
    }
   ],
   "source": [
    "#подбор идеальной модели для предсказания final\n",
    "best_model_forest_final = None\n",
    "best_score_forest_final = 100\n",
    "score_final = []\n",
    "for est in range(10, 51, 10):\n",
    "    for depth in range(1, 6):\n",
    "        #final\n",
    "        model_forest_final = RandomForestRegressor(random_state=12345, max_depth=depth,\\\n",
    "                                                   n_estimators=est, min_samples_leaf=5)\n",
    "        score_final = cross_val_score(model_forest_final, features_train, target_train_final,\\\n",
    "                             scoring=smape_score, verbose=10, n_jobs=-1, cv=5)\n",
    "        model_forest_final.fit(features_train, target_train_final)\n",
    "        final_score_final = (score_final * -1).mean()\n",
    "        if final_score_final < best_score_forest_final:\n",
    "            best_score_forest_final = final_score_final\n",
    "            best_model_forest_final = model_forest_final\n",
    "print (best_model_forest_final, \"\\n\", best_score_forest_final)"
   ]
  },
  {
   "cell_type": "markdown",
   "metadata": {},
   "source": [
    "**Лучшие показатели final: RandomForestRegressor(max_depth=4, min_samples_leaf=5, n_estimators=40), sMAPE= 9.120535220789488**"
   ]
  },
  {
   "cell_type": "code",
   "execution_count": 60,
   "metadata": {},
   "outputs": [
    {
     "name": "stdout",
     "output_type": "stream",
     "text": [
      "8.502411065241581\n"
     ]
    }
   ],
   "source": [
    "#sMAPE итоговый\n",
    "result_smape_forest = smape_final_calc(best_score_forest_rougher, best_score_forest_final)\n",
    "print(result_smape_forest)"
   ]
  },
  {
   "cell_type": "markdown",
   "metadata": {},
   "source": [
    "Вывод: **Лучшая модель с параметрами:** \n",
    "* rougher: RandomForestRegressor(max_depth=5, n_estimators=10)\n",
    "* final: RandomForestRegressor(max_depth=4, min_samples_leaf=5, n_estimators=40)\n",
    "* sMAPE = 8.502411065241581"
   ]
  },
  {
   "cell_type": "markdown",
   "metadata": {},
   "source": [
    "#### Модель Линейной регресии"
   ]
  },
  {
   "cell_type": "code",
   "execution_count": 40,
   "metadata": {},
   "outputs": [
    {
     "name": "stderr",
     "output_type": "stream",
     "text": [
      "[Parallel(n_jobs=-1)]: Using backend SequentialBackend with 1 concurrent workers.\n"
     ]
    },
    {
     "name": "stdout",
     "output_type": "stream",
     "text": [
      "[CV] START .....................................................................\n",
      "[CV] END ............................... score: (test=-9.374) total time=   1.1s\n",
      "[CV] START .....................................................................\n"
     ]
    },
    {
     "name": "stderr",
     "output_type": "stream",
     "text": [
      "[Parallel(n_jobs=-1)]: Done   1 out of   1 | elapsed:    1.1s remaining:    0.0s\n"
     ]
    },
    {
     "name": "stdout",
     "output_type": "stream",
     "text": [
      "[CV] END ............................... score: (test=-8.562) total time=   0.4s\n",
      "[CV] START .....................................................................\n"
     ]
    },
    {
     "name": "stderr",
     "output_type": "stream",
     "text": [
      "[Parallel(n_jobs=-1)]: Done   2 out of   2 | elapsed:    1.5s remaining:    0.0s\n"
     ]
    },
    {
     "name": "stdout",
     "output_type": "stream",
     "text": [
      "[CV] END .............................. score: (test=-12.980) total time=   0.4s\n"
     ]
    },
    {
     "name": "stderr",
     "output_type": "stream",
     "text": [
      "[Parallel(n_jobs=-1)]: Done   3 out of   3 | elapsed:    2.0s remaining:    0.0s\n",
      "[Parallel(n_jobs=-1)]: Done   3 out of   3 | elapsed:    2.0s finished\n"
     ]
    },
    {
     "name": "stdout",
     "output_type": "stream",
     "text": [
      "LinearRegression() \n",
      " 10.30560523888313\n"
     ]
    }
   ],
   "source": [
    "#подбор идеальной модели для предсказания rougher\n",
    "best_model_linear_rougher = None\n",
    "best_score_linear_rougher = 100\n",
    "score_rougher = []\n",
    "\n",
    "#rougher\n",
    "model_linear_rougher = LinearRegression()\n",
    "score_rougher = cross_val_score(model_linear_rougher, features_train, target_train_rougher,\\\n",
    "                             scoring=smape_score, verbose=10, n_jobs=-1, cv=3)\n",
    "model_linear_rougher.fit(features_train_scaled, target_train_rougher)\n",
    "final_score_rougher = (score_rougher * -1).mean()\n",
    "if final_score_rougher < best_score_linear_rougher:\n",
    "    best_score_linear_rougher = final_score_rougher\n",
    "    best_model_linear_rougher = model_linear_rougher\n",
    "print (best_model_linear_rougher, \"\\n\", best_score_linear_rougher)"
   ]
  },
  {
   "cell_type": "markdown",
   "metadata": {},
   "source": [
    "**Лучшие показатели rougher: LinearRegression(), sMAPE= 10.30560523888313**"
   ]
  },
  {
   "cell_type": "code",
   "execution_count": 41,
   "metadata": {},
   "outputs": [
    {
     "name": "stderr",
     "output_type": "stream",
     "text": [
      "[Parallel(n_jobs=-1)]: Using backend SequentialBackend with 1 concurrent workers.\n"
     ]
    },
    {
     "name": "stdout",
     "output_type": "stream",
     "text": [
      "[CV] START .....................................................................\n",
      "[CV] END .............................. score: (test=-12.152) total time=   1.1s\n",
      "[CV] START .....................................................................\n"
     ]
    },
    {
     "name": "stderr",
     "output_type": "stream",
     "text": [
      "[Parallel(n_jobs=-1)]: Done   1 out of   1 | elapsed:    1.1s remaining:    0.0s\n"
     ]
    },
    {
     "name": "stdout",
     "output_type": "stream",
     "text": [
      "[CV] END .............................. score: (test=-11.485) total time=   0.6s\n",
      "[CV] START .....................................................................\n"
     ]
    },
    {
     "name": "stderr",
     "output_type": "stream",
     "text": [
      "[Parallel(n_jobs=-1)]: Done   2 out of   2 | elapsed:    1.7s remaining:    0.0s\n"
     ]
    },
    {
     "name": "stdout",
     "output_type": "stream",
     "text": [
      "[CV] END .............................. score: (test=-16.657) total time=   0.7s\n"
     ]
    },
    {
     "name": "stderr",
     "output_type": "stream",
     "text": [
      "[Parallel(n_jobs=-1)]: Done   3 out of   3 | elapsed:    2.4s remaining:    0.0s\n",
      "[Parallel(n_jobs=-1)]: Done   3 out of   3 | elapsed:    2.4s finished\n"
     ]
    },
    {
     "name": "stdout",
     "output_type": "stream",
     "text": [
      "LinearRegression() \n",
      " 13.431514093959015\n"
     ]
    }
   ],
   "source": [
    "#подбор идеальной модели для предсказания final\n",
    "best_model_linear_final = None\n",
    "best_score_linear_final = 100\n",
    "score_final = []\n",
    "\n",
    "#final\n",
    "model_linear_final = LinearRegression()\n",
    "score_final = cross_val_score(model_linear_final, features_train, target_train_final,\\\n",
    "                             scoring=smape_score, verbose=10, n_jobs=-1, cv=3)\n",
    "model_linear_final.fit(features_train_scaled, target_train_final)\n",
    "final_score_final = (score_final * -1).mean()\n",
    "if final_score_final < best_score_linear_final:\n",
    "    best_score_linear_final = final_score_final\n",
    "    best_model_linear_final = model_linear_final\n",
    "print (best_model_linear_final, \"\\n\", best_score_linear_final)"
   ]
  },
  {
   "cell_type": "markdown",
   "metadata": {},
   "source": [
    "**Лучшие показатели final: LinearRegression(), sMAPE= 13.431514093959015**"
   ]
  },
  {
   "cell_type": "code",
   "execution_count": 42,
   "metadata": {},
   "outputs": [
    {
     "name": "stdout",
     "output_type": "stream",
     "text": [
      "12.650036880190044\n"
     ]
    }
   ],
   "source": [
    "#sMAPE итоговый\n",
    "result_smape_forest = smape_final_calc(best_score_linear_rougher, best_score_linear_final)\n",
    "print(result_smape_forest)"
   ]
  },
  {
   "cell_type": "markdown",
   "metadata": {},
   "source": [
    "Вывод: **Лучшая модель с параметрами:** \n",
    "* rougher: LinearRegression(), sMAPE= 10.30560523888313\n",
    "* final: LinearRegression(), sMAPE= 13.431514093959015\n",
    "* sMAPE = 12.650036880190044"
   ]
  },
  {
   "cell_type": "markdown",
   "metadata": {},
   "source": [
    "#### Общий вывод по обучению"
   ]
  },
  {
   "cell_type": "markdown",
   "metadata": {},
   "source": [
    "Общий вывод:\n",
    "\n",
    "**Решающее дерево**\n",
    "\n",
    "*    rougher: DecisionTreeRegressor (max_depth=2)\n",
    "*    final: DecisionTreeRegressor (max_depth=1)\n",
    "*    sMAPE =  8.241748223555552.\n",
    "\n",
    "**Случайный лес**\n",
    "\n",
    "* rougher: RandomForestRegressor(max_depth=5, n_estimators=10)\n",
    "* final: RandomForestRegressor(max_depth=4, n_estimators=10)\n",
    "* sMAPE = 8.502411065241581\n",
    "\n",
    "**Линейная регрессия**\n",
    "\n",
    "*    sMAPE = 12.650036880190044"
   ]
  },
  {
   "cell_type": "markdown",
   "metadata": {},
   "source": [
    " Лучше моделью признана: \n",
    " \n",
    "**Решающее дерево с параметрами**\n",
    "*    rougher: DecisionTreeRegressor (max_depth=2)\n",
    "*    final: DecisionTreeRegressor (max_depth=1)\n",
    "*    sMAPE =  8.241748223555552."
   ]
  },
  {
   "cell_type": "markdown",
   "metadata": {},
   "source": [
    "### Проверка модели на тестовой выборке"
   ]
  },
  {
   "cell_type": "code",
   "execution_count": 64,
   "metadata": {},
   "outputs": [
    {
     "name": "stdout",
     "output_type": "stream",
     "text": [
      "sMAPE на тестовой выборке равен:  9.319919266351308\n"
     ]
    }
   ],
   "source": [
    "#обучение модели на обучающей выборке\n",
    "model_tree_rougher = DecisionTreeRegressor(random_state=12345, max_depth=2)\n",
    "model_tree_rougher.fit(features_train, target_train_rougher)\n",
    "model_tree_final = DecisionTreeRegressor(random_state=12345, max_depth=1)\n",
    "model_tree_final.fit(features_train, target_train_final)\n",
    "\n",
    "#признаки\n",
    "features_test = data_test.drop(['rougher.output.recovery', 'final.output.recovery'], axis=1)\n",
    "target_test_rougher = data_test['rougher.output.recovery']\n",
    "target_test_final = data_test['final.output.recovery']\n",
    "\n",
    "#предсказания\n",
    "predictions_rougher = model_tree_rougher.predict(features_test)\n",
    "predictions_final = model_tree_final.predict(features_test)\n",
    "\n",
    "#smape\n",
    "smape_test_rougher = smape_calc(target_test_rougher, predictions_rougher)\n",
    "smape_test_final = smape_calc(target_test_final, predictions_final)\n",
    "full_smate = smape_final_calc(smape_test_rougher, smape_test_final)\n",
    "\n",
    "print(\"sMAPE на тестовой выборке равен: \", full_smate)"
   ]
  },
  {
   "cell_type": "markdown",
   "metadata": {},
   "source": [
    "**sMAPE на тестовой выборке равен:  9.319919266351308.**"
   ]
  },
  {
   "cell_type": "markdown",
   "metadata": {},
   "source": [
    "### Проверка модели на адекватность"
   ]
  },
  {
   "cell_type": "markdown",
   "metadata": {},
   "source": [
    "Для проверки модели на адекватность воспользуемся DummyRegressor."
   ]
  },
  {
   "cell_type": "code",
   "execution_count": 65,
   "metadata": {},
   "outputs": [
    {
     "name": "stdout",
     "output_type": "stream",
     "text": [
      "sMAPE константной модели равно:  9.82146839182027\n"
     ]
    }
   ],
   "source": [
    "#обучение константной модели\n",
    "const_model_rougher = DummyRegressor(strategy='mean')\n",
    "const_model_final = DummyRegressor(strategy='mean')\n",
    "\n",
    "const_model_rougher.fit(features_train, target_train_rougher)\n",
    "const_model_final.fit(features_train, target_train_final)\n",
    "\n",
    "#предсказания\n",
    "const_pred_rougher = const_model_rougher.predict(features_test)\n",
    "const_pred_final = const_model_final.predict(features_test)\n",
    "\n",
    "#вычисление sMAPE\n",
    "smape_const_rougher = smape_calc(target_test_rougher, const_pred_rougher)\n",
    "smape_const_final = smape_calc(target_test_final, const_pred_final)\n",
    "\n",
    "smape_const_final = smape_final_calc(smape_const_rougher, smape_const_final) \n",
    "print(\"sMAPE константной модели равно: \", smape_const_final)"
   ]
  },
  {
   "cell_type": "markdown",
   "metadata": {},
   "source": [
    " Вывод: \n",
    " * sMAPE на тестовой выборке равен: 9.319919266351308.\n",
    " * sMAPE константной модели равно:  9.82146839182027.\n",
    " \n",
    "**Показатели выбранной модели ниже константной. Модель декватна.**"
   ]
  },
  {
   "cell_type": "markdown",
   "metadata": {},
   "source": [
    "## Общий вывод"
   ]
  },
  {
   "cell_type": "markdown",
   "metadata": {},
   "source": [
    "Было произведено исследование данных, по итогам которого были достигнуты следующие результаты:\n",
    "\n",
    "* По сравнению с этапом Сырья концентрация золота стала больше практически на 300%, показатели серебра так же увеличились почти на 30%, а свинец увеличился на 40%.\n",
    "\n",
    "\n",
    "* Значимых различий по распределению размеров гранул сырья у выборок data_test, data_train не наблюдается. \n",
    "\n",
    "\n",
    "* Суммарная концентрация всех веществ увеличивается с каждым этапом, а диапазон уменьшается.\n",
    "\n",
    "\n",
    "*  Лучше моделью признана **Решающее дерево** с параметрами rougher: DecisionTreeRegressor (max_depth=2), final: DecisionTreeRegressor (max_depth=1), sMAPE = 8.241748223555552.\n",
    "\n",
    "\n",
    "* sMAPE на тестовой выборке равен: 9.319919266351308, sMAPE константной модели равно:  9.82146839182027.Показатели выбранной модели ниже константной. Модель декватна."
   ]
  }
 ],
 "metadata": {
  "ExecuteTimeLog": [
   {
    "duration": 1851,
    "start_time": "2023-03-14T09:50:00.602Z"
   },
   {
    "duration": 1904,
    "start_time": "2023-03-14T09:50:05.028Z"
   },
   {
    "duration": 45,
    "start_time": "2023-03-14T09:50:09.935Z"
   },
   {
    "duration": 51,
    "start_time": "2023-03-14T10:03:30.505Z"
   },
   {
    "duration": 52,
    "start_time": "2023-03-14T10:03:47.210Z"
   },
   {
    "duration": 32,
    "start_time": "2023-03-14T10:06:34.571Z"
   },
   {
    "duration": 10,
    "start_time": "2023-03-14T10:06:42.129Z"
   },
   {
    "duration": 41,
    "start_time": "2023-03-14T10:07:01.510Z"
   },
   {
    "duration": 14,
    "start_time": "2023-03-14T10:07:11.180Z"
   },
   {
    "duration": 13,
    "start_time": "2023-03-14T10:07:36.048Z"
   },
   {
    "duration": 12,
    "start_time": "2023-03-14T10:08:07.937Z"
   },
   {
    "duration": 77,
    "start_time": "2023-03-14T10:08:42.170Z"
   },
   {
    "duration": 150,
    "start_time": "2023-03-14T10:09:32.291Z"
   },
   {
    "duration": 129,
    "start_time": "2023-03-14T10:10:03.567Z"
   },
   {
    "duration": 136,
    "start_time": "2023-03-14T10:10:09.207Z"
   },
   {
    "duration": 282,
    "start_time": "2023-03-14T10:10:40.946Z"
   },
   {
    "duration": 9,
    "start_time": "2023-03-14T10:15:00.794Z"
   },
   {
    "duration": 27,
    "start_time": "2023-03-14T10:15:17.435Z"
   },
   {
    "duration": 10,
    "start_time": "2023-03-14T10:15:22.739Z"
   },
   {
    "duration": 12,
    "start_time": "2023-03-14T10:16:58.680Z"
   },
   {
    "duration": 9,
    "start_time": "2023-03-14T10:17:29.091Z"
   },
   {
    "duration": 8,
    "start_time": "2023-03-14T10:18:41.550Z"
   },
   {
    "duration": 16,
    "start_time": "2023-03-14T10:19:02.135Z"
   },
   {
    "duration": 8,
    "start_time": "2023-03-14T10:19:33.244Z"
   },
   {
    "duration": 15,
    "start_time": "2023-03-14T10:20:14.340Z"
   },
   {
    "duration": 25,
    "start_time": "2023-03-14T10:20:31.955Z"
   },
   {
    "duration": 10,
    "start_time": "2023-03-14T10:20:52.295Z"
   },
   {
    "duration": 124,
    "start_time": "2023-03-14T10:36:02.876Z"
   },
   {
    "duration": 7,
    "start_time": "2023-03-14T10:36:19.398Z"
   },
   {
    "duration": 9,
    "start_time": "2023-03-14T10:44:03.543Z"
   },
   {
    "duration": 8,
    "start_time": "2023-03-14T10:44:33.951Z"
   },
   {
    "duration": 7,
    "start_time": "2023-03-14T10:46:07.660Z"
   },
   {
    "duration": 8,
    "start_time": "2023-03-14T10:46:46.444Z"
   },
   {
    "duration": 7,
    "start_time": "2023-03-14T10:49:41.234Z"
   },
   {
    "duration": 17,
    "start_time": "2023-03-14T10:57:14.411Z"
   },
   {
    "duration": 8,
    "start_time": "2023-03-14T11:01:30.871Z"
   },
   {
    "duration": 14,
    "start_time": "2023-03-14T11:14:39.034Z"
   },
   {
    "duration": 38,
    "start_time": "2023-03-14T11:14:41.609Z"
   },
   {
    "duration": 14,
    "start_time": "2023-03-14T11:16:56.368Z"
   },
   {
    "duration": 306,
    "start_time": "2023-03-14T11:29:54.269Z"
   },
   {
    "duration": 348,
    "start_time": "2023-03-14T11:30:56.527Z"
   },
   {
    "duration": 269,
    "start_time": "2023-03-14T11:31:29.856Z"
   },
   {
    "duration": 270,
    "start_time": "2023-03-14T11:31:45.732Z"
   },
   {
    "duration": 302,
    "start_time": "2023-03-14T11:31:52.032Z"
   },
   {
    "duration": 85,
    "start_time": "2023-03-14T11:32:17.079Z"
   },
   {
    "duration": 378,
    "start_time": "2023-03-14T11:32:24.154Z"
   },
   {
    "duration": 387,
    "start_time": "2023-03-14T11:32:31.406Z"
   },
   {
    "duration": 237,
    "start_time": "2023-03-14T11:32:40.229Z"
   },
   {
    "duration": 1422,
    "start_time": "2023-03-14T11:37:20.107Z"
   },
   {
    "duration": 250,
    "start_time": "2023-03-14T11:37:33.326Z"
   },
   {
    "duration": 262,
    "start_time": "2023-03-14T11:44:00.662Z"
   },
   {
    "duration": 292,
    "start_time": "2023-03-14T11:44:19.309Z"
   },
   {
    "duration": 259,
    "start_time": "2023-03-14T11:44:30.905Z"
   },
   {
    "duration": 403,
    "start_time": "2023-03-14T11:44:37.328Z"
   },
   {
    "duration": 236,
    "start_time": "2023-03-14T11:44:46.078Z"
   },
   {
    "duration": 264,
    "start_time": "2023-03-14T11:45:44.404Z"
   },
   {
    "duration": 276,
    "start_time": "2023-03-14T11:45:54.529Z"
   },
   {
    "duration": 304,
    "start_time": "2023-03-14T11:46:09.927Z"
   },
   {
    "duration": 442,
    "start_time": "2023-03-14T11:46:18.504Z"
   },
   {
    "duration": 284,
    "start_time": "2023-03-14T11:46:27.117Z"
   },
   {
    "duration": 309,
    "start_time": "2023-03-14T11:46:32.767Z"
   },
   {
    "duration": 301,
    "start_time": "2023-03-14T11:47:02.450Z"
   },
   {
    "duration": 261,
    "start_time": "2023-03-14T11:47:18.325Z"
   },
   {
    "duration": 289,
    "start_time": "2023-03-14T11:47:47.973Z"
   },
   {
    "duration": 436,
    "start_time": "2023-03-14T11:48:05.432Z"
   },
   {
    "duration": 358,
    "start_time": "2023-03-14T11:48:13.659Z"
   },
   {
    "duration": 295,
    "start_time": "2023-03-14T11:48:31.604Z"
   },
   {
    "duration": 328,
    "start_time": "2023-03-14T11:49:14.608Z"
   },
   {
    "duration": 283,
    "start_time": "2023-03-14T11:49:27.841Z"
   },
   {
    "duration": 416,
    "start_time": "2023-03-14T11:49:45.177Z"
   },
   {
    "duration": 285,
    "start_time": "2023-03-14T11:52:44.800Z"
   },
   {
    "duration": 265,
    "start_time": "2023-03-14T11:54:57.569Z"
   },
   {
    "duration": 247,
    "start_time": "2023-03-14T11:55:18.136Z"
   },
   {
    "duration": 267,
    "start_time": "2023-03-14T11:55:39.561Z"
   },
   {
    "duration": 15,
    "start_time": "2023-03-14T11:56:01.168Z"
   },
   {
    "duration": 260,
    "start_time": "2023-03-14T11:56:30.579Z"
   },
   {
    "duration": 379,
    "start_time": "2023-03-14T11:56:38.805Z"
   },
   {
    "duration": 246,
    "start_time": "2023-03-14T11:56:45.617Z"
   },
   {
    "duration": 265,
    "start_time": "2023-03-14T11:59:32.106Z"
   },
   {
    "duration": 235,
    "start_time": "2023-03-14T12:00:05.819Z"
   },
   {
    "duration": 4,
    "start_time": "2023-03-14T12:00:51.341Z"
   },
   {
    "duration": 3,
    "start_time": "2023-03-14T12:01:16.131Z"
   },
   {
    "duration": 3,
    "start_time": "2023-03-14T12:01:25.553Z"
   },
   {
    "duration": 136,
    "start_time": "2023-03-14T12:01:46.578Z"
   },
   {
    "duration": 1195,
    "start_time": "2023-03-14T12:02:21.340Z"
   },
   {
    "duration": 272,
    "start_time": "2023-03-14T12:04:14.163Z"
   },
   {
    "duration": 409,
    "start_time": "2023-03-14T12:06:37.823Z"
   },
   {
    "duration": 295,
    "start_time": "2023-03-14T12:08:05.214Z"
   },
   {
    "duration": 283,
    "start_time": "2023-03-14T12:08:27.523Z"
   },
   {
    "duration": 251,
    "start_time": "2023-03-14T12:08:41.801Z"
   },
   {
    "duration": 323,
    "start_time": "2023-03-14T12:19:08.121Z"
   },
   {
    "duration": 375,
    "start_time": "2023-03-14T12:19:16.857Z"
   },
   {
    "duration": 274,
    "start_time": "2023-03-14T12:19:27.827Z"
   },
   {
    "duration": 631,
    "start_time": "2023-03-14T12:20:57.476Z"
   },
   {
    "duration": 719,
    "start_time": "2023-03-14T12:22:15.768Z"
   },
   {
    "duration": 658,
    "start_time": "2023-03-14T12:22:44.994Z"
   },
   {
    "duration": 453,
    "start_time": "2023-03-14T12:23:45.280Z"
   },
   {
    "duration": 658,
    "start_time": "2023-03-14T12:23:57.241Z"
   },
   {
    "duration": 460,
    "start_time": "2023-03-14T12:24:18.679Z"
   },
   {
    "duration": 428,
    "start_time": "2023-03-14T12:24:31.737Z"
   },
   {
    "duration": 553,
    "start_time": "2023-03-14T12:24:42.802Z"
   },
   {
    "duration": 644,
    "start_time": "2023-03-14T12:25:04.434Z"
   },
   {
    "duration": 764,
    "start_time": "2023-03-14T12:25:57.096Z"
   },
   {
    "duration": 594,
    "start_time": "2023-03-14T12:26:08.178Z"
   },
   {
    "duration": 600,
    "start_time": "2023-03-14T12:26:54.002Z"
   },
   {
    "duration": 17,
    "start_time": "2023-03-14T12:27:56.446Z"
   },
   {
    "duration": 20,
    "start_time": "2023-03-14T12:28:03.195Z"
   },
   {
    "duration": 14,
    "start_time": "2023-03-14T12:28:13.095Z"
   },
   {
    "duration": 13,
    "start_time": "2023-03-14T12:28:18.598Z"
   },
   {
    "duration": 12,
    "start_time": "2023-03-14T12:28:26.928Z"
   },
   {
    "duration": 201,
    "start_time": "2023-03-14T12:28:43.894Z"
   },
   {
    "duration": 139,
    "start_time": "2023-03-14T12:28:56.736Z"
   },
   {
    "duration": 152,
    "start_time": "2023-03-14T12:29:47.255Z"
   },
   {
    "duration": 487,
    "start_time": "2023-03-14T12:33:04.358Z"
   },
   {
    "duration": 11,
    "start_time": "2023-03-14T12:34:04.543Z"
   },
   {
    "duration": 14,
    "start_time": "2023-03-14T12:34:19.067Z"
   },
   {
    "duration": 157,
    "start_time": "2023-03-14T12:34:23.442Z"
   },
   {
    "duration": 239,
    "start_time": "2023-03-14T12:34:45.145Z"
   },
   {
    "duration": 11,
    "start_time": "2023-03-14T12:35:00.163Z"
   },
   {
    "duration": 13,
    "start_time": "2023-03-14T12:35:53.340Z"
   },
   {
    "duration": 15,
    "start_time": "2023-03-14T12:36:27.546Z"
   },
   {
    "duration": 372,
    "start_time": "2023-03-14T12:38:39.716Z"
   },
   {
    "duration": 858,
    "start_time": "2023-03-14T12:39:54.657Z"
   },
   {
    "duration": 959,
    "start_time": "2023-03-14T12:40:07.470Z"
   },
   {
    "duration": 894,
    "start_time": "2023-03-14T12:40:15.040Z"
   },
   {
    "duration": 967,
    "start_time": "2023-03-14T12:40:25.142Z"
   },
   {
    "duration": 218,
    "start_time": "2023-03-14T12:43:58.639Z"
   },
   {
    "duration": 1643,
    "start_time": "2023-03-14T12:48:33.546Z"
   },
   {
    "duration": 822,
    "start_time": "2023-03-14T12:48:35.191Z"
   },
   {
    "duration": 53,
    "start_time": "2023-03-14T12:48:36.023Z"
   },
   {
    "duration": 41,
    "start_time": "2023-03-14T12:48:36.079Z"
   },
   {
    "duration": 42,
    "start_time": "2023-03-14T12:48:36.125Z"
   },
   {
    "duration": 11,
    "start_time": "2023-03-14T12:48:36.169Z"
   },
   {
    "duration": 33,
    "start_time": "2023-03-14T12:48:36.182Z"
   },
   {
    "duration": 23,
    "start_time": "2023-03-14T12:48:36.223Z"
   },
   {
    "duration": 292,
    "start_time": "2023-03-14T12:48:36.248Z"
   },
   {
    "duration": 9,
    "start_time": "2023-03-14T12:48:36.546Z"
   },
   {
    "duration": 8,
    "start_time": "2023-03-14T12:48:36.557Z"
   },
   {
    "duration": 11,
    "start_time": "2023-03-14T12:48:36.567Z"
   },
   {
    "duration": 45,
    "start_time": "2023-03-14T12:48:36.580Z"
   },
   {
    "duration": 13,
    "start_time": "2023-03-14T12:48:36.627Z"
   },
   {
    "duration": 13,
    "start_time": "2023-03-14T12:48:36.642Z"
   },
   {
    "duration": 11,
    "start_time": "2023-03-14T12:48:36.657Z"
   },
   {
    "duration": 8,
    "start_time": "2023-03-14T12:48:36.670Z"
   },
   {
    "duration": 42,
    "start_time": "2023-03-14T12:48:36.680Z"
   },
   {
    "duration": 7,
    "start_time": "2023-03-14T12:48:36.727Z"
   },
   {
    "duration": 12,
    "start_time": "2023-03-14T12:48:36.742Z"
   },
   {
    "duration": 30,
    "start_time": "2023-03-14T12:48:36.756Z"
   },
   {
    "duration": 41,
    "start_time": "2023-03-14T12:48:36.788Z"
   },
   {
    "duration": 250,
    "start_time": "2023-03-14T12:48:42.344Z"
   },
   {
    "duration": 813,
    "start_time": "2023-03-14T12:49:20.666Z"
   },
   {
    "duration": 743,
    "start_time": "2023-03-14T12:50:29.003Z"
   },
   {
    "duration": 1561,
    "start_time": "2023-03-14T12:52:50.911Z"
   },
   {
    "duration": 772,
    "start_time": "2023-03-14T12:52:52.474Z"
   },
   {
    "duration": 44,
    "start_time": "2023-03-14T12:52:53.247Z"
   },
   {
    "duration": 59,
    "start_time": "2023-03-14T12:52:53.293Z"
   },
   {
    "duration": 37,
    "start_time": "2023-03-14T12:52:53.354Z"
   },
   {
    "duration": 29,
    "start_time": "2023-03-14T12:52:53.412Z"
   },
   {
    "duration": 10,
    "start_time": "2023-03-14T12:52:53.444Z"
   },
   {
    "duration": 12,
    "start_time": "2023-03-14T12:52:53.456Z"
   },
   {
    "duration": 323,
    "start_time": "2023-03-14T12:52:53.470Z"
   },
   {
    "duration": 19,
    "start_time": "2023-03-14T12:52:53.796Z"
   },
   {
    "duration": 24,
    "start_time": "2023-03-14T12:52:53.823Z"
   },
   {
    "duration": 11,
    "start_time": "2023-03-14T12:52:53.849Z"
   },
   {
    "duration": 25,
    "start_time": "2023-03-14T12:52:53.862Z"
   },
   {
    "duration": 9,
    "start_time": "2023-03-14T12:52:53.889Z"
   },
   {
    "duration": 17,
    "start_time": "2023-03-14T12:52:53.900Z"
   },
   {
    "duration": 17,
    "start_time": "2023-03-14T12:52:53.918Z"
   },
   {
    "duration": 6,
    "start_time": "2023-03-14T12:52:53.944Z"
   },
   {
    "duration": 4,
    "start_time": "2023-03-14T12:52:53.952Z"
   },
   {
    "duration": 5,
    "start_time": "2023-03-14T12:52:53.958Z"
   },
   {
    "duration": 15,
    "start_time": "2023-03-14T12:52:53.965Z"
   },
   {
    "duration": 70,
    "start_time": "2023-03-14T12:52:53.982Z"
   },
   {
    "duration": 15,
    "start_time": "2023-03-14T12:52:54.054Z"
   },
   {
    "duration": 927,
    "start_time": "2023-03-14T12:52:58.915Z"
   },
   {
    "duration": 888,
    "start_time": "2023-03-14T12:53:03.571Z"
   },
   {
    "duration": 704,
    "start_time": "2023-03-14T12:56:16.368Z"
   },
   {
    "duration": 917,
    "start_time": "2023-03-14T13:01:13.398Z"
   },
   {
    "duration": 676,
    "start_time": "2023-03-14T13:07:58.501Z"
   },
   {
    "duration": 274,
    "start_time": "2023-03-14T13:11:08.859Z"
   },
   {
    "duration": 414,
    "start_time": "2023-03-14T13:31:13.445Z"
   },
   {
    "duration": 702,
    "start_time": "2023-03-14T13:33:09.053Z"
   },
   {
    "duration": 524,
    "start_time": "2023-03-14T13:37:11.732Z"
   },
   {
    "duration": 505,
    "start_time": "2023-03-14T13:37:29.834Z"
   },
   {
    "duration": 78,
    "start_time": "2023-03-14T13:37:55.329Z"
   },
   {
    "duration": 714,
    "start_time": "2023-03-14T13:38:01.174Z"
   },
   {
    "duration": 496,
    "start_time": "2023-03-14T13:38:28.979Z"
   },
   {
    "duration": 549,
    "start_time": "2023-03-14T13:38:59.074Z"
   },
   {
    "duration": 592,
    "start_time": "2023-03-14T13:45:31.266Z"
   },
   {
    "duration": 90,
    "start_time": "2023-03-14T14:45:40.068Z"
   },
   {
    "duration": 87,
    "start_time": "2023-03-14T14:46:14.467Z"
   },
   {
    "duration": 90,
    "start_time": "2023-03-14T14:46:33.538Z"
   },
   {
    "duration": 950,
    "start_time": "2023-03-14T14:46:46.159Z"
   },
   {
    "duration": 786,
    "start_time": "2023-03-14T14:47:04.351Z"
   },
   {
    "duration": 1051,
    "start_time": "2023-03-14T14:52:34.866Z"
   },
   {
    "duration": 8,
    "start_time": "2023-03-14T15:01:35.009Z"
   },
   {
    "duration": 26,
    "start_time": "2023-03-14T15:11:02.511Z"
   },
   {
    "duration": 772,
    "start_time": "2023-03-14T15:11:34.177Z"
   },
   {
    "duration": 1513,
    "start_time": "2023-03-14T15:13:17.753Z"
   },
   {
    "duration": 761,
    "start_time": "2023-03-14T15:13:19.268Z"
   },
   {
    "duration": 44,
    "start_time": "2023-03-14T15:13:20.031Z"
   },
   {
    "duration": 63,
    "start_time": "2023-03-14T15:13:20.077Z"
   },
   {
    "duration": 37,
    "start_time": "2023-03-14T15:13:20.141Z"
   },
   {
    "duration": 11,
    "start_time": "2023-03-14T15:13:20.180Z"
   },
   {
    "duration": 32,
    "start_time": "2023-03-14T15:13:20.192Z"
   },
   {
    "duration": 11,
    "start_time": "2023-03-14T15:13:20.226Z"
   },
   {
    "duration": 279,
    "start_time": "2023-03-14T15:13:20.238Z"
   },
   {
    "duration": 10,
    "start_time": "2023-03-14T15:13:20.524Z"
   },
   {
    "duration": 7,
    "start_time": "2023-03-14T15:13:20.536Z"
   },
   {
    "duration": 11,
    "start_time": "2023-03-14T15:13:20.545Z"
   },
   {
    "duration": 24,
    "start_time": "2023-03-14T15:13:20.558Z"
   },
   {
    "duration": 34,
    "start_time": "2023-03-14T15:13:20.584Z"
   },
   {
    "duration": 10,
    "start_time": "2023-03-14T15:13:20.620Z"
   },
   {
    "duration": 12,
    "start_time": "2023-03-14T15:13:20.631Z"
   },
   {
    "duration": 6,
    "start_time": "2023-03-14T15:13:20.645Z"
   },
   {
    "duration": 5,
    "start_time": "2023-03-14T15:13:20.653Z"
   },
   {
    "duration": 5,
    "start_time": "2023-03-14T15:13:20.660Z"
   },
   {
    "duration": 15,
    "start_time": "2023-03-14T15:13:20.666Z"
   },
   {
    "duration": 25,
    "start_time": "2023-03-14T15:13:20.712Z"
   },
   {
    "duration": 12,
    "start_time": "2023-03-14T15:13:20.739Z"
   },
   {
    "duration": 825,
    "start_time": "2023-03-14T15:13:20.753Z"
   },
   {
    "duration": 663,
    "start_time": "2023-03-14T15:13:21.579Z"
   },
   {
    "duration": 679,
    "start_time": "2023-03-14T15:13:22.244Z"
   },
   {
    "duration": 795,
    "start_time": "2023-03-14T15:13:22.925Z"
   },
   {
    "duration": 523,
    "start_time": "2023-03-14T15:13:23.721Z"
   },
   {
    "duration": 550,
    "start_time": "2023-03-14T15:13:24.247Z"
   },
   {
    "duration": 576,
    "start_time": "2023-03-14T15:14:12.411Z"
   },
   {
    "duration": 701,
    "start_time": "2023-03-14T15:14:32.266Z"
   },
   {
    "duration": 362,
    "start_time": "2023-03-14T15:16:04.011Z"
   },
   {
    "duration": 12,
    "start_time": "2023-03-14T15:20:18.807Z"
   },
   {
    "duration": 9,
    "start_time": "2023-03-14T15:21:00.250Z"
   },
   {
    "duration": 14,
    "start_time": "2023-03-14T15:21:15.165Z"
   },
   {
    "duration": 9,
    "start_time": "2023-03-14T15:21:26.095Z"
   },
   {
    "duration": 32,
    "start_time": "2023-03-14T15:21:58.710Z"
   },
   {
    "duration": 9,
    "start_time": "2023-03-14T15:23:38.398Z"
   },
   {
    "duration": 15,
    "start_time": "2023-03-14T15:23:52.954Z"
   },
   {
    "duration": 75,
    "start_time": "2023-03-14T15:24:52.826Z"
   },
   {
    "duration": 87,
    "start_time": "2023-03-14T15:25:13.267Z"
   },
   {
    "duration": 21,
    "start_time": "2023-03-14T15:25:20.852Z"
   },
   {
    "duration": 23,
    "start_time": "2023-03-14T15:25:54.927Z"
   },
   {
    "duration": 26,
    "start_time": "2023-03-14T15:26:12.900Z"
   },
   {
    "duration": 21,
    "start_time": "2023-03-14T15:26:22.638Z"
   },
   {
    "duration": 27,
    "start_time": "2023-03-14T15:26:45.796Z"
   },
   {
    "duration": 19,
    "start_time": "2023-03-14T15:28:12.309Z"
   },
   {
    "duration": 11,
    "start_time": "2023-03-14T15:28:46.039Z"
   },
   {
    "duration": 8,
    "start_time": "2023-03-14T15:28:57.306Z"
   },
   {
    "duration": 5,
    "start_time": "2023-03-14T15:29:10.847Z"
   },
   {
    "duration": 9,
    "start_time": "2023-03-14T15:32:22.207Z"
   },
   {
    "duration": 4,
    "start_time": "2023-03-14T15:32:39.995Z"
   },
   {
    "duration": 79,
    "start_time": "2023-03-14T15:32:44.029Z"
   },
   {
    "duration": 7,
    "start_time": "2023-03-14T15:32:56.097Z"
   },
   {
    "duration": 3,
    "start_time": "2023-03-14T15:59:18.259Z"
   },
   {
    "duration": 3,
    "start_time": "2023-03-14T15:59:20.629Z"
   },
   {
    "duration": 4,
    "start_time": "2023-03-14T15:59:31.837Z"
   },
   {
    "duration": 3,
    "start_time": "2023-03-14T16:46:38.222Z"
   },
   {
    "duration": 241,
    "start_time": "2023-03-14T17:16:19.172Z"
   },
   {
    "duration": 8,
    "start_time": "2023-03-14T17:16:42.918Z"
   },
   {
    "duration": 254,
    "start_time": "2023-03-14T17:16:49.339Z"
   },
   {
    "duration": 269,
    "start_time": "2023-03-14T17:21:38.732Z"
   },
   {
    "duration": 127,
    "start_time": "2023-03-14T17:23:17.794Z"
   },
   {
    "duration": 129,
    "start_time": "2023-03-14T17:24:11.978Z"
   },
   {
    "duration": 1478,
    "start_time": "2023-03-14T17:24:42.926Z"
   },
   {
    "duration": 680,
    "start_time": "2023-03-14T17:24:44.406Z"
   },
   {
    "duration": 47,
    "start_time": "2023-03-14T17:24:45.088Z"
   },
   {
    "duration": 29,
    "start_time": "2023-03-14T17:24:45.138Z"
   },
   {
    "duration": 54,
    "start_time": "2023-03-14T17:24:45.168Z"
   },
   {
    "duration": 10,
    "start_time": "2023-03-14T17:24:45.224Z"
   },
   {
    "duration": 8,
    "start_time": "2023-03-14T17:24:45.235Z"
   },
   {
    "duration": 15,
    "start_time": "2023-03-14T17:24:45.245Z"
   },
   {
    "duration": 276,
    "start_time": "2023-03-14T17:24:45.262Z"
   },
   {
    "duration": 8,
    "start_time": "2023-03-14T17:24:45.541Z"
   },
   {
    "duration": 6,
    "start_time": "2023-03-14T17:24:45.551Z"
   },
   {
    "duration": 8,
    "start_time": "2023-03-14T17:24:45.559Z"
   },
   {
    "duration": 47,
    "start_time": "2023-03-14T17:24:45.568Z"
   },
   {
    "duration": 8,
    "start_time": "2023-03-14T17:24:45.617Z"
   },
   {
    "duration": 7,
    "start_time": "2023-03-14T17:24:45.627Z"
   },
   {
    "duration": 8,
    "start_time": "2023-03-14T17:24:45.635Z"
   },
   {
    "duration": 6,
    "start_time": "2023-03-14T17:24:45.645Z"
   },
   {
    "duration": 4,
    "start_time": "2023-03-14T17:24:45.652Z"
   },
   {
    "duration": 6,
    "start_time": "2023-03-14T17:24:45.657Z"
   },
   {
    "duration": 52,
    "start_time": "2023-03-14T17:24:45.665Z"
   },
   {
    "duration": 22,
    "start_time": "2023-03-14T17:24:45.719Z"
   },
   {
    "duration": 19,
    "start_time": "2023-03-14T17:24:45.743Z"
   },
   {
    "duration": 751,
    "start_time": "2023-03-14T17:24:45.764Z"
   },
   {
    "duration": 603,
    "start_time": "2023-03-14T17:24:46.517Z"
   },
   {
    "duration": 628,
    "start_time": "2023-03-14T17:24:47.122Z"
   },
   {
    "duration": 754,
    "start_time": "2023-03-14T17:24:47.752Z"
   },
   {
    "duration": 445,
    "start_time": "2023-03-14T17:24:48.508Z"
   },
   {
    "duration": 458,
    "start_time": "2023-03-14T17:24:48.956Z"
   },
   {
    "duration": 788,
    "start_time": "2023-03-14T17:24:49.416Z"
   },
   {
    "duration": 8,
    "start_time": "2023-03-14T17:24:50.205Z"
   },
   {
    "duration": 7,
    "start_time": "2023-03-14T17:24:50.214Z"
   },
   {
    "duration": 6,
    "start_time": "2023-03-14T17:24:50.223Z"
   },
   {
    "duration": 9,
    "start_time": "2023-03-14T17:24:56.802Z"
   },
   {
    "duration": 107,
    "start_time": "2023-03-14T17:24:59.330Z"
   },
   {
    "duration": 279,
    "start_time": "2023-03-14T17:25:13.906Z"
   },
   {
    "duration": 269,
    "start_time": "2023-03-14T17:25:51.224Z"
   },
   {
    "duration": 1514,
    "start_time": "2023-03-14T17:26:29.494Z"
   },
   {
    "duration": 747,
    "start_time": "2023-03-14T17:26:31.011Z"
   },
   {
    "duration": 41,
    "start_time": "2023-03-14T17:26:31.760Z"
   },
   {
    "duration": 43,
    "start_time": "2023-03-14T17:26:31.812Z"
   },
   {
    "duration": 56,
    "start_time": "2023-03-14T17:26:31.856Z"
   },
   {
    "duration": 14,
    "start_time": "2023-03-14T17:26:31.915Z"
   },
   {
    "duration": 17,
    "start_time": "2023-03-14T17:26:31.930Z"
   },
   {
    "duration": 15,
    "start_time": "2023-03-14T17:26:31.948Z"
   },
   {
    "duration": 271,
    "start_time": "2023-03-14T17:26:31.965Z"
   },
   {
    "duration": 8,
    "start_time": "2023-03-14T17:26:32.238Z"
   },
   {
    "duration": 6,
    "start_time": "2023-03-14T17:26:32.247Z"
   },
   {
    "duration": 9,
    "start_time": "2023-03-14T17:26:32.255Z"
   },
   {
    "duration": 46,
    "start_time": "2023-03-14T17:26:32.266Z"
   },
   {
    "duration": 13,
    "start_time": "2023-03-14T17:26:32.315Z"
   },
   {
    "duration": 6,
    "start_time": "2023-03-14T17:26:32.329Z"
   },
   {
    "duration": 9,
    "start_time": "2023-03-14T17:26:32.337Z"
   },
   {
    "duration": 7,
    "start_time": "2023-03-14T17:26:32.348Z"
   },
   {
    "duration": 4,
    "start_time": "2023-03-14T17:26:32.357Z"
   },
   {
    "duration": 7,
    "start_time": "2023-03-14T17:26:32.363Z"
   },
   {
    "duration": 48,
    "start_time": "2023-03-14T17:26:32.371Z"
   },
   {
    "duration": 22,
    "start_time": "2023-03-14T17:26:32.421Z"
   },
   {
    "duration": 12,
    "start_time": "2023-03-14T17:26:32.445Z"
   },
   {
    "duration": 796,
    "start_time": "2023-03-14T17:26:32.458Z"
   },
   {
    "duration": 633,
    "start_time": "2023-03-14T17:26:33.256Z"
   },
   {
    "duration": 745,
    "start_time": "2023-03-14T17:26:33.891Z"
   },
   {
    "duration": 803,
    "start_time": "2023-03-14T17:26:34.638Z"
   },
   {
    "duration": 469,
    "start_time": "2023-03-14T17:26:35.442Z"
   },
   {
    "duration": 489,
    "start_time": "2023-03-14T17:26:35.918Z"
   },
   {
    "duration": 790,
    "start_time": "2023-03-14T17:26:36.408Z"
   },
   {
    "duration": 3,
    "start_time": "2023-03-14T17:26:37.199Z"
   },
   {
    "duration": 8,
    "start_time": "2023-03-14T17:26:37.204Z"
   },
   {
    "duration": 9,
    "start_time": "2023-03-14T17:26:37.214Z"
   },
   {
    "duration": 9,
    "start_time": "2023-03-14T17:26:45.392Z"
   },
   {
    "duration": 362,
    "start_time": "2023-03-14T17:26:48.271Z"
   },
   {
    "duration": 1501,
    "start_time": "2023-03-15T09:59:23.373Z"
   },
   {
    "duration": 2552,
    "start_time": "2023-03-15T09:59:24.876Z"
   },
   {
    "duration": 40,
    "start_time": "2023-03-15T09:59:27.429Z"
   },
   {
    "duration": 46,
    "start_time": "2023-03-15T09:59:27.472Z"
   },
   {
    "duration": 42,
    "start_time": "2023-03-15T09:59:27.520Z"
   },
   {
    "duration": 8,
    "start_time": "2023-03-15T09:59:27.583Z"
   },
   {
    "duration": 25,
    "start_time": "2023-03-15T09:59:27.593Z"
   },
   {
    "duration": 38,
    "start_time": "2023-03-15T09:59:27.620Z"
   },
   {
    "duration": 261,
    "start_time": "2023-03-15T09:59:27.659Z"
   },
   {
    "duration": 9,
    "start_time": "2023-03-15T09:59:27.923Z"
   },
   {
    "duration": 48,
    "start_time": "2023-03-15T09:59:27.934Z"
   },
   {
    "duration": 30,
    "start_time": "2023-03-15T09:59:27.984Z"
   },
   {
    "duration": 30,
    "start_time": "2023-03-15T09:59:28.015Z"
   },
   {
    "duration": 13,
    "start_time": "2023-03-15T09:59:28.047Z"
   },
   {
    "duration": 11,
    "start_time": "2023-03-15T09:59:28.061Z"
   },
   {
    "duration": 44,
    "start_time": "2023-03-15T09:59:28.073Z"
   },
   {
    "duration": 18,
    "start_time": "2023-03-15T09:59:28.118Z"
   },
   {
    "duration": 11,
    "start_time": "2023-03-15T09:59:28.138Z"
   },
   {
    "duration": 9,
    "start_time": "2023-03-15T09:59:28.151Z"
   },
   {
    "duration": 17,
    "start_time": "2023-03-15T09:59:28.161Z"
   },
   {
    "duration": 36,
    "start_time": "2023-03-15T09:59:28.180Z"
   },
   {
    "duration": 29,
    "start_time": "2023-03-15T09:59:28.218Z"
   },
   {
    "duration": 598,
    "start_time": "2023-03-15T09:59:28.249Z"
   },
   {
    "duration": 507,
    "start_time": "2023-03-15T09:59:28.849Z"
   },
   {
    "duration": 497,
    "start_time": "2023-03-15T09:59:29.358Z"
   },
   {
    "duration": 609,
    "start_time": "2023-03-15T09:59:29.857Z"
   },
   {
    "duration": 380,
    "start_time": "2023-03-15T09:59:30.468Z"
   },
   {
    "duration": 408,
    "start_time": "2023-03-15T09:59:30.852Z"
   },
   {
    "duration": 637,
    "start_time": "2023-03-15T09:59:31.262Z"
   },
   {
    "duration": 5,
    "start_time": "2023-03-15T09:59:31.901Z"
   },
   {
    "duration": 50,
    "start_time": "2023-03-15T09:59:31.907Z"
   },
   {
    "duration": 3,
    "start_time": "2023-03-15T09:59:38.968Z"
   },
   {
    "duration": 12,
    "start_time": "2023-03-15T09:59:41.549Z"
   },
   {
    "duration": 110,
    "start_time": "2023-03-15T10:29:47.350Z"
   },
   {
    "duration": 18342,
    "start_time": "2023-03-15T10:30:23.059Z"
   },
   {
    "duration": 772,
    "start_time": "2023-03-15T10:35:37.563Z"
   },
   {
    "duration": 670,
    "start_time": "2023-03-15T10:37:47.959Z"
   },
   {
    "duration": 1257,
    "start_time": "2023-03-15T10:40:51.720Z"
   },
   {
    "duration": 605,
    "start_time": "2023-03-15T10:40:52.978Z"
   },
   {
    "duration": 36,
    "start_time": "2023-03-15T10:40:53.584Z"
   },
   {
    "duration": 26,
    "start_time": "2023-03-15T10:40:53.622Z"
   },
   {
    "duration": 58,
    "start_time": "2023-03-15T10:40:53.650Z"
   },
   {
    "duration": 9,
    "start_time": "2023-03-15T10:40:53.709Z"
   },
   {
    "duration": 18,
    "start_time": "2023-03-15T10:40:53.719Z"
   },
   {
    "duration": 12,
    "start_time": "2023-03-15T10:40:53.739Z"
   },
   {
    "duration": 236,
    "start_time": "2023-03-15T10:40:53.752Z"
   },
   {
    "duration": 8,
    "start_time": "2023-03-15T10:40:53.990Z"
   },
   {
    "duration": 5,
    "start_time": "2023-03-15T10:40:53.999Z"
   },
   {
    "duration": 8,
    "start_time": "2023-03-15T10:40:54.005Z"
   },
   {
    "duration": 17,
    "start_time": "2023-03-15T10:40:54.014Z"
   },
   {
    "duration": 7,
    "start_time": "2023-03-15T10:40:54.033Z"
   },
   {
    "duration": 5,
    "start_time": "2023-03-15T10:40:54.041Z"
   },
   {
    "duration": 40,
    "start_time": "2023-03-15T10:40:54.047Z"
   },
   {
    "duration": 5,
    "start_time": "2023-03-15T10:40:54.088Z"
   },
   {
    "duration": 5,
    "start_time": "2023-03-15T10:40:54.094Z"
   },
   {
    "duration": 5,
    "start_time": "2023-03-15T10:40:54.100Z"
   },
   {
    "duration": 12,
    "start_time": "2023-03-15T10:40:54.107Z"
   },
   {
    "duration": 18,
    "start_time": "2023-03-15T10:40:54.120Z"
   },
   {
    "duration": 11,
    "start_time": "2023-03-15T10:40:54.140Z"
   },
   {
    "duration": 572,
    "start_time": "2023-03-15T10:40:54.179Z"
   },
   {
    "duration": 502,
    "start_time": "2023-03-15T10:40:54.752Z"
   },
   {
    "duration": 476,
    "start_time": "2023-03-15T10:40:55.256Z"
   },
   {
    "duration": 627,
    "start_time": "2023-03-15T10:40:55.733Z"
   },
   {
    "duration": 365,
    "start_time": "2023-03-15T10:40:56.362Z"
   },
   {
    "duration": 380,
    "start_time": "2023-03-15T10:40:56.730Z"
   },
   {
    "duration": 624,
    "start_time": "2023-03-15T10:40:57.111Z"
   },
   {
    "duration": 3,
    "start_time": "2023-03-15T10:40:57.736Z"
   },
   {
    "duration": 7,
    "start_time": "2023-03-15T10:40:57.741Z"
   },
   {
    "duration": 19,
    "start_time": "2023-03-15T10:40:57.749Z"
   },
   {
    "duration": 23,
    "start_time": "2023-03-15T10:40:57.769Z"
   },
   {
    "duration": 783,
    "start_time": "2023-03-15T10:41:06.122Z"
   },
   {
    "duration": 1938,
    "start_time": "2023-03-15T10:41:49.520Z"
   },
   {
    "duration": 9007,
    "start_time": "2023-03-15T10:42:40.752Z"
   },
   {
    "duration": 9037,
    "start_time": "2023-03-15T10:43:50.213Z"
   },
   {
    "duration": 10162,
    "start_time": "2023-03-15T10:44:29.704Z"
   },
   {
    "duration": 9046,
    "start_time": "2023-03-15T10:45:49.676Z"
   },
   {
    "duration": 9167,
    "start_time": "2023-03-15T10:49:13.232Z"
   },
   {
    "duration": 16028,
    "start_time": "2023-03-15T10:49:38.016Z"
   },
   {
    "duration": 9459,
    "start_time": "2023-03-15T10:50:00.016Z"
   },
   {
    "duration": 9521,
    "start_time": "2023-03-15T10:51:29.019Z"
   },
   {
    "duration": 9044,
    "start_time": "2023-03-15T10:53:09.052Z"
   },
   {
    "duration": 9570,
    "start_time": "2023-03-15T10:54:02.008Z"
   },
   {
    "duration": 7228,
    "start_time": "2023-03-15T10:59:19.813Z"
   },
   {
    "duration": 50,
    "start_time": "2023-03-15T11:07:50.606Z"
   },
   {
    "duration": 9044,
    "start_time": "2023-03-15T11:07:54.036Z"
   },
   {
    "duration": 9442,
    "start_time": "2023-03-15T11:11:25.106Z"
   },
   {
    "duration": 9995,
    "start_time": "2023-03-15T11:13:03.242Z"
   },
   {
    "duration": 2,
    "start_time": "2023-03-15T11:15:21.815Z"
   },
   {
    "duration": 4,
    "start_time": "2023-03-15T11:15:34.322Z"
   },
   {
    "duration": 10309,
    "start_time": "2023-03-15T11:17:29.902Z"
   },
   {
    "duration": 9190,
    "start_time": "2023-03-15T11:18:23.852Z"
   },
   {
    "duration": 1265,
    "start_time": "2023-03-15T11:19:11.207Z"
   },
   {
    "duration": 619,
    "start_time": "2023-03-15T11:19:12.473Z"
   },
   {
    "duration": 36,
    "start_time": "2023-03-15T11:19:13.094Z"
   },
   {
    "duration": 25,
    "start_time": "2023-03-15T11:19:13.132Z"
   },
   {
    "duration": 48,
    "start_time": "2023-03-15T11:19:13.159Z"
   },
   {
    "duration": 9,
    "start_time": "2023-03-15T11:19:13.208Z"
   },
   {
    "duration": 8,
    "start_time": "2023-03-15T11:19:13.218Z"
   },
   {
    "duration": 12,
    "start_time": "2023-03-15T11:19:13.228Z"
   },
   {
    "duration": 241,
    "start_time": "2023-03-15T11:19:13.241Z"
   },
   {
    "duration": 7,
    "start_time": "2023-03-15T11:19:13.484Z"
   },
   {
    "duration": 12,
    "start_time": "2023-03-15T11:19:13.493Z"
   },
   {
    "duration": 8,
    "start_time": "2023-03-15T11:19:13.506Z"
   },
   {
    "duration": 16,
    "start_time": "2023-03-15T11:19:13.516Z"
   },
   {
    "duration": 7,
    "start_time": "2023-03-15T11:19:13.534Z"
   },
   {
    "duration": 8,
    "start_time": "2023-03-15T11:19:13.542Z"
   },
   {
    "duration": 34,
    "start_time": "2023-03-15T11:19:13.551Z"
   },
   {
    "duration": 5,
    "start_time": "2023-03-15T11:19:13.586Z"
   },
   {
    "duration": 13,
    "start_time": "2023-03-15T11:19:13.592Z"
   },
   {
    "duration": 25,
    "start_time": "2023-03-15T11:19:13.606Z"
   },
   {
    "duration": 13,
    "start_time": "2023-03-15T11:19:13.632Z"
   },
   {
    "duration": 18,
    "start_time": "2023-03-15T11:19:13.646Z"
   },
   {
    "duration": 13,
    "start_time": "2023-03-15T11:19:13.666Z"
   },
   {
    "duration": 583,
    "start_time": "2023-03-15T11:19:13.681Z"
   },
   {
    "duration": 489,
    "start_time": "2023-03-15T11:19:14.265Z"
   },
   {
    "duration": 488,
    "start_time": "2023-03-15T11:19:14.756Z"
   },
   {
    "duration": 575,
    "start_time": "2023-03-15T11:19:15.246Z"
   },
   {
    "duration": 365,
    "start_time": "2023-03-15T11:19:15.822Z"
   },
   {
    "duration": 405,
    "start_time": "2023-03-15T11:19:16.190Z"
   },
   {
    "duration": 651,
    "start_time": "2023-03-15T11:19:16.596Z"
   },
   {
    "duration": 4,
    "start_time": "2023-03-15T11:19:17.249Z"
   },
   {
    "duration": 11,
    "start_time": "2023-03-15T11:19:17.255Z"
   },
   {
    "duration": 9,
    "start_time": "2023-03-15T11:19:17.267Z"
   },
   {
    "duration": 33,
    "start_time": "2023-03-15T11:19:17.277Z"
   },
   {
    "duration": 9592,
    "start_time": "2023-03-15T11:19:25.329Z"
   },
   {
    "duration": 9036,
    "start_time": "2023-03-15T11:19:45.628Z"
   },
   {
    "duration": 9239,
    "start_time": "2023-03-15T11:21:42.354Z"
   },
   {
    "duration": 2,
    "start_time": "2023-03-15T11:21:56.302Z"
   },
   {
    "duration": 7411,
    "start_time": "2023-03-15T11:31:17.237Z"
   },
   {
    "duration": 3,
    "start_time": "2023-03-15T11:39:23.630Z"
   },
   {
    "duration": 1358,
    "start_time": "2023-03-15T11:51:10.113Z"
   },
   {
    "duration": 590,
    "start_time": "2023-03-15T11:51:11.473Z"
   },
   {
    "duration": 36,
    "start_time": "2023-03-15T11:51:12.064Z"
   },
   {
    "duration": 26,
    "start_time": "2023-03-15T11:51:12.101Z"
   },
   {
    "duration": 51,
    "start_time": "2023-03-15T11:51:12.129Z"
   },
   {
    "duration": 8,
    "start_time": "2023-03-15T11:51:12.182Z"
   },
   {
    "duration": 9,
    "start_time": "2023-03-15T11:51:12.191Z"
   },
   {
    "duration": 10,
    "start_time": "2023-03-15T11:51:12.201Z"
   },
   {
    "duration": 233,
    "start_time": "2023-03-15T11:51:12.212Z"
   },
   {
    "duration": 8,
    "start_time": "2023-03-15T11:51:12.446Z"
   },
   {
    "duration": 6,
    "start_time": "2023-03-15T11:51:12.455Z"
   },
   {
    "duration": 8,
    "start_time": "2023-03-15T11:51:12.479Z"
   },
   {
    "duration": 21,
    "start_time": "2023-03-15T11:51:12.488Z"
   },
   {
    "duration": 7,
    "start_time": "2023-03-15T11:51:12.512Z"
   },
   {
    "duration": 7,
    "start_time": "2023-03-15T11:51:12.520Z"
   },
   {
    "duration": 11,
    "start_time": "2023-03-15T11:51:12.528Z"
   },
   {
    "duration": 7,
    "start_time": "2023-03-15T11:51:12.540Z"
   },
   {
    "duration": 7,
    "start_time": "2023-03-15T11:51:12.548Z"
   },
   {
    "duration": 23,
    "start_time": "2023-03-15T11:51:12.556Z"
   },
   {
    "duration": 9,
    "start_time": "2023-03-15T11:51:12.581Z"
   },
   {
    "duration": 19,
    "start_time": "2023-03-15T11:51:12.591Z"
   },
   {
    "duration": 18,
    "start_time": "2023-03-15T11:51:12.611Z"
   },
   {
    "duration": 570,
    "start_time": "2023-03-15T11:51:12.630Z"
   },
   {
    "duration": 496,
    "start_time": "2023-03-15T11:51:13.201Z"
   },
   {
    "duration": 490,
    "start_time": "2023-03-15T11:51:13.699Z"
   },
   {
    "duration": 584,
    "start_time": "2023-03-15T11:51:14.190Z"
   },
   {
    "duration": 371,
    "start_time": "2023-03-15T11:51:14.776Z"
   },
   {
    "duration": 367,
    "start_time": "2023-03-15T11:51:15.149Z"
   },
   {
    "duration": 651,
    "start_time": "2023-03-15T11:51:15.518Z"
   },
   {
    "duration": 4,
    "start_time": "2023-03-15T11:51:16.171Z"
   },
   {
    "duration": 10,
    "start_time": "2023-03-15T11:51:16.180Z"
   },
   {
    "duration": 10,
    "start_time": "2023-03-15T11:51:16.191Z"
   },
   {
    "duration": 14,
    "start_time": "2023-03-15T11:51:16.202Z"
   },
   {
    "duration": 9834,
    "start_time": "2023-03-15T11:51:16.217Z"
   },
   {
    "duration": 7548,
    "start_time": "2023-03-15T11:51:26.053Z"
   },
   {
    "duration": 4,
    "start_time": "2023-03-15T11:51:33.602Z"
   },
   {
    "duration": 1333,
    "start_time": "2023-03-15T12:01:54.014Z"
   },
   {
    "duration": 573,
    "start_time": "2023-03-15T12:01:55.349Z"
   },
   {
    "duration": 33,
    "start_time": "2023-03-15T12:01:55.924Z"
   },
   {
    "duration": 42,
    "start_time": "2023-03-15T12:01:55.958Z"
   },
   {
    "duration": 33,
    "start_time": "2023-03-15T12:01:56.001Z"
   },
   {
    "duration": 9,
    "start_time": "2023-03-15T12:01:56.036Z"
   },
   {
    "duration": 34,
    "start_time": "2023-03-15T12:01:56.047Z"
   },
   {
    "duration": 40,
    "start_time": "2023-03-15T12:01:56.083Z"
   },
   {
    "duration": 291,
    "start_time": "2023-03-15T12:01:56.125Z"
   },
   {
    "duration": 8,
    "start_time": "2023-03-15T12:01:56.419Z"
   },
   {
    "duration": 30,
    "start_time": "2023-03-15T12:01:56.429Z"
   },
   {
    "duration": 21,
    "start_time": "2023-03-15T12:01:56.461Z"
   },
   {
    "duration": 27,
    "start_time": "2023-03-15T12:01:56.484Z"
   },
   {
    "duration": 12,
    "start_time": "2023-03-15T12:01:56.512Z"
   },
   {
    "duration": 22,
    "start_time": "2023-03-15T12:01:56.525Z"
   },
   {
    "duration": 25,
    "start_time": "2023-03-15T12:01:56.548Z"
   },
   {
    "duration": 19,
    "start_time": "2023-03-15T12:01:56.574Z"
   },
   {
    "duration": 12,
    "start_time": "2023-03-15T12:01:56.595Z"
   },
   {
    "duration": 25,
    "start_time": "2023-03-15T12:01:56.609Z"
   },
   {
    "duration": 26,
    "start_time": "2023-03-15T12:01:56.635Z"
   },
   {
    "duration": 23,
    "start_time": "2023-03-15T12:01:56.662Z"
   },
   {
    "duration": 34,
    "start_time": "2023-03-15T12:01:56.687Z"
   },
   {
    "duration": 649,
    "start_time": "2023-03-15T12:01:56.722Z"
   },
   {
    "duration": 574,
    "start_time": "2023-03-15T12:01:57.372Z"
   },
   {
    "duration": 502,
    "start_time": "2023-03-15T12:01:57.947Z"
   },
   {
    "duration": 621,
    "start_time": "2023-03-15T12:01:58.450Z"
   },
   {
    "duration": 453,
    "start_time": "2023-03-15T12:01:59.072Z"
   },
   {
    "duration": 500,
    "start_time": "2023-03-15T12:01:59.528Z"
   },
   {
    "duration": 669,
    "start_time": "2023-03-15T12:02:00.029Z"
   },
   {
    "duration": 4,
    "start_time": "2023-03-15T12:02:00.703Z"
   },
   {
    "duration": 30,
    "start_time": "2023-03-15T12:02:00.709Z"
   },
   {
    "duration": 46,
    "start_time": "2023-03-15T12:02:00.740Z"
   },
   {
    "duration": 52,
    "start_time": "2023-03-15T12:02:00.788Z"
   },
   {
    "duration": 11108,
    "start_time": "2023-03-15T12:02:00.841Z"
   },
   {
    "duration": 7413,
    "start_time": "2023-03-15T12:02:11.950Z"
   },
   {
    "duration": 3,
    "start_time": "2023-03-15T12:02:19.364Z"
   },
   {
    "duration": 849709,
    "start_time": "2023-03-15T12:02:52.821Z"
   },
   {
    "duration": 857429,
    "start_time": "2023-03-15T12:19:56.400Z"
   },
   {
    "duration": 3,
    "start_time": "2023-03-15T12:55:25.653Z"
   },
   {
    "duration": 123,
    "start_time": "2023-03-15T13:10:37.980Z"
   },
   {
    "duration": 9,
    "start_time": "2023-03-15T13:20:22.488Z"
   },
   {
    "duration": 2025,
    "start_time": "2023-03-15T13:20:43.268Z"
   },
   {
    "duration": 13,
    "start_time": "2023-03-15T13:21:28.890Z"
   },
   {
    "duration": 16,
    "start_time": "2023-03-15T13:23:28.024Z"
   },
   {
    "duration": 1797,
    "start_time": "2023-03-15T13:23:42.991Z"
   },
   {
    "duration": 1688,
    "start_time": "2023-03-15T13:24:19.097Z"
   },
   {
    "duration": 4,
    "start_time": "2023-03-15T13:24:50.650Z"
   },
   {
    "duration": 2419,
    "start_time": "2023-03-15T13:41:02.264Z"
   },
   {
    "duration": 1792,
    "start_time": "2023-03-15T13:41:33.599Z"
   },
   {
    "duration": 1771,
    "start_time": "2023-03-15T13:42:58.620Z"
   },
   {
    "duration": 8001,
    "start_time": "2023-03-15T13:43:06.193Z"
   },
   {
    "duration": 2444,
    "start_time": "2023-03-15T13:43:57.639Z"
   },
   {
    "duration": 3,
    "start_time": "2023-03-15T13:44:07.839Z"
   },
   {
    "duration": 3,
    "start_time": "2023-03-15T13:44:51.892Z"
   },
   {
    "duration": 3,
    "start_time": "2023-03-15T13:45:04.039Z"
   },
   {
    "duration": 7561,
    "start_time": "2023-03-15T13:46:33.120Z"
   },
   {
    "duration": 7472,
    "start_time": "2023-03-15T13:47:56.033Z"
   },
   {
    "duration": 4,
    "start_time": "2023-03-15T13:48:22.784Z"
   },
   {
    "duration": 1695,
    "start_time": "2023-03-15T13:49:55.786Z"
   },
   {
    "duration": 9655,
    "start_time": "2023-03-15T13:55:20.599Z"
   },
   {
    "duration": 9332,
    "start_time": "2023-03-15T13:59:21.412Z"
   },
   {
    "duration": 3,
    "start_time": "2023-03-15T13:59:46.689Z"
   },
   {
    "duration": 2383,
    "start_time": "2023-03-15T14:01:24.204Z"
   },
   {
    "duration": 2494,
    "start_time": "2023-03-15T14:02:16.198Z"
   },
   {
    "duration": 3,
    "start_time": "2023-03-15T14:02:24.499Z"
   },
   {
    "duration": 3,
    "start_time": "2023-03-15T14:06:57.318Z"
   },
   {
    "duration": 5,
    "start_time": "2023-03-15T14:13:40.189Z"
   },
   {
    "duration": 3,
    "start_time": "2023-03-15T14:13:45.000Z"
   },
   {
    "duration": 1346,
    "start_time": "2023-03-15T14:14:09.701Z"
   },
   {
    "duration": 1951,
    "start_time": "2023-03-15T14:14:11.049Z"
   },
   {
    "duration": 32,
    "start_time": "2023-03-15T14:14:13.002Z"
   },
   {
    "duration": 25,
    "start_time": "2023-03-15T14:14:13.037Z"
   },
   {
    "duration": 45,
    "start_time": "2023-03-15T14:14:13.064Z"
   },
   {
    "duration": 11,
    "start_time": "2023-03-15T14:14:13.111Z"
   },
   {
    "duration": 23,
    "start_time": "2023-03-15T14:14:13.124Z"
   },
   {
    "duration": 16,
    "start_time": "2023-03-15T14:14:13.149Z"
   },
   {
    "duration": 296,
    "start_time": "2023-03-15T14:14:13.167Z"
   },
   {
    "duration": 14,
    "start_time": "2023-03-15T14:14:13.466Z"
   },
   {
    "duration": 11,
    "start_time": "2023-03-15T14:14:13.482Z"
   },
   {
    "duration": 18,
    "start_time": "2023-03-15T14:14:13.495Z"
   },
   {
    "duration": 17,
    "start_time": "2023-03-15T14:14:13.515Z"
   },
   {
    "duration": 9,
    "start_time": "2023-03-15T14:14:13.534Z"
   },
   {
    "duration": 19,
    "start_time": "2023-03-15T14:14:13.544Z"
   },
   {
    "duration": 22,
    "start_time": "2023-03-15T14:14:13.564Z"
   },
   {
    "duration": 26,
    "start_time": "2023-03-15T14:14:13.588Z"
   },
   {
    "duration": 11,
    "start_time": "2023-03-15T14:14:13.616Z"
   },
   {
    "duration": 15,
    "start_time": "2023-03-15T14:14:13.629Z"
   },
   {
    "duration": 17,
    "start_time": "2023-03-15T14:14:13.646Z"
   },
   {
    "duration": 23,
    "start_time": "2023-03-15T14:14:13.665Z"
   },
   {
    "duration": 21,
    "start_time": "2023-03-15T14:14:13.690Z"
   },
   {
    "duration": 651,
    "start_time": "2023-03-15T14:14:13.712Z"
   },
   {
    "duration": 483,
    "start_time": "2023-03-15T14:14:14.365Z"
   },
   {
    "duration": 517,
    "start_time": "2023-03-15T14:14:14.850Z"
   },
   {
    "duration": 613,
    "start_time": "2023-03-15T14:14:15.369Z"
   },
   {
    "duration": 417,
    "start_time": "2023-03-15T14:14:15.984Z"
   },
   {
    "duration": 414,
    "start_time": "2023-03-15T14:14:16.404Z"
   },
   {
    "duration": 625,
    "start_time": "2023-03-15T14:14:16.820Z"
   },
   {
    "duration": 4,
    "start_time": "2023-03-15T14:14:17.446Z"
   },
   {
    "duration": 5,
    "start_time": "2023-03-15T14:14:17.451Z"
   },
   {
    "duration": 5,
    "start_time": "2023-03-15T14:14:17.457Z"
   },
   {
    "duration": 11,
    "start_time": "2023-03-15T14:14:27.793Z"
   },
   {
    "duration": 9735,
    "start_time": "2023-03-15T14:14:31.299Z"
   },
   {
    "duration": 9408,
    "start_time": "2023-03-15T14:14:49.498Z"
   },
   {
    "duration": 3,
    "start_time": "2023-03-15T14:15:04.999Z"
   },
   {
    "duration": 4,
    "start_time": "2023-03-15T14:15:25.944Z"
   },
   {
    "duration": 3265,
    "start_time": "2023-03-15T14:15:42.229Z"
   },
   {
    "duration": 2305,
    "start_time": "2023-03-15T14:15:50.190Z"
   },
   {
    "duration": 3,
    "start_time": "2023-03-15T14:15:58.997Z"
   },
   {
    "duration": 3,
    "start_time": "2023-03-15T14:16:26.287Z"
   },
   {
    "duration": 1070374,
    "start_time": "2023-03-15T14:20:32.488Z"
   },
   {
    "duration": 1075068,
    "start_time": "2023-03-15T14:44:00.285Z"
   },
   {
    "duration": 3,
    "start_time": "2023-03-15T15:02:22.926Z"
   },
   {
    "duration": 116,
    "start_time": "2023-03-15T15:16:41.908Z"
   },
   {
    "duration": 2054,
    "start_time": "2023-03-15T15:18:11.847Z"
   },
   {
    "duration": 5181,
    "start_time": "2023-03-15T15:25:33.000Z"
   },
   {
    "duration": 6,
    "start_time": "2023-03-15T15:27:45.203Z"
   },
   {
    "duration": 9242,
    "start_time": "2023-03-15T15:27:48.057Z"
   },
   {
    "duration": 1252,
    "start_time": "2023-03-15T15:31:12.118Z"
   },
   {
    "duration": 36,
    "start_time": "2023-03-15T15:36:48.572Z"
   },
   {
    "duration": 7,
    "start_time": "2023-03-15T15:36:54.651Z"
   },
   {
    "duration": 9510,
    "start_time": "2023-03-15T15:36:58.739Z"
   },
   {
    "duration": 9133,
    "start_time": "2023-03-15T15:37:44.562Z"
   },
   {
    "duration": 3,
    "start_time": "2023-03-15T15:38:08.540Z"
   },
   {
    "duration": 11417,
    "start_time": "2023-03-15T15:38:53.672Z"
   },
   {
    "duration": 6200,
    "start_time": "2023-03-15T15:39:30.717Z"
   },
   {
    "duration": 5,
    "start_time": "2023-03-15T15:39:49.200Z"
   },
   {
    "duration": 1568,
    "start_time": "2023-03-15T15:41:02.351Z"
   },
   {
    "duration": 848,
    "start_time": "2023-03-15T15:41:03.921Z"
   },
   {
    "duration": 48,
    "start_time": "2023-03-15T15:41:04.771Z"
   },
   {
    "duration": 37,
    "start_time": "2023-03-15T15:41:04.822Z"
   },
   {
    "duration": 64,
    "start_time": "2023-03-15T15:41:04.861Z"
   },
   {
    "duration": 11,
    "start_time": "2023-03-15T15:41:04.926Z"
   },
   {
    "duration": 24,
    "start_time": "2023-03-15T15:41:04.939Z"
   },
   {
    "duration": 27,
    "start_time": "2023-03-15T15:41:04.965Z"
   },
   {
    "duration": 337,
    "start_time": "2023-03-15T15:41:04.993Z"
   },
   {
    "duration": 9,
    "start_time": "2023-03-15T15:41:05.333Z"
   },
   {
    "duration": 9,
    "start_time": "2023-03-15T15:41:05.343Z"
   },
   {
    "duration": 47,
    "start_time": "2023-03-15T15:41:05.354Z"
   },
   {
    "duration": 23,
    "start_time": "2023-03-15T15:41:05.404Z"
   },
   {
    "duration": 10,
    "start_time": "2023-03-15T15:41:05.428Z"
   },
   {
    "duration": 7,
    "start_time": "2023-03-15T15:41:05.440Z"
   },
   {
    "duration": 22,
    "start_time": "2023-03-15T15:41:05.449Z"
   },
   {
    "duration": 25,
    "start_time": "2023-03-15T15:41:05.472Z"
   },
   {
    "duration": 40,
    "start_time": "2023-03-15T15:41:05.506Z"
   },
   {
    "duration": 13,
    "start_time": "2023-03-15T15:41:05.548Z"
   },
   {
    "duration": 19,
    "start_time": "2023-03-15T15:41:05.563Z"
   },
   {
    "duration": 27,
    "start_time": "2023-03-15T15:41:05.584Z"
   },
   {
    "duration": 10,
    "start_time": "2023-03-15T15:41:05.613Z"
   },
   {
    "duration": 712,
    "start_time": "2023-03-15T15:41:05.624Z"
   },
   {
    "duration": 676,
    "start_time": "2023-03-15T15:41:06.337Z"
   },
   {
    "duration": 586,
    "start_time": "2023-03-15T15:41:07.015Z"
   },
   {
    "duration": 648,
    "start_time": "2023-03-15T15:41:07.603Z"
   },
   {
    "duration": 440,
    "start_time": "2023-03-15T15:41:08.253Z"
   },
   {
    "duration": 424,
    "start_time": "2023-03-15T15:41:08.705Z"
   },
   {
    "duration": 749,
    "start_time": "2023-03-15T15:41:09.131Z"
   },
   {
    "duration": 4,
    "start_time": "2023-03-15T15:41:09.882Z"
   },
   {
    "duration": 21,
    "start_time": "2023-03-15T15:41:09.888Z"
   },
   {
    "duration": 12,
    "start_time": "2023-03-15T15:41:09.911Z"
   },
   {
    "duration": 24,
    "start_time": "2023-03-15T15:41:09.925Z"
   },
   {
    "duration": 17,
    "start_time": "2023-03-15T15:41:09.951Z"
   },
   {
    "duration": 10994,
    "start_time": "2023-03-15T15:41:09.970Z"
   },
   {
    "duration": 9939,
    "start_time": "2023-03-15T15:41:20.966Z"
   },
   {
    "duration": 6,
    "start_time": "2023-03-15T15:41:30.910Z"
   },
   {
    "duration": 3522,
    "start_time": "2023-03-15T15:41:52.595Z"
   },
   {
    "duration": 3086,
    "start_time": "2023-03-15T15:42:00.414Z"
   },
   {
    "duration": 3,
    "start_time": "2023-03-15T15:42:06.895Z"
   },
   {
    "duration": 1407,
    "start_time": "2023-03-15T15:53:41.402Z"
   },
   {
    "duration": 666,
    "start_time": "2023-03-15T15:53:42.812Z"
   },
   {
    "duration": 41,
    "start_time": "2023-03-15T15:53:43.487Z"
   },
   {
    "duration": 25,
    "start_time": "2023-03-15T15:53:43.529Z"
   },
   {
    "duration": 57,
    "start_time": "2023-03-15T15:53:43.556Z"
   },
   {
    "duration": 9,
    "start_time": "2023-03-15T15:53:43.614Z"
   },
   {
    "duration": 14,
    "start_time": "2023-03-15T15:53:43.624Z"
   },
   {
    "duration": 10,
    "start_time": "2023-03-15T15:53:43.640Z"
   },
   {
    "duration": 273,
    "start_time": "2023-03-15T15:53:43.652Z"
   },
   {
    "duration": 7,
    "start_time": "2023-03-15T15:53:43.927Z"
   },
   {
    "duration": 6,
    "start_time": "2023-03-15T15:53:43.935Z"
   },
   {
    "duration": 9,
    "start_time": "2023-03-15T15:53:43.942Z"
   },
   {
    "duration": 40,
    "start_time": "2023-03-15T15:53:43.953Z"
   },
   {
    "duration": 22,
    "start_time": "2023-03-15T15:53:43.995Z"
   },
   {
    "duration": 6,
    "start_time": "2023-03-15T15:53:44.018Z"
   },
   {
    "duration": 17,
    "start_time": "2023-03-15T15:53:44.026Z"
   },
   {
    "duration": 6,
    "start_time": "2023-03-15T15:53:44.045Z"
   },
   {
    "duration": 4,
    "start_time": "2023-03-15T15:53:44.053Z"
   },
   {
    "duration": 6,
    "start_time": "2023-03-15T15:53:44.058Z"
   },
   {
    "duration": 31,
    "start_time": "2023-03-15T15:53:44.066Z"
   },
   {
    "duration": 45,
    "start_time": "2023-03-15T15:53:44.098Z"
   },
   {
    "duration": 11,
    "start_time": "2023-03-15T15:53:44.145Z"
   },
   {
    "duration": 753,
    "start_time": "2023-03-15T15:53:44.158Z"
   },
   {
    "duration": 597,
    "start_time": "2023-03-15T15:53:44.918Z"
   },
   {
    "duration": 527,
    "start_time": "2023-03-15T15:53:45.517Z"
   },
   {
    "duration": 766,
    "start_time": "2023-03-15T15:53:46.046Z"
   },
   {
    "duration": 400,
    "start_time": "2023-03-15T15:53:46.813Z"
   },
   {
    "duration": 402,
    "start_time": "2023-03-15T15:53:47.215Z"
   },
   {
    "duration": 650,
    "start_time": "2023-03-15T15:53:47.619Z"
   },
   {
    "duration": 3,
    "start_time": "2023-03-15T15:53:48.270Z"
   },
   {
    "duration": 5,
    "start_time": "2023-03-15T15:53:48.283Z"
   },
   {
    "duration": 19,
    "start_time": "2023-03-15T15:53:48.293Z"
   },
   {
    "duration": 26,
    "start_time": "2023-03-15T15:53:48.314Z"
   },
   {
    "duration": 7,
    "start_time": "2023-03-15T15:53:48.342Z"
   },
   {
    "duration": 10021,
    "start_time": "2023-03-15T15:53:48.351Z"
   },
   {
    "duration": 9250,
    "start_time": "2023-03-15T15:53:58.373Z"
   },
   {
    "duration": 3,
    "start_time": "2023-03-15T15:54:07.624Z"
   },
   {
    "duration": 249867,
    "start_time": "2023-03-15T15:54:17.902Z"
   },
   {
    "duration": 252300,
    "start_time": "2023-03-15T15:59:15.845Z"
   },
   {
    "duration": 2,
    "start_time": "2023-03-15T16:03:53.572Z"
   },
   {
    "duration": 1653,
    "start_time": "2023-03-15T16:04:14.428Z"
   },
   {
    "duration": 1552,
    "start_time": "2023-03-15T16:04:21.038Z"
   },
   {
    "duration": 3,
    "start_time": "2023-03-15T16:04:26.259Z"
   },
   {
    "duration": 561,
    "start_time": "2023-03-15T16:06:23.420Z"
   },
   {
    "duration": 4,
    "start_time": "2023-03-15T16:10:41.585Z"
   },
   {
    "duration": 1193,
    "start_time": "2023-03-15T16:11:09.224Z"
   },
   {
    "duration": 585,
    "start_time": "2023-03-15T16:11:10.418Z"
   },
   {
    "duration": 32,
    "start_time": "2023-03-15T16:11:11.004Z"
   },
   {
    "duration": 25,
    "start_time": "2023-03-15T16:11:11.038Z"
   },
   {
    "duration": 35,
    "start_time": "2023-03-15T16:11:11.079Z"
   },
   {
    "duration": 7,
    "start_time": "2023-03-15T16:11:11.116Z"
   },
   {
    "duration": 9,
    "start_time": "2023-03-15T16:11:11.125Z"
   },
   {
    "duration": 13,
    "start_time": "2023-03-15T16:11:11.135Z"
   },
   {
    "duration": 234,
    "start_time": "2023-03-15T16:11:11.150Z"
   },
   {
    "duration": 8,
    "start_time": "2023-03-15T16:11:11.386Z"
   },
   {
    "duration": 8,
    "start_time": "2023-03-15T16:11:11.395Z"
   },
   {
    "duration": 20,
    "start_time": "2023-03-15T16:11:11.404Z"
   },
   {
    "duration": 18,
    "start_time": "2023-03-15T16:11:11.425Z"
   },
   {
    "duration": 7,
    "start_time": "2023-03-15T16:11:11.445Z"
   },
   {
    "duration": 22,
    "start_time": "2023-03-15T16:11:11.453Z"
   },
   {
    "duration": 14,
    "start_time": "2023-03-15T16:11:11.476Z"
   },
   {
    "duration": 11,
    "start_time": "2023-03-15T16:11:11.491Z"
   },
   {
    "duration": 16,
    "start_time": "2023-03-15T16:11:11.503Z"
   },
   {
    "duration": 37,
    "start_time": "2023-03-15T16:11:11.520Z"
   },
   {
    "duration": 15,
    "start_time": "2023-03-15T16:11:11.559Z"
   },
   {
    "duration": 18,
    "start_time": "2023-03-15T16:11:11.575Z"
   },
   {
    "duration": 11,
    "start_time": "2023-03-15T16:11:11.595Z"
   },
   {
    "duration": 573,
    "start_time": "2023-03-15T16:11:11.608Z"
   },
   {
    "duration": 477,
    "start_time": "2023-03-15T16:11:12.183Z"
   },
   {
    "duration": 480,
    "start_time": "2023-03-15T16:11:12.662Z"
   },
   {
    "duration": 559,
    "start_time": "2023-03-15T16:11:13.144Z"
   },
   {
    "duration": 355,
    "start_time": "2023-03-15T16:11:13.705Z"
   },
   {
    "duration": 354,
    "start_time": "2023-03-15T16:11:14.063Z"
   },
   {
    "duration": 587,
    "start_time": "2023-03-15T16:11:14.419Z"
   },
   {
    "duration": 4,
    "start_time": "2023-03-15T16:11:15.007Z"
   },
   {
    "duration": 22,
    "start_time": "2023-03-15T16:11:15.012Z"
   },
   {
    "duration": 2,
    "start_time": "2023-03-15T16:11:31.224Z"
   },
   {
    "duration": 4,
    "start_time": "2023-03-15T16:11:33.960Z"
   },
   {
    "duration": 4,
    "start_time": "2023-03-15T16:11:55.945Z"
   },
   {
    "duration": 8,
    "start_time": "2023-03-15T16:12:59.485Z"
   },
   {
    "duration": 835,
    "start_time": "2023-03-15T16:13:45.342Z"
   },
   {
    "duration": 17,
    "start_time": "2023-03-15T16:14:37.197Z"
   },
   {
    "duration": 7,
    "start_time": "2023-03-15T16:15:02.234Z"
   },
   {
    "duration": 5550,
    "start_time": "2023-03-15T16:15:06.222Z"
   },
   {
    "duration": 5485,
    "start_time": "2023-03-15T16:15:17.052Z"
   },
   {
    "duration": 3,
    "start_time": "2023-03-15T16:15:29.377Z"
   },
   {
    "duration": 1422,
    "start_time": "2023-03-15T16:15:36.159Z"
   },
   {
    "duration": 1606,
    "start_time": "2023-03-15T16:15:40.574Z"
   },
   {
    "duration": 3,
    "start_time": "2023-03-15T16:15:44.767Z"
   },
   {
    "duration": 154395,
    "start_time": "2023-03-15T16:15:54.601Z"
   },
   {
    "duration": 1265,
    "start_time": "2023-03-15T16:21:39.395Z"
   },
   {
    "duration": 646,
    "start_time": "2023-03-15T16:21:40.662Z"
   },
   {
    "duration": 32,
    "start_time": "2023-03-15T16:21:41.310Z"
   },
   {
    "duration": 46,
    "start_time": "2023-03-15T16:21:41.343Z"
   },
   {
    "duration": 34,
    "start_time": "2023-03-15T16:21:41.396Z"
   },
   {
    "duration": 8,
    "start_time": "2023-03-15T16:21:41.431Z"
   },
   {
    "duration": 9,
    "start_time": "2023-03-15T16:21:41.440Z"
   },
   {
    "duration": 15,
    "start_time": "2023-03-15T16:21:41.451Z"
   },
   {
    "duration": 247,
    "start_time": "2023-03-15T16:21:41.468Z"
   },
   {
    "duration": 8,
    "start_time": "2023-03-15T16:21:41.717Z"
   },
   {
    "duration": 6,
    "start_time": "2023-03-15T16:21:41.726Z"
   },
   {
    "duration": 8,
    "start_time": "2023-03-15T16:21:41.734Z"
   },
   {
    "duration": 50,
    "start_time": "2023-03-15T16:21:41.743Z"
   },
   {
    "duration": 8,
    "start_time": "2023-03-15T16:21:41.796Z"
   },
   {
    "duration": 6,
    "start_time": "2023-03-15T16:21:41.806Z"
   },
   {
    "duration": 13,
    "start_time": "2023-03-15T16:21:41.814Z"
   },
   {
    "duration": 5,
    "start_time": "2023-03-15T16:21:41.828Z"
   },
   {
    "duration": 27,
    "start_time": "2023-03-15T16:21:41.835Z"
   },
   {
    "duration": 10,
    "start_time": "2023-03-15T16:21:41.864Z"
   },
   {
    "duration": 28,
    "start_time": "2023-03-15T16:21:41.875Z"
   },
   {
    "duration": 19,
    "start_time": "2023-03-15T16:21:41.904Z"
   },
   {
    "duration": 9,
    "start_time": "2023-03-15T16:21:41.925Z"
   },
   {
    "duration": 601,
    "start_time": "2023-03-15T16:21:41.935Z"
   },
   {
    "duration": 513,
    "start_time": "2023-03-15T16:21:42.537Z"
   },
   {
    "duration": 504,
    "start_time": "2023-03-15T16:21:43.052Z"
   },
   {
    "duration": 620,
    "start_time": "2023-03-15T16:21:43.557Z"
   },
   {
    "duration": 363,
    "start_time": "2023-03-15T16:21:44.178Z"
   },
   {
    "duration": 394,
    "start_time": "2023-03-15T16:21:44.542Z"
   },
   {
    "duration": 660,
    "start_time": "2023-03-15T16:21:44.938Z"
   },
   {
    "duration": 3,
    "start_time": "2023-03-15T16:21:45.599Z"
   },
   {
    "duration": 6,
    "start_time": "2023-03-15T16:21:45.604Z"
   },
   {
    "duration": 7,
    "start_time": "2023-03-15T16:21:45.611Z"
   },
   {
    "duration": 22,
    "start_time": "2023-03-15T16:21:53.347Z"
   },
   {
    "duration": 3,
    "start_time": "2023-03-15T16:21:58.757Z"
   },
   {
    "duration": 9,
    "start_time": "2023-03-15T16:22:02.492Z"
   },
   {
    "duration": 7,
    "start_time": "2023-03-15T16:22:07.060Z"
   },
   {
    "duration": 5464,
    "start_time": "2023-03-15T16:22:09.935Z"
   },
   {
    "duration": 5551,
    "start_time": "2023-03-15T16:22:18.894Z"
   },
   {
    "duration": 6,
    "start_time": "2023-03-15T16:22:27.279Z"
   },
   {
    "duration": 150465,
    "start_time": "2023-03-15T16:22:31.799Z"
   },
   {
    "duration": 147164,
    "start_time": "2023-03-15T16:25:45.083Z"
   },
   {
    "duration": 3,
    "start_time": "2023-03-15T16:28:34.762Z"
   },
   {
    "duration": 3528,
    "start_time": "2023-03-15T16:29:28.473Z"
   },
   {
    "duration": 1615,
    "start_time": "2023-03-15T16:29:45.374Z"
   },
   {
    "duration": 4,
    "start_time": "2023-03-15T16:29:55.562Z"
   },
   {
    "duration": 1660,
    "start_time": "2023-03-15T16:36:24.048Z"
   },
   {
    "duration": 110,
    "start_time": "2023-03-15T16:53:56.236Z"
   },
   {
    "duration": 7,
    "start_time": "2023-03-15T16:54:14.052Z"
   },
   {
    "duration": 23,
    "start_time": "2023-03-16T14:43:53.755Z"
   },
   {
    "duration": 311,
    "start_time": "2023-03-16T14:44:00.855Z"
   },
   {
    "duration": 10,
    "start_time": "2023-03-16T14:44:03.066Z"
   },
   {
    "duration": 1557,
    "start_time": "2023-03-17T10:28:20.625Z"
   },
   {
    "duration": 1974,
    "start_time": "2023-03-17T10:28:22.184Z"
   },
   {
    "duration": 36,
    "start_time": "2023-03-17T10:28:24.159Z"
   },
   {
    "duration": 27,
    "start_time": "2023-03-17T10:28:24.197Z"
   },
   {
    "duration": 53,
    "start_time": "2023-03-17T10:28:24.226Z"
   },
   {
    "duration": 8,
    "start_time": "2023-03-17T10:28:24.281Z"
   },
   {
    "duration": 12,
    "start_time": "2023-03-17T10:28:24.291Z"
   },
   {
    "duration": 24,
    "start_time": "2023-03-17T10:28:24.304Z"
   },
   {
    "duration": 249,
    "start_time": "2023-03-17T10:28:24.330Z"
   },
   {
    "duration": 8,
    "start_time": "2023-03-17T10:28:24.581Z"
   },
   {
    "duration": 7,
    "start_time": "2023-03-17T10:28:24.591Z"
   },
   {
    "duration": 28,
    "start_time": "2023-03-17T10:28:24.600Z"
   },
   {
    "duration": 32,
    "start_time": "2023-03-17T10:28:24.629Z"
   },
   {
    "duration": 10,
    "start_time": "2023-03-17T10:28:24.663Z"
   },
   {
    "duration": 13,
    "start_time": "2023-03-17T10:28:24.675Z"
   },
   {
    "duration": 20,
    "start_time": "2023-03-17T10:28:24.690Z"
   },
   {
    "duration": 17,
    "start_time": "2023-03-17T10:28:24.711Z"
   },
   {
    "duration": 22,
    "start_time": "2023-03-17T10:28:24.729Z"
   },
   {
    "duration": 11,
    "start_time": "2023-03-17T10:28:24.753Z"
   },
   {
    "duration": 30,
    "start_time": "2023-03-17T10:28:24.766Z"
   },
   {
    "duration": 18,
    "start_time": "2023-03-17T10:28:24.798Z"
   },
   {
    "duration": 12,
    "start_time": "2023-03-17T10:28:24.818Z"
   },
   {
    "duration": 596,
    "start_time": "2023-03-17T10:28:30.752Z"
   },
   {
    "duration": 548,
    "start_time": "2023-03-17T10:29:02.456Z"
   },
   {
    "duration": 498,
    "start_time": "2023-03-17T10:29:08.850Z"
   },
   {
    "duration": 610,
    "start_time": "2023-03-17T10:29:14.139Z"
   },
   {
    "duration": 408,
    "start_time": "2023-03-17T10:30:02.121Z"
   },
   {
    "duration": 427,
    "start_time": "2023-03-17T10:30:25.842Z"
   },
   {
    "duration": 638,
    "start_time": "2023-03-17T10:31:06.332Z"
   },
   {
    "duration": 526,
    "start_time": "2023-03-17T10:31:13.235Z"
   },
   {
    "duration": 158,
    "start_time": "2023-03-17T10:39:16.631Z"
   },
   {
    "duration": 14,
    "start_time": "2023-03-17T10:56:07.422Z"
   },
   {
    "duration": 10,
    "start_time": "2023-03-17T10:56:18.326Z"
   },
   {
    "duration": 0,
    "start_time": "2023-03-17T10:56:18.337Z"
   },
   {
    "duration": 0,
    "start_time": "2023-03-17T10:56:18.338Z"
   },
   {
    "duration": 24,
    "start_time": "2023-03-17T10:56:18.344Z"
   },
   {
    "duration": 30,
    "start_time": "2023-03-17T10:56:18.370Z"
   },
   {
    "duration": 1127,
    "start_time": "2023-03-17T10:56:18.402Z"
   },
   {
    "duration": 0,
    "start_time": "2023-03-17T10:56:19.531Z"
   },
   {
    "duration": 0,
    "start_time": "2023-03-17T10:56:19.532Z"
   },
   {
    "duration": 0,
    "start_time": "2023-03-17T10:56:19.533Z"
   },
   {
    "duration": 0,
    "start_time": "2023-03-17T10:56:19.534Z"
   },
   {
    "duration": 0,
    "start_time": "2023-03-17T10:56:19.536Z"
   },
   {
    "duration": 0,
    "start_time": "2023-03-17T10:56:19.537Z"
   },
   {
    "duration": 0,
    "start_time": "2023-03-17T10:56:19.538Z"
   },
   {
    "duration": 0,
    "start_time": "2023-03-17T10:56:19.539Z"
   },
   {
    "duration": 0,
    "start_time": "2023-03-17T10:56:19.540Z"
   },
   {
    "duration": 0,
    "start_time": "2023-03-17T10:56:19.541Z"
   },
   {
    "duration": 0,
    "start_time": "2023-03-17T10:56:19.542Z"
   },
   {
    "duration": 0,
    "start_time": "2023-03-17T10:56:19.544Z"
   },
   {
    "duration": 0,
    "start_time": "2023-03-17T10:56:19.545Z"
   },
   {
    "duration": 0,
    "start_time": "2023-03-17T10:56:19.546Z"
   },
   {
    "duration": 0,
    "start_time": "2023-03-17T10:56:19.547Z"
   },
   {
    "duration": 0,
    "start_time": "2023-03-17T10:56:19.548Z"
   },
   {
    "duration": 0,
    "start_time": "2023-03-17T10:56:19.550Z"
   },
   {
    "duration": 0,
    "start_time": "2023-03-17T10:56:19.552Z"
   },
   {
    "duration": 0,
    "start_time": "2023-03-17T10:56:19.553Z"
   },
   {
    "duration": 1,
    "start_time": "2023-03-17T10:56:19.554Z"
   },
   {
    "duration": 0,
    "start_time": "2023-03-17T10:56:19.556Z"
   },
   {
    "duration": 0,
    "start_time": "2023-03-17T10:56:19.557Z"
   },
   {
    "duration": 0,
    "start_time": "2023-03-17T10:56:19.559Z"
   },
   {
    "duration": 0,
    "start_time": "2023-03-17T10:56:19.560Z"
   },
   {
    "duration": 0,
    "start_time": "2023-03-17T10:56:19.561Z"
   },
   {
    "duration": 0,
    "start_time": "2023-03-17T10:56:19.563Z"
   },
   {
    "duration": 0,
    "start_time": "2023-03-17T10:56:19.564Z"
   },
   {
    "duration": 0,
    "start_time": "2023-03-17T10:56:19.565Z"
   },
   {
    "duration": 14,
    "start_time": "2023-03-17T10:56:28.361Z"
   },
   {
    "duration": 3,
    "start_time": "2023-03-17T10:57:19.978Z"
   },
   {
    "duration": 23,
    "start_time": "2023-03-17T10:57:33.758Z"
   },
   {
    "duration": 29,
    "start_time": "2023-03-17T10:58:11.106Z"
   },
   {
    "duration": 182,
    "start_time": "2023-03-17T10:58:25.274Z"
   },
   {
    "duration": 4,
    "start_time": "2023-03-17T10:58:54.471Z"
   },
   {
    "duration": 653,
    "start_time": "2023-03-17T10:58:54.479Z"
   },
   {
    "duration": 32,
    "start_time": "2023-03-17T10:58:55.134Z"
   },
   {
    "duration": 26,
    "start_time": "2023-03-17T10:58:55.168Z"
   },
   {
    "duration": 48,
    "start_time": "2023-03-17T10:58:55.196Z"
   },
   {
    "duration": 10,
    "start_time": "2023-03-17T10:58:55.246Z"
   },
   {
    "duration": 8,
    "start_time": "2023-03-17T10:58:55.257Z"
   },
   {
    "duration": 9,
    "start_time": "2023-03-17T10:58:55.266Z"
   },
   {
    "duration": 251,
    "start_time": "2023-03-17T10:58:55.276Z"
   },
   {
    "duration": 12,
    "start_time": "2023-03-17T10:58:55.529Z"
   },
   {
    "duration": 6,
    "start_time": "2023-03-17T10:58:55.543Z"
   },
   {
    "duration": 8,
    "start_time": "2023-03-17T10:58:55.551Z"
   },
   {
    "duration": 17,
    "start_time": "2023-03-17T10:58:55.561Z"
   },
   {
    "duration": 7,
    "start_time": "2023-03-17T10:58:55.580Z"
   },
   {
    "duration": 5,
    "start_time": "2023-03-17T10:58:55.589Z"
   },
   {
    "duration": 53,
    "start_time": "2023-03-17T10:58:55.596Z"
   },
   {
    "duration": 6,
    "start_time": "2023-03-17T10:58:55.651Z"
   },
   {
    "duration": 5,
    "start_time": "2023-03-17T10:58:55.659Z"
   },
   {
    "duration": 5,
    "start_time": "2023-03-17T10:58:55.666Z"
   },
   {
    "duration": 9,
    "start_time": "2023-03-17T10:58:55.672Z"
   },
   {
    "duration": 18,
    "start_time": "2023-03-17T10:58:55.682Z"
   },
   {
    "duration": 43,
    "start_time": "2023-03-17T10:58:55.702Z"
   },
   {
    "duration": 671,
    "start_time": "2023-03-17T10:58:55.747Z"
   },
   {
    "duration": 606,
    "start_time": "2023-03-17T10:58:56.420Z"
   },
   {
    "duration": 600,
    "start_time": "2023-03-17T10:58:57.028Z"
   },
   {
    "duration": 527,
    "start_time": "2023-03-17T10:58:57.630Z"
   },
   {
    "duration": 471,
    "start_time": "2023-03-17T10:58:58.159Z"
   },
   {
    "duration": 411,
    "start_time": "2023-03-17T10:58:58.632Z"
   },
   {
    "duration": 520,
    "start_time": "2023-03-17T10:58:59.047Z"
   },
   {
    "duration": 4,
    "start_time": "2023-03-17T10:58:59.568Z"
   },
   {
    "duration": 3,
    "start_time": "2023-03-17T10:58:59.574Z"
   },
   {
    "duration": 2,
    "start_time": "2023-03-17T10:58:59.579Z"
   },
   {
    "duration": 19,
    "start_time": "2023-03-17T10:58:59.583Z"
   },
   {
    "duration": 6,
    "start_time": "2023-03-17T10:58:59.603Z"
   },
   {
    "duration": 19,
    "start_time": "2023-03-17T10:58:59.640Z"
   },
   {
    "duration": 3418,
    "start_time": "2023-03-17T10:59:09.430Z"
   },
   {
    "duration": 9,
    "start_time": "2023-03-17T11:02:10.819Z"
   },
   {
    "duration": 4,
    "start_time": "2023-03-17T11:02:57.059Z"
   },
   {
    "duration": 83,
    "start_time": "2023-03-17T11:04:15.818Z"
   },
   {
    "duration": 18,
    "start_time": "2023-03-17T11:04:26.535Z"
   },
   {
    "duration": 10,
    "start_time": "2023-03-17T11:04:32.986Z"
   },
   {
    "duration": 86,
    "start_time": "2023-03-17T11:04:43.714Z"
   },
   {
    "duration": 85,
    "start_time": "2023-03-17T11:05:40.377Z"
   },
   {
    "duration": 4,
    "start_time": "2023-03-17T11:05:57.707Z"
   },
   {
    "duration": 3699,
    "start_time": "2023-03-17T11:08:51.055Z"
   },
   {
    "duration": 11,
    "start_time": "2023-03-17T11:10:27.808Z"
   },
   {
    "duration": 3608,
    "start_time": "2023-03-17T11:10:48.224Z"
   },
   {
    "duration": 3,
    "start_time": "2023-03-17T11:11:40.663Z"
   },
   {
    "duration": 3741,
    "start_time": "2023-03-17T11:14:24.886Z"
   },
   {
    "duration": 3648,
    "start_time": "2023-03-17T11:14:42.892Z"
   },
   {
    "duration": 3,
    "start_time": "2023-03-17T11:15:00.232Z"
   },
   {
    "duration": 1079,
    "start_time": "2023-03-17T11:16:54.370Z"
   },
   {
    "duration": 1143,
    "start_time": "2023-03-17T11:17:49.210Z"
   },
   {
    "duration": 4,
    "start_time": "2023-03-17T11:18:07.723Z"
   },
   {
    "duration": 311903,
    "start_time": "2023-03-17T11:21:38.753Z"
   },
   {
    "duration": 316032,
    "start_time": "2023-03-17T11:29:02.954Z"
   },
   {
    "duration": 3,
    "start_time": "2023-03-17T11:35:58.172Z"
   },
   {
    "duration": 3532,
    "start_time": "2023-03-17T11:40:59.414Z"
   },
   {
    "duration": 3509,
    "start_time": "2023-03-17T11:41:40.933Z"
   },
   {
    "duration": 3513,
    "start_time": "2023-03-17T11:42:12.843Z"
   },
   {
    "duration": 3947,
    "start_time": "2023-03-17T11:43:55.446Z"
   },
   {
    "duration": 4,
    "start_time": "2023-03-17T11:44:25.557Z"
   },
   {
    "duration": 2032,
    "start_time": "2023-03-17T11:44:51.121Z"
   },
   {
    "duration": 2918,
    "start_time": "2023-03-17T11:45:25.541Z"
   },
   {
    "duration": 4,
    "start_time": "2023-03-17T11:45:34.627Z"
   },
   {
    "duration": 314800,
    "start_time": "2023-03-17T11:47:23.703Z"
   },
   {
    "duration": 313142,
    "start_time": "2023-03-17T11:55:56.124Z"
   },
   {
    "duration": 3135,
    "start_time": "2023-03-18T11:35:15.700Z"
   },
   {
    "duration": 2543,
    "start_time": "2023-03-18T11:35:18.837Z"
   },
   {
    "duration": 39,
    "start_time": "2023-03-18T11:35:21.382Z"
   },
   {
    "duration": 31,
    "start_time": "2023-03-18T11:35:21.423Z"
   },
   {
    "duration": 51,
    "start_time": "2023-03-18T11:35:21.456Z"
   },
   {
    "duration": 8,
    "start_time": "2023-03-18T11:35:21.509Z"
   },
   {
    "duration": 38,
    "start_time": "2023-03-18T11:35:21.519Z"
   },
   {
    "duration": 13,
    "start_time": "2023-03-18T11:35:21.559Z"
   },
   {
    "duration": 249,
    "start_time": "2023-03-18T11:35:21.573Z"
   },
   {
    "duration": 8,
    "start_time": "2023-03-18T11:35:21.824Z"
   },
   {
    "duration": 6,
    "start_time": "2023-03-18T11:35:21.834Z"
   },
   {
    "duration": 14,
    "start_time": "2023-03-18T11:35:21.841Z"
   },
   {
    "duration": 47,
    "start_time": "2023-03-18T11:35:21.857Z"
   },
   {
    "duration": 8,
    "start_time": "2023-03-18T11:35:21.906Z"
   },
   {
    "duration": 6,
    "start_time": "2023-03-18T11:35:21.915Z"
   },
   {
    "duration": 10,
    "start_time": "2023-03-18T11:35:21.922Z"
   },
   {
    "duration": 6,
    "start_time": "2023-03-18T11:35:21.934Z"
   },
   {
    "duration": 6,
    "start_time": "2023-03-18T11:35:21.942Z"
   },
   {
    "duration": 44,
    "start_time": "2023-03-18T11:35:21.949Z"
   },
   {
    "duration": 16,
    "start_time": "2023-03-18T11:35:21.995Z"
   },
   {
    "duration": 22,
    "start_time": "2023-03-18T11:35:22.013Z"
   },
   {
    "duration": 12,
    "start_time": "2023-03-18T11:35:22.036Z"
   },
   {
    "duration": 779,
    "start_time": "2023-03-18T11:35:22.050Z"
   },
   {
    "duration": 610,
    "start_time": "2023-03-18T11:35:22.830Z"
   },
   {
    "duration": 628,
    "start_time": "2023-03-18T11:35:23.441Z"
   },
   {
    "duration": 767,
    "start_time": "2023-03-18T11:35:24.070Z"
   },
   {
    "duration": 453,
    "start_time": "2023-03-18T11:35:24.840Z"
   },
   {
    "duration": 471,
    "start_time": "2023-03-18T11:35:25.294Z"
   },
   {
    "duration": 816,
    "start_time": "2023-03-18T11:35:25.767Z"
   },
   {
    "duration": 3,
    "start_time": "2023-03-18T11:35:27.596Z"
   },
   {
    "duration": 3,
    "start_time": "2023-03-18T11:35:27.990Z"
   },
   {
    "duration": 3,
    "start_time": "2023-03-18T11:35:28.389Z"
   },
   {
    "duration": 27,
    "start_time": "2023-03-18T11:35:29.476Z"
   },
   {
    "duration": 7,
    "start_time": "2023-03-18T11:35:30.476Z"
   },
   {
    "duration": 22,
    "start_time": "2023-03-18T11:35:31.657Z"
   },
   {
    "duration": 3324,
    "start_time": "2023-03-18T11:35:34.369Z"
   },
   {
    "duration": 1804,
    "start_time": "2023-03-18T11:40:34.936Z"
   },
   {
    "duration": 664,
    "start_time": "2023-03-18T11:40:36.742Z"
   },
   {
    "duration": 39,
    "start_time": "2023-03-18T11:40:37.408Z"
   },
   {
    "duration": 47,
    "start_time": "2023-03-18T11:40:37.450Z"
   },
   {
    "duration": 33,
    "start_time": "2023-03-18T11:40:37.499Z"
   },
   {
    "duration": 9,
    "start_time": "2023-03-18T11:40:37.534Z"
   },
   {
    "duration": 9,
    "start_time": "2023-03-18T11:40:37.545Z"
   },
   {
    "duration": 39,
    "start_time": "2023-03-18T11:40:37.555Z"
   },
   {
    "duration": 246,
    "start_time": "2023-03-18T11:40:37.595Z"
   },
   {
    "duration": 10,
    "start_time": "2023-03-18T11:40:37.844Z"
   },
   {
    "duration": 7,
    "start_time": "2023-03-18T11:40:37.856Z"
   },
   {
    "duration": 29,
    "start_time": "2023-03-18T11:40:37.865Z"
   },
   {
    "duration": 26,
    "start_time": "2023-03-18T11:40:37.896Z"
   },
   {
    "duration": 11,
    "start_time": "2023-03-18T11:40:37.924Z"
   },
   {
    "duration": 7,
    "start_time": "2023-03-18T11:40:37.937Z"
   },
   {
    "duration": 11,
    "start_time": "2023-03-18T11:40:37.946Z"
   },
   {
    "duration": 36,
    "start_time": "2023-03-18T11:40:37.959Z"
   },
   {
    "duration": 5,
    "start_time": "2023-03-18T11:40:37.997Z"
   },
   {
    "duration": 6,
    "start_time": "2023-03-18T11:40:38.004Z"
   },
   {
    "duration": 12,
    "start_time": "2023-03-18T11:40:38.272Z"
   },
   {
    "duration": 28,
    "start_time": "2023-03-18T11:40:38.356Z"
   },
   {
    "duration": 12,
    "start_time": "2023-03-18T11:40:38.690Z"
   },
   {
    "duration": 761,
    "start_time": "2023-03-18T11:40:39.199Z"
   },
   {
    "duration": 638,
    "start_time": "2023-03-18T11:40:39.962Z"
   },
   {
    "duration": 602,
    "start_time": "2023-03-18T11:40:40.602Z"
   },
   {
    "duration": 738,
    "start_time": "2023-03-18T11:40:41.207Z"
   },
   {
    "duration": 465,
    "start_time": "2023-03-18T11:40:41.948Z"
   },
   {
    "duration": 467,
    "start_time": "2023-03-18T11:40:42.416Z"
   },
   {
    "duration": 816,
    "start_time": "2023-03-18T11:40:43.600Z"
   },
   {
    "duration": 4,
    "start_time": "2023-03-18T11:40:45.509Z"
   },
   {
    "duration": 3,
    "start_time": "2023-03-18T11:40:46.009Z"
   },
   {
    "duration": 2,
    "start_time": "2023-03-18T11:40:46.114Z"
   },
   {
    "duration": 25,
    "start_time": "2023-03-18T11:40:46.934Z"
   },
   {
    "duration": 7,
    "start_time": "2023-03-18T11:40:48.033Z"
   },
   {
    "duration": 25,
    "start_time": "2023-03-18T11:40:48.593Z"
   },
   {
    "duration": 3382,
    "start_time": "2023-03-18T11:40:51.755Z"
   },
   {
    "duration": 3223,
    "start_time": "2023-03-18T11:45:49.147Z"
   },
   {
    "duration": 1735,
    "start_time": "2023-03-18T12:11:44.803Z"
   },
   {
    "duration": 2526,
    "start_time": "2023-03-18T12:11:46.540Z"
   },
   {
    "duration": 45,
    "start_time": "2023-03-18T12:11:49.067Z"
   },
   {
    "duration": 33,
    "start_time": "2023-03-18T12:11:49.114Z"
   },
   {
    "duration": 60,
    "start_time": "2023-03-18T12:11:49.149Z"
   },
   {
    "duration": 10,
    "start_time": "2023-03-18T12:11:49.211Z"
   },
   {
    "duration": 14,
    "start_time": "2023-03-18T12:11:49.223Z"
   },
   {
    "duration": 13,
    "start_time": "2023-03-18T12:11:49.238Z"
   },
   {
    "duration": 303,
    "start_time": "2023-03-18T12:11:49.254Z"
   },
   {
    "duration": 10,
    "start_time": "2023-03-18T12:11:49.561Z"
   },
   {
    "duration": 21,
    "start_time": "2023-03-18T12:11:49.573Z"
   },
   {
    "duration": 18,
    "start_time": "2023-03-18T12:11:49.596Z"
   },
   {
    "duration": 33,
    "start_time": "2023-03-18T12:11:49.616Z"
   },
   {
    "duration": 9,
    "start_time": "2023-03-18T12:11:49.651Z"
   },
   {
    "duration": 6,
    "start_time": "2023-03-18T12:11:49.662Z"
   },
   {
    "duration": 28,
    "start_time": "2023-03-18T12:11:49.669Z"
   },
   {
    "duration": 6,
    "start_time": "2023-03-18T12:11:49.699Z"
   },
   {
    "duration": 4,
    "start_time": "2023-03-18T12:11:49.707Z"
   },
   {
    "duration": 7,
    "start_time": "2023-03-18T12:11:49.713Z"
   },
   {
    "duration": 16,
    "start_time": "2023-03-18T12:11:49.722Z"
   },
   {
    "duration": 54,
    "start_time": "2023-03-18T12:11:49.740Z"
   },
   {
    "duration": 13,
    "start_time": "2023-03-18T12:11:49.796Z"
   },
   {
    "duration": 798,
    "start_time": "2023-03-18T12:11:49.811Z"
   },
   {
    "duration": 678,
    "start_time": "2023-03-18T12:11:50.611Z"
   },
   {
    "duration": 657,
    "start_time": "2023-03-18T12:11:51.291Z"
   },
   {
    "duration": 857,
    "start_time": "2023-03-18T12:11:51.951Z"
   },
   {
    "duration": 522,
    "start_time": "2023-03-18T12:11:52.810Z"
   },
   {
    "duration": 496,
    "start_time": "2023-03-18T12:11:53.335Z"
   },
   {
    "duration": 777,
    "start_time": "2023-03-18T12:11:53.833Z"
   },
   {
    "duration": 4,
    "start_time": "2023-03-18T12:11:54.611Z"
   },
   {
    "duration": 8,
    "start_time": "2023-03-18T12:11:54.617Z"
   },
   {
    "duration": 4,
    "start_time": "2023-03-18T12:11:54.627Z"
   },
   {
    "duration": 29,
    "start_time": "2023-03-18T12:11:54.632Z"
   },
   {
    "duration": 31,
    "start_time": "2023-03-18T12:11:54.663Z"
   },
   {
    "duration": 28,
    "start_time": "2023-03-18T12:11:54.695Z"
   },
   {
    "duration": 4301,
    "start_time": "2023-03-18T12:11:54.725Z"
   },
   {
    "duration": 3850,
    "start_time": "2023-03-18T12:11:59.027Z"
   },
   {
    "duration": 11,
    "start_time": "2023-03-18T12:12:02.879Z"
   },
   {
    "duration": 1586,
    "start_time": "2023-03-18T12:14:40.344Z"
   },
   {
    "duration": 811,
    "start_time": "2023-03-18T12:14:41.933Z"
   },
   {
    "duration": 68,
    "start_time": "2023-03-18T12:14:42.746Z"
   },
   {
    "duration": 78,
    "start_time": "2023-03-18T12:14:42.817Z"
   },
   {
    "duration": 59,
    "start_time": "2023-03-18T12:14:42.907Z"
   },
   {
    "duration": 16,
    "start_time": "2023-03-18T12:14:42.968Z"
   },
   {
    "duration": 14,
    "start_time": "2023-03-18T12:14:42.992Z"
   },
   {
    "duration": 23,
    "start_time": "2023-03-18T12:14:43.009Z"
   },
   {
    "duration": 344,
    "start_time": "2023-03-18T12:14:43.035Z"
   },
   {
    "duration": 14,
    "start_time": "2023-03-18T12:14:43.391Z"
   },
   {
    "duration": 13,
    "start_time": "2023-03-18T12:14:43.409Z"
   },
   {
    "duration": 12,
    "start_time": "2023-03-18T12:14:43.424Z"
   },
   {
    "duration": 65,
    "start_time": "2023-03-18T12:14:43.439Z"
   },
   {
    "duration": 12,
    "start_time": "2023-03-18T12:14:43.509Z"
   },
   {
    "duration": 16,
    "start_time": "2023-03-18T12:14:43.524Z"
   },
   {
    "duration": 15,
    "start_time": "2023-03-18T12:14:43.542Z"
   },
   {
    "duration": 9,
    "start_time": "2023-03-18T12:14:43.559Z"
   },
   {
    "duration": 20,
    "start_time": "2023-03-18T12:14:43.570Z"
   },
   {
    "duration": 8,
    "start_time": "2023-03-18T12:14:43.592Z"
   },
   {
    "duration": 18,
    "start_time": "2023-03-18T12:14:43.613Z"
   },
   {
    "duration": 38,
    "start_time": "2023-03-18T12:14:43.634Z"
   },
   {
    "duration": 28,
    "start_time": "2023-03-18T12:14:43.675Z"
   },
   {
    "duration": 870,
    "start_time": "2023-03-18T12:14:43.705Z"
   },
   {
    "duration": 783,
    "start_time": "2023-03-18T12:14:44.578Z"
   },
   {
    "duration": 769,
    "start_time": "2023-03-18T12:14:45.364Z"
   },
   {
    "duration": 962,
    "start_time": "2023-03-18T12:14:46.134Z"
   },
   {
    "duration": 644,
    "start_time": "2023-03-18T12:15:54.959Z"
   },
   {
    "duration": 828,
    "start_time": "2023-03-18T12:16:12.215Z"
   },
   {
    "duration": 1112,
    "start_time": "2023-03-18T12:17:31.394Z"
   },
   {
    "duration": 7,
    "start_time": "2023-03-18T12:18:01.962Z"
   },
   {
    "duration": 4,
    "start_time": "2023-03-18T12:18:03.855Z"
   },
   {
    "duration": 4,
    "start_time": "2023-03-18T12:18:07.215Z"
   },
   {
    "duration": 44,
    "start_time": "2023-03-18T12:18:12.070Z"
   },
   {
    "duration": 9,
    "start_time": "2023-03-18T12:18:20.365Z"
   },
   {
    "duration": 38,
    "start_time": "2023-03-18T12:18:31.921Z"
   },
   {
    "duration": 3799,
    "start_time": "2023-03-18T12:25:04.241Z"
   },
   {
    "duration": 4240,
    "start_time": "2023-03-18T12:25:40.483Z"
   },
   {
    "duration": 4088,
    "start_time": "2023-03-18T12:26:36.068Z"
   },
   {
    "duration": 4,
    "start_time": "2023-03-18T12:27:27.274Z"
   },
   {
    "duration": 3053,
    "start_time": "2023-03-18T12:28:54.182Z"
   },
   {
    "duration": 2889,
    "start_time": "2023-03-18T12:29:32.831Z"
   },
   {
    "duration": 5,
    "start_time": "2023-03-18T12:30:14.107Z"
   },
   {
    "duration": 331815,
    "start_time": "2023-03-18T12:33:24.716Z"
   },
   {
    "duration": 334535,
    "start_time": "2023-03-18T12:41:05.914Z"
   },
   {
    "duration": 5,
    "start_time": "2023-03-18T12:50:24.188Z"
   },
   {
    "duration": 548471,
    "start_time": "2023-03-18T12:58:03.949Z"
   },
   {
    "duration": 6,
    "start_time": "2023-03-18T13:08:44.386Z"
   },
   {
    "duration": 512730,
    "start_time": "2023-03-18T13:10:27.282Z"
   },
   {
    "duration": 7,
    "start_time": "2023-03-18T13:19:59.807Z"
   },
   {
    "duration": 6679,
    "start_time": "2023-03-18T13:21:23.049Z"
   },
   {
    "duration": 6654,
    "start_time": "2023-03-18T13:21:46.116Z"
   },
   {
    "duration": 4,
    "start_time": "2023-03-18T13:22:00.461Z"
   },
   {
    "duration": 4298,
    "start_time": "2023-03-18T13:22:35.584Z"
   },
   {
    "duration": 4145,
    "start_time": "2023-03-18T13:22:49.535Z"
   },
   {
    "duration": 3,
    "start_time": "2023-03-18T13:23:12.422Z"
   },
   {
    "duration": 538380,
    "start_time": "2023-03-18T13:26:03.343Z"
   },
   {
    "duration": 552730,
    "start_time": "2023-03-18T13:37:29.835Z"
   },
   {
    "duration": 3,
    "start_time": "2023-03-18T13:47:39.664Z"
   },
   {
    "duration": 515672,
    "start_time": "2023-03-18T13:49:22.894Z"
   },
   {
    "duration": 3,
    "start_time": "2023-03-18T13:58:33.807Z"
   },
   {
    "duration": 3492,
    "start_time": "2023-03-18T14:03:32.845Z"
   },
   {
    "duration": 3815,
    "start_time": "2023-03-18T14:04:04.009Z"
   },
   {
    "duration": 3590,
    "start_time": "2023-03-18T14:04:18.638Z"
   },
   {
    "duration": 253,
    "start_time": "2023-03-18T14:05:33.107Z"
   },
   {
    "duration": 11,
    "start_time": "2023-03-18T14:08:41.237Z"
   },
   {
    "duration": 2046,
    "start_time": "2023-03-18T21:56:04.691Z"
   },
   {
    "duration": 2861,
    "start_time": "2023-03-18T21:56:06.739Z"
   },
   {
    "duration": 42,
    "start_time": "2023-03-18T21:56:09.602Z"
   },
   {
    "duration": 40,
    "start_time": "2023-03-18T21:56:09.647Z"
   },
   {
    "duration": 36,
    "start_time": "2023-03-18T21:56:09.688Z"
   },
   {
    "duration": 9,
    "start_time": "2023-03-18T21:56:09.726Z"
   },
   {
    "duration": 14,
    "start_time": "2023-03-18T21:56:09.736Z"
   },
   {
    "duration": 23,
    "start_time": "2023-03-18T21:56:09.775Z"
   },
   {
    "duration": 274,
    "start_time": "2023-03-18T21:56:09.800Z"
   },
   {
    "duration": 11,
    "start_time": "2023-03-18T21:56:10.080Z"
   },
   {
    "duration": 8,
    "start_time": "2023-03-18T21:56:10.093Z"
   },
   {
    "duration": 24,
    "start_time": "2023-03-18T21:56:10.103Z"
   },
   {
    "duration": 26,
    "start_time": "2023-03-18T21:56:10.129Z"
   },
   {
    "duration": 33,
    "start_time": "2023-03-18T21:56:10.157Z"
   },
   {
    "duration": 11,
    "start_time": "2023-03-18T21:56:10.192Z"
   },
   {
    "duration": 9,
    "start_time": "2023-03-18T21:56:10.205Z"
   },
   {
    "duration": 6,
    "start_time": "2023-03-18T21:56:10.216Z"
   },
   {
    "duration": 5,
    "start_time": "2023-03-18T21:56:10.224Z"
   },
   {
    "duration": 9,
    "start_time": "2023-03-18T21:56:10.230Z"
   },
   {
    "duration": 40,
    "start_time": "2023-03-18T21:56:10.241Z"
   },
   {
    "duration": 35,
    "start_time": "2023-03-18T21:56:10.283Z"
   },
   {
    "duration": 14,
    "start_time": "2023-03-18T21:56:10.320Z"
   },
   {
    "duration": 915,
    "start_time": "2023-03-18T21:56:10.336Z"
   },
   {
    "duration": 730,
    "start_time": "2023-03-18T21:56:11.253Z"
   },
   {
    "duration": 1215,
    "start_time": "2023-03-18T21:56:11.985Z"
   },
   {
    "duration": 882,
    "start_time": "2023-03-18T21:56:13.203Z"
   },
   {
    "duration": 692,
    "start_time": "2023-03-18T21:56:14.087Z"
   },
   {
    "duration": 595,
    "start_time": "2023-03-18T21:56:14.786Z"
   },
   {
    "duration": 2035,
    "start_time": "2023-03-18T21:56:44.960Z"
   },
   {
    "duration": 807,
    "start_time": "2023-03-18T21:56:46.997Z"
   },
   {
    "duration": 46,
    "start_time": "2023-03-18T21:56:47.806Z"
   },
   {
    "duration": 42,
    "start_time": "2023-03-18T21:56:47.872Z"
   },
   {
    "duration": 38,
    "start_time": "2023-03-18T21:56:47.916Z"
   },
   {
    "duration": 19,
    "start_time": "2023-03-18T21:56:47.974Z"
   },
   {
    "duration": 8,
    "start_time": "2023-03-18T21:56:47.994Z"
   },
   {
    "duration": 15,
    "start_time": "2023-03-18T21:56:48.004Z"
   },
   {
    "duration": 317,
    "start_time": "2023-03-18T21:56:48.021Z"
   },
   {
    "duration": 9,
    "start_time": "2023-03-18T21:56:48.341Z"
   },
   {
    "duration": 7,
    "start_time": "2023-03-18T21:56:48.351Z"
   },
   {
    "duration": 16,
    "start_time": "2023-03-18T21:56:48.373Z"
   },
   {
    "duration": 25,
    "start_time": "2023-03-18T21:56:48.391Z"
   },
   {
    "duration": 9,
    "start_time": "2023-03-18T21:56:48.417Z"
   },
   {
    "duration": 7,
    "start_time": "2023-03-18T21:56:48.427Z"
   },
   {
    "duration": 48,
    "start_time": "2023-03-18T21:56:48.436Z"
   },
   {
    "duration": 9,
    "start_time": "2023-03-18T21:56:48.486Z"
   },
   {
    "duration": 11,
    "start_time": "2023-03-18T21:56:48.497Z"
   },
   {
    "duration": 5,
    "start_time": "2023-03-18T21:56:48.510Z"
   },
   {
    "duration": 17,
    "start_time": "2023-03-18T21:56:48.517Z"
   },
   {
    "duration": 56,
    "start_time": "2023-03-18T21:56:48.537Z"
   },
   {
    "duration": 17,
    "start_time": "2023-03-18T21:56:48.699Z"
   },
   {
    "duration": 843,
    "start_time": "2023-03-18T21:56:49.210Z"
   },
   {
    "duration": 861,
    "start_time": "2023-03-18T21:56:50.055Z"
   },
   {
    "duration": 728,
    "start_time": "2023-03-18T21:56:50.917Z"
   },
   {
    "duration": 877,
    "start_time": "2023-03-18T21:56:51.647Z"
   },
   {
    "duration": 673,
    "start_time": "2023-03-18T21:56:52.526Z"
   },
   {
    "duration": 741,
    "start_time": "2023-03-18T21:56:53.201Z"
   }
  ],
  "kernelspec": {
   "display_name": "Python 3 (ipykernel)",
   "language": "python",
   "name": "python3"
  },
  "language_info": {
   "codemirror_mode": {
    "name": "ipython",
    "version": 3
   },
   "file_extension": ".py",
   "mimetype": "text/x-python",
   "name": "python",
   "nbconvert_exporter": "python",
   "pygments_lexer": "ipython3",
   "version": "3.9.13"
  },
  "toc": {
   "base_numbering": 1,
   "nav_menu": {},
   "number_sections": true,
   "sideBar": true,
   "skip_h1_title": true,
   "title_cell": "Содержание",
   "title_sidebar": "Contents",
   "toc_cell": true,
   "toc_position": {
    "height": "calc(100% - 180px)",
    "left": "10px",
    "top": "150px",
    "width": "255px"
   },
   "toc_section_display": true,
   "toc_window_display": true
  }
 },
 "nbformat": 4,
 "nbformat_minor": 2
}
