{
 "cells": [
  {
   "cell_type": "markdown",
   "metadata": {},
   "source": [
    "# Определение стоимости автомобилей"
   ]
  },
  {
   "cell_type": "markdown",
   "metadata": {},
   "source": [
    "Сервис по продаже автомобилей с пробегом «Не бит, не крашен» разрабатывает приложение для привлечения новых клиентов. В нём можно быстро узнать рыночную стоимость своего автомобиля. В вашем распоряжении исторические данные: технические характеристики, комплектации и цены автомобилей. Вам нужно построить модель для определения стоимости. \n",
    "\n",
    "Заказчику важны:\n",
    "\n",
    "- качество предсказания;\n",
    "- скорость предсказания;\n",
    "- время обучения."
   ]
  },
  {
   "cell_type": "markdown",
   "metadata": {},
   "source": [
    "## Подготовка данных"
   ]
  },
  {
   "cell_type": "code",
   "execution_count": 1,
   "metadata": {},
   "outputs": [],
   "source": [
    "#подключение необходимых библиотек\n",
    "import pandas as pd\n",
    "import numpy as np\n",
    "import matplotlib.pyplot as plt\n",
    "import seaborn as sns\n",
    "from sklearn.model_selection import train_test_split\n",
    "from sklearn.preprocessing import OrdinalEncoder\n",
    "from sklearn.tree import DecisionTreeRegressor\n",
    "from catboost import CatBoostRegressor, cv, train\n",
    "import lightgbm as lgb\n",
    "from sklearn.metrics import mean_squared_error\n",
    "import time\n",
    "from sklearn.model_selection import GridSearchCV\n",
    "from lightgbm import LGBMRegressor\n",
    "\n",
    "import warnings\n",
    "warnings.filterwarnings(\"ignore\")"
   ]
  },
  {
   "cell_type": "code",
   "execution_count": 2,
   "metadata": {},
   "outputs": [
    {
     "data": {
      "text/html": [
       "<div>\n",
       "<style scoped>\n",
       "    .dataframe tbody tr th:only-of-type {\n",
       "        vertical-align: middle;\n",
       "    }\n",
       "\n",
       "    .dataframe tbody tr th {\n",
       "        vertical-align: top;\n",
       "    }\n",
       "\n",
       "    .dataframe thead th {\n",
       "        text-align: right;\n",
       "    }\n",
       "</style>\n",
       "<table border=\"1\" class=\"dataframe\">\n",
       "  <thead>\n",
       "    <tr style=\"text-align: right;\">\n",
       "      <th></th>\n",
       "      <th>DateCrawled</th>\n",
       "      <th>Price</th>\n",
       "      <th>VehicleType</th>\n",
       "      <th>RegistrationYear</th>\n",
       "      <th>Gearbox</th>\n",
       "      <th>Power</th>\n",
       "      <th>Model</th>\n",
       "      <th>Kilometer</th>\n",
       "      <th>RegistrationMonth</th>\n",
       "      <th>FuelType</th>\n",
       "      <th>Brand</th>\n",
       "      <th>Repaired</th>\n",
       "      <th>DateCreated</th>\n",
       "      <th>NumberOfPictures</th>\n",
       "      <th>PostalCode</th>\n",
       "      <th>LastSeen</th>\n",
       "    </tr>\n",
       "  </thead>\n",
       "  <tbody>\n",
       "    <tr>\n",
       "      <th>0</th>\n",
       "      <td>2016-03-24 11:52:17</td>\n",
       "      <td>480</td>\n",
       "      <td>NaN</td>\n",
       "      <td>1993</td>\n",
       "      <td>manual</td>\n",
       "      <td>0</td>\n",
       "      <td>golf</td>\n",
       "      <td>150000</td>\n",
       "      <td>0</td>\n",
       "      <td>petrol</td>\n",
       "      <td>volkswagen</td>\n",
       "      <td>NaN</td>\n",
       "      <td>2016-03-24 00:00:00</td>\n",
       "      <td>0</td>\n",
       "      <td>70435</td>\n",
       "      <td>2016-04-07 03:16:57</td>\n",
       "    </tr>\n",
       "    <tr>\n",
       "      <th>1</th>\n",
       "      <td>2016-03-24 10:58:45</td>\n",
       "      <td>18300</td>\n",
       "      <td>coupe</td>\n",
       "      <td>2011</td>\n",
       "      <td>manual</td>\n",
       "      <td>190</td>\n",
       "      <td>NaN</td>\n",
       "      <td>125000</td>\n",
       "      <td>5</td>\n",
       "      <td>gasoline</td>\n",
       "      <td>audi</td>\n",
       "      <td>yes</td>\n",
       "      <td>2016-03-24 00:00:00</td>\n",
       "      <td>0</td>\n",
       "      <td>66954</td>\n",
       "      <td>2016-04-07 01:46:50</td>\n",
       "    </tr>\n",
       "    <tr>\n",
       "      <th>2</th>\n",
       "      <td>2016-03-14 12:52:21</td>\n",
       "      <td>9800</td>\n",
       "      <td>suv</td>\n",
       "      <td>2004</td>\n",
       "      <td>auto</td>\n",
       "      <td>163</td>\n",
       "      <td>grand</td>\n",
       "      <td>125000</td>\n",
       "      <td>8</td>\n",
       "      <td>gasoline</td>\n",
       "      <td>jeep</td>\n",
       "      <td>NaN</td>\n",
       "      <td>2016-03-14 00:00:00</td>\n",
       "      <td>0</td>\n",
       "      <td>90480</td>\n",
       "      <td>2016-04-05 12:47:46</td>\n",
       "    </tr>\n",
       "    <tr>\n",
       "      <th>3</th>\n",
       "      <td>2016-03-17 16:54:04</td>\n",
       "      <td>1500</td>\n",
       "      <td>small</td>\n",
       "      <td>2001</td>\n",
       "      <td>manual</td>\n",
       "      <td>75</td>\n",
       "      <td>golf</td>\n",
       "      <td>150000</td>\n",
       "      <td>6</td>\n",
       "      <td>petrol</td>\n",
       "      <td>volkswagen</td>\n",
       "      <td>no</td>\n",
       "      <td>2016-03-17 00:00:00</td>\n",
       "      <td>0</td>\n",
       "      <td>91074</td>\n",
       "      <td>2016-03-17 17:40:17</td>\n",
       "    </tr>\n",
       "    <tr>\n",
       "      <th>4</th>\n",
       "      <td>2016-03-31 17:25:20</td>\n",
       "      <td>3600</td>\n",
       "      <td>small</td>\n",
       "      <td>2008</td>\n",
       "      <td>manual</td>\n",
       "      <td>69</td>\n",
       "      <td>fabia</td>\n",
       "      <td>90000</td>\n",
       "      <td>7</td>\n",
       "      <td>gasoline</td>\n",
       "      <td>skoda</td>\n",
       "      <td>no</td>\n",
       "      <td>2016-03-31 00:00:00</td>\n",
       "      <td>0</td>\n",
       "      <td>60437</td>\n",
       "      <td>2016-04-06 10:17:21</td>\n",
       "    </tr>\n",
       "  </tbody>\n",
       "</table>\n",
       "</div>"
      ],
      "text/plain": [
       "           DateCrawled  Price VehicleType  RegistrationYear Gearbox  Power  \\\n",
       "0  2016-03-24 11:52:17    480         NaN              1993  manual      0   \n",
       "1  2016-03-24 10:58:45  18300       coupe              2011  manual    190   \n",
       "2  2016-03-14 12:52:21   9800         suv              2004    auto    163   \n",
       "3  2016-03-17 16:54:04   1500       small              2001  manual     75   \n",
       "4  2016-03-31 17:25:20   3600       small              2008  manual     69   \n",
       "\n",
       "   Model  Kilometer  RegistrationMonth  FuelType       Brand Repaired  \\\n",
       "0   golf     150000                  0    petrol  volkswagen      NaN   \n",
       "1    NaN     125000                  5  gasoline        audi      yes   \n",
       "2  grand     125000                  8  gasoline        jeep      NaN   \n",
       "3   golf     150000                  6    petrol  volkswagen       no   \n",
       "4  fabia      90000                  7  gasoline       skoda       no   \n",
       "\n",
       "           DateCreated  NumberOfPictures  PostalCode             LastSeen  \n",
       "0  2016-03-24 00:00:00                 0       70435  2016-04-07 03:16:57  \n",
       "1  2016-03-24 00:00:00                 0       66954  2016-04-07 01:46:50  \n",
       "2  2016-03-14 00:00:00                 0       90480  2016-04-05 12:47:46  \n",
       "3  2016-03-17 00:00:00                 0       91074  2016-03-17 17:40:17  \n",
       "4  2016-03-31 00:00:00                 0       60437  2016-04-06 10:17:21  "
      ]
     },
     "execution_count": 2,
     "metadata": {},
     "output_type": "execute_result"
    }
   ],
   "source": [
    "#подключение и просмотр данных\n",
    "data = pd.read_csv('/datasets/autos.csv')\n",
    "data.head()"
   ]
  },
  {
   "cell_type": "code",
   "execution_count": 3,
   "metadata": {},
   "outputs": [
    {
     "name": "stdout",
     "output_type": "stream",
     "text": [
      "<class 'pandas.core.frame.DataFrame'>\n",
      "RangeIndex: 354369 entries, 0 to 354368\n",
      "Data columns (total 16 columns):\n",
      " #   Column             Non-Null Count   Dtype \n",
      "---  ------             --------------   ----- \n",
      " 0   DateCrawled        354369 non-null  object\n",
      " 1   Price              354369 non-null  int64 \n",
      " 2   VehicleType        316879 non-null  object\n",
      " 3   RegistrationYear   354369 non-null  int64 \n",
      " 4   Gearbox            334536 non-null  object\n",
      " 5   Power              354369 non-null  int64 \n",
      " 6   Model              334664 non-null  object\n",
      " 7   Kilometer          354369 non-null  int64 \n",
      " 8   RegistrationMonth  354369 non-null  int64 \n",
      " 9   FuelType           321474 non-null  object\n",
      " 10  Brand              354369 non-null  object\n",
      " 11  Repaired           283215 non-null  object\n",
      " 12  DateCreated        354369 non-null  object\n",
      " 13  NumberOfPictures   354369 non-null  int64 \n",
      " 14  PostalCode         354369 non-null  int64 \n",
      " 15  LastSeen           354369 non-null  object\n",
      "dtypes: int64(7), object(9)\n",
      "memory usage: 43.3+ MB\n"
     ]
    }
   ],
   "source": [
    "data.info()"
   ]
  },
  {
   "cell_type": "markdown",
   "metadata": {},
   "source": [
    "В данных наблюдаются пропуски. Удалим столбцы, которые в данном исследовании не пригодятся. Но сначала приведем все названия столбцов к змеиному стилю."
   ]
  },
  {
   "cell_type": "code",
   "execution_count": 4,
   "metadata": {},
   "outputs": [],
   "source": [
    "#переименование столбцов\n",
    "data.columns=['date_crawled', 'price', 'vehicle_type', 'registration_year', 'gearbox', 'power', 'model', 'kilometer',\n",
    "              'registration_month', 'fuel_type', 'brand', 'repaired', 'date_created', 'number_of_pictures', 'postal_code',\n",
    "              'last_seen']"
   ]
  },
  {
   "cell_type": "code",
   "execution_count": 5,
   "metadata": {
    "scrolled": true
   },
   "outputs": [
    {
     "data": {
      "text/html": [
       "<div>\n",
       "<style scoped>\n",
       "    .dataframe tbody tr th:only-of-type {\n",
       "        vertical-align: middle;\n",
       "    }\n",
       "\n",
       "    .dataframe tbody tr th {\n",
       "        vertical-align: top;\n",
       "    }\n",
       "\n",
       "    .dataframe thead th {\n",
       "        text-align: right;\n",
       "    }\n",
       "</style>\n",
       "<table border=\"1\" class=\"dataframe\">\n",
       "  <thead>\n",
       "    <tr style=\"text-align: right;\">\n",
       "      <th></th>\n",
       "      <th>date_crawled</th>\n",
       "      <th>price</th>\n",
       "      <th>vehicle_type</th>\n",
       "      <th>registration_year</th>\n",
       "      <th>gearbox</th>\n",
       "      <th>power</th>\n",
       "      <th>model</th>\n",
       "      <th>kilometer</th>\n",
       "      <th>registration_month</th>\n",
       "      <th>fuel_type</th>\n",
       "      <th>brand</th>\n",
       "      <th>repaired</th>\n",
       "      <th>date_created</th>\n",
       "      <th>number_of_pictures</th>\n",
       "      <th>postal_code</th>\n",
       "      <th>last_seen</th>\n",
       "    </tr>\n",
       "  </thead>\n",
       "  <tbody>\n",
       "    <tr>\n",
       "      <th>0</th>\n",
       "      <td>2016-03-24 11:52:17</td>\n",
       "      <td>480</td>\n",
       "      <td>NaN</td>\n",
       "      <td>1993</td>\n",
       "      <td>manual</td>\n",
       "      <td>0</td>\n",
       "      <td>golf</td>\n",
       "      <td>150000</td>\n",
       "      <td>0</td>\n",
       "      <td>petrol</td>\n",
       "      <td>volkswagen</td>\n",
       "      <td>NaN</td>\n",
       "      <td>2016-03-24 00:00:00</td>\n",
       "      <td>0</td>\n",
       "      <td>70435</td>\n",
       "      <td>2016-04-07 03:16:57</td>\n",
       "    </tr>\n",
       "    <tr>\n",
       "      <th>1</th>\n",
       "      <td>2016-03-24 10:58:45</td>\n",
       "      <td>18300</td>\n",
       "      <td>coupe</td>\n",
       "      <td>2011</td>\n",
       "      <td>manual</td>\n",
       "      <td>190</td>\n",
       "      <td>NaN</td>\n",
       "      <td>125000</td>\n",
       "      <td>5</td>\n",
       "      <td>gasoline</td>\n",
       "      <td>audi</td>\n",
       "      <td>yes</td>\n",
       "      <td>2016-03-24 00:00:00</td>\n",
       "      <td>0</td>\n",
       "      <td>66954</td>\n",
       "      <td>2016-04-07 01:46:50</td>\n",
       "    </tr>\n",
       "    <tr>\n",
       "      <th>2</th>\n",
       "      <td>2016-03-14 12:52:21</td>\n",
       "      <td>9800</td>\n",
       "      <td>suv</td>\n",
       "      <td>2004</td>\n",
       "      <td>auto</td>\n",
       "      <td>163</td>\n",
       "      <td>grand</td>\n",
       "      <td>125000</td>\n",
       "      <td>8</td>\n",
       "      <td>gasoline</td>\n",
       "      <td>jeep</td>\n",
       "      <td>NaN</td>\n",
       "      <td>2016-03-14 00:00:00</td>\n",
       "      <td>0</td>\n",
       "      <td>90480</td>\n",
       "      <td>2016-04-05 12:47:46</td>\n",
       "    </tr>\n",
       "    <tr>\n",
       "      <th>3</th>\n",
       "      <td>2016-03-17 16:54:04</td>\n",
       "      <td>1500</td>\n",
       "      <td>small</td>\n",
       "      <td>2001</td>\n",
       "      <td>manual</td>\n",
       "      <td>75</td>\n",
       "      <td>golf</td>\n",
       "      <td>150000</td>\n",
       "      <td>6</td>\n",
       "      <td>petrol</td>\n",
       "      <td>volkswagen</td>\n",
       "      <td>no</td>\n",
       "      <td>2016-03-17 00:00:00</td>\n",
       "      <td>0</td>\n",
       "      <td>91074</td>\n",
       "      <td>2016-03-17 17:40:17</td>\n",
       "    </tr>\n",
       "    <tr>\n",
       "      <th>4</th>\n",
       "      <td>2016-03-31 17:25:20</td>\n",
       "      <td>3600</td>\n",
       "      <td>small</td>\n",
       "      <td>2008</td>\n",
       "      <td>manual</td>\n",
       "      <td>69</td>\n",
       "      <td>fabia</td>\n",
       "      <td>90000</td>\n",
       "      <td>7</td>\n",
       "      <td>gasoline</td>\n",
       "      <td>skoda</td>\n",
       "      <td>no</td>\n",
       "      <td>2016-03-31 00:00:00</td>\n",
       "      <td>0</td>\n",
       "      <td>60437</td>\n",
       "      <td>2016-04-06 10:17:21</td>\n",
       "    </tr>\n",
       "  </tbody>\n",
       "</table>\n",
       "</div>"
      ],
      "text/plain": [
       "          date_crawled  price vehicle_type  registration_year gearbox  power  \\\n",
       "0  2016-03-24 11:52:17    480          NaN               1993  manual      0   \n",
       "1  2016-03-24 10:58:45  18300        coupe               2011  manual    190   \n",
       "2  2016-03-14 12:52:21   9800          suv               2004    auto    163   \n",
       "3  2016-03-17 16:54:04   1500        small               2001  manual     75   \n",
       "4  2016-03-31 17:25:20   3600        small               2008  manual     69   \n",
       "\n",
       "   model  kilometer  registration_month fuel_type       brand repaired  \\\n",
       "0   golf     150000                   0    petrol  volkswagen      NaN   \n",
       "1    NaN     125000                   5  gasoline        audi      yes   \n",
       "2  grand     125000                   8  gasoline        jeep      NaN   \n",
       "3   golf     150000                   6    petrol  volkswagen       no   \n",
       "4  fabia      90000                   7  gasoline       skoda       no   \n",
       "\n",
       "          date_created  number_of_pictures  postal_code            last_seen  \n",
       "0  2016-03-24 00:00:00                   0        70435  2016-04-07 03:16:57  \n",
       "1  2016-03-24 00:00:00                   0        66954  2016-04-07 01:46:50  \n",
       "2  2016-03-14 00:00:00                   0        90480  2016-04-05 12:47:46  \n",
       "3  2016-03-17 00:00:00                   0        91074  2016-03-17 17:40:17  \n",
       "4  2016-03-31 00:00:00                   0        60437  2016-04-06 10:17:21  "
      ]
     },
     "execution_count": 5,
     "metadata": {},
     "output_type": "execute_result"
    }
   ],
   "source": [
    "#проверка\n",
    "data.head()"
   ]
  },
  {
   "cell_type": "code",
   "execution_count": 6,
   "metadata": {},
   "outputs": [
    {
     "name": "stdout",
     "output_type": "stream",
     "text": [
      "<class 'pandas.core.frame.DataFrame'>\n",
      "RangeIndex: 354369 entries, 0 to 354368\n",
      "Data columns (total 10 columns):\n",
      " #   Column             Non-Null Count   Dtype \n",
      "---  ------             --------------   ----- \n",
      " 0   price              354369 non-null  int64 \n",
      " 1   vehicle_type       316879 non-null  object\n",
      " 2   registration_year  354369 non-null  int64 \n",
      " 3   gearbox            334536 non-null  object\n",
      " 4   power              354369 non-null  int64 \n",
      " 5   kilometer          354369 non-null  int64 \n",
      " 6   fuel_type          321474 non-null  object\n",
      " 7   brand              354369 non-null  object\n",
      " 8   repaired           283215 non-null  object\n",
      " 9   postal_code        354369 non-null  int64 \n",
      "dtypes: int64(5), object(5)\n",
      "memory usage: 27.0+ MB\n"
     ]
    }
   ],
   "source": [
    "#удаление ненужных столбцов\n",
    "data = (data.drop(columns=['date_crawled', 'model', 'registration_month', 'date_created', 'last_seen', 'number_of_pictures'],\n",
    "                axis=1))\n",
    "data.info()"
   ]
  },
  {
   "cell_type": "code",
   "execution_count": 7,
   "metadata": {},
   "outputs": [
    {
     "data": {
      "text/plain": [
       "24387"
      ]
     },
     "execution_count": 7,
     "metadata": {},
     "output_type": "execute_result"
    }
   ],
   "source": [
    "#проверка на дубликаты\n",
    "data.duplicated().sum()"
   ]
  },
  {
   "cell_type": "code",
   "execution_count": 8,
   "metadata": {},
   "outputs": [
    {
     "data": {
      "text/plain": [
       "0"
      ]
     },
     "execution_count": 8,
     "metadata": {},
     "output_type": "execute_result"
    }
   ],
   "source": [
    "#удаление дубликатов\n",
    "data = data.drop_duplicates()\n",
    "data.duplicated().sum()"
   ]
  },
  {
   "cell_type": "markdown",
   "metadata": {},
   "source": [
    "Теперь попробуем обработать значительные пропуски в оставшихся данных. Сначала обработаем численные значения. Потом категориальные."
   ]
  },
  {
   "cell_type": "markdown",
   "metadata": {},
   "source": [
    "Сначала посмотрим на данные в ключевом признаке **price**."
   ]
  },
  {
   "cell_type": "code",
   "execution_count": 9,
   "metadata": {},
   "outputs": [
    {
     "data": {
      "text/plain": [
       "0"
      ]
     },
     "execution_count": 9,
     "metadata": {},
     "output_type": "execute_result"
    }
   ],
   "source": [
    "#нахождение пустых значений\n",
    "data['price'].isna().sum()"
   ]
  },
  {
   "cell_type": "code",
   "execution_count": 10,
   "metadata": {
    "scrolled": true
   },
   "outputs": [
    {
     "data": {
      "text/plain": [
       "0        9876\n",
       "500      5447\n",
       "1500     5062\n",
       "1000     4374\n",
       "1200     4319\n",
       "         ... \n",
       "4725        1\n",
       "14960       1\n",
       "1910        1\n",
       "1654        1\n",
       "8188        1\n",
       "Name: price, Length: 3731, dtype: int64"
      ]
     },
     "execution_count": 10,
     "metadata": {},
     "output_type": "execute_result"
    }
   ],
   "source": [
    "#уникальные значения\n",
    "data['price'].value_counts()"
   ]
  },
  {
   "cell_type": "code",
   "execution_count": 11,
   "metadata": {
    "scrolled": false
   },
   "outputs": [
    {
     "data": {
      "text/plain": [
       "<AxesSubplot:>"
      ]
     },
     "execution_count": 11,
     "metadata": {},
     "output_type": "execute_result"
    },
    {
     "data": {
      "image/png": "[encoded data removed]",
      "text/plain": [
       "<Figure size 864x648 with 1 Axes>"
      ]
     },
     "metadata": {
      "needs_background": "light"
     },
     "output_type": "display_data"
    }
   ],
   "source": [
    "#посмотрим на графике\n",
    "data['price'].hist(bins=100, figsize=(12,9))"
   ]
  },
  {
   "cell_type": "markdown",
   "metadata": {},
   "source": [
    "У нас есть приличное количество значений с 0, удалим их."
   ]
  },
  {
   "cell_type": "code",
   "execution_count": 12,
   "metadata": {},
   "outputs": [
    {
     "data": {
      "text/plain": [
       "0.20      950.0\n",
       "0.88    10500.0\n",
       "Name: price, dtype: float64"
      ]
     },
     "execution_count": 12,
     "metadata": {},
     "output_type": "execute_result"
    }
   ],
   "source": [
    "#удаление нулевых значений\n",
    "data = data.loc[data['price'] != 0]\n",
    "\n",
    "#нахождение оптимальных значений\n",
    "data['price'].quantile([0.2, 0.88])"
   ]
  },
  {
   "cell_type": "code",
   "execution_count": 13,
   "metadata": {},
   "outputs": [],
   "source": [
    "#фильтрация\n",
    "data = data.query('950 <= price')"
   ]
  },
  {
   "cell_type": "code",
   "execution_count": 14,
   "metadata": {},
   "outputs": [
    {
     "data": {
      "text/plain": [
       "<AxesSubplot:>"
      ]
     },
     "execution_count": 14,
     "metadata": {},
     "output_type": "execute_result"
    },
    {
     "data": {
      "image/png": "[encoded data removed]",
      "text/plain": [
       "<Figure size 864x648 with 1 Axes>"
      ]
     },
     "metadata": {
      "needs_background": "light"
     },
     "output_type": "display_data"
    }
   ],
   "source": [
    "#посмотрим на графике\n",
    "data['price'].hist(bins=100, figsize=(12,9))"
   ]
  },
  {
   "cell_type": "markdown",
   "metadata": {},
   "source": [
    "Теперь посмотрим на данные в **registration_year**."
   ]
  },
  {
   "cell_type": "code",
   "execution_count": 15,
   "metadata": {},
   "outputs": [
    {
     "data": {
      "image/png": "[encoded data removed]",
      "text/plain": [
       "<Figure size 864x648 with 1 Axes>"
      ]
     },
     "metadata": {
      "needs_background": "light"
     },
     "output_type": "display_data"
    }
   ],
   "source": [
    "#посмотрим на графике\n",
    "data['registration_year'].hist(bins=100, figsize=(12,9))\n",
    "plt.xlim(1900,2100)\n",
    "plt.grid(True)\n",
    "plt.xlabel('год регистрации')\n",
    "plt.title('Распределение ГОД РЕГИСТРАЦИИ')\n",
    "plt.show()"
   ]
  },
  {
   "cell_type": "markdown",
   "metadata": {},
   "source": [
    "Видим, что основные данные у нас находятся в приблизительном промежутке 1985-2022 год. Эти данные и оставим. Остальные уберем."
   ]
  },
  {
   "cell_type": "code",
   "execution_count": 16,
   "metadata": {
    "scrolled": true
   },
   "outputs": [
    {
     "name": "stdout",
     "output_type": "stream",
     "text": [
      "<class 'pandas.core.frame.DataFrame'>\n",
      "Int64Index: 254014 entries, 1 to 354368\n",
      "Data columns (total 10 columns):\n",
      " #   Column             Non-Null Count   Dtype \n",
      "---  ------             --------------   ----- \n",
      " 0   price              254014 non-null  int64 \n",
      " 1   vehicle_type       234038 non-null  object\n",
      " 2   registration_year  254014 non-null  int64 \n",
      " 3   gearbox            244611 non-null  object\n",
      " 4   power              254014 non-null  int64 \n",
      " 5   kilometer          254014 non-null  int64 \n",
      " 6   fuel_type          237109 non-null  object\n",
      " 7   brand              254014 non-null  object\n",
      " 8   repaired           213965 non-null  object\n",
      " 9   postal_code        254014 non-null  int64 \n",
      "dtypes: int64(5), object(5)\n",
      "memory usage: 21.3+ MB\n"
     ]
    }
   ],
   "source": [
    "#отбор нужных данных по найденному диапазону\n",
    "data = data.query('1985 <= registration_year <= 2022')\n",
    "#проверка\n",
    "data.info()"
   ]
  },
  {
   "cell_type": "code",
   "execution_count": 17,
   "metadata": {},
   "outputs": [
    {
     "data": {
      "image/png": "[encoded data removed]",
      "text/plain": [
       "<Figure size 864x648 with 1 Axes>"
      ]
     },
     "metadata": {
      "needs_background": "light"
     },
     "output_type": "display_data"
    }
   ],
   "source": [
    "#посмотрим, что получилось в итоге\n",
    "data['registration_year'].hist(bins=100, figsize=(12,9))\n",
    "plt.xlim(1980,2025)\n",
    "plt.grid(True)\n",
    "plt.xlabel('год регистрации')\n",
    "plt.title('Распределение ГОД РЕГИСТРАЦИИ')\n",
    "plt.show()"
   ]
  },
  {
   "cell_type": "markdown",
   "metadata": {},
   "source": [
    "Отлично. Теперь посмотрим, что у нас за значения в столбце **power**. "
   ]
  },
  {
   "cell_type": "code",
   "execution_count": 18,
   "metadata": {},
   "outputs": [
    {
     "data": {
      "text/plain": [
       "count    254014.000000\n",
       "mean        120.774182\n",
       "std         196.502176\n",
       "min           0.000000\n",
       "25%          75.000000\n",
       "50%         115.000000\n",
       "75%         150.000000\n",
       "max       20000.000000\n",
       "Name: power, dtype: float64"
      ]
     },
     "execution_count": 18,
     "metadata": {},
     "output_type": "execute_result"
    }
   ],
   "source": [
    "#изучение данных\n",
    "data['power'].describe()"
   ]
  },
  {
   "cell_type": "code",
   "execution_count": 19,
   "metadata": {},
   "outputs": [
    {
     "data": {
      "image/png": "[encoded data removed]",
      "text/plain": [
       "<Figure size 720x360 with 1 Axes>"
      ]
     },
     "metadata": {
      "needs_background": "light"
     },
     "output_type": "display_data"
    }
   ],
   "source": [
    "#посмотрим на данные\n",
    "data['power'].hist(bins=100, figsize=(10,5))\n",
    "plt.xlim(0, 1000)\n",
    "plt.grid(True)\n",
    "plt.xlabel('мощность')\n",
    "plt.title('Распредление МОЩНОСТЬ')\n",
    "plt.show()"
   ]
  },
  {
   "cell_type": "markdown",
   "metadata": {
    "scrolled": true
   },
   "source": [
    "Видно, что есть большая часть значений сосредоточена в районе до 400 л.с. Кроме этого есть машины с мощностью 0 л.с., что невполне корректно. Отсортируем данные в соответствии с этим диапазоном."
   ]
  },
  {
   "cell_type": "code",
   "execution_count": 20,
   "metadata": {},
   "outputs": [
    {
     "data": {
      "text/plain": [
       "<AxesSubplot:>"
      ]
     },
     "execution_count": 20,
     "metadata": {},
     "output_type": "execute_result"
    },
    {
     "data": {
      "image/png": "[encoded data removed]",
      "text/plain": [
       "<Figure size 720x360 with 1 Axes>"
      ]
     },
     "metadata": {
      "needs_background": "light"
     },
     "output_type": "display_data"
    }
   ],
   "source": [
    "#фильтрация данных\n",
    "data = data.query('power != 0')\n",
    "data = data.query('power <= 400')\n",
    "#посмотрим на данные\n",
    "data['power'].hist(bins=100, figsize=(10,5))"
   ]
  },
  {
   "cell_type": "code",
   "execution_count": 21,
   "metadata": {
    "scrolled": true
   },
   "outputs": [
    {
     "name": "stdout",
     "output_type": "stream",
     "text": [
      "<class 'pandas.core.frame.DataFrame'>\n",
      "Int64Index: 233656 entries, 1 to 354368\n",
      "Data columns (total 10 columns):\n",
      " #   Column             Non-Null Count   Dtype \n",
      "---  ------             --------------   ----- \n",
      " 0   price              233656 non-null  int64 \n",
      " 1   vehicle_type       219618 non-null  object\n",
      " 2   registration_year  233656 non-null  int64 \n",
      " 3   gearbox            229678 non-null  object\n",
      " 4   power              233656 non-null  int64 \n",
      " 5   kilometer          233656 non-null  int64 \n",
      " 6   fuel_type          220975 non-null  object\n",
      " 7   brand              233656 non-null  object\n",
      " 8   repaired           202663 non-null  object\n",
      " 9   postal_code        233656 non-null  int64 \n",
      "dtypes: int64(5), object(5)\n",
      "memory usage: 19.6+ MB\n"
     ]
    }
   ],
   "source": [
    "#посмотрим на оставшиеся данные\n",
    "data.info()"
   ]
  },
  {
   "cell_type": "markdown",
   "metadata": {},
   "source": [
    "Итак, пропуски остались в столбцах **vehicle_type, gearbox, fuel_type, repaired**. Заполним пустые значения в категориальных признаках **gearbox, rapaired** наибольшими значениями."
   ]
  },
  {
   "cell_type": "code",
   "execution_count": 22,
   "metadata": {},
   "outputs": [
    {
     "data": {
      "text/plain": [
       "manual    178879\n",
       "auto       50799\n",
       "Name: gearbox, dtype: int64"
      ]
     },
     "execution_count": 22,
     "metadata": {},
     "output_type": "execute_result"
    }
   ],
   "source": [
    "#просмотр значений столбца gearbox\n",
    "data['gearbox'].value_counts()"
   ]
  },
  {
   "cell_type": "code",
   "execution_count": 23,
   "metadata": {},
   "outputs": [
    {
     "data": {
      "text/plain": [
       "no     187368\n",
       "yes     15295\n",
       "Name: repaired, dtype: int64"
      ]
     },
     "execution_count": 23,
     "metadata": {},
     "output_type": "execute_result"
    }
   ],
   "source": [
    "#просмотр значений столбца repaired\n",
    "data['repaired'].value_counts()"
   ]
  },
  {
   "cell_type": "code",
   "execution_count": 24,
   "metadata": {},
   "outputs": [],
   "source": [
    "#заполнение пустых значений\n",
    "data.fillna({'gearbox':'manual', 'repaired':'no'}, inplace=True)"
   ]
  },
  {
   "cell_type": "code",
   "execution_count": 25,
   "metadata": {},
   "outputs": [
    {
     "data": {
      "text/plain": [
       "price                    0\n",
       "vehicle_type         14038\n",
       "registration_year        0\n",
       "gearbox                  0\n",
       "power                    0\n",
       "kilometer                0\n",
       "fuel_type            12681\n",
       "brand                    0\n",
       "repaired                 0\n",
       "postal_code              0\n",
       "dtype: int64"
      ]
     },
     "execution_count": 25,
     "metadata": {},
     "output_type": "execute_result"
    }
   ],
   "source": [
    "#просмтотр оставшихся пропусков\n",
    "data.isna().sum()"
   ]
  },
  {
   "cell_type": "markdown",
   "metadata": {},
   "source": [
    "Пропущенные значений остались в столбцах **vehicle_type, fuel_type**. Постараемся найти зависимость и понять, какие значения могут быть в пропусках. "
   ]
  },
  {
   "cell_type": "code",
   "execution_count": 26,
   "metadata": {},
   "outputs": [
    {
     "data": {
      "text/plain": [
       "sedan          64752\n",
       "wagon          47133\n",
       "small          46165\n",
       "bus            22727\n",
       "convertible    16114\n",
       "coupe          11320\n",
       "suv             9586\n",
       "other           1821\n",
       "Name: vehicle_type, dtype: int64"
      ]
     },
     "execution_count": 26,
     "metadata": {},
     "output_type": "execute_result"
    }
   ],
   "source": [
    "#просмотр уникальных значений\n",
    "data['vehicle_type'].value_counts()"
   ]
  },
  {
   "cell_type": "markdown",
   "metadata": {},
   "source": [
    "Больше всего sedan. Попробуем заполнить пустые значения заглушкой 'unknown', а после заполнить их с помощью функции наиболее встречающимися для марки типом кузова."
   ]
  },
  {
   "cell_type": "code",
   "execution_count": 27,
   "metadata": {},
   "outputs": [
    {
     "data": {
      "text/html": [
       "<div>\n",
       "<style scoped>\n",
       "    .dataframe tbody tr th:only-of-type {\n",
       "        vertical-align: middle;\n",
       "    }\n",
       "\n",
       "    .dataframe tbody tr th {\n",
       "        vertical-align: top;\n",
       "    }\n",
       "\n",
       "    .dataframe thead th {\n",
       "        text-align: right;\n",
       "    }\n",
       "</style>\n",
       "<table border=\"1\" class=\"dataframe\">\n",
       "  <thead>\n",
       "    <tr style=\"text-align: right;\">\n",
       "      <th>brand</th>\n",
       "      <th>alfa_romeo</th>\n",
       "      <th>audi</th>\n",
       "      <th>bmw</th>\n",
       "      <th>chevrolet</th>\n",
       "      <th>chrysler</th>\n",
       "      <th>citroen</th>\n",
       "      <th>dacia</th>\n",
       "      <th>daewoo</th>\n",
       "      <th>daihatsu</th>\n",
       "      <th>fiat</th>\n",
       "      <th>...</th>\n",
       "      <th>seat</th>\n",
       "      <th>skoda</th>\n",
       "      <th>smart</th>\n",
       "      <th>sonstige_autos</th>\n",
       "      <th>subaru</th>\n",
       "      <th>suzuki</th>\n",
       "      <th>toyota</th>\n",
       "      <th>trabant</th>\n",
       "      <th>volkswagen</th>\n",
       "      <th>volvo</th>\n",
       "    </tr>\n",
       "    <tr>\n",
       "      <th>vehicle_type</th>\n",
       "      <th></th>\n",
       "      <th></th>\n",
       "      <th></th>\n",
       "      <th></th>\n",
       "      <th></th>\n",
       "      <th></th>\n",
       "      <th></th>\n",
       "      <th></th>\n",
       "      <th></th>\n",
       "      <th></th>\n",
       "      <th></th>\n",
       "      <th></th>\n",
       "      <th></th>\n",
       "      <th></th>\n",
       "      <th></th>\n",
       "      <th></th>\n",
       "      <th></th>\n",
       "      <th></th>\n",
       "      <th></th>\n",
       "      <th></th>\n",
       "      <th></th>\n",
       "    </tr>\n",
       "  </thead>\n",
       "  <tbody>\n",
       "    <tr>\n",
       "      <th>bus</th>\n",
       "      <td>NaN</td>\n",
       "      <td>9.0</td>\n",
       "      <td>3.0</td>\n",
       "      <td>121.0</td>\n",
       "      <td>256.0</td>\n",
       "      <td>992.0</td>\n",
       "      <td>39.0</td>\n",
       "      <td>18.0</td>\n",
       "      <td>18.0</td>\n",
       "      <td>621.0</td>\n",
       "      <td>...</td>\n",
       "      <td>527.0</td>\n",
       "      <td>202.0</td>\n",
       "      <td>NaN</td>\n",
       "      <td>119.0</td>\n",
       "      <td>11.0</td>\n",
       "      <td>19.0</td>\n",
       "      <td>395.0</td>\n",
       "      <td>NaN</td>\n",
       "      <td>7877.0</td>\n",
       "      <td>NaN</td>\n",
       "    </tr>\n",
       "    <tr>\n",
       "      <th>convertible</th>\n",
       "      <td>132.0</td>\n",
       "      <td>1409.0</td>\n",
       "      <td>2777.0</td>\n",
       "      <td>10.0</td>\n",
       "      <td>174.0</td>\n",
       "      <td>80.0</td>\n",
       "      <td>NaN</td>\n",
       "      <td>NaN</td>\n",
       "      <td>15.0</td>\n",
       "      <td>330.0</td>\n",
       "      <td>...</td>\n",
       "      <td>NaN</td>\n",
       "      <td>2.0</td>\n",
       "      <td>982.0</td>\n",
       "      <td>143.0</td>\n",
       "      <td>1.0</td>\n",
       "      <td>21.0</td>\n",
       "      <td>54.0</td>\n",
       "      <td>14.0</td>\n",
       "      <td>2189.0</td>\n",
       "      <td>65.0</td>\n",
       "    </tr>\n",
       "    <tr>\n",
       "      <th>coupe</th>\n",
       "      <td>175.0</td>\n",
       "      <td>1272.0</td>\n",
       "      <td>2770.0</td>\n",
       "      <td>39.0</td>\n",
       "      <td>36.0</td>\n",
       "      <td>95.0</td>\n",
       "      <td>NaN</td>\n",
       "      <td>1.0</td>\n",
       "      <td>NaN</td>\n",
       "      <td>109.0</td>\n",
       "      <td>...</td>\n",
       "      <td>64.0</td>\n",
       "      <td>NaN</td>\n",
       "      <td>265.0</td>\n",
       "      <td>75.0</td>\n",
       "      <td>6.0</td>\n",
       "      <td>2.0</td>\n",
       "      <td>153.0</td>\n",
       "      <td>1.0</td>\n",
       "      <td>1235.0</td>\n",
       "      <td>45.0</td>\n",
       "    </tr>\n",
       "    <tr>\n",
       "      <th>other</th>\n",
       "      <td>5.0</td>\n",
       "      <td>70.0</td>\n",
       "      <td>147.0</td>\n",
       "      <td>16.0</td>\n",
       "      <td>7.0</td>\n",
       "      <td>73.0</td>\n",
       "      <td>5.0</td>\n",
       "      <td>2.0</td>\n",
       "      <td>3.0</td>\n",
       "      <td>111.0</td>\n",
       "      <td>...</td>\n",
       "      <td>33.0</td>\n",
       "      <td>18.0</td>\n",
       "      <td>4.0</td>\n",
       "      <td>78.0</td>\n",
       "      <td>3.0</td>\n",
       "      <td>8.0</td>\n",
       "      <td>13.0</td>\n",
       "      <td>1.0</td>\n",
       "      <td>460.0</td>\n",
       "      <td>3.0</td>\n",
       "    </tr>\n",
       "    <tr>\n",
       "      <th>sedan</th>\n",
       "      <td>608.0</td>\n",
       "      <td>7863.0</td>\n",
       "      <td>13796.0</td>\n",
       "      <td>163.0</td>\n",
       "      <td>169.0</td>\n",
       "      <td>451.0</td>\n",
       "      <td>84.0</td>\n",
       "      <td>38.0</td>\n",
       "      <td>31.0</td>\n",
       "      <td>525.0</td>\n",
       "      <td>...</td>\n",
       "      <td>1372.0</td>\n",
       "      <td>712.0</td>\n",
       "      <td>25.0</td>\n",
       "      <td>224.0</td>\n",
       "      <td>120.0</td>\n",
       "      <td>117.0</td>\n",
       "      <td>733.0</td>\n",
       "      <td>54.0</td>\n",
       "      <td>14430.0</td>\n",
       "      <td>460.0</td>\n",
       "    </tr>\n",
       "    <tr>\n",
       "      <th>small</th>\n",
       "      <td>179.0</td>\n",
       "      <td>1181.0</td>\n",
       "      <td>268.0</td>\n",
       "      <td>469.0</td>\n",
       "      <td>7.0</td>\n",
       "      <td>1087.0</td>\n",
       "      <td>195.0</td>\n",
       "      <td>121.0</td>\n",
       "      <td>235.0</td>\n",
       "      <td>2831.0</td>\n",
       "      <td>...</td>\n",
       "      <td>1998.0</td>\n",
       "      <td>905.0</td>\n",
       "      <td>2613.0</td>\n",
       "      <td>130.0</td>\n",
       "      <td>52.0</td>\n",
       "      <td>623.0</td>\n",
       "      <td>1241.0</td>\n",
       "      <td>22.0</td>\n",
       "      <td>10473.0</td>\n",
       "      <td>5.0</td>\n",
       "    </tr>\n",
       "    <tr>\n",
       "      <th>suv</th>\n",
       "      <td>NaN</td>\n",
       "      <td>98.0</td>\n",
       "      <td>629.0</td>\n",
       "      <td>286.0</td>\n",
       "      <td>15.0</td>\n",
       "      <td>29.0</td>\n",
       "      <td>187.0</td>\n",
       "      <td>1.0</td>\n",
       "      <td>31.0</td>\n",
       "      <td>22.0</td>\n",
       "      <td>...</td>\n",
       "      <td>4.0</td>\n",
       "      <td>157.0</td>\n",
       "      <td>NaN</td>\n",
       "      <td>305.0</td>\n",
       "      <td>47.0</td>\n",
       "      <td>613.0</td>\n",
       "      <td>381.0</td>\n",
       "      <td>1.0</td>\n",
       "      <td>1058.0</td>\n",
       "      <td>163.0</td>\n",
       "    </tr>\n",
       "    <tr>\n",
       "      <th>wagon</th>\n",
       "      <td>324.0</td>\n",
       "      <td>8992.0</td>\n",
       "      <td>6351.0</td>\n",
       "      <td>85.0</td>\n",
       "      <td>200.0</td>\n",
       "      <td>401.0</td>\n",
       "      <td>208.0</td>\n",
       "      <td>18.0</td>\n",
       "      <td>13.0</td>\n",
       "      <td>219.0</td>\n",
       "      <td>...</td>\n",
       "      <td>265.0</td>\n",
       "      <td>2285.0</td>\n",
       "      <td>7.0</td>\n",
       "      <td>81.0</td>\n",
       "      <td>181.0</td>\n",
       "      <td>51.0</td>\n",
       "      <td>483.0</td>\n",
       "      <td>24.0</td>\n",
       "      <td>9197.0</td>\n",
       "      <td>1261.0</td>\n",
       "    </tr>\n",
       "  </tbody>\n",
       "</table>\n",
       "<p>8 rows × 40 columns</p>\n",
       "</div>"
      ],
      "text/plain": [
       "brand         alfa_romeo    audi      bmw  chevrolet  chrysler  citroen  \\\n",
       "vehicle_type                                                              \n",
       "bus                  NaN     9.0      3.0      121.0     256.0    992.0   \n",
       "convertible        132.0  1409.0   2777.0       10.0     174.0     80.0   \n",
       "coupe              175.0  1272.0   2770.0       39.0      36.0     95.0   \n",
       "other                5.0    70.0    147.0       16.0       7.0     73.0   \n",
       "sedan              608.0  7863.0  13796.0      163.0     169.0    451.0   \n",
       "small              179.0  1181.0    268.0      469.0       7.0   1087.0   \n",
       "suv                  NaN    98.0    629.0      286.0      15.0     29.0   \n",
       "wagon              324.0  8992.0   6351.0       85.0     200.0    401.0   \n",
       "\n",
       "brand         dacia  daewoo  daihatsu    fiat  ...    seat   skoda   smart  \\\n",
       "vehicle_type                                   ...                           \n",
       "bus            39.0    18.0      18.0   621.0  ...   527.0   202.0     NaN   \n",
       "convertible     NaN     NaN      15.0   330.0  ...     NaN     2.0   982.0   \n",
       "coupe           NaN     1.0       NaN   109.0  ...    64.0     NaN   265.0   \n",
       "other           5.0     2.0       3.0   111.0  ...    33.0    18.0     4.0   \n",
       "sedan          84.0    38.0      31.0   525.0  ...  1372.0   712.0    25.0   \n",
       "small         195.0   121.0     235.0  2831.0  ...  1998.0   905.0  2613.0   \n",
       "suv           187.0     1.0      31.0    22.0  ...     4.0   157.0     NaN   \n",
       "wagon         208.0    18.0      13.0   219.0  ...   265.0  2285.0     7.0   \n",
       "\n",
       "brand         sonstige_autos  subaru  suzuki  toyota  trabant  volkswagen  \\\n",
       "vehicle_type                                                                \n",
       "bus                    119.0    11.0    19.0   395.0      NaN      7877.0   \n",
       "convertible            143.0     1.0    21.0    54.0     14.0      2189.0   \n",
       "coupe                   75.0     6.0     2.0   153.0      1.0      1235.0   \n",
       "other                   78.0     3.0     8.0    13.0      1.0       460.0   \n",
       "sedan                  224.0   120.0   117.0   733.0     54.0     14430.0   \n",
       "small                  130.0    52.0   623.0  1241.0     22.0     10473.0   \n",
       "suv                    305.0    47.0   613.0   381.0      1.0      1058.0   \n",
       "wagon                   81.0   181.0    51.0   483.0     24.0      9197.0   \n",
       "\n",
       "brand          volvo  \n",
       "vehicle_type          \n",
       "bus              NaN  \n",
       "convertible     65.0  \n",
       "coupe           45.0  \n",
       "other            3.0  \n",
       "sedan          460.0  \n",
       "small            5.0  \n",
       "suv            163.0  \n",
       "wagon         1261.0  \n",
       "\n",
       "[8 rows x 40 columns]"
      ]
     },
     "execution_count": 27,
     "metadata": {},
     "output_type": "execute_result"
    }
   ],
   "source": [
    "#Построим сводную таблицу\n",
    "vehicle_type_table = data.pivot_table(index=['vehicle_type'], columns=['brand'], values=['price'],\\\n",
    "                                      aggfunc=['count'])\n",
    "vehicle_type_table = vehicle_type_table['count']['price']\n",
    "vehicle_type_table"
   ]
  },
  {
   "cell_type": "code",
   "execution_count": 28,
   "metadata": {},
   "outputs": [
    {
     "data": {
      "text/plain": [
       "0"
      ]
     },
     "metadata": {},
     "output_type": "display_data"
    },
    {
     "data": {
      "text/plain": [
       "sedan          71619\n",
       "small          51606\n",
       "wagon          48609\n",
       "bus            22769\n",
       "convertible    16129\n",
       "coupe          11320\n",
       "suv             9783\n",
       "other           1821\n",
       "Name: vehicle_type, dtype: int64"
      ]
     },
     "execution_count": 28,
     "metadata": {},
     "output_type": "execute_result"
    }
   ],
   "source": [
    "#заполним пропуски unknown\n",
    "data.fillna({'vehicle_type': 'unknown'},inplace=True)\n",
    "\n",
    "#функция\n",
    "def fillna_by_brand(row, row_number, vehicle_type_table):\n",
    "    brand = row[7]\n",
    "    fill_value = row[row_number]\n",
    "    if row[row_number] == 'unknown':\n",
    "        fill_value = vehicle_type_table[brand].idxmax()\n",
    "    return fill_value\n",
    "\n",
    "#проба фунцкии\n",
    "data['vehicle_type'] = data.apply(fillna_by_brand, args=[1, vehicle_type_table], axis=1)\n",
    "display(data['vehicle_type'].isna().sum())\n",
    "data['vehicle_type'].value_counts()"
   ]
  },
  {
   "cell_type": "markdown",
   "metadata": {},
   "source": [
    "Получилось. Аналогично сделаем и для столбца **fuel_type**. "
   ]
  },
  {
   "cell_type": "code",
   "execution_count": 29,
   "metadata": {},
   "outputs": [
    {
     "data": {
      "text/html": [
       "<div>\n",
       "<style scoped>\n",
       "    .dataframe tbody tr th:only-of-type {\n",
       "        vertical-align: middle;\n",
       "    }\n",
       "\n",
       "    .dataframe tbody tr th {\n",
       "        vertical-align: top;\n",
       "    }\n",
       "\n",
       "    .dataframe thead th {\n",
       "        text-align: right;\n",
       "    }\n",
       "</style>\n",
       "<table border=\"1\" class=\"dataframe\">\n",
       "  <thead>\n",
       "    <tr style=\"text-align: right;\">\n",
       "      <th>brand</th>\n",
       "      <th>alfa_romeo</th>\n",
       "      <th>audi</th>\n",
       "      <th>bmw</th>\n",
       "      <th>chevrolet</th>\n",
       "      <th>chrysler</th>\n",
       "      <th>citroen</th>\n",
       "      <th>dacia</th>\n",
       "      <th>daewoo</th>\n",
       "      <th>daihatsu</th>\n",
       "      <th>fiat</th>\n",
       "      <th>...</th>\n",
       "      <th>seat</th>\n",
       "      <th>skoda</th>\n",
       "      <th>smart</th>\n",
       "      <th>sonstige_autos</th>\n",
       "      <th>subaru</th>\n",
       "      <th>suzuki</th>\n",
       "      <th>toyota</th>\n",
       "      <th>trabant</th>\n",
       "      <th>volkswagen</th>\n",
       "      <th>volvo</th>\n",
       "    </tr>\n",
       "    <tr>\n",
       "      <th>fuel_type</th>\n",
       "      <th></th>\n",
       "      <th></th>\n",
       "      <th></th>\n",
       "      <th></th>\n",
       "      <th></th>\n",
       "      <th></th>\n",
       "      <th></th>\n",
       "      <th></th>\n",
       "      <th></th>\n",
       "      <th></th>\n",
       "      <th></th>\n",
       "      <th></th>\n",
       "      <th></th>\n",
       "      <th></th>\n",
       "      <th></th>\n",
       "      <th></th>\n",
       "      <th></th>\n",
       "      <th></th>\n",
       "      <th></th>\n",
       "      <th></th>\n",
       "      <th></th>\n",
       "    </tr>\n",
       "  </thead>\n",
       "  <tbody>\n",
       "    <tr>\n",
       "      <th>cng</th>\n",
       "      <td>NaN</td>\n",
       "      <td>NaN</td>\n",
       "      <td>5.0</td>\n",
       "      <td>4.0</td>\n",
       "      <td>NaN</td>\n",
       "      <td>5.0</td>\n",
       "      <td>2.0</td>\n",
       "      <td>NaN</td>\n",
       "      <td>NaN</td>\n",
       "      <td>55.0</td>\n",
       "      <td>...</td>\n",
       "      <td>1.0</td>\n",
       "      <td>6.0</td>\n",
       "      <td>2.0</td>\n",
       "      <td>3.0</td>\n",
       "      <td>1.0</td>\n",
       "      <td>NaN</td>\n",
       "      <td>NaN</td>\n",
       "      <td>NaN</td>\n",
       "      <td>153.0</td>\n",
       "      <td>17.0</td>\n",
       "    </tr>\n",
       "    <tr>\n",
       "      <th>electric</th>\n",
       "      <td>NaN</td>\n",
       "      <td>1.0</td>\n",
       "      <td>3.0</td>\n",
       "      <td>NaN</td>\n",
       "      <td>NaN</td>\n",
       "      <td>1.0</td>\n",
       "      <td>NaN</td>\n",
       "      <td>NaN</td>\n",
       "      <td>1.0</td>\n",
       "      <td>1.0</td>\n",
       "      <td>...</td>\n",
       "      <td>NaN</td>\n",
       "      <td>NaN</td>\n",
       "      <td>7.0</td>\n",
       "      <td>14.0</td>\n",
       "      <td>NaN</td>\n",
       "      <td>NaN</td>\n",
       "      <td>NaN</td>\n",
       "      <td>NaN</td>\n",
       "      <td>2.0</td>\n",
       "      <td>NaN</td>\n",
       "    </tr>\n",
       "    <tr>\n",
       "      <th>gasoline</th>\n",
       "      <td>462.0</td>\n",
       "      <td>10191.0</td>\n",
       "      <td>10271.0</td>\n",
       "      <td>191.0</td>\n",
       "      <td>296.0</td>\n",
       "      <td>1248.0</td>\n",
       "      <td>175.0</td>\n",
       "      <td>1.0</td>\n",
       "      <td>3.0</td>\n",
       "      <td>1100.0</td>\n",
       "      <td>...</td>\n",
       "      <td>1372.0</td>\n",
       "      <td>1677.0</td>\n",
       "      <td>711.0</td>\n",
       "      <td>322.0</td>\n",
       "      <td>38.0</td>\n",
       "      <td>192.0</td>\n",
       "      <td>867.0</td>\n",
       "      <td>1.0</td>\n",
       "      <td>20521.0</td>\n",
       "      <td>857.0</td>\n",
       "    </tr>\n",
       "    <tr>\n",
       "      <th>hybrid</th>\n",
       "      <td>NaN</td>\n",
       "      <td>NaN</td>\n",
       "      <td>NaN</td>\n",
       "      <td>NaN</td>\n",
       "      <td>NaN</td>\n",
       "      <td>NaN</td>\n",
       "      <td>NaN</td>\n",
       "      <td>NaN</td>\n",
       "      <td>NaN</td>\n",
       "      <td>1.0</td>\n",
       "      <td>...</td>\n",
       "      <td>1.0</td>\n",
       "      <td>NaN</td>\n",
       "      <td>1.0</td>\n",
       "      <td>19.0</td>\n",
       "      <td>NaN</td>\n",
       "      <td>NaN</td>\n",
       "      <td>109.0</td>\n",
       "      <td>NaN</td>\n",
       "      <td>2.0</td>\n",
       "      <td>NaN</td>\n",
       "    </tr>\n",
       "    <tr>\n",
       "      <th>lpg</th>\n",
       "      <td>24.0</td>\n",
       "      <td>360.0</td>\n",
       "      <td>606.0</td>\n",
       "      <td>145.0</td>\n",
       "      <td>67.0</td>\n",
       "      <td>50.0</td>\n",
       "      <td>44.0</td>\n",
       "      <td>17.0</td>\n",
       "      <td>2.0</td>\n",
       "      <td>53.0</td>\n",
       "      <td>...</td>\n",
       "      <td>47.0</td>\n",
       "      <td>42.0</td>\n",
       "      <td>2.0</td>\n",
       "      <td>100.0</td>\n",
       "      <td>22.0</td>\n",
       "      <td>13.0</td>\n",
       "      <td>18.0</td>\n",
       "      <td>NaN</td>\n",
       "      <td>380.0</td>\n",
       "      <td>73.0</td>\n",
       "    </tr>\n",
       "    <tr>\n",
       "      <th>other</th>\n",
       "      <td>NaN</td>\n",
       "      <td>NaN</td>\n",
       "      <td>2.0</td>\n",
       "      <td>NaN</td>\n",
       "      <td>NaN</td>\n",
       "      <td>NaN</td>\n",
       "      <td>NaN</td>\n",
       "      <td>NaN</td>\n",
       "      <td>NaN</td>\n",
       "      <td>NaN</td>\n",
       "      <td>...</td>\n",
       "      <td>NaN</td>\n",
       "      <td>NaN</td>\n",
       "      <td>NaN</td>\n",
       "      <td>4.0</td>\n",
       "      <td>NaN</td>\n",
       "      <td>1.0</td>\n",
       "      <td>NaN</td>\n",
       "      <td>13.0</td>\n",
       "      <td>10.0</td>\n",
       "      <td>1.0</td>\n",
       "    </tr>\n",
       "    <tr>\n",
       "      <th>petrol</th>\n",
       "      <td>940.0</td>\n",
       "      <td>10376.0</td>\n",
       "      <td>15589.0</td>\n",
       "      <td>847.0</td>\n",
       "      <td>495.0</td>\n",
       "      <td>1934.0</td>\n",
       "      <td>487.0</td>\n",
       "      <td>185.0</td>\n",
       "      <td>340.0</td>\n",
       "      <td>3659.0</td>\n",
       "      <td>...</td>\n",
       "      <td>2972.0</td>\n",
       "      <td>2536.0</td>\n",
       "      <td>3204.0</td>\n",
       "      <td>685.0</td>\n",
       "      <td>352.0</td>\n",
       "      <td>1257.0</td>\n",
       "      <td>2485.0</td>\n",
       "      <td>87.0</td>\n",
       "      <td>26836.0</td>\n",
       "      <td>1033.0</td>\n",
       "    </tr>\n",
       "  </tbody>\n",
       "</table>\n",
       "<p>7 rows × 40 columns</p>\n",
       "</div>"
      ],
      "text/plain": [
       "brand      alfa_romeo     audi      bmw  chevrolet  chrysler  citroen  dacia  \\\n",
       "fuel_type                                                                      \n",
       "cng               NaN      NaN      5.0        4.0       NaN      5.0    2.0   \n",
       "electric          NaN      1.0      3.0        NaN       NaN      1.0    NaN   \n",
       "gasoline        462.0  10191.0  10271.0      191.0     296.0   1248.0  175.0   \n",
       "hybrid            NaN      NaN      NaN        NaN       NaN      NaN    NaN   \n",
       "lpg              24.0    360.0    606.0      145.0      67.0     50.0   44.0   \n",
       "other             NaN      NaN      2.0        NaN       NaN      NaN    NaN   \n",
       "petrol          940.0  10376.0  15589.0      847.0     495.0   1934.0  487.0   \n",
       "\n",
       "brand      daewoo  daihatsu    fiat  ...    seat   skoda   smart  \\\n",
       "fuel_type                            ...                           \n",
       "cng           NaN       NaN    55.0  ...     1.0     6.0     2.0   \n",
       "electric      NaN       1.0     1.0  ...     NaN     NaN     7.0   \n",
       "gasoline      1.0       3.0  1100.0  ...  1372.0  1677.0   711.0   \n",
       "hybrid        NaN       NaN     1.0  ...     1.0     NaN     1.0   \n",
       "lpg          17.0       2.0    53.0  ...    47.0    42.0     2.0   \n",
       "other         NaN       NaN     NaN  ...     NaN     NaN     NaN   \n",
       "petrol      185.0     340.0  3659.0  ...  2972.0  2536.0  3204.0   \n",
       "\n",
       "brand      sonstige_autos  subaru  suzuki  toyota  trabant  volkswagen   volvo  \n",
       "fuel_type                                                                       \n",
       "cng                   3.0     1.0     NaN     NaN      NaN       153.0    17.0  \n",
       "electric             14.0     NaN     NaN     NaN      NaN         2.0     NaN  \n",
       "gasoline            322.0    38.0   192.0   867.0      1.0     20521.0   857.0  \n",
       "hybrid               19.0     NaN     NaN   109.0      NaN         2.0     NaN  \n",
       "lpg                 100.0    22.0    13.0    18.0      NaN       380.0    73.0  \n",
       "other                 4.0     NaN     1.0     NaN     13.0        10.0     1.0  \n",
       "petrol              685.0   352.0  1257.0  2485.0     87.0     26836.0  1033.0  \n",
       "\n",
       "[7 rows x 40 columns]"
      ]
     },
     "execution_count": 29,
     "metadata": {},
     "output_type": "execute_result"
    }
   ],
   "source": [
    "#Построим сводную таблицу\n",
    "fuel_type_table = data.pivot_table(index=['fuel_type'], columns=['brand'], values=['price'],\\\n",
    "                                      aggfunc=['count'])\n",
    "fuel_type_table = fuel_type_table['count']['price']\n",
    "fuel_type_table"
   ]
  },
  {
   "cell_type": "code",
   "execution_count": 30,
   "metadata": {},
   "outputs": [
    {
     "data": {
      "text/plain": [
       "0"
      ]
     },
     "metadata": {},
     "output_type": "display_data"
    },
    {
     "data": {
      "text/plain": [
       "petrol      149865\n",
       "gasoline     79110\n",
       "lpg           3942\n",
       "cng            429\n",
       "hybrid         186\n",
       "electric        68\n",
       "other           56\n",
       "Name: fuel_type, dtype: int64"
      ]
     },
     "execution_count": 30,
     "metadata": {},
     "output_type": "execute_result"
    }
   ],
   "source": [
    "#заполним пропуски unknown\n",
    "data.fillna({'fuel_type': 'unknown'},inplace=True)\n",
    "\n",
    "#проба фунцкии\n",
    "data['fuel_type'] = data.apply(fillna_by_brand, args=[6, fuel_type_table], axis=1)\n",
    "display(data['fuel_type'].isna().sum())\n",
    "data['fuel_type'].value_counts()"
   ]
  },
  {
   "cell_type": "code",
   "execution_count": 31,
   "metadata": {
    "scrolled": true
   },
   "outputs": [
    {
     "name": "stdout",
     "output_type": "stream",
     "text": [
      "<class 'pandas.core.frame.DataFrame'>\n",
      "Int64Index: 233656 entries, 1 to 354368\n",
      "Data columns (total 10 columns):\n",
      " #   Column             Non-Null Count   Dtype \n",
      "---  ------             --------------   ----- \n",
      " 0   price              233656 non-null  int64 \n",
      " 1   vehicle_type       233656 non-null  object\n",
      " 2   registration_year  233656 non-null  int64 \n",
      " 3   gearbox            233656 non-null  object\n",
      " 4   power              233656 non-null  int64 \n",
      " 5   kilometer          233656 non-null  int64 \n",
      " 6   fuel_type          233656 non-null  object\n",
      " 7   brand              233656 non-null  object\n",
      " 8   repaired           233656 non-null  object\n",
      " 9   postal_code        233656 non-null  int64 \n",
      "dtypes: int64(5), object(5)\n",
      "memory usage: 19.6+ MB\n"
     ]
    }
   ],
   "source": [
    "#итоговая проверка\n",
    "data.info()"
   ]
  },
  {
   "cell_type": "code",
   "execution_count": 32,
   "metadata": {},
   "outputs": [
    {
     "data": {
      "text/html": [
       "<div>\n",
       "<style scoped>\n",
       "    .dataframe tbody tr th:only-of-type {\n",
       "        vertical-align: middle;\n",
       "    }\n",
       "\n",
       "    .dataframe tbody tr th {\n",
       "        vertical-align: top;\n",
       "    }\n",
       "\n",
       "    .dataframe thead th {\n",
       "        text-align: right;\n",
       "    }\n",
       "</style>\n",
       "<table border=\"1\" class=\"dataframe\">\n",
       "  <thead>\n",
       "    <tr style=\"text-align: right;\">\n",
       "      <th></th>\n",
       "      <th>price</th>\n",
       "      <th>vehicle_type</th>\n",
       "      <th>registration_year</th>\n",
       "      <th>gearbox</th>\n",
       "      <th>power</th>\n",
       "      <th>kilometer</th>\n",
       "      <th>fuel_type</th>\n",
       "      <th>brand</th>\n",
       "      <th>repaired</th>\n",
       "      <th>postal_code</th>\n",
       "    </tr>\n",
       "  </thead>\n",
       "  <tbody>\n",
       "    <tr>\n",
       "      <th>1</th>\n",
       "      <td>18300</td>\n",
       "      <td>coupe</td>\n",
       "      <td>2011</td>\n",
       "      <td>manual</td>\n",
       "      <td>190</td>\n",
       "      <td>125000</td>\n",
       "      <td>gasoline</td>\n",
       "      <td>audi</td>\n",
       "      <td>yes</td>\n",
       "      <td>66954</td>\n",
       "    </tr>\n",
       "    <tr>\n",
       "      <th>2</th>\n",
       "      <td>9800</td>\n",
       "      <td>suv</td>\n",
       "      <td>2004</td>\n",
       "      <td>auto</td>\n",
       "      <td>163</td>\n",
       "      <td>125000</td>\n",
       "      <td>gasoline</td>\n",
       "      <td>jeep</td>\n",
       "      <td>no</td>\n",
       "      <td>90480</td>\n",
       "    </tr>\n",
       "    <tr>\n",
       "      <th>3</th>\n",
       "      <td>1500</td>\n",
       "      <td>small</td>\n",
       "      <td>2001</td>\n",
       "      <td>manual</td>\n",
       "      <td>75</td>\n",
       "      <td>150000</td>\n",
       "      <td>petrol</td>\n",
       "      <td>volkswagen</td>\n",
       "      <td>no</td>\n",
       "      <td>91074</td>\n",
       "    </tr>\n",
       "    <tr>\n",
       "      <th>4</th>\n",
       "      <td>3600</td>\n",
       "      <td>small</td>\n",
       "      <td>2008</td>\n",
       "      <td>manual</td>\n",
       "      <td>69</td>\n",
       "      <td>90000</td>\n",
       "      <td>gasoline</td>\n",
       "      <td>skoda</td>\n",
       "      <td>no</td>\n",
       "      <td>60437</td>\n",
       "    </tr>\n",
       "    <tr>\n",
       "      <th>6</th>\n",
       "      <td>2200</td>\n",
       "      <td>convertible</td>\n",
       "      <td>2004</td>\n",
       "      <td>manual</td>\n",
       "      <td>109</td>\n",
       "      <td>150000</td>\n",
       "      <td>petrol</td>\n",
       "      <td>peugeot</td>\n",
       "      <td>no</td>\n",
       "      <td>67112</td>\n",
       "    </tr>\n",
       "  </tbody>\n",
       "</table>\n",
       "</div>"
      ],
      "text/plain": [
       "   price vehicle_type  registration_year gearbox  power  kilometer fuel_type  \\\n",
       "1  18300        coupe               2011  manual    190     125000  gasoline   \n",
       "2   9800          suv               2004    auto    163     125000  gasoline   \n",
       "3   1500        small               2001  manual     75     150000    petrol   \n",
       "4   3600        small               2008  manual     69      90000  gasoline   \n",
       "6   2200  convertible               2004  manual    109     150000    petrol   \n",
       "\n",
       "        brand repaired  postal_code  \n",
       "1        audi      yes        66954  \n",
       "2        jeep       no        90480  \n",
       "3  volkswagen       no        91074  \n",
       "4       skoda       no        60437  \n",
       "6     peugeot       no        67112  "
      ]
     },
     "execution_count": 32,
     "metadata": {},
     "output_type": "execute_result"
    }
   ],
   "source": [
    "#итоговая проверка\n",
    "data.head()"
   ]
  },
  {
   "cell_type": "markdown",
   "metadata": {},
   "source": [
    "Вроде бы все данные проверены, пропусков больше нет. Приступим в обучению."
   ]
  },
  {
   "cell_type": "markdown",
   "metadata": {},
   "source": [
    "## Обучение моделей"
   ]
  },
  {
   "cell_type": "markdown",
   "metadata": {},
   "source": [
    "Подготовим данные к обучению."
   ]
  },
  {
   "cell_type": "code",
   "execution_count": 55,
   "metadata": {},
   "outputs": [],
   "source": [
    "#базовые  признаки\n",
    "features = data.drop(['price'], axis=1)\n",
    "target = data[['price']]\n",
    "\n",
    "#деление на выборки\n",
    "features_80, features_test, target_80, target_test = train_test_split(\n",
    "    features, target, test_size=0.20, random_state=12345)\n",
    "features_train, features_valid, target_train, target_valid = train_test_split(\n",
    "    features_80, target_80, test_size=0.25, random_state=12345)\n",
    "\n",
    "#кодирование методом OE\n",
    "encoder = OrdinalEncoder(dtype=np.int16, handle_unknown='ignore')\n",
    "cat_columns = ['vehicle_type', 'gearbox', 'fuel_type', 'brand', 'repaired']\n",
    "encoder.fit(features_train[cat_columns])\n",
    "\n",
    "#преобразование выборок кодированием\n",
    "features_train[cat_columns] = encoder.transform(features_train[cat_columns])\n",
    "\n",
    "features_valid[cat_columns] = encoder.transform(features_valid[cat_columns])\n",
    "\n",
    "features_test[cat_columns] = encoder.transform(features_test[cat_columns])\n",
    "\n",
    "features_80[cat_columns] = encoder.transform(features_80[cat_columns])\n"
   ]
  },
  {
   "cell_type": "markdown",
   "metadata": {},
   "source": [
    "### CatBoost"
   ]
  },
  {
   "cell_type": "markdown",
   "metadata": {},
   "source": [
    "Подберем оптимальное значение RMSE и глубину в цикле для Градиентного бустинга."
   ]
  },
  {
   "cell_type": "code",
   "execution_count": 39,
   "metadata": {},
   "outputs": [
    {
     "name": "stdout",
     "output_type": "stream",
     "text": [
      "0:\tlearn: 3781.2225311\ttotal: 81.7ms\tremaining: 2.37s\n",
      "5:\tlearn: 2916.4356999\ttotal: 188ms\tremaining: 754ms\n",
      "10:\tlearn: 2665.8954483\ttotal: 296ms\tremaining: 512ms\n",
      "15:\tlearn: 2490.6958698\ttotal: 421ms\tremaining: 368ms\n",
      "20:\tlearn: 2430.4687382\ttotal: 553ms\tremaining: 237ms\n",
      "25:\tlearn: 2370.1938603\ttotal: 657ms\tremaining: 101ms\n",
      "29:\tlearn: 2340.0429354\ttotal: 740ms\tremaining: 0us\n",
      "0:\tlearn: 2716.2290525\ttotal: 50.7ms\tremaining: 1.47s\n",
      "5:\tlearn: 2045.1847442\ttotal: 284ms\tremaining: 1.14s\n",
      "10:\tlearn: 1939.3206883\ttotal: 499ms\tremaining: 862ms\n",
      "15:\tlearn: 1881.6404661\ttotal: 726ms\tremaining: 635ms\n",
      "20:\tlearn: 1842.9155999\ttotal: 1.04s\tremaining: 445ms\n",
      "25:\tlearn: 1815.2542460\ttotal: 1.26s\tremaining: 195ms\n",
      "29:\tlearn: 1795.5028837\ttotal: 1.56s\tremaining: 0us\n",
      "0:\tlearn: 2423.3616074\ttotal: 101ms\tremaining: 2.92s\n",
      "5:\tlearn: 1857.5496863\ttotal: 593ms\tremaining: 2.37s\n",
      "10:\tlearn: 1774.8862199\ttotal: 1.06s\tremaining: 1.83s\n",
      "15:\tlearn: 1700.0559666\ttotal: 1.52s\tremaining: 1.33s\n",
      "20:\tlearn: 1663.7101529\ttotal: 2.04s\tremaining: 876ms\n",
      "25:\tlearn: 1624.3034075\ttotal: 2.53s\tremaining: 390ms\n",
      "29:\tlearn: 1603.1796573\ttotal: 2.92s\tremaining: 0us\n",
      "0:\tlearn: 2402.8317760\ttotal: 352ms\tremaining: 10.2s\n",
      "5:\tlearn: 1719.5636304\ttotal: 7.62s\tremaining: 30.5s\n",
      "10:\tlearn: 1576.8688031\ttotal: 14.8s\tremaining: 25.6s\n",
      "15:\tlearn: 1473.6205122\ttotal: 22.1s\tremaining: 19.3s\n",
      "20:\tlearn: 1410.4425466\ttotal: 29.3s\tremaining: 12.6s\n",
      "25:\tlearn: 1355.7649515\ttotal: 36.7s\tremaining: 5.65s\n",
      "29:\tlearn: 1323.8668189\ttotal: 42.7s\tremaining: 0us\n"
     ]
    },
    {
     "data": {
      "text/plain": [
       "1346.5116875688022"
      ]
     },
     "metadata": {},
     "output_type": "display_data"
    },
    {
     "data": {
      "text/plain": [
       "16"
      ]
     },
     "metadata": {},
     "output_type": "display_data"
    },
    {
     "name": "stdout",
     "output_type": "stream",
     "text": [
      "CPU times: user 35.3 s, sys: 14.3 s, total: 49.6 s\n",
      "Wall time: 52.1 s\n"
     ]
    },
    {
     "data": {
      "image/png": "[encoded data removed]",
      "text/plain": [
       "<Figure size 432x288 with 1 Axes>"
      ]
     },
     "metadata": {
      "needs_background": "light"
     },
     "output_type": "display_data"
    }
   ],
   "source": [
    "%%time\n",
    "best_result = 5000\n",
    "depth = 0\n",
    "depths = []\n",
    "results = []\n",
    "\n",
    "for depth in range(1, 21, 5):\n",
    "    model_cat = CatBoostRegressor(iterations=30, learning_rate=1, max_depth=depth, random_state=12345, verbose=5)\n",
    "    model_cat.fit(features_train, target_train, cat_features=cat_columns)\n",
    "    predictions_valid = model_cat.predict(features_train)\n",
    "    result = mean_squared_error(target_train, predictions_valid) ** .5\n",
    "    depths.append(depth)\n",
    "    results.append(result)\n",
    "\n",
    "    plt.plot(depths, results)\n",
    "    plt.title(\"CAT RMSE\")\n",
    "    plt.xlabel(\"глубина\")\n",
    "    plt.ylabel(\"RMSE\")\n",
    "    plt.grid()\n",
    "    plt.show\n",
    "            \n",
    "    if result < best_result:\n",
    "        best_depth = depth\n",
    "        best_result = result\n",
    "\n",
    "display(best_result, best_depth)"
   ]
  },
  {
   "cell_type": "markdown",
   "metadata": {},
   "source": [
    "**Вывод: глубина 16, RMSE - 1346.5116875688022, за время 52.1 s**"
   ]
  },
  {
   "cell_type": "markdown",
   "metadata": {},
   "source": [
    "### Дерево решений"
   ]
  },
  {
   "cell_type": "code",
   "execution_count": 40,
   "metadata": {
    "scrolled": true
   },
   "outputs": [
    {
     "data": {
      "text/plain": [
       "1997.2865110862094"
      ]
     },
     "metadata": {},
     "output_type": "display_data"
    },
    {
     "data": {
      "text/plain": [
       "13"
      ]
     },
     "metadata": {},
     "output_type": "display_data"
    },
    {
     "name": "stdout",
     "output_type": "stream",
     "text": [
      "CPU times: user 2.56 s, sys: 0 ns, total: 2.56 s\n",
      "Wall time: 2.55 s\n"
     ]
    },
    {
     "data": {
      "image/png": "[encoded data removed]",
      "text/plain": [
       "<Figure size 432x288 with 1 Axes>"
      ]
     },
     "metadata": {
      "needs_background": "light"
     },
     "output_type": "display_data"
    }
   ],
   "source": [
    "%%time\n",
    "best_result = 5000\n",
    "depth = 0\n",
    "depths = []\n",
    "results = []\n",
    "\n",
    "for depth in range(1, 21, 3):\n",
    "    model_tree = DecisionTreeRegressor(random_state=12345, max_depth=depth)\n",
    "    model_tree.fit(features_train, target_train)\n",
    "    predictions_valid = model_tree.predict(features_valid)\n",
    "    result = mean_squared_error(target_valid, predictions_valid) ** 0.5\n",
    "    depths.append(depth)\n",
    "    results.append(result)\n",
    "        \n",
    "    plt.plot(depths, results)\n",
    "    plt.title(\"TREE RMSE\")\n",
    "    plt.xlabel(\"глубина\")\n",
    "    plt.ylabel(\"RMSE\")\n",
    "    plt.grid()\n",
    "    plt.show\n",
    "            \n",
    "    if result < best_result:\n",
    "        best_depth = depth\n",
    "        best_result = result\n",
    "\n",
    "display(best_result, best_depth)"
   ]
  },
  {
   "cell_type": "markdown",
   "metadata": {},
   "source": [
    "**Вывод: глубина 13, RMSE - 1997.2865110862094, за время 2.55 s**"
   ]
  },
  {
   "cell_type": "markdown",
   "metadata": {},
   "source": [
    "### LIghtGBM"
   ]
  },
  {
   "cell_type": "code",
   "execution_count": 41,
   "metadata": {
    "scrolled": true
   },
   "outputs": [
    {
     "name": "stdout",
     "output_type": "stream",
     "text": [
      "Запуск\n",
      "\n",
      "Лучшие параметры:\n",
      "\n",
      "{'learning_rate': 0.3, 'num_leaves': 100, 'random_state': 1515}\n",
      "\n",
      "Используемые параметры\n",
      "\n",
      "1786.282519 for {'learning_rate': 0.3, 'num_leaves': 11, 'random_state': 1515}\n",
      "1712.869466 for {'learning_rate': 0.3, 'num_leaves': 50, 'random_state': 1515}\n",
      "1702.277182 for {'learning_rate': 0.3, 'num_leaves': 100, 'random_state': 1515}\n",
      "\n",
      "CPU times: user 18min 12s, sys: 8.01 s, total: 18min 20s\n",
      "Wall time: 18min 31s\n"
     ]
    }
   ],
   "source": [
    "%%time\n",
    "\n",
    "regressor = LGBMRegressor() \n",
    "hyperparams = [{'num_leaves':[11, 50, 100], \n",
    "                'learning_rate':[0.3],\n",
    "                'random_state':[1515]}]\n",
    "\n",
    "print('Запуск')\n",
    "print()\n",
    "clf = GridSearchCV(regressor, hyperparams, scoring='neg_mean_squared_error')\n",
    "clf.fit(features_train, target_train)\n",
    "print(\"Лучшие параметры:\")\n",
    "print()\n",
    "print(clf.best_params_)\n",
    "print()\n",
    "print(\"Используемые параметры\")\n",
    "print()\n",
    "means = clf.cv_results_['mean_test_score']\n",
    "stds = clf.cv_results_['std_test_score']\n",
    "for mean, std, params in zip(means, stds, clf.cv_results_['params']):\n",
    "    print(\"%0.6f for %r\"% ((mean*-1)** 0.5, params))\n",
    "print()\n",
    "\n",
    "cv_RMSE_LGBMR = (max(means)*-1) ** 0.5"
   ]
  },
  {
   "cell_type": "markdown",
   "metadata": {},
   "source": [
    "**Вывод:**\n",
    "\n",
    "**С гиперпараметрами:'learning_rate'- 0.3, 'num_leaves'- 100, 'random_state'- 1515,  RMSE - 1702.277182. за 18min 31s.**"
   ]
  },
  {
   "cell_type": "markdown",
   "metadata": {},
   "source": [
    "### Выводы"
   ]
  },
  {
   "cell_type": "markdown",
   "metadata": {},
   "source": [
    "**Вывод:**\n",
    "* CatBoost с наилучшим результатом RMSE с глубиной 16, RMSE - 1346.5116875688022, за время 52.1 s\n",
    "* Дерево Решений с наилучшим результатом RMSE с глубиной 13, RMSE - 1997.2865110862094, за время 2.55 s\n",
    "* LightGBM С гиперпараметрами:'learning_rate'- 0.3, 'num_leaves'- 100, 'random_state'- 1515, RMSE - 1702.277182 за 18min 31s.\n",
    "\n",
    "\n",
    "Все модели показали RMSE меньше 2500, что и требовалось. Дерево решений показало самый быстрый результат."
   ]
  },
  {
   "cell_type": "markdown",
   "metadata": {},
   "source": [
    "## Анализ моделей"
   ]
  },
  {
   "cell_type": "markdown",
   "metadata": {},
   "source": [
    "### Дерево решений"
   ]
  },
  {
   "cell_type": "markdown",
   "metadata": {},
   "source": [
    "Обучение"
   ]
  },
  {
   "cell_type": "code",
   "execution_count": 48,
   "metadata": {},
   "outputs": [
    {
     "name": "stdout",
     "output_type": "stream",
     "text": [
      "CPU times: user 437 ms, sys: 0 ns, total: 437 ms\n",
      "Wall time: 435 ms\n"
     ]
    },
    {
     "data": {
      "text/plain": [
       "DecisionTreeRegressor(max_depth=13, random_state=12345)"
      ]
     },
     "execution_count": 48,
     "metadata": {},
     "output_type": "execute_result"
    }
   ],
   "source": [
    "%%time\n",
    "model_tree = DecisionTreeRegressor(random_state=12345, max_depth=13)\n",
    "model_tree.fit(features_train, target_train)"
   ]
  },
  {
   "cell_type": "markdown",
   "metadata": {},
   "source": [
    "**Результат обучения: 435 ms**"
   ]
  },
  {
   "cell_type": "markdown",
   "metadata": {},
   "source": [
    "Предсказания"
   ]
  },
  {
   "cell_type": "code",
   "execution_count": 49,
   "metadata": {},
   "outputs": [
    {
     "data": {
      "text/plain": [
       "1997.2865110862094"
      ]
     },
     "metadata": {},
     "output_type": "display_data"
    },
    {
     "name": "stdout",
     "output_type": "stream",
     "text": [
      "CPU times: user 17.2 ms, sys: 0 ns, total: 17.2 ms\n",
      "Wall time: 15.1 ms\n"
     ]
    }
   ],
   "source": [
    "%%time\n",
    "predictions_valid_tree = model_tree.predict(features_valid)\n",
    "display(mean_squared_error(target_valid, predictions_valid_tree) ** .5)"
   ]
  },
  {
   "cell_type": "markdown",
   "metadata": {},
   "source": [
    "**Результат предсказания: 15.1 ms, RMSE = 1997.2865110862094**"
   ]
  },
  {
   "cell_type": "markdown",
   "metadata": {},
   "source": [
    "### CatBoost"
   ]
  },
  {
   "cell_type": "markdown",
   "metadata": {},
   "source": [
    "Обучение"
   ]
  },
  {
   "cell_type": "code",
   "execution_count": 50,
   "metadata": {},
   "outputs": [
    {
     "name": "stdout",
     "output_type": "stream",
     "text": [
      "0:\tlearn: 2204.6295744\ttotal: 1.16s\tremaining: 33.5s\n",
      "5:\tlearn: 1730.3249826\ttotal: 6.83s\tremaining: 27.3s\n",
      "10:\tlearn: 1606.0915599\ttotal: 12.5s\tremaining: 21.7s\n",
      "15:\tlearn: 1520.3623085\ttotal: 18.1s\tremaining: 15.8s\n",
      "20:\tlearn: 1461.7089958\ttotal: 23.7s\tremaining: 10.2s\n",
      "25:\tlearn: 1407.1381663\ttotal: 29.4s\tremaining: 4.52s\n",
      "29:\tlearn: 1371.6990011\ttotal: 34.2s\tremaining: 0us\n",
      "CPU times: user 18.8 s, sys: 15.6 s, total: 34.4 s\n",
      "Wall time: 34.9 s\n"
     ]
    },
    {
     "data": {
      "text/plain": [
       "<catboost.core.CatBoostRegressor at 0x7fe2ae8201c0>"
      ]
     },
     "execution_count": 50,
     "metadata": {},
     "output_type": "execute_result"
    }
   ],
   "source": [
    "%%time\n",
    "model_cat = CatBoostRegressor(iterations=30, learning_rate=1, max_depth=16, random_state=12345, \n",
    "                              verbose=5)\n",
    "model_cat.fit(features_train, target_train)"
   ]
  },
  {
   "cell_type": "markdown",
   "metadata": {},
   "source": [
    "**Результат обучения: 34.9 s**"
   ]
  },
  {
   "cell_type": "markdown",
   "metadata": {},
   "source": [
    "Предсказания"
   ]
  },
  {
   "cell_type": "code",
   "execution_count": 51,
   "metadata": {},
   "outputs": [
    {
     "data": {
      "text/plain": [
       "1802.4661890489551"
      ]
     },
     "metadata": {},
     "output_type": "display_data"
    },
    {
     "name": "stdout",
     "output_type": "stream",
     "text": [
      "CPU times: user 20.2 ms, sys: 4.1 ms, total: 24.3 ms\n",
      "Wall time: 22.9 ms\n"
     ]
    }
   ],
   "source": [
    "%%time\n",
    "predictions_valid_cat = model_cat.predict(features_valid)\n",
    "display(mean_squared_error(target_valid, predictions_valid_cat) ** .5)"
   ]
  },
  {
   "cell_type": "markdown",
   "metadata": {},
   "source": [
    "**Результат предсказания: 22.9 ms, RMSE = 1802.4661890489551**"
   ]
  },
  {
   "cell_type": "markdown",
   "metadata": {},
   "source": [
    "### LightGBM"
   ]
  },
  {
   "cell_type": "markdown",
   "metadata": {},
   "source": [
    "Обучение"
   ]
  },
  {
   "cell_type": "code",
   "execution_count": 52,
   "metadata": {},
   "outputs": [
    {
     "name": "stdout",
     "output_type": "stream",
     "text": [
      "CPU times: user 6.62 s, sys: 58.7 ms, total: 6.67 s\n",
      "Wall time: 6.79 s\n"
     ]
    },
    {
     "data": {
      "text/plain": [
       "LGBMRegressor(learning_rate=0.3, num_leaves=100, random_state=1515)"
      ]
     },
     "execution_count": 52,
     "metadata": {},
     "output_type": "execute_result"
    }
   ],
   "source": [
    "%%time\n",
    "model = LGBMRegressor(learning_rate=0.3, num_leaves=100, random_state=1515)\n",
    "model.fit(features_train, target_train)"
   ]
  },
  {
   "cell_type": "markdown",
   "metadata": {},
   "source": [
    "**Результат обучения: 6.79 s**"
   ]
  },
  {
   "cell_type": "markdown",
   "metadata": {},
   "source": [
    "Предсказания"
   ]
  },
  {
   "cell_type": "code",
   "execution_count": 53,
   "metadata": {},
   "outputs": [
    {
     "data": {
      "text/plain": [
       "1658.4572719510772"
      ]
     },
     "metadata": {},
     "output_type": "display_data"
    },
    {
     "name": "stdout",
     "output_type": "stream",
     "text": [
      "CPU times: user 416 ms, sys: 323 µs, total: 417 ms\n",
      "Wall time: 363 ms\n"
     ]
    }
   ],
   "source": [
    "%%time\n",
    "target_predict = model.predict(features_test)\n",
    "display(mean_squared_error(target_test, target_predict) ** 0.5)"
   ]
  },
  {
   "cell_type": "markdown",
   "metadata": {},
   "source": [
    "**Результат предсказания: 363 ms, RMSE = 1658.4572719510772**"
   ]
  },
  {
   "cell_type": "markdown",
   "metadata": {},
   "source": [
    "### Выводы"
   ]
  },
  {
   "cell_type": "markdown",
   "metadata": {},
   "source": [
    "При обучении получились следующие результаты по времени:\n",
    "\n",
    "*    DecisionTreeRegressor - Результат обучения: 435 ms, Результат предсказания: 15.1 ms, RMSE = 1997.2865110862094\n",
    "*    CatBoost - Результат обучения: 34.9 s, Результат предсказания: 22.9 ms, RMSE = 1802.4661890489551\n",
    "*    LightGBM - Результат обучения: 6.79 s, Результат предсказания: 363 ms, RMSE = 1658.4572719510772\n",
    "\n",
    "Все модели выдают RMSE меньше 2500. **Самой быстрой по скорости обучения и предсказаия стала модель Дерева решений.**"
   ]
  },
  {
   "cell_type": "markdown",
   "metadata": {},
   "source": [
    "**Проверка лучшей модели**"
   ]
  },
  {
   "cell_type": "code",
   "execution_count": 56,
   "metadata": {},
   "outputs": [
    {
     "data": {
      "text/plain": [
       "1926.6606514324285"
      ]
     },
     "metadata": {},
     "output_type": "display_data"
    }
   ],
   "source": [
    "model_tree = DecisionTreeRegressor(random_state=12345, max_depth=13)\n",
    "model_tree.fit(features_80, target_80)\n",
    "predictions_test_tree = model_tree.predict(features_test)\n",
    "display(mean_squared_error(target_test, predictions_test_tree) ** .5)"
   ]
  },
  {
   "cell_type": "markdown",
   "metadata": {},
   "source": [
    "## Итоговый вывод"
   ]
  },
  {
   "cell_type": "markdown",
   "metadata": {},
   "source": [
    "* Произведен подбор параметров и последующее обучение 3 моделей со следующими результатами:\n",
    "\n",
    "**CatBoost с наилучшим результатом RMSE с глубиной 16, RMSE - 1346.5116875688022, за время 52.1 s**\n",
    "\n",
    "**Дерево Решений с наилучшим результатом RMSE с глубиной 13, RMSE - 1997.2865110862094, за время 2.55 s**\n",
    "\n",
    "**LightGBM С гиперпараметрами:'learning_rate'- 0.3, 'num_leaves'- 100, 'random_state'- 1515, RMSE - 1702.277182 за 18min 31s.**\n",
    "    \n",
    "    \n",
    "* Произведено измерение времени обучения и предсказаний модели со следующими результатами:\n",
    "\n",
    "**DecisionTreeRegressor - Результат обучения: 435 ms, Результат предсказания: 15.1 ms, RMSE = 1997.2865110862094**\n",
    "\n",
    "**CatBoost - Результат обучения: 34.9 s, Результат предсказания: 22.9 ms, RMSE = 1802.4661890489551**\n",
    "\n",
    "**LightGBM - Результат обучения: 6.79 s, Результат предсказания: 363 ms, RMSE = 1658.4572719510772**\n",
    "\n",
    "\n",
    "**Лучшей становится модель DecisionTreeRegressor.**"
   ]
  }
 ],
 "metadata": {
  "ExecuteTimeLog": [
   {
    "duration": 55,
    "start_time": "2023-04-21T13:25:36.870Z"
   },
   {
    "duration": 1944,
    "start_time": "2023-04-21T13:25:39.633Z"
   },
   {
    "duration": 1606,
    "start_time": "2023-04-21T13:25:44.788Z"
   },
   {
    "duration": 1045,
    "start_time": "2023-04-21T13:25:58.396Z"
   },
   {
    "duration": 120,
    "start_time": "2023-04-21T13:26:02.885Z"
   },
   {
    "duration": 104,
    "start_time": "2023-04-21T13:30:08.156Z"
   },
   {
    "duration": 20,
    "start_time": "2023-04-21T13:30:16.773Z"
   },
   {
    "duration": 29,
    "start_time": "2023-04-21T13:31:33.022Z"
   },
   {
    "duration": 17,
    "start_time": "2023-04-21T13:31:42.267Z"
   },
   {
    "duration": 16,
    "start_time": "2023-04-21T13:32:12.602Z"
   },
   {
    "duration": 16,
    "start_time": "2023-04-21T13:32:23.293Z"
   },
   {
    "duration": 64,
    "start_time": "2023-04-21T13:32:30.489Z"
   },
   {
    "duration": 16,
    "start_time": "2023-04-21T13:32:37.610Z"
   },
   {
    "duration": 24,
    "start_time": "2023-04-21T13:33:12.910Z"
   },
   {
    "duration": 18,
    "start_time": "2023-04-21T13:35:28.852Z"
   },
   {
    "duration": 22,
    "start_time": "2023-04-21T13:36:06.483Z"
   },
   {
    "duration": 21,
    "start_time": "2023-04-21T13:36:51.527Z"
   },
   {
    "duration": 17,
    "start_time": "2023-04-21T13:41:13.667Z"
   },
   {
    "duration": 17,
    "start_time": "2023-04-21T13:50:15.368Z"
   },
   {
    "duration": 18,
    "start_time": "2023-04-21T13:52:45.586Z"
   },
   {
    "duration": 1015,
    "start_time": "2023-04-21T13:53:29.324Z"
   },
   {
    "duration": 15,
    "start_time": "2023-04-21T13:53:59.286Z"
   },
   {
    "duration": 17,
    "start_time": "2023-04-21T13:55:44.731Z"
   },
   {
    "duration": 16,
    "start_time": "2023-04-21T13:56:10.134Z"
   },
   {
    "duration": 18,
    "start_time": "2023-04-21T13:56:35.227Z"
   },
   {
    "duration": 17,
    "start_time": "2023-04-21T13:58:10.801Z"
   },
   {
    "duration": 20,
    "start_time": "2023-04-21T14:25:56.586Z"
   },
   {
    "duration": 16,
    "start_time": "2023-04-21T14:27:40.587Z"
   },
   {
    "duration": 17,
    "start_time": "2023-04-21T14:28:30.599Z"
   },
   {
    "duration": 18,
    "start_time": "2023-04-21T14:29:19.819Z"
   },
   {
    "duration": 19,
    "start_time": "2023-04-21T14:33:26.675Z"
   },
   {
    "duration": 17,
    "start_time": "2023-04-21T14:36:21.435Z"
   },
   {
    "duration": 21,
    "start_time": "2023-04-21T14:36:47.730Z"
   },
   {
    "duration": 22,
    "start_time": "2023-04-21T14:37:55.206Z"
   },
   {
    "duration": 21,
    "start_time": "2023-04-21T14:38:10.732Z"
   },
   {
    "duration": 17,
    "start_time": "2023-04-21T14:44:10.936Z"
   },
   {
    "duration": 108,
    "start_time": "2023-04-21T14:50:14.002Z"
   },
   {
    "duration": 85,
    "start_time": "2023-04-21T14:50:48.295Z"
   },
   {
    "duration": 13,
    "start_time": "2023-04-21T14:51:04.432Z"
   },
   {
    "duration": 99,
    "start_time": "2023-04-21T14:51:33.298Z"
   },
   {
    "duration": 1808,
    "start_time": "2023-04-21T14:52:06.075Z"
   },
   {
    "duration": 1104,
    "start_time": "2023-04-21T14:52:07.942Z"
   },
   {
    "duration": 134,
    "start_time": "2023-04-21T14:52:11.825Z"
   },
   {
    "duration": 208,
    "start_time": "2023-04-21T14:52:16.599Z"
   },
   {
    "duration": 176,
    "start_time": "2023-04-21T14:53:28.989Z"
   },
   {
    "duration": 1661,
    "start_time": "2023-04-21T14:57:55.867Z"
   },
   {
    "duration": 1248,
    "start_time": "2023-04-21T14:58:00.598Z"
   },
   {
    "duration": 152,
    "start_time": "2023-04-21T14:58:05.526Z"
   },
   {
    "duration": 130,
    "start_time": "2023-04-21T14:58:10.814Z"
   },
   {
    "duration": 339,
    "start_time": "2023-04-21T15:02:19.834Z"
   },
   {
    "duration": 127,
    "start_time": "2023-04-21T15:03:32.759Z"
   },
   {
    "duration": 14,
    "start_time": "2023-04-21T15:03:40.613Z"
   },
   {
    "duration": 718,
    "start_time": "2023-04-21T15:03:53.573Z"
   },
   {
    "duration": 16,
    "start_time": "2023-04-21T15:13:29.078Z"
   },
   {
    "duration": 45,
    "start_time": "2023-04-21T15:14:53.472Z"
   },
   {
    "duration": 36,
    "start_time": "2023-04-21T15:15:23.992Z"
   },
   {
    "duration": 12,
    "start_time": "2023-04-21T15:15:53.588Z"
   },
   {
    "duration": 12,
    "start_time": "2023-04-21T15:15:58.561Z"
   },
   {
    "duration": 1581,
    "start_time": "2023-04-21T15:17:40.351Z"
   },
   {
    "duration": 1024,
    "start_time": "2023-04-21T15:17:42.709Z"
   },
   {
    "duration": 151,
    "start_time": "2023-04-21T15:17:46.235Z"
   },
   {
    "duration": 105,
    "start_time": "2023-04-21T15:17:52.668Z"
   },
   {
    "duration": 305,
    "start_time": "2023-04-21T15:18:23.826Z"
   },
   {
    "duration": 619,
    "start_time": "2023-04-21T15:18:28.012Z"
   },
   {
    "duration": 16,
    "start_time": "2023-04-21T15:18:31.367Z"
   },
   {
    "duration": 52,
    "start_time": "2023-04-21T15:18:35.735Z"
   },
   {
    "duration": 12,
    "start_time": "2023-04-21T15:18:41.382Z"
   },
   {
    "duration": 1682,
    "start_time": "2023-04-21T15:19:22.156Z"
   },
   {
    "duration": 1138,
    "start_time": "2023-04-21T15:19:25.812Z"
   },
   {
    "duration": 138,
    "start_time": "2023-04-21T15:19:31.747Z"
   },
   {
    "duration": 4,
    "start_time": "2023-04-21T15:19:39.360Z"
   },
   {
    "duration": 15,
    "start_time": "2023-04-21T15:19:47.778Z"
   },
   {
    "duration": 5,
    "start_time": "2023-04-21T15:20:36.354Z"
   },
   {
    "duration": 16,
    "start_time": "2023-04-21T15:20:38.438Z"
   },
   {
    "duration": 104,
    "start_time": "2023-04-21T15:21:06.045Z"
   },
   {
    "duration": 192,
    "start_time": "2023-04-21T15:21:25.250Z"
   },
   {
    "duration": 371,
    "start_time": "2023-04-21T15:21:33.609Z"
   },
   {
    "duration": 5,
    "start_time": "2023-04-21T15:21:41.911Z"
   },
   {
    "duration": 12,
    "start_time": "2023-04-21T15:21:48.811Z"
   },
   {
    "duration": 13,
    "start_time": "2023-04-21T15:21:55.729Z"
   },
   {
    "duration": 1279,
    "start_time": "2023-04-21T15:23:04.920Z"
   },
   {
    "duration": 323,
    "start_time": "2023-04-21T15:23:14.973Z"
   },
   {
    "duration": 458,
    "start_time": "2023-04-21T15:24:00.171Z"
   },
   {
    "duration": 355,
    "start_time": "2023-04-21T15:27:37.855Z"
   },
   {
    "duration": 57,
    "start_time": "2023-04-21T15:28:19.644Z"
   },
   {
    "duration": 48,
    "start_time": "2023-04-21T15:28:34.073Z"
   },
   {
    "duration": 45,
    "start_time": "2023-04-21T15:30:08.165Z"
   },
   {
    "duration": 40,
    "start_time": "2023-04-21T15:30:59.644Z"
   },
   {
    "duration": 10,
    "start_time": "2023-04-21T15:33:14.225Z"
   },
   {
    "duration": 232,
    "start_time": "2023-04-21T15:34:15.600Z"
   },
   {
    "duration": 964,
    "start_time": "2023-04-21T15:35:54.812Z"
   },
   {
    "duration": 39,
    "start_time": "2023-04-21T15:36:02.753Z"
   },
   {
    "duration": 32,
    "start_time": "2023-04-21T15:37:32.408Z"
   },
   {
    "duration": 336,
    "start_time": "2023-04-21T15:37:52.997Z"
   },
   {
    "duration": 304,
    "start_time": "2023-04-21T15:49:52.122Z"
   },
   {
    "duration": 19,
    "start_time": "2023-04-21T15:57:00.170Z"
   },
   {
    "duration": 60,
    "start_time": "2023-04-21T15:57:29.842Z"
   },
   {
    "duration": 23,
    "start_time": "2023-04-21T15:57:48.747Z"
   },
   {
    "duration": 657,
    "start_time": "2023-04-21T15:58:04.087Z"
   },
   {
    "duration": 1536,
    "start_time": "2023-04-21T15:59:01.782Z"
   },
   {
    "duration": 1011,
    "start_time": "2023-04-21T15:59:03.320Z"
   },
   {
    "duration": 126,
    "start_time": "2023-04-21T15:59:04.333Z"
   },
   {
    "duration": 3,
    "start_time": "2023-04-21T15:59:04.462Z"
   },
   {
    "duration": 52,
    "start_time": "2023-04-21T15:59:04.467Z"
   },
   {
    "duration": 111,
    "start_time": "2023-04-21T15:59:04.522Z"
   },
   {
    "duration": 198,
    "start_time": "2023-04-21T15:59:04.635Z"
   },
   {
    "duration": 391,
    "start_time": "2023-04-21T15:59:04.835Z"
   },
   {
    "duration": 14,
    "start_time": "2023-04-21T15:59:05.228Z"
   },
   {
    "duration": 36,
    "start_time": "2023-04-21T15:59:05.245Z"
   },
   {
    "duration": 336,
    "start_time": "2023-04-21T15:59:05.283Z"
   },
   {
    "duration": 54,
    "start_time": "2023-04-21T15:59:05.621Z"
   },
   {
    "duration": 26,
    "start_time": "2023-04-21T15:59:05.677Z"
   },
   {
    "duration": 499,
    "start_time": "2023-04-21T15:59:05.705Z"
   },
   {
    "duration": 1438,
    "start_time": "2023-04-21T15:59:12.080Z"
   },
   {
    "duration": 16,
    "start_time": "2023-04-21T16:41:01.141Z"
   },
   {
    "duration": 11,
    "start_time": "2023-04-21T16:41:29.172Z"
   },
   {
    "duration": 1381,
    "start_time": "2023-04-21T16:41:36.447Z"
   },
   {
    "duration": 14,
    "start_time": "2023-04-21T16:43:02.221Z"
   },
   {
    "duration": 1595,
    "start_time": "2023-04-22T08:29:04.715Z"
   },
   {
    "duration": 2898,
    "start_time": "2023-04-22T08:29:06.312Z"
   },
   {
    "duration": 112,
    "start_time": "2023-04-22T08:29:09.211Z"
   },
   {
    "duration": 3,
    "start_time": "2023-04-22T08:29:09.324Z"
   },
   {
    "duration": 14,
    "start_time": "2023-04-22T08:29:09.329Z"
   },
   {
    "duration": 101,
    "start_time": "2023-04-22T08:29:09.345Z"
   },
   {
    "duration": 173,
    "start_time": "2023-04-22T08:29:09.448Z"
   },
   {
    "duration": 300,
    "start_time": "2023-04-22T08:29:09.622Z"
   },
   {
    "duration": 5,
    "start_time": "2023-04-22T08:29:09.923Z"
   },
   {
    "duration": 10,
    "start_time": "2023-04-22T08:29:09.930Z"
   },
   {
    "duration": 303,
    "start_time": "2023-04-22T08:29:09.942Z"
   },
   {
    "duration": 37,
    "start_time": "2023-04-22T08:29:10.247Z"
   },
   {
    "duration": 28,
    "start_time": "2023-04-22T08:29:10.285Z"
   },
   {
    "duration": 321,
    "start_time": "2023-04-22T08:29:10.316Z"
   },
   {
    "duration": 1356,
    "start_time": "2023-04-22T08:29:25.311Z"
   },
   {
    "duration": 9,
    "start_time": "2023-04-22T08:31:41.213Z"
   },
   {
    "duration": 1261,
    "start_time": "2023-04-22T08:32:06.924Z"
   },
   {
    "duration": 1329,
    "start_time": "2023-04-22T08:32:15.310Z"
   },
   {
    "duration": 1260,
    "start_time": "2023-04-22T08:32:21.312Z"
   },
   {
    "duration": 128,
    "start_time": "2023-04-22T08:32:56.569Z"
   },
   {
    "duration": 1311,
    "start_time": "2023-04-22T08:33:14.512Z"
   },
   {
    "duration": 57,
    "start_time": "2023-04-22T08:34:05.163Z"
   },
   {
    "duration": 13,
    "start_time": "2023-04-22T08:35:46.471Z"
   },
   {
    "duration": 11,
    "start_time": "2023-04-22T08:39:21.326Z"
   },
   {
    "duration": 16,
    "start_time": "2023-04-22T08:40:41.419Z"
   },
   {
    "duration": 15,
    "start_time": "2023-04-22T08:40:44.238Z"
   },
   {
    "duration": 6,
    "start_time": "2023-04-22T08:41:10.657Z"
   },
   {
    "duration": 6,
    "start_time": "2023-04-22T08:41:32.072Z"
   },
   {
    "duration": 6,
    "start_time": "2023-04-22T08:41:40.352Z"
   },
   {
    "duration": 1412,
    "start_time": "2023-04-22T08:50:11.637Z"
   },
   {
    "duration": 792,
    "start_time": "2023-04-22T08:50:13.051Z"
   },
   {
    "duration": 124,
    "start_time": "2023-04-22T08:50:13.844Z"
   },
   {
    "duration": 4,
    "start_time": "2023-04-22T08:50:13.970Z"
   },
   {
    "duration": 27,
    "start_time": "2023-04-22T08:50:13.975Z"
   },
   {
    "duration": 104,
    "start_time": "2023-04-22T08:50:14.004Z"
   },
   {
    "duration": 205,
    "start_time": "2023-04-22T08:50:14.112Z"
   },
   {
    "duration": 329,
    "start_time": "2023-04-22T08:50:14.319Z"
   },
   {
    "duration": 5,
    "start_time": "2023-04-22T08:50:14.650Z"
   },
   {
    "duration": 16,
    "start_time": "2023-04-22T08:50:14.658Z"
   },
   {
    "duration": 343,
    "start_time": "2023-04-22T08:50:14.676Z"
   },
   {
    "duration": 42,
    "start_time": "2023-04-22T08:50:15.021Z"
   },
   {
    "duration": 46,
    "start_time": "2023-04-22T08:50:15.065Z"
   },
   {
    "duration": 361,
    "start_time": "2023-04-22T08:50:15.113Z"
   },
   {
    "duration": 123,
    "start_time": "2023-04-22T08:50:18.971Z"
   },
   {
    "duration": 1416,
    "start_time": "2023-04-22T08:51:23.716Z"
   },
   {
    "duration": 11,
    "start_time": "2023-04-22T08:57:14.235Z"
   },
   {
    "duration": 10,
    "start_time": "2023-04-22T08:57:33.924Z"
   },
   {
    "duration": 12,
    "start_time": "2023-04-22T08:57:42.569Z"
   },
   {
    "duration": 11,
    "start_time": "2023-04-22T08:57:55.061Z"
   },
   {
    "duration": 34,
    "start_time": "2023-04-22T08:58:13.421Z"
   },
   {
    "duration": 38,
    "start_time": "2023-04-22T08:58:22.771Z"
   },
   {
    "duration": 33,
    "start_time": "2023-04-22T08:58:59.061Z"
   },
   {
    "duration": 1458,
    "start_time": "2023-04-22T09:03:25.692Z"
   },
   {
    "duration": 788,
    "start_time": "2023-04-22T09:03:27.153Z"
   },
   {
    "duration": 168,
    "start_time": "2023-04-22T09:03:27.945Z"
   },
   {
    "duration": 3,
    "start_time": "2023-04-22T09:03:28.116Z"
   },
   {
    "duration": 17,
    "start_time": "2023-04-22T09:03:28.120Z"
   },
   {
    "duration": 165,
    "start_time": "2023-04-22T09:03:28.138Z"
   },
   {
    "duration": 157,
    "start_time": "2023-04-22T09:03:28.310Z"
   },
   {
    "duration": 316,
    "start_time": "2023-04-22T09:03:28.469Z"
   },
   {
    "duration": 12,
    "start_time": "2023-04-22T09:03:28.787Z"
   },
   {
    "duration": 25,
    "start_time": "2023-04-22T09:03:28.801Z"
   },
   {
    "duration": 304,
    "start_time": "2023-04-22T09:03:28.828Z"
   },
   {
    "duration": 38,
    "start_time": "2023-04-22T09:03:29.133Z"
   },
   {
    "duration": 28,
    "start_time": "2023-04-22T09:03:29.173Z"
   },
   {
    "duration": 348,
    "start_time": "2023-04-22T09:03:29.203Z"
   },
   {
    "duration": 5,
    "start_time": "2023-04-22T09:04:31.566Z"
   },
   {
    "duration": 4,
    "start_time": "2023-04-22T09:04:39.366Z"
   },
   {
    "duration": 11,
    "start_time": "2023-04-22T09:05:04.835Z"
   },
   {
    "duration": 173,
    "start_time": "2023-04-22T09:05:19.762Z"
   },
   {
    "duration": 297,
    "start_time": "2023-04-22T09:05:45.739Z"
   },
   {
    "duration": 211,
    "start_time": "2023-04-22T09:07:22.852Z"
   },
   {
    "duration": 1894,
    "start_time": "2023-04-22T09:08:10.023Z"
   },
   {
    "duration": 149,
    "start_time": "2023-04-22T09:08:21.083Z"
   },
   {
    "duration": 148,
    "start_time": "2023-04-22T09:08:28.620Z"
   },
   {
    "duration": 131,
    "start_time": "2023-04-22T09:08:41.832Z"
   },
   {
    "duration": 109,
    "start_time": "2023-04-22T09:08:56.079Z"
   },
   {
    "duration": 162,
    "start_time": "2023-04-22T09:09:24.220Z"
   },
   {
    "duration": 144,
    "start_time": "2023-04-22T09:09:59.591Z"
   },
   {
    "duration": 136,
    "start_time": "2023-04-22T09:10:05.136Z"
   },
   {
    "duration": 271,
    "start_time": "2023-04-22T09:10:12.983Z"
   },
   {
    "duration": 248,
    "start_time": "2023-04-22T09:10:30.320Z"
   },
   {
    "duration": 178,
    "start_time": "2023-04-22T09:10:44.178Z"
   },
   {
    "duration": 152,
    "start_time": "2023-04-22T09:11:06.068Z"
   },
   {
    "duration": 172,
    "start_time": "2023-04-22T09:11:23.436Z"
   },
   {
    "duration": 170,
    "start_time": "2023-04-22T09:11:39.196Z"
   },
   {
    "duration": 276,
    "start_time": "2023-04-22T09:12:11.890Z"
   },
   {
    "duration": 147,
    "start_time": "2023-04-22T09:12:42.665Z"
   },
   {
    "duration": 1622,
    "start_time": "2023-04-22T09:14:37.124Z"
   },
   {
    "duration": 201,
    "start_time": "2023-04-22T09:15:02.217Z"
   },
   {
    "duration": 120,
    "start_time": "2023-04-22T09:15:44.125Z"
   },
   {
    "duration": 172,
    "start_time": "2023-04-22T09:17:13.064Z"
   },
   {
    "duration": 187,
    "start_time": "2023-04-22T09:17:25.282Z"
   },
   {
    "duration": 98,
    "start_time": "2023-04-22T09:19:35.787Z"
   },
   {
    "duration": 51,
    "start_time": "2023-04-23T07:39:23.086Z"
   },
   {
    "duration": 1745,
    "start_time": "2023-04-23T07:39:30.692Z"
   },
   {
    "duration": 1171,
    "start_time": "2023-04-23T07:39:32.442Z"
   },
   {
    "duration": 144,
    "start_time": "2023-04-23T07:39:33.614Z"
   },
   {
    "duration": 4,
    "start_time": "2023-04-23T07:39:33.760Z"
   },
   {
    "duration": 30,
    "start_time": "2023-04-23T07:39:33.766Z"
   },
   {
    "duration": 113,
    "start_time": "2023-04-23T07:39:33.798Z"
   },
   {
    "duration": 186,
    "start_time": "2023-04-23T07:39:33.913Z"
   },
   {
    "duration": 397,
    "start_time": "2023-04-23T07:39:34.100Z"
   },
   {
    "duration": 5,
    "start_time": "2023-04-23T07:39:34.499Z"
   },
   {
    "duration": 22,
    "start_time": "2023-04-23T07:39:34.506Z"
   },
   {
    "duration": 358,
    "start_time": "2023-04-23T07:39:34.530Z"
   },
   {
    "duration": 42,
    "start_time": "2023-04-23T07:39:34.890Z"
   },
   {
    "duration": 115,
    "start_time": "2023-04-23T07:39:34.934Z"
   },
   {
    "duration": 406,
    "start_time": "2023-04-23T07:39:35.051Z"
   },
   {
    "duration": 1065,
    "start_time": "2023-04-23T07:39:35.459Z"
   },
   {
    "duration": 0,
    "start_time": "2023-04-23T07:39:36.526Z"
   },
   {
    "duration": 68,
    "start_time": "2023-04-23T07:44:45.118Z"
   },
   {
    "duration": 1317,
    "start_time": "2023-04-23T07:44:49.953Z"
   },
   {
    "duration": 1587,
    "start_time": "2023-04-23T07:48:48.150Z"
   },
   {
    "duration": 905,
    "start_time": "2023-04-23T07:48:49.739Z"
   },
   {
    "duration": 150,
    "start_time": "2023-04-23T07:48:50.645Z"
   },
   {
    "duration": 4,
    "start_time": "2023-04-23T07:48:50.797Z"
   },
   {
    "duration": 18,
    "start_time": "2023-04-23T07:48:50.803Z"
   },
   {
    "duration": 122,
    "start_time": "2023-04-23T07:48:50.823Z"
   },
   {
    "duration": 193,
    "start_time": "2023-04-23T07:48:50.947Z"
   },
   {
    "duration": 378,
    "start_time": "2023-04-23T07:48:51.142Z"
   },
   {
    "duration": 5,
    "start_time": "2023-04-23T07:48:51.522Z"
   },
   {
    "duration": 30,
    "start_time": "2023-04-23T07:48:51.529Z"
   },
   {
    "duration": 320,
    "start_time": "2023-04-23T07:48:51.561Z"
   },
   {
    "duration": 33,
    "start_time": "2023-04-23T07:48:51.887Z"
   },
   {
    "duration": 23,
    "start_time": "2023-04-23T07:48:51.922Z"
   },
   {
    "duration": 378,
    "start_time": "2023-04-23T07:48:51.947Z"
   },
   {
    "duration": 1437,
    "start_time": "2023-04-23T07:48:52.327Z"
   },
   {
    "duration": 1608,
    "start_time": "2023-04-23T07:50:01.639Z"
   },
   {
    "duration": 860,
    "start_time": "2023-04-23T07:50:03.250Z"
   },
   {
    "duration": 142,
    "start_time": "2023-04-23T07:50:04.112Z"
   },
   {
    "duration": 3,
    "start_time": "2023-04-23T07:50:04.256Z"
   },
   {
    "duration": 34,
    "start_time": "2023-04-23T07:50:04.261Z"
   },
   {
    "duration": 103,
    "start_time": "2023-04-23T07:50:04.296Z"
   },
   {
    "duration": 189,
    "start_time": "2023-04-23T07:50:04.400Z"
   },
   {
    "duration": 388,
    "start_time": "2023-04-23T07:50:04.591Z"
   },
   {
    "duration": 9,
    "start_time": "2023-04-23T07:50:04.981Z"
   },
   {
    "duration": 12,
    "start_time": "2023-04-23T07:50:04.992Z"
   },
   {
    "duration": 328,
    "start_time": "2023-04-23T07:50:05.005Z"
   },
   {
    "duration": 35,
    "start_time": "2023-04-23T07:50:05.335Z"
   },
   {
    "duration": 36,
    "start_time": "2023-04-23T07:50:05.371Z"
   },
   {
    "duration": 356,
    "start_time": "2023-04-23T07:50:05.409Z"
   },
   {
    "duration": 1637,
    "start_time": "2023-04-23T07:50:05.766Z"
   },
   {
    "duration": 1533,
    "start_time": "2023-04-23T07:52:10.865Z"
   },
   {
    "duration": 851,
    "start_time": "2023-04-23T07:52:12.400Z"
   },
   {
    "duration": 143,
    "start_time": "2023-04-23T07:52:13.252Z"
   },
   {
    "duration": 3,
    "start_time": "2023-04-23T07:52:13.398Z"
   },
   {
    "duration": 21,
    "start_time": "2023-04-23T07:52:13.402Z"
   },
   {
    "duration": 110,
    "start_time": "2023-04-23T07:52:13.425Z"
   },
   {
    "duration": 188,
    "start_time": "2023-04-23T07:52:13.537Z"
   },
   {
    "duration": 373,
    "start_time": "2023-04-23T07:52:13.726Z"
   },
   {
    "duration": 5,
    "start_time": "2023-04-23T07:52:14.101Z"
   },
   {
    "duration": 32,
    "start_time": "2023-04-23T07:52:14.108Z"
   },
   {
    "duration": 312,
    "start_time": "2023-04-23T07:52:14.142Z"
   },
   {
    "duration": 119,
    "start_time": "2023-04-23T07:52:17.398Z"
   },
   {
    "duration": 29,
    "start_time": "2023-04-23T07:52:45.382Z"
   },
   {
    "duration": 25,
    "start_time": "2023-04-23T07:52:53.291Z"
   },
   {
    "duration": 350,
    "start_time": "2023-04-23T07:52:55.522Z"
   },
   {
    "duration": 980,
    "start_time": "2023-04-23T07:53:05.372Z"
   },
   {
    "duration": 49,
    "start_time": "2023-04-23T07:54:12.460Z"
   },
   {
    "duration": 10,
    "start_time": "2023-04-23T07:54:19.934Z"
   },
   {
    "duration": 52,
    "start_time": "2023-04-23T07:54:51.161Z"
   },
   {
    "duration": 14,
    "start_time": "2023-04-23T07:54:56.262Z"
   },
   {
    "duration": 21,
    "start_time": "2023-04-23T07:55:18.282Z"
   },
   {
    "duration": 31,
    "start_time": "2023-04-23T07:55:47.175Z"
   },
   {
    "duration": 1471,
    "start_time": "2023-04-23T07:56:08.033Z"
   },
   {
    "duration": 891,
    "start_time": "2023-04-23T07:56:09.506Z"
   },
   {
    "duration": 165,
    "start_time": "2023-04-23T07:56:10.399Z"
   },
   {
    "duration": 4,
    "start_time": "2023-04-23T07:56:10.567Z"
   },
   {
    "duration": 30,
    "start_time": "2023-04-23T07:56:10.588Z"
   },
   {
    "duration": 114,
    "start_time": "2023-04-23T07:56:10.620Z"
   },
   {
    "duration": 191,
    "start_time": "2023-04-23T07:56:10.737Z"
   },
   {
    "duration": 376,
    "start_time": "2023-04-23T07:56:10.930Z"
   },
   {
    "duration": 5,
    "start_time": "2023-04-23T07:56:11.307Z"
   },
   {
    "duration": 15,
    "start_time": "2023-04-23T07:56:11.314Z"
   },
   {
    "duration": 321,
    "start_time": "2023-04-23T07:56:11.331Z"
   },
   {
    "duration": 39,
    "start_time": "2023-04-23T07:56:11.654Z"
   },
   {
    "duration": 35,
    "start_time": "2023-04-23T07:56:11.695Z"
   },
   {
    "duration": 382,
    "start_time": "2023-04-23T07:56:11.731Z"
   },
   {
    "duration": 976,
    "start_time": "2023-04-23T07:56:12.115Z"
   },
   {
    "duration": 0,
    "start_time": "2023-04-23T07:56:13.093Z"
   },
   {
    "duration": 0,
    "start_time": "2023-04-23T07:56:13.094Z"
   },
   {
    "duration": 8,
    "start_time": "2023-04-23T07:59:09.404Z"
   },
   {
    "duration": 259,
    "start_time": "2023-04-23T08:01:43.977Z"
   },
   {
    "duration": 300,
    "start_time": "2023-04-23T08:02:55.690Z"
   },
   {
    "duration": 85,
    "start_time": "2023-04-23T08:05:16.736Z"
   },
   {
    "duration": 297,
    "start_time": "2023-04-23T08:05:25.730Z"
   },
   {
    "duration": 298,
    "start_time": "2023-04-23T08:05:49.005Z"
   },
   {
    "duration": 977,
    "start_time": "2023-04-23T08:08:17.327Z"
   },
   {
    "duration": 12,
    "start_time": "2023-04-23T08:10:05.253Z"
   },
   {
    "duration": 18,
    "start_time": "2023-04-23T08:10:24.857Z"
   },
   {
    "duration": 13,
    "start_time": "2023-04-23T08:10:33.630Z"
   },
   {
    "duration": 23,
    "start_time": "2023-04-23T08:14:44.077Z"
   },
   {
    "duration": 387,
    "start_time": "2023-04-23T08:15:34.452Z"
   },
   {
    "duration": 286,
    "start_time": "2023-04-23T08:16:58.566Z"
   },
   {
    "duration": 303,
    "start_time": "2023-04-23T08:17:29.753Z"
   },
   {
    "duration": 279,
    "start_time": "2023-04-23T08:19:13.949Z"
   },
   {
    "duration": 271,
    "start_time": "2023-04-23T08:19:34.631Z"
   },
   {
    "duration": 424,
    "start_time": "2023-04-23T08:19:46.206Z"
   },
   {
    "duration": 51,
    "start_time": "2023-04-23T08:20:55.847Z"
   },
   {
    "duration": 1668,
    "start_time": "2023-04-23T08:21:00.538Z"
   },
   {
    "duration": 954,
    "start_time": "2023-04-23T08:21:02.209Z"
   },
   {
    "duration": 140,
    "start_time": "2023-04-23T08:21:03.164Z"
   },
   {
    "duration": 3,
    "start_time": "2023-04-23T08:21:03.307Z"
   },
   {
    "duration": 32,
    "start_time": "2023-04-23T08:21:03.311Z"
   },
   {
    "duration": 112,
    "start_time": "2023-04-23T08:21:03.346Z"
   },
   {
    "duration": 228,
    "start_time": "2023-04-23T08:21:03.460Z"
   },
   {
    "duration": 400,
    "start_time": "2023-04-23T08:21:03.689Z"
   },
   {
    "duration": 4,
    "start_time": "2023-04-23T08:21:04.090Z"
   },
   {
    "duration": 10,
    "start_time": "2023-04-23T08:21:04.097Z"
   },
   {
    "duration": 331,
    "start_time": "2023-04-23T08:21:04.109Z"
   },
   {
    "duration": 46,
    "start_time": "2023-04-23T08:21:04.442Z"
   },
   {
    "duration": 27,
    "start_time": "2023-04-23T08:21:04.490Z"
   },
   {
    "duration": 392,
    "start_time": "2023-04-23T08:21:04.519Z"
   },
   {
    "duration": 301,
    "start_time": "2023-04-23T08:21:04.913Z"
   },
   {
    "duration": 82,
    "start_time": "2023-04-23T08:21:05.216Z"
   },
   {
    "duration": 307,
    "start_time": "2023-04-23T08:21:08.040Z"
   },
   {
    "duration": 273,
    "start_time": "2023-04-23T08:21:31.852Z"
   },
   {
    "duration": 330,
    "start_time": "2023-04-23T08:22:06.394Z"
   },
   {
    "duration": 51,
    "start_time": "2023-04-23T08:23:02.170Z"
   },
   {
    "duration": 45,
    "start_time": "2023-04-23T08:26:02.641Z"
   },
   {
    "duration": 93,
    "start_time": "2023-04-23T08:26:33.449Z"
   },
   {
    "duration": 92,
    "start_time": "2023-04-23T08:31:37.028Z"
   },
   {
    "duration": 256,
    "start_time": "2023-04-23T08:44:10.656Z"
   },
   {
    "duration": 211,
    "start_time": "2023-04-23T08:48:08.577Z"
   },
   {
    "duration": 291,
    "start_time": "2023-04-23T08:48:24.265Z"
   },
   {
    "duration": 215,
    "start_time": "2023-04-23T08:49:08.418Z"
   },
   {
    "duration": 11,
    "start_time": "2023-04-23T08:49:28.394Z"
   },
   {
    "duration": 11,
    "start_time": "2023-04-23T08:51:09.453Z"
   },
   {
    "duration": 11,
    "start_time": "2023-04-23T08:51:26.707Z"
   },
   {
    "duration": 1767,
    "start_time": "2023-04-23T08:52:20.412Z"
   },
   {
    "duration": 908,
    "start_time": "2023-04-23T08:52:22.182Z"
   },
   {
    "duration": 151,
    "start_time": "2023-04-23T08:52:23.092Z"
   },
   {
    "duration": 3,
    "start_time": "2023-04-23T08:52:23.246Z"
   },
   {
    "duration": 21,
    "start_time": "2023-04-23T08:52:23.250Z"
   },
   {
    "duration": 119,
    "start_time": "2023-04-23T08:52:23.272Z"
   },
   {
    "duration": 197,
    "start_time": "2023-04-23T08:52:23.393Z"
   },
   {
    "duration": 388,
    "start_time": "2023-04-23T08:52:23.591Z"
   },
   {
    "duration": 8,
    "start_time": "2023-04-23T08:52:23.980Z"
   },
   {
    "duration": 22,
    "start_time": "2023-04-23T08:52:23.993Z"
   },
   {
    "duration": 323,
    "start_time": "2023-04-23T08:52:24.017Z"
   },
   {
    "duration": 52,
    "start_time": "2023-04-23T08:52:24.342Z"
   },
   {
    "duration": 22,
    "start_time": "2023-04-23T08:52:24.396Z"
   },
   {
    "duration": 373,
    "start_time": "2023-04-23T08:52:24.420Z"
   },
   {
    "duration": 304,
    "start_time": "2023-04-23T08:52:24.795Z"
   },
   {
    "duration": 75,
    "start_time": "2023-04-23T08:52:25.101Z"
   },
   {
    "duration": 313,
    "start_time": "2023-04-23T08:52:25.187Z"
   },
   {
    "duration": 14,
    "start_time": "2023-04-23T08:52:25.502Z"
   },
   {
    "duration": 292,
    "start_time": "2023-04-23T08:52:25.518Z"
   },
   {
    "duration": 315,
    "start_time": "2023-04-23T08:52:25.812Z"
   },
   {
    "duration": 59,
    "start_time": "2023-04-23T08:52:26.128Z"
   },
   {
    "duration": 99,
    "start_time": "2023-04-23T08:52:26.189Z"
   },
   {
    "duration": 210,
    "start_time": "2023-04-23T08:52:30.176Z"
   },
   {
    "duration": 124,
    "start_time": "2023-04-23T08:52:37.883Z"
   },
   {
    "duration": 1491,
    "start_time": "2023-04-23T08:53:07.223Z"
   },
   {
    "duration": 905,
    "start_time": "2023-04-23T08:53:08.716Z"
   },
   {
    "duration": 143,
    "start_time": "2023-04-23T08:53:09.623Z"
   },
   {
    "duration": 4,
    "start_time": "2023-04-23T08:53:09.769Z"
   },
   {
    "duration": 15,
    "start_time": "2023-04-23T08:53:09.787Z"
   },
   {
    "duration": 120,
    "start_time": "2023-04-23T08:53:09.804Z"
   },
   {
    "duration": 200,
    "start_time": "2023-04-23T08:53:09.925Z"
   },
   {
    "duration": 451,
    "start_time": "2023-04-23T08:53:10.127Z"
   },
   {
    "duration": 8,
    "start_time": "2023-04-23T08:53:10.580Z"
   },
   {
    "duration": 34,
    "start_time": "2023-04-23T08:53:10.592Z"
   },
   {
    "duration": 357,
    "start_time": "2023-04-23T08:53:10.629Z"
   },
   {
    "duration": 35,
    "start_time": "2023-04-23T08:53:10.987Z"
   },
   {
    "duration": 25,
    "start_time": "2023-04-23T08:53:11.024Z"
   },
   {
    "duration": 392,
    "start_time": "2023-04-23T08:53:11.051Z"
   },
   {
    "duration": 301,
    "start_time": "2023-04-23T08:53:11.444Z"
   },
   {
    "duration": 75,
    "start_time": "2023-04-23T08:53:11.747Z"
   },
   {
    "duration": 323,
    "start_time": "2023-04-23T08:53:11.824Z"
   },
   {
    "duration": 13,
    "start_time": "2023-04-23T08:53:12.149Z"
   },
   {
    "duration": 297,
    "start_time": "2023-04-23T08:53:12.164Z"
   },
   {
    "duration": 326,
    "start_time": "2023-04-23T08:53:12.463Z"
   },
   {
    "duration": 56,
    "start_time": "2023-04-23T08:53:12.791Z"
   },
   {
    "duration": 122,
    "start_time": "2023-04-23T08:55:04.253Z"
   },
   {
    "duration": 10,
    "start_time": "2023-04-23T08:55:34.104Z"
   },
   {
    "duration": 28,
    "start_time": "2023-04-23T08:55:48.699Z"
   },
   {
    "duration": 23,
    "start_time": "2023-04-23T08:56:19.496Z"
   },
   {
    "duration": 24,
    "start_time": "2023-04-23T09:00:52.338Z"
   },
   {
    "duration": 52,
    "start_time": "2023-04-23T09:01:15.371Z"
   },
   {
    "duration": 46,
    "start_time": "2023-04-23T09:01:34.242Z"
   },
   {
    "duration": 1556,
    "start_time": "2023-04-23T09:05:36.473Z"
   },
   {
    "duration": 893,
    "start_time": "2023-04-23T09:05:38.031Z"
   },
   {
    "duration": 141,
    "start_time": "2023-04-23T09:05:38.926Z"
   },
   {
    "duration": 4,
    "start_time": "2023-04-23T09:05:39.069Z"
   },
   {
    "duration": 25,
    "start_time": "2023-04-23T09:05:39.074Z"
   },
   {
    "duration": 117,
    "start_time": "2023-04-23T09:05:39.101Z"
   },
   {
    "duration": 192,
    "start_time": "2023-04-23T09:05:39.220Z"
   },
   {
    "duration": 387,
    "start_time": "2023-04-23T09:05:39.414Z"
   },
   {
    "duration": 4,
    "start_time": "2023-04-23T09:05:39.803Z"
   },
   {
    "duration": 11,
    "start_time": "2023-04-23T09:05:39.810Z"
   },
   {
    "duration": 341,
    "start_time": "2023-04-23T09:05:39.823Z"
   },
   {
    "duration": 44,
    "start_time": "2023-04-23T09:05:40.165Z"
   },
   {
    "duration": 28,
    "start_time": "2023-04-23T09:05:40.211Z"
   },
   {
    "duration": 440,
    "start_time": "2023-04-23T09:05:40.241Z"
   },
   {
    "duration": 325,
    "start_time": "2023-04-23T09:05:40.687Z"
   },
   {
    "duration": 76,
    "start_time": "2023-04-23T09:05:41.014Z"
   },
   {
    "duration": 351,
    "start_time": "2023-04-23T09:05:41.092Z"
   },
   {
    "duration": 16,
    "start_time": "2023-04-23T09:05:41.445Z"
   },
   {
    "duration": 315,
    "start_time": "2023-04-23T09:05:41.463Z"
   },
   {
    "duration": 321,
    "start_time": "2023-04-23T09:05:41.779Z"
   },
   {
    "duration": 48,
    "start_time": "2023-04-23T09:05:42.102Z"
   },
   {
    "duration": 118,
    "start_time": "2023-04-23T09:05:57.875Z"
   },
   {
    "duration": 383,
    "start_time": "2023-04-23T09:06:06.223Z"
   },
   {
    "duration": 245,
    "start_time": "2023-04-23T09:06:46.691Z"
   },
   {
    "duration": 213,
    "start_time": "2023-04-23T09:07:55.817Z"
   },
   {
    "duration": 215,
    "start_time": "2023-04-23T09:08:02.013Z"
   },
   {
    "duration": 1510,
    "start_time": "2023-04-23T09:08:48.305Z"
   },
   {
    "duration": 962,
    "start_time": "2023-04-23T09:08:49.817Z"
   },
   {
    "duration": 162,
    "start_time": "2023-04-23T09:08:50.781Z"
   },
   {
    "duration": 4,
    "start_time": "2023-04-23T09:08:50.945Z"
   },
   {
    "duration": 25,
    "start_time": "2023-04-23T09:08:50.950Z"
   },
   {
    "duration": 128,
    "start_time": "2023-04-23T09:08:50.977Z"
   },
   {
    "duration": 208,
    "start_time": "2023-04-23T09:08:51.108Z"
   },
   {
    "duration": 394,
    "start_time": "2023-04-23T09:08:51.318Z"
   },
   {
    "duration": 5,
    "start_time": "2023-04-23T09:08:51.714Z"
   },
   {
    "duration": 32,
    "start_time": "2023-04-23T09:08:51.721Z"
   },
   {
    "duration": 313,
    "start_time": "2023-04-23T09:08:51.755Z"
   },
   {
    "duration": 47,
    "start_time": "2023-04-23T09:08:52.070Z"
   },
   {
    "duration": 30,
    "start_time": "2023-04-23T09:08:52.119Z"
   },
   {
    "duration": 379,
    "start_time": "2023-04-23T09:08:52.151Z"
   },
   {
    "duration": 323,
    "start_time": "2023-04-23T09:08:52.532Z"
   },
   {
    "duration": 76,
    "start_time": "2023-04-23T09:08:52.857Z"
   },
   {
    "duration": 339,
    "start_time": "2023-04-23T09:08:52.935Z"
   },
   {
    "duration": 21,
    "start_time": "2023-04-23T09:08:53.276Z"
   },
   {
    "duration": 298,
    "start_time": "2023-04-23T09:08:53.298Z"
   },
   {
    "duration": 325,
    "start_time": "2023-04-23T09:08:53.598Z"
   },
   {
    "duration": 62,
    "start_time": "2023-04-23T09:08:53.925Z"
   },
   {
    "duration": 24,
    "start_time": "2023-04-23T09:08:53.989Z"
   },
   {
    "duration": 31,
    "start_time": "2023-04-23T09:08:54.015Z"
   },
   {
    "duration": 25,
    "start_time": "2023-04-23T09:08:54.048Z"
   },
   {
    "duration": 46,
    "start_time": "2023-04-23T09:09:00.002Z"
   },
   {
    "duration": 24,
    "start_time": "2023-04-23T09:11:18.867Z"
   },
   {
    "duration": 128,
    "start_time": "2023-04-23T09:18:14.414Z"
   },
   {
    "duration": 54,
    "start_time": "2023-04-23T09:18:20.651Z"
   },
   {
    "duration": 78,
    "start_time": "2023-04-23T09:18:27.571Z"
   },
   {
    "duration": 11,
    "start_time": "2023-04-23T09:19:09.482Z"
   },
   {
    "duration": 11,
    "start_time": "2023-04-23T09:19:14.208Z"
   },
   {
    "duration": 36,
    "start_time": "2023-04-23T09:19:30.244Z"
   },
   {
    "duration": 1716,
    "start_time": "2023-04-23T09:22:46.920Z"
   },
   {
    "duration": 1541,
    "start_time": "2023-04-23T09:24:26.610Z"
   },
   {
    "duration": 903,
    "start_time": "2023-04-23T09:24:28.153Z"
   },
   {
    "duration": 178,
    "start_time": "2023-04-23T09:24:29.057Z"
   },
   {
    "duration": 4,
    "start_time": "2023-04-23T09:24:29.237Z"
   },
   {
    "duration": 18,
    "start_time": "2023-04-23T09:24:29.242Z"
   },
   {
    "duration": 118,
    "start_time": "2023-04-23T09:24:29.262Z"
   },
   {
    "duration": 185,
    "start_time": "2023-04-23T09:24:29.382Z"
   },
   {
    "duration": 374,
    "start_time": "2023-04-23T09:24:29.569Z"
   },
   {
    "duration": 5,
    "start_time": "2023-04-23T09:24:29.945Z"
   },
   {
    "duration": 12,
    "start_time": "2023-04-23T09:24:29.953Z"
   },
   {
    "duration": 343,
    "start_time": "2023-04-23T09:24:29.967Z"
   },
   {
    "duration": 33,
    "start_time": "2023-04-23T09:24:30.312Z"
   },
   {
    "duration": 42,
    "start_time": "2023-04-23T09:24:30.347Z"
   },
   {
    "duration": 496,
    "start_time": "2023-04-23T09:24:30.391Z"
   },
   {
    "duration": 324,
    "start_time": "2023-04-23T09:24:30.889Z"
   },
   {
    "duration": 92,
    "start_time": "2023-04-23T09:24:31.215Z"
   },
   {
    "duration": 348,
    "start_time": "2023-04-23T09:24:31.309Z"
   },
   {
    "duration": 14,
    "start_time": "2023-04-23T09:24:31.659Z"
   },
   {
    "duration": 320,
    "start_time": "2023-04-23T09:24:31.675Z"
   },
   {
    "duration": 334,
    "start_time": "2023-04-23T09:24:31.997Z"
   },
   {
    "duration": 61,
    "start_time": "2023-04-23T09:24:32.333Z"
   },
   {
    "duration": 24,
    "start_time": "2023-04-23T09:24:32.396Z"
   },
   {
    "duration": 45,
    "start_time": "2023-04-23T09:24:32.422Z"
   },
   {
    "duration": 55,
    "start_time": "2023-04-23T09:24:32.471Z"
   },
   {
    "duration": 56,
    "start_time": "2023-04-23T09:24:32.528Z"
   },
   {
    "duration": 60,
    "start_time": "2023-04-23T09:24:32.586Z"
   },
   {
    "duration": 87,
    "start_time": "2023-04-23T09:24:32.648Z"
   },
   {
    "duration": 2451,
    "start_time": "2023-04-23T09:24:37.051Z"
   },
   {
    "duration": 1793,
    "start_time": "2023-04-23T09:25:48.709Z"
   },
   {
    "duration": 1777,
    "start_time": "2023-04-23T09:26:43.673Z"
   },
   {
    "duration": 1594,
    "start_time": "2023-04-23T09:27:04.653Z"
   },
   {
    "duration": 957,
    "start_time": "2023-04-23T09:27:06.249Z"
   },
   {
    "duration": 158,
    "start_time": "2023-04-23T09:27:07.208Z"
   },
   {
    "duration": 3,
    "start_time": "2023-04-23T09:27:07.369Z"
   },
   {
    "duration": 15,
    "start_time": "2023-04-23T09:27:07.388Z"
   },
   {
    "duration": 121,
    "start_time": "2023-04-23T09:27:07.405Z"
   },
   {
    "duration": 202,
    "start_time": "2023-04-23T09:27:07.529Z"
   },
   {
    "duration": 376,
    "start_time": "2023-04-23T09:27:07.733Z"
   },
   {
    "duration": 5,
    "start_time": "2023-04-23T09:27:08.110Z"
   },
   {
    "duration": 16,
    "start_time": "2023-04-23T09:27:08.118Z"
   },
   {
    "duration": 344,
    "start_time": "2023-04-23T09:27:08.136Z"
   },
   {
    "duration": 43,
    "start_time": "2023-04-23T09:27:08.482Z"
   },
   {
    "duration": 23,
    "start_time": "2023-04-23T09:27:08.527Z"
   },
   {
    "duration": 405,
    "start_time": "2023-04-23T09:27:08.551Z"
   },
   {
    "duration": 303,
    "start_time": "2023-04-23T09:27:08.957Z"
   },
   {
    "duration": 82,
    "start_time": "2023-04-23T09:27:09.262Z"
   },
   {
    "duration": 349,
    "start_time": "2023-04-23T09:27:09.348Z"
   },
   {
    "duration": 14,
    "start_time": "2023-04-23T09:27:09.699Z"
   },
   {
    "duration": 298,
    "start_time": "2023-04-23T09:27:09.715Z"
   },
   {
    "duration": 327,
    "start_time": "2023-04-23T09:27:10.015Z"
   },
   {
    "duration": 80,
    "start_time": "2023-04-23T09:27:10.343Z"
   },
   {
    "duration": 42,
    "start_time": "2023-04-23T09:27:10.426Z"
   },
   {
    "duration": 69,
    "start_time": "2023-04-23T09:27:10.470Z"
   },
   {
    "duration": 54,
    "start_time": "2023-04-23T09:27:10.542Z"
   },
   {
    "duration": 60,
    "start_time": "2023-04-23T09:27:10.601Z"
   },
   {
    "duration": 46,
    "start_time": "2023-04-23T09:27:10.664Z"
   },
   {
    "duration": 107,
    "start_time": "2023-04-23T09:27:10.713Z"
   },
   {
    "duration": 1728,
    "start_time": "2023-04-23T09:27:10.823Z"
   },
   {
    "duration": 88,
    "start_time": "2023-04-23T09:28:26.212Z"
   },
   {
    "duration": 1742,
    "start_time": "2023-04-23T09:29:58.682Z"
   },
   {
    "duration": 1740,
    "start_time": "2023-04-23T09:30:17.609Z"
   },
   {
    "duration": 38,
    "start_time": "2023-04-23T09:31:36.544Z"
   },
   {
    "duration": 10,
    "start_time": "2023-04-23T09:38:22.674Z"
   },
   {
    "duration": 76,
    "start_time": "2023-04-23T09:39:57.462Z"
   },
   {
    "duration": 172,
    "start_time": "2023-04-23T09:46:01.723Z"
   },
   {
    "duration": 10,
    "start_time": "2023-04-23T09:49:13.105Z"
   },
   {
    "duration": 67,
    "start_time": "2023-04-23T09:50:52.742Z"
   },
   {
    "duration": 1529,
    "start_time": "2023-04-23T09:50:56.577Z"
   },
   {
    "duration": 967,
    "start_time": "2023-04-23T09:50:58.110Z"
   },
   {
    "duration": 170,
    "start_time": "2023-04-23T09:50:59.079Z"
   },
   {
    "duration": 5,
    "start_time": "2023-04-23T09:50:59.252Z"
   },
   {
    "duration": 40,
    "start_time": "2023-04-23T09:50:59.260Z"
   },
   {
    "duration": 135,
    "start_time": "2023-04-23T09:50:59.303Z"
   },
   {
    "duration": 250,
    "start_time": "2023-04-23T09:50:59.440Z"
   },
   {
    "duration": 400,
    "start_time": "2023-04-23T09:50:59.692Z"
   },
   {
    "duration": 5,
    "start_time": "2023-04-23T09:51:00.094Z"
   },
   {
    "duration": 31,
    "start_time": "2023-04-23T09:51:00.102Z"
   },
   {
    "duration": 349,
    "start_time": "2023-04-23T09:51:00.135Z"
   },
   {
    "duration": 51,
    "start_time": "2023-04-23T09:51:00.488Z"
   },
   {
    "duration": 28,
    "start_time": "2023-04-23T09:51:00.540Z"
   },
   {
    "duration": 423,
    "start_time": "2023-04-23T09:51:00.589Z"
   },
   {
    "duration": 330,
    "start_time": "2023-04-23T09:51:01.014Z"
   },
   {
    "duration": 83,
    "start_time": "2023-04-23T09:51:01.346Z"
   },
   {
    "duration": 344,
    "start_time": "2023-04-23T09:51:01.431Z"
   },
   {
    "duration": 22,
    "start_time": "2023-04-23T09:51:01.777Z"
   },
   {
    "duration": 367,
    "start_time": "2023-04-23T09:51:01.801Z"
   },
   {
    "duration": 330,
    "start_time": "2023-04-23T09:51:02.170Z"
   },
   {
    "duration": 51,
    "start_time": "2023-04-23T09:51:02.502Z"
   },
   {
    "duration": 51,
    "start_time": "2023-04-23T09:51:02.555Z"
   },
   {
    "duration": 71,
    "start_time": "2023-04-23T09:51:02.609Z"
   },
   {
    "duration": 41,
    "start_time": "2023-04-23T09:51:02.682Z"
   },
   {
    "duration": 61,
    "start_time": "2023-04-23T09:51:02.725Z"
   },
   {
    "duration": 97,
    "start_time": "2023-04-23T09:51:02.789Z"
   },
   {
    "duration": 116,
    "start_time": "2023-04-23T09:51:02.888Z"
   },
   {
    "duration": 1790,
    "start_time": "2023-04-23T09:51:12.154Z"
   },
   {
    "duration": 1685,
    "start_time": "2023-04-23T09:54:12.238Z"
   },
   {
    "duration": 1689,
    "start_time": "2023-04-23T09:54:40.366Z"
   },
   {
    "duration": 948,
    "start_time": "2023-04-23T09:54:42.058Z"
   },
   {
    "duration": 154,
    "start_time": "2023-04-23T09:54:43.007Z"
   },
   {
    "duration": 3,
    "start_time": "2023-04-23T09:54:43.164Z"
   },
   {
    "duration": 30,
    "start_time": "2023-04-23T09:54:43.169Z"
   },
   {
    "duration": 117,
    "start_time": "2023-04-23T09:54:43.201Z"
   },
   {
    "duration": 203,
    "start_time": "2023-04-23T09:54:43.319Z"
   },
   {
    "duration": 388,
    "start_time": "2023-04-23T09:54:43.524Z"
   },
   {
    "duration": 9,
    "start_time": "2023-04-23T09:54:43.914Z"
   },
   {
    "duration": 23,
    "start_time": "2023-04-23T09:54:43.927Z"
   },
   {
    "duration": 339,
    "start_time": "2023-04-23T09:54:43.952Z"
   },
   {
    "duration": 43,
    "start_time": "2023-04-23T09:54:44.293Z"
   },
   {
    "duration": 24,
    "start_time": "2023-04-23T09:54:44.338Z"
   },
   {
    "duration": 395,
    "start_time": "2023-04-23T09:54:44.364Z"
   },
   {
    "duration": 339,
    "start_time": "2023-04-23T09:54:44.761Z"
   },
   {
    "duration": 88,
    "start_time": "2023-04-23T09:54:45.102Z"
   },
   {
    "duration": 338,
    "start_time": "2023-04-23T09:54:45.193Z"
   },
   {
    "duration": 14,
    "start_time": "2023-04-23T09:54:45.533Z"
   },
   {
    "duration": 304,
    "start_time": "2023-04-23T09:54:45.549Z"
   },
   {
    "duration": 342,
    "start_time": "2023-04-23T09:54:45.855Z"
   },
   {
    "duration": 50,
    "start_time": "2023-04-23T09:54:46.198Z"
   },
   {
    "duration": 37,
    "start_time": "2023-04-23T09:54:46.251Z"
   },
   {
    "duration": 23,
    "start_time": "2023-04-23T09:54:46.290Z"
   },
   {
    "duration": 24,
    "start_time": "2023-04-23T09:54:46.316Z"
   },
   {
    "duration": 67,
    "start_time": "2023-04-23T09:54:46.342Z"
   },
   {
    "duration": 26,
    "start_time": "2023-04-23T09:54:46.411Z"
   },
   {
    "duration": 136,
    "start_time": "2023-04-23T09:54:46.440Z"
   },
   {
    "duration": 1080,
    "start_time": "2023-04-23T09:54:50.076Z"
   },
   {
    "duration": 1051,
    "start_time": "2023-04-23T09:55:14.978Z"
   },
   {
    "duration": 1640,
    "start_time": "2023-04-23T09:58:20.241Z"
   },
   {
    "duration": 972,
    "start_time": "2023-04-23T09:58:21.883Z"
   },
   {
    "duration": 146,
    "start_time": "2023-04-23T09:58:22.856Z"
   },
   {
    "duration": 4,
    "start_time": "2023-04-23T09:58:23.004Z"
   },
   {
    "duration": 26,
    "start_time": "2023-04-23T09:58:23.010Z"
   },
   {
    "duration": 140,
    "start_time": "2023-04-23T09:58:23.039Z"
   },
   {
    "duration": 195,
    "start_time": "2023-04-23T09:58:23.181Z"
   },
   {
    "duration": 391,
    "start_time": "2023-04-23T09:58:23.378Z"
   },
   {
    "duration": 5,
    "start_time": "2023-04-23T09:58:23.771Z"
   },
   {
    "duration": 11,
    "start_time": "2023-04-23T09:58:23.788Z"
   },
   {
    "duration": 358,
    "start_time": "2023-04-23T09:58:23.801Z"
   },
   {
    "duration": 41,
    "start_time": "2023-04-23T09:58:24.161Z"
   },
   {
    "duration": 26,
    "start_time": "2023-04-23T09:58:24.204Z"
   },
   {
    "duration": 391,
    "start_time": "2023-04-23T09:58:24.231Z"
   },
   {
    "duration": 323,
    "start_time": "2023-04-23T09:58:24.624Z"
   },
   {
    "duration": 82,
    "start_time": "2023-04-23T09:58:24.948Z"
   },
   {
    "duration": 339,
    "start_time": "2023-04-23T09:58:25.032Z"
   },
   {
    "duration": 26,
    "start_time": "2023-04-23T09:58:25.372Z"
   },
   {
    "duration": 281,
    "start_time": "2023-04-23T09:58:25.399Z"
   },
   {
    "duration": 334,
    "start_time": "2023-04-23T09:58:25.682Z"
   },
   {
    "duration": 48,
    "start_time": "2023-04-23T09:58:26.018Z"
   },
   {
    "duration": 41,
    "start_time": "2023-04-23T09:58:26.068Z"
   },
   {
    "duration": 28,
    "start_time": "2023-04-23T09:58:26.111Z"
   },
   {
    "duration": 23,
    "start_time": "2023-04-23T09:58:26.142Z"
   },
   {
    "duration": 64,
    "start_time": "2023-04-23T09:58:26.167Z"
   },
   {
    "duration": 30,
    "start_time": "2023-04-23T09:58:26.233Z"
   },
   {
    "duration": 73,
    "start_time": "2023-04-23T09:58:29.349Z"
   },
   {
    "duration": 2704,
    "start_time": "2023-04-23T09:58:36.523Z"
   },
   {
    "duration": 87,
    "start_time": "2023-04-23T10:00:10.017Z"
   },
   {
    "duration": 2921,
    "start_time": "2023-04-23T10:00:21.120Z"
   },
   {
    "duration": 52,
    "start_time": "2023-04-23T10:00:28.526Z"
   },
   {
    "duration": 15,
    "start_time": "2023-04-23T10:00:32.426Z"
   },
   {
    "duration": 12,
    "start_time": "2023-04-23T10:01:44.935Z"
   },
   {
    "duration": 100,
    "start_time": "2023-04-23T10:02:16.729Z"
   },
   {
    "duration": 53224,
    "start_time": "2023-04-23T10:02:26.084Z"
   },
   {
    "duration": 264,
    "start_time": "2023-04-23T10:12:32.229Z"
   },
   {
    "duration": 56679,
    "start_time": "2023-04-23T10:14:34.114Z"
   },
   {
    "duration": 98,
    "start_time": "2023-04-23T10:20:27.455Z"
   },
   {
    "duration": 661,
    "start_time": "2023-04-23T10:37:38.247Z"
   },
   {
    "duration": 441,
    "start_time": "2023-04-23T10:38:03.454Z"
   },
   {
    "duration": 428,
    "start_time": "2023-04-23T10:38:19.352Z"
   },
   {
    "duration": 2362,
    "start_time": "2023-04-23T10:38:23.643Z"
   },
   {
    "duration": 436,
    "start_time": "2023-04-23T10:39:07.925Z"
   },
   {
    "duration": 470,
    "start_time": "2023-04-23T10:39:26.281Z"
   },
   {
    "duration": 424,
    "start_time": "2023-04-23T10:39:51.613Z"
   },
   {
    "duration": 58257,
    "start_time": "2023-04-23T10:39:59.997Z"
   },
   {
    "duration": 2449,
    "start_time": "2023-04-23T10:41:25.443Z"
   },
   {
    "duration": 5,
    "start_time": "2023-04-23T10:43:41.613Z"
   },
   {
    "duration": 5,
    "start_time": "2023-04-23T10:44:37.441Z"
   },
   {
    "duration": 1509,
    "start_time": "2023-04-23T10:53:47.510Z"
   },
   {
    "duration": 914,
    "start_time": "2023-04-23T10:53:49.022Z"
   },
   {
    "duration": 152,
    "start_time": "2023-04-23T10:53:49.938Z"
   },
   {
    "duration": 4,
    "start_time": "2023-04-23T10:53:50.091Z"
   },
   {
    "duration": 42,
    "start_time": "2023-04-23T10:53:50.097Z"
   },
   {
    "duration": 109,
    "start_time": "2023-04-23T10:53:50.141Z"
   },
   {
    "duration": 230,
    "start_time": "2023-04-23T10:53:50.252Z"
   },
   {
    "duration": 425,
    "start_time": "2023-04-23T10:53:50.484Z"
   },
   {
    "duration": 5,
    "start_time": "2023-04-23T10:53:50.911Z"
   },
   {
    "duration": 50,
    "start_time": "2023-04-23T10:53:50.918Z"
   },
   {
    "duration": 347,
    "start_time": "2023-04-23T10:53:50.969Z"
   },
   {
    "duration": 41,
    "start_time": "2023-04-23T10:53:51.318Z"
   },
   {
    "duration": 37,
    "start_time": "2023-04-23T10:53:51.360Z"
   },
   {
    "duration": 369,
    "start_time": "2023-04-23T10:53:51.400Z"
   },
   {
    "duration": 305,
    "start_time": "2023-04-23T10:53:51.772Z"
   },
   {
    "duration": 76,
    "start_time": "2023-04-23T10:53:52.079Z"
   },
   {
    "duration": 338,
    "start_time": "2023-04-23T10:53:52.157Z"
   },
   {
    "duration": 14,
    "start_time": "2023-04-23T10:53:52.497Z"
   },
   {
    "duration": 301,
    "start_time": "2023-04-23T10:53:52.513Z"
   },
   {
    "duration": 337,
    "start_time": "2023-04-23T10:53:52.816Z"
   },
   {
    "duration": 56,
    "start_time": "2023-04-23T10:53:53.155Z"
   },
   {
    "duration": 24,
    "start_time": "2023-04-23T10:53:53.213Z"
   },
   {
    "duration": 39,
    "start_time": "2023-04-23T10:53:53.239Z"
   },
   {
    "duration": 23,
    "start_time": "2023-04-23T10:53:53.288Z"
   },
   {
    "duration": 47,
    "start_time": "2023-04-23T10:53:53.313Z"
   },
   {
    "duration": 44,
    "start_time": "2023-04-23T10:53:53.362Z"
   },
   {
    "duration": 82,
    "start_time": "2023-04-23T10:53:53.407Z"
   },
   {
    "duration": 2602,
    "start_time": "2023-04-23T10:53:53.491Z"
   },
   {
    "duration": 70,
    "start_time": "2023-04-23T10:53:56.094Z"
   },
   {
    "duration": 2624,
    "start_time": "2023-04-23T10:53:56.166Z"
   },
   {
    "duration": 50,
    "start_time": "2023-04-23T10:53:58.791Z"
   },
   {
    "duration": 25,
    "start_time": "2023-04-23T10:53:58.844Z"
   },
   {
    "duration": 629,
    "start_time": "2023-04-23T10:53:58.872Z"
   },
   {
    "duration": 53222,
    "start_time": "2023-04-23T10:53:59.503Z"
   },
   {
    "duration": 199,
    "start_time": "2023-04-23T10:54:52.727Z"
   },
   {
    "duration": 98,
    "start_time": "2023-04-23T10:55:58.453Z"
   },
   {
    "duration": 391,
    "start_time": "2023-04-23T10:56:12.741Z"
   },
   {
    "duration": 2310,
    "start_time": "2023-04-23T10:56:19.431Z"
   },
   {
    "duration": 1484,
    "start_time": "2023-04-23T10:57:48.632Z"
   },
   {
    "duration": 997,
    "start_time": "2023-04-23T10:57:50.118Z"
   },
   {
    "duration": 179,
    "start_time": "2023-04-23T10:57:51.117Z"
   },
   {
    "duration": 4,
    "start_time": "2023-04-23T10:57:51.298Z"
   },
   {
    "duration": 29,
    "start_time": "2023-04-23T10:57:51.305Z"
   },
   {
    "duration": 124,
    "start_time": "2023-04-23T10:57:51.335Z"
   },
   {
    "duration": 206,
    "start_time": "2023-04-23T10:57:51.461Z"
   },
   {
    "duration": 391,
    "start_time": "2023-04-23T10:57:51.669Z"
   },
   {
    "duration": 6,
    "start_time": "2023-04-23T10:57:52.062Z"
   },
   {
    "duration": 41,
    "start_time": "2023-04-23T10:57:52.071Z"
   },
   {
    "duration": 346,
    "start_time": "2023-04-23T10:57:52.114Z"
   },
   {
    "duration": 65,
    "start_time": "2023-04-23T10:57:52.463Z"
   },
   {
    "duration": 28,
    "start_time": "2023-04-23T10:57:52.530Z"
   },
   {
    "duration": 413,
    "start_time": "2023-04-23T10:57:52.561Z"
   },
   {
    "duration": 374,
    "start_time": "2023-04-23T10:57:52.976Z"
   },
   {
    "duration": 81,
    "start_time": "2023-04-23T10:57:53.352Z"
   },
   {
    "duration": 359,
    "start_time": "2023-04-23T10:57:53.435Z"
   },
   {
    "duration": 15,
    "start_time": "2023-04-23T10:57:53.796Z"
   },
   {
    "duration": 450,
    "start_time": "2023-04-23T10:57:53.813Z"
   },
   {
    "duration": 334,
    "start_time": "2023-04-23T10:57:54.265Z"
   },
   {
    "duration": 51,
    "start_time": "2023-04-23T10:57:54.600Z"
   },
   {
    "duration": 42,
    "start_time": "2023-04-23T10:57:54.654Z"
   },
   {
    "duration": 33,
    "start_time": "2023-04-23T10:57:54.698Z"
   },
   {
    "duration": 48,
    "start_time": "2023-04-23T10:57:54.732Z"
   },
   {
    "duration": 58,
    "start_time": "2023-04-23T10:57:54.782Z"
   },
   {
    "duration": 27,
    "start_time": "2023-04-23T10:57:54.842Z"
   },
   {
    "duration": 79,
    "start_time": "2023-04-23T10:57:54.870Z"
   },
   {
    "duration": 2755,
    "start_time": "2023-04-23T10:57:54.952Z"
   },
   {
    "duration": 89,
    "start_time": "2023-04-23T10:57:57.709Z"
   },
   {
    "duration": 2782,
    "start_time": "2023-04-23T10:57:57.801Z"
   },
   {
    "duration": 108,
    "start_time": "2023-04-23T10:58:00.588Z"
   },
   {
    "duration": 40,
    "start_time": "2023-04-23T10:58:00.699Z"
   },
   {
    "duration": 161,
    "start_time": "2023-04-23T10:58:09.211Z"
   },
   {
    "duration": 576,
    "start_time": "2023-04-23T10:58:24.408Z"
   },
   {
    "duration": 52414,
    "start_time": "2023-04-23T10:58:30.374Z"
   },
   {
    "duration": 2232,
    "start_time": "2023-04-23T10:59:55.197Z"
   },
   {
    "duration": 6,
    "start_time": "2023-04-23T11:00:19.132Z"
   },
   {
    "duration": 1583,
    "start_time": "2023-04-23T11:07:57.662Z"
   },
   {
    "duration": 1000,
    "start_time": "2023-04-23T11:07:59.248Z"
   },
   {
    "duration": 165,
    "start_time": "2023-04-23T11:08:00.249Z"
   },
   {
    "duration": 4,
    "start_time": "2023-04-23T11:08:00.416Z"
   },
   {
    "duration": 51,
    "start_time": "2023-04-23T11:08:00.422Z"
   },
   {
    "duration": 221,
    "start_time": "2023-04-23T11:08:00.476Z"
   },
   {
    "duration": 265,
    "start_time": "2023-04-23T11:08:00.700Z"
   },
   {
    "duration": 470,
    "start_time": "2023-04-23T11:08:00.968Z"
   },
   {
    "duration": 6,
    "start_time": "2023-04-23T11:08:01.440Z"
   },
   {
    "duration": 71,
    "start_time": "2023-04-23T11:08:01.452Z"
   },
   {
    "duration": 424,
    "start_time": "2023-04-23T11:08:01.525Z"
   },
   {
    "duration": 54,
    "start_time": "2023-04-23T11:08:01.951Z"
   },
   {
    "duration": 72,
    "start_time": "2023-04-23T11:08:02.007Z"
   },
   {
    "duration": 433,
    "start_time": "2023-04-23T11:08:02.081Z"
   },
   {
    "duration": 354,
    "start_time": "2023-04-23T11:08:02.517Z"
   },
   {
    "duration": 90,
    "start_time": "2023-04-23T11:08:02.873Z"
   },
   {
    "duration": 352,
    "start_time": "2023-04-23T11:08:02.966Z"
   },
   {
    "duration": 15,
    "start_time": "2023-04-23T11:08:03.320Z"
   },
   {
    "duration": 309,
    "start_time": "2023-04-23T11:08:03.336Z"
   },
   {
    "duration": 374,
    "start_time": "2023-04-23T11:08:03.647Z"
   },
   {
    "duration": 51,
    "start_time": "2023-04-23T11:08:04.023Z"
   },
   {
    "duration": 23,
    "start_time": "2023-04-23T11:08:04.088Z"
   },
   {
    "duration": 43,
    "start_time": "2023-04-23T11:08:04.113Z"
   },
   {
    "duration": 39,
    "start_time": "2023-04-23T11:08:04.158Z"
   },
   {
    "duration": 62,
    "start_time": "2023-04-23T11:08:04.199Z"
   },
   {
    "duration": 25,
    "start_time": "2023-04-23T11:08:04.263Z"
   },
   {
    "duration": 114,
    "start_time": "2023-04-23T11:08:04.290Z"
   },
   {
    "duration": 2879,
    "start_time": "2023-04-23T11:08:04.408Z"
   },
   {
    "duration": 112,
    "start_time": "2023-04-23T11:08:07.290Z"
   },
   {
    "duration": 3178,
    "start_time": "2023-04-23T11:08:07.404Z"
   },
   {
    "duration": 64,
    "start_time": "2023-04-23T11:08:10.587Z"
   },
   {
    "duration": 15,
    "start_time": "2023-04-23T11:08:10.654Z"
   },
   {
    "duration": 807,
    "start_time": "2023-04-23T11:08:10.689Z"
   },
   {
    "duration": 55256,
    "start_time": "2023-04-23T11:08:11.499Z"
   },
   {
    "duration": 2258,
    "start_time": "2023-04-23T11:09:06.756Z"
   },
   {
    "duration": 4,
    "start_time": "2023-04-23T11:09:09.016Z"
   },
   {
    "duration": 0,
    "start_time": "2023-04-23T11:17:21.444Z"
   },
   {
    "duration": 0,
    "start_time": "2023-04-23T11:17:21.446Z"
   },
   {
    "duration": 443480,
    "start_time": "2023-04-23T11:17:25.908Z"
   },
   {
    "duration": 0,
    "start_time": "2023-04-23T11:24:49.391Z"
   },
   {
    "duration": 0,
    "start_time": "2023-04-23T11:24:49.392Z"
   },
   {
    "duration": 5,
    "start_time": "2023-04-23T11:25:11.721Z"
   },
   {
    "duration": 419,
    "start_time": "2023-04-23T11:25:27.756Z"
   },
   {
    "duration": 420,
    "start_time": "2023-04-23T11:25:40.022Z"
   },
   {
    "duration": 3608,
    "start_time": "2023-04-23T11:26:19.743Z"
   },
   {
    "duration": 14,
    "start_time": "2023-04-23T11:27:11.042Z"
   },
   {
    "duration": 5,
    "start_time": "2023-04-23T11:27:20.337Z"
   },
   {
    "duration": 4,
    "start_time": "2023-04-23T11:27:29.576Z"
   },
   {
    "duration": 33890,
    "start_time": "2023-04-23T11:27:38.506Z"
   },
   {
    "duration": 4,
    "start_time": "2023-04-23T11:31:50.135Z"
   },
   {
    "duration": 2117850,
    "start_time": "2023-04-23T11:31:54.844Z"
   },
   {
    "duration": 501,
    "start_time": "2023-04-23T12:07:12.696Z"
   },
   {
    "duration": 4,
    "start_time": "2023-04-23T12:09:02.903Z"
   },
   {
    "duration": 5,
    "start_time": "2023-04-23T12:09:06.198Z"
   },
   {
    "duration": 3,
    "start_time": "2023-04-23T12:09:10.083Z"
   },
   {
    "duration": 334293,
    "start_time": "2023-04-23T12:09:26.641Z"
   },
   {
    "duration": 37256,
    "start_time": "2023-04-23T12:15:00.936Z"
   },
   {
    "duration": 74,
    "start_time": "2023-04-23T12:31:09.675Z"
   },
   {
    "duration": 6,
    "start_time": "2023-04-23T12:31:52.284Z"
   },
   {
    "duration": 67,
    "start_time": "2023-04-23T12:32:00.969Z"
   },
   {
    "duration": 147,
    "start_time": "2023-04-23T12:32:41.244Z"
   },
   {
    "duration": 36,
    "start_time": "2023-04-23T12:33:28.678Z"
   },
   {
    "duration": 115,
    "start_time": "2023-04-23T12:33:50.446Z"
   },
   {
    "duration": 6,
    "start_time": "2023-04-23T12:33:57.347Z"
   },
   {
    "duration": 1523,
    "start_time": "2023-04-23T12:37:48.928Z"
   },
   {
    "duration": 1054,
    "start_time": "2023-04-23T12:37:50.454Z"
   },
   {
    "duration": 158,
    "start_time": "2023-04-23T12:37:51.510Z"
   },
   {
    "duration": 4,
    "start_time": "2023-04-23T12:37:51.670Z"
   },
   {
    "duration": 39,
    "start_time": "2023-04-23T12:37:51.676Z"
   },
   {
    "duration": 110,
    "start_time": "2023-04-23T12:37:51.717Z"
   },
   {
    "duration": 221,
    "start_time": "2023-04-23T12:37:51.829Z"
   },
   {
    "duration": 418,
    "start_time": "2023-04-23T12:37:52.052Z"
   },
   {
    "duration": 6,
    "start_time": "2023-04-23T12:37:52.472Z"
   },
   {
    "duration": 16,
    "start_time": "2023-04-23T12:37:52.488Z"
   },
   {
    "duration": 359,
    "start_time": "2023-04-23T12:37:52.506Z"
   },
   {
    "duration": 51,
    "start_time": "2023-04-23T12:37:52.867Z"
   },
   {
    "duration": 29,
    "start_time": "2023-04-23T12:37:52.921Z"
   },
   {
    "duration": 427,
    "start_time": "2023-04-23T12:37:52.953Z"
   },
   {
    "duration": 295,
    "start_time": "2023-04-23T12:37:53.387Z"
   },
   {
    "duration": 76,
    "start_time": "2023-04-23T12:37:53.686Z"
   },
   {
    "duration": 342,
    "start_time": "2023-04-23T12:37:53.763Z"
   },
   {
    "duration": 14,
    "start_time": "2023-04-23T12:37:54.107Z"
   },
   {
    "duration": 302,
    "start_time": "2023-04-23T12:37:54.123Z"
   },
   {
    "duration": 329,
    "start_time": "2023-04-23T12:37:54.427Z"
   },
   {
    "duration": 59,
    "start_time": "2023-04-23T12:37:54.758Z"
   },
   {
    "duration": 50,
    "start_time": "2023-04-23T12:37:54.819Z"
   },
   {
    "duration": 35,
    "start_time": "2023-04-23T12:37:54.871Z"
   },
   {
    "duration": 24,
    "start_time": "2023-04-23T12:37:54.908Z"
   },
   {
    "duration": 63,
    "start_time": "2023-04-23T12:37:54.934Z"
   },
   {
    "duration": 26,
    "start_time": "2023-04-23T12:37:54.998Z"
   },
   {
    "duration": 122,
    "start_time": "2023-04-23T12:37:55.026Z"
   },
   {
    "duration": 2785,
    "start_time": "2023-04-23T12:37:55.150Z"
   },
   {
    "duration": 83,
    "start_time": "2023-04-23T12:37:57.937Z"
   },
   {
    "duration": 2739,
    "start_time": "2023-04-23T12:37:58.022Z"
   },
   {
    "duration": 72,
    "start_time": "2023-04-23T12:38:00.764Z"
   },
   {
    "duration": 48,
    "start_time": "2023-04-23T12:38:00.839Z"
   },
   {
    "duration": 636,
    "start_time": "2023-04-23T12:38:00.889Z"
   },
   {
    "duration": 52826,
    "start_time": "2023-04-23T12:38:01.527Z"
   },
   {
    "duration": 232,
    "start_time": "2023-04-23T12:38:54.355Z"
   },
   {
    "duration": 2207,
    "start_time": "2023-04-23T12:39:31.484Z"
   },
   {
    "duration": 2356,
    "start_time": "2023-04-23T12:40:45.259Z"
   },
   {
    "duration": 2228387,
    "start_time": "2023-04-23T12:41:22.021Z"
   },
   {
    "duration": 4,
    "start_time": "2023-04-23T13:20:50.142Z"
   },
   {
    "duration": 7850,
    "start_time": "2023-04-23T13:20:53.837Z"
   },
   {
    "duration": 6562,
    "start_time": "2023-04-23T13:21:10.846Z"
   },
   {
    "duration": 114012,
    "start_time": "2023-04-23T13:21:33.897Z"
   },
   {
    "duration": 0,
    "start_time": "2023-04-23T13:23:27.913Z"
   },
   {
    "duration": 1526,
    "start_time": "2023-04-23T13:24:54.131Z"
   },
   {
    "duration": 992,
    "start_time": "2023-04-23T13:24:55.659Z"
   },
   {
    "duration": 169,
    "start_time": "2023-04-23T13:24:56.653Z"
   },
   {
    "duration": 3,
    "start_time": "2023-04-23T13:24:56.825Z"
   },
   {
    "duration": 20,
    "start_time": "2023-04-23T13:24:56.830Z"
   },
   {
    "duration": 129,
    "start_time": "2023-04-23T13:24:56.852Z"
   },
   {
    "duration": 208,
    "start_time": "2023-04-23T13:24:56.983Z"
   },
   {
    "duration": 429,
    "start_time": "2023-04-23T13:24:57.193Z"
   },
   {
    "duration": 4,
    "start_time": "2023-04-23T13:24:57.624Z"
   },
   {
    "duration": 14,
    "start_time": "2023-04-23T13:24:57.631Z"
   },
   {
    "duration": 348,
    "start_time": "2023-04-23T13:24:57.647Z"
   },
   {
    "duration": 42,
    "start_time": "2023-04-23T13:24:57.997Z"
   },
   {
    "duration": 24,
    "start_time": "2023-04-23T13:24:58.041Z"
   },
   {
    "duration": 401,
    "start_time": "2023-04-23T13:24:58.066Z"
   },
   {
    "duration": 293,
    "start_time": "2023-04-23T13:24:58.469Z"
   },
   {
    "duration": 83,
    "start_time": "2023-04-23T13:24:58.764Z"
   },
   {
    "duration": 324,
    "start_time": "2023-04-23T13:24:58.849Z"
   },
   {
    "duration": 19,
    "start_time": "2023-04-23T13:24:59.175Z"
   },
   {
    "duration": 283,
    "start_time": "2023-04-23T13:24:59.196Z"
   },
   {
    "duration": 321,
    "start_time": "2023-04-23T13:24:59.486Z"
   },
   {
    "duration": 51,
    "start_time": "2023-04-23T13:24:59.809Z"
   },
   {
    "duration": 35,
    "start_time": "2023-04-23T13:24:59.862Z"
   },
   {
    "duration": 26,
    "start_time": "2023-04-23T13:24:59.899Z"
   },
   {
    "duration": 23,
    "start_time": "2023-04-23T13:24:59.927Z"
   },
   {
    "duration": 63,
    "start_time": "2023-04-23T13:24:59.952Z"
   },
   {
    "duration": 67,
    "start_time": "2023-04-23T13:25:00.016Z"
   },
   {
    "duration": 83,
    "start_time": "2023-04-23T13:25:00.085Z"
   },
   {
    "duration": 2867,
    "start_time": "2023-04-23T13:25:00.171Z"
   },
   {
    "duration": 88,
    "start_time": "2023-04-23T13:25:03.040Z"
   },
   {
    "duration": 2764,
    "start_time": "2023-04-23T13:25:03.130Z"
   },
   {
    "duration": 48,
    "start_time": "2023-04-23T13:25:05.896Z"
   },
   {
    "duration": 17,
    "start_time": "2023-04-23T13:25:05.945Z"
   },
   {
    "duration": 543,
    "start_time": "2023-04-23T13:25:11.472Z"
   },
   {
    "duration": 230787,
    "start_time": "2023-04-23T13:25:22.706Z"
   },
   {
    "duration": 55875,
    "start_time": "2023-04-23T13:38:53.131Z"
   },
   {
    "duration": 2536,
    "start_time": "2023-04-23T13:40:32.227Z"
   },
   {
    "duration": 426,
    "start_time": "2023-04-23T13:40:59.551Z"
   },
   {
    "duration": 4081,
    "start_time": "2023-04-23T13:41:18.455Z"
   },
   {
    "duration": 614267,
    "start_time": "2023-04-23T13:45:09.023Z"
   },
   {
    "duration": 906648,
    "start_time": "2023-04-23T13:57:45.943Z"
   },
   {
    "duration": 544,
    "start_time": "2023-04-23T14:12:52.593Z"
   },
   {
    "duration": 95,
    "start_time": "2023-04-25T12:12:23.232Z"
   },
   {
    "duration": 96,
    "start_time": "2023-04-25T12:13:04.344Z"
   },
   {
    "duration": 1849,
    "start_time": "2023-04-25T12:14:11.553Z"
   },
   {
    "duration": 3479,
    "start_time": "2023-04-25T12:14:13.404Z"
   },
   {
    "duration": 122,
    "start_time": "2023-04-25T12:14:16.886Z"
   },
   {
    "duration": 3,
    "start_time": "2023-04-25T12:14:17.011Z"
   },
   {
    "duration": 17,
    "start_time": "2023-04-25T12:14:17.016Z"
   },
   {
    "duration": 109,
    "start_time": "2023-04-25T12:14:17.035Z"
   },
   {
    "duration": 183,
    "start_time": "2023-04-25T12:14:17.146Z"
   },
   {
    "duration": 362,
    "start_time": "2023-04-25T12:14:17.331Z"
   },
   {
    "duration": 4,
    "start_time": "2023-04-25T12:14:17.695Z"
   },
   {
    "duration": 14,
    "start_time": "2023-04-25T12:14:17.702Z"
   },
   {
    "duration": 354,
    "start_time": "2023-04-25T12:14:17.717Z"
   },
   {
    "duration": 62,
    "start_time": "2023-04-25T12:14:18.074Z"
   },
   {
    "duration": 82,
    "start_time": "2023-04-25T12:14:27.553Z"
   },
   {
    "duration": 82,
    "start_time": "2023-04-25T12:14:36.823Z"
   },
   {
    "duration": 96,
    "start_time": "2023-04-25T12:14:45.975Z"
   },
   {
    "duration": 79,
    "start_time": "2023-04-25T12:15:39.811Z"
   },
   {
    "duration": 80,
    "start_time": "2023-04-25T12:16:07.855Z"
   },
   {
    "duration": 29,
    "start_time": "2023-04-25T12:17:16.856Z"
   },
   {
    "duration": 457,
    "start_time": "2023-04-25T12:17:21.289Z"
   },
   {
    "duration": 303,
    "start_time": "2023-04-25T12:17:27.513Z"
   },
   {
    "duration": 91,
    "start_time": "2023-04-25T12:17:40.353Z"
   },
   {
    "duration": 358,
    "start_time": "2023-04-25T12:17:43.678Z"
   },
   {
    "duration": 16,
    "start_time": "2023-04-25T12:17:49.278Z"
   },
   {
    "duration": 279,
    "start_time": "2023-04-25T12:17:51.233Z"
   },
   {
    "duration": 334,
    "start_time": "2023-04-25T12:18:08.180Z"
   },
   {
    "duration": 51,
    "start_time": "2023-04-25T12:18:14.620Z"
   },
   {
    "duration": 25,
    "start_time": "2023-04-25T12:18:26.544Z"
   },
   {
    "duration": 24,
    "start_time": "2023-04-25T12:18:28.948Z"
   },
   {
    "duration": 22,
    "start_time": "2023-04-25T12:18:31.220Z"
   },
   {
    "duration": 45,
    "start_time": "2023-04-25T12:18:32.533Z"
   },
   {
    "duration": 26,
    "start_time": "2023-04-25T12:18:35.523Z"
   },
   {
    "duration": 112,
    "start_time": "2023-04-25T12:18:39.457Z"
   },
   {
    "duration": 3267,
    "start_time": "2023-04-25T12:18:42.360Z"
   },
   {
    "duration": 95,
    "start_time": "2023-04-25T12:18:50.141Z"
   },
   {
    "duration": 3210,
    "start_time": "2023-04-25T12:18:52.833Z"
   },
   {
    "duration": 55,
    "start_time": "2023-04-25T12:19:08.637Z"
   },
   {
    "duration": 12,
    "start_time": "2023-04-25T12:19:10.652Z"
   },
   {
    "duration": 76,
    "start_time": "2023-04-25T12:46:16.802Z"
   },
   {
    "duration": 629,
    "start_time": "2023-04-25T12:46:31.627Z"
   },
   {
    "duration": 210,
    "start_time": "2023-04-25T12:50:37.145Z"
   },
   {
    "duration": 1563,
    "start_time": "2023-04-25T12:51:33.031Z"
   },
   {
    "duration": 916,
    "start_time": "2023-04-25T12:51:34.596Z"
   },
   {
    "duration": 120,
    "start_time": "2023-04-25T12:51:35.514Z"
   },
   {
    "duration": 5,
    "start_time": "2023-04-25T12:51:35.636Z"
   },
   {
    "duration": 19,
    "start_time": "2023-04-25T12:51:35.643Z"
   },
   {
    "duration": 105,
    "start_time": "2023-04-25T12:51:35.664Z"
   },
   {
    "duration": 173,
    "start_time": "2023-04-25T12:51:35.771Z"
   },
   {
    "duration": 363,
    "start_time": "2023-04-25T12:51:35.947Z"
   },
   {
    "duration": 5,
    "start_time": "2023-04-25T12:51:36.313Z"
   },
   {
    "duration": 26,
    "start_time": "2023-04-25T12:51:36.320Z"
   },
   {
    "duration": 343,
    "start_time": "2023-04-25T12:51:36.348Z"
   },
   {
    "duration": 43,
    "start_time": "2023-04-25T12:51:36.693Z"
   },
   {
    "duration": 28,
    "start_time": "2023-04-25T12:51:36.738Z"
   },
   {
    "duration": 431,
    "start_time": "2023-04-25T12:51:36.769Z"
   },
   {
    "duration": 340,
    "start_time": "2023-04-25T12:51:37.203Z"
   },
   {
    "duration": 79,
    "start_time": "2023-04-25T12:51:37.545Z"
   },
   {
    "duration": 355,
    "start_time": "2023-04-25T12:51:37.627Z"
   },
   {
    "duration": 19,
    "start_time": "2023-04-25T12:51:37.984Z"
   },
   {
    "duration": 288,
    "start_time": "2023-04-25T12:51:38.005Z"
   },
   {
    "duration": 349,
    "start_time": "2023-04-25T12:51:38.295Z"
   },
   {
    "duration": 56,
    "start_time": "2023-04-25T12:51:38.646Z"
   },
   {
    "duration": 24,
    "start_time": "2023-04-25T12:51:38.704Z"
   },
   {
    "duration": 25,
    "start_time": "2023-04-25T12:51:38.730Z"
   },
   {
    "duration": 48,
    "start_time": "2023-04-25T12:51:38.756Z"
   },
   {
    "duration": 47,
    "start_time": "2023-04-25T12:51:38.805Z"
   },
   {
    "duration": 55,
    "start_time": "2023-04-25T12:51:38.854Z"
   },
   {
    "duration": 106,
    "start_time": "2023-04-25T12:51:38.911Z"
   },
   {
    "duration": 3248,
    "start_time": "2023-04-25T12:51:39.019Z"
   },
   {
    "duration": 92,
    "start_time": "2023-04-25T12:51:42.269Z"
   },
   {
    "duration": 3037,
    "start_time": "2023-04-25T12:51:42.363Z"
   },
   {
    "duration": 46,
    "start_time": "2023-04-25T12:51:45.402Z"
   },
   {
    "duration": 12,
    "start_time": "2023-04-25T12:51:45.450Z"
   },
   {
    "duration": 626,
    "start_time": "2023-04-25T12:51:45.464Z"
   },
   {
    "duration": 205,
    "start_time": "2023-04-25T12:51:56.705Z"
   },
   {
    "duration": 2297,
    "start_time": "2023-04-25T12:52:44.657Z"
   },
   {
    "duration": 1568,
    "start_time": "2023-04-25T13:02:32.506Z"
   },
   {
    "duration": 934,
    "start_time": "2023-04-25T13:02:34.076Z"
   },
   {
    "duration": 139,
    "start_time": "2023-04-25T13:02:35.012Z"
   },
   {
    "duration": 4,
    "start_time": "2023-04-25T13:02:35.154Z"
   },
   {
    "duration": 22,
    "start_time": "2023-04-25T13:02:35.159Z"
   },
   {
    "duration": 107,
    "start_time": "2023-04-25T13:02:35.190Z"
   },
   {
    "duration": 184,
    "start_time": "2023-04-25T13:02:35.299Z"
   },
   {
    "duration": 357,
    "start_time": "2023-04-25T13:02:35.485Z"
   },
   {
    "duration": 4,
    "start_time": "2023-04-25T13:02:35.844Z"
   },
   {
    "duration": 23,
    "start_time": "2023-04-25T13:02:35.850Z"
   },
   {
    "duration": 332,
    "start_time": "2023-04-25T13:02:35.875Z"
   },
   {
    "duration": 42,
    "start_time": "2023-04-25T13:02:36.209Z"
   },
   {
    "duration": 40,
    "start_time": "2023-04-25T13:02:36.253Z"
   },
   {
    "duration": 406,
    "start_time": "2023-04-25T13:02:36.295Z"
   },
   {
    "duration": 320,
    "start_time": "2023-04-25T13:02:36.703Z"
   },
   {
    "duration": 80,
    "start_time": "2023-04-25T13:02:37.025Z"
   },
   {
    "duration": 352,
    "start_time": "2023-04-25T13:02:37.106Z"
   },
   {
    "duration": 16,
    "start_time": "2023-04-25T13:02:37.460Z"
   },
   {
    "duration": 277,
    "start_time": "2023-04-25T13:02:37.490Z"
   },
   {
    "duration": 350,
    "start_time": "2023-04-25T13:02:37.769Z"
   },
   {
    "duration": 50,
    "start_time": "2023-04-25T13:02:38.122Z"
   },
   {
    "duration": 36,
    "start_time": "2023-04-25T13:02:38.174Z"
   },
   {
    "duration": 25,
    "start_time": "2023-04-25T13:02:38.212Z"
   },
   {
    "duration": 27,
    "start_time": "2023-04-25T13:02:38.239Z"
   },
   {
    "duration": 61,
    "start_time": "2023-04-25T13:02:38.268Z"
   },
   {
    "duration": 25,
    "start_time": "2023-04-25T13:02:38.331Z"
   },
   {
    "duration": 99,
    "start_time": "2023-04-25T13:02:38.358Z"
   },
   {
    "duration": 3347,
    "start_time": "2023-04-25T13:02:38.460Z"
   },
   {
    "duration": 86,
    "start_time": "2023-04-25T13:02:41.809Z"
   },
   {
    "duration": 3213,
    "start_time": "2023-04-25T13:02:41.897Z"
   },
   {
    "duration": 51,
    "start_time": "2023-04-25T13:02:45.111Z"
   },
   {
    "duration": 30,
    "start_time": "2023-04-25T13:02:45.164Z"
   },
   {
    "duration": 412,
    "start_time": "2023-04-25T13:02:45.197Z"
   },
   {
    "duration": 308,
    "start_time": "2023-04-25T13:02:50.468Z"
   },
   {
    "duration": 1450,
    "start_time": "2023-04-25T13:03:18.918Z"
   },
   {
    "duration": 645,
    "start_time": "2023-04-25T13:06:49.430Z"
   },
   {
    "duration": 630,
    "start_time": "2023-04-25T13:07:43.932Z"
   },
   {
    "duration": 178,
    "start_time": "2023-04-25T13:07:54.127Z"
   },
   {
    "duration": 149,
    "start_time": "2023-04-25T13:09:07.944Z"
   },
   {
    "duration": 128,
    "start_time": "2023-04-25T13:10:37.106Z"
   },
   {
    "duration": 1742,
    "start_time": "2023-04-25T13:11:01.163Z"
   },
   {
    "duration": 938,
    "start_time": "2023-04-25T13:11:02.907Z"
   },
   {
    "duration": 144,
    "start_time": "2023-04-25T13:11:03.847Z"
   },
   {
    "duration": 4,
    "start_time": "2023-04-25T13:11:03.993Z"
   },
   {
    "duration": 20,
    "start_time": "2023-04-25T13:11:04.000Z"
   },
   {
    "duration": 115,
    "start_time": "2023-04-25T13:11:04.022Z"
   },
   {
    "duration": 191,
    "start_time": "2023-04-25T13:11:04.139Z"
   },
   {
    "duration": 366,
    "start_time": "2023-04-25T13:11:04.332Z"
   },
   {
    "duration": 5,
    "start_time": "2023-04-25T13:11:04.700Z"
   },
   {
    "duration": 22,
    "start_time": "2023-04-25T13:11:04.707Z"
   },
   {
    "duration": 354,
    "start_time": "2023-04-25T13:11:04.730Z"
   },
   {
    "duration": 45,
    "start_time": "2023-04-25T13:11:05.088Z"
   },
   {
    "duration": 25,
    "start_time": "2023-04-25T13:11:05.134Z"
   },
   {
    "duration": 442,
    "start_time": "2023-04-25T13:11:05.161Z"
   },
   {
    "duration": 329,
    "start_time": "2023-04-25T13:11:05.605Z"
   },
   {
    "duration": 84,
    "start_time": "2023-04-25T13:11:05.936Z"
   },
   {
    "duration": 350,
    "start_time": "2023-04-25T13:11:06.022Z"
   },
   {
    "duration": 20,
    "start_time": "2023-04-25T13:11:06.374Z"
   },
   {
    "duration": 302,
    "start_time": "2023-04-25T13:11:06.396Z"
   },
   {
    "duration": 353,
    "start_time": "2023-04-25T13:11:06.700Z"
   },
   {
    "duration": 55,
    "start_time": "2023-04-25T13:11:07.055Z"
   },
   {
    "duration": 23,
    "start_time": "2023-04-25T13:11:07.112Z"
   },
   {
    "duration": 30,
    "start_time": "2023-04-25T13:11:07.137Z"
   },
   {
    "duration": 38,
    "start_time": "2023-04-25T13:11:07.169Z"
   },
   {
    "duration": 43,
    "start_time": "2023-04-25T13:11:07.209Z"
   },
   {
    "duration": 40,
    "start_time": "2023-04-25T13:11:07.254Z"
   },
   {
    "duration": 77,
    "start_time": "2023-04-25T13:11:07.296Z"
   },
   {
    "duration": 3324,
    "start_time": "2023-04-25T13:11:07.390Z"
   },
   {
    "duration": 86,
    "start_time": "2023-04-25T13:11:10.715Z"
   },
   {
    "duration": 3142,
    "start_time": "2023-04-25T13:11:10.804Z"
   },
   {
    "duration": 58,
    "start_time": "2023-04-25T13:11:13.947Z"
   },
   {
    "duration": 12,
    "start_time": "2023-04-25T13:11:14.007Z"
   },
   {
    "duration": 405,
    "start_time": "2023-04-25T13:11:18.367Z"
   },
   {
    "duration": 647,
    "start_time": "2023-04-25T13:18:34.338Z"
   },
   {
    "duration": 176,
    "start_time": "2023-04-25T13:18:38.142Z"
   },
   {
    "duration": 161,
    "start_time": "2023-04-25T13:21:18.302Z"
   },
   {
    "duration": 158,
    "start_time": "2023-04-25T13:22:08.244Z"
   },
   {
    "duration": 161,
    "start_time": "2023-04-25T13:22:16.193Z"
   },
   {
    "duration": 164,
    "start_time": "2023-04-25T13:22:23.514Z"
   },
   {
    "duration": 158,
    "start_time": "2023-04-25T13:22:53.098Z"
   },
   {
    "duration": 177,
    "start_time": "2023-04-25T13:22:58.898Z"
   },
   {
    "duration": 161,
    "start_time": "2023-04-25T13:23:04.745Z"
   },
   {
    "duration": 160,
    "start_time": "2023-04-25T13:23:12.866Z"
   },
   {
    "duration": 157,
    "start_time": "2023-04-25T13:24:16.622Z"
   },
   {
    "duration": 168,
    "start_time": "2023-04-25T13:24:26.205Z"
   },
   {
    "duration": 149,
    "start_time": "2023-04-25T13:25:16.059Z"
   },
   {
    "duration": 207,
    "start_time": "2023-04-25T13:25:21.140Z"
   },
   {
    "duration": 161,
    "start_time": "2023-04-25T13:25:24.137Z"
   },
   {
    "duration": 468,
    "start_time": "2023-04-25T13:25:38.241Z"
   },
   {
    "duration": 465,
    "start_time": "2023-04-25T13:25:47.637Z"
   },
   {
    "duration": 163,
    "start_time": "2023-04-25T13:28:35.692Z"
   },
   {
    "duration": 1563,
    "start_time": "2023-04-25T13:31:24.400Z"
   },
   {
    "duration": 925,
    "start_time": "2023-04-25T13:31:25.965Z"
   },
   {
    "duration": 136,
    "start_time": "2023-04-25T13:31:26.892Z"
   },
   {
    "duration": 4,
    "start_time": "2023-04-25T13:31:27.030Z"
   },
   {
    "duration": 27,
    "start_time": "2023-04-25T13:31:27.035Z"
   },
   {
    "duration": 107,
    "start_time": "2023-04-25T13:31:27.063Z"
   },
   {
    "duration": 193,
    "start_time": "2023-04-25T13:31:27.172Z"
   },
   {
    "duration": 361,
    "start_time": "2023-04-25T13:31:27.366Z"
   },
   {
    "duration": 4,
    "start_time": "2023-04-25T13:31:27.729Z"
   },
   {
    "duration": 12,
    "start_time": "2023-04-25T13:31:27.735Z"
   },
   {
    "duration": 362,
    "start_time": "2023-04-25T13:31:27.749Z"
   },
   {
    "duration": 40,
    "start_time": "2023-04-25T13:31:28.113Z"
   },
   {
    "duration": 40,
    "start_time": "2023-04-25T13:31:28.155Z"
   },
   {
    "duration": 416,
    "start_time": "2023-04-25T13:31:28.197Z"
   },
   {
    "duration": 330,
    "start_time": "2023-04-25T13:31:28.614Z"
   },
   {
    "duration": 118,
    "start_time": "2023-04-25T13:31:28.946Z"
   },
   {
    "duration": 363,
    "start_time": "2023-04-25T13:31:29.066Z"
   },
   {
    "duration": 17,
    "start_time": "2023-04-25T13:31:29.431Z"
   },
   {
    "duration": 296,
    "start_time": "2023-04-25T13:31:29.450Z"
   },
   {
    "duration": 356,
    "start_time": "2023-04-25T13:31:29.748Z"
   },
   {
    "duration": 49,
    "start_time": "2023-04-25T13:31:30.106Z"
   },
   {
    "duration": 37,
    "start_time": "2023-04-25T13:31:30.157Z"
   },
   {
    "duration": 41,
    "start_time": "2023-04-25T13:31:30.196Z"
   },
   {
    "duration": 45,
    "start_time": "2023-04-25T13:31:30.239Z"
   },
   {
    "duration": 65,
    "start_time": "2023-04-25T13:31:30.286Z"
   },
   {
    "duration": 43,
    "start_time": "2023-04-25T13:31:30.353Z"
   },
   {
    "duration": 136,
    "start_time": "2023-04-25T13:31:30.398Z"
   },
   {
    "duration": 3388,
    "start_time": "2023-04-25T13:31:30.539Z"
   },
   {
    "duration": 100,
    "start_time": "2023-04-25T13:31:33.930Z"
   },
   {
    "duration": 3203,
    "start_time": "2023-04-25T13:31:34.032Z"
   },
   {
    "duration": 56,
    "start_time": "2023-04-25T13:31:37.237Z"
   },
   {
    "duration": 11,
    "start_time": "2023-04-25T13:31:37.295Z"
   },
   {
    "duration": 386,
    "start_time": "2023-04-25T13:31:40.408Z"
   },
   {
    "duration": 50209,
    "start_time": "2023-04-25T13:32:56.300Z"
   },
   {
    "duration": 266,
    "start_time": "2023-04-25T13:34:12.707Z"
   },
   {
    "duration": 1559,
    "start_time": "2023-04-25T13:34:28.322Z"
   },
   {
    "duration": 1047,
    "start_time": "2023-04-25T13:34:29.883Z"
   },
   {
    "duration": 137,
    "start_time": "2023-04-25T13:34:30.931Z"
   },
   {
    "duration": 4,
    "start_time": "2023-04-25T13:34:31.070Z"
   },
   {
    "duration": 49,
    "start_time": "2023-04-25T13:34:31.076Z"
   },
   {
    "duration": 125,
    "start_time": "2023-04-25T13:34:31.126Z"
   },
   {
    "duration": 195,
    "start_time": "2023-04-25T13:34:31.253Z"
   },
   {
    "duration": 391,
    "start_time": "2023-04-25T13:34:31.450Z"
   },
   {
    "duration": 5,
    "start_time": "2023-04-25T13:34:31.843Z"
   },
   {
    "duration": 17,
    "start_time": "2023-04-25T13:34:31.850Z"
   },
   {
    "duration": 360,
    "start_time": "2023-04-25T13:34:31.869Z"
   },
   {
    "duration": 43,
    "start_time": "2023-04-25T13:34:32.231Z"
   },
   {
    "duration": 42,
    "start_time": "2023-04-25T13:34:32.276Z"
   },
   {
    "duration": 441,
    "start_time": "2023-04-25T13:34:32.320Z"
   },
   {
    "duration": 330,
    "start_time": "2023-04-25T13:34:32.763Z"
   },
   {
    "duration": 98,
    "start_time": "2023-04-25T13:34:33.095Z"
   },
   {
    "duration": 371,
    "start_time": "2023-04-25T13:34:33.196Z"
   },
   {
    "duration": 25,
    "start_time": "2023-04-25T13:34:33.570Z"
   },
   {
    "duration": 282,
    "start_time": "2023-04-25T13:34:33.597Z"
   },
   {
    "duration": 353,
    "start_time": "2023-04-25T13:34:33.881Z"
   },
   {
    "duration": 66,
    "start_time": "2023-04-25T13:34:34.236Z"
   },
   {
    "duration": 35,
    "start_time": "2023-04-25T13:34:34.304Z"
   },
   {
    "duration": 28,
    "start_time": "2023-04-25T13:34:34.340Z"
   },
   {
    "duration": 36,
    "start_time": "2023-04-25T13:34:34.369Z"
   },
   {
    "duration": 51,
    "start_time": "2023-04-25T13:34:34.406Z"
   },
   {
    "duration": 58,
    "start_time": "2023-04-25T13:34:34.459Z"
   },
   {
    "duration": 90,
    "start_time": "2023-04-25T13:34:34.519Z"
   },
   {
    "duration": 3231,
    "start_time": "2023-04-25T13:34:34.612Z"
   },
   {
    "duration": 87,
    "start_time": "2023-04-25T13:34:37.845Z"
   },
   {
    "duration": 3225,
    "start_time": "2023-04-25T13:34:37.934Z"
   },
   {
    "duration": 53,
    "start_time": "2023-04-25T13:34:41.161Z"
   },
   {
    "duration": 12,
    "start_time": "2023-04-25T13:34:41.216Z"
   },
   {
    "duration": 277,
    "start_time": "2023-04-25T13:34:49.355Z"
   },
   {
    "duration": 50650,
    "start_time": "2023-04-25T13:34:55.742Z"
   },
   {
    "duration": 253,
    "start_time": "2023-04-25T13:38:02.903Z"
   },
   {
    "duration": 322,
    "start_time": "2023-04-25T13:40:06.192Z"
   },
   {
    "duration": 281,
    "start_time": "2023-04-25T13:40:27.828Z"
   },
   {
    "duration": 262,
    "start_time": "2023-04-25T13:40:45.532Z"
   },
   {
    "duration": 1775,
    "start_time": "2023-04-25T13:41:53.424Z"
   },
   {
    "duration": 273,
    "start_time": "2023-04-25T13:47:13.939Z"
   },
   {
    "duration": 434,
    "start_time": "2023-04-25T13:47:26.823Z"
   },
   {
    "duration": 1755,
    "start_time": "2023-04-25T13:48:21.821Z"
   },
   {
    "duration": 1720,
    "start_time": "2023-04-25T13:48:46.786Z"
   },
   {
    "duration": 342,
    "start_time": "2023-04-25T13:49:14.791Z"
   },
   {
    "duration": 274,
    "start_time": "2023-04-25T13:49:25.114Z"
   },
   {
    "duration": 269,
    "start_time": "2023-04-25T13:49:37.847Z"
   },
   {
    "duration": 1482,
    "start_time": "2023-04-25T13:49:53.371Z"
   },
   {
    "duration": 277,
    "start_time": "2023-04-25T13:50:05.811Z"
   },
   {
    "duration": 470,
    "start_time": "2023-04-25T13:51:31.514Z"
   },
   {
    "duration": 940,
    "start_time": "2023-04-25T13:51:47.043Z"
   },
   {
    "duration": 103,
    "start_time": "2023-04-25T13:52:12.510Z"
   },
   {
    "duration": 117,
    "start_time": "2023-04-25T13:52:24.883Z"
   },
   {
    "duration": 911,
    "start_time": "2023-04-25T13:52:34.323Z"
   },
   {
    "duration": 1001,
    "start_time": "2023-04-25T13:53:00.094Z"
   },
   {
    "duration": 428,
    "start_time": "2023-04-25T13:53:28.808Z"
   },
   {
    "duration": 275,
    "start_time": "2023-04-25T13:55:17.418Z"
   },
   {
    "duration": 52,
    "start_time": "2023-04-25T13:55:48.698Z"
   },
   {
    "duration": 1537,
    "start_time": "2023-04-25T13:56:03.726Z"
   },
   {
    "duration": 976,
    "start_time": "2023-04-25T13:56:05.266Z"
   },
   {
    "duration": 132,
    "start_time": "2023-04-25T13:56:06.244Z"
   },
   {
    "duration": 13,
    "start_time": "2023-04-25T13:56:06.379Z"
   },
   {
    "duration": 24,
    "start_time": "2023-04-25T13:56:06.395Z"
   },
   {
    "duration": 104,
    "start_time": "2023-04-25T13:56:06.421Z"
   },
   {
    "duration": 184,
    "start_time": "2023-04-25T13:56:06.527Z"
   },
   {
    "duration": 379,
    "start_time": "2023-04-25T13:56:06.713Z"
   },
   {
    "duration": 5,
    "start_time": "2023-04-25T13:56:07.094Z"
   },
   {
    "duration": 23,
    "start_time": "2023-04-25T13:56:07.101Z"
   },
   {
    "duration": 334,
    "start_time": "2023-04-25T13:56:07.126Z"
   },
   {
    "duration": 54,
    "start_time": "2023-04-25T13:56:07.462Z"
   },
   {
    "duration": 29,
    "start_time": "2023-04-25T13:56:07.518Z"
   },
   {
    "duration": 418,
    "start_time": "2023-04-25T13:56:07.550Z"
   },
   {
    "duration": 319,
    "start_time": "2023-04-25T13:56:07.970Z"
   },
   {
    "duration": 72,
    "start_time": "2023-04-25T13:56:08.291Z"
   },
   {
    "duration": 376,
    "start_time": "2023-04-25T13:56:08.364Z"
   },
   {
    "duration": 15,
    "start_time": "2023-04-25T13:56:08.742Z"
   },
   {
    "duration": 301,
    "start_time": "2023-04-25T13:56:08.759Z"
   },
   {
    "duration": 352,
    "start_time": "2023-04-25T13:56:09.062Z"
   },
   {
    "duration": 51,
    "start_time": "2023-04-25T13:56:09.416Z"
   },
   {
    "duration": 40,
    "start_time": "2023-04-25T13:56:09.469Z"
   },
   {
    "duration": 63,
    "start_time": "2023-04-25T13:56:09.511Z"
   },
   {
    "duration": 35,
    "start_time": "2023-04-25T13:56:09.577Z"
   },
   {
    "duration": 48,
    "start_time": "2023-04-25T13:56:09.614Z"
   },
   {
    "duration": 54,
    "start_time": "2023-04-25T13:56:09.664Z"
   },
   {
    "duration": 102,
    "start_time": "2023-04-25T13:56:09.721Z"
   },
   {
    "duration": 3361,
    "start_time": "2023-04-25T13:56:09.825Z"
   },
   {
    "duration": 101,
    "start_time": "2023-04-25T13:56:13.189Z"
   },
   {
    "duration": 3084,
    "start_time": "2023-04-25T13:56:13.292Z"
   },
   {
    "duration": 54,
    "start_time": "2023-04-25T13:56:16.378Z"
   },
   {
    "duration": 10,
    "start_time": "2023-04-25T13:56:16.434Z"
   },
   {
    "duration": 219,
    "start_time": "2023-04-25T13:56:16.447Z"
   },
   {
    "duration": 148,
    "start_time": "2023-04-25T13:56:35.382Z"
   },
   {
    "duration": 719,
    "start_time": "2023-04-25T13:57:20.241Z"
   },
   {
    "duration": 450,
    "start_time": "2023-04-25T13:58:22.217Z"
   },
   {
    "duration": 143,
    "start_time": "2023-04-25T13:58:33.697Z"
   },
   {
    "duration": 423,
    "start_time": "2023-04-25T13:58:38.119Z"
   },
   {
    "duration": 576,
    "start_time": "2023-04-25T13:59:53.917Z"
   },
   {
    "duration": 600,
    "start_time": "2023-04-25T14:00:01.220Z"
   },
   {
    "duration": 1602,
    "start_time": "2023-04-25T14:00:54.393Z"
   },
   {
    "duration": 987,
    "start_time": "2023-04-25T14:00:55.997Z"
   },
   {
    "duration": 132,
    "start_time": "2023-04-25T14:00:56.986Z"
   },
   {
    "duration": 4,
    "start_time": "2023-04-25T14:00:57.120Z"
   },
   {
    "duration": 24,
    "start_time": "2023-04-25T14:00:57.126Z"
   },
   {
    "duration": 114,
    "start_time": "2023-04-25T14:00:57.152Z"
   },
   {
    "duration": 206,
    "start_time": "2023-04-25T14:00:57.268Z"
   },
   {
    "duration": 374,
    "start_time": "2023-04-25T14:00:57.475Z"
   },
   {
    "duration": 6,
    "start_time": "2023-04-25T14:00:57.851Z"
   },
   {
    "duration": 31,
    "start_time": "2023-04-25T14:00:57.859Z"
   },
   {
    "duration": 349,
    "start_time": "2023-04-25T14:00:57.893Z"
   },
   {
    "duration": 49,
    "start_time": "2023-04-25T14:00:58.244Z"
   },
   {
    "duration": 25,
    "start_time": "2023-04-25T14:00:58.295Z"
   },
   {
    "duration": 441,
    "start_time": "2023-04-25T14:00:58.322Z"
   },
   {
    "duration": 331,
    "start_time": "2023-04-25T14:00:58.766Z"
   },
   {
    "duration": 90,
    "start_time": "2023-04-25T14:00:59.099Z"
   },
   {
    "duration": 367,
    "start_time": "2023-04-25T14:00:59.192Z"
   },
   {
    "duration": 28,
    "start_time": "2023-04-25T14:00:59.561Z"
   },
   {
    "duration": 284,
    "start_time": "2023-04-25T14:00:59.591Z"
   },
   {
    "duration": 355,
    "start_time": "2023-04-25T14:00:59.877Z"
   },
   {
    "duration": 64,
    "start_time": "2023-04-25T14:01:00.234Z"
   },
   {
    "duration": 41,
    "start_time": "2023-04-25T14:01:00.301Z"
   },
   {
    "duration": 33,
    "start_time": "2023-04-25T14:01:00.344Z"
   },
   {
    "duration": 54,
    "start_time": "2023-04-25T14:01:00.385Z"
   },
   {
    "duration": 55,
    "start_time": "2023-04-25T14:01:00.442Z"
   },
   {
    "duration": 35,
    "start_time": "2023-04-25T14:01:00.499Z"
   },
   {
    "duration": 140,
    "start_time": "2023-04-25T14:01:00.536Z"
   },
   {
    "duration": 3337,
    "start_time": "2023-04-25T14:01:00.682Z"
   },
   {
    "duration": 86,
    "start_time": "2023-04-25T14:01:04.021Z"
   },
   {
    "duration": 3143,
    "start_time": "2023-04-25T14:01:04.109Z"
   },
   {
    "duration": 59,
    "start_time": "2023-04-25T14:01:07.254Z"
   },
   {
    "duration": 15,
    "start_time": "2023-04-25T14:01:07.315Z"
   },
   {
    "duration": 557,
    "start_time": "2023-04-25T14:01:35.633Z"
   },
   {
    "duration": 541,
    "start_time": "2023-04-25T14:01:42.732Z"
   },
   {
    "duration": 548,
    "start_time": "2023-04-25T14:01:54.481Z"
   },
   {
    "duration": 514,
    "start_time": "2023-04-25T14:02:12.997Z"
   },
   {
    "duration": 606,
    "start_time": "2023-04-25T14:05:11.392Z"
   },
   {
    "duration": 631,
    "start_time": "2023-04-25T14:05:44.837Z"
   },
   {
    "duration": 52233,
    "start_time": "2023-04-25T14:06:00.520Z"
   },
   {
    "duration": 2703,
    "start_time": "2023-04-25T14:07:25.400Z"
   },
   {
    "duration": 1111079,
    "start_time": "2023-04-25T14:08:25.215Z"
   },
   {
    "duration": 80,
    "start_time": "2023-04-25T14:26:56.300Z"
   },
   {
    "duration": 435,
    "start_time": "2023-04-25T14:36:53.969Z"
   },
   {
    "duration": 543,
    "start_time": "2023-04-25T14:37:11.625Z"
   },
   {
    "duration": 21,
    "start_time": "2023-04-25T14:38:21.084Z"
   },
   {
    "duration": 85,
    "start_time": "2023-04-25T14:40:24.221Z"
   },
   {
    "duration": 2357,
    "start_time": "2023-04-25T14:41:24.771Z"
   },
   {
    "duration": 441,
    "start_time": "2023-04-25T14:41:58.705Z"
   },
   {
    "duration": 19,
    "start_time": "2023-04-25T14:42:07.695Z"
   },
   {
    "duration": 34919,
    "start_time": "2023-04-25T14:43:20.091Z"
   },
   {
    "duration": 26,
    "start_time": "2023-04-25T14:45:41.530Z"
   },
   {
    "duration": 6795,
    "start_time": "2023-04-25T14:47:26.898Z"
   },
   {
    "duration": 368,
    "start_time": "2023-04-25T14:47:48.833Z"
   },
   {
    "duration": 61,
    "start_time": "2023-04-25T14:58:57.685Z"
   },
   {
    "duration": 1013,
    "start_time": "2023-04-25T14:59:35.639Z"
   },
   {
    "duration": 641,
    "start_time": "2023-04-25T14:59:42.793Z"
   }
  ],
  "kernelspec": {
   "display_name": "Python 3 (ipykernel)",
   "language": "python",
   "name": "python3"
  },
  "language_info": {
   "codemirror_mode": {
    "name": "ipython",
    "version": 3
   },
   "file_extension": ".py",
   "mimetype": "text/x-python",
   "name": "python",
   "nbconvert_exporter": "python",
   "pygments_lexer": "ipython3",
   "version": "3.9.13"
  },
  "toc": {
   "base_numbering": 1,
   "nav_menu": {
    "height": "72px",
    "width": "167px"
   },
   "number_sections": true,
   "sideBar": true,
   "skip_h1_title": true,
   "title_cell": "Table of Contents",
   "title_sidebar": "Contents",
   "toc_cell": false,
   "toc_position": {
    "height": "calc(100% - 180px)",
    "left": "10px",
    "top": "150px",
    "width": "260.2px"
   },
   "toc_section_display": true,
   "toc_window_display": true
  }
 },
 "nbformat": 4,
 "nbformat_minor": 2
}
