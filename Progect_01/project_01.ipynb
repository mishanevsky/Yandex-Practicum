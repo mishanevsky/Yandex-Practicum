{
 "cells": [
  {
   "cell_type": "markdown",
   "metadata": {
    "toc": true
   },
   "source": [
    "<h1>Содержание<span class=\"tocSkip\"></span></h1>\n",
    "<div class=\"toc\"><ul class=\"toc-item\"><li><span><a href=\"#Подготовка\" data-toc-modified-id=\"Подготовка-1\"><span class=\"toc-item-num\">1&nbsp;&nbsp;</span>Подготовка</a></span><ul class=\"toc-item\"><li><span><a href=\"#Предобработка-данных\" data-toc-modified-id=\"Предобработка-данных-1.1\"><span class=\"toc-item-num\">1.1&nbsp;&nbsp;</span>Предобработка данных</a></span></li><li><span><a href=\"#Подготовка-данных-для-обучения\" data-toc-modified-id=\"Подготовка-данных-для-обучения-1.2\"><span class=\"toc-item-num\">1.2&nbsp;&nbsp;</span>Подготовка данных для обучения</a></span></li></ul></li><li><span><a href=\"#Обучение\" data-toc-modified-id=\"Обучение-2\"><span class=\"toc-item-num\">2&nbsp;&nbsp;</span>Обучение</a></span><ul class=\"toc-item\"><li><span><a href=\"#Логистическая-регрессия\" data-toc-modified-id=\"Логистическая-регрессия-2.1\"><span class=\"toc-item-num\">2.1&nbsp;&nbsp;</span>Логистическая регрессия</a></span></li><li><span><a href=\"#Случайный-лес\" data-toc-modified-id=\"Случайный-лес-2.2\"><span class=\"toc-item-num\">2.2&nbsp;&nbsp;</span>Случайный лес</a></span></li><li><span><a href=\"#CatBoostClassifier\" data-toc-modified-id=\"CatBoostClassifier-2.3\"><span class=\"toc-item-num\">2.3&nbsp;&nbsp;</span>CatBoostClassifier</a></span></li></ul></li><li><span><a href=\"#Выводы\" data-toc-modified-id=\"Выводы-3\"><span class=\"toc-item-num\">3&nbsp;&nbsp;</span>Выводы</a></span></li><li><span><a href=\"#Чек-лист-проверки\" data-toc-modified-id=\"Чек-лист-проверки-4\"><span class=\"toc-item-num\">4&nbsp;&nbsp;</span>Чек-лист проверки</a></span></li></ul></div>"
   ]
  },
  {
   "cell_type": "markdown",
   "metadata": {},
   "source": [
    "# Проект для «Викишоп»"
   ]
  },
  {
   "cell_type": "markdown",
   "metadata": {},
   "source": [
    "Интернет-магазин «Викишоп» запускает новый сервис. Теперь пользователи могут редактировать и дополнять описания товаров, как в вики-сообществах. То есть клиенты предлагают свои правки и комментируют изменения других. Магазину нужен инструмент, который будет искать токсичные комментарии и отправлять их на модерацию. \n",
    "\n",
    "Обучите модель классифицировать комментарии на позитивные и негативные. В вашем распоряжении набор данных с разметкой о токсичности правок.\n",
    "\n",
    "Постройте модель со значением метрики качества *F1* не меньше 0.75. \n",
    "\n",
    "**Инструкция по выполнению проекта**\n",
    "\n",
    "1. Загрузите и подготовьте данные.\n",
    "2. Обучите разные модели. \n",
    "3. Сделайте выводы.\n",
    "\n",
    "Для выполнения проекта применять *BERT* необязательно, но вы можете попробовать.\n",
    "\n",
    "**Описание данных**\n",
    "\n",
    "Данные находятся в файле `toxic_comments.csv`. Столбец *text* в нём содержит текст комментария, а *toxic* — целевой признак."
   ]
  },
  {
   "cell_type": "markdown",
   "metadata": {},
   "source": [
    "## Подготовка"
   ]
  },
  {
   "cell_type": "code",
   "execution_count": 2,
   "metadata": {},
   "outputs": [],
   "source": [
    "#подключение необходимых библиотек\n",
    "import numpy as np\n",
    "import pandas as pd\n",
    "import re\n",
    "import nltk\n",
    "from tqdm import tqdm\n",
    "from nltk.stem import WordNetLemmatizer\n",
    "from nltk.corpus import stopwords as nltk_stopwords, wordnet\n",
    "from sklearn.feature_extraction.text import TfidfVectorizer\n",
    "from sklearn.model_selection import train_test_split, GridSearchCV, RandomizedSearchCV\n",
    "from sklearn.linear_model import LogisticRegression\n",
    "from sklearn.ensemble import RandomForestClassifier\n",
    "from catboost import CatBoostClassifier, Pool\n",
    "from sklearn.metrics import f1_score, make_scorer\n",
    "from sklearn.dummy import DummyClassifier\n",
    "\n",
    "import warnings\n",
    "warnings.filterwarnings('ignore')"
   ]
  },
  {
   "cell_type": "code",
   "execution_count": 3,
   "metadata": {},
   "outputs": [
    {
     "name": "stdout",
     "output_type": "stream",
     "text": [
      "<class 'pandas.core.frame.DataFrame'>\n",
      "RangeIndex: 159292 entries, 0 to 159291\n",
      "Data columns (total 3 columns):\n",
      " #   Column      Non-Null Count   Dtype \n",
      "---  ------      --------------   ----- \n",
      " 0   Unnamed: 0  159292 non-null  int64 \n",
      " 1   text        159292 non-null  object\n",
      " 2   toxic       159292 non-null  int64 \n",
      "dtypes: int64(2), object(1)\n",
      "memory usage: 3.6+ MB\n"
     ]
    }
   ],
   "source": [
    "#подключение и просмотр данных\n",
    "data = pd.read_csv('/datasets/toxic_comments.csv')\n",
    "data.info()"
   ]
  },
  {
   "cell_type": "code",
   "execution_count": 5,
   "metadata": {},
   "outputs": [
    {
     "data": {
      "text/html": [
       "<div>\n",
       "<style scoped>\n",
       "    .dataframe tbody tr th:only-of-type {\n",
       "        vertical-align: middle;\n",
       "    }\n",
       "\n",
       "    .dataframe tbody tr th {\n",
       "        vertical-align: top;\n",
       "    }\n",
       "\n",
       "    .dataframe thead th {\n",
       "        text-align: right;\n",
       "    }\n",
       "</style>\n",
       "<table border=\"1\" class=\"dataframe\">\n",
       "  <thead>\n",
       "    <tr style=\"text-align: right;\">\n",
       "      <th></th>\n",
       "      <th>Unnamed: 0</th>\n",
       "      <th>text</th>\n",
       "      <th>toxic</th>\n",
       "    </tr>\n",
       "  </thead>\n",
       "  <tbody>\n",
       "    <tr>\n",
       "      <th>154098</th>\n",
       "      <td>154255</td>\n",
       "      <td>\"\\n\\n(Belated for edit conflict) Let me try to...</td>\n",
       "      <td>0</td>\n",
       "    </tr>\n",
       "    <tr>\n",
       "      <th>42941</th>\n",
       "      <td>42991</td>\n",
       "      <td>\"\\n\\nWhat does \"\"Start Class\"\" mean? Going to ...</td>\n",
       "      <td>0</td>\n",
       "    </tr>\n",
       "    <tr>\n",
       "      <th>16434</th>\n",
       "      <td>16451</td>\n",
       "      <td>\"\\n\\nTalk:Female genital mutilation; please st...</td>\n",
       "      <td>0</td>\n",
       "    </tr>\n",
       "    <tr>\n",
       "      <th>80599</th>\n",
       "      <td>80675</td>\n",
       "      <td>Molecular vibration \\nThanks for the link. I h...</td>\n",
       "      <td>0</td>\n",
       "    </tr>\n",
       "    <tr>\n",
       "      <th>69412</th>\n",
       "      <td>69480</td>\n",
       "      <td>What are you doing?? \\n\\nThe info you added do...</td>\n",
       "      <td>0</td>\n",
       "    </tr>\n",
       "  </tbody>\n",
       "</table>\n",
       "</div>"
      ],
      "text/plain": [
       "        Unnamed: 0                                               text  toxic\n",
       "154098      154255  \"\\n\\n(Belated for edit conflict) Let me try to...      0\n",
       "42941        42991  \"\\n\\nWhat does \"\"Start Class\"\" mean? Going to ...      0\n",
       "16434        16451  \"\\n\\nTalk:Female genital mutilation; please st...      0\n",
       "80599        80675  Molecular vibration \\nThanks for the link. I h...      0\n",
       "69412        69480  What are you doing?? \\n\\nThe info you added do...      0"
      ]
     },
     "execution_count": 5,
     "metadata": {},
     "output_type": "execute_result"
    }
   ],
   "source": [
    "data.sample(5)"
   ]
  },
  {
   "cell_type": "code",
   "execution_count": 6,
   "metadata": {},
   "outputs": [
    {
     "data": {
      "text/plain": [
       "0    0.898388\n",
       "1    0.101612\n",
       "Name: toxic, dtype: float64"
      ]
     },
     "execution_count": 6,
     "metadata": {},
     "output_type": "execute_result"
    }
   ],
   "source": [
    "#уберем лишние столбцы с индексами\n",
    "data = data[['text', 'toxic']]\n",
    "\n",
    "#обозначим корпус\n",
    "corpus = data['text'].values\n",
    "\n",
    "#посмотрим на соотношение ответов\n",
    "data['toxic'].value_counts(normalize=True)"
   ]
  },
  {
   "cell_type": "markdown",
   "metadata": {},
   "source": [
    "Данные не сбалансированны"
   ]
  },
  {
   "cell_type": "markdown",
   "metadata": {},
   "source": [
    "### Предобработка данных"
   ]
  },
  {
   "cell_type": "markdown",
   "metadata": {},
   "source": [
    "Напишем функции для лемматизации и очистки текста ."
   ]
  },
  {
   "cell_type": "code",
   "execution_count": 7,
   "metadata": {},
   "outputs": [],
   "source": [
    "#функция очистки текста\n",
    "def clear_text(text):\n",
    "    cl_text = re.sub(r'[^a-zA-Z]', ' ', text)\n",
    "    clear_list = cl_text.split()\n",
    "    clear_text = \" \".join(clear_list)\n",
    "    return clear_text"
   ]
  },
  {
   "cell_type": "code",
   "execution_count": 13,
   "metadata": {},
   "outputs": [],
   "source": [
    "\n",
    "def get_wordnet_pos(text):\n",
    "    tag = nltk.pos_tag([text])[0][1][0].upper()\n",
    "    tag_dict ={ 'J' : wordnet.ADJ,\n",
    "              \"N\" : wordnet.NOUN,\n",
    "              \"V\" : wordnet.VERB,\n",
    "              \"R\" : wordnet.ADV}\n",
    "    return tag_dict.get(tag, wordnet.NOUN)"
   ]
  },
  {
   "cell_type": "code",
   "execution_count": 9,
   "metadata": {},
   "outputs": [],
   "source": [
    "#функция лемматизации\n",
    "wnl = WordNetLemmatizer()\n",
    "def lemmatize(text):\n",
    "    text = text.lower()\n",
    "    lemm_list = [wnl.lemmatize(w, get_wordnet_pos(w)) for w in nltk.word_tokenize(text)] \n",
    "    #[wnl.lemmatize(w) for w in nltk.word_tokenize(text)]\n",
    "    lemm_text = \" \".join(lemm_list)\n",
    "    return lemm_text"
   ]
  },
  {
   "cell_type": "code",
   "execution_count": 15,
   "metadata": {},
   "outputs": [
    {
     "name": "stderr",
     "output_type": "stream",
     "text": [
      "[nltk_data] Downloading package averaged_perceptron_tagger to\n",
      "[nltk_data]     /home/jovyan/nltk_data...\n",
      "[nltk_data]   Package averaged_perceptron_tagger is already up-to-\n",
      "[nltk_data]       date!\n",
      "100%|██████████| 159292/159292 [21:33<00:00, 123.19it/s]\n"
     ]
    }
   ],
   "source": [
    "#применение\n",
    "nltk.download('averaged_perceptron_tagger')\n",
    "from nltk.corpus import wordnet\n",
    "lemm=[]\n",
    "for i in tqdm(range(len(corpus))):\n",
    "    lemm.append(lemmatize(clear_text(corpus[i])))"
   ]
  },
  {
   "cell_type": "code",
   "execution_count": 18,
   "metadata": {},
   "outputs": [],
   "source": [
    "data['lemm_text'] = pd.Series(lemm, index=data.index)"
   ]
  },
  {
   "cell_type": "code",
   "execution_count": 19,
   "metadata": {
    "scrolled": true
   },
   "outputs": [
    {
     "data": {
      "text/html": [
       "<div>\n",
       "<style scoped>\n",
       "    .dataframe tbody tr th:only-of-type {\n",
       "        vertical-align: middle;\n",
       "    }\n",
       "\n",
       "    .dataframe tbody tr th {\n",
       "        vertical-align: top;\n",
       "    }\n",
       "\n",
       "    .dataframe thead th {\n",
       "        text-align: right;\n",
       "    }\n",
       "</style>\n",
       "<table border=\"1\" class=\"dataframe\">\n",
       "  <thead>\n",
       "    <tr style=\"text-align: right;\">\n",
       "      <th></th>\n",
       "      <th>text</th>\n",
       "      <th>toxic</th>\n",
       "      <th>lemm_text</th>\n",
       "    </tr>\n",
       "  </thead>\n",
       "  <tbody>\n",
       "    <tr>\n",
       "      <th>0</th>\n",
       "      <td>Explanation\\nWhy the edits made under my usern...</td>\n",
       "      <td>0</td>\n",
       "      <td>Explanation Why the edits make under my userna...</td>\n",
       "    </tr>\n",
       "    <tr>\n",
       "      <th>1</th>\n",
       "      <td>D'aww! He matches this background colour I'm s...</td>\n",
       "      <td>0</td>\n",
       "      <td>D aww He match this background colour I m seem...</td>\n",
       "    </tr>\n",
       "    <tr>\n",
       "      <th>2</th>\n",
       "      <td>Hey man, I'm really not trying to edit war. It...</td>\n",
       "      <td>0</td>\n",
       "      <td>Hey man I m really not try to edit war It s ju...</td>\n",
       "    </tr>\n",
       "    <tr>\n",
       "      <th>3</th>\n",
       "      <td>\"\\nMore\\nI can't make any real suggestions on ...</td>\n",
       "      <td>0</td>\n",
       "      <td>More I can t make any real suggestion on impro...</td>\n",
       "    </tr>\n",
       "    <tr>\n",
       "      <th>4</th>\n",
       "      <td>You, sir, are my hero. Any chance you remember...</td>\n",
       "      <td>0</td>\n",
       "      <td>You sir be my hero Any chance you remember wha...</td>\n",
       "    </tr>\n",
       "  </tbody>\n",
       "</table>\n",
       "</div>"
      ],
      "text/plain": [
       "                                                text  toxic  \\\n",
       "0  Explanation\\nWhy the edits made under my usern...      0   \n",
       "1  D'aww! He matches this background colour I'm s...      0   \n",
       "2  Hey man, I'm really not trying to edit war. It...      0   \n",
       "3  \"\\nMore\\nI can't make any real suggestions on ...      0   \n",
       "4  You, sir, are my hero. Any chance you remember...      0   \n",
       "\n",
       "                                           lemm_text  \n",
       "0  Explanation Why the edits make under my userna...  \n",
       "1  D aww He match this background colour I m seem...  \n",
       "2  Hey man I m really not try to edit war It s ju...  \n",
       "3  More I can t make any real suggestion on impro...  \n",
       "4  You sir be my hero Any chance you remember wha...  "
      ]
     },
     "execution_count": 19,
     "metadata": {},
     "output_type": "execute_result"
    }
   ],
   "source": [
    "#проверка\n",
    "data.head()"
   ]
  },
  {
   "cell_type": "markdown",
   "metadata": {},
   "source": [
    "### Подготовка данных для обучения"
   ]
  },
  {
   "cell_type": "code",
   "execution_count": 20,
   "metadata": {},
   "outputs": [
    {
     "data": {
      "text/plain": [
       "((119469,), (39823,), (119469,), (39823,))"
      ]
     },
     "execution_count": 20,
     "metadata": {},
     "output_type": "execute_result"
    }
   ],
   "source": [
    "#разделение на тестовую и обучающую выборки\n",
    "X_train_clear, X_test_clear = train_test_split(data['lemm_text'], test_size=.25, random_state=12345)\n",
    "y_train, y_test = train_test_split(data['toxic'], test_size=.25, random_state=12345)\n",
    "\n",
    "#просмотр выборок\n",
    "X_train_clear.shape, X_test_clear.shape, y_train.shape, y_test.shape"
   ]
  },
  {
   "cell_type": "markdown",
   "metadata": {},
   "source": [
    "Очистка данных от стоп-слов"
   ]
  },
  {
   "cell_type": "code",
   "execution_count": 21,
   "metadata": {},
   "outputs": [
    {
     "name": "stdout",
     "output_type": "stream",
     "text": [
      "CPU times: user 4 µs, sys: 0 ns, total: 4 µs\n",
      "Wall time: 8.34 µs\n"
     ]
    },
    {
     "data": {
      "text/plain": [
       "((119469, 133975), (39823, 133975))"
      ]
     },
     "execution_count": 21,
     "metadata": {},
     "output_type": "execute_result"
    }
   ],
   "source": [
    "%time\n",
    "stopwords = set(nltk_stopwords.words('english'))\n",
    "count_tf_idf = TfidfVectorizer(stop_words=stopwords)\n",
    "\n",
    "X_train = count_tf_idf.fit_transform(X_train_clear)\n",
    "X_test = count_tf_idf.transform(X_test_clear)\n",
    "X_train.shape, X_test.shape"
   ]
  },
  {
   "cell_type": "markdown",
   "metadata": {},
   "source": [
    "**Вывод:**\n",
    "* данные подготовлены к дальнейшему обучению\n",
    "* удалены стоп-слова\n",
    "* произведена очистка текста от лишних символов, а так же лемматизация\n",
    "* в данных наблюдается большой дисбаланс классов\n",
    "* данные поделены на обучающую и тестовую выборки"
   ]
  },
  {
   "cell_type": "markdown",
   "metadata": {},
   "source": [
    "## Обучение"
   ]
  },
  {
   "cell_type": "code",
   "execution_count": 22,
   "metadata": {},
   "outputs": [],
   "source": [
    "#объявление констант\n",
    "splits = 3\n",
    "random = [12345]\n",
    "score = make_scorer(f1_score)"
   ]
  },
  {
   "cell_type": "markdown",
   "metadata": {},
   "source": [
    "### Логистическая регрессия"
   ]
  },
  {
   "cell_type": "code",
   "execution_count": 23,
   "metadata": {},
   "outputs": [
    {
     "name": "stdout",
     "output_type": "stream",
     "text": [
      "Fitting 3 folds for each of 3 candidates, totalling 9 fits\n",
      "CPU times: user 6min, sys: 6min 46s, total: 12min 46s\n",
      "Wall time: 12min 51s\n"
     ]
    },
    {
     "data": {
      "text/plain": [
       "RandomizedSearchCV(cv=3, estimator=LogisticRegression(), n_iter=3,\n",
       "                   param_distributions={'C': [0.1, 1.0, 10],\n",
       "                                        'class_weight': ['balanced'],\n",
       "                                        'max_iter': [100, 150, 200],\n",
       "                                        'random_state': [12345]},\n",
       "                   scoring=make_scorer(f1_score), verbose=True)"
      ]
     },
     "execution_count": 23,
     "metadata": {},
     "output_type": "execute_result"
    }
   ],
   "source": [
    "%%time\n",
    "\n",
    "params_log = {\"class_weight\": ['balanced'], \n",
    "             \"random_state\": random,\n",
    "             \"max_iter\": [100, 150, 200],\n",
    "             \"C\": [0.1, 1.0, 10]\n",
    "            }\n",
    "model_log = LogisticRegression()\n",
    "model_log_rs = RandomizedSearchCV(model_log, cv=splits, scoring=score,\n",
    "                                  param_distributions=params_log, n_iter=splits, verbose=True)\n",
    "model_log_rs.fit(X_train, y_train)"
   ]
  },
  {
   "cell_type": "code",
   "execution_count": 24,
   "metadata": {},
   "outputs": [
    {
     "name": "stdout",
     "output_type": "stream",
     "text": [
      "Лучший результат f1:  0.755854867297927\n"
     ]
    },
    {
     "data": {
      "text/plain": [
       "{'random_state': 12345, 'max_iter': 200, 'class_weight': 'balanced', 'C': 10}"
      ]
     },
     "execution_count": 24,
     "metadata": {},
     "output_type": "execute_result"
    }
   ],
   "source": [
    "#лучшие параметры\n",
    "print('Лучший результат f1: ', model_log_rs.best_score_)\n",
    "model_log_rs.best_params_"
   ]
  },
  {
   "cell_type": "markdown",
   "metadata": {},
   "source": [
    "**Вывод:** Лучшая метрика **F1 = 0.7594343341767904** у модели **Логистическая регрессия** при гиперпараметрах: **{'random_state': 12345, 'max_iter': 200, 'class_weight': 'balanced', 'C': 10}.**"
   ]
  },
  {
   "cell_type": "markdown",
   "metadata": {},
   "source": [
    "### Случайный лес"
   ]
  },
  {
   "cell_type": "code",
   "execution_count": 27,
   "metadata": {},
   "outputs": [
    {
     "name": "stdout",
     "output_type": "stream",
     "text": [
      "CPU times: user 5min 35s, sys: 4.18 s, total: 5min 40s\n",
      "Wall time: 5min 40s\n"
     ]
    },
    {
     "data": {
      "text/plain": [
       "RandomizedSearchCV(cv=3, estimator=RandomForestClassifier(),\n",
       "                   param_distributions={'class_weight': ['balanced'],\n",
       "                                        'max_depth': [5, 10, 15],\n",
       "                                        'n_estimators': [30, 90, 150],\n",
       "                                        'random_state': [12345]},\n",
       "                   scoring=make_scorer(f1_score))"
      ]
     },
     "execution_count": 27,
     "metadata": {},
     "output_type": "execute_result"
    }
   ],
   "source": [
    "%%time\n",
    "\n",
    "params_forest = {\"max_depth\": [5, 10, 15], \n",
    "          \"n_estimators\": [30, 90, 150], \n",
    "          \"random_state\": random, \n",
    "          \"class_weight\": ['balanced']\n",
    "         }\n",
    "model_forest = RandomForestClassifier()\n",
    "model_forest_rs = RandomizedSearchCV(model_forest, cv=splits, scoring=score, \n",
    "                                     param_distributions=params_forest)\n",
    "model_forest_rs.fit(X_train, y_train)"
   ]
  },
  {
   "cell_type": "code",
   "execution_count": 28,
   "metadata": {},
   "outputs": [
    {
     "name": "stdout",
     "output_type": "stream",
     "text": [
      "Лучший результат f1:  0.39728478306390863\n"
     ]
    },
    {
     "data": {
      "text/plain": [
       "{'random_state': 12345,\n",
       " 'n_estimators': 150,\n",
       " 'max_depth': 15,\n",
       " 'class_weight': 'balanced'}"
      ]
     },
     "execution_count": 28,
     "metadata": {},
     "output_type": "execute_result"
    }
   ],
   "source": [
    "#лучшие параметры\n",
    "print('Лучший результат f1: ', model_forest_rs.best_score_)\n",
    "model_forest_rs.best_params_"
   ]
  },
  {
   "cell_type": "markdown",
   "metadata": {},
   "source": [
    "**Вывод:** Лучшая метрика **F1 = 0.39728478306390863** у модели **Случайный лес** при гиперпараметрах: **{'random_state': 12345, 'n_estimators': 150, 'max_depth': 15, 'class_weight': 'balanced'}.**"
   ]
  },
  {
   "cell_type": "markdown",
   "metadata": {},
   "source": [
    "### CatBoostClassifier"
   ]
  },
  {
   "cell_type": "code",
   "execution_count": 36,
   "metadata": {},
   "outputs": [
    {
     "name": "stderr",
     "output_type": "stream",
     "text": [
      "Custom logger is already specified. Specify more than one logger at same time is not thread safe."
     ]
    },
    {
     "data": {
      "application/vnd.jupyter.widget-view+json": {
       "model_id": "f46fe259fe3d4d0f94245a12a4fcd2e0",
       "version_major": 2,
       "version_minor": 0
      },
      "text/plain": [
       "MetricVisualizer(layout=Layout(align_self='stretch', height='500px'))"
      ]
     },
     "metadata": {},
     "output_type": "display_data"
    },
    {
     "name": "stdout",
     "output_type": "stream",
     "text": [
      "0:\tlearn: 0.4832592\ttest: 0.4777164\tbest: 0.4777164 (0)\ttotal: 481ms\tremaining: 4.33s\n",
      "1:\tlearn: 0.4854958\ttest: 0.4805790\tbest: 0.4805790 (1)\ttotal: 947ms\tremaining: 3.79s\n",
      "2:\tlearn: 0.4880427\ttest: 0.4834125\tbest: 0.4834125 (2)\ttotal: 1.41s\tremaining: 3.29s\n",
      "3:\tlearn: 0.4880427\ttest: 0.4834125\tbest: 0.4834125 (2)\ttotal: 1.88s\tremaining: 2.82s\n",
      "4:\tlearn: 0.4880427\ttest: 0.4834125\tbest: 0.4834125 (2)\ttotal: 2.35s\tremaining: 2.35s\n",
      "5:\tlearn: 0.5466872\ttest: 0.5412988\tbest: 0.5412988 (5)\ttotal: 2.84s\tremaining: 1.89s\n",
      "6:\tlearn: 0.5477861\ttest: 0.5422410\tbest: 0.5422410 (6)\ttotal: 3.32s\tremaining: 1.42s\n",
      "7:\tlearn: 0.5477861\ttest: 0.5422410\tbest: 0.5422410 (6)\ttotal: 3.79s\tremaining: 948ms\n",
      "8:\tlearn: 0.5477861\ttest: 0.5422410\tbest: 0.5422410 (6)\ttotal: 4.26s\tremaining: 474ms\n",
      "9:\tlearn: 0.5479314\ttest: 0.5428742\tbest: 0.5428742 (9)\ttotal: 4.74s\tremaining: 0us\n",
      "\n",
      "bestTest = 0.5428741586\n",
      "bestIteration = 9\n",
      "\n",
      "0:\tloss: 0.5428742\tbest: 0.5428742 (0)\ttotal: 46s\tremaining: 6m 8s\n",
      "0:\tlearn: 0.4832592\ttest: 0.4777164\tbest: 0.4777164 (0)\ttotal: 491ms\tremaining: 48.6s\n",
      "1:\tlearn: 0.4854958\ttest: 0.4805790\tbest: 0.4805790 (1)\ttotal: 964ms\tremaining: 47.3s\n",
      "2:\tlearn: 0.4880427\ttest: 0.4834125\tbest: 0.4834125 (2)\ttotal: 1.43s\tremaining: 46.2s\n",
      "3:\tlearn: 0.4880427\ttest: 0.4834125\tbest: 0.4834125 (2)\ttotal: 1.9s\tremaining: 45.7s\n",
      "4:\tlearn: 0.4880427\ttest: 0.4834125\tbest: 0.4834125 (2)\ttotal: 2.37s\tremaining: 45s\n",
      "5:\tlearn: 0.5466872\ttest: 0.5412988\tbest: 0.5412988 (5)\ttotal: 2.88s\tremaining: 45.1s\n",
      "6:\tlearn: 0.5477861\ttest: 0.5422410\tbest: 0.5422410 (6)\ttotal: 3.35s\tremaining: 44.5s\n",
      "7:\tlearn: 0.5477861\ttest: 0.5422410\tbest: 0.5422410 (6)\ttotal: 3.81s\tremaining: 43.9s\n",
      "8:\tlearn: 0.5477861\ttest: 0.5422410\tbest: 0.5422410 (6)\ttotal: 4.28s\tremaining: 43.3s\n",
      "9:\tlearn: 0.5479314\ttest: 0.5428742\tbest: 0.5428742 (9)\ttotal: 4.76s\tremaining: 42.8s\n",
      "10:\tlearn: 0.5478543\ttest: 0.5428918\tbest: 0.5428918 (10)\ttotal: 5.23s\tremaining: 42.3s\n",
      "11:\tlearn: 0.5474596\ttest: 0.5429271\tbest: 0.5429271 (11)\ttotal: 5.7s\tremaining: 41.8s\n",
      "12:\tlearn: 0.5477045\ttest: 0.5429095\tbest: 0.5429271 (11)\ttotal: 6.16s\tremaining: 41.2s\n",
      "13:\tlearn: 0.5780591\ttest: 0.5750730\tbest: 0.5750730 (13)\ttotal: 6.63s\tremaining: 40.7s\n",
      "14:\tlearn: 0.5780638\ttest: 0.5750730\tbest: 0.5750730 (13)\ttotal: 7.1s\tremaining: 40.2s\n",
      "15:\tlearn: 0.5780638\ttest: 0.5750730\tbest: 0.5750730 (13)\ttotal: 7.56s\tremaining: 39.7s\n",
      "16:\tlearn: 0.5780638\ttest: 0.5750730\tbest: 0.5750730 (13)\ttotal: 8.03s\tremaining: 39.2s\n",
      "17:\tlearn: 0.5780731\ttest: 0.5750730\tbest: 0.5750730 (13)\ttotal: 8.49s\tremaining: 38.7s\n",
      "18:\tlearn: 0.5820528\ttest: 0.5788768\tbest: 0.5788768 (18)\ttotal: 8.96s\tremaining: 38.2s\n",
      "19:\tlearn: 0.5792966\ttest: 0.5768519\tbest: 0.5788768 (18)\ttotal: 9.42s\tremaining: 37.7s\n",
      "20:\tlearn: 0.5792282\ttest: 0.5768519\tbest: 0.5788768 (18)\ttotal: 9.9s\tremaining: 37.2s\n",
      "21:\tlearn: 0.5823619\ttest: 0.5788582\tbest: 0.5788768 (18)\ttotal: 10.4s\tremaining: 36.8s\n",
      "22:\tlearn: 0.5822893\ttest: 0.5782434\tbest: 0.5788768 (18)\ttotal: 10.8s\tremaining: 36.3s\n",
      "23:\tlearn: 0.5822893\ttest: 0.5782434\tbest: 0.5788768 (18)\ttotal: 11.3s\tremaining: 35.8s\n",
      "24:\tlearn: 0.5822799\ttest: 0.5782434\tbest: 0.5788768 (18)\ttotal: 11.8s\tremaining: 35.4s\n",
      "25:\tlearn: 0.5819028\ttest: 0.5782619\tbest: 0.5788768 (18)\ttotal: 12.3s\tremaining: 34.9s\n",
      "26:\tlearn: 0.5819028\ttest: 0.5782805\tbest: 0.5788768 (18)\ttotal: 12.7s\tremaining: 34.4s\n",
      "27:\tlearn: 0.5818302\ttest: 0.5779728\tbest: 0.5788768 (18)\ttotal: 13.2s\tremaining: 34s\n",
      "28:\tlearn: 0.5817528\ttest: 0.5779728\tbest: 0.5788768 (18)\ttotal: 13.7s\tremaining: 33.5s\n",
      "29:\tlearn: 0.5817528\ttest: 0.5779728\tbest: 0.5788768 (18)\ttotal: 14.2s\tremaining: 33s\n",
      "30:\tlearn: 0.5815254\ttest: 0.5777021\tbest: 0.5788768 (18)\ttotal: 14.6s\tremaining: 32.5s\n",
      "31:\tlearn: 0.6064828\ttest: 0.6044008\tbest: 0.6044008 (31)\ttotal: 15.1s\tremaining: 32s\n",
      "32:\tlearn: 0.6042028\ttest: 0.6027224\tbest: 0.6044008 (31)\ttotal: 15.5s\tremaining: 31.6s\n",
      "33:\tlearn: 0.6059134\ttest: 0.6055425\tbest: 0.6055425 (33)\ttotal: 16s\tremaining: 31.1s\n",
      "34:\tlearn: 0.6275096\ttest: 0.6271522\tbest: 0.6271522 (34)\ttotal: 16.5s\tremaining: 30.6s\n",
      "35:\tlearn: 0.6274426\ttest: 0.6268669\tbest: 0.6271522 (34)\ttotal: 17s\tremaining: 30.2s\n",
      "36:\tlearn: 0.6299796\ttest: 0.6289297\tbest: 0.6289297 (36)\ttotal: 17.4s\tremaining: 29.7s\n",
      "37:\tlearn: 0.6298510\ttest: 0.6289297\tbest: 0.6289297 (36)\ttotal: 17.9s\tremaining: 29.2s\n",
      "38:\tlearn: 0.6301600\ttest: 0.6294589\tbest: 0.6294589 (38)\ttotal: 18.4s\tremaining: 28.8s\n",
      "39:\tlearn: 0.6301600\ttest: 0.6294589\tbest: 0.6294589 (38)\ttotal: 18.9s\tremaining: 28.3s\n",
      "40:\tlearn: 0.6300933\ttest: 0.6294589\tbest: 0.6294589 (38)\ttotal: 19.3s\tremaining: 27.8s\n",
      "41:\tlearn: 0.6480681\ttest: 0.6471245\tbest: 0.6471245 (41)\ttotal: 19.8s\tremaining: 27.4s\n",
      "42:\tlearn: 0.6479984\ttest: 0.6468477\tbest: 0.6471245 (41)\ttotal: 20.3s\tremaining: 26.9s\n",
      "43:\tlearn: 0.6481379\ttest: 0.6468477\tbest: 0.6471245 (41)\ttotal: 20.8s\tremaining: 26.4s\n",
      "44:\tlearn: 0.6492369\ttest: 0.6484464\tbest: 0.6484464 (44)\ttotal: 21.3s\tremaining: 26s\n",
      "45:\tlearn: 0.6491723\ttest: 0.6484464\tbest: 0.6484464 (44)\ttotal: 21.7s\tremaining: 25.5s\n",
      "46:\tlearn: 0.6498824\ttest: 0.6486221\tbest: 0.6486221 (46)\ttotal: 22.2s\tremaining: 25s\n",
      "47:\tlearn: 0.6488392\ttest: 0.6478137\tbest: 0.6486221 (46)\ttotal: 22.7s\tremaining: 24.6s\n",
      "48:\tlearn: 0.6498179\ttest: 0.6491538\tbest: 0.6491538 (48)\ttotal: 23.2s\tremaining: 24.2s\n",
      "49:\tlearn: 0.6498925\ttest: 0.6486020\tbest: 0.6491538 (48)\ttotal: 23.7s\tremaining: 23.7s\n",
      "50:\tlearn: 0.6498925\ttest: 0.6483460\tbest: 0.6491538 (48)\ttotal: 24.2s\tremaining: 23.2s\n",
      "51:\tlearn: 0.6495547\ttest: 0.6489181\tbest: 0.6491538 (48)\ttotal: 24.7s\tremaining: 22.8s\n",
      "52:\tlearn: 0.6503539\ttest: 0.6488980\tbest: 0.6491538 (48)\ttotal: 25.2s\tremaining: 22.4s\n",
      "53:\tlearn: 0.6504879\ttest: 0.6488980\tbest: 0.6491538 (48)\ttotal: 25.7s\tremaining: 21.9s\n",
      "54:\tlearn: 0.6506168\ttest: 0.6494496\tbest: 0.6494496 (54)\ttotal: 26.2s\tremaining: 21.4s\n",
      "55:\tlearn: 0.6505523\ttest: 0.6494496\tbest: 0.6494496 (54)\ttotal: 26.6s\tremaining: 20.9s\n",
      "56:\tlearn: 0.6504828\ttest: 0.6494496\tbest: 0.6494496 (54)\ttotal: 27.2s\tremaining: 20.5s\n",
      "57:\tlearn: 0.6504828\ttest: 0.6494496\tbest: 0.6494496 (54)\ttotal: 27.6s\tremaining: 20s\n",
      "58:\tlearn: 0.6631269\ttest: 0.6616849\tbest: 0.6616849 (58)\ttotal: 28.1s\tremaining: 19.5s\n",
      "59:\tlearn: 0.6632430\ttest: 0.6616849\tbest: 0.6616849 (58)\ttotal: 28.6s\tremaining: 19.1s\n",
      "60:\tlearn: 0.6628437\ttest: 0.6616849\tbest: 0.6616849 (58)\ttotal: 29.1s\tremaining: 18.6s\n",
      "61:\tlearn: 0.6625024\ttest: 0.6611836\tbest: 0.6616849 (58)\ttotal: 29.5s\tremaining: 18.1s\n",
      "62:\tlearn: 0.6626338\ttest: 0.6611836\tbest: 0.6616849 (58)\ttotal: 30s\tremaining: 17.6s\n",
      "63:\tlearn: 0.6624443\ttest: 0.6611836\tbest: 0.6616849 (58)\ttotal: 30.5s\tremaining: 17.2s\n",
      "64:\tlearn: 0.6731746\ttest: 0.6662948\tbest: 0.6662948 (64)\ttotal: 31.1s\tremaining: 16.7s\n",
      "65:\tlearn: 0.6731228\ttest: 0.6660256\tbest: 0.6662948 (64)\ttotal: 31.6s\tremaining: 16.3s\n",
      "66:\tlearn: 0.6736970\ttest: 0.6662336\tbest: 0.6662948 (64)\ttotal: 32.1s\tremaining: 15.8s\n",
      "67:\tlearn: 0.6735729\ttest: 0.6662336\tbest: 0.6662948 (64)\ttotal: 32.7s\tremaining: 15.4s\n",
      "68:\tlearn: 0.6735108\ttest: 0.6662336\tbest: 0.6662948 (64)\ttotal: 33.2s\tremaining: 14.9s\n",
      "69:\tlearn: 0.6736246\ttest: 0.6662336\tbest: 0.6662948 (64)\ttotal: 33.6s\tremaining: 14.4s\n",
      "70:\tlearn: 0.6735625\ttest: 0.6662540\tbest: 0.6662948 (64)\ttotal: 34.1s\tremaining: 13.9s\n",
      "71:\tlearn: 0.6735625\ttest: 0.6662540\tbest: 0.6662948 (64)\ttotal: 34.6s\tremaining: 13.5s\n",
      "72:\tlearn: 0.6735677\ttest: 0.6662540\tbest: 0.6662948 (64)\ttotal: 35.1s\tremaining: 13s\n",
      "73:\tlearn: 0.6735005\ttest: 0.6662540\tbest: 0.6662948 (64)\ttotal: 35.5s\tremaining: 12.5s\n",
      "74:\tlearn: 0.6818580\ttest: 0.6752009\tbest: 0.6752009 (74)\ttotal: 36s\tremaining: 12s\n",
      "75:\tlearn: 0.6818632\ttest: 0.6752215\tbest: 0.6752215 (75)\ttotal: 36.5s\tremaining: 11.5s\n",
      "76:\tlearn: 0.6834167\ttest: 0.6776877\tbest: 0.6776877 (76)\ttotal: 37s\tremaining: 11s\n",
      "77:\tlearn: 0.6833869\ttest: 0.6774436\tbest: 0.6776877 (76)\ttotal: 37.4s\tremaining: 10.6s\n",
      "78:\tlearn: 0.6831113\ttest: 0.6777495\tbest: 0.6777495 (78)\ttotal: 37.9s\tremaining: 10.1s\n",
      "79:\tlearn: 0.6833310\ttest: 0.6774230\tbest: 0.6777495 (78)\ttotal: 38.4s\tremaining: 9.59s\n",
      "80:\tlearn: 0.6832491\ttest: 0.6774642\tbest: 0.6777495 (78)\ttotal: 38.8s\tremaining: 9.11s\n",
      "81:\tlearn: 0.6841363\ttest: 0.6771994\tbest: 0.6777495 (78)\ttotal: 39.3s\tremaining: 8.63s\n",
      "82:\tlearn: 0.6932869\ttest: 0.6865922\tbest: 0.6865922 (82)\ttotal: 39.8s\tremaining: 8.15s\n",
      "83:\tlearn: 0.6936081\ttest: 0.6871142\tbest: 0.6871142 (83)\ttotal: 40.3s\tremaining: 7.67s\n",
      "84:\tlearn: 0.6941667\ttest: 0.6871972\tbest: 0.6871972 (84)\ttotal: 40.7s\tremaining: 7.18s\n",
      "85:\tlearn: 0.6936815\ttest: 0.6867374\tbest: 0.6871972 (84)\ttotal: 41.2s\tremaining: 6.7s\n",
      "86:\tlearn: 0.6937153\ttest: 0.6866959\tbest: 0.6871972 (84)\ttotal: 41.7s\tremaining: 6.22s\n",
      "87:\tlearn: 0.6937153\ttest: 0.6866959\tbest: 0.6871972 (84)\ttotal: 42.1s\tremaining: 5.75s\n",
      "88:\tlearn: 0.6938720\ttest: 0.6864763\tbest: 0.6871972 (84)\ttotal: 42.6s\tremaining: 5.27s\n",
      "89:\tlearn: 0.6935457\ttest: 0.6864348\tbest: 0.6871972 (84)\ttotal: 43.1s\tremaining: 4.79s\n",
      "90:\tlearn: 0.7045237\ttest: 0.6963077\tbest: 0.6963077 (90)\ttotal: 43.6s\tremaining: 4.31s\n",
      "91:\tlearn: 0.7044005\ttest: 0.6960502\tbest: 0.6963077 (90)\ttotal: 44.1s\tremaining: 3.83s\n",
      "92:\tlearn: 0.7044163\ttest: 0.6960502\tbest: 0.6963077 (90)\ttotal: 44.5s\tremaining: 3.35s\n",
      "93:\tlearn: 0.7043573\ttest: 0.6960711\tbest: 0.6963077 (90)\ttotal: 45s\tremaining: 2.87s\n",
      "94:\tlearn: 0.7054176\ttest: 0.6965024\tbest: 0.6965024 (94)\ttotal: 45.5s\tremaining: 2.39s\n",
      "95:\tlearn: 0.7054229\ttest: 0.6965024\tbest: 0.6965024 (94)\ttotal: 45.9s\tremaining: 1.91s\n",
      "96:\tlearn: 0.7051873\ttest: 0.6965024\tbest: 0.6965024 (94)\ttotal: 46.4s\tremaining: 1.43s\n",
      "97:\tlearn: 0.7056915\ttest: 0.6971485\tbest: 0.6971485 (97)\ttotal: 46.9s\tremaining: 956ms\n",
      "98:\tlearn: 0.7056968\ttest: 0.6971485\tbest: 0.6971485 (97)\ttotal: 47.3s\tremaining: 478ms\n",
      "99:\tlearn: 0.7060657\ttest: 0.6977253\tbest: 0.6977253 (99)\ttotal: 47.8s\tremaining: 0us\n",
      "\n",
      "bestTest = 0.6977253029\n",
      "bestIteration = 99\n",
      "\n",
      "1:\tloss: 0.6977253\tbest: 0.6977253 (1)\ttotal: 1m 33s\tremaining: 5m 28s\n",
      "0:\tlearn: 0.4832592\ttest: 0.4777164\tbest: 0.4777164 (0)\ttotal: 499ms\tremaining: 1m 14s\n",
      "1:\tlearn: 0.4854958\ttest: 0.4805790\tbest: 0.4805790 (1)\ttotal: 979ms\tremaining: 1m 12s\n",
      "2:\tlearn: 0.4880427\ttest: 0.4834125\tbest: 0.4834125 (2)\ttotal: 1.46s\tremaining: 1m 11s\n",
      "3:\tlearn: 0.4880427\ttest: 0.4834125\tbest: 0.4834125 (2)\ttotal: 1.94s\tremaining: 1m 10s\n",
      "4:\tlearn: 0.4880427\ttest: 0.4834125\tbest: 0.4834125 (2)\ttotal: 2.4s\tremaining: 1m 9s\n",
      "5:\tlearn: 0.5466872\ttest: 0.5412988\tbest: 0.5412988 (5)\ttotal: 2.87s\tremaining: 1m 8s\n",
      "6:\tlearn: 0.5477861\ttest: 0.5422410\tbest: 0.5422410 (6)\ttotal: 3.34s\tremaining: 1m 8s\n",
      "7:\tlearn: 0.5477861\ttest: 0.5422410\tbest: 0.5422410 (6)\ttotal: 3.81s\tremaining: 1m 7s\n",
      "8:\tlearn: 0.5477861\ttest: 0.5422410\tbest: 0.5422410 (6)\ttotal: 4.29s\tremaining: 1m 7s\n",
      "9:\tlearn: 0.5479314\ttest: 0.5428742\tbest: 0.5428742 (9)\ttotal: 4.78s\tremaining: 1m 6s\n",
      "10:\tlearn: 0.5478543\ttest: 0.5428918\tbest: 0.5428918 (10)\ttotal: 5.26s\tremaining: 1m 6s\n",
      "11:\tlearn: 0.5474596\ttest: 0.5429271\tbest: 0.5429271 (11)\ttotal: 5.73s\tremaining: 1m 5s\n",
      "12:\tlearn: 0.5477045\ttest: 0.5429095\tbest: 0.5429271 (11)\ttotal: 6.22s\tremaining: 1m 5s\n",
      "13:\tlearn: 0.5780591\ttest: 0.5750730\tbest: 0.5750730 (13)\ttotal: 6.71s\tremaining: 1m 5s\n",
      "14:\tlearn: 0.5780638\ttest: 0.5750730\tbest: 0.5750730 (13)\ttotal: 7.18s\tremaining: 1m 4s\n",
      "15:\tlearn: 0.5780638\ttest: 0.5750730\tbest: 0.5750730 (13)\ttotal: 7.65s\tremaining: 1m 4s\n",
      "16:\tlearn: 0.5780638\ttest: 0.5750730\tbest: 0.5750730 (13)\ttotal: 8.12s\tremaining: 1m 3s\n",
      "17:\tlearn: 0.5780731\ttest: 0.5750730\tbest: 0.5750730 (13)\ttotal: 8.58s\tremaining: 1m 2s\n",
      "18:\tlearn: 0.5820528\ttest: 0.5788768\tbest: 0.5788768 (18)\ttotal: 9.06s\tremaining: 1m 2s\n",
      "19:\tlearn: 0.5792966\ttest: 0.5768519\tbest: 0.5788768 (18)\ttotal: 9.55s\tremaining: 1m 2s\n",
      "20:\tlearn: 0.5792282\ttest: 0.5768519\tbest: 0.5788768 (18)\ttotal: 10s\tremaining: 1m 1s\n",
      "21:\tlearn: 0.5823619\ttest: 0.5788582\tbest: 0.5788768 (18)\ttotal: 10.5s\tremaining: 1m 1s\n",
      "22:\tlearn: 0.5822893\ttest: 0.5782434\tbest: 0.5788768 (18)\ttotal: 11s\tremaining: 1m\n",
      "23:\tlearn: 0.5822893\ttest: 0.5782434\tbest: 0.5788768 (18)\ttotal: 11.5s\tremaining: 1m\n",
      "24:\tlearn: 0.5822799\ttest: 0.5782434\tbest: 0.5788768 (18)\ttotal: 12s\tremaining: 59.8s\n",
      "25:\tlearn: 0.5819028\ttest: 0.5782619\tbest: 0.5788768 (18)\ttotal: 12.4s\tremaining: 59.4s\n",
      "26:\tlearn: 0.5819028\ttest: 0.5782805\tbest: 0.5788768 (18)\ttotal: 12.9s\tremaining: 58.9s\n",
      "27:\tlearn: 0.5818302\ttest: 0.5779728\tbest: 0.5788768 (18)\ttotal: 13.4s\tremaining: 58.4s\n",
      "28:\tlearn: 0.5817528\ttest: 0.5779728\tbest: 0.5788768 (18)\ttotal: 13.9s\tremaining: 57.9s\n",
      "29:\tlearn: 0.5817528\ttest: 0.5779728\tbest: 0.5788768 (18)\ttotal: 14.4s\tremaining: 57.5s\n",
      "30:\tlearn: 0.5815254\ttest: 0.5777021\tbest: 0.5788768 (18)\ttotal: 14.9s\tremaining: 57s\n",
      "31:\tlearn: 0.6064828\ttest: 0.6044008\tbest: 0.6044008 (31)\ttotal: 15.4s\tremaining: 56.8s\n",
      "32:\tlearn: 0.6042028\ttest: 0.6027224\tbest: 0.6044008 (31)\ttotal: 15.9s\tremaining: 56.2s\n",
      "33:\tlearn: 0.6059134\ttest: 0.6055425\tbest: 0.6055425 (33)\ttotal: 16.3s\tremaining: 55.7s\n",
      "34:\tlearn: 0.6275096\ttest: 0.6271522\tbest: 0.6271522 (34)\ttotal: 16.8s\tremaining: 55.2s\n",
      "35:\tlearn: 0.6274426\ttest: 0.6268669\tbest: 0.6271522 (34)\ttotal: 17.3s\tremaining: 54.7s\n",
      "36:\tlearn: 0.6299796\ttest: 0.6289297\tbest: 0.6289297 (36)\ttotal: 17.7s\tremaining: 54.2s\n",
      "37:\tlearn: 0.6298510\ttest: 0.6289297\tbest: 0.6289297 (36)\ttotal: 18.2s\tremaining: 53.7s\n",
      "38:\tlearn: 0.6301600\ttest: 0.6294589\tbest: 0.6294589 (38)\ttotal: 18.7s\tremaining: 53.2s\n",
      "39:\tlearn: 0.6301600\ttest: 0.6294589\tbest: 0.6294589 (38)\ttotal: 19.2s\tremaining: 52.7s\n",
      "40:\tlearn: 0.6300933\ttest: 0.6294589\tbest: 0.6294589 (38)\ttotal: 19.6s\tremaining: 52.2s\n",
      "41:\tlearn: 0.6480681\ttest: 0.6471245\tbest: 0.6471245 (41)\ttotal: 20.1s\tremaining: 51.7s\n",
      "42:\tlearn: 0.6479984\ttest: 0.6468477\tbest: 0.6471245 (41)\ttotal: 20.6s\tremaining: 51.2s\n",
      "43:\tlearn: 0.6481379\ttest: 0.6468477\tbest: 0.6471245 (41)\ttotal: 21s\tremaining: 50.7s\n",
      "44:\tlearn: 0.6492369\ttest: 0.6484464\tbest: 0.6484464 (44)\ttotal: 21.5s\tremaining: 50.2s\n",
      "45:\tlearn: 0.6491723\ttest: 0.6484464\tbest: 0.6484464 (44)\ttotal: 22s\tremaining: 49.7s\n",
      "46:\tlearn: 0.6498824\ttest: 0.6486221\tbest: 0.6486221 (46)\ttotal: 22.5s\tremaining: 49.2s\n",
      "47:\tlearn: 0.6488392\ttest: 0.6478137\tbest: 0.6486221 (46)\ttotal: 22.9s\tremaining: 48.7s\n",
      "48:\tlearn: 0.6498179\ttest: 0.6491538\tbest: 0.6491538 (48)\ttotal: 23.4s\tremaining: 48.2s\n",
      "49:\tlearn: 0.6498925\ttest: 0.6486020\tbest: 0.6491538 (48)\ttotal: 23.9s\tremaining: 47.7s\n",
      "50:\tlearn: 0.6498925\ttest: 0.6483460\tbest: 0.6491538 (48)\ttotal: 24.3s\tremaining: 47.2s\n",
      "51:\tlearn: 0.6495547\ttest: 0.6489181\tbest: 0.6491538 (48)\ttotal: 24.8s\tremaining: 46.8s\n",
      "52:\tlearn: 0.6503539\ttest: 0.6488980\tbest: 0.6491538 (48)\ttotal: 25.3s\tremaining: 46.3s\n",
      "53:\tlearn: 0.6504879\ttest: 0.6488980\tbest: 0.6491538 (48)\ttotal: 25.8s\tremaining: 45.8s\n",
      "54:\tlearn: 0.6506168\ttest: 0.6494496\tbest: 0.6494496 (54)\ttotal: 26.3s\tremaining: 45.4s\n",
      "55:\tlearn: 0.6505523\ttest: 0.6494496\tbest: 0.6494496 (54)\ttotal: 26.7s\tremaining: 44.9s\n",
      "56:\tlearn: 0.6504828\ttest: 0.6494496\tbest: 0.6494496 (54)\ttotal: 27.2s\tremaining: 44.4s\n",
      "57:\tlearn: 0.6504828\ttest: 0.6494496\tbest: 0.6494496 (54)\ttotal: 27.7s\tremaining: 43.9s\n",
      "58:\tlearn: 0.6631269\ttest: 0.6616849\tbest: 0.6616849 (58)\ttotal: 28.1s\tremaining: 43.4s\n",
      "59:\tlearn: 0.6632430\ttest: 0.6616849\tbest: 0.6616849 (58)\ttotal: 28.6s\tremaining: 42.9s\n",
      "60:\tlearn: 0.6628437\ttest: 0.6616849\tbest: 0.6616849 (58)\ttotal: 29.1s\tremaining: 42.4s\n",
      "61:\tlearn: 0.6625024\ttest: 0.6611836\tbest: 0.6616849 (58)\ttotal: 29.5s\tremaining: 41.9s\n",
      "62:\tlearn: 0.6626338\ttest: 0.6611836\tbest: 0.6616849 (58)\ttotal: 30s\tremaining: 41.4s\n",
      "63:\tlearn: 0.6624443\ttest: 0.6611836\tbest: 0.6616849 (58)\ttotal: 30.5s\tremaining: 41s\n",
      "64:\tlearn: 0.6731746\ttest: 0.6662948\tbest: 0.6662948 (64)\ttotal: 31s\tremaining: 40.5s\n",
      "65:\tlearn: 0.6731228\ttest: 0.6660256\tbest: 0.6662948 (64)\ttotal: 31.4s\tremaining: 40s\n",
      "66:\tlearn: 0.6736970\ttest: 0.6662336\tbest: 0.6662948 (64)\ttotal: 31.9s\tremaining: 39.5s\n",
      "67:\tlearn: 0.6735729\ttest: 0.6662336\tbest: 0.6662948 (64)\ttotal: 32.4s\tremaining: 39s\n",
      "68:\tlearn: 0.6735108\ttest: 0.6662336\tbest: 0.6662948 (64)\ttotal: 32.9s\tremaining: 38.6s\n",
      "69:\tlearn: 0.6736246\ttest: 0.6662336\tbest: 0.6662948 (64)\ttotal: 33.3s\tremaining: 38.1s\n",
      "70:\tlearn: 0.6735625\ttest: 0.6662540\tbest: 0.6662948 (64)\ttotal: 33.8s\tremaining: 37.6s\n",
      "71:\tlearn: 0.6735625\ttest: 0.6662540\tbest: 0.6662948 (64)\ttotal: 34.3s\tremaining: 37.1s\n",
      "72:\tlearn: 0.6735677\ttest: 0.6662540\tbest: 0.6662948 (64)\ttotal: 34.8s\tremaining: 36.7s\n",
      "73:\tlearn: 0.6735005\ttest: 0.6662540\tbest: 0.6662948 (64)\ttotal: 35.3s\tremaining: 36.2s\n",
      "74:\tlearn: 0.6818580\ttest: 0.6752009\tbest: 0.6752009 (74)\ttotal: 35.8s\tremaining: 35.8s\n",
      "75:\tlearn: 0.6818632\ttest: 0.6752215\tbest: 0.6752215 (75)\ttotal: 36.2s\tremaining: 35.3s\n",
      "76:\tlearn: 0.6834167\ttest: 0.6776877\tbest: 0.6776877 (76)\ttotal: 36.7s\tremaining: 34.8s\n",
      "77:\tlearn: 0.6833869\ttest: 0.6774436\tbest: 0.6776877 (76)\ttotal: 37.2s\tremaining: 34.3s\n",
      "78:\tlearn: 0.6831113\ttest: 0.6777495\tbest: 0.6777495 (78)\ttotal: 37.7s\tremaining: 33.9s\n",
      "79:\tlearn: 0.6833310\ttest: 0.6774230\tbest: 0.6777495 (78)\ttotal: 38.3s\tremaining: 33.5s\n",
      "80:\tlearn: 0.6832491\ttest: 0.6774642\tbest: 0.6777495 (78)\ttotal: 38.8s\tremaining: 33.1s\n",
      "81:\tlearn: 0.6841363\ttest: 0.6771994\tbest: 0.6777495 (78)\ttotal: 39.3s\tremaining: 32.6s\n",
      "82:\tlearn: 0.6932869\ttest: 0.6865922\tbest: 0.6865922 (82)\ttotal: 39.8s\tremaining: 32.1s\n",
      "83:\tlearn: 0.6936081\ttest: 0.6871142\tbest: 0.6871142 (83)\ttotal: 40.3s\tremaining: 31.7s\n",
      "84:\tlearn: 0.6941667\ttest: 0.6871972\tbest: 0.6871972 (84)\ttotal: 40.8s\tremaining: 31.2s\n",
      "85:\tlearn: 0.6936815\ttest: 0.6867374\tbest: 0.6871972 (84)\ttotal: 41.3s\tremaining: 30.7s\n",
      "86:\tlearn: 0.6937153\ttest: 0.6866959\tbest: 0.6871972 (84)\ttotal: 41.7s\tremaining: 30.2s\n",
      "87:\tlearn: 0.6937153\ttest: 0.6866959\tbest: 0.6871972 (84)\ttotal: 42.2s\tremaining: 29.7s\n",
      "88:\tlearn: 0.6938720\ttest: 0.6864763\tbest: 0.6871972 (84)\ttotal: 42.7s\tremaining: 29.3s\n",
      "89:\tlearn: 0.6935457\ttest: 0.6864348\tbest: 0.6871972 (84)\ttotal: 43.3s\tremaining: 28.8s\n",
      "90:\tlearn: 0.7045237\ttest: 0.6963077\tbest: 0.6963077 (90)\ttotal: 43.8s\tremaining: 28.4s\n",
      "91:\tlearn: 0.7044005\ttest: 0.6960502\tbest: 0.6963077 (90)\ttotal: 44.3s\tremaining: 28s\n",
      "92:\tlearn: 0.7044163\ttest: 0.6960502\tbest: 0.6963077 (90)\ttotal: 44.9s\tremaining: 27.5s\n",
      "93:\tlearn: 0.7043573\ttest: 0.6960711\tbest: 0.6963077 (90)\ttotal: 45.4s\tremaining: 27.1s\n",
      "94:\tlearn: 0.7054176\ttest: 0.6965024\tbest: 0.6965024 (94)\ttotal: 45.9s\tremaining: 26.6s\n",
      "95:\tlearn: 0.7054229\ttest: 0.6965024\tbest: 0.6965024 (94)\ttotal: 46.4s\tremaining: 26.1s\n",
      "96:\tlearn: 0.7051873\ttest: 0.6965024\tbest: 0.6965024 (94)\ttotal: 46.9s\tremaining: 25.6s\n",
      "97:\tlearn: 0.7056915\ttest: 0.6971485\tbest: 0.6971485 (97)\ttotal: 47.3s\tremaining: 25.1s\n",
      "98:\tlearn: 0.7056968\ttest: 0.6971485\tbest: 0.6971485 (97)\ttotal: 47.8s\tremaining: 24.6s\n",
      "99:\tlearn: 0.7060657\ttest: 0.6977253\tbest: 0.6977253 (99)\ttotal: 48.3s\tremaining: 24.1s\n",
      "100:\tlearn: 0.7061675\ttest: 0.6974265\tbest: 0.6977253 (99)\ttotal: 48.8s\tremaining: 23.7s\n",
      "101:\tlearn: 0.7060816\ttest: 0.6974683\tbest: 0.6977253 (99)\ttotal: 49.2s\tremaining: 23.2s\n",
      "102:\tlearn: 0.7064397\ttest: 0.6984118\tbest: 0.6984118 (102)\ttotal: 49.7s\tremaining: 22.7s\n",
      "103:\tlearn: 0.7060387\ttest: 0.6977253\tbest: 0.6984118 (102)\ttotal: 50.2s\tremaining: 22.2s\n",
      "104:\tlearn: 0.7057874\ttest: 0.6980031\tbest: 0.6984118 (102)\ttotal: 50.6s\tremaining: 21.7s\n",
      "105:\tlearn: 0.7062528\ttest: 0.6984328\tbest: 0.6984328 (105)\ttotal: 51.1s\tremaining: 21.2s\n",
      "106:\tlearn: 0.7054395\ttest: 0.6975940\tbest: 0.6984328 (105)\ttotal: 51.6s\tremaining: 20.7s\n",
      "107:\tlearn: 0.7060116\ttest: 0.6980869\tbest: 0.6984328 (105)\ttotal: 52.1s\tremaining: 20.3s\n",
      "108:\tlearn: 0.7060380\ttest: 0.6979138\tbest: 0.6984328 (105)\ttotal: 52.5s\tremaining: 19.8s\n",
      "109:\tlearn: 0.7133615\ttest: 0.7037793\tbest: 0.7037793 (109)\ttotal: 53s\tremaining: 19.3s\n",
      "110:\tlearn: 0.7133775\ttest: 0.7038004\tbest: 0.7038004 (110)\ttotal: 53.5s\tremaining: 18.8s\n",
      "111:\tlearn: 0.7135467\ttest: 0.7040342\tbest: 0.7040342 (111)\ttotal: 53.9s\tremaining: 18.3s\n",
      "112:\tlearn: 0.7137527\ttest: 0.7044806\tbest: 0.7044806 (112)\ttotal: 54.4s\tremaining: 17.8s\n",
      "113:\tlearn: 0.7143025\ttest: 0.7046932\tbest: 0.7046932 (113)\ttotal: 54.9s\tremaining: 17.3s\n",
      "114:\tlearn: 0.7125569\ttest: 0.7011377\tbest: 0.7046932 (113)\ttotal: 55.4s\tremaining: 16.9s\n",
      "115:\tlearn: 0.7148358\ttest: 0.7037163\tbest: 0.7046932 (113)\ttotal: 55.9s\tremaining: 16.4s\n",
      "116:\tlearn: 0.7152266\ttest: 0.7035033\tbest: 0.7046932 (113)\ttotal: 56.4s\tremaining: 15.9s\n",
      "117:\tlearn: 0.7163013\ttest: 0.7063888\tbest: 0.7063888 (117)\ttotal: 56.8s\tremaining: 15.4s\n",
      "118:\tlearn: 0.7161801\ttest: 0.7064099\tbest: 0.7064099 (118)\ttotal: 57.3s\tremaining: 14.9s\n",
      "119:\tlearn: 0.7157746\ttest: 0.7054144\tbest: 0.7064099 (118)\ttotal: 57.8s\tremaining: 14.4s\n",
      "120:\tlearn: 0.7158219\ttest: 0.7051390\tbest: 0.7064099 (118)\ttotal: 58.3s\tremaining: 14s\n",
      "121:\tlearn: 0.7159011\ttest: 0.7051390\tbest: 0.7064099 (118)\ttotal: 58.7s\tremaining: 13.5s\n",
      "122:\tlearn: 0.7159537\ttest: 0.7053302\tbest: 0.7064099 (118)\ttotal: 59.2s\tremaining: 13s\n",
      "123:\tlearn: 0.7161115\ttest: 0.7058175\tbest: 0.7064099 (118)\ttotal: 59.7s\tremaining: 12.5s\n",
      "124:\tlearn: 0.7160643\ttest: 0.7058175\tbest: 0.7064099 (118)\ttotal: 1m\tremaining: 12s\n",
      "125:\tlearn: 0.7159804\ttest: 0.7058175\tbest: 0.7064099 (118)\ttotal: 1m\tremaining: 11.5s\n",
      "126:\tlearn: 0.7231392\ttest: 0.7116065\tbest: 0.7116065 (126)\ttotal: 1m 1s\tremaining: 11.1s\n",
      "127:\tlearn: 0.7231963\ttest: 0.7118790\tbest: 0.7118790 (127)\ttotal: 1m 1s\tremaining: 10.6s\n",
      "128:\tlearn: 0.7236371\ttest: 0.7123180\tbest: 0.7123180 (128)\ttotal: 1m 2s\tremaining: 10.1s\n",
      "129:\tlearn: 0.7233355\ttest: 0.7123180\tbest: 0.7123180 (128)\ttotal: 1m 2s\tremaining: 9.62s\n",
      "130:\tlearn: 0.7231802\ttest: 0.7121303\tbest: 0.7123180 (128)\ttotal: 1m 2s\tremaining: 9.13s\n",
      "131:\tlearn: 0.7231231\ttest: 0.7118790\tbest: 0.7123180 (128)\ttotal: 1m 3s\tremaining: 8.65s\n",
      "132:\tlearn: 0.7232998\ttest: 0.7121092\tbest: 0.7123180 (128)\ttotal: 1m 3s\tremaining: 8.17s\n",
      "133:\tlearn: 0.7230874\ttest: 0.7121303\tbest: 0.7123180 (128)\ttotal: 1m 4s\tremaining: 7.69s\n",
      "134:\tlearn: 0.7230302\ttest: 0.7121303\tbest: 0.7123180 (128)\ttotal: 1m 4s\tremaining: 7.21s\n",
      "135:\tlearn: 0.7232427\ttest: 0.7127990\tbest: 0.7127990 (135)\ttotal: 1m 5s\tremaining: 6.73s\n",
      "136:\tlearn: 0.7235996\ttest: 0.7132373\tbest: 0.7132373 (136)\ttotal: 1m 5s\tremaining: 6.25s\n",
      "137:\tlearn: 0.7234176\ttest: 0.7132373\tbest: 0.7132373 (136)\ttotal: 1m 6s\tremaining: 5.77s\n",
      "138:\tlearn: 0.7267811\ttest: 0.7161565\tbest: 0.7161565 (138)\ttotal: 1m 6s\tremaining: 5.29s\n",
      "139:\tlearn: 0.7268026\ttest: 0.7161777\tbest: 0.7161777 (139)\ttotal: 1m 7s\tremaining: 4.8s\n",
      "140:\tlearn: 0.7267243\ttest: 0.7166136\tbest: 0.7166136 (140)\ttotal: 1m 7s\tremaining: 4.32s\n",
      "141:\tlearn: 0.7310953\ttest: 0.7218180\tbest: 0.7218180 (141)\ttotal: 1m 8s\tremaining: 3.84s\n",
      "142:\tlearn: 0.7313750\ttest: 0.7210949\tbest: 0.7218180 (141)\ttotal: 1m 8s\tremaining: 3.36s\n",
      "143:\tlearn: 0.7314152\ttest: 0.7209884\tbest: 0.7218180 (141)\ttotal: 1m 9s\tremaining: 2.88s\n",
      "144:\tlearn: 0.7312244\ttest: 0.7210097\tbest: 0.7218180 (141)\ttotal: 1m 9s\tremaining: 2.4s\n",
      "145:\tlearn: 0.7317906\ttest: 0.7215836\tbest: 0.7218180 (141)\ttotal: 1m 10s\tremaining: 1.92s\n",
      "146:\tlearn: 0.7324935\ttest: 0.7214984\tbest: 0.7218180 (141)\ttotal: 1m 10s\tremaining: 1.44s\n",
      "147:\tlearn: 0.7324480\ttest: 0.7215410\tbest: 0.7218180 (141)\ttotal: 1m 11s\tremaining: 960ms\n",
      "148:\tlearn: 0.7324157\ttest: 0.7217676\tbest: 0.7218180 (141)\ttotal: 1m 11s\tremaining: 480ms\n",
      "149:\tlearn: 0.7322869\ttest: 0.7217676\tbest: 0.7218180 (141)\ttotal: 1m 12s\tremaining: 0us\n",
      "\n",
      "bestTest = 0.7218180002\n",
      "bestIteration = 141\n",
      "\n",
      "2:\tloss: 0.7218180\tbest: 0.7218180 (2)\ttotal: 2m 46s\tremaining: 5m 32s\n",
      "0:\tlearn: 0.5426060\ttest: 0.5358010\tbest: 0.5358010 (0)\ttotal: 646ms\tremaining: 5.81s\n",
      "1:\tlearn: 0.5441456\ttest: 0.5377543\tbest: 0.5377543 (1)\ttotal: 1.25s\tremaining: 5.01s\n",
      "2:\tlearn: 0.5459092\ttest: 0.5387199\tbest: 0.5387199 (2)\ttotal: 1.88s\tremaining: 4.38s\n",
      "3:\tlearn: 0.5459092\ttest: 0.5387199\tbest: 0.5387199 (2)\ttotal: 2.49s\tremaining: 3.73s\n",
      "4:\tlearn: 0.5459092\ttest: 0.5387199\tbest: 0.5387199 (2)\ttotal: 3.18s\tremaining: 3.18s\n",
      "5:\tlearn: 0.5817035\ttest: 0.5761054\tbest: 0.5761054 (5)\ttotal: 3.79s\tremaining: 2.52s\n",
      "6:\tlearn: 0.5790729\ttest: 0.5759817\tbest: 0.5761054 (5)\ttotal: 4.47s\tremaining: 1.92s\n",
      "7:\tlearn: 0.5830147\ttest: 0.5784952\tbest: 0.5784952 (7)\ttotal: 5.14s\tremaining: 1.28s\n",
      "8:\tlearn: 0.5831550\ttest: 0.5787839\tbest: 0.5787839 (8)\ttotal: 5.79s\tremaining: 643ms\n",
      "9:\tlearn: 0.5839074\ttest: 0.5786911\tbest: 0.5787839 (8)\ttotal: 6.38s\tremaining: 0us\n",
      "\n",
      "bestTest = 0.5787839297\n",
      "bestIteration = 8\n",
      "\n",
      "3:\tloss: 0.5787839\tbest: 0.7218180 (2)\ttotal: 2m 52s\tremaining: 3m 35s\n",
      "0:\tlearn: 0.5426060\ttest: 0.5358010\tbest: 0.5358010 (0)\ttotal: 638ms\tremaining: 1m 3s\n",
      "1:\tlearn: 0.5441456\ttest: 0.5377543\tbest: 0.5377543 (1)\ttotal: 1.25s\tremaining: 1m 1s\n",
      "2:\tlearn: 0.5459092\ttest: 0.5387199\tbest: 0.5387199 (2)\ttotal: 1.85s\tremaining: 59.9s\n",
      "3:\tlearn: 0.5459092\ttest: 0.5387199\tbest: 0.5387199 (2)\ttotal: 2.45s\tremaining: 58.9s\n",
      "4:\tlearn: 0.5459092\ttest: 0.5387199\tbest: 0.5387199 (2)\ttotal: 3.13s\tremaining: 59.4s\n",
      "5:\tlearn: 0.5817035\ttest: 0.5761054\tbest: 0.5761054 (5)\ttotal: 3.73s\tremaining: 58.4s\n",
      "6:\tlearn: 0.5790729\ttest: 0.5759817\tbest: 0.5761054 (5)\ttotal: 4.4s\tremaining: 58.5s\n",
      "7:\tlearn: 0.5830147\ttest: 0.5784952\tbest: 0.5784952 (7)\ttotal: 5.07s\tremaining: 58.3s\n",
      "8:\tlearn: 0.5831550\ttest: 0.5787839\tbest: 0.5787839 (8)\ttotal: 5.72s\tremaining: 57.9s\n",
      "9:\tlearn: 0.5839074\ttest: 0.5786911\tbest: 0.5787839 (8)\ttotal: 6.33s\tremaining: 57s\n",
      "10:\tlearn: 0.5838303\ttest: 0.5786911\tbest: 0.5787839 (8)\ttotal: 7s\tremaining: 56.6s\n",
      "11:\tlearn: 0.5838350\ttest: 0.5786911\tbest: 0.5787839 (8)\ttotal: 7.66s\tremaining: 56.2s\n",
      "12:\tlearn: 0.6086225\ttest: 0.6053506\tbest: 0.6053506 (12)\ttotal: 8.26s\tremaining: 55.3s\n",
      "13:\tlearn: 0.6276889\ttest: 0.6241684\tbest: 0.6241684 (13)\ttotal: 8.93s\tremaining: 54.8s\n",
      "14:\tlearn: 0.6276889\ttest: 0.6241684\tbest: 0.6241684 (13)\ttotal: 9.58s\tremaining: 54.3s\n",
      "15:\tlearn: 0.6290942\ttest: 0.6265826\tbest: 0.6265826 (15)\ttotal: 10.2s\tremaining: 53.5s\n",
      "16:\tlearn: 0.6498532\ttest: 0.6480097\tbest: 0.6480097 (16)\ttotal: 10.8s\tremaining: 52.9s\n",
      "17:\tlearn: 0.6501656\ttest: 0.6485820\tbest: 0.6485820 (17)\ttotal: 11.5s\tremaining: 52.4s\n",
      "18:\tlearn: 0.6504235\ttest: 0.6485017\tbest: 0.6485820 (17)\ttotal: 12.1s\tremaining: 51.8s\n",
      "19:\tlearn: 0.6503539\ttest: 0.6485217\tbest: 0.6485820 (17)\ttotal: 12.8s\tremaining: 51.2s\n",
      "20:\tlearn: 0.6504929\ttest: 0.6491136\tbest: 0.6491136 (20)\ttotal: 13.4s\tremaining: 50.6s\n",
      "21:\tlearn: 0.6513250\ttest: 0.6499203\tbest: 0.6499203 (21)\ttotal: 14s\tremaining: 49.7s\n",
      "22:\tlearn: 0.6512556\ttest: 0.6499203\tbest: 0.6499203 (21)\ttotal: 14.7s\tremaining: 49.2s\n",
      "23:\tlearn: 0.6515281\ttest: 0.6498801\tbest: 0.6499203 (21)\ttotal: 15.3s\tremaining: 48.5s\n",
      "24:\tlearn: 0.6633027\ttest: 0.6553871\tbest: 0.6553871 (24)\ttotal: 15.9s\tremaining: 47.8s\n",
      "25:\tlearn: 0.6631083\ttest: 0.6551340\tbest: 0.6553871 (24)\ttotal: 16.6s\tremaining: 47.3s\n",
      "26:\tlearn: 0.6633078\ttest: 0.6548404\tbest: 0.6553871 (24)\ttotal: 17.3s\tremaining: 46.6s\n",
      "27:\tlearn: 0.6623607\ttest: 0.6540396\tbest: 0.6553871 (24)\ttotal: 17.9s\tremaining: 46s\n",
      "28:\tlearn: 0.6633283\ttest: 0.6551542\tbest: 0.6553871 (24)\ttotal: 18.5s\tremaining: 45.3s\n",
      "29:\tlearn: 0.6632703\ttest: 0.6551340\tbest: 0.6553871 (24)\ttotal: 19.1s\tremaining: 44.6s\n",
      "30:\tlearn: 0.6628711\ttest: 0.6551542\tbest: 0.6553871 (24)\ttotal: 19.8s\tremaining: 44s\n",
      "31:\tlearn: 0.6629445\ttest: 0.6551744\tbest: 0.6553871 (24)\ttotal: 20.6s\tremaining: 43.7s\n",
      "32:\tlearn: 0.6639691\ttest: 0.6558526\tbest: 0.6558526 (32)\ttotal: 21.2s\tremaining: 43.1s\n",
      "33:\tlearn: 0.6655065\ttest: 0.6589794\tbest: 0.6589794 (33)\ttotal: 21.9s\tremaining: 42.5s\n",
      "34:\tlearn: 0.6653486\ttest: 0.6579322\tbest: 0.6589794 (33)\ttotal: 22.5s\tremaining: 41.9s\n",
      "35:\tlearn: 0.6665200\ttest: 0.6589997\tbest: 0.6589997 (35)\ttotal: 23.2s\tremaining: 41.2s\n",
      "36:\tlearn: 0.6646465\ttest: 0.6571759\tbest: 0.6589997 (35)\ttotal: 23.8s\tremaining: 40.6s\n",
      "37:\tlearn: 0.6778556\ttest: 0.6700333\tbest: 0.6700333 (37)\ttotal: 24.5s\tremaining: 40s\n",
      "38:\tlearn: 0.6773982\ttest: 0.6697657\tbest: 0.6700333 (37)\ttotal: 25.2s\tremaining: 39.5s\n",
      "39:\tlearn: 0.6776086\ttest: 0.6705272\tbest: 0.6705272 (39)\ttotal: 25.9s\tremaining: 38.9s\n",
      "40:\tlearn: 0.6777422\ttest: 0.6705476\tbest: 0.6705476 (40)\ttotal: 26.7s\tremaining: 38.4s\n",
      "41:\tlearn: 0.6853774\ttest: 0.6766490\tbest: 0.6766490 (41)\ttotal: 27.4s\tremaining: 37.8s\n",
      "42:\tlearn: 0.6861040\ttest: 0.6769551\tbest: 0.6769551 (42)\ttotal: 28s\tremaining: 37.1s\n",
      "43:\tlearn: 0.6968288\ttest: 0.6874166\tbest: 0.6874166 (43)\ttotal: 28.6s\tremaining: 36.4s\n",
      "44:\tlearn: 0.6972573\ttest: 0.6884176\tbest: 0.6884176 (44)\ttotal: 29.2s\tremaining: 35.7s\n",
      "45:\tlearn: 0.7056492\ttest: 0.6967806\tbest: 0.6967806 (45)\ttotal: 29.9s\tremaining: 35.1s\n",
      "46:\tlearn: 0.7068352\ttest: 0.6967388\tbest: 0.6967806 (45)\ttotal: 30.5s\tremaining: 34.4s\n",
      "47:\tlearn: 0.7076836\ttest: 0.6980031\tbest: 0.6980031 (47)\ttotal: 31.1s\tremaining: 33.7s\n",
      "48:\tlearn: 0.7087386\ttest: 0.6986056\tbest: 0.6986056 (48)\ttotal: 31.7s\tremaining: 33s\n",
      "49:\tlearn: 0.7087811\ttest: 0.6986684\tbest: 0.6986684 (49)\ttotal: 32.3s\tremaining: 32.3s\n",
      "50:\tlearn: 0.7089088\ttest: 0.6984956\tbest: 0.6986684 (49)\ttotal: 32.9s\tremaining: 31.6s\n",
      "51:\tlearn: 0.7092388\ttest: 0.6994377\tbest: 0.6994377 (51)\ttotal: 33.5s\tremaining: 31s\n",
      "52:\tlearn: 0.7088929\ttest: 0.6994796\tbest: 0.6994796 (52)\ttotal: 34.2s\tremaining: 30.3s\n",
      "53:\tlearn: 0.7163708\ttest: 0.7051469\tbest: 0.7051469 (53)\ttotal: 34.8s\tremaining: 29.6s\n",
      "54:\tlearn: 0.7163708\ttest: 0.7048932\tbest: 0.7051469 (53)\ttotal: 35.4s\tremaining: 28.9s\n",
      "55:\tlearn: 0.7162136\ttest: 0.7048932\tbest: 0.7051469 (53)\ttotal: 36s\tremaining: 28.3s\n",
      "56:\tlearn: 0.7158725\ttest: 0.7041739\tbest: 0.7051469 (53)\ttotal: 36.7s\tremaining: 27.7s\n",
      "57:\tlearn: 0.7159356\ttest: 0.7044067\tbest: 0.7051469 (53)\ttotal: 37.3s\tremaining: 27s\n",
      "58:\tlearn: 0.7163353\ttest: 0.7041949\tbest: 0.7051469 (53)\ttotal: 38s\tremaining: 26.4s\n",
      "59:\tlearn: 0.7210083\ttest: 0.7091515\tbest: 0.7091515 (59)\ttotal: 38.6s\tremaining: 25.7s\n",
      "60:\tlearn: 0.7283886\ttest: 0.7172402\tbest: 0.7172402 (60)\ttotal: 39.2s\tremaining: 25s\n",
      "61:\tlearn: 0.7281374\ttest: 0.7171605\tbest: 0.7172402 (60)\ttotal: 39.8s\tremaining: 24.4s\n",
      "62:\tlearn: 0.7284829\ttest: 0.7179672\tbest: 0.7179672 (62)\ttotal: 40.4s\tremaining: 23.7s\n",
      "63:\tlearn: 0.7291496\ttest: 0.7180405\tbest: 0.7180405 (63)\ttotal: 41s\tremaining: 23s\n",
      "64:\tlearn: 0.7288613\ttest: 0.7180405\tbest: 0.7180405 (63)\ttotal: 41.6s\tremaining: 22.4s\n",
      "65:\tlearn: 0.7291550\ttest: 0.7185597\tbest: 0.7185597 (65)\ttotal: 42.2s\tremaining: 21.7s\n",
      "66:\tlearn: 0.7294863\ttest: 0.7188511\tbest: 0.7188511 (66)\ttotal: 42.8s\tremaining: 21.1s\n",
      "67:\tlearn: 0.7294136\ttest: 0.7185597\tbest: 0.7188511 (66)\ttotal: 43.4s\tremaining: 20.4s\n",
      "68:\tlearn: 0.7289715\ttest: 0.7185659\tbest: 0.7188511 (66)\ttotal: 44.1s\tremaining: 19.8s\n",
      "69:\tlearn: 0.7293649\ttest: 0.7188149\tbest: 0.7188511 (66)\ttotal: 44.7s\tremaining: 19.1s\n",
      "70:\tlearn: 0.7305573\ttest: 0.7206975\tbest: 0.7206975 (70)\ttotal: 45.3s\tremaining: 18.5s\n",
      "71:\tlearn: 0.7406691\ttest: 0.7259500\tbest: 0.7259500 (71)\ttotal: 45.9s\tremaining: 17.9s\n",
      "72:\tlearn: 0.7406063\ttest: 0.7263119\tbest: 0.7263119 (72)\ttotal: 46.5s\tremaining: 17.2s\n",
      "73:\tlearn: 0.7408060\ttest: 0.7268018\tbest: 0.7268018 (73)\ttotal: 47.1s\tremaining: 16.6s\n",
      "74:\tlearn: 0.7413081\ttest: 0.7273556\tbest: 0.7273556 (74)\ttotal: 47.8s\tremaining: 15.9s\n",
      "75:\tlearn: 0.7415032\ttest: 0.7274719\tbest: 0.7274719 (75)\ttotal: 48.4s\tremaining: 15.3s\n",
      "76:\tlearn: 0.7418619\ttest: 0.7277165\tbest: 0.7277165 (76)\ttotal: 49s\tremaining: 14.6s\n",
      "77:\tlearn: 0.7417775\ttest: 0.7271322\tbest: 0.7277165 (76)\ttotal: 49.6s\tremaining: 14s\n",
      "78:\tlearn: 0.7416900\ttest: 0.7263021\tbest: 0.7277165 (76)\ttotal: 50.2s\tremaining: 13.4s\n",
      "79:\tlearn: 0.7419166\ttest: 0.7270157\tbest: 0.7277165 (76)\ttotal: 50.9s\tremaining: 12.7s\n",
      "80:\tlearn: 0.7420108\ttest: 0.7275054\tbest: 0.7277165 (76)\ttotal: 51.5s\tremaining: 12.1s\n",
      "81:\tlearn: 0.7419674\ttest: 0.7275054\tbest: 0.7277165 (76)\ttotal: 52.1s\tremaining: 11.4s\n",
      "82:\tlearn: 0.7444963\ttest: 0.7298851\tbest: 0.7298851 (82)\ttotal: 52.8s\tremaining: 10.8s\n",
      "83:\tlearn: 0.7447770\ttest: 0.7303515\tbest: 0.7303515 (83)\ttotal: 53.4s\tremaining: 10.2s\n",
      "84:\tlearn: 0.7448049\ttest: 0.7302872\tbest: 0.7303515 (83)\ttotal: 54s\tremaining: 9.53s\n",
      "85:\tlearn: 0.7447329\ttest: 0.7301076\tbest: 0.7303515 (83)\ttotal: 54.6s\tremaining: 8.89s\n",
      "86:\tlearn: 0.7444793\ttest: 0.7299065\tbest: 0.7303515 (83)\ttotal: 55.2s\tremaining: 8.25s\n",
      "87:\tlearn: 0.7444909\ttest: 0.7303515\tbest: 0.7303515 (83)\ttotal: 55.8s\tremaining: 7.62s\n",
      "88:\tlearn: 0.7447267\ttest: 0.7309678\tbest: 0.7309678 (88)\ttotal: 56.5s\tremaining: 6.98s\n",
      "89:\tlearn: 0.7448830\ttest: 0.7309541\tbest: 0.7309678 (88)\ttotal: 57.1s\tremaining: 6.34s\n",
      "90:\tlearn: 0.7448300\ttest: 0.7310904\tbest: 0.7310904 (90)\ttotal: 57.7s\tremaining: 5.71s\n",
      "91:\tlearn: 0.7449013\ttest: 0.7306246\tbest: 0.7310904 (90)\ttotal: 58.4s\tremaining: 5.08s\n",
      "92:\tlearn: 0.7451430\ttest: 0.7318207\tbest: 0.7318207 (92)\ttotal: 59s\tremaining: 4.44s\n",
      "93:\tlearn: 0.7460292\ttest: 0.7314988\tbest: 0.7318207 (92)\ttotal: 59.6s\tremaining: 3.8s\n",
      "94:\tlearn: 0.7461458\ttest: 0.7312842\tbest: 0.7318207 (92)\ttotal: 1m\tremaining: 3.17s\n",
      "95:\tlearn: 0.7464037\ttest: 0.7315059\tbest: 0.7318207 (92)\ttotal: 1m\tremaining: 2.53s\n",
      "96:\tlearn: 0.7465904\ttest: 0.7319706\tbest: 0.7319706 (96)\ttotal: 1m 1s\tremaining: 1.9s\n",
      "97:\tlearn: 0.7511734\ttest: 0.7409843\tbest: 0.7409843 (97)\ttotal: 1m 2s\tremaining: 1.26s\n",
      "98:\tlearn: 0.7540375\ttest: 0.7429038\tbest: 0.7429038 (98)\ttotal: 1m 2s\tremaining: 632ms\n",
      "99:\tlearn: 0.7578598\ttest: 0.7462743\tbest: 0.7462743 (99)\ttotal: 1m 3s\tremaining: 0us\n",
      "\n",
      "bestTest = 0.7462742945\n",
      "bestIteration = 99\n",
      "\n",
      "4:\tloss: 0.7462743\tbest: 0.7462743 (4)\ttotal: 3m 55s\tremaining: 3m 8s\n",
      "0:\tlearn: 0.5426060\ttest: 0.5358010\tbest: 0.5358010 (0)\ttotal: 646ms\tremaining: 1m 36s\n",
      "1:\tlearn: 0.5441456\ttest: 0.5377543\tbest: 0.5377543 (1)\ttotal: 1.25s\tremaining: 1m 32s\n",
      "2:\tlearn: 0.5459092\ttest: 0.5387199\tbest: 0.5387199 (2)\ttotal: 1.85s\tremaining: 1m 30s\n",
      "3:\tlearn: 0.5459092\ttest: 0.5387199\tbest: 0.5387199 (2)\ttotal: 2.46s\tremaining: 1m 29s\n",
      "4:\tlearn: 0.5459092\ttest: 0.5387199\tbest: 0.5387199 (2)\ttotal: 3.16s\tremaining: 1m 31s\n",
      "5:\tlearn: 0.5817035\ttest: 0.5761054\tbest: 0.5761054 (5)\ttotal: 3.77s\tremaining: 1m 30s\n",
      "6:\tlearn: 0.5790729\ttest: 0.5759817\tbest: 0.5761054 (5)\ttotal: 4.45s\tremaining: 1m 30s\n",
      "7:\tlearn: 0.5830147\ttest: 0.5784952\tbest: 0.5784952 (7)\ttotal: 5.12s\tremaining: 1m 30s\n",
      "8:\tlearn: 0.5831550\ttest: 0.5787839\tbest: 0.5787839 (8)\ttotal: 5.77s\tremaining: 1m 30s\n",
      "9:\tlearn: 0.5839074\ttest: 0.5786911\tbest: 0.5787839 (8)\ttotal: 6.38s\tremaining: 1m 29s\n",
      "10:\tlearn: 0.5838303\ttest: 0.5786911\tbest: 0.5787839 (8)\ttotal: 7.04s\tremaining: 1m 28s\n",
      "11:\tlearn: 0.5838350\ttest: 0.5786911\tbest: 0.5787839 (8)\ttotal: 7.71s\tremaining: 1m 28s\n",
      "12:\tlearn: 0.6086225\ttest: 0.6053506\tbest: 0.6053506 (12)\ttotal: 8.32s\tremaining: 1m 27s\n",
      "13:\tlearn: 0.6276889\ttest: 0.6241684\tbest: 0.6241684 (13)\ttotal: 9s\tremaining: 1m 27s\n",
      "14:\tlearn: 0.6276889\ttest: 0.6241684\tbest: 0.6241684 (13)\ttotal: 9.66s\tremaining: 1m 26s\n",
      "15:\tlearn: 0.6290942\ttest: 0.6265826\tbest: 0.6265826 (15)\ttotal: 10.3s\tremaining: 1m 26s\n",
      "16:\tlearn: 0.6498532\ttest: 0.6480097\tbest: 0.6480097 (16)\ttotal: 10.9s\tremaining: 1m 25s\n",
      "17:\tlearn: 0.6501656\ttest: 0.6485820\tbest: 0.6485820 (17)\ttotal: 11.6s\tremaining: 1m 25s\n",
      "18:\tlearn: 0.6504235\ttest: 0.6485017\tbest: 0.6485820 (17)\ttotal: 12.3s\tremaining: 1m 24s\n",
      "19:\tlearn: 0.6503539\ttest: 0.6485217\tbest: 0.6485820 (17)\ttotal: 13s\tremaining: 1m 24s\n",
      "20:\tlearn: 0.6504929\ttest: 0.6491136\tbest: 0.6491136 (20)\ttotal: 13.7s\tremaining: 1m 23s\n",
      "21:\tlearn: 0.6513250\ttest: 0.6499203\tbest: 0.6499203 (21)\ttotal: 14.3s\tremaining: 1m 22s\n",
      "22:\tlearn: 0.6512556\ttest: 0.6499203\tbest: 0.6499203 (21)\ttotal: 15s\tremaining: 1m 22s\n",
      "23:\tlearn: 0.6515281\ttest: 0.6498801\tbest: 0.6499203 (21)\ttotal: 15.7s\tremaining: 1m 22s\n",
      "24:\tlearn: 0.6633027\ttest: 0.6553871\tbest: 0.6553871 (24)\ttotal: 16.3s\tremaining: 1m 21s\n",
      "25:\tlearn: 0.6631083\ttest: 0.6551340\tbest: 0.6553871 (24)\ttotal: 17s\tremaining: 1m 20s\n",
      "26:\tlearn: 0.6633078\ttest: 0.6548404\tbest: 0.6553871 (24)\ttotal: 17.7s\tremaining: 1m 20s\n",
      "27:\tlearn: 0.6623607\ttest: 0.6540396\tbest: 0.6553871 (24)\ttotal: 18.3s\tremaining: 1m 19s\n",
      "28:\tlearn: 0.6633283\ttest: 0.6551542\tbest: 0.6553871 (24)\ttotal: 18.9s\tremaining: 1m 19s\n",
      "29:\tlearn: 0.6632703\ttest: 0.6551340\tbest: 0.6553871 (24)\ttotal: 19.6s\tremaining: 1m 18s\n",
      "30:\tlearn: 0.6628711\ttest: 0.6551542\tbest: 0.6553871 (24)\ttotal: 20.2s\tremaining: 1m 17s\n",
      "31:\tlearn: 0.6629445\ttest: 0.6551744\tbest: 0.6553871 (24)\ttotal: 20.9s\tremaining: 1m 17s\n",
      "32:\tlearn: 0.6639691\ttest: 0.6558526\tbest: 0.6558526 (32)\ttotal: 21.6s\tremaining: 1m 16s\n",
      "33:\tlearn: 0.6655065\ttest: 0.6589794\tbest: 0.6589794 (33)\ttotal: 22.4s\tremaining: 1m 16s\n",
      "34:\tlearn: 0.6653486\ttest: 0.6579322\tbest: 0.6589794 (33)\ttotal: 23.1s\tremaining: 1m 15s\n",
      "35:\tlearn: 0.6665200\ttest: 0.6589997\tbest: 0.6589997 (35)\ttotal: 23.7s\tremaining: 1m 15s\n",
      "36:\tlearn: 0.6646465\ttest: 0.6571759\tbest: 0.6589997 (35)\ttotal: 24.4s\tremaining: 1m 14s\n",
      "37:\tlearn: 0.6778556\ttest: 0.6700333\tbest: 0.6700333 (37)\ttotal: 25s\tremaining: 1m 13s\n",
      "38:\tlearn: 0.6773982\ttest: 0.6697657\tbest: 0.6700333 (37)\ttotal: 25.6s\tremaining: 1m 12s\n",
      "39:\tlearn: 0.6776086\ttest: 0.6705272\tbest: 0.6705272 (39)\ttotal: 26.2s\tremaining: 1m 12s\n",
      "40:\tlearn: 0.6777422\ttest: 0.6705476\tbest: 0.6705476 (40)\ttotal: 26.8s\tremaining: 1m 11s\n",
      "41:\tlearn: 0.6853774\ttest: 0.6766490\tbest: 0.6766490 (41)\ttotal: 27.5s\tremaining: 1m 10s\n",
      "42:\tlearn: 0.6861040\ttest: 0.6769551\tbest: 0.6769551 (42)\ttotal: 28.1s\tremaining: 1m 9s\n",
      "43:\tlearn: 0.6968288\ttest: 0.6874166\tbest: 0.6874166 (43)\ttotal: 28.7s\tremaining: 1m 9s\n",
      "44:\tlearn: 0.6972573\ttest: 0.6884176\tbest: 0.6884176 (44)\ttotal: 29.3s\tremaining: 1m 8s\n",
      "45:\tlearn: 0.7056492\ttest: 0.6967806\tbest: 0.6967806 (45)\ttotal: 30s\tremaining: 1m 7s\n",
      "46:\tlearn: 0.7068352\ttest: 0.6967388\tbest: 0.6967806 (45)\ttotal: 30.6s\tremaining: 1m 6s\n",
      "47:\tlearn: 0.7076836\ttest: 0.6980031\tbest: 0.6980031 (47)\ttotal: 31.2s\tremaining: 1m 6s\n",
      "48:\tlearn: 0.7087386\ttest: 0.6986056\tbest: 0.6986056 (48)\ttotal: 31.8s\tremaining: 1m 5s\n",
      "49:\tlearn: 0.7087811\ttest: 0.6986684\tbest: 0.6986684 (49)\ttotal: 32.4s\tremaining: 1m 4s\n",
      "50:\tlearn: 0.7089088\ttest: 0.6984956\tbest: 0.6986684 (49)\ttotal: 33s\tremaining: 1m 4s\n",
      "51:\tlearn: 0.7092388\ttest: 0.6994377\tbest: 0.6994377 (51)\ttotal: 33.6s\tremaining: 1m 3s\n",
      "52:\tlearn: 0.7088929\ttest: 0.6994796\tbest: 0.6994796 (52)\ttotal: 34.3s\tremaining: 1m 2s\n",
      "53:\tlearn: 0.7163708\ttest: 0.7051469\tbest: 0.7051469 (53)\ttotal: 34.9s\tremaining: 1m 1s\n",
      "54:\tlearn: 0.7163708\ttest: 0.7048932\tbest: 0.7051469 (53)\ttotal: 35.5s\tremaining: 1m 1s\n",
      "55:\tlearn: 0.7162136\ttest: 0.7048932\tbest: 0.7051469 (53)\ttotal: 36.1s\tremaining: 1m\n",
      "56:\tlearn: 0.7158725\ttest: 0.7041739\tbest: 0.7051469 (53)\ttotal: 36.8s\tremaining: 60s\n",
      "57:\tlearn: 0.7159356\ttest: 0.7044067\tbest: 0.7051469 (53)\ttotal: 37.4s\tremaining: 59.3s\n",
      "58:\tlearn: 0.7163353\ttest: 0.7041949\tbest: 0.7051469 (53)\ttotal: 38.1s\tremaining: 58.7s\n",
      "59:\tlearn: 0.7210083\ttest: 0.7091515\tbest: 0.7091515 (59)\ttotal: 38.7s\tremaining: 58s\n",
      "60:\tlearn: 0.7283886\ttest: 0.7172402\tbest: 0.7172402 (60)\ttotal: 39.3s\tremaining: 57.3s\n",
      "61:\tlearn: 0.7281374\ttest: 0.7171605\tbest: 0.7172402 (60)\ttotal: 39.9s\tremaining: 56.6s\n",
      "62:\tlearn: 0.7284829\ttest: 0.7179672\tbest: 0.7179672 (62)\ttotal: 40.5s\tremaining: 55.9s\n",
      "63:\tlearn: 0.7291496\ttest: 0.7180405\tbest: 0.7180405 (63)\ttotal: 41.1s\tremaining: 55.2s\n",
      "64:\tlearn: 0.7288613\ttest: 0.7180405\tbest: 0.7180405 (63)\ttotal: 41.7s\tremaining: 54.5s\n",
      "65:\tlearn: 0.7291550\ttest: 0.7185597\tbest: 0.7185597 (65)\ttotal: 42.3s\tremaining: 53.8s\n",
      "66:\tlearn: 0.7294863\ttest: 0.7188511\tbest: 0.7188511 (66)\ttotal: 43s\tremaining: 53.2s\n",
      "67:\tlearn: 0.7294136\ttest: 0.7185597\tbest: 0.7188511 (66)\ttotal: 43.6s\tremaining: 52.5s\n",
      "68:\tlearn: 0.7289715\ttest: 0.7185659\tbest: 0.7188511 (66)\ttotal: 44.2s\tremaining: 51.9s\n",
      "69:\tlearn: 0.7293649\ttest: 0.7188149\tbest: 0.7188511 (66)\ttotal: 44.8s\tremaining: 51.2s\n",
      "70:\tlearn: 0.7305573\ttest: 0.7206975\tbest: 0.7206975 (70)\ttotal: 45.4s\tremaining: 50.5s\n",
      "71:\tlearn: 0.7406691\ttest: 0.7259500\tbest: 0.7259500 (71)\ttotal: 46.1s\tremaining: 49.9s\n",
      "72:\tlearn: 0.7406063\ttest: 0.7263119\tbest: 0.7263119 (72)\ttotal: 46.7s\tremaining: 49.3s\n",
      "73:\tlearn: 0.7408060\ttest: 0.7268018\tbest: 0.7268018 (73)\ttotal: 47.4s\tremaining: 48.6s\n",
      "74:\tlearn: 0.7413081\ttest: 0.7273556\tbest: 0.7273556 (74)\ttotal: 48s\tremaining: 48s\n",
      "75:\tlearn: 0.7415032\ttest: 0.7274719\tbest: 0.7274719 (75)\ttotal: 48.7s\tremaining: 47.4s\n",
      "76:\tlearn: 0.7418619\ttest: 0.7277165\tbest: 0.7277165 (76)\ttotal: 49.3s\tremaining: 46.7s\n",
      "77:\tlearn: 0.7417775\ttest: 0.7271322\tbest: 0.7277165 (76)\ttotal: 49.9s\tremaining: 46.1s\n",
      "78:\tlearn: 0.7416900\ttest: 0.7263021\tbest: 0.7277165 (76)\ttotal: 50.5s\tremaining: 45.4s\n",
      "79:\tlearn: 0.7419166\ttest: 0.7270157\tbest: 0.7277165 (76)\ttotal: 51.1s\tremaining: 44.8s\n",
      "80:\tlearn: 0.7420108\ttest: 0.7275054\tbest: 0.7277165 (76)\ttotal: 51.7s\tremaining: 44.1s\n",
      "81:\tlearn: 0.7419674\ttest: 0.7275054\tbest: 0.7277165 (76)\ttotal: 52.4s\tremaining: 43.4s\n",
      "82:\tlearn: 0.7444963\ttest: 0.7298851\tbest: 0.7298851 (82)\ttotal: 53.1s\tremaining: 42.8s\n",
      "83:\tlearn: 0.7447770\ttest: 0.7303515\tbest: 0.7303515 (83)\ttotal: 53.7s\tremaining: 42.2s\n",
      "84:\tlearn: 0.7448049\ttest: 0.7302872\tbest: 0.7303515 (83)\ttotal: 54.3s\tremaining: 41.5s\n",
      "85:\tlearn: 0.7447329\ttest: 0.7301076\tbest: 0.7303515 (83)\ttotal: 54.9s\tremaining: 40.9s\n",
      "86:\tlearn: 0.7444793\ttest: 0.7299065\tbest: 0.7303515 (83)\ttotal: 55.5s\tremaining: 40.2s\n",
      "87:\tlearn: 0.7444909\ttest: 0.7303515\tbest: 0.7303515 (83)\ttotal: 56.1s\tremaining: 39.5s\n",
      "88:\tlearn: 0.7447267\ttest: 0.7309678\tbest: 0.7309678 (88)\ttotal: 56.7s\tremaining: 38.9s\n",
      "89:\tlearn: 0.7448830\ttest: 0.7309541\tbest: 0.7309678 (88)\ttotal: 57.3s\tremaining: 38.2s\n",
      "90:\tlearn: 0.7448300\ttest: 0.7310904\tbest: 0.7310904 (90)\ttotal: 57.9s\tremaining: 37.6s\n",
      "91:\tlearn: 0.7449013\ttest: 0.7306246\tbest: 0.7310904 (90)\ttotal: 58.6s\tremaining: 36.9s\n",
      "92:\tlearn: 0.7451430\ttest: 0.7318207\tbest: 0.7318207 (92)\ttotal: 59.2s\tremaining: 36.3s\n",
      "93:\tlearn: 0.7460292\ttest: 0.7314988\tbest: 0.7318207 (92)\ttotal: 59.8s\tremaining: 35.6s\n",
      "94:\tlearn: 0.7461458\ttest: 0.7312842\tbest: 0.7318207 (92)\ttotal: 1m\tremaining: 35s\n",
      "95:\tlearn: 0.7464037\ttest: 0.7315059\tbest: 0.7318207 (92)\ttotal: 1m 1s\tremaining: 34.3s\n",
      "96:\tlearn: 0.7465904\ttest: 0.7319706\tbest: 0.7319706 (96)\ttotal: 1m 1s\tremaining: 33.7s\n",
      "97:\tlearn: 0.7511734\ttest: 0.7409843\tbest: 0.7409843 (97)\ttotal: 1m 2s\tremaining: 33s\n",
      "98:\tlearn: 0.7540375\ttest: 0.7429038\tbest: 0.7429038 (98)\ttotal: 1m 2s\tremaining: 32.4s\n",
      "99:\tlearn: 0.7578598\ttest: 0.7462743\tbest: 0.7462743 (99)\ttotal: 1m 3s\tremaining: 31.7s\n",
      "100:\tlearn: 0.7606471\ttest: 0.7492854\tbest: 0.7492854 (100)\ttotal: 1m 4s\tremaining: 31.1s\n",
      "101:\tlearn: 0.7611855\ttest: 0.7493505\tbest: 0.7493505 (101)\ttotal: 1m 4s\tremaining: 30.4s\n",
      "102:\tlearn: 0.7611952\ttest: 0.7495016\tbest: 0.7495016 (102)\ttotal: 1m 5s\tremaining: 29.8s\n",
      "103:\tlearn: 0.7611306\ttest: 0.7494582\tbest: 0.7495016 (102)\ttotal: 1m 5s\tremaining: 29.1s\n",
      "104:\tlearn: 0.7611286\ttest: 0.7493071\tbest: 0.7495016 (102)\ttotal: 1m 6s\tremaining: 28.5s\n",
      "105:\tlearn: 0.7612764\ttest: 0.7501278\tbest: 0.7501278 (105)\ttotal: 1m 7s\tremaining: 27.8s\n",
      "106:\tlearn: 0.7614637\ttest: 0.7500410\tbest: 0.7501278 (105)\ttotal: 1m 7s\tremaining: 27.2s\n",
      "107:\tlearn: 0.7646781\ttest: 0.7518722\tbest: 0.7518722 (107)\ttotal: 1m 8s\tremaining: 26.5s\n",
      "108:\tlearn: 0.7647056\ttest: 0.7516570\tbest: 0.7518722 (107)\ttotal: 1m 8s\tremaining: 25.9s\n",
      "109:\tlearn: 0.7647936\ttest: 0.7515503\tbest: 0.7518722 (107)\ttotal: 1m 9s\tremaining: 25.3s\n",
      "110:\tlearn: 0.7647701\ttest: 0.7514634\tbest: 0.7518722 (107)\ttotal: 1m 10s\tremaining: 24.6s\n",
      "111:\tlearn: 0.7670926\ttest: 0.7528847\tbest: 0.7528847 (111)\ttotal: 1m 10s\tremaining: 24s\n",
      "112:\tlearn: 0.7670045\ttest: 0.7532492\tbest: 0.7532492 (112)\ttotal: 1m 11s\tremaining: 23.4s\n",
      "113:\tlearn: 0.7669310\ttest: 0.7539804\tbest: 0.7539804 (113)\ttotal: 1m 12s\tremaining: 22.7s\n",
      "114:\tlearn: 0.7672139\ttest: 0.7541297\tbest: 0.7541297 (114)\ttotal: 1m 12s\tremaining: 22.1s\n",
      "115:\tlearn: 0.7671441\ttest: 0.7538933\tbest: 0.7541297 (114)\ttotal: 1m 13s\tremaining: 21.5s\n",
      "116:\tlearn: 0.7694660\ttest: 0.7559962\tbest: 0.7559962 (116)\ttotal: 1m 13s\tremaining: 20.8s\n",
      "117:\tlearn: 0.7693984\ttest: 0.7562973\tbest: 0.7562973 (117)\ttotal: 1m 14s\tremaining: 20.2s\n",
      "118:\tlearn: 0.7725729\ttest: 0.7574751\tbest: 0.7574751 (118)\ttotal: 1m 15s\tremaining: 19.6s\n",
      "119:\tlearn: 0.7725531\ttest: 0.7574969\tbest: 0.7574969 (119)\ttotal: 1m 15s\tremaining: 19s\n",
      "120:\tlearn: 0.7729509\ttest: 0.7579458\tbest: 0.7579458 (120)\ttotal: 1m 16s\tremaining: 18.3s\n",
      "121:\tlearn: 0.7731458\ttest: 0.7583726\tbest: 0.7583726 (121)\ttotal: 1m 17s\tremaining: 17.7s\n",
      "122:\tlearn: 0.7731245\ttest: 0.7583072\tbest: 0.7583726 (121)\ttotal: 1m 17s\tremaining: 17.1s\n",
      "123:\tlearn: 0.7730495\ttest: 0.7583072\tbest: 0.7583726 (121)\ttotal: 1m 18s\tremaining: 16.4s\n",
      "124:\tlearn: 0.7731915\ttest: 0.7582636\tbest: 0.7583726 (121)\ttotal: 1m 18s\tremaining: 15.8s\n",
      "125:\tlearn: 0.7731259\ttest: 0.7586683\tbest: 0.7586683 (125)\ttotal: 1m 19s\tremaining: 15.2s\n",
      "126:\tlearn: 0.7735397\ttest: 0.7587119\tbest: 0.7587119 (126)\ttotal: 1m 20s\tremaining: 14.5s\n",
      "127:\tlearn: 0.7736674\ttest: 0.7589251\tbest: 0.7589251 (127)\ttotal: 1m 20s\tremaining: 13.9s\n",
      "128:\tlearn: 0.7738730\ttest: 0.7586683\tbest: 0.7589251 (127)\ttotal: 1m 21s\tremaining: 13.2s\n",
      "129:\tlearn: 0.7743950\ttest: 0.7588596\tbest: 0.7589251 (127)\ttotal: 1m 21s\tremaining: 12.6s\n",
      "130:\tlearn: 0.7748023\ttest: 0.7589687\tbest: 0.7589687 (130)\ttotal: 1m 22s\tremaining: 12s\n",
      "131:\tlearn: 0.7749052\ttest: 0.7589469\tbest: 0.7589687 (130)\ttotal: 1m 23s\tremaining: 11.4s\n",
      "132:\tlearn: 0.7750128\ttest: 0.7593564\tbest: 0.7593564 (132)\ttotal: 1m 23s\tremaining: 10.7s\n",
      "133:\tlearn: 0.7749516\ttest: 0.7589519\tbest: 0.7593564 (132)\ttotal: 1m 24s\tremaining: 10.1s\n",
      "134:\tlearn: 0.7756975\ttest: 0.7589301\tbest: 0.7593564 (132)\ttotal: 1m 25s\tremaining: 9.46s\n",
      "135:\tlearn: 0.7756614\ttest: 0.7589301\tbest: 0.7593564 (132)\ttotal: 1m 25s\tremaining: 8.83s\n",
      "136:\tlearn: 0.7759579\ttest: 0.7591651\tbest: 0.7593564 (132)\ttotal: 1m 26s\tremaining: 8.2s\n",
      "137:\tlearn: 0.7763017\ttest: 0.7597824\tbest: 0.7597824 (137)\ttotal: 1m 26s\tremaining: 7.56s\n",
      "138:\tlearn: 0.7768497\ttest: 0.7602519\tbest: 0.7602519 (138)\ttotal: 1m 27s\tremaining: 6.93s\n",
      "139:\tlearn: 0.7750938\ttest: 0.7589082\tbest: 0.7602519 (138)\ttotal: 1m 28s\tremaining: 6.3s\n",
      "140:\tlearn: 0.7751355\ttest: 0.7588646\tbest: 0.7602519 (138)\ttotal: 1m 28s\tremaining: 5.67s\n",
      "141:\tlearn: 0.7755041\ttest: 0.7590778\tbest: 0.7602519 (138)\ttotal: 1m 29s\tremaining: 5.03s\n",
      "142:\tlearn: 0.7756428\ttest: 0.7595040\tbest: 0.7602519 (138)\ttotal: 1m 29s\tremaining: 4.4s\n",
      "143:\tlearn: 0.7758533\ttest: 0.7599517\tbest: 0.7602519 (138)\ttotal: 1m 30s\tremaining: 3.77s\n",
      "144:\tlearn: 0.7760885\ttest: 0.7598697\tbest: 0.7602519 (138)\ttotal: 1m 31s\tremaining: 3.14s\n",
      "145:\tlearn: 0.7765702\ttest: 0.7598697\tbest: 0.7602519 (138)\ttotal: 1m 31s\tremaining: 2.51s\n",
      "146:\tlearn: 0.7766975\ttest: 0.7598479\tbest: 0.7602519 (138)\ttotal: 1m 32s\tremaining: 1.88s\n",
      "147:\tlearn: 0.7767446\ttest: 0.7595913\tbest: 0.7602519 (138)\ttotal: 1m 32s\tremaining: 1.25s\n",
      "148:\tlearn: 0.7788147\ttest: 0.7603991\tbest: 0.7603991 (148)\ttotal: 1m 33s\tremaining: 628ms\n",
      "149:\tlearn: 0.7787567\ttest: 0.7608464\tbest: 0.7608464 (149)\ttotal: 1m 34s\tremaining: 0us\n",
      "\n",
      "bestTest = 0.7608463541\n",
      "bestIteration = 149\n",
      "\n",
      "5:\tloss: 0.7608464\tbest: 0.7608464 (5)\ttotal: 5m 30s\tremaining: 2m 45s\n",
      "0:\tlearn: 0.5772817\ttest: 0.5712961\tbest: 0.5712961 (0)\ttotal: 823ms\tremaining: 7.41s\n",
      "1:\tlearn: 0.5775887\ttest: 0.5712961\tbest: 0.5712961 (0)\ttotal: 1.66s\tremaining: 6.63s\n",
      "2:\tlearn: 0.5786035\ttest: 0.5731042\tbest: 0.5731042 (2)\ttotal: 2.5s\tremaining: 5.83s\n",
      "3:\tlearn: 0.5808848\ttest: 0.5746160\tbest: 0.5746160 (3)\ttotal: 3.33s\tremaining: 4.99s\n",
      "4:\tlearn: 0.5814174\ttest: 0.5761424\tbest: 0.5761424 (4)\ttotal: 4.15s\tremaining: 4.15s\n",
      "5:\tlearn: 0.6081602\ttest: 0.6060165\tbest: 0.6060165 (5)\ttotal: 4.99s\tremaining: 3.33s\n",
      "6:\tlearn: 0.6087931\ttest: 0.6071932\tbest: 0.6071932 (6)\ttotal: 5.84s\tremaining: 2.5s\n",
      "7:\tlearn: 0.6093659\ttest: 0.6074678\tbest: 0.6074678 (7)\ttotal: 6.64s\tremaining: 1.66s\n",
      "8:\tlearn: 0.6102737\ttest: 0.6079012\tbest: 0.6079012 (8)\ttotal: 7.45s\tremaining: 828ms\n",
      "9:\tlearn: 0.6104613\ttest: 0.6084879\tbest: 0.6084879 (9)\ttotal: 8.25s\tremaining: 0us\n",
      "\n",
      "bestTest = 0.6084878772\n",
      "bestIteration = 9\n",
      "\n",
      "6:\tloss: 0.6084879\tbest: 0.7608464 (5)\ttotal: 5m 38s\tremaining: 1m 36s\n",
      "0:\tlearn: 0.5772817\ttest: 0.5712961\tbest: 0.5712961 (0)\ttotal: 879ms\tremaining: 1m 27s\n",
      "1:\tlearn: 0.5775887\ttest: 0.5712961\tbest: 0.5712961 (0)\ttotal: 1.71s\tremaining: 1m 23s\n",
      "2:\tlearn: 0.5786035\ttest: 0.5731042\tbest: 0.5731042 (2)\ttotal: 2.53s\tremaining: 1m 21s\n",
      "3:\tlearn: 0.5808848\ttest: 0.5746160\tbest: 0.5746160 (3)\ttotal: 3.36s\tremaining: 1m 20s\n",
      "4:\tlearn: 0.5814174\ttest: 0.5761424\tbest: 0.5761424 (4)\ttotal: 4.18s\tremaining: 1m 19s\n",
      "5:\tlearn: 0.6081602\ttest: 0.6060165\tbest: 0.6060165 (5)\ttotal: 5.02s\tremaining: 1m 18s\n",
      "6:\tlearn: 0.6087931\ttest: 0.6071932\tbest: 0.6071932 (6)\ttotal: 5.84s\tremaining: 1m 17s\n",
      "7:\tlearn: 0.6093659\ttest: 0.6074678\tbest: 0.6074678 (7)\ttotal: 6.65s\tremaining: 1m 16s\n",
      "8:\tlearn: 0.6102737\ttest: 0.6079012\tbest: 0.6079012 (8)\ttotal: 7.49s\tremaining: 1m 15s\n",
      "9:\tlearn: 0.6104613\ttest: 0.6084879\tbest: 0.6084879 (9)\ttotal: 8.29s\tremaining: 1m 14s\n",
      "10:\tlearn: 0.6317868\ttest: 0.6300663\tbest: 0.6300663 (10)\ttotal: 9.1s\tremaining: 1m 13s\n",
      "11:\tlearn: 0.6498190\ttest: 0.6484063\tbest: 0.6484063 (11)\ttotal: 9.93s\tremaining: 1m 12s\n",
      "12:\tlearn: 0.6498038\ttest: 0.6478538\tbest: 0.6484063 (11)\ttotal: 10.8s\tremaining: 1m 11s\n",
      "13:\tlearn: 0.6519001\ttest: 0.6502158\tbest: 0.6502158 (13)\ttotal: 11.6s\tremaining: 1m 11s\n",
      "14:\tlearn: 0.6510689\ttest: 0.6494295\tbest: 0.6502158 (13)\ttotal: 12.4s\tremaining: 1m 10s\n",
      "15:\tlearn: 0.6636504\ttest: 0.6616849\tbest: 0.6616849 (15)\ttotal: 13.2s\tremaining: 1m 9s\n",
      "16:\tlearn: 0.6646383\ttest: 0.6624359\tbest: 0.6624359 (16)\ttotal: 14s\tremaining: 1m 8s\n",
      "17:\tlearn: 0.6645753\ttest: 0.6622264\tbest: 0.6624359 (16)\ttotal: 14.8s\tremaining: 1m 7s\n",
      "18:\tlearn: 0.6750956\ttest: 0.6736035\tbest: 0.6736035 (18)\ttotal: 15.6s\tremaining: 1m 6s\n",
      "19:\tlearn: 0.6845596\ttest: 0.6832107\tbest: 0.6832107 (19)\ttotal: 16.4s\tremaining: 1m 5s\n",
      "20:\tlearn: 0.6848482\ttest: 0.6834523\tbest: 0.6834523 (20)\ttotal: 17.3s\tremaining: 1m 5s\n",
      "21:\tlearn: 0.6851784\ttest: 0.6831900\tbest: 0.6834523 (20)\ttotal: 18.2s\tremaining: 1m 4s\n",
      "22:\tlearn: 0.6989974\ttest: 0.6910045\tbest: 0.6910045 (22)\ttotal: 19s\tremaining: 1m 3s\n",
      "23:\tlearn: 0.7088023\ttest: 0.6948326\tbest: 0.6948326 (23)\ttotal: 19.8s\tremaining: 1m 2s\n",
      "24:\tlearn: 0.7098166\ttest: 0.6962829\tbest: 0.6962829 (24)\ttotal: 20.6s\tremaining: 1m 1s\n",
      "25:\tlearn: 0.7103336\ttest: 0.6972619\tbest: 0.6972619 (25)\ttotal: 21.4s\tremaining: 1m 1s\n",
      "26:\tlearn: 0.7101751\ttest: 0.6977299\tbest: 0.6977299 (26)\ttotal: 22.2s\tremaining: 1m\n",
      "27:\tlearn: 0.7099274\ttest: 0.6971116\tbest: 0.6977299 (26)\ttotal: 23s\tremaining: 59.3s\n",
      "28:\tlearn: 0.7097327\ttest: 0.6954280\tbest: 0.6977299 (26)\ttotal: 23.9s\tremaining: 58.4s\n",
      "29:\tlearn: 0.7092838\ttest: 0.6954489\tbest: 0.6977299 (26)\ttotal: 24.7s\tremaining: 57.5s\n",
      "30:\tlearn: 0.7100811\ttest: 0.6967058\tbest: 0.6977299 (26)\ttotal: 25.4s\tremaining: 56.6s\n",
      "31:\tlearn: 0.7097558\ttest: 0.6973382\tbest: 0.6977299 (26)\ttotal: 26.2s\tremaining: 55.8s\n",
      "32:\tlearn: 0.7196964\ttest: 0.7093949\tbest: 0.7093949 (32)\ttotal: 27.1s\tremaining: 55s\n",
      "33:\tlearn: 0.7203882\ttest: 0.7100559\tbest: 0.7100559 (33)\ttotal: 27.8s\tremaining: 54s\n",
      "34:\tlearn: 0.7206283\ttest: 0.7103948\tbest: 0.7103948 (34)\ttotal: 28.7s\tremaining: 53.2s\n",
      "35:\tlearn: 0.7212679\ttest: 0.7105854\tbest: 0.7105854 (35)\ttotal: 29.4s\tremaining: 52.3s\n",
      "36:\tlearn: 0.7216016\ttest: 0.7106644\tbest: 0.7106644 (36)\ttotal: 30.2s\tremaining: 51.5s\n",
      "37:\tlearn: 0.7213236\ttest: 0.7079416\tbest: 0.7106644 (36)\ttotal: 31s\tremaining: 50.7s\n",
      "38:\tlearn: 0.7309488\ttest: 0.7192803\tbest: 0.7192803 (38)\ttotal: 31.9s\tremaining: 49.9s\n",
      "39:\tlearn: 0.7302623\ttest: 0.7175896\tbest: 0.7192803 (38)\ttotal: 32.8s\tremaining: 49.3s\n",
      "40:\tlearn: 0.7308176\ttest: 0.7193229\tbest: 0.7193229 (40)\ttotal: 33.8s\tremaining: 48.6s\n",
      "41:\tlearn: 0.7310047\ttest: 0.7186593\tbest: 0.7193229 (40)\ttotal: 34.5s\tremaining: 47.7s\n",
      "42:\tlearn: 0.7223546\ttest: 0.7083156\tbest: 0.7193229 (40)\ttotal: 35.4s\tremaining: 46.9s\n",
      "43:\tlearn: 0.7281108\ttest: 0.7134677\tbest: 0.7193229 (40)\ttotal: 36.1s\tremaining: 46s\n",
      "44:\tlearn: 0.7285321\ttest: 0.7137379\tbest: 0.7193229 (40)\ttotal: 36.9s\tremaining: 45.2s\n",
      "45:\tlearn: 0.7285694\ttest: 0.7139868\tbest: 0.7193229 (40)\ttotal: 37.8s\tremaining: 44.3s\n",
      "46:\tlearn: 0.7354513\ttest: 0.7189697\tbest: 0.7193229 (40)\ttotal: 38.7s\tremaining: 43.6s\n",
      "47:\tlearn: 0.7396079\ttest: 0.7236974\tbest: 0.7236974 (47)\ttotal: 39.5s\tremaining: 42.8s\n",
      "48:\tlearn: 0.7397621\ttest: 0.7232269\tbest: 0.7236974 (47)\ttotal: 40.4s\tremaining: 42.1s\n",
      "49:\tlearn: 0.7410424\ttest: 0.7243812\tbest: 0.7243812 (49)\ttotal: 41.3s\tremaining: 41.3s\n",
      "50:\tlearn: 0.7413567\ttest: 0.7243598\tbest: 0.7243812 (49)\ttotal: 42.2s\tremaining: 40.6s\n",
      "51:\tlearn: 0.7416279\ttest: 0.7256489\tbest: 0.7256489 (51)\ttotal: 43s\tremaining: 39.7s\n",
      "52:\tlearn: 0.7414322\ttest: 0.7263097\tbest: 0.7263097 (52)\ttotal: 43.8s\tremaining: 38.8s\n",
      "53:\tlearn: 0.7421218\ttest: 0.7272669\tbest: 0.7272669 (53)\ttotal: 44.5s\tremaining: 37.9s\n",
      "54:\tlearn: 0.7422449\ttest: 0.7278325\tbest: 0.7278325 (54)\ttotal: 45.3s\tremaining: 37.1s\n",
      "55:\tlearn: 0.7426328\ttest: 0.7289897\tbest: 0.7289897 (55)\ttotal: 46.1s\tremaining: 36.2s\n",
      "56:\tlearn: 0.7424448\ttest: 0.7289897\tbest: 0.7289897 (55)\ttotal: 46.8s\tremaining: 35.3s\n",
      "57:\tlearn: 0.7452445\ttest: 0.7314057\tbest: 0.7314057 (57)\ttotal: 47.6s\tremaining: 34.5s\n",
      "58:\tlearn: 0.7457661\ttest: 0.7318064\tbest: 0.7318064 (58)\ttotal: 48.4s\tremaining: 33.6s\n",
      "59:\tlearn: 0.7462061\ttest: 0.7315274\tbest: 0.7318064 (58)\ttotal: 49.2s\tremaining: 32.8s\n",
      "60:\tlearn: 0.7462501\ttest: 0.7315274\tbest: 0.7318064 (58)\ttotal: 50s\tremaining: 32s\n",
      "61:\tlearn: 0.7460551\ttest: 0.7307619\tbest: 0.7318064 (58)\ttotal: 50.8s\tremaining: 31.2s\n",
      "62:\tlearn: 0.7459454\ttest: 0.7310266\tbest: 0.7318064 (58)\ttotal: 51.6s\tremaining: 30.3s\n",
      "63:\tlearn: 0.7461735\ttest: 0.7315059\tbest: 0.7318064 (58)\ttotal: 52.4s\tremaining: 29.5s\n",
      "64:\tlearn: 0.7531582\ttest: 0.7428174\tbest: 0.7428174 (64)\ttotal: 53.1s\tremaining: 28.6s\n",
      "65:\tlearn: 0.7531042\ttest: 0.7429038\tbest: 0.7429038 (65)\ttotal: 53.9s\tremaining: 27.8s\n",
      "66:\tlearn: 0.7529140\ttest: 0.7436442\tbest: 0.7436442 (66)\ttotal: 54.7s\tremaining: 26.9s\n",
      "67:\tlearn: 0.7557125\ttest: 0.7462310\tbest: 0.7462310 (67)\ttotal: 55.5s\tremaining: 26.1s\n",
      "68:\tlearn: 0.7528105\ttest: 0.7375282\tbest: 0.7462310 (67)\ttotal: 56.2s\tremaining: 25.3s\n",
      "69:\tlearn: 0.7539159\ttest: 0.7388697\tbest: 0.7462310 (67)\ttotal: 57s\tremaining: 24.4s\n",
      "70:\tlearn: 0.7569744\ttest: 0.7397885\tbest: 0.7462310 (67)\ttotal: 57.8s\tremaining: 23.6s\n",
      "71:\tlearn: 0.7570612\ttest: 0.7402907\tbest: 0.7462310 (67)\ttotal: 58.6s\tremaining: 22.8s\n",
      "72:\tlearn: 0.7605010\ttest: 0.7431252\tbest: 0.7462310 (67)\ttotal: 59.4s\tremaining: 22s\n",
      "73:\tlearn: 0.7607147\ttest: 0.7439092\tbest: 0.7462310 (67)\ttotal: 1m\tremaining: 21.1s\n",
      "74:\tlearn: 0.7613452\ttest: 0.7443440\tbest: 0.7462310 (67)\ttotal: 1m\tremaining: 20.3s\n",
      "75:\tlearn: 0.7648439\ttest: 0.7483324\tbest: 0.7483324 (75)\ttotal: 1m 1s\tremaining: 19.5s\n",
      "76:\tlearn: 0.7642970\ttest: 0.7470119\tbest: 0.7483324 (75)\ttotal: 1m 2s\tremaining: 18.7s\n",
      "77:\tlearn: 0.7640762\ttest: 0.7468387\tbest: 0.7483324 (75)\ttotal: 1m 3s\tremaining: 17.8s\n",
      "78:\tlearn: 0.7642051\ttest: 0.7464702\tbest: 0.7483324 (75)\ttotal: 1m 4s\tremaining: 17s\n",
      "79:\tlearn: 0.7685571\ttest: 0.7552196\tbest: 0.7552196 (79)\ttotal: 1m 4s\tremaining: 16.2s\n",
      "80:\tlearn: 0.7707967\ttest: 0.7564376\tbest: 0.7564376 (80)\ttotal: 1m 5s\tremaining: 15.4s\n",
      "81:\tlearn: 0.7732095\ttest: 0.7580843\tbest: 0.7580843 (81)\ttotal: 1m 6s\tremaining: 14.6s\n",
      "82:\tlearn: 0.7736892\ttest: 0.7578928\tbest: 0.7580843 (81)\ttotal: 1m 7s\tremaining: 13.8s\n",
      "83:\tlearn: 0.7745849\ttest: 0.7586851\tbest: 0.7586851 (83)\ttotal: 1m 7s\tremaining: 12.9s\n",
      "84:\tlearn: 0.7742632\ttest: 0.7586633\tbest: 0.7586851 (83)\ttotal: 1m 8s\tremaining: 12.1s\n",
      "85:\tlearn: 0.7739158\ttest: 0.7586028\tbest: 0.7586851 (83)\ttotal: 1m 9s\tremaining: 11.3s\n",
      "86:\tlearn: 0.7745340\ttest: 0.7589469\tbest: 0.7589469 (86)\ttotal: 1m 10s\tremaining: 10.5s\n",
      "87:\tlearn: 0.7742096\ttest: 0.7589033\tbest: 0.7589469 (86)\ttotal: 1m 11s\tremaining: 9.71s\n",
      "88:\tlearn: 0.7777005\ttest: 0.7633687\tbest: 0.7633687 (88)\ttotal: 1m 11s\tremaining: 8.9s\n",
      "89:\tlearn: 0.7782054\ttest: 0.7635137\tbest: 0.7635137 (89)\ttotal: 1m 12s\tremaining: 8.08s\n",
      "90:\tlearn: 0.7786024\ttest: 0.7639568\tbest: 0.7639568 (90)\ttotal: 1m 13s\tremaining: 7.29s\n",
      "91:\tlearn: 0.7791155\ttest: 0.7643559\tbest: 0.7643559 (91)\ttotal: 1m 14s\tremaining: 6.48s\n",
      "92:\tlearn: 0.7813521\ttest: 0.7670393\tbest: 0.7670393 (92)\ttotal: 1m 15s\tremaining: 5.67s\n",
      "93:\tlearn: 0.7812573\ttest: 0.7663440\tbest: 0.7670393 (92)\ttotal: 1m 16s\tremaining: 4.86s\n",
      "94:\tlearn: 0.7815281\ttest: 0.7670612\tbest: 0.7670612 (94)\ttotal: 1m 16s\tremaining: 4.04s\n",
      "95:\tlearn: 0.7798482\ttest: 0.7660371\tbest: 0.7670612 (94)\ttotal: 1m 17s\tremaining: 3.23s\n",
      "96:\tlearn: 0.7822993\ttest: 0.7668105\tbest: 0.7670612 (94)\ttotal: 1m 18s\tremaining: 2.42s\n",
      "97:\tlearn: 0.7780293\ttest: 0.7613030\tbest: 0.7670612 (94)\ttotal: 1m 19s\tremaining: 1.61s\n",
      "98:\tlearn: 0.7780817\ttest: 0.7610470\tbest: 0.7670612 (94)\ttotal: 1m 19s\tremaining: 807ms\n",
      "99:\tlearn: 0.7831414\ttest: 0.7677363\tbest: 0.7677363 (99)\ttotal: 1m 20s\tremaining: 0us\n",
      "\n",
      "bestTest = 0.7677363116\n",
      "bestIteration = 99\n",
      "\n",
      "7:\tloss: 0.7677363\tbest: 0.7677363 (7)\ttotal: 6m 59s\tremaining: 52.4s\n",
      "0:\tlearn: 0.5772817\ttest: 0.5712961\tbest: 0.5712961 (0)\ttotal: 827ms\tremaining: 2m 3s\n",
      "1:\tlearn: 0.5775887\ttest: 0.5712961\tbest: 0.5712961 (0)\ttotal: 1.65s\tremaining: 2m 2s\n",
      "2:\tlearn: 0.5786035\ttest: 0.5731042\tbest: 0.5731042 (2)\ttotal: 2.48s\tremaining: 2m 1s\n",
      "3:\tlearn: 0.5808848\ttest: 0.5746160\tbest: 0.5746160 (3)\ttotal: 3.32s\tremaining: 2m 1s\n",
      "4:\tlearn: 0.5814174\ttest: 0.5761424\tbest: 0.5761424 (4)\ttotal: 4.13s\tremaining: 1m 59s\n",
      "5:\tlearn: 0.6081602\ttest: 0.6060165\tbest: 0.6060165 (5)\ttotal: 4.97s\tremaining: 1m 59s\n",
      "6:\tlearn: 0.6087931\ttest: 0.6071932\tbest: 0.6071932 (6)\ttotal: 5.8s\tremaining: 1m 58s\n",
      "7:\tlearn: 0.6093659\ttest: 0.6074678\tbest: 0.6074678 (7)\ttotal: 6.62s\tremaining: 1m 57s\n",
      "8:\tlearn: 0.6102737\ttest: 0.6079012\tbest: 0.6079012 (8)\ttotal: 7.45s\tremaining: 1m 56s\n",
      "9:\tlearn: 0.6104613\ttest: 0.6084879\tbest: 0.6084879 (9)\ttotal: 8.25s\tremaining: 1m 55s\n",
      "10:\tlearn: 0.6317868\ttest: 0.6300663\tbest: 0.6300663 (10)\ttotal: 9.09s\tremaining: 1m 54s\n",
      "11:\tlearn: 0.6498190\ttest: 0.6484063\tbest: 0.6484063 (11)\ttotal: 9.95s\tremaining: 1m 54s\n",
      "12:\tlearn: 0.6498038\ttest: 0.6478538\tbest: 0.6484063 (11)\ttotal: 10.8s\tremaining: 1m 53s\n",
      "13:\tlearn: 0.6519001\ttest: 0.6502158\tbest: 0.6502158 (13)\ttotal: 11.7s\tremaining: 1m 53s\n",
      "14:\tlearn: 0.6510689\ttest: 0.6494295\tbest: 0.6502158 (13)\ttotal: 12.5s\tremaining: 1m 52s\n",
      "15:\tlearn: 0.6636504\ttest: 0.6616849\tbest: 0.6616849 (15)\ttotal: 13.3s\tremaining: 1m 51s\n",
      "16:\tlearn: 0.6646383\ttest: 0.6624359\tbest: 0.6624359 (16)\ttotal: 14.2s\tremaining: 1m 51s\n",
      "17:\tlearn: 0.6645753\ttest: 0.6622264\tbest: 0.6624359 (16)\ttotal: 15.1s\tremaining: 1m 50s\n",
      "18:\tlearn: 0.6750956\ttest: 0.6736035\tbest: 0.6736035 (18)\ttotal: 15.9s\tremaining: 1m 49s\n",
      "19:\tlearn: 0.6845596\ttest: 0.6832107\tbest: 0.6832107 (19)\ttotal: 16.7s\tremaining: 1m 48s\n",
      "20:\tlearn: 0.6848482\ttest: 0.6834523\tbest: 0.6834523 (20)\ttotal: 17.6s\tremaining: 1m 48s\n",
      "21:\tlearn: 0.6851784\ttest: 0.6831900\tbest: 0.6834523 (20)\ttotal: 18.6s\tremaining: 1m 48s\n",
      "22:\tlearn: 0.6989974\ttest: 0.6910045\tbest: 0.6910045 (22)\ttotal: 19.6s\tremaining: 1m 48s\n",
      "23:\tlearn: 0.7088023\ttest: 0.6948326\tbest: 0.6948326 (23)\ttotal: 20.4s\tremaining: 1m 47s\n",
      "24:\tlearn: 0.7098166\ttest: 0.6962829\tbest: 0.6962829 (24)\ttotal: 21.2s\tremaining: 1m 46s\n",
      "25:\tlearn: 0.7103336\ttest: 0.6972619\tbest: 0.6972619 (25)\ttotal: 22s\tremaining: 1m 45s\n",
      "26:\tlearn: 0.7101751\ttest: 0.6977299\tbest: 0.6977299 (26)\ttotal: 22.9s\tremaining: 1m 44s\n",
      "27:\tlearn: 0.7099274\ttest: 0.6971116\tbest: 0.6977299 (26)\ttotal: 23.7s\tremaining: 1m 43s\n",
      "28:\tlearn: 0.7097327\ttest: 0.6954280\tbest: 0.6977299 (26)\ttotal: 24.5s\tremaining: 1m 42s\n",
      "29:\tlearn: 0.7092838\ttest: 0.6954489\tbest: 0.6977299 (26)\ttotal: 25.3s\tremaining: 1m 41s\n",
      "30:\tlearn: 0.7100811\ttest: 0.6967058\tbest: 0.6977299 (26)\ttotal: 26.1s\tremaining: 1m 40s\n",
      "31:\tlearn: 0.7097558\ttest: 0.6973382\tbest: 0.6977299 (26)\ttotal: 26.9s\tremaining: 1m 39s\n",
      "32:\tlearn: 0.7196964\ttest: 0.7093949\tbest: 0.7093949 (32)\ttotal: 27.7s\tremaining: 1m 38s\n",
      "33:\tlearn: 0.7203882\ttest: 0.7100559\tbest: 0.7100559 (33)\ttotal: 28.5s\tremaining: 1m 37s\n",
      "34:\tlearn: 0.7206283\ttest: 0.7103948\tbest: 0.7103948 (34)\ttotal: 29.3s\tremaining: 1m 36s\n",
      "35:\tlearn: 0.7212679\ttest: 0.7105854\tbest: 0.7105854 (35)\ttotal: 30.1s\tremaining: 1m 35s\n",
      "36:\tlearn: 0.7216016\ttest: 0.7106644\tbest: 0.7106644 (36)\ttotal: 30.9s\tremaining: 1m 34s\n",
      "37:\tlearn: 0.7213236\ttest: 0.7079416\tbest: 0.7106644 (36)\ttotal: 31.6s\tremaining: 1m 33s\n",
      "38:\tlearn: 0.7309488\ttest: 0.7192803\tbest: 0.7192803 (38)\ttotal: 32.5s\tremaining: 1m 32s\n",
      "39:\tlearn: 0.7302623\ttest: 0.7175896\tbest: 0.7192803 (38)\ttotal: 33.3s\tremaining: 1m 31s\n",
      "40:\tlearn: 0.7308176\ttest: 0.7193229\tbest: 0.7193229 (40)\ttotal: 34.1s\tremaining: 1m 30s\n",
      "41:\tlearn: 0.7310047\ttest: 0.7186593\tbest: 0.7193229 (40)\ttotal: 34.9s\tremaining: 1m 29s\n",
      "42:\tlearn: 0.7223546\ttest: 0.7083156\tbest: 0.7193229 (40)\ttotal: 35.7s\tremaining: 1m 28s\n",
      "43:\tlearn: 0.7281108\ttest: 0.7134677\tbest: 0.7193229 (40)\ttotal: 36.5s\tremaining: 1m 27s\n",
      "44:\tlearn: 0.7285321\ttest: 0.7137379\tbest: 0.7193229 (40)\ttotal: 37.3s\tremaining: 1m 26s\n",
      "45:\tlearn: 0.7285694\ttest: 0.7139868\tbest: 0.7193229 (40)\ttotal: 38.1s\tremaining: 1m 26s\n",
      "46:\tlearn: 0.7354513\ttest: 0.7189697\tbest: 0.7193229 (40)\ttotal: 38.9s\tremaining: 1m 25s\n",
      "47:\tlearn: 0.7396079\ttest: 0.7236974\tbest: 0.7236974 (47)\ttotal: 39.7s\tremaining: 1m 24s\n",
      "48:\tlearn: 0.7397621\ttest: 0.7232269\tbest: 0.7236974 (47)\ttotal: 40.4s\tremaining: 1m 23s\n",
      "49:\tlearn: 0.7410424\ttest: 0.7243812\tbest: 0.7243812 (49)\ttotal: 41.2s\tremaining: 1m 22s\n",
      "50:\tlearn: 0.7413567\ttest: 0.7243598\tbest: 0.7243812 (49)\ttotal: 42.1s\tremaining: 1m 21s\n",
      "51:\tlearn: 0.7416279\ttest: 0.7256489\tbest: 0.7256489 (51)\ttotal: 42.8s\tremaining: 1m 20s\n",
      "52:\tlearn: 0.7414322\ttest: 0.7263097\tbest: 0.7263097 (52)\ttotal: 43.6s\tremaining: 1m 19s\n",
      "53:\tlearn: 0.7421218\ttest: 0.7272669\tbest: 0.7272669 (53)\ttotal: 44.4s\tremaining: 1m 18s\n",
      "54:\tlearn: 0.7422449\ttest: 0.7278325\tbest: 0.7278325 (54)\ttotal: 45.2s\tremaining: 1m 18s\n",
      "55:\tlearn: 0.7426328\ttest: 0.7289897\tbest: 0.7289897 (55)\ttotal: 46s\tremaining: 1m 17s\n",
      "56:\tlearn: 0.7424448\ttest: 0.7289897\tbest: 0.7289897 (55)\ttotal: 46.8s\tremaining: 1m 16s\n",
      "57:\tlearn: 0.7452445\ttest: 0.7314057\tbest: 0.7314057 (57)\ttotal: 47.5s\tremaining: 1m 15s\n",
      "58:\tlearn: 0.7457661\ttest: 0.7318064\tbest: 0.7318064 (58)\ttotal: 48.3s\tremaining: 1m 14s\n",
      "59:\tlearn: 0.7462061\ttest: 0.7315274\tbest: 0.7318064 (58)\ttotal: 49.1s\tremaining: 1m 13s\n",
      "60:\tlearn: 0.7462501\ttest: 0.7315274\tbest: 0.7318064 (58)\ttotal: 50s\tremaining: 1m 12s\n",
      "61:\tlearn: 0.7460551\ttest: 0.7307619\tbest: 0.7318064 (58)\ttotal: 50.9s\tremaining: 1m 12s\n",
      "62:\tlearn: 0.7459454\ttest: 0.7310266\tbest: 0.7318064 (58)\ttotal: 51.7s\tremaining: 1m 11s\n",
      "63:\tlearn: 0.7461735\ttest: 0.7315059\tbest: 0.7318064 (58)\ttotal: 52.4s\tremaining: 1m 10s\n",
      "64:\tlearn: 0.7531582\ttest: 0.7428174\tbest: 0.7428174 (64)\ttotal: 53.2s\tremaining: 1m 9s\n",
      "65:\tlearn: 0.7531042\ttest: 0.7429038\tbest: 0.7429038 (65)\ttotal: 54s\tremaining: 1m 8s\n",
      "66:\tlearn: 0.7529140\ttest: 0.7436442\tbest: 0.7436442 (66)\ttotal: 54.7s\tremaining: 1m 7s\n",
      "67:\tlearn: 0.7557125\ttest: 0.7462310\tbest: 0.7462310 (67)\ttotal: 55.5s\tremaining: 1m 6s\n",
      "68:\tlearn: 0.7528105\ttest: 0.7375282\tbest: 0.7462310 (67)\ttotal: 56.2s\tremaining: 1m 6s\n",
      "69:\tlearn: 0.7539159\ttest: 0.7388697\tbest: 0.7462310 (67)\ttotal: 57s\tremaining: 1m 5s\n",
      "70:\tlearn: 0.7569744\ttest: 0.7397885\tbest: 0.7462310 (67)\ttotal: 57.8s\tremaining: 1m 4s\n",
      "71:\tlearn: 0.7570612\ttest: 0.7402907\tbest: 0.7462310 (67)\ttotal: 58.6s\tremaining: 1m 3s\n",
      "72:\tlearn: 0.7605010\ttest: 0.7431252\tbest: 0.7462310 (67)\ttotal: 59.3s\tremaining: 1m 2s\n",
      "73:\tlearn: 0.7607147\ttest: 0.7439092\tbest: 0.7462310 (67)\ttotal: 1m\tremaining: 1m 1s\n",
      "74:\tlearn: 0.7613452\ttest: 0.7443440\tbest: 0.7462310 (67)\ttotal: 1m\tremaining: 1m\n",
      "75:\tlearn: 0.7648439\ttest: 0.7483324\tbest: 0.7483324 (75)\ttotal: 1m 1s\tremaining: 60s\n",
      "76:\tlearn: 0.7642970\ttest: 0.7470119\tbest: 0.7483324 (75)\ttotal: 1m 2s\tremaining: 59.2s\n",
      "77:\tlearn: 0.7640762\ttest: 0.7468387\tbest: 0.7483324 (75)\ttotal: 1m 3s\tremaining: 58.3s\n",
      "78:\tlearn: 0.7642051\ttest: 0.7464702\tbest: 0.7483324 (75)\ttotal: 1m 3s\tremaining: 57.5s\n",
      "79:\tlearn: 0.7685571\ttest: 0.7552196\tbest: 0.7552196 (79)\ttotal: 1m 4s\tremaining: 56.6s\n",
      "80:\tlearn: 0.7707967\ttest: 0.7564376\tbest: 0.7564376 (80)\ttotal: 1m 5s\tremaining: 55.8s\n",
      "81:\tlearn: 0.7732095\ttest: 0.7580843\tbest: 0.7580843 (81)\ttotal: 1m 6s\tremaining: 54.9s\n",
      "82:\tlearn: 0.7736892\ttest: 0.7578928\tbest: 0.7580843 (81)\ttotal: 1m 7s\tremaining: 54.1s\n",
      "83:\tlearn: 0.7745849\ttest: 0.7586851\tbest: 0.7586851 (83)\ttotal: 1m 7s\tremaining: 53.3s\n",
      "84:\tlearn: 0.7742632\ttest: 0.7586633\tbest: 0.7586851 (83)\ttotal: 1m 8s\tremaining: 52.5s\n",
      "85:\tlearn: 0.7739158\ttest: 0.7586028\tbest: 0.7586851 (83)\ttotal: 1m 9s\tremaining: 51.7s\n",
      "86:\tlearn: 0.7745340\ttest: 0.7589469\tbest: 0.7589469 (86)\ttotal: 1m 10s\tremaining: 50.9s\n",
      "87:\tlearn: 0.7742096\ttest: 0.7589033\tbest: 0.7589469 (86)\ttotal: 1m 11s\tremaining: 50.1s\n",
      "88:\tlearn: 0.7777005\ttest: 0.7633687\tbest: 0.7633687 (88)\ttotal: 1m 11s\tremaining: 49.3s\n",
      "89:\tlearn: 0.7782054\ttest: 0.7635137\tbest: 0.7635137 (89)\ttotal: 1m 12s\tremaining: 48.5s\n",
      "90:\tlearn: 0.7786024\ttest: 0.7639568\tbest: 0.7639568 (90)\ttotal: 1m 13s\tremaining: 47.7s\n",
      "91:\tlearn: 0.7791155\ttest: 0.7643559\tbest: 0.7643559 (91)\ttotal: 1m 14s\tremaining: 46.9s\n",
      "92:\tlearn: 0.7813521\ttest: 0.7670393\tbest: 0.7670393 (92)\ttotal: 1m 15s\tremaining: 46.1s\n",
      "93:\tlearn: 0.7812573\ttest: 0.7663440\tbest: 0.7670393 (92)\ttotal: 1m 15s\tremaining: 45.3s\n",
      "94:\tlearn: 0.7815281\ttest: 0.7670612\tbest: 0.7670612 (94)\ttotal: 1m 16s\tremaining: 44.4s\n",
      "95:\tlearn: 0.7798482\ttest: 0.7660371\tbest: 0.7670612 (94)\ttotal: 1m 17s\tremaining: 43.6s\n",
      "96:\tlearn: 0.7822993\ttest: 0.7668105\tbest: 0.7670612 (94)\ttotal: 1m 18s\tremaining: 42.7s\n",
      "97:\tlearn: 0.7780293\ttest: 0.7613030\tbest: 0.7670612 (94)\ttotal: 1m 18s\tremaining: 41.9s\n",
      "98:\tlearn: 0.7780817\ttest: 0.7610470\tbest: 0.7670612 (94)\ttotal: 1m 19s\tremaining: 41.1s\n",
      "99:\tlearn: 0.7831414\ttest: 0.7677363\tbest: 0.7677363 (99)\ttotal: 1m 20s\tremaining: 40.3s\n",
      "100:\tlearn: 0.7804362\ttest: 0.7638094\tbest: 0.7677363 (99)\ttotal: 1m 21s\tremaining: 39.5s\n",
      "101:\tlearn: 0.7787410\ttest: 0.7619615\tbest: 0.7677363 (99)\ttotal: 1m 22s\tremaining: 38.7s\n",
      "102:\tlearn: 0.7792512\ttest: 0.7623856\tbest: 0.7677363 (99)\ttotal: 1m 22s\tremaining: 37.9s\n",
      "103:\tlearn: 0.7794520\ttest: 0.7629775\tbest: 0.7677363 (99)\ttotal: 1m 23s\tremaining: 37s\n",
      "104:\tlearn: 0.7794070\ttest: 0.7628681\tbest: 0.7677363 (99)\ttotal: 1m 24s\tremaining: 36.2s\n",
      "105:\tlearn: 0.7797320\ttest: 0.7632915\tbest: 0.7677363 (99)\ttotal: 1m 25s\tremaining: 35.4s\n",
      "106:\tlearn: 0.7796710\ttest: 0.7632259\tbest: 0.7677363 (99)\ttotal: 1m 26s\tremaining: 34.6s\n",
      "107:\tlearn: 0.7801130\ttest: 0.7632329\tbest: 0.7677363 (99)\ttotal: 1m 26s\tremaining: 33.7s\n",
      "108:\tlearn: 0.7820164\ttest: 0.7669188\tbest: 0.7677363 (99)\ttotal: 1m 27s\tremaining: 32.9s\n",
      "109:\tlearn: 0.7834270\ttest: 0.7687998\tbest: 0.7687998 (109)\ttotal: 1m 28s\tremaining: 32.1s\n",
      "110:\tlearn: 0.7833840\ttest: 0.7692202\tbest: 0.7692202 (110)\ttotal: 1m 29s\tremaining: 31.3s\n",
      "111:\tlearn: 0.7855309\ttest: 0.7726062\tbest: 0.7726062 (111)\ttotal: 1m 29s\tremaining: 30.5s\n",
      "112:\tlearn: 0.7853863\ttest: 0.7725183\tbest: 0.7726062 (111)\ttotal: 1m 30s\tremaining: 29.7s\n",
      "113:\tlearn: 0.7846721\ttest: 0.7709208\tbest: 0.7726062 (111)\ttotal: 1m 31s\tremaining: 28.9s\n",
      "114:\tlearn: 0.7828959\ttest: 0.7681161\tbest: 0.7726062 (111)\ttotal: 1m 32s\tremaining: 28.1s\n",
      "115:\tlearn: 0.7835053\ttest: 0.7689036\tbest: 0.7726062 (111)\ttotal: 1m 32s\tremaining: 27.3s\n",
      "116:\tlearn: 0.7838098\ttest: 0.7686936\tbest: 0.7726062 (111)\ttotal: 1m 33s\tremaining: 26.4s\n",
      "117:\tlearn: 0.7839693\ttest: 0.7686717\tbest: 0.7726062 (111)\ttotal: 1m 34s\tremaining: 25.6s\n",
      "118:\tlearn: 0.7858202\ttest: 0.7712301\tbest: 0.7726062 (111)\ttotal: 1m 35s\tremaining: 24.8s\n",
      "119:\tlearn: 0.7861351\ttest: 0.7713516\tbest: 0.7726062 (111)\ttotal: 1m 36s\tremaining: 24s\n",
      "120:\tlearn: 0.7879942\ttest: 0.7745293\tbest: 0.7745293 (120)\ttotal: 1m 36s\tremaining: 23.2s\n",
      "121:\tlearn: 0.7898137\ttest: 0.7775519\tbest: 0.7775519 (121)\ttotal: 1m 37s\tremaining: 22.4s\n",
      "122:\tlearn: 0.7903615\ttest: 0.7778256\tbest: 0.7778256 (122)\ttotal: 1m 38s\tremaining: 21.6s\n",
      "123:\tlearn: 0.7909258\ttest: 0.7777595\tbest: 0.7778256 (122)\ttotal: 1m 39s\tremaining: 20.8s\n",
      "124:\tlearn: 0.7913075\ttest: 0.7775740\tbest: 0.7778256 (122)\ttotal: 1m 39s\tremaining: 20s\n",
      "125:\tlearn: 0.7915526\ttest: 0.7776842\tbest: 0.7778256 (122)\ttotal: 1m 40s\tremaining: 19.2s\n",
      "126:\tlearn: 0.7914955\ttest: 0.7784391\tbest: 0.7784391 (126)\ttotal: 1m 41s\tremaining: 18.4s\n",
      "127:\tlearn: 0.7927822\ttest: 0.7805549\tbest: 0.7805549 (127)\ttotal: 1m 42s\tremaining: 17.6s\n",
      "128:\tlearn: 0.7926626\ttest: 0.7805769\tbest: 0.7805769 (128)\ttotal: 1m 43s\tremaining: 16.8s\n",
      "129:\tlearn: 0.7931768\ttest: 0.7812415\tbest: 0.7812415 (129)\ttotal: 1m 43s\tremaining: 16s\n",
      "130:\tlearn: 0.7918586\ttest: 0.7781654\tbest: 0.7812415 (129)\ttotal: 1m 44s\tremaining: 15.2s\n",
      "131:\tlearn: 0.7931342\ttest: 0.7808279\tbest: 0.7812415 (129)\ttotal: 1m 45s\tremaining: 14.4s\n",
      "132:\tlearn: 0.7931075\ttest: 0.7808279\tbest: 0.7812415 (129)\ttotal: 1m 46s\tremaining: 13.6s\n",
      "133:\tlearn: 0.7932437\ttest: 0.7807838\tbest: 0.7812415 (129)\ttotal: 1m 47s\tremaining: 12.8s\n",
      "134:\tlearn: 0.7933800\ttest: 0.7808721\tbest: 0.7812415 (129)\ttotal: 1m 47s\tremaining: 12s\n",
      "135:\tlearn: 0.7934939\ttest: 0.7808500\tbest: 0.7812415 (129)\ttotal: 1m 48s\tremaining: 11.2s\n",
      "136:\tlearn: 0.7923701\ttest: 0.7779450\tbest: 0.7812415 (129)\ttotal: 1m 49s\tremaining: 10.4s\n",
      "137:\tlearn: 0.7942442\ttest: 0.7817509\tbest: 0.7817509 (137)\ttotal: 1m 50s\tremaining: 9.58s\n",
      "138:\tlearn: 0.7930652\ttest: 0.7789068\tbest: 0.7817509 (137)\ttotal: 1m 50s\tremaining: 8.77s\n",
      "139:\tlearn: 0.7934193\ttest: 0.7791141\tbest: 0.7817509 (137)\ttotal: 1m 51s\tremaining: 7.97s\n",
      "140:\tlearn: 0.7939317\ttest: 0.7790700\tbest: 0.7817509 (137)\ttotal: 1m 52s\tremaining: 7.17s\n",
      "141:\tlearn: 0.7939942\ttest: 0.7793433\tbest: 0.7817509 (137)\ttotal: 1m 53s\tremaining: 6.37s\n",
      "142:\tlearn: 0.7941035\ttest: 0.7792110\tbest: 0.7817509 (137)\ttotal: 1m 53s\tremaining: 5.58s\n",
      "143:\tlearn: 0.7940299\ttest: 0.7794401\tbest: 0.7817509 (137)\ttotal: 1m 54s\tremaining: 4.78s\n",
      "144:\tlearn: 0.7937676\ttest: 0.7793960\tbest: 0.7817509 (137)\ttotal: 1m 55s\tremaining: 3.98s\n",
      "145:\tlearn: 0.7942240\ttest: 0.7806816\tbest: 0.7817509 (137)\ttotal: 1m 56s\tremaining: 3.18s\n",
      "146:\tlearn: 0.7954013\ttest: 0.7823556\tbest: 0.7823556 (146)\ttotal: 1m 56s\tremaining: 2.38s\n",
      "147:\tlearn: 0.7955205\ttest: 0.7826281\tbest: 0.7826281 (147)\ttotal: 1m 57s\tremaining: 1.59s\n",
      "148:\tlearn: 0.7956631\ttest: 0.7830846\tbest: 0.7830846 (148)\ttotal: 1m 58s\tremaining: 795ms\n",
      "149:\tlearn: 0.7955225\ttest: 0.7831802\tbest: 0.7831802 (149)\ttotal: 1m 59s\tremaining: 0us\n",
      "\n",
      "bestTest = 0.7831801859\n",
      "bestIteration = 149\n",
      "\n",
      "8:\tloss: 0.7831802\tbest: 0.7831802 (8)\ttotal: 8m 58s\tremaining: 0us\n",
      "Estimating final quality...\n",
      "Training on fold [0/3]\n",
      "0:\tlearn: 0.5428381\ttest: 0.5457692\tbest: 0.5457692 (0)\ttotal: 660ms\tremaining: 1m 38s\n",
      "1:\tlearn: 0.5796242\ttest: 0.5818353\tbest: 0.5818353 (1)\ttotal: 1.22s\tremaining: 1m 30s\n",
      "2:\tlearn: 0.5814917\ttest: 0.5842426\tbest: 0.5842426 (2)\ttotal: 1.82s\tremaining: 1m 29s\n",
      "3:\tlearn: 0.6102954\ttest: 0.6083963\tbest: 0.6083963 (3)\ttotal: 2.43s\tremaining: 1m 28s\n",
      "4:\tlearn: 0.6107898\ttest: 0.6082768\tbest: 0.6083963 (3)\ttotal: 3.04s\tremaining: 1m 28s\n",
      "5:\tlearn: 0.6113628\ttest: 0.6094016\tbest: 0.6094016 (5)\ttotal: 3.64s\tremaining: 1m 27s\n",
      "6:\tlearn: 0.6112211\ttest: 0.6092593\tbest: 0.6094016 (5)\ttotal: 4.27s\tremaining: 1m 27s\n",
      "7:\tlearn: 0.6112804\ttest: 0.6093784\tbest: 0.6094016 (5)\ttotal: 4.86s\tremaining: 1m 26s\n",
      "8:\tlearn: 0.6307354\ttest: 0.6288421\tbest: 0.6288421 (8)\ttotal: 5.44s\tremaining: 1m 25s\n",
      "9:\tlearn: 0.6332140\ttest: 0.6305044\tbest: 0.6305044 (9)\ttotal: 6.04s\tremaining: 1m 24s\n",
      "10:\tlearn: 0.6307829\ttest: 0.6290140\tbest: 0.6305044 (9)\ttotal: 6.64s\tremaining: 1m 23s\n",
      "11:\tlearn: 0.6330849\ttest: 0.6306876\tbest: 0.6306876 (11)\ttotal: 7.27s\tremaining: 1m 23s\n",
      "12:\tlearn: 0.6331723\ttest: 0.6309708\tbest: 0.6309708 (12)\ttotal: 7.86s\tremaining: 1m 22s\n",
      "13:\tlearn: 0.6335314\ttest: 0.6313250\tbest: 0.6313250 (13)\ttotal: 8.52s\tremaining: 1m 22s\n",
      "14:\tlearn: 0.6558222\ttest: 0.6480566\tbest: 0.6480566 (14)\ttotal: 9.12s\tremaining: 1m 22s\n",
      "15:\tlearn: 0.6662167\ttest: 0.6582735\tbest: 0.6582735 (15)\ttotal: 9.71s\tremaining: 1m 21s\n",
      "16:\tlearn: 0.6664728\ttest: 0.6586022\tbest: 0.6586022 (16)\ttotal: 10.3s\tremaining: 1m 20s\n",
      "17:\tlearn: 0.6665492\ttest: 0.6586811\tbest: 0.6586811 (17)\ttotal: 10.9s\tremaining: 1m 20s\n",
      "18:\tlearn: 0.6659420\ttest: 0.6582491\tbest: 0.6586811 (17)\ttotal: 11.5s\tremaining: 1m 19s\n",
      "19:\tlearn: 0.6672676\ttest: 0.6598299\tbest: 0.6598299 (19)\ttotal: 12.1s\tremaining: 1m 18s\n",
      "20:\tlearn: 0.6672369\ttest: 0.6596049\tbest: 0.6598299 (19)\ttotal: 12.7s\tremaining: 1m 17s\n",
      "21:\tlearn: 0.6733157\ttest: 0.6641859\tbest: 0.6641859 (21)\ttotal: 13.3s\tremaining: 1m 17s\n",
      "22:\tlearn: 0.6843757\ttest: 0.6759047\tbest: 0.6759047 (22)\ttotal: 13.9s\tremaining: 1m 16s\n",
      "23:\tlearn: 0.6848736\ttest: 0.6765940\tbest: 0.6765940 (23)\ttotal: 14.5s\tremaining: 1m 16s\n",
      "24:\tlearn: 0.6849777\ttest: 0.6766312\tbest: 0.6766312 (24)\ttotal: 15.1s\tremaining: 1m 15s\n",
      "25:\tlearn: 0.6859139\ttest: 0.6769513\tbest: 0.6769513 (25)\ttotal: 15.7s\tremaining: 1m 14s\n",
      "26:\tlearn: 0.6858889\ttest: 0.6769389\tbest: 0.6769513 (25)\ttotal: 16.3s\tremaining: 1m 14s\n",
      "27:\tlearn: 0.6859679\ttest: 0.6772464\tbest: 0.6772464 (27)\ttotal: 16.9s\tremaining: 1m 13s\n",
      "28:\tlearn: 0.6946187\ttest: 0.6872391\tbest: 0.6872391 (28)\ttotal: 17.5s\tremaining: 1m 12s\n",
      "29:\tlearn: 0.6945280\ttest: 0.6870939\tbest: 0.6872391 (28)\ttotal: 18s\tremaining: 1m 12s\n",
      "30:\tlearn: 0.7037343\ttest: 0.6957054\tbest: 0.6957054 (30)\ttotal: 18.6s\tremaining: 1m 11s\n",
      "31:\tlearn: 0.7125419\ttest: 0.7068493\tbest: 0.7068493 (31)\ttotal: 19.2s\tremaining: 1m 10s\n",
      "32:\tlearn: 0.7136556\ttest: 0.7068757\tbest: 0.7068757 (32)\ttotal: 19.8s\tremaining: 1m 10s\n",
      "33:\tlearn: 0.7144938\ttest: 0.7085786\tbest: 0.7085786 (33)\ttotal: 20.4s\tremaining: 1m 9s\n",
      "34:\tlearn: 0.7217286\ttest: 0.7158827\tbest: 0.7158827 (34)\ttotal: 21s\tremaining: 1m 8s\n",
      "35:\tlearn: 0.7220474\ttest: 0.7170452\tbest: 0.7170452 (35)\ttotal: 21.5s\tremaining: 1m 8s\n",
      "36:\tlearn: 0.7213180\ttest: 0.7167568\tbest: 0.7170452 (35)\ttotal: 22.1s\tremaining: 1m 7s\n",
      "37:\tlearn: 0.7217328\ttest: 0.7169113\tbest: 0.7170452 (35)\ttotal: 22.7s\tremaining: 1m 6s\n",
      "38:\tlearn: 0.7282402\ttest: 0.7223874\tbest: 0.7223874 (38)\ttotal: 23.3s\tremaining: 1m 6s\n",
      "39:\tlearn: 0.7281983\ttest: 0.7221397\tbest: 0.7223874 (38)\ttotal: 23.9s\tremaining: 1m 5s\n",
      "40:\tlearn: 0.7276688\ttest: 0.7216184\tbest: 0.7223874 (38)\ttotal: 24.5s\tremaining: 1m 5s\n",
      "41:\tlearn: 0.7352786\ttest: 0.7268652\tbest: 0.7268652 (41)\ttotal: 25.1s\tremaining: 1m 4s\n",
      "42:\tlearn: 0.7347330\ttest: 0.7270843\tbest: 0.7270843 (42)\ttotal: 25.7s\tremaining: 1m 3s\n",
      "43:\tlearn: 0.7350082\ttest: 0.7269108\tbest: 0.7270843 (42)\ttotal: 26.3s\tremaining: 1m 3s\n",
      "44:\tlearn: 0.7363777\ttest: 0.7287008\tbest: 0.7287008 (44)\ttotal: 26.8s\tremaining: 1m 2s\n",
      "45:\tlearn: 0.7365091\ttest: 0.7279762\tbest: 0.7287008 (44)\ttotal: 27.4s\tremaining: 1m 1s\n",
      "46:\tlearn: 0.7365368\ttest: 0.7285275\tbest: 0.7287008 (44)\ttotal: 28s\tremaining: 1m 1s\n",
      "47:\tlearn: 0.7365627\ttest: 0.7293032\tbest: 0.7293032 (47)\ttotal: 28.6s\tremaining: 1m\n",
      "48:\tlearn: 0.7365675\ttest: 0.7288998\tbest: 0.7293032 (47)\ttotal: 29.2s\tremaining: 1m\n",
      "49:\tlearn: 0.7369131\ttest: 0.7292462\tbest: 0.7293032 (47)\ttotal: 29.8s\tremaining: 59.5s\n",
      "50:\tlearn: 0.7395047\ttest: 0.7321105\tbest: 0.7321105 (50)\ttotal: 30.4s\tremaining: 58.9s\n",
      "51:\tlearn: 0.7462862\ttest: 0.7362342\tbest: 0.7362342 (51)\ttotal: 30.9s\tremaining: 58.3s\n",
      "52:\tlearn: 0.7466012\ttest: 0.7366202\tbest: 0.7366202 (52)\ttotal: 31.5s\tremaining: 57.7s\n",
      "53:\tlearn: 0.7462739\ttest: 0.7370867\tbest: 0.7370867 (53)\ttotal: 32.1s\tremaining: 57s\n",
      "54:\tlearn: 0.7465164\ttest: 0.7375239\tbest: 0.7375239 (54)\ttotal: 32.7s\tremaining: 56.4s\n",
      "55:\tlearn: 0.7467918\ttest: 0.7375110\tbest: 0.7375239 (54)\ttotal: 33.3s\tremaining: 55.8s\n",
      "56:\tlearn: 0.7475455\ttest: 0.7383457\tbest: 0.7383457 (56)\ttotal: 33.8s\tremaining: 55.2s\n",
      "57:\tlearn: 0.7475255\ttest: 0.7383041\tbest: 0.7383457 (56)\ttotal: 34.5s\tremaining: 54.7s\n",
      "58:\tlearn: 0.7486315\ttest: 0.7390056\tbest: 0.7390056 (58)\ttotal: 35s\tremaining: 54s\n",
      "59:\tlearn: 0.7486773\ttest: 0.7388082\tbest: 0.7390056 (58)\ttotal: 35.6s\tremaining: 53.4s\n",
      "60:\tlearn: 0.7507015\ttest: 0.7395458\tbest: 0.7395458 (60)\ttotal: 36.2s\tremaining: 52.8s\n",
      "61:\tlearn: 0.7507023\ttest: 0.7398317\tbest: 0.7398317 (61)\ttotal: 36.8s\tremaining: 52.2s\n",
      "62:\tlearn: 0.7506892\ttest: 0.7395019\tbest: 0.7398317 (61)\ttotal: 37.4s\tremaining: 51.6s\n",
      "63:\tlearn: 0.7555939\ttest: 0.7457599\tbest: 0.7457599 (63)\ttotal: 38s\tremaining: 51.1s\n",
      "64:\tlearn: 0.7563063\ttest: 0.7467567\tbest: 0.7467567 (64)\ttotal: 38.6s\tremaining: 50.5s\n",
      "65:\tlearn: 0.7569063\ttest: 0.7476085\tbest: 0.7476085 (65)\ttotal: 39.2s\tremaining: 49.9s\n",
      "66:\tlearn: 0.7566552\ttest: 0.7472940\tbest: 0.7476085 (65)\ttotal: 39.8s\tremaining: 49.3s\n",
      "67:\tlearn: 0.7589179\ttest: 0.7517221\tbest: 0.7517221 (67)\ttotal: 40.4s\tremaining: 48.7s\n",
      "68:\tlearn: 0.7591926\ttest: 0.7516056\tbest: 0.7517221 (67)\ttotal: 41s\tremaining: 48.1s\n",
      "69:\tlearn: 0.7613467\ttest: 0.7541432\tbest: 0.7541432 (69)\ttotal: 41.5s\tremaining: 47.4s\n",
      "70:\tlearn: 0.7675441\ttest: 0.7610847\tbest: 0.7610847 (70)\ttotal: 42.1s\tremaining: 46.8s\n",
      "71:\tlearn: 0.7619925\ttest: 0.7546505\tbest: 0.7610847 (70)\ttotal: 42.6s\tremaining: 46.2s\n",
      "72:\tlearn: 0.7623895\ttest: 0.7553253\tbest: 0.7610847 (70)\ttotal: 43.2s\tremaining: 45.6s\n",
      "73:\tlearn: 0.7624932\ttest: 0.7544814\tbest: 0.7610847 (70)\ttotal: 43.8s\tremaining: 45s\n",
      "74:\tlearn: 0.7620173\ttest: 0.7542218\tbest: 0.7610847 (70)\ttotal: 44.4s\tremaining: 44.4s\n",
      "75:\tlearn: 0.7655319\ttest: 0.7569074\tbest: 0.7610847 (70)\ttotal: 44.9s\tremaining: 43.8s\n",
      "76:\tlearn: 0.7656051\ttest: 0.7576417\tbest: 0.7610847 (70)\ttotal: 45.5s\tremaining: 43.1s\n",
      "77:\tlearn: 0.7700065\ttest: 0.7639158\tbest: 0.7639158 (77)\ttotal: 46.1s\tremaining: 42.5s\n",
      "78:\tlearn: 0.7700849\ttest: 0.7640872\tbest: 0.7640872 (78)\ttotal: 46.7s\tremaining: 41.9s\n",
      "79:\tlearn: 0.7667149\ttest: 0.7620852\tbest: 0.7640872 (78)\ttotal: 47.2s\tremaining: 41.3s\n",
      "80:\tlearn: 0.7667722\ttest: 0.7622763\tbest: 0.7640872 (78)\ttotal: 47.8s\tremaining: 40.7s\n",
      "81:\tlearn: 0.7689587\ttest: 0.7638720\tbest: 0.7640872 (78)\ttotal: 48.4s\tremaining: 40.1s\n",
      "82:\tlearn: 0.7691948\ttest: 0.7650695\tbest: 0.7650695 (82)\ttotal: 49s\tremaining: 39.5s\n",
      "83:\tlearn: 0.7692048\ttest: 0.7643957\tbest: 0.7650695 (82)\ttotal: 49.5s\tremaining: 38.9s\n",
      "84:\tlearn: 0.7698619\ttest: 0.7648241\tbest: 0.7650695 (82)\ttotal: 50.1s\tremaining: 38.3s\n",
      "85:\tlearn: 0.7743635\ttest: 0.7692983\tbest: 0.7692983 (85)\ttotal: 50.7s\tremaining: 37.7s\n",
      "86:\tlearn: 0.7744201\ttest: 0.7697587\tbest: 0.7697587 (86)\ttotal: 51.2s\tremaining: 37.1s\n",
      "87:\tlearn: 0.7744567\ttest: 0.7693247\tbest: 0.7697587 (86)\ttotal: 51.8s\tremaining: 36.5s\n",
      "88:\tlearn: 0.7743671\ttest: 0.7694121\tbest: 0.7697587 (86)\ttotal: 52.3s\tremaining: 35.9s\n",
      "89:\tlearn: 0.7791082\ttest: 0.7735885\tbest: 0.7735885 (89)\ttotal: 52.9s\tremaining: 35.3s\n",
      "90:\tlearn: 0.7788647\ttest: 0.7733367\tbest: 0.7735885 (89)\ttotal: 53.4s\tremaining: 34.6s\n",
      "91:\tlearn: 0.7806625\ttest: 0.7760906\tbest: 0.7760906 (91)\ttotal: 54s\tremaining: 34.1s\n",
      "92:\tlearn: 0.7808539\ttest: 0.7768243\tbest: 0.7768243 (92)\ttotal: 54.6s\tremaining: 33.5s\n",
      "93:\tlearn: 0.7812085\ttest: 0.7772139\tbest: 0.7772139 (93)\ttotal: 55.1s\tremaining: 32.9s\n",
      "94:\tlearn: 0.7813574\ttest: 0.7775708\tbest: 0.7775708 (94)\ttotal: 55.7s\tremaining: 32.3s\n",
      "95:\tlearn: 0.7815645\ttest: 0.7772212\tbest: 0.7775708 (94)\ttotal: 56.3s\tremaining: 31.7s\n",
      "96:\tlearn: 0.7834579\ttest: 0.7781327\tbest: 0.7781327 (96)\ttotal: 56.9s\tremaining: 31.1s\n",
      "97:\tlearn: 0.7818182\ttest: 0.7760252\tbest: 0.7781327 (96)\ttotal: 57.4s\tremaining: 30.5s\n",
      "98:\tlearn: 0.7820344\ttest: 0.7760119\tbest: 0.7781327 (96)\ttotal: 58s\tremaining: 29.9s\n",
      "99:\tlearn: 0.7825615\ttest: 0.7763100\tbest: 0.7781327 (96)\ttotal: 58.6s\tremaining: 29.3s\n",
      "100:\tlearn: 0.7812499\ttest: 0.7760587\tbest: 0.7781327 (96)\ttotal: 59.1s\tremaining: 28.7s\n",
      "101:\tlearn: 0.7811251\ttest: 0.7760587\tbest: 0.7781327 (96)\ttotal: 59.7s\tremaining: 28.1s\n",
      "102:\tlearn: 0.7818490\ttest: 0.7771694\tbest: 0.7781327 (96)\ttotal: 1m\tremaining: 27.5s\n",
      "103:\tlearn: 0.7837715\ttest: 0.7793791\tbest: 0.7793791 (103)\ttotal: 1m\tremaining: 26.9s\n",
      "104:\tlearn: 0.7853413\ttest: 0.7803606\tbest: 0.7803606 (104)\ttotal: 1m 1s\tremaining: 26.3s\n",
      "105:\tlearn: 0.7854079\ttest: 0.7806770\tbest: 0.7806770 (105)\ttotal: 1m 1s\tremaining: 25.7s\n",
      "106:\tlearn: 0.7857475\ttest: 0.7809933\tbest: 0.7809933 (106)\ttotal: 1m 2s\tremaining: 25.1s\n",
      "107:\tlearn: 0.7862113\ttest: 0.7819950\tbest: 0.7819950 (107)\ttotal: 1m 3s\tremaining: 24.5s\n",
      "108:\tlearn: 0.7864842\ttest: 0.7821463\tbest: 0.7821463 (108)\ttotal: 1m 3s\tremaining: 23.9s\n",
      "109:\tlearn: 0.7857300\ttest: 0.7819734\tbest: 0.7821463 (108)\ttotal: 1m 4s\tremaining: 23.4s\n",
      "110:\tlearn: 0.7866544\ttest: 0.7824140\tbest: 0.7824140 (110)\ttotal: 1m 4s\tremaining: 22.8s\n",
      "111:\tlearn: 0.7857584\ttest: 0.7820582\tbest: 0.7824140 (110)\ttotal: 1m 5s\tremaining: 22.2s\n",
      "112:\tlearn: 0.7877340\ttest: 0.7825884\tbest: 0.7825884 (112)\ttotal: 1m 5s\tremaining: 21.6s\n",
      "113:\tlearn: 0.7879046\ttest: 0.7831798\tbest: 0.7831798 (113)\ttotal: 1m 6s\tremaining: 21s\n",
      "114:\tlearn: 0.7885587\ttest: 0.7838421\tbest: 0.7838421 (114)\ttotal: 1m 7s\tremaining: 20.4s\n",
      "115:\tlearn: 0.7884483\ttest: 0.7838554\tbest: 0.7838554 (115)\ttotal: 1m 7s\tremaining: 19.8s\n",
      "116:\tlearn: 0.7889747\ttest: 0.7846104\tbest: 0.7846104 (116)\ttotal: 1m 8s\tremaining: 19.2s\n",
      "117:\tlearn: 0.7905041\ttest: 0.7847391\tbest: 0.7847391 (117)\ttotal: 1m 8s\tremaining: 18.7s\n",
      "118:\tlearn: 0.7906692\ttest: 0.7854844\tbest: 0.7854844 (118)\ttotal: 1m 9s\tremaining: 18.1s\n",
      "119:\tlearn: 0.7907510\ttest: 0.7854844\tbest: 0.7854844 (118)\ttotal: 1m 9s\tremaining: 17.5s\n",
      "120:\tlearn: 0.7922154\ttest: 0.7871365\tbest: 0.7871365 (120)\ttotal: 1m 10s\tremaining: 16.9s\n",
      "121:\tlearn: 0.7923319\ttest: 0.7871765\tbest: 0.7871765 (121)\ttotal: 1m 11s\tremaining: 16.3s\n",
      "122:\tlearn: 0.7923508\ttest: 0.7873480\tbest: 0.7873480 (122)\ttotal: 1m 11s\tremaining: 15.7s\n",
      "123:\tlearn: 0.7927934\ttest: 0.7877266\tbest: 0.7877266 (123)\ttotal: 1m 12s\tremaining: 15.2s\n",
      "124:\tlearn: 0.7927533\ttest: 0.7875762\tbest: 0.7877266 (123)\ttotal: 1m 12s\tremaining: 14.6s\n",
      "125:\tlearn: 0.7950137\ttest: 0.7885617\tbest: 0.7885617 (125)\ttotal: 1m 13s\tremaining: 14s\n",
      "126:\tlearn: 0.7948163\ttest: 0.7886719\tbest: 0.7886719 (126)\ttotal: 1m 14s\tremaining: 13.4s\n",
      "127:\tlearn: 0.7954928\ttest: 0.7886887\tbest: 0.7886887 (127)\ttotal: 1m 14s\tremaining: 12.8s\n",
      "128:\tlearn: 0.7958115\ttest: 0.7895229\tbest: 0.7895229 (128)\ttotal: 1m 15s\tremaining: 12.2s\n",
      "129:\tlearn: 0.7958651\ttest: 0.7895897\tbest: 0.7895897 (129)\ttotal: 1m 15s\tremaining: 11.7s\n",
      "130:\tlearn: 0.7959215\ttest: 0.7903892\tbest: 0.7903892 (130)\ttotal: 1m 16s\tremaining: 11.1s\n",
      "131:\tlearn: 0.7962170\ttest: 0.7902022\tbest: 0.7903892 (130)\ttotal: 1m 16s\tremaining: 10.5s\n",
      "132:\tlearn: 0.7961147\ttest: 0.7903388\tbest: 0.7903892 (130)\ttotal: 1m 17s\tremaining: 9.9s\n",
      "133:\tlearn: 0.7961616\ttest: 0.7902556\tbest: 0.7903892 (130)\ttotal: 1m 18s\tremaining: 9.32s\n",
      "134:\tlearn: 0.7972968\ttest: 0.7902452\tbest: 0.7903892 (130)\ttotal: 1m 18s\tremaining: 8.73s\n",
      "135:\tlearn: 0.7972282\ttest: 0.7900656\tbest: 0.7903892 (130)\ttotal: 1m 19s\tremaining: 8.15s\n",
      "136:\tlearn: 0.7977564\ttest: 0.7906519\tbest: 0.7906519 (136)\ttotal: 1m 19s\tremaining: 7.56s\n",
      "137:\tlearn: 0.7992456\ttest: 0.7931507\tbest: 0.7931507 (137)\ttotal: 1m 20s\tremaining: 6.98s\n",
      "138:\tlearn: 0.7984146\ttest: 0.7912589\tbest: 0.7931507 (137)\ttotal: 1m 20s\tremaining: 6.4s\n",
      "139:\tlearn: 0.7996023\ttest: 0.7930801\tbest: 0.7931507 (137)\ttotal: 1m 21s\tremaining: 5.82s\n",
      "140:\tlearn: 0.7998930\ttest: 0.7938287\tbest: 0.7938287 (140)\ttotal: 1m 21s\tremaining: 5.23s\n",
      "141:\tlearn: 0.7999467\ttest: 0.7931757\tbest: 0.7938287 (140)\ttotal: 1m 22s\tremaining: 4.65s\n",
      "142:\tlearn: 0.8000678\ttest: 0.7934604\tbest: 0.7938287 (140)\ttotal: 1m 23s\tremaining: 4.07s\n",
      "143:\tlearn: 0.8015361\ttest: 0.7939492\tbest: 0.7939492 (143)\ttotal: 1m 23s\tremaining: 3.48s\n",
      "144:\tlearn: 0.8016839\ttest: 0.7944228\tbest: 0.7944228 (144)\ttotal: 1m 24s\tremaining: 2.9s\n",
      "145:\tlearn: 0.8005610\ttest: 0.7921093\tbest: 0.7944228 (144)\ttotal: 1m 24s\tremaining: 2.32s\n",
      "146:\tlearn: 0.8018105\ttest: 0.7930333\tbest: 0.7944228 (144)\ttotal: 1m 25s\tremaining: 1.74s\n",
      "147:\tlearn: 0.8019186\ttest: 0.7933323\tbest: 0.7944228 (144)\ttotal: 1m 25s\tremaining: 1.16s\n",
      "148:\tlearn: 0.8037681\ttest: 0.7958759\tbest: 0.7958759 (148)\ttotal: 1m 26s\tremaining: 580ms\n",
      "149:\tlearn: 0.8038822\ttest: 0.7956603\tbest: 0.7958759 (148)\ttotal: 1m 27s\tremaining: 0us\n",
      "\n",
      "bestTest = 0.7958759491\n",
      "bestIteration = 148\n",
      "\n",
      "Training on fold [1/3]\n",
      "0:\tlearn: 0.5436095\ttest: 0.5472312\tbest: 0.5472312 (0)\ttotal: 663ms\tremaining: 1m 38s\n",
      "1:\tlearn: 0.5782846\ttest: 0.5835211\tbest: 0.5835211 (1)\ttotal: 1.23s\tremaining: 1m 30s\n",
      "2:\tlearn: 0.5806811\ttest: 0.5860580\tbest: 0.5860580 (2)\ttotal: 1.82s\tremaining: 1m 29s\n",
      "3:\tlearn: 0.5813608\ttest: 0.5865423\tbest: 0.5865423 (3)\ttotal: 2.38s\tremaining: 1m 26s\n",
      "4:\tlearn: 0.5812092\ttest: 0.5860242\tbest: 0.5865423 (3)\ttotal: 3s\tremaining: 1m 26s\n",
      "5:\tlearn: 0.6053204\ttest: 0.6070697\tbest: 0.6070697 (5)\ttotal: 3.55s\tremaining: 1m 25s\n",
      "6:\tlearn: 0.6051766\ttest: 0.6070697\tbest: 0.6070697 (5)\ttotal: 4.2s\tremaining: 1m 25s\n",
      "7:\tlearn: 0.6282122\ttest: 0.6327331\tbest: 0.6327331 (7)\ttotal: 4.82s\tremaining: 1m 25s\n",
      "8:\tlearn: 0.6259741\ttest: 0.6302119\tbest: 0.6327331 (7)\ttotal: 5.44s\tremaining: 1m 25s\n",
      "9:\tlearn: 0.6281944\ttest: 0.6335991\tbest: 0.6335991 (9)\ttotal: 6.06s\tremaining: 1m 24s\n",
      "10:\tlearn: 0.6281826\ttest: 0.6339047\tbest: 0.6339047 (10)\ttotal: 6.67s\tremaining: 1m 24s\n",
      "11:\tlearn: 0.6472770\ttest: 0.6567549\tbest: 0.6567549 (11)\ttotal: 7.3s\tremaining: 1m 23s\n",
      "12:\tlearn: 0.6583882\ttest: 0.6667716\tbest: 0.6667716 (12)\ttotal: 7.94s\tremaining: 1m 23s\n",
      "13:\tlearn: 0.6606546\ttest: 0.6701420\tbest: 0.6701420 (13)\ttotal: 8.55s\tremaining: 1m 23s\n",
      "14:\tlearn: 0.6617468\ttest: 0.6710015\tbest: 0.6710015 (14)\ttotal: 9.15s\tremaining: 1m 22s\n",
      "15:\tlearn: 0.6618554\ttest: 0.6711507\tbest: 0.6711507 (15)\ttotal: 9.76s\tremaining: 1m 21s\n",
      "16:\tlearn: 0.6730617\ttest: 0.6814323\tbest: 0.6814323 (16)\ttotal: 10.4s\tremaining: 1m 21s\n",
      "17:\tlearn: 0.6734516\ttest: 0.6818844\tbest: 0.6818844 (17)\ttotal: 11s\tremaining: 1m 20s\n",
      "18:\tlearn: 0.6733835\ttest: 0.6822147\tbest: 0.6822147 (18)\ttotal: 11.6s\tremaining: 1m 19s\n",
      "19:\tlearn: 0.6826778\ttest: 0.6926617\tbest: 0.6926617 (19)\ttotal: 12.2s\tremaining: 1m 19s\n",
      "20:\tlearn: 0.6825878\ttest: 0.6927245\tbest: 0.6927245 (20)\ttotal: 12.8s\tremaining: 1m 18s\n",
      "21:\tlearn: 0.6834311\ttest: 0.6928740\tbest: 0.6928740 (21)\ttotal: 13.4s\tremaining: 1m 18s\n",
      "22:\tlearn: 0.6849111\ttest: 0.6950218\tbest: 0.6950218 (22)\ttotal: 14s\tremaining: 1m 17s\n",
      "23:\tlearn: 0.6944782\ttest: 0.7050235\tbest: 0.7050235 (23)\ttotal: 14.6s\tremaining: 1m 16s\n",
      "24:\tlearn: 0.6951290\ttest: 0.7055874\tbest: 0.7055874 (24)\ttotal: 15.2s\tremaining: 1m 15s\n",
      "25:\tlearn: 0.6941047\ttest: 0.7053689\tbest: 0.7055874 (24)\ttotal: 15.8s\tremaining: 1m 15s\n",
      "26:\tlearn: 0.6935432\ttest: 0.7046636\tbest: 0.7055874 (24)\ttotal: 16.4s\tremaining: 1m 14s\n",
      "27:\tlearn: 0.6937711\ttest: 0.7046509\tbest: 0.7055874 (24)\ttotal: 16.9s\tremaining: 1m 13s\n",
      "28:\tlearn: 0.6939549\ttest: 0.7046255\tbest: 0.7055874 (24)\ttotal: 17.6s\tremaining: 1m 13s\n",
      "29:\tlearn: 0.6941109\ttest: 0.7047413\tbest: 0.7055874 (24)\ttotal: 18.2s\tremaining: 1m 12s\n",
      "30:\tlearn: 0.6939675\ttest: 0.7048824\tbest: 0.7055874 (24)\ttotal: 18.8s\tremaining: 1m 12s\n",
      "31:\tlearn: 0.7022752\ttest: 0.7148372\tbest: 0.7148372 (31)\ttotal: 19.4s\tremaining: 1m 11s\n",
      "32:\tlearn: 0.7040494\ttest: 0.7154552\tbest: 0.7154552 (32)\ttotal: 20s\tremaining: 1m 10s\n",
      "33:\tlearn: 0.7150816\ttest: 0.7276971\tbest: 0.7276971 (33)\ttotal: 20.6s\tremaining: 1m 10s\n",
      "34:\tlearn: 0.7150510\ttest: 0.7284902\tbest: 0.7284902 (34)\ttotal: 21.2s\tremaining: 1m 9s\n",
      "35:\tlearn: 0.7215094\ttest: 0.7349524\tbest: 0.7349524 (35)\ttotal: 21.7s\tremaining: 1m 8s\n",
      "36:\tlearn: 0.7212299\ttest: 0.7344857\tbest: 0.7349524 (35)\ttotal: 22.3s\tremaining: 1m 8s\n",
      "37:\tlearn: 0.7211680\ttest: 0.7345116\tbest: 0.7349524 (35)\ttotal: 22.9s\tremaining: 1m 7s\n",
      "38:\tlearn: 0.7212258\ttest: 0.7342694\tbest: 0.7349524 (35)\ttotal: 23.5s\tremaining: 1m 6s\n",
      "39:\tlearn: 0.7211960\ttest: 0.7344035\tbest: 0.7349524 (35)\ttotal: 24.1s\tremaining: 1m 6s\n",
      "40:\tlearn: 0.7269449\ttest: 0.7416922\tbest: 0.7416922 (40)\ttotal: 24.7s\tremaining: 1m 5s\n",
      "41:\tlearn: 0.7326812\ttest: 0.7503652\tbest: 0.7503652 (41)\ttotal: 25.3s\tremaining: 1m 4s\n",
      "42:\tlearn: 0.7331023\ttest: 0.7503260\tbest: 0.7503652 (41)\ttotal: 25.8s\tremaining: 1m 4s\n",
      "43:\tlearn: 0.7356499\ttest: 0.7531187\tbest: 0.7531187 (43)\ttotal: 26.4s\tremaining: 1m 3s\n",
      "44:\tlearn: 0.7288925\ttest: 0.7450269\tbest: 0.7531187 (43)\ttotal: 27s\tremaining: 1m 3s\n",
      "45:\tlearn: 0.7367398\ttest: 0.7522095\tbest: 0.7531187 (43)\ttotal: 27.6s\tremaining: 1m 2s\n",
      "46:\tlearn: 0.7368326\ttest: 0.7523928\tbest: 0.7531187 (43)\ttotal: 28.2s\tremaining: 1m 1s\n",
      "47:\tlearn: 0.7366599\ttest: 0.7520786\tbest: 0.7531187 (43)\ttotal: 28.8s\tremaining: 1m 1s\n",
      "48:\tlearn: 0.7364936\ttest: 0.7521834\tbest: 0.7531187 (43)\ttotal: 29.3s\tremaining: 1m\n",
      "49:\tlearn: 0.7406646\ttest: 0.7574948\tbest: 0.7574948 (49)\ttotal: 29.9s\tremaining: 59.8s\n",
      "50:\tlearn: 0.7408982\ttest: 0.7575985\tbest: 0.7575985 (50)\ttotal: 30.6s\tremaining: 59.3s\n",
      "51:\tlearn: 0.7409452\ttest: 0.7576642\tbest: 0.7576642 (51)\ttotal: 31.1s\tremaining: 58.6s\n",
      "52:\tlearn: 0.7408982\ttest: 0.7573517\tbest: 0.7576642 (51)\ttotal: 31.7s\tremaining: 58.1s\n",
      "53:\tlearn: 0.7408377\ttest: 0.7580394\tbest: 0.7580394 (53)\ttotal: 32.4s\tremaining: 57.6s\n",
      "54:\tlearn: 0.7413409\ttest: 0.7584782\tbest: 0.7584782 (54)\ttotal: 33s\tremaining: 57s\n",
      "55:\tlearn: 0.7410140\ttest: 0.7582975\tbest: 0.7584782 (54)\ttotal: 33.6s\tremaining: 56.4s\n",
      "56:\tlearn: 0.7420148\ttest: 0.7586341\tbest: 0.7586341 (56)\ttotal: 34.2s\tremaining: 55.8s\n",
      "57:\tlearn: 0.7424737\ttest: 0.7592183\tbest: 0.7592183 (57)\ttotal: 34.8s\tremaining: 55.2s\n",
      "58:\tlearn: 0.7421552\ttest: 0.7592052\tbest: 0.7592183 (57)\ttotal: 35.5s\tremaining: 54.7s\n",
      "59:\tlearn: 0.7474365\ttest: 0.7623507\tbest: 0.7623507 (59)\ttotal: 36.1s\tremaining: 54.1s\n",
      "60:\tlearn: 0.7534894\ttest: 0.7689059\tbest: 0.7689059 (60)\ttotal: 36.7s\tremaining: 53.5s\n",
      "61:\tlearn: 0.7534845\ttest: 0.7691462\tbest: 0.7691462 (61)\ttotal: 37.3s\tremaining: 52.9s\n",
      "62:\tlearn: 0.7534709\ttest: 0.7696560\tbest: 0.7696560 (62)\ttotal: 37.9s\tremaining: 52.3s\n",
      "63:\tlearn: 0.7487831\ttest: 0.7665428\tbest: 0.7696560 (62)\ttotal: 38.5s\tremaining: 51.7s\n",
      "64:\tlearn: 0.7491424\ttest: 0.7667981\tbest: 0.7696560 (62)\ttotal: 39s\tremaining: 51s\n",
      "65:\tlearn: 0.7492535\ttest: 0.7667981\tbest: 0.7696560 (62)\ttotal: 39.6s\tremaining: 50.4s\n",
      "66:\tlearn: 0.7491882\ttest: 0.7669697\tbest: 0.7696560 (62)\ttotal: 40.3s\tremaining: 49.9s\n",
      "67:\tlearn: 0.7506178\ttest: 0.7705497\tbest: 0.7705497 (67)\ttotal: 40.9s\tremaining: 49.3s\n",
      "68:\tlearn: 0.7507478\ttest: 0.7700230\tbest: 0.7705497 (67)\ttotal: 41.5s\tremaining: 48.7s\n",
      "69:\tlearn: 0.7515618\ttest: 0.7702243\tbest: 0.7705497 (67)\ttotal: 42s\tremaining: 48s\n",
      "70:\tlearn: 0.7522961\ttest: 0.7704335\tbest: 0.7705497 (67)\ttotal: 42.6s\tremaining: 47.4s\n",
      "71:\tlearn: 0.7525696\ttest: 0.7703329\tbest: 0.7705497 (67)\ttotal: 43.2s\tremaining: 46.8s\n",
      "72:\tlearn: 0.7546925\ttest: 0.7710417\tbest: 0.7710417 (72)\ttotal: 43.8s\tremaining: 46.2s\n",
      "73:\tlearn: 0.7589743\ttest: 0.7736635\tbest: 0.7736635 (73)\ttotal: 44.4s\tremaining: 45.6s\n",
      "74:\tlearn: 0.7616549\ttest: 0.7758823\tbest: 0.7758823 (74)\ttotal: 44.9s\tremaining: 44.9s\n",
      "75:\tlearn: 0.7633955\ttest: 0.7776415\tbest: 0.7776415 (75)\ttotal: 45.5s\tremaining: 44.3s\n",
      "76:\tlearn: 0.7636696\ttest: 0.7779578\tbest: 0.7779578 (76)\ttotal: 46.1s\tremaining: 43.7s\n",
      "77:\tlearn: 0.7639279\ttest: 0.7782262\tbest: 0.7782262 (77)\ttotal: 46.7s\tremaining: 43.1s\n",
      "78:\tlearn: 0.7642701\ttest: 0.7780960\tbest: 0.7782262 (77)\ttotal: 47.3s\tremaining: 42.5s\n",
      "79:\tlearn: 0.7645983\ttest: 0.7789432\tbest: 0.7789432 (79)\ttotal: 47.8s\tremaining: 41.9s\n",
      "80:\tlearn: 0.7667018\ttest: 0.7812206\tbest: 0.7812206 (80)\ttotal: 48.4s\tremaining: 41.3s\n",
      "81:\tlearn: 0.7671476\ttest: 0.7816603\tbest: 0.7816603 (81)\ttotal: 49s\tremaining: 40.6s\n",
      "82:\tlearn: 0.7675139\ttest: 0.7815938\tbest: 0.7816603 (81)\ttotal: 49.5s\tremaining: 40s\n",
      "83:\tlearn: 0.7675705\ttest: 0.7816337\tbest: 0.7816603 (81)\ttotal: 50.1s\tremaining: 39.4s\n",
      "84:\tlearn: 0.7704824\ttest: 0.7835763\tbest: 0.7835763 (84)\ttotal: 50.7s\tremaining: 38.8s\n",
      "85:\tlearn: 0.7711020\ttest: 0.7838510\tbest: 0.7838510 (85)\ttotal: 51.3s\tremaining: 38.2s\n",
      "86:\tlearn: 0.7718933\ttest: 0.7845506\tbest: 0.7845506 (86)\ttotal: 51.8s\tremaining: 37.5s\n",
      "87:\tlearn: 0.7718073\ttest: 0.7849450\tbest: 0.7849450 (87)\ttotal: 52.4s\tremaining: 36.9s\n",
      "88:\tlearn: 0.7720092\ttest: 0.7851088\tbest: 0.7851088 (88)\ttotal: 53s\tremaining: 36.3s\n",
      "89:\tlearn: 0.7719596\ttest: 0.7846973\tbest: 0.7851088 (88)\ttotal: 53.5s\tremaining: 35.7s\n",
      "90:\tlearn: 0.7721019\ttest: 0.7848172\tbest: 0.7851088 (88)\ttotal: 54.1s\tremaining: 35.1s\n",
      "91:\tlearn: 0.7720125\ttest: 0.7856003\tbest: 0.7856003 (91)\ttotal: 54.7s\tremaining: 34.5s\n",
      "92:\tlearn: 0.7718303\ttest: 0.7853469\tbest: 0.7856003 (91)\ttotal: 55.3s\tremaining: 33.9s\n",
      "93:\tlearn: 0.7719892\ttest: 0.7858115\tbest: 0.7858115 (93)\ttotal: 55.8s\tremaining: 33.3s\n",
      "94:\tlearn: 0.7717443\ttest: 0.7853431\tbest: 0.7858115 (93)\ttotal: 56.4s\tremaining: 32.7s\n",
      "95:\tlearn: 0.7719562\ttest: 0.7855603\tbest: 0.7858115 (93)\ttotal: 57s\tremaining: 32.1s\n",
      "96:\tlearn: 0.7717576\ttest: 0.7856174\tbest: 0.7858115 (93)\ttotal: 57.6s\tremaining: 31.5s\n",
      "97:\tlearn: 0.7709794\ttest: 0.7845146\tbest: 0.7858115 (93)\ttotal: 58.2s\tremaining: 30.9s\n",
      "98:\tlearn: 0.7730639\ttest: 0.7876782\tbest: 0.7876782 (98)\ttotal: 58.7s\tremaining: 30.3s\n",
      "99:\tlearn: 0.7729317\ttest: 0.7873379\tbest: 0.7876782 (98)\ttotal: 59.3s\tremaining: 29.7s\n",
      "100:\tlearn: 0.7734507\ttest: 0.7877049\tbest: 0.7877049 (100)\ttotal: 59.9s\tremaining: 29.1s\n",
      "101:\tlearn: 0.7751563\ttest: 0.7898237\tbest: 0.7898237 (101)\ttotal: 1m\tremaining: 28.5s\n",
      "102:\tlearn: 0.7752228\ttest: 0.7897091\tbest: 0.7898237 (101)\ttotal: 1m 1s\tremaining: 27.9s\n",
      "103:\tlearn: 0.7757668\ttest: 0.7904443\tbest: 0.7904443 (103)\ttotal: 1m 1s\tremaining: 27.3s\n",
      "104:\tlearn: 0.7771755\ttest: 0.7916836\tbest: 0.7916836 (104)\ttotal: 1m 2s\tremaining: 26.7s\n",
      "105:\tlearn: 0.7788489\ttest: 0.7931511\tbest: 0.7931511 (105)\ttotal: 1m 2s\tremaining: 26.1s\n",
      "106:\tlearn: 0.7812347\ttest: 0.7951769\tbest: 0.7951769 (106)\ttotal: 1m 3s\tremaining: 25.5s\n",
      "107:\tlearn: 0.7812746\ttest: 0.7950680\tbest: 0.7951769 (106)\ttotal: 1m 3s\tremaining: 24.9s\n",
      "108:\tlearn: 0.7805465\ttest: 0.7950260\tbest: 0.7951769 (106)\ttotal: 1m 4s\tremaining: 24.3s\n",
      "109:\tlearn: 0.7825120\ttest: 0.7966250\tbest: 0.7966250 (109)\ttotal: 1m 5s\tremaining: 23.7s\n",
      "110:\tlearn: 0.7823192\ttest: 0.7964075\tbest: 0.7966250 (109)\ttotal: 1m 5s\tremaining: 23.1s\n",
      "111:\tlearn: 0.7848689\ttest: 0.7983047\tbest: 0.7983047 (111)\ttotal: 1m 6s\tremaining: 22.5s\n",
      "112:\tlearn: 0.7834867\ttest: 0.7975598\tbest: 0.7983047 (111)\ttotal: 1m 6s\tremaining: 21.9s\n",
      "113:\tlearn: 0.7821862\ttest: 0.7962183\tbest: 0.7983047 (111)\ttotal: 1m 7s\tremaining: 21.3s\n",
      "114:\tlearn: 0.7835007\ttest: 0.7977939\tbest: 0.7983047 (111)\ttotal: 1m 8s\tremaining: 20.7s\n",
      "115:\tlearn: 0.7839255\ttest: 0.7977134\tbest: 0.7983047 (111)\ttotal: 1m 8s\tremaining: 20.1s\n",
      "116:\tlearn: 0.7830538\ttest: 0.7975513\tbest: 0.7983047 (111)\ttotal: 1m 9s\tremaining: 19.5s\n",
      "117:\tlearn: 0.7845471\ttest: 0.7990107\tbest: 0.7990107 (117)\ttotal: 1m 9s\tremaining: 18.9s\n",
      "118:\tlearn: 0.7851018\ttest: 0.7992407\tbest: 0.7992407 (118)\ttotal: 1m 10s\tremaining: 18.3s\n",
      "119:\tlearn: 0.7847404\ttest: 0.7994688\tbest: 0.7994688 (119)\ttotal: 1m 10s\tremaining: 17.7s\n",
      "120:\tlearn: 0.7856976\ttest: 0.8004409\tbest: 0.8004409 (120)\ttotal: 1m 11s\tremaining: 17.1s\n",
      "121:\tlearn: 0.7858127\ttest: 0.8006169\tbest: 0.8006169 (121)\ttotal: 1m 12s\tremaining: 16.5s\n",
      "122:\tlearn: 0.7866841\ttest: 0.8018714\tbest: 0.8018714 (122)\ttotal: 1m 12s\tremaining: 15.9s\n",
      "123:\tlearn: 0.7858215\ttest: 0.8003758\tbest: 0.8018714 (122)\ttotal: 1m 13s\tremaining: 15.4s\n",
      "124:\tlearn: 0.7858816\ttest: 0.8007256\tbest: 0.8018714 (122)\ttotal: 1m 13s\tremaining: 14.8s\n",
      "125:\tlearn: 0.7882272\ttest: 0.8034202\tbest: 0.8034202 (125)\ttotal: 1m 14s\tremaining: 14.2s\n",
      "126:\tlearn: 0.7888763\ttest: 0.8042673\tbest: 0.8042673 (126)\ttotal: 1m 14s\tremaining: 13.6s\n",
      "127:\tlearn: 0.7891410\ttest: 0.8043480\tbest: 0.8043480 (127)\ttotal: 1m 15s\tremaining: 13s\n",
      "128:\tlearn: 0.7896518\ttest: 0.8044690\tbest: 0.8044690 (128)\ttotal: 1m 16s\tremaining: 12.4s\n",
      "129:\tlearn: 0.7897481\ttest: 0.8046033\tbest: 0.8046033 (129)\ttotal: 1m 16s\tremaining: 11.8s\n",
      "130:\tlearn: 0.7896384\ttest: 0.8047512\tbest: 0.8047512 (130)\ttotal: 1m 17s\tremaining: 11.2s\n",
      "131:\tlearn: 0.7901917\ttest: 0.8048990\tbest: 0.8048990 (131)\ttotal: 1m 17s\tremaining: 10.6s\n",
      "132:\tlearn: 0.7903681\ttest: 0.8047915\tbest: 0.8048990 (131)\ttotal: 1m 18s\tremaining: 10.1s\n",
      "133:\tlearn: 0.7907354\ttest: 0.8052483\tbest: 0.8052483 (133)\ttotal: 1m 19s\tremaining: 9.47s\n",
      "134:\tlearn: 0.7907956\ttest: 0.8048453\tbest: 0.8052483 (133)\ttotal: 1m 19s\tremaining: 8.89s\n",
      "135:\tlearn: 0.7913336\ttest: 0.8050333\tbest: 0.8052483 (133)\ttotal: 1m 20s\tremaining: 8.31s\n",
      "136:\tlearn: 0.7915445\ttest: 0.8052885\tbest: 0.8052885 (136)\ttotal: 1m 21s\tremaining: 7.72s\n",
      "137:\tlearn: 0.7922660\ttest: 0.8066963\tbest: 0.8066963 (137)\ttotal: 1m 22s\tremaining: 7.13s\n",
      "138:\tlearn: 0.7920141\ttest: 0.8069240\tbest: 0.8069240 (138)\ttotal: 1m 22s\tremaining: 6.54s\n",
      "139:\tlearn: 0.7935374\ttest: 0.8075931\tbest: 0.8075931 (139)\ttotal: 1m 23s\tremaining: 5.95s\n",
      "140:\tlearn: 0.7938642\ttest: 0.8075527\tbest: 0.8075931 (139)\ttotal: 1m 24s\tremaining: 5.36s\n",
      "141:\tlearn: 0.7941414\ttest: 0.8077136\tbest: 0.8077136 (141)\ttotal: 1m 24s\tremaining: 4.76s\n",
      "142:\tlearn: 0.7946965\ttest: 0.8081556\tbest: 0.8081556 (142)\ttotal: 1m 25s\tremaining: 4.17s\n",
      "143:\tlearn: 0.7959497\ttest: 0.8090653\tbest: 0.8090653 (143)\ttotal: 1m 25s\tremaining: 3.57s\n",
      "144:\tlearn: 0.7954495\ttest: 0.8091451\tbest: 0.8091451 (144)\ttotal: 1m 26s\tremaining: 2.98s\n",
      "145:\tlearn: 0.7959504\ttest: 0.8097068\tbest: 0.8097068 (145)\ttotal: 1m 26s\tremaining: 2.38s\n",
      "146:\tlearn: 0.7962756\ttest: 0.8094934\tbest: 0.8097068 (145)\ttotal: 1m 27s\tremaining: 1.78s\n",
      "147:\tlearn: 0.7964103\ttest: 0.8091337\tbest: 0.8097068 (145)\ttotal: 1m 27s\tremaining: 1.19s\n",
      "148:\tlearn: 0.7967963\ttest: 0.8100696\tbest: 0.8100696 (148)\ttotal: 1m 28s\tremaining: 594ms\n",
      "149:\tlearn: 0.7971413\ttest: 0.8102830\tbest: 0.8102830 (149)\ttotal: 1m 29s\tremaining: 0us\n",
      "\n",
      "bestTest = 0.8102829709\n",
      "bestIteration = 149\n",
      "\n",
      "Training on fold [2/3]\n",
      "0:\tlearn: 0.5473545\ttest: 0.5420554\tbest: 0.5420554 (0)\ttotal: 620ms\tremaining: 1m 32s\n",
      "1:\tlearn: 0.5838934\ttest: 0.5765284\tbest: 0.5765284 (1)\ttotal: 1.2s\tremaining: 1m 28s\n",
      "2:\tlearn: 0.5838934\ttest: 0.5765284\tbest: 0.5765284 (1)\ttotal: 1.82s\tremaining: 1m 29s\n",
      "3:\tlearn: 0.5838934\ttest: 0.5765284\tbest: 0.5765284 (1)\ttotal: 2.43s\tremaining: 1m 28s\n",
      "4:\tlearn: 0.5836277\ttest: 0.5759794\tbest: 0.5765284 (1)\ttotal: 3.04s\tremaining: 1m 28s\n",
      "5:\tlearn: 0.5843492\ttest: 0.5768904\tbest: 0.5768904 (5)\ttotal: 3.67s\tremaining: 1m 28s\n",
      "6:\tlearn: 0.6095199\ttest: 0.6039343\tbest: 0.6039343 (6)\ttotal: 4.33s\tremaining: 1m 28s\n",
      "7:\tlearn: 0.6104764\ttest: 0.6046141\tbest: 0.6046141 (7)\ttotal: 4.97s\tremaining: 1m 28s\n",
      "8:\tlearn: 0.6104706\ttest: 0.6045795\tbest: 0.6046141 (7)\ttotal: 5.58s\tremaining: 1m 27s\n",
      "9:\tlearn: 0.6280919\ttest: 0.6236120\tbest: 0.6236120 (9)\ttotal: 6.19s\tremaining: 1m 26s\n",
      "10:\tlearn: 0.6298678\ttest: 0.6253506\tbest: 0.6253506 (10)\ttotal: 6.77s\tremaining: 1m 25s\n",
      "11:\tlearn: 0.6495900\ttest: 0.6462071\tbest: 0.6462071 (11)\ttotal: 7.38s\tremaining: 1m 24s\n",
      "12:\tlearn: 0.6506004\ttest: 0.6467563\tbest: 0.6467563 (12)\ttotal: 7.97s\tremaining: 1m 24s\n",
      "13:\tlearn: 0.6520183\ttest: 0.6481885\tbest: 0.6481885 (13)\ttotal: 8.57s\tremaining: 1m 23s\n",
      "14:\tlearn: 0.6521601\ttest: 0.6476753\tbest: 0.6481885 (13)\ttotal: 9.22s\tremaining: 1m 22s\n",
      "15:\tlearn: 0.6647530\ttest: 0.6563058\tbest: 0.6563058 (15)\ttotal: 9.91s\tremaining: 1m 22s\n",
      "16:\tlearn: 0.6663323\ttest: 0.6574231\tbest: 0.6574231 (16)\ttotal: 10.6s\tremaining: 1m 22s\n",
      "17:\tlearn: 0.6786049\ttest: 0.6691701\tbest: 0.6691701 (17)\ttotal: 11.2s\tremaining: 1m 21s\n",
      "18:\tlearn: 0.6785560\ttest: 0.6692194\tbest: 0.6692194 (18)\ttotal: 11.8s\tremaining: 1m 21s\n",
      "19:\tlearn: 0.6784086\ttest: 0.6688830\tbest: 0.6692194 (18)\ttotal: 12.4s\tremaining: 1m 20s\n",
      "20:\tlearn: 0.6796742\ttest: 0.6703029\tbest: 0.6703029 (20)\ttotal: 13s\tremaining: 1m 19s\n",
      "21:\tlearn: 0.6888481\ttest: 0.6767296\tbest: 0.6767296 (21)\ttotal: 13.6s\tremaining: 1m 19s\n",
      "22:\tlearn: 0.6983543\ttest: 0.6852901\tbest: 0.6852901 (22)\ttotal: 14.3s\tremaining: 1m 18s\n",
      "23:\tlearn: 0.7070098\ttest: 0.6935223\tbest: 0.6935223 (23)\ttotal: 14.9s\tremaining: 1m 18s\n",
      "24:\tlearn: 0.7066196\ttest: 0.6937846\tbest: 0.6937846 (24)\ttotal: 15.5s\tremaining: 1m 17s\n",
      "25:\tlearn: 0.7081351\ttest: 0.6954384\tbest: 0.6954384 (25)\ttotal: 16s\tremaining: 1m 16s\n",
      "26:\tlearn: 0.7086906\ttest: 0.6956241\tbest: 0.6956241 (26)\ttotal: 16.6s\tremaining: 1m 15s\n",
      "27:\tlearn: 0.7086908\ttest: 0.6962219\tbest: 0.6962219 (27)\ttotal: 17.2s\tremaining: 1m 14s\n",
      "28:\tlearn: 0.7084227\ttest: 0.6959986\tbest: 0.6962219 (27)\ttotal: 17.8s\tremaining: 1m 14s\n",
      "29:\tlearn: 0.7088820\ttest: 0.6962723\tbest: 0.6962723 (29)\ttotal: 18.4s\tremaining: 1m 13s\n",
      "30:\tlearn: 0.7155088\ttest: 0.7051498\tbest: 0.7051498 (30)\ttotal: 19s\tremaining: 1m 12s\n",
      "31:\tlearn: 0.7144490\ttest: 0.7040970\tbest: 0.7051498 (30)\ttotal: 19.6s\tremaining: 1m 12s\n",
      "32:\tlearn: 0.7153599\ttest: 0.7045206\tbest: 0.7051498 (30)\ttotal: 20.2s\tremaining: 1m 11s\n",
      "33:\tlearn: 0.7245646\ttest: 0.7128427\tbest: 0.7128427 (33)\ttotal: 20.8s\tremaining: 1m 10s\n",
      "34:\tlearn: 0.7244149\ttest: 0.7125386\tbest: 0.7128427 (33)\ttotal: 21.4s\tremaining: 1m 10s\n",
      "35:\tlearn: 0.7340113\ttest: 0.7209549\tbest: 0.7209549 (35)\ttotal: 22s\tremaining: 1m 9s\n",
      "36:\tlearn: 0.7340590\ttest: 0.7212413\tbest: 0.7212413 (36)\ttotal: 22.6s\tremaining: 1m 9s\n",
      "37:\tlearn: 0.7354260\ttest: 0.7227183\tbest: 0.7227183 (37)\ttotal: 23.1s\tremaining: 1m 8s\n",
      "38:\tlearn: 0.7257250\ttest: 0.7133241\tbest: 0.7227183 (37)\ttotal: 23.8s\tremaining: 1m 7s\n",
      "39:\tlearn: 0.7258295\ttest: 0.7131977\tbest: 0.7227183 (37)\ttotal: 24.4s\tremaining: 1m 7s\n",
      "40:\tlearn: 0.7258874\ttest: 0.7130840\tbest: 0.7227183 (37)\ttotal: 25s\tremaining: 1m 6s\n",
      "41:\tlearn: 0.7262609\ttest: 0.7135399\tbest: 0.7227183 (37)\ttotal: 25.6s\tremaining: 1m 5s\n",
      "42:\tlearn: 0.7364691\ttest: 0.7226124\tbest: 0.7227183 (37)\ttotal: 26.2s\tremaining: 1m 5s\n",
      "43:\tlearn: 0.7412854\ttest: 0.7267467\tbest: 0.7267467 (43)\ttotal: 26.7s\tremaining: 1m 4s\n",
      "44:\tlearn: 0.7410891\ttest: 0.7272230\tbest: 0.7272230 (44)\ttotal: 27.3s\tremaining: 1m 3s\n",
      "45:\tlearn: 0.7449917\ttest: 0.7320982\tbest: 0.7320982 (45)\ttotal: 28s\tremaining: 1m 3s\n",
      "46:\tlearn: 0.7452905\ttest: 0.7329636\tbest: 0.7329636 (46)\ttotal: 28.6s\tremaining: 1m 2s\n",
      "47:\tlearn: 0.7456522\ttest: 0.7326569\tbest: 0.7329636 (46)\ttotal: 29.2s\tremaining: 1m 2s\n",
      "48:\tlearn: 0.7465572\ttest: 0.7335808\tbest: 0.7335808 (48)\ttotal: 29.8s\tremaining: 1m 1s\n",
      "49:\tlearn: 0.7469334\ttest: 0.7338313\tbest: 0.7338313 (49)\ttotal: 30.3s\tremaining: 1m\n",
      "50:\tlearn: 0.7466887\ttest: 0.7342370\tbest: 0.7342370 (50)\ttotal: 30.9s\tremaining: 60s\n",
      "51:\tlearn: 0.7500457\ttest: 0.7370749\tbest: 0.7370749 (51)\ttotal: 31.5s\tremaining: 59.3s\n",
      "52:\tlearn: 0.7498689\ttest: 0.7369416\tbest: 0.7370749 (51)\ttotal: 32.1s\tremaining: 58.8s\n",
      "53:\tlearn: 0.7485500\ttest: 0.7364065\tbest: 0.7370749 (51)\ttotal: 32.8s\tremaining: 58.3s\n",
      "54:\tlearn: 0.7484187\ttest: 0.7359929\tbest: 0.7370749 (51)\ttotal: 33.4s\tremaining: 57.7s\n",
      "55:\tlearn: 0.7517983\ttest: 0.7376976\tbest: 0.7376976 (55)\ttotal: 34.1s\tremaining: 57.3s\n",
      "56:\tlearn: 0.7526539\ttest: 0.7384576\tbest: 0.7384576 (56)\ttotal: 34.8s\tremaining: 56.7s\n",
      "57:\tlearn: 0.7530649\ttest: 0.7390416\tbest: 0.7390416 (57)\ttotal: 35.5s\tremaining: 56.2s\n",
      "58:\tlearn: 0.7559108\ttest: 0.7412280\tbest: 0.7412280 (58)\ttotal: 36.1s\tremaining: 55.7s\n",
      "59:\tlearn: 0.7566117\ttest: 0.7417563\tbest: 0.7417563 (59)\ttotal: 36.8s\tremaining: 55.2s\n",
      "60:\tlearn: 0.7570587\ttest: 0.7422461\tbest: 0.7422461 (60)\ttotal: 37.5s\tremaining: 54.7s\n",
      "61:\tlearn: 0.7599182\ttest: 0.7449487\tbest: 0.7449487 (61)\ttotal: 38.1s\tremaining: 54.1s\n",
      "62:\tlearn: 0.7601236\ttest: 0.7447389\tbest: 0.7449487 (61)\ttotal: 38.8s\tremaining: 53.6s\n",
      "63:\tlearn: 0.7599696\ttest: 0.7449487\tbest: 0.7449487 (61)\ttotal: 39.4s\tremaining: 52.9s\n",
      "64:\tlearn: 0.7605380\ttest: 0.7457108\tbest: 0.7457108 (64)\ttotal: 40s\tremaining: 52.2s\n",
      "65:\tlearn: 0.7605380\ttest: 0.7458422\tbest: 0.7458422 (65)\ttotal: 40.5s\tremaining: 51.6s\n",
      "66:\tlearn: 0.7604670\ttest: 0.7455662\tbest: 0.7458422 (65)\ttotal: 41.1s\tremaining: 51s\n",
      "67:\tlearn: 0.7609088\ttest: 0.7452391\tbest: 0.7458422 (65)\ttotal: 41.7s\tremaining: 50.3s\n",
      "68:\tlearn: 0.7609351\ttest: 0.7452522\tbest: 0.7458422 (65)\ttotal: 42.3s\tremaining: 49.7s\n",
      "69:\tlearn: 0.7607221\ttest: 0.7453967\tbest: 0.7458422 (65)\ttotal: 42.9s\tremaining: 49s\n",
      "70:\tlearn: 0.7609469\ttest: 0.7450685\tbest: 0.7458422 (65)\ttotal: 43.5s\tremaining: 48.4s\n",
      "71:\tlearn: 0.7611729\ttest: 0.7455282\tbest: 0.7458422 (65)\ttotal: 44.1s\tremaining: 47.7s\n",
      "72:\tlearn: 0.7614764\ttest: 0.7463295\tbest: 0.7463295 (72)\ttotal: 44.6s\tremaining: 47.1s\n",
      "73:\tlearn: 0.7625383\ttest: 0.7466182\tbest: 0.7466182 (73)\ttotal: 45.2s\tremaining: 46.4s\n",
      "74:\tlearn: 0.7666376\ttest: 0.7493294\tbest: 0.7493294 (74)\ttotal: 45.8s\tremaining: 45.8s\n",
      "75:\tlearn: 0.7661840\ttest: 0.7493686\tbest: 0.7493686 (75)\ttotal: 46.4s\tremaining: 45.2s\n",
      "76:\tlearn: 0.7663959\ttest: 0.7499695\tbest: 0.7499695 (76)\ttotal: 46.9s\tremaining: 44.5s\n",
      "77:\tlearn: 0.7667525\ttest: 0.7505049\tbest: 0.7505049 (77)\ttotal: 47.5s\tremaining: 43.9s\n",
      "78:\tlearn: 0.7675098\ttest: 0.7515212\tbest: 0.7515212 (78)\ttotal: 48.1s\tremaining: 43.2s\n",
      "79:\tlearn: 0.7696839\ttest: 0.7526138\tbest: 0.7526138 (79)\ttotal: 48.7s\tremaining: 42.6s\n",
      "80:\tlearn: 0.7697723\ttest: 0.7524576\tbest: 0.7526138 (79)\ttotal: 49.2s\tremaining: 41.9s\n",
      "81:\tlearn: 0.7699961\ttest: 0.7530692\tbest: 0.7530692 (81)\ttotal: 49.8s\tremaining: 41.3s\n",
      "82:\tlearn: 0.7725629\ttest: 0.7552645\tbest: 0.7552645 (82)\ttotal: 50.4s\tremaining: 40.7s\n",
      "83:\tlearn: 0.7724977\ttest: 0.7550940\tbest: 0.7552645 (82)\ttotal: 51s\tremaining: 40s\n",
      "84:\tlearn: 0.7725242\ttest: 0.7551203\tbest: 0.7552645 (82)\ttotal: 51.6s\tremaining: 39.4s\n",
      "85:\tlearn: 0.7733399\ttest: 0.7559890\tbest: 0.7559890 (85)\ttotal: 52.1s\tremaining: 38.8s\n",
      "86:\tlearn: 0.7733626\ttest: 0.7555744\tbest: 0.7559890 (85)\ttotal: 52.7s\tremaining: 38.1s\n",
      "87:\tlearn: 0.7737821\ttest: 0.7558596\tbest: 0.7559890 (85)\ttotal: 53.2s\tremaining: 37.5s\n",
      "88:\tlearn: 0.7743844\ttest: 0.7569731\tbest: 0.7569731 (88)\ttotal: 53.8s\tremaining: 36.9s\n",
      "89:\tlearn: 0.7749098\ttest: 0.7570892\tbest: 0.7570892 (89)\ttotal: 54.4s\tremaining: 36.2s\n",
      "90:\tlearn: 0.7772103\ttest: 0.7590166\tbest: 0.7590166 (90)\ttotal: 54.9s\tremaining: 35.6s\n",
      "91:\tlearn: 0.7760856\ttest: 0.7589665\tbest: 0.7590166 (90)\ttotal: 55.5s\tremaining: 35s\n",
      "92:\tlearn: 0.7761153\ttest: 0.7588770\tbest: 0.7590166 (90)\ttotal: 56s\tremaining: 34.3s\n",
      "93:\tlearn: 0.7762747\ttest: 0.7592901\tbest: 0.7592901 (93)\ttotal: 56.6s\tremaining: 33.7s\n",
      "94:\tlearn: 0.7762216\ttest: 0.7592638\tbest: 0.7592901 (93)\ttotal: 57.2s\tremaining: 33.1s\n",
      "95:\tlearn: 0.7764341\ttest: 0.7598948\tbest: 0.7598948 (95)\ttotal: 57.9s\tremaining: 32.6s\n",
      "96:\tlearn: 0.7763976\ttest: 0.7596503\tbest: 0.7598948 (95)\ttotal: 58.5s\tremaining: 31.9s\n",
      "97:\tlearn: 0.7786776\ttest: 0.7613755\tbest: 0.7613755 (97)\ttotal: 59.1s\tremaining: 31.4s\n",
      "98:\tlearn: 0.7785780\ttest: 0.7615140\tbest: 0.7615140 (98)\ttotal: 59.7s\tremaining: 30.8s\n",
      "99:\tlearn: 0.7807765\ttest: 0.7626066\tbest: 0.7626066 (99)\ttotal: 1m\tremaining: 30.2s\n",
      "100:\tlearn: 0.7811431\ttest: 0.7629289\tbest: 0.7629289 (100)\ttotal: 1m\tremaining: 29.6s\n",
      "101:\tlearn: 0.7819253\ttest: 0.7634811\tbest: 0.7634811 (101)\ttotal: 1m 1s\tremaining: 28.9s\n",
      "102:\tlearn: 0.7845702\ttest: 0.7657215\tbest: 0.7657215 (102)\ttotal: 1m 2s\tremaining: 28.3s\n",
      "103:\tlearn: 0.7849710\ttest: 0.7658096\tbest: 0.7658096 (103)\ttotal: 1m 2s\tremaining: 27.7s\n",
      "104:\tlearn: 0.7853740\ttest: 0.7657700\tbest: 0.7658096 (103)\ttotal: 1m 3s\tremaining: 27.1s\n",
      "105:\tlearn: 0.7852651\ttest: 0.7657041\tbest: 0.7658096 (103)\ttotal: 1m 3s\tremaining: 26.5s\n",
      "106:\tlearn: 0.7857945\ttest: 0.7662806\tbest: 0.7662806 (106)\ttotal: 1m 4s\tremaining: 25.9s\n",
      "107:\tlearn: 0.7861126\ttest: 0.7667907\tbest: 0.7667907 (107)\ttotal: 1m 5s\tremaining: 25.3s\n",
      "108:\tlearn: 0.7885632\ttest: 0.7692535\tbest: 0.7692535 (108)\ttotal: 1m 5s\tremaining: 24.7s\n",
      "109:\tlearn: 0.7879357\ttest: 0.7695127\tbest: 0.7695127 (109)\ttotal: 1m 6s\tremaining: 24.1s\n",
      "110:\tlearn: 0.7888934\ttest: 0.7711284\tbest: 0.7711284 (110)\ttotal: 1m 6s\tremaining: 23.4s\n",
      "111:\tlearn: 0.7892149\ttest: 0.7712816\tbest: 0.7712816 (111)\ttotal: 1m 7s\tremaining: 22.8s\n",
      "112:\tlearn: 0.7896240\ttest: 0.7711757\tbest: 0.7712816 (111)\ttotal: 1m 7s\tremaining: 22.2s\n",
      "113:\tlearn: 0.7897479\ttest: 0.7714292\tbest: 0.7714292 (113)\ttotal: 1m 8s\tremaining: 21.6s\n",
      "114:\tlearn: 0.7897546\ttest: 0.7715824\tbest: 0.7715824 (114)\ttotal: 1m 9s\tremaining: 21s\n",
      "115:\tlearn: 0.7900977\ttest: 0.7719491\tbest: 0.7719491 (115)\ttotal: 1m 9s\tremaining: 20.4s\n",
      "116:\tlearn: 0.7907033\ttest: 0.7718565\tbest: 0.7719491 (115)\ttotal: 1m 10s\tremaining: 19.8s\n",
      "117:\tlearn: 0.7912701\ttest: 0.7722171\tbest: 0.7722171 (117)\ttotal: 1m 10s\tremaining: 19.2s\n",
      "118:\tlearn: 0.7917160\ttest: 0.7722171\tbest: 0.7722171 (117)\ttotal: 1m 11s\tremaining: 18.6s\n",
      "119:\tlearn: 0.7917845\ttest: 0.7723833\tbest: 0.7723833 (119)\ttotal: 1m 11s\tremaining: 18s\n",
      "120:\tlearn: 0.7919281\ttest: 0.7724628\tbest: 0.7724628 (120)\ttotal: 1m 12s\tremaining: 17.4s\n",
      "121:\tlearn: 0.7919214\ttest: 0.7726025\tbest: 0.7726025 (121)\ttotal: 1m 13s\tremaining: 16.8s\n",
      "122:\tlearn: 0.7922152\ttest: 0.7725760\tbest: 0.7726025 (121)\ttotal: 1m 13s\tremaining: 16.2s\n",
      "123:\tlearn: 0.7922753\ttest: 0.7731407\tbest: 0.7731407 (123)\ttotal: 1m 14s\tremaining: 15.6s\n",
      "124:\tlearn: 0.7927208\ttest: 0.7732406\tbest: 0.7732406 (124)\ttotal: 1m 14s\tremaining: 14.9s\n",
      "125:\tlearn: 0.7927892\ttest: 0.7735331\tbest: 0.7735331 (125)\ttotal: 1m 15s\tremaining: 14.3s\n",
      "126:\tlearn: 0.7929609\ttest: 0.7737990\tbest: 0.7737990 (126)\ttotal: 1m 15s\tremaining: 13.7s\n",
      "127:\tlearn: 0.7936808\ttest: 0.7742775\tbest: 0.7742775 (127)\ttotal: 1m 16s\tremaining: 13.1s\n",
      "128:\tlearn: 0.7935160\ttest: 0.7745697\tbest: 0.7745697 (128)\ttotal: 1m 17s\tremaining: 12.5s\n",
      "129:\tlearn: 0.7953044\ttest: 0.7758104\tbest: 0.7758104 (129)\ttotal: 1m 17s\tremaining: 11.9s\n",
      "130:\tlearn: 0.7956241\ttest: 0.7766587\tbest: 0.7766587 (130)\ttotal: 1m 18s\tremaining: 11.3s\n",
      "131:\tlearn: 0.7957605\ttest: 0.7766321\tbest: 0.7766587 (130)\ttotal: 1m 18s\tremaining: 10.7s\n",
      "132:\tlearn: 0.7959900\ttest: 0.7768768\tbest: 0.7768768 (132)\ttotal: 1m 19s\tremaining: 10.1s\n",
      "133:\tlearn: 0.7964803\ttest: 0.7772408\tbest: 0.7772408 (133)\ttotal: 1m 19s\tremaining: 9.53s\n",
      "134:\tlearn: 0.7963641\ttest: 0.7769628\tbest: 0.7772408 (133)\ttotal: 1m 20s\tremaining: 8.94s\n",
      "135:\tlearn: 0.7980457\ttest: 0.7798110\tbest: 0.7798110 (135)\ttotal: 1m 20s\tremaining: 8.34s\n",
      "136:\tlearn: 0.7981787\ttest: 0.7795015\tbest: 0.7798110 (135)\ttotal: 1m 21s\tremaining: 7.74s\n",
      "137:\tlearn: 0.7975829\ttest: 0.7790722\tbest: 0.7798110 (135)\ttotal: 1m 22s\tremaining: 7.14s\n",
      "138:\tlearn: 0.7994327\ttest: 0.7810574\tbest: 0.7810574 (138)\ttotal: 1m 22s\tremaining: 6.54s\n",
      "139:\tlearn: 0.7995752\ttest: 0.7812091\tbest: 0.7812091 (139)\ttotal: 1m 23s\tremaining: 5.95s\n",
      "140:\tlearn: 0.7986317\ttest: 0.7790913\tbest: 0.7812091 (139)\ttotal: 1m 23s\tremaining: 5.35s\n",
      "141:\tlearn: 0.7992566\ttest: 0.7793952\tbest: 0.7812091 (139)\ttotal: 1m 24s\tremaining: 4.76s\n",
      "142:\tlearn: 0.7993447\ttest: 0.7793952\tbest: 0.7812091 (139)\ttotal: 1m 24s\tremaining: 4.16s\n",
      "143:\tlearn: 0.7994796\ttest: 0.7794218\tbest: 0.7812091 (139)\ttotal: 1m 25s\tremaining: 3.57s\n",
      "144:\tlearn: 0.7998191\ttest: 0.7803918\tbest: 0.7812091 (139)\ttotal: 1m 26s\tremaining: 2.97s\n",
      "145:\tlearn: 0.7999004\ttest: 0.7805170\tbest: 0.7812091 (139)\ttotal: 1m 26s\tremaining: 2.38s\n",
      "146:\tlearn: 0.7999549\ttest: 0.7806687\tbest: 0.7812091 (139)\ttotal: 1m 27s\tremaining: 1.78s\n",
      "147:\tlearn: 0.7998200\ttest: 0.7807141\tbest: 0.7812091 (139)\ttotal: 1m 27s\tremaining: 1.19s\n",
      "148:\tlearn: 0.8001661\ttest: 0.7807008\tbest: 0.7812091 (139)\ttotal: 1m 28s\tremaining: 594ms\n",
      "149:\tlearn: 0.8004099\ttest: 0.7811106\tbest: 0.7812091 (139)\ttotal: 1m 29s\tremaining: 0us\n",
      "\n",
      "bestTest = 0.781209094\n",
      "bestIteration = 139\n",
      "\n",
      "CPU times: user 17min 43s, sys: 17.7 s, total: 18min 1s\n",
      "Wall time: 18min 6s\n"
     ]
    }
   ],
   "source": [
    "%%time\n",
    "\n",
    "params_cat = {\"max_depth\": [1, 2, 3], \n",
    "          \"n_estimators\": [10, 100, 150], \n",
    "          \"random_state\": random, \n",
    "          \"auto_class_weights\": ['Balanced']\n",
    "         }\n",
    "\n",
    "model_cat = CatBoostClassifier(eval_metric='TotalF1')\n",
    "model_cat_gs = model_cat.grid_search(params_cat, Pool(X_train,y_train),\n",
    "                                     verbose=True, cv=splits, plot=True)"
   ]
  },
  {
   "cell_type": "code",
   "execution_count": 41,
   "metadata": {},
   "outputs": [
    {
     "name": "stdout",
     "output_type": "stream",
     "text": [
      "Лучший результат f1:  {'learn': {'Logloss': 0.26480701355064334, 'TotalF1': 0.904812841747268}}\n"
     ]
    },
    {
     "data": {
      "text/plain": [
       "{'nan_mode': 'Min',\n",
       " 'eval_metric': 'TotalF1',\n",
       " 'iterations': 150,\n",
       " 'sampling_frequency': 'PerTree',\n",
       " 'leaf_estimation_method': 'Newton',\n",
       " 'grow_policy': 'SymmetricTree',\n",
       " 'penalties_coefficient': 1,\n",
       " 'boosting_type': 'Plain',\n",
       " 'model_shrink_mode': 'Constant',\n",
       " 'feature_border_type': 'GreedyLogSum',\n",
       " 'bayesian_matrix_reg': 0.10000000149011612,\n",
       " 'force_unit_auto_pair_weights': False,\n",
       " 'l2_leaf_reg': 3,\n",
       " 'random_strength': 1,\n",
       " 'rsm': 1,\n",
       " 'boost_from_average': False,\n",
       " 'model_size_reg': 0.5,\n",
       " 'pool_metainfo_options': {'tags': {}},\n",
       " 'subsample': 0.800000011920929,\n",
       " 'use_best_model': False,\n",
       " 'class_names': [0, 1],\n",
       " 'random_seed': 12345,\n",
       " 'depth': 3,\n",
       " 'posterior_sampling': False,\n",
       " 'border_count': 254,\n",
       " 'class_weights': [1, 8.83931827545166],\n",
       " 'classes_count': 0,\n",
       " 'auto_class_weights': 'Balanced',\n",
       " 'sparse_features_conflict_fraction': 0,\n",
       " 'leaf_estimation_backtracking': 'AnyImprovement',\n",
       " 'best_model_min_trees': 1,\n",
       " 'model_shrink_rate': 0,\n",
       " 'min_data_in_leaf': 1,\n",
       " 'loss_function': 'Logloss',\n",
       " 'learning_rate': 0.4523209929466248,\n",
       " 'score_function': 'Cosine',\n",
       " 'task_type': 'CPU',\n",
       " 'leaf_estimation_iterations': 10,\n",
       " 'bootstrap_type': 'MVS',\n",
       " 'max_leaves': 8}"
      ]
     },
     "execution_count": 41,
     "metadata": {},
     "output_type": "execute_result"
    }
   ],
   "source": [
    "#лучшие параметры\n",
    "print('Лучший результат f1: ', model_cat.best_score_)\n",
    "model_cat.get_all_params()"
   ]
  },
  {
   "cell_type": "markdown",
   "metadata": {},
   "source": [
    "**Вывод:** Лучшая метрика **F1 = 0.904812841747268** у модели **CatBoostClassifier**."
   ]
  },
  {
   "cell_type": "markdown",
   "metadata": {},
   "source": [
    "**Общий вывод:**\n",
    "* Лучшая метрика F1 = 0.7594343341767904 у модели Логистическая регрессия\n",
    "* Лучшая метрика F1 = 0.39728478306390863 у модели Случайный лес\n",
    "* Лучшая метрика F1 = 0.904812841747268 у модели CatBoostClassifier\n",
    "\n",
    "Для тестовой выборки берем модель **Логистическая регрессия** так как у нее неплохой результат при быстрой скорости обучения."
   ]
  },
  {
   "cell_type": "code",
   "execution_count": 25,
   "metadata": {},
   "outputs": [
    {
     "data": {
      "text/plain": [
       "0.7638617839513259"
      ]
     },
     "execution_count": 25,
     "metadata": {},
     "output_type": "execute_result"
    }
   ],
   "source": [
    "#тестирование\n",
    "predict = model_log_rs.predict(X_test)\n",
    "f1_score(y_test, predict)"
   ]
  },
  {
   "cell_type": "code",
   "execution_count": 47,
   "metadata": {},
   "outputs": [
    {
     "data": {
      "text/plain": [
       "0.16900237035804883"
      ]
     },
     "execution_count": 47,
     "metadata": {},
     "output_type": "execute_result"
    }
   ],
   "source": [
    "dummy_model = DummyClassifier(strategy='uniform', random_state=12345)\n",
    "dummy_model.fit(X_train, y_train)\n",
    "f1_score(y_test, dummy_model.predict(X_test))"
   ]
  },
  {
   "cell_type": "markdown",
   "metadata": {},
   "source": [
    "## Выводы"
   ]
  },
  {
   "cell_type": "markdown",
   "metadata": {},
   "source": [
    "В ходе работы с данными были проведены следующие действия:\n",
    "* импортирование данных\n",
    "* удаление стоп-слов, лемматизация\n",
    "* выявлен дисбаланс классов\n",
    "* данные поделены на тестовую и обучающую выборки\n",
    "\n",
    "Были обучены 3 модели со следующими результатами:\n",
    "* Лучшая метрика F1 = 0.7594343341767904 у модели Логистическая регрессия\n",
    "* Лучшая метрика F1 = 0.39728478306390863 у модели Случайный лес\n",
    "* Лучшая метрика F1 = 0.904812841747268 у модели CatBoostClassifier\n",
    "\n",
    "На тестовых данных была проанализированна модель Логистическая регрессия, которая показал F1 = 0.7676186089359743, что выше ожидаемой 0,75 и выше предсказаний Dummy."
   ]
  }
 ],
 "metadata": {
  "ExecuteTimeLog": [
   {
    "duration": 1768,
    "start_time": "2023-05-09T09:11:47.352Z"
   },
   {
    "duration": 2335,
    "start_time": "2023-05-09T09:12:09.278Z"
   },
   {
    "duration": 11,
    "start_time": "2023-05-09T09:12:24.307Z"
   },
   {
    "duration": 179,
    "start_time": "2023-05-09T09:20:34.696Z"
   },
   {
    "duration": 9,
    "start_time": "2023-05-09T09:20:42.312Z"
   },
   {
    "duration": 10,
    "start_time": "2023-05-09T09:20:45.965Z"
   },
   {
    "duration": 3,
    "start_time": "2023-05-09T09:25:50.494Z"
   },
   {
    "duration": 7,
    "start_time": "2023-05-09T09:33:17.886Z"
   },
   {
    "duration": 4,
    "start_time": "2023-05-09T09:47:16.203Z"
   },
   {
    "duration": 10,
    "start_time": "2023-05-09T09:47:19.683Z"
   },
   {
    "duration": 9,
    "start_time": "2023-05-09T09:47:37.991Z"
   },
   {
    "duration": 986,
    "start_time": "2023-05-09T09:47:41.504Z"
   },
   {
    "duration": 3,
    "start_time": "2023-05-09T09:48:14.991Z"
   },
   {
    "duration": 6942681,
    "start_time": "2023-05-09T09:48:17.153Z"
   },
   {
    "duration": 0,
    "start_time": "2023-05-09T11:43:59.836Z"
   },
   {
    "duration": 1392,
    "start_time": "2023-05-09T11:44:29.722Z"
   },
   {
    "duration": 781,
    "start_time": "2023-05-09T11:44:31.552Z"
   },
   {
    "duration": 11,
    "start_time": "2023-05-09T11:44:34.772Z"
   },
   {
    "duration": 19,
    "start_time": "2023-05-09T11:46:30.888Z"
   },
   {
    "duration": 3,
    "start_time": "2023-05-09T11:50:00.617Z"
   },
   {
    "duration": 3,
    "start_time": "2023-05-09T11:51:39.044Z"
   },
   {
    "duration": 2,
    "start_time": "2023-05-09T11:59:11.819Z"
   },
   {
    "duration": 2,
    "start_time": "2023-05-09T11:59:13.839Z"
   },
   {
    "duration": 118,
    "start_time": "2023-05-09T11:59:16.481Z"
   },
   {
    "duration": 5,
    "start_time": "2023-05-09T12:01:20.979Z"
   },
   {
    "duration": 79191,
    "start_time": "2023-05-09T12:01:30.527Z"
   },
   {
    "duration": 8,
    "start_time": "2023-05-09T12:02:52.423Z"
   },
   {
    "duration": 35,
    "start_time": "2023-05-09T12:03:02.925Z"
   },
   {
    "duration": 7,
    "start_time": "2023-05-09T12:03:05.827Z"
   },
   {
    "duration": 30,
    "start_time": "2023-05-09T12:08:30.534Z"
   },
   {
    "duration": 6041,
    "start_time": "2023-05-09T12:09:29.325Z"
   },
   {
    "duration": 9,
    "start_time": "2023-05-09T12:14:41.350Z"
   },
   {
    "duration": 5,
    "start_time": "2023-05-09T12:15:22.380Z"
   },
   {
    "duration": 3,
    "start_time": "2023-05-09T12:15:31.912Z"
   },
   {
    "duration": 179,
    "start_time": "2023-05-09T12:17:30.331Z"
   },
   {
    "duration": 4,
    "start_time": "2023-05-09T12:18:07.019Z"
   },
   {
    "duration": 422365,
    "start_time": "2023-05-09T12:18:11.818Z"
   },
   {
    "duration": 3,
    "start_time": "2023-05-09T12:29:23.026Z"
   },
   {
    "duration": 132,
    "start_time": "2023-05-09T12:31:26.879Z"
   },
   {
    "duration": 15,
    "start_time": "2023-05-09T12:31:46.297Z"
   },
   {
    "duration": 11,
    "start_time": "2023-05-09T12:32:23.629Z"
   },
   {
    "duration": 340306,
    "start_time": "2023-05-09T12:32:29.732Z"
   },
   {
    "duration": 6,
    "start_time": "2023-05-09T12:39:25.406Z"
   },
   {
    "duration": 4,
    "start_time": "2023-05-09T12:40:04.455Z"
   },
   {
    "duration": 96,
    "start_time": "2023-05-09T12:40:20.242Z"
   },
   {
    "duration": 4,
    "start_time": "2023-05-09T12:40:48.307Z"
   },
   {
    "duration": 1666,
    "start_time": "2023-05-09T12:40:53.767Z"
   },
   {
    "duration": 1527,
    "start_time": "2023-05-09T12:41:20.745Z"
   },
   {
    "duration": 1633,
    "start_time": "2023-05-09T12:41:46.282Z"
   },
   {
    "duration": 1086221,
    "start_time": "2023-05-09T12:43:16.336Z"
   },
   {
    "duration": 4,
    "start_time": "2023-05-09T13:01:31.135Z"
   },
   {
    "duration": 26,
    "start_time": "2023-05-09T13:01:56.169Z"
   },
   {
    "duration": 10,
    "start_time": "2023-05-09T13:02:26.078Z"
   },
   {
    "duration": 11,
    "start_time": "2023-05-09T13:02:42.738Z"
   },
   {
    "duration": 7,
    "start_time": "2023-05-09T13:02:49.546Z"
   },
   {
    "duration": 300,
    "start_time": "2023-05-09T13:09:10.064Z"
   },
   {
    "duration": 8,
    "start_time": "2023-05-09T13:09:22.354Z"
   },
   {
    "duration": 333,
    "start_time": "2023-05-09T13:09:31.014Z"
   },
   {
    "duration": 9,
    "start_time": "2023-05-09T13:10:11.080Z"
   },
   {
    "duration": 4,
    "start_time": "2023-05-09T13:11:07.293Z"
   },
   {
    "duration": 26,
    "start_time": "2023-05-09T13:11:12.282Z"
   },
   {
    "duration": 511992,
    "start_time": "2023-05-09T13:16:37.385Z"
   },
   {
    "duration": 5,
    "start_time": "2023-05-09T13:26:38.564Z"
   },
   {
    "duration": 12,
    "start_time": "2023-05-09T13:29:23.847Z"
   },
   {
    "duration": 17,
    "start_time": "2023-05-09T13:31:40.524Z"
   },
   {
    "duration": 55,
    "start_time": "2023-05-10T16:51:53.857Z"
   },
   {
    "duration": 1792,
    "start_time": "2023-05-10T16:52:22.102Z"
   },
   {
    "duration": 2861,
    "start_time": "2023-05-10T16:52:26.211Z"
   },
   {
    "duration": 30,
    "start_time": "2023-05-10T16:52:46.718Z"
   },
   {
    "duration": 14,
    "start_time": "2023-05-10T16:52:54.468Z"
   },
   {
    "duration": 20,
    "start_time": "2023-05-10T16:53:18.490Z"
   },
   {
    "duration": 4,
    "start_time": "2023-05-10T16:53:24.067Z"
   },
   {
    "duration": 4,
    "start_time": "2023-05-10T16:53:26.113Z"
   },
   {
    "duration": 3,
    "start_time": "2023-05-10T16:53:28.900Z"
   },
   {
    "duration": 146,
    "start_time": "2023-05-10T16:53:32.250Z"
   },
   {
    "duration": 28,
    "start_time": "2023-05-10T16:55:38.762Z"
   },
   {
    "duration": 857,
    "start_time": "2023-05-10T16:57:29.212Z"
   },
   {
    "duration": 4,
    "start_time": "2023-05-10T16:58:13.108Z"
   },
   {
    "duration": 37,
    "start_time": "2023-05-10T16:58:16.905Z"
   },
   {
    "duration": 1293109,
    "start_time": "2023-05-10T16:59:32.649Z"
   },
   {
    "duration": 62,
    "start_time": "2023-05-10T17:26:03.466Z"
   },
   {
    "duration": 64,
    "start_time": "2023-05-10T17:26:28.028Z"
   },
   {
    "duration": 46,
    "start_time": "2023-05-10T17:27:08.051Z"
   },
   {
    "duration": 8,
    "start_time": "2023-05-10T17:27:24.355Z"
   },
   {
    "duration": 47,
    "start_time": "2023-05-10T17:27:31.858Z"
   },
   {
    "duration": 8122,
    "start_time": "2023-05-10T17:27:36.766Z"
   },
   {
    "duration": 3,
    "start_time": "2023-05-10T17:27:54.054Z"
   },
   {
    "duration": 771665,
    "start_time": "2023-05-10T17:27:58.036Z"
   },
   {
    "duration": 10,
    "start_time": "2023-05-10T17:41:00.716Z"
   },
   {
    "duration": 18,
    "start_time": "2023-05-10T17:41:46.646Z"
   }
  ],
  "kernelspec": {
   "display_name": "Python 3 (ipykernel)",
   "language": "python",
   "name": "python3"
  },
  "language_info": {
   "codemirror_mode": {
    "name": "ipython",
    "version": 3
   },
   "file_extension": ".py",
   "mimetype": "text/x-python",
   "name": "python",
   "nbconvert_exporter": "python",
   "pygments_lexer": "ipython3",
   "version": "3.9.13"
  },
  "toc": {
   "base_numbering": 1,
   "nav_menu": {},
   "number_sections": true,
   "sideBar": true,
   "skip_h1_title": true,
   "title_cell": "Содержание",
   "title_sidebar": "Contents",
   "toc_cell": true,
   "toc_position": {
    "height": "calc(100% - 180px)",
    "left": "10px",
    "top": "150px",
    "width": "302.383px"
   },
   "toc_section_display": true,
   "toc_window_display": true
  }
 },
 "nbformat": 4,
 "nbformat_minor": 2
}
