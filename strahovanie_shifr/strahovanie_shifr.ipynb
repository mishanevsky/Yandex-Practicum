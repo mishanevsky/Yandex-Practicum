{
 "cells": [
  {
   "cell_type": "markdown",
   "metadata": {
    "toc": true
   },
   "source": [
    "<h1>Содержание<span class=\"tocSkip\"></span></h1>\n",
    "<div class=\"toc\"><ul class=\"toc-item\"><li><span><a href=\"#Загрузка-данных\" data-toc-modified-id=\"Загрузка-данных-1\"><span class=\"toc-item-num\">1&nbsp;&nbsp;</span>Загрузка данных</a></span></li><li><span><a href=\"#Умножение-матриц\" data-toc-modified-id=\"Умножение-матриц-2\"><span class=\"toc-item-num\">2&nbsp;&nbsp;</span>Умножение матриц</a></span></li><li><span><a href=\"#Алгоритм-преобразования\" data-toc-modified-id=\"Алгоритм-преобразования-3\"><span class=\"toc-item-num\">3&nbsp;&nbsp;</span>Алгоритм преобразования</a></span></li><li><span><a href=\"#Проверка-алгоритма\" data-toc-modified-id=\"Проверка-алгоритма-4\"><span class=\"toc-item-num\">4&nbsp;&nbsp;</span>Проверка алгоритма</a></span></li><li><span><a href=\"#Общий-вывод\" data-toc-modified-id=\"Общий-вывод-5\"><span class=\"toc-item-num\">5&nbsp;&nbsp;</span>Общий вывод</a></span></li><li><span><a href=\"#Чек-лист-проверки\" data-toc-modified-id=\"Чек-лист-проверки-6\"><span class=\"toc-item-num\">6&nbsp;&nbsp;</span>Чек-лист проверки</a></span></li></ul></div>"
   ]
  },
  {
   "cell_type": "markdown",
   "metadata": {},
   "source": [
    "# Защита персональных данных клиентов"
   ]
  },
  {
   "cell_type": "markdown",
   "metadata": {},
   "source": [
    "Необходимо защитить данные клиентов страховой компании «Хоть потоп». Нужно разработать такой метод преобразования данных, чтобы по ним было сложно восстановить персональную информацию. Обосновать корректность его работы.\n",
    "\n",
    "Нужно защитить данные, чтобы при преобразовании качество моделей машинного обучения не ухудшилось. Подбирать наилучшую модель не требуется."
   ]
  },
  {
   "cell_type": "markdown",
   "metadata": {},
   "source": [
    "## Загрузка данных"
   ]
  },
  {
   "cell_type": "code",
   "execution_count": 2,
   "metadata": {},
   "outputs": [],
   "source": [
    "#подключение необходимых библиотек\n",
    "import pandas as pd\n",
    "import numpy as np\n",
    "from sklearn.model_selection import train_test_split\n",
    "from sklearn.linear_model import LinearRegression\n",
    "from sklearn.metrics import r2_score"
   ]
  },
  {
   "cell_type": "code",
   "execution_count": 3,
   "metadata": {},
   "outputs": [],
   "source": [
    "#подключение данных \n",
    "data = pd.read_csv('/datasets/insurance.csv')"
   ]
  },
  {
   "cell_type": "code",
   "execution_count": 4,
   "metadata": {},
   "outputs": [
    {
     "data": {
      "text/html": [
       "<div>\n",
       "<style scoped>\n",
       "    .dataframe tbody tr th:only-of-type {\n",
       "        vertical-align: middle;\n",
       "    }\n",
       "\n",
       "    .dataframe tbody tr th {\n",
       "        vertical-align: top;\n",
       "    }\n",
       "\n",
       "    .dataframe thead th {\n",
       "        text-align: right;\n",
       "    }\n",
       "</style>\n",
       "<table border=\"1\" class=\"dataframe\">\n",
       "  <thead>\n",
       "    <tr style=\"text-align: right;\">\n",
       "      <th></th>\n",
       "      <th>Пол</th>\n",
       "      <th>Возраст</th>\n",
       "      <th>Зарплата</th>\n",
       "      <th>Члены семьи</th>\n",
       "      <th>Страховые выплаты</th>\n",
       "    </tr>\n",
       "  </thead>\n",
       "  <tbody>\n",
       "    <tr>\n",
       "      <th>0</th>\n",
       "      <td>1</td>\n",
       "      <td>41.0</td>\n",
       "      <td>49600.0</td>\n",
       "      <td>1</td>\n",
       "      <td>0</td>\n",
       "    </tr>\n",
       "    <tr>\n",
       "      <th>1</th>\n",
       "      <td>0</td>\n",
       "      <td>46.0</td>\n",
       "      <td>38000.0</td>\n",
       "      <td>1</td>\n",
       "      <td>1</td>\n",
       "    </tr>\n",
       "    <tr>\n",
       "      <th>2</th>\n",
       "      <td>0</td>\n",
       "      <td>29.0</td>\n",
       "      <td>21000.0</td>\n",
       "      <td>0</td>\n",
       "      <td>0</td>\n",
       "    </tr>\n",
       "    <tr>\n",
       "      <th>3</th>\n",
       "      <td>0</td>\n",
       "      <td>21.0</td>\n",
       "      <td>41700.0</td>\n",
       "      <td>2</td>\n",
       "      <td>0</td>\n",
       "    </tr>\n",
       "    <tr>\n",
       "      <th>4</th>\n",
       "      <td>1</td>\n",
       "      <td>28.0</td>\n",
       "      <td>26100.0</td>\n",
       "      <td>0</td>\n",
       "      <td>0</td>\n",
       "    </tr>\n",
       "  </tbody>\n",
       "</table>\n",
       "</div>"
      ],
      "text/plain": [
       "   Пол  Возраст  Зарплата  Члены семьи  Страховые выплаты\n",
       "0    1     41.0   49600.0            1                  0\n",
       "1    0     46.0   38000.0            1                  1\n",
       "2    0     29.0   21000.0            0                  0\n",
       "3    0     21.0   41700.0            2                  0\n",
       "4    1     28.0   26100.0            0                  0"
      ]
     },
     "execution_count": 4,
     "metadata": {},
     "output_type": "execute_result"
    }
   ],
   "source": [
    "#просмотр содержимого датасета\n",
    "data.head()"
   ]
  },
  {
   "cell_type": "code",
   "execution_count": 5,
   "metadata": {},
   "outputs": [
    {
     "name": "stdout",
     "output_type": "stream",
     "text": [
      "<class 'pandas.core.frame.DataFrame'>\n",
      "RangeIndex: 5000 entries, 0 to 4999\n",
      "Data columns (total 5 columns):\n",
      " #   Column             Non-Null Count  Dtype  \n",
      "---  ------             --------------  -----  \n",
      " 0   Пол                5000 non-null   int64  \n",
      " 1   Возраст            5000 non-null   float64\n",
      " 2   Зарплата           5000 non-null   float64\n",
      " 3   Члены семьи        5000 non-null   int64  \n",
      " 4   Страховые выплаты  5000 non-null   int64  \n",
      "dtypes: float64(2), int64(3)\n",
      "memory usage: 195.4 KB\n"
     ]
    }
   ],
   "source": [
    "#просмотр информации о датасете\n",
    "data.info()"
   ]
  },
  {
   "cell_type": "code",
   "execution_count": 6,
   "metadata": {},
   "outputs": [
    {
     "data": {
      "text/plain": [
       "Пол                  0\n",
       "Возраст              0\n",
       "Зарплата             0\n",
       "Члены семьи          0\n",
       "Страховые выплаты    0\n",
       "dtype: int64"
      ]
     },
     "execution_count": 6,
     "metadata": {},
     "output_type": "execute_result"
    }
   ],
   "source": [
    "#выявление пустых значений\n",
    "data.isna().sum()"
   ]
  },
  {
   "cell_type": "markdown",
   "metadata": {},
   "source": [
    "Пропуски и пустые значения отсутствуют. Единственное необходимо привести столбцы \"Возраст\" и \"Зарплата\" к типу int вместо float."
   ]
  },
  {
   "cell_type": "code",
   "execution_count": 7,
   "metadata": {},
   "outputs": [],
   "source": [
    "#приводим к типу int\n",
    "data['Возраст'] = data['Возраст'].astype('int')\n",
    "data['Зарплата'] = data['Зарплата'].astype('int')"
   ]
  },
  {
   "cell_type": "code",
   "execution_count": 8,
   "metadata": {},
   "outputs": [
    {
     "data": {
      "text/plain": [
       "153"
      ]
     },
     "execution_count": 8,
     "metadata": {},
     "output_type": "execute_result"
    }
   ],
   "source": [
    "#проверка на дубликаты\n",
    "data.duplicated().sum()"
   ]
  },
  {
   "cell_type": "markdown",
   "metadata": {},
   "source": [
    "Выводы:\n",
    "* Страховые выплаты - целевой признак.\n",
    "* в данных есть явные дубликаты, но в данной работе они не помеха\n",
    "* все типы данных приведены к int\n",
    "* пропусков в данных нет"
   ]
  },
  {
   "cell_type": "markdown",
   "metadata": {},
   "source": [
    "## Умножение матриц"
   ]
  },
  {
   "cell_type": "markdown",
   "metadata": {},
   "source": [
    "В этом задании вы можете записывать формулы в *Jupyter Notebook.*\n",
    "\n",
    "Чтобы записать формулу внутри текста, окружите её символами доллара \\\\$; если снаружи —  двойными символами \\\\$\\\\$. Эти формулы записываются на языке вёрстки *LaTeX.* \n",
    "\n",
    "Для примера мы записали формулы линейной регрессии. Можете их скопировать и отредактировать, чтобы решить задачу.\n",
    "\n",
    "Работать в *LaTeX* необязательно."
   ]
  },
  {
   "cell_type": "markdown",
   "metadata": {},
   "source": [
    "Обозначения:\n",
    "\n",
    "- $X$ — матрица признаков (нулевой столбец состоит из единиц)\n",
    "\n",
    "- $y$ — вектор целевого признака\n",
    "\n",
    "- $P$ — матрица, на которую умножаются признаки\n",
    "\n",
    "- $w$ — вектор весов линейной регрессии (нулевой элемент равен сдвигу)"
   ]
  },
  {
   "cell_type": "markdown",
   "metadata": {},
   "source": [
    "Предсказания:\n",
    "\n",
    "$$\n",
    "a = Xw\n",
    "$$\n",
    "\n",
    "Задача обучения:\n",
    "\n",
    "$$\n",
    "w = \\arg\\min_w MSE(Xw, y)\n",
    "$$\n",
    "\n",
    "Формула обучения:\n",
    "\n",
    "$$\n",
    "w = (X^T X)^{-1} X^T y\n",
    "$$"
   ]
  },
  {
   "cell_type": "markdown",
   "metadata": {},
   "source": [
    "**Ответ:** качество не изменится.\n",
    "\n",
    "**Обоснование:**\n",
    "\n",
    "Предсказание для новой модели будут:\n",
    "\n",
    "$$\n",
    "an = XPw\n",
    "$$\n",
    "\n",
    "Тогда вектор весов равен:\n",
    "\n",
    "$$\n",
    "w = ((XP)^T(XP))^{-1}(XP)^Ty\n",
    "$$\n",
    "\n",
    "Подставим полуичвшийся вектор в формулу предсказания модели:\n",
    "\n",
    "$$\n",
    "an = XP((XP)^T(XP))^{-1}(XP)^Ty = XP(X^TP^TXP)^{-1}X^TP^Ty\n",
    "$$\n",
    "\n",
    "Если вынести P за скобки, то получится:\n",
    "\n",
    "$$\n",
    "an = XPP^{-1}(X^TX)^{-1}(P^T)^{-1}P^TX^Ty\n",
    "$$\n",
    "\n",
    "$$PP^{-1} = E$$ и $$P^T(P^T)^{-1} = E$$ из чего следует: $$an=X(X^TX)^{-1}X^Ty$$\n",
    "\n",
    "Так как $$w = (X^T X)^{-1} X^T y$$ то $$an=Xw=a$$"
   ]
  },
  {
   "cell_type": "markdown",
   "metadata": {},
   "source": [
    "## Алгоритм преобразования"
   ]
  },
  {
   "cell_type": "markdown",
   "metadata": {},
   "source": [
    "**Алгоритм**:\n",
    "\n",
    "* Разделим данные на выборки\n",
    "* Обучим модели и вычислим метрику R2\n",
    "* Произведем умножение признаков на обратимую матрицу\n",
    "* Обучим снова модель и вычислим метрику R2 на новых данных\n",
    "* Сравним метрики до и после изменений"
   ]
  },
  {
   "cell_type": "markdown",
   "metadata": {},
   "source": [
    "**Обоснование**\n",
    "\n",
    "Качество регрессии не изменится так как метрики так же останутся равными."
   ]
  },
  {
   "cell_type": "markdown",
   "metadata": {},
   "source": [
    "## Проверка алгоритма"
   ]
  },
  {
   "cell_type": "markdown",
   "metadata": {},
   "source": [
    "* Разделение на выборки"
   ]
  },
  {
   "cell_type": "code",
   "execution_count": 9,
   "metadata": {},
   "outputs": [],
   "source": [
    "#создание признаков\n",
    "features = data.drop('Страховые выплаты',axis=1)\n",
    "target = data['Страховые выплаты']"
   ]
  },
  {
   "cell_type": "code",
   "execution_count": 10,
   "metadata": {},
   "outputs": [],
   "source": [
    "#создание тестового и обучающего набора данных\n",
    "features_train, features_test, target_train, target_test = train_test_split(features, target,\\\n",
    "                                                            test_size=0.25, random_state=1515)"
   ]
  },
  {
   "cell_type": "markdown",
   "metadata": {},
   "source": [
    "* Обучение модели и вычисление метрики"
   ]
  },
  {
   "cell_type": "code",
   "execution_count": 11,
   "metadata": {},
   "outputs": [
    {
     "name": "stdout",
     "output_type": "stream",
     "text": [
      "Метрика R2 для начального набора данных равна:  0.45432015712600604\n"
     ]
    }
   ],
   "source": [
    "#обучение модели и вычисление метрики\n",
    "model = LinearRegression()\n",
    "model.fit(features_train, target_train)\n",
    "R2_origin = r2_score(target_test, model.predict(features_test))\n",
    "print(\"Метрика R2 для начального набора данных равна: \", R2_origin)"
   ]
  },
  {
   "cell_type": "markdown",
   "metadata": {},
   "source": [
    "Метрика R2 для начального набора данных равна:  0.45432015712600604. Теперь создадим новый набор данных."
   ]
  },
  {
   "cell_type": "markdown",
   "metadata": {},
   "source": [
    "* Создание матрицы, проверка на обратимость и умножение ее на признаки"
   ]
  },
  {
   "cell_type": "code",
   "execution_count": 13,
   "metadata": {},
   "outputs": [
    {
     "data": {
      "text/plain": [
       "array([[-1.10049383, -0.82556734, -1.30691215, -0.91633749],\n",
       "       [ 0.07330844, -0.18231186, -0.01242647, -0.47760811],\n",
       "       [ 0.25660143,  1.56019052, -0.87029614,  0.59298037],\n",
       "       [-0.83278311, -0.04305686,  0.21062384, -0.85789663]])"
      ]
     },
     "execution_count": 13,
     "metadata": {},
     "output_type": "execute_result"
    }
   ],
   "source": [
    "#создание матрицы\n",
    "matrix = np.random.normal(size=(features_train.shape[1], features_train.shape[1]))\n",
    "matrix"
   ]
  },
  {
   "cell_type": "code",
   "execution_count": 14,
   "metadata": {},
   "outputs": [
    {
     "data": {
      "text/plain": [
       "array([[-0.19785325,  1.83776897,  0.08935578, -0.75002834],\n",
       "       [-0.27192866,  0.21211396,  0.53684077,  0.54343041],\n",
       "       [-0.4871566 , -0.36105405, -0.28550549,  0.52400607],\n",
       "       [ 0.08610646, -1.88326011, -0.18377846, -0.33619354]])"
      ]
     },
     "execution_count": 14,
     "metadata": {},
     "output_type": "execute_result"
    }
   ],
   "source": [
    "#проверка на обратимость\n",
    "matrix_inverse = np.linalg.inv(matrix)\n",
    "matrix_inverse"
   ]
  },
  {
   "cell_type": "code",
   "execution_count": 16,
   "metadata": {},
   "outputs": [],
   "source": [
    "#умножение обратимой матрицы на признаки и создание тестовой и обчающей выборок\n",
    "features_train_matrix = features_train.values @ matrix\n",
    "features_test_matrix = features_test.values @ matrix"
   ]
  },
  {
   "cell_type": "markdown",
   "metadata": {},
   "source": [
    "* Обучение модели и вычисление метрики R2"
   ]
  },
  {
   "cell_type": "code",
   "execution_count": 18,
   "metadata": {},
   "outputs": [
    {
     "name": "stdout",
     "output_type": "stream",
     "text": [
      "Метрика R2 для матричного набора данных равна:  0.45432015712600604\n"
     ]
    }
   ],
   "source": [
    "#обучение модели и вычисление метрики\n",
    "model_matrix= LinearRegression()\n",
    "model_matrix.fit(features_train_matrix, target_train)\n",
    "R2_matrix = r2_score(target_test, model_matrix.predict(features_test_matrix))\n",
    "print(\"Метрика R2 для матричного набора данных равна: \", R2_origin)"
   ]
  },
  {
   "cell_type": "markdown",
   "metadata": {},
   "source": [
    "Метрика R2 для матричного набора данных равна:  0.45432015712600604."
   ]
  },
  {
   "cell_type": "markdown",
   "metadata": {},
   "source": [
    "**Вывод:**\n",
    "\n",
    "* Метрика R2 для начального набора данных равна: 0.45432015712600604\n",
    "* Метрика R2 для матричного набора данных равна: 0.45432015712600604\n",
    "\n",
    "**Метрики равны. Качество модели не меняется.**"
   ]
  },
  {
   "cell_type": "markdown",
   "metadata": {},
   "source": [
    "## Общий вывод"
   ]
  },
  {
   "cell_type": "markdown",
   "metadata": {},
   "source": [
    "* Датасет был загружен и проанализирован\n",
    "* Предварительно была проведено теоритическое исследование: изменится ли качество модели, если ее признаки умножить на обратимую матрицу.\n",
    "* После теория было проверена на практике с помощью разработанного алгоритма действий\n",
    "* Было доказано что **качество линейной регрессии не изменится, если ее признаки умножить на обратимую матрицу**. Качетсво модели проверялось по метрике R2, которая осталась прежней после умножения."
   ]
  }
 ],
 "metadata": {
  "ExecuteTimeLog": [
   {
    "duration": 1318,
    "start_time": "2023-04-03T16:54:30.626Z"
   },
   {
    "duration": 128,
    "start_time": "2023-04-03T16:55:50.522Z"
   },
   {
    "duration": 20,
    "start_time": "2023-04-03T16:55:52.947Z"
   },
   {
    "duration": 15,
    "start_time": "2023-04-03T16:56:18.234Z"
   },
   {
    "duration": 11,
    "start_time": "2023-04-03T16:56:41.614Z"
   },
   {
    "duration": 7,
    "start_time": "2023-04-03T17:00:20.741Z"
   },
   {
    "duration": 5,
    "start_time": "2023-04-03T17:01:58.597Z"
   },
   {
    "duration": 7,
    "start_time": "2023-04-03T17:02:43.316Z"
   },
   {
    "duration": 48,
    "start_time": "2023-04-06T11:39:59.179Z"
   },
   {
    "duration": 1540,
    "start_time": "2023-04-06T11:40:04.541Z"
   },
   {
    "duration": 82,
    "start_time": "2023-04-06T11:40:06.083Z"
   },
   {
    "duration": 15,
    "start_time": "2023-04-06T11:40:06.167Z"
   },
   {
    "duration": 35,
    "start_time": "2023-04-06T11:40:06.184Z"
   },
   {
    "duration": 25,
    "start_time": "2023-04-06T11:40:06.220Z"
   },
   {
    "duration": 36,
    "start_time": "2023-04-06T11:40:06.247Z"
   },
   {
    "duration": 12,
    "start_time": "2023-04-06T11:40:06.285Z"
   },
   {
    "duration": 4,
    "start_time": "2023-04-06T11:40:08.875Z"
   },
   {
    "duration": 5,
    "start_time": "2023-04-06T11:41:07.870Z"
   },
   {
    "duration": 9,
    "start_time": "2023-04-06T11:43:43.896Z"
   },
   {
    "duration": 63,
    "start_time": "2023-04-06T11:50:08.133Z"
   },
   {
    "duration": 4,
    "start_time": "2023-04-06T11:59:03.868Z"
   },
   {
    "duration": 6,
    "start_time": "2023-04-06T11:59:32.651Z"
   },
   {
    "duration": 3,
    "start_time": "2023-04-06T12:01:34.604Z"
   },
   {
    "duration": 3,
    "start_time": "2023-04-06T12:13:15.144Z"
   },
   {
    "duration": 6,
    "start_time": "2023-04-06T12:17:14.079Z"
   },
   {
    "duration": 5,
    "start_time": "2023-04-06T12:18:48.409Z"
   }
  ],
  "kernelspec": {
   "display_name": "Python 3 (ipykernel)",
   "language": "python",
   "name": "python3"
  },
  "language_info": {
   "codemirror_mode": {
    "name": "ipython",
    "version": 3
   },
   "file_extension": ".py",
   "mimetype": "text/x-python",
   "name": "python",
   "nbconvert_exporter": "python",
   "pygments_lexer": "ipython3",
   "version": "3.9.13"
  },
  "toc": {
   "base_numbering": 1,
   "nav_menu": {},
   "number_sections": true,
   "sideBar": true,
   "skip_h1_title": true,
   "title_cell": "Содержание",
   "title_sidebar": "Contents",
   "toc_cell": true,
   "toc_position": {
    "height": "calc(100% - 180px)",
    "left": "10px",
    "top": "150px",
    "width": "255.4px"
   },
   "toc_section_display": true,
   "toc_window_display": true
  }
 },
 "nbformat": 4,
 "nbformat_minor": 2
}
